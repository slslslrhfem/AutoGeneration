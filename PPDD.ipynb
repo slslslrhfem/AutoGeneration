{
  "nbformat": 4,
  "nbformat_minor": 0,
  "metadata": {
    "colab": {
      "name": "PPDD.ipynb",
      "provenance": [],
      "collapsed_sections": [],
      "machine_shape": "hm",
      "mount_file_id": "1vCXwudXUZpUmzLdlfBoJ0LU7XlCbKpgG",
      "authorship_tag": "ABX9TyMH5d9+3lmGWr+ij20T5HGY",
      "include_colab_link": true
    },
    "kernelspec": {
      "name": "python3",
      "display_name": "Python 3"
    },
    "accelerator": "GPU"
  },
  "cells": [
    {
      "cell_type": "markdown",
      "metadata": {
        "id": "view-in-github",
        "colab_type": "text"
      },
      "source": [
        "<a href=\"https://colab.research.google.com/github/slslslrhfem/AutoGeneration/blob/master/PPDD.ipynb\" target=\"_parent\"><img src=\"https://colab.research.google.com/assets/colab-badge.svg\" alt=\"Open In Colab\"/></a>"
      ]
    },
    {
      "cell_type": "code",
      "metadata": {
        "id": "upkZgrqruxem",
        "colab_type": "code",
        "colab": {
          "base_uri": "https://localhost:8080/",
          "height": 34
        },
        "outputId": "2270fdf8-5d1c-434f-be23-b9b0ad10a070"
      },
      "source": [
        "import keras\n",
        "import os\n",
        "import json\n",
        "import pandas\n",
        "import tensorflow as tf\n",
        "import numpy as np\n",
        "from keras.layers import Dense\n",
        "from keras import layers\n",
        "from keras import optimizers\n",
        "from keras.models import Sequential"
      ],
      "execution_count": 1,
      "outputs": [
        {
          "output_type": "stream",
          "text": [
            "Using TensorFlow backend.\n"
          ],
          "name": "stderr"
        }
      ]
    },
    {
      "cell_type": "code",
      "metadata": {
        "id": "JdprhNM2Y2qy",
        "colab_type": "code",
        "colab": {}
      },
      "source": [
        "csvfilenames=os.listdir('/content/drive/My Drive/MARG/PPDD-Sep2018_sym_mono_large/PPDD-Sep2018_sym_mono_large/prime_csv')\n",
        "jsonfilenames=os.listdir('/content/drive/My Drive/MARG/PPDD-Sep2018_sym_mono_large/PPDD-Sep2018_sym_mono_large/descriptor')\n",
        "midifilenames=os.listdir('/content/drive/My Drive/MARG/PPDD-Sep2018_sym_mono_large/PPDD-Sep2018_sym_mono_large/prime_midi')"
      ],
      "execution_count": null,
      "outputs": []
    },
    {
      "cell_type": "code",
      "metadata": {
        "id": "0lpgz0bAYHsj",
        "colab_type": "code",
        "colab": {
          "base_uri": "https://localhost:8080/",
          "height": 70
        },
        "outputId": "7d404cb1-058d-488d-aefd-e45565b792cc"
      },
      "source": [
        "import pickle\n",
        "\n",
        "\"\"\"\n",
        "with open('/content/drive/My Drive/MARG/PPDDlist/csvnamelist.txt', 'wb') as f:\n",
        "  pickle.dump(csvfilenames, f)\n",
        "with open('/content/drive/My Drive/MARG/PPDDlist/jsonnamelist.txt', 'wb') as f:\n",
        "  pickle.dump(jsonfilenames, f)\n",
        "with open('/content/drive/My Drive/MARG/PPDDlist/midinamelist.txt', 'wb') as f:\n",
        "  pickle.dump(midifilenames, f)\n",
        "\"\"\""
      ],
      "execution_count": 2,
      "outputs": [
        {
          "output_type": "execute_result",
          "data": {
            "application/vnd.google.colaboratory.intrinsic+json": {
              "type": "string"
            },
            "text/plain": [
              "\"\\nwith open('/content/drive/My Drive/MARG/PPDDlist/csvnamelist.txt', 'wb') as f:\\n  pickle.dump(csvfilenames, f)\\nwith open('/content/drive/My Drive/MARG/PPDDlist/jsonnamelist.txt', 'wb') as f:\\n  pickle.dump(jsonfilenames, f)\\nwith open('/content/drive/My Drive/MARG/PPDDlist/midinamelist.txt', 'wb') as f:\\n  pickle.dump(midifilenames, f)\\n\""
            ]
          },
          "metadata": {
            "tags": []
          },
          "execution_count": 2
        }
      ]
    },
    {
      "cell_type": "code",
      "metadata": {
        "id": "Nt3ElGb47kOE",
        "colab_type": "code",
        "colab": {}
      },
      "source": [
        "midifilenames=sorted(midifilenames)\n",
        "csvfilenames=sorted(csvfilenames)\n",
        "jsonfilenames=sorted(jsonfilenames)"
      ],
      "execution_count": null,
      "outputs": []
    },
    {
      "cell_type": "code",
      "metadata": {
        "id": "KOjmQZTO0TtC",
        "colab_type": "code",
        "colab": {}
      },
      "source": [
        "def get_meta(filename):\n",
        "  with open('/content/drive/My Drive/MARG/PPDD-Sep2018_sym_mono_large/PPDD-Sep2018_sym_mono_large/descriptor/'+filename) as json_file:\n",
        "    meta_data = json.load(json_file)\n",
        "  return meta_data"
      ],
      "execution_count": 3,
      "outputs": []
    },
    {
      "cell_type": "code",
      "metadata": {
        "id": "MxEabHuzyjFE",
        "colab_type": "code",
        "colab": {
          "base_uri": "https://localhost:8080/",
          "height": 34
        },
        "outputId": "a6a06be2-2d62-4364-b773-f148ae1eadfd"
      },
      "source": [
        "pip install mido"
      ],
      "execution_count": 4,
      "outputs": [
        {
          "output_type": "stream",
          "text": [
            "Requirement already satisfied: mido in /usr/local/lib/python3.6/dist-packages (1.2.9)\n"
          ],
          "name": "stdout"
        }
      ]
    },
    {
      "cell_type": "code",
      "metadata": {
        "id": "bJ3x-FF_4XGK",
        "colab_type": "code",
        "colab": {
          "base_uri": "https://localhost:8080/",
          "height": 86
        },
        "outputId": "0560dd37-a3dd-481f-c860-e9e3c2d57e7a"
      },
      "source": [
        "pip install pretty_midi"
      ],
      "execution_count": 5,
      "outputs": [
        {
          "output_type": "stream",
          "text": [
            "Requirement already satisfied: pretty_midi in /usr/local/lib/python3.6/dist-packages (0.2.9)\n",
            "Requirement already satisfied: numpy>=1.7.0 in /usr/local/lib/python3.6/dist-packages (from pretty_midi) (1.18.5)\n",
            "Requirement already satisfied: mido>=1.1.16 in /usr/local/lib/python3.6/dist-packages (from pretty_midi) (1.2.9)\n",
            "Requirement already satisfied: six in /usr/local/lib/python3.6/dist-packages (from pretty_midi) (1.15.0)\n"
          ],
          "name": "stdout"
        }
      ]
    },
    {
      "cell_type": "code",
      "metadata": {
        "id": "QoAxt13seNi-",
        "colab_type": "code",
        "colab": {}
      },
      "source": [
        "import pretty_midi\n",
        "import mido\n",
        "from tqdm import tqdm\n",
        "import pickle\n",
        "with open('/content/drive/My Drive/MARG/PPDDlist/midilist.txt', 'rb') as f:\n",
        "  midilist=pickle.load(f)\n",
        "with open('/content/drive/My Drive/MARG/PPDDlist/csvlist.txt', 'rb') as f2:\n",
        "  csvlist=pickle.load(f2)\n",
        "with open('/content/drive/My Drive/MARG/PPDDlist/jsonlist.txt', 'rb') as f3:\n",
        "  jsonlist=pickle.load(f3)\n",
        "with open('/content/drive/My Drive/MARG/PPDDlist/prettymidilist.txt', 'rb') as f4:\n",
        "  prettymidilist=pickle.load(f4)"
      ],
      "execution_count": 6,
      "outputs": []
    },
    {
      "cell_type": "code",
      "metadata": {
        "id": "Yc57uuAq2gx9",
        "colab_type": "code",
        "colab": {}
      },
      "source": [
        "import pretty_midi\n",
        "import mido\n",
        "from tqdm import tqdm\n",
        "midilist=[]\n",
        "csvlist=[]\n",
        "jsonlist=[]\n",
        "prettymidilist=[]\n",
        "for filenames in tqdm(midifilenames,position=0):\n",
        "  midi_path='/content/drive/My Drive/MARG/PPDD-Sep2018_sym_mono_large/PPDD-Sep2018_sym_mono_large/prime_midi/'+filenames\n",
        "  mid = mido.MidiFile(midi_path, clip=True)\n",
        "  midilist.append(mid)\n",
        "  prettymid=pretty_midi.PrettyMIDI(midi_path)\n",
        "  prettymidilist.append(prettymid)\n",
        "\n",
        "for filenames in tqdm(csvfilenames,position=0):\n",
        "  csv_path='/content/drive/My Drive/MARG/PPDD-Sep2018_sym_mono_large/PPDD-Sep2018_sym_mono_large/prime_csv/'+filenames\n",
        "  csv = pandas.read_csv(csv_path)\n",
        "  csvlist.append(csv)\n",
        "for filenames in tqdm(jsonfilenames,position=0):\n",
        "  jsonlist.append(get_meta(filenames))\n",
        "\n",
        "#midifilenames와 list들의 순서는 같다고 생각하고 코드 작성"
      ],
      "execution_count": null,
      "outputs": []
    },
    {
      "cell_type": "code",
      "metadata": {
        "id": "czIsThWnDhqF",
        "colab_type": "code",
        "colab": {}
      },
      "source": [
        "\"\"\"\n",
        "import pickle\n",
        "with open('/content/drive/My Drive/MARG/PPDDlist/midilist.txt', 'wb') as f:\n",
        "  pickle.dump(midilist, f)\n",
        "with open('/content/drive/My Drive/MARG/PPDDlist/csvlist.txt', 'wb') as f:\n",
        "  pickle.dump(csvlist, f)\n",
        "with open('/content/drive/My Drive/MARG/PPDDlist/jsonlist.txt', 'wb') as f:\n",
        "  pickle.dump(jsonlist, f)\n",
        "with open('/content/drive/My Drive/MARG/PPDDlist/prettymidilist.txt', 'wb') as f:\n",
        "  pickle.dump(prettymidilist, f)\n",
        "\"\"\""
      ],
      "execution_count": null,
      "outputs": []
    },
    {
      "cell_type": "markdown",
      "metadata": {
        "id": "rOttPVfF_yuk",
        "colab_type": "text"
      },
      "source": [
        "아래의 코드는 csv기반의 Processing을 진행한다. \n",
        "MIDI 기반의 Processing은 다음 블록에 작성되어 있으며, 둘 중 하나만 굴리면 된다."
      ]
    },
    {
      "cell_type": "code",
      "metadata": {
        "id": "q_pieqXw_Yq0",
        "colab_type": "code",
        "colab": {
          "base_uri": "https://localhost:8080/",
          "height": 255
        },
        "outputId": "c8281b0b-e68b-4d90-87b0-be13101455e4"
      },
      "source": [
        "#현재 CSV dataset에 문제가 있어보인다..\n",
        "bar_list=[]\n",
        "one_bar_number_list=[]\n",
        "starting_number_list=[]\n",
        "import numpy as np\n",
        "for i,csvs in enumerate(tqdm(csvlist)):\n",
        "  a=np.array([list(map(float,csvs.columns))])#column에도 숫자가 들어가 있어서.. 경우에 따라 조절한다\n",
        "  b=np.array(csvs.values)\n",
        "  csvarray=np.concatenate((a,b),axis=0)\n",
        "  if('timeSignature' not in jsonlist[i]):\n",
        "    jsonlist[i]['timeSignature']=[4,4]\n",
        "  one_bar_number=jsonlist[i]['timeSignature'][0]\n",
        "  bar_number=(csvarray[-1][0]-csvarray[0][0])//one_bar_number+1\n",
        "  bar_info_list=[]\n",
        "  for i in range(int(bar_number)):\n",
        "    starting_bar_time=csvarray[0][0]+i*one_bar_number\n",
        "    bar_info_list.append(csvarray[np.where( (starting_bar_time<=csvarray[:,0]) & (csvarray[:,0]<starting_bar_time+one_bar_number) )])\n",
        "  bar_list.append(bar_info_list)\n",
        "  one_bar_number_list.append(one_bar_number)\n",
        "  starting_number_list.append(csvarray[0][0])"
      ],
      "execution_count": 7,
      "outputs": [
        {
          "output_type": "stream",
          "text": [
            "  3%|▎         | 324/10000 [00:00<00:05, 1656.83it/s]\n"
          ],
          "name": "stderr"
        },
        {
          "output_type": "error",
          "ename": "ValueError",
          "evalue": "ignored",
          "traceback": [
            "\u001b[0;31m---------------------------------------------------------------------------\u001b[0m",
            "\u001b[0;31mValueError\u001b[0m                                Traceback (most recent call last)",
            "\u001b[0;32m<ipython-input-7-0f9ef85968b1>\u001b[0m in \u001b[0;36m<module>\u001b[0;34m()\u001b[0m\n\u001b[1;32m      5\u001b[0m \u001b[0;32mimport\u001b[0m \u001b[0mnumpy\u001b[0m \u001b[0;32mas\u001b[0m \u001b[0mnp\u001b[0m\u001b[0;34m\u001b[0m\u001b[0;34m\u001b[0m\u001b[0m\n\u001b[1;32m      6\u001b[0m \u001b[0;32mfor\u001b[0m \u001b[0mi\u001b[0m\u001b[0;34m,\u001b[0m\u001b[0mcsvs\u001b[0m \u001b[0;32min\u001b[0m \u001b[0menumerate\u001b[0m\u001b[0;34m(\u001b[0m\u001b[0mtqdm\u001b[0m\u001b[0;34m(\u001b[0m\u001b[0mcsvlist\u001b[0m\u001b[0;34m)\u001b[0m\u001b[0;34m)\u001b[0m\u001b[0;34m:\u001b[0m\u001b[0;34m\u001b[0m\u001b[0;34m\u001b[0m\u001b[0m\n\u001b[0;32m----> 7\u001b[0;31m   \u001b[0ma\u001b[0m\u001b[0;34m=\u001b[0m\u001b[0mnp\u001b[0m\u001b[0;34m.\u001b[0m\u001b[0marray\u001b[0m\u001b[0;34m(\u001b[0m\u001b[0;34m[\u001b[0m\u001b[0mlist\u001b[0m\u001b[0;34m(\u001b[0m\u001b[0mmap\u001b[0m\u001b[0;34m(\u001b[0m\u001b[0mfloat\u001b[0m\u001b[0;34m,\u001b[0m\u001b[0mcsvs\u001b[0m\u001b[0;34m.\u001b[0m\u001b[0mcolumns\u001b[0m\u001b[0;34m)\u001b[0m\u001b[0;34m)\u001b[0m\u001b[0;34m]\u001b[0m\u001b[0;34m)\u001b[0m\u001b[0;31m#column에도 숫자가 들어가 있어서.. 경우에 따라 조절한다\u001b[0m\u001b[0;34m\u001b[0m\u001b[0;34m\u001b[0m\u001b[0m\n\u001b[0m\u001b[1;32m      8\u001b[0m   \u001b[0mb\u001b[0m\u001b[0;34m=\u001b[0m\u001b[0mnp\u001b[0m\u001b[0;34m.\u001b[0m\u001b[0marray\u001b[0m\u001b[0;34m(\u001b[0m\u001b[0mcsvs\u001b[0m\u001b[0;34m.\u001b[0m\u001b[0mvalues\u001b[0m\u001b[0;34m)\u001b[0m\u001b[0;34m\u001b[0m\u001b[0;34m\u001b[0m\u001b[0m\n\u001b[1;32m      9\u001b[0m   \u001b[0mcsvarray\u001b[0m\u001b[0;34m=\u001b[0m\u001b[0mnp\u001b[0m\u001b[0;34m.\u001b[0m\u001b[0mconcatenate\u001b[0m\u001b[0;34m(\u001b[0m\u001b[0;34m(\u001b[0m\u001b[0ma\u001b[0m\u001b[0;34m,\u001b[0m\u001b[0mb\u001b[0m\u001b[0;34m)\u001b[0m\u001b[0;34m,\u001b[0m\u001b[0maxis\u001b[0m\u001b[0;34m=\u001b[0m\u001b[0;36m0\u001b[0m\u001b[0;34m)\u001b[0m\u001b[0;34m\u001b[0m\u001b[0;34m\u001b[0m\u001b[0m\n",
            "\u001b[0;31mValueError\u001b[0m: could not convert string to float: '0.5.1'"
          ]
        }
      ]
    },
    {
      "cell_type": "code",
      "metadata": {
        "id": "LlHd9JxPXU6S",
        "colab_type": "code",
        "colab": {}
      },
      "source": [
        "pip install pretty_midi"
      ],
      "execution_count": null,
      "outputs": []
    },
    {
      "cell_type": "code",
      "metadata": {
        "id": "IeRQyawg_8tO",
        "colab_type": "code",
        "colab": {}
      },
      "source": [
        "#이게 이제 input을 midi로 받는 코드.\n",
        "import numpy as np\n",
        "import pretty_midi\n",
        "bar_list=[]\n",
        "one_bar_number_list=[]\n",
        "starting_number_list=[]\n",
        "for i,songs in enumerate(prettymidilist[:500]):#곡마다. Ram 관련 이슈로 500으로 줄인다.\n",
        "  for instrument in songs.instruments: #2. 어차피 instrument하나\n",
        "    csvarray=[]\n",
        "    for note in instrument.notes: #3\n",
        "      row=[note.start*2, note.pitch, note.pitch, (note.end - note.start)*2, 0] #*2를 해줘야 제대로 하나의 bar가 하나의 단위가 된다.\n",
        "      csvarray.append(row)\n",
        "  csvarray=np.array(csvarray)\n",
        "  if('timeSignature' not in jsonlist[i]):\n",
        "    jsonlist[i]['timeSignature']=[4,4]\n",
        "  one_bar_number=jsonlist[i]['timeSignature'][0]\n",
        "  bar_number=(csvarray[-1][0]-csvarray[0][0])//one_bar_number+1\n",
        "  bar_info_list=[]\n",
        "  for i in range(int(bar_number)):\n",
        "    starting_bar_time=csvarray[0][0]+i*one_bar_number\n",
        "    bar_info_list.append(csvarray[np.where( (starting_bar_time<=csvarray[:,0]) & (csvarray[:,0]<starting_bar_time+one_bar_number) )])\n",
        "  bar_list.append(bar_info_list)\n",
        "  one_bar_number_list.append(one_bar_number)\n",
        "  starting_number_list.append(csvarray[0][0])"
      ],
      "execution_count": 7,
      "outputs": []
    },
    {
      "cell_type": "code",
      "metadata": {
        "id": "7ubPcKmPBXQH",
        "colab_type": "code",
        "colab": {
          "base_uri": "https://localhost:8080/",
          "height": 70
        },
        "outputId": "e05d9108-d08d-47c3-9532-0ca7fb1457c6"
      },
      "source": [
        "\"\"\"\n",
        "for bars in bar_list:\n",
        "  #print(len(bars))결과 보면 다 다르다. 따라서 정해진 Shape가 없음\n",
        "  for matrix in bars:\n",
        "    for lists in matrix:\n",
        "      if (lists[1]<24):\n",
        "        print(lists[1])#Small Data기준 95가 최대, 25가 Minimum. Big Data로 바꾸면 추가적인 조절 가능할듯\n",
        "\"\"\""
      ],
      "execution_count": 8,
      "outputs": [
        {
          "output_type": "execute_result",
          "data": {
            "application/vnd.google.colaboratory.intrinsic+json": {
              "type": "string"
            },
            "text/plain": [
              "'\\nfor bars in bar_list:\\n  #print(len(bars))결과 보면 다 다르다. 따라서 정해진 Shape가 없음\\n  for matrix in bars:\\n    for lists in matrix:\\n      if (lists[1]<24):\\n        print(lists[1])#Small Data기준 95가 최대, 25가 Minimum. Big Data로 바꾸면 추가적인 조절 가능할듯\\n'"
            ]
          },
          "metadata": {
            "tags": []
          },
          "execution_count": 8
        }
      ]
    },
    {
      "cell_type": "code",
      "metadata": {
        "id": "ioRp4dJDCtUK",
        "colab_type": "code",
        "colab": {}
      },
      "source": [
        "#print(bar_list[0][0])#1번째 곡의 1번째 bar."
      ],
      "execution_count": 9,
      "outputs": []
    },
    {
      "cell_type": "code",
      "metadata": {
        "id": "Sn1PISthEwLl",
        "colab_type": "code",
        "colab": {}
      },
      "source": [
        "#print(bar_info_list)# bar info list가 bar마다 csv내용들 담겨져 있는거다."
      ],
      "execution_count": 10,
      "outputs": []
    },
    {
      "cell_type": "code",
      "metadata": {
        "id": "aK7G2wiA4fgg",
        "colab_type": "code",
        "colab": {}
      },
      "source": [
        "def nearest_time(time,minimum_size):\n",
        "  #혹시나 값이 조금 벗어나는 엇박 음을 가까운 최소단위로 Shifting한다.\n",
        "  #다만 엇박 관련 Skill Detecting을 따로 고려할시 코드를 수정할 수 있다.\n",
        "  num_to_multiply=time/minimum_size\n",
        "  num_to_multiply=int(num_to_multiply)\n",
        "  left_time=num_to_multiply*minimum_size\n",
        "  right_time=left_time+minimum_size\n",
        "  if (time-left_time>=right_time-time):\n",
        "    return right_time\n",
        "  return left_time\n",
        "def bar_to_matrix1(bar,one_bar_number,starting_number,i):\n",
        "  #그냥 점만 남긴다.\n",
        "  #8/6박이면 one_bar_number가 8이다. 그러면 바 1개당 무조건 12개 처리하는거로 한다.\n",
        "  #lists[0]은 시간, lists[1]은 Note 높이, lists[3]은 Duration. \n",
        "  init=np.zeros((112,96))#112는 Note의 수(감으로 써둠.. 나중에 전체 데이터로 할때 수정 가능성 있음 그런데 Shift를 잘 이용하면 96*96도 가능해보임.)\n",
        "  minimum_size=one_bar_number/96\n",
        "  zero_time=starting_number+one_bar_number*i    \n",
        "  for j,lists in enumerate(bar):\n",
        "    \n",
        "    point=int((nearest_time(lists[0],minimum_size)-zero_time)/minimum_size)\n",
        "    if(point==96):\n",
        "      point=92\n",
        "    \n",
        "    init[111-int(lists[1])][point]=lists[3]#111-int(list[1])형태로 해야 직관적인 PianoRoll 형태가 ㅏ온다.\n",
        "  return init\n",
        "def bar_to_matrix2(bar,one_bar_number,starting_number,i):\n",
        "  #Duration에 따라 Ploting한다.\n",
        "  #8/6박이면 one_bar_number가 8이다. 그러면 바 1개당 무조건 12개 처리하는거로 한다.\n",
        "\n",
        "  init=np.zeros((112,96))#112는 Note의 수(감으로 써둠.. 나중에 전체 데이터로 할때 수정 가능성 있음 그런데 Shift를 잘 이용하면 96*96도 가능해보임.)\n",
        "  minimum_size=one_bar_number/96\n",
        "  zero_time=starting_number+one_bar_number*i    \n",
        "  for j,lists in enumerate(bar):\n",
        "    #lists[0]은 시간, lists[1]은 Note 높이, lists[3]은 Duration. \n",
        "    point=int((nearest_time(lists[0],minimum_size)-zero_time)/minimum_size)\n",
        "    length=int(round(lists[3]/minimum_size))\n",
        "    if (length>3):\n",
        "      length=length-1#여러번 두두두 치는 음을 구별하기 위함\n",
        "    if (point+length>95):\n",
        "      length=95-point # 한 음이 2Bar에 걸쳐있는 경우 Bar 뒤쪽의 음을 무시한다.\n",
        "    init[111-int(lists[1])][point:point+length]+=1\n",
        "  return init\n",
        "\n",
        "def bar_to_matrix3(bar,one_bar_number,starting_number,i):\n",
        "  #일단 3은 쓰지 맙시다\n",
        "  #Duration에 따라 Plot함과 동시에 가장 높은음과 낮은음을 고려해서 실제 DAW와 같이 Plot한다.\n",
        "  #8/6박이면 one_bar_number가 8이다. 그러면 바 1개당 무조건 12개 처리하는거로 한다.\n",
        "  init=np.zeros((112,96))#112는 Note의 수(감으로 써둠.. 나중에 전체 데이터로 할때 수정 가능성 있음 그런데 Shift를 잘 이용하면 96*96도 가능해보임.)\n",
        "  minimum_size=one_bar_number/96\n",
        "  zero_time=starting_number+one_bar_number*i    \n",
        "  for j,lists in enumerate(bar):\n",
        "    #lists[0]은 시간, lists[1]은 Note 높이, lists[3]은 Duration. \n",
        "    point=int((nearest_time(lists[0],minimum_size)-zero_time)/minimum_size)\n",
        "    init[int(lists[1])][point]=lists[3]\n",
        "  return init"
      ],
      "execution_count": 8,
      "outputs": []
    },
    {
      "cell_type": "code",
      "metadata": {
        "id": "t34eVSFIT6M-",
        "colab_type": "code",
        "colab": {}
      },
      "source": [
        "import copy\n",
        "#bar_list to bar_matrix_list\n",
        "#bar_matrix_list=copy.deepcopy(bar_list)\n",
        "bar_matrix_list2=copy.deepcopy(bar_list)\n",
        "for i,songs in enumerate(bar_matrix_list2):\n",
        "  for j,bar in enumerate(songs):\n",
        "    #print(one_bar_number_list[i],starting_number_list[i])\n",
        "    #matrix=bar_to_matrix1(bar,one_bar_number_list[i],starting_number_list[i],j)\n",
        "    matrix2=bar_to_matrix2(bar,one_bar_number_list[i],starting_number_list[i],j)\n",
        "    #bar_matrix_list[i][j]=matrix\n",
        "    bar_matrix_list2[i][j]=matrix2"
      ],
      "execution_count": 9,
      "outputs": []
    },
    {
      "cell_type": "code",
      "metadata": {
        "id": "AO6-SYCu29qF",
        "colab_type": "code",
        "colab": {
          "base_uri": "https://localhost:8080/",
          "height": 238
        },
        "outputId": "e7522e7f-81bc-4f83-f24e-ae10aa10f3dc"
      },
      "source": [
        "#print(bar_list[0][0],bar_matrix_list[0][0],bar_matrix_list2[0][0]) 큰 의미 없다\n",
        "import numpy as np\n",
        "import matplotlib.pyplot as plt\n",
        "\n",
        "H = bar_matrix_list2[0][0]\n",
        "\n",
        "fig = plt.figure(figsize=(6, 3.2))\n",
        "\n",
        "ax = fig.add_subplot(111)\n",
        "ax.set_title('colorMap')\n",
        "plt.imshow(H)\n",
        "ax.set_aspect('equal')\n",
        "\n",
        "cax = fig.add_axes([0.12, 0.1, 0.78, 0.8])\n",
        "cax.get_xaxis().set_visible(False)\n",
        "cax.get_yaxis().set_visible(False)\n",
        "cax.patch.set_alpha(0)\n",
        "cax.set_frame_on(False)\n",
        "plt.colorbar(orientation='vertical')\n",
        "plt.show()"
      ],
      "execution_count": 10,
      "outputs": [
        {
          "output_type": "display_data",
          "data": {
            "image/png": "[encoded data removed]",
            "text/plain": [
              "<Figure size 432x230.4 with 3 Axes>"
            ]
          },
          "metadata": {
            "tags": [],
            "needs_background": "light"
          }
        }
      ]
    },
    {
      "cell_type": "code",
      "metadata": {
        "id": "IV-em-Jo4I8H",
        "colab_type": "code",
        "colab": {
          "base_uri": "https://localhost:8080/",
          "height": 135
        },
        "outputId": "eb0bd839-7e62-4302-ee12-6909a1fd754a"
      },
      "source": [
        "tot=bar_matrix_list2[2]\n",
        "H=bar_matrix_list2[2][0]\n",
        "for i in range(1,len(tot)):\n",
        "  a=bar_matrix_list2[2][i]\n",
        "  H=np.concatenate((H,a),axis=1)\n",
        "  \n",
        "fig = plt.figure(figsize=(30, 3.2))\n",
        "\n",
        "ax = fig.add_subplot(111)\n",
        "ax.set_title('colorMap')\n",
        "plt.imshow(H)\n",
        "ax.set_aspect('equal')\n",
        "\n",
        "cax = fig.add_axes([0.12, 0.1, 0.78, 0.8])\n",
        "cax.get_xaxis().set_visible(False)\n",
        "cax.get_yaxis().set_visible(False)\n",
        "cax.patch.set_alpha(0)\n",
        "cax.set_frame_on(False)\n",
        "plt.colorbar(orientation='vertical')\n",
        "plt.show()\n",
        "#위 for문 없이 돌리면 1 bar만 나옴"
      ],
      "execution_count": 11,
      "outputs": [
        {
          "output_type": "display_data",
          "data": {
            "image/png": "[encoded data removed]",
            "text/plain": [
              "<Figure size 2160x230.4 with 3 Axes>"
            ]
          },
          "metadata": {
            "tags": [],
            "needs_background": "light"
          }
        }
      ]
    },
    {
      "cell_type": "code",
      "metadata": {
        "id": "Cu5hExBfYVlp",
        "colab_type": "code",
        "colab": {}
      },
      "source": [
        ""
      ],
      "execution_count": 11,
      "outputs": []
    },
    {
      "cell_type": "code",
      "metadata": {
        "id": "QhslYmbJdSba",
        "colab_type": "code",
        "colab": {}
      },
      "source": [
        "def bar_to_contour(bar,one_bar_number,starting_number,j):\n",
        "  contour=[]\n",
        "  pitch_change_list=[]\n",
        "  duration_list=[]\n",
        "  real_pitch_list=[]\n",
        "  real_time_list=[]\n",
        "  real_duration_list=[]\n",
        "  now_pitch=1000\n",
        "  first_time=starting_number+one_bar_number*j\n",
        "  a=0\n",
        "  for lists in bar:\n",
        "    if(a!=0): \n",
        "      real_time_list.append(lists[0]-now_rhythm)\n",
        "    now_rhythm=lists[0]\n",
        "    a+=1\n",
        "    if (first_time*1.001<lists[0]):#smoothing for case like first time=5.00001, lists[0]=5.0000..\n",
        "      resting_time=lists[0]-first_time\n",
        "      duration_list.append(resting_time)\n",
        "      first_time=lists[0]\n",
        "      pitch_change_list.append('Rest')\n",
        "    if (now_pitch==1000):\n",
        "      pitch_change_list.append('Starting_Point')\n",
        "      real_pitch_list.append('Starting_Point')\n",
        "      real_duration_list.append(lists[3])\n",
        "      duration_list.append(lists[3])\n",
        "      first_time=first_time+lists[3]\n",
        "      now_pitch=lists[1]\n",
        "      a+=1\n",
        "    else:\n",
        "      pitch_change=lists[1]-now_pitch\n",
        "      pitch_change_list.append(str(pitch_change))#나중에 int로 바꿔쓸 것. 자료형 터지는거 때문에 우선 스트링.\n",
        "      duration_list.append(lists[3])\n",
        "      real_duration_list.append(lists[3])\n",
        "      first_time=first_time+lists[3]\n",
        "      now_pitch=lists[1]\n",
        "      real_pitch_list.append(str(pitch_change))\n",
        "  if (first_time*1.001<starting_number+one_bar_number*(j+1)):\n",
        "    pitch_change_list.append('Rest')#마지막 Rest\n",
        "    duration_list.append(starting_number+one_bar_number*(j+1)-first_time)\n",
        "  if(len(bar)!=0):\n",
        "    real_time_list.append(starting_number+one_bar_number*(j+1)-now_rhythm)\n",
        "  contour.append(pitch_change_list)\n",
        "  contour.append(duration_list)\n",
        "  contour.append(real_pitch_list)\n",
        "  contour.append(real_time_list)\n",
        "  contour.append(real_duration_list)\n",
        "  #something\n",
        "  return contour\n",
        "\n"
      ],
      "execution_count": 12,
      "outputs": []
    },
    {
      "cell_type": "markdown",
      "metadata": {
        "id": "nkt16alDXVFp",
        "colab_type": "text"
      },
      "source": [
        "Plot에서 중요한것은 Y-Axis의 0~112의 숫자가 Note의 반대 성향을 가진다는 것이다.(숫자가 커질수록 Note의 높이가 낮아진다.) 이는 PianoRoll을 이미지 처럼 사용하는 과정에서, 직관적인 학습이 가능하도록 이와 같이 구현한 것이다."
      ]
    },
    {
      "cell_type": "code",
      "metadata": {
        "id": "9DB6np0r4pr0",
        "colab_type": "code",
        "colab": {}
      },
      "source": [
        "bar_contour_list=copy.deepcopy(bar_list)\n",
        "for i,songs in enumerate(bar_list):\n",
        "  for j,bar in enumerate(songs):\n",
        "    contour=bar_to_contour(bar,one_bar_number_list[i],starting_number_list[i],j)\n",
        "    bar_contour_list[i][j]=contour\n"
      ],
      "execution_count": 13,
      "outputs": []
    },
    {
      "cell_type": "markdown",
      "metadata": {
        "id": "FFxmPmNCVpBD",
        "colab_type": "text"
      },
      "source": [
        "bar_contour_list : 중간과정\n",
        "bar_matrix_list2 : 아마 학습에 사용하게 될 Matrix의 List\n",
        "bar_label_list : 학습에 사용하게 될 Label의 List"
      ]
    },
    {
      "cell_type": "code",
      "metadata": {
        "id": "PO49MM20Lth1",
        "colab_type": "code",
        "colab": {
          "base_uri": "https://localhost:8080/",
          "height": 54
        },
        "outputId": "80103afb-750e-4d11-b5a0-cb7d62b33ec6"
      },
      "source": [
        "print(bar_contour_list[0][0])\n"
      ],
      "execution_count": 14,
      "outputs": [
        {
          "output_type": "stream",
          "text": [
            "[['Starting_Point', '7.0', 'Rest', '-3.0', '-2.0', '-2.0', '-2.0', '7.0', 'Rest'], [0.5, 0.5, 0.5, 0.5, 0.5, 0.5, 1.0, 0.5, 0.5], ['Starting_Point', '7.0', '-3.0', '-2.0', '-2.0', '-2.0', '7.0'], [0.5, 1.0, 0.5, 0.5, 0.5, 1.0, 1.0], [0.5, 0.5, 0.5, 0.5, 0.5, 1.0, 0.5]]\n"
          ],
          "name": "stdout"
        }
      ]
    },
    {
      "cell_type": "code",
      "metadata": {
        "id": "cqJXy8Wqv1od",
        "colab_type": "code",
        "colab": {
          "base_uri": "https://localhost:8080/",
          "height": 316
        },
        "outputId": "28e66e96-56ad-4884-fcc9-e6d9571a7564"
      },
      "source": [
        "for contours in bar_contour_list[11]:\n",
        "  print(contours)\n",
        "print(jsonlist[11])"
      ],
      "execution_count": 15,
      "outputs": [
        {
          "output_type": "stream",
          "text": [
            "[['Starting_Point', 'Rest', '-8.0', '3.0', 'Rest', '5.0', 'Rest'], [0.3333333333333333, 0.16666666666666669, 0.25, 0.16666666666666663, 0.08333333333333337, 0.33333333333333326, 2.666666666666667], ['Starting_Point', '-8.0', '3.0', '5.0'], [0.5, 0.25, 0.25, 3.0], [0.3333333333333333, 0.25, 0.16666666666666663, 0.33333333333333326]]\n",
            "[['Rest', 'Starting_Point', '1.0'], [3.5, 0.25, 0.33333333333333215], ['Starting_Point', '1.0'], [0.25, 0.25], [0.25, 0.33333333333333215]]\n",
            "[['Starting_Point', 'Rest'], [0.25, 3.75], ['Starting_Point'], [4.0], [0.25]]\n",
            "[['Rest'], [4.0], [], [], []]\n",
            "[['Starting_Point', '-9.0', '1.0', '8.0', '-12.0', 'Rest'], [0.25, 0.25, 0.33333333333333215, 0.25, 0.33333333333333215, 2.5833333333333357], ['Starting_Point', '-9.0', '1.0', '8.0', '-12.0'], [0.25, 0.25, 0.25, 0.25, 3.0], [0.25, 0.25, 0.33333333333333215, 0.25, 0.33333333333333215]]\n",
            "[['Rest'], [4.0], [], [], []]\n",
            "[['Starting_Point', '-9.0', '1.0', '3.0', 'Rest', '5.0', 'Rest'], [0.25, 0.25, 0.25, 0.1666666666666643, 0.0833333333333357, 0.25, 2.75], ['Starting_Point', '-9.0', '1.0', '3.0', '5.0'], [0.25, 0.25, 0.25, 0.25, 3.0], [0.25, 0.25, 0.25, 0.1666666666666643, 0.25]]\n",
            "[['Rest', 'Starting_Point', 'Rest', '-3.0', 'Rest'], [3.0, 0.25, 0.25, 0.1666666666666643, 0.3333333333333357], ['Starting_Point', '-3.0'], [0.5, 0.5], [0.25, 0.1666666666666643]]\n",
            "[['Starting_Point', 'Rest', '2.0', 'Rest'], [0.1666666666666643, 0.0833333333333357, 0.75, 3.0], ['Starting_Point', '2.0'], [0.25, 3.75], [0.1666666666666643, 0.75]]\n",
            "[['Rest'], [4.0], [], [], []]\n",
            "[['Starting_Point', '1.0', '8.0', 'Rest'], [0.25, 0.25, 0.25, 3.25], ['Starting_Point', '1.0', '8.0'], [0.25, 0.25, 3.5], [0.25, 0.25, 0.25]]\n",
            "[['Rest'], [4.0], [], [], []]\n",
            "[['Starting_Point', 'Rest', '-8.0', '8.0', '-9.0', '1.0', '8.0', '-9.0', '1.0', '8.0', '-9.0', '1.0', '8.0', '-8.0', '8.0'], [0.3333333333333286, 0.1666666666666714, 0.3333333333333286, 0.3333333333333286, 0.25, 0.3333333333333286, 0.3333333333333286, 0.25, 0.25, 0.25, 0.25, 0.25, 0.3333333333333286, 0.3333333333333286, 0.25], ['Starting_Point', '-8.0', '8.0', '-9.0', '1.0', '8.0', '-9.0', '1.0', '8.0', '-9.0', '1.0', '8.0', '-8.0', '8.0'], [0.5, 0.25, 0.25, 0.25, 0.25, 0.25, 0.25, 0.25, 0.25, 0.25, 0.25, 0.5, 0.25, 0.25], [0.3333333333333286, 0.3333333333333286, 0.3333333333333286, 0.25, 0.3333333333333286, 0.3333333333333286, 0.25, 0.25, 0.25, 0.25, 0.25, 0.3333333333333286, 0.3333333333333286, 0.25]]\n",
            "[['Starting_Point', 'Rest', '12.0', 'Rest', '0.0', 'Rest', '-3.0', 'Rest'], [0.25, 2.75, 0.1666666666666643, 0.0833333333333357, 0.1666666666666643, 0.0833333333333357, 0.1666666666666643, 0.3333333333333357], ['Starting_Point', '12.0', '0.0', '-3.0'], [3.0, 0.25, 0.25, 0.5], [0.25, 0.1666666666666643, 0.1666666666666643, 0.1666666666666643]]\n",
            "[['Starting_Point', 'Rest'], [0.1666666666666643, 3.8333333333333357], ['Starting_Point'], [4.0], [0.1666666666666643]]\n",
            "{'id': '00218695-5fc3-47eb-871f-16f0955840ae', 'idLakh': 'aca4cae9b1320fa31141492ed99c3bc0', 'bpm': 110, 'timeSignature': [4, 4], 'keyEstimate': 'A major'}\n"
          ],
          "name": "stdout"
        }
      ]
    },
    {
      "cell_type": "code",
      "metadata": {
        "id": "MThJLfY0V6F2",
        "colab_type": "code",
        "colab": {}
      },
      "source": [
        "#최대한 많고 깔끔한 조건문을 사용하여 Skill들을 정의해볼 것. Multilabel Classification의 가능성이 있다.\n",
        "\"\"\"\n",
        "Skill들의 음악학적인 특성 & 계산적인 특성을 적는 곳\n",
        "'resting' : 포함하는 음이 0 또는 1개인 경우 resting으로 정의. 다른 Skill들은 겹칠 수 있으나 이 skill이 Label될 경우 그냥 resting 고정이다.\n",
        "즉, Skilling Labeling은 'resting'이 아닌 경우에 진행된다.\n",
        "'repeating' : 전체 음 중 n% 이상 또는 n개를 제외한 경우가 전부 같은 음일 경우 repeating으로 정의\n",
        "'up_steping' : 전체 음 중 n% 이상 또는 n개를 제외한 경우가 steping up 또는 같은 음, 즉 반음기준 3Note 이하로 상승하는 형태일 경우 up_steping으로 정의\n",
        "'down_steping' : 전체 음 중 n% 이상 또는 n개를 제외한 경우가 steping down 또는 같은 음, 즉 반음기준 3Note 이하로 하강하는 형태일 경우 down_steping으로 정의\n",
        "'up_leaping' : 전체 음 중 n% 이상 또는 n개를 제외한 경우가 leaping up, 즉 반음기준 3Note 이상으로 상승하는 형태일 경우 up_leaping으로 정의\n",
        "'down_leaping' : 전체 음 중 n% 이상 또는 n개를 제외한 경우가 leaping down, 즉 반음기준 3Note 이상으로 하강하는 형태일 경우 down_leaping으로 정의\n",
        "3Note에서 겹치는게 맞다. Multilabel Classification을 고안 중이기 때문.\n",
        "'steping_twisting' : 음이 4개 이상이고, n개를 제외한 경우가 2Note 이하의 상승과 하강을 반복하는 형태일 경우 steping_twisting으로 정의\n",
        "'leaping_twisting' : 음이 4개 이상이고, n개를 제외한 경우가 3Note 이상의 상승과 하강을 반복하는 형태일 경우 leaping_twisting으로 정의\n",
        "'fast_rhythm' : 1 bar 내에 음이 9개 이상인 경우 fast_rhythm으로 정의.\n",
        "'One_rhythm' :  모든 음이 지닌 연주의 real_time, 즉 음이 울리고 다음 음이 나올때 까지의 시간이 같으면 One_rhythm으로 정의\n",
        "'triplet' : real_time기반해서 triplet이 존재하면(Note 3개) triplet으로 정의\n",
        "'Staccato' : real_Duration_Time 기반해서 n% 이상의 음의 Duration이 0.16667(최소단위*4임)보다 작으면(매우 짧으면) Staccato로 정의\n",
        "'continuing_rhythm' : pitch_change_list에서 'Rest'의 비율이 25퍼센트 이하면 continuing_rhythm으로 정의\n",
        "첫 음 제외 실 음의 75%를 기준으로 잡는다.\n",
        "5개 이상의 음이 있다면 1개를 제외하고 전부 조건에 맞아야하고,\n",
        "9개 이상의 음이 있다면 2개를 제외하고 전부 조건에 맞아야하고...\n",
        "4개 이하는 다 맞아야 한다.\n",
        "ex) CDEF -> up_steping, CDED -> None, CDEFD-> up_steping.\n",
        "다만 Leaping에 대해서는 많이 후해질 것 같다. 거의 50%가까이..?  \n",
        "\"\"\"\n",
        "\n",
        "\"\"\"\n",
        "예시로는..\n",
        "contour[0] = ['Starting_Point', 'Rest', '4.0', '1.0', 'Rest', '2.0', 'Rest', '-7.0', 'Rest'] Note pitch의 변화를 쉼표를 포함하여 의미한다.\n",
        "contour[1] = [0.83333, 0.16666999999999987, 0.5, 0.33333, 0.16666999999999987, 0.8333299999999999, 0.16666999999999987, 0.75, 0.25] Duration을 쉼표를 포함하여 의미한다.\n",
        "contour[2] = ['Starting_Point', '4.0', '1.0', '2.0', '-7.0'] note pitch의 변화를 의미한다.\n",
        "contour[3] = [1.0, 0.5, 0.5, 1.0, 1.0] 한 음의 실 연주시간을 의미한다.(다음 음이 나올때 까지의 시간)\n",
        "contour[4] = [0.83333, 0.5, 0.33333, 0.8333299999999999, 0.75] Duration을 의미한다.\n",
        "\"\"\"\n",
        "def is_repeating(contour_list,exception_range):\n",
        "  boolean_repeating=0\n",
        "  non_repeat=0\n",
        "  for elements in contour_list:\n",
        "    if (elements is not 'Starting_Point'):\n",
        "      if(elements != '0.0'):\n",
        "        non_repeat+=1\n",
        "  if (non_repeat<=exception_range):\n",
        "    boolean_repeating=1\n",
        "  return boolean_repeating\n",
        "\n",
        "def is_up_steping(contour_list,exception_range):\n",
        "  balancing_param=1\n",
        "  boolean_up_steping=0\n",
        "  non_step_up=0\n",
        "  now_step_up=0\n",
        "  for elements in contour_list:\n",
        "    if (elements is not 'Starting_Point'):\n",
        "      if (now_step_up==0):\n",
        "        if (float(elements)<0.5 or float(elements)>4.5):\n",
        "          now_step_up=0\n",
        "          non_step_up+=1\n",
        "        else:\n",
        "          now_step_up=1\n",
        "      else:\n",
        "        if(float(elements)<-0.5 or float(elements)>4.5):\n",
        "          now_step_up=0\n",
        "          non_step_up+=1\n",
        "        else:\n",
        "          now_step_up=1\n",
        "  if(non_step_up<=exception_range+balancing_param):\n",
        "    boolean_up_steping=1\n",
        "  return boolean_up_steping\n",
        "\n",
        "def is_down_steping(contour_list,exception_range):\n",
        "  boolean_down_steping=0\n",
        "  balancing_param=0\n",
        "  non_step_down=0\n",
        "  now_step_down=0\n",
        "  for elements in contour_list:\n",
        "    if (elements is not 'Starting_Point'):\n",
        "      if (now_step_down==0):\n",
        "        if (float(elements)>-0.5 or float(elements)<-4.5):\n",
        "          now_step_down=0\n",
        "          non_step_down+=1\n",
        "        else:\n",
        "          now_step_down=1\n",
        "      else:\n",
        "        if(float(elements)>0.5 or float(elements)<-4.5):\n",
        "          now_step_down=0\n",
        "          non_step_down+=1\n",
        "        else:\n",
        "          now_step_down=1\n",
        "  if(non_step_down<=exception_range+balancing_param):\n",
        "    boolean_down_steping=1\n",
        "  return boolean_down_steping\n",
        "\n",
        "def is_up_leaping(contour_list,exception_range):\n",
        "  boolean_up_leaping=0\n",
        "  non_leap_up=0\n",
        "  for elements in contour_list:\n",
        "    if (elements is not 'Starting_Point'):\n",
        "      if (float(elements)<3.5):\n",
        "        non_leap_up+=1\n",
        "  if (non_leap_up<=exception_range+1):\n",
        "    boolean_up_leaping=1\n",
        "  return boolean_up_leaping\n",
        "\n",
        "def is_down_leaping(contour_list,exception_range):\n",
        "  boolean_down_leaping=0\n",
        "  non_leap_down=0\n",
        "  for elements in contour_list:\n",
        "    if (elements is not 'Starting_Point'):\n",
        "      if (float(elements)>-3.5):\n",
        "        non_leap_down+=1\n",
        "  if (non_leap_down<=exception_range+1):\n",
        "    boolean_down_leaping=1\n",
        "  return boolean_down_leaping\n",
        "\n",
        "def is_leaping_twisting(contour_list,exception_range):\n",
        "  boolean_leaping_twisting=0\n",
        "  non_leap_twist=0\n",
        "  balancing_param=1\n",
        "  now_dir=0 #1for up, -1 for down\n",
        "  for elements in contour_list:\n",
        "    if (elements is not 'Starting_Point'):\n",
        "      if (now_dir==0):\n",
        "        if (3.5<float(elements)):\n",
        "          now_dir=1\n",
        "        elif (float(elements) <-3.5):\n",
        "          now_dir=-1\n",
        "        else:\n",
        "          non_leap_twist+=1\n",
        "      elif (now_dir==1):\n",
        "        if (float(elements) <-3.5):\n",
        "          now_dir=-1\n",
        "        else:\n",
        "          now_dir=0\n",
        "          non_leap_twist+=1\n",
        "      elif (now_dir==-1):\n",
        "        if (3.5<float(elements)):\n",
        "          now_dir=1\n",
        "        else:\n",
        "          now_dir=0\n",
        "          non_leap_twist+=1\n",
        "  if(non_leap_twist<=exception_range+balancing_param):\n",
        "    boolean_leaping_twisting=1\n",
        "  return boolean_leaping_twisting\n",
        "\n",
        "def is_steping_twisting(contour_list,exception_range):\n",
        "  boolean_steping_twisting=0\n",
        "  non_step_twist=0\n",
        "  now_dir=0 #1for up, -1 for down\n",
        "  for elements in contour_list:\n",
        "    if (elements is not 'Starting_Point'):\n",
        "      if (now_dir==0):\n",
        "        if (0<float(elements) and float(elements) <2.5):\n",
        "          now_dir=1\n",
        "        elif (-2.5<float(elements) and float(elements) <0):\n",
        "          now_dir=-1\n",
        "        else:\n",
        "          non_step_twist+=1\n",
        "      elif (now_dir==1):\n",
        "        if (-2.5<float(elements) and float(elements) <0):\n",
        "          now_dir=-1\n",
        "        else:\n",
        "          now_dir=0\n",
        "          non_step_twist+=1\n",
        "      elif (now_dir==-1):\n",
        "        if (0<float(elements) and float(elements) <2.5):\n",
        "          now_dir=1\n",
        "        else:\n",
        "          now_dir=0\n",
        "          non_step_twist+=1\n",
        "  if(non_step_twist<=exception_range):\n",
        "    boolean_steping_twisting=1\n",
        "  return boolean_steping_twisting\n",
        "\n",
        "def is_one_rhythm(contour_list,exception_range):\n",
        "  boolean_one_rhythm=0\n",
        "  non_same_rhythm=0\n",
        "\n",
        "  first_rhythm=contour_list[0]\n",
        "  for rhythms in contour_list:\n",
        "    if (rhythms != first_rhythm):\n",
        "      non_same_rhythm=1\n",
        "  boolean_one_rhythm=1-non_same_rhythm\n",
        "  return boolean_one_rhythm\n",
        "\n",
        "def is_triplet(contour_list,exception_range):\n",
        "  boolean_triplet=0\n",
        "  now_triplet=0\n",
        "  for rhythms in contour_list:\n",
        "    rhythms=float(rhythms)\n",
        "    if (rhythms%0.015625>0.001):\n",
        "      if(now_triplet==1):\n",
        "        boolean_triplet=1\n",
        "      now_triplet+=1\n",
        "    else:\n",
        "      now_triplet=0\n",
        "      \n",
        "  return boolean_triplet\n",
        "\n",
        "def is_staccato(contour_list,exception_range):\n",
        "  boolean_staccato=0\n",
        "  ranges=len(contour_list)//2\n",
        "  staccato_num=0\n",
        "  for times in contour_list:\n",
        "    if (times<0.2):\n",
        "      staccato_num+=1\n",
        "  if (staccato_num>=ranges):\n",
        "    boolean_staccato=1\n",
        "  return boolean_staccato\n",
        "\n",
        "def is_continuing_rhythm(contour_list):\n",
        "  boolean_continuing_rhythm=0\n",
        "  length=len(contour_list)\n",
        "  rest_num=0\n",
        "  for elements in contour_list:\n",
        "    if (elements=='Rest'):\n",
        "      rest_num+=1\n",
        "  if (rest_num<=0.5):\n",
        "    boolean_continuing_rhythm=1\n",
        "  return boolean_continuing_rhythm\n",
        "\n",
        "def contour_to_label(contour):\n",
        "  labels=[]\n",
        "  totnum=len(contour[2]) #실 음의 갯수이다.\n",
        "  exception_range=(totnum-1)//4\n",
        "  exception_range2=(totnum-1)//3\n",
        "  if (len(contour[2])<2.5):\n",
        "    labels.append('resting')\n",
        "    return labels\n",
        "  else:\n",
        "    if (is_repeating(contour[2],exception_range2)):\n",
        "      labels.append('repeating')\n",
        "\n",
        "    if (is_up_steping(contour[2],exception_range)):\n",
        "      if (len(contour[2])>3):\n",
        "        labels.append('up_steping')\n",
        "\n",
        "    if (is_down_steping(contour[2],exception_range)):\n",
        "      if (len(contour[2])>3):\n",
        "        labels.append('down_steping')\n",
        "\n",
        "    if (is_up_leaping(contour[2],exception_range2)):\n",
        "      labels.append('up_leaping')\n",
        "    \n",
        "    if (is_down_leaping(contour[2],exception_range2)):\n",
        "      labels.append('down_leaping')\n",
        "\n",
        "    if (is_steping_twisting(contour[2],exception_range2)):\n",
        "      if (len(contour[2])>3):\n",
        "        labels.append('steping_twisting')\n",
        "\n",
        "    if (is_leaping_twisting(contour[2],exception_range2)):\n",
        "      if (len(contour[2])>3):\n",
        "        labels.append('leaping_twisting')\n",
        "\n",
        "    if (len(contour[2])>8.5):\n",
        "      labels.append('fast_rhythm')\n",
        "\n",
        "    if (is_one_rhythm(contour[3],exception_range)):\n",
        "      labels.append('One_rhythm')\n",
        "\n",
        "    if (is_triplet(contour[3],exception_range2)):\n",
        "      labels.append('triplet')\n",
        "\n",
        "    if (is_staccato(contour[4],exception_range2)):\n",
        "      labels.append('staccato')  \n",
        "\n",
        "    if (is_continuing_rhythm(contour[0])):\n",
        "      labels.append('continuing_rhythm')  \n",
        "\n",
        "  \"\"\"\n",
        "  if (len(labels)==0):\n",
        "    labels.append('no skills')\n",
        "    meanless.\n",
        "  \"\"\"\n",
        "\n",
        "  return labels"
      ],
      "execution_count": 16,
      "outputs": []
    },
    {
      "cell_type": "code",
      "metadata": {
        "id": "ez9WMZruqLA0",
        "colab_type": "code",
        "colab": {}
      },
      "source": [
        "bar_label_list=copy.deepcopy(bar_contour_list)\n",
        "for i,songs in enumerate(bar_contour_list):\n",
        "  for j,contour in enumerate(songs):\n",
        "    label=contour_to_label(contour) \n",
        "    bar_label_list[i][j]=label"
      ],
      "execution_count": 17,
      "outputs": []
    },
    {
      "cell_type": "code",
      "metadata": {
        "id": "sqUWmjlproso",
        "colab_type": "code",
        "colab": {
          "base_uri": "https://localhost:8080/",
          "height": 630
        },
        "outputId": "222cabca-2bf9-45af-bd87-200991ef74a8"
      },
      "source": [
        "for j in range(len(bar_label_list[0])):\n",
        "  print(bar_label_list[0][j])\n",
        "  print(bar_contour_list[0][j])"
      ],
      "execution_count": 18,
      "outputs": [
        {
          "output_type": "stream",
          "text": [
            "[]\n",
            "[['Starting_Point', '7.0', 'Rest', '-3.0', '-2.0', '-2.0', '-2.0', '7.0', 'Rest'], [0.5, 0.5, 0.5, 0.5, 0.5, 0.5, 1.0, 0.5, 0.5], ['Starting_Point', '7.0', '-3.0', '-2.0', '-2.0', '-2.0', '7.0'], [0.5, 1.0, 0.5, 0.5, 0.5, 1.0, 1.0], [0.5, 0.5, 0.5, 0.5, 0.5, 1.0, 0.5]]\n",
            "[]\n",
            "[['Starting_Point', '7.0', 'Rest', '-3.0', '-2.0', '-2.0', '-2.0', '7.0', 'Rest'], [0.5, 0.5, 0.5, 0.5, 0.5, 0.5, 1.0, 0.5, 0.5], ['Starting_Point', '7.0', '-3.0', '-2.0', '-2.0', '-2.0', '7.0'], [0.5, 1.0, 0.5, 0.5, 0.5, 1.0, 1.0], [0.5, 0.5, 0.5, 0.5, 0.5, 1.0, 0.5]]\n",
            "['repeating']\n",
            "[['Starting_Point', '7.0', 'Rest', '-7.0', '0.0', '0.0', '0.0', '0.0'], [0.5, 0.5, 0.5, 0.5, 0.5, 0.5, 1.0, 1.0], ['Starting_Point', '7.0', '-7.0', '0.0', '0.0', '0.0', '0.0'], [0.5, 1.0, 0.5, 0.5, 0.5, 1.0, 1.0], [0.5, 0.5, 0.5, 0.5, 0.5, 1.0, 1.0]]\n",
            "['leaping_twisting', 'continuing_rhythm']\n",
            "[['Starting_Point', '7.0', '-7.0', '4.0', '3.0', '3.0', '-5.0'], [0.5, 1.0, 0.5, 0.5, 0.5, 1.0, 1.0], ['Starting_Point', '7.0', '-7.0', '4.0', '3.0', '3.0', '-5.0'], [0.5, 1.0, 0.5, 0.5, 0.5, 1.0, 1.0], [0.5, 1.0, 0.5, 0.5, 0.5, 1.0, 1.0]]\n",
            "['leaping_twisting']\n",
            "[['Starting_Point', '7.0', '-7.0', '7.0', '3.0', '-5.0', 'Rest'], [0.5, 1.0, 0.5, 0.5, 1.0, 1.0, 0.5], ['Starting_Point', '7.0', '-7.0', '7.0', '3.0', '-5.0'], [0.5, 1.0, 0.5, 0.5, 1.0, 1.5], [0.5, 1.0, 0.5, 0.5, 1.0, 1.0]]\n",
            "['leaping_twisting']\n",
            "[['Starting_Point', '7.0', '-7.0', '7.0', '3.0', '-5.0', 'Rest'], [0.5, 1.0, 0.5, 0.5, 1.0, 1.0, 0.5], ['Starting_Point', '7.0', '-7.0', '7.0', '3.0', '-5.0'], [0.5, 1.0, 0.5, 0.5, 1.0, 1.5], [0.5, 1.0, 0.5, 0.5, 1.0, 1.0]]\n",
            "['leaping_twisting']\n",
            "[['Starting_Point', '7.0', '-7.0', '7.0', '3.0', '-5.0', 'Rest'], [0.5, 1.0, 0.5, 0.5, 1.0, 1.0, 0.5], ['Starting_Point', '7.0', '-7.0', '7.0', '3.0', '-5.0'], [0.5, 1.0, 0.5, 0.5, 1.0, 1.5], [0.5, 1.0, 0.5, 0.5, 1.0, 1.0]]\n",
            "[]\n",
            "[['Starting_Point', '0.0', 'Rest', '-5.0', '5.0', '-2.0', '-1.0', 'Rest'], [0.5, 0.5, 0.5, 0.5, 1.0, 1.0, 0.5, 0.5], ['Starting_Point', '0.0', '-5.0', '5.0', '-2.0', '-1.0'], [0.5, 1.0, 0.5, 1.0, 1.0, 1.0], [0.5, 0.5, 0.5, 1.0, 1.0, 0.5]]\n",
            "[]\n",
            "[['Starting_Point', '0.0', 'Rest', '-5.0', '5.0', '-2.0', '-1.0', 'Rest'], [0.5, 0.5, 0.5, 0.5, 1.0, 1.0, 0.5, 0.5], ['Starting_Point', '0.0', '-5.0', '5.0', '-2.0', '-1.0'], [0.5, 1.0, 0.5, 1.0, 1.0, 1.0], [0.5, 0.5, 0.5, 1.0, 1.0, 0.5]]\n",
            "[]\n",
            "[['Starting_Point', '0.0', 'Rest', '-5.0', '5.0', '-2.0', '-1.0', 'Rest'], [0.5, 0.5, 0.5, 0.5, 1.0, 1.0, 0.5, 0.5], ['Starting_Point', '0.0', '-5.0', '5.0', '-2.0', '-1.0'], [0.5, 1.0, 0.5, 1.0, 1.0, 1.0], [0.5, 0.5, 0.5, 1.0, 1.0, 0.5]]\n",
            "[]\n",
            "[['Starting_Point', '0.0', 'Rest', '-5.0', '5.0', '0.0', 'Rest', '0.0', 'Rest'], [0.5, 0.5, 0.5, 0.5, 1.0, 0.5, 0.5, 0.5, 0.5], ['Starting_Point', '0.0', '-5.0', '5.0', '0.0', '0.0'], [0.5, 1.0, 0.5, 1.0, 1.0, 1.0], [0.5, 0.5, 0.5, 1.0, 0.5, 0.5]]\n",
            "['leaping_twisting']\n",
            "[['Starting_Point', '-5.0', 'Rest', '-7.0', '3.0', '4.0', '-2.0', '7.0', 'Rest'], [0.5, 0.5, 0.5, 0.5, 0.5, 0.5, 1.0, 0.5, 0.5], ['Starting_Point', '-5.0', '-7.0', '3.0', '4.0', '-2.0', '7.0'], [0.5, 1.0, 0.5, 0.5, 0.5, 1.0, 1.0], [0.5, 0.5, 0.5, 0.5, 0.5, 1.0, 0.5]]\n",
            "['leaping_twisting']\n",
            "[['Starting_Point', '-5.0', 'Rest', '-7.0', '3.0', '4.0', '-2.0', '7.0', 'Rest'], [0.5, 0.5, 0.5, 0.5, 0.5, 0.5, 1.0, 0.5, 0.5], ['Starting_Point', '-5.0', '-7.0', '3.0', '4.0', '-2.0', '7.0'], [0.5, 1.0, 0.5, 0.5, 0.5, 1.0, 1.0], [0.5, 0.5, 0.5, 0.5, 0.5, 1.0, 0.5]]\n",
            "['leaping_twisting']\n",
            "[['Starting_Point', '-5.0', 'Rest', '-7.0', '3.0', '4.0', '-2.0', '7.0', 'Rest'], [0.5, 0.5, 0.5, 0.5, 0.5, 0.5, 1.0, 0.5, 0.5], ['Starting_Point', '-5.0', '-7.0', '3.0', '4.0', '-2.0', '7.0'], [0.5, 1.0, 0.5, 0.5, 0.5, 1.0, 1.0], [0.5, 0.5, 0.5, 0.5, 0.5, 1.0, 0.5]]\n",
            "['leaping_twisting']\n",
            "[['Starting_Point', '-5.0', 'Rest', '-7.0', '3.0', '4.0', '-2.0', '7.0', 'Rest'], [0.5, 0.5, 0.5, 0.5, 0.5, 0.5, 1.0, 0.5, 0.5], ['Starting_Point', '-5.0', '-7.0', '3.0', '4.0', '-2.0', '7.0'], [0.5, 1.0, 0.5, 0.5, 0.5, 1.0, 1.0], [0.5, 0.5, 0.5, 0.5, 0.5, 1.0, 0.5]]\n",
            "['leaping_twisting']\n",
            "[['Starting_Point', '0.0', 'Rest', '0.0', '7.0', '-7.0', '10.0', '-5.0', 'Rest'], [0.5, 0.5, 0.5, 0.5, 0.5, 0.5, 1.0, 0.5, 0.5], ['Starting_Point', '0.0', '0.0', '7.0', '-7.0', '10.0', '-5.0'], [0.5, 1.0, 0.5, 0.5, 0.5, 1.0, 1.0], [0.5, 0.5, 0.5, 0.5, 0.5, 1.0, 0.5]]\n",
            "['down_leaping', 'leaping_twisting']\n",
            "[['Starting_Point', '-5.0', 'Rest', '-7.0', '3.0', '4.0', '5.0', '-5.0', 'Rest'], [0.5, 0.5, 0.5, 0.5, 0.5, 0.5, 1.0, 0.5, 0.5], ['Starting_Point', '-5.0', '-7.0', '3.0', '4.0', '5.0', '-5.0'], [0.5, 1.0, 0.5, 0.5, 0.5, 1.0, 1.0], [0.5, 0.5, 0.5, 0.5, 0.5, 1.0, 0.5]]\n"
          ],
          "name": "stdout"
        }
      ]
    },
    {
      "cell_type": "code",
      "metadata": {
        "id": "-eCyCmgXzbSr",
        "colab_type": "code",
        "colab": {
          "base_uri": "https://localhost:8080/",
          "height": 415
        },
        "outputId": "7e99c20c-9691-4217-d7d7-792558d7fac7"
      },
      "source": [
        "#Summary\n",
        "print(bar_contour_list[0][0])\n",
        "print(bar_label_list[0][0])\n",
        "print(bar_list[0][0])\n",
        "\n",
        "H=bar_matrix_list2[0][0]\n",
        "fig = plt.figure(figsize=(6, 3.2))\n",
        "ax = fig.add_subplot(111)\n",
        "ax.set_title('colorMap')\n",
        "plt.imshow(H)\n",
        "ax.set_aspect('equal')\n",
        "\n",
        "cax = fig.add_axes([0.12, 0.1, 0.78, 0.8])\n",
        "cax.get_xaxis().set_visible(False)\n",
        "cax.get_yaxis().set_visible(False)\n",
        "cax.patch.set_alpha(0)\n",
        "cax.set_frame_on(False)\n",
        "plt.colorbar(orientation='vertical')\n",
        "plt.show()\n",
        "#위 for문 없이 돌리면 1 bar만 나옴\n",
        "#matrix_list2를 CNN하되 라벨을 label로 가져가면 될듯 bar_label_list[i][j]는 i번째곡의 j번째 bar를 의미하고, 나머지도 같다."
      ],
      "execution_count": 19,
      "outputs": [
        {
          "output_type": "stream",
          "text": [
            "[['Starting_Point', '7.0', 'Rest', '-3.0', '-2.0', '-2.0', '-2.0', '7.0', 'Rest'], [0.5, 0.5, 0.5, 0.5, 0.5, 0.5, 1.0, 0.5, 0.5], ['Starting_Point', '7.0', '-3.0', '-2.0', '-2.0', '-2.0', '7.0'], [0.5, 1.0, 0.5, 0.5, 0.5, 1.0, 1.0], [0.5, 0.5, 0.5, 0.5, 0.5, 1.0, 0.5]]\n",
            "[]\n",
            "[[ 0.  48.  48.   0.5  0. ]\n",
            " [ 0.5 55.  55.   0.5  0. ]\n",
            " [ 1.5 52.  52.   0.5  0. ]\n",
            " [ 2.  50.  50.   0.5  0. ]\n",
            " [ 2.5 48.  48.   0.5  0. ]\n",
            " [ 3.  46.  46.   1.   0. ]\n",
            " [ 4.  53.  53.   0.5  0. ]]\n"
          ],
          "name": "stdout"
        },
        {
          "output_type": "display_data",
          "data": {
            "image/png": "[encoded data removed]",
            "text/plain": [
              "<Figure size 432x230.4 with 3 Axes>"
            ]
          },
          "metadata": {
            "tags": [],
            "needs_background": "light"
          }
        }
      ]
    },
    {
      "cell_type": "code",
      "metadata": {
        "id": "ndQru9Cv1XIs",
        "colab_type": "code",
        "colab": {}
      },
      "source": [
        "all_matrix=[]\n",
        "all_labels=[]\n",
        "for songs in bar_label_list:\n",
        "  for label in songs:\n",
        "    label=np.array(label)\n",
        "    all_labels.append(label)\n",
        "bar_label_list=[]#램 터짐\n",
        "for songs in bar_matrix_list2:\n",
        "  for matrix in songs:\n",
        "    matrix=matrix.reshape(112,96,1)\n",
        "    all_matrix.append(matrix)\n",
        "bar_matrix_list2=[]#이거도\n"
      ],
      "execution_count": 20,
      "outputs": []
    },
    {
      "cell_type": "code",
      "metadata": {
        "id": "cLD6jvcH2thx",
        "colab_type": "code",
        "colab": {
          "base_uri": "https://localhost:8080/",
          "height": 34
        },
        "outputId": "e460c40f-fda3-4e0e-ca54-01ef41af069a"
      },
      "source": [
        "print(len(all_matrix),len(all_labels))"
      ],
      "execution_count": 21,
      "outputs": [
        {
          "output_type": "stream",
          "text": [
            "8724 8724\n"
          ],
          "name": "stdout"
        }
      ]
    },
    {
      "cell_type": "code",
      "metadata": {
        "id": "KxnqzorC35O4",
        "colab_type": "code",
        "colab": {
          "base_uri": "https://localhost:8080/",
          "height": 34
        },
        "outputId": "7acf24ca-9e50-416d-826b-967c3d29ba5c"
      },
      "source": [
        "import keras.backend.tensorflow_backend as tfback\n",
        "from tensorflow.python.client import device_lib\n",
        "def _get_available_gpus():\n",
        "  if tfback._LOCAL_DEVICES is None:\n",
        "    devices = device_lib.list_local_devices()\n",
        "    tfback._LOCAL_DEVICES = [x.name for x in devices]\n",
        "  return [x for x in tfback._LOCAL_DEVICES if 'device:gpu' in x.lower()]\n",
        "tfback._get_available_gpus = _get_available_gpus\n",
        "tfback._get_available_gpus()"
      ],
      "execution_count": 22,
      "outputs": [
        {
          "output_type": "execute_result",
          "data": {
            "text/plain": [
              "['/device:GPU:0']"
            ]
          },
          "metadata": {
            "tags": []
          },
          "execution_count": 22
        }
      ]
    },
    {
      "cell_type": "code",
      "metadata": {
        "id": "Mt2exWUggwA9",
        "colab_type": "code",
        "colab": {}
      },
      "source": [
        "from sklearn.preprocessing import MultiLabelBinarizer\n",
        "train_matrix=np.array(all_matrix[:7000])\n",
        "train_label=np.array(all_labels[:7000])"
      ],
      "execution_count": 23,
      "outputs": []
    },
    {
      "cell_type": "code",
      "metadata": {
        "id": "sc4SuOnd9wC7",
        "colab_type": "code",
        "colab": {}
      },
      "source": [
        "def set_labels():\n",
        "  labels=[]\n",
        "  label_tuple=[]\n",
        "  skills_pitch=['repeating','up_steping','down_steping','up_leaping','down_leaping','steping_twisting','leaping_twisting','dummy']\n",
        "  skills_timing=['resting','fast_rhythm','dummy']\n",
        "  skills_triplet=['triplet','dummy']\n",
        "  skills_one_rhythm=['One_rhythm','dummy']\n",
        "  skills_staccato=['staccato','continuing_rhythm','dummy']\n",
        "  for pitch in skills_pitch:\n",
        "    for timing in skills_timing:\n",
        "      for triplet in skills_triplet:\n",
        "        for one_rhythm in skills_one_rhythm:\n",
        "          for staccato in skills_staccato:\n",
        "            label_tuple=[]\n",
        "            if pitch is not 'dummy':\n",
        "              label_tuple.append(pitch)\n",
        "            if timing is not 'dummy':\n",
        "              label_tuple.append(timing)\n",
        "            if triplet is not 'dummy':\n",
        "              label_tuple.append(triplet)\n",
        "            if one_rhythm is not 'dummy':\n",
        "              label_tuple.append(one_rhythm)\n",
        "            if staccato is not 'dummy':\n",
        "              label_tuple.append(staccato)\n",
        "            label_tuple=tuple(label_tuple)\n",
        "            labels.append(label_tuple)\n",
        "  return labels"
      ],
      "execution_count": 24,
      "outputs": []
    },
    {
      "cell_type": "code",
      "metadata": {
        "id": "SYOhSlmHA1ka",
        "colab_type": "code",
        "colab": {
          "base_uri": "https://localhost:8080/",
          "height": 54
        },
        "outputId": "169a3eda-6426-47a0-c8c9-b7420f93ca51"
      },
      "source": [
        "label=set_labels()\n",
        "print(label)"
      ],
      "execution_count": 25,
      "outputs": [
        {
          "output_type": "stream",
          "text": [
            "[('repeating', 'resting', 'triplet', 'One_rhythm', 'staccato'), ('repeating', 'resting', 'triplet', 'One_rhythm', 'continuing_rhythm'), ('repeating', 'resting', 'triplet', 'One_rhythm'), ('repeating', 'resting', 'triplet', 'staccato'), ('repeating', 'resting', 'triplet', 'continuing_rhythm'), ('repeating', 'resting', 'triplet'), ('repeating', 'resting', 'One_rhythm', 'staccato'), ('repeating', 'resting', 'One_rhythm', 'continuing_rhythm'), ('repeating', 'resting', 'One_rhythm'), ('repeating', 'resting', 'staccato'), ('repeating', 'resting', 'continuing_rhythm'), ('repeating', 'resting'), ('repeating', 'fast_rhythm', 'triplet', 'One_rhythm', 'staccato'), ('repeating', 'fast_rhythm', 'triplet', 'One_rhythm', 'continuing_rhythm'), ('repeating', 'fast_rhythm', 'triplet', 'One_rhythm'), ('repeating', 'fast_rhythm', 'triplet', 'staccato'), ('repeating', 'fast_rhythm', 'triplet', 'continuing_rhythm'), ('repeating', 'fast_rhythm', 'triplet'), ('repeating', 'fast_rhythm', 'One_rhythm', 'staccato'), ('repeating', 'fast_rhythm', 'One_rhythm', 'continuing_rhythm'), ('repeating', 'fast_rhythm', 'One_rhythm'), ('repeating', 'fast_rhythm', 'staccato'), ('repeating', 'fast_rhythm', 'continuing_rhythm'), ('repeating', 'fast_rhythm'), ('repeating', 'triplet', 'One_rhythm', 'staccato'), ('repeating', 'triplet', 'One_rhythm', 'continuing_rhythm'), ('repeating', 'triplet', 'One_rhythm'), ('repeating', 'triplet', 'staccato'), ('repeating', 'triplet', 'continuing_rhythm'), ('repeating', 'triplet'), ('repeating', 'One_rhythm', 'staccato'), ('repeating', 'One_rhythm', 'continuing_rhythm'), ('repeating', 'One_rhythm'), ('repeating', 'staccato'), ('repeating', 'continuing_rhythm'), ('repeating',), ('up_steping', 'resting', 'triplet', 'One_rhythm', 'staccato'), ('up_steping', 'resting', 'triplet', 'One_rhythm', 'continuing_rhythm'), ('up_steping', 'resting', 'triplet', 'One_rhythm'), ('up_steping', 'resting', 'triplet', 'staccato'), ('up_steping', 'resting', 'triplet', 'continuing_rhythm'), ('up_steping', 'resting', 'triplet'), ('up_steping', 'resting', 'One_rhythm', 'staccato'), ('up_steping', 'resting', 'One_rhythm', 'continuing_rhythm'), ('up_steping', 'resting', 'One_rhythm'), ('up_steping', 'resting', 'staccato'), ('up_steping', 'resting', 'continuing_rhythm'), ('up_steping', 'resting'), ('up_steping', 'fast_rhythm', 'triplet', 'One_rhythm', 'staccato'), ('up_steping', 'fast_rhythm', 'triplet', 'One_rhythm', 'continuing_rhythm'), ('up_steping', 'fast_rhythm', 'triplet', 'One_rhythm'), ('up_steping', 'fast_rhythm', 'triplet', 'staccato'), ('up_steping', 'fast_rhythm', 'triplet', 'continuing_rhythm'), ('up_steping', 'fast_rhythm', 'triplet'), ('up_steping', 'fast_rhythm', 'One_rhythm', 'staccato'), ('up_steping', 'fast_rhythm', 'One_rhythm', 'continuing_rhythm'), ('up_steping', 'fast_rhythm', 'One_rhythm'), ('up_steping', 'fast_rhythm', 'staccato'), ('up_steping', 'fast_rhythm', 'continuing_rhythm'), ('up_steping', 'fast_rhythm'), ('up_steping', 'triplet', 'One_rhythm', 'staccato'), ('up_steping', 'triplet', 'One_rhythm', 'continuing_rhythm'), ('up_steping', 'triplet', 'One_rhythm'), ('up_steping', 'triplet', 'staccato'), ('up_steping', 'triplet', 'continuing_rhythm'), ('up_steping', 'triplet'), ('up_steping', 'One_rhythm', 'staccato'), ('up_steping', 'One_rhythm', 'continuing_rhythm'), ('up_steping', 'One_rhythm'), ('up_steping', 'staccato'), ('up_steping', 'continuing_rhythm'), ('up_steping',), ('down_steping', 'resting', 'triplet', 'One_rhythm', 'staccato'), ('down_steping', 'resting', 'triplet', 'One_rhythm', 'continuing_rhythm'), ('down_steping', 'resting', 'triplet', 'One_rhythm'), ('down_steping', 'resting', 'triplet', 'staccato'), ('down_steping', 'resting', 'triplet', 'continuing_rhythm'), ('down_steping', 'resting', 'triplet'), ('down_steping', 'resting', 'One_rhythm', 'staccato'), ('down_steping', 'resting', 'One_rhythm', 'continuing_rhythm'), ('down_steping', 'resting', 'One_rhythm'), ('down_steping', 'resting', 'staccato'), ('down_steping', 'resting', 'continuing_rhythm'), ('down_steping', 'resting'), ('down_steping', 'fast_rhythm', 'triplet', 'One_rhythm', 'staccato'), ('down_steping', 'fast_rhythm', 'triplet', 'One_rhythm', 'continuing_rhythm'), ('down_steping', 'fast_rhythm', 'triplet', 'One_rhythm'), ('down_steping', 'fast_rhythm', 'triplet', 'staccato'), ('down_steping', 'fast_rhythm', 'triplet', 'continuing_rhythm'), ('down_steping', 'fast_rhythm', 'triplet'), ('down_steping', 'fast_rhythm', 'One_rhythm', 'staccato'), ('down_steping', 'fast_rhythm', 'One_rhythm', 'continuing_rhythm'), ('down_steping', 'fast_rhythm', 'One_rhythm'), ('down_steping', 'fast_rhythm', 'staccato'), ('down_steping', 'fast_rhythm', 'continuing_rhythm'), ('down_steping', 'fast_rhythm'), ('down_steping', 'triplet', 'One_rhythm', 'staccato'), ('down_steping', 'triplet', 'One_rhythm', 'continuing_rhythm'), ('down_steping', 'triplet', 'One_rhythm'), ('down_steping', 'triplet', 'staccato'), ('down_steping', 'triplet', 'continuing_rhythm'), ('down_steping', 'triplet'), ('down_steping', 'One_rhythm', 'staccato'), ('down_steping', 'One_rhythm', 'continuing_rhythm'), ('down_steping', 'One_rhythm'), ('down_steping', 'staccato'), ('down_steping', 'continuing_rhythm'), ('down_steping',), ('up_leaping', 'resting', 'triplet', 'One_rhythm', 'staccato'), ('up_leaping', 'resting', 'triplet', 'One_rhythm', 'continuing_rhythm'), ('up_leaping', 'resting', 'triplet', 'One_rhythm'), ('up_leaping', 'resting', 'triplet', 'staccato'), ('up_leaping', 'resting', 'triplet', 'continuing_rhythm'), ('up_leaping', 'resting', 'triplet'), ('up_leaping', 'resting', 'One_rhythm', 'staccato'), ('up_leaping', 'resting', 'One_rhythm', 'continuing_rhythm'), ('up_leaping', 'resting', 'One_rhythm'), ('up_leaping', 'resting', 'staccato'), ('up_leaping', 'resting', 'continuing_rhythm'), ('up_leaping', 'resting'), ('up_leaping', 'fast_rhythm', 'triplet', 'One_rhythm', 'staccato'), ('up_leaping', 'fast_rhythm', 'triplet', 'One_rhythm', 'continuing_rhythm'), ('up_leaping', 'fast_rhythm', 'triplet', 'One_rhythm'), ('up_leaping', 'fast_rhythm', 'triplet', 'staccato'), ('up_leaping', 'fast_rhythm', 'triplet', 'continuing_rhythm'), ('up_leaping', 'fast_rhythm', 'triplet'), ('up_leaping', 'fast_rhythm', 'One_rhythm', 'staccato'), ('up_leaping', 'fast_rhythm', 'One_rhythm', 'continuing_rhythm'), ('up_leaping', 'fast_rhythm', 'One_rhythm'), ('up_leaping', 'fast_rhythm', 'staccato'), ('up_leaping', 'fast_rhythm', 'continuing_rhythm'), ('up_leaping', 'fast_rhythm'), ('up_leaping', 'triplet', 'One_rhythm', 'staccato'), ('up_leaping', 'triplet', 'One_rhythm', 'continuing_rhythm'), ('up_leaping', 'triplet', 'One_rhythm'), ('up_leaping', 'triplet', 'staccato'), ('up_leaping', 'triplet', 'continuing_rhythm'), ('up_leaping', 'triplet'), ('up_leaping', 'One_rhythm', 'staccato'), ('up_leaping', 'One_rhythm', 'continuing_rhythm'), ('up_leaping', 'One_rhythm'), ('up_leaping', 'staccato'), ('up_leaping', 'continuing_rhythm'), ('up_leaping',), ('down_leaping', 'resting', 'triplet', 'One_rhythm', 'staccato'), ('down_leaping', 'resting', 'triplet', 'One_rhythm', 'continuing_rhythm'), ('down_leaping', 'resting', 'triplet', 'One_rhythm'), ('down_leaping', 'resting', 'triplet', 'staccato'), ('down_leaping', 'resting', 'triplet', 'continuing_rhythm'), ('down_leaping', 'resting', 'triplet'), ('down_leaping', 'resting', 'One_rhythm', 'staccato'), ('down_leaping', 'resting', 'One_rhythm', 'continuing_rhythm'), ('down_leaping', 'resting', 'One_rhythm'), ('down_leaping', 'resting', 'staccato'), ('down_leaping', 'resting', 'continuing_rhythm'), ('down_leaping', 'resting'), ('down_leaping', 'fast_rhythm', 'triplet', 'One_rhythm', 'staccato'), ('down_leaping', 'fast_rhythm', 'triplet', 'One_rhythm', 'continuing_rhythm'), ('down_leaping', 'fast_rhythm', 'triplet', 'One_rhythm'), ('down_leaping', 'fast_rhythm', 'triplet', 'staccato'), ('down_leaping', 'fast_rhythm', 'triplet', 'continuing_rhythm'), ('down_leaping', 'fast_rhythm', 'triplet'), ('down_leaping', 'fast_rhythm', 'One_rhythm', 'staccato'), ('down_leaping', 'fast_rhythm', 'One_rhythm', 'continuing_rhythm'), ('down_leaping', 'fast_rhythm', 'One_rhythm'), ('down_leaping', 'fast_rhythm', 'staccato'), ('down_leaping', 'fast_rhythm', 'continuing_rhythm'), ('down_leaping', 'fast_rhythm'), ('down_leaping', 'triplet', 'One_rhythm', 'staccato'), ('down_leaping', 'triplet', 'One_rhythm', 'continuing_rhythm'), ('down_leaping', 'triplet', 'One_rhythm'), ('down_leaping', 'triplet', 'staccato'), ('down_leaping', 'triplet', 'continuing_rhythm'), ('down_leaping', 'triplet'), ('down_leaping', 'One_rhythm', 'staccato'), ('down_leaping', 'One_rhythm', 'continuing_rhythm'), ('down_leaping', 'One_rhythm'), ('down_leaping', 'staccato'), ('down_leaping', 'continuing_rhythm'), ('down_leaping',), ('steping_twisting', 'resting', 'triplet', 'One_rhythm', 'staccato'), ('steping_twisting', 'resting', 'triplet', 'One_rhythm', 'continuing_rhythm'), ('steping_twisting', 'resting', 'triplet', 'One_rhythm'), ('steping_twisting', 'resting', 'triplet', 'staccato'), ('steping_twisting', 'resting', 'triplet', 'continuing_rhythm'), ('steping_twisting', 'resting', 'triplet'), ('steping_twisting', 'resting', 'One_rhythm', 'staccato'), ('steping_twisting', 'resting', 'One_rhythm', 'continuing_rhythm'), ('steping_twisting', 'resting', 'One_rhythm'), ('steping_twisting', 'resting', 'staccato'), ('steping_twisting', 'resting', 'continuing_rhythm'), ('steping_twisting', 'resting'), ('steping_twisting', 'fast_rhythm', 'triplet', 'One_rhythm', 'staccato'), ('steping_twisting', 'fast_rhythm', 'triplet', 'One_rhythm', 'continuing_rhythm'), ('steping_twisting', 'fast_rhythm', 'triplet', 'One_rhythm'), ('steping_twisting', 'fast_rhythm', 'triplet', 'staccato'), ('steping_twisting', 'fast_rhythm', 'triplet', 'continuing_rhythm'), ('steping_twisting', 'fast_rhythm', 'triplet'), ('steping_twisting', 'fast_rhythm', 'One_rhythm', 'staccato'), ('steping_twisting', 'fast_rhythm', 'One_rhythm', 'continuing_rhythm'), ('steping_twisting', 'fast_rhythm', 'One_rhythm'), ('steping_twisting', 'fast_rhythm', 'staccato'), ('steping_twisting', 'fast_rhythm', 'continuing_rhythm'), ('steping_twisting', 'fast_rhythm'), ('steping_twisting', 'triplet', 'One_rhythm', 'staccato'), ('steping_twisting', 'triplet', 'One_rhythm', 'continuing_rhythm'), ('steping_twisting', 'triplet', 'One_rhythm'), ('steping_twisting', 'triplet', 'staccato'), ('steping_twisting', 'triplet', 'continuing_rhythm'), ('steping_twisting', 'triplet'), ('steping_twisting', 'One_rhythm', 'staccato'), ('steping_twisting', 'One_rhythm', 'continuing_rhythm'), ('steping_twisting', 'One_rhythm'), ('steping_twisting', 'staccato'), ('steping_twisting', 'continuing_rhythm'), ('steping_twisting',), ('leaping_twisting', 'resting', 'triplet', 'One_rhythm', 'staccato'), ('leaping_twisting', 'resting', 'triplet', 'One_rhythm', 'continuing_rhythm'), ('leaping_twisting', 'resting', 'triplet', 'One_rhythm'), ('leaping_twisting', 'resting', 'triplet', 'staccato'), ('leaping_twisting', 'resting', 'triplet', 'continuing_rhythm'), ('leaping_twisting', 'resting', 'triplet'), ('leaping_twisting', 'resting', 'One_rhythm', 'staccato'), ('leaping_twisting', 'resting', 'One_rhythm', 'continuing_rhythm'), ('leaping_twisting', 'resting', 'One_rhythm'), ('leaping_twisting', 'resting', 'staccato'), ('leaping_twisting', 'resting', 'continuing_rhythm'), ('leaping_twisting', 'resting'), ('leaping_twisting', 'fast_rhythm', 'triplet', 'One_rhythm', 'staccato'), ('leaping_twisting', 'fast_rhythm', 'triplet', 'One_rhythm', 'continuing_rhythm'), ('leaping_twisting', 'fast_rhythm', 'triplet', 'One_rhythm'), ('leaping_twisting', 'fast_rhythm', 'triplet', 'staccato'), ('leaping_twisting', 'fast_rhythm', 'triplet', 'continuing_rhythm'), ('leaping_twisting', 'fast_rhythm', 'triplet'), ('leaping_twisting', 'fast_rhythm', 'One_rhythm', 'staccato'), ('leaping_twisting', 'fast_rhythm', 'One_rhythm', 'continuing_rhythm'), ('leaping_twisting', 'fast_rhythm', 'One_rhythm'), ('leaping_twisting', 'fast_rhythm', 'staccato'), ('leaping_twisting', 'fast_rhythm', 'continuing_rhythm'), ('leaping_twisting', 'fast_rhythm'), ('leaping_twisting', 'triplet', 'One_rhythm', 'staccato'), ('leaping_twisting', 'triplet', 'One_rhythm', 'continuing_rhythm'), ('leaping_twisting', 'triplet', 'One_rhythm'), ('leaping_twisting', 'triplet', 'staccato'), ('leaping_twisting', 'triplet', 'continuing_rhythm'), ('leaping_twisting', 'triplet'), ('leaping_twisting', 'One_rhythm', 'staccato'), ('leaping_twisting', 'One_rhythm', 'continuing_rhythm'), ('leaping_twisting', 'One_rhythm'), ('leaping_twisting', 'staccato'), ('leaping_twisting', 'continuing_rhythm'), ('leaping_twisting',), ('resting', 'triplet', 'One_rhythm', 'staccato'), ('resting', 'triplet', 'One_rhythm', 'continuing_rhythm'), ('resting', 'triplet', 'One_rhythm'), ('resting', 'triplet', 'staccato'), ('resting', 'triplet', 'continuing_rhythm'), ('resting', 'triplet'), ('resting', 'One_rhythm', 'staccato'), ('resting', 'One_rhythm', 'continuing_rhythm'), ('resting', 'One_rhythm'), ('resting', 'staccato'), ('resting', 'continuing_rhythm'), ('resting',), ('fast_rhythm', 'triplet', 'One_rhythm', 'staccato'), ('fast_rhythm', 'triplet', 'One_rhythm', 'continuing_rhythm'), ('fast_rhythm', 'triplet', 'One_rhythm'), ('fast_rhythm', 'triplet', 'staccato'), ('fast_rhythm', 'triplet', 'continuing_rhythm'), ('fast_rhythm', 'triplet'), ('fast_rhythm', 'One_rhythm', 'staccato'), ('fast_rhythm', 'One_rhythm', 'continuing_rhythm'), ('fast_rhythm', 'One_rhythm'), ('fast_rhythm', 'staccato'), ('fast_rhythm', 'continuing_rhythm'), ('fast_rhythm',), ('triplet', 'One_rhythm', 'staccato'), ('triplet', 'One_rhythm', 'continuing_rhythm'), ('triplet', 'One_rhythm'), ('triplet', 'staccato'), ('triplet', 'continuing_rhythm'), ('triplet',), ('One_rhythm', 'staccato'), ('One_rhythm', 'continuing_rhythm'), ('One_rhythm',), ('staccato',), ('continuing_rhythm',), ()]\n"
          ],
          "name": "stdout"
        }
      ]
    },
    {
      "cell_type": "code",
      "metadata": {
        "id": "93yFDiw86QyN",
        "colab_type": "code",
        "colab": {}
      },
      "source": [
        "valid_matrix=np.array(all_matrix[7000:8000])\n",
        "valid_label=np.array(all_labels[7000:8000])\n",
        "test_matrix=np.array(all_matrix[8000:])\n",
        "test_label=np.array(all_labels[8000:])#어쩌면 쓸수도?\n",
        "mlb=MultiLabelBinarizer()\n",
        "labels=set_labels()\n",
        "mlb.fit(labels)\n",
        "train_label2=mlb.transform(train_label)\n",
        "valid_label2=mlb.transform(valid_label)\n",
        "test_label2=mlb.transform(test_label)\n"
      ],
      "execution_count": 26,
      "outputs": []
    },
    {
      "cell_type": "code",
      "metadata": {
        "id": "flwJh4SmmzuG",
        "colab_type": "code",
        "colab": {}
      },
      "source": [
        "all_matrix=[]\n",
        "all_labels=[]"
      ],
      "execution_count": 27,
      "outputs": []
    },
    {
      "cell_type": "code",
      "metadata": {
        "id": "Rb3xLrR99Rk8",
        "colab_type": "code",
        "colab": {
          "base_uri": "https://localhost:8080/",
          "height": 174
        },
        "outputId": "1ea777b8-a1db-4756-a670-e000b6b1b1c3"
      },
      "source": [
        "print(train_matrix.shape)\n",
        "print(train_label2)\n",
        "print(valid_matrix.shape)"
      ],
      "execution_count": 28,
      "outputs": [
        {
          "output_type": "stream",
          "text": [
            "(7000, 112, 96, 1)\n",
            "[[0 0 0 ... 0 0 0]\n",
            " [0 0 0 ... 0 0 0]\n",
            " [0 0 0 ... 0 0 0]\n",
            " ...\n",
            " [1 0 1 ... 0 0 0]\n",
            " [0 0 0 ... 0 0 0]\n",
            " [0 0 1 ... 0 0 0]]\n",
            "(1000, 112, 96, 1)\n"
          ],
          "name": "stdout"
        }
      ]
    },
    {
      "cell_type": "code",
      "metadata": {
        "id": "LkGYxpDB8ky9",
        "colab_type": "code",
        "colab": {}
      },
      "source": [
        "import keras.applications\n",
        "from keras import regularizers\n",
        "from keras.applications import VGG16\n",
        "from keras.applications import resnet50\n",
        "from keras import layers\n",
        "def residual_block(filter, input, add=True):\n",
        "  with tf.device('/gpu:0'):\n",
        "    layer_1 = keras.layers.Conv2D(filters=filter//4, kernel_size=(1, 1), data_format=\"channels_first\")(input)\n",
        "    layer_2 = keras.layers.Conv2D(filters=filter//4, kernel_size=(3, 3), padding='same', data_format=\"channels_first\", kernel_regularizer=keras.regularizers.l2(0.001))(layer_1)\n",
        "    layer_2 = keras.layers.BatchNormalization()(layer_2)\n",
        "    layer_2 = keras.layers.ReLU()(layer_2)\n",
        "    layer_3 = keras.layers.Conv2D(filters=filter, kernel_size=(1, 1), data_format=\"channels_first\")(layer_2)\n",
        "    layer_3 = keras.layers.BatchNormalization()(layer_3)\n",
        "    if add:\n",
        "        layer_3 = keras.layers.add([input, layer_3])\n",
        "    layer_3 = keras.layers.ReLU()(layer_3)\n",
        "    return layer_3\n",
        "def make_model():\n",
        "  with tf.device('/gpu:0'):\n",
        "    input_layer = keras.Input(shape=(112, 96, 1))\n",
        "    layer_1 = keras.layers.Conv2D(filters=64, kernel_size=(7, 7), padding='same', data_format=\"channels_first\")(input_layer)\n",
        "    block_1 = residual_block(64, layer_1)\n",
        "    #block_2 = residual_block(64, block_1)\n",
        "    #block_3 = residual_block(64, block_2)\n",
        "    pooling_layer = keras.layers.MaxPool2D((2, 2),padding='same', data_format=\"channels_first\")(block_1)\n",
        "    block_4 = residual_block(128, pooling_layer, add=False)\n",
        "    block_5 = residual_block(128, block_4)\n",
        "    #block_6 = residual_block(128, block_5)\n",
        "    pooling_layer2 = keras.layers.MaxPool2D(padding='same',pool_size=(2, 2), data_format=\"channels_first\")(block_4)\n",
        "    block_7 = residual_block(256, pooling_layer2, add=False)\n",
        "    block_8 = residual_block(256, block_7)\n",
        "    block_9 = residual_block(256, block_8)\n",
        "    #pooling_layer4 = keras.layers.MaxPool2D(pool_size=(2, 2), data_format=\"channels_first\")(block_7)\n",
        "    #block_10 = residual_block(256, pooling_layer4)\n",
        "    #block_11 = residual_block(512, block_10)\n",
        "    pooling_layer3 = keras.layers.AvgPool2D(padding='same',pool_size=(8, 8), data_format=\"channels_first\")(block_7)\n",
        "    last_layer = keras.layers.Flatten()(pooling_layer3)\n",
        "    last_layer = keras.layers.Dropout(0.4)(last_layer)\n",
        "    last_layer = keras.layers.Dense(13, activation=\"sigmoid\")(last_layer)\n",
        "    return keras.models.Model(inputs=input_layer, outputs=last_layer)\n",
        "def make_classifier():\n",
        "  with tf.device('/gpu:0'):\n",
        "    classifier = Sequential()\n",
        "    classifier.add(layers.Conv2D(128, kernel_size=(5, 5), strides=(1, 1), padding='same',\n",
        "                  activation='relu',\n",
        "                  input_shape=(112,96,1)))\n",
        "    classifier.add(layers.BatchNormalization())\n",
        "    classifier.add(layers.advanced_activations.LeakyReLU(alpha=0.01))\n",
        "    classifier.add(layers.Conv2D(128, (2, 2), activation='relu', padding='same'))\n",
        "    classifier.add(layers.MaxPooling2D(pool_size=(2, 2), strides=(2, 2)))\n",
        "    classifier.add(layers.Conv2D(256, (2, 2), padding='same'))\n",
        "    classifier.add(layers.advanced_activations.LeakyReLU(alpha=0.01))\n",
        "    classifier.add(layers.MaxPooling2D(pool_size=(2, 2)))\n",
        "    classifier.add(layers.Flatten())\n",
        "    classifier.add(layers.Dropout(0.25))\n",
        "    classifier.add(Dense(13, activation='sigmoid'))\n",
        "  return classifier"
      ],
      "execution_count": 29,
      "outputs": []
    },
    {
      "cell_type": "code",
      "metadata": {
        "id": "zn-X5lReh2ok",
        "colab_type": "code",
        "colab": {}
      },
      "source": [
        "from keras.callbacks import EarlyStopping, ReduceLROnPlateau, ModelCheckpoint\n",
        "model_path = '/content/drive/My Drive/models/' + 'deeperppddbest.h5'\n",
        "\n",
        "cb_checkpoint = ModelCheckpoint(filepath=model_path, monitor='val_accuracy',\n",
        "                                verbose=1, save_best_only=True)\n",
        "callbacks = [cb_checkpoint]"
      ],
      "execution_count": 30,
      "outputs": []
    },
    {
      "cell_type": "code",
      "metadata": {
        "id": "uf1jJnIxemG0",
        "colab_type": "code",
        "colab": {}
      },
      "source": [
        "from keras import backend as K\n",
        "def recall(y_target, y_pred):\n",
        "    # clip(t, clip_value_min, clip_value_max) : clip_value_min~clip_value_max 이외 가장자리를 깎아 낸다\n",
        "    # round : 반올림한다\n",
        "    y_target_yn = K.round(K.clip(y_target, 0, 1)) # 실제값을 0(Negative) 또는 1(Positive)로 설정한다\n",
        "    y_pred_yn = K.round(K.clip(y_pred, 0, 1)) # 예측값을 0(Negative) 또는 1(Positive)로 설정한다\n",
        "\n",
        "    # True Positive는 실제 값과 예측 값이 모두 1(Positive)인 경우이다\n",
        "    count_true_positive = K.sum(y_target_yn * y_pred_yn) \n",
        "\n",
        "    # (True Positive + False Negative) = 실제 값이 1(Positive) 전체\n",
        "    count_true_positive_false_negative = K.sum(y_target_yn)\n",
        "\n",
        "    # Recall =  (True Positive) / (True Positive + False Negative)\n",
        "    # K.epsilon()는 'divide by zero error' 예방차원에서 작은 수를 더한다\n",
        "    recall = count_true_positive / (count_true_positive_false_negative + K.epsilon())\n",
        "\n",
        "    # return a single tensor value\n",
        "    return recall\n",
        "\n",
        "\n",
        "def precision(y_target, y_pred):\n",
        "    # clip(t, clip_value_min, clip_value_max) : clip_value_min~clip_value_max 이외 가장자리를 깎아 낸다\n",
        "    # round : 반올림한다\n",
        "    y_pred_yn = K.round(K.clip(y_pred, 0, 1)) # 예측값을 0(Negative) 또는 1(Positive)로 설정한다\n",
        "    y_target_yn = K.round(K.clip(y_target, 0, 1)) # 실제값을 0(Negative) 또는 1(Positive)로 설정한다\n",
        "\n",
        "    # True Positive는 실제 값과 예측 값이 모두 1(Positive)인 경우이다\n",
        "    count_true_positive = K.sum(y_target_yn * y_pred_yn) \n",
        "\n",
        "    # (True Positive + False Positive) = 예측 값이 1(Positive) 전체\n",
        "    count_true_positive_false_positive = K.sum(y_pred_yn)\n",
        "\n",
        "    # Precision = (True Positive) / (True Positive + False Positive)\n",
        "    # K.epsilon()는 'divide by zero error' 예방차원에서 작은 수를 더한다\n",
        "    precision = count_true_positive / (count_true_positive_false_positive + K.epsilon())\n",
        "\n",
        "    # return a single tensor value\n",
        "    return precision\n",
        "\n",
        "\n",
        "def f1score(y_target, y_pred):\n",
        "    _recall = recall(y_target, y_pred)\n",
        "    _precision = precision(y_target, y_pred)\n",
        "    # K.epsilon()는 'divide by zero error' 예방차원에서 작은 수를 더한다\n",
        "    _f1score = ( 2 * _recall * _precision) / (_recall + _precision+ K.epsilon())\n",
        "    \n",
        "    # return a single tensor value\n",
        "    return _f1score\n"
      ],
      "execution_count": 31,
      "outputs": []
    },
    {
      "cell_type": "code",
      "metadata": {
        "id": "V2Nx8Ygs-I6_",
        "colab_type": "code",
        "colab": {
          "base_uri": "https://localhost:8080/",
          "height": 160
        },
        "outputId": "963d78dc-d75c-4ab2-d1df-2a27b87e7105"
      },
      "source": [
        "classifier=make_classifier()\n",
        "classifier.compile(loss=keras.losses.BinaryCrossentropy(\n",
        "      from_logits=False, label_smoothing=0.1, \n",
        "      name='binary_crossentropy'\n",
        "  ), optimizer='adam', metrics=['accuracy',recall,precision,f1score])\n",
        "\"\"\"\n",
        "hist=classifier.fit(\n",
        "      train_matrix,train_label2,batch_size=256,\n",
        "      epochs=150,\n",
        "      validation_data=(valid_matrix,valid_label2),\n",
        "      callbacks=callbacks,\n",
        "  )\n",
        "\"\"\"\n",
        "#실제 학습\n"
      ],
      "execution_count": 33,
      "outputs": [
        {
          "output_type": "stream",
          "text": [
            "WARNING:tensorflow:From /usr/local/lib/python3.6/dist-packages/keras/backend/tensorflow_backend.py:4070: The name tf.nn.max_pool is deprecated. Please use tf.nn.max_pool2d instead.\n",
            "\n",
            "WARNING:tensorflow:From /usr/local/lib/python3.6/dist-packages/tensorflow_core/python/ops/nn_impl.py:183: where (from tensorflow.python.ops.array_ops) is deprecated and will be removed in a future version.\n",
            "Instructions for updating:\n",
            "Use tf.where in 2.0, which has the same broadcast rule as np.where\n"
          ],
          "name": "stdout"
        },
        {
          "output_type": "execute_result",
          "data": {
            "application/vnd.google.colaboratory.intrinsic+json": {
              "type": "string"
            },
            "text/plain": [
              "'\\nhist=classifier.fit(\\n      train_matrix,train_label2,batch_size=256,\\n      epochs=150,\\n      validation_data=(valid_matrix,valid_label2),\\n      callbacks=callbacks,\\n  )\\n'"
            ]
          },
          "metadata": {
            "tags": []
          },
          "execution_count": 33
        }
      ]
    },
    {
      "cell_type": "code",
      "metadata": {
        "id": "76EtBzIJsfJM",
        "colab_type": "code",
        "colab": {}
      },
      "source": [
        "%matplotlib inline\n",
        "import matplotlib.pyplot as plt\n",
        "\n",
        "fig, loss_ax = plt.subplots()\n",
        "\n",
        "acc_ax = loss_ax.twinx()\n",
        "\n",
        "loss_ax.plot(hist.history['loss'], 'y', label='train loss')\n",
        "loss_ax.plot(hist.history['val_loss'], 'r', label='val loss')\n",
        "\n",
        "acc_ax.plot(hist.history['accuracy'], 'b', label='train acc')\n",
        "acc_ax.plot(hist.history['val_accuracy'], 'g', label='val acc')\n",
        "\n",
        "loss_ax.set_xlabel('epoch')\n",
        "loss_ax.set_ylabel('loss')\n",
        "acc_ax.set_ylabel('accuracy')\n",
        "\n",
        "loss_ax.legend(loc='upper left')\n",
        "acc_ax.legend(loc='lower left')\n",
        "\n",
        "plt.show()"
      ],
      "execution_count": null,
      "outputs": []
    },
    {
      "cell_type": "code",
      "metadata": {
        "id": "6T9qKNfNsuTv",
        "colab_type": "code",
        "colab": {}
      },
      "source": [
        "%matplotlib inline\n",
        "import matplotlib.pyplot as plt\n",
        "\n",
        "fig, recall_ax = plt.subplots()\n",
        "\n",
        "\n",
        "recall_ax.plot(hist.history['recall'], 'y', label='recall')\n",
        "recall_ax.plot(hist.history['val_recall'], 'r', label='valid recall')\n",
        "\n",
        "recall_ax.plot(hist.history['f1score'], 'b', label='f1score')\n",
        "recall_ax.plot(hist.history['val_f1score'], 'g', label='valid f1score')\n",
        "\n",
        "recall_ax.plot(hist.history['precision'], 'c', label='precision')\n",
        "recall_ax.plot(hist.history['val_precision'], 'k', label='valid precision')\n",
        "\n",
        "recall_ax.set_xlabel('epoch')\n",
        "recall_ax.set_ylabel('score')\n",
        "\n",
        "recall_ax.legend(loc='upper left')\n",
        "\n",
        "plt.show()"
      ],
      "execution_count": null,
      "outputs": []
    },
    {
      "cell_type": "code",
      "metadata": {
        "id": "oQ-K9Y2vFN2O",
        "colab_type": "code",
        "colab": {
          "base_uri": "https://localhost:8080/",
          "height": 72
        },
        "outputId": "83f503c4-1b1c-453c-c42c-3b74fcc83563"
      },
      "source": [
        "  classifier.load_weights(\"/content/drive/My Drive/models/deeperppddbest.h5\")\n",
        "  testresult=classifier.predict(test_matrix)"
      ],
      "execution_count": 34,
      "outputs": [
        {
          "output_type": "stream",
          "text": [
            "WARNING:tensorflow:From /usr/local/lib/python3.6/dist-packages/keras/backend/tensorflow_backend.py:422: The name tf.global_variables is deprecated. Please use tf.compat.v1.global_variables instead.\n",
            "\n"
          ],
          "name": "stdout"
        }
      ]
    },
    {
      "cell_type": "code",
      "metadata": {
        "id": "N2XAN8kzN3gp",
        "colab_type": "code",
        "colab": {
          "base_uri": "https://localhost:8080/",
          "height": 139
        },
        "outputId": "676b13f9-4634-49e0-a430-d05b2bad63a5"
      },
      "source": [
        "print(testresult)"
      ],
      "execution_count": 35,
      "outputs": [
        {
          "output_type": "stream",
          "text": [
            "[[0.02412766 0.00825545 0.10978642 ... 0.06380448 0.11407655 0.09101918]\n",
            " [0.04916182 0.08376613 0.10656115 ... 0.05290043 0.20955157 0.08715132]\n",
            " [0.07511729 0.21118662 0.24285996 ... 0.06333688 0.2654411  0.03641638]\n",
            " ...\n",
            " [0.17370418 0.0964689  0.18408927 ... 0.05215326 0.06456864 0.6648702 ]\n",
            " [0.09529608 0.16864139 0.017066   ... 0.04306781 0.01733977 0.7136452 ]\n",
            " [0.01621872 0.02903935 0.08681884 ... 0.13189471 0.26916724 0.42092043]]\n"
          ],
          "name": "stdout"
        }
      ]
    },
    {
      "cell_type": "code",
      "metadata": {
        "id": "mFucJZONFnqX",
        "colab_type": "code",
        "colab": {
          "base_uri": "https://localhost:8080/",
          "height": 72
        },
        "outputId": "fbbbad4d-747e-4dbe-d6ab-3b562dba9e99"
      },
      "source": [
        "def get_tag_results(testresult,test_label2):  \n",
        "  classnum={}\n",
        "  testnum={}\n",
        "  resultmat=[]\n",
        "  bestmat=[]\n",
        "  for i in range(len(testresult)):\n",
        "    eval_result=[0 for i in range(13)]\n",
        "    best_result=[0 for i in range(13)]\n",
        "    class_num=np.count_nonzero(test_label2[i]==1)+1\n",
        "    classidx=(-testresult[i]).argsort()[:class_num]\n",
        "    for k,j in enumerate(classidx):\n",
        "      if (k==0):\n",
        "        best_result[j]=1\n",
        "      eval_result[j]=1\n",
        "    resultmat.append(eval_result)\n",
        "    bestmat.append(best_result)\n",
        "    test_result2=copy.deepcopy(testresult)\n",
        "    test_result2[np.where(test_result2>0.30)]=1\n",
        "    test_result2[np.where(test_result2<=0.30)]=0\n",
        "  resultmat=np.array(resultmat)\n",
        "  bestmat=np.array(bestmat)\n",
        "  testidx=mlb.inverse_transform(resultmat)\n",
        "  classidx=mlb.inverse_transform(test_label2)\n",
        "  testidx2=mlb.inverse_transform(test_result2)\n",
        "  bestidx=mlb.inverse_transform(bestmat)\n",
        "  for i in range(len(testidx)):  \n",
        "    #print(bestidx[i],testidx2[i],testidx[i], classidx[i],i) # 값이 0.30 이상인 set, 원래 Label보다 1개 많이 보여주는 내림차순 set, 원래 label set 순서이다. \n",
        "    for classes in classidx[i]:\n",
        "      if (classes not in classnum):\n",
        "        classnum[classes]=1\n",
        "      else:\n",
        "        classnum[classes]+=1\n",
        "    for classes in testidx[i]:\n",
        "      if (classes not in testnum):\n",
        "        testnum[classes]=1\n",
        "      else:\n",
        "        testnum[classes]+=1\n",
        "  print(classnum, testnum)\n",
        "  return bestidx, testidx2, testidx, classidx#가장 높은거, 0.30이상인 set, 원래의 Label보다 1개 많이 보여주는 내림차순, 원래 Label\n",
        "best=get_tag_results(testresult,test_label2)[0]\n",
        "print(best)"
      ],
      "execution_count": 36,
      "outputs": [
        {
          "output_type": "stream",
          "text": [
            "{'resting': 138, 'One_rhythm': 112, 'continuing_rhythm': 107, 'leaping_twisting': 187, 'down_leaping': 103, 'up_leaping': 113, 'fast_rhythm': 98, 'staccato': 102, 'steping_twisting': 47, 'triplet': 149, 'up_steping': 106, 'down_steping': 51, 'repeating': 79} {'resting': 189, 'staccato': 142, 'up_leaping': 232, 'leaping_twisting': 254, 'One_rhythm': 225, 'continuing_rhythm': 164, 'down_leaping': 152, 'fast_rhythm': 121, 'steping_twisting': 70, 'up_steping': 180, 'repeating': 144, 'triplet': 165, 'down_steping': 78}\n",
            "[('resting',), ('resting',), ('resting',), ('resting',), ('resting',), ('resting',), ('resting',), ('resting',), ('resting',), ('resting',), ('resting',), ('resting',), ('resting',), ('resting',), ('resting',), ('resting',), ('resting',), ('resting',), ('resting',), ('resting',), ('resting',), ('resting',), ('resting',), ('resting',), ('resting',), ('resting',), ('resting',), ('resting',), ('resting',), ('resting',), ('resting',), ('resting',), ('resting',), ('resting',), ('resting',), ('resting',), ('resting',), ('resting',), ('resting',), ('resting',), ('resting',), ('resting',), ('One_rhythm',), ('One_rhythm',), ('leaping_twisting',), ('leaping_twisting',), ('One_rhythm',), ('One_rhythm',), ('One_rhythm',), ('One_rhythm',), ('One_rhythm',), ('One_rhythm',), ('leaping_twisting',), ('leaping_twisting',), ('One_rhythm',), ('One_rhythm',), ('down_leaping',), ('staccato',), ('staccato',), ('fast_rhythm',), ('staccato',), ('fast_rhythm',), ('staccato',), ('One_rhythm',), ('staccato',), ('One_rhythm',), ('staccato',), ('One_rhythm',), ('staccato',), ('staccato',), ('fast_rhythm',), ('staccato',), ('staccato',), ('fast_rhythm',), ('staccato',), ('One_rhythm',), ('staccato',), ('One_rhythm',), ('staccato',), ('One_rhythm',), ('staccato',), ('fast_rhythm',), ('fast_rhythm',), ('fast_rhythm',), ('staccato',), ('fast_rhythm',), ('leaping_twisting',), ('staccato',), ('staccato',), ('resting',), ('up_leaping',), ('leaping_twisting',), ('leaping_twisting',), ('repeating',), ('up_steping',), ('One_rhythm',), ('up_steping',), ('up_steping',), ('down_steping',), ('One_rhythm',), ('resting',), ('repeating',), ('leaping_twisting',), ('staccato',), ('staccato',), ('down_steping',), ('leaping_twisting',), ('down_leaping',), ('resting',), ('leaping_twisting',), ('leaping_twisting',), ('down_steping',), ('continuing_rhythm',), ('up_steping',), ('up_leaping',), ('resting',), ('continuing_rhythm',), ('resting',), ('up_leaping',), ('resting',), ('resting',), ('resting',), ('resting',), ('resting',), ('resting',), ('resting',), ('continuing_rhythm',), ('up_leaping',), ('One_rhythm',), ('resting',), ('resting',), ('resting',), ('resting',), ('resting',), ('resting',), ('One_rhythm',), ('continuing_rhythm',), ('resting',), ('resting',), ('resting',), ('resting',), ('resting',), ('resting',), ('resting',), ('resting',), ('resting',), ('resting',), ('resting',), ('resting',), ('up_steping',), ('triplet',), ('leaping_twisting',), ('up_steping',), ('triplet',), ('triplet',), ('triplet',), ('leaping_twisting',), ('up_leaping',), ('up_leaping',), ('up_leaping',), ('triplet',), ('up_steping',), ('leaping_twisting',), ('leaping_twisting',), ('leaping_twisting',), ('leaping_twisting',), ('leaping_twisting',), ('leaping_twisting',), ('leaping_twisting',), ('leaping_twisting',), ('leaping_twisting',), ('leaping_twisting',), ('leaping_twisting',), ('leaping_twisting',), ('leaping_twisting',), ('up_steping',), ('leaping_twisting',), ('leaping_twisting',), ('leaping_twisting',), ('leaping_twisting',), ('leaping_twisting',), ('leaping_twisting',), ('leaping_twisting',), ('leaping_twisting',), ('leaping_twisting',), ('leaping_twisting',), ('leaping_twisting',), ('up_steping',), ('up_steping',), ('resting',), ('staccato',), ('staccato',), ('leaping_twisting',), ('leaping_twisting',), ('leaping_twisting',), ('staccato',), ('leaping_twisting',), ('leaping_twisting',), ('leaping_twisting',), ('staccato',), ('leaping_twisting',), ('leaping_twisting',), ('leaping_twisting',), ('staccato',), ('leaping_twisting',), ('leaping_twisting',), ('leaping_twisting',), ('staccato',), ('staccato',), ('staccato',), ('up_leaping',), ('up_leaping',), ('One_rhythm',), ('up_steping',), ('One_rhythm',), ('triplet',), ('resting',), ('triplet',), ('triplet',), ('up_steping',), ('continuing_rhythm',), ('continuing_rhythm',), ('up_steping',), ('up_steping',), ('triplet',), ('triplet',), ('resting',), ('up_steping',), ('triplet',), ('down_steping',), ('triplet',), ('leaping_twisting',), ('leaping_twisting',), ('triplet',), ('triplet',), ('up_steping',), ('triplet',), ('down_steping',), ('leaping_twisting',), ('triplet',), ('up_steping',), ('triplet',), ('triplet',), ('triplet',), ('triplet',), ('triplet',), ('triplet',), ('down_steping',), ('triplet',), ('resting',), ('staccato',), ('up_leaping',), ('One_rhythm',), ('One_rhythm',), ('down_steping',), ('steping_twisting',), ('continuing_rhythm',), ('up_steping',), ('staccato',), ('up_leaping',), ('One_rhythm',), ('One_rhythm',), ('down_steping',), ('steping_twisting',), ('continuing_rhythm',), ('One_rhythm',), ('leaping_twisting',), ('staccato',), ('One_rhythm',), ('One_rhythm',), ('One_rhythm',), ('down_steping',), ('continuing_rhythm',), ('resting',), ('up_steping',), ('continuing_rhythm',), ('up_steping',), ('down_steping',), ('continuing_rhythm',), ('triplet',), ('continuing_rhythm',), ('leaping_twisting',), ('continuing_rhythm',), ('continuing_rhythm',), ('up_steping',), ('down_steping',), ('continuing_rhythm',), ('triplet',), ('continuing_rhythm',), ('leaping_twisting',), ('One_rhythm',), ('triplet',), ('up_steping',), ('repeating',), ('repeating',), ('up_steping',), ('repeating',), ('repeating',), ('One_rhythm',), ('up_steping',), ('steping_twisting',), ('repeating',), ('repeating',), ('up_steping',), ('One_rhythm',), ('up_steping',), ('leaping_twisting',), ('resting',), ('leaping_twisting',), ('fast_rhythm',), ('leaping_twisting',), ('fast_rhythm',), ('up_steping',), ('triplet',), ('triplet',), ('fast_rhythm',), ('triplet',), ('fast_rhythm',), ('triplet',), ('triplet',), ('fast_rhythm',), ('up_leaping',), ('resting',), ('staccato',), ('staccato',), ('fast_rhythm',), ('staccato',), ('staccato',), ('staccato',), ('staccato',), ('staccato',), ('repeating',), ('staccato',), ('staccato',), ('down_steping',), ('fast_rhythm',), ('fast_rhythm',), ('up_steping',), ('down_steping',), ('fast_rhythm',), ('fast_rhythm',), ('staccato',), ('repeating',), ('staccato',), ('staccato',), ('continuing_rhythm',), ('One_rhythm',), ('continuing_rhythm',), ('fast_rhythm',), ('leaping_twisting',), ('leaping_twisting',), ('leaping_twisting',), ('fast_rhythm',), ('leaping_twisting',), ('leaping_twisting',), ('up_leaping',), ('continuing_rhythm',), ('continuing_rhythm',), ('continuing_rhythm',), ('resting',), ('continuing_rhythm',), ('continuing_rhythm',), ('continuing_rhythm',), ('leaping_twisting',), ('fast_rhythm',), ('leaping_twisting',), ('leaping_twisting',), ('One_rhythm',), ('triplet',), ('One_rhythm',), ('One_rhythm',), ('One_rhythm',), ('One_rhythm',), ('One_rhythm',), ('One_rhythm',), ('One_rhythm',), ('One_rhythm',), ('One_rhythm',), ('triplet',), ('One_rhythm',), ('triplet',), ('One_rhythm',), ('triplet',), ('One_rhythm',), ('One_rhythm',), ('One_rhythm',), ('One_rhythm',), ('One_rhythm',), ('repeating',), ('up_steping',), ('down_steping',), ('resting',), ('continuing_rhythm',), ('repeating',), ('repeating',), ('leaping_twisting',), ('down_steping',), ('up_steping',), ('down_steping',), ('resting',), ('One_rhythm',), ('up_steping',), ('resting',), ('leaping_twisting',), ('continuing_rhythm',), ('repeating',), ('up_steping',), ('up_leaping',), ('down_leaping',), ('triplet',), ('leaping_twisting',), ('down_leaping',), ('leaping_twisting',), ('leaping_twisting',), ('down_leaping',), ('triplet',), ('down_leaping',), ('leaping_twisting',), ('triplet',), ('triplet',), ('leaping_twisting',), ('triplet',), ('triplet',), ('triplet',), ('leaping_twisting',), ('resting',), ('up_steping',), ('up_steping',), ('up_steping',), ('up_steping',), ('up_steping',), ('up_steping',), ('up_steping',), ('up_steping',), ('up_steping',), ('up_steping',), ('up_steping',), ('up_steping',), ('up_steping',), ('up_steping',), ('up_steping',), ('up_steping',), ('up_steping',), ('up_steping',), ('up_steping',), ('up_steping',), ('up_steping',), ('resting',), ('down_leaping',), ('triplet',), ('triplet',), ('triplet',), ('down_steping',), ('triplet',), ('triplet',), ('triplet',), ('resting',), ('leaping_twisting',), ('resting',), ('triplet',), ('triplet',), ('triplet',), ('down_leaping',), ('triplet',), ('resting',), ('One_rhythm',), ('One_rhythm',), ('One_rhythm',), ('leaping_twisting',), ('resting',), ('steping_twisting',), ('down_leaping',), ('repeating',), ('repeating',), ('repeating',), ('repeating',), ('repeating',), ('repeating',), ('repeating',), ('down_leaping',), ('up_steping',), ('resting',), ('up_steping',), ('steping_twisting',), ('down_leaping',), ('resting',), ('up_leaping',), ('down_leaping',), ('repeating',), ('leaping_twisting',), ('staccato',), ('repeating',), ('up_steping',), ('staccato',), ('leaping_twisting',), ('repeating',), ('up_steping',), ('staccato',), ('leaping_twisting',), ('staccato',), ('staccato',), ('staccato',), ('staccato',), ('staccato',), ('staccato',), ('staccato',), ('staccato',), ('staccato',), ('staccato',), ('staccato',), ('staccato',), ('staccato',), ('staccato',), ('staccato',), ('staccato',), ('staccato',), ('staccato',), ('staccato',), ('resting',), ('resting',), ('resting',), ('resting',), ('One_rhythm',), ('One_rhythm',), ('leaping_twisting',), ('leaping_twisting',), ('leaping_twisting',), ('One_rhythm',), ('up_steping',), ('resting',), ('resting',), ('resting',), ('One_rhythm',), ('resting',), ('triplet',), ('triplet',), ('staccato',), ('triplet',), ('leaping_twisting',), ('steping_twisting',), ('down_steping',), ('triplet',), ('continuing_rhythm',), ('fast_rhythm',), ('continuing_rhythm',), ('continuing_rhythm',), ('triplet',), ('fast_rhythm',), ('fast_rhythm',), ('fast_rhythm',), ('triplet',), ('triplet',), ('continuing_rhythm',), ('continuing_rhythm',), ('continuing_rhythm',), ('triplet',), ('down_steping',), ('down_steping',), ('resting',), ('triplet',), ('triplet',), ('triplet',), ('triplet',), ('triplet',), ('triplet',), ('triplet',), ('triplet',), ('triplet',), ('triplet',), ('resting',), ('One_rhythm',), ('One_rhythm',), ('One_rhythm',), ('down_steping',), ('leaping_twisting',), ('leaping_twisting',), ('One_rhythm',), ('up_steping',), ('leaping_twisting',), ('leaping_twisting',), ('One_rhythm',), ('One_rhythm',), ('down_steping',), ('up_leaping',), ('down_steping',), ('up_leaping',), ('down_steping',), ('resting',), ('leaping_twisting',), ('triplet',), ('triplet',), ('triplet',), ('leaping_twisting',), ('triplet',), ('triplet',), ('triplet',), ('leaping_twisting',), ('triplet',), ('triplet',), ('triplet',), ('leaping_twisting',), ('triplet',), ('resting',), ('continuing_rhythm',), ('One_rhythm',), ('leaping_twisting',), ('One_rhythm',), ('continuing_rhythm',), ('One_rhythm',), ('leaping_twisting',), ('continuing_rhythm',), ('continuing_rhythm',), ('leaping_twisting',), ('continuing_rhythm',), ('leaping_twisting',), ('continuing_rhythm',), ('leaping_twisting',), ('continuing_rhythm',), ('One_rhythm',), ('resting',), ('up_steping',), ('leaping_twisting',), ('up_steping',), ('leaping_twisting',), ('up_steping',), ('repeating',), ('down_leaping',), ('leaping_twisting',), ('leaping_twisting',), ('up_steping',), ('up_steping',), ('up_steping',), ('repeating',), ('repeating',), ('repeating',), ('up_steping',), ('One_rhythm',), ('up_steping',), ('leaping_twisting',), ('resting',), ('resting',), ('resting',), ('resting',), ('resting',), ('resting',), ('resting',), ('resting',), ('resting',), ('resting',), ('resting',), ('resting',), ('resting',), ('resting',), ('resting',), ('resting',), ('continuing_rhythm',), ('continuing_rhythm',), ('continuing_rhythm',), ('continuing_rhythm',), ('continuing_rhythm',), ('repeating',), ('continuing_rhythm',), ('continuing_rhythm',), ('continuing_rhythm',), ('continuing_rhythm',), ('continuing_rhythm',), ('continuing_rhythm',), ('continuing_rhythm',), ('repeating',), ('continuing_rhythm',), ('continuing_rhythm',), ('continuing_rhythm',), ('continuing_rhythm',), ('continuing_rhythm',), ('continuing_rhythm',), ('continuing_rhythm',), ('repeating',), ('continuing_rhythm',), ('continuing_rhythm',), ('continuing_rhythm',), ('continuing_rhythm',), ('continuing_rhythm',), ('resting',), ('resting',), ('resting',), ('resting',), ('triplet',), ('resting',), ('down_leaping',), ('triplet',), ('resting',), ('up_leaping',), ('up_leaping',), ('resting',), ('resting',), ('triplet',), ('resting',), ('down_leaping',), ('triplet',), ('resting',), ('up_leaping',), ('up_leaping',), ('resting',), ('resting',), ('resting',), ('resting',), ('resting',), ('resting',), ('resting',), ('resting',), ('up_steping',), ('up_leaping',), ('leaping_twisting',), ('leaping_twisting',), ('leaping_twisting',), ('leaping_twisting',), ('up_steping',), ('leaping_twisting',), ('leaping_twisting',), ('leaping_twisting',), ('leaping_twisting',), ('up_steping',), ('up_steping',), ('resting',)]\n"
          ],
          "name": "stdout"
        }
      ]
    },
    {
      "cell_type": "code",
      "metadata": {
        "id": "eKJiCvrXd5NJ",
        "colab_type": "code",
        "colab": {
          "base_uri": "https://localhost:8080/",
          "height": 238
        },
        "outputId": "2d2d74f5-c2fb-4c90-d525-0622638ba633"
      },
      "source": [
        "H = test_matrix[700].reshape(112,96) #위에 출력에서 나온 숫자 test_matrix['요기']에 적고 출력하면 나옴\n",
        "fig = plt.figure(figsize=(6, 3.2))\n",
        "\n",
        "ax = fig.add_subplot(111)\n",
        "ax.set_title('colorMap')\n",
        "plt.imshow(H)\n",
        "ax.set_aspect('equal')\n",
        "\n",
        "cax = fig.add_axes([0.12, 0.1, 0.78, 0.8])\n",
        "cax.get_xaxis().set_visible(False)\n",
        "cax.get_yaxis().set_visible(False)\n",
        "cax.patch.set_alpha(0)\n",
        "cax.set_frame_on(False)\n",
        "plt.colorbar(orientation='vertical')\n",
        "plt.show()"
      ],
      "execution_count": 38,
      "outputs": [
        {
          "output_type": "display_data",
          "data": {
            "image/png": "[encoded data removed]",
            "text/plain": [
              "<Figure size 432x230.4 with 3 Axes>"
            ]
          },
          "metadata": {
            "tags": [],
            "needs_background": "light"
          }
        }
      ]
    },
    {
      "cell_type": "markdown",
      "metadata": {
        "id": "_1UAO1g3lELo",
        "colab_type": "text"
      },
      "source": [
        "여기부터 GAN의 구현을 해봅니다. "
      ]
    },
    {
      "cell_type": "code",
      "metadata": {
        "id": "dgsQdsiqlC9E",
        "colab_type": "code",
        "colab": {}
      },
      "source": [
        "!pip install -q imageio"
      ],
      "execution_count": null,
      "outputs": []
    },
    {
      "cell_type": "code",
      "metadata": {
        "id": "27spffKwmnaO",
        "colab_type": "code",
        "colab": {}
      },
      "source": [
        "import glob\n",
        "import imageio\n",
        "import matplotlib.pyplot as plt\n",
        "import numpy as np\n",
        "import os\n",
        "import PIL\n",
        "from tensorflow.keras import layers\n",
        "import time\n",
        "\n",
        "from IPython import display"
      ],
      "execution_count": 39,
      "outputs": []
    },
    {
      "cell_type": "code",
      "metadata": {
        "id": "V32sqv0MOOnI",
        "colab_type": "code",
        "colab": {
          "base_uri": "https://localhost:8080/",
          "height": 72
        },
        "outputId": "c27de417-dfb5-42d1-ae8f-cf14c0be24ea"
      },
      "source": [
        "trainX=train_matrix.reshape((7000,112,96))\n",
        "testresult=classifier.predict(train_matrix)\n",
        "trainy=np.array(get_tag_results(testresult,train_label2)[0]).reshape((7000,))\n",
        "print('Train', trainX.shape, trainy.shape)"
      ],
      "execution_count": 41,
      "outputs": [
        {
          "output_type": "stream",
          "text": [
            "{'repeating': 900, 'continuing_rhythm': 1211, 'leaping_twisting': 2090, 'down_leaping': 929, 'up_steping': 1203, 'resting': 843, 'down_steping': 372, 'staccato': 1316, 'up_leaping': 1083, 'triplet': 993, 'One_rhythm': 1551, 'fast_rhythm': 1155, 'steping_twisting': 382} {'staccato': 1807, 'triplet': 1255, 'repeating': 1562, 'continuing_rhythm': 1775, 'leaping_twisting': 2792, 'up_steping': 1874, 'down_leaping': 1711, 'up_leaping': 1839, 'resting': 1322, 'down_steping': 603, 'One_rhythm': 2366, 'fast_rhythm': 1446, 'steping_twisting': 676}\n",
            "Train (7000, 112, 96) (7000,)\n"
          ],
          "name": "stdout"
        }
      ]
    },
    {
      "cell_type": "code",
      "metadata": {
        "id": "XCe1Clvjvz1-",
        "colab_type": "code",
        "colab": {
          "base_uri": "https://localhost:8080/",
          "height": 34
        },
        "outputId": "fcf3d972-6461-4b10-9885-0af87aa2d6a2"
      },
      "source": [
        "from sklearn.preprocessing import LabelEncoder\n",
        "# 라벨 인코더 생성\n",
        "encoder = LabelEncoder()\n",
        "\n",
        "# X_train데이터를 이용 피팅하고 라벨숫자로 변환한다\n",
        "encoder.fit(trainy)\n",
        "trainy = encoder.transform(trainy)\n",
        "print(trainy)\n",
        "trainy=np.array(trainy)"
      ],
      "execution_count": 42,
      "outputs": [
        {
          "output_type": "stream",
          "text": [
            "[ 8 10  6 ...  5  7  2]\n"
          ],
          "name": "stdout"
        }
      ]
    },
    {
      "cell_type": "code",
      "metadata": {
        "id": "OiRvfSRjmyEr",
        "colab_type": "code",
        "colab": {}
      },
      "source": [
        "import numpy as np\n",
        "import scipy as sp\n",
        "import scipy.ndimage\n",
        "def blur_image(matrix):\n",
        "  sigma_y = 1.0\n",
        "  sigma_x = 1.0\n",
        "  inputmat=matrix\n",
        "  \"\"\"\n",
        "  # Plot input array\n",
        "  plt.imshow(inputmat, cmap='Blues', interpolation='nearest')\n",
        "  plt.xlabel(\"$x$\")\n",
        "  plt.ylabel(\"$y$\")\n",
        "  plt.savefig(\"array.png\")\n",
        "  \"\"\"\n",
        "  # Apply gaussian filter\n",
        "  sigma = [sigma_y, sigma_x]\n",
        "  y = sp.ndimage.filters.gaussian_filter(inputmat, sigma, mode='constant')\n",
        "  \"\"\"\n",
        "  # Display filtered array\n",
        "  plt.imshow(y, cmap='Blues', interpolation='nearest')\n",
        "  plt.xlabel(\"$x$\")\n",
        "  plt.ylabel(\"$y$\")\n",
        "  plt.title(\"$\\sigma_x = \" + str(sigma_x) + \"\\quad \\sigma_y = \" + str(sigma_y) + \"$\")\n",
        "  plt.savefig(\"smooth_array_\" + str(sigma_x) + \"_\" + str(sigma_y) + \".png\")\n",
        "  \"\"\"\n",
        "  return y\n"
      ],
      "execution_count": 43,
      "outputs": []
    },
    {
      "cell_type": "code",
      "metadata": {
        "id": "FHYRcDkY4GgB",
        "colab_type": "code",
        "colab": {
          "base_uri": "https://localhost:8080/",
          "height": 139
        },
        "outputId": "13ab3c26-fb11-4e0c-ff63-40738bc081b4"
      },
      "source": [
        "blur_trainX=copy.deepcopy(trainX)\n",
        "for i,matrix in enumerate(trainX):\n",
        "  blur_trainX[i]=blur_image(matrix)\n",
        "trainX=blur_trainX\n",
        "print(trainX[0])"
      ],
      "execution_count": 44,
      "outputs": [
        {
          "output_type": "stream",
          "text": [
            "[[0. 0. 0. ... 0. 0. 0.]\n",
            " [0. 0. 0. ... 0. 0. 0.]\n",
            " [0. 0. 0. ... 0. 0. 0.]\n",
            " ...\n",
            " [0. 0. 0. ... 0. 0. 0.]\n",
            " [0. 0. 0. ... 0. 0. 0.]\n",
            " [0. 0. 0. ... 0. 0. 0.]]\n"
          ],
          "name": "stdout"
        }
      ]
    },
    {
      "cell_type": "code",
      "metadata": {
        "id": "EJr2T_F3wHVK",
        "colab_type": "code",
        "colab": {}
      },
      "source": [
        "#https://github.com/gaborvecsei/CDCGAN-Keras/tree/master/cdcgan\n",
        "#위 깃헙의 코드를 사용하는겁니다\n",
        "import matplotlib\n",
        "\n",
        "matplotlib.use('Agg')\n",
        "from keras import models, layers\n",
        "\n",
        "ACTIVATION = layers.Activation(\"tanh\")\n",
        "\n",
        "\n",
        "def generator_model():\n",
        "  with tf.device('/gpu:0'):\n",
        "    # Prepare noise input\n",
        "    input_z = layers.Input((13,))\n",
        "    dense_z_1 = layers.Dense(1024)(input_z)\n",
        "    act_z_1 = ACTIVATION(dense_z_1)\n",
        "    dense_z_2 = layers.Dense(128 * 28 * 24)(act_z_1)\n",
        "    bn_z_1 = layers.BatchNormalization()(dense_z_2)\n",
        "    reshape_z = layers.Reshape((28, 24, 128), input_shape=(128 * 28 * 24,))(bn_z_1)\n",
        "\n",
        "    # Prepare Conditional (label) input\n",
        "    input_c = layers.Input((13,))\n",
        "    dense_c_1 = layers.Dense(1024)(input_c)\n",
        "    act_c_1 = ACTIVATION(dense_c_1)\n",
        "    dense_c_2 = layers.Dense(128 * 28 * 24)(act_c_1)\n",
        "    bn_c_1 = layers.BatchNormalization()(dense_c_2)\n",
        "    reshape_c = layers.Reshape((28, 24, 128), input_shape=(128 * 28 * 24,))(bn_c_1)\n",
        "\n",
        "    # Combine input source\n",
        "    concat_z_c = layers.Concatenate()([reshape_z, reshape_c])\n",
        "\n",
        "    # Image generation with the concatenated inputs\n",
        "    up_1 = layers.UpSampling2D(size=(2, 2))(concat_z_c)\n",
        "    conv_1 = layers.Conv2D(64, (5, 5), padding='same')(up_1)\n",
        "    act_1 = ACTIVATION(conv_1)\n",
        "    up_2 = layers.UpSampling2D(size=(2, 2))(act_1)\n",
        "    conv_2 = layers.Conv2D(1, (5, 5), padding='same')(up_2)\n",
        "    act_2 = layers.Activation(\"tanh\")(conv_2)\n",
        "    model = models.Model(inputs=[input_z, input_c], outputs=act_2)\n",
        "    return model\n",
        "\n",
        "\n",
        "def discriminator_model():\n",
        "  with tf.device('/gpu:0'):\n",
        "    input_gen_image = layers.Input((112, 96, 1))\n",
        "    conv_1_image = layers.Conv2D(64, (5, 5), padding='same')(input_gen_image)\n",
        "    act_1_image = ACTIVATION(conv_1_image)\n",
        "    pool_1_image = layers.MaxPooling2D(pool_size=(2, 2))(act_1_image)\n",
        "    conv_2_image = layers.Conv2D(128, (5, 5))(pool_1_image)\n",
        "    act_2_image = ACTIVATION(conv_2_image)\n",
        "    pool_2_image = layers.MaxPooling2D(pool_size=(2, 2))(act_2_image)\n",
        "\n",
        "    input_c = layers.Input((13,))\n",
        "    dense_1_c = layers.Dense(1024)(input_c)\n",
        "    act_1_c = ACTIVATION(dense_1_c)\n",
        "    dense_2_c = layers.Dense(26 * 22 * 128)(act_1_c)\n",
        "    bn_c = layers.BatchNormalization()(dense_2_c)\n",
        "    reshaped_c = layers.Reshape((26, 22, 128))(bn_c)\n",
        "\n",
        "    concat = layers.Concatenate()([pool_2_image, reshaped_c])\n",
        "\n",
        "    flat = layers.Flatten()(concat)\n",
        "    dense_1 = layers.Dense(1024)(flat)\n",
        "    act_1 = ACTIVATION(dense_1)\n",
        "    dense_2 = layers.Dense(1)(act_1)\n",
        "    act_2 = layers.Activation('sigmoid')(dense_2)\n",
        "    model = models.Model(inputs=[input_gen_image, input_c], outputs=act_2)\n",
        "    return model\n",
        "\n",
        "\n",
        "def generator_containing_discriminator(g, d):\n",
        "  with tf.device('/gpu:0'):\n",
        "    input_z = layers.Input((13,))\n",
        "    input_c = layers.Input((13,))\n",
        "    gen_image = g([input_z, input_c])\n",
        "    d.trainable = False\n",
        "    is_real = d([gen_image, input_c])\n",
        "    model = models.Model(inputs=[input_z, input_c], outputs=is_real)\n",
        "    return model"
      ],
      "execution_count": 45,
      "outputs": []
    },
    {
      "cell_type": "code",
      "metadata": {
        "id": "XNHFwwLpm85B",
        "colab_type": "code",
        "colab": {}
      },
      "source": [
        "import math\n",
        "import os\n",
        "import subprocess\n",
        "\n",
        "import cv2\n",
        "import matplotlib\n",
        "\n",
        "matplotlib.use('Agg')\n",
        "import matplotlib.pyplot as plt\n",
        "import numpy as np\n",
        "\n",
        "\n",
        "def combine_images(generated_images):\n",
        "    num_images = generated_images.shape[0]\n",
        "    new_width = int(math.sqrt(num_images))\n",
        "    new_height = int(math.ceil(float(num_images) / new_width))\n",
        "    grid_shape = generated_images.shape[1:3]\n",
        "    grid_image = np.zeros((new_height * grid_shape[0], new_width * grid_shape[1]), dtype=generated_images.dtype)\n",
        "    for index, img in enumerate(generated_images):\n",
        "        i = int(index / new_width)\n",
        "        j = index % new_width\n",
        "        grid_image[i * grid_shape[0]:(i + 1) * grid_shape[0], j * grid_shape[1]:(j + 1) * grid_shape[1]] = \\\n",
        "            img[:, :, 0]\n",
        "    return grid_image\n",
        "\n",
        "\n",
        "def generate_noise(shape: tuple):\n",
        "    noise = np.random.uniform(0, 1, size=shape)\n",
        "    return noise\n",
        "\n",
        "\n",
        "def generate_condition_embedding(label: int, nb_of_label_embeddings: int):\n",
        "    label_embeddings = np.zeros((nb_of_label_embeddings, 13))\n",
        "    label_embeddings[:, label] = 1\n",
        "    return label_embeddings\n",
        "\n",
        "\n",
        "def generate_images(generator, nb_images: int, label: int):\n",
        "    noise = generate_noise((nb_images, 13))\n",
        "    label_batch = generate_condition_embedding(label, nb_images)\n",
        "    generated_images = generator.predict([noise, label_batch], verbose=0)\n",
        "    return generated_images\n",
        "\n",
        "\n",
        "def generate_mnist_image_grid(generator, title: str = \"Generated images\"):\n",
        "    generated_images = []\n",
        "\n",
        "    for i in range(10):\n",
        "        noise = generate_noise((10, 13))\n",
        "        label_input = generate_condition_embedding(i, 10)\n",
        "        gen_images = generator.predict([noise, label_input], verbose=0)\n",
        "        generated_images.extend(gen_images)\n",
        "\n",
        "    generated_images = np.array(generated_images)\n",
        "    image_grid = combine_images(generated_images)\n",
        "    image_grid = inverse_transform_images(image_grid)\n",
        "\n",
        "    fig = plt.figure()\n",
        "    ax = fig.add_subplot(1, 1, 1)\n",
        "    ax.axis(\"off\")\n",
        "    ax.imshow(image_grid, cmap=\"gray\")\n",
        "    ax.set_title(title)\n",
        "    fig.canvas.draw()\n",
        "\n",
        "    image = np.fromstring(fig.canvas.tostring_rgb(), dtype=np.uint8, sep='')\n",
        "    image = image.reshape(fig.canvas.get_width_height()[::-1] + (3,))\n",
        "\n",
        "    plt.close()\n",
        "\n",
        "    return image\n",
        "\n",
        "\n",
        "def save_generated_image(image, epoch, iteration, folder_path):\n",
        "    if not os.path.isdir(folder_path):\n",
        "        os.makedirs(folder_path)\n",
        "\n",
        "    file_path = \"{0}/{1}_{2}.png\".format(folder_path, epoch, iteration)\n",
        "    cv2.imwrite(file_path, image.astype(np.uint8))\n",
        "\n",
        "\n",
        "def transform_images(images: np.ndarray):\n",
        "    \"\"\"\n",
        "    [0,max]Transform images to [-1, 1]\n",
        "    \"\"\"\n",
        "    max_val=np.max(images)\n",
        "\n",
        "    images = (images.astype(np.float32) - (max_val/2)) / (max_val/2)\n",
        "    return images\n",
        "\n",
        "\n",
        "def inverse_transform_images(images: np.ndarray):\n",
        "    \"\"\"\n",
        "    From the [-1, 1] range transform the images back to [0, 255]\n",
        "    \"\"\"\n",
        "\n",
        "    images = images * 127.5 + 127.5\n",
        "    images = images.astype(np.uint8)\n",
        "    return images\n",
        "\n",
        "\n",
        "def convert_video_to_gif(input_video_path, output_gif_path, fps=24):\n",
        "    palette_image_path = \"palette.png\"\n",
        "    command_palette = 'ffmpeg -y -t 0 -i {0} -vf fps={1},scale=320:-1:flags=lanczos,palettegen {2}'.format(input_video_path,\n",
        "                                                                                                           fps,\n",
        "                                                                                                           palette_image_path)\n",
        "    command_convert = 'ffmpeg -y -t 0 -i {0} -i {1} -filter_complex \"fps={2},scale=320:-1:flags=lanczos[x];[x][1:v]paletteuse\" {3}'.format(input_video_path,palette_image_path, fps, output_gif_path)\n",
        "    \n",
        "    try:\n",
        "        subprocess.check_call(command_palette)\n",
        "        subprocess.check_call(command_convert)\n",
        "    except subprocess.CalledProcessError as exc:\n",
        "        print(exc.output)\n",
        "        raise\n",
        "    finally:\n",
        "        os.remove(palette_image_path)"
      ],
      "execution_count": 46,
      "outputs": []
    },
    {
      "cell_type": "code",
      "metadata": {
        "id": "1xqJAsQDYM2D",
        "colab_type": "code",
        "colab": {
          "base_uri": "https://localhost:8080/",
          "height": 316
        },
        "outputId": "13a83647-0cc3-4963-d412-baecf8e60ab8"
      },
      "source": [
        "pip install git+https://github.com/gaborvecsei/Swiss-Army-Tensorboard.git"
      ],
      "execution_count": 47,
      "outputs": [
        {
          "output_type": "stream",
          "text": [
            "Collecting git+https://github.com/gaborvecsei/Swiss-Army-Tensorboard.git\n",
            "  Cloning https://github.com/gaborvecsei/Swiss-Army-Tensorboard.git to /tmp/pip-req-build-78o6ywc5\n",
            "  Running command git clone -q https://github.com/gaborvecsei/Swiss-Army-Tensorboard.git /tmp/pip-req-build-78o6ywc5\n",
            "Requirement already satisfied (use --upgrade to upgrade): swiss-army-tensorboard==0.0.1 from git+https://github.com/gaborvecsei/Swiss-Army-Tensorboard.git in /usr/local/lib/python3.6/dist-packages\n",
            "Requirement already satisfied: numpy>=1.16.1 in /usr/local/lib/python3.6/dist-packages (from swiss-army-tensorboard==0.0.1) (1.18.5)\n",
            "Requirement already satisfied: matplotlib>=3.1 in /usr/local/lib/python3.6/dist-packages (from swiss-army-tensorboard==0.0.1) (3.2.2)\n",
            "Requirement already satisfied: pyparsing!=2.0.4,!=2.1.2,!=2.1.6,>=2.0.1 in /usr/local/lib/python3.6/dist-packages (from matplotlib>=3.1->swiss-army-tensorboard==0.0.1) (2.4.7)\n",
            "Requirement already satisfied: kiwisolver>=1.0.1 in /usr/local/lib/python3.6/dist-packages (from matplotlib>=3.1->swiss-army-tensorboard==0.0.1) (1.2.0)\n",
            "Requirement already satisfied: python-dateutil>=2.1 in /usr/local/lib/python3.6/dist-packages (from matplotlib>=3.1->swiss-army-tensorboard==0.0.1) (2.8.1)\n",
            "Requirement already satisfied: cycler>=0.10 in /usr/local/lib/python3.6/dist-packages (from matplotlib>=3.1->swiss-army-tensorboard==0.0.1) (0.10.0)\n",
            "Requirement already satisfied: six>=1.5 in /usr/local/lib/python3.6/dist-packages (from python-dateutil>=2.1->matplotlib>=3.1->swiss-army-tensorboard==0.0.1) (1.15.0)\n",
            "Building wheels for collected packages: swiss-army-tensorboard\n",
            "  Building wheel for swiss-army-tensorboard (setup.py) ... \u001b[?25l\u001b[?25hdone\n",
            "  Created wheel for swiss-army-tensorboard: filename=swiss_army_tensorboard-0.0.1-cp36-none-any.whl size=5377 sha256=fec9fad2c5afcbba45f9b4ef566ca4fc3f476e96fe7e95335959d8db3ef20d93\n",
            "  Stored in directory: /tmp/pip-ephem-wheel-cache-xh34ojy6/wheels/ea/f7/db/67f8661f9c334ad8eda2d0dfbc21bcaea99f739c97f6008d41\n",
            "Successfully built swiss-army-tensorboard\n"
          ],
          "name": "stdout"
        }
      ]
    },
    {
      "cell_type": "code",
      "metadata": {
        "id": "kJjHn-Nngy8P",
        "colab_type": "code",
        "colab": {
          "base_uri": "https://localhost:8080/",
          "height": 1000
        },
        "outputId": "517548b4-dfd2-4a53-8def-a47b49200609"
      },
      "source": [
        "import matplotlib\n",
        "\n",
        "matplotlib.use('Agg')\n",
        "import numpy as np\n",
        "from keras import backend as K\n",
        "from keras import utils as keras_utils\n",
        "from keras import optimizers\n",
        "from keras import datasets\n",
        "from swiss_army_tensorboard import tfboard_loggers\n",
        "from tqdm import tqdm\n",
        "#from cdcgan import cdcgan_models, cdcgan_utils\n",
        "#colab환경이라 안씁니다\n",
        "\n",
        "BATCH_SIZE = 64\n",
        "EPOCHS = 100\n",
        "\n",
        "# Load & Prepare MNIST\n",
        "\n",
        "X_train=trainX\n",
        "y_train=trainy\n",
        "X_train = transform_images(X_train)\n",
        "X_train = X_train[:, :, :, None]\n",
        "\n",
        "y_train = keras_utils.to_categorical(y_train, 13) #원래는 13써야 하는데 추후 고려할 예정\n",
        "\n",
        "# Create the models\n",
        "\n",
        "print(\"Generator:\")\n",
        "G = generator_model()\n",
        "G.summary()\n",
        "\n",
        "print(\"Discriminator:\")\n",
        "D = discriminator_model()\n",
        "D.summary()\n",
        "\n",
        "print(\"Combined:\")\n",
        "GD = generator_containing_discriminator(G, D)\n",
        "GD.summary()\n",
        "\n",
        "optimizer = optimizers.Adam(0.0002, 0.5)\n",
        "\n",
        "G.compile(loss='binary_crossentropy', optimizer=optimizer)\n",
        "GD.compile(loss='binary_crossentropy', optimizer=optimizer)\n",
        "D.trainable = True\n",
        "D.compile(loss='binary_crossentropy', optimizer=optimizer)\n",
        "\n",
        "# Setup Tensorboard loggers\n",
        "\n",
        "tfboard_loggers.TFBoardModelGraphLogger.log_graph(\"/content/drive/My Drive/MARG/PPDDlist/GAN_result/logs\", K.get_session())\n",
        "loss_logger = tfboard_loggers.TFBoardScalarLogger(\"/content/drive/My Drive/MARG/PPDDlist/GAN_result/logs/loss\")\n",
        "image_logger = tfboard_loggers.TFBoardImageLogger(\"/content/drive/My Drive/MARG/PPDDlist/GAN_result/logs/generated_images\")\n",
        "\n",
        "# Model Training\n",
        "\n",
        "iteration = 0\n",
        "\n",
        "nb_of_iterations_per_epoch = int(X_train.shape[0] / BATCH_SIZE)\n",
        "print(\"Number of iterations per epoch: {0}\".format(nb_of_iterations_per_epoch))\n",
        "\n",
        "for epoch in range(EPOCHS):\n",
        "    pbar = tqdm(desc=\"Epoch: {0}\".format(epoch), total=X_train.shape[0])\n",
        "\n",
        "    g_losses_for_epoch = []\n",
        "    d_losses_for_epoch = []\n",
        "\n",
        "    for i in range(nb_of_iterations_per_epoch):\n",
        "        noise = generate_noise((BATCH_SIZE, 13))\n",
        "\n",
        "        image_batch = X_train[i * BATCH_SIZE:(i + 1) * BATCH_SIZE]\n",
        "        label_batch = y_train[i * BATCH_SIZE:(i + 1) * BATCH_SIZE]\n",
        "\n",
        "        generated_images = G.predict([noise, label_batch], verbose=0)\n",
        "\n",
        "        if i % 20 == 0:\n",
        "            image_grid = generate_mnist_image_grid(G,\n",
        "                                                                title=\"Epoch {0}, iteration {1}\".format(epoch,\n",
        "                                                                                                        iteration))\n",
        "            save_generated_image(image_grid, epoch, i, \"/content/drive/My Drive/MARG/PPDDlist/GAN_result/generated_mnist_images_per_iteration\")\n",
        "            image_logger.log_images(\"generated_mnist_images_per_iteration\", [image_grid], iteration)\n",
        "\n",
        "        X = np.concatenate((image_batch, generated_images))\n",
        "        y = [1] * BATCH_SIZE + [0] * BATCH_SIZE\n",
        "        label_batches_for_discriminator = np.concatenate((label_batch, label_batch))\n",
        "\n",
        "        D_loss = D.train_on_batch([X, label_batches_for_discriminator], y)\n",
        "        d_losses_for_epoch.append(D_loss)\n",
        "        loss_logger.log_scalar(\"discriminator_loss\", D_loss, iteration)\n",
        "\n",
        "        noise = generate_noise((BATCH_SIZE, 13))\n",
        "        D.trainable = False\n",
        "        G_loss = GD.train_on_batch([noise, label_batch], [1] * BATCH_SIZE)\n",
        "        D.trainable = True\n",
        "        g_losses_for_epoch.append(G_loss)\n",
        "        loss_logger.log_scalar(\"generator_loss\", G_loss, iteration)\n",
        "\n",
        "        pbar.update(BATCH_SIZE)\n",
        "\n",
        "        iteration += 1\n",
        "\n",
        "    # Save a generated image for every epoch\n",
        "    image_grid = generate_mnist_image_grid(G, title=\"Epoch {0}\".format(epoch))\n",
        "    save_generated_image(image_grid, epoch, 0, \"/content/drive/My Drive/MARG/PPDDlist/GAN_result/generated_mnist_images_per_epoch\")\n",
        "    image_logger.log_images(\"/content/drive/My Drive/MARG/PPDDlist/GAN_result/generated_mnist_images_per_epoch\", [image_grid], epoch)\n",
        "\n",
        "    pbar.close()\n",
        "    print(\"D loss: {0}, G loss: {1}\".format(np.mean(d_losses_for_epoch), np.mean(g_losses_for_epoch)))\n",
        "\n",
        "    G.save_weights(\"/content/drive/My Drive/MARG/PPDDlist/GAN_result/generator.h5\")\n",
        "    D.save_weights(\"/content/drive/My Drive/MARG/PPDDlist/GAN_result/discriminator.h5\")"
      ],
      "execution_count": 48,
      "outputs": [
        {
          "output_type": "stream",
          "text": [
            "WARNING:tensorflow:From /usr/local/lib/python3.6/dist-packages/swiss_army_tensorboard/tfboard_loggers/tfboard_loggers.py:47: The name tf.HistogramProto is deprecated. Please use tf.compat.v1.HistogramProto instead.\n",
            "\n",
            "Generator:\n",
            "Model: \"model_1\"\n",
            "__________________________________________________________________________________________________\n",
            "Layer (type)                    Output Shape         Param #     Connected to                     \n",
            "==================================================================================================\n",
            "input_2 (InputLayer)            (None, 13)           0                                            \n",
            "__________________________________________________________________________________________________\n",
            "input_3 (InputLayer)            (None, 13)           0                                            \n",
            "__________________________________________________________________________________________________\n",
            "dense_2 (Dense)                 (None, 1024)         14336       input_2[0][0]                    \n",
            "__________________________________________________________________________________________________\n",
            "dense_4 (Dense)                 (None, 1024)         14336       input_3[0][0]                    \n",
            "__________________________________________________________________________________________________\n",
            "activation_1 (Activation)       multiple             0           dense_2[0][0]                    \n",
            "                                                                 dense_4[0][0]                    \n",
            "                                                                 conv2d_6[0][0]                   \n",
            "__________________________________________________________________________________________________\n",
            "dense_3 (Dense)                 (None, 86016)        88166400    activation_1[0][0]               \n",
            "__________________________________________________________________________________________________\n",
            "dense_5 (Dense)                 (None, 86016)        88166400    activation_1[1][0]               \n",
            "__________________________________________________________________________________________________\n",
            "batch_normalization_2 (BatchNor (None, 86016)        344064      dense_3[0][0]                    \n",
            "__________________________________________________________________________________________________\n",
            "batch_normalization_3 (BatchNor (None, 86016)        344064      dense_5[0][0]                    \n",
            "__________________________________________________________________________________________________\n",
            "reshape_1 (Reshape)             (None, 28, 24, 128)  0           batch_normalization_2[0][0]      \n",
            "__________________________________________________________________________________________________\n",
            "reshape_2 (Reshape)             (None, 28, 24, 128)  0           batch_normalization_3[0][0]      \n",
            "__________________________________________________________________________________________________\n",
            "concatenate_1 (Concatenate)     (None, 28, 24, 256)  0           reshape_1[0][0]                  \n",
            "                                                                 reshape_2[0][0]                  \n",
            "__________________________________________________________________________________________________\n",
            "up_sampling2d_1 (UpSampling2D)  (None, 56, 48, 256)  0           concatenate_1[0][0]              \n",
            "__________________________________________________________________________________________________\n",
            "conv2d_6 (Conv2D)               (None, 56, 48, 64)   409664      up_sampling2d_1[0][0]            \n",
            "__________________________________________________________________________________________________\n",
            "up_sampling2d_2 (UpSampling2D)  (None, 112, 96, 64)  0           activation_1[2][0]               \n",
            "__________________________________________________________________________________________________\n",
            "conv2d_7 (Conv2D)               (None, 112, 96, 1)   1601        up_sampling2d_2[0][0]            \n",
            "__________________________________________________________________________________________________\n",
            "activation_2 (Activation)       (None, 112, 96, 1)   0           conv2d_7[0][0]                   \n",
            "==================================================================================================\n",
            "Total params: 177,460,865\n",
            "Trainable params: 177,116,801\n",
            "Non-trainable params: 344,064\n",
            "__________________________________________________________________________________________________\n",
            "Discriminator:\n",
            "Model: \"model_2\"\n",
            "__________________________________________________________________________________________________\n",
            "Layer (type)                    Output Shape         Param #     Connected to                     \n",
            "==================================================================================================\n",
            "input_4 (InputLayer)            (None, 112, 96, 1)   0                                            \n",
            "__________________________________________________________________________________________________\n",
            "conv2d_8 (Conv2D)               (None, 112, 96, 64)  1664        input_4[0][0]                    \n",
            "__________________________________________________________________________________________________\n",
            "activation_1 (Activation)       multiple             0           conv2d_8[0][0]                   \n",
            "                                                                 conv2d_9[0][0]                   \n",
            "                                                                 dense_6[0][0]                    \n",
            "                                                                 dense_8[0][0]                    \n",
            "__________________________________________________________________________________________________\n",
            "max_pooling2d_3 (MaxPooling2D)  (None, 56, 48, 64)   0           activation_1[3][0]               \n",
            "__________________________________________________________________________________________________\n",
            "input_5 (InputLayer)            (None, 13)           0                                            \n",
            "__________________________________________________________________________________________________\n",
            "conv2d_9 (Conv2D)               (None, 52, 44, 128)  204928      max_pooling2d_3[0][0]            \n",
            "__________________________________________________________________________________________________\n",
            "dense_6 (Dense)                 (None, 1024)         14336       input_5[0][0]                    \n",
            "__________________________________________________________________________________________________\n",
            "dense_7 (Dense)                 (None, 73216)        75046400    activation_1[5][0]               \n",
            "__________________________________________________________________________________________________\n",
            "batch_normalization_4 (BatchNor (None, 73216)        292864      dense_7[0][0]                    \n",
            "__________________________________________________________________________________________________\n",
            "max_pooling2d_4 (MaxPooling2D)  (None, 26, 22, 128)  0           activation_1[4][0]               \n",
            "__________________________________________________________________________________________________\n",
            "reshape_3 (Reshape)             (None, 26, 22, 128)  0           batch_normalization_4[0][0]      \n",
            "__________________________________________________________________________________________________\n",
            "concatenate_2 (Concatenate)     (None, 26, 22, 256)  0           max_pooling2d_4[0][0]            \n",
            "                                                                 reshape_3[0][0]                  \n",
            "__________________________________________________________________________________________________\n",
            "flatten_2 (Flatten)             (None, 146432)       0           concatenate_2[0][0]              \n",
            "__________________________________________________________________________________________________\n",
            "dense_8 (Dense)                 (None, 1024)         149947392   flatten_2[0][0]                  \n",
            "__________________________________________________________________________________________________\n",
            "dense_9 (Dense)                 (None, 1)            1025        activation_1[6][0]               \n",
            "__________________________________________________________________________________________________\n",
            "activation_3 (Activation)       (None, 1)            0           dense_9[0][0]                    \n",
            "==================================================================================================\n",
            "Total params: 225,508,609\n",
            "Trainable params: 225,362,177\n",
            "Non-trainable params: 146,432\n",
            "__________________________________________________________________________________________________\n",
            "Combined:\n",
            "Model: \"model_3\"\n",
            "__________________________________________________________________________________________________\n",
            "Layer (type)                    Output Shape         Param #     Connected to                     \n",
            "==================================================================================================\n",
            "input_6 (InputLayer)            (None, 13)           0                                            \n",
            "__________________________________________________________________________________________________\n",
            "input_7 (InputLayer)            (None, 13)           0                                            \n",
            "__________________________________________________________________________________________________\n",
            "model_1 (Model)                 (None, 112, 96, 1)   177460865   input_6[0][0]                    \n",
            "                                                                 input_7[0][0]                    \n",
            "__________________________________________________________________________________________________\n",
            "model_2 (Model)                 (None, 1)            225508609   model_1[1][0]                    \n",
            "                                                                 input_7[0][0]                    \n",
            "==================================================================================================\n",
            "Total params: 402,969,474\n",
            "Trainable params: 177,116,801\n",
            "Non-trainable params: 225,852,673\n",
            "__________________________________________________________________________________________________\n",
            "WARNING:tensorflow:From /usr/local/lib/python3.6/dist-packages/swiss_army_tensorboard/tfboard_loggers/tfboard_loggers.py:32: The name tf.summary.FileWriter is deprecated. Please use tf.compat.v1.summary.FileWriter instead.\n",
            "\n"
          ],
          "name": "stdout"
        },
        {
          "output_type": "stream",
          "text": [
            "/usr/local/lib/python3.6/dist-packages/swiss_army_tensorboard/tfboard_loggers/tfboard_loggers.py:19: UserWarning: Folder /content/drive/My Drive/MARG/PPDDlist/GAN_result/logs/loss is already created, maybe it contains other log files\n",
            "  warnings.warn(\"Folder {0} is already created, maybe it contains other log files\".format(log_dir))\n",
            "/usr/local/lib/python3.6/dist-packages/swiss_army_tensorboard/tfboard_loggers/tfboard_loggers.py:19: UserWarning: Folder /content/drive/My Drive/MARG/PPDDlist/GAN_result/logs/generated_images is already created, maybe it contains other log files\n",
            "  warnings.warn(\"Folder {0} is already created, maybe it contains other log files\".format(log_dir))\n",
            "\rEpoch: 0:   0%|          | 0/7000 [00:00<?, ?it/s]"
          ],
          "name": "stderr"
        },
        {
          "output_type": "stream",
          "text": [
            "Number of iterations per epoch: 109\n",
            "WARNING:tensorflow:From /usr/local/lib/python3.6/dist-packages/swiss_army_tensorboard/tfboard_loggers/tfboard_loggers.py:86: The name tf.Summary is deprecated. Please use tf.compat.v1.Summary instead.\n",
            "\n"
          ],
          "name": "stdout"
        },
        {
          "output_type": "stream",
          "text": [
            "/usr/local/lib/python3.6/dist-packages/ipykernel_launcher.py:64: DeprecationWarning: The binary mode of fromstring is deprecated, as it behaves surprisingly on unicode inputs. Use frombuffer instead\n",
            "Epoch: 0:  18%|█▊        | 1280/7000 [00:16<00:24, 238.00it/s]/usr/local/lib/python3.6/dist-packages/ipykernel_launcher.py:64: DeprecationWarning: The binary mode of fromstring is deprecated, as it behaves surprisingly on unicode inputs. Use frombuffer instead\n",
            "Epoch: 0: 100%|█████████▉| 6976/7000 [00:40<00:00, 173.80it/s]\n"
          ],
          "name": "stderr"
        },
        {
          "output_type": "stream",
          "text": [
            "D loss: 0.8919978141784668, G loss: 2.919936418533325\n"
          ],
          "name": "stdout"
        },
        {
          "output_type": "stream",
          "text": [
            "Epoch: 1: 100%|█████████▉| 6976/7000 [00:30<00:00, 230.80it/s]\n"
          ],
          "name": "stderr"
        },
        {
          "output_type": "stream",
          "text": [
            "D loss: 0.5176541805267334, G loss: 1.597988486289978\n"
          ],
          "name": "stdout"
        },
        {
          "output_type": "stream",
          "text": [
            "Epoch: 2: 100%|█████████▉| 6976/7000 [00:30<00:00, 231.24it/s]\n"
          ],
          "name": "stderr"
        },
        {
          "output_type": "stream",
          "text": [
            "D loss: 0.5187482833862305, G loss: 1.7832601070404053\n"
          ],
          "name": "stdout"
        },
        {
          "output_type": "stream",
          "text": [
            "Epoch: 3: 100%|█████████▉| 6976/7000 [00:29<00:00, 236.36it/s]\n"
          ],
          "name": "stderr"
        },
        {
          "output_type": "stream",
          "text": [
            "D loss: 0.5183249711990356, G loss: 1.8295644521713257\n"
          ],
          "name": "stdout"
        },
        {
          "output_type": "stream",
          "text": [
            "Epoch: 4: 100%|█████████▉| 6976/7000 [00:31<00:00, 224.93it/s]\n"
          ],
          "name": "stderr"
        },
        {
          "output_type": "stream",
          "text": [
            "D loss: 0.5147921442985535, G loss: 1.8730907440185547\n"
          ],
          "name": "stdout"
        },
        {
          "output_type": "stream",
          "text": [
            "Epoch: 5: 100%|█████████▉| 6976/7000 [00:29<00:00, 236.68it/s]\n"
          ],
          "name": "stderr"
        },
        {
          "output_type": "stream",
          "text": [
            "D loss: 0.520659863948822, G loss: 1.7946984767913818\n"
          ],
          "name": "stdout"
        },
        {
          "output_type": "stream",
          "text": [
            "Epoch: 6: 100%|█████████▉| 6976/7000 [00:36<00:00, 188.75it/s]\n"
          ],
          "name": "stderr"
        },
        {
          "output_type": "stream",
          "text": [
            "D loss: 0.5200140476226807, G loss: 1.8403481245040894\n"
          ],
          "name": "stdout"
        },
        {
          "output_type": "stream",
          "text": [
            "Epoch: 7: 100%|█████████▉| 6976/7000 [00:30<00:00, 228.09it/s]\n"
          ],
          "name": "stderr"
        },
        {
          "output_type": "stream",
          "text": [
            "D loss: 0.5216922760009766, G loss: 1.8464586734771729\n"
          ],
          "name": "stdout"
        },
        {
          "output_type": "stream",
          "text": [
            "Epoch: 8: 100%|█████████▉| 6976/7000 [00:33<00:00, 208.39it/s]\n"
          ],
          "name": "stderr"
        },
        {
          "output_type": "stream",
          "text": [
            "D loss: 0.5212154388427734, G loss: 1.7331308126449585\n"
          ],
          "name": "stdout"
        },
        {
          "output_type": "stream",
          "text": [
            "Epoch: 9: 100%|█████████▉| 6976/7000 [00:29<00:00, 236.35it/s]\n"
          ],
          "name": "stderr"
        },
        {
          "output_type": "stream",
          "text": [
            "D loss: 0.5272803902626038, G loss: 1.7267271280288696\n"
          ],
          "name": "stdout"
        },
        {
          "output_type": "stream",
          "text": [
            "Epoch: 10: 100%|█████████▉| 6976/7000 [00:30<00:00, 229.98it/s]\n"
          ],
          "name": "stderr"
        },
        {
          "output_type": "stream",
          "text": [
            "D loss: 0.5255913138389587, G loss: 1.8777931928634644\n"
          ],
          "name": "stdout"
        },
        {
          "output_type": "stream",
          "text": [
            "Epoch: 11: 100%|█████████▉| 6976/7000 [00:29<00:00, 237.04it/s]\n"
          ],
          "name": "stderr"
        },
        {
          "output_type": "stream",
          "text": [
            "D loss: 0.5360127687454224, G loss: 1.842563509941101\n"
          ],
          "name": "stdout"
        },
        {
          "output_type": "stream",
          "text": [
            "Epoch: 12: 100%|█████████▉| 6976/7000 [00:33<00:00, 209.17it/s]\n"
          ],
          "name": "stderr"
        },
        {
          "output_type": "stream",
          "text": [
            "D loss: 0.538330078125, G loss: 1.787356972694397\n"
          ],
          "name": "stdout"
        },
        {
          "output_type": "stream",
          "text": [
            "Epoch: 13: 100%|█████████▉| 6976/7000 [00:33<00:00, 208.29it/s]\n"
          ],
          "name": "stderr"
        },
        {
          "output_type": "stream",
          "text": [
            "D loss: 0.5303171277046204, G loss: 1.8926234245300293\n"
          ],
          "name": "stdout"
        },
        {
          "output_type": "stream",
          "text": [
            "Epoch: 14: 100%|█████████▉| 6976/7000 [00:33<00:00, 206.39it/s]\n"
          ],
          "name": "stderr"
        },
        {
          "output_type": "stream",
          "text": [
            "D loss: 0.5309228301048279, G loss: 1.9617853164672852\n"
          ],
          "name": "stdout"
        },
        {
          "output_type": "stream",
          "text": [
            "Epoch: 15: 100%|█████████▉| 6976/7000 [00:30<00:00, 229.30it/s]\n"
          ],
          "name": "stderr"
        },
        {
          "output_type": "stream",
          "text": [
            "D loss: 0.5221269130706787, G loss: 2.079223871231079\n"
          ],
          "name": "stdout"
        },
        {
          "output_type": "stream",
          "text": [
            "Epoch: 16: 100%|█████████▉| 6976/7000 [00:33<00:00, 206.08it/s]\n"
          ],
          "name": "stderr"
        },
        {
          "output_type": "stream",
          "text": [
            "D loss: 0.5330125093460083, G loss: 2.1860768795013428\n"
          ],
          "name": "stdout"
        },
        {
          "output_type": "stream",
          "text": [
            "Epoch: 17: 100%|█████████▉| 6976/7000 [00:33<00:00, 209.74it/s]\n"
          ],
          "name": "stderr"
        },
        {
          "output_type": "stream",
          "text": [
            "D loss: 0.5267557501792908, G loss: 1.9664208889007568\n"
          ],
          "name": "stdout"
        },
        {
          "output_type": "stream",
          "text": [
            "Epoch: 18: 100%|█████████▉| 6976/7000 [00:33<00:00, 210.18it/s]\n"
          ],
          "name": "stderr"
        },
        {
          "output_type": "stream",
          "text": [
            "D loss: 0.5189129114151001, G loss: 2.247434616088867\n"
          ],
          "name": "stdout"
        },
        {
          "output_type": "stream",
          "text": [
            "Epoch: 19: 100%|█████████▉| 6976/7000 [00:33<00:00, 211.17it/s]\n"
          ],
          "name": "stderr"
        },
        {
          "output_type": "stream",
          "text": [
            "D loss: 0.5246912240982056, G loss: 2.0909578800201416\n"
          ],
          "name": "stdout"
        },
        {
          "output_type": "stream",
          "text": [
            "Epoch: 20: 100%|█████████▉| 6976/7000 [00:33<00:00, 208.46it/s]\n"
          ],
          "name": "stderr"
        },
        {
          "output_type": "stream",
          "text": [
            "D loss: 0.5307745337486267, G loss: 1.7602506875991821\n"
          ],
          "name": "stdout"
        },
        {
          "output_type": "stream",
          "text": [
            "Epoch: 21: 100%|█████████▉| 6976/7000 [00:29<00:00, 238.25it/s]\n"
          ],
          "name": "stderr"
        },
        {
          "output_type": "stream",
          "text": [
            "D loss: 0.5208025574684143, G loss: 1.7657251358032227\n"
          ],
          "name": "stdout"
        },
        {
          "output_type": "stream",
          "text": [
            "Epoch: 22: 100%|█████████▉| 6976/7000 [00:33<00:00, 207.77it/s]\n"
          ],
          "name": "stderr"
        },
        {
          "output_type": "stream",
          "text": [
            "D loss: 0.5308616757392883, G loss: 1.7761393785476685\n"
          ],
          "name": "stdout"
        },
        {
          "output_type": "stream",
          "text": [
            "Epoch: 23: 100%|█████████▉| 6976/7000 [00:33<00:00, 208.24it/s]\n"
          ],
          "name": "stderr"
        },
        {
          "output_type": "stream",
          "text": [
            "D loss: 0.5211283564567566, G loss: 1.9524083137512207\n"
          ],
          "name": "stdout"
        },
        {
          "output_type": "stream",
          "text": [
            "Epoch: 24: 100%|█████████▉| 6976/7000 [00:33<00:00, 208.11it/s]\n"
          ],
          "name": "stderr"
        },
        {
          "output_type": "stream",
          "text": [
            "D loss: 0.5252889394760132, G loss: 2.1133153438568115\n"
          ],
          "name": "stdout"
        },
        {
          "output_type": "stream",
          "text": [
            "Epoch: 25: 100%|█████████▉| 6976/7000 [00:29<00:00, 238.76it/s]\n"
          ],
          "name": "stderr"
        },
        {
          "output_type": "stream",
          "text": [
            "D loss: 0.5312937498092651, G loss: 1.8817155361175537\n"
          ],
          "name": "stdout"
        },
        {
          "output_type": "stream",
          "text": [
            "Epoch: 26: 100%|█████████▉| 6976/7000 [00:31<00:00, 220.69it/s]\n"
          ],
          "name": "stderr"
        },
        {
          "output_type": "stream",
          "text": [
            "D loss: 0.5208429098129272, G loss: 1.9708292484283447\n"
          ],
          "name": "stdout"
        },
        {
          "output_type": "stream",
          "text": [
            "Epoch: 27: 100%|█████████▉| 6976/7000 [00:29<00:00, 237.77it/s]\n"
          ],
          "name": "stderr"
        },
        {
          "output_type": "stream",
          "text": [
            "D loss: 0.5459488034248352, G loss: 2.1014761924743652\n"
          ],
          "name": "stdout"
        },
        {
          "output_type": "stream",
          "text": [
            "Epoch: 28: 100%|█████████▉| 6976/7000 [00:33<00:00, 210.65it/s]\n"
          ],
          "name": "stderr"
        },
        {
          "output_type": "stream",
          "text": [
            "D loss: 0.6295630931854248, G loss: 1.3135634660720825\n"
          ],
          "name": "stdout"
        },
        {
          "output_type": "stream",
          "text": [
            "Epoch: 29: 100%|█████████▉| 6976/7000 [00:32<00:00, 212.95it/s]\n"
          ],
          "name": "stderr"
        },
        {
          "output_type": "stream",
          "text": [
            "D loss: 0.616407573223114, G loss: 1.1955316066741943\n"
          ],
          "name": "stdout"
        },
        {
          "output_type": "stream",
          "text": [
            "Epoch: 30: 100%|█████████▉| 6976/7000 [00:33<00:00, 209.54it/s]\n"
          ],
          "name": "stderr"
        },
        {
          "output_type": "stream",
          "text": [
            "D loss: 0.5913566946983337, G loss: 1.131732702255249\n"
          ],
          "name": "stdout"
        },
        {
          "output_type": "stream",
          "text": [
            "Epoch: 31: 100%|█████████▉| 6976/7000 [00:29<00:00, 238.66it/s]\n"
          ],
          "name": "stderr"
        },
        {
          "output_type": "stream",
          "text": [
            "D loss: 0.6370692253112793, G loss: 1.2581712007522583\n"
          ],
          "name": "stdout"
        },
        {
          "output_type": "stream",
          "text": [
            "Epoch: 32: 100%|█████████▉| 6976/7000 [00:33<00:00, 206.47it/s]\n"
          ],
          "name": "stderr"
        },
        {
          "output_type": "stream",
          "text": [
            "D loss: 0.6061627268791199, G loss: 1.0101124048233032\n"
          ],
          "name": "stdout"
        },
        {
          "output_type": "stream",
          "text": [
            "Epoch: 33: 100%|█████████▉| 6976/7000 [00:33<00:00, 209.11it/s]\n"
          ],
          "name": "stderr"
        },
        {
          "output_type": "stream",
          "text": [
            "D loss: 0.6273137927055359, G loss: 0.9985948204994202\n"
          ],
          "name": "stdout"
        },
        {
          "output_type": "stream",
          "text": [
            "Epoch: 34: 100%|█████████▉| 6976/7000 [00:33<00:00, 210.14it/s]\n"
          ],
          "name": "stderr"
        },
        {
          "output_type": "stream",
          "text": [
            "D loss: 0.6159304976463318, G loss: 1.0459095239639282\n"
          ],
          "name": "stdout"
        },
        {
          "output_type": "stream",
          "text": [
            "Epoch: 35: 100%|█████████▉| 6976/7000 [00:29<00:00, 235.18it/s]\n"
          ],
          "name": "stderr"
        },
        {
          "output_type": "stream",
          "text": [
            "D loss: 0.5997363924980164, G loss: 1.0330615043640137\n"
          ],
          "name": "stdout"
        },
        {
          "output_type": "stream",
          "text": [
            "Epoch: 36: 100%|█████████▉| 6976/7000 [00:29<00:00, 235.15it/s]\n"
          ],
          "name": "stderr"
        },
        {
          "output_type": "stream",
          "text": [
            "D loss: 0.618994951248169, G loss: 1.0376464128494263\n"
          ],
          "name": "stdout"
        },
        {
          "output_type": "stream",
          "text": [
            "Epoch: 37: 100%|█████████▉| 6976/7000 [00:33<00:00, 210.34it/s]\n"
          ],
          "name": "stderr"
        },
        {
          "output_type": "stream",
          "text": [
            "D loss: 0.5915617346763611, G loss: 1.0686763525009155\n"
          ],
          "name": "stdout"
        },
        {
          "output_type": "stream",
          "text": [
            "Epoch: 38: 100%|█████████▉| 6976/7000 [00:30<00:00, 230.11it/s]\n"
          ],
          "name": "stderr"
        },
        {
          "output_type": "stream",
          "text": [
            "D loss: 0.6120662093162537, G loss: 1.1485568284988403\n"
          ],
          "name": "stdout"
        },
        {
          "output_type": "stream",
          "text": [
            "Epoch: 39: 100%|█████████▉| 6976/7000 [00:33<00:00, 209.98it/s]\n"
          ],
          "name": "stderr"
        },
        {
          "output_type": "stream",
          "text": [
            "D loss: 0.5942903757095337, G loss: 1.2339814901351929\n"
          ],
          "name": "stdout"
        },
        {
          "output_type": "stream",
          "text": [
            "Epoch: 40: 100%|█████████▉| 6976/7000 [00:33<00:00, 208.78it/s]\n"
          ],
          "name": "stderr"
        },
        {
          "output_type": "stream",
          "text": [
            "D loss: 0.6365661025047302, G loss: 1.0213450193405151\n"
          ],
          "name": "stdout"
        },
        {
          "output_type": "stream",
          "text": [
            "Epoch: 41: 100%|█████████▉| 6976/7000 [00:33<00:00, 208.83it/s]\n"
          ],
          "name": "stderr"
        },
        {
          "output_type": "stream",
          "text": [
            "D loss: 0.6096142530441284, G loss: 1.0103036165237427\n"
          ],
          "name": "stdout"
        },
        {
          "output_type": "stream",
          "text": [
            "Epoch: 42: 100%|█████████▉| 6976/7000 [00:32<00:00, 212.87it/s]\n"
          ],
          "name": "stderr"
        },
        {
          "output_type": "stream",
          "text": [
            "D loss: 0.6187344193458557, G loss: 1.0080485343933105\n"
          ],
          "name": "stdout"
        },
        {
          "output_type": "stream",
          "text": [
            "Epoch: 43: 100%|█████████▉| 6976/7000 [00:33<00:00, 208.41it/s]\n"
          ],
          "name": "stderr"
        },
        {
          "output_type": "stream",
          "text": [
            "D loss: 0.6164587140083313, G loss: 1.00613534450531\n"
          ],
          "name": "stdout"
        },
        {
          "output_type": "stream",
          "text": [
            "Epoch: 44: 100%|█████████▉| 6976/7000 [00:30<00:00, 225.28it/s]\n"
          ],
          "name": "stderr"
        },
        {
          "output_type": "stream",
          "text": [
            "D loss: 0.6046769618988037, G loss: 1.0313639640808105\n"
          ],
          "name": "stdout"
        },
        {
          "output_type": "stream",
          "text": [
            "Epoch: 45: 100%|█████████▉| 6976/7000 [00:33<00:00, 209.57it/s]\n"
          ],
          "name": "stderr"
        },
        {
          "output_type": "stream",
          "text": [
            "D loss: 0.5942068099975586, G loss: 1.0797080993652344\n"
          ],
          "name": "stdout"
        },
        {
          "output_type": "stream",
          "text": [
            "Epoch: 46: 100%|█████████▉| 6976/7000 [00:31<00:00, 221.03it/s]\n"
          ],
          "name": "stderr"
        },
        {
          "output_type": "stream",
          "text": [
            "D loss: 0.5846916437149048, G loss: 1.027658462524414\n"
          ],
          "name": "stdout"
        },
        {
          "output_type": "stream",
          "text": [
            "Epoch: 47: 100%|█████████▉| 6976/7000 [00:33<00:00, 210.69it/s]\n"
          ],
          "name": "stderr"
        },
        {
          "output_type": "stream",
          "text": [
            "D loss: 0.6001688838005066, G loss: 1.0059490203857422\n"
          ],
          "name": "stdout"
        },
        {
          "output_type": "stream",
          "text": [
            "Epoch: 48: 100%|█████████▉| 6976/7000 [00:33<00:00, 208.54it/s]\n"
          ],
          "name": "stderr"
        },
        {
          "output_type": "stream",
          "text": [
            "D loss: 0.6015542149543762, G loss: 1.0228115320205688\n"
          ],
          "name": "stdout"
        },
        {
          "output_type": "stream",
          "text": [
            "Epoch: 49: 100%|█████████▉| 6976/7000 [00:29<00:00, 236.60it/s]\n"
          ],
          "name": "stderr"
        },
        {
          "output_type": "stream",
          "text": [
            "D loss: 0.5980252623558044, G loss: 1.0422120094299316\n"
          ],
          "name": "stdout"
        },
        {
          "output_type": "stream",
          "text": [
            "Epoch: 50: 100%|█████████▉| 6976/7000 [00:33<00:00, 209.42it/s]\n"
          ],
          "name": "stderr"
        },
        {
          "output_type": "stream",
          "text": [
            "D loss: 0.5946372747421265, G loss: 1.0805542469024658\n"
          ],
          "name": "stdout"
        },
        {
          "output_type": "stream",
          "text": [
            "Epoch: 51: 100%|█████████▉| 6976/7000 [00:29<00:00, 236.65it/s]\n"
          ],
          "name": "stderr"
        },
        {
          "output_type": "stream",
          "text": [
            "D loss: 0.584691047668457, G loss: 1.2294763326644897\n"
          ],
          "name": "stdout"
        },
        {
          "output_type": "stream",
          "text": [
            "Epoch: 52: 100%|█████████▉| 6976/7000 [00:33<00:00, 210.69it/s]\n"
          ],
          "name": "stderr"
        },
        {
          "output_type": "stream",
          "text": [
            "D loss: 0.6042906641960144, G loss: 1.1688570976257324\n"
          ],
          "name": "stdout"
        },
        {
          "output_type": "stream",
          "text": [
            "Epoch: 53: 100%|█████████▉| 6976/7000 [00:30<00:00, 231.17it/s]\n"
          ],
          "name": "stderr"
        },
        {
          "output_type": "stream",
          "text": [
            "D loss: 0.6089683771133423, G loss: 1.124407172203064\n"
          ],
          "name": "stdout"
        },
        {
          "output_type": "stream",
          "text": [
            "Epoch: 54: 100%|█████████▉| 6976/7000 [00:32<00:00, 212.14it/s]\n"
          ],
          "name": "stderr"
        },
        {
          "output_type": "stream",
          "text": [
            "D loss: 0.608351469039917, G loss: 1.0964982509613037\n"
          ],
          "name": "stdout"
        },
        {
          "output_type": "stream",
          "text": [
            "Epoch: 55: 100%|█████████▉| 6976/7000 [00:30<00:00, 229.78it/s]\n"
          ],
          "name": "stderr"
        },
        {
          "output_type": "stream",
          "text": [
            "D loss: 0.6157529354095459, G loss: 1.0393462181091309\n"
          ],
          "name": "stdout"
        },
        {
          "output_type": "stream",
          "text": [
            "Epoch: 56: 100%|█████████▉| 6976/7000 [00:33<00:00, 208.43it/s]\n"
          ],
          "name": "stderr"
        },
        {
          "output_type": "stream",
          "text": [
            "D loss: 0.6079546809196472, G loss: 1.0582191944122314\n"
          ],
          "name": "stdout"
        },
        {
          "output_type": "stream",
          "text": [
            "Epoch: 57: 100%|█████████▉| 6976/7000 [00:29<00:00, 236.86it/s]\n"
          ],
          "name": "stderr"
        },
        {
          "output_type": "stream",
          "text": [
            "D loss: 0.6110976934432983, G loss: 1.0478707551956177\n"
          ],
          "name": "stdout"
        },
        {
          "output_type": "stream",
          "text": [
            "Epoch: 58: 100%|█████████▉| 6976/7000 [00:29<00:00, 237.07it/s]\n"
          ],
          "name": "stderr"
        },
        {
          "output_type": "stream",
          "text": [
            "D loss: 0.6038562059402466, G loss: 1.07657790184021\n"
          ],
          "name": "stdout"
        },
        {
          "output_type": "stream",
          "text": [
            "Epoch: 59: 100%|█████████▉| 6976/7000 [00:29<00:00, 233.34it/s]\n"
          ],
          "name": "stderr"
        },
        {
          "output_type": "stream",
          "text": [
            "D loss: 0.6104317307472229, G loss: 1.0464657545089722\n"
          ],
          "name": "stdout"
        },
        {
          "output_type": "stream",
          "text": [
            "Epoch: 60: 100%|█████████▉| 6976/7000 [00:33<00:00, 207.66it/s]\n"
          ],
          "name": "stderr"
        },
        {
          "output_type": "stream",
          "text": [
            "D loss: 0.6098215579986572, G loss: 1.051120400428772\n"
          ],
          "name": "stdout"
        },
        {
          "output_type": "stream",
          "text": [
            "Epoch: 61: 100%|█████████▉| 6976/7000 [00:33<00:00, 207.11it/s]\n"
          ],
          "name": "stderr"
        },
        {
          "output_type": "stream",
          "text": [
            "D loss: 0.6092885136604309, G loss: 1.0392372608184814\n"
          ],
          "name": "stdout"
        },
        {
          "output_type": "stream",
          "text": [
            "Epoch: 62: 100%|█████████▉| 6976/7000 [00:33<00:00, 208.06it/s]\n"
          ],
          "name": "stderr"
        },
        {
          "output_type": "stream",
          "text": [
            "D loss: 0.6085025668144226, G loss: 1.0315841436386108\n"
          ],
          "name": "stdout"
        },
        {
          "output_type": "stream",
          "text": [
            "Epoch: 63: 100%|█████████▉| 6976/7000 [00:33<00:00, 208.83it/s]\n"
          ],
          "name": "stderr"
        },
        {
          "output_type": "stream",
          "text": [
            "D loss: 0.6100645065307617, G loss: 1.0199270248413086\n"
          ],
          "name": "stdout"
        },
        {
          "output_type": "stream",
          "text": [
            "Epoch: 64: 100%|█████████▉| 6976/7000 [00:33<00:00, 207.76it/s]\n"
          ],
          "name": "stderr"
        },
        {
          "output_type": "stream",
          "text": [
            "D loss: 0.6093204021453857, G loss: 1.0190716981887817\n"
          ],
          "name": "stdout"
        },
        {
          "output_type": "stream",
          "text": [
            "Epoch: 65: 100%|█████████▉| 6976/7000 [00:33<00:00, 206.89it/s]\n"
          ],
          "name": "stderr"
        },
        {
          "output_type": "stream",
          "text": [
            "D loss: 0.6061461567878723, G loss: 1.0977610349655151\n"
          ],
          "name": "stdout"
        },
        {
          "output_type": "stream",
          "text": [
            "Epoch: 66: 100%|█████████▉| 6976/7000 [00:32<00:00, 212.76it/s]\n"
          ],
          "name": "stderr"
        },
        {
          "output_type": "stream",
          "text": [
            "D loss: 0.5955106616020203, G loss: 1.0941601991653442\n"
          ],
          "name": "stdout"
        },
        {
          "output_type": "stream",
          "text": [
            "Epoch: 67: 100%|█████████▉| 6976/7000 [00:32<00:00, 216.37it/s]\n"
          ],
          "name": "stderr"
        },
        {
          "output_type": "stream",
          "text": [
            "D loss: 0.5884525179862976, G loss: 1.101958990097046\n"
          ],
          "name": "stdout"
        },
        {
          "output_type": "stream",
          "text": [
            "Epoch: 68: 100%|█████████▉| 6976/7000 [00:30<00:00, 232.15it/s]\n"
          ],
          "name": "stderr"
        },
        {
          "output_type": "stream",
          "text": [
            "D loss: 0.598006010055542, G loss: 1.1355996131896973\n"
          ],
          "name": "stdout"
        },
        {
          "output_type": "stream",
          "text": [
            "Epoch: 69: 100%|█████████▉| 6976/7000 [00:33<00:00, 210.29it/s]\n"
          ],
          "name": "stderr"
        },
        {
          "output_type": "stream",
          "text": [
            "D loss: 0.6057957410812378, G loss: 1.1147345304489136\n"
          ],
          "name": "stdout"
        },
        {
          "output_type": "stream",
          "text": [
            "Epoch: 70: 100%|█████████▉| 6976/7000 [00:29<00:00, 236.89it/s]\n"
          ],
          "name": "stderr"
        },
        {
          "output_type": "stream",
          "text": [
            "D loss: 0.6052626967430115, G loss: 1.0974832773208618\n"
          ],
          "name": "stdout"
        },
        {
          "output_type": "stream",
          "text": [
            "Epoch: 71: 100%|█████████▉| 6976/7000 [00:29<00:00, 234.36it/s]\n"
          ],
          "name": "stderr"
        },
        {
          "output_type": "stream",
          "text": [
            "D loss: 0.605911135673523, G loss: 1.0910050868988037\n"
          ],
          "name": "stdout"
        },
        {
          "output_type": "stream",
          "text": [
            "Epoch: 72: 100%|█████████▉| 6976/7000 [00:30<00:00, 232.30it/s]\n"
          ],
          "name": "stderr"
        },
        {
          "output_type": "stream",
          "text": [
            "D loss: 0.6048101186752319, G loss: 1.0997666120529175\n"
          ],
          "name": "stdout"
        },
        {
          "output_type": "stream",
          "text": [
            "Epoch: 73: 100%|█████████▉| 6976/7000 [00:29<00:00, 233.92it/s]\n"
          ],
          "name": "stderr"
        },
        {
          "output_type": "stream",
          "text": [
            "D loss: 0.603533148765564, G loss: 1.0283485651016235\n"
          ],
          "name": "stdout"
        },
        {
          "output_type": "stream",
          "text": [
            "Epoch: 74: 100%|█████████▉| 6976/7000 [00:29<00:00, 237.20it/s]\n"
          ],
          "name": "stderr"
        },
        {
          "output_type": "stream",
          "text": [
            "D loss: 0.6029543280601501, G loss: 1.016201376914978\n"
          ],
          "name": "stdout"
        },
        {
          "output_type": "stream",
          "text": [
            "Epoch: 75: 100%|█████████▉| 6976/7000 [00:33<00:00, 208.21it/s]\n"
          ],
          "name": "stderr"
        },
        {
          "output_type": "stream",
          "text": [
            "D loss: 0.6051474809646606, G loss: 1.0260539054870605\n"
          ],
          "name": "stdout"
        },
        {
          "output_type": "stream",
          "text": [
            "Epoch: 76: 100%|█████████▉| 6976/7000 [00:30<00:00, 226.03it/s]\n"
          ],
          "name": "stderr"
        },
        {
          "output_type": "stream",
          "text": [
            "D loss: 0.6082581877708435, G loss: 0.9849667549133301\n"
          ],
          "name": "stdout"
        },
        {
          "output_type": "stream",
          "text": [
            "Epoch: 77: 100%|█████████▉| 6976/7000 [00:30<00:00, 225.85it/s]\n"
          ],
          "name": "stderr"
        },
        {
          "output_type": "stream",
          "text": [
            "D loss: 0.6084210276603699, G loss: 0.9614973664283752\n"
          ],
          "name": "stdout"
        },
        {
          "output_type": "stream",
          "text": [
            "Epoch: 78: 100%|█████████▉| 6976/7000 [00:30<00:00, 232.08it/s]\n"
          ],
          "name": "stderr"
        },
        {
          "output_type": "stream",
          "text": [
            "D loss: 0.6127703785896301, G loss: 0.9679358005523682\n"
          ],
          "name": "stdout"
        },
        {
          "output_type": "stream",
          "text": [
            "Epoch: 79: 100%|█████████▉| 6976/7000 [00:31<00:00, 221.33it/s]\n"
          ],
          "name": "stderr"
        },
        {
          "output_type": "stream",
          "text": [
            "D loss: 0.6199245452880859, G loss: 0.9476484060287476\n"
          ],
          "name": "stdout"
        },
        {
          "output_type": "stream",
          "text": [
            "Epoch: 80: 100%|█████████▉| 6976/7000 [00:29<00:00, 238.13it/s]\n"
          ],
          "name": "stderr"
        },
        {
          "output_type": "stream",
          "text": [
            "D loss: 0.6187867522239685, G loss: 0.9294605851173401\n"
          ],
          "name": "stdout"
        },
        {
          "output_type": "stream",
          "text": [
            "Epoch: 81: 100%|█████████▉| 6976/7000 [00:31<00:00, 223.20it/s]\n"
          ],
          "name": "stderr"
        },
        {
          "output_type": "stream",
          "text": [
            "D loss: 0.6070896983146667, G loss: 0.9361454844474792\n"
          ],
          "name": "stdout"
        },
        {
          "output_type": "stream",
          "text": [
            "Epoch: 82: 100%|█████████▉| 6976/7000 [00:29<00:00, 235.89it/s]\n"
          ],
          "name": "stderr"
        },
        {
          "output_type": "stream",
          "text": [
            "D loss: 0.6050759553909302, G loss: 0.9544358849525452\n"
          ],
          "name": "stdout"
        },
        {
          "output_type": "stream",
          "text": [
            "Epoch: 83: 100%|█████████▉| 6976/7000 [00:31<00:00, 220.70it/s]\n"
          ],
          "name": "stderr"
        },
        {
          "output_type": "stream",
          "text": [
            "D loss: 0.605793297290802, G loss: 0.9614138007164001\n"
          ],
          "name": "stdout"
        },
        {
          "output_type": "stream",
          "text": [
            "Epoch: 84: 100%|█████████▉| 6976/7000 [00:29<00:00, 238.35it/s]\n"
          ],
          "name": "stderr"
        },
        {
          "output_type": "stream",
          "text": [
            "D loss: 0.609175443649292, G loss: 0.9543699622154236\n"
          ],
          "name": "stdout"
        },
        {
          "output_type": "stream",
          "text": [
            "Epoch: 85: 100%|█████████▉| 6976/7000 [00:31<00:00, 223.92it/s]\n"
          ],
          "name": "stderr"
        },
        {
          "output_type": "stream",
          "text": [
            "D loss: 0.6068158149719238, G loss: 0.9424768686294556\n"
          ],
          "name": "stdout"
        },
        {
          "output_type": "stream",
          "text": [
            "Epoch: 86: 100%|█████████▉| 6976/7000 [00:32<00:00, 212.96it/s]\n"
          ],
          "name": "stderr"
        },
        {
          "output_type": "stream",
          "text": [
            "D loss: 0.6076198816299438, G loss: 0.9683211445808411\n"
          ],
          "name": "stdout"
        },
        {
          "output_type": "stream",
          "text": [
            "Epoch: 87: 100%|█████████▉| 6976/7000 [00:29<00:00, 238.91it/s]\n"
          ],
          "name": "stderr"
        },
        {
          "output_type": "stream",
          "text": [
            "D loss: 0.6078503131866455, G loss: 0.960034966468811\n"
          ],
          "name": "stdout"
        },
        {
          "output_type": "stream",
          "text": [
            "Epoch: 88: 100%|█████████▉| 6976/7000 [00:29<00:00, 236.69it/s]\n"
          ],
          "name": "stderr"
        },
        {
          "output_type": "stream",
          "text": [
            "D loss: 0.6049802303314209, G loss: 0.9420931935310364\n"
          ],
          "name": "stdout"
        },
        {
          "output_type": "stream",
          "text": [
            "Epoch: 89: 100%|█████████▉| 6976/7000 [00:29<00:00, 233.66it/s]\n"
          ],
          "name": "stderr"
        },
        {
          "output_type": "stream",
          "text": [
            "D loss: 0.6067236661911011, G loss: 0.9122315049171448\n"
          ],
          "name": "stdout"
        },
        {
          "output_type": "stream",
          "text": [
            "Epoch: 90: 100%|█████████▉| 6976/7000 [00:29<00:00, 234.99it/s]\n"
          ],
          "name": "stderr"
        },
        {
          "output_type": "stream",
          "text": [
            "D loss: 0.610690712928772, G loss: 0.9428276419639587\n"
          ],
          "name": "stdout"
        },
        {
          "output_type": "stream",
          "text": [
            "Epoch: 91: 100%|█████████▉| 6976/7000 [00:31<00:00, 221.89it/s]\n"
          ],
          "name": "stderr"
        },
        {
          "output_type": "stream",
          "text": [
            "D loss: 0.6138714551925659, G loss: 1.0262728929519653\n"
          ],
          "name": "stdout"
        },
        {
          "output_type": "stream",
          "text": [
            "Epoch: 92: 100%|█████████▉| 6976/7000 [00:29<00:00, 236.57it/s]\n"
          ],
          "name": "stderr"
        },
        {
          "output_type": "stream",
          "text": [
            "D loss: 0.6003579497337341, G loss: 1.0101029872894287\n"
          ],
          "name": "stdout"
        },
        {
          "output_type": "stream",
          "text": [
            "Epoch: 93: 100%|█████████▉| 6976/7000 [00:29<00:00, 239.72it/s]\n"
          ],
          "name": "stderr"
        },
        {
          "output_type": "stream",
          "text": [
            "D loss: 0.6103414297103882, G loss: 1.020990252494812\n"
          ],
          "name": "stdout"
        },
        {
          "output_type": "stream",
          "text": [
            "Epoch: 94: 100%|█████████▉| 6976/7000 [00:32<00:00, 212.90it/s]\n"
          ],
          "name": "stderr"
        },
        {
          "output_type": "stream",
          "text": [
            "D loss: 0.6036573648452759, G loss: 0.9735022187232971\n"
          ],
          "name": "stdout"
        },
        {
          "output_type": "stream",
          "text": [
            "Epoch: 95: 100%|█████████▉| 6976/7000 [00:29<00:00, 236.78it/s]\n"
          ],
          "name": "stderr"
        },
        {
          "output_type": "stream",
          "text": [
            "D loss: 0.5985997915267944, G loss: 1.0165741443634033\n"
          ],
          "name": "stdout"
        },
        {
          "output_type": "stream",
          "text": [
            "Epoch: 96: 100%|█████████▉| 6976/7000 [00:30<00:00, 232.00it/s]\n"
          ],
          "name": "stderr"
        },
        {
          "output_type": "stream",
          "text": [
            "D loss: 0.6029770970344543, G loss: 1.0714004039764404\n"
          ],
          "name": "stdout"
        },
        {
          "output_type": "stream",
          "text": [
            "Epoch: 97: 100%|█████████▉| 6976/7000 [00:29<00:00, 233.86it/s]\n"
          ],
          "name": "stderr"
        },
        {
          "output_type": "stream",
          "text": [
            "D loss: 0.5973883271217346, G loss: 1.0889276266098022\n"
          ],
          "name": "stdout"
        },
        {
          "output_type": "stream",
          "text": [
            "Epoch: 98: 100%|█████████▉| 6976/7000 [00:29<00:00, 238.65it/s]\n"
          ],
          "name": "stderr"
        },
        {
          "output_type": "stream",
          "text": [
            "D loss: 0.5971915125846863, G loss: 1.1248077154159546\n"
          ],
          "name": "stdout"
        },
        {
          "output_type": "stream",
          "text": [
            "Epoch: 99: 100%|█████████▉| 6976/7000 [00:29<00:00, 238.77it/s]\n"
          ],
          "name": "stderr"
        },
        {
          "output_type": "stream",
          "text": [
            "D loss: 0.5952541828155518, G loss: 1.0792518854141235\n"
          ],
          "name": "stdout"
        }
      ]
    },
    {
      "cell_type": "code",
      "metadata": {
        "id": "qdEukvpITK_a",
        "colab_type": "code",
        "colab": {
          "base_uri": "https://localhost:8080/",
          "height": 286
        },
        "outputId": "4edcc00a-cd6d-42f6-90d0-3182a853e158"
      },
      "source": [
        "plt.imshow(trainX[i], cmap='gray_r')"
      ],
      "execution_count": null,
      "outputs": [
        {
          "output_type": "execute_result",
          "data": {
            "text/plain": [
              "<matplotlib.image.AxesImage at 0x7f1a2050eef0>"
            ]
          },
          "metadata": {
            "tags": []
          },
          "execution_count": 133
        },
        {
          "output_type": "display_data",
          "data": {
            "image/png": "[encoded data removed]",
            "text/plain": [
              "<Figure size 432x288 with 1 Axes>"
            ]
          },
          "metadata": {
            "tags": [],
            "needs_background": "light"
          }
        }
      ]
    },
    {
      "cell_type": "code",
      "metadata": {
        "id": "aUyKRM_Vqd9Y",
        "colab_type": "code",
        "colab": {}
      },
      "source": [
        ""
      ],
      "execution_count": null,
      "outputs": []
    }
  ]
}