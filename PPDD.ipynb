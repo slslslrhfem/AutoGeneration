{
  "nbformat": 4,
  "nbformat_minor": 0,
  "metadata": {
    "colab": {
      "name": "PPDD.ipynb",
      "provenance": [],
      "collapsed_sections": [],
      "machine_shape": "hm",
      "mount_file_id": "1vCXwudXUZpUmzLdlfBoJ0LU7XlCbKpgG",
      "authorship_tag": "ABX9TyNJqECUBTXKzeeP9W2yNm7K",
      "include_colab_link": true
    },
    "kernelspec": {
      "name": "python3",
      "display_name": "Python 3"
    },
    "accelerator": "GPU"
  },
  "cells": [
    {
      "cell_type": "markdown",
      "metadata": {
        "id": "view-in-github",
        "colab_type": "text"
      },
      "source": [
        "<a href=\"https://colab.research.google.com/github/slslslrhfem/AutoGeneration/blob/master/PPDD.ipynb\" target=\"_parent\"><img src=\"https://colab.research.google.com/assets/colab-badge.svg\" alt=\"Open In Colab\"/></a>"
      ]
    },
    {
      "cell_type": "code",
      "metadata": {
        "id": "upkZgrqruxem",
        "colab_type": "code",
        "colab": {}
      },
      "source": [
        "import keras\n",
        "import os\n",
        "import json\n",
        "import pandas\n",
        "import tensorflow as tf\n",
        "import numpy as np\n",
        "from keras.layers import Dense\n",
        "from keras import layers\n",
        "from keras import optimizers\n",
        "from keras.models import Sequential"
      ],
      "execution_count": null,
      "outputs": []
    },
    {
      "cell_type": "code",
      "metadata": {
        "id": "5kljETrpXyFX",
        "colab_type": "code",
        "colab": {}
      },
      "source": [
        "pip install tensorflow==1.15.0"
      ],
      "execution_count": null,
      "outputs": []
    },
    {
      "cell_type": "code",
      "metadata": {
        "id": "JdprhNM2Y2qy",
        "colab_type": "code",
        "colab": {
          "base_uri": "https://localhost:8080/",
          "height": 70
        },
        "outputId": "f341abed-760a-4f19-82ab-3db6ff599e4f"
      },
      "source": [
        "\"\"\"\n",
        "csvfilenames=os.listdir('/content/drive/My Drive/MARG/PPDD-Sep2018_sym_mono_large/PPDD-Sep2018_sym_mono_large/prime_csv')\n",
        "jsonfilenames=os.listdir('/content/drive/My Drive/MARG/PPDD-Sep2018_sym_mono_large/PPDD-Sep2018_sym_mono_large/descriptor')\n",
        "midifilenames=os.listdir('/content/drive/My Drive/MARG/PPDD-Sep2018_sym_mono_large/PPDD-Sep2018_sym_mono_large/prime_midi')\n",
        "\"\"\""
      ],
      "execution_count": null,
      "outputs": [
        {
          "output_type": "execute_result",
          "data": {
            "application/vnd.google.colaboratory.intrinsic+json": {
              "type": "string"
            },
            "text/plain": [
              "\"\\ncsvfilenames=os.listdir('/content/drive/My Drive/MARG/PPDD-Sep2018_sym_mono_large/PPDD-Sep2018_sym_mono_large/prime_csv')\\njsonfilenames=os.listdir('/content/drive/My Drive/MARG/PPDD-Sep2018_sym_mono_large/PPDD-Sep2018_sym_mono_large/descriptor')\\nmidifilenames=os.listdir('/content/drive/My Drive/MARG/PPDD-Sep2018_sym_mono_large/PPDD-Sep2018_sym_mono_large/prime_midi')\\n\""
            ]
          },
          "metadata": {
            "tags": []
          },
          "execution_count": 2
        }
      ]
    },
    {
      "cell_type": "code",
      "metadata": {
        "id": "0lpgz0bAYHsj",
        "colab_type": "code",
        "colab": {
          "base_uri": "https://localhost:8080/",
          "height": 70
        },
        "outputId": "2f2e52ec-a391-4a4c-8c6b-4a01d77f8ed3"
      },
      "source": [
        "import pickle\n",
        "\n",
        "\"\"\"\n",
        "with open('/content/drive/My Drive/MARG/PPDDlist/csvnamelist.txt', 'wb') as f:\n",
        "  pickle.dump(csvfilenames, f)\n",
        "with open('/content/drive/My Drive/MARG/PPDDlist/jsonnamelist.txt', 'wb') as f:\n",
        "  pickle.dump(jsonfilenames, f)\n",
        "with open('/content/drive/My Drive/MARG/PPDDlist/midinamelist.txt', 'wb') as f:\n",
        "  pickle.dump(midifilenames, f)\n",
        "\"\"\""
      ],
      "execution_count": 3,
      "outputs": [
        {
          "output_type": "execute_result",
          "data": {
            "application/vnd.google.colaboratory.intrinsic+json": {
              "type": "string"
            },
            "text/plain": [
              "\"\\nwith open('/content/drive/My Drive/MARG/PPDDlist/csvnamelist.txt', 'wb') as f:\\n  pickle.dump(csvfilenames, f)\\nwith open('/content/drive/My Drive/MARG/PPDDlist/jsonnamelist.txt', 'wb') as f:\\n  pickle.dump(jsonfilenames, f)\\nwith open('/content/drive/My Drive/MARG/PPDDlist/midinamelist.txt', 'wb') as f:\\n  pickle.dump(midifilenames, f)\\n\""
            ]
          },
          "metadata": {
            "tags": []
          },
          "execution_count": 3
        }
      ]
    },
    {
      "cell_type": "code",
      "metadata": {
        "id": "Nt3ElGb47kOE",
        "colab_type": "code",
        "colab": {
          "base_uri": "https://localhost:8080/",
          "height": 35
        },
        "outputId": "4abd9a25-e7f8-4a20-f8b6-399986daf12c"
      },
      "source": [
        "\"\"\"\n",
        "midifilenames=sorted(midifilenames)\n",
        "csvfilenames=sorted(csvfilenames)\n",
        "jsonfilenames=sorted(jsonfilenames)\n",
        "\"\"\""
      ],
      "execution_count": 4,
      "outputs": [
        {
          "output_type": "execute_result",
          "data": {
            "application/vnd.google.colaboratory.intrinsic+json": {
              "type": "string"
            },
            "text/plain": [
              "'\\nmidifilenames=sorted(midifilenames)\\ncsvfilenames=sorted(csvfilenames)\\njsonfilenames=sorted(jsonfilenames)\\n'"
            ]
          },
          "metadata": {
            "tags": []
          },
          "execution_count": 4
        }
      ]
    },
    {
      "cell_type": "code",
      "metadata": {
        "id": "KOjmQZTO0TtC",
        "colab_type": "code",
        "colab": {}
      },
      "source": [
        "def get_meta(filename):\n",
        "  with open('/content/drive/My Drive/MARG/PPDD-Sep2018_sym_mono_large/PPDD-Sep2018_sym_mono_large/descriptor/'+filename) as json_file:\n",
        "    meta_data = json.load(json_file)\n",
        "  return meta_data"
      ],
      "execution_count": 5,
      "outputs": []
    },
    {
      "cell_type": "code",
      "metadata": {
        "id": "MxEabHuzyjFE",
        "colab_type": "code",
        "colab": {
          "base_uri": "https://localhost:8080/",
          "height": 124
        },
        "outputId": "cdca7ef9-c7dd-4166-883d-c89806063eb5"
      },
      "source": [
        "pip install mido"
      ],
      "execution_count": 6,
      "outputs": [
        {
          "output_type": "stream",
          "text": [
            "Collecting mido\n",
            "\u001b[?25l  Downloading https://files.pythonhosted.org/packages/20/0a/81beb587b1ae832ea6a1901dc7c6faa380e8dd154e0a862f0a9f3d2afab9/mido-1.2.9-py2.py3-none-any.whl (52kB)\n",
            "\r\u001b[K     |██████▎                         | 10kB 27.1MB/s eta 0:00:01\r\u001b[K     |████████████▌                   | 20kB 3.1MB/s eta 0:00:01\r\u001b[K     |██████████████████▊             | 30kB 4.1MB/s eta 0:00:01\r\u001b[K     |█████████████████████████       | 40kB 4.5MB/s eta 0:00:01\r\u001b[K     |███████████████████████████████▏| 51kB 3.6MB/s eta 0:00:01\r\u001b[K     |████████████████████████████████| 61kB 3.0MB/s \n",
            "\u001b[?25hInstalling collected packages: mido\n",
            "Successfully installed mido-1.2.9\n"
          ],
          "name": "stdout"
        }
      ]
    },
    {
      "cell_type": "code",
      "metadata": {
        "id": "bJ3x-FF_4XGK",
        "colab_type": "code",
        "colab": {
          "base_uri": "https://localhost:8080/",
          "height": 264
        },
        "outputId": "11f9f2cc-c3cb-43d9-9d90-07fcf06423fd"
      },
      "source": [
        "pip install pretty_midi"
      ],
      "execution_count": 7,
      "outputs": [
        {
          "output_type": "stream",
          "text": [
            "Collecting pretty_midi\n",
            "\u001b[?25l  Downloading https://files.pythonhosted.org/packages/bc/8e/63c6e39a7a64623a9cd6aec530070c70827f6f8f40deec938f323d7b1e15/pretty_midi-0.2.9.tar.gz (5.6MB)\n",
            "\u001b[K     |████████████████████████████████| 5.6MB 3.8MB/s \n",
            "\u001b[?25hRequirement already satisfied: numpy>=1.7.0 in /usr/local/lib/python3.6/dist-packages (from pretty_midi) (1.18.5)\n",
            "Requirement already satisfied: mido>=1.1.16 in /usr/local/lib/python3.6/dist-packages (from pretty_midi) (1.2.9)\n",
            "Requirement already satisfied: six in /usr/local/lib/python3.6/dist-packages (from pretty_midi) (1.15.0)\n",
            "Building wheels for collected packages: pretty-midi\n",
            "  Building wheel for pretty-midi (setup.py) ... \u001b[?25l\u001b[?25hdone\n",
            "  Created wheel for pretty-midi: filename=pretty_midi-0.2.9-cp36-none-any.whl size=5591953 sha256=b501c1eaeaf6f835c919f0736f0f5c19e65437eb7be929c8e46398b34217e823\n",
            "  Stored in directory: /root/.cache/pip/wheels/4c/a1/c6/b5697841db1112c6e5866d75a6b6bf1bef73b874782556ba66\n",
            "Successfully built pretty-midi\n",
            "Installing collected packages: pretty-midi\n",
            "Successfully installed pretty-midi-0.2.9\n"
          ],
          "name": "stdout"
        }
      ]
    },
    {
      "cell_type": "code",
      "metadata": {
        "id": "QoAxt13seNi-",
        "colab_type": "code",
        "colab": {}
      },
      "source": [
        "import pretty_midi\n",
        "import mido\n",
        "from tqdm import tqdm\n",
        "import pickle\n",
        "with open('/content/drive/My Drive/MARG/PPDDlist/midilist.txt', 'rb') as f:\n",
        "  midilist=pickle.load(f)\n",
        "with open('/content/drive/My Drive/MARG/PPDDlist/csvlist.txt', 'rb') as f2:\n",
        "  csvlist=pickle.load(f2)\n",
        "with open('/content/drive/My Drive/MARG/PPDDlist/jsonlist.txt', 'rb') as f3:\n",
        "  jsonlist=pickle.load(f3)\n",
        "with open('/content/drive/My Drive/MARG/PPDDlist/prettymidilist.txt', 'rb') as f4:\n",
        "  prettymidilist=pickle.load(f4)"
      ],
      "execution_count": 8,
      "outputs": []
    },
    {
      "cell_type": "code",
      "metadata": {
        "id": "Yc57uuAq2gx9",
        "colab_type": "code",
        "colab": {
          "base_uri": "https://localhost:8080/",
          "height": 140
        },
        "outputId": "0b7ff18d-f402-46c8-aacc-e557ad296872"
      },
      "source": [
        "\"\"\"\n",
        "import pretty_midi\n",
        "import mido\n",
        "from tqdm import tqdm\n",
        "midilist=[]\n",
        "csvlist=[]\n",
        "jsonlist=[]\n",
        "prettymidilist=[]\n",
        "for filenames in tqdm(midifilenames,position=0):\n",
        "  midi_path='/content/drive/My Drive/MARG/PPDD-Sep2018_sym_mono_large/PPDD-Sep2018_sym_mono_large/prime_midi/'+filenames\n",
        "  mid = mido.MidiFile(midi_path, clip=True)\n",
        "  midilist.append(mid)\n",
        "  prettymid=pretty_midi.PrettyMIDI(midi_path)\n",
        "  prettymidilist.append(prettymid)\n",
        "\n",
        "for filenames in tqdm(csvfilenames,position=0):\n",
        "  csv_path='/content/drive/My Drive/MARG/PPDD-Sep2018_sym_mono_large/PPDD-Sep2018_sym_mono_large/prime_csv/'+filenames\n",
        "  csv = pandas.read_csv(csv_path)\n",
        "  csvlist.append(csv)\n",
        "for filenames in tqdm(jsonfilenames,position=0):\n",
        "  jsonlist.append(get_meta(filenames))\n",
        "\n",
        "#midifilenames와 list들의 순서는 같다고 생각하고 코드 작성\n",
        "\"\"\""
      ],
      "execution_count": 9,
      "outputs": [
        {
          "output_type": "execute_result",
          "data": {
            "application/vnd.google.colaboratory.intrinsic+json": {
              "type": "string"
            },
            "text/plain": [
              "\"\\nimport pretty_midi\\nimport mido\\nfrom tqdm import tqdm\\nmidilist=[]\\ncsvlist=[]\\njsonlist=[]\\nprettymidilist=[]\\nfor filenames in tqdm(midifilenames,position=0):\\n  midi_path='/content/drive/My Drive/MARG/PPDD-Sep2018_sym_mono_large/PPDD-Sep2018_sym_mono_large/prime_midi/'+filenames\\n  mid = mido.MidiFile(midi_path, clip=True)\\n  midilist.append(mid)\\n  prettymid=pretty_midi.PrettyMIDI(midi_path)\\n  prettymidilist.append(prettymid)\\n\\nfor filenames in tqdm(csvfilenames,position=0):\\n  csv_path='/content/drive/My Drive/MARG/PPDD-Sep2018_sym_mono_large/PPDD-Sep2018_sym_mono_large/prime_csv/'+filenames\\n  csv = pandas.read_csv(csv_path)\\n  csvlist.append(csv)\\nfor filenames in tqdm(jsonfilenames,position=0):\\n  jsonlist.append(get_meta(filenames))\\n\\n#midifilenames와 list들의 순서는 같다고 생각하고 코드 작성\\n\""
            ]
          },
          "metadata": {
            "tags": []
          },
          "execution_count": 9
        }
      ]
    },
    {
      "cell_type": "code",
      "metadata": {
        "id": "czIsThWnDhqF",
        "colab_type": "code",
        "colab": {
          "base_uri": "https://localhost:8080/",
          "height": 87
        },
        "outputId": "5b5264b5-170a-4b1f-cf35-46a69919b3e9"
      },
      "source": [
        "\"\"\"\n",
        "import pickle\n",
        "with open('/content/drive/My Drive/MARG/PPDDlist/midilist.txt', 'wb') as f:\n",
        "  pickle.dump(midilist, f)\n",
        "with open('/content/drive/My Drive/MARG/PPDDlist/csvlist.txt', 'wb') as f:\n",
        "  pickle.dump(csvlist, f)\n",
        "with open('/content/drive/My Drive/MARG/PPDDlist/jsonlist.txt', 'wb') as f:\n",
        "  pickle.dump(jsonlist, f)\n",
        "with open('/content/drive/My Drive/MARG/PPDDlist/prettymidilist.txt', 'wb') as f:\n",
        "  pickle.dump(prettymidilist, f)\n",
        "\"\"\""
      ],
      "execution_count": 10,
      "outputs": [
        {
          "output_type": "execute_result",
          "data": {
            "application/vnd.google.colaboratory.intrinsic+json": {
              "type": "string"
            },
            "text/plain": [
              "\"\\nimport pickle\\nwith open('/content/drive/My Drive/MARG/PPDDlist/midilist.txt', 'wb') as f:\\n  pickle.dump(midilist, f)\\nwith open('/content/drive/My Drive/MARG/PPDDlist/csvlist.txt', 'wb') as f:\\n  pickle.dump(csvlist, f)\\nwith open('/content/drive/My Drive/MARG/PPDDlist/jsonlist.txt', 'wb') as f:\\n  pickle.dump(jsonlist, f)\\nwith open('/content/drive/My Drive/MARG/PPDDlist/prettymidilist.txt', 'wb') as f:\\n  pickle.dump(prettymidilist, f)\\n\""
            ]
          },
          "metadata": {
            "tags": []
          },
          "execution_count": 10
        }
      ]
    },
    {
      "cell_type": "markdown",
      "metadata": {
        "id": "rOttPVfF_yuk",
        "colab_type": "text"
      },
      "source": [
        "아래의 코드는 csv기반의 Processing을 진행한다. \n",
        "MIDI 기반의 Processing은 다음 블록에 작성되어 있으며, 둘 중 하나만 굴리면 된다."
      ]
    },
    {
      "cell_type": "code",
      "metadata": {
        "id": "q_pieqXw_Yq0",
        "colab_type": "code",
        "colab": {
          "base_uri": "https://localhost:8080/",
          "height": 140
        },
        "outputId": "0a85f179-6780-44fa-9c14-0ad79ebbe1b6"
      },
      "source": [
        "#현재 CSV dataset에 문제가 있어보인다..\n",
        "\"\"\"\n",
        "bar_list=[]\n",
        "one_bar_number_list=[]\n",
        "starting_number_list=[]\n",
        "import numpy as np\n",
        "for i,csvs in enumerate(tqdm(csvlist)):\n",
        "  a=np.array([list(map(float,csvs.columns))])#column에도 숫자가 들어가 있어서.. 경우에 따라 조절한다\n",
        "  b=np.array(csvs.values)\n",
        "  csvarray=np.concatenate((a,b),axis=0)\n",
        "  if('timeSignature' not in jsonlist[i]):\n",
        "    jsonlist[i]['timeSignature']=[4,4]\n",
        "  one_bar_number=jsonlist[i]['timeSignature'][0]\n",
        "  bar_number=(csvarray[-1][0]-csvarray[0][0])//one_bar_number+1\n",
        "  bar_info_list=[]\n",
        "  for i in range(int(bar_number)):\n",
        "    starting_bar_time=csvarray[0][0]+i*one_bar_number\n",
        "    bar_info_list.append(csvarray[np.where( (starting_bar_time<=csvarray[:,0]) & (csvarray[:,0]<starting_bar_time+one_bar_number) )])\n",
        "  bar_list.append(bar_info_list)\n",
        "  one_bar_number_list.append(one_bar_number)\n",
        "  starting_number_list.append(csvarray[0][0])\n",
        "\"\"\""
      ],
      "execution_count": 11,
      "outputs": [
        {
          "output_type": "execute_result",
          "data": {
            "application/vnd.google.colaboratory.intrinsic+json": {
              "type": "string"
            },
            "text/plain": [
              "\"\\nbar_list=[]\\none_bar_number_list=[]\\nstarting_number_list=[]\\nimport numpy as np\\nfor i,csvs in enumerate(tqdm(csvlist)):\\n  a=np.array([list(map(float,csvs.columns))])#column에도 숫자가 들어가 있어서.. 경우에 따라 조절한다\\n  b=np.array(csvs.values)\\n  csvarray=np.concatenate((a,b),axis=0)\\n  if('timeSignature' not in jsonlist[i]):\\n    jsonlist[i]['timeSignature']=[4,4]\\n  one_bar_number=jsonlist[i]['timeSignature'][0]\\n  bar_number=(csvarray[-1][0]-csvarray[0][0])//one_bar_number+1\\n  bar_info_list=[]\\n  for i in range(int(bar_number)):\\n    starting_bar_time=csvarray[0][0]+i*one_bar_number\\n    bar_info_list.append(csvarray[np.where( (starting_bar_time<=csvarray[:,0]) & (csvarray[:,0]<starting_bar_time+one_bar_number) )])\\n  bar_list.append(bar_info_list)\\n  one_bar_number_list.append(one_bar_number)\\n  starting_number_list.append(csvarray[0][0])\\n\""
            ]
          },
          "metadata": {
            "tags": []
          },
          "execution_count": 11
        }
      ]
    },
    {
      "cell_type": "code",
      "metadata": {
        "id": "IeRQyawg_8tO",
        "colab_type": "code",
        "colab": {}
      },
      "source": [
        "#이게 이제 input을 midi로 받는 코드.\n",
        "import numpy as np\n",
        "import pretty_midi\n",
        "bar_list=[]\n",
        "one_bar_number_list=[]\n",
        "starting_number_list=[]\n",
        "for i,songs in enumerate(prettymidilist):#곡마다.\n",
        "  for instrument in songs.instruments: #2. 어차피 instrument하나\n",
        "    csvarray=[]\n",
        "    for note in instrument.notes: #3\n",
        "      row=[note.start*2, note.pitch, note.pitch, (note.end - note.start)*2, 0] #*2를 해줘야 제대로 하나의 bar가 하나의 단위가 된다.\n",
        "      csvarray.append(row)\n",
        "  csvarray=np.array(csvarray)\n",
        "  if('timeSignature' not in jsonlist[i]):\n",
        "    jsonlist[i]['timeSignature']=[4,4]\n",
        "  one_bar_number=jsonlist[i]['timeSignature'][0]\n",
        "  bar_number=(csvarray[-1][0]-csvarray[0][0])//one_bar_number+1\n",
        "  bar_info_list=[]\n",
        "  for i in range(int(bar_number)):\n",
        "    starting_bar_time=csvarray[0][0]+i*one_bar_number\n",
        "    bar_info_list.append(csvarray[np.where( (starting_bar_time<=csvarray[:,0]) & (csvarray[:,0]<starting_bar_time+one_bar_number) )])\n",
        "  bar_list.append(bar_info_list)# bar info list가 bar마다 csv내용들 담겨져 있는거다.\n",
        "  one_bar_number_list.append(one_bar_number)\n",
        "  starting_number_list.append(csvarray[0][0])"
      ],
      "execution_count": 12,
      "outputs": []
    },
    {
      "cell_type": "code",
      "metadata": {
        "id": "7ubPcKmPBXQH",
        "colab_type": "code",
        "colab": {
          "base_uri": "https://localhost:8080/",
          "height": 70
        },
        "outputId": "71122ee2-2d11-40ea-8e83-1f2212be4365"
      },
      "source": [
        "\"\"\"\n",
        "for bars in bar_list:\n",
        "  #print(len(bars))결과 보면 다 다르다. 따라서 정해진 Shape가 없음\n",
        "  for matrix in bars:\n",
        "    for lists in matrix:\n",
        "      if (lists[1]<24):\n",
        "        print(lists[1])#Small Data기준 95가 최대, 25가 Minimum. Big Data로 바꾸면 추가적인 조절 가능할듯\n",
        "\"\"\""
      ],
      "execution_count": 13,
      "outputs": [
        {
          "output_type": "execute_result",
          "data": {
            "application/vnd.google.colaboratory.intrinsic+json": {
              "type": "string"
            },
            "text/plain": [
              "'\\nfor bars in bar_list:\\n  #print(len(bars))결과 보면 다 다르다. 따라서 정해진 Shape가 없음\\n  for matrix in bars:\\n    for lists in matrix:\\n      if (lists[1]<24):\\n        print(lists[1])#Small Data기준 95가 최대, 25가 Minimum. Big Data로 바꾸면 추가적인 조절 가능할듯\\n'"
            ]
          },
          "metadata": {
            "tags": []
          },
          "execution_count": 13
        }
      ]
    },
    {
      "cell_type": "code",
      "metadata": {
        "id": "ioRp4dJDCtUK",
        "colab_type": "code",
        "colab": {
          "base_uri": "https://localhost:8080/",
          "height": 139
        },
        "outputId": "7ba1fa2b-dc90-4fb3-b721-709c379f8b86"
      },
      "source": [
        "print(bar_list[0][0])#1번째 곡의 1번째 bar."
      ],
      "execution_count": 14,
      "outputs": [
        {
          "output_type": "stream",
          "text": [
            "[[ 0.  48.  48.   0.5  0. ]\n",
            " [ 0.5 55.  55.   0.5  0. ]\n",
            " [ 1.5 52.  52.   0.5  0. ]\n",
            " [ 2.  50.  50.   0.5  0. ]\n",
            " [ 2.5 48.  48.   0.5  0. ]\n",
            " [ 3.  46.  46.   1.   0. ]\n",
            " [ 4.  53.  53.   0.5  0. ]]\n"
          ],
          "name": "stdout"
        }
      ]
    },
    {
      "cell_type": "code",
      "metadata": {
        "id": "aK7G2wiA4fgg",
        "colab_type": "code",
        "colab": {}
      },
      "source": [
        "def nearest_time(time,minimum_size):\n",
        "  #혹시나 값이 조금 벗어나는 엇박 음을 가까운 최소단위로 Shifting한다.\n",
        "  #다만 엇박 관련 Skill Detecting을 따로 고려할시 코드를 수정할 수 있다.\n",
        "  num_to_multiply=time/minimum_size\n",
        "  num_to_multiply=int(num_to_multiply)\n",
        "  left_time=num_to_multiply*minimum_size\n",
        "  right_time=left_time+minimum_size\n",
        "  if (time-left_time>=right_time-time):\n",
        "    return right_time\n",
        "  return left_time\n",
        "def bar_to_matrix1(bar,one_bar_number,starting_number,i):\n",
        "  #그냥 점만 남긴다.\n",
        "  #8/6박이면 one_bar_number가 8이다. 그러면 바 1개당 무조건 12개 처리하는거로 한다.\n",
        "  #lists[0]은 시간, lists[1]은 Note 높이, lists[3]은 Duration. \n",
        "  init=np.zeros((112,96))#112는 Note의 수(감으로 써둠.. 나중에 전체 데이터로 할때 수정 가능성 있음 그런데 Shift를 잘 이용하면 96*96도 가능해보임.)\n",
        "  minimum_size=one_bar_number/96\n",
        "  zero_time=starting_number+one_bar_number*i    \n",
        "  for j,lists in enumerate(bar):\n",
        "    \n",
        "    point=int((nearest_time(lists[0],minimum_size)-zero_time)/minimum_size)\n",
        "    if(point==96):\n",
        "      point=92\n",
        "    \n",
        "    init[111-int(lists[1])][point]=lists[3]#111-int(list[1])형태로 해야 직관적인 PianoRoll 형태가 ㅏ온다.\n",
        "  return init\n",
        "def bar_to_matrix2(bar,one_bar_number,starting_number,i):\n",
        "  #Duration에 따라 Ploting한다.\n",
        "  #8/6박이면 one_bar_number가 8이다. 그러면 바 1개당 무조건 12개 처리하는거로 한다.\n",
        "\n",
        "  init=np.zeros((112,96))#112는 Note의 수(감으로 써둠.. 나중에 전체 데이터로 할때 수정 가능성 있음 그런데 Shift를 잘 이용하면 96*96도 가능해보임.)\n",
        "  minimum_size=one_bar_number/96\n",
        "  zero_time=starting_number+one_bar_number*i    \n",
        "  for j,lists in enumerate(bar):\n",
        "    #lists[0]은 시간, lists[1]은 Note 높이, lists[3]은 Duration. \n",
        "    point=int((nearest_time(lists[0],minimum_size)-zero_time)/minimum_size)\n",
        "    length=int(round(lists[3]/minimum_size))\n",
        "    if (length>3):\n",
        "      length=length-1#여러번 두두두 치는 음을 구별하기 위함\n",
        "    if (point+length>95):\n",
        "      length=95-point # 한 음이 2Bar에 걸쳐있는 경우 Bar 뒤쪽의 음을 무시한다.\n",
        "    init[111-int(lists[1])][point:point+length]+=1\n",
        "  return init\n",
        "\n",
        "def bar_to_matrix3(bar,one_bar_number,starting_number,i):\n",
        "  #Duration에 따라 Ploting한다.\n",
        "  #size를 상당히 작게 잡는다.\n",
        "  #8/6박이면 one_bar_number가 8이다. 그러면 바 1개당 무조건 12개 처리하는거로 한다.\n",
        "\n",
        "  init=np.zeros((24,24))#112는 Note의 수(감으로 써둠.. 나중에 전체 데이터로 할때 수정 가능성 있음 그런데 Shift를 잘 이용하면 96*96도 가능해보임.)\n",
        "  minimum_size=one_bar_number/24\n",
        "  zero_time=starting_number+one_bar_number*i\n",
        "  min_height=500\n",
        "  for lists in bar:\n",
        "    if min_height>lists[1]:\n",
        "      min_height=lists[1]    \n",
        "  for j,lists in enumerate(bar):\n",
        "    #lists[0]은 시간, lists[1]은 Note 높이, lists[3]은 Duration. \n",
        "    point=int((nearest_time(lists[0],minimum_size)-zero_time)/minimum_size)\n",
        "    length=int(round(lists[3]/minimum_size))\n",
        "    if (length>3):\n",
        "      length=length-1#여러번 두두두 치는 음을 구별하기 위함\n",
        "    if (point+length>23):\n",
        "      length=23-point # 한 음이 2Bar에 걸쳐있는 경우 Bar 뒤쪽의 음을 무시한다.\n",
        "    height=lists[1]-min_height\n",
        "    while(height>23):\n",
        "      height=height-12\n",
        "    init[23-int(height)][point:point+length]+=1\n",
        "  return init"
      ],
      "execution_count": 15,
      "outputs": []
    },
    {
      "cell_type": "code",
      "metadata": {
        "id": "t34eVSFIT6M-",
        "colab_type": "code",
        "colab": {}
      },
      "source": [
        "import copy\n",
        "#bar_list to bar_matrix_list\n",
        "#bar_matrix_list=copy.deepcopy(bar_list)\n",
        "#bar_matrix_list2=copy.deepcopy(bar_list)\n",
        "bar_matrix_list3=copy.deepcopy(bar_list)\n",
        "for i,songs in enumerate(bar_matrix_list3):\n",
        "  for j,bar in enumerate(songs):\n",
        "    #print(one_bar_number_list[i],starting_number_list[i])\n",
        "    #matrix=bar_to_matrix1(bar,one_bar_number_list[i],starting_number_list[i],j)\n",
        "    #matrix2=bar_to_matrix2(bar,one_bar_number_list[i],starting_number_list[i],j)\n",
        "    matrix3=bar_to_matrix3(bar,one_bar_number_list[i],starting_number_list[i],j)\n",
        "    #bar_matrix_list[i][j]=matrix\n",
        "    #bar_matrix_list2[i][j]=matrix2\n",
        "    bar_matrix_list3[i][j]=matrix3"
      ],
      "execution_count": 16,
      "outputs": []
    },
    {
      "cell_type": "code",
      "metadata": {
        "id": "AO6-SYCu29qF",
        "colab_type": "code",
        "colab": {
          "base_uri": "https://localhost:8080/",
          "height": 238
        },
        "outputId": "41a238cf-76ad-4775-e3ad-4ba7c28c7e8f"
      },
      "source": [
        "#print(bar_list[0][0],bar_matrix_list[0][0],bar_matrix_list2[0][0]) 큰 의미 없다\n",
        "import numpy as np\n",
        "import matplotlib.pyplot as plt\n",
        "\n",
        "H = bar_matrix_list3[0][0]\n",
        "\n",
        "fig = plt.figure(figsize=(6, 3.2))\n",
        "\n",
        "ax = fig.add_subplot(111)\n",
        "ax.set_title('colorMap')\n",
        "plt.imshow(H)\n",
        "ax.set_aspect('equal')\n",
        "\n",
        "cax = fig.add_axes([0.12, 0.1, 0.78, 0.8])\n",
        "cax.get_xaxis().set_visible(False)\n",
        "cax.get_yaxis().set_visible(False)\n",
        "cax.patch.set_alpha(0)\n",
        "cax.set_frame_on(False)\n",
        "plt.colorbar(orientation='vertical')\n",
        "plt.show()"
      ],
      "execution_count": 17,
      "outputs": [
        {
          "output_type": "display_data",
          "data": {
            "image/png": "[encoded data removed]",
            "text/plain": [
              "<Figure size 432x230.4 with 3 Axes>"
            ]
          },
          "metadata": {
            "tags": [],
            "needs_background": "light"
          }
        }
      ]
    },
    {
      "cell_type": "code",
      "metadata": {
        "id": "IV-em-Jo4I8H",
        "colab_type": "code",
        "colab": {
          "base_uri": "https://localhost:8080/",
          "height": 136
        },
        "outputId": "c92bab84-eb9d-4a37-f493-960c2b4d8275"
      },
      "source": [
        "tot=bar_matrix_list3[2]\n",
        "H=bar_matrix_list3[2][0]\n",
        "for i in range(1,len(tot)):\n",
        "  a=bar_matrix_list3[2][i]\n",
        "  H=np.concatenate((H,a),axis=1)\n",
        "  \n",
        "fig = plt.figure(figsize=(30, 3.2))\n",
        "\n",
        "ax = fig.add_subplot(111)\n",
        "ax.set_title('colorMap')\n",
        "plt.imshow(H)\n",
        "ax.set_aspect('equal')\n",
        "\n",
        "cax = fig.add_axes([0.12, 0.1, 0.78, 0.8])\n",
        "cax.get_xaxis().set_visible(False)\n",
        "cax.get_yaxis().set_visible(False)\n",
        "cax.patch.set_alpha(0)\n",
        "cax.set_frame_on(False)\n",
        "plt.colorbar(orientation='vertical')\n",
        "plt.show()\n",
        "#위 for문 없이 돌리면 1 bar만 나옴"
      ],
      "execution_count": 18,
      "outputs": [
        {
          "output_type": "display_data",
          "data": {
            "image/png": "[encoded data removed]",
            "text/plain": [
              "<Figure size 2160x230.4 with 3 Axes>"
            ]
          },
          "metadata": {
            "tags": [],
            "needs_background": "light"
          }
        }
      ]
    },
    {
      "cell_type": "code",
      "metadata": {
        "id": "QhslYmbJdSba",
        "colab_type": "code",
        "colab": {}
      },
      "source": [
        "def bar_to_contour(bar,one_bar_number,starting_number,j):\n",
        "  contour=[]\n",
        "  pitch_change_list=[]\n",
        "  duration_list=[]\n",
        "  real_pitch_list=[]\n",
        "  real_time_list=[]\n",
        "  real_duration_list=[]\n",
        "  now_pitch=1000\n",
        "  first_time=starting_number+one_bar_number*j\n",
        "  a=0\n",
        "  for lists in bar:\n",
        "    if(a!=0): \n",
        "      real_time_list.append(lists[0]-now_rhythm)\n",
        "    now_rhythm=lists[0]\n",
        "    a+=1\n",
        "    if (first_time*1.001<lists[0]):#smoothing for case like first time=5.00001, lists[0]=5.0000..\n",
        "      resting_time=lists[0]-first_time\n",
        "      duration_list.append(resting_time)\n",
        "      first_time=lists[0]\n",
        "      pitch_change_list.append('Rest')\n",
        "    if (now_pitch==1000):\n",
        "      pitch_change_list.append('Starting_Point')\n",
        "      real_pitch_list.append('Starting_Point')\n",
        "      real_duration_list.append(lists[3])\n",
        "      duration_list.append(lists[3])\n",
        "      first_time=first_time+lists[3]\n",
        "      now_pitch=lists[1]\n",
        "      a+=1\n",
        "    else:\n",
        "      pitch_change=lists[1]-now_pitch\n",
        "      pitch_change_list.append(str(pitch_change))#나중에 int로 바꿔쓸 것. 자료형 터지는거 때문에 우선 스트링.\n",
        "      duration_list.append(lists[3])\n",
        "      real_duration_list.append(lists[3])\n",
        "      first_time=first_time+lists[3]\n",
        "      now_pitch=lists[1]\n",
        "      real_pitch_list.append(str(pitch_change))\n",
        "  if (first_time*1.001<starting_number+one_bar_number*(j+1)):\n",
        "    pitch_change_list.append('Rest')#마지막 Rest\n",
        "    duration_list.append(starting_number+one_bar_number*(j+1)-first_time)\n",
        "  if(len(bar)!=0):\n",
        "    real_time_list.append(starting_number+one_bar_number*(j+1)-now_rhythm)\n",
        "  contour.append(pitch_change_list)\n",
        "  contour.append(duration_list)\n",
        "  contour.append(real_pitch_list)\n",
        "  contour.append(real_time_list)\n",
        "  contour.append(real_duration_list)\n",
        "  #something\n",
        "  return contour\n",
        "\n"
      ],
      "execution_count": 19,
      "outputs": []
    },
    {
      "cell_type": "markdown",
      "metadata": {
        "id": "nkt16alDXVFp",
        "colab_type": "text"
      },
      "source": [
        "Plot에서 중요한것은 Y-Axis의 0~112의 숫자가 Note의 반대 성향을 가진다는 것이다.(숫자가 커질수록 Note의 높이가 낮아진다.) 이는 PianoRoll을 이미지 처럼 사용하는 과정에서, 직관적인 학습이 가능하도록 이와 같이 구현한 것이다."
      ]
    },
    {
      "cell_type": "code",
      "metadata": {
        "id": "9DB6np0r4pr0",
        "colab_type": "code",
        "colab": {}
      },
      "source": [
        "bar_contour_list=copy.deepcopy(bar_list)\n",
        "for i,songs in enumerate(bar_list):\n",
        "  for j,bar in enumerate(songs):\n",
        "    contour=bar_to_contour(bar,one_bar_number_list[i],starting_number_list[i],j)\n",
        "    bar_contour_list[i][j]=contour\n"
      ],
      "execution_count": 20,
      "outputs": []
    },
    {
      "cell_type": "markdown",
      "metadata": {
        "id": "FFxmPmNCVpBD",
        "colab_type": "text"
      },
      "source": [
        "bar_contour_list : 중간과정\n",
        "bar_matrix_list2 : 아마 학습에 사용하게 될 Matrix의 List\n",
        "bar_label_list : 학습에 사용하게 될 Label의 List"
      ]
    },
    {
      "cell_type": "code",
      "metadata": {
        "id": "PO49MM20Lth1",
        "colab_type": "code",
        "colab": {
          "base_uri": "https://localhost:8080/",
          "height": 54
        },
        "outputId": "28dd7f92-160d-4075-debe-5c9a45d2f490"
      },
      "source": [
        "print(bar_contour_list[0][0])\n"
      ],
      "execution_count": 21,
      "outputs": [
        {
          "output_type": "stream",
          "text": [
            "[['Starting_Point', '7.0', 'Rest', '-3.0', '-2.0', '-2.0', '-2.0', '7.0', 'Rest'], [0.5, 0.5, 0.5, 0.5, 0.5, 0.5, 1.0, 0.5, 0.5], ['Starting_Point', '7.0', '-3.0', '-2.0', '-2.0', '-2.0', '7.0'], [0.5, 1.0, 0.5, 0.5, 0.5, 1.0, 1.0], [0.5, 0.5, 0.5, 0.5, 0.5, 1.0, 0.5]]\n"
          ],
          "name": "stdout"
        }
      ]
    },
    {
      "cell_type": "code",
      "metadata": {
        "id": "cqJXy8Wqv1od",
        "colab_type": "code",
        "colab": {
          "base_uri": "https://localhost:8080/",
          "height": 316
        },
        "outputId": "6942971e-b9b0-45eb-8db4-61d435d9fdf8"
      },
      "source": [
        "for contours in bar_contour_list[11]:\n",
        "  print(contours)\n",
        "print(jsonlist[11])"
      ],
      "execution_count": 22,
      "outputs": [
        {
          "output_type": "stream",
          "text": [
            "[['Starting_Point', 'Rest', '-8.0', '3.0', 'Rest', '5.0', 'Rest'], [0.3333333333333333, 0.16666666666666669, 0.25, 0.16666666666666663, 0.08333333333333337, 0.33333333333333326, 2.666666666666667], ['Starting_Point', '-8.0', '3.0', '5.0'], [0.5, 0.25, 0.25, 3.0], [0.3333333333333333, 0.25, 0.16666666666666663, 0.33333333333333326]]\n",
            "[['Rest', 'Starting_Point', '1.0'], [3.5, 0.25, 0.33333333333333215], ['Starting_Point', '1.0'], [0.25, 0.25], [0.25, 0.33333333333333215]]\n",
            "[['Starting_Point', 'Rest'], [0.25, 3.75], ['Starting_Point'], [4.0], [0.25]]\n",
            "[['Rest'], [4.0], [], [], []]\n",
            "[['Starting_Point', '-9.0', '1.0', '8.0', '-12.0', 'Rest'], [0.25, 0.25, 0.33333333333333215, 0.25, 0.33333333333333215, 2.5833333333333357], ['Starting_Point', '-9.0', '1.0', '8.0', '-12.0'], [0.25, 0.25, 0.25, 0.25, 3.0], [0.25, 0.25, 0.33333333333333215, 0.25, 0.33333333333333215]]\n",
            "[['Rest'], [4.0], [], [], []]\n",
            "[['Starting_Point', '-9.0', '1.0', '3.0', 'Rest', '5.0', 'Rest'], [0.25, 0.25, 0.25, 0.1666666666666643, 0.0833333333333357, 0.25, 2.75], ['Starting_Point', '-9.0', '1.0', '3.0', '5.0'], [0.25, 0.25, 0.25, 0.25, 3.0], [0.25, 0.25, 0.25, 0.1666666666666643, 0.25]]\n",
            "[['Rest', 'Starting_Point', 'Rest', '-3.0', 'Rest'], [3.0, 0.25, 0.25, 0.1666666666666643, 0.3333333333333357], ['Starting_Point', '-3.0'], [0.5, 0.5], [0.25, 0.1666666666666643]]\n",
            "[['Starting_Point', 'Rest', '2.0', 'Rest'], [0.1666666666666643, 0.0833333333333357, 0.75, 3.0], ['Starting_Point', '2.0'], [0.25, 3.75], [0.1666666666666643, 0.75]]\n",
            "[['Rest'], [4.0], [], [], []]\n",
            "[['Starting_Point', '1.0', '8.0', 'Rest'], [0.25, 0.25, 0.25, 3.25], ['Starting_Point', '1.0', '8.0'], [0.25, 0.25, 3.5], [0.25, 0.25, 0.25]]\n",
            "[['Rest'], [4.0], [], [], []]\n",
            "[['Starting_Point', 'Rest', '-8.0', '8.0', '-9.0', '1.0', '8.0', '-9.0', '1.0', '8.0', '-9.0', '1.0', '8.0', '-8.0', '8.0'], [0.3333333333333286, 0.1666666666666714, 0.3333333333333286, 0.3333333333333286, 0.25, 0.3333333333333286, 0.3333333333333286, 0.25, 0.25, 0.25, 0.25, 0.25, 0.3333333333333286, 0.3333333333333286, 0.25], ['Starting_Point', '-8.0', '8.0', '-9.0', '1.0', '8.0', '-9.0', '1.0', '8.0', '-9.0', '1.0', '8.0', '-8.0', '8.0'], [0.5, 0.25, 0.25, 0.25, 0.25, 0.25, 0.25, 0.25, 0.25, 0.25, 0.25, 0.5, 0.25, 0.25], [0.3333333333333286, 0.3333333333333286, 0.3333333333333286, 0.25, 0.3333333333333286, 0.3333333333333286, 0.25, 0.25, 0.25, 0.25, 0.25, 0.3333333333333286, 0.3333333333333286, 0.25]]\n",
            "[['Starting_Point', 'Rest', '12.0', 'Rest', '0.0', 'Rest', '-3.0', 'Rest'], [0.25, 2.75, 0.1666666666666643, 0.0833333333333357, 0.1666666666666643, 0.0833333333333357, 0.1666666666666643, 0.3333333333333357], ['Starting_Point', '12.0', '0.0', '-3.0'], [3.0, 0.25, 0.25, 0.5], [0.25, 0.1666666666666643, 0.1666666666666643, 0.1666666666666643]]\n",
            "[['Starting_Point', 'Rest'], [0.1666666666666643, 3.8333333333333357], ['Starting_Point'], [4.0], [0.1666666666666643]]\n",
            "{'id': '00218695-5fc3-47eb-871f-16f0955840ae', 'idLakh': 'aca4cae9b1320fa31141492ed99c3bc0', 'bpm': 110, 'timeSignature': [4, 4], 'keyEstimate': 'A major'}\n"
          ],
          "name": "stdout"
        }
      ]
    },
    {
      "cell_type": "code",
      "metadata": {
        "id": "MThJLfY0V6F2",
        "colab_type": "code",
        "colab": {}
      },
      "source": [
        "#최대한 많고 깔끔한 조건문을 사용하여 Skill들을 정의해볼 것. Multilabel Classification의 가능성이 있다.\n",
        "\"\"\"\n",
        "Skill들의 음악학적인 특성 & 계산적인 특성을 적는 곳\n",
        "'resting' : 포함하는 음이 0 또는 1개인 경우 resting으로 정의. 다른 Skill들은 겹칠 수 있으나 이 skill이 Label될 경우 그냥 resting 고정이다.\n",
        "즉, Skilling Labeling은 'resting'이 아닌 경우에 진행된다.\n",
        "'repeating' : 전체 음 중 n% 이상 또는 n개를 제외한 경우가 전부 같은 음일 경우 repeating으로 정의\n",
        "'up_steping' : 전체 음 중 n% 이상 또는 n개를 제외한 경우가 steping up 또는 같은 음, 즉 반음기준 3Note 이하로 상승하는 형태일 경우 up_steping으로 정의\n",
        "'down_steping' : 전체 음 중 n% 이상 또는 n개를 제외한 경우가 steping down 또는 같은 음, 즉 반음기준 3Note 이하로 하강하는 형태일 경우 down_steping으로 정의\n",
        "'up_leaping' : 전체 음 중 n% 이상 또는 n개를 제외한 경우가 leaping up, 즉 반음기준 3Note 이상으로 상승하는 형태일 경우 up_leaping으로 정의\n",
        "'down_leaping' : 전체 음 중 n% 이상 또는 n개를 제외한 경우가 leaping down, 즉 반음기준 3Note 이상으로 하강하는 형태일 경우 down_leaping으로 정의\n",
        "3Note에서 겹치는게 맞다. Multilabel Classification을 고안 중이기 때문.\n",
        "'steping_twisting' : 음이 4개 이상이고, n개를 제외한 경우가 2Note 이하의 상승과 하강을 반복하는 형태일 경우 steping_twisting으로 정의\n",
        "'leaping_twisting' : 음이 4개 이상이고, n개를 제외한 경우가 3Note 이상의 상승과 하강을 반복하는 형태일 경우 leaping_twisting으로 정의\n",
        "'fast_rhythm' : 1 bar 내에 음이 9개 이상인 경우 fast_rhythm으로 정의.\n",
        "'One_rhythm' :  모든 음이 지닌 연주의 real_time, 즉 음이 울리고 다음 음이 나올때 까지의 시간이 같으면 One_rhythm으로 정의\n",
        "'triplet' : real_time기반해서 triplet이 존재하면(Note 3개) triplet으로 정의\n",
        "'Staccato' : real_Duration_Time 기반해서 n% 이상의 음의 Duration이 0.16667(최소단위*4임)보다 작으면(매우 짧으면) Staccato로 정의\n",
        "'continuing_rhythm' : pitch_change_list에서 'Rest'의 비율이 25퍼센트 이하면 continuing_rhythm으로 정의\n",
        "첫 음 제외 실 음의 75%를 기준으로 잡는다.\n",
        "5개 이상의 음이 있다면 1개를 제외하고 전부 조건에 맞아야하고,\n",
        "9개 이상의 음이 있다면 2개를 제외하고 전부 조건에 맞아야하고...\n",
        "4개 이하는 다 맞아야 한다.\n",
        "ex) CDEF -> up_steping, CDED -> None, CDEFD-> up_steping.\n",
        "다만 Leaping에 대해서는 많이 후해질 것 같다. 거의 50%가까이..?  \n",
        "\"\"\"\n",
        "\n",
        "\"\"\"\n",
        "예시로는..\n",
        "contour[0] = ['Starting_Point', 'Rest', '4.0', '1.0', 'Rest', '2.0', 'Rest', '-7.0', 'Rest'] Note pitch의 변화를 쉼표를 포함하여 의미한다.\n",
        "contour[1] = [0.83333, 0.16666999999999987, 0.5, 0.33333, 0.16666999999999987, 0.8333299999999999, 0.16666999999999987, 0.75, 0.25] Duration을 쉼표를 포함하여 의미한다.\n",
        "contour[2] = ['Starting_Point', '4.0', '1.0', '2.0', '-7.0'] note pitch의 변화를 의미한다.\n",
        "contour[3] = [1.0, 0.5, 0.5, 1.0, 1.0] 한 음의 실 연주시간을 의미한다.(다음 음이 나올때 까지의 시간)\n",
        "contour[4] = [0.83333, 0.5, 0.33333, 0.8333299999999999, 0.75] Duration을 의미한다.\n",
        "\"\"\"\n",
        "def is_repeating(contour_list,exception_range):\n",
        "  boolean_repeating=0\n",
        "  non_repeat=0\n",
        "  for elements in contour_list:\n",
        "    if (elements is not 'Starting_Point'):\n",
        "      if(elements != '0.0'):\n",
        "        non_repeat+=1\n",
        "  if (non_repeat<=exception_range):\n",
        "    boolean_repeating=1\n",
        "  return boolean_repeating\n",
        "\n",
        "def is_up_steping(contour_list,exception_range):\n",
        "  balancing_param=1\n",
        "  boolean_up_steping=0\n",
        "  non_step_up=0\n",
        "  now_step_up=0\n",
        "  for elements in contour_list:\n",
        "    if (elements is not 'Starting_Point'):\n",
        "      if (now_step_up==0):\n",
        "        if (float(elements)<0.5 or float(elements)>4.5):\n",
        "          now_step_up=0\n",
        "          non_step_up+=1\n",
        "        else:\n",
        "          now_step_up=1\n",
        "      else:\n",
        "        if(float(elements)<-0.5 or float(elements)>4.5):\n",
        "          now_step_up=0\n",
        "          non_step_up+=1\n",
        "        else:\n",
        "          now_step_up=1\n",
        "  if(non_step_up<=exception_range+balancing_param):\n",
        "    boolean_up_steping=1\n",
        "  return boolean_up_steping\n",
        "\n",
        "def is_down_steping(contour_list,exception_range):\n",
        "  boolean_down_steping=0\n",
        "  balancing_param=0\n",
        "  non_step_down=0\n",
        "  now_step_down=0\n",
        "  for elements in contour_list:\n",
        "    if (elements is not 'Starting_Point'):\n",
        "      if (now_step_down==0):\n",
        "        if (float(elements)>-0.5 or float(elements)<-4.5):\n",
        "          now_step_down=0\n",
        "          non_step_down+=1\n",
        "        else:\n",
        "          now_step_down=1\n",
        "      else:\n",
        "        if(float(elements)>0.5 or float(elements)<-4.5):\n",
        "          now_step_down=0\n",
        "          non_step_down+=1\n",
        "        else:\n",
        "          now_step_down=1\n",
        "  if(non_step_down<=exception_range+balancing_param):\n",
        "    boolean_down_steping=1\n",
        "  return boolean_down_steping\n",
        "\n",
        "def is_up_leaping(contour_list,exception_range):\n",
        "  boolean_up_leaping=0\n",
        "  non_leap_up=0\n",
        "  for elements in contour_list:\n",
        "    if (elements is not 'Starting_Point'):\n",
        "      if (float(elements)<3.5):\n",
        "        non_leap_up+=1\n",
        "  if (non_leap_up<=exception_range+1):\n",
        "    boolean_up_leaping=1\n",
        "  return boolean_up_leaping\n",
        "\n",
        "def is_down_leaping(contour_list,exception_range):\n",
        "  boolean_down_leaping=0\n",
        "  non_leap_down=0\n",
        "  for elements in contour_list:\n",
        "    if (elements is not 'Starting_Point'):\n",
        "      if (float(elements)>-3.5):\n",
        "        non_leap_down+=1\n",
        "  if (non_leap_down<=exception_range+1):\n",
        "    boolean_down_leaping=1\n",
        "  return boolean_down_leaping\n",
        "\n",
        "def is_leaping_twisting(contour_list,exception_range):\n",
        "  boolean_leaping_twisting=0\n",
        "  non_leap_twist=0\n",
        "  balancing_param=1\n",
        "  now_dir=0 #1for up, -1 for down\n",
        "  for elements in contour_list:\n",
        "    if (elements is not 'Starting_Point'):\n",
        "      if (now_dir==0):\n",
        "        if (3.5<float(elements)):\n",
        "          now_dir=1\n",
        "        elif (float(elements) <-3.5):\n",
        "          now_dir=-1\n",
        "        else:\n",
        "          non_leap_twist+=1\n",
        "      elif (now_dir==1):\n",
        "        if (float(elements) <-3.5):\n",
        "          now_dir=-1\n",
        "        else:\n",
        "          now_dir=0\n",
        "          non_leap_twist+=1\n",
        "      elif (now_dir==-1):\n",
        "        if (3.5<float(elements)):\n",
        "          now_dir=1\n",
        "        else:\n",
        "          now_dir=0\n",
        "          non_leap_twist+=1\n",
        "  if(non_leap_twist<=exception_range+balancing_param):\n",
        "    boolean_leaping_twisting=1\n",
        "  return boolean_leaping_twisting\n",
        "\n",
        "def is_steping_twisting(contour_list,exception_range):\n",
        "  boolean_steping_twisting=0\n",
        "  non_step_twist=0\n",
        "  now_dir=0 #1for up, -1 for down\n",
        "  for elements in contour_list:\n",
        "    if (elements is not 'Starting_Point'):\n",
        "      if (now_dir==0):\n",
        "        if (0<float(elements) and float(elements) <2.5):\n",
        "          now_dir=1\n",
        "        elif (-2.5<float(elements) and float(elements) <0):\n",
        "          now_dir=-1\n",
        "        else:\n",
        "          non_step_twist+=1\n",
        "      elif (now_dir==1):\n",
        "        if (-2.5<float(elements) and float(elements) <0):\n",
        "          now_dir=-1\n",
        "        else:\n",
        "          now_dir=0\n",
        "          non_step_twist+=1\n",
        "      elif (now_dir==-1):\n",
        "        if (0<float(elements) and float(elements) <2.5):\n",
        "          now_dir=1\n",
        "        else:\n",
        "          now_dir=0\n",
        "          non_step_twist+=1\n",
        "  if(non_step_twist<=exception_range):\n",
        "    boolean_steping_twisting=1\n",
        "  return boolean_steping_twisting\n",
        "\n",
        "def is_one_rhythm(contour_list,exception_range):\n",
        "  boolean_one_rhythm=0\n",
        "  non_same_rhythm=0\n",
        "\n",
        "  first_rhythm=contour_list[0]\n",
        "  for rhythms in contour_list:\n",
        "    if (rhythms != first_rhythm):\n",
        "      non_same_rhythm=1\n",
        "  boolean_one_rhythm=1-non_same_rhythm\n",
        "  return boolean_one_rhythm\n",
        "\n",
        "def is_triplet(contour_list,exception_range):\n",
        "  boolean_triplet=0\n",
        "  now_triplet=0\n",
        "  for rhythms in contour_list:\n",
        "    rhythms=float(rhythms)\n",
        "    if (rhythms%0.015625>0.001):\n",
        "      if(now_triplet==1):\n",
        "        boolean_triplet=1\n",
        "      now_triplet+=1\n",
        "    else:\n",
        "      now_triplet=0\n",
        "      \n",
        "  return boolean_triplet\n",
        "\n",
        "def is_staccato(contour_list,exception_range):\n",
        "  boolean_staccato=0\n",
        "  ranges=len(contour_list)//2\n",
        "  staccato_num=0\n",
        "  for times in contour_list:\n",
        "    if (times<0.2):\n",
        "      staccato_num+=1\n",
        "  if (staccato_num>=ranges):\n",
        "    boolean_staccato=1\n",
        "  return boolean_staccato\n",
        "\n",
        "def is_continuing_rhythm(contour_list):\n",
        "  boolean_continuing_rhythm=0\n",
        "  length=len(contour_list)\n",
        "  rest_num=0\n",
        "  for elements in contour_list:\n",
        "    if (elements=='Rest'):\n",
        "      rest_num+=1\n",
        "  if (rest_num<=0.5):\n",
        "    boolean_continuing_rhythm=1\n",
        "  return boolean_continuing_rhythm\n",
        "\n",
        "def contour_to_label(contour):\n",
        "  labels=[]\n",
        "  totnum=len(contour[2]) #실 음의 갯수이다.\n",
        "  exception_range=(totnum-1)//4\n",
        "  exception_range2=(totnum-1)//3\n",
        "  if (len(contour[2])<2.5):\n",
        "    labels.append('resting')\n",
        "    return labels\n",
        "  else:\n",
        "    if (is_repeating(contour[2],exception_range2)):\n",
        "      labels.append('repeating')\n",
        "\n",
        "    if (is_up_steping(contour[2],exception_range)):\n",
        "      if (len(contour[2])>3):\n",
        "        labels.append('up_steping')\n",
        "\n",
        "    if (is_down_steping(contour[2],exception_range)):\n",
        "      if (len(contour[2])>3):\n",
        "        labels.append('down_steping')\n",
        "\n",
        "    if (is_up_leaping(contour[2],exception_range2)):\n",
        "      labels.append('up_leaping')\n",
        "    \n",
        "    if (is_down_leaping(contour[2],exception_range2)):\n",
        "      labels.append('down_leaping')\n",
        "\n",
        "    if (is_steping_twisting(contour[2],exception_range2)):\n",
        "      if (len(contour[2])>3):\n",
        "        labels.append('steping_twisting')\n",
        "\n",
        "    if (is_leaping_twisting(contour[2],exception_range2)):\n",
        "      if (len(contour[2])>3):\n",
        "        labels.append('leaping_twisting')\n",
        "\n",
        "    if (len(contour[2])>8.5):\n",
        "      labels.append('fast_rhythm')\n",
        "\n",
        "    if (is_one_rhythm(contour[3],exception_range)):\n",
        "      labels.append('One_rhythm')\n",
        "\n",
        "    if (is_triplet(contour[3],exception_range2)):\n",
        "      labels.append('triplet')\n",
        "\n",
        "    if (is_staccato(contour[4],exception_range2)):\n",
        "      labels.append('staccato')  \n",
        "\n",
        "    if (is_continuing_rhythm(contour[0])):\n",
        "      labels.append('continuing_rhythm')  \n",
        "\n",
        "  \"\"\"\n",
        "  if (len(labels)==0):\n",
        "    labels.append('no skills')\n",
        "    meanless.\n",
        "  \"\"\"\n",
        "\n",
        "  return labels"
      ],
      "execution_count": 23,
      "outputs": []
    },
    {
      "cell_type": "code",
      "metadata": {
        "id": "ez9WMZruqLA0",
        "colab_type": "code",
        "colab": {}
      },
      "source": [
        "bar_label_list=copy.deepcopy(bar_contour_list)\n",
        "for i,songs in enumerate(bar_contour_list):\n",
        "  for j,contour in enumerate(songs):\n",
        "    label=contour_to_label(contour) \n",
        "    bar_label_list[i][j]=label"
      ],
      "execution_count": 24,
      "outputs": []
    },
    {
      "cell_type": "code",
      "metadata": {
        "id": "sqUWmjlproso",
        "colab_type": "code",
        "colab": {
          "base_uri": "https://localhost:8080/",
          "height": 630
        },
        "outputId": "f9b88e8c-38f9-4f79-c380-611c62261f6c"
      },
      "source": [
        "for j in range(len(bar_label_list[0])):\n",
        "  print(bar_label_list[0][j])\n",
        "  print(bar_contour_list[0][j])"
      ],
      "execution_count": 25,
      "outputs": [
        {
          "output_type": "stream",
          "text": [
            "[]\n",
            "[['Starting_Point', '7.0', 'Rest', '-3.0', '-2.0', '-2.0', '-2.0', '7.0', 'Rest'], [0.5, 0.5, 0.5, 0.5, 0.5, 0.5, 1.0, 0.5, 0.5], ['Starting_Point', '7.0', '-3.0', '-2.0', '-2.0', '-2.0', '7.0'], [0.5, 1.0, 0.5, 0.5, 0.5, 1.0, 1.0], [0.5, 0.5, 0.5, 0.5, 0.5, 1.0, 0.5]]\n",
            "[]\n",
            "[['Starting_Point', '7.0', 'Rest', '-3.0', '-2.0', '-2.0', '-2.0', '7.0', 'Rest'], [0.5, 0.5, 0.5, 0.5, 0.5, 0.5, 1.0, 0.5, 0.5], ['Starting_Point', '7.0', '-3.0', '-2.0', '-2.0', '-2.0', '7.0'], [0.5, 1.0, 0.5, 0.5, 0.5, 1.0, 1.0], [0.5, 0.5, 0.5, 0.5, 0.5, 1.0, 0.5]]\n",
            "['repeating']\n",
            "[['Starting_Point', '7.0', 'Rest', '-7.0', '0.0', '0.0', '0.0', '0.0'], [0.5, 0.5, 0.5, 0.5, 0.5, 0.5, 1.0, 1.0], ['Starting_Point', '7.0', '-7.0', '0.0', '0.0', '0.0', '0.0'], [0.5, 1.0, 0.5, 0.5, 0.5, 1.0, 1.0], [0.5, 0.5, 0.5, 0.5, 0.5, 1.0, 1.0]]\n",
            "['leaping_twisting', 'continuing_rhythm']\n",
            "[['Starting_Point', '7.0', '-7.0', '4.0', '3.0', '3.0', '-5.0'], [0.5, 1.0, 0.5, 0.5, 0.5, 1.0, 1.0], ['Starting_Point', '7.0', '-7.0', '4.0', '3.0', '3.0', '-5.0'], [0.5, 1.0, 0.5, 0.5, 0.5, 1.0, 1.0], [0.5, 1.0, 0.5, 0.5, 0.5, 1.0, 1.0]]\n",
            "['leaping_twisting']\n",
            "[['Starting_Point', '7.0', '-7.0', '7.0', '3.0', '-5.0', 'Rest'], [0.5, 1.0, 0.5, 0.5, 1.0, 1.0, 0.5], ['Starting_Point', '7.0', '-7.0', '7.0', '3.0', '-5.0'], [0.5, 1.0, 0.5, 0.5, 1.0, 1.5], [0.5, 1.0, 0.5, 0.5, 1.0, 1.0]]\n",
            "['leaping_twisting']\n",
            "[['Starting_Point', '7.0', '-7.0', '7.0', '3.0', '-5.0', 'Rest'], [0.5, 1.0, 0.5, 0.5, 1.0, 1.0, 0.5], ['Starting_Point', '7.0', '-7.0', '7.0', '3.0', '-5.0'], [0.5, 1.0, 0.5, 0.5, 1.0, 1.5], [0.5, 1.0, 0.5, 0.5, 1.0, 1.0]]\n",
            "['leaping_twisting']\n",
            "[['Starting_Point', '7.0', '-7.0', '7.0', '3.0', '-5.0', 'Rest'], [0.5, 1.0, 0.5, 0.5, 1.0, 1.0, 0.5], ['Starting_Point', '7.0', '-7.0', '7.0', '3.0', '-5.0'], [0.5, 1.0, 0.5, 0.5, 1.0, 1.5], [0.5, 1.0, 0.5, 0.5, 1.0, 1.0]]\n",
            "[]\n",
            "[['Starting_Point', '0.0', 'Rest', '-5.0', '5.0', '-2.0', '-1.0', 'Rest'], [0.5, 0.5, 0.5, 0.5, 1.0, 1.0, 0.5, 0.5], ['Starting_Point', '0.0', '-5.0', '5.0', '-2.0', '-1.0'], [0.5, 1.0, 0.5, 1.0, 1.0, 1.0], [0.5, 0.5, 0.5, 1.0, 1.0, 0.5]]\n",
            "[]\n",
            "[['Starting_Point', '0.0', 'Rest', '-5.0', '5.0', '-2.0', '-1.0', 'Rest'], [0.5, 0.5, 0.5, 0.5, 1.0, 1.0, 0.5, 0.5], ['Starting_Point', '0.0', '-5.0', '5.0', '-2.0', '-1.0'], [0.5, 1.0, 0.5, 1.0, 1.0, 1.0], [0.5, 0.5, 0.5, 1.0, 1.0, 0.5]]\n",
            "[]\n",
            "[['Starting_Point', '0.0', 'Rest', '-5.0', '5.0', '-2.0', '-1.0', 'Rest'], [0.5, 0.5, 0.5, 0.5, 1.0, 1.0, 0.5, 0.5], ['Starting_Point', '0.0', '-5.0', '5.0', '-2.0', '-1.0'], [0.5, 1.0, 0.5, 1.0, 1.0, 1.0], [0.5, 0.5, 0.5, 1.0, 1.0, 0.5]]\n",
            "[]\n",
            "[['Starting_Point', '0.0', 'Rest', '-5.0', '5.0', '0.0', 'Rest', '0.0', 'Rest'], [0.5, 0.5, 0.5, 0.5, 1.0, 0.5, 0.5, 0.5, 0.5], ['Starting_Point', '0.0', '-5.0', '5.0', '0.0', '0.0'], [0.5, 1.0, 0.5, 1.0, 1.0, 1.0], [0.5, 0.5, 0.5, 1.0, 0.5, 0.5]]\n",
            "['leaping_twisting']\n",
            "[['Starting_Point', '-5.0', 'Rest', '-7.0', '3.0', '4.0', '-2.0', '7.0', 'Rest'], [0.5, 0.5, 0.5, 0.5, 0.5, 0.5, 1.0, 0.5, 0.5], ['Starting_Point', '-5.0', '-7.0', '3.0', '4.0', '-2.0', '7.0'], [0.5, 1.0, 0.5, 0.5, 0.5, 1.0, 1.0], [0.5, 0.5, 0.5, 0.5, 0.5, 1.0, 0.5]]\n",
            "['leaping_twisting']\n",
            "[['Starting_Point', '-5.0', 'Rest', '-7.0', '3.0', '4.0', '-2.0', '7.0', 'Rest'], [0.5, 0.5, 0.5, 0.5, 0.5, 0.5, 1.0, 0.5, 0.5], ['Starting_Point', '-5.0', '-7.0', '3.0', '4.0', '-2.0', '7.0'], [0.5, 1.0, 0.5, 0.5, 0.5, 1.0, 1.0], [0.5, 0.5, 0.5, 0.5, 0.5, 1.0, 0.5]]\n",
            "['leaping_twisting']\n",
            "[['Starting_Point', '-5.0', 'Rest', '-7.0', '3.0', '4.0', '-2.0', '7.0', 'Rest'], [0.5, 0.5, 0.5, 0.5, 0.5, 0.5, 1.0, 0.5, 0.5], ['Starting_Point', '-5.0', '-7.0', '3.0', '4.0', '-2.0', '7.0'], [0.5, 1.0, 0.5, 0.5, 0.5, 1.0, 1.0], [0.5, 0.5, 0.5, 0.5, 0.5, 1.0, 0.5]]\n",
            "['leaping_twisting']\n",
            "[['Starting_Point', '-5.0', 'Rest', '-7.0', '3.0', '4.0', '-2.0', '7.0', 'Rest'], [0.5, 0.5, 0.5, 0.5, 0.5, 0.5, 1.0, 0.5, 0.5], ['Starting_Point', '-5.0', '-7.0', '3.0', '4.0', '-2.0', '7.0'], [0.5, 1.0, 0.5, 0.5, 0.5, 1.0, 1.0], [0.5, 0.5, 0.5, 0.5, 0.5, 1.0, 0.5]]\n",
            "['leaping_twisting']\n",
            "[['Starting_Point', '0.0', 'Rest', '0.0', '7.0', '-7.0', '10.0', '-5.0', 'Rest'], [0.5, 0.5, 0.5, 0.5, 0.5, 0.5, 1.0, 0.5, 0.5], ['Starting_Point', '0.0', '0.0', '7.0', '-7.0', '10.0', '-5.0'], [0.5, 1.0, 0.5, 0.5, 0.5, 1.0, 1.0], [0.5, 0.5, 0.5, 0.5, 0.5, 1.0, 0.5]]\n",
            "['down_leaping', 'leaping_twisting']\n",
            "[['Starting_Point', '-5.0', 'Rest', '-7.0', '3.0', '4.0', '5.0', '-5.0', 'Rest'], [0.5, 0.5, 0.5, 0.5, 0.5, 0.5, 1.0, 0.5, 0.5], ['Starting_Point', '-5.0', '-7.0', '3.0', '4.0', '5.0', '-5.0'], [0.5, 1.0, 0.5, 0.5, 0.5, 1.0, 1.0], [0.5, 0.5, 0.5, 0.5, 0.5, 1.0, 0.5]]\n"
          ],
          "name": "stdout"
        }
      ]
    },
    {
      "cell_type": "code",
      "metadata": {
        "id": "-eCyCmgXzbSr",
        "colab_type": "code",
        "colab": {
          "base_uri": "https://localhost:8080/",
          "height": 415
        },
        "outputId": "b036e690-f381-4f85-922f-cadde30f5433"
      },
      "source": [
        "#Summary\n",
        "print(bar_contour_list[0][0])\n",
        "print(bar_label_list[0][0])\n",
        "print(bar_list[0][0])\n",
        "\n",
        "H=bar_matrix_list3[0][0]\n",
        "fig = plt.figure(figsize=(6, 3.2))\n",
        "ax = fig.add_subplot(111)\n",
        "ax.set_title('colorMap')\n",
        "plt.imshow(H)\n",
        "ax.set_aspect('equal')\n",
        "\n",
        "cax = fig.add_axes([0.12, 0.1, 0.78, 0.8])\n",
        "cax.get_xaxis().set_visible(False)\n",
        "cax.get_yaxis().set_visible(False)\n",
        "cax.patch.set_alpha(0)\n",
        "cax.set_frame_on(False)\n",
        "plt.colorbar(orientation='vertical')\n",
        "plt.show()\n",
        "#위 for문 없이 돌리면 1 bar만 나옴\n",
        "#matrix_list2를 CNN하되 라벨을 label로 가져가면 될듯 bar_label_list[i][j]는 i번째곡의 j번째 bar를 의미하고, 나머지도 같다."
      ],
      "execution_count": 26,
      "outputs": [
        {
          "output_type": "stream",
          "text": [
            "[['Starting_Point', '7.0', 'Rest', '-3.0', '-2.0', '-2.0', '-2.0', '7.0', 'Rest'], [0.5, 0.5, 0.5, 0.5, 0.5, 0.5, 1.0, 0.5, 0.5], ['Starting_Point', '7.0', '-3.0', '-2.0', '-2.0', '-2.0', '7.0'], [0.5, 1.0, 0.5, 0.5, 0.5, 1.0, 1.0], [0.5, 0.5, 0.5, 0.5, 0.5, 1.0, 0.5]]\n",
            "[]\n",
            "[[ 0.  48.  48.   0.5  0. ]\n",
            " [ 0.5 55.  55.   0.5  0. ]\n",
            " [ 1.5 52.  52.   0.5  0. ]\n",
            " [ 2.  50.  50.   0.5  0. ]\n",
            " [ 2.5 48.  48.   0.5  0. ]\n",
            " [ 3.  46.  46.   1.   0. ]\n",
            " [ 4.  53.  53.   0.5  0. ]]\n"
          ],
          "name": "stdout"
        },
        {
          "output_type": "display_data",
          "data": {
            "image/png": "[encoded data removed]",
            "text/plain": [
              "<Figure size 432x230.4 with 3 Axes>"
            ]
          },
          "metadata": {
            "tags": [],
            "needs_background": "light"
          }
        }
      ]
    },
    {
      "cell_type": "code",
      "metadata": {
        "id": "ndQru9Cv1XIs",
        "colab_type": "code",
        "colab": {}
      },
      "source": [
        "all_matrix=[]\n",
        "all_labels=[]\n",
        "for songs in bar_label_list:\n",
        "  for label in songs:\n",
        "    label=np.array(label)\n",
        "    all_labels.append(label)\n",
        "bar_label_list=[]#램 터짐\n",
        "for songs in bar_matrix_list3:\n",
        "  for matrix in songs:\n",
        "    matrix=matrix.reshape(24,24,1)\n",
        "    all_matrix.append(matrix)\n"
      ],
      "execution_count": 27,
      "outputs": []
    },
    {
      "cell_type": "code",
      "metadata": {
        "id": "cLD6jvcH2thx",
        "colab_type": "code",
        "colab": {
          "base_uri": "https://localhost:8080/",
          "height": 34
        },
        "outputId": "e141088b-8d02-47b1-8ee9-c719ec47e76e"
      },
      "source": [
        "print(len(all_matrix),len(all_labels))"
      ],
      "execution_count": 28,
      "outputs": [
        {
          "output_type": "stream",
          "text": [
            "175857 175857\n"
          ],
          "name": "stdout"
        }
      ]
    },
    {
      "cell_type": "code",
      "metadata": {
        "id": "KxnqzorC35O4",
        "colab_type": "code",
        "colab": {
          "base_uri": "https://localhost:8080/",
          "height": 52
        },
        "outputId": "b4a78e78-4c26-422b-e18e-120be5ab541a"
      },
      "source": [
        "import keras.backend.tensorflow_backend as tfback\n",
        "from tensorflow.python.client import device_lib\n",
        "def _get_available_gpus():\n",
        "  if tfback._LOCAL_DEVICES is None:\n",
        "    devices = device_lib.list_local_devices()\n",
        "    tfback._LOCAL_DEVICES = [x.name for x in devices]\n",
        "  return [x for x in tfback._LOCAL_DEVICES if 'device:gpu' in x.lower()]\n",
        "tfback._get_available_gpus = _get_available_gpus\n",
        "tfback._get_available_gpus()"
      ],
      "execution_count": 29,
      "outputs": [
        {
          "output_type": "stream",
          "text": [
            "Using TensorFlow backend.\n"
          ],
          "name": "stderr"
        },
        {
          "output_type": "execute_result",
          "data": {
            "text/plain": [
              "['/device:GPU:0']"
            ]
          },
          "metadata": {
            "tags": []
          },
          "execution_count": 29
        }
      ]
    },
    {
      "cell_type": "code",
      "metadata": {
        "id": "Mt2exWUggwA9",
        "colab_type": "code",
        "colab": {}
      },
      "source": [
        "from sklearn.preprocessing import MultiLabelBinarizer\n",
        "train_matrix=np.array(all_matrix[:150000])\n",
        "train_label=np.array(all_labels[:150000])"
      ],
      "execution_count": 30,
      "outputs": []
    },
    {
      "cell_type": "code",
      "metadata": {
        "id": "sc4SuOnd9wC7",
        "colab_type": "code",
        "colab": {}
      },
      "source": [
        "def set_labels():\n",
        "  labels=[]\n",
        "  label_tuple=[]\n",
        "  skills_pitch=['repeating','up_steping','down_steping','up_leaping','down_leaping','steping_twisting','leaping_twisting','dummy']\n",
        "  skills_timing=['resting','fast_rhythm','dummy']\n",
        "  skills_triplet=['triplet','dummy']\n",
        "  skills_one_rhythm=['One_rhythm','dummy']\n",
        "  skills_staccato=['staccato','continuing_rhythm','dummy']\n",
        "  for pitch in skills_pitch:\n",
        "    for timing in skills_timing:\n",
        "      for triplet in skills_triplet:\n",
        "        for one_rhythm in skills_one_rhythm:\n",
        "          for staccato in skills_staccato:\n",
        "            label_tuple=[]\n",
        "            if pitch is not 'dummy':\n",
        "              label_tuple.append(pitch)\n",
        "            if timing is not 'dummy':\n",
        "              label_tuple.append(timing)\n",
        "            if triplet is not 'dummy':\n",
        "              label_tuple.append(triplet)\n",
        "            if one_rhythm is not 'dummy':\n",
        "              label_tuple.append(one_rhythm)\n",
        "            if staccato is not 'dummy':\n",
        "              label_tuple.append(staccato)\n",
        "            label_tuple=tuple(label_tuple)\n",
        "            labels.append(label_tuple)\n",
        "  return labels"
      ],
      "execution_count": 31,
      "outputs": []
    },
    {
      "cell_type": "code",
      "metadata": {
        "id": "SYOhSlmHA1ka",
        "colab_type": "code",
        "colab": {
          "base_uri": "https://localhost:8080/",
          "height": 54
        },
        "outputId": "f2a5bf60-1628-4bb2-e156-b2628c2b5491"
      },
      "source": [
        "label=set_labels()\n",
        "print(label)"
      ],
      "execution_count": 32,
      "outputs": [
        {
          "output_type": "stream",
          "text": [
            "[('repeating', 'resting', 'triplet', 'One_rhythm', 'staccato'), ('repeating', 'resting', 'triplet', 'One_rhythm', 'continuing_rhythm'), ('repeating', 'resting', 'triplet', 'One_rhythm'), ('repeating', 'resting', 'triplet', 'staccato'), ('repeating', 'resting', 'triplet', 'continuing_rhythm'), ('repeating', 'resting', 'triplet'), ('repeating', 'resting', 'One_rhythm', 'staccato'), ('repeating', 'resting', 'One_rhythm', 'continuing_rhythm'), ('repeating', 'resting', 'One_rhythm'), ('repeating', 'resting', 'staccato'), ('repeating', 'resting', 'continuing_rhythm'), ('repeating', 'resting'), ('repeating', 'fast_rhythm', 'triplet', 'One_rhythm', 'staccato'), ('repeating', 'fast_rhythm', 'triplet', 'One_rhythm', 'continuing_rhythm'), ('repeating', 'fast_rhythm', 'triplet', 'One_rhythm'), ('repeating', 'fast_rhythm', 'triplet', 'staccato'), ('repeating', 'fast_rhythm', 'triplet', 'continuing_rhythm'), ('repeating', 'fast_rhythm', 'triplet'), ('repeating', 'fast_rhythm', 'One_rhythm', 'staccato'), ('repeating', 'fast_rhythm', 'One_rhythm', 'continuing_rhythm'), ('repeating', 'fast_rhythm', 'One_rhythm'), ('repeating', 'fast_rhythm', 'staccato'), ('repeating', 'fast_rhythm', 'continuing_rhythm'), ('repeating', 'fast_rhythm'), ('repeating', 'triplet', 'One_rhythm', 'staccato'), ('repeating', 'triplet', 'One_rhythm', 'continuing_rhythm'), ('repeating', 'triplet', 'One_rhythm'), ('repeating', 'triplet', 'staccato'), ('repeating', 'triplet', 'continuing_rhythm'), ('repeating', 'triplet'), ('repeating', 'One_rhythm', 'staccato'), ('repeating', 'One_rhythm', 'continuing_rhythm'), ('repeating', 'One_rhythm'), ('repeating', 'staccato'), ('repeating', 'continuing_rhythm'), ('repeating',), ('up_steping', 'resting', 'triplet', 'One_rhythm', 'staccato'), ('up_steping', 'resting', 'triplet', 'One_rhythm', 'continuing_rhythm'), ('up_steping', 'resting', 'triplet', 'One_rhythm'), ('up_steping', 'resting', 'triplet', 'staccato'), ('up_steping', 'resting', 'triplet', 'continuing_rhythm'), ('up_steping', 'resting', 'triplet'), ('up_steping', 'resting', 'One_rhythm', 'staccato'), ('up_steping', 'resting', 'One_rhythm', 'continuing_rhythm'), ('up_steping', 'resting', 'One_rhythm'), ('up_steping', 'resting', 'staccato'), ('up_steping', 'resting', 'continuing_rhythm'), ('up_steping', 'resting'), ('up_steping', 'fast_rhythm', 'triplet', 'One_rhythm', 'staccato'), ('up_steping', 'fast_rhythm', 'triplet', 'One_rhythm', 'continuing_rhythm'), ('up_steping', 'fast_rhythm', 'triplet', 'One_rhythm'), ('up_steping', 'fast_rhythm', 'triplet', 'staccato'), ('up_steping', 'fast_rhythm', 'triplet', 'continuing_rhythm'), ('up_steping', 'fast_rhythm', 'triplet'), ('up_steping', 'fast_rhythm', 'One_rhythm', 'staccato'), ('up_steping', 'fast_rhythm', 'One_rhythm', 'continuing_rhythm'), ('up_steping', 'fast_rhythm', 'One_rhythm'), ('up_steping', 'fast_rhythm', 'staccato'), ('up_steping', 'fast_rhythm', 'continuing_rhythm'), ('up_steping', 'fast_rhythm'), ('up_steping', 'triplet', 'One_rhythm', 'staccato'), ('up_steping', 'triplet', 'One_rhythm', 'continuing_rhythm'), ('up_steping', 'triplet', 'One_rhythm'), ('up_steping', 'triplet', 'staccato'), ('up_steping', 'triplet', 'continuing_rhythm'), ('up_steping', 'triplet'), ('up_steping', 'One_rhythm', 'staccato'), ('up_steping', 'One_rhythm', 'continuing_rhythm'), ('up_steping', 'One_rhythm'), ('up_steping', 'staccato'), ('up_steping', 'continuing_rhythm'), ('up_steping',), ('down_steping', 'resting', 'triplet', 'One_rhythm', 'staccato'), ('down_steping', 'resting', 'triplet', 'One_rhythm', 'continuing_rhythm'), ('down_steping', 'resting', 'triplet', 'One_rhythm'), ('down_steping', 'resting', 'triplet', 'staccato'), ('down_steping', 'resting', 'triplet', 'continuing_rhythm'), ('down_steping', 'resting', 'triplet'), ('down_steping', 'resting', 'One_rhythm', 'staccato'), ('down_steping', 'resting', 'One_rhythm', 'continuing_rhythm'), ('down_steping', 'resting', 'One_rhythm'), ('down_steping', 'resting', 'staccato'), ('down_steping', 'resting', 'continuing_rhythm'), ('down_steping', 'resting'), ('down_steping', 'fast_rhythm', 'triplet', 'One_rhythm', 'staccato'), ('down_steping', 'fast_rhythm', 'triplet', 'One_rhythm', 'continuing_rhythm'), ('down_steping', 'fast_rhythm', 'triplet', 'One_rhythm'), ('down_steping', 'fast_rhythm', 'triplet', 'staccato'), ('down_steping', 'fast_rhythm', 'triplet', 'continuing_rhythm'), ('down_steping', 'fast_rhythm', 'triplet'), ('down_steping', 'fast_rhythm', 'One_rhythm', 'staccato'), ('down_steping', 'fast_rhythm', 'One_rhythm', 'continuing_rhythm'), ('down_steping', 'fast_rhythm', 'One_rhythm'), ('down_steping', 'fast_rhythm', 'staccato'), ('down_steping', 'fast_rhythm', 'continuing_rhythm'), ('down_steping', 'fast_rhythm'), ('down_steping', 'triplet', 'One_rhythm', 'staccato'), ('down_steping', 'triplet', 'One_rhythm', 'continuing_rhythm'), ('down_steping', 'triplet', 'One_rhythm'), ('down_steping', 'triplet', 'staccato'), ('down_steping', 'triplet', 'continuing_rhythm'), ('down_steping', 'triplet'), ('down_steping', 'One_rhythm', 'staccato'), ('down_steping', 'One_rhythm', 'continuing_rhythm'), ('down_steping', 'One_rhythm'), ('down_steping', 'staccato'), ('down_steping', 'continuing_rhythm'), ('down_steping',), ('up_leaping', 'resting', 'triplet', 'One_rhythm', 'staccato'), ('up_leaping', 'resting', 'triplet', 'One_rhythm', 'continuing_rhythm'), ('up_leaping', 'resting', 'triplet', 'One_rhythm'), ('up_leaping', 'resting', 'triplet', 'staccato'), ('up_leaping', 'resting', 'triplet', 'continuing_rhythm'), ('up_leaping', 'resting', 'triplet'), ('up_leaping', 'resting', 'One_rhythm', 'staccato'), ('up_leaping', 'resting', 'One_rhythm', 'continuing_rhythm'), ('up_leaping', 'resting', 'One_rhythm'), ('up_leaping', 'resting', 'staccato'), ('up_leaping', 'resting', 'continuing_rhythm'), ('up_leaping', 'resting'), ('up_leaping', 'fast_rhythm', 'triplet', 'One_rhythm', 'staccato'), ('up_leaping', 'fast_rhythm', 'triplet', 'One_rhythm', 'continuing_rhythm'), ('up_leaping', 'fast_rhythm', 'triplet', 'One_rhythm'), ('up_leaping', 'fast_rhythm', 'triplet', 'staccato'), ('up_leaping', 'fast_rhythm', 'triplet', 'continuing_rhythm'), ('up_leaping', 'fast_rhythm', 'triplet'), ('up_leaping', 'fast_rhythm', 'One_rhythm', 'staccato'), ('up_leaping', 'fast_rhythm', 'One_rhythm', 'continuing_rhythm'), ('up_leaping', 'fast_rhythm', 'One_rhythm'), ('up_leaping', 'fast_rhythm', 'staccato'), ('up_leaping', 'fast_rhythm', 'continuing_rhythm'), ('up_leaping', 'fast_rhythm'), ('up_leaping', 'triplet', 'One_rhythm', 'staccato'), ('up_leaping', 'triplet', 'One_rhythm', 'continuing_rhythm'), ('up_leaping', 'triplet', 'One_rhythm'), ('up_leaping', 'triplet', 'staccato'), ('up_leaping', 'triplet', 'continuing_rhythm'), ('up_leaping', 'triplet'), ('up_leaping', 'One_rhythm', 'staccato'), ('up_leaping', 'One_rhythm', 'continuing_rhythm'), ('up_leaping', 'One_rhythm'), ('up_leaping', 'staccato'), ('up_leaping', 'continuing_rhythm'), ('up_leaping',), ('down_leaping', 'resting', 'triplet', 'One_rhythm', 'staccato'), ('down_leaping', 'resting', 'triplet', 'One_rhythm', 'continuing_rhythm'), ('down_leaping', 'resting', 'triplet', 'One_rhythm'), ('down_leaping', 'resting', 'triplet', 'staccato'), ('down_leaping', 'resting', 'triplet', 'continuing_rhythm'), ('down_leaping', 'resting', 'triplet'), ('down_leaping', 'resting', 'One_rhythm', 'staccato'), ('down_leaping', 'resting', 'One_rhythm', 'continuing_rhythm'), ('down_leaping', 'resting', 'One_rhythm'), ('down_leaping', 'resting', 'staccato'), ('down_leaping', 'resting', 'continuing_rhythm'), ('down_leaping', 'resting'), ('down_leaping', 'fast_rhythm', 'triplet', 'One_rhythm', 'staccato'), ('down_leaping', 'fast_rhythm', 'triplet', 'One_rhythm', 'continuing_rhythm'), ('down_leaping', 'fast_rhythm', 'triplet', 'One_rhythm'), ('down_leaping', 'fast_rhythm', 'triplet', 'staccato'), ('down_leaping', 'fast_rhythm', 'triplet', 'continuing_rhythm'), ('down_leaping', 'fast_rhythm', 'triplet'), ('down_leaping', 'fast_rhythm', 'One_rhythm', 'staccato'), ('down_leaping', 'fast_rhythm', 'One_rhythm', 'continuing_rhythm'), ('down_leaping', 'fast_rhythm', 'One_rhythm'), ('down_leaping', 'fast_rhythm', 'staccato'), ('down_leaping', 'fast_rhythm', 'continuing_rhythm'), ('down_leaping', 'fast_rhythm'), ('down_leaping', 'triplet', 'One_rhythm', 'staccato'), ('down_leaping', 'triplet', 'One_rhythm', 'continuing_rhythm'), ('down_leaping', 'triplet', 'One_rhythm'), ('down_leaping', 'triplet', 'staccato'), ('down_leaping', 'triplet', 'continuing_rhythm'), ('down_leaping', 'triplet'), ('down_leaping', 'One_rhythm', 'staccato'), ('down_leaping', 'One_rhythm', 'continuing_rhythm'), ('down_leaping', 'One_rhythm'), ('down_leaping', 'staccato'), ('down_leaping', 'continuing_rhythm'), ('down_leaping',), ('steping_twisting', 'resting', 'triplet', 'One_rhythm', 'staccato'), ('steping_twisting', 'resting', 'triplet', 'One_rhythm', 'continuing_rhythm'), ('steping_twisting', 'resting', 'triplet', 'One_rhythm'), ('steping_twisting', 'resting', 'triplet', 'staccato'), ('steping_twisting', 'resting', 'triplet', 'continuing_rhythm'), ('steping_twisting', 'resting', 'triplet'), ('steping_twisting', 'resting', 'One_rhythm', 'staccato'), ('steping_twisting', 'resting', 'One_rhythm', 'continuing_rhythm'), ('steping_twisting', 'resting', 'One_rhythm'), ('steping_twisting', 'resting', 'staccato'), ('steping_twisting', 'resting', 'continuing_rhythm'), ('steping_twisting', 'resting'), ('steping_twisting', 'fast_rhythm', 'triplet', 'One_rhythm', 'staccato'), ('steping_twisting', 'fast_rhythm', 'triplet', 'One_rhythm', 'continuing_rhythm'), ('steping_twisting', 'fast_rhythm', 'triplet', 'One_rhythm'), ('steping_twisting', 'fast_rhythm', 'triplet', 'staccato'), ('steping_twisting', 'fast_rhythm', 'triplet', 'continuing_rhythm'), ('steping_twisting', 'fast_rhythm', 'triplet'), ('steping_twisting', 'fast_rhythm', 'One_rhythm', 'staccato'), ('steping_twisting', 'fast_rhythm', 'One_rhythm', 'continuing_rhythm'), ('steping_twisting', 'fast_rhythm', 'One_rhythm'), ('steping_twisting', 'fast_rhythm', 'staccato'), ('steping_twisting', 'fast_rhythm', 'continuing_rhythm'), ('steping_twisting', 'fast_rhythm'), ('steping_twisting', 'triplet', 'One_rhythm', 'staccato'), ('steping_twisting', 'triplet', 'One_rhythm', 'continuing_rhythm'), ('steping_twisting', 'triplet', 'One_rhythm'), ('steping_twisting', 'triplet', 'staccato'), ('steping_twisting', 'triplet', 'continuing_rhythm'), ('steping_twisting', 'triplet'), ('steping_twisting', 'One_rhythm', 'staccato'), ('steping_twisting', 'One_rhythm', 'continuing_rhythm'), ('steping_twisting', 'One_rhythm'), ('steping_twisting', 'staccato'), ('steping_twisting', 'continuing_rhythm'), ('steping_twisting',), ('leaping_twisting', 'resting', 'triplet', 'One_rhythm', 'staccato'), ('leaping_twisting', 'resting', 'triplet', 'One_rhythm', 'continuing_rhythm'), ('leaping_twisting', 'resting', 'triplet', 'One_rhythm'), ('leaping_twisting', 'resting', 'triplet', 'staccato'), ('leaping_twisting', 'resting', 'triplet', 'continuing_rhythm'), ('leaping_twisting', 'resting', 'triplet'), ('leaping_twisting', 'resting', 'One_rhythm', 'staccato'), ('leaping_twisting', 'resting', 'One_rhythm', 'continuing_rhythm'), ('leaping_twisting', 'resting', 'One_rhythm'), ('leaping_twisting', 'resting', 'staccato'), ('leaping_twisting', 'resting', 'continuing_rhythm'), ('leaping_twisting', 'resting'), ('leaping_twisting', 'fast_rhythm', 'triplet', 'One_rhythm', 'staccato'), ('leaping_twisting', 'fast_rhythm', 'triplet', 'One_rhythm', 'continuing_rhythm'), ('leaping_twisting', 'fast_rhythm', 'triplet', 'One_rhythm'), ('leaping_twisting', 'fast_rhythm', 'triplet', 'staccato'), ('leaping_twisting', 'fast_rhythm', 'triplet', 'continuing_rhythm'), ('leaping_twisting', 'fast_rhythm', 'triplet'), ('leaping_twisting', 'fast_rhythm', 'One_rhythm', 'staccato'), ('leaping_twisting', 'fast_rhythm', 'One_rhythm', 'continuing_rhythm'), ('leaping_twisting', 'fast_rhythm', 'One_rhythm'), ('leaping_twisting', 'fast_rhythm', 'staccato'), ('leaping_twisting', 'fast_rhythm', 'continuing_rhythm'), ('leaping_twisting', 'fast_rhythm'), ('leaping_twisting', 'triplet', 'One_rhythm', 'staccato'), ('leaping_twisting', 'triplet', 'One_rhythm', 'continuing_rhythm'), ('leaping_twisting', 'triplet', 'One_rhythm'), ('leaping_twisting', 'triplet', 'staccato'), ('leaping_twisting', 'triplet', 'continuing_rhythm'), ('leaping_twisting', 'triplet'), ('leaping_twisting', 'One_rhythm', 'staccato'), ('leaping_twisting', 'One_rhythm', 'continuing_rhythm'), ('leaping_twisting', 'One_rhythm'), ('leaping_twisting', 'staccato'), ('leaping_twisting', 'continuing_rhythm'), ('leaping_twisting',), ('resting', 'triplet', 'One_rhythm', 'staccato'), ('resting', 'triplet', 'One_rhythm', 'continuing_rhythm'), ('resting', 'triplet', 'One_rhythm'), ('resting', 'triplet', 'staccato'), ('resting', 'triplet', 'continuing_rhythm'), ('resting', 'triplet'), ('resting', 'One_rhythm', 'staccato'), ('resting', 'One_rhythm', 'continuing_rhythm'), ('resting', 'One_rhythm'), ('resting', 'staccato'), ('resting', 'continuing_rhythm'), ('resting',), ('fast_rhythm', 'triplet', 'One_rhythm', 'staccato'), ('fast_rhythm', 'triplet', 'One_rhythm', 'continuing_rhythm'), ('fast_rhythm', 'triplet', 'One_rhythm'), ('fast_rhythm', 'triplet', 'staccato'), ('fast_rhythm', 'triplet', 'continuing_rhythm'), ('fast_rhythm', 'triplet'), ('fast_rhythm', 'One_rhythm', 'staccato'), ('fast_rhythm', 'One_rhythm', 'continuing_rhythm'), ('fast_rhythm', 'One_rhythm'), ('fast_rhythm', 'staccato'), ('fast_rhythm', 'continuing_rhythm'), ('fast_rhythm',), ('triplet', 'One_rhythm', 'staccato'), ('triplet', 'One_rhythm', 'continuing_rhythm'), ('triplet', 'One_rhythm'), ('triplet', 'staccato'), ('triplet', 'continuing_rhythm'), ('triplet',), ('One_rhythm', 'staccato'), ('One_rhythm', 'continuing_rhythm'), ('One_rhythm',), ('staccato',), ('continuing_rhythm',), ()]\n"
          ],
          "name": "stdout"
        }
      ]
    },
    {
      "cell_type": "code",
      "metadata": {
        "id": "93yFDiw86QyN",
        "colab_type": "code",
        "colab": {}
      },
      "source": [
        "valid_matrix=np.array(all_matrix[150000:170000])\n",
        "valid_label=np.array(all_labels[150000:170000])\n",
        "test_matrix=np.array(all_matrix[170000:])\n",
        "test_label=np.array(all_labels[170000:])#어쩌면 쓸수도?\n",
        "mlb=MultiLabelBinarizer()\n",
        "labels=set_labels()\n",
        "mlb.fit(labels)\n",
        "train_label2=mlb.transform(train_label)\n",
        "valid_label2=mlb.transform(valid_label)\n",
        "test_label2=mlb.transform(test_label)\n"
      ],
      "execution_count": 33,
      "outputs": []
    },
    {
      "cell_type": "code",
      "metadata": {
        "id": "flwJh4SmmzuG",
        "colab_type": "code",
        "colab": {}
      },
      "source": [
        "all_matrix=[]\n",
        "all_labels=[]"
      ],
      "execution_count": 34,
      "outputs": []
    },
    {
      "cell_type": "code",
      "metadata": {
        "id": "Rb3xLrR99Rk8",
        "colab_type": "code",
        "colab": {
          "base_uri": "https://localhost:8080/",
          "height": 174
        },
        "outputId": "c94ac528-607e-4452-d071-ee2d99cd6991"
      },
      "source": [
        "print(train_matrix.shape)\n",
        "print(train_label2)\n",
        "print(valid_matrix.shape)"
      ],
      "execution_count": 35,
      "outputs": [
        {
          "output_type": "stream",
          "text": [
            "(150000, 24, 24, 1)\n",
            "[[0 0 0 ... 0 0 0]\n",
            " [0 0 0 ... 0 0 0]\n",
            " [0 0 0 ... 0 0 0]\n",
            " ...\n",
            " [0 0 0 ... 0 0 0]\n",
            " [1 0 0 ... 0 0 0]\n",
            " [0 0 0 ... 0 0 0]]\n",
            "(20000, 24, 24, 1)\n"
          ],
          "name": "stdout"
        }
      ]
    },
    {
      "cell_type": "code",
      "metadata": {
        "id": "LkGYxpDB8ky9",
        "colab_type": "code",
        "colab": {}
      },
      "source": [
        "import keras.applications\n",
        "from keras import regularizers\n",
        "from keras.applications import VGG16\n",
        "from keras.applications import resnet50\n",
        "from keras import layers\n",
        "from tensorflow import keras\n",
        "def residual_block(filter, input, add=True):\n",
        "  with tf.device('/gpu:0'):\n",
        "    layer_1 = keras.layers.Conv2D(filters=filter//4, kernel_size=(1, 1), data_format=\"channels_first\")(input)\n",
        "    layer_2 = keras.layers.Conv2D(filters=filter//4, kernel_size=(3, 3), padding='same', data_format=\"channels_first\", kernel_regularizer=keras.regularizers.l2(0.001))(layer_1)\n",
        "    layer_2 = keras.layers.BatchNormalization()(layer_2)\n",
        "    layer_2 = keras.layers.ReLU()(layer_2)\n",
        "    layer_3 = keras.layers.Conv2D(filters=filter, kernel_size=(1, 1), data_format=\"channels_first\")(layer_2)\n",
        "    layer_3 = keras.layers.BatchNormalization()(layer_3)\n",
        "    if add:\n",
        "        layer_3 = keras.layers.add([input, layer_3])\n",
        "    layer_3 = keras.layers.ReLU()(layer_3)\n",
        "    return layer_3\n",
        "def make_model():\n",
        "  with tf.device('/gpu:0'):\n",
        "    input_layer = keras.Input(shape=(24, 24, 1))\n",
        "    layer_1 = keras.layers.Conv2D(filters=64, kernel_size=(7, 7), padding='same', data_format=\"channels_first\")(input_layer)\n",
        "    block_1 = residual_block(64, layer_1)\n",
        "    #block_2 = residual_block(64, block_1)\n",
        "    #block_3 = residual_block(64, block_2)\n",
        "    pooling_layer = keras.layers.MaxPool2D((2, 2),padding='same', data_format=\"channels_first\")(block_1)\n",
        "    block_4 = residual_block(128, pooling_layer, add=False)\n",
        "    block_5 = residual_block(128, block_4)\n",
        "    #block_6 = residual_block(128, block_5)\n",
        "    pooling_layer2 = keras.layers.MaxPool2D(padding='same',pool_size=(2, 2), data_format=\"channels_first\")(block_4)\n",
        "    block_7 = residual_block(256, pooling_layer2, add=False)\n",
        "    block_8 = residual_block(256, block_7)\n",
        "    block_9 = residual_block(256, block_8)\n",
        "    #pooling_layer4 = keras.layers.MaxPool2D(pool_size=(2, 2), data_format=\"channels_first\")(block_7)\n",
        "    #block_10 = residual_block(256, pooling_layer4)\n",
        "    #block_11 = residual_block(512, block_10)\n",
        "    pooling_layer3 = keras.layers.AvgPool2D(padding='same',pool_size=(8, 8), data_format=\"channels_first\")(block_7)\n",
        "    last_layer = keras.layers.Flatten()(pooling_layer3)\n",
        "    last_layer = keras.layers.Dropout(0.4)(last_layer)\n",
        "    last_layer = keras.layers.Dense(13, activation=\"sigmoid\")(last_layer)\n",
        "    return keras.models.Model(inputs=input_layer, outputs=last_layer)\n",
        "def make_classifier():\n",
        "  with tf.device('/gpu:0'):\n",
        "    classifier = Sequential()\n",
        "    classifier.add(layers.Conv2D(128, kernel_size=(5, 5), strides=(1, 1), padding='same',\n",
        "                  activation='relu',\n",
        "                  input_shape=(24,24,1)))\n",
        "    classifier.add(layers.BatchNormalization())\n",
        "    classifier.add(layers.advanced_activations.LeakyReLU(alpha=0.01))\n",
        "    classifier.add(layers.Conv2D(128, (2, 2), activation='relu', padding='same'))\n",
        "    classifier.add(layers.MaxPooling2D(pool_size=(2, 2), strides=(2, 2)))\n",
        "    classifier.add(layers.Conv2D(256, (2, 2), padding='same'))\n",
        "    classifier.add(layers.advanced_activations.LeakyReLU(alpha=0.01))\n",
        "    classifier.add(layers.MaxPooling2D(pool_size=(2, 2)))\n",
        "    classifier.add(layers.Flatten())\n",
        "    classifier.add(layers.Dropout(0.25))\n",
        "    classifier.add(Dense(13, activation='sigmoid'))\n",
        "  return classifier"
      ],
      "execution_count": 36,
      "outputs": []
    },
    {
      "cell_type": "code",
      "metadata": {
        "id": "zn-X5lReh2ok",
        "colab_type": "code",
        "colab": {}
      },
      "source": [
        "from keras.callbacks import EarlyStopping, ReduceLROnPlateau, ModelCheckpoint\n",
        "model_path = '/content/drive/My Drive/models/' + 'deeperppddbest.h5'\n",
        "\n",
        "cb_checkpoint = ModelCheckpoint(filepath=model_path, monitor='val_acc',\n",
        "                                verbose=1, save_best_only=True)\n",
        "callbacks = [cb_checkpoint]\n",
        "#tf.keras의 경우(make_model) monitor='val_acc'로, keras의 경우(make_classifier) monitor='val_accuracy'로 해야한다."
      ],
      "execution_count": 37,
      "outputs": []
    },
    {
      "cell_type": "code",
      "metadata": {
        "id": "uf1jJnIxemG0",
        "colab_type": "code",
        "colab": {}
      },
      "source": [
        "from keras import backend as K\n",
        "import tensorflow as tf\n",
        "def recall(y_target, y_pred):\n",
        "    # clip(t, clip_value_min, clip_value_max) : clip_value_min~clip_value_max 이외 가장자리를 깎아 낸다\n",
        "    # round : 반올림한다\n",
        "    y_target_yn = K.round(K.clip(y_target, 0, 1)) # 실제값을 0(Negative) 또는 1(Positive)로 설정한다\n",
        "    y_pred_yn = K.round(K.clip(y_pred, 0, 1)) # 예측값을 0(Negative) 또는 1(Positive)로 설정한다\n",
        "\n",
        "    # True Positive는 실제 값과 예측 값이 모두 1(Positive)인 경우이다\n",
        "    count_true_positive = K.sum(y_target_yn * y_pred_yn) \n",
        "\n",
        "    # (True Positive + False Negative) = 실제 값이 1(Positive) 전체\n",
        "    count_true_positive_false_negative = K.sum(y_target_yn)\n",
        "\n",
        "    # Recall =  (True Positive) / (True Positive + False Negative)\n",
        "    # K.epsilon()는 'divide by zero error' 예방차원에서 작은 수를 더한다\n",
        "    recall = count_true_positive / (count_true_positive_false_negative + K.epsilon())\n",
        "\n",
        "    # return a single tensor value\n",
        "    return recall\n",
        "\n",
        "\n",
        "def precision(y_target, y_pred):\n",
        "    # clip(t, clip_value_min, clip_value_max) : clip_value_min~clip_value_max 이외 가장자리를 깎아 낸다\n",
        "    # round : 반올림한다\n",
        "    y_pred_yn = K.round(K.clip(y_pred, 0, 1)) # 예측값을 0(Negative) 또는 1(Positive)로 설정한다\n",
        "    y_target_yn = K.round(K.clip(y_target, 0, 1)) # 실제값을 0(Negative) 또는 1(Positive)로 설정한다\n",
        "\n",
        "    # True Positive는 실제 값과 예측 값이 모두 1(Positive)인 경우이다\n",
        "    count_true_positive = K.sum(y_target_yn * y_pred_yn) \n",
        "\n",
        "    # (True Positive + False Positive) = 예측 값이 1(Positive) 전체\n",
        "    count_true_positive_false_positive = K.sum(y_pred_yn)\n",
        "\n",
        "    # Precision = (True Positive) / (True Positive + False Positive)\n",
        "    # K.epsilon()는 'divide by zero error' 예방차원에서 작은 수를 더한다\n",
        "    precision = count_true_positive / (count_true_positive_false_positive + K.epsilon())\n",
        "\n",
        "    # return a single tensor value\n",
        "    return precision\n",
        "\n",
        "\n",
        "def f1score(y_target, y_pred):\n",
        "    _recall = recall(y_target, y_pred)\n",
        "    _precision = precision(y_target, y_pred)\n",
        "    # K.epsilon()는 'divide by zero error' 예방차원에서 작은 수를 더한다\n",
        "    _f1score = ( 2 * _recall * _precision) / (_recall + _precision+ K.epsilon())\n",
        "    \n",
        "    # return a single tensor value\n",
        "    return _f1score\n"
      ],
      "execution_count": 42,
      "outputs": []
    },
    {
      "cell_type": "code",
      "metadata": {
        "id": "V2Nx8Ygs-I6_",
        "colab_type": "code",
        "colab": {
          "base_uri": "https://localhost:8080/",
          "height": 177
        },
        "outputId": "a53fbde2-8816-42a8-9f88-f8f6a7c66745"
      },
      "source": [
        "classifier=make_model()\n",
        "classifier.compile(loss=keras.losses.BinaryCrossentropy(\n",
        "      from_logits=False, label_smoothing=0.1, \n",
        "      name='binary_crossentropy'\n",
        "  ), optimizer='adam', metrics=['accuracy',recall,precision,f1score])\n",
        "\"\"\"\n",
        "hist=classifier.fit(\n",
        "      train_matrix,train_label2,batch_size=256,\n",
        "      epochs=150,\n",
        "      validation_data=(valid_matrix,valid_label2),\n",
        "      callbacks=callbacks,\n",
        "  )\n",
        "\"\"\"\n",
        "\n",
        "#실제 학습\n"
      ],
      "execution_count": 43,
      "outputs": [
        {
          "output_type": "stream",
          "text": [
            "WARNING:tensorflow:From /usr/local/lib/python3.6/dist-packages/tensorflow_core/python/ops/resource_variable_ops.py:1630: calling BaseResourceVariable.__init__ (from tensorflow.python.ops.resource_variable_ops) with constraint is deprecated and will be removed in a future version.\n",
            "Instructions for updating:\n",
            "If using Keras pass *_constraint arguments to layers.\n",
            "WARNING:tensorflow:From /usr/local/lib/python3.6/dist-packages/tensorflow_core/python/ops/nn_impl.py:183: where (from tensorflow.python.ops.array_ops) is deprecated and will be removed in a future version.\n",
            "Instructions for updating:\n",
            "Use tf.where in 2.0, which has the same broadcast rule as np.where\n"
          ],
          "name": "stdout"
        },
        {
          "output_type": "execute_result",
          "data": {
            "application/vnd.google.colaboratory.intrinsic+json": {
              "type": "string"
            },
            "text/plain": [
              "'\\nhist=classifier.fit(\\n      train_matrix,train_label2,batch_size=256,\\n      epochs=150,\\n      validation_data=(valid_matrix,valid_label2),\\n      callbacks=callbacks,\\n  )\\n'"
            ]
          },
          "metadata": {
            "tags": []
          },
          "execution_count": 43
        }
      ]
    },
    {
      "cell_type": "code",
      "metadata": {
        "id": "76EtBzIJsfJM",
        "colab_type": "code",
        "colab": {
          "base_uri": "https://localhost:8080/",
          "height": 279
        },
        "outputId": "bbdca8e8-9bbc-4f1b-c375-359c457cd583"
      },
      "source": [
        "%matplotlib inline\n",
        "import matplotlib.pyplot as plt\n",
        "\n",
        "fig, loss_ax = plt.subplots()\n",
        "\n",
        "acc_ax = loss_ax.twinx()\n",
        "\n",
        "loss_ax.plot(hist.history['loss'], 'y', label='train loss')\n",
        "loss_ax.plot(hist.history['val_loss'], 'r', label='val loss')\n",
        "\n",
        "acc_ax.plot(hist.history['acc'], 'b', label='train acc')\n",
        "acc_ax.plot(hist.history['val_acc'], 'g', label='val acc')\n",
        "\n",
        "loss_ax.set_xlabel('epoch')\n",
        "loss_ax.set_ylabel('loss')\n",
        "acc_ax.set_ylabel('accuracy')\n",
        "\n",
        "loss_ax.legend(loc='upper left')\n",
        "acc_ax.legend(loc='lower left')\n",
        "\n",
        "plt.show()"
      ],
      "execution_count": null,
      "outputs": [
        {
          "output_type": "display_data",
          "data": {
            "image/png": "[encoded data removed]",
            "text/plain": [
              "<Figure size 432x288 with 2 Axes>"
            ]
          },
          "metadata": {
            "tags": [],
            "needs_background": "light"
          }
        }
      ]
    },
    {
      "cell_type": "code",
      "metadata": {
        "id": "6T9qKNfNsuTv",
        "colab_type": "code",
        "colab": {
          "base_uri": "https://localhost:8080/",
          "height": 279
        },
        "outputId": "689d2729-29ff-48da-bda3-5248a1c6374d"
      },
      "source": [
        "%matplotlib inline\n",
        "import matplotlib.pyplot as plt\n",
        "\n",
        "fig, recall_ax = plt.subplots()\n",
        "\n",
        "\n",
        "recall_ax.plot(hist.history['recall'], 'y', label='recall')\n",
        "recall_ax.plot(hist.history['val_recall'], 'r', label='valid recall')\n",
        "\n",
        "recall_ax.plot(hist.history['f1score'], 'b', label='f1score')\n",
        "recall_ax.plot(hist.history['val_f1score'], 'g', label='valid f1score')\n",
        "\n",
        "recall_ax.plot(hist.history['precision'], 'c', label='precision')\n",
        "recall_ax.plot(hist.history['val_precision'], 'k', label='valid precision')\n",
        "\n",
        "recall_ax.set_xlabel('epoch')\n",
        "recall_ax.set_ylabel('score')\n",
        "\n",
        "recall_ax.legend(loc='upper left')\n",
        "\n",
        "plt.show()"
      ],
      "execution_count": null,
      "outputs": [
        {
          "output_type": "display_data",
          "data": {
            "image/png": "[encoded data removed]",
            "text/plain": [
              "<Figure size 432x288 with 1 Axes>"
            ]
          },
          "metadata": {
            "tags": [],
            "needs_background": "light"
          }
        }
      ]
    },
    {
      "cell_type": "code",
      "metadata": {
        "id": "oQ-K9Y2vFN2O",
        "colab_type": "code",
        "colab": {}
      },
      "source": [
        "  classifier.load_weights(\"/content/drive/My Drive/models/deeperppddbest.h5\")\n",
        "  testresult=classifier.predict(test_matrix)"
      ],
      "execution_count": 44,
      "outputs": []
    },
    {
      "cell_type": "code",
      "metadata": {
        "id": "N2XAN8kzN3gp",
        "colab_type": "code",
        "colab": {
          "base_uri": "https://localhost:8080/",
          "height": 139
        },
        "outputId": "74ae1f97-243c-4558-953d-65c13140d122"
      },
      "source": [
        "print(testresult)"
      ],
      "execution_count": 45,
      "outputs": [
        {
          "output_type": "stream",
          "text": [
            "[[0.0520255  0.04725242 0.06422505 ... 0.22541031 0.13303784 0.08977461]\n",
            " [0.8743255  0.0428139  0.05168912 ... 0.08904213 0.07070249 0.04728562]\n",
            " [0.06394652 0.04105222 0.04254055 ... 0.14287636 0.07774505 0.04171047]\n",
            " ...\n",
            " [0.91817886 0.9472953  0.04020622 ... 0.03975582 0.15174589 0.03289729]\n",
            " [0.89631355 0.9194241  0.05759662 ... 0.06776044 0.37178284 0.0566242 ]\n",
            " [0.03227797 0.15996742 0.03780636 ... 0.13953441 0.61530185 0.05385279]]\n"
          ],
          "name": "stdout"
        }
      ]
    },
    {
      "cell_type": "code",
      "metadata": {
        "id": "mFucJZONFnqX",
        "colab_type": "code",
        "colab": {
          "base_uri": "https://localhost:8080/",
          "height": 72
        },
        "outputId": "a24388c8-05cb-4242-ef96-9ac1fd7e89b1"
      },
      "source": [
        "def get_tag_results(testresult,test_label2):  \n",
        "  classnum={}\n",
        "  testnum={}\n",
        "  resultmat=[]\n",
        "  bestmat=[]\n",
        "  for i in range(len(testresult)):\n",
        "    eval_result=[0 for i in range(13)]\n",
        "    best_result=[0 for i in range(13)]\n",
        "    class_num=np.count_nonzero(test_label2[i]==1)+1\n",
        "    classidx=(-testresult[i]).argsort()[:class_num]\n",
        "    for k,j in enumerate(classidx):\n",
        "      if (k==0):\n",
        "        best_result[j]=1\n",
        "      eval_result[j]=1\n",
        "    resultmat.append(eval_result)\n",
        "    bestmat.append(best_result)\n",
        "    test_result2=copy.deepcopy(testresult)\n",
        "    test_result2[np.where(test_result2>0.30)]=1\n",
        "    test_result2[np.where(test_result2<=0.30)]=0\n",
        "  resultmat=np.array(resultmat)\n",
        "  bestmat=np.array(bestmat)\n",
        "  testidx=mlb.inverse_transform(resultmat)\n",
        "  classidx=mlb.inverse_transform(test_label2)\n",
        "  testidx2=mlb.inverse_transform(test_result2)\n",
        "  bestidx=mlb.inverse_transform(bestmat)\n",
        "  for i in range(len(testidx)):  \n",
        "    #print(bestidx[i],testidx2[i],testidx[i], classidx[i],i) # 값이 0.30 이상인 set, 원래 Label보다 1개 많이 보여주는 내림차순 set, 원래 label set 순서이다. \n",
        "    for classes in classidx[i]:\n",
        "      if (classes not in classnum):\n",
        "        classnum[classes]=1\n",
        "      else:\n",
        "        classnum[classes]+=1\n",
        "    for classes in testidx[i]:\n",
        "      if (classes not in testnum):\n",
        "        testnum[classes]=1\n",
        "      else:\n",
        "        testnum[classes]+=1\n",
        "  print(classnum, testnum)\n",
        "  return bestidx, testidx2, testidx, classidx#가장 높은거, 0.30이상인 set, 원래의 Label보다 1개 많이 보여주는 내림차순, 원래 Label\n",
        "best=get_tag_results(testresult,test_label2)[0]\n",
        "print(best)"
      ],
      "execution_count": 46,
      "outputs": [
        {
          "output_type": "stream",
          "text": [
            "{'fast_rhythm': 797, 'triplet': 1070, 'One_rhythm': 1405, 'leaping_twisting': 1903, 'resting': 666, 'down_steping': 267, 'repeating': 703, 'staccato': 1079, 'up_steping': 916, 'down_leaping': 939, 'up_leaping': 1099, 'steping_twisting': 357, 'continuing_rhythm': 1033} {'fast_rhythm': 1103, 'leaping_twisting': 2559, 'triplet': 1943, 'One_rhythm': 1787, 'down_steping': 520, 'staccato': 1959, 'resting': 763, 'repeating': 1107, 'up_steping': 1429, 'up_leaping': 1539, 'down_leaping': 1411, 'steping_twisting': 649, 'continuing_rhythm': 1322}\n",
            "[('fast_rhythm',), ('One_rhythm',), ('leaping_twisting',), ('down_steping',), ('One_rhythm',), ('resting',), ('repeating',), ('repeating',), ('leaping_twisting',), ('staccato',), ('staccato',), ('up_steping',), ('repeating',), ('leaping_twisting',), ('staccato',), ('down_steping',), ('repeating',), ('staccato',), ('staccato',), ('staccato',), ('staccato',), ('staccato',), ('staccato',), ('One_rhythm',), ('resting',), ('One_rhythm',), ('resting',), ('One_rhythm',), ('up_leaping',), ('One_rhythm',), ('up_leaping',), ('One_rhythm',), ('up_leaping',), ('One_rhythm',), ('up_leaping',), ('One_rhythm',), ('up_leaping',), ('down_leaping',), ('down_leaping',), ('down_leaping',), ('down_leaping',), ('down_leaping',), ('down_leaping',), ('down_leaping',), ('down_leaping',), ('down_leaping',), ('down_leaping',), ('leaping_twisting',), ('triplet',), ('leaping_twisting',), ('leaping_twisting',), ('triplet',), ('triplet',), ('leaping_twisting',), ('leaping_twisting',), ('leaping_twisting',), ('leaping_twisting',), ('leaping_twisting',), ('leaping_twisting',), ('triplet',), ('triplet',), ('leaping_twisting',), ('down_leaping',), ('leaping_twisting',), ('staccato',), ('fast_rhythm',), ('fast_rhythm',), ('fast_rhythm',), ('fast_rhythm',), ('fast_rhythm',), ('fast_rhythm',), ('fast_rhythm',), ('fast_rhythm',), ('fast_rhythm',), ('fast_rhythm',), ('fast_rhythm',), ('triplet',), ('up_leaping',), ('up_leaping',), ('up_leaping',), ('up_leaping',), ('up_leaping',), ('up_leaping',), ('up_leaping',), ('down_steping',), ('leaping_twisting',), ('down_steping',), ('leaping_twisting',), ('down_steping',), ('leaping_twisting',), ('down_steping',), ('leaping_twisting',), ('down_steping',), ('leaping_twisting',), ('down_steping',), ('leaping_twisting',), ('down_steping',), ('leaping_twisting',), ('down_steping',), ('One_rhythm',), ('resting',), ('down_steping',), ('repeating',), ('up_leaping',), ('up_leaping',), ('up_leaping',), ('staccato',), ('up_leaping',), ('up_leaping',), ('up_leaping',), ('staccato',), ('up_leaping',), ('up_leaping',), ('resting',), ('leaping_twisting',), ('up_leaping',), ('repeating',), ('up_steping',), ('staccato',), ('up_leaping',), ('up_steping',), ('up_steping',), ('leaping_twisting',), ('staccato',), ('down_leaping',), ('up_steping',), ('fast_rhythm',), ('staccato',), ('staccato',), ('up_steping',), ('leaping_twisting',), ('staccato',), ('down_leaping',), ('One_rhythm',), ('resting',), ('resting',), ('resting',), ('up_steping',), ('staccato',), ('One_rhythm',), ('up_leaping',), ('One_rhythm',), ('up_leaping',), ('resting',), ('resting',), ('continuing_rhythm',), ('staccato',), ('down_steping',), ('staccato',), ('One_rhythm',), ('resting',), ('resting',), ('resting',), ('up_steping',), ('up_leaping',), ('One_rhythm',), ('resting',), ('leaping_twisting',), ('leaping_twisting',), ('leaping_twisting',), ('leaping_twisting',), ('leaping_twisting',), ('leaping_twisting',), ('leaping_twisting',), ('leaping_twisting',), ('leaping_twisting',), ('leaping_twisting',), ('leaping_twisting',), ('leaping_twisting',), ('leaping_twisting',), ('leaping_twisting',), ('down_leaping',), ('up_steping',), ('leaping_twisting',), ('up_steping',), ('down_leaping',), ('resting',), ('up_steping',), ('resting',), ('triplet',), ('resting',), ('resting',), ('leaping_twisting',), ('triplet',), ('One_rhythm',), ('repeating',), ('down_steping',), ('resting',), ('leaping_twisting',), ('down_leaping',), ('resting',), ('leaping_twisting',), ('down_leaping',), ('down_leaping',), ('One_rhythm',), ('leaping_twisting',), ('leaping_twisting',), ('down_leaping',), ('One_rhythm',), ('leaping_twisting',), ('leaping_twisting',), ('leaping_twisting',), ('leaping_twisting',), ('leaping_twisting',), ('leaping_twisting',), ('leaping_twisting',), ('leaping_twisting',), ('leaping_twisting',), ('One_rhythm',), ('resting',), ('down_leaping',), ('down_leaping',), ('leaping_twisting',), ('down_leaping',), ('down_leaping',), ('resting',), ('resting',), ('down_leaping',), ('down_leaping',), ('down_leaping',), ('leaping_twisting',), ('down_leaping',), ('down_leaping',), ('resting',), ('resting',), ('up_leaping',), ('down_leaping',), ('up_leaping',), ('down_leaping',), ('up_leaping',), ('down_leaping',), ('One_rhythm',), ('down_leaping',), ('up_leaping',), ('down_leaping',), ('up_leaping',), ('leaping_twisting',), ('up_leaping',), ('down_leaping',), ('leaping_twisting',), ('up_leaping',), ('leaping_twisting',), ('down_leaping',), ('triplet',), ('fast_rhythm',), ('continuing_rhythm',), ('fast_rhythm',), ('fast_rhythm',), ('fast_rhythm',), ('continuing_rhythm',), ('fast_rhythm',), ('fast_rhythm',), ('resting',), ('leaping_twisting',), ('up_steping',), ('One_rhythm',), ('One_rhythm',), ('One_rhythm',), ('One_rhythm',), ('One_rhythm',), ('One_rhythm',), ('leaping_twisting',), ('One_rhythm',), ('One_rhythm',), ('leaping_twisting',), ('leaping_twisting',), ('down_leaping',), ('leaping_twisting',), ('leaping_twisting',), ('leaping_twisting',), ('continuing_rhythm',), ('leaping_twisting',), ('leaping_twisting',), ('leaping_twisting',), ('down_leaping',), ('leaping_twisting',), ('leaping_twisting',), ('leaping_twisting',), ('leaping_twisting',), ('leaping_twisting',), ('up_steping',), ('leaping_twisting',), ('resting',), ('up_steping',), ('repeating',), ('repeating',), ('down_steping',), ('up_steping',), ('repeating',), ('repeating',), ('down_steping',), ('repeating',), ('down_steping',), ('repeating',), ('down_steping',), ('repeating',), ('down_steping',), ('repeating',), ('down_steping',), ('repeating',), ('up_leaping',), ('leaping_twisting',), ('leaping_twisting',), ('leaping_twisting',), ('leaping_twisting',), ('leaping_twisting',), ('leaping_twisting',), ('leaping_twisting',), ('leaping_twisting',), ('up_leaping',), ('leaping_twisting',), ('leaping_twisting',), ('up_leaping',), ('triplet',), ('staccato',), ('triplet',), ('up_steping',), ('up_steping',), ('up_steping',), ('triplet',), ('up_steping',), ('up_leaping',), ('leaping_twisting',), ('down_leaping',), ('up_steping',), ('down_steping',), ('down_steping',), ('up_steping',), ('leaping_twisting',), ('down_leaping',), ('leaping_twisting',), ('leaping_twisting',), ('One_rhythm',), ('triplet',), ('leaping_twisting',), ('leaping_twisting',), ('down_leaping',), ('leaping_twisting',), ('leaping_twisting',), ('leaping_twisting',), ('leaping_twisting',), ('leaping_twisting',), ('leaping_twisting',), ('leaping_twisting',), ('leaping_twisting',), ('leaping_twisting',), ('leaping_twisting',), ('leaping_twisting',), ('leaping_twisting',), ('leaping_twisting',), ('leaping_twisting',), ('leaping_twisting',), ('leaping_twisting',), ('staccato',), ('leaping_twisting',), ('down_leaping',), ('down_leaping',), ('leaping_twisting',), ('leaping_twisting',), ('down_leaping',), ('down_leaping',), ('leaping_twisting',), ('staccato',), ('staccato',), ('down_leaping',), ('leaping_twisting',), ('leaping_twisting',), ('down_leaping',), ('down_leaping',), ('staccato',), ('leaping_twisting',), ('staccato',), ('repeating',), ('repeating',), ('repeating',), ('repeating',), ('repeating',), ('repeating',), ('repeating',), ('up_steping',), ('repeating',), ('repeating',), ('One_rhythm',), ('repeating',), ('repeating',), ('fast_rhythm',), ('repeating',), ('resting',), ('repeating',), ('repeating',), ('repeating',), ('repeating',), ('One_rhythm',), ('resting',), ('up_steping',), ('resting',), ('triplet',), ('resting',), ('up_steping',), ('resting',), ('up_leaping',), ('resting',), ('continuing_rhythm',), ('up_leaping',), ('continuing_rhythm',), ('resting',), ('up_steping',), ('resting',), ('staccato',), ('resting',), ('staccato',), ('resting',), ('up_steping',), ('resting',), ('repeating',), ('up_leaping',), ('up_steping',), ('triplet',), ('down_leaping',), ('up_steping',), ('triplet',), ('repeating',), ('repeating',), ('steping_twisting',), ('up_steping',), ('resting',), ('repeating',), ('resting',), ('resting',), ('resting',), ('resting',), ('resting',), ('resting',), ('resting',), ('resting',), ('up_steping',), ('down_steping',), ('up_steping',), ('up_steping',), ('up_steping',), ('triplet',), ('up_steping',), ('staccato',), ('staccato',), ('leaping_twisting',), ('repeating',), ('repeating',), ('repeating',), ('repeating',), ('up_steping',), ('repeating',), ('repeating',), ('repeating',), ('One_rhythm',), ('repeating',), ('repeating',), ('leaping_twisting',), ('repeating',), ('leaping_twisting',), ('leaping_twisting',), ('leaping_twisting',), ('repeating',), ('repeating',), ('resting',), ('down_steping',), ('continuing_rhythm',), ('down_steping',), ('up_leaping',), ('repeating',), ('triplet',), ('down_steping',), ('up_leaping',), ('down_steping',), ('continuing_rhythm',), ('One_rhythm',), ('triplet',), ('down_steping',), ('up_leaping',), ('repeating',), ('continuing_rhythm',), ('continuing_rhythm',), ('up_steping',), ('One_rhythm',), ('down_steping',), ('repeating',), ('resting',), ('staccato',), ('up_steping',), ('triplet',), ('resting',), ('down_leaping',), ('resting',), ('resting',), ('triplet',), ('resting',), ('up_leaping',), ('One_rhythm',), ('resting',), ('resting',), ('staccato',), ('up_steping',), ('up_steping',), ('resting',), ('resting',), ('down_steping',), ('resting',), ('up_leaping',), ('resting',), ('One_rhythm',), ('repeating',), ('up_steping',), ('fast_rhythm',), ('fast_rhythm',), ('fast_rhythm',), ('fast_rhythm',), ('fast_rhythm',), ('fast_rhythm',), ('fast_rhythm',), ('fast_rhythm',), ('fast_rhythm',), ('fast_rhythm',), ('fast_rhythm',), ('fast_rhythm',), ('fast_rhythm',), ('fast_rhythm',), ('fast_rhythm',), ('fast_rhythm',), ('up_leaping',), ('fast_rhythm',), ('leaping_twisting',), ('fast_rhythm',), ('fast_rhythm',), ('fast_rhythm',), ('fast_rhythm',), ('triplet',), ('fast_rhythm',), ('leaping_twisting',), ('triplet',), ('fast_rhythm',), ('fast_rhythm',), ('fast_rhythm',), ('fast_rhythm',), ('fast_rhythm',), ('fast_rhythm',), ('fast_rhythm',), ('staccato',), ('fast_rhythm',), ('fast_rhythm',), ('fast_rhythm',), ('fast_rhythm',), ('fast_rhythm',), ('fast_rhythm',), ('fast_rhythm',), ('staccato',), ('down_steping',), ('down_steping',), ('up_steping',), ('up_steping',), ('triplet',), ('triplet',), ('triplet',), ('triplet',), ('triplet',), ('up_steping',), ('up_steping',), ('up_steping',), ('down_steping',), ('up_steping',), ('up_steping',), ('up_steping',), ('triplet',), ('triplet',), ('triplet',), ('leaping_twisting',), ('leaping_twisting',), ('leaping_twisting',), ('leaping_twisting',), ('leaping_twisting',), ('up_leaping',), ('leaping_twisting',), ('leaping_twisting',), ('leaping_twisting',), ('leaping_twisting',), ('up_leaping',), ('up_leaping',), ('up_leaping',), ('leaping_twisting',), ('leaping_twisting',), ('leaping_twisting',), ('up_leaping',), ('leaping_twisting',), ('leaping_twisting',), ('leaping_twisting',), ('leaping_twisting',), ('leaping_twisting',), ('leaping_twisting',), ('leaping_twisting',), ('leaping_twisting',), ('leaping_twisting',), ('leaping_twisting',), ('leaping_twisting',), ('leaping_twisting',), ('leaping_twisting',), ('triplet',), ('leaping_twisting',), ('leaping_twisting',), ('leaping_twisting',), ('leaping_twisting',), ('leaping_twisting',), ('resting',), ('resting',), ('staccato',), ('up_steping',), ('up_steping',), ('down_leaping',), ('fast_rhythm',), ('up_steping',), ('up_steping',), ('down_leaping',), ('fast_rhythm',), ('fast_rhythm',), ('fast_rhythm',), ('up_steping',), ('staccato',), ('repeating',), ('up_steping',), ('repeating',), ('up_steping',), ('down_steping',), ('staccato',), ('repeating',), ('up_steping',), ('staccato',), ('up_steping',), ('repeating',), ('up_steping',), ('down_steping',), ('One_rhythm',), ('leaping_twisting',), ('leaping_twisting',), ('up_steping',), ('staccato',), ('up_steping',), ('down_leaping',), ('staccato',), ('up_leaping',), ('triplet',), ('down_steping',), ('staccato',), ('fast_rhythm',), ('down_steping',), ('leaping_twisting',), ('repeating',), ('One_rhythm',), ('leaping_twisting',), ('leaping_twisting',), ('repeating',), ('staccato',), ('down_leaping',), ('staccato',), ('staccato',), ('staccato',), ('leaping_twisting',), ('leaping_twisting',), ('repeating',), ('repeating',), ('staccato',), ('staccato',), ('staccato',), ('down_leaping',), ('up_steping',), ('triplet',), ('resting',), ('up_steping',), ('leaping_twisting',), ('up_steping',), ('resting',), ('triplet',), ('triplet',), ('up_leaping',), ('down_steping',), ('staccato',), ('up_leaping',), ('up_steping',), ('repeating',), ('down_steping',), ('up_steping',), ('down_steping',), ('staccato',), ('continuing_rhythm',), ('fast_rhythm',), ('fast_rhythm',), ('triplet',), ('continuing_rhythm',), ('continuing_rhythm',), ('leaping_twisting',), ('repeating',), ('continuing_rhythm',), ('continuing_rhythm',), ('leaping_twisting',), ('repeating',), ('continuing_rhythm',), ('continuing_rhythm',), ('leaping_twisting',), ('repeating',), ('continuing_rhythm',), ('continuing_rhythm',), ('leaping_twisting',), ('repeating',), ('resting',), ('leaping_twisting',), ('steping_twisting',), ('up_leaping',), ('resting',), ('resting',), ('resting',), ('resting',), ('resting',), ('One_rhythm',), ('up_leaping',), ('leaping_twisting',), ('leaping_twisting',), ('leaping_twisting',), ('resting',), ('leaping_twisting',), ('up_leaping',), ('resting',), ('down_leaping',), ('resting',), ('One_rhythm',), ('leaping_twisting',), ('up_steping',), ('One_rhythm',), ('One_rhythm',), ('continuing_rhythm',), ('continuing_rhythm',), ('leaping_twisting',), ('resting',), ('One_rhythm',), ('resting',), ('up_steping',), ('up_steping',), ('up_steping',), ('down_leaping',), ('repeating',), ('triplet',), ('staccato',), ('resting',), ('repeating',), ('triplet',), ('repeating',), ('resting',), ('One_rhythm',), ('resting',), ('up_steping',), ('leaping_twisting',), ('leaping_twisting',), ('One_rhythm',), ('up_steping',), ('down_steping',), ('up_leaping',), ('up_leaping',), ('down_steping',), ('leaping_twisting',), ('up_steping',), ('leaping_twisting',), ('resting',), ('up_steping',), ('repeating',), ('repeating',), ('repeating',), ('steping_twisting',), ('down_leaping',), ('continuing_rhythm',), ('up_steping',), ('up_steping',), ('down_steping',), ('up_steping',), ('up_leaping',), ('down_steping',), ('down_leaping',), ('down_steping',), ('up_leaping',), ('down_steping',), ('down_leaping',), ('down_steping',), ('up_steping',), ('leaping_twisting',), ('leaping_twisting',), ('resting',), ('resting',), ('leaping_twisting',), ('leaping_twisting',), ('leaping_twisting',), ('leaping_twisting',), ('leaping_twisting',), ('leaping_twisting',), ('up_steping',), ('leaping_twisting',), ('triplet',), ('leaping_twisting',), ('up_steping',), ('leaping_twisting',), ('leaping_twisting',), ('leaping_twisting',), ('leaping_twisting',), ('leaping_twisting',), ('leaping_twisting',), ('leaping_twisting',), ('leaping_twisting',), ('resting',), ('fast_rhythm',), ('up_steping',), ('fast_rhythm',), ('fast_rhythm',), ('fast_rhythm',), ('fast_rhythm',), ('fast_rhythm',), ('fast_rhythm',), ('fast_rhythm',), ('fast_rhythm',), ('fast_rhythm',), ('fast_rhythm',), ('fast_rhythm',), ('up_steping',), ('fast_rhythm',), ('fast_rhythm',), ('fast_rhythm',), ('fast_rhythm',), ('fast_rhythm',), ('fast_rhythm',), ('fast_rhythm',), ('fast_rhythm',), ('fast_rhythm',), ('fast_rhythm',), ('fast_rhythm',), ('fast_rhythm',), ('fast_rhythm',), ('fast_rhythm',), ('fast_rhythm',), ('fast_rhythm',), ('fast_rhythm',), ('fast_rhythm',), ('fast_rhythm',), ('fast_rhythm',), ('fast_rhythm',), ('fast_rhythm',), ('triplet',), ('leaping_twisting',), ('staccato',), ('leaping_twisting',), ('staccato',), ('leaping_twisting',), ('staccato',), ('leaping_twisting',), ('staccato',), ('leaping_twisting',), ('staccato',), ('leaping_twisting',), ('staccato',), ('leaping_twisting',), ('staccato',), ('leaping_twisting',), ('down_leaping',), ('down_leaping',), ('One_rhythm',), ('leaping_twisting',), ('up_leaping',), ('leaping_twisting',), ('up_steping',), ('leaping_twisting',), ('down_leaping',), ('down_leaping',), ('repeating',), ('down_leaping',), ('leaping_twisting',), ('staccato',), ('leaping_twisting',), ('leaping_twisting',), ('down_steping',), ('leaping_twisting',), ('down_leaping',), ('down_leaping',), ('One_rhythm',), ('up_steping',), ('resting',), ('down_leaping',), ('up_leaping',), ('up_steping',), ('down_leaping',), ('down_leaping',), ('up_leaping',), ('up_steping',), ('leaping_twisting',), ('up_leaping',), ('down_leaping',), ('leaping_twisting',), ('leaping_twisting',), ('leaping_twisting',), ('down_leaping',), ('leaping_twisting',), ('leaping_twisting',), ('up_leaping',), ('resting',), ('resting',), ('resting',), ('resting',), ('resting',), ('resting',), ('resting',), ('resting',), ('resting',), ('resting',), ('resting',), ('resting',), ('resting',), ('resting',), ('resting',), ('resting',), ('resting',), ('resting',), ('resting',), ('resting',), ('resting',), ('resting',), ('resting',), ('resting',), ('resting',), ('resting',), ('resting',), ('resting',), ('resting',), ('up_steping',), ('up_leaping',), ('up_steping',), ('down_steping',), ('up_steping',), ('resting',), ('up_leaping',), ('up_leaping',), ('staccato',), ('repeating',), ('triplet',), ('down_leaping',), ('up_steping',), ('resting',), ('triplet',), ('steping_twisting',), ('triplet',), ('fast_rhythm',), ('triplet',), ('down_leaping',), ('resting',), ('up_leaping',), ('down_leaping',), ('up_steping',), ('resting',), ('down_leaping',), ('resting',), ('up_leaping',), ('resting',), ('resting',), ('resting',), ('up_leaping',), ('resting',), ('down_leaping',), ('resting',), ('up_leaping',), ('resting',), ('leaping_twisting',), ('resting',), ('up_steping',), ('resting',), ('down_leaping',), ('resting',), ('resting',), ('down_leaping',), ('leaping_twisting',), ('leaping_twisting',), ('staccato',), ('leaping_twisting',), ('staccato',), ('leaping_twisting',), ('resting',), ('down_leaping',), ('leaping_twisting',), ('down_leaping',), ('down_leaping',), ('up_leaping',), ('staccato',), ('leaping_twisting',), ('down_leaping',), ('leaping_twisting',), ('down_leaping',), ('up_leaping',), ('repeating',), ('up_leaping',), ('leaping_twisting',), ('up_leaping',), ('leaping_twisting',), ('resting',), ('triplet',), ('up_leaping',), ('triplet',), ('resting',), ('up_steping',), ('up_leaping',), ('resting',), ('up_leaping',), ('leaping_twisting',), ('resting',), ('down_leaping',), ('up_leaping',), ('up_leaping',), ('resting',), ('up_steping',), ('resting',), ('up_steping',), ('resting',), ('staccato',), ('repeating',), ('down_steping',), ('resting',), ('resting',), ('up_steping',), ('steping_twisting',), ('staccato',), ('resting',), ('resting',), ('resting',), ('leaping_twisting',), ('up_steping',), ('One_rhythm',), ('One_rhythm',), ('One_rhythm',), ('One_rhythm',), ('One_rhythm',), ('One_rhythm',), ('up_steping',), ('up_steping',), ('up_steping',), ('One_rhythm',), ('One_rhythm',), ('One_rhythm',), ('One_rhythm',), ('One_rhythm',), ('One_rhythm',), ('One_rhythm',), ('One_rhythm',), ('One_rhythm',), ('One_rhythm',), ('repeating',), ('repeating',), ('resting',), ('down_leaping',), ('leaping_twisting',), ('up_leaping',), ('up_steping',), ('up_leaping',), ('leaping_twisting',), ('up_leaping',), ('leaping_twisting',), ('down_leaping',), ('leaping_twisting',), ('up_leaping',), ('up_steping',), ('up_leaping',), ('resting',), ('leaping_twisting',), ('up_leaping',), ('up_leaping',), ('leaping_twisting',), ('leaping_twisting',), ('leaping_twisting',), ('up_leaping',), ('up_leaping',), ('up_leaping',), ('up_steping',), ('up_leaping',), ('resting',), ('down_leaping',), ('up_steping',), ('up_leaping',), ('up_steping',), ('up_leaping',), ('down_leaping',), ('up_leaping',), ('steping_twisting',), ('leaping_twisting',), ('leaping_twisting',), ('down_leaping',), ('up_leaping',), ('leaping_twisting',), ('up_leaping',), ('resting',), ('resting',), ('resting',), ('resting',), ('down_leaping',), ('resting',), ('resting',), ('resting',), ('up_leaping',), ('resting',), ('down_leaping',), ('resting',), ('continuing_rhythm',), ('resting',), ('down_leaping',), ('resting',), ('resting',), ('resting',), ('resting',), ('resting',), ('fast_rhythm',), ('fast_rhythm',), ('down_steping',), ('continuing_rhythm',), ('triplet',), ('resting',), ('leaping_twisting',), ('fast_rhythm',), ('down_steping',), ('staccato',), ('staccato',), ('staccato',), ('staccato',), ('staccato',), ('leaping_twisting',), ('staccato',), ('staccato',), ('staccato',), ('staccato',), ('staccato',), ('staccato',), ('staccato',), ('resting',), ('triplet',), ('triplet',), ('staccato',), ('staccato',), ('leaping_twisting',), ('triplet',), ('up_steping',), ('fast_rhythm',), ('leaping_twisting',), ('triplet',), ('staccato',), ('up_steping',), ('down_steping',), ('leaping_twisting',), ('leaping_twisting',), ('leaping_twisting',), ('leaping_twisting',), ('leaping_twisting',), ('leaping_twisting',), ('leaping_twisting',), ('leaping_twisting',), ('leaping_twisting',), ('leaping_twisting',), ('leaping_twisting',), ('leaping_twisting',), ('leaping_twisting',), ('leaping_twisting',), ('leaping_twisting',), ('leaping_twisting',), ('leaping_twisting',), ('up_leaping',), ('repeating',), ('repeating',), ('repeating',), ('repeating',), ('repeating',), ('repeating',), ('repeating',), ('repeating',), ('repeating',), ('repeating',), ('repeating',), ('repeating',), ('fast_rhythm',), ('fast_rhythm',), ('One_rhythm',), ('One_rhythm',), ('One_rhythm',), ('up_steping',), ('leaping_twisting',), ('fast_rhythm',), ('leaping_twisting',), ('leaping_twisting',), ('leaping_twisting',), ('fast_rhythm',), ('leaping_twisting',), ('leaping_twisting',), ('leaping_twisting',), ('fast_rhythm',), ('leaping_twisting',), ('leaping_twisting',), ('leaping_twisting',), ('up_steping',), ('staccato',), ('staccato',), ('down_steping',), ('fast_rhythm',), ('staccato',), ('staccato',), ('down_steping',), ('fast_rhythm',), ('staccato',), ('staccato',), ('down_steping',), ('fast_rhythm',), ('staccato',), ('staccato',), ('up_steping',), ('down_steping',), ('up_steping',), ('up_steping',), ('up_steping',), ('One_rhythm',), ('down_leaping',), ('up_leaping',), ('up_steping',), ('triplet',), ('triplet',), ('down_leaping',), ('up_steping',), ('up_steping',), ('up_steping',), ('up_steping',), ('repeating',), ('resting',), ('fast_rhythm',), ('fast_rhythm',), ('fast_rhythm',), ('fast_rhythm',), ('staccato',), ('leaping_twisting',), ('fast_rhythm',), ('fast_rhythm',), ('fast_rhythm',), ('staccato',), ('leaping_twisting',), ('leaping_twisting',), ('staccato',), ('fast_rhythm',), ('fast_rhythm',), ('fast_rhythm',), ('leaping_twisting',), ('down_steping',), ('triplet',), ('staccato',), ('down_leaping',), ('down_steping',), ('One_rhythm',), ('resting',), ('down_steping',), ('staccato',), ('down_steping',), ('leaping_twisting',), ('triplet',), ('down_leaping',), ('triplet',), ('staccato',), ('staccato',), ('repeating',), ('repeating',), ('staccato',), ('resting',), ('staccato',), ('staccato',), ('staccato',), ('down_leaping',), ('down_steping',), ('staccato',), ('staccato',), ('repeating',), ('staccato',), ('staccato',), ('staccato',), ('staccato',), ('staccato',), ('staccato',), ('staccato',), ('staccato',), ('staccato',), ('staccato',), ('staccato',), ('staccato',), ('staccato',), ('staccato',), ('staccato',), ('staccato',), ('leaping_twisting',), ('staccato',), ('staccato',), ('up_steping',), ('continuing_rhythm',), ('up_steping',), ('One_rhythm',), ('up_steping',), ('continuing_rhythm',), ('up_steping',), ('resting',), ('up_steping',), ('continuing_rhythm',), ('up_steping',), ('leaping_twisting',), ('up_steping',), ('continuing_rhythm',), ('up_steping',), ('up_leaping',), ('staccato',), ('staccato',), ('staccato',), ('repeating',), ('staccato',), ('repeating',), ('repeating',), ('repeating',), ('repeating',), ('repeating',), ('repeating',), ('repeating',), ('staccato',), ('repeating',), ('repeating',), ('repeating',), ('repeating',), ('repeating',), ('staccato',), ('repeating',), ('repeating',), ('repeating',), ('resting',), ('repeating',), ('staccato',), ('repeating',), ('up_steping',), ('triplet',), ('fast_rhythm',), ('staccato',), ('up_steping',), ('up_steping',), ('steping_twisting',), ('resting',), ('up_steping',), ('triplet',), ('triplet',), ('staccato',), ('up_steping',), ('repeating',), ('resting',), ('resting',), ('staccato',), ('resting',), ('leaping_twisting',), ('up_leaping',), ('leaping_twisting',), ('up_steping',), ('leaping_twisting',), ('leaping_twisting',), ('leaping_twisting',), ('up_steping',), ('up_leaping',), ('repeating',), ('triplet',), ('repeating',), ('repeating',), ('resting',), ('down_leaping',), ('up_leaping',), ('down_leaping',), ('up_leaping',), ('up_leaping',), ('triplet',), ('up_leaping',), ('up_leaping',), ('leaping_twisting',), ('up_leaping',), ('leaping_twisting',), ('down_leaping',), ('leaping_twisting',), ('up_leaping',), ('up_leaping',), ('down_leaping',), ('leaping_twisting',), ('resting',), ('leaping_twisting',), ('up_leaping',), ('staccato',), ('leaping_twisting',), ('up_leaping',), ('triplet',), ('staccato',), ('down_leaping',), ('up_leaping',), ('up_leaping',), ('up_leaping',), ('staccato',), ('leaping_twisting',), ('leaping_twisting',), ('leaping_twisting',), ('up_leaping',), ('up_leaping',), ('up_steping',), ('resting',), ('fast_rhythm',), ('down_steping',), ('continuing_rhythm',), ('leaping_twisting',), ('fast_rhythm',), ('resting',), ('repeating',), ('up_leaping',), ('continuing_rhythm',), ('down_steping',), ('steping_twisting',), ('up_steping',), ('triplet',), ('up_steping',), ('steping_twisting',), ('down_leaping',), ('up_steping',), ('down_leaping',), ('up_steping',), ('down_leaping',), ('down_steping',), ('resting',), ('leaping_twisting',), ('up_leaping',), ('continuing_rhythm',), ('repeating',), ('up_steping',), ('down_leaping',), ('continuing_rhythm',), ('up_leaping',), ('down_steping',), ('up_steping',), ('leaping_twisting',), ('up_leaping',), ('continuing_rhythm',), ('resting',), ('continuing_rhythm',), ('continuing_rhythm',), ('continuing_rhythm',), ('continuing_rhythm',), ('continuing_rhythm',), ('continuing_rhythm',), ('continuing_rhythm',), ('continuing_rhythm',), ('continuing_rhythm',), ('continuing_rhythm',), ('continuing_rhythm',), ('continuing_rhythm',), ('continuing_rhythm',), ('continuing_rhythm',), ('up_steping',), ('fast_rhythm',), ('fast_rhythm',), ('fast_rhythm',), ('leaping_twisting',), ('fast_rhythm',), ('fast_rhythm',), ('triplet',), ('up_leaping',), ('staccato',), ('staccato',), ('staccato',), ('up_leaping',), ('down_steping',), ('continuing_rhythm',), ('down_leaping',), ('leaping_twisting',), ('staccato',), ('staccato',), ('down_leaping',), ('resting',), ('resting',), ('down_leaping',), ('up_leaping',), ('repeating',), ('repeating',), ('repeating',), ('leaping_twisting',), ('repeating',), ('repeating',), ('resting',), ('resting',), ('repeating',), ('repeating',), ('repeating',), ('repeating',), ('repeating',), ('repeating',), ('repeating',), ('repeating',), ('repeating',), ('repeating',), ('up_leaping',), ('staccato',), ('resting',), ('leaping_twisting',), ('down_leaping',), ('staccato',), ('staccato',), ('leaping_twisting',), ('up_leaping',), ('down_leaping',), ('leaping_twisting',), ('staccato',), ('leaping_twisting',), ('leaping_twisting',), ('leaping_twisting',), ('leaping_twisting',), ('leaping_twisting',), ('resting',), ('resting',), ('leaping_twisting',), ('leaping_twisting',), ('repeating',), ('repeating',), ('fast_rhythm',), ('fast_rhythm',), ('fast_rhythm',), ('fast_rhythm',), ('fast_rhythm',), ('fast_rhythm',), ('fast_rhythm',), ('fast_rhythm',), ('fast_rhythm',), ('fast_rhythm',), ('fast_rhythm',), ('fast_rhythm',), ('fast_rhythm',), ('down_leaping',), ('down_steping',), ('triplet',), ('up_steping',), ('leaping_twisting',), ('leaping_twisting',), ('leaping_twisting',), ('up_steping',), ('down_leaping',), ('leaping_twisting',), ('staccato',), ('down_steping',), ('staccato',), ('resting',), ('triplet',), ('triplet',), ('up_leaping',), ('resting',), ('down_leaping',), ('up_leaping',), ('down_leaping',), ('resting',), ('down_leaping',), ('resting',), ('resting',), ('resting',), ('down_leaping',), ('up_leaping',), ('One_rhythm',), ('leaping_twisting',), ('continuing_rhythm',), ('leaping_twisting',), ('leaping_twisting',), ('down_leaping',), ('up_leaping',), ('One_rhythm',), ('leaping_twisting',), ('One_rhythm',), ('up_steping',), ('up_leaping',), ('leaping_twisting',), ('down_leaping',), ('resting',), ('leaping_twisting',), ('repeating',), ('repeating',), ('repeating',), ('steping_twisting',), ('up_leaping',), ('steping_twisting',), ('leaping_twisting',), ('steping_twisting',), ('leaping_twisting',), ('steping_twisting',), ('leaping_twisting',), ('staccato',), ('leaping_twisting',), ('steping_twisting',), ('leaping_twisting',), ('staccato',), ('leaping_twisting',), ('steping_twisting',), ('triplet',), ('triplet',), ('triplet',), ('leaping_twisting',), ('leaping_twisting',), ('fast_rhythm',), ('fast_rhythm',), ('fast_rhythm',), ('fast_rhythm',), ('triplet',), ('fast_rhythm',), ('fast_rhythm',), ('fast_rhythm',), ('up_leaping',), ('leaping_twisting',), ('triplet',), ('triplet',), ('leaping_twisting',), ('triplet',), ('down_steping',), ('resting',), ('resting',), ('repeating',), ('repeating',), ('continuing_rhythm',), ('repeating',), ('down_steping',), ('repeating',), ('continuing_rhythm',), ('repeating',), ('triplet',), ('repeating',), ('down_steping',), ('repeating',), ('repeating',), ('up_leaping',), ('triplet',), ('repeating',), ('down_steping',), ('continuing_rhythm',), ('triplet',), ('repeating',), ('triplet',), ('repeating',), ('resting',), ('staccato',), ('staccato',), ('up_steping',), ('staccato',), ('staccato',), ('repeating',), ('up_steping',), ('staccato',), ('staccato',), ('staccato',), ('up_steping',), ('staccato',), ('staccato',), ('repeating',), ('repeating',), ('up_leaping',), ('repeating',), ('repeating',), ('down_leaping',), ('down_leaping',), ('continuing_rhythm',), ('leaping_twisting',), ('up_steping',), ('repeating',), ('repeating',), ('repeating',), ('repeating',), ('repeating',), ('staccato',), ('staccato',), ('staccato',), ('up_steping',), ('resting',), ('down_steping',), ('steping_twisting',), ('down_steping',), ('down_steping',), ('One_rhythm',), ('steping_twisting',), ('down_steping',), ('up_steping',), ('up_steping',), ('resting',), ('up_leaping',), ('up_steping',), ('up_steping',), ('triplet',), ('leaping_twisting',), ('up_steping',), ('up_leaping',), ('repeating',), ('repeating',), ('repeating',), ('up_steping',), ('leaping_twisting',), ('repeating',), ('repeating',), ('repeating',), ('repeating',), ('repeating',), ('repeating',), ('up_steping',), ('leaping_twisting',), ('repeating',), ('resting',), ('leaping_twisting',), ('leaping_twisting',), ('fast_rhythm',), ('fast_rhythm',), ('fast_rhythm',), ('fast_rhythm',), ('fast_rhythm',), ('fast_rhythm',), ('fast_rhythm',), ('leaping_twisting',), ('fast_rhythm',), ('fast_rhythm',), ('leaping_twisting',), ('staccato',), ('triplet',), ('staccato',), ('staccato',), ('staccato',), ('staccato',), ('staccato',), ('fast_rhythm',), ('fast_rhythm',), ('triplet',), ('staccato',), ('staccato',), ('staccato',), ('staccato',), ('staccato',), ('leaping_twisting',), ('leaping_twisting',), ('leaping_twisting',), ('staccato',), ('triplet',), ('staccato',), ('leaping_twisting',), ('staccato',), ('continuing_rhythm',), ('leaping_twisting',), ('leaping_twisting',), ('staccato',), ('steping_twisting',), ('continuing_rhythm',), ('down_steping',), ('continuing_rhythm',), ('up_steping',), ('continuing_rhythm',), ('up_leaping',), ('leaping_twisting',), ('steping_twisting',), ('up_leaping',), ('down_leaping',), ('up_steping',), ('continuing_rhythm',), ('leaping_twisting',), ('leaping_twisting',), ('staccato',), ('continuing_rhythm',), ('leaping_twisting',), ('staccato',), ('leaping_twisting',), ('up_leaping',), ('down_steping',), ('down_leaping',), ('up_steping',), ('leaping_twisting',), ('leaping_twisting',), ('staccato',), ('up_leaping',), ('leaping_twisting',), ('up_steping',), ('One_rhythm',), ('down_leaping',), ('up_steping',), ('up_steping',), ('triplet',), ('triplet',), ('down_steping',), ('up_steping',), ('down_steping',), ('down_steping',), ('One_rhythm',), ('One_rhythm',), ('up_steping',), ('up_steping',), ('One_rhythm',), ('fast_rhythm',), ('triplet',), ('resting',), ('up_steping',), ('down_leaping',), ('triplet',), ('repeating',), ('up_steping',), ('leaping_twisting',), ('up_steping',), ('triplet',), ('staccato',), ('staccato',), ('up_steping',), ('leaping_twisting',), ('staccato',), ('staccato',), ('up_steping',), ('staccato',), ('leaping_twisting',), ('leaping_twisting',), ('repeating',), ('triplet',), ('leaping_twisting',), ('up_steping',), ('leaping_twisting',), ('triplet',), ('leaping_twisting',), ('leaping_twisting',), ('leaping_twisting',), ('down_leaping',), ('leaping_twisting',), ('leaping_twisting',), ('triplet',), ('leaping_twisting',), ('leaping_twisting',), ('leaping_twisting',), ('triplet',), ('leaping_twisting',), ('leaping_twisting',), ('triplet',), ('leaping_twisting',), ('resting',), ('resting',), ('repeating',), ('resting',), ('resting',), ('resting',), ('resting',), ('steping_twisting',), ('down_steping',), ('staccato',), ('resting',), ('staccato',), ('up_leaping',), ('resting',), ('resting',), ('staccato',), ('up_leaping',), ('resting',), ('up_leaping',), ('down_leaping',), ('up_leaping',), ('resting',), ('up_leaping',), ('up_leaping',), ('up_leaping',), ('resting',), ('resting',), ('up_leaping',), ('up_leaping',), ('resting',), ('resting',), ('staccato',), ('up_leaping',), ('resting',), ('resting',), ('resting',), ('leaping_twisting',), ('leaping_twisting',), ('fast_rhythm',), ('fast_rhythm',), ('triplet',), ('leaping_twisting',), ('leaping_twisting',), ('leaping_twisting',), ('leaping_twisting',), ('leaping_twisting',), ('leaping_twisting',), ('leaping_twisting',), ('triplet',), ('staccato',), ('leaping_twisting',), ('up_steping',), ('One_rhythm',), ('triplet',), ('repeating',), ('up_steping',), ('fast_rhythm',), ('up_steping',), ('repeating',), ('up_steping',), ('up_steping',), ('repeating',), ('repeating',), ('up_steping',), ('triplet',), ('triplet',), ('down_steping',), ('up_steping',), ('up_steping',), ('triplet',), ('down_steping',), ('up_steping',), ('up_steping',), ('triplet',), ('triplet',), ('triplet',), ('One_rhythm',), ('steping_twisting',), ('One_rhythm',), ('One_rhythm',), ('One_rhythm',), ('One_rhythm',), ('triplet',), ('triplet',), ('One_rhythm',), ('steping_twisting',), ('continuing_rhythm',), ('down_steping',), ('One_rhythm',), ('steping_twisting',), ('One_rhythm',), ('One_rhythm',), ('up_leaping',), ('down_leaping',), ('One_rhythm',), ('One_rhythm',), ('One_rhythm',), ('One_rhythm',), ('triplet',), ('One_rhythm',), ('One_rhythm',), ('One_rhythm',), ('staccato',), ('One_rhythm',), ('One_rhythm',), ('One_rhythm',), ('staccato',), ('staccato',), ('triplet',), ('staccato',), ('resting',), ('staccato',), ('One_rhythm',), ('One_rhythm',), ('One_rhythm',), ('resting',), ('up_steping',), ('up_steping',), ('triplet',), ('up_steping',), ('up_steping',), ('up_steping',), ('up_steping',), ('staccato',), ('up_steping',), ('up_steping',), ('steping_twisting',), ('up_steping',), ('up_steping',), ('up_steping',), ('fast_rhythm',), ('up_steping',), ('fast_rhythm',), ('up_steping',), ('fast_rhythm',), ('up_steping',), ('fast_rhythm',), ('up_steping',), ('fast_rhythm',), ('fast_rhythm',), ('fast_rhythm',), ('up_steping',), ('fast_rhythm',), ('fast_rhythm',), ('up_steping',), ('steping_twisting',), ('resting',), ('resting',), ('continuing_rhythm',), ('continuing_rhythm',), ('resting',), ('resting',), ('continuing_rhythm',), ('continuing_rhythm',), ('resting',), ('repeating',), ('steping_twisting',), ('steping_twisting',), ('resting',), ('up_leaping',), ('steping_twisting',), ('steping_twisting',), ('down_leaping',), ('resting',), ('down_steping',), ('leaping_twisting',), ('leaping_twisting',), ('leaping_twisting',), ('One_rhythm',), ('triplet',), ('leaping_twisting',), ('triplet',), ('leaping_twisting',), ('leaping_twisting',), ('leaping_twisting',), ('leaping_twisting',), ('One_rhythm',), ('One_rhythm',), ('leaping_twisting',), ('triplet',), ('leaping_twisting',), ('leaping_twisting',), ('leaping_twisting',), ('leaping_twisting',), ('leaping_twisting',), ('leaping_twisting',), ('leaping_twisting',), ('up_steping',), ('up_steping',), ('up_steping',), ('up_steping',), ('up_steping',), ('up_steping',), ('up_steping',), ('up_steping',), ('up_steping',), ('up_steping',), ('up_steping',), ('up_steping',), ('up_steping',), ('up_steping',), ('leaping_twisting',), ('leaping_twisting',), ('up_leaping',), ('resting',), ('up_steping',), ('up_steping',), ('up_steping',), ('up_steping',), ('up_steping',), ('up_steping',), ('up_steping',), ('up_steping',), ('up_steping',), ('leaping_twisting',), ('triplet',), ('leaping_twisting',), ('triplet',), ('leaping_twisting',), ('triplet',), ('leaping_twisting',), ('triplet',), ('leaping_twisting',), ('triplet',), ('up_leaping',), ('up_steping',), ('staccato',), ('triplet',), ('up_steping',), ('up_steping',), ('down_leaping',), ('resting',), ('resting',), ('up_steping',), ('triplet',), ('up_steping',), ('resting',), ('up_leaping',), ('resting',), ('down_leaping',), ('repeating',), ('repeating',), ('repeating',), ('staccato',), ('repeating',), ('repeating',), ('repeating',), ('down_leaping',), ('down_leaping',), ('down_leaping',), ('repeating',), ('staccato',), ('down_leaping',), ('up_steping',), ('repeating',), ('up_steping',), ('resting',), ('One_rhythm',), ('One_rhythm',), ('One_rhythm',), ('One_rhythm',), ('repeating',), ('leaping_twisting',), ('One_rhythm',), ('up_steping',), ('leaping_twisting',), ('leaping_twisting',), ('One_rhythm',), ('up_steping',), ('leaping_twisting',), ('leaping_twisting',), ('One_rhythm',), ('One_rhythm',), ('repeating',), ('One_rhythm',), ('leaping_twisting',), ('leaping_twisting',), ('fast_rhythm',), ('repeating',), ('repeating',), ('repeating',), ('repeating',), ('repeating',), ('repeating',), ('repeating',), ('repeating',), ('repeating',), ('repeating',), ('repeating',), ('One_rhythm',), ('leaping_twisting',), ('leaping_twisting',), ('up_leaping',), ('leaping_twisting',), ('leaping_twisting',), ('leaping_twisting',), ('up_leaping',), ('leaping_twisting',), ('leaping_twisting',), ('leaping_twisting',), ('up_leaping',), ('leaping_twisting',), ('up_leaping',), ('leaping_twisting',), ('up_leaping',), ('leaping_twisting',), ('leaping_twisting',), ('leaping_twisting',), ('leaping_twisting',), ('up_leaping',), ('staccato',), ('resting',), ('fast_rhythm',), ('steping_twisting',), ('staccato',), ('staccato',), ('leaping_twisting',), ('leaping_twisting',), ('triplet',), ('down_steping',), ('leaping_twisting',), ('leaping_twisting',), ('One_rhythm',), ('One_rhythm',), ('leaping_twisting',), ('One_rhythm',), ('One_rhythm',), ('continuing_rhythm',), ('leaping_twisting',), ('leaping_twisting',), ('leaping_twisting',), ('One_rhythm',), ('One_rhythm',), ('leaping_twisting',), ('One_rhythm',), ('leaping_twisting',), ('leaping_twisting',), ('resting',), ('down_leaping',), ('down_leaping',), ('down_leaping',), ('continuing_rhythm',), ('down_leaping',), ('up_leaping',), ('down_leaping',), ('resting',), ('down_leaping',), ('down_leaping',), ('resting',), ('triplet',), ('up_leaping',), ('leaping_twisting',), ('up_leaping',), ('continuing_rhythm',), ('One_rhythm',), ('down_leaping',), ('resting',), ('resting',), ('down_steping',), ('resting',), ('One_rhythm',), ('down_leaping',), ('One_rhythm',), ('up_steping',), ('One_rhythm',), ('up_steping',), ('continuing_rhythm',), ('resting',), ('One_rhythm',), ('down_leaping',), ('One_rhythm',), ('up_steping',), ('One_rhythm',), ('continuing_rhythm',), ('continuing_rhythm',), ('resting',), ('down_leaping',), ('up_leaping',), ('resting',), ('resting',), ('down_leaping',), ('down_leaping',), ('resting',), ('resting',), ('up_steping',), ('staccato',), ('continuing_rhythm',), ('staccato',), ('One_rhythm',), ('resting',), ('down_steping',), ('leaping_twisting',), ('fast_rhythm',), ('fast_rhythm',), ('down_leaping',), ('leaping_twisting',), ('fast_rhythm',), ('fast_rhythm',), ('down_leaping',), ('leaping_twisting',), ('fast_rhythm',), ('fast_rhythm',), ('down_leaping',), ('leaping_twisting',), ('fast_rhythm',), ('fast_rhythm',), ('down_leaping',), ('leaping_twisting',), ('fast_rhythm',), ('fast_rhythm',), ('down_leaping',), ('leaping_twisting',), ('leaping_twisting',), ('One_rhythm',), ('triplet',), ('One_rhythm',), ('leaping_twisting',), ('One_rhythm',), ('triplet',), ('leaping_twisting',), ('leaping_twisting',), ('leaping_twisting',), ('triplet',), ('leaping_twisting',), ('leaping_twisting',), ('leaping_twisting',), ('leaping_twisting',), ('leaping_twisting',), ('leaping_twisting',), ('triplet',), ('triplet',), ('triplet',), ('up_steping',), ('triplet',), ('triplet',), ('triplet',), ('leaping_twisting',), ('triplet',), ('triplet',), ('repeating',), ('triplet',), ('staccato',), ('leaping_twisting',), ('leaping_twisting',), ('leaping_twisting',), ('up_steping',), ('leaping_twisting',), ('leaping_twisting',), ('One_rhythm',), ('down_steping',), ('One_rhythm',), ('leaping_twisting',), ('leaping_twisting',), ('leaping_twisting',), ('fast_rhythm',), ('leaping_twisting',), ('repeating',), ('down_leaping',), ('leaping_twisting',), ('leaping_twisting',), ('triplet',), ('repeating',), ('leaping_twisting',), ('leaping_twisting',), ('triplet',), ('repeating',), ('leaping_twisting',), ('leaping_twisting',), ('triplet',), ('repeating',), ('leaping_twisting',), ('leaping_twisting',), ('triplet',), ('repeating',), ('resting',), ('continuing_rhythm',), ('continuing_rhythm',), ('triplet',), ('triplet',), ('leaping_twisting',), ('continuing_rhythm',), ('steping_twisting',), ('One_rhythm',), ('continuing_rhythm',), ('continuing_rhythm',), ('One_rhythm',), ('One_rhythm',), ('continuing_rhythm',), ('up_leaping',), ('continuing_rhythm',), ('continuing_rhythm',), ('One_rhythm',), ('up_steping',), ('continuing_rhythm',), ('continuing_rhythm',), ('leaping_twisting',), ('down_leaping',), ('staccato',), ('continuing_rhythm',), ('up_leaping',), ('leaping_twisting',), ('up_steping',), ('triplet',), ('down_leaping',), ('triplet',), ('triplet',), ('leaping_twisting',), ('leaping_twisting',), ('resting',), ('triplet',), ('resting',), ('up_steping',), ('triplet',), ('leaping_twisting',), ('up_leaping',), ('leaping_twisting',), ('resting',), ('One_rhythm',), ('down_steping',), ('resting',), ('One_rhythm',), ('leaping_twisting',), ('up_steping',), ('leaping_twisting',), ('up_steping',), ('resting',), ('continuing_rhythm',), ('resting',), ('continuing_rhythm',), ('resting',), ('leaping_twisting',), ('up_leaping',), ('down_steping',), ('triplet',), ('down_leaping',), ('leaping_twisting',), ('One_rhythm',), ('down_leaping',), ('One_rhythm',), ('down_leaping',), ('steping_twisting',), ('staccato',), ('One_rhythm',), ('down_leaping',), ('resting',), ('One_rhythm',), ('One_rhythm',), ('One_rhythm',), ('One_rhythm',), ('One_rhythm',), ('One_rhythm',), ('One_rhythm',), ('One_rhythm',), ('One_rhythm',), ('One_rhythm',), ('One_rhythm',), ('One_rhythm',), ('One_rhythm',), ('resting',), ('up_steping',), ('resting',), ('up_steping',), ('up_steping',), ('up_steping',), ('up_steping',), ('fast_rhythm',), ('up_steping',), ('repeating',), ('resting',), ('triplet',), ('fast_rhythm',), ('fast_rhythm',), ('fast_rhythm',), ('fast_rhythm',), ('up_steping',), ('up_steping',), ('up_steping',), ('staccato',), ('resting',), ('up_steping',), ('staccato',), ('staccato',), ('resting',), ('up_steping',), ('resting',), ('steping_twisting',), ('up_steping',), ('leaping_twisting',), ('leaping_twisting',), ('staccato',), ('resting',), ('resting',), ('resting',), ('up_steping',), ('up_leaping',), ('up_steping',), ('up_leaping',), ('up_steping',), ('up_leaping',), ('up_steping',), ('up_leaping',), ('up_steping',), ('up_leaping',), ('up_steping',), ('up_leaping',), ('up_steping',), ('leaping_twisting',), ('up_steping',), ('leaping_twisting',), ('up_steping',), ('leaping_twisting',), ('up_steping',), ('down_leaping',), ('One_rhythm',), ('up_leaping',), ('up_steping',), ('up_steping',), ('up_steping',), ('up_steping',), ('up_steping',), ('up_steping',), ('up_steping',), ('up_steping',), ('up_steping',), ('up_steping',), ('up_steping',), ('up_steping',), ('up_steping',), ('up_steping',), ('up_steping',), ('up_steping',), ('up_steping',), ('up_steping',), ('up_steping',), ('fast_rhythm',), ('repeating',), ('triplet',), ('repeating',), ('repeating',), ('triplet',), ('triplet',), ('leaping_twisting',), ('leaping_twisting',), ('leaping_twisting',), ('triplet',), ('repeating',), ('up_leaping',), ('up_leaping',), ('One_rhythm',), ('down_leaping',), ('up_leaping',), ('up_leaping',), ('down_leaping',), ('resting',), ('up_leaping',), ('up_leaping',), ('leaping_twisting',), ('repeating',), ('up_leaping',), ('up_leaping',), ('down_leaping',), ('resting',), ('up_leaping',), ('up_leaping',), ('One_rhythm',), ('down_leaping',), ('up_leaping',), ('up_leaping',), ('down_leaping',), ('resting',), ('up_leaping',), ('up_leaping',), ('leaping_twisting',), ('repeating',), ('up_leaping',), ('resting',), ('down_leaping',), ('down_leaping',), ('down_leaping',), ('down_leaping',), ('down_leaping',), ('down_leaping',), ('down_leaping',), ('down_leaping',), ('down_leaping',), ('down_leaping',), ('leaping_twisting',), ('up_steping',), ('leaping_twisting',), ('leaping_twisting',), ('leaping_twisting',), ('up_steping',), ('leaping_twisting',), ('leaping_twisting',), ('leaping_twisting',), ('resting',), ('up_steping',), ('resting',), ('up_steping',), ('resting',), ('up_steping',), ('up_leaping',), ('up_steping',), ('repeating',), ('repeating',), ('triplet',), ('up_steping',), ('resting',), ('leaping_twisting',), ('continuing_rhythm',), ('resting',), ('repeating',), ('leaping_twisting',), ('repeating',), ('up_leaping',), ('down_leaping',), ('up_leaping',), ('repeating',), ('up_leaping',), ('up_steping',), ('repeating',), ('repeating',), ('down_steping',), ('up_steping',), ('triplet',), ('up_steping',), ('repeating',), ('triplet',), ('repeating',), ('up_steping',), ('fast_rhythm',), ('repeating',), ('repeating',), ('repeating',), ('repeating',), ('repeating',), ('up_steping',), ('resting',), ('fast_rhythm',), ('triplet',), ('triplet',), ('triplet',), ('triplet',), ('fast_rhythm',), ('fast_rhythm',), ('fast_rhythm',), ('triplet',), ('fast_rhythm',), ('fast_rhythm',), ('staccato',), ('One_rhythm',), ('One_rhythm',), ('leaping_twisting',), ('One_rhythm',), ('One_rhythm',), ('One_rhythm',), ('One_rhythm',), ('One_rhythm',), ('One_rhythm',), ('One_rhythm',), ('continuing_rhythm',), ('up_steping',), ('One_rhythm',), ('One_rhythm',), ('One_rhythm',), ('One_rhythm',), ('One_rhythm',), ('One_rhythm',), ('One_rhythm',), ('One_rhythm',), ('leaping_twisting',), ('One_rhythm',), ('One_rhythm',), ('One_rhythm',), ('continuing_rhythm',), ('continuing_rhythm',), ('One_rhythm',), ('One_rhythm',), ('One_rhythm',), ('One_rhythm',), ('One_rhythm',), ('One_rhythm',), ('One_rhythm',), ('One_rhythm',), ('One_rhythm',), ('One_rhythm',), ('leaping_twisting',), ('continuing_rhythm',), ('One_rhythm',), ('resting',), ('fast_rhythm',), ('fast_rhythm',), ('up_steping',), ('down_steping',), ('repeating',), ('resting',), ('resting',), ('One_rhythm',), ('up_steping',), ('up_steping',), ('continuing_rhythm',), ('resting',), ('One_rhythm',), ('fast_rhythm',), ('fast_rhythm',), ('resting',), ('resting',), ('resting',), ('resting',), ('resting',), ('resting',), ('resting',), ('resting',), ('resting',), ('resting',), ('resting',), ('resting',), ('resting',), ('resting',), ('resting',), ('resting',), ('resting',), ('resting',), ('resting',), ('resting',), ('resting',), ('resting',), ('resting',), ('resting',), ('resting',), ('resting',), ('resting',), ('resting',), ('resting',), ('resting',), ('resting',), ('resting',), ('resting',), ('resting',), ('resting',), ('resting',), ('resting',), ('resting',), ('resting',), ('resting',), ('resting',), ('leaping_twisting',), ('leaping_twisting',), ('leaping_twisting',), ('leaping_twisting',), ('leaping_twisting',), ('leaping_twisting',), ('leaping_twisting',), ('leaping_twisting',), ('leaping_twisting',), ('leaping_twisting',), ('leaping_twisting',), ('leaping_twisting',), ('leaping_twisting',), ('leaping_twisting',), ('leaping_twisting',), ('leaping_twisting',), ('leaping_twisting',), ('resting',), ('fast_rhythm',), ('up_steping',), ('One_rhythm',), ('One_rhythm',), ('One_rhythm',), ('One_rhythm',), ('One_rhythm',), ('continuing_rhythm',), ('up_steping',), ('leaping_twisting',), ('leaping_twisting',), ('fast_rhythm',), ('resting',), ('down_leaping',), ('resting',), ('resting',), ('resting',), ('up_leaping',), ('resting',), ('resting',), ('repeating',), ('down_leaping',), ('up_steping',), ('fast_rhythm',), ('fast_rhythm',), ('staccato',), ('fast_rhythm',), ('fast_rhythm',), ('fast_rhythm',), ('fast_rhythm',), ('resting',), ('up_steping',), ('up_steping',), ('triplet',), ('staccato',), ('triplet',), ('up_steping',), ('triplet',), ('staccato',), ('triplet',), ('up_steping',), ('triplet',), ('staccato',), ('up_steping',), ('up_steping',), ('triplet',), ('staccato',), ('triplet',), ('up_steping',), ('resting',), ('up_steping',), ('up_steping',), ('triplet',), ('up_steping',), ('up_steping',), ('up_steping',), ('resting',), ('up_steping',), ('triplet',), ('up_steping',), ('up_leaping',), ('up_steping',), ('triplet',), ('staccato',), ('resting',), ('resting',), ('leaping_twisting',), ('down_leaping',), ('leaping_twisting',), ('leaping_twisting',), ('leaping_twisting',), ('leaping_twisting',), ('leaping_twisting',), ('leaping_twisting',), ('leaping_twisting',), ('staccato',), ('leaping_twisting',), ('repeating',), ('repeating',), ('up_steping',), ('repeating',), ('staccato',), ('resting',), ('One_rhythm',), ('resting',), ('up_steping',), ('down_steping',), ('staccato',), ('up_steping',), ('up_steping',), ('up_steping',), ('up_steping',), ('up_steping',), ('down_steping',), ('repeating',), ('up_leaping',), ('up_steping',), ('up_steping',), ('triplet',), ('repeating',), ('repeating',), ('repeating',), ('triplet',), ('repeating',), ('resting',), ('resting',), ('resting',), ('up_steping',), ('repeating',), ('up_leaping',), ('up_leaping',), ('down_leaping',), ('up_steping',), ('resting',), ('up_steping',), ('resting',), ('triplet',), ('up_leaping',), ('up_leaping',), ('up_leaping',), ('up_leaping',), ('up_leaping',), ('up_leaping',), ('up_leaping',), ('leaping_twisting',), ('resting',), ('down_steping',), ('up_steping',), ('resting',), ('resting',), ('resting',), ('down_leaping',), ('down_leaping',), ('down_steping',), ('down_leaping',), ('leaping_twisting',), ('leaping_twisting',), ('down_leaping',), ('up_steping',), ('leaping_twisting',), ('up_steping',), ('down_leaping',), ('up_steping',), ('leaping_twisting',), ('up_steping',), ('down_steping',), ('down_leaping',), ('down_leaping',), ('up_steping',), ('One_rhythm',), ('up_leaping',), ('down_leaping',), ('down_steping',), ('continuing_rhythm',), ('resting',), ('leaping_twisting',), ('down_leaping',), ('up_steping',), ('down_steping',), ('resting',), ('repeating',), ('resting',), ('resting',), ('resting',), ('resting',), ('down_steping',), ('up_leaping',), ('resting',), ('fast_rhythm',), ('fast_rhythm',), ('fast_rhythm',), ('fast_rhythm',), ('down_leaping',), ('staccato',), ('up_leaping',), ('up_steping',), ('fast_rhythm',), ('fast_rhythm',), ('fast_rhythm',), ('up_steping',), ('steping_twisting',), ('fast_rhythm',), ('fast_rhythm',), ('continuing_rhythm',), ('up_steping',), ('leaping_twisting',), ('triplet',), ('leaping_twisting',), ('continuing_rhythm',), ('leaping_twisting',), ('up_steping',), ('triplet',), ('triplet',), ('up_steping',), ('up_leaping',), ('leaping_twisting',), ('continuing_rhythm',), ('down_leaping',), ('up_steping',), ('down_steping',), ('up_leaping',), ('leaping_twisting',), ('triplet',), ('up_steping',), ('continuing_rhythm',), ('up_steping',), ('continuing_rhythm',), ('up_steping',), ('continuing_rhythm',), ('up_steping',), ('continuing_rhythm',), ('up_steping',), ('continuing_rhythm',), ('up_steping',), ('continuing_rhythm',), ('up_steping',), ('continuing_rhythm',), ('up_steping',), ('continuing_rhythm',), ('up_steping',), ('continuing_rhythm',), ('continuing_rhythm',), ('continuing_rhythm',), ('continuing_rhythm',), ('down_leaping',), ('down_leaping',), ('down_leaping',), ('resting',), ('resting',), ('resting',), ('resting',), ('resting',), ('resting',), ('resting',), ('resting',), ('resting',), ('resting',), ('resting',), ('resting',), ('resting',), ('continuing_rhythm',), ('continuing_rhythm',), ('resting',), ('continuing_rhythm',), ('One_rhythm',), ('One_rhythm',), ('resting',), ('continuing_rhythm',), ('One_rhythm',), ('continuing_rhythm',), ('One_rhythm',), ('One_rhythm',), ('resting',), ('fast_rhythm',), ('up_leaping',), ('triplet',), ('staccato',), ('staccato',), ('fast_rhythm',), ('triplet',), ('staccato',), ('staccato',), ('fast_rhythm',), ('resting',), ('repeating',), ('repeating',), ('staccato',), ('repeating',), ('down_leaping',), ('leaping_twisting',), ('continuing_rhythm',), ('leaping_twisting',), ('continuing_rhythm',), ('down_steping',), ('leaping_twisting',), ('leaping_twisting',), ('leaping_twisting',), ('leaping_twisting',), ('up_steping',), ('fast_rhythm',), ('up_leaping',), ('fast_rhythm',), ('fast_rhythm',), ('repeating',), ('up_steping',), ('One_rhythm',), ('fast_rhythm',), ('One_rhythm',), ('fast_rhythm',), ('One_rhythm',), ('fast_rhythm',), ('down_steping',), ('down_leaping',), ('repeating',), ('down_leaping',), ('up_leaping',), ('down_leaping',), ('up_leaping',), ('continuing_rhythm',), ('up_steping',), ('down_leaping',), ('One_rhythm',), ('continuing_rhythm',), ('up_steping',), ('up_steping',), ('One_rhythm',), ('staccato',), ('repeating',), ('staccato',), ('repeating',), ('staccato',), ('repeating',), ('repeating',), ('repeating',), ('staccato',), ('repeating',), ('staccato',), ('repeating',), ('staccato',), ('repeating',), ('repeating',), ('repeating',), ('repeating',), ('up_steping',), ('down_steping',), ('down_steping',), ('leaping_twisting',), ('staccato',), ('leaping_twisting',), ('up_steping',), ('leaping_twisting',), ('down_steping',), ('staccato',), ('leaping_twisting',), ('down_steping',), ('staccato',), ('up_steping',), ('resting',), ('resting',), ('repeating',), ('repeating',), ('repeating',), ('repeating',), ('repeating',), ('fast_rhythm',), ('repeating',), ('repeating',), ('fast_rhythm',), ('fast_rhythm',), ('One_rhythm',), ('fast_rhythm',), ('One_rhythm',), ('repeating',), ('repeating',), ('repeating',), ('repeating',), ('repeating',), ('repeating',), ('repeating',), ('repeating',), ('down_leaping',), ('leaping_twisting',), ('leaping_twisting',), ('down_leaping',), ('down_leaping',), ('down_leaping',), ('down_leaping',), ('down_leaping',), ('down_leaping',), ('down_leaping',), ('down_leaping',), ('down_leaping',), ('down_leaping',), ('down_leaping',), ('down_leaping',), ('down_leaping',), ('down_leaping',), ('resting',), ('staccato',), ('triplet',), ('down_steping',), ('up_steping',), ('triplet',), ('triplet',), ('triplet',), ('up_steping',), ('down_steping',), ('up_steping',), ('leaping_twisting',), ('up_steping',), ('staccato',), ('leaping_twisting',), ('resting',), ('up_steping',), ('up_steping',), ('steping_twisting',), ('up_steping',), ('leaping_twisting',), ('leaping_twisting',), ('leaping_twisting',), ('leaping_twisting',), ('leaping_twisting',), ('leaping_twisting',), ('leaping_twisting',), ('One_rhythm',), ('resting',), ('resting',), ('resting',), ('repeating',), ('One_rhythm',), ('up_steping',), ('repeating',), ('One_rhythm',), ('repeating',), ('One_rhythm',), ('One_rhythm',), ('One_rhythm',), ('down_leaping',), ('up_steping',), ('down_leaping',), ('One_rhythm',), ('down_leaping',), ('One_rhythm',), ('repeating',), ('One_rhythm',), ('repeating',), ('up_steping',), ('continuing_rhythm',), ('One_rhythm',), ('repeating',), ('One_rhythm',), ('continuing_rhythm',), ('up_steping',), ('repeating',), ('up_steping',), ('resting',), ('up_leaping',), ('down_leaping',), ('staccato',), ('leaping_twisting',), ('leaping_twisting',), ('leaping_twisting',), ('leaping_twisting',), ('leaping_twisting',), ('staccato',), ('up_steping',), ('up_leaping',), ('leaping_twisting',), ('up_leaping',), ('leaping_twisting',), ('down_leaping',), ('leaping_twisting',), ('up_leaping',), ('resting',), ('down_steping',), ('up_leaping',), ('triplet',), ('triplet',), ('resting',), ('up_steping',), ('leaping_twisting',), ('leaping_twisting',), ('triplet',), ('up_steping',), ('down_steping',), ('up_steping',), ('resting',), ('fast_rhythm',), ('down_leaping',), ('fast_rhythm',), ('down_leaping',), ('up_steping',), ('resting',), ('triplet',), ('down_steping',), ('down_leaping',), ('leaping_twisting',), ('steping_twisting',), ('up_leaping',), ('down_steping',), ('up_leaping',), ('triplet',), ('triplet',), ('up_leaping',), ('leaping_twisting',), ('down_steping',), ('up_steping',), ('up_steping',), ('down_leaping',), ('up_steping',), ('leaping_twisting',), ('down_leaping',), ('staccato',), ('leaping_twisting',), ('staccato',), ('triplet',), ('staccato',), ('triplet',), ('staccato',), ('triplet',), ('staccato',), ('triplet',), ('staccato',), ('triplet',), ('staccato',), ('leaping_twisting',), ('staccato',), ('staccato',), ('staccato',), ('up_steping',), ('leaping_twisting',), ('leaping_twisting',), ('up_steping',), ('up_steping',), ('leaping_twisting',), ('leaping_twisting',), ('up_steping',), ('up_steping',), ('leaping_twisting',), ('leaping_twisting',), ('up_steping',), ('up_steping',), ('triplet',), ('leaping_twisting',), ('up_steping',), ('up_steping',), ('leaping_twisting',), ('triplet',), ('leaping_twisting',), ('leaping_twisting',), ('triplet',), ('leaping_twisting',), ('resting',), ('up_leaping',), ('leaping_twisting',), ('leaping_twisting',), ('staccato',), ('down_leaping',), ('leaping_twisting',), ('leaping_twisting',), ('triplet',), ('leaping_twisting',), ('fast_rhythm',), ('fast_rhythm',), ('leaping_twisting',), ('leaping_twisting',), ('leaping_twisting',), ('leaping_twisting',), ('leaping_twisting',), ('leaping_twisting',), ('leaping_twisting',), ('leaping_twisting',), ('leaping_twisting',), ('leaping_twisting',), ('leaping_twisting',), ('leaping_twisting',), ('leaping_twisting',), ('leaping_twisting',), ('leaping_twisting',), ('resting',), ('leaping_twisting',), ('down_leaping',), ('repeating',), ('staccato',), ('down_leaping',), ('leaping_twisting',), ('down_leaping',), ('up_steping',), ('triplet',), ('down_leaping',), ('resting',), ('resting',), ('resting',), ('triplet',), ('resting',), ('down_steping',), ('fast_rhythm',), ('up_steping',), ('resting',), ('resting',), ('triplet',), ('resting',), ('down_steping',), ('staccato',), ('fast_rhythm',), ('leaping_twisting',), ('down_leaping',), ('staccato',), ('steping_twisting',), ('triplet',), ('down_leaping',), ('staccato',), ('resting',), ('staccato',), ('resting',), ('triplet',), ('repeating',), ('staccato',), ('resting',), ('repeating',), ('One_rhythm',), ('up_steping',), ('One_rhythm',), ('One_rhythm',), ('One_rhythm',), ('repeating',), ('resting',), ('resting',), ('resting',), ('down_steping',), ('One_rhythm',), ('up_steping',), ('One_rhythm',), ('up_steping',), ('One_rhythm',), ('One_rhythm',), ('One_rhythm',), ('repeating',), ('One_rhythm',), ('up_steping',), ('One_rhythm',), ('up_steping',), ('leaping_twisting',), ('leaping_twisting',), ('leaping_twisting',), ('leaping_twisting',), ('leaping_twisting',), ('leaping_twisting',), ('leaping_twisting',), ('leaping_twisting',), ('leaping_twisting',), ('leaping_twisting',), ('leaping_twisting',), ('leaping_twisting',), ('leaping_twisting',), ('down_leaping',), ('up_steping',), ('steping_twisting',), ('down_steping',), ('down_leaping',), ('triplet',), ('resting',), ('resting',), ('steping_twisting',), ('up_steping',), ('steping_twisting',), ('down_steping',), ('down_leaping',), ('up_steping',), ('staccato',), ('resting',), ('staccato',), ('up_steping',), ('leaping_twisting',), ('leaping_twisting',), ('leaping_twisting',), ('leaping_twisting',), ('leaping_twisting',), ('up_steping',), ('leaping_twisting',), ('up_steping',), ('leaping_twisting',), ('leaping_twisting',), ('leaping_twisting',), ('leaping_twisting',), ('leaping_twisting',), ('up_steping',), ('leaping_twisting',), ('up_steping',), ('leaping_twisting',), ('leaping_twisting',), ('leaping_twisting',), ('resting',), ('up_leaping',), ('up_leaping',), ('staccato',), ('up_leaping',), ('staccato',), ('up_leaping',), ('up_leaping',), ('up_leaping',), ('up_leaping',), ('up_leaping',), ('leaping_twisting',), ('leaping_twisting',), ('leaping_twisting',), ('leaping_twisting',), ('leaping_twisting',), ('down_leaping',), ('leaping_twisting',), ('leaping_twisting',), ('up_leaping',), ('leaping_twisting',), ('leaping_twisting',), ('down_leaping',), ('leaping_twisting',), ('down_leaping',), ('leaping_twisting',), ('up_leaping',), ('leaping_twisting',), ('leaping_twisting',), ('leaping_twisting',), ('leaping_twisting',), ('leaping_twisting',), ('resting',), ('repeating',), ('repeating',), ('staccato',), ('staccato',), ('staccato',), ('repeating',), ('staccato',), ('up_leaping',), ('repeating',), ('staccato',), ('up_leaping',), ('resting',), ('triplet',), ('leaping_twisting',), ('leaping_twisting',), ('up_leaping',), ('continuing_rhythm',), ('One_rhythm',), ('leaping_twisting',), ('up_leaping',), ('leaping_twisting',), ('One_rhythm',), ('leaping_twisting',), ('down_leaping',), ('down_leaping',), ('down_leaping',), ('leaping_twisting',), ('up_leaping',), ('continuing_rhythm',), ('resting',), ('triplet',), ('leaping_twisting',), ('down_leaping',), ('down_leaping',), ('leaping_twisting',), ('leaping_twisting',), ('leaping_twisting',), ('up_leaping',), ('leaping_twisting',), ('leaping_twisting',), ('leaping_twisting',), ('up_leaping',), ('up_leaping',), ('up_leaping',), ('leaping_twisting',), ('up_steping',), ('up_leaping',), ('resting',), ('down_steping',), ('down_steping',), ('triplet',), ('triplet',), ('down_steping',), ('down_steping',), ('triplet',), ('triplet',), ('triplet',), ('triplet',), ('triplet',), ('triplet',), ('triplet',), ('triplet',), ('triplet',), ('triplet',), ('down_steping',), ('down_steping',), ('down_steping',), ('down_leaping',), ('up_leaping',), ('steping_twisting',), ('up_steping',), ('fast_rhythm',), ('continuing_rhythm',), ('leaping_twisting',), ('up_steping',), ('down_steping',), ('triplet',), ('up_steping',), ('down_steping',), ('steping_twisting',), ('resting',), ('leaping_twisting',), ('leaping_twisting',), ('leaping_twisting',), ('steping_twisting',), ('down_steping',), ('down_steping',), ('resting',), ('down_steping',), ('continuing_rhythm',), ('up_leaping',), ('continuing_rhythm',), ('continuing_rhythm',), ('down_steping',), ('down_steping',), ('repeating',), ('down_steping',), ('down_steping',), ('up_leaping',), ('up_steping',), ('up_steping',), ('staccato',), ('leaping_twisting',), ('leaping_twisting',), ('up_leaping',), ('staccato',), ('up_leaping',), ('down_leaping',), ('up_leaping',), ('up_steping',), ('leaping_twisting',), ('leaping_twisting',), ('up_steping',), ('leaping_twisting',), ('steping_twisting',), ('down_steping',), ('triplet',), ('triplet',), ('up_steping',), ('leaping_twisting',), ('leaping_twisting',), ('down_leaping',), ('staccato',), ('leaping_twisting',), ('triplet',), ('staccato',), ('staccato',), ('staccato',), ('leaping_twisting',), ('staccato',), ('staccato',), ('staccato',), ('staccato',), ('leaping_twisting',), ('staccato',), ('leaping_twisting',), ('leaping_twisting',), ('leaping_twisting',), ('resting',), ('fast_rhythm',), ('repeating',), ('staccato',), ('resting',), ('fast_rhythm',), ('triplet',), ('resting',), ('triplet',), ('resting',), ('triplet',), ('resting',), ('One_rhythm',), ('One_rhythm',), ('One_rhythm',), ('One_rhythm',), ('One_rhythm',), ('One_rhythm',), ('One_rhythm',), ('One_rhythm',), ('One_rhythm',), ('One_rhythm',), ('One_rhythm',), ('One_rhythm',), ('One_rhythm',), ('One_rhythm',), ('One_rhythm',), ('One_rhythm',), ('resting',), ('up_steping',), ('down_leaping',), ('resting',), ('resting',), ('up_steping',), ('continuing_rhythm',), ('continuing_rhythm',), ('leaping_twisting',), ('continuing_rhythm',), ('leaping_twisting',), ('resting',), ('resting',), ('continuing_rhythm',), ('repeating',), ('resting',), ('resting',), ('resting',), ('continuing_rhythm',), ('continuing_rhythm',), ('continuing_rhythm',), ('fast_rhythm',), ('fast_rhythm',), ('continuing_rhythm',), ('continuing_rhythm',), ('fast_rhythm',), ('fast_rhythm',), ('continuing_rhythm',), ('continuing_rhythm',), ('leaping_twisting',), ('up_leaping',), ('staccato',), ('staccato',), ('staccato',), ('staccato',), ('staccato',), ('staccato',), ('staccato',), ('staccato',), ('staccato',), ('staccato',), ('staccato',), ('staccato',), ('staccato',), ('resting',), ('resting',), ('up_leaping',), ('repeating',), ('repeating',), ('repeating',), ('repeating',), ('leaping_twisting',), ('down_leaping',), ('down_leaping',), ('down_leaping',), ('down_leaping',), ('resting',), ('triplet',), ('leaping_twisting',), ('triplet',), ('down_steping',), ('down_steping',), ('down_leaping',), ('up_leaping',), ('steping_twisting',), ('repeating',), ('down_steping',), ('leaping_twisting',), ('down_steping',), ('up_steping',), ('up_steping',), ('up_steping',), ('down_steping',), ('up_steping',), ('up_steping',), ('repeating',), ('down_steping',), ('up_steping',), ('repeating',), ('up_steping',), ('leaping_twisting',), ('up_steping',), ('up_steping',), ('down_steping',), ('down_steping',), ('steping_twisting',), ('staccato',), ('staccato',), ('triplet',), ('triplet',), ('up_steping',), ('triplet',), ('down_leaping',), ('up_steping',), ('steping_twisting',), ('triplet',), ('up_steping',), ('up_steping',), ('up_leaping',), ('continuing_rhythm',), ('down_leaping',), ('up_leaping',), ('up_leaping',), ('up_leaping',), ('down_leaping',), ('down_leaping',), ('up_leaping',), ('down_leaping',), ('down_leaping',), ('leaping_twisting',), ('down_leaping',), ('leaping_twisting',), ('down_leaping',), ('leaping_twisting',), ('down_leaping',), ('leaping_twisting',), ('One_rhythm',), ('leaping_twisting',), ('down_leaping',), ('triplet',), ('leaping_twisting',), ('down_steping',), ('triplet',), ('triplet',), ('triplet',), ('triplet',), ('staccato',), ('up_steping',), ('up_steping',), ('staccato',), ('up_steping',), ('triplet',), ('staccato',), ('resting',), ('staccato',), ('repeating',), ('down_steping',), ('triplet',), ('fast_rhythm',), ('triplet',), ('staccato',), ('repeating',), ('leaping_twisting',), ('repeating',), ('leaping_twisting',), ('repeating',), ('repeating',), ('staccato',), ('staccato',), ('staccato',), ('staccato',), ('staccato',), ('staccato',), ('staccato',), ('staccato',), ('leaping_twisting',), ('staccato',), ('staccato',), ('staccato',), ('up_steping',), ('staccato',), ('staccato',), ('resting',), ('staccato',), ('staccato',), ('staccato',), ('fast_rhythm',), ('fast_rhythm',), ('staccato',), ('fast_rhythm',), ('fast_rhythm',), ('staccato',), ('resting',), ('leaping_twisting',), ('fast_rhythm',), ('leaping_twisting',), ('fast_rhythm',), ('fast_rhythm',), ('fast_rhythm',), ('fast_rhythm',), ('triplet',), ('fast_rhythm',), ('repeating',), ('repeating',), ('repeating',), ('repeating',), ('repeating',), ('repeating',), ('up_steping',), ('repeating',), ('repeating',), ('up_steping',), ('down_leaping',), ('up_steping',), ('resting',), ('fast_rhythm',), ('fast_rhythm',), ('One_rhythm',), ('continuing_rhythm',), ('fast_rhythm',), ('fast_rhythm',), ('continuing_rhythm',), ('continuing_rhythm',), ('continuing_rhythm',), ('fast_rhythm',), ('fast_rhythm',), ('fast_rhythm',), ('fast_rhythm',), ('continuing_rhythm',), ('fast_rhythm',), ('fast_rhythm',), ('fast_rhythm',), ('fast_rhythm',), ('fast_rhythm',), ('One_rhythm',), ('leaping_twisting',), ('fast_rhythm',), ('fast_rhythm',), ('leaping_twisting',), ('fast_rhythm',), ('fast_rhythm',), ('fast_rhythm',), ('leaping_twisting',), ('fast_rhythm',), ('fast_rhythm',), ('fast_rhythm',), ('fast_rhythm',), ('fast_rhythm',), ('fast_rhythm',), ('fast_rhythm',), ('fast_rhythm',), ('fast_rhythm',), ('leaping_twisting',), ('resting',), ('up_steping',), ('up_steping',), ('up_steping',), ('up_steping',), ('up_steping',), ('repeating',), ('up_steping',), ('up_steping',), ('up_steping',), ('up_steping',), ('up_steping',), ('up_steping',), ('up_steping',), ('up_steping',), ('up_steping',), ('One_rhythm',), ('up_steping',), ('repeating',), ('up_steping',), ('up_steping',), ('staccato',), ('up_steping',), ('leaping_twisting',), ('fast_rhythm',), ('up_steping',), ('fast_rhythm',), ('triplet',), ('staccato',), ('staccato',), ('leaping_twisting',), ('resting',), ('leaping_twisting',), ('up_steping',), ('fast_rhythm',), ('triplet',), ('triplet',), ('up_steping',), ('up_steping',), ('leaping_twisting',), ('fast_rhythm',), ('up_steping',), ('fast_rhythm',), ('triplet',), ('staccato',), ('resting',), ('up_steping',), ('leaping_twisting',), ('up_steping',), ('leaping_twisting',), ('triplet',), ('fast_rhythm',), ('up_steping',), ('up_steping',), ('fast_rhythm',), ('resting',), ('resting',), ('resting',), ('resting',), ('resting',), ('up_steping',), ('up_steping',), ('resting',), ('up_steping',), ('up_steping',), ('up_steping',), ('resting',), ('fast_rhythm',), ('One_rhythm',), ('repeating',), ('up_steping',), ('up_steping',), ('up_steping',), ('up_steping',), ('resting',), ('up_steping',), ('staccato',), ('leaping_twisting',), ('staccato',), ('leaping_twisting',), ('resting',), ('One_rhythm',), ('resting',), ('resting',), ('leaping_twisting',), ('leaping_twisting',), ('leaping_twisting',), ('leaping_twisting',), ('leaping_twisting',), ('leaping_twisting',), ('leaping_twisting',), ('leaping_twisting',), ('leaping_twisting',), ('leaping_twisting',), ('leaping_twisting',), ('leaping_twisting',), ('leaping_twisting',), ('leaping_twisting',), ('resting',), ('leaping_twisting',), ('fast_rhythm',), ('leaping_twisting',), ('leaping_twisting',), ('continuing_rhythm',), ('leaping_twisting',), ('leaping_twisting',), ('leaping_twisting',), ('leaping_twisting',), ('leaping_twisting',), ('leaping_twisting',), ('leaping_twisting',), ('leaping_twisting',), ('down_leaping',), ('leaping_twisting',), ('leaping_twisting',), ('leaping_twisting',), ('leaping_twisting',), ('leaping_twisting',), ('leaping_twisting',), ('leaping_twisting',), ('leaping_twisting',), ('leaping_twisting',), ('leaping_twisting',), ('leaping_twisting',), ('leaping_twisting',), ('leaping_twisting',), ('leaping_twisting',), ('leaping_twisting',), ('leaping_twisting',), ('leaping_twisting',), ('resting',), ('up_leaping',), ('up_leaping',), ('leaping_twisting',), ('leaping_twisting',), ('leaping_twisting',), ('leaping_twisting',), ('One_rhythm',), ('One_rhythm',), ('One_rhythm',), ('leaping_twisting',), ('leaping_twisting',), ('leaping_twisting',), ('leaping_twisting',), ('leaping_twisting',), ('leaping_twisting',), ('leaping_twisting',), ('resting',), ('fast_rhythm',), ('steping_twisting',), ('down_steping',), ('fast_rhythm',), ('fast_rhythm',), ('leaping_twisting',), ('leaping_twisting',), ('resting',), ('leaping_twisting',), ('leaping_twisting',), ('leaping_twisting',), ('up_steping',), ('leaping_twisting',), ('One_rhythm',), ('leaping_twisting',), ('leaping_twisting',), ('leaping_twisting',), ('One_rhythm',), ('leaping_twisting',), ('leaping_twisting',), ('leaping_twisting',), ('leaping_twisting',), ('leaping_twisting',), ('leaping_twisting',), ('up_steping',), ('leaping_twisting',), ('leaping_twisting',), ('continuing_rhythm',), ('leaping_twisting',), ('leaping_twisting',), ('leaping_twisting',), ('continuing_rhythm',), ('leaping_twisting',), ('leaping_twisting',), ('down_steping',), ('fast_rhythm',), ('fast_rhythm',), ('fast_rhythm',), ('fast_rhythm',), ('fast_rhythm',), ('fast_rhythm',), ('fast_rhythm',), ('fast_rhythm',), ('up_leaping',), ('resting',), ('repeating',), ('repeating',), ('repeating',), ('repeating',), ('up_leaping',), ('One_rhythm',), ('up_steping',), ('One_rhythm',), ('leaping_twisting',), ('One_rhythm',), ('leaping_twisting',), ('One_rhythm',), ('One_rhythm',), ('leaping_twisting',), ('up_leaping',), ('down_steping',), ('One_rhythm',), ('triplet',), ('down_steping',), ('up_leaping',), ('One_rhythm',), ('steping_twisting',), ('up_leaping',), ('repeating',), ('staccato',), ('staccato',), ('fast_rhythm',), ('fast_rhythm',), ('fast_rhythm',), ('fast_rhythm',), ('fast_rhythm',), ('fast_rhythm',), ('fast_rhythm',), ('repeating',), ('fast_rhythm',), ('repeating',), ('staccato',), ('fast_rhythm',), ('fast_rhythm',), ('repeating',), ('staccato',), ('fast_rhythm',), ('staccato',), ('staccato',), ('fast_rhythm',), ('fast_rhythm',), ('staccato',), ('fast_rhythm',), ('staccato',), ('fast_rhythm',), ('fast_rhythm',), ('fast_rhythm',), ('staccato',), ('staccato',), ('up_steping',), ('fast_rhythm',), ('fast_rhythm',), ('fast_rhythm',), ('fast_rhythm',), ('fast_rhythm',), ('up_steping',), ('up_steping',), ('staccato',), ('triplet',), ('up_steping',), ('up_steping',), ('fast_rhythm',), ('fast_rhythm',), ('leaping_twisting',), ('fast_rhythm',), ('fast_rhythm',), ('continuing_rhythm',), ('fast_rhythm',), ('resting',), ('repeating',), ('repeating',), ('repeating',), ('triplet',), ('triplet',), ('repeating',), ('leaping_twisting',), ('up_leaping',), ('staccato',), ('staccato',), ('leaping_twisting',), ('leaping_twisting',), ('repeating',), ('staccato',), ('staccato',), ('triplet',), ('triplet',), ('triplet',), ('triplet',), ('fast_rhythm',), ('fast_rhythm',), ('leaping_twisting',), ('leaping_twisting',), ('leaping_twisting',), ('fast_rhythm',), ('fast_rhythm',), ('continuing_rhythm',), ('continuing_rhythm',), ('continuing_rhythm',), ('up_leaping',), ('One_rhythm',), ('up_leaping',), ('fast_rhythm',), ('fast_rhythm',), ('fast_rhythm',), ('leaping_twisting',), ('fast_rhythm',), ('fast_rhythm',), ('fast_rhythm',), ('up_leaping',), ('One_rhythm',), ('leaping_twisting',), ('continuing_rhythm',), ('continuing_rhythm',), ('continuing_rhythm',), ('up_leaping',), ('down_leaping',), ('down_leaping',), ('leaping_twisting',), ('down_leaping',), ('leaping_twisting',), ('down_leaping',), ('down_leaping',), ('staccato',), ('staccato',), ('staccato',), ('up_leaping',), ('staccato',), ('staccato',), ('staccato',), ('resting',), ('down_leaping',), ('leaping_twisting',), ('leaping_twisting',), ('leaping_twisting',), ('up_leaping',), ('down_leaping',), ('up_leaping',), ('down_leaping',), ('up_leaping',), ('leaping_twisting',), ('leaping_twisting',), ('leaping_twisting',), ('up_leaping',), ('down_leaping',), ('up_leaping',), ('down_leaping',), ('up_leaping',), ('resting',), ('triplet',), ('up_steping',), ('triplet',), ('up_steping',), ('triplet',), ('fast_rhythm',), ('fast_rhythm',), ('triplet',), ('fast_rhythm',), ('repeating',), ('fast_rhythm',), ('repeating',), ('fast_rhythm',), ('staccato',), ('up_steping',), ('down_steping',), ('fast_rhythm',), ('triplet',), ('fast_rhythm',), ('down_steping',), ('staccato',), ('staccato',), ('staccato',), ('staccato',), ('staccato',), ('staccato',), ('staccato',), ('staccato',), ('staccato',), ('staccato',), ('up_steping',), ('up_steping',), ('steping_twisting',), ('resting',), ('leaping_twisting',), ('resting',), ('up_steping',), ('repeating',), ('up_steping',), ('down_steping',), ('up_leaping',), ('triplet',), ('down_leaping',), ('resting',), ('up_steping',), ('up_steping',), ('up_steping',), ('resting',), ('leaping_twisting',), ('leaping_twisting',), ('leaping_twisting',), ('leaping_twisting',), ('One_rhythm',), ('leaping_twisting',), ('leaping_twisting',), ('leaping_twisting',), ('leaping_twisting',), ('leaping_twisting',), ('leaping_twisting',), ('leaping_twisting',), ('One_rhythm',), ('leaping_twisting',), ('One_rhythm',), ('leaping_twisting',), ('leaping_twisting',), ('leaping_twisting',), ('One_rhythm',), ('leaping_twisting',), ('leaping_twisting',), ('leaping_twisting',), ('One_rhythm',), ('leaping_twisting',), ('down_leaping',), ('staccato',), ('staccato',), ('staccato',), ('repeating',), ('leaping_twisting',), ('staccato',), ('leaping_twisting',), ('staccato',), ('staccato',), ('resting',), ('leaping_twisting',), ('up_leaping',), ('leaping_twisting',), ('leaping_twisting',), ('leaping_twisting',), ('up_leaping',), ('leaping_twisting',), ('up_leaping',), ('leaping_twisting',), ('leaping_twisting',), ('leaping_twisting',), ('up_leaping',), ('leaping_twisting',), ('up_leaping',), ('leaping_twisting',), ('up_leaping',), ('leaping_twisting',), ('leaping_twisting',), ('leaping_twisting',), ('leaping_twisting',), ('leaping_twisting',), ('triplet',), ('repeating',), ('repeating',), ('repeating',), ('fast_rhythm',), ('repeating',), ('repeating',), ('fast_rhythm',), ('leaping_twisting',), ('leaping_twisting',), ('fast_rhythm',), ('fast_rhythm',), ('staccato',), ('fast_rhythm',), ('fast_rhythm',), ('fast_rhythm',), ('staccato',), ('fast_rhythm',), ('up_steping',), ('resting',), ('up_steping',), ('resting',), ('up_steping',), ('resting',), ('One_rhythm',), ('One_rhythm',), ('leaping_twisting',), ('One_rhythm',), ('One_rhythm',), ('One_rhythm',), ('leaping_twisting',), ('One_rhythm',), ('One_rhythm',), ('One_rhythm',), ('One_rhythm',), ('One_rhythm',), ('One_rhythm',), ('One_rhythm',), ('One_rhythm',), ('One_rhythm',), ('One_rhythm',), ('One_rhythm',), ('leaping_twisting',), ('down_leaping',), ('leaping_twisting',), ('leaping_twisting',), ('leaping_twisting',), ('leaping_twisting',), ('leaping_twisting',), ('leaping_twisting',), ('leaping_twisting',), ('leaping_twisting',), ('leaping_twisting',), ('leaping_twisting',), ('leaping_twisting',), ('leaping_twisting',), ('leaping_twisting',), ('leaping_twisting',), ('leaping_twisting',), ('leaping_twisting',), ('leaping_twisting',), ('leaping_twisting',), ('leaping_twisting',), ('leaping_twisting',), ('up_steping',), ('up_leaping',), ('up_steping',), ('resting',), ('up_steping',), ('up_leaping',), ('up_steping',), ('resting',), ('up_steping',), ('up_leaping',), ('up_steping',), ('resting',), ('up_steping',), ('up_leaping',), ('up_steping',), ('resting',), ('up_steping',), ('down_leaping',), ('down_leaping',), ('down_leaping',), ('down_leaping',), ('down_leaping',), ('down_leaping',), ('down_leaping',), ('down_leaping',), ('staccato',), ('staccato',), ('staccato',), ('staccato',), ('staccato',), ('staccato',), ('staccato',), ('staccato',), ('repeating',), ('triplet',), ('down_steping',), ('fast_rhythm',), ('fast_rhythm',), ('up_steping',), ('fast_rhythm',), ('fast_rhythm',), ('leaping_twisting',), ('down_steping',), ('steping_twisting',), ('down_steping',), ('resting',), ('steping_twisting',), ('continuing_rhythm',), ('up_steping',), ('resting',), ('steping_twisting',), ('fast_rhythm',), ('fast_rhythm',), ('One_rhythm',), ('fast_rhythm',), ('fast_rhythm',), ('fast_rhythm',), ('up_steping',), ('down_leaping',), ('staccato',), ('up_steping',), ('resting',), ('up_steping',), ('resting',), ('fast_rhythm',), ('resting',), ('resting',), ('up_steping',), ('One_rhythm',), ('down_leaping',), ('resting',), ('staccato',), ('resting',), ('staccato',), ('resting',), ('staccato',), ('staccato',), ('staccato',), ('up_leaping',), ('leaping_twisting',), ('staccato',), ('triplet',), ('staccato',), ('staccato',), ('staccato',), ('resting',), ('staccato',), ('staccato',), ('staccato',), ('staccato',), ('staccato',), ('staccato',), ('staccato',), ('staccato',), ('staccato',), ('staccato',), ('staccato',), ('staccato',), ('staccato',), ('staccato',), ('staccato',), ('staccato',), ('staccato',), ('staccato',), ('staccato',), ('staccato',), ('staccato',), ('staccato',), ('staccato',), ('staccato',), ('staccato',), ('staccato',), ('staccato',), ('staccato',), ('staccato',), ('staccato',), ('staccato',), ('staccato',), ('staccato',), ('staccato',), ('staccato',), ('staccato',), ('resting',), ('repeating',), ('staccato',), ('down_leaping',), ('up_steping',), ('repeating',), ('up_steping',), ('repeating',), ('repeating',), ('triplet',), ('down_steping',), ('repeating',), ('One_rhythm',), ('repeating',), ('fast_rhythm',), ('repeating',), ('repeating',), ('triplet',), ('down_steping',), ('repeating',), ('One_rhythm',), ('repeating',), ('fast_rhythm',), ('repeating',), ('repeating',), ('repeating',), ('fast_rhythm',), ('down_steping',), ('leaping_twisting',), ('repeating',), ('repeating',), ('up_steping',), ('repeating',), ('repeating',), ('down_steping',), ('repeating',), ('leaping_twisting',), ('repeating',), ('repeating',), ('repeating',), ('repeating',), ('leaping_twisting',), ('down_steping',), ('repeating',), ('leaping_twisting',), ('repeating',), ('leaping_twisting',), ('leaping_twisting',), ('staccato',), ('leaping_twisting',), ('leaping_twisting',), ('down_leaping',), ('resting',), ('resting',), ('repeating',), ('resting',), ('up_steping',), ('resting',), ('fast_rhythm',), ('fast_rhythm',), ('fast_rhythm',), ('fast_rhythm',), ('fast_rhythm',), ('fast_rhythm',), ('fast_rhythm',), ('fast_rhythm',), ('fast_rhythm',), ('fast_rhythm',), ('fast_rhythm',), ('fast_rhythm',), ('resting',), ('One_rhythm',), ('One_rhythm',), ('One_rhythm',), ('One_rhythm',), ('One_rhythm',), ('One_rhythm',), ('One_rhythm',), ('One_rhythm',), ('leaping_twisting',), ('staccato',), ('up_steping',), ('down_steping',), ('down_steping',), ('continuing_rhythm',), ('continuing_rhythm',), ('down_steping',), ('staccato',), ('up_steping',), ('resting',), ('resting',), ('staccato',), ('resting',), ('resting',), ('resting',), ('resting',), ('resting',), ('resting',), ('up_leaping',), ('resting',), ('resting',), ('resting',), ('resting',), ('resting',), ('resting',), ('resting',), ('up_leaping',), ('resting',), ('resting',), ('resting',), ('resting',), ('resting',), ('resting',), ('resting',), ('up_leaping',), ('resting',), ('resting',), ('resting',), ('resting',), ('resting',), ('resting',), ('resting',), ('up_leaping',), ('resting',), ('resting',), ('resting',), ('resting',), ('resting',), ('resting',), ('resting',), ('up_leaping',), ('resting',), ('resting',), ('resting',), ('resting',), ('resting',), ('resting',), ('resting',), ('resting',), ('resting',), ('fast_rhythm',), ('resting',), ('resting',), ('resting',), ('up_leaping',), ('resting',), ('resting',), ('resting',), ('resting',), ('down_leaping',), ('resting',), ('up_leaping',), ('steping_twisting',), ('down_leaping',), ('resting',), ('One_rhythm',), ('down_leaping',), ('repeating',), ('staccato',), ('repeating',), ('triplet',), ('repeating',), ('repeating',), ('staccato',), ('repeating',), ('repeating',), ('repeating',), ('staccato',), ('fast_rhythm',), ('fast_rhythm',), ('repeating',), ('staccato',), ('repeating',), ('fast_rhythm',), ('fast_rhythm',), ('fast_rhythm',), ('fast_rhythm',), ('resting',), ('leaping_twisting',), ('up_steping',), ('leaping_twisting',), ('fast_rhythm',), ('leaping_twisting',), ('repeating',), ('up_leaping',), ('resting',), ('fast_rhythm',), ('resting',), ('up_leaping',), ('resting',), ('fast_rhythm',), ('resting',), ('triplet',), ('resting',), ('fast_rhythm',), ('fast_rhythm',), ('fast_rhythm',), ('fast_rhythm',), ('fast_rhythm',), ('fast_rhythm',), ('fast_rhythm',), ('fast_rhythm',), ('fast_rhythm',), ('fast_rhythm',), ('fast_rhythm',), ('fast_rhythm',), ('fast_rhythm',), ('fast_rhythm',), ('fast_rhythm',), ('fast_rhythm',), ('fast_rhythm',), ('leaping_twisting',), ('One_rhythm',), ('up_leaping',), ('resting',), ('leaping_twisting',), ('leaping_twisting',), ('up_steping',), ('One_rhythm',), ('leaping_twisting',), ('leaping_twisting',), ('One_rhythm',), ('One_rhythm',), ('leaping_twisting',), ('leaping_twisting',), ('leaping_twisting',), ('One_rhythm',), ('up_leaping',), ('resting',), ('One_rhythm',), ('leaping_twisting',), ('One_rhythm',), ('leaping_twisting',), ('up_steping',), ('One_rhythm',), ('One_rhythm',), ('leaping_twisting',), ('One_rhythm',), ('leaping_twisting',), ('One_rhythm',), ('leaping_twisting',), ('up_steping',), ('up_leaping',), ('leaping_twisting',), ('One_rhythm',), ('One_rhythm',), ('One_rhythm',), ('leaping_twisting',), ('down_leaping',), ('down_leaping',), ('leaping_twisting',), ('down_leaping',), ('down_leaping',), ('down_leaping',), ('leaping_twisting',), ('down_leaping',), ('down_leaping',), ('leaping_twisting',), ('down_leaping',), ('leaping_twisting',), ('up_steping',), ('up_steping',), ('up_steping',), ('up_steping',), ('up_steping',), ('up_steping',), ('leaping_twisting',), ('up_steping',), ('up_steping',), ('up_steping',), ('up_steping',), ('up_steping',), ('leaping_twisting',), ('up_steping',), ('up_steping',), ('leaping_twisting',), ('staccato',), ('staccato',), ('resting',), ('resting',), ('One_rhythm',), ('resting',), ('resting',), ('resting',), ('resting',), ('resting',), ('resting',), ('resting',), ('resting',), ('staccato',), ('One_rhythm',), ('resting',), ('resting',), ('resting',), ('One_rhythm',), ('resting',), ('resting',), ('resting',), ('resting',), ('One_rhythm',), ('One_rhythm',), ('resting',), ('resting',), ('resting',), ('resting',), ('resting',), ('resting',), ('resting',), ('resting',), ('staccato',), ('One_rhythm',), ('resting',), ('resting',), ('resting',), ('One_rhythm',), ('resting',), ('resting',), ('resting',), ('resting',), ('One_rhythm',), ('down_leaping',), ('resting',), ('resting',), ('resting',), ('resting',), ('resting',), ('resting',), ('One_rhythm',), ('One_rhythm',), ('One_rhythm',), ('down_steping',), ('resting',), ('One_rhythm',), ('resting',), ('resting',), ('resting',), ('resting',), ('resting',), ('down_leaping',), ('up_steping',), ('down_leaping',), ('continuing_rhythm',), ('continuing_rhythm',), ('resting',), ('down_leaping',), ('continuing_rhythm',), ('down_leaping',), ('up_steping',), ('resting',), ('One_rhythm',), ('up_leaping',), ('One_rhythm',), ('resting',), ('continuing_rhythm',), ('One_rhythm',), ('down_leaping',), ('repeating',), ('up_leaping',), ('One_rhythm',), ('up_leaping',), ('resting',), ('continuing_rhythm',), ('One_rhythm',), ('down_leaping',), ('resting',), ('up_leaping',), ('One_rhythm',), ('repeating',), ('staccato',), ('leaping_twisting',), ('staccato',), ('leaping_twisting',), ('staccato',), ('up_steping',), ('staccato',), ('up_steping',), ('leaping_twisting',), ('leaping_twisting',), ('staccato',), ('up_steping',), ('staccato',), ('up_steping',), ('leaping_twisting',), ('leaping_twisting',), ('staccato',), ('leaping_twisting',), ('staccato',), ('up_steping',), ('One_rhythm',), ('up_steping',), ('up_steping',), ('One_rhythm',), ('repeating',), ('up_steping',), ('One_rhythm',), ('repeating',), ('One_rhythm',), ('repeating',), ('repeating',), ('fast_rhythm',), ('One_rhythm',), ('up_steping',), ('repeating',), ('up_steping',), ('fast_rhythm',), ('leaping_twisting',), ('fast_rhythm',), ('leaping_twisting',), ('triplet',), ('leaping_twisting',), ('leaping_twisting',), ('fast_rhythm',), ('triplet',), ('staccato',), ('staccato',), ('down_leaping',), ('repeating',), ('leaping_twisting',), ('repeating',), ('repeating',), ('repeating',), ('staccato',), ('repeating',), ('repeating',), ('repeating',), ('repeating',), ('up_steping',), ('up_steping',), ('up_steping',), ('leaping_twisting',), ('up_steping',), ('up_steping',), ('up_steping',), ('leaping_twisting',), ('repeating',), ('repeating',), ('repeating',), ('triplet',), ('repeating',), ('repeating',), ('repeating',), ('triplet',), ('triplet',), ('down_leaping',), ('leaping_twisting',), ('triplet',), ('leaping_twisting',), ('triplet',), ('leaping_twisting',), ('triplet',), ('triplet',), ('triplet',), ('leaping_twisting',), ('triplet',), ('leaping_twisting',), ('triplet',), ('resting',), ('triplet',), ('resting',), ('resting',), ('resting',), ('resting',), ('resting',), ('resting',), ('resting',), ('resting',), ('resting',), ('down_leaping',), ('staccato',), ('One_rhythm',), ('up_leaping',), ('resting',), ('resting',), ('down_leaping',), ('resting',), ('resting',), ('resting',), ('triplet',), ('up_steping',), ('up_steping',), ('up_steping',), ('triplet',), ('up_steping',), ('leaping_twisting',), ('leaping_twisting',), ('leaping_twisting',), ('resting',), ('up_steping',), ('up_steping',), ('up_steping',), ('up_steping',), ('triplet',), ('up_steping',), ('triplet',), ('up_steping',), ('triplet',), ('up_steping',), ('leaping_twisting',), ('leaping_twisting',), ('leaping_twisting',), ('resting',), ('resting',), ('leaping_twisting',), ('staccato',), ('leaping_twisting',), ('leaping_twisting',), ('up_leaping',), ('down_leaping',), ('down_leaping',), ('staccato',), ('leaping_twisting',), ('up_steping',), ('down_steping',), ('up_steping',), ('up_steping',), ('up_leaping',), ('up_leaping',), ('leaping_twisting',), ('down_steping',), ('resting',), ('triplet',), ('up_steping',), ('continuing_rhythm',), ('fast_rhythm',), ('down_steping',), ('triplet',), ('triplet',), ('repeating',), ('leaping_twisting',), ('continuing_rhythm',), ('continuing_rhythm',), ('down_leaping',), ('resting',), ('resting',), ('triplet',), ('repeating',), ('leaping_twisting',), ('staccato',), ('steping_twisting',), ('down_steping',), ('steping_twisting',), ('up_leaping',), ('resting',), ('staccato',), ('resting',), ('repeating',), ('staccato',), ('up_leaping',), ('staccato',), ('staccato',), ('steping_twisting',), ('down_steping',), ('steping_twisting',), ('up_leaping',), ('resting',), ('fast_rhythm',), ('resting',), ('repeating',), ('triplet',), ('up_leaping',), ('staccato',), ('staccato',), ('steping_twisting',), ('repeating',), ('down_leaping',), ('up_leaping',), ('continuing_rhythm',), ('One_rhythm',), ('resting',), ('continuing_rhythm',), ('One_rhythm',), ('up_steping',), ('continuing_rhythm',), ('down_leaping',), ('One_rhythm',), ('up_steping',), ('repeating',), ('up_leaping',), ('continuing_rhythm',), ('resting',), ('leaping_twisting',), ('down_leaping',), ('repeating',), ('up_leaping',), ('repeating',), ('up_steping',), ('down_leaping',), ('up_leaping',), ('repeating',), ('up_steping',), ('down_leaping',), ('One_rhythm',), ('triplet',), ('resting',), ('resting',), ('resting',), ('down_steping',), ('up_steping',), ('staccato',), ('repeating',), ('up_steping',), ('up_steping',), ('steping_twisting',), ('up_steping',), ('down_steping',), ('triplet',), ('up_steping',), ('leaping_twisting',), ('staccato',), ('up_steping',), ('triplet',), ('leaping_twisting',), ('One_rhythm',), ('leaping_twisting',), ('One_rhythm',), ('leaping_twisting',), ('One_rhythm',), ('leaping_twisting',), ('One_rhythm',), ('leaping_twisting',), ('One_rhythm',), ('leaping_twisting',), ('One_rhythm',), ('resting',), ('repeating',), ('One_rhythm',), ('repeating',), ('One_rhythm',), ('repeating',), ('One_rhythm',), ('repeating',), ('One_rhythm',), ('up_steping',), ('One_rhythm',), ('resting',), ('resting',), ('down_leaping',), ('steping_twisting',), ('One_rhythm',), ('up_steping',), ('leaping_twisting',), ('One_rhythm',), ('One_rhythm',), ('staccato',), ('triplet',), ('leaping_twisting',), ('triplet',), ('triplet',), ('up_leaping',), ('up_leaping',), ('triplet',), ('leaping_twisting',), ('continuing_rhythm',), ('up_leaping',), ('up_leaping',), ('leaping_twisting',), ('up_leaping',), ('leaping_twisting',), ('leaping_twisting',), ('leaping_twisting',), ('up_leaping',), ('leaping_twisting',), ('leaping_twisting',), ('up_leaping',), ('up_leaping',), ('leaping_twisting',), ('up_leaping',), ('resting',), ('fast_rhythm',), ('resting',), ('up_leaping',), ('triplet',), ('resting',), ('staccato',), ('triplet',), ('up_leaping',), ('resting',), ('resting',), ('up_leaping',), ('resting',), ('staccato',), ('staccato',), ('up_steping',), ('staccato',), ('resting',), ('down_steping',), ('leaping_twisting',), ('down_leaping',), ('leaping_twisting',), ('down_steping',), ('One_rhythm',), ('resting',), ('leaping_twisting',), ('down_steping',), ('leaping_twisting',), ('down_leaping',), ('leaping_twisting',), ('down_steping',), ('One_rhythm',), ('resting',), ('leaping_twisting',), ('resting',), ('repeating',), ('resting',), ('repeating',), ('One_rhythm',), ('One_rhythm',), ('resting',), ('leaping_twisting',), ('down_steping',), ('leaping_twisting',), ('down_leaping',), ('leaping_twisting',), ('down_steping',), ('One_rhythm',), ('resting',), ('leaping_twisting',), ('resting',), ('repeating',), ('resting',), ('One_rhythm',), ('One_rhythm',), ('One_rhythm',), ('One_rhythm',), ('One_rhythm',), ('One_rhythm',), ('One_rhythm',), ('One_rhythm',), ('One_rhythm',), ('resting',), ('continuing_rhythm',), ('steping_twisting',), ('One_rhythm',), ('down_steping',), ('continuing_rhythm',), ('steping_twisting',), ('One_rhythm',), ('down_steping',), ('up_leaping',), ('leaping_twisting',), ('up_steping',), ('up_steping',), ('steping_twisting',), ('repeating',), ('up_leaping',), ('repeating',), ('staccato',), ('leaping_twisting',), ('staccato',), ('repeating',), ('staccato',), ('staccato',), ('up_steping',), ('repeating',), ('down_leaping',), ('fast_rhythm',), ('staccato',), ('staccato',), ('fast_rhythm',), ('fast_rhythm',), ('fast_rhythm',), ('fast_rhythm',), ('leaping_twisting',), ('fast_rhythm',), ('leaping_twisting',), ('staccato',), ('fast_rhythm',), ('leaping_twisting',), ('triplet',), ('up_steping',), ('fast_rhythm',), ('fast_rhythm',), ('up_steping',), ('fast_rhythm',), ('triplet',), ('staccato',), ('triplet',), ('triplet',), ('down_steping',), ('fast_rhythm',), ('triplet',), ('triplet',), ('fast_rhythm',), ('up_leaping',), ('staccato',), ('staccato',), ('fast_rhythm',), ('fast_rhythm',), ('steping_twisting',), ('leaping_twisting',), ('leaping_twisting',), ('leaping_twisting',), ('leaping_twisting',), ('leaping_twisting',), ('leaping_twisting',), ('leaping_twisting',), ('up_leaping',), ('leaping_twisting',), ('leaping_twisting',), ('down_leaping',), ('up_leaping',), ('leaping_twisting',), ('leaping_twisting',), ('leaping_twisting',), ('up_leaping',), ('up_leaping',), ('leaping_twisting',), ('leaping_twisting',), ('triplet',), ('repeating',), ('triplet',), ('triplet',), ('repeating',), ('steping_twisting',), ('triplet',), ('steping_twisting',), ('steping_twisting',), ('steping_twisting',), ('triplet',), ('triplet',), ('staccato',), ('steping_twisting',), ('staccato',), ('triplet',), ('resting',), ('resting',), ('staccato',), ('resting',), ('One_rhythm',), ('repeating',), ('One_rhythm',), ('repeating',), ('leaping_twisting',), ('repeating',), ('up_steping',), ('repeating',), ('leaping_twisting',), ('repeating',), ('up_steping',), ('One_rhythm',), ('repeating',), ('triplet',), ('repeating',), ('continuing_rhythm',), ('up_steping',), ('continuing_rhythm',), ('continuing_rhythm',), ('up_steping',), ('continuing_rhythm',), ('continuing_rhythm',), ('up_steping',), ('continuing_rhythm',), ('continuing_rhythm',), ('up_steping',), ('continuing_rhythm',), ('continuing_rhythm',), ('up_steping',), ('continuing_rhythm',), ('continuing_rhythm',), ('up_steping',), ('continuing_rhythm',), ('continuing_rhythm',), ('up_steping',), ('continuing_rhythm',), ('resting',), ('down_leaping',), ('up_steping',), ('down_leaping',), ('leaping_twisting',), ('repeating',), ('repeating',), ('repeating',), ('leaping_twisting',), ('up_steping',), ('down_leaping',), ('down_leaping',), ('repeating',), ('repeating',), ('repeating',), ('down_leaping',), ('repeating',), ('repeating',), ('up_leaping',), ('repeating',), ('down_leaping',), ('leaping_twisting',), ('triplet',), ('triplet',), ('triplet',), ('triplet',), ('triplet',), ('triplet',), ('triplet',), ('triplet',), ('up_leaping',), ('staccato',), ('leaping_twisting',), ('staccato',), ('staccato',), ('staccato',), ('leaping_twisting',), ('staccato',), ('staccato',), ('staccato',), ('leaping_twisting',), ('staccato',), ('staccato',), ('staccato',), ('leaping_twisting',), ('staccato',), ('staccato',), ('continuing_rhythm',), ('resting',), ('One_rhythm',), ('continuing_rhythm',), ('continuing_rhythm',), ('continuing_rhythm',), ('continuing_rhythm',), ('continuing_rhythm',), ('continuing_rhythm',), ('up_steping',), ('continuing_rhythm',), ('continuing_rhythm',), ('continuing_rhythm',), ('continuing_rhythm',), ('continuing_rhythm',), ('continuing_rhythm',), ('continuing_rhythm',), ('up_steping',), ('steping_twisting',), ('down_leaping',), ('leaping_twisting',), ('continuing_rhythm',), ('leaping_twisting',), ('leaping_twisting',), ('leaping_twisting',), ('leaping_twisting',), ('leaping_twisting',), ('leaping_twisting',), ('leaping_twisting',), ('leaping_twisting',), ('One_rhythm',), ('leaping_twisting',), ('leaping_twisting',), ('leaping_twisting',), ('leaping_twisting',), ('leaping_twisting',), ('leaping_twisting',), ('leaping_twisting',), ('One_rhythm',), ('leaping_twisting',), ('leaping_twisting',), ('leaping_twisting',), ('leaping_twisting',), ('leaping_twisting',), ('leaping_twisting',), ('leaping_twisting',), ('One_rhythm',), ('One_rhythm',), ('repeating',), ('fast_rhythm',), ('repeating',), ('repeating',), ('repeating',), ('repeating',), ('repeating',), ('repeating',), ('repeating',), ('fast_rhythm',), ('repeating',), ('repeating',), ('triplet',), ('repeating',), ('repeating',), ('repeating',), ('repeating',), ('fast_rhythm',), ('repeating',), ('repeating',), ('resting',), ('continuing_rhythm',), ('up_steping',), ('resting',), ('resting',), ('resting',), ('resting',), ('resting',), ('resting',), ('resting',), ('One_rhythm',), ('up_steping',), ('resting',), ('resting',), ('resting',), ('resting',), ('resting',), ('resting',), ('One_rhythm',), ('leaping_twisting',), ('leaping_twisting',), ('leaping_twisting',), ('continuing_rhythm',), ('resting',), ('up_steping',), ('up_steping',), ('One_rhythm',), ('up_steping',), ('One_rhythm',), ('staccato',), ('One_rhythm',), ('leaping_twisting',), ('up_steping',), ('up_steping',), ('continuing_rhythm',), ('down_steping',), ('up_steping',), ('up_steping',), ('staccato',), ('up_steping',), ('up_steping',), ('down_leaping',), ('steping_twisting',), ('resting',), ('resting',), ('up_leaping',), ('fast_rhythm',), ('up_steping',), ('fast_rhythm',), ('fast_rhythm',), ('triplet',), ('triplet',), ('leaping_twisting',), ('fast_rhythm',), ('leaping_twisting',), ('leaping_twisting',), ('leaping_twisting',), ('fast_rhythm',), ('continuing_rhythm',), ('down_leaping',), ('down_leaping',), ('triplet',), ('fast_rhythm',), ('down_leaping',), ('continuing_rhythm',), ('up_leaping',), ('triplet',), ('up_leaping',), ('continuing_rhythm',), ('up_leaping',), ('down_steping',), ('continuing_rhythm',), ('continuing_rhythm',), ('continuing_rhythm',), ('One_rhythm',), ('leaping_twisting',), ('up_steping',), ('down_steping',), ('leaping_twisting',), ('leaping_twisting',), ('up_steping',), ('up_leaping',), ('One_rhythm',), ('continuing_rhythm',), ('up_steping',), ('up_steping',), ('fast_rhythm',), ('up_steping',), ('fast_rhythm',), ('up_steping',), ('fast_rhythm',), ('up_steping',), ('fast_rhythm',), ('up_steping',), ('fast_rhythm',), ('up_steping',), ('fast_rhythm',), ('up_leaping',), ('leaping_twisting',), ('down_leaping',), ('up_leaping',), ('leaping_twisting',), ('leaping_twisting',), ('One_rhythm',), ('leaping_twisting',), ('leaping_twisting',), ('leaping_twisting',), ('down_leaping',), ('up_leaping',), ('leaping_twisting',), ('leaping_twisting',), ('One_rhythm',), ('leaping_twisting',), ('leaping_twisting',), ('leaping_twisting',), ('down_leaping',), ('up_leaping',), ('resting',), ('staccato',), ('staccato',), ('repeating',), ('staccato',), ('staccato',), ('staccato',), ('staccato',), ('repeating',), ('up_steping',), ('leaping_twisting',), ('repeating',), ('resting',), ('continuing_rhythm',), ('up_steping',), ('leaping_twisting',), ('leaping_twisting',), ('fast_rhythm',), ('One_rhythm',), ('leaping_twisting',), ('up_steping',), ('One_rhythm',), ('continuing_rhythm',), ('One_rhythm',), ('up_steping',), ('continuing_rhythm',), ('down_leaping',), ('up_steping',), ('up_steping',), ('steping_twisting',), ('down_steping',), ('down_leaping',), ('resting',), ('staccato',), ('resting',), ('triplet',), ('resting',), ('up_steping',), ('steping_twisting',), ('up_leaping',), ('resting',), ('resting',), ('resting',), ('resting',), ('resting',), ('fast_rhythm',), ('fast_rhythm',), ('fast_rhythm',), ('fast_rhythm',), ('fast_rhythm',), ('fast_rhythm',), ('fast_rhythm',), ('fast_rhythm',), ('fast_rhythm',), ('continuing_rhythm',), ('One_rhythm',), ('continuing_rhythm',), ('fast_rhythm',), ('continuing_rhythm',), ('One_rhythm',), ('continuing_rhythm',), ('continuing_rhythm',), ('continuing_rhythm',), ('leaping_twisting',), ('repeating',), ('repeating',), ('repeating',), ('repeating',), ('repeating',), ('repeating',), ('repeating',), ('repeating',), ('repeating',), ('repeating',), ('repeating',), ('repeating',), ('repeating',), ('repeating',), ('repeating',), ('leaping_twisting',), ('leaping_twisting',), ('leaping_twisting',), ('One_rhythm',), ('resting',), ('fast_rhythm',), ('fast_rhythm',), ('steping_twisting',), ('fast_rhythm',), ('steping_twisting',), ('fast_rhythm',), ('steping_twisting',), ('fast_rhythm',), ('steping_twisting',), ('fast_rhythm',), ('steping_twisting',), ('fast_rhythm',), ('steping_twisting',), ('fast_rhythm',), ('staccato',), ('One_rhythm',), ('One_rhythm',), ('One_rhythm',), ('One_rhythm',), ('One_rhythm',), ('continuing_rhythm',), ('One_rhythm',), ('One_rhythm',), ('One_rhythm',), ('continuing_rhythm',), ('One_rhythm',), ('One_rhythm',), ('One_rhythm',), ('continuing_rhythm',), ('One_rhythm',), ('One_rhythm',), ('One_rhythm',), ('continuing_rhythm',), ('up_steping',), ('staccato',), ('staccato',), ('staccato',), ('staccato',), ('staccato',), ('staccato',), ('staccato',), ('staccato',), ('staccato',), ('resting',), ('down_leaping',), ('staccato',), ('staccato',), ('staccato',), ('staccato',), ('staccato',), ('staccato',), ('continuing_rhythm',), ('resting',), ('resting',), ('resting',), ('up_leaping',), ('down_leaping',), ('resting',), ('resting',), ('up_steping',), ('resting',), ('up_steping',), ('resting',), ('continuing_rhythm',), ('down_leaping',), ('resting',), ('down_leaping',), ('up_steping',), ('up_leaping',), ('staccato',), ('up_leaping',), ('up_steping',), ('up_steping',), ('up_steping',), ('leaping_twisting',), ('leaping_twisting',), ('staccato',), ('up_steping',), ('leaping_twisting',), ('leaping_twisting',), ('up_leaping',), ('resting',), ('up_leaping',), ('up_leaping',), ('down_leaping',), ('up_leaping',), ('down_leaping',), ('down_leaping',), ('continuing_rhythm',), ('up_leaping',), ('up_leaping',), ('up_leaping',), ('down_leaping',), ('leaping_twisting',), ('One_rhythm',), ('staccato',), ('triplet',), ('repeating',), ('fast_rhythm',), ('fast_rhythm',), ('triplet',), ('fast_rhythm',), ('fast_rhythm',), ('staccato',), ('staccato',), ('staccato',), ('fast_rhythm',), ('fast_rhythm',), ('staccato',), ('staccato',), ('staccato',), ('staccato',), ('triplet',), ('repeating',), ('resting',), ('down_steping',), ('triplet',), ('up_leaping',), ('repeating',), ('triplet',), ('up_leaping',), ('down_steping',), ('resting',), ('up_steping',), ('down_steping',), ('up_steping',), ('up_steping',), ('up_steping',), ('resting',), ('up_steping',), ('resting',), ('steping_twisting',), ('resting',), ('up_steping',), ('resting',), ('down_steping',), ('up_steping',), ('resting',), ('steping_twisting',), ('resting',), ('resting',), ('down_leaping',), ('staccato',), ('up_steping',), ('continuing_rhythm',), ('up_leaping',), ('continuing_rhythm',), ('up_steping',), ('up_leaping',), ('continuing_rhythm',), ('continuing_rhythm',), ('down_steping',), ('down_leaping',), ('down_leaping',), ('up_leaping',), ('continuing_rhythm',), ('continuing_rhythm',), ('continuing_rhythm',), ('continuing_rhythm',), ('continuing_rhythm',), ('One_rhythm',), ('continuing_rhythm',), ('up_steping',), ('up_leaping',), ('leaping_twisting',), ('up_leaping',), ('leaping_twisting',), ('up_leaping',), ('leaping_twisting',), ('up_leaping',), ('leaping_twisting',), ('up_leaping',), ('up_leaping',), ('leaping_twisting',), ('leaping_twisting',), ('leaping_twisting',), ('leaping_twisting',), ('leaping_twisting',), ('leaping_twisting',), ('leaping_twisting',), ('leaping_twisting',), ('leaping_twisting',), ('leaping_twisting',), ('leaping_twisting',), ('leaping_twisting',), ('leaping_twisting',), ('leaping_twisting',), ('leaping_twisting',), ('leaping_twisting',), ('fast_rhythm',), ('leaping_twisting',), ('fast_rhythm',), ('leaping_twisting',), ('repeating',), ('repeating',), ('repeating',), ('repeating',), ('resting',), ('resting',), ('repeating',), ('repeating',), ('repeating',), ('repeating',), ('repeating',), ('repeating',), ('repeating',), ('repeating',), ('repeating',), ('repeating',), ('repeating',), ('repeating',), ('repeating',), ('leaping_twisting',), ('staccato',), ('down_leaping',), ('leaping_twisting',), ('leaping_twisting',), ('leaping_twisting',), ('down_leaping',), ('leaping_twisting',), ('leaping_twisting',), ('staccato',), ('down_leaping',), ('leaping_twisting',), ('leaping_twisting',), ('fast_rhythm',), ('fast_rhythm',), ('continuing_rhythm',), ('continuing_rhythm',), ('fast_rhythm',), ('fast_rhythm',), ('continuing_rhythm',), ('continuing_rhythm',), ('leaping_twisting',), ('fast_rhythm',), ('continuing_rhythm',), ('continuing_rhythm',), ('leaping_twisting',), ('leaping_twisting',)]\n"
          ],
          "name": "stdout"
        }
      ]
    },
    {
      "cell_type": "code",
      "metadata": {
        "id": "eKJiCvrXd5NJ",
        "colab_type": "code",
        "colab": {
          "base_uri": "https://localhost:8080/",
          "height": 238
        },
        "outputId": "dd3a74cd-68d2-4083-de8e-a41dfc54ac35"
      },
      "source": [
        "H = test_matrix[700].reshape(24,24) #위에 출력에서 나온 숫자 test_matrix['요기']에 적고 출력하면 나옴\n",
        "fig = plt.figure(figsize=(6, 3.2))\n",
        "\n",
        "ax = fig.add_subplot(111)\n",
        "ax.set_title('colorMap')\n",
        "plt.imshow(H)\n",
        "ax.set_aspect('equal')\n",
        "\n",
        "cax = fig.add_axes([0.12, 0.1, 0.78, 0.8])\n",
        "cax.get_xaxis().set_visible(False)\n",
        "cax.get_yaxis().set_visible(False)\n",
        "cax.patch.set_alpha(0)\n",
        "cax.set_frame_on(False)\n",
        "plt.colorbar(orientation='vertical')\n",
        "plt.show()"
      ],
      "execution_count": 47,
      "outputs": [
        {
          "output_type": "display_data",
          "data": {
            "image/png": "[encoded data removed]",
            "text/plain": [
              "<Figure size 432x230.4 with 3 Axes>"
            ]
          },
          "metadata": {
            "tags": [],
            "needs_background": "light"
          }
        }
      ]
    },
    {
      "cell_type": "markdown",
      "metadata": {
        "id": "_1UAO1g3lELo",
        "colab_type": "text"
      },
      "source": [
        "여기부터 GAN의 구현을 해봅니다. "
      ]
    },
    {
      "cell_type": "code",
      "metadata": {
        "id": "dgsQdsiqlC9E",
        "colab_type": "code",
        "colab": {}
      },
      "source": [
        "!pip install -q imageio"
      ],
      "execution_count": null,
      "outputs": []
    },
    {
      "cell_type": "code",
      "metadata": {
        "id": "27spffKwmnaO",
        "colab_type": "code",
        "colab": {}
      },
      "source": [
        "import glob\n",
        "import imageio\n",
        "import matplotlib.pyplot as plt\n",
        "import numpy as np\n",
        "import os\n",
        "import PIL\n",
        "from tensorflow.keras import layers\n",
        "import time\n",
        "\n",
        "from IPython import display"
      ],
      "execution_count": 48,
      "outputs": []
    },
    {
      "cell_type": "code",
      "metadata": {
        "id": "mGCuBMQI7sX3",
        "colab_type": "code",
        "colab": {}
      },
      "source": [
        "def get_best_results(testresult,test_label2):  #for optimizing.\n",
        "  classnum={}\n",
        "  testnum={}\n",
        "  resultmat=[]\n",
        "  bestmat=[]\n",
        "  for i in range(len(testresult)):\n",
        "    best_result=[0 for i in range(13)]\n",
        "    class_num=np.count_nonzero(test_label2[i]==1)+1\n",
        "    classidx=(-testresult[i]).argsort()[:class_num]\n",
        "    for k,j in enumerate(classidx):\n",
        "      if (k==0):\n",
        "        best_result[j]=1\n",
        "    bestmat.append(best_result)\n",
        "  bestmat=np.array(bestmat)\n",
        "  bestidx=mlb.inverse_transform(bestmat)\n",
        "  return bestidx"
      ],
      "execution_count": 49,
      "outputs": []
    },
    {
      "cell_type": "code",
      "metadata": {
        "id": "V32sqv0MOOnI",
        "colab_type": "code",
        "colab": {
          "base_uri": "https://localhost:8080/",
          "height": 52
        },
        "outputId": "52bc2942-ef05-469c-9aa4-a98f2453f0b9"
      },
      "source": [
        "trainX=train_matrix.reshape((150000,24,24))\n",
        "for i in tqdm(range(150),position=0):\n",
        "  if(i==0):\n",
        "    test_result=classifier.predict(train_matrix[1000*i:1000+1000*i])\n",
        "  else:\n",
        "    sub_testresult=classifier.predict(train_matrix[1000*i:1000+1000*i])\n",
        "    test_result=np.concatenate((test_result,sub_testresult))\n",
        "trainy=np.array(get_best_results(test_result,train_label2)).reshape((150000,))\n",
        "print('Train', trainX.shape, trainy.shape)"
      ],
      "execution_count": 50,
      "outputs": [
        {
          "output_type": "stream",
          "text": [
            "100%|██████████| 150/150 [00:07<00:00, 19.13it/s]\n"
          ],
          "name": "stderr"
        },
        {
          "output_type": "stream",
          "text": [
            "Train (150000, 24, 24) (150000,)\n"
          ],
          "name": "stdout"
        }
      ]
    },
    {
      "cell_type": "code",
      "metadata": {
        "id": "XCe1Clvjvz1-",
        "colab_type": "code",
        "colab": {
          "base_uri": "https://localhost:8080/",
          "height": 34
        },
        "outputId": "d260b139-8ea8-4fb3-d2e9-ccc29723a7be"
      },
      "source": [
        "from sklearn.preprocessing import LabelEncoder\n",
        "# 라벨 인코더 생성\n",
        "encoder = LabelEncoder()\n",
        "\n",
        "# X_train데이터를 이용 피팅하고 라벨숫자로 변환한다\n",
        "encoder.fit(trainy)\n",
        "trainy = encoder.transform(trainy)\n",
        "print(trainy)\n",
        "trainy=np.array(trainy)"
      ],
      "execution_count": 51,
      "outputs": [
        {
          "output_type": "stream",
          "text": [
            "[3 3 5 ... 7 0 8]\n"
          ],
          "name": "stdout"
        }
      ]
    },
    {
      "cell_type": "code",
      "metadata": {
        "id": "OiRvfSRjmyEr",
        "colab_type": "code",
        "colab": {}
      },
      "source": [
        "import numpy as np\n",
        "import scipy as sp\n",
        "import scipy.ndimage\n",
        "def blur_image(matrix):\n",
        "  sigma_y = 1.0\n",
        "  sigma_x = 1.0\n",
        "  inputmat=matrix\n",
        "  \"\"\"\n",
        "  # Plot input array\n",
        "  plt.imshow(inputmat, cmap='Blues', interpolation='nearest')\n",
        "  plt.xlabel(\"$x$\")\n",
        "  plt.ylabel(\"$y$\")\n",
        "  plt.savefig(\"array.png\")\n",
        "  \"\"\"\n",
        "  # Apply gaussian filter\n",
        "  sigma = [sigma_y, sigma_x]\n",
        "  y = sp.ndimage.filters.gaussian_filter(inputmat, sigma, mode='constant')\n",
        "  \"\"\"\n",
        "  # Display filtered array\n",
        "  plt.imshow(y, cmap='Blues', interpolation='nearest')\n",
        "  plt.xlabel(\"$x$\")\n",
        "  plt.ylabel(\"$y$\")\n",
        "  plt.title(\"$\\sigma_x = \" + str(sigma_x) + \"\\quad \\sigma_y = \" + str(sigma_y) + \"$\")\n",
        "  plt.savefig(\"smooth_array_\" + str(sigma_x) + \"_\" + str(sigma_y) + \".png\")\n",
        "  \"\"\"\n",
        "  return y\n"
      ],
      "execution_count": 52,
      "outputs": []
    },
    {
      "cell_type": "code",
      "metadata": {
        "id": "FHYRcDkY4GgB",
        "colab_type": "code",
        "colab": {}
      },
      "source": [
        "blur_trainX=copy.deepcopy(trainX)\n",
        "for i,matrix in enumerate(trainX):\n",
        "  blur_trainX[i]=blur_image(matrix)\n",
        "trainX=blur_trainX"
      ],
      "execution_count": 53,
      "outputs": []
    },
    {
      "cell_type": "code",
      "metadata": {
        "id": "EJr2T_F3wHVK",
        "colab_type": "code",
        "colab": {}
      },
      "source": [
        "#https://github.com/gaborvecsei/CDCGAN-Keras/tree/master/cdcgan\n",
        "#위 깃헙의 코드를 사용하는겁니다\n",
        "import matplotlib\n",
        "\n",
        "matplotlib.use('Agg')\n",
        "from keras import models, layers\n",
        "\n",
        "ACTIVATION = layers.Activation(\"tanh\")\n",
        "\n",
        "\n",
        "def generator_model():\n",
        "  with tf.device('/gpu:0'):\n",
        "    # Prepare noise input\n",
        "    input_z = layers.Input((13,))\n",
        "    dense_z_1 = layers.Dense(1024)(input_z)\n",
        "    act_z_1 = ACTIVATION(dense_z_1)\n",
        "    dense_z_2 = layers.Dense(128 * 6* 6)(act_z_1)\n",
        "    bn_z_1 = layers.BatchNormalization()(dense_z_2)\n",
        "    reshape_z = layers.Reshape((6, 6, 128), input_shape=(128 * 6 * 6,))(bn_z_1)\n",
        "\n",
        "    # Prepare Conditional (label) input\n",
        "    input_c = layers.Input((13,))\n",
        "    dense_c_1 = layers.Dense(1024)(input_c)\n",
        "    act_c_1 = ACTIVATION(dense_c_1)\n",
        "    dense_c_2 = layers.Dense(128 * 6 * 6)(act_c_1)\n",
        "    bn_c_1 = layers.BatchNormalization()(dense_c_2)\n",
        "    reshape_c = layers.Reshape((6, 6, 128), input_shape=(128 * 6 * 6,))(bn_c_1)\n",
        "\n",
        "    # Combine input source\n",
        "    concat_z_c = layers.Concatenate()([reshape_z, reshape_c])\n",
        "\n",
        "    # Image generation with the concatenated inputs\n",
        "    up_1 = layers.UpSampling2D(size=(2, 2))(concat_z_c)\n",
        "    conv_1 = layers.Conv2D(64, (5, 5), padding='same')(up_1)\n",
        "    act_1 = ACTIVATION(conv_1)\n",
        "    up_2 = layers.UpSampling2D(size=(2, 2))(act_1)\n",
        "    conv_2 = layers.Conv2D(1, (5, 5), padding='same')(up_2)\n",
        "    act_2 = layers.Activation(\"tanh\")(conv_2)\n",
        "    model = models.Model(inputs=[input_z, input_c], outputs=act_2)\n",
        "    return model\n",
        "\n",
        "\n",
        "def discriminator_model():\n",
        "  with tf.device('/gpu:0'):\n",
        "    input_gen_image = layers.Input((24, 24, 1))\n",
        "    conv_1_image = layers.Conv2D(64, (5, 5), padding='same')(input_gen_image)\n",
        "    act_1_image = ACTIVATION(conv_1_image)\n",
        "    pool_1_image = layers.MaxPooling2D(pool_size=(2, 2))(act_1_image)\n",
        "    conv_2_image = layers.Conv2D(128, (5, 5))(pool_1_image)\n",
        "    act_2_image = ACTIVATION(conv_2_image)\n",
        "    pool_2_image = layers.MaxPooling2D(pool_size=(2, 2))(act_2_image)\n",
        "\n",
        "    input_c = layers.Input((13,))\n",
        "    dense_1_c = layers.Dense(1024)(input_c)\n",
        "    act_1_c = ACTIVATION(dense_1_c)\n",
        "    dense_2_c = layers.Dense(4 * 4 * 128)(act_1_c)\n",
        "    bn_c = layers.BatchNormalization()(dense_2_c)\n",
        "    reshaped_c = layers.Reshape((4, 4, 128))(bn_c)\n",
        "\n",
        "    concat = layers.Concatenate()([pool_2_image, reshaped_c])\n",
        "\n",
        "    flat = layers.Flatten()(concat)\n",
        "    dense_1 = layers.Dense(1024)(flat)\n",
        "    act_1 = ACTIVATION(dense_1)\n",
        "    dense_2 = layers.Dense(1)(act_1)\n",
        "    act_2 = layers.Activation('sigmoid')(dense_2)\n",
        "    model = models.Model(inputs=[input_gen_image, input_c], outputs=act_2)\n",
        "    return model\n",
        "\n",
        "\n",
        "def generator_containing_discriminator(g, d):\n",
        "  with tf.device('/gpu:0'):\n",
        "    input_z = layers.Input((13,))\n",
        "    input_c = layers.Input((13,))\n",
        "    gen_image = g([input_z, input_c])\n",
        "    d.trainable = False\n",
        "    is_real = d([gen_image, input_c])\n",
        "    model = models.Model(inputs=[input_z, input_c], outputs=is_real)\n",
        "    return model"
      ],
      "execution_count": 54,
      "outputs": []
    },
    {
      "cell_type": "code",
      "metadata": {
        "id": "XNHFwwLpm85B",
        "colab_type": "code",
        "colab": {}
      },
      "source": [
        "import math\n",
        "import os\n",
        "import subprocess\n",
        "\n",
        "import cv2\n",
        "import matplotlib\n",
        "\n",
        "matplotlib.use('Agg')\n",
        "import matplotlib.pyplot as plt\n",
        "import numpy as np\n",
        "\n",
        "\n",
        "def combine_images(generated_images):\n",
        "    num_images = generated_images.shape[0]\n",
        "    new_width = int(math.sqrt(num_images))\n",
        "    new_height = int(math.ceil(float(num_images) / new_width))\n",
        "    grid_shape = generated_images.shape[1:3]\n",
        "    grid_image = np.zeros((new_height * grid_shape[0], new_width * grid_shape[1]), dtype=generated_images.dtype)\n",
        "    for index, img in enumerate(generated_images):\n",
        "        i = int(index / new_width)\n",
        "        j = index % new_width\n",
        "        grid_image[i * grid_shape[0]:(i + 1) * grid_shape[0], j * grid_shape[1]:(j + 1) * grid_shape[1]] = \\\n",
        "            img[:, :, 0]\n",
        "    return grid_image\n",
        "\n",
        "\n",
        "def generate_noise(shape: tuple):\n",
        "    noise = np.random.uniform(0, 1, size=shape)\n",
        "    return noise\n",
        "\n",
        "\n",
        "def generate_condition_embedding(label: int, nb_of_label_embeddings: int):\n",
        "    label_embeddings = np.zeros((nb_of_label_embeddings, 13))\n",
        "    label_embeddings[:, label] = 1\n",
        "    return label_embeddings\n",
        "\n",
        "\n",
        "def generate_images(generator, nb_images: int, label: int):\n",
        "    noise = generate_noise((nb_images, 13))\n",
        "    label_batch = generate_condition_embedding(label, nb_images)\n",
        "    generated_images = generator.predict([noise, label_batch], verbose=0)\n",
        "    return generated_images\n",
        "\n",
        "\n",
        "def generate_mnist_image_grid(generator, title: str = \"Generated images\"):\n",
        "    generated_images = []\n",
        "\n",
        "    for i in range(10):\n",
        "        noise = generate_noise((10, 13))\n",
        "        label_input = generate_condition_embedding(i, 10)\n",
        "        gen_images = generator.predict([noise, label_input], verbose=0)\n",
        "        generated_images.extend(gen_images)\n",
        "\n",
        "    generated_images = np.array(generated_images)\n",
        "    image_grid = combine_images(generated_images)\n",
        "    image_grid = inverse_transform_images(image_grid)\n",
        "\n",
        "    fig = plt.figure()\n",
        "    ax = fig.add_subplot(1, 1, 1)\n",
        "    ax.axis(\"off\")\n",
        "    ax.imshow(image_grid, cmap=\"gray\")\n",
        "    ax.set_title(title)\n",
        "    fig.canvas.draw()\n",
        "\n",
        "    image = np.fromstring(fig.canvas.tostring_rgb(), dtype=np.uint8, sep='')\n",
        "    image = image.reshape(fig.canvas.get_width_height()[::-1] + (3,))\n",
        "\n",
        "    plt.close()\n",
        "\n",
        "    return image\n",
        "\n",
        "\n",
        "def save_generated_image(image, epoch, iteration, folder_path):\n",
        "    if not os.path.isdir(folder_path):\n",
        "        os.makedirs(folder_path)\n",
        "\n",
        "    file_path = \"{0}/{1}_{2}.png\".format(folder_path, epoch, iteration)\n",
        "    cv2.imwrite(file_path, image.astype(np.uint8))\n",
        "\n",
        "\n",
        "def transform_images(images: np.ndarray):\n",
        "    \"\"\"\n",
        "    [0,1]Transform images to [-1, 1]\n",
        "    \"\"\"\n",
        "\n",
        "    images = (images.astype(np.float32) - (1/2)) / (1/2)\n",
        "    return images\n",
        "\n",
        "\n",
        "def inverse_transform_images(images: np.ndarray):\n",
        "    \"\"\"\n",
        "    From the [-1, 1] range transform the images back to [0, 255]\n",
        "    \"\"\"\n",
        "\n",
        "    images = images * 127.5 + 127.5\n",
        "    images = images.astype(np.uint8)\n",
        "    return images\n",
        "\n",
        "\n",
        "def convert_video_to_gif(input_video_path, output_gif_path, fps=24):\n",
        "    palette_image_path = \"palette.png\"\n",
        "    command_palette = 'ffmpeg -y -t 0 -i {0} -vf fps={1},scale=320:-1:flags=lanczos,palettegen {2}'.format(input_video_path,\n",
        "                                                                                                           fps,\n",
        "                                                                                                           palette_image_path)\n",
        "    command_convert = 'ffmpeg -y -t 0 -i {0} -i {1} -filter_complex \"fps={2},scale=320:-1:flags=lanczos[x];[x][1:v]paletteuse\" {3}'.format(input_video_path,palette_image_path, fps, output_gif_path)\n",
        "    \n",
        "    try:\n",
        "        subprocess.check_call(command_palette)\n",
        "        subprocess.check_call(command_convert)\n",
        "    except subprocess.CalledProcessError as exc:\n",
        "        print(exc.output)\n",
        "        raise\n",
        "    finally:\n",
        "        os.remove(palette_image_path)"
      ],
      "execution_count": 55,
      "outputs": []
    },
    {
      "cell_type": "code",
      "metadata": {
        "id": "1xqJAsQDYM2D",
        "colab_type": "code",
        "colab": {
          "base_uri": "https://localhost:8080/",
          "height": 333
        },
        "outputId": "1be31e20-8005-4568-cf1f-84ed933c479a"
      },
      "source": [
        "pip install git+https://github.com/gaborvecsei/Swiss-Army-Tensorboard.git"
      ],
      "execution_count": 56,
      "outputs": [
        {
          "output_type": "stream",
          "text": [
            "Collecting git+https://github.com/gaborvecsei/Swiss-Army-Tensorboard.git\n",
            "  Cloning https://github.com/gaborvecsei/Swiss-Army-Tensorboard.git to /tmp/pip-req-build-y4ljzy2s\n",
            "  Running command git clone -q https://github.com/gaborvecsei/Swiss-Army-Tensorboard.git /tmp/pip-req-build-y4ljzy2s\n",
            "Requirement already satisfied: numpy>=1.16.1 in /usr/local/lib/python3.6/dist-packages (from swiss-army-tensorboard==0.0.1) (1.18.5)\n",
            "Requirement already satisfied: matplotlib>=3.1 in /usr/local/lib/python3.6/dist-packages (from swiss-army-tensorboard==0.0.1) (3.2.2)\n",
            "Requirement already satisfied: python-dateutil>=2.1 in /usr/local/lib/python3.6/dist-packages (from matplotlib>=3.1->swiss-army-tensorboard==0.0.1) (2.8.1)\n",
            "Requirement already satisfied: pyparsing!=2.0.4,!=2.1.2,!=2.1.6,>=2.0.1 in /usr/local/lib/python3.6/dist-packages (from matplotlib>=3.1->swiss-army-tensorboard==0.0.1) (2.4.7)\n",
            "Requirement already satisfied: cycler>=0.10 in /usr/local/lib/python3.6/dist-packages (from matplotlib>=3.1->swiss-army-tensorboard==0.0.1) (0.10.0)\n",
            "Requirement already satisfied: kiwisolver>=1.0.1 in /usr/local/lib/python3.6/dist-packages (from matplotlib>=3.1->swiss-army-tensorboard==0.0.1) (1.2.0)\n",
            "Requirement already satisfied: six>=1.5 in /usr/local/lib/python3.6/dist-packages (from python-dateutil>=2.1->matplotlib>=3.1->swiss-army-tensorboard==0.0.1) (1.15.0)\n",
            "Building wheels for collected packages: swiss-army-tensorboard\n",
            "  Building wheel for swiss-army-tensorboard (setup.py) ... \u001b[?25l\u001b[?25hdone\n",
            "  Created wheel for swiss-army-tensorboard: filename=swiss_army_tensorboard-0.0.1-cp36-none-any.whl size=5377 sha256=e053b184837eefab1960e5fa6be439555ab88a63ebb2876254e7bc4d06ac80cb\n",
            "  Stored in directory: /tmp/pip-ephem-wheel-cache-tvxtau04/wheels/ea/f7/db/67f8661f9c334ad8eda2d0dfbc21bcaea99f739c97f6008d41\n",
            "Successfully built swiss-army-tensorboard\n",
            "Installing collected packages: swiss-army-tensorboard\n",
            "Successfully installed swiss-army-tensorboard-0.0.1\n"
          ],
          "name": "stdout"
        }
      ]
    },
    {
      "cell_type": "code",
      "metadata": {
        "id": "kJjHn-Nngy8P",
        "colab_type": "code",
        "colab": {
          "base_uri": "https://localhost:8080/",
          "height": 1000
        },
        "outputId": "6e1c9f22-daa6-49ed-be84-fe9ac3dd9700"
      },
      "source": [
        "import matplotlib\n",
        "\n",
        "matplotlib.use('Agg')\n",
        "import numpy as np\n",
        "from keras import backend as K\n",
        "from keras import utils as keras_utils\n",
        "from keras import optimizers\n",
        "from keras import datasets\n",
        "from swiss_army_tensorboard import tfboard_loggers\n",
        "from tqdm import tqdm\n",
        "#from cdcgan import cdcgan_models, cdcgan_utils\n",
        "#colab환경이라 안씁니다\n",
        "\n",
        "BATCH_SIZE = 128\n",
        "EPOCHS = 100\n",
        "\n",
        "# Load & Prepare MNIST\n",
        "\n",
        "X_train=trainX\n",
        "y_train=trainy\n",
        "X_train = transform_images(X_train)\n",
        "X_train = X_train[:, :, :, None]\n",
        "\n",
        "y_train = keras_utils.to_categorical(y_train, 13) #원래는 13써야 하는데 추후 고려할 예정\n",
        "\n",
        "# Create the models\n",
        "\n",
        "print(\"Generator:\")\n",
        "G = generator_model()\n",
        "G.summary()\n",
        "\n",
        "print(\"Discriminator:\")\n",
        "D = discriminator_model()\n",
        "D.summary()\n",
        "\n",
        "print(\"Combined:\")\n",
        "GD = generator_containing_discriminator(G, D)\n",
        "GD.summary()\n",
        "\n",
        "optimizer = optimizers.Adam(0.0002, 0.5)\n",
        "\n",
        "\n",
        "G.compile(loss='binary_crossentropy', optimizer=optimizer)\n",
        "GD.compile(loss='binary_crossentropy', optimizer=optimizer)\n",
        "D.trainable = True\n",
        "D.compile(loss='binary_crossentropy', optimizer=optimizer)"
      ],
      "execution_count": 57,
      "outputs": [
        {
          "output_type": "stream",
          "text": [
            "WARNING:tensorflow:From /usr/local/lib/python3.6/dist-packages/swiss_army_tensorboard/tfboard_loggers/tfboard_loggers.py:47: The name tf.HistogramProto is deprecated. Please use tf.compat.v1.HistogramProto instead.\n",
            "\n",
            "Generator:\n",
            "Model: \"model_1\"\n",
            "__________________________________________________________________________________________________\n",
            "Layer (type)                    Output Shape         Param #     Connected to                     \n",
            "==================================================================================================\n",
            "input_2 (InputLayer)            (None, 13)           0                                            \n",
            "__________________________________________________________________________________________________\n",
            "input_3 (InputLayer)            (None, 13)           0                                            \n",
            "__________________________________________________________________________________________________\n",
            "dense_1 (Dense)                 (None, 1024)         14336       input_2[0][0]                    \n",
            "__________________________________________________________________________________________________\n",
            "dense_3 (Dense)                 (None, 1024)         14336       input_3[0][0]                    \n",
            "__________________________________________________________________________________________________\n",
            "activation_1 (Activation)       multiple             0           dense_1[0][0]                    \n",
            "                                                                 dense_3[0][0]                    \n",
            "                                                                 conv2d_1[0][0]                   \n",
            "__________________________________________________________________________________________________\n",
            "dense_2 (Dense)                 (None, 4608)         4723200     activation_1[0][0]               \n",
            "__________________________________________________________________________________________________\n",
            "dense_4 (Dense)                 (None, 4608)         4723200     activation_1[1][0]               \n",
            "__________________________________________________________________________________________________\n",
            "batch_normalization_1 (BatchNor (None, 4608)         18432       dense_2[0][0]                    \n",
            "__________________________________________________________________________________________________\n",
            "batch_normalization_2 (BatchNor (None, 4608)         18432       dense_4[0][0]                    \n",
            "__________________________________________________________________________________________________\n",
            "reshape_1 (Reshape)             (None, 6, 6, 128)    0           batch_normalization_1[0][0]      \n",
            "__________________________________________________________________________________________________\n",
            "reshape_2 (Reshape)             (None, 6, 6, 128)    0           batch_normalization_2[0][0]      \n",
            "__________________________________________________________________________________________________\n",
            "concatenate_1 (Concatenate)     (None, 6, 6, 256)    0           reshape_1[0][0]                  \n",
            "                                                                 reshape_2[0][0]                  \n",
            "__________________________________________________________________________________________________\n",
            "up_sampling2d_1 (UpSampling2D)  (None, 12, 12, 256)  0           concatenate_1[0][0]              \n",
            "__________________________________________________________________________________________________\n",
            "conv2d_1 (Conv2D)               (None, 12, 12, 64)   409664      up_sampling2d_1[0][0]            \n",
            "__________________________________________________________________________________________________\n",
            "up_sampling2d_2 (UpSampling2D)  (None, 24, 24, 64)   0           activation_1[2][0]               \n",
            "__________________________________________________________________________________________________\n",
            "conv2d_2 (Conv2D)               (None, 24, 24, 1)    1601        up_sampling2d_2[0][0]            \n",
            "__________________________________________________________________________________________________\n",
            "activation_2 (Activation)       (None, 24, 24, 1)    0           conv2d_2[0][0]                   \n",
            "==================================================================================================\n",
            "Total params: 9,923,201\n",
            "Trainable params: 9,904,769\n",
            "Non-trainable params: 18,432\n",
            "__________________________________________________________________________________________________\n",
            "Discriminator:\n",
            "WARNING:tensorflow:From /usr/local/lib/python3.6/dist-packages/keras/backend/tensorflow_backend.py:4070: The name tf.nn.max_pool is deprecated. Please use tf.nn.max_pool2d instead.\n",
            "\n",
            "Model: \"model_2\"\n",
            "__________________________________________________________________________________________________\n",
            "Layer (type)                    Output Shape         Param #     Connected to                     \n",
            "==================================================================================================\n",
            "input_4 (InputLayer)            (None, 24, 24, 1)    0                                            \n",
            "__________________________________________________________________________________________________\n",
            "conv2d_3 (Conv2D)               (None, 24, 24, 64)   1664        input_4[0][0]                    \n",
            "__________________________________________________________________________________________________\n",
            "activation_1 (Activation)       multiple             0           conv2d_3[0][0]                   \n",
            "                                                                 conv2d_4[0][0]                   \n",
            "                                                                 dense_5[0][0]                    \n",
            "                                                                 dense_7[0][0]                    \n",
            "__________________________________________________________________________________________________\n",
            "max_pooling2d_1 (MaxPooling2D)  (None, 12, 12, 64)   0           activation_1[3][0]               \n",
            "__________________________________________________________________________________________________\n",
            "input_5 (InputLayer)            (None, 13)           0                                            \n",
            "__________________________________________________________________________________________________\n",
            "conv2d_4 (Conv2D)               (None, 8, 8, 128)    204928      max_pooling2d_1[0][0]            \n",
            "__________________________________________________________________________________________________\n",
            "dense_5 (Dense)                 (None, 1024)         14336       input_5[0][0]                    \n",
            "__________________________________________________________________________________________________\n",
            "dense_6 (Dense)                 (None, 2048)         2099200     activation_1[5][0]               \n",
            "__________________________________________________________________________________________________\n",
            "batch_normalization_3 (BatchNor (None, 2048)         8192        dense_6[0][0]                    \n",
            "__________________________________________________________________________________________________\n",
            "max_pooling2d_2 (MaxPooling2D)  (None, 4, 4, 128)    0           activation_1[4][0]               \n",
            "__________________________________________________________________________________________________\n",
            "reshape_3 (Reshape)             (None, 4, 4, 128)    0           batch_normalization_3[0][0]      \n",
            "__________________________________________________________________________________________________\n",
            "concatenate_2 (Concatenate)     (None, 4, 4, 256)    0           max_pooling2d_2[0][0]            \n",
            "                                                                 reshape_3[0][0]                  \n",
            "__________________________________________________________________________________________________\n",
            "flatten_1 (Flatten)             (None, 4096)         0           concatenate_2[0][0]              \n",
            "__________________________________________________________________________________________________\n",
            "dense_7 (Dense)                 (None, 1024)         4195328     flatten_1[0][0]                  \n",
            "__________________________________________________________________________________________________\n",
            "dense_8 (Dense)                 (None, 1)            1025        activation_1[6][0]               \n",
            "__________________________________________________________________________________________________\n",
            "activation_3 (Activation)       (None, 1)            0           dense_8[0][0]                    \n",
            "==================================================================================================\n",
            "Total params: 6,524,673\n",
            "Trainable params: 6,520,577\n",
            "Non-trainable params: 4,096\n",
            "__________________________________________________________________________________________________\n",
            "Combined:\n",
            "Model: \"model_3\"\n",
            "__________________________________________________________________________________________________\n",
            "Layer (type)                    Output Shape         Param #     Connected to                     \n",
            "==================================================================================================\n",
            "input_6 (InputLayer)            (None, 13)           0                                            \n",
            "__________________________________________________________________________________________________\n",
            "input_7 (InputLayer)            (None, 13)           0                                            \n",
            "__________________________________________________________________________________________________\n",
            "model_1 (Model)                 (None, 24, 24, 1)    9923201     input_6[0][0]                    \n",
            "                                                                 input_7[0][0]                    \n",
            "__________________________________________________________________________________________________\n",
            "model_2 (Model)                 (None, 1)            6524673     model_1[1][0]                    \n",
            "                                                                 input_7[0][0]                    \n",
            "==================================================================================================\n",
            "Total params: 16,447,874\n",
            "Trainable params: 9,904,769\n",
            "Non-trainable params: 6,543,105\n",
            "__________________________________________________________________________________________________\n"
          ],
          "name": "stdout"
        }
      ]
    },
    {
      "cell_type": "code",
      "metadata": {
        "id": "xiSLW8ipuBhP",
        "colab_type": "code",
        "colab": {}
      },
      "source": [
        "G.load_weights(\"/content/drive/My Drive/MARG/PPDDlist/GAN_result/generator.h5\")\n",
        "D.load_weights(\"/content/drive/My Drive/MARG/PPDDlist/GAN_result/discriminator.h5\")"
      ],
      "execution_count": 58,
      "outputs": []
    },
    {
      "cell_type": "code",
      "metadata": {
        "id": "CX3bvlrduAKR",
        "colab_type": "code",
        "colab": {}
      },
      "source": [
        "# Setup Tensorboard loggers\n",
        "\n",
        "tfboard_loggers.TFBoardModelGraphLogger.log_graph(\"/content/drive/My Drive/MARG/PPDDlist/GAN_result/logs\", K.get_session())\n",
        "loss_logger = tfboard_loggers.TFBoardScalarLogger(\"/content/drive/My Drive/MARG/PPDDlist/GAN_result/logs/loss\")\n",
        "image_logger = tfboard_loggers.TFBoardImageLogger(\"/content/drive/My Drive/MARG/PPDDlist/GAN_result/logs/generated_images\")\n",
        "\n",
        "# Model Training\n",
        "\n",
        "iteration = 0\n",
        "\n",
        "nb_of_iterations_per_epoch = int(X_train.shape[0] / BATCH_SIZE)\n",
        "print(\"Number of iterations per epoch: {0}\".format(nb_of_iterations_per_epoch))\n",
        "\n",
        "for epoch in range(EPOCHS):\n",
        "    pbar = tqdm(desc=\"Epoch: {0}\".format(epoch), total=X_train.shape[0],position=0)\n",
        "\n",
        "    g_losses_for_epoch = []\n",
        "    d_losses_for_epoch = []\n",
        "\n",
        "    for i in range(nb_of_iterations_per_epoch):\n",
        "        noise = generate_noise((BATCH_SIZE, 13))\n",
        "\n",
        "        image_batch = X_train[i * BATCH_SIZE:(i + 1) * BATCH_SIZE]\n",
        "        label_batch = y_train[i * BATCH_SIZE:(i + 1) * BATCH_SIZE]\n",
        "\n",
        "        generated_images = G.predict([noise, label_batch], verbose=0)\n",
        "\n",
        "        if i % 20 == 0:\n",
        "            image_grid = generate_mnist_image_grid(G,\n",
        "                                                                title=\"Epoch {0}, iteration {1}\".format(epoch,\n",
        "                                                                                                        iteration))\n",
        "            save_generated_image(image_grid, epoch, i, \"/content/drive/My Drive/MARG/PPDDlist/GAN_result/generated_mnist_images_per_iteration\")\n",
        "            image_logger.log_images(\"generated_mnist_images_per_iteration\", [image_grid], iteration)\n",
        "\n",
        "        X = np.concatenate((image_batch, generated_images))\n",
        "        y = [1] * BATCH_SIZE + [0] * BATCH_SIZE\n",
        "        label_batches_for_discriminator = np.concatenate((label_batch, label_batch))\n",
        "\n",
        "        D_loss = D.train_on_batch([X, label_batches_for_discriminator], y)\n",
        "        d_losses_for_epoch.append(D_loss)\n",
        "        loss_logger.log_scalar(\"discriminator_loss\", D_loss, iteration)\n",
        "\n",
        "        noise = generate_noise((BATCH_SIZE, 13))\n",
        "        D.trainable = False\n",
        "        G_loss = GD.train_on_batch([noise, label_batch], [1] * BATCH_SIZE)\n",
        "        D.trainable = True\n",
        "        g_losses_for_epoch.append(G_loss)\n",
        "        loss_logger.log_scalar(\"generator_loss\", G_loss, iteration)\n",
        "\n",
        "        pbar.update(BATCH_SIZE)\n",
        "\n",
        "        iteration += 1\n",
        "\n",
        "    # Save a generated image for every epoch\n",
        "    image_grid = generate_mnist_image_grid(G, title=\"Epoch {0}\".format(epoch))\n",
        "    save_generated_image(image_grid, epoch, 0, \"/content/drive/My Drive/MARG/PPDDlist/GAN_result/generated_mnist_images_per_epoch\")\n",
        "    image_logger.log_images(\"/content/drive/My Drive/MARG/PPDDlist/GAN_result/generated_mnist_images_per_epoch\", [image_grid], epoch)\n",
        "\n",
        "    pbar.close()\n",
        "    print(\"D loss: {0}, G loss: {1}\".format(np.mean(d_losses_for_epoch), np.mean(g_losses_for_epoch)))\n",
        "\n",
        "    G.save_weights(\"/content/drive/My Drive/MARG/PPDDlist/GAN_result/generator.h5\")\n",
        "    D.save_weights(\"/content/drive/My Drive/MARG/PPDDlist/GAN_result/discriminator.h5\")"
      ],
      "execution_count": null,
      "outputs": []
    },
    {
      "cell_type": "code",
      "metadata": {
        "id": "qdEukvpITK_a",
        "colab_type": "code",
        "colab": {
          "base_uri": "https://localhost:8080/",
          "height": 286
        },
        "outputId": "4edcc00a-cd6d-42f6-90d0-3182a853e158"
      },
      "source": [
        "plt.imshow(trainX[i], cmap='gray_r')"
      ],
      "execution_count": null,
      "outputs": [
        {
          "output_type": "execute_result",
          "data": {
            "text/plain": [
              "<matplotlib.image.AxesImage at 0x7f1a2050eef0>"
            ]
          },
          "metadata": {
            "tags": []
          },
          "execution_count": 133
        },
        {
          "output_type": "display_data",
          "data": {
            "image/png": "[encoded data removed]",
            "text/plain": [
              "<Figure size 432x288 with 1 Axes>"
            ]
          },
          "metadata": {
            "tags": [],
            "needs_background": "light"
          }
        }
      ]
    },
    {
      "cell_type": "code",
      "metadata": {
        "id": "aUyKRM_Vqd9Y",
        "colab_type": "code",
        "colab": {
          "base_uri": "https://localhost:8080/",
          "height": 279
        },
        "outputId": "7e8c22cc-18de-4b73-dcea-db8f1cae619a"
      },
      "source": [
        "print(mlb.classes_)\n",
        "image=generate_images(G,2,12)\n",
        "H = image[0].reshape((24,24))\n",
        "for i in range(1,len(image)):\n",
        "  nowimg=image[i].reshape(24,24)\n",
        "  H=np.concatenate((H,nowimg),axis=1)\n",
        "\n",
        "fig = plt.figure(figsize=(14, 3))\n",
        "\n",
        "ax = fig.add_subplot(111)\n",
        "ax.set_title('colorMap')\n",
        "plt.imshow(H)\n",
        "ax.set_aspect('equal')\n",
        "\n",
        "cax = fig.add_axes([0.12, 0.1, 0.78, 0.8])\n",
        "cax.get_xaxis().set_visible(False)\n",
        "cax.get_yaxis().set_visible(False)\n",
        "cax.patch.set_alpha(0)\n",
        "cax.set_frame_on(False)\n",
        "plt.colorbar(orientation='vertical')\n",
        "plt.show()"
      ],
      "execution_count": 62,
      "outputs": [
        {
          "output_type": "stream",
          "text": [
            "['One_rhythm' 'continuing_rhythm' 'down_leaping' 'down_steping'\n",
            " 'fast_rhythm' 'leaping_twisting' 'repeating' 'resting' 'staccato'\n",
            " 'steping_twisting' 'triplet' 'up_leaping' 'up_steping']\n"
          ],
          "name": "stdout"
        },
        {
          "output_type": "display_data",
          "data": {
            "image/png": "[encoded data removed]",
            "text/plain": [
              "<Figure size 1008x216 with 3 Axes>"
            ]
          },
          "metadata": {
            "tags": [],
            "needs_background": "light"
          }
        }
      ]
    },
    {
      "cell_type": "markdown",
      "metadata": {
        "id": "exdtcOln9Qdq",
        "colab_type": "text"
      },
      "source": [
        "여기서부터 Simple RNN을 구현합니다."
      ]
    },
    {
      "cell_type": "code",
      "metadata": {
        "id": "qNqr-1ZWLKdh",
        "colab_type": "code",
        "colab": {}
      },
      "source": [
        "RNNx_train=[]\n",
        "RNNy_train=[]\n",
        "RNNx_test=[]\n",
        "RNNy_test=[]\n",
        "RNN_kfoldx=[]\n",
        "RNN_kfoldy=[]\n",
        "for i in range(len(bar_matrix_list3)):\n",
        "  nowseq=[]\n",
        "  nowmat=np.array(bar_matrix_list3[i])\n",
        "  nowbars=classifier.predict(nowmat.reshape(len(nowmat),24,24,1) ) #이는 mlb를 통해 embedding 되어있다\n",
        "  for j,bars in enumerate(nowbars):\n",
        "    if(j==len(nowbars)-1):\n",
        "      if(i>5000):\n",
        "        RNNy_test.append(np.argmax(bars))\n",
        "      else:\n",
        "        RNNy_train.append(np.argmax(bars))\n",
        "      RNN_kfoldy.append(np.argmax(bars))\n",
        "    else:\n",
        "      nowseq.append(np.argmax(bars))\n",
        "  if(i>5000):\n",
        "    RNNx_test.append(nowseq)\n",
        "  else:\n",
        "    RNNx_train.append(nowseq)\n",
        "  RNN_kfoldx.append(nowseq)"
      ],
      "execution_count": 79,
      "outputs": []
    },
    {
      "cell_type": "code",
      "metadata": {
        "id": "wbnUCrqw9O2P",
        "colab_type": "code",
        "colab": {}
      },
      "source": [
        "import numpy\n",
        "from keras.datasets import imdb\n",
        "from keras.models import Sequential\n",
        "from keras.layers import Dense\n",
        "from keras.layers import LSTM\n",
        "from keras.layers import Dropout\n",
        "from keras.layers.embeddings import Embedding\n",
        "from keras.preprocessing import sequence\n",
        "from keras.utils import to_categorical\n",
        "from keras.wrappers.scikit_learn import KerasClassifier\n",
        "from sklearn.model_selection import KFold\n",
        "from sklearn.model_selection import cross_val_score\n",
        "RNNy_test=to_categorical(np.array(RNNy_test))\n",
        "RNNy_train=to_categorical(np.array(RNNy_train))\n",
        "RNN_kfoldy=to_categorical(np.array(RNN_kfoldy))\n",
        "# fix random seed for reproducibility\n",
        "numpy.random.seed(7)\n",
        "top_words=13\n",
        "# truncate and pad input sequences\n",
        "max_review_length =0\n",
        "for seq in RNN_kfoldx:\n",
        "  if (len(seq)>max_review_length):\n",
        "    max_review_length=len(seq)\n",
        "RNNx_train = sequence.pad_sequences(RNNx_train, maxlen=max_review_length)\n",
        "RNNx_test = sequence.pad_sequences(RNNx_test, maxlen=max_review_length)\n",
        "RNN_kfoldx = sequence.pad_sequences(RNN_kfoldx, maxlen=max_review_length)\n"
      ],
      "execution_count": 80,
      "outputs": []
    },
    {
      "cell_type": "code",
      "metadata": {
        "id": "jd4AzRMhPWyj",
        "colab_type": "code",
        "colab": {
          "base_uri": "https://localhost:8080/",
          "height": 34
        },
        "outputId": "555e9c10-ee34-4d13-ea03-b3bd791aeec3"
      },
      "source": [
        "print(RNN_kfoldx.shape, RNN_kfoldy.shape)"
      ],
      "execution_count": 81,
      "outputs": [
        {
          "output_type": "stream",
          "text": [
            "(10000, 107) (10000, 13)\n"
          ],
          "name": "stdout"
        }
      ]
    },
    {
      "cell_type": "code",
      "metadata": {
        "id": "UmiN9lI_fbs7",
        "colab_type": "code",
        "colab": {}
      },
      "source": [
        "from keras.callbacks import EarlyStopping, ReduceLROnPlateau, ModelCheckpoint\n",
        "model_path = '/content/drive/My Drive/models/' + 'RNN.h5'\n",
        "\n",
        "cb_checkpoint = ModelCheckpoint(filepath=model_path, monitor='val_accuracy',\n",
        "                                verbose=1, save_best_only=True)\n",
        "callbacks = [cb_checkpoint]"
      ],
      "execution_count": 82,
      "outputs": []
    },
    {
      "cell_type": "code",
      "metadata": {
        "id": "qtTnECWM9ooa",
        "colab_type": "code",
        "colab": {}
      },
      "source": [
        "from keras import regularizers\n",
        "# create the model\n",
        "embedding_vecor_length = 32\n",
        "timesteps = 8\n",
        "\n",
        "RNNmodel = Sequential()\n",
        "RNNmodel.add(Embedding(top_words, embedding_vecor_length, input_length=max_review_length))\n",
        "RNNmodel.add(LSTM(100, return_sequences=True,\n",
        "               input_shape=(timesteps, 100)))  # returns a sequence of vectors of dimension 32\n",
        "RNNmodel.add(LSTM(100))  # return a single vector of dimension 32\n",
        "RNNmodel.add(Dropout(0.2))\n",
        "RNNmodel.add(Dense(13, activation='sigmoid', kernel_regularizer=regularizers.l2(0.01)))\n",
        "\n",
        "RNNmodel.compile(loss='categorical_crossentropy', optimizer='adam', metrics=['accuracy'])\n",
        "print(RNNmodel.summary())\n",
        "RNNmodel = KerasClassifier(build_fn=RNNmodel, epochs=150, batch_size=10, verbose=0)\n",
        "\n"
      ],
      "execution_count": null,
      "outputs": []
    },
    {
      "cell_type": "markdown",
      "metadata": {
        "id": "qwd8KBt0SKZF",
        "colab_type": "text"
      },
      "source": [
        "아래거는 kfold방식. 더 아래에는 그냥 위에서 설정한 RNNmodel을 train : valid = 1:1로 학습하는 코드가 있다."
      ]
    },
    {
      "cell_type": "code",
      "metadata": {
        "id": "oztvg4cPAxPW",
        "colab_type": "code",
        "colab": {
          "base_uri": "https://localhost:8080/",
          "height": 419
        },
        "outputId": "9ecb80d4-8d70-423f-f8aa-d1948c74c2c2"
      },
      "source": [
        "kfold = KFold(n_splits=5, shuffle=True, random_state=7)\n",
        "for i in range(3):\n",
        "  for train,valid in kfold.split(RNN_kfoldx,RNN_kfoldy):\n",
        "    RNNmodel = Sequential()\n",
        "    RNNmodel.add(Embedding(top_words, embedding_vecor_length, input_length=max_review_length))\n",
        "    RNNmodel.add(LSTM(100, return_sequences=True,\n",
        "                  input_shape=(timesteps, 100)))  # returns a sequence of vectors of dimension 32\n",
        "    RNNmodel.add(LSTM(100))  # return a single vector of dimension 32\n",
        "    RNNmodel.add(Dropout(0.2))\n",
        "    RNNmodel.add(Dense(13, activation='sigmoid', kernel_regularizer=regularizers.l2(0.01)))\n",
        "\n",
        "    RNNmodel.compile(loss='categorical_crossentropy', optimizer='adam', metrics=['accuracy'])\n",
        "    RNNmodel.fit(RNN_kfoldx[train],RNN_kfoldy[train], validation_data=(RNN_kfoldx[valid],RNN_kfoldy[valid]),epochs=30, batch_size=64,callbacks=callbacks)"
      ],
      "execution_count": 88,
      "outputs": [
        {
          "output_type": "stream",
          "text": [
            "Train on 8000 samples, validate on 2000 samples\n",
            "Epoch 1/30\n",
            "4992/8000 [=================>............] - ETA: 7s - loss: 2.3788 - accuracy: 0.3604"
          ],
          "name": "stdout"
        },
        {
          "output_type": "error",
          "ename": "KeyboardInterrupt",
          "evalue": "ignored",
          "traceback": [
            "\u001b[0;31m---------------------------------------------------------------------------\u001b[0m",
            "\u001b[0;31mKeyboardInterrupt\u001b[0m                         Traceback (most recent call last)",
            "\u001b[0;32m<ipython-input-88-6d246d6079ab>\u001b[0m in \u001b[0;36m<module>\u001b[0;34m()\u001b[0m\n\u001b[1;32m     11\u001b[0m \u001b[0;34m\u001b[0m\u001b[0m\n\u001b[1;32m     12\u001b[0m     \u001b[0mRNNmodel\u001b[0m\u001b[0;34m.\u001b[0m\u001b[0mcompile\u001b[0m\u001b[0;34m(\u001b[0m\u001b[0mloss\u001b[0m\u001b[0;34m=\u001b[0m\u001b[0;34m'categorical_crossentropy'\u001b[0m\u001b[0;34m,\u001b[0m \u001b[0moptimizer\u001b[0m\u001b[0;34m=\u001b[0m\u001b[0;34m'adam'\u001b[0m\u001b[0;34m,\u001b[0m \u001b[0mmetrics\u001b[0m\u001b[0;34m=\u001b[0m\u001b[0;34m[\u001b[0m\u001b[0;34m'accuracy'\u001b[0m\u001b[0;34m]\u001b[0m\u001b[0;34m)\u001b[0m\u001b[0;34m\u001b[0m\u001b[0;34m\u001b[0m\u001b[0m\n\u001b[0;32m---> 13\u001b[0;31m     \u001b[0mRNNmodel\u001b[0m\u001b[0;34m.\u001b[0m\u001b[0mfit\u001b[0m\u001b[0;34m(\u001b[0m\u001b[0mRNN_kfoldx\u001b[0m\u001b[0;34m[\u001b[0m\u001b[0mtrain\u001b[0m\u001b[0;34m]\u001b[0m\u001b[0;34m,\u001b[0m\u001b[0mRNN_kfoldy\u001b[0m\u001b[0;34m[\u001b[0m\u001b[0mtrain\u001b[0m\u001b[0;34m]\u001b[0m\u001b[0;34m,\u001b[0m \u001b[0mvalidation_data\u001b[0m\u001b[0;34m=\u001b[0m\u001b[0;34m(\u001b[0m\u001b[0mRNN_kfoldx\u001b[0m\u001b[0;34m[\u001b[0m\u001b[0mvalid\u001b[0m\u001b[0;34m]\u001b[0m\u001b[0;34m,\u001b[0m\u001b[0mRNN_kfoldy\u001b[0m\u001b[0;34m[\u001b[0m\u001b[0mvalid\u001b[0m\u001b[0;34m]\u001b[0m\u001b[0;34m)\u001b[0m\u001b[0;34m,\u001b[0m\u001b[0mepochs\u001b[0m\u001b[0;34m=\u001b[0m\u001b[0;36m30\u001b[0m\u001b[0;34m,\u001b[0m \u001b[0mbatch_size\u001b[0m\u001b[0;34m=\u001b[0m\u001b[0;36m64\u001b[0m\u001b[0;34m,\u001b[0m\u001b[0mcallbacks\u001b[0m\u001b[0;34m=\u001b[0m\u001b[0mcallbacks\u001b[0m\u001b[0;34m)\u001b[0m\u001b[0;34m\u001b[0m\u001b[0;34m\u001b[0m\u001b[0m\n\u001b[0m",
            "\u001b[0;32m/usr/local/lib/python3.6/dist-packages/keras/engine/training.py\u001b[0m in \u001b[0;36mfit\u001b[0;34m(self, x, y, batch_size, epochs, verbose, callbacks, validation_split, validation_data, shuffle, class_weight, sample_weight, initial_epoch, steps_per_epoch, validation_steps, validation_freq, max_queue_size, workers, use_multiprocessing, **kwargs)\u001b[0m\n\u001b[1;32m   1237\u001b[0m                                         \u001b[0msteps_per_epoch\u001b[0m\u001b[0;34m=\u001b[0m\u001b[0msteps_per_epoch\u001b[0m\u001b[0;34m,\u001b[0m\u001b[0;34m\u001b[0m\u001b[0;34m\u001b[0m\u001b[0m\n\u001b[1;32m   1238\u001b[0m                                         \u001b[0mvalidation_steps\u001b[0m\u001b[0;34m=\u001b[0m\u001b[0mvalidation_steps\u001b[0m\u001b[0;34m,\u001b[0m\u001b[0;34m\u001b[0m\u001b[0;34m\u001b[0m\u001b[0m\n\u001b[0;32m-> 1239\u001b[0;31m                                         validation_freq=validation_freq)\n\u001b[0m\u001b[1;32m   1240\u001b[0m \u001b[0;34m\u001b[0m\u001b[0m\n\u001b[1;32m   1241\u001b[0m     def evaluate(self,\n",
            "\u001b[0;32m/usr/local/lib/python3.6/dist-packages/keras/engine/training_arrays.py\u001b[0m in \u001b[0;36mfit_loop\u001b[0;34m(model, fit_function, fit_inputs, out_labels, batch_size, epochs, verbose, callbacks, val_function, val_inputs, shuffle, initial_epoch, steps_per_epoch, validation_steps, validation_freq)\u001b[0m\n\u001b[1;32m    194\u001b[0m                     \u001b[0mins_batch\u001b[0m\u001b[0;34m[\u001b[0m\u001b[0mi\u001b[0m\u001b[0;34m]\u001b[0m \u001b[0;34m=\u001b[0m \u001b[0mins_batch\u001b[0m\u001b[0;34m[\u001b[0m\u001b[0mi\u001b[0m\u001b[0;34m]\u001b[0m\u001b[0;34m.\u001b[0m\u001b[0mtoarray\u001b[0m\u001b[0;34m(\u001b[0m\u001b[0;34m)\u001b[0m\u001b[0;34m\u001b[0m\u001b[0;34m\u001b[0m\u001b[0m\n\u001b[1;32m    195\u001b[0m \u001b[0;34m\u001b[0m\u001b[0m\n\u001b[0;32m--> 196\u001b[0;31m                 \u001b[0mouts\u001b[0m \u001b[0;34m=\u001b[0m \u001b[0mfit_function\u001b[0m\u001b[0;34m(\u001b[0m\u001b[0mins_batch\u001b[0m\u001b[0;34m)\u001b[0m\u001b[0;34m\u001b[0m\u001b[0;34m\u001b[0m\u001b[0m\n\u001b[0m\u001b[1;32m    197\u001b[0m                 \u001b[0mouts\u001b[0m \u001b[0;34m=\u001b[0m \u001b[0mto_list\u001b[0m\u001b[0;34m(\u001b[0m\u001b[0mouts\u001b[0m\u001b[0;34m)\u001b[0m\u001b[0;34m\u001b[0m\u001b[0;34m\u001b[0m\u001b[0m\n\u001b[1;32m    198\u001b[0m                 \u001b[0;32mfor\u001b[0m \u001b[0ml\u001b[0m\u001b[0;34m,\u001b[0m \u001b[0mo\u001b[0m \u001b[0;32min\u001b[0m \u001b[0mzip\u001b[0m\u001b[0;34m(\u001b[0m\u001b[0mout_labels\u001b[0m\u001b[0;34m,\u001b[0m \u001b[0mouts\u001b[0m\u001b[0;34m)\u001b[0m\u001b[0;34m:\u001b[0m\u001b[0;34m\u001b[0m\u001b[0;34m\u001b[0m\u001b[0m\n",
            "\u001b[0;32m/usr/local/lib/python3.6/dist-packages/tensorflow_core/python/keras/backend.py\u001b[0m in \u001b[0;36m__call__\u001b[0;34m(self, inputs)\u001b[0m\n\u001b[1;32m   3474\u001b[0m \u001b[0;34m\u001b[0m\u001b[0m\n\u001b[1;32m   3475\u001b[0m     fetched = self._callable_fn(*array_vals,\n\u001b[0;32m-> 3476\u001b[0;31m                                 run_metadata=self.run_metadata)\n\u001b[0m\u001b[1;32m   3477\u001b[0m     \u001b[0mself\u001b[0m\u001b[0;34m.\u001b[0m\u001b[0m_call_fetch_callbacks\u001b[0m\u001b[0;34m(\u001b[0m\u001b[0mfetched\u001b[0m\u001b[0;34m[\u001b[0m\u001b[0;34m-\u001b[0m\u001b[0mlen\u001b[0m\u001b[0;34m(\u001b[0m\u001b[0mself\u001b[0m\u001b[0;34m.\u001b[0m\u001b[0m_fetches\u001b[0m\u001b[0;34m)\u001b[0m\u001b[0;34m:\u001b[0m\u001b[0;34m]\u001b[0m\u001b[0;34m)\u001b[0m\u001b[0;34m\u001b[0m\u001b[0;34m\u001b[0m\u001b[0m\n\u001b[1;32m   3478\u001b[0m     output_structure = nest.pack_sequence_as(\n",
            "\u001b[0;32m/usr/local/lib/python3.6/dist-packages/tensorflow_core/python/client/session.py\u001b[0m in \u001b[0;36m__call__\u001b[0;34m(self, *args, **kwargs)\u001b[0m\n\u001b[1;32m   1470\u001b[0m         ret = tf_session.TF_SessionRunCallable(self._session._session,\n\u001b[1;32m   1471\u001b[0m                                                \u001b[0mself\u001b[0m\u001b[0;34m.\u001b[0m\u001b[0m_handle\u001b[0m\u001b[0;34m,\u001b[0m \u001b[0margs\u001b[0m\u001b[0;34m,\u001b[0m\u001b[0;34m\u001b[0m\u001b[0;34m\u001b[0m\u001b[0m\n\u001b[0;32m-> 1472\u001b[0;31m                                                run_metadata_ptr)\n\u001b[0m\u001b[1;32m   1473\u001b[0m         \u001b[0;32mif\u001b[0m \u001b[0mrun_metadata\u001b[0m\u001b[0;34m:\u001b[0m\u001b[0;34m\u001b[0m\u001b[0;34m\u001b[0m\u001b[0m\n\u001b[1;32m   1474\u001b[0m           \u001b[0mproto_data\u001b[0m \u001b[0;34m=\u001b[0m \u001b[0mtf_session\u001b[0m\u001b[0;34m.\u001b[0m\u001b[0mTF_GetBuffer\u001b[0m\u001b[0;34m(\u001b[0m\u001b[0mrun_metadata_ptr\u001b[0m\u001b[0;34m)\u001b[0m\u001b[0;34m\u001b[0m\u001b[0;34m\u001b[0m\u001b[0m\n",
            "\u001b[0;31mKeyboardInterrupt\u001b[0m: "
          ]
        }
      ]
    },
    {
      "cell_type": "code",
      "metadata": {
        "id": "2dxd0_4Judth",
        "colab_type": "code",
        "colab": {}
      },
      "source": [
        "RNNmodel.load_weight('/content/drive/My Drive/models/RNN.h5')"
      ],
      "execution_count": null,
      "outputs": []
    },
    {
      "cell_type": "code",
      "metadata": {
        "id": "O8-5W7XTuaVW",
        "colab_type": "code",
        "colab": {
          "base_uri": "https://localhost:8080/",
          "height": 332
        },
        "outputId": "52bd019d-0efa-4c76-d221-4a03838ffffd"
      },
      "source": [
        "hist=RNNmodel.fit(RNNx_train, RNNy_train, validation_data=(RNNx_test, RNNy_test), epochs=300, batch_size=64,callbacks=callbacks)"
      ],
      "execution_count": 86,
      "outputs": [
        {
          "output_type": "error",
          "ename": "TypeError",
          "evalue": "ignored",
          "traceback": [
            "\u001b[0;31m---------------------------------------------------------------------------\u001b[0m",
            "\u001b[0;31mTypeError\u001b[0m                                 Traceback (most recent call last)",
            "\u001b[0;32m<ipython-input-86-4910f724ec70>\u001b[0m in \u001b[0;36m<module>\u001b[0;34m()\u001b[0m\n\u001b[0;32m----> 1\u001b[0;31m \u001b[0mhist\u001b[0m\u001b[0;34m=\u001b[0m\u001b[0mRNNmodel\u001b[0m\u001b[0;34m.\u001b[0m\u001b[0mfit\u001b[0m\u001b[0;34m(\u001b[0m\u001b[0mRNNx_train\u001b[0m\u001b[0;34m,\u001b[0m \u001b[0mRNNy_train\u001b[0m\u001b[0;34m,\u001b[0m \u001b[0mvalidation_data\u001b[0m\u001b[0;34m=\u001b[0m\u001b[0;34m(\u001b[0m\u001b[0mRNNx_test\u001b[0m\u001b[0;34m,\u001b[0m \u001b[0mRNNy_test\u001b[0m\u001b[0;34m)\u001b[0m\u001b[0;34m,\u001b[0m \u001b[0mepochs\u001b[0m\u001b[0;34m=\u001b[0m\u001b[0;36m300\u001b[0m\u001b[0;34m,\u001b[0m \u001b[0mbatch_size\u001b[0m\u001b[0;34m=\u001b[0m\u001b[0;36m64\u001b[0m\u001b[0;34m,\u001b[0m\u001b[0mcallbacks\u001b[0m\u001b[0;34m=\u001b[0m\u001b[0mcallbacks\u001b[0m\u001b[0;34m)\u001b[0m\u001b[0;34m\u001b[0m\u001b[0;34m\u001b[0m\u001b[0m\n\u001b[0m",
            "\u001b[0;32m/usr/local/lib/python3.6/dist-packages/keras/wrappers/scikit_learn.py\u001b[0m in \u001b[0;36mfit\u001b[0;34m(self, x, y, sample_weight, **kwargs)\u001b[0m\n\u001b[1;32m    207\u001b[0m         \u001b[0;32mif\u001b[0m \u001b[0msample_weight\u001b[0m \u001b[0;32mis\u001b[0m \u001b[0;32mnot\u001b[0m \u001b[0;32mNone\u001b[0m\u001b[0;34m:\u001b[0m\u001b[0;34m\u001b[0m\u001b[0;34m\u001b[0m\u001b[0m\n\u001b[1;32m    208\u001b[0m             \u001b[0mkwargs\u001b[0m\u001b[0;34m[\u001b[0m\u001b[0;34m'sample_weight'\u001b[0m\u001b[0;34m]\u001b[0m \u001b[0;34m=\u001b[0m \u001b[0msample_weight\u001b[0m\u001b[0;34m\u001b[0m\u001b[0;34m\u001b[0m\u001b[0m\n\u001b[0;32m--> 209\u001b[0;31m         \u001b[0;32mreturn\u001b[0m \u001b[0msuper\u001b[0m\u001b[0;34m(\u001b[0m\u001b[0mKerasClassifier\u001b[0m\u001b[0;34m,\u001b[0m \u001b[0mself\u001b[0m\u001b[0;34m)\u001b[0m\u001b[0;34m.\u001b[0m\u001b[0mfit\u001b[0m\u001b[0;34m(\u001b[0m\u001b[0mx\u001b[0m\u001b[0;34m,\u001b[0m \u001b[0my\u001b[0m\u001b[0;34m,\u001b[0m \u001b[0;34m**\u001b[0m\u001b[0mkwargs\u001b[0m\u001b[0;34m)\u001b[0m\u001b[0;34m\u001b[0m\u001b[0;34m\u001b[0m\u001b[0m\n\u001b[0m\u001b[1;32m    210\u001b[0m \u001b[0;34m\u001b[0m\u001b[0m\n\u001b[1;32m    211\u001b[0m     \u001b[0;32mdef\u001b[0m \u001b[0mpredict\u001b[0m\u001b[0;34m(\u001b[0m\u001b[0mself\u001b[0m\u001b[0;34m,\u001b[0m \u001b[0mx\u001b[0m\u001b[0;34m,\u001b[0m \u001b[0;34m**\u001b[0m\u001b[0mkwargs\u001b[0m\u001b[0;34m)\u001b[0m\u001b[0;34m:\u001b[0m\u001b[0;34m\u001b[0m\u001b[0;34m\u001b[0m\u001b[0m\n",
            "\u001b[0;32m/usr/local/lib/python3.6/dist-packages/keras/wrappers/scikit_learn.py\u001b[0m in \u001b[0;36mfit\u001b[0;34m(self, x, y, **kwargs)\u001b[0m\n\u001b[1;32m    138\u001b[0m               not isinstance(self.build_fn, types.MethodType)):\n\u001b[1;32m    139\u001b[0m             self.model = self.build_fn(\n\u001b[0;32m--> 140\u001b[0;31m                 **self.filter_sk_params(self.build_fn.__call__))\n\u001b[0m\u001b[1;32m    141\u001b[0m         \u001b[0;32melse\u001b[0m\u001b[0;34m:\u001b[0m\u001b[0;34m\u001b[0m\u001b[0;34m\u001b[0m\u001b[0m\n\u001b[1;32m    142\u001b[0m             \u001b[0mself\u001b[0m\u001b[0;34m.\u001b[0m\u001b[0mmodel\u001b[0m \u001b[0;34m=\u001b[0m \u001b[0mself\u001b[0m\u001b[0;34m.\u001b[0m\u001b[0mbuild_fn\u001b[0m\u001b[0;34m(\u001b[0m\u001b[0;34m**\u001b[0m\u001b[0mself\u001b[0m\u001b[0;34m.\u001b[0m\u001b[0mfilter_sk_params\u001b[0m\u001b[0;34m(\u001b[0m\u001b[0mself\u001b[0m\u001b[0;34m.\u001b[0m\u001b[0mbuild_fn\u001b[0m\u001b[0;34m)\u001b[0m\u001b[0;34m)\u001b[0m\u001b[0;34m\u001b[0m\u001b[0;34m\u001b[0m\u001b[0m\n",
            "\u001b[0;31mTypeError\u001b[0m: __call__() missing 1 required positional argument: 'inputs'"
          ]
        }
      ]
    },
    {
      "cell_type": "code",
      "metadata": {
        "id": "OuOfuuWDZuW4",
        "colab_type": "code",
        "colab": {
          "base_uri": "https://localhost:8080/",
          "height": 279
        },
        "outputId": "900031cb-6a5a-4e1d-8ed6-307372a30bf1"
      },
      "source": [
        "%matplotlib inline\n",
        "import matplotlib.pyplot as plt\n",
        "\n",
        "fig, loss_ax = plt.subplots()\n",
        "\n",
        "acc_ax = loss_ax.twinx()\n",
        "\n",
        "loss_ax.plot(hist.history['loss'], 'y', label='train loss')\n",
        "loss_ax.plot(hist.history['val_loss'], 'r', label='val loss')\n",
        "\n",
        "acc_ax.plot(hist.history['accuracy'], 'b', label='train acc')\n",
        "acc_ax.plot(hist.history['val_accuracy'], 'g', label='val acc')\n",
        "\n",
        "loss_ax.set_xlabel('epoch')\n",
        "loss_ax.set_ylabel('loss')\n",
        "acc_ax.set_ylabel('accuracy')\n",
        "\n",
        "loss_ax.legend(loc='upper left')\n",
        "acc_ax.legend(loc='lower left')\n",
        "\n",
        "plt.show()"
      ],
      "execution_count": null,
      "outputs": [
        {
          "output_type": "display_data",
          "data": {
            "image/png": "[encoded data removed]",
            "text/plain": [
              "<Figure size 432x288 with 2 Axes>"
            ]
          },
          "metadata": {
            "tags": [],
            "needs_background": "light"
          }
        }
      ]
    },
    {
      "cell_type": "code",
      "metadata": {
        "id": "upW2vW-k91lu",
        "colab_type": "code",
        "colab": {
          "base_uri": "https://localhost:8080/",
          "height": 34
        },
        "outputId": "a749a6b6-fa9a-4675-9f00-235e605ca2e6"
      },
      "source": [
        "scores = model.evaluate(RNNx_test, RNNy_test, verbose=0)\n",
        "print(\"Accuracy: %.2f%%\" % (scores[1]*100))"
      ],
      "execution_count": null,
      "outputs": [
        {
          "output_type": "stream",
          "text": [
            "Accuracy: 27.69%\n"
          ],
          "name": "stdout"
        }
      ]
    },
    {
      "cell_type": "code",
      "metadata": {
        "id": "H0nHEDZOYxdL",
        "colab_type": "code",
        "colab": {
          "base_uri": "https://localhost:8080/",
          "height": 139
        },
        "outputId": "936f810e-9337-4b9d-8f13-1c5ade3f21e8"
      },
      "source": [
        "print(model.predict(RNNx_test))"
      ],
      "execution_count": null,
      "outputs": [
        {
          "output_type": "stream",
          "text": [
            "[[0.00058642 0.00063235 0.00212106 ... 0.00035581 0.00314277 0.00107208]\n",
            " [0.00200537 0.00039899 0.01504618 ... 0.0016143  0.00947371 0.0021562 ]\n",
            " [0.00043494 0.00076485 0.00288963 ... 0.00060204 0.00506374 0.00097767]\n",
            " ...\n",
            " [0.00398669 0.00089505 0.00564978 ... 0.00082496 0.00648937 0.00188497]\n",
            " [0.00046164 0.00052354 0.00999689 ... 0.00185463 0.00193721 0.00123206]\n",
            " [0.00154445 0.0010455  0.00651681 ... 0.00544364 0.00606789 0.00185878]]\n"
          ],
          "name": "stdout"
        }
      ]
    }
  ]
}