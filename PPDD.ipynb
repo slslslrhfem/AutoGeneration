{
  "nbformat": 4,
  "nbformat_minor": 0,
  "metadata": {
    "colab": {
      "name": "PPDD.ipynb",
      "provenance": [],
      "collapsed_sections": [],
      "machine_shape": "hm",
      "mount_file_id": "1vCXwudXUZpUmzLdlfBoJ0LU7XlCbKpgG",
      "authorship_tag": "ABX9TyNqTUvOn6CZL/tzlopIHPlC",
      "include_colab_link": true
    },
    "kernelspec": {
      "name": "python3",
      "display_name": "Python 3"
    },
    "accelerator": "GPU"
  },
  "cells": [
    {
      "cell_type": "markdown",
      "metadata": {
        "id": "view-in-github",
        "colab_type": "text"
      },
      "source": [
        "<a href=\"https://colab.research.google.com/github/slslslrhfem/FLAGNet/blob/master/PPDD.ipynb\" target=\"_parent\"><img src=\"https://colab.research.google.com/assets/colab-badge.svg\" alt=\"Open In Colab\"/></a>"
      ]
    },
    {
      "cell_type": "code",
      "metadata": {
        "id": "MxEabHuzyjFE",
        "outputId": "08b24476-3add-4791-cd35-02bba2df9962",
        "colab": {
          "base_uri": "https://localhost:8080/",
          "height": 34
        }
      },
      "source": [
        "pip install mido"
      ],
      "execution_count": 13,
      "outputs": [
        {
          "output_type": "stream",
          "text": [
            "Requirement already satisfied: mido in /usr/local/lib/python3.6/dist-packages (1.2.9)\n"
          ],
          "name": "stdout"
        }
      ]
    },
    {
      "cell_type": "code",
      "metadata": {
        "id": "bJ3x-FF_4XGK",
        "outputId": "bd3be253-c5bd-4334-92d1-de2aa60d15d4",
        "colab": {
          "base_uri": "https://localhost:8080/",
          "height": 86
        }
      },
      "source": [
        "pip install pretty_midi"
      ],
      "execution_count": 14,
      "outputs": [
        {
          "output_type": "stream",
          "text": [
            "Requirement already satisfied: pretty_midi in /usr/local/lib/python3.6/dist-packages (0.2.9)\n",
            "Requirement already satisfied: six in /usr/local/lib/python3.6/dist-packages (from pretty_midi) (1.15.0)\n",
            "Requirement already satisfied: mido>=1.1.16 in /usr/local/lib/python3.6/dist-packages (from pretty_midi) (1.2.9)\n",
            "Requirement already satisfied: numpy>=1.7.0 in /usr/local/lib/python3.6/dist-packages (from pretty_midi) (1.18.5)\n"
          ],
          "name": "stdout"
        }
      ]
    },
    {
      "cell_type": "code",
      "metadata": {
        "id": "5kljETrpXyFX",
        "outputId": "db7acead-9fff-47ae-e650-6ff9eb15ca03",
        "colab": {
          "base_uri": "https://localhost:8080/",
          "height": 438
        }
      },
      "source": [
        "pip install tensorflow==1.15.0"
      ],
      "execution_count": 15,
      "outputs": [
        {
          "output_type": "stream",
          "text": [
            "Requirement already satisfied: tensorflow==1.15.0 in /usr/local/lib/python3.6/dist-packages (1.15.0)\n",
            "Requirement already satisfied: termcolor>=1.1.0 in /usr/local/lib/python3.6/dist-packages (from tensorflow==1.15.0) (1.1.0)\n",
            "Requirement already satisfied: wheel>=0.26 in /usr/local/lib/python3.6/dist-packages (from tensorflow==1.15.0) (0.35.1)\n",
            "Requirement already satisfied: protobuf>=3.6.1 in /usr/local/lib/python3.6/dist-packages (from tensorflow==1.15.0) (3.12.4)\n",
            "Requirement already satisfied: six>=1.10.0 in /usr/local/lib/python3.6/dist-packages (from tensorflow==1.15.0) (1.15.0)\n",
            "Requirement already satisfied: wrapt>=1.11.1 in /usr/local/lib/python3.6/dist-packages (from tensorflow==1.15.0) (1.12.1)\n",
            "Requirement already satisfied: tensorflow-estimator==1.15.1 in /usr/local/lib/python3.6/dist-packages (from tensorflow==1.15.0) (1.15.1)\n",
            "Requirement already satisfied: grpcio>=1.8.6 in /usr/local/lib/python3.6/dist-packages (from tensorflow==1.15.0) (1.32.0)\n",
            "Requirement already satisfied: google-pasta>=0.1.6 in /usr/local/lib/python3.6/dist-packages (from tensorflow==1.15.0) (0.2.0)\n",
            "Requirement already satisfied: keras-preprocessing>=1.0.5 in /usr/local/lib/python3.6/dist-packages (from tensorflow==1.15.0) (1.1.2)\n",
            "Requirement already satisfied: numpy<2.0,>=1.16.0 in /usr/local/lib/python3.6/dist-packages (from tensorflow==1.15.0) (1.18.5)\n",
            "Requirement already satisfied: tensorboard<1.16.0,>=1.15.0 in /usr/local/lib/python3.6/dist-packages (from tensorflow==1.15.0) (1.15.0)\n",
            "Requirement already satisfied: opt-einsum>=2.3.2 in /usr/local/lib/python3.6/dist-packages (from tensorflow==1.15.0) (3.3.0)\n",
            "Requirement already satisfied: keras-applications>=1.0.8 in /usr/local/lib/python3.6/dist-packages (from tensorflow==1.15.0) (1.0.8)\n",
            "Requirement already satisfied: astor>=0.6.0 in /usr/local/lib/python3.6/dist-packages (from tensorflow==1.15.0) (0.8.1)\n",
            "Requirement already satisfied: absl-py>=0.7.0 in /usr/local/lib/python3.6/dist-packages (from tensorflow==1.15.0) (0.10.0)\n",
            "Requirement already satisfied: gast==0.2.2 in /usr/local/lib/python3.6/dist-packages (from tensorflow==1.15.0) (0.2.2)\n",
            "Requirement already satisfied: setuptools in /usr/local/lib/python3.6/dist-packages (from protobuf>=3.6.1->tensorflow==1.15.0) (50.3.0)\n",
            "Requirement already satisfied: markdown>=2.6.8 in /usr/local/lib/python3.6/dist-packages (from tensorboard<1.16.0,>=1.15.0->tensorflow==1.15.0) (3.2.2)\n",
            "Requirement already satisfied: werkzeug>=0.11.15 in /usr/local/lib/python3.6/dist-packages (from tensorboard<1.16.0,>=1.15.0->tensorflow==1.15.0) (1.0.1)\n",
            "Requirement already satisfied: h5py in /usr/local/lib/python3.6/dist-packages (from keras-applications>=1.0.8->tensorflow==1.15.0) (2.10.0)\n",
            "Requirement already satisfied: importlib-metadata; python_version < \"3.8\" in /usr/local/lib/python3.6/dist-packages (from markdown>=2.6.8->tensorboard<1.16.0,>=1.15.0->tensorflow==1.15.0) (2.0.0)\n",
            "Requirement already satisfied: zipp>=0.5 in /usr/local/lib/python3.6/dist-packages (from importlib-metadata; python_version < \"3.8\"->markdown>=2.6.8->tensorboard<1.16.0,>=1.15.0->tensorflow==1.15.0) (3.2.0)\n"
          ],
          "name": "stdout"
        }
      ]
    },
    {
      "cell_type": "code",
      "metadata": {
        "id": "YP5JOsojTLIE",
        "outputId": "a7992a4e-8ce9-4671-b291-991b0271e175",
        "colab": {
          "base_uri": "https://localhost:8080/",
          "height": 156
        }
      },
      "source": [
        "pip install keras==2.3.1"
      ],
      "execution_count": 16,
      "outputs": [
        {
          "output_type": "stream",
          "text": [
            "Requirement already satisfied: keras==2.3.1 in /usr/local/lib/python3.6/dist-packages (2.3.1)\n",
            "Requirement already satisfied: six>=1.9.0 in /usr/local/lib/python3.6/dist-packages (from keras==2.3.1) (1.15.0)\n",
            "Requirement already satisfied: scipy>=0.14 in /usr/local/lib/python3.6/dist-packages (from keras==2.3.1) (1.4.1)\n",
            "Requirement already satisfied: pyyaml in /usr/local/lib/python3.6/dist-packages (from keras==2.3.1) (3.13)\n",
            "Requirement already satisfied: h5py in /usr/local/lib/python3.6/dist-packages (from keras==2.3.1) (2.10.0)\n",
            "Requirement already satisfied: keras-applications>=1.0.6 in /usr/local/lib/python3.6/dist-packages (from keras==2.3.1) (1.0.8)\n",
            "Requirement already satisfied: numpy>=1.9.1 in /usr/local/lib/python3.6/dist-packages (from keras==2.3.1) (1.18.5)\n",
            "Requirement already satisfied: keras-preprocessing>=1.0.5 in /usr/local/lib/python3.6/dist-packages (from keras==2.3.1) (1.1.2)\n"
          ],
          "name": "stdout"
        }
      ]
    },
    {
      "cell_type": "code",
      "metadata": {
        "id": "upkZgrqruxem"
      },
      "source": [
        "import keras\n",
        "import os\n",
        "import json\n",
        "import pandas\n",
        "import tensorflow as tf\n",
        "import numpy as np\n",
        "from keras.layers import Dense\n",
        "from keras import layers\n",
        "from keras import optimizers\n",
        "from keras.models import Sequential\n",
        "import pickle\n",
        "import pretty_midi\n",
        "import mido\n",
        "from tqdm import tqdm\n",
        "import copy\n"
      ],
      "execution_count": 17,
      "outputs": []
    },
    {
      "cell_type": "code",
      "metadata": {
        "id": "KOjmQZTO0TtC"
      },
      "source": [
        "def get_meta(filename):\n",
        "  with open('/content/drive/My Drive/FLAGNet/PPDD-Sep2018_sym_mono_large/PPDD-Sep2018_sym_mono_large/descriptor/'+filename) as json_file:\n",
        "    meta_data = json.load(json_file)\n",
        "  return meta_data"
      ],
      "execution_count": 18,
      "outputs": []
    },
    {
      "cell_type": "code",
      "metadata": {
        "id": "JdprhNM2Y2qy",
        "outputId": "c6229b3a-97b0-4c93-b5c7-f8020a333835",
        "colab": {
          "base_uri": "https://localhost:8080/",
          "height": 238
        }
      },
      "source": [
        "#there is maybe I/O issue in colab. Then you can choose two methods,,\n",
        "#1. just run until error disappears\n",
        "#2. get list with pickle library. the code is commented in 2 next blocks.\n",
        "csvfilenames=os.listdir('/content/drive/My Drive/FLAGNet/PPDD-Sep2018_sym_mono_large/PPDD-Sep2018_sym_mono_large/prime_csv')\n",
        "jsonfilenames=os.listdir('/content/drive/My Drive/FLAGNet/PPDD-Sep2018_sym_mono_large/PPDD-Sep2018_sym_mono_large/descriptor')\n",
        "midifilenames=os.listdir('/content/drive/My Drive/FLAGNet/PPDD-Sep2018_sym_mono_large/PPDD-Sep2018_sym_mono_large/prime_midi')\n",
        "midifilenames=sorted(midifilenames)\n",
        "csvfilenames=sorted(csvfilenames)\n",
        "jsonfilenames=sorted(jsonfilenames)\n",
        "midilist=[]\n",
        "csvlist=[]\n",
        "jsonlist=[]\n",
        "prettymidilist=[]\n",
        "for filenames in tqdm(midifilenames,position=0):\n",
        "  midi_path='/content/drive/My Drive/MARG/PPDD-Sep2018_sym_mono_large/PPDD-Sep2018_sym_mono_large/prime_midi/'+filenames\n",
        "  mid = mido.MidiFile(midi_path, clip=True)\n",
        "  midilist.append(mid)\n",
        "  prettymid=pretty_midi.PrettyMIDI(midi_path)\n",
        "  prettymidilist.append(prettymid)\n",
        "\n",
        "for filenames in tqdm(csvfilenames,position=0):\n",
        "  csv_path='/content/drive/My Drive/MARG/PPDD-Sep2018_sym_mono_large/PPDD-Sep2018_sym_mono_large/prime_csv/'+filenames\n",
        "  csv = pandas.read_csv(csv_path)\n",
        "  csvlist.append(csv)\n",
        "for filenames in tqdm(jsonfilenames,position=0):\n",
        "  jsonlist.append(get_meta(filenames))"
      ],
      "execution_count": 19,
      "outputs": [
        {
          "output_type": "error",
          "ename": "FileNotFoundError",
          "evalue": "ignored",
          "traceback": [
            "\u001b[0;31m---------------------------------------------------------------------------\u001b[0m",
            "\u001b[0;31mFileNotFoundError\u001b[0m                         Traceback (most recent call last)",
            "\u001b[0;32m<ipython-input-19-26fcc795668f>\u001b[0m in \u001b[0;36m<module>\u001b[0;34m()\u001b[0m\n\u001b[1;32m      2\u001b[0m \u001b[0;31m#1. just run until error disappears\u001b[0m\u001b[0;34m\u001b[0m\u001b[0;34m\u001b[0m\u001b[0;34m\u001b[0m\u001b[0m\n\u001b[1;32m      3\u001b[0m \u001b[0;31m#2. get list with pickle library. the code is commented in 2 next blocks.\u001b[0m\u001b[0;34m\u001b[0m\u001b[0;34m\u001b[0m\u001b[0;34m\u001b[0m\u001b[0m\n\u001b[0;32m----> 4\u001b[0;31m \u001b[0mcsvfilenames\u001b[0m\u001b[0;34m=\u001b[0m\u001b[0mos\u001b[0m\u001b[0;34m.\u001b[0m\u001b[0mlistdir\u001b[0m\u001b[0;34m(\u001b[0m\u001b[0;34m'/content/drive/My Drive/FLAGNet/PPDD-Sep2018_sym_mono_large/PPDD-Sep2018_sym_mono_large/prime_csv'\u001b[0m\u001b[0;34m)\u001b[0m\u001b[0;34m\u001b[0m\u001b[0;34m\u001b[0m\u001b[0m\n\u001b[0m\u001b[1;32m      5\u001b[0m \u001b[0mjsonfilenames\u001b[0m\u001b[0;34m=\u001b[0m\u001b[0mos\u001b[0m\u001b[0;34m.\u001b[0m\u001b[0mlistdir\u001b[0m\u001b[0;34m(\u001b[0m\u001b[0;34m'/content/drive/My Drive/FLAGNet/PPDD-Sep2018_sym_mono_large/PPDD-Sep2018_sym_mono_large/descriptor'\u001b[0m\u001b[0;34m)\u001b[0m\u001b[0;34m\u001b[0m\u001b[0;34m\u001b[0m\u001b[0m\n\u001b[1;32m      6\u001b[0m \u001b[0mmidifilenames\u001b[0m\u001b[0;34m=\u001b[0m\u001b[0mos\u001b[0m\u001b[0;34m.\u001b[0m\u001b[0mlistdir\u001b[0m\u001b[0;34m(\u001b[0m\u001b[0;34m'/content/drive/My Drive/FLAGNet/PPDD-Sep2018_sym_mono_large/PPDD-Sep2018_sym_mono_large/prime_midi'\u001b[0m\u001b[0;34m)\u001b[0m\u001b[0;34m\u001b[0m\u001b[0;34m\u001b[0m\u001b[0m\n",
            "\u001b[0;31mFileNotFoundError\u001b[0m: [Errno 2] No such file or directory: '/content/drive/My Drive/FLAGNet/PPDD-Sep2018_sym_mono_large/PPDD-Sep2018_sym_mono_large/prime_csv'"
          ]
        }
      ]
    },
    {
      "cell_type": "code",
      "metadata": {
        "id": "_3MgFpCKj6h0"
      },
      "source": [
        "\"\"\"\n",
        "code for applying your own data.\n",
        "midifilenames=os.listdir('YOUR MIDI FOLDER')\n",
        "midifilenames=sorted(midifilenames)\n",
        "midilist=[]\n",
        "jsonlist=[]\n",
        "prettymidilist=[]\n",
        "for filenames in tqdm(midifilenames,position=0):\n",
        "  midi_path='YOUR MIDI FOLDER/'+filenames\n",
        "  mid = mido.MidiFile(midi_path, clip=True)\n",
        "  midilist.append(mid)\n",
        "  prettymid=pretty_midi.PrettyMIDI(midi_path)\n",
        "  prettymidilist.append(prettymid)\n",
        "\"\"\""
      ],
      "execution_count": null,
      "outputs": []
    },
    {
      "cell_type": "code",
      "metadata": {
        "id": "QoAxt13seNi-"
      },
      "source": [
        "\"\"\"\n",
        "#get list with pickle library.\n",
        "with open('/content/drive/My Drive/FLAGNet/PPDDlist/midilist.txt', 'rb') as f:\n",
        "  midilist=pickle.load(f)\n",
        "with open('/content/drive/My Drive/FLAGNet/PPDDlist/csvlist.txt', 'rb') as f2:\n",
        "  csvlist=pickle.load(f2)\n",
        "with open('/content/drive/My Drive/FLAGNet/PPDDlist/jsonlist.txt', 'rb') as f3:\n",
        "  jsonlist=pickle.load(f3)\n",
        "with open('/content/drive/My Drive/FLAGNet/PPDDlist/prettymidilist.txt', 'rb') as f4:\n",
        "  prettymidilist=pickle.load(f4)\n",
        "\"\"\""
      ],
      "execution_count": null,
      "outputs": []
    },
    {
      "cell_type": "code",
      "metadata": {
        "id": "IeRQyawg_8tO"
      },
      "source": [
        "bar_list=[]\n",
        "one_bar_number_list=[]\n",
        "starting_number_list=[]\n",
        "for i,songs in enumerate(prettymidilist):\n",
        "  if(len(jsonlist)==0):\n",
        "    TS=[4,4] #I don't know what is your data's Time Signature, but if you have another Time Signature, Then\n",
        "    #Change 3/4 signature as ->TS[3,4] and change Following condition \n",
        "    # ~~if(jsonlist[i]['timeSignature']!=[4,4]):#This~~ as if(jsonlist[i]['timeSignature']!=[3,4]):.\n",
        "    #If you use data which has variant time signature, then you need additional coding maybe.. you just have to set TS value for each midi properly.\n",
        "  elif('timeSignature' not in jsonlist[i]):\n",
        "    jsonlist[i]['timeSignature']=[4,4]\n",
        "    TS=jsonlist[i]['timeSignature']\n",
        "  else:\n",
        "    TS=jsonlist[i]['timeSignature']\n",
        "  if(TS!=[4,4]):#This code is used for using only 4/4 time signature\n",
        "    pass\n",
        "  else:\n",
        "    for instrument in songs.instruments: #2. 어차피 instrument하나\n",
        "      csvarray=[]\n",
        "      for note in instrument.notes: #3\n",
        "        row=[note.start*2, note.pitch, note.pitch, (note.end - note.start)*2, 0] #*2를 해줘야 제대로 하나의 bar가 하나의 단위가 된다.\n",
        "        csvarray.append(row)\n",
        "    csvarray=np.array(csvarray)\n",
        "    one_bar_number=TS[0]\n",
        "    bar_number=(csvarray[-1][0]-csvarray[0][0])//one_bar_number+1\n",
        "    bar_info_list=[]\n",
        "    for i in range(int(bar_number)):\n",
        "      starting_bar_time=csvarray[0][0]+i*one_bar_number\n",
        "      bar_info_list.append(csvarray[np.where( (starting_bar_time<=csvarray[:,0]) & (csvarray[:,0]<starting_bar_time+one_bar_number) )])\n",
        "    bar_list.append(bar_info_list)# bar info list가 bar마다 csv내용들 담겨져 있는거다.\n",
        "    one_bar_number_list.append(one_bar_number)\n",
        "    starting_number_list.append(csvarray[0][0])"
      ],
      "execution_count": 21,
      "outputs": []
    },
    {
      "cell_type": "code",
      "metadata": {
        "id": "ioRp4dJDCtUK",
        "outputId": "770e2486-9078-4746-eee0-f9866caaca47",
        "colab": {
          "base_uri": "https://localhost:8080/",
          "height": 104
        }
      },
      "source": [
        "print(bar_list[0][0])#1번째 곡의 1번째 bar.\n",
        "print(jsonlist[1])"
      ],
      "execution_count": 22,
      "outputs": [
        {
          "output_type": "stream",
          "text": [
            "[[ 0.         42.         42.          1.16666667  0.        ]\n",
            " [ 1.5        42.         42.          0.33333333  0.        ]\n",
            " [ 2.         42.         42.          1.16666667  0.        ]\n",
            " [ 3.5        42.         42.          0.33333333  0.        ]]\n",
            "{'id': '00063cae-eeb4-4923-92e4-ee8b24a35968', 'idLakh': '87666f0638c891772bd42c698241725e', 'bpm': 120, 'timeSignature': [4, 4], 'keyEstimate': 'A major'}\n"
          ],
          "name": "stdout"
        }
      ]
    },
    {
      "cell_type": "code",
      "metadata": {
        "id": "aK7G2wiA4fgg"
      },
      "source": [
        "Minimum_time = 4 #This value means we use 4*(Minimum_time)th note for minimum unit. Use Integer value!\n",
        "#I Highly recommend you to use this value 4 or 6.(16th note and 24th note as smallest unit.)\n",
        "#Using Too Small value for Minimum_time can't handle fast rhythms, and Too Large value for Minimum_time is not good for generator's training\n",
        "Minimum_time*=4 #If Minimum_time value%4 is not 0, then error occurs in training generator\n",
        "\n",
        "def nearest_time(time,minimum_size):\n",
        "  #Given minimum time, there can be outliars. Shift for this. ex)32th notes in minimum unit 16th notes.\n",
        "  num_to_multiply=time/minimum_size\n",
        "  num_to_multiply=int(num_to_multiply)\n",
        "  left_time=num_to_multiply*minimum_size\n",
        "  right_time=left_time+minimum_size\n",
        "  if (time-left_time>=right_time-time):\n",
        "    return right_time\n",
        "  return left_time\n",
        "\n",
        "def bar_to_matrix3(bar,one_bar_number,starting_number,i,minimum_time):\n",
        "  init=np.zeros((24,minimum_time))\n",
        "  minimum_size=one_bar_number/minimum_time\n",
        "  zero_time=starting_number+one_bar_number*i\n",
        "  min_height=500\n",
        "  for lists in bar:\n",
        "    if min_height>lists[1]:\n",
        "      min_height=lists[1]    \n",
        "  for j,lists in enumerate(bar):\n",
        "    point=int((nearest_time(lists[0],minimum_size)-zero_time)/minimum_size)\n",
        "    length=int(round(lists[3]/minimum_size))\n",
        "    if (length>3):\n",
        "      length=length-1#Handling repeating notes.\n",
        "    if (point+length>minimum_time-1):\n",
        "      length=minimum_time-1-point\n",
        "    height=lists[1]-min_height\n",
        "    \"\"\"\n",
        "    while(height>23):\n",
        "      height=height-12 \n",
        "    \"\"\"\n",
        "    if (height<24):#two choices for handling notes that has pitch difference above 23, delete or shifting. \n",
        "    #If you want shift them then uncomment above 2 line of codes. \n",
        "      init[23-int(height)][point:point+length]+=1\n",
        "  return init"
      ],
      "execution_count": 23,
      "outputs": []
    },
    {
      "cell_type": "code",
      "metadata": {
        "id": "t34eVSFIT6M-"
      },
      "source": [
        "bar_matrix_list3=copy.deepcopy(bar_list)\n",
        "for i,songs in enumerate(bar_matrix_list3):\n",
        "  for j,bar in enumerate(songs):\n",
        "\n",
        "    matrix3=bar_to_matrix3(bar,one_bar_number_list[i],starting_number_list[i],j,Minimum_time)\n",
        "    bar_matrix_list3[i][j]=matrix3"
      ],
      "execution_count": 24,
      "outputs": []
    },
    {
      "cell_type": "code",
      "metadata": {
        "id": "WpTGTGFjOXxW",
        "outputId": "c164d636-ad87-4c26-853a-9d7871b70502",
        "colab": {
          "base_uri": "https://localhost:8080/",
          "height": 282
        }
      },
      "source": [
        "import matplotlib.pyplot as plt\n",
        "\n",
        "plt.imshow(bar_matrix_list3[0][0])"
      ],
      "execution_count": 25,
      "outputs": [
        {
          "output_type": "execute_result",
          "data": {
            "text/plain": [
              "<matplotlib.image.AxesImage at 0x7f1f526ec320>"
            ]
          },
          "metadata": {
            "tags": []
          },
          "execution_count": 25
        },
        {
          "output_type": "display_data",
          "data": {
            "image/png": "[encoded data removed]",
            "text/plain": [
              "<Figure size 432x288 with 1 Axes>"
            ]
          },
          "metadata": {
            "tags": [],
            "needs_background": "light"
          }
        }
      ]
    },
    {
      "cell_type": "code",
      "metadata": {
        "id": "VJUSzyDlbQ3R"
      },
      "source": [
        "bar_updown_list=copy.deepcopy(bar_list)\n",
        "for i,songs in enumerate(bar_list):\n",
        "  for j,bar in enumerate(songs):\n",
        "    if (j==len(songs)-1):\n",
        "      updown_label='final'\n",
        "    elif(len(bar_list[i][j])==0 or len(bar_list[i][j+1])==0):\n",
        "      updown_label='meanless'\n",
        "    else:\n",
        "      if(bar_list[i][j][len(bar_list[i][j])-1][1]<=bar_list[i][j+1][0][1]):\n",
        "        updown_label='up'\n",
        "      else:\n",
        "        updown_label='down'\n",
        "    bar_updown_list[i][j]=updown_label"
      ],
      "execution_count": 26,
      "outputs": []
    },
    {
      "cell_type": "code",
      "metadata": {
        "id": "AO6-SYCu29qF",
        "outputId": "f83ea489-9825-4f2a-c3aa-6477d1b63869",
        "colab": {
          "base_uri": "https://localhost:8080/",
          "height": 238
        }
      },
      "source": [
        "H = bar_matrix_list3[0][0]\n",
        "\n",
        "fig = plt.figure(figsize=(6, 3.2))\n",
        "\n",
        "ax = fig.add_subplot(111)\n",
        "ax.set_title('colorMap')\n",
        "plt.imshow(H)\n",
        "ax.set_aspect('equal')\n",
        "\n",
        "cax = fig.add_axes([0.12, 0.1, 0.78, 0.8])\n",
        "cax.get_xaxis().set_visible(False)\n",
        "cax.get_yaxis().set_visible(False)\n",
        "cax.patch.set_alpha(0)\n",
        "cax.set_frame_on(False)\n",
        "plt.colorbar(orientation='vertical')\n",
        "plt.show()"
      ],
      "execution_count": 27,
      "outputs": [
        {
          "output_type": "display_data",
          "data": {
            "image/png": "[encoded data removed]",
            "text/plain": [
              "<Figure size 432x230.4 with 3 Axes>"
            ]
          },
          "metadata": {
            "tags": [],
            "needs_background": "light"
          }
        }
      ]
    },
    {
      "cell_type": "code",
      "metadata": {
        "id": "IV-em-Jo4I8H",
        "outputId": "e9c8598d-1d9a-436b-c47c-6144ebebe1ab",
        "colab": {
          "base_uri": "https://localhost:8080/",
          "height": 208
        }
      },
      "source": [
        "tot=bar_matrix_list3[2]\n",
        "H=bar_matrix_list3[2][0]\n",
        "for i in range(1,len(tot)):\n",
        "  a=bar_matrix_list3[2][i]\n",
        "  H=np.concatenate((H,a),axis=1)\n",
        "  \n",
        "fig = plt.figure(figsize=(30, 3.2))\n",
        "\n",
        "ax = fig.add_subplot(111)\n",
        "ax.set_title('colorMap')\n",
        "plt.imshow(H)\n",
        "ax.set_aspect('equal')\n",
        "\n",
        "cax = fig.add_axes([0.12, 0.1, 0.78, 0.8])\n",
        "cax.get_xaxis().set_visible(False)\n",
        "cax.get_yaxis().set_visible(False)\n",
        "cax.patch.set_alpha(0)\n",
        "cax.set_frame_on(False)\n",
        "plt.colorbar(orientation='vertical')\n",
        "plt.show()"
      ],
      "execution_count": 28,
      "outputs": [
        {
          "output_type": "display_data",
          "data": {
            "image/png": "[encoded data removed]",
            "text/plain": [
              "<Figure size 2160x230.4 with 3 Axes>"
            ]
          },
          "metadata": {
            "tags": [],
            "needs_background": "light"
          }
        }
      ]
    },
    {
      "cell_type": "code",
      "metadata": {
        "id": "QhslYmbJdSba"
      },
      "source": [
        "def bar_to_contour(bar,one_bar_number,starting_number,j):\n",
        "  contour=[]\n",
        "  pitch_change_list=[]\n",
        "  duration_list=[]\n",
        "  real_pitch_list=[]\n",
        "  real_time_list=[]\n",
        "  real_duration_list=[]\n",
        "  now_pitch=1000\n",
        "  first_time=starting_number+one_bar_number*j\n",
        "  a=0\n",
        "  for lists in bar:\n",
        "    if(a!=0): \n",
        "      real_time_list.append(lists[0]-now_rhythm)\n",
        "    now_rhythm=lists[0]\n",
        "    a+=1\n",
        "    if (first_time*1.001<lists[0]):#smoothing for case like first time=5.00001, lists[0]=5.0000..\n",
        "      resting_time=lists[0]-first_time\n",
        "      duration_list.append(resting_time)\n",
        "      first_time=lists[0]\n",
        "      pitch_change_list.append('Rest')\n",
        "    if (now_pitch==1000):\n",
        "      pitch_change_list.append('Starting_Point')\n",
        "      real_pitch_list.append('Starting_Point')\n",
        "      real_duration_list.append(lists[3])\n",
        "      duration_list.append(lists[3])\n",
        "      first_time=first_time+lists[3]\n",
        "      now_pitch=lists[1]\n",
        "      a+=1\n",
        "    else:\n",
        "      pitch_change=lists[1]-now_pitch\n",
        "      pitch_change_list.append(str(pitch_change))\n",
        "      duration_list.append(lists[3])\n",
        "      real_duration_list.append(lists[3])\n",
        "      first_time=first_time+lists[3]\n",
        "      now_pitch=lists[1]\n",
        "      real_pitch_list.append(str(pitch_change))\n",
        "  if (first_time*1.001<starting_number+one_bar_number*(j+1)):\n",
        "    pitch_change_list.append('Rest')\n",
        "    duration_list.append(starting_number+one_bar_number*(j+1)-first_time)\n",
        "  if(len(bar)!=0):\n",
        "    real_time_list.append(starting_number+one_bar_number*(j+1)-now_rhythm)\n",
        "  contour.append(pitch_change_list)\n",
        "  contour.append(duration_list)\n",
        "  contour.append(real_pitch_list)\n",
        "  contour.append(real_time_list)\n",
        "  contour.append(real_duration_list)\n",
        "  return contour"
      ],
      "execution_count": 29,
      "outputs": []
    },
    {
      "cell_type": "markdown",
      "metadata": {
        "id": "nkt16alDXVFp"
      },
      "source": [
        "Plot에서 중요한것은 Y-Axis의 0~112의 숫자가 Note의 반대 성향을 가진다는 것이다.(숫자가 커질수록 Note의 높이가 낮아진다.) 이는 PianoRoll을 이미지 처럼 사용하는 과정에서, 직관적인 학습이 가능하도록 이와 같이 구현한 것이다."
      ]
    },
    {
      "cell_type": "code",
      "metadata": {
        "id": "9DB6np0r4pr0"
      },
      "source": [
        "bar_contour_list=copy.deepcopy(bar_list)\n",
        "for i,songs in enumerate(bar_list):\n",
        "  for j,bar in enumerate(songs):\n",
        "    contour=bar_to_contour(bar,one_bar_number_list[i],starting_number_list[i],j)\n",
        "    bar_contour_list[i][j]=contour\n"
      ],
      "execution_count": 30,
      "outputs": []
    },
    {
      "cell_type": "markdown",
      "metadata": {
        "id": "FFxmPmNCVpBD"
      },
      "source": [
        "bar_contour_list : 중간과정\n",
        "bar_matrix_list2 : 아마 학습에 사용하게 될 Matrix의 List\n",
        "bar_label_list : 학습에 사용하게 될 Label의 List"
      ]
    },
    {
      "cell_type": "code",
      "metadata": {
        "id": "PO49MM20Lth1",
        "outputId": "4f0d6a16-86f6-4782-e3f4-4cc0eb50afa2",
        "colab": {
          "base_uri": "https://localhost:8080/",
          "height": 54
        }
      },
      "source": [
        "print(bar_contour_list[0][0])\n"
      ],
      "execution_count": 31,
      "outputs": [
        {
          "output_type": "stream",
          "text": [
            "[['Starting_Point', 'Rest', '0.0', 'Rest', '0.0', 'Rest', '0.0', 'Rest'], [1.1666666666666665, 0.3333333333333335, 0.33333333333333326, 0.16666666666666674, 1.1666666666666665, 0.3333333333333335, 0.33333333333333304, 0.16666666666666696], ['Starting_Point', '0.0', '0.0', '0.0'], [1.5, 0.5, 1.5, 0.5], [1.1666666666666665, 0.33333333333333326, 1.1666666666666665, 0.33333333333333304]]\n"
          ],
          "name": "stdout"
        }
      ]
    },
    {
      "cell_type": "code",
      "metadata": {
        "id": "cqJXy8Wqv1od",
        "outputId": "72b2f8f9-4016-4b5d-e8cf-6ebd01836b0b",
        "colab": {
          "base_uri": "https://localhost:8080/",
          "height": 211
        }
      },
      "source": [
        "for contours in bar_contour_list[11]:\n",
        "  print(contours)"
      ],
      "execution_count": 32,
      "outputs": [
        {
          "output_type": "stream",
          "text": [
            "[['Starting_Point', 'Rest', '0.0', '-2.0', '-1.0', '1.0', '2.0'], [0.33333333333333326, 0.16666666666666674, 0.5, 0.25, 0.75, 0.5, 1.75], ['Starting_Point', '0.0', '-2.0', '-1.0', '1.0', '2.0'], [0.5, 0.5, 0.25, 0.75, 0.5, 1.5], [0.33333333333333326, 0.5, 0.25, 0.75, 0.5, 1.75]]\n",
            "[['Rest', 'Starting_Point', '-2.0', '-1.0', '-2.0', '0.0', 'Rest', '2.0'], [0.5, 0.5, 0.25, 0.75, 0.5, 0.16666666666666607, 0.8333333333333339, 0.5], ['Starting_Point', '-2.0', '-1.0', '-2.0', '0.0', '2.0'], [0.5, 0.25, 0.75, 0.5, 1.0, 0.5], [0.5, 0.25, 0.75, 0.5, 0.16666666666666607, 0.5]]\n",
            "[['Starting_Point', '-3.0', 'Rest', '0.0'], [2.0, 0.33333333333333215, 0.16666666666666785, 1.5], ['Starting_Point', '-3.0', '0.0'], [2.0, 0.5, 1.5], [2.0, 0.33333333333333215, 1.5]]\n",
            "[['Starting_Point', 'Rest'], [1.5, 2.5], ['Starting_Point'], [4.0], [1.5]]\n",
            "[['Starting_Point', 'Rest', '0.0', '-2.0', '-1.0', '1.0', '2.0', 'Rest'], [0.33333333333333215, 0.16666666666666785, 0.5, 0.25, 0.75, 0.25, 0.1666666666666643, 1.5833333333333357], ['Starting_Point', '0.0', '-2.0', '-1.0', '1.0', '2.0'], [0.5, 0.5, 0.25, 0.75, 0.25, 1.75], [0.33333333333333215, 0.5, 0.25, 0.75, 0.25, 0.1666666666666643]]\n",
            "[['Rest', 'Starting_Point', '-2.0', '-1.0', '-2.0', '0.0', 'Rest', '2.0'], [0.5, 0.5, 0.25, 0.75, 0.5, 0.1666666666666643, 0.8333333333333357, 0.5], ['Starting_Point', '-2.0', '-1.0', '-2.0', '0.0', '2.0'], [0.5, 0.25, 0.75, 0.5, 1.0, 0.5], [0.5, 0.25, 0.75, 0.5, 0.1666666666666643, 0.5]]\n",
            "[['Starting_Point', 'Rest', '0.0', '2.0', '2.0', 'Rest', '1.0'], [1.3333333333333321, 0.16666666666666785, 0.5, 0.5, 0.1666666666666643, 0.8333333333333357, 0.5], ['Starting_Point', '0.0', '2.0', '2.0', '1.0'], [1.5, 0.5, 0.5, 1.0, 0.5], [1.3333333333333321, 0.5, 0.5, 0.1666666666666643, 0.5]]\n",
            "[['Starting_Point', 'Rest', '3.0', '0.0'], [1.5, 1.5, 0.5, 0.5], ['Starting_Point', '3.0', '0.0'], [3.0, 0.5, 0.5], [1.5, 0.5, 0.5]]\n",
            "[['Starting_Point', '2.0', '-2.0', '-1.0', '-2.0'], [0.5, 1.5, 0.5, 0.5, 1.5], ['Starting_Point', '2.0', '-2.0', '-1.0', '-2.0'], [0.5, 1.5, 0.5, 0.5, 1.0], [0.5, 1.5, 0.5, 0.5, 1.5]]\n",
            "[['Rest', 'Starting_Point', 'Rest'], [1.5, 0.5, 2.0], ['Starting_Point'], [2.5], [0.5]]\n"
          ],
          "name": "stdout"
        }
      ]
    },
    {
      "cell_type": "code",
      "metadata": {
        "id": "MThJLfY0V6F2"
      },
      "source": [
        "#최대한 많고 깔끔한 조건문을 사용하여 Skill들을 정의해볼 것. Multilabel Classification의 가능성이 있다.\n",
        "\"\"\"\n",
        "Skill들의 음악학적인 특성 & 계산적인 특성을 적는 곳\n",
        "'resting' : 포함하는 음이 0 또는 1개인 경우 resting으로 정의. 다른 Skill들은 겹칠 수 있으나 이 skill이 Label될 경우 그냥 resting 고정이다.\n",
        "즉, Skilling Labeling은 'resting'이 아닌 경우에 진행된다.(삭제)\n",
        "'repeating' : 전체 음 중 n% 이상 또는 n개를 제외한 경우가 전부 같은 음일 경우 repeating으로 정의\n",
        "'up_steping' : 전체 음 중 n% 이상 또는 n개를 제외한 경우가 steping up 또는 같은 음, 즉 반음기준 3Note 이하로 상승하는 형태일 경우 up_steping으로 정의\n",
        "'down_steping' : 전체 음 중 n% 이상 또는 n개를 제외한 경우가 steping down 또는 같은 음, 즉 반음기준 3Note 이하로 하강하는 형태일 경우 down_steping으로 정의\n",
        "'up_leaping' : 전체 음 중 n% 이상 또는 n개를 제외한 경우가 leaping up, 즉 반음기준 3Note 이상으로 상승하는 형태일 경우 up_leaping으로 정의\n",
        "'down_leaping' : 전체 음 중 n% 이상 또는 n개를 제외한 경우가 leaping down, 즉 반음기준 3Note 이상으로 하강하는 형태일 경우 down_leaping으로 정의\n",
        "3Note에서 겹치는게 맞다. Multilabel Classification을 고안 중이기 때문.\n",
        "'steping_twisting' : 음이 4개 이상이고, n개를 제외한 경우가 2Note 이하의 상승과 하강을 반복하는 형태일 경우 steping_twisting으로 정의\n",
        "'leaping_twisting' : 음이 4개 이상이고, n개를 제외한 경우가 3Note 이상의 상승과 하강을 반복하는 형태일 경우 leaping_twisting으로 정의\n",
        "'fast_rhythm' : 1 bar 내에 음이 9개 이상인 경우 fast_rhythm으로 정의.\n",
        "'One_rhythm' :  모든 음이 지닌 연주의 real_time, 즉 음이 울리고 다음 음이 나올때 까지의 시간이 같으면 One_rhythm으로 정의\n",
        "'triplet' : real_time기반해서 triplet이 존재하면(Note 3개) triplet으로 정의\n",
        "'Staccato' : real_Duration_Time 기반해서 n% 이상의 음의 Duration이 0.16667(최소단위*4임)보다 작으면(매우 짧으면) Staccato로 정의\n",
        "'continuing_rhythm' : pitch_change_list에서 'Rest'의 비율이 25퍼센트 이하면 continuing_rhythm으로 정의\n",
        "첫 음 제외 실 음의 75%를 기준으로 잡는다.\n",
        "5개 이상의 음이 있다면 1개를 제외하고 전부 조건에 맞아야하고,\n",
        "9개 이상의 음이 있다면 2개를 제외하고 전부 조건에 맞아야하고...\n",
        "4개 이하는 다 맞아야 한다.\n",
        "ex) CDEF -> up_steping, CDED -> None, CDEFD-> up_steping.\n",
        "다만 Leaping에 대해서는 많이 후해질 것 같다. 거의 50%가까이..?  \n",
        "\"\"\"\n",
        "\n",
        "\"\"\"\n",
        "예시로는..\n",
        "contour[0] = ['Starting_Point', 'Rest', '4.0', '1.0', 'Rest', '2.0', 'Rest', '-7.0', 'Rest'] Note pitch의 변화를 쉼표를 포함하여 의미한다.\n",
        "contour[1] = [0.83333, 0.16666999999999987, 0.5, 0.33333, 0.16666999999999987, 0.8333299999999999, 0.16666999999999987, 0.75, 0.25] Duration을 쉼표를 포함하여 의미한다.\n",
        "contour[2] = ['Starting_Point', '4.0', '1.0', '2.0', '-7.0'] note pitch의 변화를 의미한다.\n",
        "contour[3] = [1.0, 0.5, 0.5, 1.0, 1.0] 한 음의 실 연주시간을 의미한다.(다음 음이 나올때 까지의 시간)\n",
        "contour[4] = [0.83333, 0.5, 0.33333, 0.8333299999999999, 0.75] Duration을 의미한다.\n",
        "\"\"\"\n",
        "def is_repeating(contour_list,exception_range):\n",
        "  boolean_repeating=0\n",
        "  non_repeat=0\n",
        "  for elements in contour_list:\n",
        "    if (elements is not 'Starting_Point'):\n",
        "      if(elements != '0.0'):\n",
        "        non_repeat+=1\n",
        "  if (non_repeat<=exception_range):\n",
        "    boolean_repeating=1\n",
        "  return boolean_repeating\n",
        "\n",
        "def is_up_steping(contour_list,exception_range):\n",
        "  balancing_param=1\n",
        "  boolean_up_steping=0\n",
        "  non_step_up=0\n",
        "  now_step_up=0\n",
        "  for elements in contour_list:\n",
        "    if (elements is not 'Starting_Point'):\n",
        "      if (now_step_up==0):\n",
        "        if (float(elements)<0.5 or float(elements)>4.5):\n",
        "          now_step_up=0\n",
        "          non_step_up+=1\n",
        "        else:\n",
        "          now_step_up=1\n",
        "      else:\n",
        "        if(float(elements)<-0.5 or float(elements)>4.5):\n",
        "          now_step_up=0\n",
        "          non_step_up+=1\n",
        "        else:\n",
        "          now_step_up=1\n",
        "  if(non_step_up<=exception_range+balancing_param):\n",
        "    boolean_up_steping=1\n",
        "  return boolean_up_steping\n",
        "\n",
        "def is_down_steping(contour_list,exception_range):\n",
        "  boolean_down_steping=0\n",
        "  balancing_param=0\n",
        "  non_step_down=0\n",
        "  now_step_down=0\n",
        "  for elements in contour_list:\n",
        "    if (elements is not 'Starting_Point'):\n",
        "      if (now_step_down==0):\n",
        "        if (float(elements)>-0.5 or float(elements)<-4.5):\n",
        "          now_step_down=0\n",
        "          non_step_down+=1\n",
        "        else:\n",
        "          now_step_down=1\n",
        "      else:\n",
        "        if(float(elements)>0.5 or float(elements)<-4.5):\n",
        "          now_step_down=0\n",
        "          non_step_down+=1\n",
        "        else:\n",
        "          now_step_down=1\n",
        "  if(non_step_down<=exception_range+balancing_param):\n",
        "    boolean_down_steping=1\n",
        "  return boolean_down_steping\n",
        "\n",
        "def is_up_leaping(contour_list,exception_range):\n",
        "  boolean_up_leaping=0\n",
        "  non_leap_up=0\n",
        "  for elements in contour_list:\n",
        "    if (elements is not 'Starting_Point'):\n",
        "      if (float(elements)<3.5):\n",
        "        non_leap_up+=1\n",
        "  if (non_leap_up<=exception_range+1):\n",
        "    boolean_up_leaping=1\n",
        "  return boolean_up_leaping\n",
        "\n",
        "def is_down_leaping(contour_list,exception_range):\n",
        "  boolean_down_leaping=0\n",
        "  non_leap_down=0\n",
        "  for elements in contour_list:\n",
        "    if (elements is not 'Starting_Point'):\n",
        "      if (float(elements)>-3.5):\n",
        "        non_leap_down+=1\n",
        "  if (non_leap_down<=exception_range+1):\n",
        "    boolean_down_leaping=1\n",
        "  return boolean_down_leaping\n",
        "\n",
        "def is_leaping_twisting(contour_list,exception_range):\n",
        "  boolean_leaping_twisting=0\n",
        "  non_leap_twist=0\n",
        "  balancing_param=1\n",
        "  now_dir=0 #1for up, -1 for down\n",
        "  for elements in contour_list:\n",
        "    if (elements is not 'Starting_Point'):\n",
        "      if (now_dir==0):\n",
        "        if (3.5<float(elements)):\n",
        "          now_dir=1\n",
        "        elif (float(elements) <-3.5):\n",
        "          now_dir=-1\n",
        "        else:\n",
        "          non_leap_twist+=1\n",
        "      elif (now_dir==1):\n",
        "        if (float(elements) <-3.5):\n",
        "          now_dir=-1\n",
        "        else:\n",
        "          now_dir=0\n",
        "          non_leap_twist+=1\n",
        "      elif (now_dir==-1):\n",
        "        if (3.5<float(elements)):\n",
        "          now_dir=1\n",
        "        else:\n",
        "          now_dir=0\n",
        "          non_leap_twist+=1\n",
        "  if(non_leap_twist<=exception_range+balancing_param):\n",
        "    boolean_leaping_twisting=1\n",
        "  return boolean_leaping_twisting\n",
        "\n",
        "def is_steping_twisting(contour_list,exception_range):\n",
        "  boolean_steping_twisting=0\n",
        "  non_step_twist=0\n",
        "  now_dir=0 #1for up, -1 for down\n",
        "  for elements in contour_list:\n",
        "    if (elements is not 'Starting_Point'):\n",
        "      if (now_dir==0):\n",
        "        if (0<float(elements) and float(elements) <2.5):\n",
        "          now_dir=1\n",
        "        elif (-2.5<float(elements) and float(elements) <0):\n",
        "          now_dir=-1\n",
        "        else:\n",
        "          non_step_twist+=1\n",
        "      elif (now_dir==1):\n",
        "        if (-2.5<float(elements) and float(elements) <0):\n",
        "          now_dir=-1\n",
        "        else:\n",
        "          now_dir=0\n",
        "          non_step_twist+=1\n",
        "      elif (now_dir==-1):\n",
        "        if (0<float(elements) and float(elements) <2.5):\n",
        "          now_dir=1\n",
        "        else:\n",
        "          now_dir=0\n",
        "          non_step_twist+=1\n",
        "  if(non_step_twist<=exception_range):\n",
        "    boolean_steping_twisting=1\n",
        "  return boolean_steping_twisting\n",
        "\n",
        "def is_one_rhythm(contour_list,exception_range):\n",
        "  boolean_one_rhythm=0\n",
        "  non_same_rhythm=0\n",
        "\n",
        "  first_rhythm=contour_list[0]\n",
        "  for rhythms in contour_list:\n",
        "    if (rhythms != first_rhythm):\n",
        "      non_same_rhythm=1\n",
        "  boolean_one_rhythm=1-non_same_rhythm\n",
        "  return boolean_one_rhythm\n",
        "\n",
        "def is_triplet(contour_list,exception_range):\n",
        "  boolean_triplet=0\n",
        "  now_triplet=0\n",
        "  for rhythms in contour_list:\n",
        "    rhythms=float(rhythms)\n",
        "    if (rhythms%0.015625>0.001):\n",
        "      if(now_triplet==1):\n",
        "        boolean_triplet=1\n",
        "      now_triplet+=1\n",
        "    else:\n",
        "      now_triplet=0\n",
        "      \n",
        "  return boolean_triplet\n",
        "\n",
        "def is_staccato(contour_list,exception_range):\n",
        "  boolean_staccato=0\n",
        "  ranges=len(contour_list)//2\n",
        "  staccato_num=0\n",
        "  for times in contour_list:\n",
        "    if (times<0.2):\n",
        "      staccato_num+=1\n",
        "  if (staccato_num>=ranges):\n",
        "    boolean_staccato=1\n",
        "  return boolean_staccato\n",
        "\n",
        "def is_continuing_rhythm(contour_list):\n",
        "  boolean_continuing_rhythm=0\n",
        "  length=len(contour_list)\n",
        "  rest_num=0\n",
        "  for elements in contour_list:\n",
        "    if (elements=='Rest'):\n",
        "      rest_num+=1\n",
        "  if (rest_num<=0.5):\n",
        "    boolean_continuing_rhythm=1\n",
        "  return boolean_continuing_rhythm\n",
        "\n",
        "def contour_to_label(contour):\n",
        "  labels=[]\n",
        "  totnum=len(contour[2]) #실 음의 갯수이다.\n",
        "  exception_range=(totnum-1)//4\n",
        "  exception_range2=(totnum-1)//3\n",
        "  if (len(contour[2])<2.5):\n",
        "    pass#원래는 resting이라는 Label을 append했으나 Control이 까다롭다\n",
        "  else:\n",
        "    if (is_repeating(contour[2],exception_range2)):\n",
        "      labels.append('repeating')\n",
        "\n",
        "    if (is_up_steping(contour[2],exception_range)):\n",
        "      if (len(contour[2])>3):\n",
        "        labels.append('up_steping')\n",
        "\n",
        "    if (is_down_steping(contour[2],exception_range)):\n",
        "      if (len(contour[2])>3):\n",
        "        labels.append('down_steping')\n",
        "\n",
        "    if (is_up_leaping(contour[2],exception_range2)):\n",
        "      labels.append('up_leaping')\n",
        "    \n",
        "    if (is_down_leaping(contour[2],exception_range2)):\n",
        "      labels.append('down_leaping')\n",
        "\n",
        "    if (is_steping_twisting(contour[2],exception_range2)):\n",
        "      if (len(contour[2])>3):\n",
        "        labels.append('steping_twisting')\n",
        "\n",
        "    if (is_leaping_twisting(contour[2],exception_range2)):\n",
        "      if (len(contour[2])>3):\n",
        "        labels.append('leaping_twisting')\n",
        "\n",
        "    if (len(contour[2])>8.5):\n",
        "      labels.append('fast_rhythm')\n",
        "\n",
        "    if (is_one_rhythm(contour[3],exception_range)):\n",
        "      labels.append('One_rhythm')\n",
        "\n",
        "    if (is_triplet(contour[3],exception_range2)):\n",
        "      labels.append('triplet')\n",
        "\n",
        "    if (is_staccato(contour[4],exception_range2)):\n",
        "      labels.append('staccato')  \n",
        "\n",
        "    if (is_continuing_rhythm(contour[0])):\n",
        "      labels.append('continuing_rhythm')  \n",
        "\n",
        "  if (len(labels)==0):\n",
        "    labels.append('no skills')#Use for Classifier and cGAN, but I don't use this label for generation\n",
        "\n",
        "\n",
        "  return labels"
      ],
      "execution_count": 33,
      "outputs": []
    },
    {
      "cell_type": "code",
      "metadata": {
        "id": "ez9WMZruqLA0"
      },
      "source": [
        "bar_label_list=copy.deepcopy(bar_contour_list)\n",
        "for i,songs in enumerate(bar_contour_list):\n",
        "  for j,contour in enumerate(songs):\n",
        "    label=contour_to_label(contour) \n",
        "    bar_label_list[i][j]=label"
      ],
      "execution_count": 34,
      "outputs": []
    },
    {
      "cell_type": "code",
      "metadata": {
        "id": "sqUWmjlproso",
        "outputId": "c45787c2-8eac-43c6-ab5c-e233cce4db28",
        "colab": {
          "base_uri": "https://localhost:8080/",
          "height": 665
        }
      },
      "source": [
        "for j in range(len(bar_label_list[0])):\n",
        "  print(bar_label_list[0][j])\n",
        "  print(bar_contour_list[0][j])"
      ],
      "execution_count": 35,
      "outputs": [
        {
          "output_type": "stream",
          "text": [
            "['repeating']\n",
            "[['Starting_Point', 'Rest', '0.0', 'Rest', '0.0', 'Rest', '0.0', 'Rest'], [1.1666666666666665, 0.3333333333333335, 0.33333333333333326, 0.16666666666666674, 1.1666666666666665, 0.3333333333333335, 0.33333333333333304, 0.16666666666666696], ['Starting_Point', '0.0', '0.0', '0.0'], [1.5, 0.5, 1.5, 0.5], [1.1666666666666665, 0.33333333333333326, 1.1666666666666665, 0.33333333333333304]]\n",
            "['repeating']\n",
            "[['Starting_Point', 'Rest', '0.0', 'Rest', '0.0', 'Rest', '0.0', 'Rest'], [1.166666666666666, 0.3333333333333339, 0.33333333333333304, 0.16666666666666696, 1.166666666666666, 0.3333333333333339, 0.33333333333333304, 0.16666666666666696], ['Starting_Point', '0.0', '0.0', '0.0'], [1.5, 0.5, 1.5, 0.5], [1.166666666666666, 0.33333333333333304, 1.166666666666666, 0.33333333333333304]]\n",
            "['repeating']\n",
            "[['Starting_Point', 'Rest', '0.0', 'Rest', '0.0', 'Rest', '0.0', 'Rest'], [1.166666666666666, 0.3333333333333339, 0.33333333333333215, 0.16666666666666785, 1.166666666666666, 0.3333333333333339, 0.33333333333333215, 0.16666666666666785], ['Starting_Point', '0.0', '0.0', '0.0'], [1.5, 0.5, 1.5, 0.5], [1.166666666666666, 0.33333333333333215, 1.166666666666666, 0.33333333333333215]]\n",
            "['repeating']\n",
            "[['Starting_Point', 'Rest', '0.0', 'Rest', '-1.0', 'Rest', '0.0', 'Rest'], [1.166666666666666, 0.3333333333333339, 0.33333333333333215, 0.16666666666666785, 1.166666666666666, 0.3333333333333339, 0.33333333333333215, 0.16666666666666785], ['Starting_Point', '0.0', '-1.0', '0.0'], [1.5, 0.5, 1.5, 0.5], [1.166666666666666, 0.33333333333333215, 1.166666666666666, 0.33333333333333215]]\n",
            "['repeating']\n",
            "[['Starting_Point', 'Rest', '0.0', 'Rest', '-3.0', 'Rest', '0.0', 'Rest'], [1.1666666666666643, 0.3333333333333357, 0.33333333333333215, 0.16666666666666785, 1.1666666666666643, 0.3333333333333357, 0.33333333333333215, 0.16666666666666785], ['Starting_Point', '0.0', '-3.0', '0.0'], [1.5, 0.5, 1.5, 0.5], [1.1666666666666643, 0.33333333333333215, 1.1666666666666643, 0.33333333333333215]]\n",
            "['repeating', 'up_steping']\n",
            "[['Starting_Point', 'Rest', '0.0', 'Rest', '2.0', 'Rest', '0.0', 'Rest'], [1.1666666666666643, 0.3333333333333357, 0.33333333333333215, 0.16666666666666785, 1.1666666666666643, 0.3333333333333357, 0.33333333333333215, 0.16666666666666785], ['Starting_Point', '0.0', '2.0', '0.0'], [1.5, 0.5, 1.5, 0.5], [1.1666666666666643, 0.33333333333333215, 1.1666666666666643, 0.33333333333333215]]\n",
            "['repeating']\n",
            "[['Starting_Point', 'Rest', '0.0', 'Rest', '-3.0', 'Rest', '0.0', 'Rest'], [1.1666666666666643, 0.3333333333333357, 0.33333333333333215, 0.16666666666666785, 0.75, 0.25, 0.75, 0.25], ['Starting_Point', '0.0', '-3.0', '0.0'], [1.5, 0.5, 1.0, 1.0], [1.1666666666666643, 0.33333333333333215, 0.75, 0.75]]\n",
            "['repeating']\n",
            "[['Starting_Point', 'Rest', '0.0', 'Rest', '-1.0', 'Rest', '0.0', 'Rest'], [1.1666666666666643, 0.3333333333333357, 0.33333333333333215, 0.16666666666666785, 1.1666666666666643, 0.3333333333333357, 0.33333333333333215, 0.16666666666666785], ['Starting_Point', '0.0', '-1.0', '0.0'], [1.5, 0.5, 1.5, 0.5], [1.1666666666666643, 0.33333333333333215, 1.1666666666666643, 0.33333333333333215]]\n",
            "['repeating', 'down_leaping', 'leaping_twisting']\n",
            "[['Starting_Point', 'Rest', '0.0', 'Rest', '-5.0', 'Rest', '0.0', 'Rest'], [1.1666666666666643, 0.3333333333333357, 0.3333333333333286, 0.1666666666666714, 1.1666666666666643, 0.3333333333333357, 0.3333333333333286, 0.1666666666666714], ['Starting_Point', '0.0', '-5.0', '0.0'], [1.5, 0.5, 1.5, 0.5], [1.1666666666666643, 0.3333333333333286, 1.1666666666666643, 0.3333333333333286]]\n",
            "['repeating', 'down_leaping', 'leaping_twisting']\n",
            "[['Starting_Point', 'Rest', '0.0', 'Rest', '-5.0', 'Rest', '0.0', 'Rest'], [1.1666666666666643, 0.3333333333333357, 0.3333333333333286, 0.1666666666666714, 1.1666666666666643, 0.3333333333333357, 0.3333333333333286, 0.1666666666666714], ['Starting_Point', '0.0', '-5.0', '0.0'], [1.5, 0.5, 1.5, 0.5], [1.1666666666666643, 0.3333333333333286, 1.1666666666666643, 0.3333333333333286]]\n",
            "['repeating']\n",
            "[['Starting_Point', 'Rest', '0.0', 'Rest', '0.0', 'Rest', '0.0', 'Rest'], [1.1666666666666643, 0.3333333333333357, 0.3333333333333286, 0.1666666666666714, 1.1666666666666643, 0.3333333333333357, 0.3333333333333286, 0.1666666666666714], ['Starting_Point', '0.0', '0.0', '0.0'], [1.5, 0.5, 1.5, 0.5], [1.1666666666666643, 0.3333333333333286, 1.1666666666666643, 0.3333333333333286]]\n",
            "['repeating']\n",
            "[['Starting_Point', 'Rest', '0.0', 'Rest', '0.0', 'Rest', '0.0', 'Rest'], [1.1666666666666643, 0.3333333333333357, 0.3333333333333286, 0.1666666666666714, 1.1666666666666643, 0.3333333333333357, 0.3333333333333286, 0.1666666666666714], ['Starting_Point', '0.0', '0.0', '0.0'], [1.5, 0.5, 1.5, 0.5], [1.1666666666666643, 0.3333333333333286, 1.1666666666666643, 0.3333333333333286]]\n",
            "['repeating']\n",
            "[['Starting_Point', 'Rest', '0.0', 'Rest', '0.0', 'Rest', '0.0', 'Rest'], [1.1666666666666643, 0.3333333333333357, 0.3333333333333286, 0.1666666666666714, 1.1666666666666643, 0.3333333333333357, 0.3333333333333286, 0.1666666666666714], ['Starting_Point', '0.0', '0.0', '0.0'], [1.5, 0.5, 1.5, 0.5], [1.1666666666666643, 0.3333333333333286, 1.1666666666666643, 0.3333333333333286]]\n",
            "['repeating']\n",
            "[['Starting_Point', 'Rest', '0.0', 'Rest', '0.0', 'Rest', '0.0', 'Rest'], [1.1666666666666643, 0.3333333333333357, 0.3333333333333286, 0.1666666666666714, 1.1666666666666643, 0.3333333333333357, 0.3333333333333286, 0.1666666666666714], ['Starting_Point', '0.0', '0.0', '0.0'], [1.5, 0.5, 1.5, 0.5], [1.1666666666666643, 0.3333333333333286, 1.1666666666666643, 0.3333333333333286]]\n",
            "['repeating']\n",
            "[['Starting_Point', 'Rest', '0.0', 'Rest', '0.0', 'Rest', '0.0', 'Rest'], [1.1666666666666643, 0.3333333333333357, 0.3333333333333286, 0.1666666666666714, 1.1666666666666643, 0.3333333333333357, 0.3333333333333286, 0.1666666666666714], ['Starting_Point', '0.0', '0.0', '0.0'], [1.5, 0.5, 1.5, 0.5], [1.1666666666666643, 0.3333333333333286, 1.1666666666666643, 0.3333333333333286]]\n",
            "['repeating']\n",
            "[['Starting_Point', 'Rest', '0.0', 'Rest', '0.0', 'Rest', '0.0', 'Rest'], [1.1666666666666643, 0.3333333333333357, 0.3333333333333286, 0.1666666666666714, 1.1666666666666643, 0.3333333333333357, 0.3333333333333286, 0.1666666666666714], ['Starting_Point', '0.0', '0.0', '0.0'], [1.5, 0.5, 1.5, 0.5], [1.1666666666666643, 0.3333333333333286, 1.1666666666666643, 0.3333333333333286]]\n",
            "['repeating']\n",
            "[['Starting_Point', 'Rest', '0.0', 'Rest', '0.0', 'Rest', '0.0', 'Rest'], [1.1666666666666572, 0.3333333333333428, 0.3333333333333286, 0.1666666666666714, 1.1666666666666572, 0.3333333333333428, 0.3333333333333286, 0.1666666666666714], ['Starting_Point', '0.0', '0.0', '0.0'], [1.5, 0.5, 1.5, 0.5], [1.1666666666666572, 0.3333333333333286, 1.1666666666666572, 0.3333333333333286]]\n",
            "['no skills']\n",
            "[['Starting_Point', 'Rest', '0.0', 'Rest'], [1.1666666666666572, 0.3333333333333428, 0.3333333333333286, 2.1666666666666714], ['Starting_Point', '0.0'], [1.5, 2.5], [1.1666666666666572, 0.3333333333333286]]\n"
          ],
          "name": "stdout"
        }
      ]
    },
    {
      "cell_type": "code",
      "metadata": {
        "id": "-eCyCmgXzbSr",
        "outputId": "6e120fd3-32bd-4c71-d2a7-eb9e21e00b3e",
        "colab": {
          "base_uri": "https://localhost:8080/",
          "height": 362
        }
      },
      "source": [
        "#Summary\n",
        "print(bar_contour_list[0][0])\n",
        "print(bar_label_list[0][0])\n",
        "print(bar_list[0][0])\n",
        "\n",
        "H=bar_matrix_list3[0][0]\n",
        "fig = plt.figure(figsize=(6, 3.2))\n",
        "ax = fig.add_subplot(111)\n",
        "ax.set_title('colorMap')\n",
        "plt.imshow(H)\n",
        "ax.set_aspect('equal')\n",
        "\n",
        "cax = fig.add_axes([0.12, 0.1, 0.78, 0.8])\n",
        "cax.get_xaxis().set_visible(False)\n",
        "cax.get_yaxis().set_visible(False)\n",
        "cax.patch.set_alpha(0)\n",
        "cax.set_frame_on(False)\n",
        "plt.colorbar(orientation='vertical')\n",
        "plt.show()"
      ],
      "execution_count": 36,
      "outputs": [
        {
          "output_type": "stream",
          "text": [
            "[['Starting_Point', 'Rest', '0.0', 'Rest', '0.0', 'Rest', '0.0', 'Rest'], [1.1666666666666665, 0.3333333333333335, 0.33333333333333326, 0.16666666666666674, 1.1666666666666665, 0.3333333333333335, 0.33333333333333304, 0.16666666666666696], ['Starting_Point', '0.0', '0.0', '0.0'], [1.5, 0.5, 1.5, 0.5], [1.1666666666666665, 0.33333333333333326, 1.1666666666666665, 0.33333333333333304]]\n",
            "['repeating']\n",
            "[[ 0.         42.         42.          1.16666667  0.        ]\n",
            " [ 1.5        42.         42.          0.33333333  0.        ]\n",
            " [ 2.         42.         42.          1.16666667  0.        ]\n",
            " [ 3.5        42.         42.          0.33333333  0.        ]]\n"
          ],
          "name": "stdout"
        },
        {
          "output_type": "display_data",
          "data": {
            "image/png": "[encoded data removed]",
            "text/plain": [
              "<Figure size 432x230.4 with 3 Axes>"
            ]
          },
          "metadata": {
            "tags": [],
            "needs_background": "light"
          }
        }
      ]
    },
    {
      "cell_type": "markdown",
      "metadata": {
        "id": "JTf8MW9ax5ae"
      },
      "source": [
        "Implementation of models in FLAGNet.\n",
        "Model Loading only code is in end of model implementation.\n",
        "If you use pre-trained model, then running codes below the text 'Implementation of RNN'\n",
        "RNN model loading is not working.."
      ]
    },
    {
      "cell_type": "code",
      "metadata": {
        "id": "ndQru9Cv1XIs"
      },
      "source": [
        "all_matrix=[]\n",
        "all_labels=[]\n",
        "all_updown_labels=[]\n",
        "for songs in bar_label_list:\n",
        "  for label in songs:\n",
        "    label=np.array(label)\n",
        "    all_labels.append(label)\n",
        "for songs in bar_matrix_list3:\n",
        "  for matrix in songs:\n",
        "    matrix=matrix.reshape(24,Minimum_time,1)\n",
        "    all_matrix.append(matrix)\n",
        "for songs in bar_updown_list:\n",
        "  for label in songs:\n",
        "    all_updown_labels.append(label)\n"
      ],
      "execution_count": 37,
      "outputs": []
    },
    {
      "cell_type": "code",
      "metadata": {
        "id": "cLD6jvcH2thx",
        "outputId": "213de648-d833-43e7-fda9-b17e5f13419b",
        "colab": {
          "base_uri": "https://localhost:8080/",
          "height": 34
        }
      },
      "source": [
        "print(len(all_matrix),len(all_labels),len(all_updown_labels))"
      ],
      "execution_count": 38,
      "outputs": [
        {
          "output_type": "stream",
          "text": [
            "137207 137207 137207\n"
          ],
          "name": "stdout"
        }
      ]
    },
    {
      "cell_type": "code",
      "metadata": {
        "id": "KxnqzorC35O4",
        "outputId": "1a42d870-ab67-4dd6-a232-9e8e395af3d3",
        "colab": {
          "base_uri": "https://localhost:8080/",
          "height": 34
        }
      },
      "source": [
        "import keras.backend.tensorflow_backend as tfback\n",
        "from tensorflow.python.client import device_lib\n",
        "def _get_available_gpus():\n",
        "  if tfback._LOCAL_DEVICES is None:\n",
        "    devices = device_lib.list_local_devices()\n",
        "    tfback._LOCAL_DEVICES = [x.name for x in devices]\n",
        "  return [x for x in tfback._LOCAL_DEVICES if 'device:gpu' in x.lower()]\n",
        "tfback._get_available_gpus = _get_available_gpus\n",
        "tfback._get_available_gpus()"
      ],
      "execution_count": 39,
      "outputs": [
        {
          "output_type": "execute_result",
          "data": {
            "text/plain": [
              "['/device:GPU:0']"
            ]
          },
          "metadata": {
            "tags": []
          },
          "execution_count": 39
        }
      ]
    },
    {
      "cell_type": "code",
      "metadata": {
        "id": "Mt2exWUggwA9"
      },
      "source": [
        "from sklearn.preprocessing import MultiLabelBinarizer\n",
        "train_matrix=np.array(all_matrix[:int(len(all_matrix)*0.85)])\n",
        "train_label=np.array(all_labels[:int(len(all_matrix)*0.85)])"
      ],
      "execution_count": 40,
      "outputs": []
    },
    {
      "cell_type": "code",
      "metadata": {
        "id": "sc4SuOnd9wC7"
      },
      "source": [
        "# Since label which has both 'up_steping' and 'down_steping' is impossible, setting label against with these impossible cases to improve classifier's performance.\n",
        "def set_labels():\n",
        "  labels=[]\n",
        "  label_tuple=[]\n",
        "  skills_pitch=['repeating','up_steping','down_steping','up_leaping','down_leaping','steping_twisting','leaping_twisting','dummy']\n",
        "  skills_timing=['fast_rhythm','dummy']\n",
        "  skills_triplet=['triplet','dummy']\n",
        "  skills_one_rhythm=['One_rhythm','dummy']\n",
        "  skills_staccato=['staccato','continuing_rhythm','dummy']\n",
        "  for pitch in skills_pitch:\n",
        "    for timing in skills_timing:\n",
        "      for triplet in skills_triplet:\n",
        "        for one_rhythm in skills_one_rhythm:\n",
        "          for staccato in skills_staccato:\n",
        "            label_tuple=[]\n",
        "            if pitch is not 'dummy':\n",
        "              label_tuple.append(pitch)\n",
        "            if timing is not 'dummy':\n",
        "              label_tuple.append(timing)\n",
        "            if triplet is not 'dummy':\n",
        "              label_tuple.append(triplet)\n",
        "            if one_rhythm is not 'dummy':\n",
        "              label_tuple.append(one_rhythm)\n",
        "            if staccato is not 'dummy':\n",
        "              label_tuple.append(staccato)\n",
        "            if len(label_tuple)==0:\n",
        "              label_tuple.append('no skills') # no skills label is used for training classifier and generator, but not used for real generation.\n",
        "            label_tuple=tuple(label_tuple)\n",
        "            \n",
        "            labels.append(label_tuple)\n",
        "  \n",
        "  return labels\n",
        "label=set_labels()"
      ],
      "execution_count": 41,
      "outputs": []
    },
    {
      "cell_type": "code",
      "metadata": {
        "id": "93yFDiw86QyN"
      },
      "source": [
        "valid_matrix=np.array(all_matrix[int(len(all_matrix)*0.85):int(len(all_matrix)*0.95)])\n",
        "valid_label=np.array(all_labels[int(len(all_matrix)*0.85):int(len(all_matrix)*0.95)])\n",
        "test_matrix=np.array(all_matrix[int(len(all_matrix)*0.95):])\n",
        "test_label=np.array(all_labels[int(len(all_matrix)*0.95):])#Maybe can used in implementation..\n",
        "mlb=MultiLabelBinarizer()\n",
        "labels=set_labels()\n",
        "mlb.fit(labels)\n",
        "train_label2=mlb.transform(train_label)\n",
        "valid_label2=mlb.transform(valid_label)\n",
        "test_label2=mlb.transform(test_label)\n"
      ],
      "execution_count": 42,
      "outputs": []
    },
    {
      "cell_type": "code",
      "metadata": {
        "id": "BPUsl9deYgNl",
        "outputId": "a6c285a9-9db3-4390-b70c-193b7666f793",
        "colab": {
          "base_uri": "https://localhost:8080/",
          "height": 34
        }
      },
      "source": [
        "print(train_label2.shape)"
      ],
      "execution_count": 43,
      "outputs": [
        {
          "output_type": "stream",
          "text": [
            "(116625, 13)\n"
          ],
          "name": "stdout"
        }
      ]
    },
    {
      "cell_type": "code",
      "metadata": {
        "id": "3MoUdnPf62cX"
      },
      "source": [
        "from sklearn.preprocessing import LabelBinarizer\n",
        "updownle=LabelBinarizer()\n",
        "updownle.fit(['up','down','final','meanless'])\n",
        "updown_label=updownle.transform(np.array(all_updown_labels))"
      ],
      "execution_count": 44,
      "outputs": []
    },
    {
      "cell_type": "code",
      "metadata": {
        "id": "GfUeYxwX8eVM"
      },
      "source": [
        "train_updown_label=updown_label[:int(len(all_matrix)*0.85)]\n",
        "valid_updown_label=updown_label[int(len(all_matrix)*0.85):int(len(all_matrix)*0.95)]\n",
        "test_updown_label=updown_label[int(len(all_matrix)*0.95):]"
      ],
      "execution_count": 45,
      "outputs": []
    },
    {
      "cell_type": "code",
      "metadata": {
        "id": "Rb3xLrR99Rk8",
        "outputId": "82e4ddf9-8223-4f2f-a622-17a6f9cae04a",
        "colab": {
          "base_uri": "https://localhost:8080/",
          "height": 174
        }
      },
      "source": [
        "print(train_matrix.shape)\n",
        "print(train_label2)\n",
        "print(valid_matrix.shape)"
      ],
      "execution_count": 46,
      "outputs": [
        {
          "output_type": "stream",
          "text": [
            "(116625, 24, 16, 1)\n",
            "[[0 0 0 ... 0 0 0]\n",
            " [0 0 0 ... 0 0 0]\n",
            " [0 0 0 ... 0 0 0]\n",
            " ...\n",
            " [0 0 0 ... 0 0 0]\n",
            " [0 0 0 ... 0 0 1]\n",
            " [0 0 0 ... 0 0 0]]\n",
            "(13721, 24, 16, 1)\n"
          ],
          "name": "stdout"
        }
      ]
    },
    {
      "cell_type": "code",
      "metadata": {
        "id": "LkGYxpDB8ky9"
      },
      "source": [
        "import keras.applications\n",
        "from keras import regularizers\n",
        "from keras.applications import VGG16\n",
        "from keras.applications import resnet50\n",
        "from keras import layers\n",
        "from tensorflow import keras\n",
        "def residual_block(filter, input, add=True):\n",
        "  with tf.device('/gpu:0'):\n",
        "    layer_1 = keras.layers.Conv2D(filters=filter//4, kernel_size=(1, 1), data_format=\"channels_first\")(input)\n",
        "    layer_2 = keras.layers.Conv2D(filters=filter//4, kernel_size=(3, 3), padding='same', data_format=\"channels_first\", kernel_regularizer=keras.regularizers.l2(0.001))(layer_1)\n",
        "    layer_2 = keras.layers.BatchNormalization()(layer_2)\n",
        "    layer_2 = keras.layers.ReLU()(layer_2)\n",
        "    layer_3 = keras.layers.Conv2D(filters=filter, kernel_size=(1, 1), data_format=\"channels_first\")(layer_2)\n",
        "    layer_3 = keras.layers.BatchNormalization()(layer_3)\n",
        "    if add:\n",
        "        layer_3 = keras.layers.add([input, layer_3])\n",
        "    layer_3 = keras.layers.ReLU()(layer_3)\n",
        "    return layer_3\n",
        "def make_model(minimum_time):\n",
        "  with tf.device('/gpu:0'):\n",
        "    input_layer = keras.Input(shape=(24, minimum_time, 1))\n",
        "    layer_1 = keras.layers.Conv2D(filters=64, kernel_size=(7, 7), padding='same', data_format=\"channels_first\")(input_layer)\n",
        "    block_1 = residual_block(64, layer_1)\n",
        "    #block_2 = residual_block(64, block_1)\n",
        "    #block_3 = residual_block(64, block_2)\n",
        "    pooling_layer = keras.layers.MaxPool2D((2, 2),padding='same', data_format=\"channels_first\")(block_1)\n",
        "    block_4 = residual_block(128, pooling_layer, add=False)\n",
        "    block_5 = residual_block(128, block_4)\n",
        "    #block_6 = residual_block(128, block_5)\n",
        "    pooling_layer2 = keras.layers.MaxPool2D(padding='same',pool_size=(2, 2), data_format=\"channels_first\")(block_4)\n",
        "    block_7 = residual_block(256, pooling_layer2, add=False)\n",
        "    block_8 = residual_block(256, block_7)\n",
        "    block_9 = residual_block(256, block_8)\n",
        "    #pooling_layer4 = keras.layers.MaxPool2D(pool_size=(2, 2), data_format=\"channels_first\")(block_7)\n",
        "    #block_10 = residual_block(256, pooling_layer4)\n",
        "    #block_11 = residual_block(512, block_10)\n",
        "    pooling_layer3 = keras.layers.AvgPool2D(padding='same',pool_size=(8, 8), data_format=\"channels_first\")(block_7)\n",
        "    last_layer = keras.layers.Flatten()(pooling_layer3)\n",
        "    last_layer = keras.layers.Dropout(0.4)(last_layer)\n",
        "    last_layer = keras.layers.Dense(13, activation=\"sigmoid\")(last_layer)\n",
        "    return keras.models.Model(inputs=input_layer, outputs=last_layer)\n",
        "def make_classifier(minimum_time):\n",
        "  with tf.device('/gpu:0'):\n",
        "    classifier = keras.Sequential()\n",
        "    classifier.add(keras.layers.Conv2D(128, kernel_size=(5, 5), strides=(1, 1), padding='same',\n",
        "                  activation='relu',\n",
        "                  input_shape=(24,minimum_time,1)))\n",
        "    classifier.add(keras.layers.BatchNormalization())\n",
        "    classifier.add(keras.layers.LeakyReLU(alpha=0.01))\n",
        "    classifier.add(keras.layers.Conv2D(128, (2, 2), activation='relu', padding='same'))\n",
        "    classifier.add(keras.layers.MaxPooling2D(pool_size=(2, 2), strides=(2, 2)))\n",
        "    classifier.add(keras.layers.Conv2D(256, (2, 2), padding='same'))\n",
        "    classifier.add(keras.layers.LeakyReLU(alpha=0.01))\n",
        "    classifier.add(keras.layers.MaxPooling2D(pool_size=(2, 2)))\n",
        "    classifier.add(keras.layers.Flatten())\n",
        "    classifier.add(keras.layers.Dropout(0.25))\n",
        "    classifier.add(keras.layers.Dense(4, activation='sigmoid'))\n",
        "  return classifier"
      ],
      "execution_count": 47,
      "outputs": []
    },
    {
      "cell_type": "code",
      "metadata": {
        "id": "zn-X5lReh2ok"
      },
      "source": [
        "from keras.callbacks import EarlyStopping, ReduceLROnPlateau, ModelCheckpoint\n",
        "model_path = '/content/drive/My Drive/FLAGNet/models/' + 'deeperppddbest.h5'\n",
        "\n",
        "cb_checkpoint = ModelCheckpoint(filepath=model_path, monitor='val_acc',\n",
        "                                verbose=1, save_best_only=True)\n",
        "callbacks = [cb_checkpoint]\n",
        "\n",
        "model_path = '/content/drive/My Drive/FLAGNet/models/' + 'updown.h5'\n",
        "\n",
        "cb_checkpoint = ModelCheckpoint(filepath=model_path, monitor='val_acc',\n",
        "                                verbose=1, save_best_only=True)\n",
        "updown_callbacks=[cb_checkpoint]\n",
        "#tf.keras(make_model) : monitor='val_acc', keras(make_classifier) : monitor='val_accuracy'"
      ],
      "execution_count": 48,
      "outputs": []
    },
    {
      "cell_type": "markdown",
      "metadata": {
        "id": "TWr3MT13qAWJ"
      },
      "source": [
        ""
      ]
    },
    {
      "cell_type": "code",
      "metadata": {
        "id": "uf1jJnIxemG0"
      },
      "source": [
        "from keras import backend as K\n",
        "import tensorflow as tf\n",
        "def recall(y_target, y_pred):\n",
        "    y_target_yn = K.round(K.clip(y_target, 0, 1))\n",
        "    y_pred_yn = K.round(K.clip(y_pred, 0, 1))\n",
        "    count_true_positive = K.sum(y_target_yn * y_pred_yn) \n",
        "    count_true_positive_false_negative = K.sum(y_target_yn)\n",
        "    recall = count_true_positive / (count_true_positive_false_negative + K.epsilon())\n",
        "    # return a single tensor value\n",
        "    return recall\n",
        "\n",
        "\n",
        "def precision(y_target, y_pred):\n",
        "    y_pred_yn = K.round(K.clip(y_pred, 0, 1))\n",
        "    y_target_yn = K.round(K.clip(y_target, 0, 1))\n",
        "    count_true_positive = K.sum(y_target_yn * y_pred_yn) \n",
        "    count_true_positive_false_positive = K.sum(y_pred_yn)\n",
        "    # Precision = (True Positive) / (True Positive + False Positive)\n",
        "    precision = count_true_positive / (count_true_positive_false_positive + K.epsilon())\n",
        "\n",
        "    # return a single tensor value\n",
        "    return precision\n",
        "\n",
        "\n",
        "def f1score(y_target, y_pred):\n",
        "    _recall = recall(y_target, y_pred)\n",
        "    _precision = precision(y_target, y_pred)\n",
        "    _f1score = ( 2 * _recall * _precision) / (_recall + _precision+ K.epsilon())\n",
        "    \n",
        "    # return a single tensor value\n",
        "    return _f1score\n"
      ],
      "execution_count": 49,
      "outputs": []
    },
    {
      "cell_type": "code",
      "metadata": {
        "id": "V2Nx8Ygs-I6_"
      },
      "source": [
        "from tensorflow import keras\n",
        "classifier=make_model(Minimum_time)\n",
        "classifier.compile(loss=keras.losses.BinaryCrossentropy(\n",
        "      from_logits=False, label_smoothing=0.1, \n",
        "      name='binary_crossentropy'\n",
        "  ), optimizer='adam', metrics=['accuracy',recall,precision,f1score])\n",
        "\n",
        "hist=classifier.fit(\n",
        "      train_matrix,train_label2,batch_size=256,\n",
        "      epochs=50,\n",
        "      validation_data=(valid_matrix,valid_label2),\n",
        "      callbacks=callbacks,\n",
        "      class_weight='balanced'\n",
        "  )\n",
        "\n",
        "#Training\n"
      ],
      "execution_count": null,
      "outputs": []
    },
    {
      "cell_type": "code",
      "metadata": {
        "id": "FJ8oiBIhX7kq"
      },
      "source": [
        "updown_classifier=make_classifier(Minimum_time)\n",
        "updown_classifier.compile(loss=keras.losses.BinaryCrossentropy(\n",
        "      from_logits=False,\n",
        "      name='binary_crossentorpy',\n",
        "  ), optimizer='adam', metrics=['accuracy'])\n",
        "\n",
        "updown_hist=updown_classifier.fit(\n",
        "      train_matrix,train_updown_label,batch_size=256,\n",
        "      epochs=30,\n",
        "      validation_data=(valid_matrix,valid_updown_label),\n",
        "      callbacks=updown_callbacks,\n",
        "  )\n"
      ],
      "execution_count": null,
      "outputs": []
    },
    {
      "cell_type": "code",
      "metadata": {
        "id": "VZABO5Fq2gQy"
      },
      "source": [
        "updown_classifier.load_weights(\"/content/drive/My Drive/FLAGNet/models/updown.h5\")"
      ],
      "execution_count": 53,
      "outputs": []
    },
    {
      "cell_type": "code",
      "metadata": {
        "id": "h4vdlmE7zc8Y",
        "outputId": "de2beacf-45ab-4eaa-ac8a-bf3cbe1273f3",
        "colab": {
          "base_uri": "https://localhost:8080/",
          "height": 156
        }
      },
      "source": [
        "updown_classifier.predict(test_matrix)"
      ],
      "execution_count": 54,
      "outputs": [
        {
          "output_type": "execute_result",
          "data": {
            "text/plain": [
              "array([[8.4169221e-01, 1.5277714e-02, 8.5446239e-04, 1.9250610e-01],\n",
              "       [2.1026292e-01, 1.2214392e-02, 2.3892522e-04, 6.0892004e-01],\n",
              "       [9.0652573e-01, 8.3874762e-03, 4.0245056e-04, 1.2293661e-01],\n",
              "       ...,\n",
              "       [3.3341548e-01, 4.9852252e-02, 2.3511052e-03, 6.2063444e-01],\n",
              "       [1.4343566e-01, 1.1412978e-02, 4.5964122e-04, 8.5697269e-01],\n",
              "       [3.8202715e-01, 3.2066858e-01, 5.2413046e-03, 4.6180943e-01]],\n",
              "      dtype=float32)"
            ]
          },
          "metadata": {
            "tags": []
          },
          "execution_count": 54
        }
      ]
    },
    {
      "cell_type": "code",
      "metadata": {
        "id": "76EtBzIJsfJM"
      },
      "source": [
        "%matplotlib inline\n",
        "import matplotlib.pyplot as plt\n",
        "\n",
        "fig, loss_ax = plt.subplots()\n",
        "\n",
        "acc_ax = loss_ax.twinx()\n",
        "\n",
        "loss_ax.plot(hist.history['loss'], 'y', label='train loss')\n",
        "loss_ax.plot(hist.history['val_loss'], 'r', label='val loss')\n",
        "\n",
        "acc_ax.plot(hist.history['acc'], 'b', label='train acc')\n",
        "acc_ax.plot(hist.history['val_acc'], 'g', label='val acc')\n",
        "\n",
        "loss_ax.set_xlabel('epoch')\n",
        "loss_ax.set_ylabel('loss')\n",
        "acc_ax.set_ylabel('accuracy')\n",
        "\n",
        "loss_ax.legend(loc='upper left')\n",
        "acc_ax.legend(loc='lower left')\n",
        "\n",
        "plt.show()"
      ],
      "execution_count": null,
      "outputs": []
    },
    {
      "cell_type": "code",
      "metadata": {
        "id": "6T9qKNfNsuTv"
      },
      "source": [
        "%matplotlib inline\n",
        "import matplotlib.pyplot as plt\n",
        "\n",
        "fig, recall_ax = plt.subplots()\n",
        "\n",
        "\n",
        "recall_ax.plot(hist.history['recall'], 'y', label='recall')\n",
        "recall_ax.plot(hist.history['val_recall'], 'r', label='valid recall')\n",
        "\n",
        "recall_ax.plot(hist.history['f1score'], 'b', label='f1score')\n",
        "recall_ax.plot(hist.history['val_f1score'], 'g', label='valid f1score')\n",
        "\n",
        "recall_ax.plot(hist.history['precision'], 'c', label='precision')\n",
        "recall_ax.plot(hist.history['val_precision'], 'k', label='valid precision')\n",
        "\n",
        "recall_ax.set_xlabel('epoch')\n",
        "recall_ax.set_ylabel('score')\n",
        "\n",
        "recall_ax.legend(loc='upper left')\n",
        "\n",
        "plt.show()"
      ],
      "execution_count": null,
      "outputs": []
    },
    {
      "cell_type": "code",
      "metadata": {
        "id": "oQ-K9Y2vFN2O"
      },
      "source": [
        "  classifier.load_weights(\"/content/drive/My Drive/FLAGNet/models/deeperppddbest.h5\")#loading for best classifier model\n",
        "  testresult=classifier.predict(test_matrix)"
      ],
      "execution_count": 55,
      "outputs": []
    },
    {
      "cell_type": "code",
      "metadata": {
        "id": "N2XAN8kzN3gp",
        "outputId": "e84ed82e-dfff-4d06-97e1-aac2578457d4",
        "colab": {
          "base_uri": "https://localhost:8080/",
          "height": 139
        }
      },
      "source": [
        "print(testresult)"
      ],
      "execution_count": 56,
      "outputs": [
        {
          "output_type": "stream",
          "text": [
            "[[0.05280828 0.64545846 0.8096535  ... 0.02878529 0.9917474  0.03056878]\n",
            " [0.973936   0.9480968  0.0158819  ... 0.02444026 0.9226636  0.04706347]\n",
            " [0.83541435 0.81614006 0.06815666 ... 0.07403105 0.72067183 0.07311419]\n",
            " ...\n",
            " [0.6121363  0.59954715 0.0382655  ... 0.08553377 0.05031052 0.05761325]\n",
            " [0.8969124  0.90177584 0.0332275  ... 0.0446493  0.11450577 0.03529277]\n",
            " [0.11435732 0.14115307 0.02473354 ... 0.08257428 0.03474137 0.06634959]]\n"
          ],
          "name": "stdout"
        }
      ]
    },
    {
      "cell_type": "code",
      "metadata": {
        "id": "mFucJZONFnqX",
        "outputId": "b25b689e-e89e-4c8f-d3b6-c044f86663cb",
        "colab": {
          "base_uri": "https://localhost:8080/",
          "height": 72
        }
      },
      "source": [
        "def get_tag_results(testresult,test_label2):  \n",
        "  classnum={}\n",
        "  testnum={}\n",
        "  resultmat=[]\n",
        "  bestmat=[]\n",
        "  for i in range(len(testresult)):\n",
        "    eval_result=[0 for i in range(13)]\n",
        "    best_result=[0 for i in range(13)]\n",
        "    class_num=np.count_nonzero(test_label2[i]==1)+1\n",
        "    classidx=(-testresult[i]).argsort()[:class_num]\n",
        "    for k,j in enumerate(classidx):\n",
        "      if (k==0):\n",
        "        best_result[j]=1\n",
        "      eval_result[j]=1\n",
        "    resultmat.append(eval_result)\n",
        "    bestmat.append(best_result)\n",
        "    test_result2=copy.deepcopy(testresult)\n",
        "    test_result2[np.where(test_result2>0.30)]=1\n",
        "    test_result2[np.where(test_result2<=0.30)]=0\n",
        "  resultmat=np.array(resultmat)\n",
        "  bestmat=np.array(bestmat)\n",
        "  testidx=mlb.inverse_transform(resultmat)\n",
        "  classidx=mlb.inverse_transform(test_label2)\n",
        "  testidx2=mlb.inverse_transform(test_result2)\n",
        "  bestidx=mlb.inverse_transform(bestmat)\n",
        "  for i in range(len(testidx)):  \n",
        "    for classes in classidx[i]:\n",
        "      if (classes not in classnum):\n",
        "        classnum[classes]=1\n",
        "      else:\n",
        "        classnum[classes]+=1\n",
        "    for classes in testidx[i]:\n",
        "      if (classes not in testnum):\n",
        "        testnum[classes]=1\n",
        "      else:\n",
        "        testnum[classes]+=1\n",
        "  print(classnum, testnum)\n",
        "  return bestidx, testidx2, testidx, classidx\n",
        "best=get_tag_results(testresult,test_label2)[0]\n",
        "print(best)\n"
      ],
      "execution_count": 57,
      "outputs": [
        {
          "output_type": "stream",
          "text": [
            "{'continuing_rhythm': 1174, 'leaping_twisting': 2401, 'up_leaping': 1283, 'One_rhythm': 1715, 'down_leaping': 1093, 'up_steping': 1134, 'repeating': 963, 'fast_rhythm': 959, 'down_steping': 324, 'triplet': 1193, 'no skills': 1052, 'staccato': 1239, 'steping_twisting': 366} {'continuing_rhythm': 1775, 'down_leaping': 1328, 'leaping_twisting': 3226, 'up_leaping': 2123, 'One_rhythm': 2137, 'fast_rhythm': 1403, 'no skills': 1397, 'repeating': 1363, 'up_steping': 1646, 'staccato': 2889, 'down_steping': 411, 'triplet': 1539, 'steping_twisting': 520}\n",
            "[('up_leaping',), ('leaping_twisting',), ('leaping_twisting',), ('leaping_twisting',), ('leaping_twisting',), ('leaping_twisting',), ('leaping_twisting',), ('leaping_twisting',), ('up_leaping',), ('up_steping',), ('repeating',), ('staccato',), ('up_steping',), ('up_steping',), ('repeating',), ('staccato',), ('up_steping',), ('up_steping',), ('repeating',), ('staccato',), ('up_steping',), ('up_steping',), ('repeating',), ('staccato',), ('up_steping',), ('up_steping',), ('repeating',), ('fast_rhythm',), ('fast_rhythm',), ('fast_rhythm',), ('fast_rhythm',), ('fast_rhythm',), ('fast_rhythm',), ('fast_rhythm',), ('fast_rhythm',), ('fast_rhythm',), ('fast_rhythm',), ('fast_rhythm',), ('fast_rhythm',), ('fast_rhythm',), ('fast_rhythm',), ('fast_rhythm',), ('up_steping',), ('no skills',), ('up_leaping',), ('fast_rhythm',), ('up_leaping',), ('staccato',), ('repeating',), ('no skills',), ('up_steping',), ('up_steping',), ('repeating',), ('no skills',), ('no skills',), ('no skills',), ('repeating',), ('up_steping',), ('no skills',), ('no skills',), ('up_leaping',), ('up_steping',), ('up_steping',), ('leaping_twisting',), ('One_rhythm',), ('One_rhythm',), ('One_rhythm',), ('One_rhythm',), ('One_rhythm',), ('One_rhythm',), ('One_rhythm',), ('One_rhythm',), ('One_rhythm',), ('One_rhythm',), ('One_rhythm',), ('no skills',), ('up_leaping',), ('up_steping',), ('repeating',), ('leaping_twisting',), ('One_rhythm',), ('One_rhythm',), ('down_steping',), ('continuing_rhythm',), ('up_leaping',), ('repeating',), ('repeating',), ('up_steping',), ('triplet',), ('up_steping',), ('repeating',), ('up_steping',), ('down_steping',), ('up_steping',), ('down_steping',), ('no skills',), ('no skills',), ('up_leaping',), ('staccato',), ('repeating',), ('staccato',), ('triplet',), ('no skills',), ('up_leaping',), ('no skills',), ('up_leaping',), ('leaping_twisting',), ('up_steping',), ('repeating',), ('repeating',), ('repeating',), ('no skills',), ('repeating',), ('repeating',), ('down_steping',), ('no skills',), ('up_steping',), ('no skills',), ('up_steping',), ('no skills',), ('up_steping',), ('no skills',), ('up_steping',), ('no skills',), ('no skills',), ('no skills',), ('continuing_rhythm',), ('continuing_rhythm',), ('One_rhythm',), ('continuing_rhythm',), ('leaping_twisting',), ('leaping_twisting',), ('One_rhythm',), ('continuing_rhythm',), ('continuing_rhythm',), ('leaping_twisting',), ('One_rhythm',), ('continuing_rhythm',), ('leaping_twisting',), ('continuing_rhythm',), ('One_rhythm',), ('up_leaping',), ('fast_rhythm',), ('fast_rhythm',), ('fast_rhythm',), ('fast_rhythm',), ('fast_rhythm',), ('fast_rhythm',), ('fast_rhythm',), ('fast_rhythm',), ('fast_rhythm',), ('leaping_twisting',), ('leaping_twisting',), ('leaping_twisting',), ('leaping_twisting',), ('leaping_twisting',), ('leaping_twisting',), ('leaping_twisting',), ('leaping_twisting',), ('leaping_twisting',), ('leaping_twisting',), ('leaping_twisting',), ('leaping_twisting',), ('leaping_twisting',), ('leaping_twisting',), ('leaping_twisting',), ('fast_rhythm',), ('fast_rhythm',), ('fast_rhythm',), ('fast_rhythm',), ('fast_rhythm',), ('up_leaping',), ('continuing_rhythm',), ('continuing_rhythm',), ('continuing_rhythm',), ('One_rhythm',), ('leaping_twisting',), ('up_leaping',), ('continuing_rhythm',), ('continuing_rhythm',), ('continuing_rhythm',), ('continuing_rhythm',), ('continuing_rhythm',), ('leaping_twisting',), ('down_steping',), ('up_leaping',), ('continuing_rhythm',), ('up_steping',), ('up_leaping',), ('repeating',), ('repeating',), ('down_leaping',), ('up_steping',), ('fast_rhythm',), ('fast_rhythm',), ('One_rhythm',), ('staccato',), ('fast_rhythm',), ('up_leaping',), ('One_rhythm',), ('continuing_rhythm',), ('continuing_rhythm',), ('continuing_rhythm',), ('One_rhythm',), ('continuing_rhythm',), ('continuing_rhythm',), ('continuing_rhythm',), ('continuing_rhythm',), ('One_rhythm',), ('One_rhythm',), ('continuing_rhythm',), ('continuing_rhythm',), ('One_rhythm',), ('One_rhythm',), ('continuing_rhythm',), ('continuing_rhythm',), ('One_rhythm',), ('One_rhythm',), ('continuing_rhythm',), ('continuing_rhythm',), ('no skills',), ('leaping_twisting',), ('leaping_twisting',), ('One_rhythm',), ('One_rhythm',), ('leaping_twisting',), ('leaping_twisting',), ('One_rhythm',), ('One_rhythm',), ('leaping_twisting',), ('leaping_twisting',), ('One_rhythm',), ('leaping_twisting',), ('leaping_twisting',), ('leaping_twisting',), ('up_leaping',), ('triplet',), ('repeating',), ('repeating',), ('triplet',), ('repeating',), ('fast_rhythm',), ('repeating',), ('up_steping',), ('repeating',), ('repeating',), ('no skills',), ('fast_rhythm',), ('fast_rhythm',), ('leaping_twisting',), ('up_steping',), ('fast_rhythm',), ('fast_rhythm',), ('triplet',), ('up_steping',), ('triplet',), ('triplet',), ('fast_rhythm',), ('One_rhythm',), ('triplet',), ('staccato',), ('leaping_twisting',), ('up_steping',), ('triplet',), ('triplet',), ('no skills',), ('up_leaping',), ('no skills',), ('no skills',), ('up_steping',), ('down_leaping',), ('fast_rhythm',), ('continuing_rhythm',), ('leaping_twisting',), ('up_leaping',), ('up_leaping',), ('triplet',), ('leaping_twisting',), ('repeating',), ('leaping_twisting',), ('repeating',), ('leaping_twisting',), ('triplet',), ('leaping_twisting',), ('down_steping',), ('leaping_twisting',), ('repeating',), ('leaping_twisting',), ('repeating',), ('leaping_twisting',), ('triplet',), ('up_leaping',), ('leaping_twisting',), ('leaping_twisting',), ('leaping_twisting',), ('fast_rhythm',), ('leaping_twisting',), ('up_leaping',), ('leaping_twisting',), ('up_steping',), ('fast_rhythm',), ('leaping_twisting',), ('up_leaping',), ('fast_rhythm',), ('leaping_twisting',), ('up_leaping',), ('leaping_twisting',), ('no skills',), ('continuing_rhythm',), ('no skills',), ('continuing_rhythm',), ('no skills',), ('continuing_rhythm',), ('One_rhythm',), ('continuing_rhythm',), ('continuing_rhythm',), ('continuing_rhythm',), ('fast_rhythm',), ('no skills',), ('fast_rhythm',), ('no skills',), ('no skills',), ('up_steping',), ('up_steping',), ('up_steping',), ('up_steping',), ('up_steping',), ('up_steping',), ('leaping_twisting',), ('up_steping',), ('up_leaping',), ('One_rhythm',), ('leaping_twisting',), ('leaping_twisting',), ('up_leaping',), ('no skills',), ('fast_rhythm',), ('One_rhythm',), ('leaping_twisting',), ('One_rhythm',), ('staccato',), ('repeating',), ('no skills',), ('repeating',), ('leaping_twisting',), ('up_steping',), ('up_steping',), ('leaping_twisting',), ('fast_rhythm',), ('down_steping',), ('fast_rhythm',), ('up_leaping',), ('no skills',), ('up_leaping',), ('triplet',), ('repeating',), ('fast_rhythm',), ('triplet',), ('triplet',), ('repeating',), ('repeating',), ('leaping_twisting',), ('up_leaping',), ('leaping_twisting',), ('up_leaping',), ('up_steping',), ('up_steping',), ('up_steping',), ('up_steping',), ('up_steping',), ('no skills',), ('up_steping',), ('leaping_twisting',), ('up_steping',), ('up_steping',), ('up_steping',), ('no skills',), ('staccato',), ('repeating',), ('no skills',), ('up_leaping',), ('staccato',), ('repeating',), ('no skills',), ('repeating',), ('up_steping',), ('repeating',), ('down_leaping',), ('repeating',), ('repeating',), ('repeating',), ('up_steping',), ('repeating',), ('repeating',), ('repeating',), ('repeating',), ('repeating',), ('fast_rhythm',), ('no skills',), ('leaping_twisting',), ('repeating',), ('fast_rhythm',), ('no skills',), ('leaping_twisting',), ('repeating',), ('fast_rhythm',), ('no skills',), ('leaping_twisting',), ('repeating',), ('no skills',), ('repeating',), ('down_steping',), ('up_steping',), ('up_steping',), ('leaping_twisting',), ('up_steping',), ('down_leaping',), ('up_leaping',), ('repeating',), ('up_steping',), ('no skills',), ('up_leaping',), ('repeating',), ('no skills',), ('repeating',), ('no skills',), ('One_rhythm',), ('no skills',), ('One_rhythm',), ('repeating',), ('repeating',), ('One_rhythm',), ('One_rhythm',), ('One_rhythm',), ('One_rhythm',), ('up_steping',), ('One_rhythm',), ('One_rhythm',), ('One_rhythm',), ('One_rhythm',), ('up_steping',), ('repeating',), ('repeating',), ('leaping_twisting',), ('up_leaping',), ('leaping_twisting',), ('up_leaping',), ('fast_rhythm',), ('leaping_twisting',), ('fast_rhythm',), ('staccato',), ('leaping_twisting',), ('leaping_twisting',), ('leaping_twisting',), ('up_leaping',), ('leaping_twisting',), ('no skills',), ('staccato',), ('no skills',), ('no skills',), ('no skills',), ('continuing_rhythm',), ('no skills',), ('continuing_rhythm',), ('no skills',), ('no skills',), ('continuing_rhythm',), ('no skills',), ('no skills',), ('continuing_rhythm',), ('no skills',), ('no skills',), ('continuing_rhythm',), ('no skills',), ('no skills',), ('continuing_rhythm',), ('continuing_rhythm',), ('no skills',), ('continuing_rhythm',), ('up_leaping',), ('no skills',), ('continuing_rhythm',), ('continuing_rhythm',), ('no skills',), ('continuing_rhythm',), ('up_steping',), ('up_leaping',), ('no skills',), ('repeating',), ('repeating',), ('repeating',), ('One_rhythm',), ('repeating',), ('repeating',), ('repeating',), ('One_rhythm',), ('repeating',), ('repeating',), ('repeating',), ('One_rhythm',), ('repeating',), ('One_rhythm',), ('no skills',), ('leaping_twisting',), ('leaping_twisting',), ('leaping_twisting',), ('leaping_twisting',), ('leaping_twisting',), ('leaping_twisting',), ('continuing_rhythm',), ('leaping_twisting',), ('leaping_twisting',), ('no skills',), ('no skills',), ('leaping_twisting',), ('leaping_twisting',), ('leaping_twisting',), ('leaping_twisting',), ('leaping_twisting',), ('no skills',), ('repeating',), ('One_rhythm',), ('up_steping',), ('continuing_rhythm',), ('no skills',), ('repeating',), ('no skills',), ('down_steping',), ('One_rhythm',), ('continuing_rhythm',), ('One_rhythm',), ('no skills',), ('down_leaping',), ('One_rhythm',), ('One_rhythm',), ('repeating',), ('no skills',), ('up_leaping',), ('up_steping',), ('leaping_twisting',), ('up_steping',), ('leaping_twisting',), ('up_steping',), ('leaping_twisting',), ('up_steping',), ('no skills',), ('up_steping',), ('leaping_twisting',), ('fast_rhythm',), ('leaping_twisting',), ('no skills',), ('leaping_twisting',), ('leaping_twisting',), ('up_leaping',), ('up_leaping',), ('up_leaping',), ('triplet',), ('up_steping',), ('leaping_twisting',), ('leaping_twisting',), ('leaping_twisting',), ('leaping_twisting',), ('leaping_twisting',), ('leaping_twisting',), ('triplet',), ('no skills',), ('up_leaping',), ('triplet',), ('no skills',), ('triplet',), ('leaping_twisting',), ('triplet',), ('leaping_twisting',), ('triplet',), ('triplet',), ('no skills',), ('no skills',), ('leaping_twisting',), ('up_leaping',), ('down_steping',), ('triplet',), ('triplet',), ('triplet',), ('leaping_twisting',), ('triplet',), ('triplet',), ('no skills',), ('leaping_twisting',), ('down_leaping',), ('up_leaping',), ('leaping_twisting',), ('down_leaping',), ('down_leaping',), ('down_leaping',), ('triplet',), ('down_leaping',), ('triplet',), ('up_leaping',), ('leaping_twisting',), ('down_leaping',), ('no skills',), ('no skills',), ('no skills',), ('no skills',), ('no skills',), ('no skills',), ('no skills',), ('no skills',), ('no skills',), ('no skills',), ('no skills',), ('no skills',), ('no skills',), ('no skills',), ('no skills',), ('no skills',), ('no skills',), ('no skills',), ('no skills',), ('fast_rhythm',), ('up_leaping',), ('no skills',), ('fast_rhythm',), ('fast_rhythm',), ('repeating',), ('continuing_rhythm',), ('continuing_rhythm',), ('repeating',), ('continuing_rhythm',), ('repeating',), ('continuing_rhythm',), ('repeating',), ('fast_rhythm',), ('repeating',), ('leaping_twisting',), ('leaping_twisting',), ('leaping_twisting',), ('leaping_twisting',), ('leaping_twisting',), ('leaping_twisting',), ('One_rhythm',), ('leaping_twisting',), ('One_rhythm',), ('leaping_twisting',), ('leaping_twisting',), ('leaping_twisting',), ('leaping_twisting',), ('leaping_twisting',), ('leaping_twisting',), ('continuing_rhythm',), ('leaping_twisting',), ('leaping_twisting',), ('leaping_twisting',), ('leaping_twisting',), ('leaping_twisting',), ('One_rhythm',), ('leaping_twisting',), ('leaping_twisting',), ('leaping_twisting',), ('leaping_twisting',), ('leaping_twisting',), ('leaping_twisting',), ('no skills',), ('no skills',), ('up_steping',), ('no skills',), ('leaping_twisting',), ('leaping_twisting',), ('down_leaping',), ('leaping_twisting',), ('up_steping',), ('no skills',), ('One_rhythm',), ('One_rhythm',), ('One_rhythm',), ('One_rhythm',), ('One_rhythm',), ('One_rhythm',), ('One_rhythm',), ('One_rhythm',), ('One_rhythm',), ('One_rhythm',), ('One_rhythm',), ('One_rhythm',), ('One_rhythm',), ('One_rhythm',), ('no skills',), ('One_rhythm',), ('One_rhythm',), ('no skills',), ('up_leaping',), ('up_leaping',), ('One_rhythm',), ('up_steping',), ('up_steping',), ('up_leaping',), ('up_steping',), ('One_rhythm',), ('down_steping',), ('up_steping',), ('up_leaping',), ('leaping_twisting',), ('up_leaping',), ('up_leaping',), ('leaping_twisting',), ('repeating',), ('up_leaping',), ('up_leaping',), ('up_steping',), ('fast_rhythm',), ('up_steping',), ('triplet',), ('leaping_twisting',), ('triplet',), ('fast_rhythm',), ('fast_rhythm',), ('continuing_rhythm',), ('repeating',), ('up_steping',), ('no skills',), ('leaping_twisting',), ('leaping_twisting',), ('leaping_twisting',), ('leaping_twisting',), ('leaping_twisting',), ('leaping_twisting',), ('leaping_twisting',), ('leaping_twisting',), ('leaping_twisting',), ('down_leaping',), ('down_leaping',), ('leaping_twisting',), ('leaping_twisting',), ('down_leaping',), ('no skills',), ('no skills',), ('no skills',), ('no skills',), ('no skills',), ('leaping_twisting',), ('leaping_twisting',), ('up_steping',), ('up_steping',), ('continuing_rhythm',), ('up_steping',), ('no skills',), ('repeating',), ('repeating',), ('no skills',), ('no skills',), ('no skills',), ('no skills',), ('up_steping',), ('leaping_twisting',), ('up_steping',), ('triplet',), ('triplet',), ('staccato',), ('up_steping',), ('triplet',), ('down_leaping',), ('triplet',), ('continuing_rhythm',), ('leaping_twisting',), ('continuing_rhythm',), ('One_rhythm',), ('continuing_rhythm',), ('leaping_twisting',), ('continuing_rhythm',), ('leaping_twisting',), ('continuing_rhythm',), ('leaping_twisting',), ('continuing_rhythm',), ('leaping_twisting',), ('repeating',), ('down_leaping',), ('repeating',), ('up_leaping',), ('down_steping',), ('up_steping',), ('down_leaping',), ('leaping_twisting',), ('repeating',), ('leaping_twisting',), ('repeating',), ('up_leaping',), ('down_steping',), ('up_steping',), ('down_leaping',), ('leaping_twisting',), ('repeating',), ('no skills',), ('triplet',), ('repeating',), ('up_steping',), ('leaping_twisting',), ('One_rhythm',), ('One_rhythm',), ('One_rhythm',), ('down_steping',), ('leaping_twisting',), ('triplet',), ('fast_rhythm',), ('down_steping',), ('triplet',), ('up_steping',), ('up_leaping',), ('repeating',), ('repeating',), ('repeating',), ('repeating',), ('repeating',), ('repeating',), ('no skills',), ('no skills',), ('fast_rhythm',), ('fast_rhythm',), ('fast_rhythm',), ('leaping_twisting',), ('fast_rhythm',), ('no skills',), ('leaping_twisting',), ('leaping_twisting',), ('leaping_twisting',), ('leaping_twisting',), ('leaping_twisting',), ('leaping_twisting',), ('leaping_twisting',), ('leaping_twisting',), ('leaping_twisting',), ('leaping_twisting',), ('leaping_twisting',), ('leaping_twisting',), ('up_steping',), ('down_steping',), ('up_steping',), ('down_steping',), ('repeating',), ('repeating',), ('fast_rhythm',), ('repeating',), ('no skills',), ('fast_rhythm',), ('triplet',), ('leaping_twisting',), ('repeating',), ('up_steping',), ('fast_rhythm',), ('fast_rhythm',), ('repeating',), ('no skills',), ('repeating',), ('no skills',), ('repeating',), ('fast_rhythm',), ('triplet',), ('repeating',), ('One_rhythm',), ('no skills',), ('fast_rhythm',), ('no skills',), ('continuing_rhythm',), ('up_steping',), ('fast_rhythm',), ('up_steping',), ('staccato',), ('staccato',), ('repeating',), ('triplet',), ('repeating',), ('repeating',), ('repeating',), ('repeating',), ('repeating',), ('down_steping',), ('repeating',), ('repeating',), ('repeating',), ('repeating',), ('repeating',), ('repeating',), ('repeating',), ('repeating',), ('up_steping',), ('repeating',), ('repeating',), ('repeating',), ('repeating',), ('repeating',), ('repeating',), ('repeating',), ('no skills',), ('up_steping',), ('no skills',), ('leaping_twisting',), ('no skills',), ('leaping_twisting',), ('no skills',), ('up_steping',), ('One_rhythm',), ('One_rhythm',), ('One_rhythm',), ('One_rhythm',), ('One_rhythm',), ('One_rhythm',), ('One_rhythm',), ('One_rhythm',), ('One_rhythm',), ('One_rhythm',), ('One_rhythm',), ('no skills',), ('up_leaping',), ('triplet',), ('leaping_twisting',), ('up_leaping',), ('up_leaping',), ('triplet',), ('leaping_twisting',), ('fast_rhythm',), ('fast_rhythm',), ('fast_rhythm',), ('fast_rhythm',), ('up_steping',), ('no skills',), ('no skills',), ('leaping_twisting',), ('up_leaping',), ('up_leaping',), ('no skills',), ('no skills',), ('staccato',), ('up_steping',), ('up_steping',), ('down_steping',), ('leaping_twisting',), ('leaping_twisting',), ('down_steping',), ('One_rhythm',), ('continuing_rhythm',), ('leaping_twisting',), ('One_rhythm',), ('no skills',), ('One_rhythm',), ('up_leaping',), ('One_rhythm',), ('no skills',), ('One_rhythm',), ('up_steping',), ('up_steping',), ('down_steping',), ('leaping_twisting',), ('leaping_twisting',), ('leaping_twisting',), ('leaping_twisting',), ('leaping_twisting',), ('repeating',), ('repeating',), ('repeating',), ('repeating',), ('repeating',), ('repeating',), ('repeating',), ('fast_rhythm',), ('leaping_twisting',), ('leaping_twisting',), ('leaping_twisting',), ('fast_rhythm',), ('no skills',), ('up_leaping',), ('staccato',), ('no skills',), ('no skills',), ('up_leaping',), ('One_rhythm',), ('up_leaping',), ('staccato',), ('up_leaping',), ('up_leaping',), ('leaping_twisting',), ('up_leaping',), ('leaping_twisting',), ('leaping_twisting',), ('leaping_twisting',), ('leaping_twisting',), ('leaping_twisting',), ('leaping_twisting',), ('leaping_twisting',), ('leaping_twisting',), ('leaping_twisting',), ('leaping_twisting',), ('leaping_twisting',), ('fast_rhythm',), ('staccato',), ('leaping_twisting',), ('up_leaping',), ('leaping_twisting',), ('up_leaping',), ('leaping_twisting',), ('leaping_twisting',), ('up_steping',), ('leaping_twisting',), ('leaping_twisting',), ('triplet',), ('up_leaping',), ('leaping_twisting',), ('leaping_twisting',), ('up_leaping',), ('leaping_twisting',), ('up_steping',), ('leaping_twisting',), ('up_leaping',), ('up_steping',), ('up_steping',), ('no skills',), ('no skills',), ('no skills',), ('up_steping',), ('no skills',), ('no skills',), ('no skills',), ('up_steping',), ('no skills',), ('up_leaping',), ('no skills',), ('leaping_twisting',), ('no skills',), ('fast_rhythm',), ('fast_rhythm',), ('repeating',), ('no skills',), ('repeating',), ('no skills',), ('repeating',), ('repeating',), ('repeating',), ('up_leaping',), ('repeating',), ('no skills',), ('repeating',), ('no skills',), ('repeating',), ('repeating',), ('repeating',), ('up_leaping',), ('repeating',), ('repeating',), ('repeating',), ('repeating',), ('repeating',), ('continuing_rhythm',), ('repeating',), ('up_leaping',), ('repeating',), ('continuing_rhythm',), ('repeating',), ('up_steping',), ('repeating',), ('continuing_rhythm',), ('repeating',), ('continuing_rhythm',), ('repeating',), ('continuing_rhythm',), ('continuing_rhythm',), ('continuing_rhythm',), ('continuing_rhythm',), ('continuing_rhythm',), ('leaping_twisting',), ('continuing_rhythm',), ('leaping_twisting',), ('continuing_rhythm',), ('continuing_rhythm',), ('continuing_rhythm',), ('continuing_rhythm',), ('continuing_rhythm',), ('no skills',), ('leaping_twisting',), ('up_leaping',), ('leaping_twisting',), ('up_leaping',), ('leaping_twisting',), ('leaping_twisting',), ('leaping_twisting',), ('leaping_twisting',), ('leaping_twisting',), ('up_leaping',), ('leaping_twisting',), ('up_leaping',), ('leaping_twisting',), ('up_leaping',), ('leaping_twisting',), ('up_leaping',), ('leaping_twisting',), ('leaping_twisting',), ('up_leaping',), ('down_leaping',), ('no skills',), ('up_leaping',), ('repeating',), ('down_leaping',), ('no skills',), ('up_leaping',), ('repeating',), ('down_leaping',), ('no skills',), ('repeating',), ('repeating',), ('leaping_twisting',), ('leaping_twisting',), ('leaping_twisting',), ('leaping_twisting',), ('leaping_twisting',), ('leaping_twisting',), ('no skills',), ('leaping_twisting',), ('One_rhythm',), ('fast_rhythm',), ('One_rhythm',), ('no skills',), ('One_rhythm',), ('One_rhythm',), ('up_steping',), ('continuing_rhythm',), ('down_steping',), ('up_steping',), ('repeating',), ('leaping_twisting',), ('One_rhythm',), ('fast_rhythm',), ('One_rhythm',), ('no skills',), ('One_rhythm',), ('One_rhythm',), ('up_steping',), ('continuing_rhythm',), ('no skills',), ('up_leaping',), ('down_steping',), ('down_steping',), ('down_steping',), ('staccato',), ('down_steping',), ('no skills',), ('repeating',), ('no skills',), ('leaping_twisting',), ('no skills',), ('repeating',), ('One_rhythm',), ('down_leaping',), ('repeating',), ('down_leaping',), ('leaping_twisting',), ('repeating',), ('no skills',), ('staccato',), ('staccato',), ('triplet',), ('leaping_twisting',), ('leaping_twisting',), ('fast_rhythm',), ('up_leaping',), ('fast_rhythm',), ('no skills',), ('leaping_twisting',), ('fast_rhythm',), ('One_rhythm',), ('fast_rhythm',), ('leaping_twisting',), ('no skills',), ('continuing_rhythm',), ('up_steping',), ('no skills',), ('leaping_twisting',), ('up_steping',), ('continuing_rhythm',), ('leaping_twisting',), ('One_rhythm',), ('continuing_rhythm',), ('leaping_twisting',), ('no skills',), ('leaping_twisting',), ('up_steping',), ('continuing_rhythm',), ('continuing_rhythm',), ('continuing_rhythm',), ('leaping_twisting',), ('One_rhythm',), ('leaping_twisting',), ('continuing_rhythm',), ('no skills',), ('no skills',), ('no skills',), ('leaping_twisting',), ('no skills',), ('no skills',), ('up_steping',), ('continuing_rhythm',), ('no skills',), ('no skills',), ('no skills',), ('leaping_twisting',), ('no skills',), ('no skills',), ('up_steping',), ('no skills',), ('no skills',), ('leaping_twisting',), ('up_leaping',), ('up_leaping',), ('up_steping',), ('leaping_twisting',), ('One_rhythm',), ('leaping_twisting',), ('One_rhythm',), ('down_leaping',), ('down_leaping',), ('down_leaping',), ('no skills',), ('down_steping',), ('no skills',), ('no skills',), ('up_steping',), ('no skills',), ('down_steping',), ('leaping_twisting',), ('fast_rhythm',), ('leaping_twisting',), ('no skills',), ('leaping_twisting',), ('no skills',), ('leaping_twisting',), ('leaping_twisting',), ('leaping_twisting',), ('no skills',), ('repeating',), ('no skills',), ('no skills',), ('no skills',), ('no skills',), ('leaping_twisting',), ('repeating',), ('repeating',), ('repeating',), ('repeating',), ('repeating',), ('repeating',), ('repeating',), ('repeating',), ('repeating',), ('repeating',), ('repeating',), ('repeating',), ('repeating',), ('repeating',), ('repeating',), ('up_steping',), ('repeating',), ('up_leaping',), ('up_leaping',), ('up_leaping',), ('up_leaping',), ('no skills',), ('steping_twisting',), ('no skills',), ('repeating',), ('repeating',), ('One_rhythm',), ('no skills',), ('steping_twisting',), ('continuing_rhythm',), ('up_steping',), ('One_rhythm',), ('continuing_rhythm',), ('repeating',), ('One_rhythm',), ('no skills',), ('steping_twisting',), ('down_steping',), ('continuing_rhythm',), ('down_leaping',), ('no skills',), ('up_leaping',), ('up_steping',), ('up_steping',), ('leaping_twisting',), ('continuing_rhythm',), ('up_steping',), ('continuing_rhythm',), ('leaping_twisting',), ('down_steping',), ('leaping_twisting',), ('down_steping',), ('up_leaping',), ('staccato',), ('up_leaping',), ('triplet',), ('leaping_twisting',), ('triplet',), ('up_leaping',), ('leaping_twisting',), ('leaping_twisting',), ('down_leaping',), ('down_leaping',), ('repeating',), ('no skills',), ('leaping_twisting',), ('leaping_twisting',), ('repeating',), ('leaping_twisting',), ('fast_rhythm',), ('repeating',), ('repeating',), ('repeating',), ('triplet',), ('triplet',), ('triplet',), ('triplet',), ('triplet',), ('repeating',), ('repeating',), ('repeating',), ('triplet',), ('triplet',), ('triplet',), ('repeating',), ('triplet',), ('triplet',), ('repeating',), ('up_steping',), ('repeating',), ('leaping_twisting',), ('repeating',), ('One_rhythm',), ('repeating',), ('up_leaping',), ('repeating',), ('One_rhythm',), ('repeating',), ('leaping_twisting',), ('repeating',), ('repeating',), ('repeating',), ('up_leaping',), ('repeating',), ('no skills',), ('fast_rhythm',), ('repeating',), ('repeating',), ('fast_rhythm',), ('fast_rhythm',), ('no skills',), ('no skills',), ('down_steping',), ('continuing_rhythm',), ('fast_rhythm',), ('fast_rhythm',), ('down_steping',), ('continuing_rhythm',), ('fast_rhythm',), ('fast_rhythm',), ('down_steping',), ('no skills',), ('leaping_twisting',), ('fast_rhythm',), ('fast_rhythm',), ('fast_rhythm',), ('leaping_twisting',), ('leaping_twisting',), ('leaping_twisting',), ('up_steping',), ('down_leaping',), ('up_steping',), ('no skills',), ('up_leaping',), ('up_leaping',), ('up_leaping',), ('leaping_twisting',), ('up_leaping',), ('up_leaping',), ('up_leaping',), ('up_leaping',), ('leaping_twisting',), ('up_leaping',), ('up_leaping',), ('up_leaping',), ('up_leaping',), ('leaping_twisting',), ('leaping_twisting',), ('leaping_twisting',), ('staccato',), ('continuing_rhythm',), ('no skills',), ('fast_rhythm',), ('down_leaping',), ('no skills',), ('continuing_rhythm',), ('continuing_rhythm',), ('no skills',), ('no skills',), ('up_steping',), ('leaping_twisting',), ('fast_rhythm',), ('down_steping',), ('up_steping',), ('triplet',), ('up_steping',), ('fast_rhythm',), ('up_leaping',), ('triplet',), ('triplet',), ('triplet',), ('no skills',), ('repeating',), ('repeating',), ('up_steping',), ('repeating',), ('repeating',), ('no skills',), ('leaping_twisting',), ('leaping_twisting',), ('down_steping',), ('leaping_twisting',), ('repeating',), ('leaping_twisting',), ('repeating',), ('leaping_twisting',), ('leaping_twisting',), ('up_steping',), ('fast_rhythm',), ('leaping_twisting',), ('up_leaping',), ('One_rhythm',), ('up_steping',), ('leaping_twisting',), ('up_steping',), ('up_leaping',), ('One_rhythm',), ('One_rhythm',), ('up_leaping',), ('up_steping',), ('leaping_twisting',), ('leaping_twisting',), ('down_leaping',), ('no skills',), ('One_rhythm',), ('One_rhythm',), ('up_leaping',), ('up_steping',), ('up_steping',), ('leaping_twisting',), ('up_steping',), ('up_leaping',), ('One_rhythm',), ('no skills',), ('up_steping',), ('no skills',), ('One_rhythm',), ('repeating',), ('up_steping',), ('down_steping',), ('leaping_twisting',), ('One_rhythm',), ('no skills',), ('repeating',), ('no skills',), ('up_steping',), ('down_leaping',), ('no skills',), ('down_steping',), ('One_rhythm',), ('up_steping',), ('no skills',), ('One_rhythm',), ('leaping_twisting',), ('up_steping',), ('fast_rhythm',), ('leaping_twisting',), ('no skills',), ('up_steping',), ('leaping_twisting',), ('continuing_rhythm',), ('up_leaping',), ('up_steping',), ('up_leaping',), ('up_leaping',), ('no skills',), ('up_steping',), ('down_steping',), ('up_leaping',), ('leaping_twisting',), ('up_steping',), ('One_rhythm',), ('up_leaping',), ('leaping_twisting',), ('continuing_rhythm',), ('down_steping',), ('up_leaping',), ('no skills',), ('up_steping',), ('One_rhythm',), ('up_leaping',), ('down_steping',), ('down_leaping',), ('up_leaping',), ('up_steping',), ('up_steping',), ('no skills',), ('down_leaping',), ('up_steping',), ('up_leaping',), ('One_rhythm',), ('up_steping',), ('down_steping',), ('continuing_rhythm',), ('down_steping',), ('leaping_twisting',), ('up_steping',), ('no skills',), ('up_steping',), ('up_steping',), ('triplet',), ('no skills',), ('fast_rhythm',), ('no skills',), ('up_steping',), ('up_steping',), ('up_steping',), ('triplet',), ('up_steping',), ('steping_twisting',), ('repeating',), ('repeating',), ('up_steping',), ('repeating',), ('repeating',), ('repeating',), ('no skills',), ('leaping_twisting',), ('no skills',), ('no skills',), ('leaping_twisting',), ('up_leaping',), ('leaping_twisting',), ('no skills',), ('up_leaping',), ('leaping_twisting',), ('up_steping',), ('repeating',), ('leaping_twisting',), ('up_steping',), ('up_leaping',), ('up_steping',), ('down_steping',), ('no skills',), ('up_steping',), ('up_steping',), ('up_leaping',), ('triplet',), ('leaping_twisting',), ('down_leaping',), ('up_leaping',), ('One_rhythm',), ('leaping_twisting',), ('triplet',), ('triplet',), ('up_steping',), ('up_steping',), ('triplet',), ('leaping_twisting',), ('up_leaping',), ('up_steping',), ('up_steping',), ('up_leaping',), ('triplet',), ('leaping_twisting',), ('down_leaping',), ('repeating',), ('staccato',), ('staccato',), ('triplet',), ('up_leaping',), ('triplet',), ('up_leaping',), ('up_steping',), ('no skills',), ('no skills',), ('no skills',), ('triplet',), ('no skills',), ('triplet',), ('no skills',), ('up_steping',), ('leaping_twisting',), ('up_steping',), ('leaping_twisting',), ('no skills',), ('no skills',), ('repeating',), ('down_leaping',), ('up_steping',), ('fast_rhythm',), ('no skills',), ('no skills',), ('leaping_twisting',), ('no skills',), ('no skills',), ('down_steping',), ('no skills',), ('staccato',), ('no skills',), ('staccato',), ('no skills',), ('no skills',), ('One_rhythm',), ('One_rhythm',), ('One_rhythm',), ('One_rhythm',), ('One_rhythm',), ('One_rhythm',), ('One_rhythm',), ('One_rhythm',), ('up_leaping',), ('no skills',), ('leaping_twisting',), ('triplet',), ('up_leaping',), ('up_leaping',), ('down_leaping',), ('up_leaping',), ('up_leaping',), ('up_leaping',), ('leaping_twisting',), ('up_leaping',), ('up_leaping',), ('up_steping',), ('repeating',), ('up_leaping',), ('up_leaping',), ('no skills',), ('leaping_twisting',), ('leaping_twisting',), ('up_steping',), ('leaping_twisting',), ('continuing_rhythm',), ('down_leaping',), ('up_steping',), ('leaping_twisting',), ('up_steping',), ('leaping_twisting',), ('up_steping',), ('down_leaping',), ('leaping_twisting',), ('leaping_twisting',), ('up_steping',), ('down_leaping',), ('leaping_twisting',), ('leaping_twisting',), ('up_steping',), ('leaping_twisting',), ('continuing_rhythm',), ('down_leaping',), ('up_steping',), ('leaping_twisting',), ('no skills',), ('up_steping',), ('up_steping',), ('fast_rhythm',), ('down_leaping',), ('up_steping',), ('triplet',), ('up_steping',), ('up_steping',), ('up_steping',), ('triplet',), ('up_steping',), ('no skills',), ('up_leaping',), ('fast_rhythm',), ('up_steping',), ('up_steping',), ('down_steping',), ('up_steping',), ('up_steping',), ('down_steping',), ('no skills',), ('continuing_rhythm',), ('leaping_twisting',), ('continuing_rhythm',), ('leaping_twisting',), ('continuing_rhythm',), ('continuing_rhythm',), ('continuing_rhythm',), ('continuing_rhythm',), ('down_steping',), ('up_leaping',), ('continuing_rhythm',), ('leaping_twisting',), ('up_leaping',), ('continuing_rhythm',), ('continuing_rhythm',), ('leaping_twisting',), ('continuing_rhythm',), ('leaping_twisting',), ('continuing_rhythm',), ('up_leaping',), ('down_steping',), ('down_leaping',), ('leaping_twisting',), ('up_leaping',), ('down_steping',), ('down_leaping',), ('leaping_twisting',), ('One_rhythm',), ('up_steping',), ('up_steping',), ('leaping_twisting',), ('leaping_twisting',), ('leaping_twisting',), ('leaping_twisting',), ('leaping_twisting',), ('leaping_twisting',), ('leaping_twisting',), ('leaping_twisting',), ('leaping_twisting',), ('leaping_twisting',), ('leaping_twisting',), ('leaping_twisting',), ('leaping_twisting',), ('leaping_twisting',), ('leaping_twisting',), ('up_leaping',), ('up_steping',), ('down_steping',), ('up_leaping',), ('no skills',), ('steping_twisting',), ('no skills',), ('no skills',), ('up_leaping',), ('staccato',), ('down_steping',), ('no skills',), ('up_steping',), ('no skills',), ('no skills',), ('no skills',), ('down_steping',), ('no skills',), ('no skills',), ('no skills',), ('down_steping',), ('no skills',), ('repeating',), ('no skills',), ('no skills',), ('triplet',), ('triplet',), ('fast_rhythm',), ('triplet',), ('no skills',), ('up_leaping',), ('up_leaping',), ('no skills',), ('up_steping',), ('triplet',), ('no skills',), ('leaping_twisting',), ('leaping_twisting',), ('leaping_twisting',), ('no skills',), ('no skills',), ('down_steping',), ('no skills',), ('fast_rhythm',), ('no skills',), ('down_steping',), ('no skills',), ('fast_rhythm',), ('no skills',), ('down_steping',), ('no skills',), ('fast_rhythm',), ('no skills',), ('up_steping',), ('staccato',), ('up_leaping',), ('staccato',), ('no skills',), ('fast_rhythm',), ('fast_rhythm',), ('fast_rhythm',), ('fast_rhythm',), ('continuing_rhythm',), ('leaping_twisting',), ('fast_rhythm',), ('up_steping',), ('up_leaping',), ('fast_rhythm',), ('fast_rhythm',), ('fast_rhythm',), ('fast_rhythm',), ('fast_rhythm',), ('fast_rhythm',), ('continuing_rhythm',), ('up_leaping',), ('leaping_twisting',), ('leaping_twisting',), ('leaping_twisting',), ('leaping_twisting',), ('leaping_twisting',), ('leaping_twisting',), ('leaping_twisting',), ('up_leaping',), ('leaping_twisting',), ('leaping_twisting',), ('up_leaping',), ('leaping_twisting',), ('leaping_twisting',), ('up_leaping',), ('leaping_twisting',), ('leaping_twisting',), ('leaping_twisting',), ('leaping_twisting',), ('no skills',), ('triplet',), ('up_leaping',), ('up_leaping',), ('up_steping',), ('triplet',), ('up_leaping',), ('repeating',), ('up_steping',), ('repeating',), ('repeating',), ('repeating',), ('leaping_twisting',), ('repeating',), ('fast_rhythm',), ('repeating',), ('up_steping',), ('up_leaping',), ('no skills',), ('leaping_twisting',), ('up_steping',), ('up_leaping',), ('leaping_twisting',), ('leaping_twisting',), ('leaping_twisting',), ('up_leaping',), ('leaping_twisting',), ('leaping_twisting',), ('leaping_twisting',), ('up_leaping',), ('leaping_twisting',), ('leaping_twisting',), ('leaping_twisting',), ('up_leaping',), ('up_steping',), ('staccato',), ('up_steping',), ('leaping_twisting',), ('up_steping',), ('staccato',), ('staccato',), ('no skills',), ('up_steping',), ('staccato',), ('no skills',), ('up_steping',), ('leaping_twisting',), ('no skills',), ('One_rhythm',), ('One_rhythm',), ('leaping_twisting',), ('One_rhythm',), ('leaping_twisting',), ('leaping_twisting',), ('One_rhythm',), ('One_rhythm',), ('repeating',), ('no skills',), ('up_leaping',), ('fast_rhythm',), ('leaping_twisting',), ('One_rhythm',), ('One_rhythm',), ('up_leaping',), ('up_leaping',), ('up_leaping',), ('up_leaping',), ('up_leaping',), ('up_leaping',), ('up_leaping',), ('up_leaping',), ('up_leaping',), ('up_leaping',), ('up_leaping',), ('up_leaping',), ('up_leaping',), ('up_leaping',), ('up_leaping',), ('up_leaping',), ('up_leaping',), ('up_leaping',), ('up_leaping',), ('no skills',), ('up_steping',), ('triplet',), ('triplet',), ('triplet',), ('leaping_twisting',), ('leaping_twisting',), ('leaping_twisting',), ('leaping_twisting',), ('leaping_twisting',), ('leaping_twisting',), ('leaping_twisting',), ('leaping_twisting',), ('leaping_twisting',), ('leaping_twisting',), ('leaping_twisting',), ('no skills',), ('repeating',), ('repeating',), ('repeating',), ('repeating',), ('repeating',), ('repeating',), ('repeating',), ('repeating',), ('repeating',), ('repeating',), ('repeating',), ('repeating',), ('repeating',), ('repeating',), ('repeating',), ('repeating',), ('staccato',), ('repeating',), ('repeating',), ('repeating',), ('staccato',), ('repeating',), ('repeating',), ('repeating',), ('repeating',), ('repeating',), ('repeating',), ('repeating',), ('repeating',), ('no skills',), ('continuing_rhythm',), ('no skills',), ('continuing_rhythm',), ('continuing_rhythm',), ('leaping_twisting',), ('up_leaping',), ('no skills',), ('no skills',), ('leaping_twisting',), ('One_rhythm',), ('continuing_rhythm',), ('leaping_twisting',), ('leaping_twisting',), ('continuing_rhythm',), ('down_steping',), ('repeating',), ('leaping_twisting',), ('up_steping',), ('down_steping',), ('leaping_twisting',), ('triplet',), ('no skills',), ('down_leaping',), ('triplet',), ('up_steping',), ('leaping_twisting',), ('leaping_twisting',), ('leaping_twisting',), ('leaping_twisting',), ('leaping_twisting',), ('leaping_twisting',), ('leaping_twisting',), ('leaping_twisting',), ('leaping_twisting',), ('leaping_twisting',), ('leaping_twisting',), ('leaping_twisting',), ('up_leaping',), ('leaping_twisting',), ('continuing_rhythm',), ('leaping_twisting',), ('leaping_twisting',), ('leaping_twisting',), ('leaping_twisting',), ('leaping_twisting',), ('leaping_twisting',), ('leaping_twisting',), ('up_leaping',), ('leaping_twisting',), ('leaping_twisting',), ('up_steping',), ('leaping_twisting',), ('continuing_rhythm',), ('no skills',), ('up_steping',), ('down_steping',), ('up_steping',), ('leaping_twisting',), ('no skills',), ('no skills',), ('no skills',), ('no skills',), ('up_leaping',), ('leaping_twisting',), ('up_leaping',), ('continuing_rhythm',), ('up_leaping',), ('leaping_twisting',), ('up_steping',), ('leaping_twisting',), ('up_steping',), ('continuing_rhythm',), ('leaping_twisting',), ('fast_rhythm',), ('fast_rhythm',), ('fast_rhythm',), ('fast_rhythm',), ('fast_rhythm',), ('fast_rhythm',), ('fast_rhythm',), ('fast_rhythm',), ('up_steping',), ('leaping_twisting',), ('fast_rhythm',), ('up_steping',), ('down_steping',), ('triplet',), ('no skills',), ('no skills',), ('no skills',), ('repeating',), ('triplet',), ('up_steping',), ('leaping_twisting',), ('no skills',), ('up_steping',), ('up_steping',), ('leaping_twisting',), ('no skills',), ('up_steping',), ('down_steping',), ('staccato',), ('no skills',), ('up_leaping',), ('leaping_twisting',), ('no skills',), ('up_leaping',), ('triplet',), ('fast_rhythm',), ('up_leaping',), ('up_leaping',), ('up_leaping',), ('up_leaping',), ('up_leaping',), ('up_leaping',), ('up_leaping',), ('up_leaping',), ('up_leaping',), ('up_leaping',), ('up_leaping',), ('up_leaping',), ('up_leaping',), ('continuing_rhythm',), ('leaping_twisting',), ('continuing_rhythm',), ('leaping_twisting',), ('leaping_twisting',), ('leaping_twisting',), ('continuing_rhythm',), ('leaping_twisting',), ('continuing_rhythm',), ('continuing_rhythm',), ('leaping_twisting',), ('One_rhythm',), ('continuing_rhythm',), ('continuing_rhythm',), ('no skills',), ('fast_rhythm',), ('no skills',), ('fast_rhythm',), ('One_rhythm',), ('fast_rhythm',), ('no skills',), ('One_rhythm',), ('no skills',), ('One_rhythm',), ('leaping_twisting',), ('One_rhythm',), ('One_rhythm',), ('One_rhythm',), ('leaping_twisting',), ('One_rhythm',), ('fast_rhythm',), ('One_rhythm',), ('leaping_twisting',), ('One_rhythm',), ('One_rhythm',), ('One_rhythm',), ('leaping_twisting',), ('One_rhythm',), ('fast_rhythm',), ('fast_rhythm',), ('no skills',), ('fast_rhythm',), ('One_rhythm',), ('fast_rhythm',), ('no skills',), ('One_rhythm',), ('no skills',), ('repeating',), ('repeating',), ('leaping_twisting',), ('repeating',), ('repeating',), ('up_steping',), ('repeating',), ('leaping_twisting',), ('repeating',), ('repeating',), ('repeating',), ('no skills',), ('leaping_twisting',), ('no skills',), ('leaping_twisting',), ('no skills',), ('no skills',), ('One_rhythm',), ('no skills',), ('One_rhythm',), ('no skills',), ('One_rhythm',), ('leaping_twisting',), ('One_rhythm',), ('leaping_twisting',), ('One_rhythm',), ('leaping_twisting',), ('One_rhythm',), ('leaping_twisting',), ('One_rhythm',), ('leaping_twisting',), ('leaping_twisting',), ('down_leaping',), ('down_leaping',), ('down_leaping',), ('down_leaping',), ('down_leaping',), ('down_leaping',), ('down_leaping',), ('down_leaping',), ('down_leaping',), ('repeating',), ('staccato',), ('repeating',), ('leaping_twisting',), ('leaping_twisting',), ('leaping_twisting',), ('repeating',), ('leaping_twisting',), ('repeating',), ('staccato',), ('repeating',), ('leaping_twisting',), ('leaping_twisting',), ('staccato',), ('up_leaping',), ('leaping_twisting',), ('no skills',), ('no skills',), ('fast_rhythm',), ('fast_rhythm',), ('fast_rhythm',), ('fast_rhythm',), ('fast_rhythm',), ('fast_rhythm',), ('fast_rhythm',), ('fast_rhythm',), ('fast_rhythm',), ('fast_rhythm',), ('fast_rhythm',), ('triplet',), ('up_leaping',), ('up_leaping',), ('up_leaping',), ('up_leaping',), ('up_leaping',), ('up_leaping',), ('up_leaping',), ('no skills',), ('leaping_twisting',), ('no skills',), ('leaping_twisting',), ('no skills',), ('leaping_twisting',), ('no skills',), ('leaping_twisting',), ('no skills',), ('leaping_twisting',), ('no skills',), ('leaping_twisting',), ('no skills',), ('leaping_twisting',), ('no skills',), ('One_rhythm',), ('no skills',), ('down_steping',), ('up_leaping',), ('up_leaping',), ('up_leaping',), ('up_leaping',), ('leaping_twisting',), ('up_leaping',), ('up_leaping',), ('up_leaping',), ('leaping_twisting',), ('up_leaping',), ('up_leaping',), ('no skills',), ('leaping_twisting',), ('up_leaping',), ('up_leaping',), ('up_steping',), ('no skills',), ('up_leaping',), ('no skills',), ('up_steping',), ('no skills',), ('up_steping',), ('down_leaping',), ('up_steping',), ('fast_rhythm',), ('staccato',), ('down_leaping',), ('staccato',), ('no skills',), ('up_steping',), ('down_leaping',), ('fast_rhythm',), ('leaping_twisting',), ('fast_rhythm',), ('fast_rhythm',), ('leaping_twisting',), ('leaping_twisting',), ('fast_rhythm',), ('leaping_twisting',), ('fast_rhythm',), ('leaping_twisting',), ('fast_rhythm',), ('fast_rhythm',), ('leaping_twisting',), ('up_leaping',), ('One_rhythm',), ('leaping_twisting',), ('One_rhythm',), ('One_rhythm',), ('One_rhythm',), ('One_rhythm',), ('leaping_twisting',), ('One_rhythm',), ('One_rhythm',), ('One_rhythm',), ('One_rhythm',), ('leaping_twisting',), ('leaping_twisting',), ('One_rhythm',), ('leaping_twisting',), ('One_rhythm',), ('One_rhythm',), ('leaping_twisting',), ('no skills',), ('leaping_twisting',), ('up_leaping',), ('up_leaping',), ('leaping_twisting',), ('no skills',), ('fast_rhythm',), ('continuing_rhythm',), ('fast_rhythm',), ('fast_rhythm',), ('fast_rhythm',), ('continuing_rhythm',), ('fast_rhythm',), ('fast_rhythm',), ('no skills',), ('leaping_twisting',), ('up_steping',), ('One_rhythm',), ('One_rhythm',), ('One_rhythm',), ('One_rhythm',), ('One_rhythm',), ('One_rhythm',), ('One_rhythm',), ('One_rhythm',), ('One_rhythm',), ('leaping_twisting',), ('leaping_twisting',), ('continuing_rhythm',), ('leaping_twisting',), ('continuing_rhythm',), ('leaping_twisting',), ('continuing_rhythm',), ('leaping_twisting',), ('continuing_rhythm',), ('leaping_twisting',), ('continuing_rhythm',), ('leaping_twisting',), ('continuing_rhythm',), ('leaping_twisting',), ('continuing_rhythm',), ('leaping_twisting',), ('continuing_rhythm',), ('leaping_twisting',), ('no skills',), ('up_steping',), ('down_steping',), ('down_steping',), ('repeating',), ('up_steping',), ('down_steping',), ('down_steping',), ('repeating',), ('staccato',), ('repeating',), ('up_steping',), ('down_steping',), ('staccato',), ('repeating',), ('up_steping',), ('down_steping',), ('repeating',), ('leaping_twisting',), ('leaping_twisting',), ('leaping_twisting',), ('up_leaping',), ('leaping_twisting',), ('up_leaping',), ('leaping_twisting',), ('up_leaping',), ('leaping_twisting',), ('leaping_twisting',), ('leaping_twisting',), ('leaping_twisting',), ('leaping_twisting',), ('triplet',), ('triplet',), ('down_steping',), ('up_steping',), ('triplet',), ('triplet',), ('triplet',), ('continuing_rhythm',), ('staccato',), ('leaping_twisting',), ('down_leaping',), ('up_steping',), ('One_rhythm',), ('down_steping',), ('up_steping',), ('leaping_twisting',), ('leaping_twisting',), ('leaping_twisting',), ('leaping_twisting',), ('up_leaping',), ('up_leaping',), ('leaping_twisting',), ('up_leaping',), ('up_leaping',), ('up_leaping',), ('up_leaping',), ('leaping_twisting',), ('leaping_twisting',), ('up_leaping',), ('leaping_twisting',), ('up_leaping',), ('up_leaping',), ('up_leaping',), ('leaping_twisting',), ('leaping_twisting',), ('up_leaping',), ('repeating',), ('repeating',), ('repeating',), ('One_rhythm',), ('repeating',), ('repeating',), ('repeating',), ('up_steping',), ('repeating',), ('repeating',), ('One_rhythm',), ('One_rhythm',), ('repeating',), ('fast_rhythm',), ('no skills',), ('no skills',), ('repeating',), ('repeating',), ('repeating',), ('repeating',), ('One_rhythm',), ('no skills',), ('up_steping',), ('up_leaping',), ('triplet',), ('up_leaping',), ('triplet',), ('up_leaping',), ('up_leaping',), ('repeating',), ('no skills',), ('up_leaping',), ('no skills',), ('no skills',), ('up_steping',), ('no skills',), ('triplet',), ('no skills',), ('steping_twisting',), ('no skills',), ('up_steping',), ('no skills',), ('repeating',), ('triplet',), ('up_steping',), ('up_steping',), ('up_steping',), ('up_steping',), ('repeating',), ('repeating',), ('repeating',), ('no skills',), ('up_steping',), ('no skills',), ('repeating',), ('no skills',), ('no skills',), ('no skills',), ('no skills',), ('no skills',), ('no skills',), ('repeating',), ('no skills',), ('up_steping',), ('down_steping',), ('up_steping',), ('up_steping',), ('triplet',), ('triplet',), ('up_steping',), ('staccato',), ('down_leaping',), ('leaping_twisting',), ('repeating',), ('leaping_twisting',), ('repeating',), ('repeating',), ('up_steping',), ('repeating',), ('repeating',), ('repeating',), ('repeating',), ('repeating',), ('repeating',), ('leaping_twisting',), ('repeating',), ('leaping_twisting',), ('leaping_twisting',), ('leaping_twisting',), ('repeating',), ('leaping_twisting',), ('no skills',), ('fast_rhythm',), ('fast_rhythm',), ('fast_rhythm',), ('fast_rhythm',), ('fast_rhythm',), ('fast_rhythm',), ('fast_rhythm',), ('fast_rhythm',), ('fast_rhythm',), ('fast_rhythm',), ('fast_rhythm',), ('fast_rhythm',), ('fast_rhythm',), ('fast_rhythm',), ('fast_rhythm',), ('fast_rhythm',), ('up_leaping',), ('fast_rhythm',), ('fast_rhythm',), ('fast_rhythm',), ('fast_rhythm',), ('fast_rhythm',), ('leaping_twisting',), ('triplet',), ('fast_rhythm',), ('leaping_twisting',), ('triplet',), ('triplet',), ('fast_rhythm',), ('fast_rhythm',), ('fast_rhythm',), ('fast_rhythm',), ('fast_rhythm',), ('fast_rhythm',), ('leaping_twisting',), ('triplet',), ('down_steping',), ('up_steping',), ('up_steping',), ('triplet',), ('triplet',), ('triplet',), ('triplet',), ('triplet',), ('triplet',), ('triplet',), ('triplet',), ('triplet',), ('up_steping',), ('up_steping',), ('up_steping',), ('triplet',), ('triplet',), ('no skills',), ('leaping_twisting',), ('leaping_twisting',), ('leaping_twisting',), ('leaping_twisting',), ('leaping_twisting',), ('leaping_twisting',), ('leaping_twisting',), ('One_rhythm',), ('leaping_twisting',), ('leaping_twisting',), ('leaping_twisting',), ('One_rhythm',), ('leaping_twisting',), ('leaping_twisting',), ('leaping_twisting',), ('leaping_twisting',), ('continuing_rhythm',), ('leaping_twisting',), ('leaping_twisting',), ('leaping_twisting',), ('leaping_twisting',), ('leaping_twisting',), ('fast_rhythm',), ('leaping_twisting',), ('leaping_twisting',), ('leaping_twisting',), ('fast_rhythm',), ('fast_rhythm',), ('fast_rhythm',), ('leaping_twisting',), ('triplet',), ('leaping_twisting',), ('fast_rhythm',), ('fast_rhythm',), ('fast_rhythm',), ('leaping_twisting',), ('no skills',), ('no skills',), ('up_steping',), ('up_steping',), ('up_steping',), ('down_leaping',), ('triplet',), ('up_steping',), ('up_steping',), ('down_leaping',), ('triplet',), ('fast_rhythm',), ('fast_rhythm',), ('down_leaping',), ('fast_rhythm',), ('repeating',), ('up_steping',), ('repeating',), ('up_steping',), ('down_steping',), ('no skills',), ('no skills',), ('up_steping',), ('repeating',), ('up_steping',), ('no skills',), ('up_steping',), ('down_steping',), ('up_leaping',), ('leaping_twisting',), ('leaping_twisting',), ('leaping_twisting',), ('no skills',), ('up_steping',), ('up_leaping',), ('up_steping',), ('up_leaping',), ('leaping_twisting',), ('continuing_rhythm',), ('triplet',), ('continuing_rhythm',), ('down_steping',), ('leaping_twisting',), ('continuing_rhythm',), ('continuing_rhythm',), ('leaping_twisting',), ('leaping_twisting',), ('repeating',), ('repeating',), ('steping_twisting',), ('down_leaping',), ('steping_twisting',), ('leaping_twisting',), ('triplet',), ('leaping_twisting',), ('repeating',), ('repeating',), ('triplet',), ('steping_twisting',), ('up_leaping',), ('staccato',), ('staccato',), ('triplet',), ('no skills',), ('up_steping',), ('up_leaping',), ('up_steping',), ('no skills',), ('fast_rhythm',), ('down_steping',), ('up_leaping',), ('down_steping',), ('up_leaping',), ('no skills',), ('no skills',), ('no skills',), ('down_steping',), ('no skills',), ('triplet',), ('triplet',), ('continuing_rhythm',), ('triplet',), ('fast_rhythm',), ('triplet',), ('repeating',), ('continuing_rhythm',), ('leaping_twisting',), ('repeating',), ('continuing_rhythm',), ('up_leaping',), ('leaping_twisting',), ('repeating',), ('repeating',), ('continuing_rhythm',), ('leaping_twisting',), ('repeating',), ('continuing_rhythm',), ('up_leaping',), ('leaping_twisting',), ('repeating',), ('no skills',), ('leaping_twisting',), ('no skills',), ('up_leaping',), ('no skills',), ('no skills',), ('no skills',), ('no skills',), ('no skills',), ('leaping_twisting',), ('up_leaping',), ('up_leaping',), ('leaping_twisting',), ('leaping_twisting',), ('no skills',), ('leaping_twisting',), ('no skills',), ('no skills',), ('down_leaping',), ('no skills',), ('leaping_twisting',), ('up_leaping',), ('up_steping',), ('leaping_twisting',), ('no skills',), ('triplet',), ('no skills',), ('up_steping',), ('up_steping',), ('triplet',), ('down_leaping',), ('repeating',), ('repeating',), ('staccato',), ('no skills',), ('down_steping',), ('triplet',), ('repeating',), ('no skills',), ('One_rhythm',), ('no skills',), ('up_leaping',), ('leaping_twisting',), ('leaping_twisting',), ('up_leaping',), ('leaping_twisting',), ('down_steping',), ('up_leaping',), ('up_leaping',), ('down_steping',), ('leaping_twisting',), ('up_steping',), ('leaping_twisting',), ('no skills',), ('up_steping',), ('repeating',), ('up_steping',), ('repeating',), ('down_leaping',), ('down_leaping',), ('continuing_rhythm',), ('up_steping',), ('up_steping',), ('down_steping',), ('up_steping',), ('up_leaping',), ('down_steping',), ('down_leaping',), ('down_steping',), ('up_leaping',), ('down_steping',), ('down_leaping',), ('down_steping',), ('up_steping',), ('leaping_twisting',), ('leaping_twisting',), ('no skills',), ('no skills',), ('leaping_twisting',), ('leaping_twisting',), ('leaping_twisting',), ('leaping_twisting',), ('leaping_twisting',), ('leaping_twisting',), ('up_steping',), ('leaping_twisting',), ('leaping_twisting',), ('leaping_twisting',), ('up_steping',), ('leaping_twisting',), ('leaping_twisting',), ('leaping_twisting',), ('leaping_twisting',), ('leaping_twisting',), ('leaping_twisting',), ('leaping_twisting',), ('leaping_twisting',), ('no skills',), ('fast_rhythm',), ('up_steping',), ('fast_rhythm',), ('fast_rhythm',), ('fast_rhythm',), ('fast_rhythm',), ('fast_rhythm',), ('fast_rhythm',), ('fast_rhythm',), ('fast_rhythm',), ('triplet',), ('fast_rhythm',), ('fast_rhythm',), ('up_steping',), ('fast_rhythm',), ('fast_rhythm',), ('fast_rhythm',), ('fast_rhythm',), ('fast_rhythm',), ('fast_rhythm',), ('fast_rhythm',), ('fast_rhythm',), ('fast_rhythm',), ('triplet',), ('fast_rhythm',), ('fast_rhythm',), ('fast_rhythm',), ('fast_rhythm',), ('fast_rhythm',), ('fast_rhythm',), ('fast_rhythm',), ('fast_rhythm',), ('fast_rhythm',), ('fast_rhythm',), ('fast_rhythm',), ('triplet',), ('triplet',), ('leaping_twisting',), ('triplet',), ('leaping_twisting',), ('triplet',), ('leaping_twisting',), ('triplet',), ('leaping_twisting',), ('triplet',), ('leaping_twisting',), ('triplet',), ('leaping_twisting',), ('triplet',), ('leaping_twisting',), ('triplet',), ('leaping_twisting',), ('up_leaping',), ('up_leaping',), ('up_leaping',), ('leaping_twisting',), ('up_leaping',), ('leaping_twisting',), ('up_steping',), ('leaping_twisting',), ('up_leaping',), ('leaping_twisting',), ('repeating',), ('leaping_twisting',), ('leaping_twisting',), ('no skills',), ('leaping_twisting',), ('leaping_twisting',), ('leaping_twisting',), ('repeating',), ('up_leaping',), ('leaping_twisting',), ('up_leaping',), ('up_steping',), ('no skills',), ('up_leaping',), ('up_leaping',), ('up_steping',), ('leaping_twisting',), ('up_leaping',), ('up_leaping',), ('up_steping',), ('leaping_twisting',), ('leaping_twisting',), ('leaping_twisting',), ('down_leaping',), ('leaping_twisting',), ('leaping_twisting',), ('down_leaping',), ('leaping_twisting',), ('leaping_twisting',), ('up_leaping',), ('up_steping',), ('up_leaping',), ('no skills',), ('down_steping',), ('up_steping',), ('no skills',), ('up_leaping',), ('leaping_twisting',), ('up_leaping',), ('no skills',), ('up_steping',), ('down_leaping',), ('up_steping',), ('no skills',), ('triplet',), ('triplet',), ('triplet',), ('fast_rhythm',), ('triplet',), ('no skills',), ('down_leaping',), ('leaping_twisting',), ('leaping_twisting',), ('repeating',), ('leaping_twisting',), ('no skills',), ('leaping_twisting',), ('no skills',), ('leaping_twisting',), ('up_leaping',), ('down_leaping',), ('One_rhythm',), ('One_rhythm',), ('One_rhythm',), ('One_rhythm',), ('One_rhythm',), ('One_rhythm',), ('up_steping',), ('up_steping',), ('up_steping',), ('One_rhythm',), ('One_rhythm',), ('One_rhythm',), ('One_rhythm',), ('One_rhythm',), ('One_rhythm',), ('One_rhythm',), ('One_rhythm',), ('One_rhythm',), ('One_rhythm',), ('repeating',), ('repeating',), ('no skills',), ('leaping_twisting',), ('leaping_twisting',), ('up_leaping',), ('up_steping',), ('up_leaping',), ('leaping_twisting',), ('up_leaping',), ('leaping_twisting',), ('leaping_twisting',), ('leaping_twisting',), ('up_leaping',), ('up_steping',), ('up_leaping',), ('no skills',), ('fast_rhythm',), ('fast_rhythm',), ('fast_rhythm',), ('continuing_rhythm',), ('up_steping',), ('no skills',), ('leaping_twisting',), ('fast_rhythm',), ('staccato',), ('fast_rhythm',), ('fast_rhythm',), ('leaping_twisting',), ('leaping_twisting',), ('fast_rhythm',), ('fast_rhythm',), ('fast_rhythm',), ('leaping_twisting',), ('fast_rhythm',), ('fast_rhythm',), ('fast_rhythm',), ('leaping_twisting',), ('fast_rhythm',), ('no skills',), ('leaping_twisting',), ('leaping_twisting',), ('leaping_twisting',), ('leaping_twisting',), ('leaping_twisting',), ('leaping_twisting',), ('One_rhythm',), ('leaping_twisting',), ('leaping_twisting',), ('leaping_twisting',), ('leaping_twisting',), ('leaping_twisting',), ('leaping_twisting',), ('leaping_twisting',), ('leaping_twisting',), ('leaping_twisting',), ('leaping_twisting',), ('up_leaping',), ('repeating',), ('fast_rhythm',), ('repeating',), ('repeating',), ('repeating',), ('repeating',), ('repeating',), ('repeating',), ('repeating',), ('fast_rhythm',), ('repeating',), ('no skills',), ('fast_rhythm',), ('fast_rhythm',), ('fast_rhythm',), ('fast_rhythm',), ('fast_rhythm',), ('up_steping',), ('leaping_twisting',), ('fast_rhythm',), ('fast_rhythm',), ('fast_rhythm',), ('leaping_twisting',), ('fast_rhythm',), ('fast_rhythm',), ('fast_rhythm',), ('leaping_twisting',), ('fast_rhythm',), ('fast_rhythm',), ('fast_rhythm',), ('leaping_twisting',), ('up_steping',), ('up_leaping',), ('staccato',), ('down_steping',), ('fast_rhythm',), ('up_leaping',), ('staccato',), ('down_steping',), ('fast_rhythm',), ('up_leaping',), ('staccato',), ('down_steping',), ('fast_rhythm',), ('up_leaping',), ('staccato',), ('up_steping',), ('down_steping',), ('One_rhythm',), ('One_rhythm',), ('up_leaping',), ('One_rhythm',), ('leaping_twisting',), ('up_leaping',), ('up_steping',), ('up_steping',), ('triplet',), ('leaping_twisting',), ('One_rhythm',), ('up_steping',), ('up_steping',), ('up_steping',), ('One_rhythm',), ('no skills',), ('up_leaping',), ('leaping_twisting',), ('up_leaping',), ('leaping_twisting',), ('up_leaping',), ('leaping_twisting',), ('up_leaping',), ('leaping_twisting',), ('leaping_twisting',), ('leaping_twisting',), ('up_leaping',), ('leaping_twisting',), ('up_leaping',), ('fast_rhythm',), ('up_leaping',), ('leaping_twisting',), ('leaping_twisting',), ('down_steping',), ('continuing_rhythm',), ('no skills',), ('up_steping',), ('no skills',), ('One_rhythm',), ('no skills',), ('staccato',), ('no skills',), ('down_steping',), ('leaping_twisting',), ('no skills',), ('up_steping',), ('no skills',), ('repeating',), ('no skills',), ('repeating',), ('repeating',), ('repeating',), ('no skills',), ('repeating',), ('repeating',), ('repeating',), ('no skills',), ('repeating',), ('no skills',), ('fast_rhythm',), ('repeating',), ('repeating',), ('up_steping',), ('repeating',), ('no skills',), ('repeating',), ('up_steping',), ('repeating',), ('no skills',), ('repeating',), ('up_steping',), ('repeating',), ('no skills',), ('repeating',), ('up_steping',), ('repeating',), ('no skills',), ('leaping_twisting',), ('leaping_twisting',), ('up_leaping',), ('up_steping',), ('fast_rhythm',), ('up_steping',), ('fast_rhythm',), ('up_steping',), ('fast_rhythm',), ('up_steping',), ('no skills',), ('up_steping',), ('fast_rhythm',), ('up_steping',), ('leaping_twisting',), ('up_steping',), ('fast_rhythm',), ('up_steping',), ('triplet',), ('repeating',), ('staccato',), ('no skills',), ('up_steping',), ('repeating',), ('triplet',), ('staccato',), ('triplet',), ('repeating',), ('no skills',), ('no skills',), ('up_steping',), ('no skills',), ('staccato',), ('no skills',), ('up_steping',), ('repeating',), ('no skills',), ('no skills',), ('repeating',), ('no skills',), ('leaping_twisting',), ('leaping_twisting',), ('leaping_twisting',), ('up_steping',), ('leaping_twisting',), ('leaping_twisting',), ('leaping_twisting',), ('up_steping',), ('up_steping',), ('no skills',), ('up_steping',), ('no skills',), ('repeating',), ('no skills',), ('leaping_twisting',), ('up_leaping',), ('leaping_twisting',), ('up_leaping',), ('up_leaping',), ('up_leaping',), ('up_leaping',), ('up_leaping',), ('leaping_twisting',), ('leaping_twisting',), ('leaping_twisting',), ('leaping_twisting',), ('leaping_twisting',), ('up_leaping',), ('up_leaping',), ('leaping_twisting',), ('leaping_twisting',), ('no skills',), ('leaping_twisting',), ('up_leaping',), ('leaping_twisting',), ('leaping_twisting',), ('up_leaping',), ('up_steping',), ('down_leaping',), ('down_leaping',), ('up_leaping',), ('up_leaping',), ('up_leaping',), ('down_leaping',), ('leaping_twisting',), ('leaping_twisting',), ('down_leaping',), ('up_leaping',), ('up_leaping',), ('up_steping',), ('no skills',), ('continuing_rhythm',), ('down_steping',), ('fast_rhythm',), ('leaping_twisting',), ('triplet',), ('no skills',), ('repeating',), ('up_leaping',), ('continuing_rhythm',), ('down_steping',), ('up_steping',), ('up_steping',), ('fast_rhythm',), ('up_steping',), ('no skills',), ('no skills',), ('up_steping',), ('down_leaping',), ('up_steping',), ('up_leaping',), ('down_steping',), ('no skills',), ('continuing_rhythm',), ('leaping_twisting',), ('continuing_rhythm',), ('repeating',), ('up_steping',), ('down_leaping',), ('continuing_rhythm',), ('leaping_twisting',), ('down_steping',), ('up_steping',), ('continuing_rhythm',), ('leaping_twisting',), ('continuing_rhythm',), ('no skills',), ('continuing_rhythm',), ('continuing_rhythm',), ('continuing_rhythm',), ('continuing_rhythm',), ('continuing_rhythm',), ('continuing_rhythm',), ('continuing_rhythm',), ('continuing_rhythm',), ('continuing_rhythm',), ('continuing_rhythm',), ('continuing_rhythm',), ('continuing_rhythm',), ('continuing_rhythm',), ('continuing_rhythm',), ('up_steping',), ('fast_rhythm',), ('fast_rhythm',), ('fast_rhythm',), ('fast_rhythm',), ('fast_rhythm',), ('fast_rhythm',), ('down_steping',), ('up_leaping',), ('no skills',), ('up_steping',), ('staccato',), ('up_leaping',), ('down_steping',), ('up_leaping',), ('no skills',), ('up_leaping',), ('up_steping',), ('One_rhythm',), ('staccato',), ('no skills',), ('no skills',), ('no skills',), ('up_leaping',), ('repeating',), ('repeating',), ('repeating',), ('leaping_twisting',), ('repeating',), ('One_rhythm',), ('no skills',), ('down_leaping',), ('repeating',), ('repeating',), ('repeating',), ('repeating',), ('repeating',), ('repeating',), ('repeating',), ('repeating',), ('repeating',), ('repeating',), ('up_leaping',), ('triplet',), ('no skills',), ('leaping_twisting',), ('up_leaping',), ('leaping_twisting',), ('up_leaping',), ('leaping_twisting',), ('up_leaping',), ('leaping_twisting',), ('leaping_twisting',), ('leaping_twisting',), ('leaping_twisting',), ('leaping_twisting',), ('leaping_twisting',), ('leaping_twisting',), ('up_leaping',), ('no skills',), ('no skills',), ('leaping_twisting',), ('leaping_twisting',), ('repeating',), ('repeating',), ('fast_rhythm',), ('fast_rhythm',), ('fast_rhythm',), ('fast_rhythm',), ('fast_rhythm',), ('fast_rhythm',), ('fast_rhythm',), ('fast_rhythm',), ('fast_rhythm',), ('fast_rhythm',), ('fast_rhythm',), ('fast_rhythm',), ('fast_rhythm',), ('no skills',), ('leaping_twisting',), ('triplet',), ('up_steping',), ('triplet',), ('leaping_twisting',), ('leaping_twisting',), ('up_steping',), ('down_leaping',), ('triplet',), ('no skills',), ('down_steping',), ('triplet',), ('no skills',), ('triplet',), ('triplet',), ('up_leaping',), ('no skills',), ('leaping_twisting',), ('repeating',), ('repeating',), ('up_leaping',), ('steping_twisting',), ('up_leaping',), ('steping_twisting',), ('leaping_twisting',), ('no skills',), ('leaping_twisting',), ('no skills',), ('leaping_twisting',), ('repeating',), ('leaping_twisting',), ('no skills',), ('leaping_twisting',), ('repeating',), ('leaping_twisting',), ('no skills',), ('fast_rhythm',), ('no skills',), ('no skills',), ('leaping_twisting',), ('One_rhythm',), ('triplet',), ('One_rhythm',), ('fast_rhythm',), ('One_rhythm',), ('repeating',), ('no skills',), ('triplet',), ('repeating',), ('leaping_twisting',), ('leaping_twisting',), ('leaping_twisting',), ('no skills',), ('fast_rhythm',), ('no skills',), ('repeating',), ('no skills',), ('no skills',), ('repeating',), ('repeating',), ('up_steping',), ('repeating',), ('fast_rhythm',), ('repeating',), ('up_steping',), ('repeating',), ('fast_rhythm',), ('repeating',), ('staccato',), ('repeating',), ('repeating',), ('continuing_rhythm',), ('triplet',), ('repeating',), ('fast_rhythm',), ('continuing_rhythm',), ('up_steping',), ('repeating',), ('repeating',), ('repeating',), ('no skills',), ('staccato',), ('repeating',), ('up_steping',), ('staccato',), ('staccato',), ('repeating',), ('up_steping',), ('staccato',), ('staccato',), ('repeating',), ('up_steping',), ('staccato',), ('staccato',), ('repeating',), ('repeating',), ('up_leaping',), ('repeating',), ('repeating',), ('down_leaping',), ('leaping_twisting',), ('continuing_rhythm',), ('repeating',), ('up_steping',), ('repeating',), ('repeating',), ('repeating',), ('repeating',), ('repeating',), ('no skills',), ('up_leaping',), ('repeating',), ('up_steping',), ('no skills',), ('down_steping',), ('steping_twisting',), ('up_steping',), ('down_steping',), ('One_rhythm',), ('steping_twisting',), ('triplet',), ('up_steping',), ('One_rhythm',), ('no skills',), ('up_leaping',), ('triplet',), ('up_steping',), ('up_steping',), ('leaping_twisting',), ('up_steping',), ('leaping_twisting',), ('repeating',), ('repeating',), ('repeating',), ('up_steping',), ('leaping_twisting',), ('repeating',), ('repeating',), ('repeating',), ('up_steping',), ('repeating',), ('repeating',), ('up_steping',), ('leaping_twisting',), ('repeating',), ('no skills',), ('fast_rhythm',), ('fast_rhythm',), ('fast_rhythm',), ('fast_rhythm',), ('fast_rhythm',), ('fast_rhythm',), ('fast_rhythm',), ('fast_rhythm',), ('fast_rhythm',), ('fast_rhythm',), ('fast_rhythm',), ('fast_rhythm',), ('up_leaping',), ('fast_rhythm',), ('no skills',), ('no skills',), ('no skills',), ('no skills',), ('staccato',), ('leaping_twisting',), ('fast_rhythm',), ('fast_rhythm',), ('no skills',), ('no skills',), ('no skills',), ('no skills',), ('staccato',), ('leaping_twisting',), ('leaping_twisting',), ('leaping_twisting',), ('leaping_twisting',), ('triplet',), ('triplet',), ('leaping_twisting',), ('leaping_twisting',), ('triplet',), ('continuing_rhythm',), ('leaping_twisting',), ('leaping_twisting',), ('staccato',), ('down_leaping',), ('up_steping',), ('up_steping',), ('up_leaping',), ('leaping_twisting',), ('leaping_twisting',), ('triplet',), ('leaping_twisting',), ('up_leaping',), ('leaping_twisting',), ('up_leaping',), ('One_rhythm',), ('down_leaping',), ('up_steping',), ('leaping_twisting',), ('leaping_twisting',), ('triplet',), ('up_leaping',), ('leaping_twisting',), ('up_steping',), ('One_rhythm',), ('leaping_twisting',), ('up_steping',), ('steping_twisting',), ('steping_twisting',), ('down_steping',), ('down_steping',), ('up_steping',), ('down_steping',), ('down_steping',), ('triplet',), ('One_rhythm',), ('up_steping',), ('up_steping',), ('One_rhythm',), ('no skills',), ('leaping_twisting',), ('no skills',), ('up_leaping',), ('down_leaping',), ('staccato',), ('repeating',), ('up_steping',), ('leaping_twisting',), ('up_steping',), ('no skills',), ('continuing_rhythm',), ('continuing_rhythm',), ('up_steping',), ('leaping_twisting',), ('continuing_rhythm',), ('continuing_rhythm',), ('up_steping',), ('continuing_rhythm',), ('leaping_twisting',), ('leaping_twisting',), ('repeating',), ('triplet',), ('leaping_twisting',), ('triplet',), ('leaping_twisting',), ('triplet',), ('leaping_twisting',), ('fast_rhythm',), ('leaping_twisting',), ('leaping_twisting',), ('leaping_twisting',), ('fast_rhythm',), ('triplet',), ('leaping_twisting',), ('leaping_twisting',), ('leaping_twisting',), ('continuing_rhythm',), ('triplet',), ('leaping_twisting',), ('leaping_twisting',), ('triplet',), ('no skills',), ('leaping_twisting',), ('leaping_twisting',), ('fast_rhythm',), ('fast_rhythm',), ('no skills',), ('leaping_twisting',), ('fast_rhythm',), ('staccato',), ('leaping_twisting',), ('leaping_twisting',), ('leaping_twisting',), ('fast_rhythm',), ('no skills',), ('up_steping',), ('no skills',), ('up_steping',), ('no skills',), ('no skills',), ('repeating',), ('up_steping',), ('no skills',), ('up_steping',), ('repeating',), ('up_steping',), ('up_steping',), ('no skills',), ('repeating',), ('up_steping',), ('no skills',), ('no skills',), ('repeating',), ('up_steping',), ('up_steping',), ('no skills',), ('repeating',), ('up_steping',), ('no skills',), ('triplet',), ('staccato',), ('staccato',), ('no skills',), ('triplet',), ('staccato',), ('staccato',), ('staccato',), ('staccato',), ('staccato',), ('staccato',), ('no skills',), ('triplet',), ('up_steping',), ('steping_twisting',), ('One_rhythm',), ('down_steping',), ('no skills',), ('One_rhythm',), ('no skills',), ('no skills',), ('staccato',), ('staccato',), ('staccato',), ('staccato',), ('staccato',), ('One_rhythm',), ('up_steping',), ('continuing_rhythm',), ('One_rhythm',), ('One_rhythm',), ('up_steping',), ('One_rhythm',), ('One_rhythm',), ('One_rhythm',), ('triplet',), ('One_rhythm',), ('no skills',), ('One_rhythm',), ('One_rhythm',), ('up_steping',), ('continuing_rhythm',), ('no skills',), ('triplet',), ('up_steping',), ('up_steping',), ('up_steping',), ('up_steping',), ('up_steping',), ('up_steping',), ('no skills',), ('up_steping',), ('up_steping',), ('up_steping',), ('up_steping',), ('up_steping',), ('up_steping',), ('fast_rhythm',), ('up_steping',), ('fast_rhythm',), ('up_steping',), ('fast_rhythm',), ('up_steping',), ('fast_rhythm',), ('up_steping',), ('fast_rhythm',), ('fast_rhythm',), ('fast_rhythm',), ('up_steping',), ('fast_rhythm',), ('fast_rhythm',), ('up_steping',), ('fast_rhythm',), ('fast_rhythm',), ('continuing_rhythm',), ('continuing_rhythm',), ('continuing_rhythm',), ('fast_rhythm',), ('leaping_twisting',), ('fast_rhythm',), ('fast_rhythm',), ('fast_rhythm',), ('continuing_rhythm',), ('continuing_rhythm',), ('continuing_rhythm',), ('fast_rhythm',), ('leaping_twisting',), ('fast_rhythm',), ('fast_rhythm',), ('continuing_rhythm',), ('fast_rhythm',), ('fast_rhythm',), ('continuing_rhythm',), ('fast_rhythm',), ('up_steping',), ('up_steping',), ('up_steping',), ('up_steping',), ('up_steping',), ('up_steping',), ('up_steping',), ('up_steping',), ('up_steping',), ('up_steping',), ('up_steping',), ('up_steping',), ('up_steping',), ('up_steping',), ('up_leaping',), ('leaping_twisting',), ('leaping_twisting',), ('no skills',), ('up_steping',), ('no skills',), ('up_steping',), ('up_steping',), ('up_steping',), ('no skills',), ('up_steping',), ('up_steping',), ('up_steping',), ('leaping_twisting',), ('leaping_twisting',), ('leaping_twisting',), ('leaping_twisting',), ('leaping_twisting',), ('leaping_twisting',), ('leaping_twisting',), ('leaping_twisting',), ('leaping_twisting',), ('leaping_twisting',), ('up_leaping',), ('up_steping',), ('no skills',), ('up_steping',), ('no skills',), ('up_steping',), ('leaping_twisting',), ('no skills',), ('no skills',), ('up_steping',), ('no skills',), ('triplet',), ('no skills',), ('up_leaping',), ('no skills',), ('down_leaping',), ('repeating',), ('repeating',), ('repeating',), ('no skills',), ('repeating',), ('no skills',), ('repeating',), ('up_leaping',), ('staccato',), ('staccato',), ('repeating',), ('no skills',), ('leaping_twisting',), ('up_steping',), ('repeating',), ('One_rhythm',), ('no skills',), ('One_rhythm',), ('One_rhythm',), ('One_rhythm',), ('One_rhythm',), ('repeating',), ('leaping_twisting',), ('One_rhythm',), ('One_rhythm',), ('leaping_twisting',), ('leaping_twisting',), ('One_rhythm',), ('no skills',), ('leaping_twisting',), ('leaping_twisting',), ('One_rhythm',), ('One_rhythm',), ('repeating',), ('One_rhythm',), ('leaping_twisting',), ('up_leaping',), ('fast_rhythm',), ('repeating',), ('One_rhythm',), ('repeating',), ('repeating',), ('repeating',), ('repeating',), ('repeating',), ('repeating',), ('repeating',), ('repeating',), ('repeating',), ('One_rhythm',), ('leaping_twisting',), ('up_leaping',), ('leaping_twisting',), ('leaping_twisting',), ('leaping_twisting',), ('leaping_twisting',), ('leaping_twisting',), ('leaping_twisting',), ('leaping_twisting',), ('leaping_twisting',), ('leaping_twisting',), ('leaping_twisting',), ('leaping_twisting',), ('leaping_twisting',), ('leaping_twisting',), ('leaping_twisting',), ('leaping_twisting',), ('leaping_twisting',), ('leaping_twisting',), ('leaping_twisting',), ('leaping_twisting',), ('no skills',), ('fast_rhythm',), ('continuing_rhythm',), ('repeating',), ('no skills',), ('repeating',), ('down_leaping',), ('triplet',), ('no skills',), ('repeating',), ('continuing_rhythm',), ('continuing_rhythm',), ('continuing_rhythm',), ('continuing_rhythm',), ('One_rhythm',), ('continuing_rhythm',), ('continuing_rhythm',), ('leaping_twisting',), ('leaping_twisting',), ('leaping_twisting',), ('continuing_rhythm',), ('continuing_rhythm',), ('continuing_rhythm',), ('leaping_twisting',), ('continuing_rhythm',), ('continuing_rhythm',), ('no skills',), ('leaping_twisting',), ('staccato',), ('fast_rhythm',), ('fast_rhythm',), ('leaping_twisting',), ('up_steping',), ('fast_rhythm',), ('fast_rhythm',), ('leaping_twisting',), ('up_steping',), ('fast_rhythm',), ('fast_rhythm',), ('leaping_twisting',), ('up_steping',), ('fast_rhythm',), ('fast_rhythm',), ('leaping_twisting',), ('up_steping',), ('fast_rhythm',), ('fast_rhythm',), ('leaping_twisting',), ('up_leaping',), ('leaping_twisting',), ('leaping_twisting',), ('fast_rhythm',), ('leaping_twisting',), ('One_rhythm',), ('leaping_twisting',), ('fast_rhythm',), ('leaping_twisting',), ('leaping_twisting',), ('leaping_twisting',), ('fast_rhythm',), ('leaping_twisting',), ('One_rhythm',), ('leaping_twisting',), ('leaping_twisting',), ('leaping_twisting',), ('leaping_twisting',), ('up_steping',), ('triplet',), ('triplet',), ('up_steping',), ('triplet',), ('triplet',), ('triplet',), ('triplet',), ('up_steping',), ('triplet',), ('repeating',), ('no skills',), ('down_steping',), ('leaping_twisting',), ('leaping_twisting',), ('leaping_twisting',), ('staccato',), ('leaping_twisting',), ('leaping_twisting',), ('no skills',), ('no skills',), ('One_rhythm',), ('leaping_twisting',), ('One_rhythm',), ('leaping_twisting',), ('leaping_twisting',), ('leaping_twisting',), ('staccato',), ('repeating',), ('leaping_twisting',), ('leaping_twisting',), ('leaping_twisting',), ('repeating',), ('leaping_twisting',), ('leaping_twisting',), ('leaping_twisting',), ('repeating',), ('leaping_twisting',), ('leaping_twisting',), ('leaping_twisting',), ('repeating',), ('leaping_twisting',), ('leaping_twisting',), ('leaping_twisting',), ('repeating',), ('no skills',), ('no skills',), ('down_leaping',), ('no skills',), ('no skills',), ('no skills',), ('down_leaping',), ('repeating',), ('continuing_rhythm',), ('One_rhythm',), ('One_rhythm',), ('continuing_rhythm',), ('continuing_rhythm',), ('continuing_rhythm',), ('continuing_rhythm',), ('continuing_rhythm',), ('One_rhythm',), ('continuing_rhythm',), ('continuing_rhythm',), ('continuing_rhythm',), ('continuing_rhythm',), ('no skills',), ('up_steping',), ('no skills',), ('up_steping',), ('up_steping',), ('up_steping',), ('up_steping',), ('no skills',), ('up_steping',), ('repeating',), ('no skills',), ('no skills',), ('no skills',), ('no skills',), ('no skills',), ('no skills',), ('up_steping',), ('up_steping',), ('up_steping',), ('triplet',), ('no skills',), ('up_steping',), ('up_steping',), ('triplet',), ('no skills',), ('up_steping',), ('no skills',), ('steping_twisting',), ('up_steping',), ('up_steping',), ('no skills',), ('no skills',), ('no skills',), ('no skills',), ('no skills',), ('up_steping',), ('up_leaping',), ('up_steping',), ('up_leaping',), ('up_steping',), ('up_leaping',), ('up_steping',), ('up_leaping',), ('up_steping',), ('up_leaping',), ('up_steping',), ('up_leaping',), ('up_steping',), ('leaping_twisting',), ('up_steping',), ('leaping_twisting',), ('up_steping',), ('leaping_twisting',), ('up_steping',), ('down_leaping',), ('continuing_rhythm',), ('up_leaping',), ('up_steping',), ('up_steping',), ('up_steping',), ('up_steping',), ('up_steping',), ('up_steping',), ('up_steping',), ('up_steping',), ('up_steping',), ('up_steping',), ('up_steping',), ('up_steping',), ('up_steping',), ('up_steping',), ('up_steping',), ('up_steping',), ('up_steping',), ('up_steping',), ('repeating',), ('leaping_twisting',), ('repeating',), ('triplet',), ('repeating',), ('repeating',), ('triplet',), ('fast_rhythm',), ('leaping_twisting',), ('up_leaping',), ('leaping_twisting',), ('leaping_twisting',), ('repeating',), ('leaping_twisting',), ('down_leaping',), ('leaping_twisting',), ('down_leaping',), ('leaping_twisting',), ('down_leaping',), ('leaping_twisting',), ('down_leaping',), ('leaping_twisting',), ('down_leaping',), ('leaping_twisting',), ('up_steping',), ('leaping_twisting',), ('leaping_twisting',), ('leaping_twisting',), ('up_steping',), ('leaping_twisting',), ('leaping_twisting',), ('leaping_twisting',), ('no skills',), ('up_steping',), ('no skills',), ('up_steping',), ('no skills',), ('up_steping',), ('up_leaping',), ('leaping_twisting',), ('repeating',), ('repeating',), ('no skills',), ('up_steping',), ('no skills',), ('leaping_twisting',), ('continuing_rhythm',), ('no skills',), ('repeating',), ('up_leaping',), ('repeating',), ('leaping_twisting',), ('staccato',), ('leaping_twisting',), ('staccato',), ('staccato',), ('staccato',), ('repeating',), ('repeating',), ('repeating',), ('repeating',), ('triplet',), ('up_steping',), ('repeating',), ('leaping_twisting',), ('repeating',), ('triplet',), ('leaping_twisting',), ('repeating',), ('repeating',), ('repeating',), ('repeating',), ('repeating',), ('up_steping',), ('no skills',), ('triplet',), ('triplet',), ('triplet',), ('triplet',), ('triplet',), ('triplet',), ('triplet',), ('triplet',), ('triplet',), ('fast_rhythm',), ('triplet',), ('triplet',), ('fast_rhythm',), ('fast_rhythm',), ('up_steping',), ('fast_rhythm',), ('triplet',), ('no skills',), ('up_steping',), ('fast_rhythm',), ('up_steping',), ('up_steping',), ('repeating',), ('repeating',), ('fast_rhythm',), ('fast_rhythm',), ('up_steping',), ('no skills',), ('leaping_twisting',), ('leaping_twisting',), ('leaping_twisting',), ('leaping_twisting',), ('leaping_twisting',), ('leaping_twisting',), ('leaping_twisting',), ('leaping_twisting',), ('leaping_twisting',), ('leaping_twisting',), ('leaping_twisting',), ('leaping_twisting',), ('leaping_twisting',), ('leaping_twisting',), ('leaping_twisting',), ('leaping_twisting',), ('leaping_twisting',), ('no skills',), ('leaping_twisting',), ('no skills',), ('One_rhythm',), ('One_rhythm',), ('One_rhythm',), ('continuing_rhythm',), ('continuing_rhythm',), ('continuing_rhythm',), ('no skills',), ('leaping_twisting',), ('leaping_twisting',), ('triplet',), ('no skills',), ('down_leaping',), ('no skills',), ('no skills',), ('no skills',), ('up_leaping',), ('no skills',), ('no skills',), ('staccato',), ('down_leaping',), ('up_steping',), ('up_steping',), ('up_steping',), ('up_steping',), ('leaping_twisting',), ('up_steping',), ('fast_rhythm',), ('up_steping',), ('no skills',), ('fast_rhythm',), ('up_steping',), ('up_steping',), ('triplet',), ('up_steping',), ('fast_rhythm',), ('no skills',), ('up_steping',), ('triplet',), ('up_steping',), ('no skills',), ('no skills',), ('triplet',), ('staccato',), ('no skills',), ('no skills',), ('leaping_twisting',), ('up_steping',), ('continuing_rhythm',), ('leaping_twisting',), ('leaping_twisting',), ('leaping_twisting',), ('leaping_twisting',), ('leaping_twisting',), ('leaping_twisting',), ('leaping_twisting',), ('leaping_twisting',), ('repeating',), ('repeating',), ('no skills',), ('no skills',), ('fast_rhythm',), ('no skills',), ('One_rhythm',), ('no skills',), ('repeating',), ('continuing_rhythm',), ('up_steping',), ('up_leaping',), ('up_steping',), ('up_steping',), ('up_steping',), ('up_steping',), ('no skills',), ('repeating',), ('leaping_twisting',), ('up_steping',), ('up_steping',), ('repeating',), ('repeating',), ('up_steping',), ('up_steping',), ('triplet',), ('repeating',), ('no skills',), ('no skills',), ('no skills',), ('up_steping',), ('repeating',), ('up_leaping',), ('up_leaping',), ('no skills',), ('up_leaping',), ('leaping_twisting',), ('fast_rhythm',), ('up_leaping',), ('up_steping',), ('leaping_twisting',), ('up_steping',), ('up_leaping',), ('up_steping',), ('leaping_twisting',), ('up_steping',), ('no skills',), ('leaping_twisting',), ('up_leaping',), ('down_leaping',), ('fast_rhythm',), ('fast_rhythm',), ('fast_rhythm',), ('fast_rhythm',), ('down_leaping',), ('no skills',), ('no skills',), ('up_steping',), ('fast_rhythm',), ('fast_rhythm',), ('fast_rhythm',), ('up_steping',), ('fast_rhythm',), ('fast_rhythm',), ('fast_rhythm',), ('fast_rhythm',), ('continuing_rhythm',), ('continuing_rhythm',), ('continuing_rhythm',), ('continuing_rhythm',), ('continuing_rhythm',), ('continuing_rhythm',), ('continuing_rhythm',), ('fast_rhythm',), ('fast_rhythm',), ('triplet',), ('up_leaping',), ('down_leaping',), ('up_leaping',), ('leaping_twisting',), ('up_steping',), ('triplet',), ('leaping_twisting',), ('leaping_twisting',), ('no skills',), ('continuing_rhythm',), ('continuing_rhythm',), ('continuing_rhythm',), ('continuing_rhythm',), ('down_leaping',), ('down_leaping',), ('down_leaping',), ('no skills',), ('no skills',), ('no skills',), ('no skills',), ('no skills',), ('no skills',), ('no skills',), ('no skills',), ('no skills',), ('no skills',), ('no skills',), ('no skills',), ('no skills',), ('continuing_rhythm',), ('continuing_rhythm',), ('no skills',), ('continuing_rhythm',), ('continuing_rhythm',), ('continuing_rhythm',), ('no skills',), ('One_rhythm',), ('up_steping',), ('One_rhythm',), ('One_rhythm',), ('fast_rhythm',), ('no skills',), ('fast_rhythm',), ('up_leaping',), ('triplet',), ('triplet',), ('fast_rhythm',), ('fast_rhythm',), ('triplet',), ('triplet',), ('fast_rhythm',), ('fast_rhythm',), ('no skills',), ('repeating',), ('repeating',), ('no skills',), ('repeating',), ('leaping_twisting',), ('leaping_twisting',), ('continuing_rhythm',), ('leaping_twisting',), ('leaping_twisting',), ('down_steping',), ('leaping_twisting',), ('no skills',), ('leaping_twisting',), ('leaping_twisting',), ('continuing_rhythm',), ('fast_rhythm',), ('up_leaping',), ('fast_rhythm',), ('fast_rhythm',), ('repeating',), ('up_steping',), ('up_steping',), ('fast_rhythm',), ('leaping_twisting',), ('fast_rhythm',), ('leaping_twisting',), ('fast_rhythm',), ('down_steping',), ('down_leaping',), ('repeating',), ('continuing_rhythm',), ('up_leaping',), ('continuing_rhythm',), ('up_leaping',), ('down_steping',), ('up_steping',), ('down_leaping',), ('One_rhythm',), ('down_steping',), ('up_steping',), ('up_steping',), ('One_rhythm',), ('repeating',), ('repeating',), ('repeating',), ('repeating',), ('repeating',), ('repeating',), ('repeating',), ('repeating',), ('repeating',), ('repeating',), ('repeating',), ('repeating',), ('repeating',), ('repeating',), ('repeating',), ('repeating',), ('repeating',), ('up_steping',), ('down_steping',), ('steping_twisting',), ('leaping_twisting',), ('up_steping',), ('leaping_twisting',), ('up_steping',), ('leaping_twisting',), ('staccato',), ('staccato',), ('leaping_twisting',), ('staccato',), ('up_steping',), ('up_steping',), ('no skills',), ('no skills',), ('repeating',), ('repeating',), ('repeating',), ('repeating',), ('repeating',), ('repeating',), ('repeating',), ('repeating',), ('fast_rhythm',), ('repeating',), ('One_rhythm',), ('repeating',), ('repeating',), ('repeating',), ('repeating',), ('repeating',), ('repeating',), ('repeating',), ('repeating',), ('repeating',), ('repeating',), ('leaping_twisting',), ('leaping_twisting',), ('down_leaping',), ('up_leaping',), ('up_leaping',), ('up_leaping',), ('up_leaping',), ('leaping_twisting',), ('leaping_twisting',), ('up_leaping',), ('up_steping',), ('up_leaping',), ('up_leaping',), ('up_leaping',), ('leaping_twisting',), ('up_leaping',), ('leaping_twisting',), ('no skills',), ('leaping_twisting',), ('up_steping',), ('down_steping',), ('up_steping',), ('up_steping',), ('no skills',), ('leaping_twisting',), ('up_leaping',), ('down_steping',), ('up_steping',), ('triplet',), ('up_steping',), ('leaping_twisting',), ('up_steping',), ('no skills',), ('up_steping',), ('up_steping',), ('up_steping',), ('triplet',), ('fast_rhythm',), ('fast_rhythm',), ('fast_rhythm',), ('fast_rhythm',), ('fast_rhythm',), ('leaping_twisting',), ('fast_rhythm',), ('up_leaping',), ('leaping_twisting',), ('leaping_twisting',), ('up_leaping',), ('leaping_twisting',), ('leaping_twisting',), ('leaping_twisting',), ('leaping_twisting',), ('leaping_twisting',), ('up_steping',), ('up_leaping',), ('leaping_twisting',), ('up_leaping',), ('leaping_twisting',), ('up_leaping',), ('up_leaping',), ('up_leaping',), ('no skills',), ('down_steping',), ('leaping_twisting',), ('triplet',), ('triplet',), ('no skills',), ('triplet',), ('leaping_twisting',), ('triplet',), ('triplet',), ('up_steping',), ('down_steping',), ('up_steping',), ('no skills',), ('no skills',), ('down_leaping',), ('fast_rhythm',), ('no skills',), ('triplet',), ('no skills',), ('triplet',), ('down_leaping',), ('up_leaping',), ('leaping_twisting',), ('no skills',), ('up_leaping',), ('leaping_twisting',), ('up_leaping',), ('no skills',), ('down_steping',), ('up_leaping',), ('staccato',), ('down_steping',), ('leaping_twisting',), ('up_steping',), ('up_leaping',), ('up_steping',), ('up_leaping',), ('down_leaping',), ('leaping_twisting',), ('leaping_twisting',), ('leaping_twisting',), ('leaping_twisting',), ('leaping_twisting',), ('leaping_twisting',), ('leaping_twisting',), ('leaping_twisting',), ('leaping_twisting',), ('leaping_twisting',), ('leaping_twisting',), ('leaping_twisting',), ('triplet',), ('leaping_twisting',), ('triplet',), ('leaping_twisting',), ('leaping_twisting',), ('up_steping',), ('leaping_twisting',), ('leaping_twisting',), ('up_steping',), ('up_steping',), ('leaping_twisting',), ('leaping_twisting',), ('up_steping',), ('up_steping',), ('leaping_twisting',), ('leaping_twisting',), ('up_steping',), ('up_steping',), ('leaping_twisting',), ('leaping_twisting',), ('up_steping',), ('up_steping',), ('leaping_twisting',), ('triplet',), ('continuing_rhythm',), ('leaping_twisting',), ('continuing_rhythm',), ('leaping_twisting',), ('leaping_twisting',), ('continuing_rhythm',), ('triplet',), ('continuing_rhythm',), ('leaping_twisting',), ('continuing_rhythm',), ('leaping_twisting',), ('leaping_twisting',), ('no skills',), ('leaping_twisting',), ('leaping_twisting',), ('leaping_twisting',), ('leaping_twisting',), ('leaping_twisting',), ('leaping_twisting',), ('leaping_twisting',), ('leaping_twisting',), ('leaping_twisting',), ('leaping_twisting',), ('leaping_twisting',), ('leaping_twisting',), ('leaping_twisting',), ('leaping_twisting',), ('One_rhythm',), ('leaping_twisting',), ('leaping_twisting',), ('leaping_twisting',), ('no skills',), ('leaping_twisting',), ('no skills',), ('down_leaping',), ('staccato',), ('down_leaping',), ('leaping_twisting',), ('down_leaping',), ('staccato',), ('leaping_twisting',), ('down_leaping',), ('no skills',), ('no skills',), ('triplet',), ('One_rhythm',), ('no skills',), ('triplet',), ('fast_rhythm',), ('triplet',), ('triplet',), ('no skills',), ('fast_rhythm',), ('no skills',), ('triplet',), ('repeating',), ('up_steping',), ('leaping_twisting',), ('no skills',), ('triplet',), ('triplet',), ('triplet',), ('down_leaping',), ('no skills',), ('no skills',), ('repeating',), ('no skills',), ('triplet',), ('no skills',), ('up_steping',), ('no skills',), ('repeating',), ('One_rhythm',), ('One_rhythm',), ('One_rhythm',), ('One_rhythm',), ('One_rhythm',), ('repeating',), ('no skills',), ('no skills',), ('no skills',), ('down_steping',), ('One_rhythm',), ('continuing_rhythm',), ('One_rhythm',), ('One_rhythm',), ('One_rhythm',), ('One_rhythm',), ('One_rhythm',), ('repeating',), ('One_rhythm',), ('up_steping',), ('One_rhythm',), ('up_steping',), ('leaping_twisting',), ('leaping_twisting',), ('leaping_twisting',), ('leaping_twisting',), ('leaping_twisting',), ('leaping_twisting',), ('leaping_twisting',), ('leaping_twisting',), ('leaping_twisting',), ('leaping_twisting',), ('leaping_twisting',), ('leaping_twisting',), ('leaping_twisting',), ('up_leaping',), ('up_steping',), ('steping_twisting',), ('down_steping',), ('repeating',), ('up_steping',), ('no skills',), ('no skills',), ('steping_twisting',), ('up_steping',), ('down_steping',), ('down_steping',), ('leaping_twisting',), ('up_steping',), ('no skills',), ('no skills',), ('up_steping',), ('up_leaping',), ('up_leaping',), ('leaping_twisting',), ('up_leaping',), ('up_leaping',), ('up_leaping',), ('up_steping',), ('up_leaping',), ('up_leaping',), ('up_leaping',), ('leaping_twisting',), ('up_leaping',), ('up_leaping',), ('up_leaping',), ('up_steping',), ('up_leaping',), ('up_leaping',), ('up_leaping',), ('leaping_twisting',), ('up_leaping',), ('no skills',), ('up_leaping',), ('up_leaping',), ('leaping_twisting',), ('up_leaping',), ('leaping_twisting',), ('up_leaping',), ('leaping_twisting',), ('leaping_twisting',), ('up_leaping',), ('up_leaping',), ('leaping_twisting',), ('up_leaping',), ('leaping_twisting',), ('up_leaping',), ('leaping_twisting',), ('down_leaping',), ('leaping_twisting',), ('up_leaping',), ('up_leaping',), ('up_leaping',), ('up_leaping',), ('leaping_twisting',), ('leaping_twisting',), ('leaping_twisting',), ('up_leaping',), ('up_leaping',), ('up_leaping',), ('up_leaping',), ('up_leaping',), ('repeating',), ('up_leaping',), ('no skills',), ('no skills',), ('no skills',), ('repeating',), ('repeating',), ('repeating',), ('no skills',), ('leaping_twisting',), ('no skills',), ('no skills',), ('leaping_twisting',), ('no skills',), ('no skills',), ('triplet',), ('triplet',), ('leaping_twisting',), ('up_leaping',), ('triplet',), ('triplet',), ('triplet',), ('up_leaping',), ('triplet',), ('triplet',), ('triplet',), ('down_leaping',), ('leaping_twisting',), ('down_leaping',), ('leaping_twisting',), ('up_leaping',), ('triplet',), ('no skills',), ('no skills',), ('up_leaping',), ('down_leaping',), ('leaping_twisting',), ('leaping_twisting',), ('leaping_twisting',), ('up_leaping',), ('up_leaping',), ('leaping_twisting',), ('leaping_twisting',), ('leaping_twisting',), ('up_leaping',), ('up_leaping',), ('leaping_twisting',), ('leaping_twisting',), ('up_steping',), ('up_leaping',), ('no skills',), ('no skills',), ('no skills',), ('no skills',), ('no skills',), ('no skills',), ('no skills',), ('no skills',), ('no skills',), ('no skills',), ('no skills',), ('no skills',), ('no skills',), ('no skills',), ('no skills',), ('no skills',), ('no skills',), ('no skills',), ('no skills',), ('no skills',), ('leaping_twisting',), ('repeating',), ('triplet',), ('up_steping',), ('triplet',), ('up_steping',), ('up_leaping',), ('triplet',), ('triplet',), ('triplet',), ('triplet',), ('triplet',), ('triplet',), ('no skills',), ('leaping_twisting',), ('leaping_twisting',), ('no skills',), ('steping_twisting',), ('down_steping',), ('down_steping',), ('no skills',), ('no skills',), ('down_steping',), ('no skills',), ('up_steping',), ('continuing_rhythm',), ('down_steping',), ('down_steping',), ('repeating',), ('down_steping',), ('down_steping',), ('no skills',), ('no skills',), ('up_leaping',), ('triplet',), ('leaping_twisting',), ('leaping_twisting',), ('up_leaping',), ('staccato',), ('up_leaping',), ('down_leaping',), ('up_leaping',), ('up_steping',), ('leaping_twisting',), ('leaping_twisting',), ('up_steping',), ('leaping_twisting',), ('leaping_twisting',), ('leaping_twisting',), ('no skills',), ('staccato',), ('staccato',), ('leaping_twisting',), ('leaping_twisting',), ('leaping_twisting',), ('staccato',), ('leaping_twisting',), ('staccato',), ('leaping_twisting',), ('leaping_twisting',), ('leaping_twisting',), ('up_steping',), ('leaping_twisting',), ('no skills',), ('fast_rhythm',), ('no skills',), ('down_steping',), ('no skills',), ('triplet',), ('up_steping',), ('no skills',), ('continuing_rhythm',), ('no skills',), ('triplet',), ('no skills',), ('up_leaping',), ('up_leaping',), ('One_rhythm',), ('continuing_rhythm',), ('continuing_rhythm',), ('continuing_rhythm',), ('continuing_rhythm',), ('up_leaping',), ('up_leaping',), ('up_leaping',), ('continuing_rhythm',), ('continuing_rhythm',), ('continuing_rhythm',), ('continuing_rhythm',), ('continuing_rhythm',), ('up_leaping',), ('no skills',), ('up_steping',), ('down_leaping',), ('no skills',), ('no skills',), ('up_steping',), ('continuing_rhythm',), ('continuing_rhythm',), ('fast_rhythm',), ('continuing_rhythm',), ('fast_rhythm',), ('no skills',), ('no skills',), ('continuing_rhythm',), ('repeating',), ('no skills',), ('no skills',), ('no skills',), ('fast_rhythm',), ('leaping_twisting',), ('leaping_twisting',), ('fast_rhythm',), ('fast_rhythm',), ('leaping_twisting',), ('leaping_twisting',), ('fast_rhythm',), ('fast_rhythm',), ('leaping_twisting',), ('leaping_twisting',), ('fast_rhythm',), ('up_leaping',), ('repeating',), ('staccato',), ('staccato',), ('repeating',), ('staccato',), ('leaping_twisting',), ('One_rhythm',), ('up_leaping',), ('staccato',), ('staccato',), ('staccato',), ('One_rhythm',), ('up_leaping',), ('continuing_rhythm',), ('no skills',), ('up_leaping',), ('repeating',), ('repeating',), ('no skills',), ('up_steping',), ('up_leaping',), ('leaping_twisting',), ('down_leaping',), ('leaping_twisting',), ('down_leaping',), ('no skills',), ('triplet',), ('leaping_twisting',), ('triplet',), ('down_steping',), ('triplet',), ('down_leaping',), ('up_steping',), ('down_steping',), ('no skills',), ('down_steping',), ('triplet',), ('down_steping',), ('leaping_twisting',), ('no skills',), ('up_steping',), ('down_steping',), ('no skills',), ('up_steping',), ('no skills',), ('down_steping',), ('up_steping',), ('repeating',), ('up_steping',), ('leaping_twisting',), ('up_steping',), ('steping_twisting',), ('no skills',), ('up_steping',), ('steping_twisting',), ('One_rhythm',), ('fast_rhythm',), ('fast_rhythm',), ('fast_rhythm',), ('One_rhythm',), ('leaping_twisting',), ('leaping_twisting',), ('up_steping',), ('triplet',), ('triplet',), ('up_steping',), ('no skills',), ('up_leaping',), ('up_leaping',), ('down_leaping',), ('up_leaping',), ('up_leaping',), ('up_leaping',), ('down_leaping',), ('down_leaping',), ('up_leaping',), ('leaping_twisting',), ('leaping_twisting',), ('leaping_twisting',), ('leaping_twisting',), ('leaping_twisting',), ('down_leaping',), ('leaping_twisting',), ('leaping_twisting',), ('leaping_twisting',), ('One_rhythm',), ('continuing_rhythm',), ('no skills',), ('triplet',), ('up_leaping',), ('triplet',), ('leaping_twisting',), ('fast_rhythm',), ('triplet',), ('triplet',), ('triplet',), ('up_steping',), ('up_steping',), ('triplet',), ('up_steping',), ('down_steping',), ('leaping_twisting',), ('no skills',), ('leaping_twisting',), ('repeating',), ('no skills',), ('leaping_twisting',), ('leaping_twisting',), ('leaping_twisting',), ('leaping_twisting',), ('repeating',), ('leaping_twisting',), ('repeating',), ('leaping_twisting',), ('staccato',), ('repeating',), ('no skills',), ('repeating',), ('repeating',), ('repeating',), ('fast_rhythm',), ('repeating',), ('repeating',), ('repeating',), ('leaping_twisting',), ('up_steping',), ('up_steping',), ('up_steping',), ('up_steping',), ('up_steping',), ('up_steping',), ('no skills',), ('fast_rhythm',), ('fast_rhythm',), ('fast_rhythm',), ('fast_rhythm',), ('fast_rhythm',), ('fast_rhythm',), ('fast_rhythm',), ('fast_rhythm',), ('fast_rhythm',), ('no skills',), ('up_leaping',), ('fast_rhythm',), ('fast_rhythm',), ('fast_rhythm',), ('leaping_twisting',), ('fast_rhythm',), ('fast_rhythm',), ('fast_rhythm',), ('fast_rhythm',), ('continuing_rhythm',), ('continuing_rhythm',), ('continuing_rhythm',), ('no skills',), ('no skills',), ('repeating',), ('up_steping',), ('repeating',), ('repeating',), ('up_steping',), ('continuing_rhythm',), ('up_leaping',), ('no skills',), ('fast_rhythm',), ('fast_rhythm',), ('fast_rhythm',), ('leaping_twisting',), ('leaping_twisting',), ('leaping_twisting',), ('leaping_twisting',), ('leaping_twisting',), ('leaping_twisting',), ('leaping_twisting',), ('fast_rhythm',), ('fast_rhythm',), ('fast_rhythm',), ('fast_rhythm',), ('fast_rhythm',), ('leaping_twisting',), ('fast_rhythm',), ('fast_rhythm',), ('leaping_twisting',), ('leaping_twisting',), ('leaping_twisting',), ('fast_rhythm',), ('up_leaping',), ('up_leaping',), ('fast_rhythm',), ('fast_rhythm',), ('up_leaping',), ('fast_rhythm',), ('no skills',), ('fast_rhythm',), ('no skills',), ('fast_rhythm',), ('fast_rhythm',), ('fast_rhythm',), ('fast_rhythm',), ('fast_rhythm',), ('leaping_twisting',), ('no skills',), ('no skills',), ('up_steping',), ('up_steping',), ('up_steping',), ('up_steping',), ('up_steping',), ('repeating',), ('no skills',), ('no skills',), ('up_steping',), ('up_steping',), ('up_steping',), ('up_steping',), ('no skills',), ('up_steping',), ('up_steping',), ('One_rhythm',), ('up_steping',), ('repeating',), ('up_steping',), ('leaping_twisting',), ('repeating',), ('up_steping',), ('up_steping',), ('leaping_twisting',), ('no skills',), ('leaping_twisting',), ('up_steping',), ('no skills',), ('no skills',), ('up_steping',), ('fast_rhythm',), ('no skills',), ('no skills',), ('no skills',), ('no skills',), ('no skills',), ('leaping_twisting',), ('up_steping',), ('no skills',), ('up_steping',), ('up_steping',), ('up_steping',), ('no skills',), ('fast_rhythm',), ('staccato',), ('repeating',), ('leaping_twisting',), ('leaping_twisting',), ('leaping_twisting',), ('leaping_twisting',), ('no skills',), ('up_steping',), ('down_leaping',), ('repeating',), ('down_leaping',), ('repeating',), ('no skills',), ('leaping_twisting',), ('repeating',), ('no skills',), ('continuing_rhythm',), ('continuing_rhythm',), ('continuing_rhythm',), ('continuing_rhythm',), ('continuing_rhythm',), ('continuing_rhythm',), ('continuing_rhythm',), ('continuing_rhythm',), ('continuing_rhythm',), ('continuing_rhythm',), ('continuing_rhythm',), ('continuing_rhythm',), ('continuing_rhythm',), ('continuing_rhythm',), ('no skills',), ('fast_rhythm',), ('continuing_rhythm',), ('continuing_rhythm',), ('continuing_rhythm',), ('continuing_rhythm',), ('continuing_rhythm',), ('fast_rhythm',), ('fast_rhythm',), ('leaping_twisting',), ('fast_rhythm',), ('continuing_rhythm',), ('fast_rhythm',), ('fast_rhythm',), ('up_leaping',), ('leaping_twisting',), ('leaping_twisting',), ('leaping_twisting',), ('leaping_twisting',), ('leaping_twisting',), ('leaping_twisting',), ('leaping_twisting',), ('leaping_twisting',), ('leaping_twisting',), ('leaping_twisting',), ('leaping_twisting',), ('leaping_twisting',), ('leaping_twisting',), ('leaping_twisting',), ('leaping_twisting',), ('leaping_twisting',), ('leaping_twisting',), ('no skills',), ('One_rhythm',), ('One_rhythm',), ('leaping_twisting',), ('leaping_twisting',), ('leaping_twisting',), ('One_rhythm',), ('One_rhythm',), ('One_rhythm',), ('leaping_twisting',), ('One_rhythm',), ('up_leaping',), ('up_leaping',), ('leaping_twisting',), ('leaping_twisting',), ('leaping_twisting',), ('One_rhythm',), ('no skills',), ('fast_rhythm',), ('down_steping',), ('leaping_twisting',), ('fast_rhythm',), ('fast_rhythm',), ('leaping_twisting',), ('leaping_twisting',), ('no skills',), ('leaping_twisting',), ('leaping_twisting',), ('leaping_twisting',), ('no skills',), ('leaping_twisting',), ('leaping_twisting',), ('leaping_twisting',), ('leaping_twisting',), ('leaping_twisting',), ('leaping_twisting',), ('leaping_twisting',), ('leaping_twisting',), ('leaping_twisting',), ('leaping_twisting',), ('leaping_twisting',), ('leaping_twisting',), ('up_steping',), ('leaping_twisting',), ('leaping_twisting',), ('leaping_twisting',), ('leaping_twisting',), ('leaping_twisting',), ('leaping_twisting',), ('leaping_twisting',), ('leaping_twisting',), ('up_leaping',), ('fast_rhythm',), ('no skills',), ('fast_rhythm',), ('no skills',), ('fast_rhythm',), ('no skills',), ('fast_rhythm',), ('no skills',), ('fast_rhythm',), ('staccato',), ('no skills',), ('triplet',), ('down_steping',), ('triplet',), ('no skills',), ('up_leaping',), ('One_rhythm',), ('up_steping',), ('down_steping',), ('leaping_twisting',), ('down_leaping',), ('leaping_twisting',), ('One_rhythm',), ('leaping_twisting',), ('leaping_twisting',), ('leaping_twisting',), ('triplet',), ('One_rhythm',), ('leaping_twisting',), ('One_rhythm',), ('up_leaping',), ('One_rhythm',), ('One_rhythm',), ('up_leaping',), ('no skills',), ('fast_rhythm',), ('fast_rhythm',), ('fast_rhythm',), ('up_steping',), ('fast_rhythm',), ('triplet',), ('repeating',), ('fast_rhythm',), ('triplet',), ('up_steping',), ('up_steping',), ('no skills',), ('fast_rhythm',), ('fast_rhythm',), ('up_steping',), ('no skills',), ('fast_rhythm',), ('fast_rhythm',), ('up_steping',), ('triplet',), ('fast_rhythm',), ('fast_rhythm',), ('fast_rhythm',), ('fast_rhythm',), ('triplet',), ('triplet',), ('fast_rhythm',), ('fast_rhythm',), ('fast_rhythm',), ('triplet',), ('up_steping',), ('fast_rhythm',), ('fast_rhythm',), ('fast_rhythm',), ('repeating',), ('fast_rhythm',), ('up_steping',), ('fast_rhythm',), ('leaping_twisting',), ('fast_rhythm',), ('up_steping',), ('up_steping',), ('up_steping',), ('leaping_twisting',), ('fast_rhythm',), ('fast_rhythm',), ('fast_rhythm',), ('triplet',), ('triplet',), ('no skills',), ('no skills',), ('repeating',), ('repeating',), ('up_steping',), ('triplet',), ('repeating',), ('leaping_twisting',), ('triplet',), ('repeating',), ('staccato',), ('leaping_twisting',), ('leaping_twisting',), ('repeating',), ('leaping_twisting',), ('triplet',), ('triplet',), ('triplet',), ('leaping_twisting',), ('repeating',), ('fast_rhythm',), ('fast_rhythm',), ('fast_rhythm',), ('fast_rhythm',), ('fast_rhythm',), ('fast_rhythm',), ('fast_rhythm',), ('fast_rhythm',), ('fast_rhythm',), ('fast_rhythm',), ('fast_rhythm',), ('fast_rhythm',), ('fast_rhythm',), ('One_rhythm',), ('One_rhythm',), ('One_rhythm',), ('fast_rhythm',), ('One_rhythm',), ('One_rhythm',), ('One_rhythm',), ('leaping_twisting',), ('One_rhythm',), ('leaping_twisting',), ('continuing_rhythm',), ('continuing_rhythm',), ('continuing_rhythm',), ('up_leaping',), ('up_leaping',), ('down_leaping',), ('up_leaping',), ('down_leaping',), ('up_leaping',), ('down_leaping',), ('up_leaping',), ('leaping_twisting',), ('leaping_twisting',), ('leaping_twisting',), ('up_leaping',), ('leaping_twisting',), ('leaping_twisting',), ('up_steping',), ('no skills',), ('up_leaping',), ('up_leaping',), ('leaping_twisting',), ('up_leaping',), ('up_leaping',), ('leaping_twisting',), ('up_leaping',), ('leaping_twisting',), ('up_leaping',), ('up_leaping',), ('leaping_twisting',), ('up_leaping',), ('up_leaping',), ('leaping_twisting',), ('up_leaping',), ('leaping_twisting',), ('up_leaping',), ('no skills',), ('triplet',), ('up_steping',), ('triplet',), ('up_steping',), ('triplet',), ('fast_rhythm',), ('fast_rhythm',), ('fast_rhythm',), ('fast_rhythm',), ('repeating',), ('fast_rhythm',), ('repeating',), ('fast_rhythm',), ('repeating',), ('up_steping',), ('staccato',), ('no skills',), ('staccato',), ('staccato',), ('staccato',), ('no skills',), ('staccato',), ('staccato',), ('staccato',), ('staccato',), ('up_steping',), ('up_steping',), ('steping_twisting',), ('no skills',), ('down_steping',), ('no skills',), ('up_steping',), ('repeating',), ('no skills',), ('down_steping',), ('up_leaping',), ('up_steping',), ('down_leaping',), ('no skills',), ('up_steping',), ('up_steping',), ('repeating',), ('no skills',), ('leaping_twisting',), ('leaping_twisting',), ('One_rhythm',), ('leaping_twisting',), ('leaping_twisting',), ('One_rhythm',), ('leaping_twisting',), ('leaping_twisting',), ('leaping_twisting',), ('One_rhythm',), ('leaping_twisting',), ('leaping_twisting',), ('leaping_twisting',), ('leaping_twisting',), ('One_rhythm',), ('leaping_twisting',), ('leaping_twisting',), ('leaping_twisting',), ('One_rhythm',), ('leaping_twisting',), ('leaping_twisting',), ('leaping_twisting',), ('leaping_twisting',), ('leaping_twisting',), ('leaping_twisting',), ('leaping_twisting',), ('leaping_twisting',), ('triplet',), ('leaping_twisting',), ('fast_rhythm',), ('leaping_twisting',), ('fast_rhythm',), ('staccato',), ('leaping_twisting',), ('no skills',), ('leaping_twisting',), ('leaping_twisting',), ('leaping_twisting',), ('leaping_twisting',), ('leaping_twisting',), ('leaping_twisting',), ('leaping_twisting',), ('leaping_twisting',), ('leaping_twisting',), ('up_leaping',), ('leaping_twisting',), ('leaping_twisting',), ('leaping_twisting',), ('leaping_twisting',), ('leaping_twisting',), ('leaping_twisting',), ('leaping_twisting',), ('up_leaping',), ('leaping_twisting',), ('leaping_twisting',), ('leaping_twisting',), ('leaping_twisting',), ('repeating',), ('leaping_twisting',), ('repeating',), ('up_leaping',), ('leaping_twisting',), ('repeating',), ('triplet',), ('triplet',), ('leaping_twisting',), ('fast_rhythm',), ('fast_rhythm',), ('fast_rhythm',), ('fast_rhythm',), ('fast_rhythm',), ('fast_rhythm',), ('fast_rhythm',), ('fast_rhythm',), ('up_steping',), ('no skills',), ('leaping_twisting',), ('no skills',), ('up_steping',), ('no skills',), ('One_rhythm',), ('One_rhythm',), ('leaping_twisting',), ('One_rhythm',), ('One_rhythm',), ('One_rhythm',), ('leaping_twisting',), ('One_rhythm',), ('One_rhythm',), ('One_rhythm',), ('One_rhythm',), ('One_rhythm',), ('One_rhythm',), ('One_rhythm',), ('One_rhythm',), ('One_rhythm',), ('One_rhythm',), ('One_rhythm',), ('leaping_twisting',), ('up_leaping',), ('One_rhythm',), ('One_rhythm',), ('leaping_twisting',), ('One_rhythm',), ('continuing_rhythm',), ('continuing_rhythm',), ('leaping_twisting',), ('leaping_twisting',), ('One_rhythm',), ('One_rhythm',), ('leaping_twisting',), ('One_rhythm',), ('continuing_rhythm',), ('continuing_rhythm',), ('leaping_twisting',), ('leaping_twisting',), ('One_rhythm',), ('One_rhythm',), ('leaping_twisting',), ('leaping_twisting',), ('up_steping',), ('up_leaping',), ('up_steping',), ('no skills',), ('up_steping',), ('up_leaping',), ('up_steping',), ('no skills',), ('up_steping',), ('up_leaping',), ('up_steping',), ('no skills',), ('up_steping',), ('up_leaping',), ('up_steping',), ('no skills',), ('up_steping',), ('down_leaping',), ('staccato',), ('down_leaping',), ('staccato',), ('down_leaping',), ('staccato',), ('down_leaping',), ('staccato',), ('leaping_twisting',), ('leaping_twisting',), ('triplet',), ('repeating',), ('repeating',), ('staccato',), ('repeating',), ('leaping_twisting',), ('repeating',), ('continuing_rhythm',), ('steping_twisting',), ('down_steping',), ('no skills',), ('continuing_rhythm',), ('continuing_rhythm',), ('up_steping',), ('repeating',), ('continuing_rhythm',), ('continuing_rhythm',), ('fast_rhythm',), ('fast_rhythm',), ('fast_rhythm',), ('fast_rhythm',), ('fast_rhythm',), ('up_steping',), ('leaping_twisting',), ('leaping_twisting',), ('up_steping',), ('no skills',), ('no skills',), ('no skills',), ('triplet',), ('no skills',), ('no skills',), ('up_steping',), ('no skills',), ('leaping_twisting',), ('no skills',), ('triplet',), ('no skills',), ('leaping_twisting',), ('no skills',), ('no skills',), ('up_leaping',), ('triplet',), ('no skills',), ('leaping_twisting',), ('down_leaping',), ('leaping_twisting',), ('up_leaping',), ('triplet',), ('up_steping',), ('no skills',), ('One_rhythm',), ('One_rhythm',), ('One_rhythm',), ('One_rhythm',), ('One_rhythm',), ('One_rhythm',), ('One_rhythm',), ('One_rhythm',), ('One_rhythm',), ('One_rhythm',), ('One_rhythm',), ('One_rhythm',), ('One_rhythm',), ('One_rhythm',), ('One_rhythm',), ('One_rhythm',), ('One_rhythm',), ('One_rhythm',), ('One_rhythm',), ('One_rhythm',), ('One_rhythm',), ('One_rhythm',), ('One_rhythm',), ('One_rhythm',), ('One_rhythm',), ('One_rhythm',), ('One_rhythm',), ('One_rhythm',), ('One_rhythm',), ('One_rhythm',), ('One_rhythm',), ('One_rhythm',), ('One_rhythm',), ('One_rhythm',), ('One_rhythm',), ('One_rhythm',), ('no skills',), ('repeating',), ('no skills',), ('down_steping',), ('no skills',), ('repeating',), ('up_steping',), ('repeating',), ('repeating',), ('no skills',), ('down_steping',), ('no skills',), ('up_steping',), ('repeating',), ('steping_twisting',), ('repeating',), ('repeating',), ('no skills',), ('down_steping',), ('no skills',), ('up_steping',), ('repeating',), ('steping_twisting',), ('repeating',), ('repeating',), ('repeating',), ('up_steping',), ('repeating',), ('up_leaping',), ('repeating',), ('repeating',), ('up_steping',), ('repeating',), ('up_leaping',), ('repeating',), ('repeating',), ('up_leaping',), ('repeating',), ('repeating',), ('up_leaping',), ('repeating',), ('up_leaping',), ('repeating',), ('repeating',), ('up_leaping',), ('repeating',), ('up_leaping',), ('up_leaping',), ('staccato',), ('leaping_twisting',), ('up_leaping',), ('down_leaping',), ('no skills',), ('no skills',), ('no skills',), ('no skills',), ('up_steping',), ('no skills',), ('One_rhythm',), ('One_rhythm',), ('One_rhythm',), ('One_rhythm',), ('One_rhythm',), ('One_rhythm',), ('One_rhythm',), ('One_rhythm',), ('leaping_twisting',), ('up_leaping',), ('staccato',), ('down_steping',), ('down_steping',), ('continuing_rhythm',), ('leaping_twisting',), ('leaping_twisting',), ('staccato',), ('up_steping',), ('no skills',), ('no skills',), ('no skills',), ('repeating',), ('repeating',), ('leaping_twisting',), ('staccato',), ('repeating',), ('repeating',), ('fast_rhythm',), ('leaping_twisting',), ('fast_rhythm',), ('repeating',), ('leaping_twisting',), ('fast_rhythm',), ('leaping_twisting',), ('staccato',), ('leaping_twisting',), ('up_leaping',), ('no skills',), ('leaping_twisting',), ('up_steping',), ('staccato',), ('leaping_twisting',), ('leaping_twisting',), ('repeating',), ('up_leaping',), ('no skills',), ('leaping_twisting',), ('no skills',), ('up_leaping',), ('no skills',), ('leaping_twisting',), ('no skills',), ('leaping_twisting',), ('no skills',), ('fast_rhythm',), ('fast_rhythm',), ('leaping_twisting',), ('fast_rhythm',), ('fast_rhythm',), ('leaping_twisting',), ('fast_rhythm',), ('fast_rhythm',), ('fast_rhythm',), ('fast_rhythm',), ('fast_rhythm',), ('fast_rhythm',), ('up_leaping',), ('fast_rhythm',), ('fast_rhythm',), ('fast_rhythm',), ('fast_rhythm',), ('leaping_twisting',), ('One_rhythm',), ('up_leaping',), ('no skills',), ('One_rhythm',), ('leaping_twisting',), ('up_steping',), ('One_rhythm',), ('leaping_twisting',), ('leaping_twisting',), ('leaping_twisting',), ('One_rhythm',), ('leaping_twisting',), ('leaping_twisting',), ('One_rhythm',), ('One_rhythm',), ('up_leaping',), ('no skills',), ('One_rhythm',), ('One_rhythm',), ('One_rhythm',), ('One_rhythm',), ('up_steping',), ('staccato',), ('One_rhythm',), ('One_rhythm',), ('One_rhythm',), ('leaping_twisting',), ('leaping_twisting',), ('leaping_twisting',), ('up_steping',), ('up_leaping',), ('leaping_twisting',), ('One_rhythm',), ('One_rhythm',), ('One_rhythm',), ('down_leaping',), ('leaping_twisting',), ('down_leaping',), ('up_leaping',), ('up_leaping',), ('up_leaping',), ('down_leaping',), ('leaping_twisting',), ('leaping_twisting',), ('leaping_twisting',), ('leaping_twisting',), ('up_leaping',), ('continuing_rhythm',), ('up_steping',), ('up_steping',), ('up_steping',), ('up_steping',), ('up_steping',), ('up_steping',), ('leaping_twisting',), ('up_steping',), ('up_steping',), ('up_steping',), ('up_steping',), ('up_steping',), ('leaping_twisting',), ('up_steping',), ('up_steping',), ('leaping_twisting',), ('staccato',), ('leaping_twisting',), ('no skills',), ('down_leaping',), ('up_steping',), ('up_leaping',), ('continuing_rhythm',), ('continuing_rhythm',), ('repeating',), ('down_leaping',), ('continuing_rhythm',), ('down_leaping',), ('up_steping',), ('no skills',), ('up_leaping',), ('up_leaping',), ('up_leaping',), ('leaping_twisting',), ('up_leaping',), ('leaping_twisting',), ('up_leaping',), ('up_steping',), ('leaping_twisting',), ('leaping_twisting',), ('leaping_twisting',), ('up_steping',), ('up_leaping',), ('up_steping',), ('up_leaping',), ('leaping_twisting',), ('up_leaping',), ('leaping_twisting',), ('no skills',), ('up_steping',), ('repeating',), ('repeating',), ('repeating',), ('repeating',), ('repeating',), ('repeating',), ('One_rhythm',), ('One_rhythm',), ('repeating',), ('repeating',), ('repeating',), ('One_rhythm',), ('repeating',), ('repeating',), ('repeating',), ('triplet',), ('fast_rhythm',), ('leaping_twisting',), ('up_steping',), ('leaping_twisting',), ('leaping_twisting',), ('no skills',), ('leaping_twisting',), ('fast_rhythm',), ('triplet',), ('leaping_twisting',), ('leaping_twisting',), ('down_leaping',), ('repeating',), ('continuing_rhythm',), ('repeating',), ('repeating',), ('repeating',), ('up_leaping',), ('repeating',), ('repeating',), ('repeating',), ('staccato',), ('repeating',), ('up_steping',), ('repeating',), ('leaping_twisting',), ('repeating',), ('up_steping',), ('repeating',), ('staccato',), ('repeating',), ('up_steping',), ('repeating',), ('triplet',), ('repeating',), ('repeating',), ('repeating',), ('triplet',), ('up_leaping',), ('leaping_twisting',), ('leaping_twisting',), ('leaping_twisting',), ('leaping_twisting',), ('triplet',), ('leaping_twisting',), ('leaping_twisting',), ('triplet',), ('leaping_twisting',), ('up_leaping',), ('leaping_twisting',), ('leaping_twisting',), ('leaping_twisting',), ('no skills',), ('triplet',), ('no skills',), ('up_steping',), ('up_steping',), ('up_steping',), ('triplet',), ('up_steping',), ('up_steping',), ('leaping_twisting',), ('leaping_twisting',), ('leaping_twisting',), ('no skills',), ('up_steping',), ('up_steping',), ('up_steping',), ('triplet',), ('up_steping',), ('up_steping',), ('up_steping',), ('triplet',), ('up_steping',), ('up_steping',), ('leaping_twisting',), ('leaping_twisting',), ('leaping_twisting',), ('no skills',), ('no skills',), ('up_leaping',), ('down_leaping',), ('leaping_twisting',), ('leaping_twisting',), ('leaping_twisting',), ('down_leaping',), ('up_leaping',), ('up_leaping',), ('up_leaping',), ('up_steping',), ('down_steping',), ('up_steping',), ('up_leaping',), ('up_leaping',), ('up_leaping',), ('leaping_twisting',), ('repeating',), ('no skills',), ('up_steping',), ('up_steping',), ('triplet',), ('triplet',), ('no skills',), ('no skills',), ('triplet',), ('repeating',), ('leaping_twisting',), ('repeating',), ('fast_rhythm',), ('no skills',), ('no skills',), ('no skills',), ('down_steping',), ('down_steping',), ('fast_rhythm',), ('leaping_twisting',), ('up_steping',), ('down_leaping',), ('steping_twisting',), ('up_leaping',), ('no skills',), ('leaping_twisting',), ('no skills',), ('no skills',), ('staccato',), ('leaping_twisting',), ('down_steping',), ('leaping_twisting',), ('up_steping',), ('down_leaping',), ('steping_twisting',), ('up_leaping',), ('no skills',), ('leaping_twisting',), ('no skills',), ('no skills',), ('staccato',), ('leaping_twisting',), ('down_steping',), ('leaping_twisting',), ('no skills',), ('down_steping',), ('up_steping',), ('no skills',), ('repeating',), ('up_steping',), ('no skills',), ('leaping_twisting',), ('no skills',), ('triplet',), ('up_steping',), ('up_steping',), ('leaping_twisting',), ('up_steping',), ('up_steping',), ('fast_rhythm',), ('continuing_rhythm',), ('One_rhythm',), ('continuing_rhythm',), ('One_rhythm',), ('continuing_rhythm',), ('One_rhythm',), ('continuing_rhythm',), ('One_rhythm',), ('continuing_rhythm',), ('One_rhythm',), ('continuing_rhythm',), ('One_rhythm',), ('no skills',), ('One_rhythm',), ('repeating',), ('One_rhythm',), ('repeating',), ('One_rhythm',), ('repeating',), ('One_rhythm',), ('repeating',), ('up_steping',), ('One_rhythm',), ('no skills',), ('no skills',), ('One_rhythm',), ('down_steping',), ('One_rhythm',), ('up_steping',), ('leaping_twisting',), ('One_rhythm',), ('down_steping',), ('up_steping',), ('triplet',), ('triplet',), ('triplet',), ('triplet',), ('repeating',), ('repeating',), ('triplet',), ('up_leaping',), ('up_leaping',), ('up_leaping',), ('up_leaping',), ('up_leaping',), ('up_leaping',), ('up_leaping',), ('leaping_twisting',), ('up_leaping',), ('up_leaping',), ('up_leaping',), ('leaping_twisting',), ('up_leaping',), ('up_leaping',), ('up_leaping',), ('up_leaping',), ('no skills',), ('no skills',), ('no skills',), ('up_leaping',), ('staccato',), ('no skills',), ('up_leaping',), ('triplet',), ('no skills',), ('no skills',), ('no skills',), ('up_leaping',), ('no skills',), ('leaping_twisting',), ('no skills',), ('repeating',), ('steping_twisting',), ('no skills',), ('One_rhythm',), ('continuing_rhythm',), ('One_rhythm',), ('continuing_rhythm',), ('One_rhythm',), ('continuing_rhythm',), ('One_rhythm',), ('continuing_rhythm',), ('One_rhythm',), ('no skills',), ('continuing_rhythm',), ('continuing_rhythm',), ('One_rhythm',), ('down_steping',), ('continuing_rhythm',), ('continuing_rhythm',), ('One_rhythm',), ('down_steping',), ('up_leaping',), ('leaping_twisting',), ('up_steping',), ('up_steping',), ('steping_twisting',), ('repeating',), ('up_leaping',), ('repeating',), ('leaping_twisting',), ('leaping_twisting',), ('leaping_twisting',), ('up_leaping',), ('triplet',), ('triplet',), ('up_steping',), ('repeating',), ('up_leaping',), ('fast_rhythm',), ('fast_rhythm',), ('leaping_twisting',), ('fast_rhythm',), ('leaping_twisting',), ('fast_rhythm',), ('fast_rhythm',), ('leaping_twisting',), ('fast_rhythm',), ('up_steping',), ('leaping_twisting',), ('fast_rhythm',), ('staccato',), ('continuing_rhythm',), ('up_steping',), ('fast_rhythm',), ('fast_rhythm',), ('up_steping',), ('fast_rhythm',), ('triplet',), ('down_steping',), ('triplet',), ('fast_rhythm',), ('down_steping',), ('fast_rhythm',), ('fast_rhythm',), ('fast_rhythm',), ('fast_rhythm',), ('up_leaping',), ('no skills',), ('staccato',), ('fast_rhythm',), ('triplet',), ('staccato',), ('leaping_twisting',), ('leaping_twisting',), ('leaping_twisting',), ('leaping_twisting',), ('leaping_twisting',), ('leaping_twisting',), ('up_leaping',), ('leaping_twisting',), ('leaping_twisting',), ('leaping_twisting',), ('leaping_twisting',), ('up_leaping',), ('leaping_twisting',), ('leaping_twisting',), ('leaping_twisting',), ('up_leaping',), ('up_leaping',), ('leaping_twisting',), ('leaping_twisting',), ('fast_rhythm',), ('repeating',), ('triplet',), ('staccato',), ('repeating',), ('staccato',), ('triplet',), ('steping_twisting',), ('no skills',), ('steping_twisting',), ('triplet',), ('staccato',), ('staccato',), ('staccato',), ('staccato',), ('staccato',), ('no skills',), ('no skills',), ('no skills',), ('no skills',), ('One_rhythm',), ('repeating',), ('One_rhythm',), ('repeating',), ('One_rhythm',), ('repeating',), ('repeating',), ('repeating',), ('One_rhythm',), ('repeating',), ('repeating',), ('repeating',), ('repeating',), ('repeating',), ('repeating',), ('continuing_rhythm',), ('up_steping',), ('continuing_rhythm',), ('continuing_rhythm',), ('up_steping',), ('continuing_rhythm',), ('continuing_rhythm',), ('up_steping',), ('continuing_rhythm',), ('continuing_rhythm',), ('up_steping',), ('continuing_rhythm',), ('continuing_rhythm',), ('up_steping',), ('continuing_rhythm',), ('continuing_rhythm',), ('up_steping',), ('continuing_rhythm',), ('continuing_rhythm',), ('up_steping',), ('continuing_rhythm',), ('no skills',), ('leaping_twisting',), ('up_steping',), ('leaping_twisting',), ('up_leaping',), ('repeating',), ('leaping_twisting',), ('repeating',), ('leaping_twisting',), ('up_steping',), ('leaping_twisting',), ('leaping_twisting',), ('One_rhythm',), ('continuing_rhythm',), ('repeating',), ('leaping_twisting',), ('One_rhythm',), ('continuing_rhythm',), ('up_leaping',), ('repeating',), ('leaping_twisting',), ('leaping_twisting',), ('continuing_rhythm',), ('triplet',), ('continuing_rhythm',), ('up_steping',), ('continuing_rhythm',), ('triplet',), ('up_steping',), ('continuing_rhythm',), ('no skills',), ('leaping_twisting',), ('leaping_twisting',), ('leaping_twisting',), ('down_leaping',), ('leaping_twisting',), ('leaping_twisting',), ('leaping_twisting',), ('down_leaping',), ('leaping_twisting',), ('leaping_twisting',), ('leaping_twisting',), ('down_leaping',), ('leaping_twisting',), ('leaping_twisting',), ('leaping_twisting',), ('down_leaping',), ('down_steping',), ('no skills',), ('One_rhythm',), ('continuing_rhythm',), ('continuing_rhythm',), ('continuing_rhythm',), ('continuing_rhythm',), ('continuing_rhythm',), ('up_steping',), ('up_steping',), ('continuing_rhythm',), ('continuing_rhythm',), ('continuing_rhythm',), ('continuing_rhythm',), ('continuing_rhythm',), ('continuing_rhythm',), ('up_steping',), ('up_steping',), ('steping_twisting',), ('down_leaping',), ('leaping_twisting',), ('continuing_rhythm',), ('leaping_twisting',), ('leaping_twisting',), ('leaping_twisting',), ('leaping_twisting',), ('One_rhythm',), ('leaping_twisting',), ('leaping_twisting',), ('leaping_twisting',), ('leaping_twisting',), ('leaping_twisting',), ('leaping_twisting',), ('leaping_twisting',), ('leaping_twisting',), ('leaping_twisting',), ('leaping_twisting',), ('leaping_twisting',), ('leaping_twisting',), ('leaping_twisting',), ('leaping_twisting',), ('leaping_twisting',), ('leaping_twisting',), ('leaping_twisting',), ('leaping_twisting',), ('leaping_twisting',), ('continuing_rhythm',), ('continuing_rhythm',), ('repeating',), ('repeating',), ('repeating',), ('repeating',), ('repeating',), ('repeating',), ('repeating',), ('repeating',), ('repeating',), ('repeating',), ('repeating',), ('repeating',), ('repeating',), ('repeating',), ('repeating',), ('repeating',), ('repeating',), ('repeating',), ('repeating',), ('repeating',), ('no skills',), ('up_steping',), ('up_steping',), ('leaping_twisting',), ('up_steping',), ('down_steping',), ('down_leaping',), ('One_rhythm',), ('leaping_twisting',), ('up_steping',), ('leaping_twisting',), ('leaping_twisting',), ('down_steping',), ('up_steping',), ('up_steping',), ('down_steping',), ('leaping_twisting',), ('up_steping',), ('down_leaping',), ('no skills',), ('no skills',), ('no skills',), ('up_leaping',), ('fast_rhythm',), ('up_steping',), ('fast_rhythm',), ('no skills',), ('triplet',), ('leaping_twisting',), ('leaping_twisting',), ('fast_rhythm',), ('leaping_twisting',), ('leaping_twisting',), ('fast_rhythm',), ('fast_rhythm',), ('up_steping',), ('leaping_twisting',), ('up_leaping',), ('up_leaping',), ('fast_rhythm',), ('continuing_rhythm',), ('no skills',), ('up_leaping',), ('triplet',), ('continuing_rhythm',), ('no skills',), ('up_leaping',), ('down_steping',), ('continuing_rhythm',), ('continuing_rhythm',), ('continuing_rhythm',), ('continuing_rhythm',), ('leaping_twisting',), ('no skills',), ('down_steping',), ('leaping_twisting',), ('leaping_twisting',), ('no skills',), ('leaping_twisting',), ('One_rhythm',), ('continuing_rhythm',), ('up_steping',), ('up_leaping',), ('staccato',), ('up_leaping',), ('staccato',), ('up_leaping',), ('staccato',), ('up_leaping',), ('staccato',), ('up_leaping',), ('staccato',), ('up_leaping',), ('staccato',), ('up_leaping',), ('down_leaping',), ('down_leaping',), ('up_leaping',), ('leaping_twisting',), ('down_leaping',), ('up_steping',), ('down_leaping',), ('down_leaping',), ('down_leaping',), ('down_leaping',), ('up_leaping',), ('leaping_twisting',), ('down_leaping',), ('up_steping',), ('down_leaping',), ('down_leaping',), ('down_leaping',), ('down_leaping',), ('up_leaping',), ('no skills',), ('leaping_twisting',), ('staccato',), ('repeating',), ('leaping_twisting',), ('leaping_twisting',), ('staccato',), ('repeating',), ('repeating',), ('up_steping',), ('up_leaping',), ('no skills',), ('no skills',), ('fast_rhythm',), ('up_steping',), ('leaping_twisting',), ('leaping_twisting',), ('fast_rhythm',), ('leaping_twisting',), ('leaping_twisting',), ('up_steping',), ('down_leaping',), ('up_steping',), ('One_rhythm',), ('up_steping',), ('down_leaping',), ('down_leaping',), ('up_leaping',), ('up_steping',), ('One_rhythm',), ('down_steping',), ('down_leaping',), ('no skills',), ('triplet',), ('no skills',), ('steping_twisting',), ('no skills',), ('no skills',), ('triplet',), ('up_leaping',), ('no skills',), ('no skills',), ('no skills',), ('no skills',), ('no skills',), ('repeating',), ('repeating',), ('repeating',), ('repeating',), ('repeating',), ('repeating',), ('repeating',), ('repeating',), ('repeating',), ('repeating',), ('repeating',), ('repeating',), ('repeating',), ('repeating',), ('repeating',), ('leaping_twisting',), ('leaping_twisting',), ('One_rhythm',), ('One_rhythm',), ('no skills',), ('fast_rhythm',), ('fast_rhythm',), ('fast_rhythm',), ('steping_twisting',), ('fast_rhythm',), ('fast_rhythm',), ('fast_rhythm',), ('steping_twisting',), ('fast_rhythm',), ('fast_rhythm',), ('fast_rhythm',), ('steping_twisting',), ('fast_rhythm',), ('fast_rhythm',), ('no skills',), ('continuing_rhythm',), ('continuing_rhythm',), ('continuing_rhythm',), ('continuing_rhythm',), ('continuing_rhythm',), ('One_rhythm',), ('continuing_rhythm',), ('continuing_rhythm',), ('continuing_rhythm',), ('One_rhythm',), ('continuing_rhythm',), ('continuing_rhythm',), ('continuing_rhythm',), ('One_rhythm',), ('continuing_rhythm',), ('continuing_rhythm',), ('continuing_rhythm',), ('One_rhythm',), ('up_leaping',), ('staccato',), ('staccato',), ('staccato',), ('down_steping',), ('staccato',), ('staccato',), ('fast_rhythm',), ('staccato',), ('triplet',), ('no skills',), ('leaping_twisting',), ('down_steping',), ('staccato',), ('staccato',), ('staccato',), ('down_steping',), ('staccato',), ('continuing_rhythm',), ('no skills',), ('no skills',), ('no skills',), ('up_leaping',), ('down_leaping',), ('no skills',), ('no skills',), ('up_steping',), ('no skills',), ('up_steping',), ('no skills',), ('leaping_twisting',), ('down_leaping',), ('no skills',), ('up_leaping',), ('up_steping',), ('up_steping',), ('up_steping',), ('up_leaping',), ('up_steping',), ('up_steping',), ('up_steping',), ('up_steping',), ('up_steping',), ('up_steping',), ('up_leaping',), ('leaping_twisting',), ('leaping_twisting',), ('up_steping',), ('no skills',), ('up_leaping',), ('continuing_rhythm',), ('down_leaping',), ('down_leaping',), ('leaping_twisting',), ('down_leaping',), ('continuing_rhythm',), ('continuing_rhythm',), ('up_leaping',), ('continuing_rhythm',), ('down_leaping',), ('leaping_twisting',), ('leaping_twisting',), ('down_steping',), ('leaping_twisting',), ('up_leaping',), ('repeating',), ('no skills',), ('up_leaping',), ('no skills',), ('no skills',), ('up_steping',), ('down_steping',), ('up_steping',), ('up_steping',), ('up_steping',), ('continuing_rhythm',), ('no skills',), ('no skills',), ('steping_twisting',), ('no skills',), ('no skills',), ('no skills',), ('no skills',), ('no skills',), ('no skills',), ('steping_twisting',), ('no skills',), ('no skills',), ('leaping_twisting',), ('no skills',), ('up_steping',), ('continuing_rhythm',), ('continuing_rhythm',), ('continuing_rhythm',), ('up_steping',), ('up_leaping',), ('continuing_rhythm',), ('continuing_rhythm',), ('down_steping',), ('up_leaping',), ('up_leaping',), ('up_leaping',), ('continuing_rhythm',), ('continuing_rhythm',), ('continuing_rhythm',), ('continuing_rhythm',), ('continuing_rhythm',), ('continuing_rhythm',), ('up_steping',), ('up_steping',), ('leaping_twisting',), ('leaping_twisting',), ('leaping_twisting',), ('leaping_twisting',), ('leaping_twisting',), ('leaping_twisting',), ('leaping_twisting',), ('leaping_twisting',), ('no skills',), ('up_leaping',), ('leaping_twisting',), ('leaping_twisting',), ('leaping_twisting',), ('leaping_twisting',), ('leaping_twisting',), ('leaping_twisting',), ('leaping_twisting',), ('leaping_twisting',), ('leaping_twisting',), ('leaping_twisting',), ('leaping_twisting',), ('leaping_twisting',), ('leaping_twisting',), ('leaping_twisting',), ('leaping_twisting',), ('leaping_twisting',), ('fast_rhythm',), ('fast_rhythm',), ('fast_rhythm',), ('leaping_twisting',), ('up_steping',), ('repeating',), ('repeating',), ('repeating',), ('no skills',), ('no skills',), ('repeating',), ('repeating',), ('repeating',), ('repeating',), ('repeating',), ('repeating',), ('repeating',), ('repeating',), ('repeating',), ('repeating',), ('repeating',), ('repeating',), ('repeating',), ('leaping_twisting',), ('no skills',), ('down_leaping',), ('leaping_twisting',), ('staccato',), ('leaping_twisting',), ('leaping_twisting',), ('leaping_twisting',), ('leaping_twisting',), ('leaping_twisting',), ('down_leaping',), ('leaping_twisting',), ('leaping_twisting',), ('fast_rhythm',), ('fast_rhythm',), ('fast_rhythm',), ('fast_rhythm',), ('fast_rhythm',), ('fast_rhythm',), ('fast_rhythm',), ('fast_rhythm',), ('fast_rhythm',), ('fast_rhythm',), ('fast_rhythm',), ('fast_rhythm',), ('fast_rhythm',), ('fast_rhythm',)]\n"
          ],
          "name": "stdout"
        }
      ]
    },
    {
      "cell_type": "code",
      "metadata": {
        "id": "eKJiCvrXd5NJ",
        "outputId": "6993e57d-4ce1-4ad6-b8b3-f95f3ad73426",
        "colab": {
          "base_uri": "https://localhost:8080/",
          "height": 255
        }
      },
      "source": [
        "prediction=classifier.predict(test_matrix[460].reshape(1,24,Minimum_time,1))\n",
        "categorical=np.zeros_like(prediction)\n",
        "num=np.argmax(prediction)\n",
        "categorical[0][num]=1\n",
        "label=mlb.inverse_transform(categorical)\n",
        "print(label)\n",
        "H = test_matrix[460].reshape(24,Minimum_time)\n",
        "fig = plt.figure(figsize=(6, 3.2))\n",
        "\n",
        "ax = fig.add_subplot(111)\n",
        "ax.set_title('colorMap')\n",
        "plt.imshow(H)\n",
        "ax.set_aspect('equal')\n",
        "\n",
        "cax = fig.add_axes([0.12, 0.1, 0.78, 0.8])\n",
        "cax.get_xaxis().set_visible(False)\n",
        "cax.get_yaxis().set_visible(False)\n",
        "cax.patch.set_alpha(0)\n",
        "cax.set_frame_on(False)\n",
        "plt.colorbar(orientation='vertical')\n",
        "plt.show()"
      ],
      "execution_count": 58,
      "outputs": [
        {
          "output_type": "stream",
          "text": [
            "[('no skills',)]\n"
          ],
          "name": "stdout"
        },
        {
          "output_type": "display_data",
          "data": {
            "image/png": "[encoded data removed]",
            "text/plain": [
              "<Figure size 432x230.4 with 3 Axes>"
            ]
          },
          "metadata": {
            "tags": [],
            "needs_background": "light"
          }
        }
      ]
    },
    {
      "cell_type": "markdown",
      "metadata": {
        "id": "_1UAO1g3lELo"
      },
      "source": [
        "Implementation of GAN "
      ]
    },
    {
      "cell_type": "code",
      "metadata": {
        "id": "27spffKwmnaO"
      },
      "source": [
        "import glob\n",
        "import imageio\n",
        "import matplotlib.pyplot as plt\n",
        "import numpy as np\n",
        "import os\n",
        "import PIL\n",
        "from tensorflow.keras import layers\n",
        "import time\n",
        "\n",
        "from IPython import display"
      ],
      "execution_count": 59,
      "outputs": []
    },
    {
      "cell_type": "code",
      "metadata": {
        "id": "mGCuBMQI7sX3"
      },
      "source": [
        "def get_best_results(testresult,test_label2):  #for optimizing get_tag_results function\n",
        "  classnum={}\n",
        "  testnum={}\n",
        "  resultmat=[]\n",
        "  bestmat=[]\n",
        "  for i in range(len(testresult)):\n",
        "    best_result=[0 for i in range(13)]\n",
        "    class_num=np.count_nonzero(test_label2[i]==1)+1\n",
        "    classidx=(-testresult[i]).argsort()[:class_num]\n",
        "    for k,j in enumerate(classidx):\n",
        "      if (k==0):\n",
        "        best_result[j]=1\n",
        "    bestmat.append(best_result)\n",
        "  bestmat=np.array(bestmat)\n",
        "  bestidx=mlb.inverse_transform(bestmat)\n",
        "  return bestidx"
      ],
      "execution_count": 60,
      "outputs": []
    },
    {
      "cell_type": "code",
      "metadata": {
        "id": "V32sqv0MOOnI",
        "outputId": "e5efbd92-e40a-489c-9114-468811351d2e",
        "colab": {
          "base_uri": "https://localhost:8080/",
          "height": 52
        }
      },
      "source": [
        "trainX=train_matrix.reshape((int(len(all_matrix)*0.85),24,Minimum_time))\n",
        "for i in tqdm(range(int(len(train_matrix)//1000)),position=0):\n",
        "  if(i==0):\n",
        "    test_result=classifier.predict(train_matrix[1000*i:1000+1000*i])\n",
        "  else:\n",
        "    sub_testresult=classifier.predict(train_matrix[1000*i:1000+1000*i])\n",
        "    test_result=np.concatenate((test_result,sub_testresult))\n",
        "sub_testresult=classifier.predict(train_matrix[1000*(i+1):])\n",
        "test_result=np.concatenate((test_result,sub_testresult))\n",
        "trainy=np.array(get_best_results(test_result,train_label2)).reshape((int(len(all_matrix)*0.85),))\n",
        "print('Train', trainX.shape, trainy.shape)"
      ],
      "execution_count": 61,
      "outputs": [
        {
          "output_type": "stream",
          "text": [
            "100%|██████████| 116/116 [00:07<00:00, 15.97it/s]\n"
          ],
          "name": "stderr"
        },
        {
          "output_type": "stream",
          "text": [
            "Train (116625, 24, 16) (116625,)\n"
          ],
          "name": "stdout"
        }
      ]
    },
    {
      "cell_type": "code",
      "metadata": {
        "id": "XCe1Clvjvz1-",
        "outputId": "6b506f90-ce49-428b-91e1-6809e6dd2a53",
        "colab": {
          "base_uri": "https://localhost:8080/",
          "height": 34
        }
      },
      "source": [
        "from sklearn.preprocessing import LabelEncoder\n",
        "encoder = LabelEncoder()\n",
        "encoder.fit(trainy)\n",
        "trainy = encoder.transform(trainy)\n",
        "print(trainy)\n",
        "trainy=np.array(trainy)"
      ],
      "execution_count": 62,
      "outputs": [
        {
          "output_type": "stream",
          "text": [
            "[ 7  7  7 ...  7 12  6]\n"
          ],
          "name": "stdout"
        }
      ]
    },
    {
      "cell_type": "code",
      "metadata": {
        "id": "OiRvfSRjmyEr"
      },
      "source": [
        "import numpy as np\n",
        "import scipy as sp\n",
        "import scipy.ndimage\n",
        "def blur_image(matrix):\n",
        "  sigma_y = 0.5\n",
        "  sigma_x = 0.5\n",
        "  inputmat=matrix\n",
        "  # Apply gaussian filter\n",
        "  sigma = [sigma_y, sigma_x]\n",
        "  y = sp.ndimage.filters.gaussian_filter(inputmat, sigma, mode='constant')\n",
        "  return y\n"
      ],
      "execution_count": 63,
      "outputs": []
    },
    {
      "cell_type": "code",
      "metadata": {
        "id": "FHYRcDkY4GgB"
      },
      "source": [
        "blur_trainX=copy.deepcopy(trainX)\n",
        "for i,matrix in enumerate(trainX):\n",
        "  blur_trainX[i]=blur_image(matrix)\n",
        "trainX=blur_trainX"
      ],
      "execution_count": 64,
      "outputs": []
    },
    {
      "cell_type": "code",
      "metadata": {
        "id": "5zvs3DNh9EMk",
        "outputId": "eda746ae-8227-4728-f84b-3c55f486040d",
        "colab": {
          "base_uri": "https://localhost:8080/",
          "height": 282
        }
      },
      "source": [
        "plt.imshow(trainX[236])"
      ],
      "execution_count": null,
      "outputs": [
        {
          "output_type": "execute_result",
          "data": {
            "text/plain": [
              "<matplotlib.image.AxesImage at 0x7f6d815c6978>"
            ]
          },
          "metadata": {
            "tags": []
          },
          "execution_count": 125
        },
        {
          "output_type": "display_data",
          "data": {
            "image/png": "[encoded data removed]",
            "text/plain": [
              "<Figure size 432x288 with 1 Axes>"
            ]
          },
          "metadata": {
            "tags": [],
            "needs_background": "light"
          }
        }
      ]
    },
    {
      "cell_type": "code",
      "metadata": {
        "id": "EJr2T_F3wHVK"
      },
      "source": [
        "#These scripts refer to https://github.com/gaborvecsei/CDCGAN-Keras/tree/master/cdcgan.\n",
        "\n",
        "import matplotlib\n",
        "\n",
        "matplotlib.use('Agg')\n",
        "from keras import models, layers\n",
        "\n",
        "ACTIVATION = layers.Activation(\"tanh\")\n",
        "\n",
        "\n",
        "def generator_model(minimum_time):\n",
        "    # Prepare noise input\n",
        "    input_z = layers.Input((13,))\n",
        "    dense_z_1 = layers.Dense(1024)(input_z)\n",
        "    act_z_1 = ACTIVATION(dense_z_1)\n",
        "    dense_z_2 = layers.Dense(128 * 6 * int(minimum_time/4))(act_z_1)\n",
        "    bn_z_1 = layers.BatchNormalization()(dense_z_2)\n",
        "    reshape_z = layers.Reshape((6, int(minimum_time/4), 128), input_shape=(128 * 6 * int(minimum_time/4),))(bn_z_1)\n",
        "\n",
        "    # Prepare Conditional (label) input\n",
        "    input_c = layers.Input((13,))\n",
        "    dense_c_1 = layers.Dense(1024)(input_c)\n",
        "    act_c_1 = ACTIVATION(dense_c_1)\n",
        "    dense_c_2 = layers.Dense(128 * 6 * int(minimum_time/4))(act_c_1)\n",
        "    bn_c_1 = layers.BatchNormalization()(dense_c_2)\n",
        "    reshape_c = layers.Reshape((6, int(minimum_time/4), 128), input_shape=(128 * 6 * int(minimum_time/4),))(bn_c_1)\n",
        "\n",
        "    # Combine input source\n",
        "    concat_z_c = layers.Concatenate()([reshape_z, reshape_c])\n",
        "\n",
        "    # Image generation with the concatenated inputs\n",
        "    up_1 = layers.UpSampling2D(size=(2, 2))(concat_z_c)\n",
        "    conv_1 = layers.Conv2D(64, (5, 5), padding='same')(up_1)\n",
        "    act_1 = ACTIVATION(conv_1)\n",
        "    up_2 = layers.UpSampling2D(size=(2, 2))(act_1)\n",
        "    conv_2 = layers.Conv2D(1, (5, 5), padding='same')(up_2)\n",
        "    act_2 = layers.Activation(\"tanh\")(conv_2)\n",
        "    model = models.Model(inputs=[input_z, input_c], outputs=act_2)\n",
        "    return model\n",
        "\n",
        "\n",
        "def discriminator_model(minimum_time):\n",
        "    input_gen_image = layers.Input((24, minimum_time, 1))\n",
        "    conv_1_image = layers.Conv2D(64, (5, 5), padding='same')(input_gen_image)\n",
        "    act_1_image = ACTIVATION(conv_1_image)\n",
        "    pool_1_image = layers.MaxPooling2D(pool_size=(2, 2))(act_1_image)\n",
        "    conv_2_image = layers.Conv2D(128, (5, 5))(pool_1_image)\n",
        "    act_2_image = ACTIVATION(conv_2_image)\n",
        "    pool_2_image = layers.MaxPooling2D(pool_size=(2, 2))(act_2_image)\n",
        "\n",
        "    input_c = layers.Input((13,))\n",
        "    dense_1_c = layers.Dense(1024)(input_c)\n",
        "    act_1_c = ACTIVATION(dense_1_c)\n",
        "    dense_2_c = layers.Dense(4 * int(minimum_time/4-2) * 128)(act_1_c)\n",
        "    bn_c = layers.BatchNormalization()(dense_2_c)\n",
        "    reshaped_c = layers.Reshape((4, int(minimum_time/4-2), 128))(bn_c)\n",
        "\n",
        "    concat = layers.Concatenate()([pool_2_image, reshaped_c])\n",
        "\n",
        "    flat = layers.Flatten()(concat)\n",
        "    dense_1 = layers.Dense(1024)(flat)\n",
        "    act_1 = ACTIVATION(dense_1)\n",
        "    dense_2 = layers.Dense(1)(act_1)\n",
        "    act_2 = layers.Activation('sigmoid')(dense_2)\n",
        "    model = models.Model(inputs=[input_gen_image, input_c], outputs=act_2)\n",
        "    return model\n",
        "\n",
        "\n",
        "def generator_containing_discriminator(g, d):\n",
        "    input_z = layers.Input((13,))\n",
        "    input_c = layers.Input((13,))\n",
        "    gen_image = g([input_z, input_c])\n",
        "    d.trainable = False\n",
        "    is_real = d([gen_image, input_c])\n",
        "    model = models.Model(inputs=[input_z, input_c], outputs=is_real)\n",
        "    return model"
      ],
      "execution_count": 65,
      "outputs": []
    },
    {
      "cell_type": "code",
      "metadata": {
        "id": "XNHFwwLpm85B"
      },
      "source": [
        "import math\n",
        "import os\n",
        "import subprocess\n",
        "\n",
        "import cv2\n",
        "import matplotlib\n",
        "\n",
        "matplotlib.use('Agg')\n",
        "import matplotlib.pyplot as plt\n",
        "import numpy as np\n",
        "\n",
        "\n",
        "def combine_images(generated_images):\n",
        "    num_images = generated_images.shape[0]\n",
        "    new_width = int(math.sqrt(num_images))\n",
        "    new_height = int(math.ceil(float(num_images) / new_width))\n",
        "    grid_shape = generated_images.shape[1:3]\n",
        "    grid_image = np.zeros((new_height * grid_shape[0], new_width * grid_shape[1]), dtype=generated_images.dtype)\n",
        "    for index, img in enumerate(generated_images):\n",
        "        i = int(index / new_width)\n",
        "        j = index % new_width\n",
        "        grid_image[i * grid_shape[0]:(i + 1) * grid_shape[0], j * grid_shape[1]:(j + 1) * grid_shape[1]] = \\\n",
        "            img[:, :, 0]\n",
        "    return grid_image\n",
        "\n",
        "\n",
        "def generate_noise(shape: tuple):\n",
        "    noise = np.random.uniform(0, 1, size=shape)\n",
        "    return noise\n",
        "\n",
        "\n",
        "def generate_condition_embedding(label: int, nb_of_label_embeddings: int):\n",
        "    label_embeddings = np.zeros((nb_of_label_embeddings, 13))\n",
        "    label_embeddings[:, label] = 1\n",
        "    return label_embeddings\n",
        "\n",
        "\n",
        "def generate_images(generator, nb_images: int, label: int):\n",
        "    noise = generate_noise((nb_images, 13))\n",
        "    label_batch = generate_condition_embedding(label, nb_images)\n",
        "    generated_images = generator.predict([noise, label_batch], verbose=0)\n",
        "    return generated_images\n",
        "\n",
        "\n",
        "def generate_mnist_image_grid(generator, title: str = \"Generated images\"):\n",
        "    generated_images = []\n",
        "\n",
        "    for i in range(10):\n",
        "        noise = generate_noise((10, 13))\n",
        "        label_input = generate_condition_embedding(i, 10)\n",
        "        gen_images = generator.predict([noise, label_input], verbose=0)\n",
        "        generated_images.extend(gen_images)\n",
        "\n",
        "    generated_images = np.array(generated_images)\n",
        "    image_grid = combine_images(generated_images)\n",
        "    image_grid = inverse_transform_images(image_grid)\n",
        "\n",
        "    fig = plt.figure()\n",
        "    ax = fig.add_subplot(1, 1, 1)\n",
        "    ax.axis(\"off\")\n",
        "    ax.imshow(image_grid, cmap=\"gray\")\n",
        "    ax.set_title(title)\n",
        "    fig.canvas.draw()\n",
        "\n",
        "    image = np.fromstring(fig.canvas.tostring_rgb(), dtype=np.uint8, sep='')\n",
        "    image = image.reshape(fig.canvas.get_width_height()[::-1] + (3,))\n",
        "\n",
        "    plt.close()\n",
        "\n",
        "    return image\n",
        "\n",
        "\n",
        "def save_generated_image(image, epoch, iteration, folder_path):\n",
        "    if not os.path.isdir(folder_path):\n",
        "        os.makedirs(folder_path)\n",
        "\n",
        "    file_path = \"{0}/{1}_{2}.png\".format(folder_path, epoch, iteration)\n",
        "    cv2.imwrite(file_path, image.astype(np.uint8))\n",
        "\n",
        "\n",
        "def transform_images(images: np.ndarray):\n",
        "    \"\"\"\n",
        "    [0,1]Transform images to [-1, 1]\n",
        "    \"\"\"\n",
        "    max_value=images.max()\n",
        "\n",
        "    images = (images.astype(np.float32) - (max_value/2)) / (max_value/2)\n",
        "    return images\n",
        "\n",
        "\n",
        "def inverse_transform_images(images: np.ndarray):\n",
        "    \"\"\"\n",
        "    From the [-1, 1] range transform the images back to [0, 255]\n",
        "    \"\"\"\n",
        "\n",
        "    images = images * 127.5 + 127.5\n",
        "    images = images.astype(np.uint8)\n",
        "    return images\n",
        "\n",
        "\n",
        "def convert_video_to_gif(input_video_path, output_gif_path, fps=24):\n",
        "    palette_image_path = \"palette.png\"\n",
        "    command_palette = 'ffmpeg -y -t 0 -i {0} -vf fps={1},scale=320:-1:flags=lanczos,palettegen {2}'.format(input_video_path,\n",
        "                                                                                                           fps,\n",
        "                                                                                                           palette_image_path)\n",
        "    command_convert = 'ffmpeg -y -t 0 -i {0} -i {1} -filter_complex \"fps={2},scale=320:-1:flags=lanczos[x];[x][1:v]paletteuse\" {3}'.format(input_video_path,palette_image_path, fps, output_gif_path)\n",
        "    \n",
        "    try:\n",
        "        subprocess.check_call(command_palette)\n",
        "        subprocess.check_call(command_convert)\n",
        "    except subprocess.CalledProcessError as exc:\n",
        "        print(exc.output)\n",
        "        raise\n",
        "    finally:\n",
        "        os.remove(palette_image_path)"
      ],
      "execution_count": 66,
      "outputs": []
    },
    {
      "cell_type": "code",
      "metadata": {
        "id": "1xqJAsQDYM2D",
        "outputId": "802a7e8e-d5af-496e-8f9a-6b33062a2dd1",
        "colab": {
          "base_uri": "https://localhost:8080/",
          "height": 333
        }
      },
      "source": [
        "pip install git+https://github.com/gaborvecsei/Swiss-Army-Tensorboard.git"
      ],
      "execution_count": 67,
      "outputs": [
        {
          "output_type": "stream",
          "text": [
            "Collecting git+https://github.com/gaborvecsei/Swiss-Army-Tensorboard.git\n",
            "  Cloning https://github.com/gaborvecsei/Swiss-Army-Tensorboard.git to /tmp/pip-req-build-4h5d4e87\n",
            "  Running command git clone -q https://github.com/gaborvecsei/Swiss-Army-Tensorboard.git /tmp/pip-req-build-4h5d4e87\n",
            "Requirement already satisfied: numpy>=1.16.1 in /usr/local/lib/python3.6/dist-packages (from swiss-army-tensorboard==0.0.1) (1.18.5)\n",
            "Requirement already satisfied: matplotlib>=3.1 in /usr/local/lib/python3.6/dist-packages (from swiss-army-tensorboard==0.0.1) (3.2.2)\n",
            "Requirement already satisfied: pyparsing!=2.0.4,!=2.1.2,!=2.1.6,>=2.0.1 in /usr/local/lib/python3.6/dist-packages (from matplotlib>=3.1->swiss-army-tensorboard==0.0.1) (2.4.7)\n",
            "Requirement already satisfied: kiwisolver>=1.0.1 in /usr/local/lib/python3.6/dist-packages (from matplotlib>=3.1->swiss-army-tensorboard==0.0.1) (1.2.0)\n",
            "Requirement already satisfied: python-dateutil>=2.1 in /usr/local/lib/python3.6/dist-packages (from matplotlib>=3.1->swiss-army-tensorboard==0.0.1) (2.8.1)\n",
            "Requirement already satisfied: cycler>=0.10 in /usr/local/lib/python3.6/dist-packages (from matplotlib>=3.1->swiss-army-tensorboard==0.0.1) (0.10.0)\n",
            "Requirement already satisfied: six>=1.5 in /usr/local/lib/python3.6/dist-packages (from python-dateutil>=2.1->matplotlib>=3.1->swiss-army-tensorboard==0.0.1) (1.15.0)\n",
            "Building wheels for collected packages: swiss-army-tensorboard\n",
            "  Building wheel for swiss-army-tensorboard (setup.py) ... \u001b[?25l\u001b[?25hdone\n",
            "  Created wheel for swiss-army-tensorboard: filename=swiss_army_tensorboard-0.0.1-cp36-none-any.whl size=5376 sha256=7fe2f11a0354371057ebd900fdd85c72212665e0ce1791ad3432d0df39a455e0\n",
            "  Stored in directory: /tmp/pip-ephem-wheel-cache-2b_8lxq2/wheels/ea/f7/db/67f8661f9c334ad8eda2d0dfbc21bcaea99f739c97f6008d41\n",
            "Successfully built swiss-army-tensorboard\n",
            "Installing collected packages: swiss-army-tensorboard\n",
            "Successfully installed swiss-army-tensorboard-0.0.1\n"
          ],
          "name": "stdout"
        }
      ]
    },
    {
      "cell_type": "code",
      "metadata": {
        "id": "kJjHn-Nngy8P",
        "outputId": "363bbbb6-7492-4b06-ed30-3145d3bb68d2",
        "colab": {
          "base_uri": "https://localhost:8080/",
          "height": 106
        }
      },
      "source": [
        "import matplotlib\n",
        "\n",
        "matplotlib.use('Agg')\n",
        "import numpy as np\n",
        "from keras import backend as K\n",
        "from keras import utils as keras_utils\n",
        "from keras import optimizers\n",
        "from keras import datasets\n",
        "from swiss_army_tensorboard import tfboard_loggers\n",
        "from tqdm import tqdm\n",
        "\n",
        "BATCH_SIZE = 512\n",
        "EPOCHS = 100\n",
        "\n",
        "# Load & Prepare MNIST\n",
        "\n",
        "X_train=trainX\n",
        "y_train=trainy\n",
        "X_train = transform_images(X_train)\n",
        "X_train = X_train[:, :, :, None]\n",
        "\n",
        "y_train = keras_utils.to_categorical(y_train, 13)\n",
        "\n",
        "# Create the models\n",
        "\n",
        "G = generator_model(Minimum_time)\n",
        "D = discriminator_model(Minimum_time)\n",
        "\n",
        "GD = generator_containing_discriminator(G, D)\n",
        "\n",
        "optimizer = optimizers.Adam(0.0002, 0.5)\n",
        "\n",
        "G.compile(loss='binary_crossentropy', optimizer=optimizer)\n",
        "GD.compile(loss='binary_crossentropy', optimizer=optimizer)\n",
        "D.trainable = True\n",
        "D.compile(loss='binary_crossentropy', optimizer=optimizer)\n"
      ],
      "execution_count": 68,
      "outputs": [
        {
          "output_type": "stream",
          "text": [
            "WARNING:tensorflow:From /usr/local/lib/python3.6/dist-packages/swiss_army_tensorboard/tfboard_loggers/tfboard_loggers.py:47: The name tf.HistogramProto is deprecated. Please use tf.compat.v1.HistogramProto instead.\n",
            "\n",
            "WARNING:tensorflow:From /usr/local/lib/python3.6/dist-packages/keras/backend/tensorflow_backend.py:4070: The name tf.nn.max_pool is deprecated. Please use tf.nn.max_pool2d instead.\n",
            "\n"
          ],
          "name": "stdout"
        }
      ]
    },
    {
      "cell_type": "code",
      "metadata": {
        "id": "xiSLW8ipuBhP"
      },
      "source": [
        "G.load_weights(\"/content/drive/My Drive/FLAGNet/PPDDlist/GAN_result/generator.h5\")\n",
        "D.load_weights(\"/content/drive/My Drive/FLAGNet/PPDDlist/GAN_result/discriminator.h5\")"
      ],
      "execution_count": 69,
      "outputs": []
    },
    {
      "cell_type": "code",
      "metadata": {
        "id": "CX3bvlrduAKR",
        "outputId": "381d8e49-6e75-4312-c1d9-ea1781dc3d60",
        "colab": {
          "base_uri": "https://localhost:8080/",
          "height": 1000
        }
      },
      "source": [
        "from tensorflow import keras\n",
        "# Setup Tensorboard loggers\n",
        "\n",
        "tfboard_loggers.TFBoardModelGraphLogger.log_graph(\"/content/drive/My Drive/FLAGNet/PPDDlist/GAN_result/logs\", K.get_session())\n",
        "loss_logger = tfboard_loggers.TFBoardScalarLogger(\"/content/drive/My Drive/FLAGNet/PPDDlist/GAN_result/logs/loss\")\n",
        "image_logger = tfboard_loggers.TFBoardImageLogger(\"/content/drive/My Drive/FLAGNet/PPDDlist/GAN_result/logs/generated_images\")\n",
        "\n",
        "# Model Training\n",
        "\n",
        "iteration = 0\n",
        "dist_val=0.8\n",
        "nb_of_iterations_per_epoch = int(X_train.shape[0] / BATCH_SIZE)\n",
        "print(\"Number of iterations per epoch: {0}\".format(nb_of_iterations_per_epoch))\n",
        "\n",
        "for epoch in range(EPOCHS):\n",
        "    pbar = tqdm(desc=\"Epoch: {0}\".format(epoch), total=X_train.shape[0],position=0)\n",
        "\n",
        "    g_losses_for_epoch = []\n",
        "    d_losses_for_epoch = []\n",
        "\n",
        "    for i in range(nb_of_iterations_per_epoch):\n",
        "        noise = generate_noise((BATCH_SIZE, 13))\n",
        "\n",
        "        image_batch = X_train[i * BATCH_SIZE:(i + 1) * BATCH_SIZE]\n",
        "        label_batch = y_train[i * BATCH_SIZE:(i + 1) * BATCH_SIZE]\n",
        "\n",
        "        generated_images = G.predict([noise, label_batch], verbose=0)\n",
        "        X = np.concatenate((image_batch, generated_images))\n",
        "        y = [1] * BATCH_SIZE + [0] * BATCH_SIZE\n",
        "        label_batches_for_discriminator = np.concatenate((label_batch, label_batch))\n",
        "        \n",
        "        if(np.random.random()<dist_val):\n",
        "            D_loss = D.train_on_batch([X, label_batches_for_discriminator], y)\n",
        "            d_losses_for_epoch.append(D_loss)\n",
        "            loss_logger.log_scalar(\"discriminator_loss\", D_loss, iteration)\n",
        "\n",
        "        noise = generate_noise((BATCH_SIZE, 13))\n",
        "        D.trainable = False\n",
        "        G_loss = GD.train_on_batch([noise, label_batch], [1] * BATCH_SIZE)\n",
        "        D.trainable = True\n",
        "        g_losses_for_epoch.append(G_loss)\n",
        "        loss_logger.log_scalar(\"generator_loss\", G_loss, iteration)\n",
        "\n",
        "        pbar.update(BATCH_SIZE)\n",
        "\n",
        "        iteration += 1\n",
        "        \n",
        "    # Save a generated image for every epoch\n",
        "    image_grid = generate_mnist_image_grid(G, title=\"Epoch {0}\".format(epoch))\n",
        "    save_generated_image(image_grid, epoch, 0, \"/content/drive/My Drive/FLAGNet/PPDDlist/GAN_result/generated_mnist_images_per_epoch\")\n",
        "    image_logger.log_images(\"/content/drive/My Drive/FLAGNet/PPDDlist/GAN_result/generated_mnist_images_per_epoch\", [image_grid], epoch)\n",
        "\n",
        "    pbar.close()\n",
        "    print(\"D loss: {0}, G loss: {1}\".format(np.mean(d_losses_for_epoch), np.mean(g_losses_for_epoch)))\n",
        "    if(np.mean(g_losses_for_epoch)>1):\n",
        "      dist_val=0.8\n",
        "    else:\n",
        "      dist_val=0.4\n",
        "\n",
        "\n",
        "    G.save_weights(\"/content/drive/My Drive/FLAGNet/PPDDlist/GAN_result/generator.h5\")\n",
        "    D.save_weights(\"/content/drive/My Drive/FLAGNet/PPDDlist/GAN_result/discriminator.h5\")"
      ],
      "execution_count": null,
      "outputs": [
        {
          "output_type": "stream",
          "text": [
            "/usr/local/lib/python3.6/dist-packages/swiss_army_tensorboard/tfboard_loggers/tfboard_loggers.py:19: UserWarning: Folder /content/drive/My Drive/MARG/PPDDlist/GAN_result/logs/loss is already created, maybe it contains other log files\n",
            "  warnings.warn(\"Folder {0} is already created, maybe it contains other log files\".format(log_dir))\n",
            "/usr/local/lib/python3.6/dist-packages/swiss_army_tensorboard/tfboard_loggers/tfboard_loggers.py:19: UserWarning: Folder /content/drive/My Drive/MARG/PPDDlist/GAN_result/logs/generated_images is already created, maybe it contains other log files\n",
            "  warnings.warn(\"Folder {0} is already created, maybe it contains other log files\".format(log_dir))\n",
            "\rEpoch: 0:   0%|          | 0/116625 [00:00<?, ?it/s]"
          ],
          "name": "stderr"
        },
        {
          "output_type": "stream",
          "text": [
            "Number of iterations per epoch: 227\n"
          ],
          "name": "stdout"
        },
        {
          "output_type": "stream",
          "text": [
            "Epoch: 0: 100%|█████████▉| 116224/116625 [00:22<00:00, 7042.10it/s]/usr/local/lib/python3.6/dist-packages/ipykernel_launcher.py:64: DeprecationWarning: The binary mode of fromstring is deprecated, as it behaves surprisingly on unicode inputs. Use frombuffer instead\n",
            "Epoch: 0: 100%|█████████▉| 116224/116625 [00:22<00:00, 5125.88it/s]\n"
          ],
          "name": "stderr"
        },
        {
          "output_type": "stream",
          "text": [
            "D loss: 0.15376928448677063, G loss: 0.34576258063316345\n"
          ],
          "name": "stdout"
        },
        {
          "output_type": "stream",
          "text": [
            "Epoch: 1: 100%|█████████▉| 116224/116625 [00:14<00:00, 7904.98it/s]\n"
          ],
          "name": "stderr"
        },
        {
          "output_type": "stream",
          "text": [
            "D loss: 0.6490666270256042, G loss: 0.578936755657196\n"
          ],
          "name": "stdout"
        },
        {
          "output_type": "stream",
          "text": [
            "Epoch: 2: 100%|█████████▉| 116224/116625 [00:14<00:00, 7772.74it/s]\n"
          ],
          "name": "stderr"
        },
        {
          "output_type": "stream",
          "text": [
            "D loss: 0.7155665159225464, G loss: 0.7077296376228333\n"
          ],
          "name": "stdout"
        },
        {
          "output_type": "stream",
          "text": [
            "Epoch: 3: 100%|█████████▉| 116224/116625 [00:14<00:00, 7814.49it/s]\n"
          ],
          "name": "stderr"
        },
        {
          "output_type": "stream",
          "text": [
            "D loss: 0.6951649188995361, G loss: 0.6970179080963135\n"
          ],
          "name": "stdout"
        },
        {
          "output_type": "stream",
          "text": [
            "Epoch: 4: 100%|█████████▉| 116224/116625 [00:15<00:00, 7720.21it/s]\n"
          ],
          "name": "stderr"
        },
        {
          "output_type": "stream",
          "text": [
            "D loss: 0.6915683150291443, G loss: 0.6978145837783813\n"
          ],
          "name": "stdout"
        },
        {
          "output_type": "stream",
          "text": [
            "Epoch: 5: 100%|█████████▉| 116224/116625 [00:14<00:00, 7858.01it/s]\n"
          ],
          "name": "stderr"
        },
        {
          "output_type": "stream",
          "text": [
            "D loss: 0.6943573951721191, G loss: 0.7010173797607422\n"
          ],
          "name": "stdout"
        },
        {
          "output_type": "stream",
          "text": [
            "Epoch: 6: 100%|█████████▉| 116224/116625 [00:15<00:00, 7704.64it/s]\n"
          ],
          "name": "stderr"
        },
        {
          "output_type": "stream",
          "text": [
            "D loss: 0.6927468180656433, G loss: 0.709038257598877\n"
          ],
          "name": "stdout"
        },
        {
          "output_type": "stream",
          "text": [
            "Epoch: 7: 100%|█████████▉| 116224/116625 [00:14<00:00, 7811.75it/s]\n"
          ],
          "name": "stderr"
        },
        {
          "output_type": "stream",
          "text": [
            "D loss: 0.6913542151451111, G loss: 0.7012490630149841\n"
          ],
          "name": "stdout"
        },
        {
          "output_type": "stream",
          "text": [
            "Epoch: 8: 100%|█████████▉| 116224/116625 [00:15<00:00, 7706.80it/s]\n"
          ],
          "name": "stderr"
        },
        {
          "output_type": "stream",
          "text": [
            "D loss: 0.6919567584991455, G loss: 0.7044064402580261\n"
          ],
          "name": "stdout"
        },
        {
          "output_type": "stream",
          "text": [
            "Epoch: 9: 100%|█████████▉| 116224/116625 [00:14<00:00, 7759.70it/s]\n"
          ],
          "name": "stderr"
        },
        {
          "output_type": "stream",
          "text": [
            "D loss: 0.6877288222312927, G loss: 0.7124009728431702\n"
          ],
          "name": "stdout"
        },
        {
          "output_type": "stream",
          "text": [
            "Epoch: 10: 100%|█████████▉| 116224/116625 [00:14<00:00, 7891.48it/s]\n"
          ],
          "name": "stderr"
        },
        {
          "output_type": "stream",
          "text": [
            "D loss: 0.6900395750999451, G loss: 0.7108024954795837\n"
          ],
          "name": "stdout"
        },
        {
          "output_type": "stream",
          "text": [
            "Epoch: 11: 100%|█████████▉| 116224/116625 [00:15<00:00, 7730.46it/s]\n"
          ],
          "name": "stderr"
        },
        {
          "output_type": "stream",
          "text": [
            "D loss: 0.6893360614776611, G loss: 0.7269704937934875\n"
          ],
          "name": "stdout"
        },
        {
          "output_type": "stream",
          "text": [
            "Epoch: 12: 100%|█████████▉| 116224/116625 [00:14<00:00, 7855.97it/s]\n"
          ],
          "name": "stderr"
        },
        {
          "output_type": "stream",
          "text": [
            "D loss: 0.6920506358146667, G loss: 0.7107788920402527\n"
          ],
          "name": "stdout"
        },
        {
          "output_type": "stream",
          "text": [
            "Epoch: 13: 100%|█████████▉| 116224/116625 [00:14<00:00, 7942.35it/s]\n"
          ],
          "name": "stderr"
        },
        {
          "output_type": "stream",
          "text": [
            "D loss: 0.6884937286376953, G loss: 0.7118780612945557\n"
          ],
          "name": "stdout"
        },
        {
          "output_type": "stream",
          "text": [
            "Epoch: 14: 100%|█████████▉| 116224/116625 [00:14<00:00, 7776.93it/s]\n"
          ],
          "name": "stderr"
        },
        {
          "output_type": "stream",
          "text": [
            "D loss: 0.6878435015678406, G loss: 0.7079936265945435\n"
          ],
          "name": "stdout"
        },
        {
          "output_type": "stream",
          "text": [
            "Epoch: 15: 100%|█████████▉| 116224/116625 [00:14<00:00, 7794.61it/s]\n"
          ],
          "name": "stderr"
        },
        {
          "output_type": "stream",
          "text": [
            "D loss: 0.6917043328285217, G loss: 0.7173920273780823\n"
          ],
          "name": "stdout"
        },
        {
          "output_type": "stream",
          "text": [
            "Epoch: 16: 100%|█████████▉| 116224/116625 [00:14<00:00, 7828.14it/s]\n"
          ],
          "name": "stderr"
        },
        {
          "output_type": "stream",
          "text": [
            "D loss: 0.6869412660598755, G loss: 0.7138929963111877\n"
          ],
          "name": "stdout"
        },
        {
          "output_type": "stream",
          "text": [
            "Epoch: 17: 100%|█████████▉| 116224/116625 [00:14<00:00, 7783.54it/s]\n"
          ],
          "name": "stderr"
        },
        {
          "output_type": "stream",
          "text": [
            "D loss: 0.6917435526847839, G loss: 0.7344152927398682\n"
          ],
          "name": "stdout"
        },
        {
          "output_type": "stream",
          "text": [
            "Epoch: 18: 100%|█████████▉| 116224/116625 [00:14<00:00, 7757.55it/s]\n"
          ],
          "name": "stderr"
        },
        {
          "output_type": "stream",
          "text": [
            "D loss: 0.6847578883171082, G loss: 0.7323578596115112\n"
          ],
          "name": "stdout"
        },
        {
          "output_type": "stream",
          "text": [
            "Epoch: 19: 100%|█████████▉| 116224/116625 [00:15<00:00, 7643.93it/s]\n"
          ],
          "name": "stderr"
        },
        {
          "output_type": "stream",
          "text": [
            "D loss: 0.6896145939826965, G loss: 0.7257438898086548\n"
          ],
          "name": "stdout"
        },
        {
          "output_type": "stream",
          "text": [
            "Epoch: 20: 100%|█████████▉| 116224/116625 [00:14<00:00, 7842.09it/s]\n"
          ],
          "name": "stderr"
        },
        {
          "output_type": "stream",
          "text": [
            "D loss: 0.6857680082321167, G loss: 0.7336830496788025\n"
          ],
          "name": "stdout"
        },
        {
          "output_type": "stream",
          "text": [
            "Epoch: 21: 100%|█████████▉| 116224/116625 [00:14<00:00, 7752.30it/s]\n"
          ],
          "name": "stderr"
        },
        {
          "output_type": "stream",
          "text": [
            "D loss: 0.68511563539505, G loss: 0.750413179397583\n"
          ],
          "name": "stdout"
        },
        {
          "output_type": "stream",
          "text": [
            "Epoch: 22: 100%|█████████▉| 116224/116625 [00:15<00:00, 7728.02it/s]\n"
          ],
          "name": "stderr"
        },
        {
          "output_type": "stream",
          "text": [
            "D loss: 0.6771475672721863, G loss: 0.7476654648780823\n"
          ],
          "name": "stdout"
        },
        {
          "output_type": "stream",
          "text": [
            "Epoch: 23: 100%|█████████▉| 116224/116625 [00:14<00:00, 7823.15it/s]\n"
          ],
          "name": "stderr"
        },
        {
          "output_type": "stream",
          "text": [
            "D loss: 0.6830055117607117, G loss: 0.7806075215339661\n"
          ],
          "name": "stdout"
        },
        {
          "output_type": "stream",
          "text": [
            "Epoch: 24: 100%|█████████▉| 116224/116625 [00:15<00:00, 7718.03it/s]\n"
          ],
          "name": "stderr"
        },
        {
          "output_type": "stream",
          "text": [
            "D loss: 0.6612856984138489, G loss: 0.7857511639595032\n"
          ],
          "name": "stdout"
        },
        {
          "output_type": "stream",
          "text": [
            "Epoch: 25: 100%|█████████▉| 116224/116625 [00:14<00:00, 7801.06it/s]\n"
          ],
          "name": "stderr"
        },
        {
          "output_type": "stream",
          "text": [
            "D loss: 0.6681514382362366, G loss: 0.7794737815856934\n"
          ],
          "name": "stdout"
        },
        {
          "output_type": "stream",
          "text": [
            "Epoch: 26: 100%|█████████▉| 116224/116625 [00:14<00:00, 7791.47it/s]\n"
          ],
          "name": "stderr"
        },
        {
          "output_type": "stream",
          "text": [
            "D loss: 0.6706094145774841, G loss: 0.7687215209007263\n"
          ],
          "name": "stdout"
        },
        {
          "output_type": "stream",
          "text": [
            "Epoch: 27: 100%|█████████▉| 116224/116625 [00:14<00:00, 7847.51it/s]\n"
          ],
          "name": "stderr"
        },
        {
          "output_type": "stream",
          "text": [
            "D loss: 0.6677873134613037, G loss: 0.7786104083061218\n"
          ],
          "name": "stdout"
        },
        {
          "output_type": "stream",
          "text": [
            "Epoch: 28: 100%|█████████▉| 116224/116625 [00:14<00:00, 7824.98it/s]\n"
          ],
          "name": "stderr"
        },
        {
          "output_type": "stream",
          "text": [
            "D loss: 0.6669659614562988, G loss: 0.7897696495056152\n"
          ],
          "name": "stdout"
        },
        {
          "output_type": "stream",
          "text": [
            "Epoch: 29: 100%|█████████▉| 116224/116625 [00:14<00:00, 7866.13it/s]\n"
          ],
          "name": "stderr"
        },
        {
          "output_type": "stream",
          "text": [
            "D loss: 0.6786069869995117, G loss: 0.7803046703338623\n"
          ],
          "name": "stdout"
        },
        {
          "output_type": "stream",
          "text": [
            "Epoch: 30: 100%|█████████▉| 116224/116625 [00:15<00:00, 7725.97it/s]\n"
          ],
          "name": "stderr"
        },
        {
          "output_type": "stream",
          "text": [
            "D loss: 0.6542644500732422, G loss: 0.8144482970237732\n"
          ],
          "name": "stdout"
        },
        {
          "output_type": "stream",
          "text": [
            "Epoch: 31: 100%|█████████▉| 116224/116625 [00:14<00:00, 7831.41it/s]\n"
          ],
          "name": "stderr"
        },
        {
          "output_type": "stream",
          "text": [
            "D loss: 0.6607987880706787, G loss: 0.8118560314178467\n"
          ],
          "name": "stdout"
        },
        {
          "output_type": "stream",
          "text": [
            "Epoch: 32: 100%|█████████▉| 116224/116625 [00:14<00:00, 7988.15it/s]\n"
          ],
          "name": "stderr"
        },
        {
          "output_type": "stream",
          "text": [
            "D loss: 0.6595384478569031, G loss: 0.8137801289558411\n"
          ],
          "name": "stdout"
        },
        {
          "output_type": "stream",
          "text": [
            "Epoch: 33: 100%|█████████▉| 116224/116625 [00:15<00:00, 7744.00it/s]\n"
          ],
          "name": "stderr"
        },
        {
          "output_type": "stream",
          "text": [
            "D loss: 0.642741322517395, G loss: 0.8111264109611511\n"
          ],
          "name": "stdout"
        },
        {
          "output_type": "stream",
          "text": [
            "Epoch: 34: 100%|█████████▉| 116224/116625 [00:14<00:00, 7788.48it/s]\n"
          ],
          "name": "stderr"
        },
        {
          "output_type": "stream",
          "text": [
            "D loss: 0.620473325252533, G loss: 0.7986314296722412\n"
          ],
          "name": "stdout"
        },
        {
          "output_type": "stream",
          "text": [
            "Epoch: 35: 100%|█████████▉| 116224/116625 [00:14<00:00, 7977.87it/s]\n"
          ],
          "name": "stderr"
        },
        {
          "output_type": "stream",
          "text": [
            "D loss: 0.6158190965652466, G loss: 0.7786564230918884\n"
          ],
          "name": "stdout"
        },
        {
          "output_type": "stream",
          "text": [
            "Epoch: 36: 100%|█████████▉| 116224/116625 [00:14<00:00, 7794.63it/s]\n"
          ],
          "name": "stderr"
        },
        {
          "output_type": "stream",
          "text": [
            "D loss: 0.5356637239456177, G loss: 0.731158435344696\n"
          ],
          "name": "stdout"
        },
        {
          "output_type": "stream",
          "text": [
            "Epoch: 37: 100%|█████████▉| 116224/116625 [00:14<00:00, 7757.62it/s]\n"
          ],
          "name": "stderr"
        },
        {
          "output_type": "stream",
          "text": [
            "D loss: 0.46816372871398926, G loss: 0.6404675245285034\n"
          ],
          "name": "stdout"
        },
        {
          "output_type": "stream",
          "text": [
            "Epoch: 38: 100%|█████████▉| 116224/116625 [00:14<00:00, 7842.52it/s]\n"
          ],
          "name": "stderr"
        },
        {
          "output_type": "stream",
          "text": [
            "D loss: 0.3861314654350281, G loss: 0.48686715960502625\n"
          ],
          "name": "stdout"
        },
        {
          "output_type": "stream",
          "text": [
            "Epoch: 39: 100%|█████████▉| 116224/116625 [00:14<00:00, 7830.06it/s]\n"
          ],
          "name": "stderr"
        },
        {
          "output_type": "stream",
          "text": [
            "D loss: 0.31024613976478577, G loss: 0.5143997669219971\n"
          ],
          "name": "stdout"
        },
        {
          "output_type": "stream",
          "text": [
            "Epoch: 40: 100%|█████████▉| 116224/116625 [00:14<00:00, 7983.08it/s]\n"
          ],
          "name": "stderr"
        },
        {
          "output_type": "stream",
          "text": [
            "D loss: 0.3740873336791992, G loss: 0.47861114144325256\n"
          ],
          "name": "stdout"
        },
        {
          "output_type": "stream",
          "text": [
            "Epoch: 41: 100%|█████████▉| 116224/116625 [00:14<00:00, 7818.48it/s]\n"
          ],
          "name": "stderr"
        },
        {
          "output_type": "stream",
          "text": [
            "D loss: 0.6109498739242554, G loss: 0.8608746528625488\n"
          ],
          "name": "stdout"
        },
        {
          "output_type": "stream",
          "text": [
            "Epoch: 42: 100%|█████████▉| 116224/116625 [00:14<00:00, 7775.35it/s]\n"
          ],
          "name": "stderr"
        },
        {
          "output_type": "stream",
          "text": [
            "D loss: 0.5837579965591431, G loss: 0.9676432609558105\n"
          ],
          "name": "stdout"
        },
        {
          "output_type": "stream",
          "text": [
            "Epoch: 43: 100%|█████████▉| 116224/116625 [00:15<00:00, 7683.77it/s]\n"
          ],
          "name": "stderr"
        },
        {
          "output_type": "stream",
          "text": [
            "D loss: 0.5563226938247681, G loss: 0.992301344871521\n"
          ],
          "name": "stdout"
        },
        {
          "output_type": "stream",
          "text": [
            "Epoch: 44: 100%|█████████▉| 116224/116625 [00:14<00:00, 7979.85it/s]\n"
          ],
          "name": "stderr"
        },
        {
          "output_type": "stream",
          "text": [
            "D loss: 0.6173328757286072, G loss: 0.9410746693611145\n"
          ],
          "name": "stdout"
        },
        {
          "output_type": "stream",
          "text": [
            "Epoch: 45: 100%|█████████▉| 116224/116625 [00:15<00:00, 7552.17it/s]\n"
          ],
          "name": "stderr"
        },
        {
          "output_type": "stream",
          "text": [
            "D loss: 0.5558667778968811, G loss: 1.011040449142456\n"
          ],
          "name": "stdout"
        },
        {
          "output_type": "stream",
          "text": [
            "Epoch: 46: 100%|█████████▉| 116224/116625 [00:17<00:00, 6781.59it/s]\n"
          ],
          "name": "stderr"
        },
        {
          "output_type": "stream",
          "text": [
            "D loss: 0.47190389037132263, G loss: 1.1119308471679688\n"
          ],
          "name": "stdout"
        },
        {
          "output_type": "stream",
          "text": [
            "Epoch: 47: 100%|█████████▉| 116224/116625 [00:16<00:00, 6873.24it/s]\n"
          ],
          "name": "stderr"
        },
        {
          "output_type": "stream",
          "text": [
            "D loss: 0.49121659994125366, G loss: 1.1035655736923218\n"
          ],
          "name": "stdout"
        },
        {
          "output_type": "stream",
          "text": [
            "Epoch: 48: 100%|█████████▉| 116224/116625 [00:17<00:00, 6783.35it/s]\n"
          ],
          "name": "stderr"
        },
        {
          "output_type": "stream",
          "text": [
            "D loss: 0.3811934292316437, G loss: 0.9549753665924072\n"
          ],
          "name": "stdout"
        },
        {
          "output_type": "stream",
          "text": [
            "Epoch: 49: 100%|█████████▉| 116224/116625 [00:14<00:00, 7822.09it/s]\n"
          ],
          "name": "stderr"
        },
        {
          "output_type": "stream",
          "text": [
            "D loss: 0.46874746680259705, G loss: 0.8371588587760925\n"
          ],
          "name": "stdout"
        },
        {
          "output_type": "stream",
          "text": [
            "Epoch: 50: 100%|█████████▉| 116224/116625 [00:15<00:00, 7679.90it/s]\n"
          ],
          "name": "stderr"
        },
        {
          "output_type": "stream",
          "text": [
            "D loss: 0.5079147815704346, G loss: 1.1759551763534546\n"
          ],
          "name": "stdout"
        },
        {
          "output_type": "stream",
          "text": [
            "Epoch: 51: 100%|█████████▉| 116224/116625 [00:16<00:00, 6886.16it/s]\n"
          ],
          "name": "stderr"
        },
        {
          "output_type": "stream",
          "text": [
            "D loss: 0.3950602412223816, G loss: 1.3386932611465454\n"
          ],
          "name": "stdout"
        },
        {
          "output_type": "stream",
          "text": [
            "Epoch: 52: 100%|█████████▉| 116224/116625 [00:16<00:00, 6957.06it/s]\n"
          ],
          "name": "stderr"
        },
        {
          "output_type": "stream",
          "text": [
            "D loss: 0.16126732528209686, G loss: 0.6237868666648865\n"
          ],
          "name": "stdout"
        },
        {
          "output_type": "stream",
          "text": [
            "Epoch: 53: 100%|█████████▉| 116224/116625 [00:15<00:00, 7560.81it/s]\n"
          ],
          "name": "stderr"
        },
        {
          "output_type": "stream",
          "text": [
            "D loss: 0.49151715636253357, G loss: 1.1472505331039429\n"
          ],
          "name": "stdout"
        },
        {
          "output_type": "stream",
          "text": [
            "Epoch: 54: 100%|█████████▉| 116224/116625 [00:16<00:00, 6931.82it/s]\n"
          ],
          "name": "stderr"
        },
        {
          "output_type": "stream",
          "text": [
            "D loss: 0.36124029755592346, G loss: 1.4672011137008667\n"
          ],
          "name": "stdout"
        },
        {
          "output_type": "stream",
          "text": [
            "Epoch: 55: 100%|█████████▉| 116224/116625 [00:16<00:00, 6963.89it/s]\n"
          ],
          "name": "stderr"
        },
        {
          "output_type": "stream",
          "text": [
            "D loss: 0.30348360538482666, G loss: 1.3945714235305786\n"
          ],
          "name": "stdout"
        },
        {
          "output_type": "stream",
          "text": [
            "Epoch: 56: 100%|█████████▉| 116224/116625 [00:16<00:00, 6967.58it/s]\n"
          ],
          "name": "stderr"
        },
        {
          "output_type": "stream",
          "text": [
            "D loss: 0.37233245372772217, G loss: 1.7087762355804443\n"
          ],
          "name": "stdout"
        },
        {
          "output_type": "stream",
          "text": [
            "Epoch: 57: 100%|█████████▉| 116224/116625 [00:16<00:00, 6964.78it/s]\n"
          ],
          "name": "stderr"
        },
        {
          "output_type": "stream",
          "text": [
            "D loss: 0.3623213768005371, G loss: 1.6290680170059204\n"
          ],
          "name": "stdout"
        },
        {
          "output_type": "stream",
          "text": [
            "Epoch: 58: 100%|█████████▉| 116224/116625 [00:16<00:00, 7022.42it/s]\n"
          ],
          "name": "stderr"
        },
        {
          "output_type": "stream",
          "text": [
            "D loss: 0.24710169434547424, G loss: 1.2659337520599365\n"
          ],
          "name": "stdout"
        },
        {
          "output_type": "stream",
          "text": [
            "Epoch: 59: 100%|█████████▉| 116224/116625 [00:16<00:00, 7102.08it/s]\n"
          ],
          "name": "stderr"
        },
        {
          "output_type": "stream",
          "text": [
            "D loss: 0.2942344546318054, G loss: 1.7426986694335938\n"
          ],
          "name": "stdout"
        },
        {
          "output_type": "stream",
          "text": [
            "Epoch: 60: 100%|█████████▉| 116224/116625 [00:16<00:00, 6987.03it/s]\n"
          ],
          "name": "stderr"
        },
        {
          "output_type": "stream",
          "text": [
            "D loss: 0.27855899930000305, G loss: 1.589772343635559\n"
          ],
          "name": "stdout"
        },
        {
          "output_type": "stream",
          "text": [
            "Epoch: 61: 100%|█████████▉| 116224/116625 [00:16<00:00, 6951.45it/s]\n"
          ],
          "name": "stderr"
        },
        {
          "output_type": "stream",
          "text": [
            "D loss: 0.23445503413677216, G loss: 1.2014834880828857\n"
          ],
          "name": "stdout"
        },
        {
          "output_type": "stream",
          "text": [
            "Epoch: 62: 100%|█████████▉| 116224/116625 [00:16<00:00, 7015.27it/s]\n"
          ],
          "name": "stderr"
        },
        {
          "output_type": "stream",
          "text": [
            "D loss: 0.30384376645088196, G loss: 1.8209242820739746\n"
          ],
          "name": "stdout"
        },
        {
          "output_type": "stream",
          "text": [
            "Epoch: 63: 100%|█████████▉| 116224/116625 [00:16<00:00, 7008.40it/s]\n"
          ],
          "name": "stderr"
        },
        {
          "output_type": "stream",
          "text": [
            "D loss: 0.26221686601638794, G loss: 1.9070826768875122\n"
          ],
          "name": "stdout"
        },
        {
          "output_type": "stream",
          "text": [
            "Epoch: 64: 100%|█████████▉| 116224/116625 [00:16<00:00, 7046.93it/s]\n"
          ],
          "name": "stderr"
        },
        {
          "output_type": "stream",
          "text": [
            "D loss: 0.2880130112171173, G loss: 2.0104877948760986\n"
          ],
          "name": "stdout"
        },
        {
          "output_type": "stream",
          "text": [
            "Epoch: 65: 100%|█████████▉| 116224/116625 [00:16<00:00, 7012.99it/s]\n"
          ],
          "name": "stderr"
        },
        {
          "output_type": "stream",
          "text": [
            "D loss: 0.1797482669353485, G loss: 1.6627329587936401\n"
          ],
          "name": "stdout"
        },
        {
          "output_type": "stream",
          "text": [
            "Epoch: 66: 100%|█████████▉| 116224/116625 [00:16<00:00, 7140.29it/s]\n"
          ],
          "name": "stderr"
        },
        {
          "output_type": "stream",
          "text": [
            "D loss: 0.2150728553533554, G loss: 2.03875732421875\n"
          ],
          "name": "stdout"
        },
        {
          "output_type": "stream",
          "text": [
            "Epoch: 67: 100%|█████████▉| 116224/116625 [00:16<00:00, 6930.06it/s]\n"
          ],
          "name": "stderr"
        },
        {
          "output_type": "stream",
          "text": [
            "D loss: 0.21294009685516357, G loss: 2.3188531398773193\n"
          ],
          "name": "stdout"
        },
        {
          "output_type": "stream",
          "text": [
            "Epoch: 68: 100%|█████████▉| 116224/116625 [00:16<00:00, 7067.38it/s]\n"
          ],
          "name": "stderr"
        },
        {
          "output_type": "stream",
          "text": [
            "D loss: 0.17027688026428223, G loss: 1.7195091247558594\n"
          ],
          "name": "stdout"
        },
        {
          "output_type": "stream",
          "text": [
            "Epoch: 69: 100%|█████████▉| 116224/116625 [00:16<00:00, 7047.40it/s]\n"
          ],
          "name": "stderr"
        },
        {
          "output_type": "stream",
          "text": [
            "D loss: 0.25020265579223633, G loss: 2.393306255340576\n"
          ],
          "name": "stdout"
        },
        {
          "output_type": "stream",
          "text": [
            "Epoch: 70: 100%|█████████▉| 116224/116625 [00:16<00:00, 6947.16it/s]\n"
          ],
          "name": "stderr"
        },
        {
          "output_type": "stream",
          "text": [
            "D loss: 0.1850900650024414, G loss: 2.3788716793060303\n"
          ],
          "name": "stdout"
        },
        {
          "output_type": "stream",
          "text": [
            "Epoch: 71: 100%|█████████▉| 116224/116625 [00:16<00:00, 6989.00it/s]\n"
          ],
          "name": "stderr"
        },
        {
          "output_type": "stream",
          "text": [
            "D loss: 0.19357691705226898, G loss: 2.582033395767212\n"
          ],
          "name": "stdout"
        },
        {
          "output_type": "stream",
          "text": [
            "Epoch: 72: 100%|█████████▉| 116224/116625 [00:16<00:00, 7030.36it/s]\n"
          ],
          "name": "stderr"
        },
        {
          "output_type": "stream",
          "text": [
            "D loss: 0.20112493634223938, G loss: 2.4619576930999756\n"
          ],
          "name": "stdout"
        },
        {
          "output_type": "stream",
          "text": [
            "Epoch: 73: 100%|█████████▉| 116224/116625 [00:16<00:00, 6961.64it/s]\n"
          ],
          "name": "stderr"
        },
        {
          "output_type": "stream",
          "text": [
            "D loss: 0.128121018409729, G loss: 1.7253795862197876\n"
          ],
          "name": "stdout"
        },
        {
          "output_type": "stream",
          "text": [
            "Epoch: 74: 100%|█████████▉| 116224/116625 [00:16<00:00, 7024.15it/s]\n"
          ],
          "name": "stderr"
        },
        {
          "output_type": "stream",
          "text": [
            "D loss: 0.1782565712928772, G loss: 2.200728416442871\n"
          ],
          "name": "stdout"
        },
        {
          "output_type": "stream",
          "text": [
            "Epoch: 75: 100%|█████████▉| 116224/116625 [00:16<00:00, 7147.65it/s]\n"
          ],
          "name": "stderr"
        },
        {
          "output_type": "stream",
          "text": [
            "D loss: 0.19648724794387817, G loss: 2.632143259048462\n"
          ],
          "name": "stdout"
        },
        {
          "output_type": "stream",
          "text": [
            "Epoch: 76: 100%|█████████▉| 116224/116625 [00:16<00:00, 6989.00it/s]\n"
          ],
          "name": "stderr"
        },
        {
          "output_type": "stream",
          "text": [
            "D loss: 0.15461115539073944, G loss: 2.4830586910247803\n"
          ],
          "name": "stdout"
        },
        {
          "output_type": "stream",
          "text": [
            "Epoch: 77: 100%|█████████▉| 116224/116625 [00:16<00:00, 7019.62it/s]\n"
          ],
          "name": "stderr"
        },
        {
          "output_type": "stream",
          "text": [
            "D loss: 0.19073449075222015, G loss: 2.6030397415161133\n"
          ],
          "name": "stdout"
        },
        {
          "output_type": "stream",
          "text": [
            "Epoch: 78: 100%|█████████▉| 116224/116625 [00:16<00:00, 6949.98it/s]\n"
          ],
          "name": "stderr"
        },
        {
          "output_type": "stream",
          "text": [
            "D loss: 0.19850443303585052, G loss: 2.581355094909668\n"
          ],
          "name": "stdout"
        },
        {
          "output_type": "stream",
          "text": [
            "Epoch: 79: 100%|█████████▉| 116224/116625 [00:16<00:00, 7079.03it/s]\n"
          ],
          "name": "stderr"
        },
        {
          "output_type": "stream",
          "text": [
            "D loss: 0.17744939029216766, G loss: 2.4717061519622803\n"
          ],
          "name": "stdout"
        },
        {
          "output_type": "stream",
          "text": [
            "Epoch: 80: 100%|█████████▉| 116224/116625 [00:16<00:00, 7014.12it/s]\n"
          ],
          "name": "stderr"
        },
        {
          "output_type": "stream",
          "text": [
            "D loss: 0.15898096561431885, G loss: 2.171783685684204\n"
          ],
          "name": "stdout"
        },
        {
          "output_type": "stream",
          "text": [
            "Epoch: 81: 100%|█████████▉| 116224/116625 [00:16<00:00, 7025.86it/s]\n"
          ],
          "name": "stderr"
        },
        {
          "output_type": "stream",
          "text": [
            "D loss: 0.21595358848571777, G loss: 2.263087511062622\n"
          ],
          "name": "stdout"
        },
        {
          "output_type": "stream",
          "text": [
            "Epoch: 82: 100%|█████████▉| 116224/116625 [00:16<00:00, 7015.88it/s]\n"
          ],
          "name": "stderr"
        },
        {
          "output_type": "stream",
          "text": [
            "D loss: 0.1784733235836029, G loss: 2.5286784172058105\n"
          ],
          "name": "stdout"
        },
        {
          "output_type": "stream",
          "text": [
            "Epoch: 83: 100%|█████████▉| 116224/116625 [00:16<00:00, 7056.62it/s]\n"
          ],
          "name": "stderr"
        },
        {
          "output_type": "stream",
          "text": [
            "D loss: 0.1620975136756897, G loss: 2.6016674041748047\n"
          ],
          "name": "stdout"
        },
        {
          "output_type": "stream",
          "text": [
            "Epoch: 84: 100%|█████████▉| 116224/116625 [00:16<00:00, 7058.68it/s]\n"
          ],
          "name": "stderr"
        },
        {
          "output_type": "stream",
          "text": [
            "D loss: 0.18154984712600708, G loss: 2.6650357246398926\n"
          ],
          "name": "stdout"
        },
        {
          "output_type": "stream",
          "text": [
            "Epoch: 85: 100%|█████████▉| 116224/116625 [00:16<00:00, 6975.32it/s]\n"
          ],
          "name": "stderr"
        },
        {
          "output_type": "stream",
          "text": [
            "D loss: 0.17261247336864471, G loss: 2.7261273860931396\n"
          ],
          "name": "stdout"
        },
        {
          "output_type": "stream",
          "text": [
            "Epoch: 86: 100%|█████████▉| 116224/116625 [00:16<00:00, 6998.75it/s]\n"
          ],
          "name": "stderr"
        },
        {
          "output_type": "stream",
          "text": [
            "D loss: 0.1727156788110733, G loss: 2.5716707706451416\n"
          ],
          "name": "stdout"
        },
        {
          "output_type": "stream",
          "text": [
            "Epoch: 87: 100%|█████████▉| 116224/116625 [00:16<00:00, 7038.00it/s]\n"
          ],
          "name": "stderr"
        },
        {
          "output_type": "stream",
          "text": [
            "D loss: 0.18621008098125458, G loss: 2.7399392127990723\n"
          ],
          "name": "stdout"
        },
        {
          "output_type": "stream",
          "text": [
            "Epoch: 88: 100%|█████████▉| 116224/116625 [00:16<00:00, 6996.18it/s]\n"
          ],
          "name": "stderr"
        },
        {
          "output_type": "stream",
          "text": [
            "D loss: 0.17753738164901733, G loss: 2.647237539291382\n"
          ],
          "name": "stdout"
        },
        {
          "output_type": "stream",
          "text": [
            "Epoch: 89: 100%|█████████▉| 116224/116625 [00:16<00:00, 7016.09it/s]\n"
          ],
          "name": "stderr"
        },
        {
          "output_type": "stream",
          "text": [
            "D loss: 0.16868078708648682, G loss: 2.9613800048828125\n"
          ],
          "name": "stdout"
        },
        {
          "output_type": "stream",
          "text": [
            "Epoch: 90: 100%|█████████▉| 116224/116625 [00:16<00:00, 7041.01it/s]\n"
          ],
          "name": "stderr"
        },
        {
          "output_type": "stream",
          "text": [
            "D loss: 0.16016937792301178, G loss: 2.820207118988037\n"
          ],
          "name": "stdout"
        },
        {
          "output_type": "stream",
          "text": [
            "Epoch: 91: 100%|█████████▉| 116224/116625 [00:16<00:00, 6945.94it/s]\n"
          ],
          "name": "stderr"
        },
        {
          "output_type": "stream",
          "text": [
            "D loss: 0.1713331788778305, G loss: 2.9129111766815186\n"
          ],
          "name": "stdout"
        },
        {
          "output_type": "stream",
          "text": [
            "Epoch: 92: 100%|█████████▉| 116224/116625 [00:16<00:00, 7053.50it/s]\n"
          ],
          "name": "stderr"
        },
        {
          "output_type": "stream",
          "text": [
            "D loss: 0.17174172401428223, G loss: 2.935763120651245\n"
          ],
          "name": "stdout"
        },
        {
          "output_type": "stream",
          "text": [
            "Epoch: 93: 100%|█████████▉| 116224/116625 [00:16<00:00, 7043.59it/s]\n"
          ],
          "name": "stderr"
        },
        {
          "output_type": "stream",
          "text": [
            "D loss: 0.18296781182289124, G loss: 2.8336400985717773\n"
          ],
          "name": "stdout"
        },
        {
          "output_type": "stream",
          "text": [
            "Epoch: 94: 100%|█████████▉| 116224/116625 [00:16<00:00, 7111.97it/s]\n"
          ],
          "name": "stderr"
        },
        {
          "output_type": "stream",
          "text": [
            "D loss: 0.1703764647245407, G loss: 2.8485801219940186\n"
          ],
          "name": "stdout"
        },
        {
          "output_type": "stream",
          "text": [
            "Epoch: 95: 100%|█████████▉| 116224/116625 [00:16<00:00, 7013.57it/s]\n"
          ],
          "name": "stderr"
        },
        {
          "output_type": "stream",
          "text": [
            "D loss: 0.13731923699378967, G loss: 2.8800432682037354\n"
          ],
          "name": "stdout"
        },
        {
          "output_type": "stream",
          "text": [
            "Epoch: 96: 100%|█████████▉| 116224/116625 [00:16<00:00, 6971.89it/s]\n"
          ],
          "name": "stderr"
        },
        {
          "output_type": "stream",
          "text": [
            "D loss: 0.13419048488140106, G loss: 2.99353289604187\n"
          ],
          "name": "stdout"
        },
        {
          "output_type": "stream",
          "text": [
            "Epoch: 97: 100%|█████████▉| 116224/116625 [00:16<00:00, 6985.11it/s]\n"
          ],
          "name": "stderr"
        },
        {
          "output_type": "stream",
          "text": [
            "D loss: 0.11410339176654816, G loss: 2.83500337600708\n"
          ],
          "name": "stdout"
        },
        {
          "output_type": "stream",
          "text": [
            "Epoch: 98: 100%|█████████▉| 116224/116625 [00:16<00:00, 7010.36it/s]\n"
          ],
          "name": "stderr"
        },
        {
          "output_type": "stream",
          "text": [
            "D loss: 0.14510315656661987, G loss: 3.215109348297119\n"
          ],
          "name": "stdout"
        },
        {
          "output_type": "stream",
          "text": [
            "Epoch: 99: 100%|█████████▉| 116224/116625 [00:16<00:00, 7052.24it/s]\n"
          ],
          "name": "stderr"
        },
        {
          "output_type": "stream",
          "text": [
            "D loss: 0.13428913056850433, G loss: 3.237851142883301\n"
          ],
          "name": "stdout"
        }
      ]
    },
    {
      "cell_type": "code",
      "metadata": {
        "id": "aUyKRM_Vqd9Y",
        "outputId": "a973a320-4966-4710-b9e4-3d7c8239ac46",
        "colab": {
          "base_uri": "https://localhost:8080/",
          "height": 388
        }
      },
      "source": [
        "print(encoder.classes_)\n",
        "image=generate_images(G,4,4)\n",
        "H = image[0].reshape((24,Minimum_time))\n",
        "\n",
        "fig = plt.figure(figsize=(14, 4))\n",
        "\n",
        "ax = fig.add_subplot(111)\n",
        "ax.set_title('colorMap')\n",
        "plt.imshow(H)\n",
        "ax.set_aspect('equal')\n",
        "\n",
        "cax = fig.add_axes([0.12, 0.1, 0.78, 0.8])\n",
        "cax.get_xaxis().set_visible(False)\n",
        "cax.get_yaxis().set_visible(False)\n",
        "cax.patch.set_alpha(0)\n",
        "cax.set_frame_on(False)\n",
        "plt.colorbar(orientation='vertical')\n",
        "plt.show()"
      ],
      "execution_count": 70,
      "outputs": [
        {
          "output_type": "stream",
          "text": [
            "['One_rhythm' 'continuing_rhythm' 'down_leaping' 'down_steping'\n",
            " 'fast_rhythm' 'leaping_twisting' 'no skills' 'repeating' 'staccato'\n",
            " 'steping_twisting' 'triplet' 'up_leaping' 'up_steping']\n",
            "WARNING:tensorflow:From /usr/local/lib/python3.6/dist-packages/keras/backend/tensorflow_backend.py:422: The name tf.global_variables is deprecated. Please use tf.compat.v1.global_variables instead.\n",
            "\n"
          ],
          "name": "stdout"
        },
        {
          "output_type": "display_data",
          "data": {
            "image/png": "[encoded data removed]",
            "text/plain": [
              "<Figure size 1008x288 with 3 Axes>"
            ]
          },
          "metadata": {
            "tags": [],
            "needs_background": "light"
          }
        }
      ]
    },
    {
      "cell_type": "markdown",
      "metadata": {
        "id": "exdtcOln9Qdq"
      },
      "source": [
        "Implementation of RNN\n",
        "\n",
        "\n",
        "\n",
        "\n",
        "\n",
        "\n"
      ]
    },
    {
      "cell_type": "code",
      "metadata": {
        "id": "qNqr-1ZWLKdh"
      },
      "source": [
        "RNNx_train=[]\n",
        "RNNy_train=[]\n",
        "RNNx_test=[]\n",
        "RNNy_test=[]\n",
        "RNN_kfoldx=[]\n",
        "RNN_kfoldy=[]\n",
        "for i in range(len(bar_matrix_list3)):\n",
        "  nowseq=[]\n",
        "  nowmat=np.array(bar_matrix_list3[i])\n",
        "  nowbars=classifier.predict(nowmat.reshape(len(nowmat),24,Minimum_time,1) )\n",
        "  for j,bars in enumerate(nowbars):\n",
        "    if(j==len(nowbars)-1):\n",
        "      if(i>=5000):\n",
        "        RNNy_test.append(np.argmax(bars))\n",
        "      else:\n",
        "        RNNy_train.append(np.argmax(bars))\n",
        "      RNN_kfoldy.append(np.argmax(bars))\n",
        "    else:\n",
        "      nowseq.append(np.argmax(bars)+1)\n",
        "  if(i>=5000):\n",
        "    RNNx_test.append(nowseq)\n",
        "  else:\n",
        "    RNNx_train.append(nowseq)\n",
        "  RNN_kfoldx.append(nowseq)"
      ],
      "execution_count": 71,
      "outputs": []
    },
    {
      "cell_type": "code",
      "metadata": {
        "id": "1oaBpBguS5j2",
        "outputId": "ad866db0-8110-4e9d-e0a5-338b7d738143",
        "colab": {
          "base_uri": "https://localhost:8080/",
          "height": 211
        }
      },
      "source": [
        "from keras.utils import to_categorical\n",
        "print(len(RNNx_train),len(RNNx_train[0]))\n",
        "print(RNNy_train)\n",
        "print(to_categorical(RNNy_train))\n",
        "print(mlb.inverse_transform(to_categorical(RNNy_train)))"
      ],
      "execution_count": 72,
      "outputs": [
        {
          "output_type": "stream",
          "text": [
            "5000 17\n",
            "[6, 6, 10, 5, 7, 6, 2, 6, 6, 6, 2, 6, 12, 11, 6, 5, 6, 11, 6, 6, 6, 7, 6, 11, 3, 6, 7, 9, 11, 7, 4, 5, 6, 12, 6, 10, 6, 6, 12, 5, 6, 6, 6, 6, 6, 6, 4, 6, 6, 6, 5, 5, 6, 5, 6, 6, 10, 6, 3, 6, 6, 6, 7, 5, 12, 11, 2, 8, 6, 6, 6, 12, 11, 0, 11, 6, 2, 6, 6, 5, 6, 6, 12, 7, 6, 6, 6, 6, 5, 7, 11, 6, 11, 6, 6, 6, 6, 6, 6, 11, 5, 6, 11, 6, 6, 5, 5, 6, 11, 6, 6, 6, 6, 12, 6, 12, 4, 6, 6, 11, 2, 6, 6, 5, 7, 6, 2, 2, 11, 6, 3, 10, 5, 10, 10, 7, 6, 11, 6, 6, 11, 11, 3, 6, 5, 11, 7, 0, 8, 11, 11, 5, 5, 7, 11, 6, 6, 6, 6, 6, 6, 8, 6, 11, 6, 2, 6, 6, 6, 5, 6, 4, 6, 11, 7, 6, 5, 6, 12, 10, 6, 6, 5, 6, 6, 6, 6, 6, 12, 5, 6, 6, 5, 6, 6, 6, 3, 6, 10, 5, 6, 6, 6, 11, 12, 5, 7, 11, 11, 6, 6, 6, 3, 6, 7, 4, 7, 6, 11, 4, 6, 6, 5, 6, 3, 0, 12, 8, 6, 12, 6, 12, 6, 6, 4, 6, 11, 11, 9, 6, 5, 5, 6, 6, 6, 12, 8, 6, 6, 6, 12, 11, 6, 6, 11, 7, 6, 11, 6, 12, 6, 5, 7, 6, 2, 11, 7, 10, 6, 1, 6, 6, 6, 6, 5, 6, 6, 11, 6, 11, 5, 4, 10, 12, 6, 12, 11, 5, 6, 3, 5, 11, 5, 6, 6, 6, 4, 11, 12, 11, 7, 8, 6, 6, 4, 6, 6, 6, 10, 6, 9, 11, 6, 7, 6, 10, 7, 6, 5, 12, 8, 6, 8, 5, 12, 5, 1, 11, 12, 8, 2, 6, 11, 11, 2, 6, 10, 4, 6, 6, 6, 10, 6, 6, 6, 5, 8, 6, 6, 10, 2, 6, 11, 6, 6, 12, 1, 6, 6, 6, 6, 2, 3, 8, 6, 6, 6, 6, 6, 0, 10, 1, 6, 6, 6, 6, 12, 12, 6, 6, 5, 6, 3, 8, 6, 7, 11, 11, 6, 6, 6, 5, 6, 6, 6, 6, 10, 7, 6, 11, 5, 7, 6, 6, 6, 6, 11, 4, 10, 6, 6, 6, 6, 6, 6, 6, 6, 11, 5, 6, 6, 0, 6, 3, 7, 6, 6, 4, 11, 2, 6, 11, 6, 5, 6, 12, 5, 11, 8, 6, 7, 1, 6, 6, 12, 6, 5, 8, 6, 6, 12, 6, 6, 6, 6, 11, 6, 5, 6, 5, 6, 2, 6, 6, 10, 6, 2, 5, 5, 11, 7, 6, 6, 11, 6, 10, 7, 6, 7, 4, 2, 6, 6, 7, 7, 5, 6, 6, 6, 4, 7, 7, 6, 6, 6, 8, 3, 3, 5, 6, 4, 2, 11, 6, 11, 2, 12, 6, 6, 2, 12, 6, 11, 2, 12, 6, 7, 11, 10, 6, 6, 6, 6, 7, 12, 8, 6, 6, 7, 6, 6, 6, 6, 11, 7, 6, 7, 6, 6, 1, 6, 6, 11, 11, 5, 12, 2, 10, 8, 5, 4, 2, 6, 6, 12, 8, 5, 6, 7, 6, 6, 6, 11, 1, 12, 7, 6, 6, 5, 12, 5, 6, 10, 7, 6, 11, 6, 2, 6, 10, 3, 11, 6, 11, 11, 6, 6, 4, 6, 6, 6, 7, 6, 4, 5, 6, 1, 10, 7, 6, 5, 2, 11, 2, 6, 7, 6, 5, 6, 6, 6, 6, 6, 6, 6, 6, 7, 7, 5, 6, 6, 6, 7, 6, 6, 5, 12, 1, 12, 6, 6, 11, 6, 7, 6, 11, 5, 6, 11, 6, 8, 12, 5, 6, 5, 6, 5, 12, 11, 8, 4, 6, 6, 5, 6, 6, 7, 6, 6, 6, 4, 7, 7, 6, 6, 5, 6, 6, 9, 6, 6, 6, 6, 2, 6, 5, 6, 12, 6, 12, 4, 5, 6, 7, 8, 12, 6, 5, 6, 2, 6, 6, 6, 6, 6, 1, 6, 2, 6, 6, 2, 6, 2, 5, 4, 5, 11, 12, 6, 11, 11, 6, 12, 11, 7, 5, 6, 4, 11, 11, 11, 6, 6, 2, 2, 4, 5, 12, 6, 12, 6, 6, 6, 2, 6, 11, 6, 6, 3, 5, 7, 10, 5, 6, 11, 4, 12, 6, 7, 6, 6, 5, 12, 11, 11, 6, 3, 12, 12, 10, 3, 9, 6, 8, 2, 12, 6, 5, 12, 6, 5, 1, 6, 8, 6, 11, 3, 6, 6, 6, 5, 6, 6, 5, 11, 7, 6, 6, 5, 6, 11, 6, 5, 5, 11, 6, 2, 6, 5, 12, 11, 5, 10, 10, 6, 9, 11, 11, 5, 8, 6, 2, 5, 6, 2, 5, 12, 12, 1, 2, 6, 6, 1, 11, 6, 6, 6, 5, 11, 11, 7, 5, 6, 11, 6, 7, 6, 7, 0, 5, 10, 5, 5, 6, 2, 4, 10, 5, 10, 6, 4, 5, 12, 6, 11, 11, 6, 5, 12, 6, 6, 6, 11, 4, 6, 4, 6, 5, 6, 7, 6, 4, 11, 6, 6, 6, 11, 6, 11, 6, 9, 6, 7, 5, 7, 5, 6, 2, 1, 6, 5, 11, 6, 6, 6, 6, 7, 7, 6, 2, 11, 11, 7, 7, 6, 5, 6, 6, 4, 12, 1, 8, 11, 5, 12, 12, 6, 6, 5, 5, 6, 6, 6, 6, 6, 6, 6, 6, 12, 6, 6, 6, 5, 4, 6, 6, 11, 7, 5, 3, 6, 3, 6, 6, 3, 6, 11, 6, 6, 6, 6, 6, 5, 11, 6, 5, 10, 6, 6, 4, 9, 4, 6, 0, 11, 12, 6, 6, 5, 7, 5, 5, 6, 6, 6, 6, 1, 6, 10, 12, 6, 6, 7, 6, 7, 6, 1, 6, 2, 6, 12, 10, 6, 7, 1, 5, 5, 3, 6, 8, 6, 5, 12, 6, 9, 5, 6, 8, 6, 3, 6, 0, 6, 10, 6, 6, 0, 6, 6, 9, 6, 5, 10, 11, 6, 6, 0, 6, 5, 3, 6, 6, 5, 7, 7, 12, 2, 5, 6, 11, 5, 6, 6, 6, 6, 6, 11, 8, 6, 11, 5, 5, 6, 12, 6, 6, 5, 5, 6, 12, 5, 11, 9, 6, 10, 6, 6, 7, 11, 5, 6, 6, 6, 11, 3, 6, 6, 3, 6, 7, 6, 11, 6, 10, 6, 11, 11, 4, 7, 10, 6, 6, 6, 5, 12, 1, 6, 6, 11, 11, 6, 6, 5, 6, 4, 2, 5, 7, 6, 11, 11, 4, 6, 3, 2, 6, 6, 8, 7, 6, 7, 5, 12, 6, 6, 12, 7, 5, 8, 10, 8, 10, 10, 6, 6, 6, 7, 6, 5, 10, 6, 6, 6, 7, 6, 5, 10, 11, 12, 11, 12, 6, 5, 6, 5, 6, 6, 6, 1, 5, 5, 4, 4, 11, 6, 6, 7, 6, 4, 6, 6, 6, 12, 5, 6, 1, 10, 11, 6, 6, 7, 5, 11, 6, 6, 6, 6, 5, 11, 11, 5, 6, 4, 6, 7, 1, 4, 4, 6, 6, 6, 7, 6, 5, 12, 2, 8, 7, 12, 6, 6, 6, 6, 6, 6, 2, 1, 6, 6, 6, 7, 4, 9, 6, 11, 12, 11, 10, 11, 6, 6, 6, 6, 6, 5, 11, 6, 7, 7, 6, 6, 5, 5, 11, 2, 6, 6, 2, 6, 5, 1, 3, 11, 6, 11, 6, 6, 7, 3, 3, 4, 6, 6, 6, 12, 6, 12, 5, 7, 0, 6, 5, 5, 11, 5, 5, 8, 10, 10, 7, 6, 6, 7, 9, 10, 6, 8, 6, 6, 3, 6, 11, 6, 6, 6, 6, 5, 12, 12, 2, 8, 10, 11, 6, 2, 6, 5, 8, 5, 6, 5, 5, 11, 5, 6, 6, 6, 11, 6, 6, 7, 12, 6, 6, 5, 6, 6, 5, 2, 6, 11, 4, 7, 12, 4, 6, 6, 6, 6, 6, 6, 6, 6, 6, 6, 7, 6, 2, 7, 6, 6, 10, 12, 11, 6, 6, 6, 6, 6, 6, 5, 6, 4, 5, 11, 11, 11, 11, 6, 6, 6, 11, 11, 6, 7, 6, 4, 6, 6, 11, 6, 7, 6, 6, 7, 6, 5, 6, 12, 5, 6, 11, 5, 6, 6, 6, 11, 6, 11, 4, 9, 11, 6, 4, 6, 6, 6, 8, 7, 6, 6, 6, 10, 6, 12, 11, 7, 6, 5, 9, 6, 12, 6, 4, 12, 6, 6, 7, 6, 9, 11, 2, 6, 5, 6, 6, 11, 8, 5, 5, 6, 6, 7, 6, 11, 6, 10, 2, 6, 11, 11, 4, 11, 6, 3, 6, 12, 4, 6, 7, 6, 6, 6, 6, 5, 6, 6, 6, 6, 11, 12, 12, 6, 6, 6, 6, 11, 4, 3, 6, 11, 8, 6, 6, 8, 10, 6, 3, 5, 6, 6, 6, 6, 5, 6, 6, 6, 6, 6, 7, 10, 5, 10, 1, 5, 11, 7, 6, 6, 6, 6, 6, 6, 4, 6, 11, 12, 6, 6, 5, 11, 6, 6, 6, 6, 4, 6, 10, 6, 5, 4, 11, 11, 11, 6, 3, 6, 11, 6, 12, 6, 11, 2, 6, 12, 10, 6, 6, 12, 6, 10, 6, 0, 6, 5, 5, 6, 6, 6, 11, 5, 6, 10, 12, 6, 6, 4, 11, 6, 5, 6, 12, 6, 11, 6, 6, 6, 5, 5, 6, 6, 11, 6, 12, 6, 11, 6, 10, 5, 6, 6, 8, 5, 6, 6, 6, 7, 6, 12, 11, 2, 11, 6, 6, 6, 12, 6, 11, 10, 6, 11, 6, 7, 3, 10, 6, 10, 6, 4, 12, 10, 6, 6, 10, 4, 6, 11, 12, 8, 2, 2, 5, 11, 6, 8, 5, 6, 12, 4, 5, 12, 6, 6, 6, 6, 5, 6, 1, 2, 5, 6, 6, 7, 6, 6, 7, 11, 5, 11, 6, 6, 3, 7, 6, 6, 6, 7, 6, 6, 6, 7, 6, 3, 7, 6, 6, 6, 11, 6, 6, 6, 12, 8, 7, 6, 6, 6, 10, 6, 2, 6, 6, 11, 7, 6, 11, 6, 11, 12, 6, 11, 6, 6, 9, 11, 11, 6, 2, 6, 6, 5, 7, 2, 10, 12, 12, 11, 11, 7, 5, 7, 6, 9, 5, 12, 11, 6, 12, 7, 7, 7, 11, 6, 11, 2, 12, 8, 9, 6, 6, 6, 7, 6, 6, 6, 5, 6, 4, 4, 6, 6, 5, 6, 2, 1, 6, 8, 6, 10, 6, 11, 11, 10, 11, 12, 10, 7, 7, 5, 6, 6, 6, 6, 6, 10, 8, 5, 6, 6, 11, 6, 5, 11, 6, 6, 6, 12, 12, 6, 6, 5, 5, 10, 6, 6, 6, 6, 11, 3, 11, 11, 5, 6, 6, 12, 6, 12, 6, 3, 6, 6, 10, 7, 11, 6, 8, 5, 3, 6, 7, 6, 7, 6, 6, 6, 7, 6, 6, 6, 3, 6, 6, 6, 10, 12, 10, 6, 11, 4, 6, 6, 6, 6, 5, 6, 2, 6, 1, 9, 6, 4, 6, 6, 7, 7, 6, 3, 6, 6, 6, 6, 6, 2, 11, 5, 6, 2, 4, 6, 10, 11, 6, 6, 7, 7, 5, 4, 6, 5, 1, 6, 11, 7, 5, 6, 12, 9, 6, 12, 5, 8, 12, 6, 1, 6, 6, 2, 5, 6, 11, 3, 5, 5, 11, 6, 12, 6, 6, 6, 6, 12, 6, 6, 12, 11, 6, 6, 6, 12, 11, 6, 11, 6, 6, 10, 9, 6, 11, 4, 6, 6, 11, 6, 10, 5, 5, 6, 11, 12, 4, 7, 6, 6, 2, 12, 5, 8, 6, 6, 4, 4, 6, 6, 8, 6, 6, 11, 11, 11, 12, 6, 7, 6, 6, 9, 7, 6, 6, 6, 6, 7, 6, 6, 5, 6, 6, 11, 2, 6, 11, 2, 11, 6, 6, 5, 6, 6, 6, 6, 7, 6, 2, 6, 6, 7, 6, 6, 5, 5, 12, 12, 12, 7, 6, 6, 6, 6, 6, 6, 6, 6, 11, 7, 11, 6, 5, 5, 6, 6, 8, 6, 5, 6, 7, 6, 3, 6, 10, 6, 6, 6, 5, 6, 2, 6, 7, 6, 2, 6, 11, 7, 8, 6, 5, 1, 6, 7, 5, 7, 6, 4, 5, 11, 5, 11, 6, 6, 11, 6, 11, 4, 10, 6, 6, 5, 6, 6, 4, 11, 8, 12, 2, 3, 6, 5, 7, 2, 6, 11, 6, 11, 11, 5, 6, 6, 6, 7, 4, 6, 6, 5, 6, 6, 6, 2, 11, 6, 5, 5, 7, 6, 10, 1, 6, 5, 6, 3, 7, 5, 11, 6, 6, 1, 6, 6, 6, 0, 6, 12, 2, 5, 6, 6, 6, 6, 6, 6, 11, 5, 6, 5, 6, 6, 10, 11, 4, 6, 11, 7, 6, 6, 6, 5, 7, 11, 6, 6, 6, 11, 7, 11, 6, 7, 6, 6, 6, 8, 10, 2, 6, 7, 6, 12, 5, 5, 6, 6, 6, 12, 6, 9, 2, 6, 7, 6, 0, 3, 0, 11, 6, 6, 5, 6, 6, 12, 7, 6, 11, 10, 4, 6, 11, 6, 11, 6, 11, 9, 2, 5, 6, 12, 6, 5, 11, 6, 6, 6, 5, 6, 7, 6, 2, 9, 5, 6, 9, 12, 6, 5, 5, 7, 6, 6, 7, 7, 6, 6, 2, 7, 8, 11, 5, 6, 4, 1, 5, 6, 11, 12, 6, 6, 6, 6, 6, 7, 5, 6, 11, 11, 6, 5, 6, 7, 5, 5, 7, 5, 6, 5, 6, 5, 12, 3, 4, 11, 6, 7, 2, 1, 2, 10, 11, 4, 11, 6, 6, 6, 5, 6, 9, 11, 7, 5, 4, 6, 11, 11, 6, 12, 6, 6, 1, 5, 9, 5, 6, 6, 6, 7, 7, 11, 12, 6, 6, 5, 6, 6, 6, 5, 6, 12, 6, 10, 5, 5, 2, 2, 6, 5, 5, 6, 11, 6, 11, 10, 6, 10, 12, 8, 6, 12, 11, 6, 4, 6, 8, 12, 5, 6, 6, 3, 5, 3, 6, 5, 6, 12, 12, 12, 5, 6, 6, 9, 7, 6, 5, 7, 12, 6, 6, 10, 6, 10, 6, 2, 7, 6, 6, 6, 6, 11, 6, 5, 12, 6, 6, 5, 6, 4, 7, 6, 11, 7, 5, 5, 12, 6, 2, 6, 5, 4, 6, 4, 6, 5, 11, 11, 10, 6, 6, 6, 2, 7, 10, 4, 11, 0, 5, 6, 10, 6, 2, 10, 5, 6, 10, 1, 5, 6, 1, 5, 11, 0, 6, 8, 6, 6, 6, 12, 6, 6, 7, 5, 6, 6, 6, 4, 5, 5, 11, 6, 6, 5, 6, 11, 7, 12, 3, 6, 6, 2, 4, 7, 5, 10, 6, 10, 6, 12, 6, 6, 12, 4, 6, 5, 2, 11, 6, 5, 4, 6, 5, 6, 11, 6, 6, 10, 9, 6, 6, 6, 5, 12, 5, 5, 6, 11, 5, 10, 6, 5, 6, 6, 5, 6, 6, 6, 8, 5, 5, 12, 12, 12, 6, 6, 5, 3, 7, 5, 2, 6, 5, 10, 6, 6, 4, 12, 6, 6, 12, 6, 11, 6, 6, 5, 6, 0, 11, 2, 5, 7, 6, 5, 5, 6, 7, 6, 2, 5, 5, 6, 5, 6, 10, 1, 6, 10, 6, 7, 6, 6, 11, 11, 5, 3, 7, 11, 5, 8, 6, 6, 5, 11, 12, 2, 6, 6, 11, 11, 8, 8, 5, 10, 8, 6, 6, 6, 5, 11, 6, 6, 5, 5, 5, 5, 6, 6, 6, 6, 6, 6, 2, 6, 5, 6, 7, 6, 6, 11, 10, 3, 5, 7, 12, 6, 10, 11, 6, 5, 6, 5, 6, 6, 6, 10, 6, 12, 6, 6, 5, 5, 6, 7, 12, 6, 12, 6, 6, 7, 9, 11, 6, 6, 6, 8, 5, 8, 12, 6, 6, 8, 6, 12, 6, 10, 6, 6, 6, 9, 2, 4, 5, 6, 3, 6, 6, 5, 11, 6, 2, 5, 6, 3, 12, 6, 5, 11, 6, 6, 5, 8, 6, 6, 11, 7, 8, 10, 2, 6, 6, 6, 2, 11, 6, 6, 6, 12, 6, 12, 4, 5, 6, 4, 7, 5, 3, 6, 6, 12, 10, 6, 1, 6, 6, 6, 5, 9, 12, 2, 5, 5, 5, 12, 5, 6, 7, 8, 2, 12, 7, 5, 6, 1, 6, 4, 11, 6, 6, 5, 10, 4, 6, 7, 3, 6, 11, 5, 7, 5, 2, 5, 2, 6, 6, 6, 11, 6, 12, 2, 6, 5, 7, 6, 11, 6, 5, 1, 6, 6, 11, 5, 6, 8, 7, 5, 3, 5, 5, 5, 6, 6, 11, 6, 2, 6, 6, 2, 12, 12, 11, 6, 6, 0, 9, 0, 6, 11, 3, 10, 11, 11, 12, 10, 2, 6, 6, 6, 4, 0, 11, 6, 6, 12, 10, 6, 6, 6, 6, 11, 5, 6, 6, 8, 10, 7, 12, 6, 6, 6, 4, 5, 5, 6, 6, 2, 6, 6, 6, 6, 11, 5, 11, 6, 0, 6, 11, 11, 6, 6, 10, 12, 6, 11, 7, 6, 6, 4, 11, 11, 11, 6, 6, 7, 5, 6, 11, 6, 5, 2, 10, 6, 6, 7, 6, 10, 6, 6, 10, 11, 6, 6, 6, 12, 6, 6, 2, 6, 6, 5, 6, 7, 6, 6, 12, 12, 6, 6, 11, 6, 11, 6, 12, 7, 3, 2, 6, 6, 6, 6, 4, 11, 5, 10, 12, 6, 4, 6, 7, 2, 1, 11, 12, 6, 6, 6, 6, 11, 11, 6, 6, 3, 6, 11, 6, 1, 9, 6, 5, 6, 6, 6, 6, 5, 10, 6, 5, 5, 11, 6, 3, 6, 12, 12, 6, 12, 11, 6, 10, 11, 12, 7, 6, 7, 6, 6, 6, 5, 6, 11, 11, 12, 5, 5, 6, 5, 5, 6, 3, 6, 6, 6, 11, 6, 6, 6, 6, 7, 6, 6, 4, 12, 6, 6, 6, 6, 6, 6, 3, 6, 6, 12, 12, 6, 10, 8, 6, 4, 11, 8, 6, 10, 11, 6, 6, 6, 10, 6, 12, 11, 6, 12, 6, 6, 12, 6, 6, 11, 6, 4, 6, 6, 6, 11, 6, 11, 11, 4, 6, 4, 8, 11, 12, 6, 7, 6, 4, 12, 11, 6, 6, 5, 12, 7, 5, 5, 6, 12, 6, 5, 4, 6, 9, 5, 11, 11, 11, 6, 6, 11, 5, 12, 6, 12, 5, 6, 6, 2, 6, 10, 6, 11, 12, 12, 6, 11, 5, 6, 4, 7, 5, 6, 6, 11, 3, 6, 7, 6, 3, 7, 6, 6, 11, 6, 6, 6, 10, 1, 5, 5, 6, 11, 6, 5, 6, 5, 6, 5, 7, 4, 6, 9, 6, 2, 6, 1, 9, 5, 7, 8, 5, 6, 6, 5, 2, 6, 6, 6, 6, 4, 6, 12, 6, 8, 7, 12, 11, 6, 5, 6, 2, 12, 6, 5, 7, 11, 6, 6, 6, 6, 10, 1, 6, 6, 8, 6, 7, 6, 6, 12, 6, 11, 7, 6, 12, 8, 6, 10, 12, 12, 6, 6, 12, 6, 12, 11, 11, 12, 6, 6, 3, 4, 11, 12, 8, 11, 6, 12, 6, 5, 7, 6, 7, 11, 11, 9, 6, 0, 11, 4, 7, 10, 6, 4, 6, 11, 6, 12, 6, 11, 11, 8, 12, 6, 6, 6, 12, 3, 7, 11, 5, 6, 7, 2, 9, 6, 11, 10, 5, 12, 6, 6, 7, 6, 6, 6, 8, 6, 1, 11, 1, 7, 6, 6, 11, 6, 6, 1, 6, 4, 6, 6, 2, 6, 6, 6, 5, 7, 6, 6, 7, 6, 6, 8, 6, 11, 6, 8, 12, 2, 3, 6, 10, 6, 6, 6, 6, 6, 6, 6, 6, 7, 6, 6, 6, 7, 6, 11, 12, 6, 0, 9, 5, 8, 6, 12, 12, 4, 6, 2, 6, 12, 6, 2, 5, 11, 6, 6, 6, 6, 6, 5, 6, 6, 10, 7, 6, 6, 11, 6, 5, 5, 6, 11, 4, 0, 3, 6, 6, 6, 12, 6, 7, 6, 7, 6, 6, 11, 11, 6, 11, 7, 6, 6, 12, 6, 6, 5, 9, 6, 4, 1, 6, 6, 7, 12, 6, 5, 6, 6, 12, 4, 11, 2, 5, 6, 4, 11, 6, 6, 6, 6, 12, 3, 5, 6, 11, 6, 11, 6, 5, 5, 6, 5, 6, 11, 5, 6, 6, 6, 6, 11, 6, 6, 6, 5, 7, 5, 11, 6, 4, 5, 7, 8, 5, 5, 8, 6, 4, 5, 4, 6, 4, 7, 6, 5, 7, 6, 6, 1, 6, 10, 6, 2, 6, 11, 6, 6, 12, 10, 6, 5, 2, 10, 7, 12, 6, 11, 12, 6, 12, 6, 11, 6, 12, 4, 1, 6, 6, 6, 6, 7, 7, 6, 6, 4, 6, 6, 6, 12, 11, 6, 7, 5, 4, 6, 5, 2, 11, 11, 6, 0, 5, 2, 11, 11, 6, 11, 6, 11, 12, 12, 6, 6, 11, 6, 5, 11, 6, 6, 7, 5, 9, 6, 6, 6, 4, 6, 6, 5, 4, 6, 5, 12, 6, 6, 6, 8, 6, 6, 4, 8, 6, 6, 6, 5, 5, 12, 9, 6, 6, 2, 5, 7, 5, 12, 8, 9, 5, 8, 6, 8, 6, 6, 11, 6, 12, 5, 6, 2, 6, 7, 6, 7, 2, 4, 8, 6, 9, 5, 11, 6, 6, 9, 6, 5, 11, 6, 6, 5, 6, 6, 8, 9, 6, 6, 6, 12, 6, 5, 2, 10, 10, 11, 10, 5, 4, 8, 12, 12, 2, 5, 3, 6, 12, 3, 5, 6, 11, 11, 2, 6, 8, 6, 6, 2, 11, 7, 6, 6, 10, 12, 11, 6, 11, 6, 11, 4, 3, 10, 11, 3, 2, 5, 6, 12, 5, 6, 11, 6, 11, 6, 6, 3, 6, 6, 5, 10, 5, 6, 6, 12, 6, 11, 11, 6, 6, 6, 10, 12, 6, 6, 6, 2, 6, 11, 6, 6, 5, 5, 12, 6, 8, 6, 6, 11, 7, 7, 6, 6, 6, 6, 6, 2, 6, 6, 7, 6, 5, 5, 6, 5, 6, 6, 5, 6, 11, 12, 6, 5, 5, 6, 7, 7, 10, 5, 2, 2, 6, 10, 6, 6, 6, 7, 6, 11, 5, 6, 5, 6, 6, 12, 5, 5, 12, 5, 5, 6, 6, 6, 6, 6, 7, 6, 12, 6, 11, 6, 8, 7, 6, 6, 7, 6, 11, 6, 6, 6, 11, 6, 6, 6, 11, 6, 2, 5, 11, 10, 6, 10, 6, 6, 2, 7, 6, 8, 6, 8, 6, 6, 6, 5, 4, 10, 11, 6, 5, 6, 6, 5, 6, 11, 6, 6, 11, 11, 11, 2, 6, 6, 10, 6, 6, 7, 11, 6, 1, 6, 6, 10, 12, 10, 6, 6, 11, 10, 6, 11, 6, 6, 6, 10, 11, 6, 5, 5, 6, 6, 6, 6, 5, 6, 6, 8, 11, 6, 5, 6, 6, 6, 5, 6, 5, 6, 6, 6, 4, 6, 6, 8, 12, 11, 6, 12, 12, 6, 11, 12, 6, 7, 6, 7, 11, 6, 12, 6, 4, 4, 4, 6, 6, 6, 2, 12, 6, 12, 6, 6, 10, 6, 11, 6, 6, 12, 6, 6, 6, 7, 11, 12, 3, 12, 6, 2, 6, 11, 11, 10, 6, 5, 7, 5, 4, 12, 6, 6, 4, 11, 6, 7, 5, 11, 10, 6, 2, 6, 11, 6, 12, 10, 11, 10, 7, 6, 7, 3, 6, 10, 6, 7, 11, 5, 11, 6, 7, 1, 11, 10, 5, 0, 6, 7, 7, 6, 6, 6, 6, 6, 6, 7, 6, 6, 5, 6, 6, 6, 12, 12, 7, 9, 7, 5, 3, 7, 2, 12, 5, 10, 4, 6, 4, 12, 6, 6, 10, 6, 6, 5, 11, 7, 6, 8, 6, 12, 6, 2, 12, 6, 10, 6, 6, 6, 7, 9, 11, 8, 5, 6, 5, 2, 8, 4, 11, 6, 6, 4, 6, 11, 6, 6, 2, 7, 11, 8, 8, 1, 12, 6, 6, 6, 8, 5, 6, 2, 6, 12, 6, 6, 12, 8, 4, 12, 6, 6, 7, 6, 6, 10, 6, 6, 9, 12, 5, 6, 6, 6, 6, 5, 7, 9, 6, 7, 5, 5, 6, 6, 0, 6, 6, 6, 8, 12, 5, 12, 6, 5, 5, 6, 11, 6, 6, 5, 6, 6, 6, 6, 6, 6, 6, 6, 6, 4, 5, 2, 2, 6, 6, 5, 2, 12, 6, 0, 6, 11, 6, 6, 12, 6, 5, 6, 12, 11, 6, 6, 6, 12, 12, 6, 11, 12, 10, 12, 6, 1, 6, 8, 6, 8, 10, 6, 2, 6, 7, 6, 6, 7, 12, 12, 10, 12, 5, 11, 11, 6, 7, 5, 6, 6, 7, 6, 6, 9, 12, 6, 6, 11, 6, 6, 11, 5, 6, 4, 6, 6, 6, 6, 6, 6, 7, 2, 6, 6, 6, 6, 2, 6, 12, 12, 5, 6, 12, 6, 11, 9, 5, 10, 6, 6, 4, 12, 6, 6, 2, 6, 6, 6, 11, 6, 6, 6, 7, 7, 11, 12, 11, 6, 12, 12, 6, 11, 11, 6, 6, 6, 1, 6, 3, 5, 6, 5, 5, 6, 5, 6, 6, 6, 6, 2, 5, 6, 6, 6, 6, 6, 12, 2, 6, 7, 11, 12, 4, 12, 12, 6, 6, 6, 6, 6, 6, 6, 6, 7, 12, 6, 6, 6, 6, 6, 6, 6, 3, 6, 8, 6, 5, 5, 6, 6, 10, 11, 12, 6, 6, 6, 10, 2, 5, 6, 6, 12, 6, 6, 6, 10, 12, 6, 12, 7, 6, 4, 6, 6, 4, 5, 10, 7, 11, 6, 12, 12, 6, 10, 12, 6, 11, 7, 11, 7, 8, 6, 2, 3, 5, 11, 6, 6, 5, 12, 6, 6, 11, 6, 4, 7, 5, 6, 6, 6, 6, 5, 7, 6, 8, 6, 6, 5, 4, 5, 5, 6, 2, 3, 10, 6, 12, 6, 6, 6, 6, 6, 6, 6, 12, 10, 12, 5, 11, 6, 6, 6, 8, 4, 3, 6, 12, 12, 6, 7, 4, 6, 4, 6, 6, 6, 7, 6, 8, 11, 10, 6, 5, 6, 6, 11, 4, 5, 6, 6, 11, 6, 6, 6, 12, 3, 6, 4, 11, 6, 5, 6, 1, 6, 2, 6, 10, 8, 5, 6, 6, 4, 6, 10, 5, 10, 6, 6, 6, 6, 6, 6, 0, 6, 3, 6, 6, 10, 6, 5, 5, 6, 4, 6, 11, 9, 5, 11, 6, 5, 6, 6, 6, 1, 6, 6, 5, 6, 9, 12, 7, 12, 6, 5, 4, 6, 5, 6, 1, 5, 10, 2, 5, 10, 9, 8, 5, 6, 6, 11, 6, 7, 12, 0, 2, 5, 5, 4, 4, 2, 6, 6, 4, 6, 3, 12, 6, 6, 8, 6, 12, 7, 6, 6, 6, 2, 3, 6, 6, 11, 3, 6, 11, 6, 7, 4, 6, 6, 6, 4, 11, 12, 5, 6, 6, 6, 10, 6, 12, 12, 12, 12, 6, 12, 6, 10, 2, 5, 5, 6, 6, 6, 6, 11, 6, 6, 7, 6, 6, 4, 12, 5, 11, 6, 12, 6, 8, 11, 10, 12, 6, 4, 5, 6, 6, 6, 11, 11, 11, 3, 5, 3, 1, 5, 6, 6, 4, 6, 2, 11, 6, 7, 4, 4, 6, 10, 6, 7, 6, 6, 2, 7, 6, 7, 6, 6, 6, 11, 6, 3, 2, 6, 6, 11, 6, 6, 6, 6, 12, 6, 4, 6, 6, 5, 7, 6, 3, 12, 6, 6, 11, 6, 12, 5, 7, 11, 4, 6, 12, 4, 6, 5, 5, 7, 7, 0, 6, 6, 12, 5, 3, 0, 6, 8, 6, 6, 5, 11, 12, 6, 11, 6, 10, 6, 11, 12, 6, 6, 7, 11, 12, 4, 8, 11, 8, 7, 2, 6, 6, 6, 6, 7, 6, 5, 6, 5, 11, 12, 12, 3, 6, 6, 12, 7, 6, 6, 11, 6, 5, 6, 6, 8, 11, 6, 1, 7, 10, 4, 5, 1, 6, 6, 6, 5, 7, 2, 5, 1, 5, 7, 12, 5, 6, 6, 10, 6, 7, 6, 5, 10, 10, 6, 5, 12, 5, 6, 11, 6, 11, 6, 12, 11, 6, 6, 11, 10, 6, 3, 6, 6, 6, 6, 6, 5, 6, 10, 5, 6, 6, 11, 9, 5, 7, 6, 5, 6, 6, 6, 10, 6, 5, 6, 6, 12, 6, 6, 7, 6, 3, 4, 2, 6, 5, 6, 6, 12, 7, 12, 6, 6, 12, 6, 2, 6, 6, 4, 6, 12, 7, 6, 6, 6, 6, 12, 11, 6, 6, 2, 11, 6, 6, 7, 6, 6, 11, 6, 6, 8, 6, 0, 6, 11, 6, 12, 7, 12, 6, 6, 7, 6, 6, 6, 7, 4, 5, 6, 6, 6, 6, 11, 6, 2, 6, 12, 6, 6, 6, 6, 6, 11, 6, 6, 6, 8, 6, 12, 6, 6, 6, 11, 6, 2, 6, 7, 10, 5, 6, 7, 3, 7, 7, 7, 6, 6, 4, 12, 6, 6, 12, 4, 12, 6, 10, 6, 6, 6, 4, 2, 6, 6, 9, 2, 2, 6, 6, 3, 7, 6, 7, 11, 3, 6, 6, 5, 2, 6, 6, 2, 11, 5, 10, 4, 6, 6, 12, 5, 6, 2, 6, 5, 6, 6, 12, 6, 12, 5, 6, 2, 6, 11, 6, 6, 6, 6, 6, 6, 6, 12, 6, 5, 11, 8, 2, 6, 6, 4, 11, 6, 6, 12, 8, 10, 11, 6, 6, 6, 6, 6, 6, 6, 11, 6, 6, 6, 7, 10, 6, 8, 6, 5, 5, 12, 4, 11, 6, 7, 6, 6, 8, 3, 12, 5, 6, 5, 10, 4, 6, 6, 12, 6, 3, 6, 5, 4, 5, 6, 11, 6, 6, 12, 10, 11, 10, 6, 6, 4, 6, 5, 6, 7, 6, 6, 2, 11, 6, 7, 5, 6, 2, 6, 5, 4, 6, 6, 6, 6, 8, 6, 5, 6, 6, 10, 6, 6, 6, 6, 6, 6, 6, 6, 6, 11, 6, 8, 12, 6, 6, 6, 6, 7, 12, 6, 11, 11, 5, 12, 6, 7, 11, 12, 7, 6, 0]\n",
            "[[0. 0. 0. ... 0. 0. 0.]\n",
            " [0. 0. 0. ... 0. 0. 0.]\n",
            " [0. 0. 0. ... 1. 0. 0.]\n",
            " ...\n",
            " [0. 0. 0. ... 0. 0. 0.]\n",
            " [0. 0. 0. ... 0. 0. 0.]\n",
            " [1. 0. 0. ... 0. 0. 0.]]\n",
            "[('no skills',), ('no skills',), ('triplet',), ('leaping_twisting',), ('repeating',), ('no skills',), ('down_leaping',), ('no skills',), ('no skills',), ('no skills',), ('down_leaping',), ('no skills',), ('up_steping',), ('up_leaping',), ('no skills',), ('leaping_twisting',), ('no skills',), ('up_leaping',), ('no skills',), ('no skills',), ('no skills',), ('repeating',), ('no skills',), ('up_leaping',), ('down_steping',), ('no skills',), ('repeating',), ('steping_twisting',), ('up_leaping',), ('repeating',), ('fast_rhythm',), ('leaping_twisting',), ('no skills',), ('up_steping',), ('no skills',), ('triplet',), ('no skills',), ('no skills',), ('up_steping',), ('leaping_twisting',), ('no skills',), ('no skills',), ('no skills',), ('no skills',), ('no skills',), ('no skills',), ('fast_rhythm',), ('no skills',), ('no skills',), ('no skills',), ('leaping_twisting',), ('leaping_twisting',), ('no skills',), ('leaping_twisting',), ('no skills',), ('no skills',), ('triplet',), ('no skills',), ('down_steping',), ('no skills',), ('no skills',), ('no skills',), ('repeating',), ('leaping_twisting',), ('up_steping',), ('up_leaping',), ('down_leaping',), ('staccato',), ('no skills',), ('no skills',), ('no skills',), ('up_steping',), ('up_leaping',), ('One_rhythm',), ('up_leaping',), ('no skills',), ('down_leaping',), ('no skills',), ('no skills',), ('leaping_twisting',), ('no skills',), ('no skills',), ('up_steping',), ('repeating',), ('no skills',), ('no skills',), ('no skills',), ('no skills',), ('leaping_twisting',), ('repeating',), ('up_leaping',), ('no skills',), ('up_leaping',), ('no skills',), ('no skills',), ('no skills',), ('no skills',), ('no skills',), ('no skills',), ('up_leaping',), ('leaping_twisting',), ('no skills',), ('up_leaping',), ('no skills',), ('no skills',), ('leaping_twisting',), ('leaping_twisting',), ('no skills',), ('up_leaping',), ('no skills',), ('no skills',), ('no skills',), ('no skills',), ('up_steping',), ('no skills',), ('up_steping',), ('fast_rhythm',), ('no skills',), ('no skills',), ('up_leaping',), ('down_leaping',), ('no skills',), ('no skills',), ('leaping_twisting',), ('repeating',), ('no skills',), ('down_leaping',), ('down_leaping',), ('up_leaping',), ('no skills',), ('down_steping',), ('triplet',), ('leaping_twisting',), ('triplet',), ('triplet',), ('repeating',), ('no skills',), ('up_leaping',), ('no skills',), ('no skills',), ('up_leaping',), ('up_leaping',), ('down_steping',), ('no skills',), ('leaping_twisting',), ('up_leaping',), ('repeating',), ('One_rhythm',), ('staccato',), ('up_leaping',), ('up_leaping',), ('leaping_twisting',), ('leaping_twisting',), ('repeating',), ('up_leaping',), ('no skills',), ('no skills',), ('no skills',), ('no skills',), ('no skills',), ('no skills',), ('staccato',), ('no skills',), ('up_leaping',), ('no skills',), ('down_leaping',), ('no skills',), ('no skills',), ('no skills',), ('leaping_twisting',), ('no skills',), ('fast_rhythm',), ('no skills',), ('up_leaping',), ('repeating',), ('no skills',), ('leaping_twisting',), ('no skills',), ('up_steping',), ('triplet',), ('no skills',), ('no skills',), ('leaping_twisting',), ('no skills',), ('no skills',), ('no skills',), ('no skills',), ('no skills',), ('up_steping',), ('leaping_twisting',), ('no skills',), ('no skills',), ('leaping_twisting',), ('no skills',), ('no skills',), ('no skills',), ('down_steping',), ('no skills',), ('triplet',), ('leaping_twisting',), ('no skills',), ('no skills',), ('no skills',), ('up_leaping',), ('up_steping',), ('leaping_twisting',), ('repeating',), ('up_leaping',), ('up_leaping',), ('no skills',), ('no skills',), ('no skills',), ('down_steping',), ('no skills',), ('repeating',), ('fast_rhythm',), ('repeating',), ('no skills',), ('up_leaping',), ('fast_rhythm',), ('no skills',), ('no skills',), ('leaping_twisting',), ('no skills',), ('down_steping',), ('One_rhythm',), ('up_steping',), ('staccato',), ('no skills',), ('up_steping',), ('no skills',), ('up_steping',), ('no skills',), ('no skills',), ('fast_rhythm',), ('no skills',), ('up_leaping',), ('up_leaping',), ('steping_twisting',), ('no skills',), ('leaping_twisting',), ('leaping_twisting',), ('no skills',), ('no skills',), ('no skills',), ('up_steping',), ('staccato',), ('no skills',), ('no skills',), ('no skills',), ('up_steping',), ('up_leaping',), ('no skills',), ('no skills',), ('up_leaping',), ('repeating',), ('no skills',), ('up_leaping',), ('no skills',), ('up_steping',), ('no skills',), ('leaping_twisting',), ('repeating',), ('no skills',), ('down_leaping',), ('up_leaping',), ('repeating',), ('triplet',), ('no skills',), ('continuing_rhythm',), ('no skills',), ('no skills',), ('no skills',), ('no skills',), ('leaping_twisting',), ('no skills',), ('no skills',), ('up_leaping',), ('no skills',), ('up_leaping',), ('leaping_twisting',), ('fast_rhythm',), ('triplet',), ('up_steping',), ('no skills',), ('up_steping',), ('up_leaping',), ('leaping_twisting',), ('no skills',), ('down_steping',), ('leaping_twisting',), ('up_leaping',), ('leaping_twisting',), ('no skills',), ('no skills',), ('no skills',), ('fast_rhythm',), ('up_leaping',), ('up_steping',), ('up_leaping',), ('repeating',), ('staccato',), ('no skills',), ('no skills',), ('fast_rhythm',), ('no skills',), ('no skills',), ('no skills',), ('triplet',), ('no skills',), ('steping_twisting',), ('up_leaping',), ('no skills',), ('repeating',), ('no skills',), ('triplet',), ('repeating',), ('no skills',), ('leaping_twisting',), ('up_steping',), ('staccato',), ('no skills',), ('staccato',), ('leaping_twisting',), ('up_steping',), ('leaping_twisting',), ('continuing_rhythm',), ('up_leaping',), ('up_steping',), ('staccato',), ('down_leaping',), ('no skills',), ('up_leaping',), ('up_leaping',), ('down_leaping',), ('no skills',), ('triplet',), ('fast_rhythm',), ('no skills',), ('no skills',), ('no skills',), ('triplet',), ('no skills',), ('no skills',), ('no skills',), ('leaping_twisting',), ('staccato',), ('no skills',), ('no skills',), ('triplet',), ('down_leaping',), ('no skills',), ('up_leaping',), ('no skills',), ('no skills',), ('up_steping',), ('continuing_rhythm',), ('no skills',), ('no skills',), ('no skills',), ('no skills',), ('down_leaping',), ('down_steping',), ('staccato',), ('no skills',), ('no skills',), ('no skills',), ('no skills',), ('no skills',), ('One_rhythm',), ('triplet',), ('continuing_rhythm',), ('no skills',), ('no skills',), ('no skills',), ('no skills',), ('up_steping',), ('up_steping',), ('no skills',), ('no skills',), ('leaping_twisting',), ('no skills',), ('down_steping',), ('staccato',), ('no skills',), ('repeating',), ('up_leaping',), ('up_leaping',), ('no skills',), ('no skills',), ('no skills',), ('leaping_twisting',), ('no skills',), ('no skills',), ('no skills',), ('no skills',), ('triplet',), ('repeating',), ('no skills',), ('up_leaping',), ('leaping_twisting',), ('repeating',), ('no skills',), ('no skills',), ('no skills',), ('no skills',), ('up_leaping',), ('fast_rhythm',), ('triplet',), ('no skills',), ('no skills',), ('no skills',), ('no skills',), ('no skills',), ('no skills',), ('no skills',), ('no skills',), ('up_leaping',), ('leaping_twisting',), ('no skills',), ('no skills',), ('One_rhythm',), ('no skills',), ('down_steping',), ('repeating',), ('no skills',), ('no skills',), ('fast_rhythm',), ('up_leaping',), ('down_leaping',), ('no skills',), ('up_leaping',), ('no skills',), ('leaping_twisting',), ('no skills',), ('up_steping',), ('leaping_twisting',), ('up_leaping',), ('staccato',), ('no skills',), ('repeating',), ('continuing_rhythm',), ('no skills',), ('no skills',), ('up_steping',), ('no skills',), ('leaping_twisting',), ('staccato',), ('no skills',), ('no skills',), ('up_steping',), ('no skills',), ('no skills',), ('no skills',), ('no skills',), ('up_leaping',), ('no skills',), ('leaping_twisting',), ('no skills',), ('leaping_twisting',), ('no skills',), ('down_leaping',), ('no skills',), ('no skills',), ('triplet',), ('no skills',), ('down_leaping',), ('leaping_twisting',), ('leaping_twisting',), ('up_leaping',), ('repeating',), ('no skills',), ('no skills',), ('up_leaping',), ('no skills',), ('triplet',), ('repeating',), ('no skills',), ('repeating',), ('fast_rhythm',), ('down_leaping',), ('no skills',), ('no skills',), ('repeating',), ('repeating',), ('leaping_twisting',), ('no skills',), ('no skills',), ('no skills',), ('fast_rhythm',), ('repeating',), ('repeating',), ('no skills',), ('no skills',), ('no skills',), ('staccato',), ('down_steping',), ('down_steping',), ('leaping_twisting',), ('no skills',), ('fast_rhythm',), ('down_leaping',), ('up_leaping',), ('no skills',), ('up_leaping',), ('down_leaping',), ('up_steping',), ('no skills',), ('no skills',), ('down_leaping',), ('up_steping',), ('no skills',), ('up_leaping',), ('down_leaping',), ('up_steping',), ('no skills',), ('repeating',), ('up_leaping',), ('triplet',), ('no skills',), ('no skills',), ('no skills',), ('no skills',), ('repeating',), ('up_steping',), ('staccato',), ('no skills',), ('no skills',), ('repeating',), ('no skills',), ('no skills',), ('no skills',), ('no skills',), ('up_leaping',), ('repeating',), ('no skills',), ('repeating',), ('no skills',), ('no skills',), ('continuing_rhythm',), ('no skills',), ('no skills',), ('up_leaping',), ('up_leaping',), ('leaping_twisting',), ('up_steping',), ('down_leaping',), ('triplet',), ('staccato',), ('leaping_twisting',), ('fast_rhythm',), ('down_leaping',), ('no skills',), ('no skills',), ('up_steping',), ('staccato',), ('leaping_twisting',), ('no skills',), ('repeating',), ('no skills',), ('no skills',), ('no skills',), ('up_leaping',), ('continuing_rhythm',), ('up_steping',), ('repeating',), ('no skills',), ('no skills',), ('leaping_twisting',), ('up_steping',), ('leaping_twisting',), ('no skills',), ('triplet',), ('repeating',), ('no skills',), ('up_leaping',), ('no skills',), ('down_leaping',), ('no skills',), ('triplet',), ('down_steping',), ('up_leaping',), ('no skills',), ('up_leaping',), ('up_leaping',), ('no skills',), ('no skills',), ('fast_rhythm',), ('no skills',), ('no skills',), ('no skills',), ('repeating',), ('no skills',), ('fast_rhythm',), ('leaping_twisting',), ('no skills',), ('continuing_rhythm',), ('triplet',), ('repeating',), ('no skills',), ('leaping_twisting',), ('down_leaping',), ('up_leaping',), ('down_leaping',), ('no skills',), ('repeating',), ('no skills',), ('leaping_twisting',), ('no skills',), ('no skills',), ('no skills',), ('no skills',), ('no skills',), ('no skills',), ('no skills',), ('no skills',), ('repeating',), ('repeating',), ('leaping_twisting',), ('no skills',), ('no skills',), ('no skills',), ('repeating',), ('no skills',), ('no skills',), ('leaping_twisting',), ('up_steping',), ('continuing_rhythm',), ('up_steping',), ('no skills',), ('no skills',), ('up_leaping',), ('no skills',), ('repeating',), ('no skills',), ('up_leaping',), ('leaping_twisting',), ('no skills',), ('up_leaping',), ('no skills',), ('staccato',), ('up_steping',), ('leaping_twisting',), ('no skills',), ('leaping_twisting',), ('no skills',), ('leaping_twisting',), ('up_steping',), ('up_leaping',), ('staccato',), ('fast_rhythm',), ('no skills',), ('no skills',), ('leaping_twisting',), ('no skills',), ('no skills',), ('repeating',), ('no skills',), ('no skills',), ('no skills',), ('fast_rhythm',), ('repeating',), ('repeating',), ('no skills',), ('no skills',), ('leaping_twisting',), ('no skills',), ('no skills',), ('steping_twisting',), ('no skills',), ('no skills',), ('no skills',), ('no skills',), ('down_leaping',), ('no skills',), ('leaping_twisting',), ('no skills',), ('up_steping',), ('no skills',), ('up_steping',), ('fast_rhythm',), ('leaping_twisting',), ('no skills',), ('repeating',), ('staccato',), ('up_steping',), ('no skills',), ('leaping_twisting',), ('no skills',), ('down_leaping',), ('no skills',), ('no skills',), ('no skills',), ('no skills',), ('no skills',), ('continuing_rhythm',), ('no skills',), ('down_leaping',), ('no skills',), ('no skills',), ('down_leaping',), ('no skills',), ('down_leaping',), ('leaping_twisting',), ('fast_rhythm',), ('leaping_twisting',), ('up_leaping',), ('up_steping',), ('no skills',), ('up_leaping',), ('up_leaping',), ('no skills',), ('up_steping',), ('up_leaping',), ('repeating',), ('leaping_twisting',), ('no skills',), ('fast_rhythm',), ('up_leaping',), ('up_leaping',), ('up_leaping',), ('no skills',), ('no skills',), ('down_leaping',), ('down_leaping',), ('fast_rhythm',), ('leaping_twisting',), ('up_steping',), ('no skills',), ('up_steping',), ('no skills',), ('no skills',), ('no skills',), ('down_leaping',), ('no skills',), ('up_leaping',), ('no skills',), ('no skills',), ('down_steping',), ('leaping_twisting',), ('repeating',), ('triplet',), ('leaping_twisting',), ('no skills',), ('up_leaping',), ('fast_rhythm',), ('up_steping',), ('no skills',), ('repeating',), ('no skills',), ('no skills',), ('leaping_twisting',), ('up_steping',), ('up_leaping',), ('up_leaping',), ('no skills',), ('down_steping',), ('up_steping',), ('up_steping',), ('triplet',), ('down_steping',), ('steping_twisting',), ('no skills',), ('staccato',), ('down_leaping',), ('up_steping',), ('no skills',), ('leaping_twisting',), ('up_steping',), ('no skills',), ('leaping_twisting',), ('continuing_rhythm',), ('no skills',), ('staccato',), ('no skills',), ('up_leaping',), ('down_steping',), ('no skills',), ('no skills',), ('no skills',), ('leaping_twisting',), ('no skills',), ('no skills',), ('leaping_twisting',), ('up_leaping',), ('repeating',), ('no skills',), ('no skills',), ('leaping_twisting',), ('no skills',), ('up_leaping',), ('no skills',), ('leaping_twisting',), ('leaping_twisting',), ('up_leaping',), ('no skills',), ('down_leaping',), ('no skills',), ('leaping_twisting',), ('up_steping',), ('up_leaping',), ('leaping_twisting',), ('triplet',), ('triplet',), ('no skills',), ('steping_twisting',), ('up_leaping',), ('up_leaping',), ('leaping_twisting',), ('staccato',), ('no skills',), ('down_leaping',), ('leaping_twisting',), ('no skills',), ('down_leaping',), ('leaping_twisting',), ('up_steping',), ('up_steping',), ('continuing_rhythm',), ('down_leaping',), ('no skills',), ('no skills',), ('continuing_rhythm',), ('up_leaping',), ('no skills',), ('no skills',), ('no skills',), ('leaping_twisting',), ('up_leaping',), ('up_leaping',), ('repeating',), ('leaping_twisting',), ('no skills',), ('up_leaping',), ('no skills',), ('repeating',), ('no skills',), ('repeating',), ('One_rhythm',), ('leaping_twisting',), ('triplet',), ('leaping_twisting',), ('leaping_twisting',), ('no skills',), ('down_leaping',), ('fast_rhythm',), ('triplet',), ('leaping_twisting',), ('triplet',), ('no skills',), ('fast_rhythm',), ('leaping_twisting',), ('up_steping',), ('no skills',), ('up_leaping',), ('up_leaping',), ('no skills',), ('leaping_twisting',), ('up_steping',), ('no skills',), ('no skills',), ('no skills',), ('up_leaping',), ('fast_rhythm',), ('no skills',), ('fast_rhythm',), ('no skills',), ('leaping_twisting',), ('no skills',), ('repeating',), ('no skills',), ('fast_rhythm',), ('up_leaping',), ('no skills',), ('no skills',), ('no skills',), ('up_leaping',), ('no skills',), ('up_leaping',), ('no skills',), ('steping_twisting',), ('no skills',), ('repeating',), ('leaping_twisting',), ('repeating',), ('leaping_twisting',), ('no skills',), ('down_leaping',), ('continuing_rhythm',), ('no skills',), ('leaping_twisting',), ('up_leaping',), ('no skills',), ('no skills',), ('no skills',), ('no skills',), ('repeating',), ('repeating',), ('no skills',), ('down_leaping',), ('up_leaping',), ('up_leaping',), ('repeating',), ('repeating',), ('no skills',), ('leaping_twisting',), ('no skills',), ('no skills',), ('fast_rhythm',), ('up_steping',), ('continuing_rhythm',), ('staccato',), ('up_leaping',), ('leaping_twisting',), ('up_steping',), ('up_steping',), ('no skills',), ('no skills',), ('leaping_twisting',), ('leaping_twisting',), ('no skills',), ('no skills',), ('no skills',), ('no skills',), ('no skills',), ('no skills',), ('no skills',), ('no skills',), ('up_steping',), ('no skills',), ('no skills',), ('no skills',), ('leaping_twisting',), ('fast_rhythm',), ('no skills',), ('no skills',), ('up_leaping',), ('repeating',), ('leaping_twisting',), ('down_steping',), ('no skills',), ('down_steping',), ('no skills',), ('no skills',), ('down_steping',), ('no skills',), ('up_leaping',), ('no skills',), ('no skills',), ('no skills',), ('no skills',), ('no skills',), ('leaping_twisting',), ('up_leaping',), ('no skills',), ('leaping_twisting',), ('triplet',), ('no skills',), ('no skills',), ('fast_rhythm',), ('steping_twisting',), ('fast_rhythm',), ('no skills',), ('One_rhythm',), ('up_leaping',), ('up_steping',), ('no skills',), ('no skills',), ('leaping_twisting',), ('repeating',), ('leaping_twisting',), ('leaping_twisting',), ('no skills',), ('no skills',), ('no skills',), ('no skills',), ('continuing_rhythm',), ('no skills',), ('triplet',), ('up_steping',), ('no skills',), ('no skills',), ('repeating',), ('no skills',), ('repeating',), ('no skills',), ('continuing_rhythm',), ('no skills',), ('down_leaping',), ('no skills',), ('up_steping',), ('triplet',), ('no skills',), ('repeating',), ('continuing_rhythm',), ('leaping_twisting',), ('leaping_twisting',), ('down_steping',), ('no skills',), ('staccato',), ('no skills',), ('leaping_twisting',), ('up_steping',), ('no skills',), ('steping_twisting',), ('leaping_twisting',), ('no skills',), ('staccato',), ('no skills',), ('down_steping',), ('no skills',), ('One_rhythm',), ('no skills',), ('triplet',), ('no skills',), ('no skills',), ('One_rhythm',), ('no skills',), ('no skills',), ('steping_twisting',), ('no skills',), ('leaping_twisting',), ('triplet',), ('up_leaping',), ('no skills',), ('no skills',), ('One_rhythm',), ('no skills',), ('leaping_twisting',), ('down_steping',), ('no skills',), ('no skills',), ('leaping_twisting',), ('repeating',), ('repeating',), ('up_steping',), ('down_leaping',), ('leaping_twisting',), ('no skills',), ('up_leaping',), ('leaping_twisting',), ('no skills',), ('no skills',), ('no skills',), ('no skills',), ('no skills',), ('up_leaping',), ('staccato',), ('no skills',), ('up_leaping',), ('leaping_twisting',), ('leaping_twisting',), ('no skills',), ('up_steping',), ('no skills',), ('no skills',), ('leaping_twisting',), ('leaping_twisting',), ('no skills',), ('up_steping',), ('leaping_twisting',), ('up_leaping',), ('steping_twisting',), ('no skills',), ('triplet',), ('no skills',), ('no skills',), ('repeating',), ('up_leaping',), ('leaping_twisting',), ('no skills',), ('no skills',), ('no skills',), ('up_leaping',), ('down_steping',), ('no skills',), ('no skills',), ('down_steping',), ('no skills',), ('repeating',), ('no skills',), ('up_leaping',), ('no skills',), ('triplet',), ('no skills',), ('up_leaping',), ('up_leaping',), ('fast_rhythm',), ('repeating',), ('triplet',), ('no skills',), ('no skills',), ('no skills',), ('leaping_twisting',), ('up_steping',), ('continuing_rhythm',), ('no skills',), ('no skills',), ('up_leaping',), ('up_leaping',), ('no skills',), ('no skills',), ('leaping_twisting',), ('no skills',), ('fast_rhythm',), ('down_leaping',), ('leaping_twisting',), ('repeating',), ('no skills',), ('up_leaping',), ('up_leaping',), ('fast_rhythm',), ('no skills',), ('down_steping',), ('down_leaping',), ('no skills',), ('no skills',), ('staccato',), ('repeating',), ('no skills',), ('repeating',), ('leaping_twisting',), ('up_steping',), ('no skills',), ('no skills',), ('up_steping',), ('repeating',), ('leaping_twisting',), ('staccato',), ('triplet',), ('staccato',), ('triplet',), ('triplet',), ('no skills',), ('no skills',), ('no skills',), ('repeating',), ('no skills',), ('leaping_twisting',), ('triplet',), ('no skills',), ('no skills',), ('no skills',), ('repeating',), ('no skills',), ('leaping_twisting',), ('triplet',), ('up_leaping',), ('up_steping',), ('up_leaping',), ('up_steping',), ('no skills',), ('leaping_twisting',), ('no skills',), ('leaping_twisting',), ('no skills',), ('no skills',), ('no skills',), ('continuing_rhythm',), ('leaping_twisting',), ('leaping_twisting',), ('fast_rhythm',), ('fast_rhythm',), ('up_leaping',), ('no skills',), ('no skills',), ('repeating',), ('no skills',), ('fast_rhythm',), ('no skills',), ('no skills',), ('no skills',), ('up_steping',), ('leaping_twisting',), ('no skills',), ('continuing_rhythm',), ('triplet',), ('up_leaping',), ('no skills',), ('no skills',), ('repeating',), ('leaping_twisting',), ('up_leaping',), ('no skills',), ('no skills',), ('no skills',), ('no skills',), ('leaping_twisting',), ('up_leaping',), ('up_leaping',), ('leaping_twisting',), ('no skills',), ('fast_rhythm',), ('no skills',), ('repeating',), ('continuing_rhythm',), ('fast_rhythm',), ('fast_rhythm',), ('no skills',), ('no skills',), ('no skills',), ('repeating',), ('no skills',), ('leaping_twisting',), ('up_steping',), ('down_leaping',), ('staccato',), ('repeating',), ('up_steping',), ('no skills',), ('no skills',), ('no skills',), ('no skills',), ('no skills',), ('no skills',), ('down_leaping',), ('continuing_rhythm',), ('no skills',), ('no skills',), ('no skills',), ('repeating',), ('fast_rhythm',), ('steping_twisting',), ('no skills',), ('up_leaping',), ('up_steping',), ('up_leaping',), ('triplet',), ('up_leaping',), ('no skills',), ('no skills',), ('no skills',), ('no skills',), ('no skills',), ('leaping_twisting',), ('up_leaping',), ('no skills',), ('repeating',), ('repeating',), ('no skills',), ('no skills',), ('leaping_twisting',), ('leaping_twisting',), ('up_leaping',), ('down_leaping',), ('no skills',), ('no skills',), ('down_leaping',), ('no skills',), ('leaping_twisting',), ('continuing_rhythm',), ('down_steping',), ('up_leaping',), ('no skills',), ('up_leaping',), ('no skills',), ('no skills',), ('repeating',), ('down_steping',), ('down_steping',), ('fast_rhythm',), ('no skills',), ('no skills',), ('no skills',), ('up_steping',), ('no skills',), ('up_steping',), ('leaping_twisting',), ('repeating',), ('One_rhythm',), ('no skills',), ('leaping_twisting',), ('leaping_twisting',), ('up_leaping',), ('leaping_twisting',), ('leaping_twisting',), ('staccato',), ('triplet',), ('triplet',), ('repeating',), ('no skills',), ('no skills',), ('repeating',), ('steping_twisting',), ('triplet',), ('no skills',), ('staccato',), ('no skills',), ('no skills',), ('down_steping',), ('no skills',), ('up_leaping',), ('no skills',), ('no skills',), ('no skills',), ('no skills',), ('leaping_twisting',), ('up_steping',), ('up_steping',), ('down_leaping',), ('staccato',), ('triplet',), ('up_leaping',), ('no skills',), ('down_leaping',), ('no skills',), ('leaping_twisting',), ('staccato',), ('leaping_twisting',), ('no skills',), ('leaping_twisting',), ('leaping_twisting',), ('up_leaping',), ('leaping_twisting',), ('no skills',), ('no skills',), ('no skills',), ('up_leaping',), ('no skills',), ('no skills',), ('repeating',), ('up_steping',), ('no skills',), ('no skills',), ('leaping_twisting',), ('no skills',), ('no skills',), ('leaping_twisting',), ('down_leaping',), ('no skills',), ('up_leaping',), ('fast_rhythm',), ('repeating',), ('up_steping',), ('fast_rhythm',), ('no skills',), ('no skills',), ('no skills',), ('no skills',), ('no skills',), ('no skills',), ('no skills',), ('no skills',), ('no skills',), ('no skills',), ('repeating',), ('no skills',), ('down_leaping',), ('repeating',), ('no skills',), ('no skills',), ('triplet',), ('up_steping',), ('up_leaping',), ('no skills',), ('no skills',), ('no skills',), ('no skills',), ('no skills',), ('no skills',), ('leaping_twisting',), ('no skills',), ('fast_rhythm',), ('leaping_twisting',), ('up_leaping',), ('up_leaping',), ('up_leaping',), ('up_leaping',), ('no skills',), ('no skills',), ('no skills',), ('up_leaping',), ('up_leaping',), ('no skills',), ('repeating',), ('no skills',), ('fast_rhythm',), ('no skills',), ('no skills',), ('up_leaping',), ('no skills',), ('repeating',), ('no skills',), ('no skills',), ('repeating',), ('no skills',), ('leaping_twisting',), ('no skills',), ('up_steping',), ('leaping_twisting',), ('no skills',), ('up_leaping',), ('leaping_twisting',), ('no skills',), ('no skills',), ('no skills',), ('up_leaping',), ('no skills',), ('up_leaping',), ('fast_rhythm',), ('steping_twisting',), ('up_leaping',), ('no skills',), ('fast_rhythm',), ('no skills',), ('no skills',), ('no skills',), ('staccato',), ('repeating',), ('no skills',), ('no skills',), ('no skills',), ('triplet',), ('no skills',), ('up_steping',), ('up_leaping',), ('repeating',), ('no skills',), ('leaping_twisting',), ('steping_twisting',), ('no skills',), ('up_steping',), ('no skills',), ('fast_rhythm',), ('up_steping',), ('no skills',), ('no skills',), ('repeating',), ('no skills',), ('steping_twisting',), ('up_leaping',), ('down_leaping',), ('no skills',), ('leaping_twisting',), ('no skills',), ('no skills',), ('up_leaping',), ('staccato',), ('leaping_twisting',), ('leaping_twisting',), ('no skills',), ('no skills',), ('repeating',), ('no skills',), ('up_leaping',), ('no skills',), ('triplet',), ('down_leaping',), ('no skills',), ('up_leaping',), ('up_leaping',), ('fast_rhythm',), ('up_leaping',), ('no skills',), ('down_steping',), ('no skills',), ('up_steping',), ('fast_rhythm',), ('no skills',), ('repeating',), ('no skills',), ('no skills',), ('no skills',), ('no skills',), ('leaping_twisting',), ('no skills',), ('no skills',), ('no skills',), ('no skills',), ('up_leaping',), ('up_steping',), ('up_steping',), ('no skills',), ('no skills',), ('no skills',), ('no skills',), ('up_leaping',), ('fast_rhythm',), ('down_steping',), ('no skills',), ('up_leaping',), ('staccato',), ('no skills',), ('no skills',), ('staccato',), ('triplet',), ('no skills',), ('down_steping',), ('leaping_twisting',), ('no skills',), ('no skills',), ('no skills',), ('no skills',), ('leaping_twisting',), ('no skills',), ('no skills',), ('no skills',), ('no skills',), ('no skills',), ('repeating',), ('triplet',), ('leaping_twisting',), ('triplet',), ('continuing_rhythm',), ('leaping_twisting',), ('up_leaping',), ('repeating',), ('no skills',), ('no skills',), ('no skills',), ('no skills',), ('no skills',), ('no skills',), ('fast_rhythm',), ('no skills',), ('up_leaping',), ('up_steping',), ('no skills',), ('no skills',), ('leaping_twisting',), ('up_leaping',), ('no skills',), ('no skills',), ('no skills',), ('no skills',), ('fast_rhythm',), ('no skills',), ('triplet',), ('no skills',), ('leaping_twisting',), ('fast_rhythm',), ('up_leaping',), ('up_leaping',), ('up_leaping',), ('no skills',), ('down_steping',), ('no skills',), ('up_leaping',), ('no skills',), ('up_steping',), ('no skills',), ('up_leaping',), ('down_leaping',), ('no skills',), ('up_steping',), ('triplet',), ('no skills',), ('no skills',), ('up_steping',), ('no skills',), ('triplet',), ('no skills',), ('One_rhythm',), ('no skills',), ('leaping_twisting',), ('leaping_twisting',), ('no skills',), ('no skills',), ('no skills',), ('up_leaping',), ('leaping_twisting',), ('no skills',), ('triplet',), ('up_steping',), ('no skills',), ('no skills',), ('fast_rhythm',), ('up_leaping',), ('no skills',), ('leaping_twisting',), ('no skills',), ('up_steping',), ('no skills',), ('up_leaping',), ('no skills',), ('no skills',), ('no skills',), ('leaping_twisting',), ('leaping_twisting',), ('no skills',), ('no skills',), ('up_leaping',), ('no skills',), ('up_steping',), ('no skills',), ('up_leaping',), ('no skills',), ('triplet',), ('leaping_twisting',), ('no skills',), ('no skills',), ('staccato',), ('leaping_twisting',), ('no skills',), ('no skills',), ('no skills',), ('repeating',), ('no skills',), ('up_steping',), ('up_leaping',), ('down_leaping',), ('up_leaping',), ('no skills',), ('no skills',), ('no skills',), ('up_steping',), ('no skills',), ('up_leaping',), ('triplet',), ('no skills',), ('up_leaping',), ('no skills',), ('repeating',), ('down_steping',), ('triplet',), ('no skills',), ('triplet',), ('no skills',), ('fast_rhythm',), ('up_steping',), ('triplet',), ('no skills',), ('no skills',), ('triplet',), ('fast_rhythm',), ('no skills',), ('up_leaping',), ('up_steping',), ('staccato',), ('down_leaping',), ('down_leaping',), ('leaping_twisting',), ('up_leaping',), ('no skills',), ('staccato',), ('leaping_twisting',), ('no skills',), ('up_steping',), ('fast_rhythm',), ('leaping_twisting',), ('up_steping',), ('no skills',), ('no skills',), ('no skills',), ('no skills',), ('leaping_twisting',), ('no skills',), ('continuing_rhythm',), ('down_leaping',), ('leaping_twisting',), ('no skills',), ('no skills',), ('repeating',), ('no skills',), ('no skills',), ('repeating',), ('up_leaping',), ('leaping_twisting',), ('up_leaping',), ('no skills',), ('no skills',), ('down_steping',), ('repeating',), ('no skills',), ('no skills',), ('no skills',), ('repeating',), ('no skills',), ('no skills',), ('no skills',), ('repeating',), ('no skills',), ('down_steping',), ('repeating',), ('no skills',), ('no skills',), ('no skills',), ('up_leaping',), ('no skills',), ('no skills',), ('no skills',), ('up_steping',), ('staccato',), ('repeating',), ('no skills',), ('no skills',), ('no skills',), ('triplet',), ('no skills',), ('down_leaping',), ('no skills',), ('no skills',), ('up_leaping',), ('repeating',), ('no skills',), ('up_leaping',), ('no skills',), ('up_leaping',), ('up_steping',), ('no skills',), ('up_leaping',), ('no skills',), ('no skills',), ('steping_twisting',), ('up_leaping',), ('up_leaping',), ('no skills',), ('down_leaping',), ('no skills',), ('no skills',), ('leaping_twisting',), ('repeating',), ('down_leaping',), ('triplet',), ('up_steping',), ('up_steping',), ('up_leaping',), ('up_leaping',), ('repeating',), ('leaping_twisting',), ('repeating',), ('no skills',), ('steping_twisting',), ('leaping_twisting',), ('up_steping',), ('up_leaping',), ('no skills',), ('up_steping',), ('repeating',), ('repeating',), ('repeating',), ('up_leaping',), ('no skills',), ('up_leaping',), ('down_leaping',), ('up_steping',), ('staccato',), ('steping_twisting',), ('no skills',), ('no skills',), ('no skills',), ('repeating',), ('no skills',), ('no skills',), ('no skills',), ('leaping_twisting',), ('no skills',), ('fast_rhythm',), ('fast_rhythm',), ('no skills',), ('no skills',), ('leaping_twisting',), ('no skills',), ('down_leaping',), ('continuing_rhythm',), ('no skills',), ('staccato',), ('no skills',), ('triplet',), ('no skills',), ('up_leaping',), ('up_leaping',), ('triplet',), ('up_leaping',), ('up_steping',), ('triplet',), ('repeating',), ('repeating',), ('leaping_twisting',), ('no skills',), ('no skills',), ('no skills',), ('no skills',), ('no skills',), ('triplet',), ('staccato',), ('leaping_twisting',), ('no skills',), ('no skills',), ('up_leaping',), ('no skills',), ('leaping_twisting',), ('up_leaping',), ('no skills',), ('no skills',), ('no skills',), ('up_steping',), ('up_steping',), ('no skills',), ('no skills',), ('leaping_twisting',), ('leaping_twisting',), ('triplet',), ('no skills',), ('no skills',), ('no skills',), ('no skills',), ('up_leaping',), ('down_steping',), ('up_leaping',), ('up_leaping',), ('leaping_twisting',), ('no skills',), ('no skills',), ('up_steping',), ('no skills',), ('up_steping',), ('no skills',), ('down_steping',), ('no skills',), ('no skills',), ('triplet',), ('repeating',), ('up_leaping',), ('no skills',), ('staccato',), ('leaping_twisting',), ('down_steping',), ('no skills',), ('repeating',), ('no skills',), ('repeating',), ('no skills',), ('no skills',), ('no skills',), ('repeating',), ('no skills',), ('no skills',), ('no skills',), ('down_steping',), ('no skills',), ('no skills',), ('no skills',), ('triplet',), ('up_steping',), ('triplet',), ('no skills',), ('up_leaping',), ('fast_rhythm',), ('no skills',), ('no skills',), ('no skills',), ('no skills',), ('leaping_twisting',), ('no skills',), ('down_leaping',), ('no skills',), ('continuing_rhythm',), ('steping_twisting',), ('no skills',), ('fast_rhythm',), ('no skills',), ('no skills',), ('repeating',), ('repeating',), ('no skills',), ('down_steping',), ('no skills',), ('no skills',), ('no skills',), ('no skills',), ('no skills',), ('down_leaping',), ('up_leaping',), ('leaping_twisting',), ('no skills',), ('down_leaping',), ('fast_rhythm',), ('no skills',), ('triplet',), ('up_leaping',), ('no skills',), ('no skills',), ('repeating',), ('repeating',), ('leaping_twisting',), ('fast_rhythm',), ('no skills',), ('leaping_twisting',), ('continuing_rhythm',), ('no skills',), ('up_leaping',), ('repeating',), ('leaping_twisting',), ('no skills',), ('up_steping',), ('steping_twisting',), ('no skills',), ('up_steping',), ('leaping_twisting',), ('staccato',), ('up_steping',), ('no skills',), ('continuing_rhythm',), ('no skills',), ('no skills',), ('down_leaping',), ('leaping_twisting',), ('no skills',), ('up_leaping',), ('down_steping',), ('leaping_twisting',), ('leaping_twisting',), ('up_leaping',), ('no skills',), ('up_steping',), ('no skills',), ('no skills',), ('no skills',), ('no skills',), ('up_steping',), ('no skills',), ('no skills',), ('up_steping',), ('up_leaping',), ('no skills',), ('no skills',), ('no skills',), ('up_steping',), ('up_leaping',), ('no skills',), ('up_leaping',), ('no skills',), ('no skills',), ('triplet',), ('steping_twisting',), ('no skills',), ('up_leaping',), ('fast_rhythm',), ('no skills',), ('no skills',), ('up_leaping',), ('no skills',), ('triplet',), ('leaping_twisting',), ('leaping_twisting',), ('no skills',), ('up_leaping',), ('up_steping',), ('fast_rhythm',), ('repeating',), ('no skills',), ('no skills',), ('down_leaping',), ('up_steping',), ('leaping_twisting',), ('staccato',), ('no skills',), ('no skills',), ('fast_rhythm',), ('fast_rhythm',), ('no skills',), ('no skills',), ('staccato',), ('no skills',), ('no skills',), ('up_leaping',), ('up_leaping',), ('up_leaping',), ('up_steping',), ('no skills',), ('repeating',), ('no skills',), ('no skills',), ('steping_twisting',), ('repeating',), ('no skills',), ('no skills',), ('no skills',), ('no skills',), ('repeating',), ('no skills',), ('no skills',), ('leaping_twisting',), ('no skills',), ('no skills',), ('up_leaping',), ('down_leaping',), ('no skills',), ('up_leaping',), ('down_leaping',), ('up_leaping',), ('no skills',), ('no skills',), ('leaping_twisting',), ('no skills',), ('no skills',), ('no skills',), ('no skills',), ('repeating',), ('no skills',), ('down_leaping',), ('no skills',), ('no skills',), ('repeating',), ('no skills',), ('no skills',), ('leaping_twisting',), ('leaping_twisting',), ('up_steping',), ('up_steping',), ('up_steping',), ('repeating',), ('no skills',), ('no skills',), ('no skills',), ('no skills',), ('no skills',), ('no skills',), ('no skills',), ('no skills',), ('up_leaping',), ('repeating',), ('up_leaping',), ('no skills',), ('leaping_twisting',), ('leaping_twisting',), ('no skills',), ('no skills',), ('staccato',), ('no skills',), ('leaping_twisting',), ('no skills',), ('repeating',), ('no skills',), ('down_steping',), ('no skills',), ('triplet',), ('no skills',), ('no skills',), ('no skills',), ('leaping_twisting',), ('no skills',), ('down_leaping',), ('no skills',), ('repeating',), ('no skills',), ('down_leaping',), ('no skills',), ('up_leaping',), ('repeating',), ('staccato',), ('no skills',), ('leaping_twisting',), ('continuing_rhythm',), ('no skills',), ('repeating',), ('leaping_twisting',), ('repeating',), ('no skills',), ('fast_rhythm',), ('leaping_twisting',), ('up_leaping',), ('leaping_twisting',), ('up_leaping',), ('no skills',), ('no skills',), ('up_leaping',), ('no skills',), ('up_leaping',), ('fast_rhythm',), ('triplet',), ('no skills',), ('no skills',), ('leaping_twisting',), ('no skills',), ('no skills',), ('fast_rhythm',), ('up_leaping',), ('staccato',), ('up_steping',), ('down_leaping',), ('down_steping',), ('no skills',), ('leaping_twisting',), ('repeating',), ('down_leaping',), ('no skills',), ('up_leaping',), ('no skills',), ('up_leaping',), ('up_leaping',), ('leaping_twisting',), ('no skills',), ('no skills',), ('no skills',), ('repeating',), ('fast_rhythm',), ('no skills',), ('no skills',), ('leaping_twisting',), ('no skills',), ('no skills',), ('no skills',), ('down_leaping',), ('up_leaping',), ('no skills',), ('leaping_twisting',), ('leaping_twisting',), ('repeating',), ('no skills',), ('triplet',), ('continuing_rhythm',), ('no skills',), ('leaping_twisting',), ('no skills',), ('down_steping',), ('repeating',), ('leaping_twisting',), ('up_leaping',), ('no skills',), ('no skills',), ('continuing_rhythm',), ('no skills',), ('no skills',), ('no skills',), ('One_rhythm',), ('no skills',), ('up_steping',), ('down_leaping',), ('leaping_twisting',), ('no skills',), ('no skills',), ('no skills',), ('no skills',), ('no skills',), ('no skills',), ('up_leaping',), ('leaping_twisting',), ('no skills',), ('leaping_twisting',), ('no skills',), ('no skills',), ('triplet',), ('up_leaping',), ('fast_rhythm',), ('no skills',), ('up_leaping',), ('repeating',), ('no skills',), ('no skills',), ('no skills',), ('leaping_twisting',), ('repeating',), ('up_leaping',), ('no skills',), ('no skills',), ('no skills',), ('up_leaping',), ('repeating',), ('up_leaping',), ('no skills',), ('repeating',), ('no skills',), ('no skills',), ('no skills',), ('staccato',), ('triplet',), ('down_leaping',), ('no skills',), ('repeating',), ('no skills',), ('up_steping',), ('leaping_twisting',), ('leaping_twisting',), ('no skills',), ('no skills',), ('no skills',), ('up_steping',), ('no skills',), ('steping_twisting',), ('down_leaping',), ('no skills',), ('repeating',), ('no skills',), ('One_rhythm',), ('down_steping',), ('One_rhythm',), ('up_leaping',), ('no skills',), ('no skills',), ('leaping_twisting',), ('no skills',), ('no skills',), ('up_steping',), ('repeating',), ('no skills',), ('up_leaping',), ('triplet',), ('fast_rhythm',), ('no skills',), ('up_leaping',), ('no skills',), ('up_leaping',), ('no skills',), ('up_leaping',), ('steping_twisting',), ('down_leaping',), ('leaping_twisting',), ('no skills',), ('up_steping',), ('no skills',), ('leaping_twisting',), ('up_leaping',), ('no skills',), ('no skills',), ('no skills',), ('leaping_twisting',), ('no skills',), ('repeating',), ('no skills',), ('down_leaping',), ('steping_twisting',), ('leaping_twisting',), ('no skills',), ('steping_twisting',), ('up_steping',), ('no skills',), ('leaping_twisting',), ('leaping_twisting',), ('repeating',), ('no skills',), ('no skills',), ('repeating',), ('repeating',), ('no skills',), ('no skills',), ('down_leaping',), ('repeating',), ('staccato',), ('up_leaping',), ('leaping_twisting',), ('no skills',), ('fast_rhythm',), ('continuing_rhythm',), ('leaping_twisting',), ('no skills',), ('up_leaping',), ('up_steping',), ('no skills',), ('no skills',), ('no skills',), ('no skills',), ('no skills',), ('repeating',), ('leaping_twisting',), ('no skills',), ('up_leaping',), ('up_leaping',), ('no skills',), ('leaping_twisting',), ('no skills',), ('repeating',), ('leaping_twisting',), ('leaping_twisting',), ('repeating',), ('leaping_twisting',), ('no skills',), ('leaping_twisting',), ('no skills',), ('leaping_twisting',), ('up_steping',), ('down_steping',), ('fast_rhythm',), ('up_leaping',), ('no skills',), ('repeating',), ('down_leaping',), ('continuing_rhythm',), ('down_leaping',), ('triplet',), ('up_leaping',), ('fast_rhythm',), ('up_leaping',), ('no skills',), ('no skills',), ('no skills',), ('leaping_twisting',), ('no skills',), ('steping_twisting',), ('up_leaping',), ('repeating',), ('leaping_twisting',), ('fast_rhythm',), ('no skills',), ('up_leaping',), ('up_leaping',), ('no skills',), ('up_steping',), ('no skills',), ('no skills',), ('continuing_rhythm',), ('leaping_twisting',), ('steping_twisting',), ('leaping_twisting',), ('no skills',), ('no skills',), ('no skills',), ('repeating',), ('repeating',), ('up_leaping',), ('up_steping',), ('no skills',), ('no skills',), ('leaping_twisting',), ('no skills',), ('no skills',), ('no skills',), ('leaping_twisting',), ('no skills',), ('up_steping',), ('no skills',), ('triplet',), ('leaping_twisting',), ('leaping_twisting',), ('down_leaping',), ('down_leaping',), ('no skills',), ('leaping_twisting',), ('leaping_twisting',), ('no skills',), ('up_leaping',), ('no skills',), ('up_leaping',), ('triplet',), ('no skills',), ('triplet',), ('up_steping',), ('staccato',), ('no skills',), ('up_steping',), ('up_leaping',), ('no skills',), ('fast_rhythm',), ('no skills',), ('staccato',), ('up_steping',), ('leaping_twisting',), ('no skills',), ('no skills',), ('down_steping',), ('leaping_twisting',), ('down_steping',), ('no skills',), ('leaping_twisting',), ('no skills',), ('up_steping',), ('up_steping',), ('up_steping',), ('leaping_twisting',), ('no skills',), ('no skills',), ('steping_twisting',), ('repeating',), ('no skills',), ('leaping_twisting',), ('repeating',), ('up_steping',), ('no skills',), ('no skills',), ('triplet',), ('no skills',), ('triplet',), ('no skills',), ('down_leaping',), ('repeating',), ('no skills',), ('no skills',), ('no skills',), ('no skills',), ('up_leaping',), ('no skills',), ('leaping_twisting',), ('up_steping',), ('no skills',), ('no skills',), ('leaping_twisting',), ('no skills',), ('fast_rhythm',), ('repeating',), ('no skills',), ('up_leaping',), ('repeating',), ('leaping_twisting',), ('leaping_twisting',), ('up_steping',), ('no skills',), ('down_leaping',), ('no skills',), ('leaping_twisting',), ('fast_rhythm',), ('no skills',), ('fast_rhythm',), ('no skills',), ('leaping_twisting',), ('up_leaping',), ('up_leaping',), ('triplet',), ('no skills',), ('no skills',), ('no skills',), ('down_leaping',), ('repeating',), ('triplet',), ('fast_rhythm',), ('up_leaping',), ('One_rhythm',), ('leaping_twisting',), ('no skills',), ('triplet',), ('no skills',), ('down_leaping',), ('triplet',), ('leaping_twisting',), ('no skills',), ('triplet',), ('continuing_rhythm',), ('leaping_twisting',), ('no skills',), ('continuing_rhythm',), ('leaping_twisting',), ('up_leaping',), ('One_rhythm',), ('no skills',), ('staccato',), ('no skills',), ('no skills',), ('no skills',), ('up_steping',), ('no skills',), ('no skills',), ('repeating',), ('leaping_twisting',), ('no skills',), ('no skills',), ('no skills',), ('fast_rhythm',), ('leaping_twisting',), ('leaping_twisting',), ('up_leaping',), ('no skills',), ('no skills',), ('leaping_twisting',), ('no skills',), ('up_leaping',), ('repeating',), ('up_steping',), ('down_steping',), ('no skills',), ('no skills',), ('down_leaping',), ('fast_rhythm',), ('repeating',), ('leaping_twisting',), ('triplet',), ('no skills',), ('triplet',), ('no skills',), ('up_steping',), ('no skills',), ('no skills',), ('up_steping',), ('fast_rhythm',), ('no skills',), ('leaping_twisting',), ('down_leaping',), ('up_leaping',), ('no skills',), ('leaping_twisting',), ('fast_rhythm',), ('no skills',), ('leaping_twisting',), ('no skills',), ('up_leaping',), ('no skills',), ('no skills',), ('triplet',), ('steping_twisting',), ('no skills',), ('no skills',), ('no skills',), ('leaping_twisting',), ('up_steping',), ('leaping_twisting',), ('leaping_twisting',), ('no skills',), ('up_leaping',), ('leaping_twisting',), ('triplet',), ('no skills',), ('leaping_twisting',), ('no skills',), ('no skills',), ('leaping_twisting',), ('no skills',), ('no skills',), ('no skills',), ('staccato',), ('leaping_twisting',), ('leaping_twisting',), ('up_steping',), ('up_steping',), ('up_steping',), ('no skills',), ('no skills',), ('leaping_twisting',), ('down_steping',), ('repeating',), ('leaping_twisting',), ('down_leaping',), ('no skills',), ('leaping_twisting',), ('triplet',), ('no skills',), ('no skills',), ('fast_rhythm',), ('up_steping',), ('no skills',), ('no skills',), ('up_steping',), ('no skills',), ('up_leaping',), ('no skills',), ('no skills',), ('leaping_twisting',), ('no skills',), ('One_rhythm',), ('up_leaping',), ('down_leaping',), ('leaping_twisting',), ('repeating',), ('no skills',), ('leaping_twisting',), ('leaping_twisting',), ('no skills',), ('repeating',), ('no skills',), ('down_leaping',), ('leaping_twisting',), ('leaping_twisting',), ('no skills',), ('leaping_twisting',), ('no skills',), ('triplet',), ('continuing_rhythm',), ('no skills',), ('triplet',), ('no skills',), ('repeating',), ('no skills',), ('no skills',), ('up_leaping',), ('up_leaping',), ('leaping_twisting',), ('down_steping',), ('repeating',), ('up_leaping',), ('leaping_twisting',), ('staccato',), ('no skills',), ('no skills',), ('leaping_twisting',), ('up_leaping',), ('up_steping',), ('down_leaping',), ('no skills',), ('no skills',), ('up_leaping',), ('up_leaping',), ('staccato',), ('staccato',), ('leaping_twisting',), ('triplet',), ('staccato',), ('no skills',), ('no skills',), ('no skills',), ('leaping_twisting',), ('up_leaping',), ('no skills',), ('no skills',), ('leaping_twisting',), ('leaping_twisting',), ('leaping_twisting',), ('leaping_twisting',), ('no skills',), ('no skills',), ('no skills',), ('no skills',), ('no skills',), ('no skills',), ('down_leaping',), ('no skills',), ('leaping_twisting',), ('no skills',), ('repeating',), ('no skills',), ('no skills',), ('up_leaping',), ('triplet',), ('down_steping',), ('leaping_twisting',), ('repeating',), ('up_steping',), ('no skills',), ('triplet',), ('up_leaping',), ('no skills',), ('leaping_twisting',), ('no skills',), ('leaping_twisting',), ('no skills',), ('no skills',), ('no skills',), ('triplet',), ('no skills',), ('up_steping',), ('no skills',), ('no skills',), ('leaping_twisting',), ('leaping_twisting',), ('no skills',), ('repeating',), ('up_steping',), ('no skills',), ('up_steping',), ('no skills',), ('no skills',), ('repeating',), ('steping_twisting',), ('up_leaping',), ('no skills',), ('no skills',), ('no skills',), ('staccato',), ('leaping_twisting',), ('staccato',), ('up_steping',), ('no skills',), ('no skills',), ('staccato',), ('no skills',), ('up_steping',), ('no skills',), ('triplet',), ('no skills',), ('no skills',), ('no skills',), ('steping_twisting',), ('down_leaping',), ('fast_rhythm',), ('leaping_twisting',), ('no skills',), ('down_steping',), ('no skills',), ('no skills',), ('leaping_twisting',), ('up_leaping',), ('no skills',), ('down_leaping',), ('leaping_twisting',), ('no skills',), ('down_steping',), ('up_steping',), ('no skills',), ('leaping_twisting',), ('up_leaping',), ('no skills',), ('no skills',), ('leaping_twisting',), ('staccato',), ('no skills',), ('no skills',), ('up_leaping',), ('repeating',), ('staccato',), ('triplet',), ('down_leaping',), ('no skills',), ('no skills',), ('no skills',), ('down_leaping',), ('up_leaping',), ('no skills',), ('no skills',), ('no skills',), ('up_steping',), ('no skills',), ('up_steping',), ('fast_rhythm',), ('leaping_twisting',), ('no skills',), ('fast_rhythm',), ('repeating',), ('leaping_twisting',), ('down_steping',), ('no skills',), ('no skills',), ('up_steping',), ('triplet',), ('no skills',), ('continuing_rhythm',), ('no skills',), ('no skills',), ('no skills',), ('leaping_twisting',), ('steping_twisting',), ('up_steping',), ('down_leaping',), ('leaping_twisting',), ('leaping_twisting',), ('leaping_twisting',), ('up_steping',), ('leaping_twisting',), ('no skills',), ('repeating',), ('staccato',), ('down_leaping',), ('up_steping',), ('repeating',), ('leaping_twisting',), ('no skills',), ('continuing_rhythm',), ('no skills',), ('fast_rhythm',), ('up_leaping',), ('no skills',), ('no skills',), ('leaping_twisting',), ('triplet',), ('fast_rhythm',), ('no skills',), ('repeating',), ('down_steping',), ('no skills',), ('up_leaping',), ('leaping_twisting',), ('repeating',), ('leaping_twisting',), ('down_leaping',), ('leaping_twisting',), ('down_leaping',), ('no skills',), ('no skills',), ('no skills',), ('up_leaping',), ('no skills',), ('up_steping',), ('down_leaping',), ('no skills',), ('leaping_twisting',), ('repeating',), ('no skills',), ('up_leaping',), ('no skills',), ('leaping_twisting',), ('continuing_rhythm',), ('no skills',), ('no skills',), ('up_leaping',), ('leaping_twisting',), ('no skills',), ('staccato',), ('repeating',), ('leaping_twisting',), ('down_steping',), ('leaping_twisting',), ('leaping_twisting',), ('leaping_twisting',), ('no skills',), ('no skills',), ('up_leaping',), ('no skills',), ('down_leaping',), ('no skills',), ('no skills',), ('down_leaping',), ('up_steping',), ('up_steping',), ('up_leaping',), ('no skills',), ('no skills',), ('One_rhythm',), ('steping_twisting',), ('One_rhythm',), ('no skills',), ('up_leaping',), ('down_steping',), ('triplet',), ('up_leaping',), ('up_leaping',), ('up_steping',), ('triplet',), ('down_leaping',), ('no skills',), ('no skills',), ('no skills',), ('fast_rhythm',), ('One_rhythm',), ('up_leaping',), ('no skills',), ('no skills',), ('up_steping',), ('triplet',), ('no skills',), ('no skills',), ('no skills',), ('no skills',), ('up_leaping',), ('leaping_twisting',), ('no skills',), ('no skills',), ('staccato',), ('triplet',), ('repeating',), ('up_steping',), ('no skills',), ('no skills',), ('no skills',), ('fast_rhythm',), ('leaping_twisting',), ('leaping_twisting',), ('no skills',), ('no skills',), ('down_leaping',), ('no skills',), ('no skills',), ('no skills',), ('no skills',), ('up_leaping',), ('leaping_twisting',), ('up_leaping',), ('no skills',), ('One_rhythm',), ('no skills',), ('up_leaping',), ('up_leaping',), ('no skills',), ('no skills',), ('triplet',), ('up_steping',), ('no skills',), ('up_leaping',), ('repeating',), ('no skills',), ('no skills',), ('fast_rhythm',), ('up_leaping',), ('up_leaping',), ('up_leaping',), ('no skills',), ('no skills',), ('repeating',), ('leaping_twisting',), ('no skills',), ('up_leaping',), ('no skills',), ('leaping_twisting',), ('down_leaping',), ('triplet',), ('no skills',), ('no skills',), ('repeating',), ('no skills',), ('triplet',), ('no skills',), ('no skills',), ('triplet',), ('up_leaping',), ('no skills',), ('no skills',), ('no skills',), ('up_steping',), ('no skills',), ('no skills',), ('down_leaping',), ('no skills',), ('no skills',), ('leaping_twisting',), ('no skills',), ('repeating',), ('no skills',), ('no skills',), ('up_steping',), ('up_steping',), ('no skills',), ('no skills',), ('up_leaping',), ('no skills',), ('up_leaping',), ('no skills',), ('up_steping',), ('repeating',), ('down_steping',), ('down_leaping',), ('no skills',), ('no skills',), ('no skills',), ('no skills',), ('fast_rhythm',), ('up_leaping',), ('leaping_twisting',), ('triplet',), ('up_steping',), ('no skills',), ('fast_rhythm',), ('no skills',), ('repeating',), ('down_leaping',), ('continuing_rhythm',), ('up_leaping',), ('up_steping',), ('no skills',), ('no skills',), ('no skills',), ('no skills',), ('up_leaping',), ('up_leaping',), ('no skills',), ('no skills',), ('down_steping',), ('no skills',), ('up_leaping',), ('no skills',), ('continuing_rhythm',), ('steping_twisting',), ('no skills',), ('leaping_twisting',), ('no skills',), ('no skills',), ('no skills',), ('no skills',), ('leaping_twisting',), ('triplet',), ('no skills',), ('leaping_twisting',), ('leaping_twisting',), ('up_leaping',), ('no skills',), ('down_steping',), ('no skills',), ('up_steping',), ('up_steping',), ('no skills',), ('up_steping',), ('up_leaping',), ('no skills',), ('triplet',), ('up_leaping',), ('up_steping',), ('repeating',), ('no skills',), ('repeating',), ('no skills',), ('no skills',), ('no skills',), ('leaping_twisting',), ('no skills',), ('up_leaping',), ('up_leaping',), ('up_steping',), ('leaping_twisting',), ('leaping_twisting',), ('no skills',), ('leaping_twisting',), ('leaping_twisting',), ('no skills',), ('down_steping',), ('no skills',), ('no skills',), ('no skills',), ('up_leaping',), ('no skills',), ('no skills',), ('no skills',), ('no skills',), ('repeating',), ('no skills',), ('no skills',), ('fast_rhythm',), ('up_steping',), ('no skills',), ('no skills',), ('no skills',), ('no skills',), ('no skills',), ('no skills',), ('down_steping',), ('no skills',), ('no skills',), ('up_steping',), ('up_steping',), ('no skills',), ('triplet',), ('staccato',), ('no skills',), ('fast_rhythm',), ('up_leaping',), ('staccato',), ('no skills',), ('triplet',), ('up_leaping',), ('no skills',), ('no skills',), ('no skills',), ('triplet',), ('no skills',), ('up_steping',), ('up_leaping',), ('no skills',), ('up_steping',), ('no skills',), ('no skills',), ('up_steping',), ('no skills',), ('no skills',), ('up_leaping',), ('no skills',), ('fast_rhythm',), ('no skills',), ('no skills',), ('no skills',), ('up_leaping',), ('no skills',), ('up_leaping',), ('up_leaping',), ('fast_rhythm',), ('no skills',), ('fast_rhythm',), ('staccato',), ('up_leaping',), ('up_steping',), ('no skills',), ('repeating',), ('no skills',), ('fast_rhythm',), ('up_steping',), ('up_leaping',), ('no skills',), ('no skills',), ('leaping_twisting',), ('up_steping',), ('repeating',), ('leaping_twisting',), ('leaping_twisting',), ('no skills',), ('up_steping',), ('no skills',), ('leaping_twisting',), ('fast_rhythm',), ('no skills',), ('steping_twisting',), ('leaping_twisting',), ('up_leaping',), ('up_leaping',), ('up_leaping',), ('no skills',), ('no skills',), ('up_leaping',), ('leaping_twisting',), ('up_steping',), ('no skills',), ('up_steping',), ('leaping_twisting',), ('no skills',), ('no skills',), ('down_leaping',), ('no skills',), ('triplet',), ('no skills',), ('up_leaping',), ('up_steping',), ('up_steping',), ('no skills',), ('up_leaping',), ('leaping_twisting',), ('no skills',), ('fast_rhythm',), ('repeating',), ('leaping_twisting',), ('no skills',), ('no skills',), ('up_leaping',), ('down_steping',), ('no skills',), ('repeating',), ('no skills',), ('down_steping',), ('repeating',), ('no skills',), ('no skills',), ('up_leaping',), ('no skills',), ('no skills',), ('no skills',), ('triplet',), ('continuing_rhythm',), ('leaping_twisting',), ('leaping_twisting',), ('no skills',), ('up_leaping',), ('no skills',), ('leaping_twisting',), ('no skills',), ('leaping_twisting',), ('no skills',), ('leaping_twisting',), ('repeating',), ('fast_rhythm',), ('no skills',), ('steping_twisting',), ('no skills',), ('down_leaping',), ('no skills',), ('continuing_rhythm',), ('steping_twisting',), ('leaping_twisting',), ('repeating',), ('staccato',), ('leaping_twisting',), ('no skills',), ('no skills',), ('leaping_twisting',), ('down_leaping',), ('no skills',), ('no skills',), ('no skills',), ('no skills',), ('fast_rhythm',), ('no skills',), ('up_steping',), ('no skills',), ('staccato',), ('repeating',), ('up_steping',), ('up_leaping',), ('no skills',), ('leaping_twisting',), ('no skills',), ('down_leaping',), ('up_steping',), ('no skills',), ('leaping_twisting',), ('repeating',), ('up_leaping',), ('no skills',), ('no skills',), ('no skills',), ('no skills',), ('triplet',), ('continuing_rhythm',), ('no skills',), ('no skills',), ('staccato',), ('no skills',), ('repeating',), ('no skills',), ('no skills',), ('up_steping',), ('no skills',), ('up_leaping',), ('repeating',), ('no skills',), ('up_steping',), ('staccato',), ('no skills',), ('triplet',), ('up_steping',), ('up_steping',), ('no skills',), ('no skills',), ('up_steping',), ('no skills',), ('up_steping',), ('up_leaping',), ('up_leaping',), ('up_steping',), ('no skills',), ('no skills',), ('down_steping',), ('fast_rhythm',), ('up_leaping',), ('up_steping',), ('staccato',), ('up_leaping',), ('no skills',), ('up_steping',), ('no skills',), ('leaping_twisting',), ('repeating',), ('no skills',), ('repeating',), ('up_leaping',), ('up_leaping',), ('steping_twisting',), ('no skills',), ('One_rhythm',), ('up_leaping',), ('fast_rhythm',), ('repeating',), ('triplet',), ('no skills',), ('fast_rhythm',), ('no skills',), ('up_leaping',), ('no skills',), ('up_steping',), ('no skills',), ('up_leaping',), ('up_leaping',), ('staccato',), ('up_steping',), ('no skills',), ('no skills',), ('no skills',), ('up_steping',), ('down_steping',), ('repeating',), ('up_leaping',), ('leaping_twisting',), ('no skills',), ('repeating',), ('down_leaping',), ('steping_twisting',), ('no skills',), ('up_leaping',), ('triplet',), ('leaping_twisting',), ('up_steping',), ('no skills',), ('no skills',), ('repeating',), ('no skills',), ('no skills',), ('no skills',), ('staccato',), ('no skills',), ('continuing_rhythm',), ('up_leaping',), ('continuing_rhythm',), ('repeating',), ('no skills',), ('no skills',), ('up_leaping',), ('no skills',), ('no skills',), ('continuing_rhythm',), ('no skills',), ('fast_rhythm',), ('no skills',), ('no skills',), ('down_leaping',), ('no skills',), ('no skills',), ('no skills',), ('leaping_twisting',), ('repeating',), ('no skills',), ('no skills',), ('repeating',), ('no skills',), ('no skills',), ('staccato',), ('no skills',), ('up_leaping',), ('no skills',), ('staccato',), ('up_steping',), ('down_leaping',), ('down_steping',), ('no skills',), ('triplet',), ('no skills',), ('no skills',), ('no skills',), ('no skills',), ('no skills',), ('no skills',), ('no skills',), ('no skills',), ('repeating',), ('no skills',), ('no skills',), ('no skills',), ('repeating',), ('no skills',), ('up_leaping',), ('up_steping',), ('no skills',), ('One_rhythm',), ('steping_twisting',), ('leaping_twisting',), ('staccato',), ('no skills',), ('up_steping',), ('up_steping',), ('fast_rhythm',), ('no skills',), ('down_leaping',), ('no skills',), ('up_steping',), ('no skills',), ('down_leaping',), ('leaping_twisting',), ('up_leaping',), ('no skills',), ('no skills',), ('no skills',), ('no skills',), ('no skills',), ('leaping_twisting',), ('no skills',), ('no skills',), ('triplet',), ('repeating',), ('no skills',), ('no skills',), ('up_leaping',), ('no skills',), ('leaping_twisting',), ('leaping_twisting',), ('no skills',), ('up_leaping',), ('fast_rhythm',), ('One_rhythm',), ('down_steping',), ('no skills',), ('no skills',), ('no skills',), ('up_steping',), ('no skills',), ('repeating',), ('no skills',), ('repeating',), ('no skills',), ('no skills',), ('up_leaping',), ('up_leaping',), ('no skills',), ('up_leaping',), ('repeating',), ('no skills',), ('no skills',), ('up_steping',), ('no skills',), ('no skills',), ('leaping_twisting',), ('steping_twisting',), ('no skills',), ('fast_rhythm',), ('continuing_rhythm',), ('no skills',), ('no skills',), ('repeating',), ('up_steping',), ('no skills',), ('leaping_twisting',), ('no skills',), ('no skills',), ('up_steping',), ('fast_rhythm',), ('up_leaping',), ('down_leaping',), ('leaping_twisting',), ('no skills',), ('fast_rhythm',), ('up_leaping',), ('no skills',), ('no skills',), ('no skills',), ('no skills',), ('up_steping',), ('down_steping',), ('leaping_twisting',), ('no skills',), ('up_leaping',), ('no skills',), ('up_leaping',), ('no skills',), ('leaping_twisting',), ('leaping_twisting',), ('no skills',), ('leaping_twisting',), ('no skills',), ('up_leaping',), ('leaping_twisting',), ('no skills',), ('no skills',), ('no skills',), ('no skills',), ('up_leaping',), ('no skills',), ('no skills',), ('no skills',), ('leaping_twisting',), ('repeating',), ('leaping_twisting',), ('up_leaping',), ('no skills',), ('fast_rhythm',), ('leaping_twisting',), ('repeating',), ('staccato',), ('leaping_twisting',), ('leaping_twisting',), ('staccato',), ('no skills',), ('fast_rhythm',), ('leaping_twisting',), ('fast_rhythm',), ('no skills',), ('fast_rhythm',), ('repeating',), ('no skills',), ('leaping_twisting',), ('repeating',), ('no skills',), ('no skills',), ('continuing_rhythm',), ('no skills',), ('triplet',), ('no skills',), ('down_leaping',), ('no skills',), ('up_leaping',), ('no skills',), ('no skills',), ('up_steping',), ('triplet',), ('no skills',), ('leaping_twisting',), ('down_leaping',), ('triplet',), ('repeating',), ('up_steping',), ('no skills',), ('up_leaping',), ('up_steping',), ('no skills',), ('up_steping',), ('no skills',), ('up_leaping',), ('no skills',), ('up_steping',), ('fast_rhythm',), ('continuing_rhythm',), ('no skills',), ('no skills',), ('no skills',), ('no skills',), ('repeating',), ('repeating',), ('no skills',), ('no skills',), ('fast_rhythm',), ('no skills',), ('no skills',), ('no skills',), ('up_steping',), ('up_leaping',), ('no skills',), ('repeating',), ('leaping_twisting',), ('fast_rhythm',), ('no skills',), ('leaping_twisting',), ('down_leaping',), ('up_leaping',), ('up_leaping',), ('no skills',), ('One_rhythm',), ('leaping_twisting',), ('down_leaping',), ('up_leaping',), ('up_leaping',), ('no skills',), ('up_leaping',), ('no skills',), ('up_leaping',), ('up_steping',), ('up_steping',), ('no skills',), ('no skills',), ('up_leaping',), ('no skills',), ('leaping_twisting',), ('up_leaping',), ('no skills',), ('no skills',), ('repeating',), ('leaping_twisting',), ('steping_twisting',), ('no skills',), ('no skills',), ('no skills',), ('fast_rhythm',), ('no skills',), ('no skills',), ('leaping_twisting',), ('fast_rhythm',), ('no skills',), ('leaping_twisting',), ('up_steping',), ('no skills',), ('no skills',), ('no skills',), ('staccato',), ('no skills',), ('no skills',), ('fast_rhythm',), ('staccato',), ('no skills',), ('no skills',), ('no skills',), ('leaping_twisting',), ('leaping_twisting',), ('up_steping',), ('steping_twisting',), ('no skills',), ('no skills',), ('down_leaping',), ('leaping_twisting',), ('repeating',), ('leaping_twisting',), ('up_steping',), ('staccato',), ('steping_twisting',), ('leaping_twisting',), ('staccato',), ('no skills',), ('staccato',), ('no skills',), ('no skills',), ('up_leaping',), ('no skills',), ('up_steping',), ('leaping_twisting',), ('no skills',), ('down_leaping',), ('no skills',), ('repeating',), ('no skills',), ('repeating',), ('down_leaping',), ('fast_rhythm',), ('staccato',), ('no skills',), ('steping_twisting',), ('leaping_twisting',), ('up_leaping',), ('no skills',), ('no skills',), ('steping_twisting',), ('no skills',), ('leaping_twisting',), ('up_leaping',), ('no skills',), ('no skills',), ('leaping_twisting',), ('no skills',), ('no skills',), ('staccato',), ('steping_twisting',), ('no skills',), ('no skills',), ('no skills',), ('up_steping',), ('no skills',), ('leaping_twisting',), ('down_leaping',), ('triplet',), ('triplet',), ('up_leaping',), ('triplet',), ('leaping_twisting',), ('fast_rhythm',), ('staccato',), ('up_steping',), ('up_steping',), ('down_leaping',), ('leaping_twisting',), ('down_steping',), ('no skills',), ('up_steping',), ('down_steping',), ('leaping_twisting',), ('no skills',), ('up_leaping',), ('up_leaping',), ('down_leaping',), ('no skills',), ('staccato',), ('no skills',), ('no skills',), ('down_leaping',), ('up_leaping',), ('repeating',), ('no skills',), ('no skills',), ('triplet',), ('up_steping',), ('up_leaping',), ('no skills',), ('up_leaping',), ('no skills',), ('up_leaping',), ('fast_rhythm',), ('down_steping',), ('triplet',), ('up_leaping',), ('down_steping',), ('down_leaping',), ('leaping_twisting',), ('no skills',), ('up_steping',), ('leaping_twisting',), ('no skills',), ('up_leaping',), ('no skills',), ('up_leaping',), ('no skills',), ('no skills',), ('down_steping',), ('no skills',), ('no skills',), ('leaping_twisting',), ('triplet',), ('leaping_twisting',), ('no skills',), ('no skills',), ('up_steping',), ('no skills',), ('up_leaping',), ('up_leaping',), ('no skills',), ('no skills',), ('no skills',), ('triplet',), ('up_steping',), ('no skills',), ('no skills',), ('no skills',), ('down_leaping',), ('no skills',), ('up_leaping',), ('no skills',), ('no skills',), ('leaping_twisting',), ('leaping_twisting',), ('up_steping',), ('no skills',), ('staccato',), ('no skills',), ('no skills',), ('up_leaping',), ('repeating',), ('repeating',), ('no skills',), ('no skills',), ('no skills',), ('no skills',), ('no skills',), ('down_leaping',), ('no skills',), ('no skills',), ('repeating',), ('no skills',), ('leaping_twisting',), ('leaping_twisting',), ('no skills',), ('leaping_twisting',), ('no skills',), ('no skills',), ('leaping_twisting',), ('no skills',), ('up_leaping',), ('up_steping',), ('no skills',), ('leaping_twisting',), ('leaping_twisting',), ('no skills',), ('repeating',), ('repeating',), ('triplet',), ('leaping_twisting',), ('down_leaping',), ('down_leaping',), ('no skills',), ('triplet',), ('no skills',), ('no skills',), ('no skills',), ('repeating',), ('no skills',), ('up_leaping',), ('leaping_twisting',), ('no skills',), ('leaping_twisting',), ('no skills',), ('no skills',), ('up_steping',), ('leaping_twisting',), ('leaping_twisting',), ('up_steping',), ('leaping_twisting',), ('leaping_twisting',), ('no skills',), ('no skills',), ('no skills',), ('no skills',), ('no skills',), ('repeating',), ('no skills',), ('up_steping',), ('no skills',), ('up_leaping',), ('no skills',), ('staccato',), ('repeating',), ('no skills',), ('no skills',), ('repeating',), ('no skills',), ('up_leaping',), ('no skills',), ('no skills',), ('no skills',), ('up_leaping',), ('no skills',), ('no skills',), ('no skills',), ('up_leaping',), ('no skills',), ('down_leaping',), ('leaping_twisting',), ('up_leaping',), ('triplet',), ('no skills',), ('triplet',), ('no skills',), ('no skills',), ('down_leaping',), ('repeating',), ('no skills',), ('staccato',), ('no skills',), ('staccato',), ('no skills',), ('no skills',), ('no skills',), ('leaping_twisting',), ('fast_rhythm',), ('triplet',), ('up_leaping',), ('no skills',), ('leaping_twisting',), ('no skills',), ('no skills',), ('leaping_twisting',), ('no skills',), ('up_leaping',), ('no skills',), ('no skills',), ('up_leaping',), ('up_leaping',), ('up_leaping',), ('down_leaping',), ('no skills',), ('no skills',), ('triplet',), ('no skills',), ('no skills',), ('repeating',), ('up_leaping',), ('no skills',), ('continuing_rhythm',), ('no skills',), ('no skills',), ('triplet',), ('up_steping',), ('triplet',), ('no skills',), ('no skills',), ('up_leaping',), ('triplet',), ('no skills',), ('up_leaping',), ('no skills',), ('no skills',), ('no skills',), ('triplet',), ('up_leaping',), ('no skills',), ('leaping_twisting',), ('leaping_twisting',), ('no skills',), ('no skills',), ('no skills',), ('no skills',), ('leaping_twisting',), ('no skills',), ('no skills',), ('staccato',), ('up_leaping',), ('no skills',), ('leaping_twisting',), ('no skills',), ('no skills',), ('no skills',), ('leaping_twisting',), ('no skills',), ('leaping_twisting',), ('no skills',), ('no skills',), ('no skills',), ('fast_rhythm',), ('no skills',), ('no skills',), ('staccato',), ('up_steping',), ('up_leaping',), ('no skills',), ('up_steping',), ('up_steping',), ('no skills',), ('up_leaping',), ('up_steping',), ('no skills',), ('repeating',), ('no skills',), ('repeating',), ('up_leaping',), ('no skills',), ('up_steping',), ('no skills',), ('fast_rhythm',), ('fast_rhythm',), ('fast_rhythm',), ('no skills',), ('no skills',), ('no skills',), ('down_leaping',), ('up_steping',), ('no skills',), ('up_steping',), ('no skills',), ('no skills',), ('triplet',), ('no skills',), ('up_leaping',), ('no skills',), ('no skills',), ('up_steping',), ('no skills',), ('no skills',), ('no skills',), ('repeating',), ('up_leaping',), ('up_steping',), ('down_steping',), ('up_steping',), ('no skills',), ('down_leaping',), ('no skills',), ('up_leaping',), ('up_leaping',), ('triplet',), ('no skills',), ('leaping_twisting',), ('repeating',), ('leaping_twisting',), ('fast_rhythm',), ('up_steping',), ('no skills',), ('no skills',), ('fast_rhythm',), ('up_leaping',), ('no skills',), ('repeating',), ('leaping_twisting',), ('up_leaping',), ('triplet',), ('no skills',), ('down_leaping',), ('no skills',), ('up_leaping',), ('no skills',), ('up_steping',), ('triplet',), ('up_leaping',), ('triplet',), ('repeating',), ('no skills',), ('repeating',), ('down_steping',), ('no skills',), ('triplet',), ('no skills',), ('repeating',), ('up_leaping',), ('leaping_twisting',), ('up_leaping',), ('no skills',), ('repeating',), ('continuing_rhythm',), ('up_leaping',), ('triplet',), ('leaping_twisting',), ('One_rhythm',), ('no skills',), ('repeating',), ('repeating',), ('no skills',), ('no skills',), ('no skills',), ('no skills',), ('no skills',), ('no skills',), ('repeating',), ('no skills',), ('no skills',), ('leaping_twisting',), ('no skills',), ('no skills',), ('no skills',), ('up_steping',), ('up_steping',), ('repeating',), ('steping_twisting',), ('repeating',), ('leaping_twisting',), ('down_steping',), ('repeating',), ('down_leaping',), ('up_steping',), ('leaping_twisting',), ('triplet',), ('fast_rhythm',), ('no skills',), ('fast_rhythm',), ('up_steping',), ('no skills',), ('no skills',), ('triplet',), ('no skills',), ('no skills',), ('leaping_twisting',), ('up_leaping',), ('repeating',), ('no skills',), ('staccato',), ('no skills',), ('up_steping',), ('no skills',), ('down_leaping',), ('up_steping',), ('no skills',), ('triplet',), ('no skills',), ('no skills',), ('no skills',), ('repeating',), ('steping_twisting',), ('up_leaping',), ('staccato',), ('leaping_twisting',), ('no skills',), ('leaping_twisting',), ('down_leaping',), ('staccato',), ('fast_rhythm',), ('up_leaping',), ('no skills',), ('no skills',), ('fast_rhythm',), ('no skills',), ('up_leaping',), ('no skills',), ('no skills',), ('down_leaping',), ('repeating',), ('up_leaping',), ('staccato',), ('staccato',), ('continuing_rhythm',), ('up_steping',), ('no skills',), ('no skills',), ('no skills',), ('staccato',), ('leaping_twisting',), ('no skills',), ('down_leaping',), ('no skills',), ('up_steping',), ('no skills',), ('no skills',), ('up_steping',), ('staccato',), ('fast_rhythm',), ('up_steping',), ('no skills',), ('no skills',), ('repeating',), ('no skills',), ('no skills',), ('triplet',), ('no skills',), ('no skills',), ('steping_twisting',), ('up_steping',), ('leaping_twisting',), ('no skills',), ('no skills',), ('no skills',), ('no skills',), ('leaping_twisting',), ('repeating',), ('steping_twisting',), ('no skills',), ('repeating',), ('leaping_twisting',), ('leaping_twisting',), ('no skills',), ('no skills',), ('One_rhythm',), ('no skills',), ('no skills',), ('no skills',), ('staccato',), ('up_steping',), ('leaping_twisting',), ('up_steping',), ('no skills',), ('leaping_twisting',), ('leaping_twisting',), ('no skills',), ('up_leaping',), ('no skills',), ('no skills',), ('leaping_twisting',), ('no skills',), ('no skills',), ('no skills',), ('no skills',), ('no skills',), ('no skills',), ('no skills',), ('no skills',), ('no skills',), ('fast_rhythm',), ('leaping_twisting',), ('down_leaping',), ('down_leaping',), ('no skills',), ('no skills',), ('leaping_twisting',), ('down_leaping',), ('up_steping',), ('no skills',), ('One_rhythm',), ('no skills',), ('up_leaping',), ('no skills',), ('no skills',), ('up_steping',), ('no skills',), ('leaping_twisting',), ('no skills',), ('up_steping',), ('up_leaping',), ('no skills',), ('no skills',), ('no skills',), ('up_steping',), ('up_steping',), ('no skills',), ('up_leaping',), ('up_steping',), ('triplet',), ('up_steping',), ('no skills',), ('continuing_rhythm',), ('no skills',), ('staccato',), ('no skills',), ('staccato',), ('triplet',), ('no skills',), ('down_leaping',), ('no skills',), ('repeating',), ('no skills',), ('no skills',), ('repeating',), ('up_steping',), ('up_steping',), ('triplet',), ('up_steping',), ('leaping_twisting',), ('up_leaping',), ('up_leaping',), ('no skills',), ('repeating',), ('leaping_twisting',), ('no skills',), ('no skills',), ('repeating',), ('no skills',), ('no skills',), ('steping_twisting',), ('up_steping',), ('no skills',), ('no skills',), ('up_leaping',), ('no skills',), ('no skills',), ('up_leaping',), ('leaping_twisting',), ('no skills',), ('fast_rhythm',), ('no skills',), ('no skills',), ('no skills',), ('no skills',), ('no skills',), ('no skills',), ('repeating',), ('down_leaping',), ('no skills',), ('no skills',), ('no skills',), ('no skills',), ('down_leaping',), ('no skills',), ('up_steping',), ('up_steping',), ('leaping_twisting',), ('no skills',), ('up_steping',), ('no skills',), ('up_leaping',), ('steping_twisting',), ('leaping_twisting',), ('triplet',), ('no skills',), ('no skills',), ('fast_rhythm',), ('up_steping',), ('no skills',), ('no skills',), ('down_leaping',), ('no skills',), ('no skills',), ('no skills',), ('up_leaping',), ('no skills',), ('no skills',), ('no skills',), ('repeating',), ('repeating',), ('up_leaping',), ('up_steping',), ('up_leaping',), ('no skills',), ('up_steping',), ('up_steping',), ('no skills',), ('up_leaping',), ('up_leaping',), ('no skills',), ('no skills',), ('no skills',), ('continuing_rhythm',), ('no skills',), ('down_steping',), ('leaping_twisting',), ('no skills',), ('leaping_twisting',), ('leaping_twisting',), ('no skills',), ('leaping_twisting',), ('no skills',), ('no skills',), ('no skills',), ('no skills',), ('down_leaping',), ('leaping_twisting',), ('no skills',), ('no skills',), ('no skills',), ('no skills',), ('no skills',), ('up_steping',), ('down_leaping',), ('no skills',), ('repeating',), ('up_leaping',), ('up_steping',), ('fast_rhythm',), ('up_steping',), ('up_steping',), ('no skills',), ('no skills',), ('no skills',), ('no skills',), ('no skills',), ('no skills',), ('no skills',), ('no skills',), ('repeating',), ('up_steping',), ('no skills',), ('no skills',), ('no skills',), ('no skills',), ('no skills',), ('no skills',), ('no skills',), ('down_steping',), ('no skills',), ('staccato',), ('no skills',), ('leaping_twisting',), ('leaping_twisting',), ('no skills',), ('no skills',), ('triplet',), ('up_leaping',), ('up_steping',), ('no skills',), ('no skills',), ('no skills',), ('triplet',), ('down_leaping',), ('leaping_twisting',), ('no skills',), ('no skills',), ('up_steping',), ('no skills',), ('no skills',), ('no skills',), ('triplet',), ('up_steping',), ('no skills',), ('up_steping',), ('repeating',), ('no skills',), ('fast_rhythm',), ('no skills',), ('no skills',), ('fast_rhythm',), ('leaping_twisting',), ('triplet',), ('repeating',), ('up_leaping',), ('no skills',), ('up_steping',), ('up_steping',), ('no skills',), ('triplet',), ('up_steping',), ('no skills',), ('up_leaping',), ('repeating',), ('up_leaping',), ('repeating',), ('staccato',), ('no skills',), ('down_leaping',), ('down_steping',), ('leaping_twisting',), ('up_leaping',), ('no skills',), ('no skills',), ('leaping_twisting',), ('up_steping',), ('no skills',), ('no skills',), ('up_leaping',), ('no skills',), ('fast_rhythm',), ('repeating',), ('leaping_twisting',), ('no skills',), ('no skills',), ('no skills',), ('no skills',), ('leaping_twisting',), ('repeating',), ('no skills',), ('staccato',), ('no skills',), ('no skills',), ('leaping_twisting',), ('fast_rhythm',), ('leaping_twisting',), ('leaping_twisting',), ('no skills',), ('down_leaping',), ('down_steping',), ('triplet',), ('no skills',), ('up_steping',), ('no skills',), ('no skills',), ('no skills',), ('no skills',), ('no skills',), ('no skills',), ('no skills',), ('up_steping',), ('triplet',), ('up_steping',), ('leaping_twisting',), ('up_leaping',), ('no skills',), ('no skills',), ('no skills',), ('staccato',), ('fast_rhythm',), ('down_steping',), ('no skills',), ('up_steping',), ('up_steping',), ('no skills',), ('repeating',), ('fast_rhythm',), ('no skills',), ('fast_rhythm',), ('no skills',), ('no skills',), ('no skills',), ('repeating',), ('no skills',), ('staccato',), ('up_leaping',), ('triplet',), ('no skills',), ('leaping_twisting',), ('no skills',), ('no skills',), ('up_leaping',), ('fast_rhythm',), ('leaping_twisting',), ('no skills',), ('no skills',), ('up_leaping',), ('no skills',), ('no skills',), ('no skills',), ('up_steping',), ('down_steping',), ('no skills',), ('fast_rhythm',), ('up_leaping',), ('no skills',), ('leaping_twisting',), ('no skills',), ('continuing_rhythm',), ('no skills',), ('down_leaping',), ('no skills',), ('triplet',), ('staccato',), ('leaping_twisting',), ('no skills',), ('no skills',), ('fast_rhythm',), ('no skills',), ('triplet',), ('leaping_twisting',), ('triplet',), ('no skills',), ('no skills',), ('no skills',), ('no skills',), ('no skills',), ('no skills',), ('One_rhythm',), ('no skills',), ('down_steping',), ('no skills',), ('no skills',), ('triplet',), ('no skills',), ('leaping_twisting',), ('leaping_twisting',), ('no skills',), ('fast_rhythm',), ('no skills',), ('up_leaping',), ('steping_twisting',), ('leaping_twisting',), ('up_leaping',), ('no skills',), ('leaping_twisting',), ('no skills',), ('no skills',), ('no skills',), ('continuing_rhythm',), ('no skills',), ('no skills',), ('leaping_twisting',), ('no skills',), ('steping_twisting',), ('up_steping',), ('repeating',), ('up_steping',), ('no skills',), ('leaping_twisting',), ('fast_rhythm',), ('no skills',), ('leaping_twisting',), ('no skills',), ('continuing_rhythm',), ('leaping_twisting',), ('triplet',), ('down_leaping',), ('leaping_twisting',), ('triplet',), ('steping_twisting',), ('staccato',), ('leaping_twisting',), ('no skills',), ('no skills',), ('up_leaping',), ('no skills',), ('repeating',), ('up_steping',), ('One_rhythm',), ('down_leaping',), ('leaping_twisting',), ('leaping_twisting',), ('fast_rhythm',), ('fast_rhythm',), ('down_leaping',), ('no skills',), ('no skills',), ('fast_rhythm',), ('no skills',), ('down_steping',), ('up_steping',), ('no skills',), ('no skills',), ('staccato',), ('no skills',), ('up_steping',), ('repeating',), ('no skills',), ('no skills',), ('no skills',), ('down_leaping',), ('down_steping',), ('no skills',), ('no skills',), ('up_leaping',), ('down_steping',), ('no skills',), ('up_leaping',), ('no skills',), ('repeating',), ('fast_rhythm',), ('no skills',), ('no skills',), ('no skills',), ('fast_rhythm',), ('up_leaping',), ('up_steping',), ('leaping_twisting',), ('no skills',), ('no skills',), ('no skills',), ('triplet',), ('no skills',), ('up_steping',), ('up_steping',), ('up_steping',), ('up_steping',), ('no skills',), ('up_steping',), ('no skills',), ('triplet',), ('down_leaping',), ('leaping_twisting',), ('leaping_twisting',), ('no skills',), ('no skills',), ('no skills',), ('no skills',), ('up_leaping',), ('no skills',), ('no skills',), ('repeating',), ('no skills',), ('no skills',), ('fast_rhythm',), ('up_steping',), ('leaping_twisting',), ('up_leaping',), ('no skills',), ('up_steping',), ('no skills',), ('staccato',), ('up_leaping',), ('triplet',), ('up_steping',), ('no skills',), ('fast_rhythm',), ('leaping_twisting',), ('no skills',), ('no skills',), ('no skills',), ('up_leaping',), ('up_leaping',), ('up_leaping',), ('down_steping',), ('leaping_twisting',), ('down_steping',), ('continuing_rhythm',), ('leaping_twisting',), ('no skills',), ('no skills',), ('fast_rhythm',), ('no skills',), ('down_leaping',), ('up_leaping',), ('no skills',), ('repeating',), ('fast_rhythm',), ('fast_rhythm',), ('no skills',), ('triplet',), ('no skills',), ('repeating',), ('no skills',), ('no skills',), ('down_leaping',), ('repeating',), ('no skills',), ('repeating',), ('no skills',), ('no skills',), ('no skills',), ('up_leaping',), ('no skills',), ('down_steping',), ('down_leaping',), ('no skills',), ('no skills',), ('up_leaping',), ('no skills',), ('no skills',), ('no skills',), ('no skills',), ('up_steping',), ('no skills',), ('fast_rhythm',), ('no skills',), ('no skills',), ('leaping_twisting',), ('repeating',), ('no skills',), ('down_steping',), ('up_steping',), ('no skills',), ('no skills',), ('up_leaping',), ('no skills',), ('up_steping',), ('leaping_twisting',), ('repeating',), ('up_leaping',), ('fast_rhythm',), ('no skills',), ('up_steping',), ('fast_rhythm',), ('no skills',), ('leaping_twisting',), ('leaping_twisting',), ('repeating',), ('repeating',), ('One_rhythm',), ('no skills',), ('no skills',), ('up_steping',), ('leaping_twisting',), ('down_steping',), ('One_rhythm',), ('no skills',), ('staccato',), ('no skills',), ('no skills',), ('leaping_twisting',), ('up_leaping',), ('up_steping',), ('no skills',), ('up_leaping',), ('no skills',), ('triplet',), ('no skills',), ('up_leaping',), ('up_steping',), ('no skills',), ('no skills',), ('repeating',), ('up_leaping',), ('up_steping',), ('fast_rhythm',), ('staccato',), ('up_leaping',), ('staccato',), ('repeating',), ('down_leaping',), ('no skills',), ('no skills',), ('no skills',), ('no skills',), ('repeating',), ('no skills',), ('leaping_twisting',), ('no skills',), ('leaping_twisting',), ('up_leaping',), ('up_steping',), ('up_steping',), ('down_steping',), ('no skills',), ('no skills',), ('up_steping',), ('repeating',), ('no skills',), ('no skills',), ('up_leaping',), ('no skills',), ('leaping_twisting',), ('no skills',), ('no skills',), ('staccato',), ('up_leaping',), ('no skills',), ('continuing_rhythm',), ('repeating',), ('triplet',), ('fast_rhythm',), ('leaping_twisting',), ('continuing_rhythm',), ('no skills',), ('no skills',), ('no skills',), ('leaping_twisting',), ('repeating',), ('down_leaping',), ('leaping_twisting',), ('continuing_rhythm',), ('leaping_twisting',), ('repeating',), ('up_steping',), ('leaping_twisting',), ('no skills',), ('no skills',), ('triplet',), ('no skills',), ('repeating',), ('no skills',), ('leaping_twisting',), ('triplet',), ('triplet',), ('no skills',), ('leaping_twisting',), ('up_steping',), ('leaping_twisting',), ('no skills',), ('up_leaping',), ('no skills',), ('up_leaping',), ('no skills',), ('up_steping',), ('up_leaping',), ('no skills',), ('no skills',), ('up_leaping',), ('triplet',), ('no skills',), ('down_steping',), ('no skills',), ('no skills',), ('no skills',), ('no skills',), ('no skills',), ('leaping_twisting',), ('no skills',), ('triplet',), ('leaping_twisting',), ('no skills',), ('no skills',), ('up_leaping',), ('steping_twisting',), ('leaping_twisting',), ('repeating',), ('no skills',), ('leaping_twisting',), ('no skills',), ('no skills',), ('no skills',), ('triplet',), ('no skills',), ('leaping_twisting',), ('no skills',), ('no skills',), ('up_steping',), ('no skills',), ('no skills',), ('repeating',), ('no skills',), ('down_steping',), ('fast_rhythm',), ('down_leaping',), ('no skills',), ('leaping_twisting',), ('no skills',), ('no skills',), ('up_steping',), ('repeating',), ('up_steping',), ('no skills',), ('no skills',), ('up_steping',), ('no skills',), ('down_leaping',), ('no skills',), ('no skills',), ('fast_rhythm',), ('no skills',), ('up_steping',), ('repeating',), ('no skills',), ('no skills',), ('no skills',), ('no skills',), ('up_steping',), ('up_leaping',), ('no skills',), ('no skills',), ('down_leaping',), ('up_leaping',), ('no skills',), ('no skills',), ('repeating',), ('no skills',), ('no skills',), ('up_leaping',), ('no skills',), ('no skills',), ('staccato',), ('no skills',), ('One_rhythm',), ('no skills',), ('up_leaping',), ('no skills',), ('up_steping',), ('repeating',), ('up_steping',), ('no skills',), ('no skills',), ('repeating',), ('no skills',), ('no skills',), ('no skills',), ('repeating',), ('fast_rhythm',), ('leaping_twisting',), ('no skills',), ('no skills',), ('no skills',), ('no skills',), ('up_leaping',), ('no skills',), ('down_leaping',), ('no skills',), ('up_steping',), ('no skills',), ('no skills',), ('no skills',), ('no skills',), ('no skills',), ('up_leaping',), ('no skills',), ('no skills',), ('no skills',), ('staccato',), ('no skills',), ('up_steping',), ('no skills',), ('no skills',), ('no skills',), ('up_leaping',), ('no skills',), ('down_leaping',), ('no skills',), ('repeating',), ('triplet',), ('leaping_twisting',), ('no skills',), ('repeating',), ('down_steping',), ('repeating',), ('repeating',), ('repeating',), ('no skills',), ('no skills',), ('fast_rhythm',), ('up_steping',), ('no skills',), ('no skills',), ('up_steping',), ('fast_rhythm',), ('up_steping',), ('no skills',), ('triplet',), ('no skills',), ('no skills',), ('no skills',), ('fast_rhythm',), ('down_leaping',), ('no skills',), ('no skills',), ('steping_twisting',), ('down_leaping',), ('down_leaping',), ('no skills',), ('no skills',), ('down_steping',), ('repeating',), ('no skills',), ('repeating',), ('up_leaping',), ('down_steping',), ('no skills',), ('no skills',), ('leaping_twisting',), ('down_leaping',), ('no skills',), ('no skills',), ('down_leaping',), ('up_leaping',), ('leaping_twisting',), ('triplet',), ('fast_rhythm',), ('no skills',), ('no skills',), ('up_steping',), ('leaping_twisting',), ('no skills',), ('down_leaping',), ('no skills',), ('leaping_twisting',), ('no skills',), ('no skills',), ('up_steping',), ('no skills',), ('up_steping',), ('leaping_twisting',), ('no skills',), ('down_leaping',), ('no skills',), ('up_leaping',), ('no skills',), ('no skills',), ('no skills',), ('no skills',), ('no skills',), ('no skills',), ('no skills',), ('up_steping',), ('no skills',), ('leaping_twisting',), ('up_leaping',), ('staccato',), ('down_leaping',), ('no skills',), ('no skills',), ('fast_rhythm',), ('up_leaping',), ('no skills',), ('no skills',), ('up_steping',), ('staccato',), ('triplet',), ('up_leaping',), ('no skills',), ('no skills',), ('no skills',), ('no skills',), ('no skills',), ('no skills',), ('no skills',), ('up_leaping',), ('no skills',), ('no skills',), ('no skills',), ('repeating',), ('triplet',), ('no skills',), ('staccato',), ('no skills',), ('leaping_twisting',), ('leaping_twisting',), ('up_steping',), ('fast_rhythm',), ('up_leaping',), ('no skills',), ('repeating',), ('no skills',), ('no skills',), ('staccato',), ('down_steping',), ('up_steping',), ('leaping_twisting',), ('no skills',), ('leaping_twisting',), ('triplet',), ('fast_rhythm',), ('no skills',), ('no skills',), ('up_steping',), ('no skills',), ('down_steping',), ('no skills',), ('leaping_twisting',), ('fast_rhythm',), ('leaping_twisting',), ('no skills',), ('up_leaping',), ('no skills',), ('no skills',), ('up_steping',), ('triplet',), ('up_leaping',), ('triplet',), ('no skills',), ('no skills',), ('fast_rhythm',), ('no skills',), ('leaping_twisting',), ('no skills',), ('repeating',), ('no skills',), ('no skills',), ('down_leaping',), ('up_leaping',), ('no skills',), ('repeating',), ('leaping_twisting',), ('no skills',), ('down_leaping',), ('no skills',), ('leaping_twisting',), ('fast_rhythm',), ('no skills',), ('no skills',), ('no skills',), ('no skills',), ('staccato',), ('no skills',), ('leaping_twisting',), ('no skills',), ('no skills',), ('triplet',), ('no skills',), ('no skills',), ('no skills',), ('no skills',), ('no skills',), ('no skills',), ('no skills',), ('no skills',), ('no skills',), ('up_leaping',), ('no skills',), ('staccato',), ('up_steping',), ('no skills',), ('no skills',), ('no skills',), ('no skills',), ('repeating',), ('up_steping',), ('no skills',), ('up_leaping',), ('up_leaping',), ('leaping_twisting',), ('up_steping',), ('no skills',), ('repeating',), ('up_leaping',), ('up_steping',), ('repeating',), ('no skills',), ('One_rhythm',)]\n"
          ],
          "name": "stdout"
        }
      ]
    },
    {
      "cell_type": "code",
      "metadata": {
        "id": "wbnUCrqw9O2P"
      },
      "source": [
        "import numpy\n",
        "from keras.datasets import imdb\n",
        "from keras.models import Sequential\n",
        "from keras.layers import Dense\n",
        "from keras.layers import LSTM\n",
        "from keras.layers import Dropout\n",
        "from keras.layers.embeddings import Embedding\n",
        "from keras.preprocessing import sequence\n",
        "from keras.utils import to_categorical\n",
        "from keras.wrappers.scikit_learn import KerasClassifier\n",
        "from sklearn.model_selection import KFold\n",
        "from sklearn.model_selection import cross_val_score\n",
        "RNNy_test=to_categorical(np.array(RNNy_test))\n",
        "RNNy_train=to_categorical(np.array(RNNy_train))\n",
        "RNN_kfoldy=to_categorical(np.array(RNN_kfoldy))\n",
        "# fix random seed for reproducibility\n",
        "numpy.random.seed(7)\n",
        "top_words=13\n",
        "# truncate and pad input sequences\n",
        "\n",
        "RNNx_train = sequence.pad_sequences(RNNx_train, maxlen=10)\n",
        "RNNx_test = sequence.pad_sequences(RNNx_test, maxlen=10)\n",
        "RNN_kfoldx = sequence.pad_sequences(RNN_kfoldx, maxlen=10)\n"
      ],
      "execution_count": 73,
      "outputs": []
    },
    {
      "cell_type": "code",
      "metadata": {
        "id": "jd4AzRMhPWyj",
        "outputId": "f5325a3b-a4e6-4192-9efd-83078ff597f1",
        "colab": {
          "base_uri": "https://localhost:8080/",
          "height": 34
        }
      },
      "source": [
        "print(RNN_kfoldx.shape, RNN_kfoldy.shape)"
      ],
      "execution_count": 74,
      "outputs": [
        {
          "output_type": "stream",
          "text": [
            "(8214, 10) (8214, 13)\n"
          ],
          "name": "stdout"
        }
      ]
    },
    {
      "cell_type": "code",
      "metadata": {
        "id": "yDIeTYTFewfH"
      },
      "source": [
        "unique, counts = numpy.unique(RNN_kfoldx, return_counts=True)\n",
        "RNN_weight=dict(zip(unique, 5000/counts))"
      ],
      "execution_count": 75,
      "outputs": []
    },
    {
      "cell_type": "code",
      "metadata": {
        "id": "UmiN9lI_fbs7"
      },
      "source": [
        "from keras.callbacks import EarlyStopping, ReduceLROnPlateau, ModelCheckpoint\n",
        "model_path = '/content/drive/My Drive/FLAGNet/models/' + 'RNN.h5'\n",
        "\n",
        "cb_checkpoint = ModelCheckpoint(filepath=model_path, monitor='val_accuracy',\n",
        "                                verbose=1, save_best_only=True)\n",
        "callbacks = [cb_checkpoint]"
      ],
      "execution_count": 76,
      "outputs": []
    },
    {
      "cell_type": "code",
      "metadata": {
        "id": "qtTnECWM9ooa"
      },
      "source": [
        "from keras import regularizers\n",
        "# create the model\n",
        "embedding_vecor_length = 32\n",
        "timesteps = 8\n",
        "\n",
        "RNNmodel = Sequential()\n",
        "RNNmodel.add(Embedding(top_words, embedding_vecor_length, input_length=10))\n",
        "RNNmodel.add(LSTM(100, return_sequences=True,\n",
        "               input_shape=(timesteps, 100)))  # returns a sequence of vectors of dimension 32\n",
        "RNNmodel.add(LSTM(100))  # return a single vector of dimension 32\n",
        "RNNmodel.add(Dropout(0.2))\n",
        "RNNmodel.add(Dense(13, activation='sigmoid', kernel_regularizer=regularizers.l2(0.01)))\n",
        "\n",
        "RNNmodel.compile(loss='categorical_crossentropy', optimizer='adam', metrics=['accuracy'])\n",
        "\n"
      ],
      "execution_count": 77,
      "outputs": []
    },
    {
      "cell_type": "code",
      "metadata": {
        "id": "oztvg4cPAxPW",
        "outputId": "73664a75-e2f1-41e0-b67c-7cbf8156b99f",
        "colab": {
          "base_uri": "https://localhost:8080/",
          "height": 1000
        }
      },
      "source": [
        "kfold = KFold(n_splits=5, shuffle=True, random_state=7)\n",
        "for i in range(3):\n",
        "  for train,valid in kfold.split(RNN_kfoldx,RNN_kfoldy):\n",
        "    RNNmodel.fit(RNN_kfoldx[train],RNN_kfoldy[train], validation_data=(RNN_kfoldx[valid],RNN_kfoldy[valid])\n",
        "    ,epochs=15, batch_size=64,callbacks=callbacks, class_weight='balanced')"
      ],
      "execution_count": 79,
      "outputs": [
        {
          "output_type": "stream",
          "text": [
            "Train on 6571 samples, validate on 1643 samples\n",
            "Epoch 1/5\n",
            "6571/6571 [==============================] - 3s 403us/step - loss: 2.0270 - accuracy: 0.4424 - val_loss: 1.9569 - val_accuracy: 0.4498\n",
            "\n",
            "Epoch 00001: val_accuracy did not improve from 0.44979\n",
            "Epoch 2/5\n",
            "6571/6571 [==============================] - 3s 399us/step - loss: 1.9465 - accuracy: 0.4427 - val_loss: 1.8989 - val_accuracy: 0.4498\n",
            "\n",
            "Epoch 00002: val_accuracy did not improve from 0.44979\n",
            "Epoch 3/5\n",
            "6571/6571 [==============================] - 2s 374us/step - loss: 1.9008 - accuracy: 0.4427 - val_loss: 1.8545 - val_accuracy: 0.4498\n",
            "\n",
            "Epoch 00003: val_accuracy did not improve from 0.44979\n",
            "Epoch 4/5\n",
            "6571/6571 [==============================] - 2s 379us/step - loss: 1.8597 - accuracy: 0.4426 - val_loss: 1.8274 - val_accuracy: 0.4498\n",
            "\n",
            "Epoch 00004: val_accuracy did not improve from 0.44979\n",
            "Epoch 5/5\n",
            "6571/6571 [==============================] - 2s 372us/step - loss: 1.8346 - accuracy: 0.4429 - val_loss: 1.8158 - val_accuracy: 0.4498\n",
            "\n",
            "Epoch 00005: val_accuracy did not improve from 0.44979\n",
            "Train on 6571 samples, validate on 1643 samples\n",
            "Epoch 1/5\n",
            "6571/6571 [==============================] - 2s 373us/step - loss: 1.8137 - accuracy: 0.4426 - val_loss: 1.8052 - val_accuracy: 0.4492\n",
            "\n",
            "Epoch 00001: val_accuracy did not improve from 0.44979\n",
            "Epoch 2/5\n",
            "6571/6571 [==============================] - 2s 373us/step - loss: 1.8027 - accuracy: 0.4439 - val_loss: 1.7992 - val_accuracy: 0.4492\n",
            "\n",
            "Epoch 00002: val_accuracy did not improve from 0.44979\n",
            "Epoch 3/5\n",
            "6571/6571 [==============================] - 2s 376us/step - loss: 1.7919 - accuracy: 0.4430 - val_loss: 1.7964 - val_accuracy: 0.4492\n",
            "\n",
            "Epoch 00003: val_accuracy did not improve from 0.44979\n",
            "Epoch 4/5\n",
            "6571/6571 [==============================] - 2s 374us/step - loss: 1.7857 - accuracy: 0.4450 - val_loss: 1.7935 - val_accuracy: 0.4504\n",
            "\n",
            "Epoch 00004: val_accuracy improved from 0.44979 to 0.45040, saving model to /content/drive/My Drive/models/RNN.h5\n",
            "Epoch 5/5\n",
            "6571/6571 [==============================] - 2s 374us/step - loss: 1.7817 - accuracy: 0.4435 - val_loss: 1.7945 - val_accuracy: 0.4504\n",
            "\n",
            "Epoch 00005: val_accuracy did not improve from 0.45040\n",
            "Train on 6571 samples, validate on 1643 samples\n",
            "Epoch 1/5\n",
            "6571/6571 [==============================] - 2s 374us/step - loss: 1.7803 - accuracy: 0.4477 - val_loss: 1.7706 - val_accuracy: 0.4327\n",
            "\n",
            "Epoch 00001: val_accuracy did not improve from 0.45040\n",
            "Epoch 2/5\n",
            "6571/6571 [==============================] - 2s 370us/step - loss: 1.7742 - accuracy: 0.4477 - val_loss: 1.7611 - val_accuracy: 0.4327\n",
            "\n",
            "Epoch 00002: val_accuracy did not improve from 0.45040\n",
            "Epoch 3/5\n",
            "6571/6571 [==============================] - 2s 374us/step - loss: 1.7715 - accuracy: 0.4477 - val_loss: 1.7666 - val_accuracy: 0.4352\n",
            "\n",
            "Epoch 00003: val_accuracy did not improve from 0.45040\n",
            "Epoch 4/5\n",
            "6571/6571 [==============================] - 2s 376us/step - loss: 1.7688 - accuracy: 0.4485 - val_loss: 1.7621 - val_accuracy: 0.4327\n",
            "\n",
            "Epoch 00004: val_accuracy did not improve from 0.45040\n",
            "Epoch 5/5\n",
            "6571/6571 [==============================] - 2s 376us/step - loss: 1.7621 - accuracy: 0.4488 - val_loss: 1.7596 - val_accuracy: 0.4327\n",
            "\n",
            "Epoch 00005: val_accuracy did not improve from 0.45040\n",
            "Train on 6571 samples, validate on 1643 samples\n",
            "Epoch 1/5\n",
            "6571/6571 [==============================] - 2s 375us/step - loss: 1.7637 - accuracy: 0.4442 - val_loss: 1.7373 - val_accuracy: 0.4431\n",
            "\n",
            "Epoch 00001: val_accuracy did not improve from 0.45040\n",
            "Epoch 2/5\n",
            "6571/6571 [==============================] - 2s 371us/step - loss: 1.7566 - accuracy: 0.4461 - val_loss: 1.7447 - val_accuracy: 0.4431\n",
            "\n",
            "Epoch 00002: val_accuracy did not improve from 0.45040\n",
            "Epoch 3/5\n",
            "6571/6571 [==============================] - 2s 372us/step - loss: 1.7523 - accuracy: 0.4451 - val_loss: 1.7559 - val_accuracy: 0.4431\n",
            "\n",
            "Epoch 00003: val_accuracy did not improve from 0.45040\n",
            "Epoch 4/5\n",
            "6571/6571 [==============================] - 2s 375us/step - loss: 1.7463 - accuracy: 0.4473 - val_loss: 1.7486 - val_accuracy: 0.4437\n",
            "\n",
            "Epoch 00004: val_accuracy did not improve from 0.45040\n",
            "Epoch 5/5\n",
            "6571/6571 [==============================] - 2s 374us/step - loss: 1.7466 - accuracy: 0.4474 - val_loss: 1.7551 - val_accuracy: 0.4431\n",
            "\n",
            "Epoch 00005: val_accuracy did not improve from 0.45040\n",
            "Train on 6572 samples, validate on 1642 samples\n",
            "Epoch 1/5\n",
            "6572/6572 [==============================] - 2s 373us/step - loss: 1.7407 - accuracy: 0.4451 - val_loss: 1.7478 - val_accuracy: 0.4507\n",
            "\n",
            "Epoch 00001: val_accuracy improved from 0.45040 to 0.45067, saving model to /content/drive/My Drive/models/RNN.h5\n",
            "Epoch 2/5\n",
            "6572/6572 [==============================] - 2s 378us/step - loss: 1.7372 - accuracy: 0.4475 - val_loss: 1.7509 - val_accuracy: 0.4507\n",
            "\n",
            "Epoch 00002: val_accuracy did not improve from 0.45067\n",
            "Epoch 3/5\n",
            "6572/6572 [==============================] - 2s 378us/step - loss: 1.7373 - accuracy: 0.4463 - val_loss: 1.7541 - val_accuracy: 0.4488\n",
            "\n",
            "Epoch 00003: val_accuracy did not improve from 0.45067\n",
            "Epoch 4/5\n",
            "6572/6572 [==============================] - 2s 377us/step - loss: 1.7331 - accuracy: 0.4467 - val_loss: 1.7544 - val_accuracy: 0.4458\n",
            "\n",
            "Epoch 00004: val_accuracy did not improve from 0.45067\n",
            "Epoch 5/5\n",
            "6572/6572 [==============================] - 2s 372us/step - loss: 1.7309 - accuracy: 0.4480 - val_loss: 1.7558 - val_accuracy: 0.4482\n",
            "\n",
            "Epoch 00005: val_accuracy did not improve from 0.45067\n",
            "Train on 6571 samples, validate on 1643 samples\n",
            "Epoch 1/5\n",
            "6571/6571 [==============================] - 2s 374us/step - loss: 1.7350 - accuracy: 0.4451 - val_loss: 1.7208 - val_accuracy: 0.4626\n",
            "\n",
            "Epoch 00001: val_accuracy improved from 0.45067 to 0.46257, saving model to /content/drive/My Drive/models/RNN.h5\n",
            "Epoch 2/5\n",
            "6571/6571 [==============================] - 2s 376us/step - loss: 1.7298 - accuracy: 0.4448 - val_loss: 1.7225 - val_accuracy: 0.4504\n",
            "\n",
            "Epoch 00002: val_accuracy did not improve from 0.46257\n",
            "Epoch 3/5\n",
            "6571/6571 [==============================] - 2s 372us/step - loss: 1.7297 - accuracy: 0.4461 - val_loss: 1.7251 - val_accuracy: 0.4534\n",
            "\n",
            "Epoch 00003: val_accuracy did not improve from 0.46257\n",
            "Epoch 4/5\n",
            "6571/6571 [==============================] - 2s 376us/step - loss: 1.7268 - accuracy: 0.4457 - val_loss: 1.7210 - val_accuracy: 0.4510\n",
            "\n",
            "Epoch 00004: val_accuracy did not improve from 0.46257\n",
            "Epoch 5/5\n",
            "6571/6571 [==============================] - 2s 373us/step - loss: 1.7220 - accuracy: 0.4448 - val_loss: 1.7180 - val_accuracy: 0.4601\n",
            "\n",
            "Epoch 00005: val_accuracy did not improve from 0.46257\n",
            "Train on 6571 samples, validate on 1643 samples\n",
            "Epoch 1/5\n",
            "6571/6571 [==============================] - 2s 376us/step - loss: 1.7217 - accuracy: 0.4473 - val_loss: 1.7077 - val_accuracy: 0.4510\n",
            "\n",
            "Epoch 00001: val_accuracy did not improve from 0.46257\n",
            "Epoch 2/5\n",
            "6571/6571 [==============================] - 2s 374us/step - loss: 1.7205 - accuracy: 0.4479 - val_loss: 1.7126 - val_accuracy: 0.4492\n",
            "\n",
            "Epoch 00002: val_accuracy did not improve from 0.46257\n",
            "Epoch 3/5\n",
            "6571/6571 [==============================] - 2s 374us/step - loss: 1.7093 - accuracy: 0.4515 - val_loss: 1.7103 - val_accuracy: 0.4504\n",
            "\n",
            "Epoch 00003: val_accuracy did not improve from 0.46257\n",
            "Epoch 4/5\n",
            "6571/6571 [==============================] - 2s 377us/step - loss: 1.7094 - accuracy: 0.4508 - val_loss: 1.7245 - val_accuracy: 0.4504\n",
            "\n",
            "Epoch 00004: val_accuracy did not improve from 0.46257\n",
            "Epoch 5/5\n",
            "6571/6571 [==============================] - 2s 378us/step - loss: 1.6991 - accuracy: 0.4491 - val_loss: 1.7290 - val_accuracy: 0.4534\n",
            "\n",
            "Epoch 00005: val_accuracy did not improve from 0.46257\n",
            "Train on 6571 samples, validate on 1643 samples\n",
            "Epoch 1/5\n",
            "6571/6571 [==============================] - 2s 375us/step - loss: 1.7101 - accuracy: 0.4515 - val_loss: 1.6908 - val_accuracy: 0.4346\n",
            "\n",
            "Epoch 00001: val_accuracy did not improve from 0.46257\n",
            "Epoch 2/5\n",
            "6571/6571 [==============================] - 2s 375us/step - loss: 1.7041 - accuracy: 0.4517 - val_loss: 1.6824 - val_accuracy: 0.4437\n",
            "\n",
            "Epoch 00002: val_accuracy did not improve from 0.46257\n",
            "Epoch 3/5\n",
            "6571/6571 [==============================] - 2s 374us/step - loss: 1.7002 - accuracy: 0.4511 - val_loss: 1.6903 - val_accuracy: 0.4407\n",
            "\n",
            "Epoch 00003: val_accuracy did not improve from 0.46257\n",
            "Epoch 4/5\n",
            "6571/6571 [==============================] - 2s 380us/step - loss: 1.6929 - accuracy: 0.4497 - val_loss: 1.6930 - val_accuracy: 0.4419\n",
            "\n",
            "Epoch 00004: val_accuracy did not improve from 0.46257\n",
            "Epoch 5/5\n",
            "6571/6571 [==============================] - 2s 376us/step - loss: 1.6872 - accuracy: 0.4535 - val_loss: 1.6960 - val_accuracy: 0.4492\n",
            "\n",
            "Epoch 00005: val_accuracy did not improve from 0.46257\n",
            "Train on 6571 samples, validate on 1643 samples\n",
            "Epoch 1/5\n",
            "6571/6571 [==============================] - 2s 376us/step - loss: 1.6904 - accuracy: 0.4544 - val_loss: 1.6809 - val_accuracy: 0.4504\n",
            "\n",
            "Epoch 00001: val_accuracy did not improve from 0.46257\n",
            "Epoch 2/5\n",
            "6571/6571 [==============================] - 2s 372us/step - loss: 1.6858 - accuracy: 0.4491 - val_loss: 1.6853 - val_accuracy: 0.4534\n",
            "\n",
            "Epoch 00002: val_accuracy did not improve from 0.46257\n",
            "Epoch 3/5\n",
            "6571/6571 [==============================] - 2s 374us/step - loss: 1.6747 - accuracy: 0.4531 - val_loss: 1.6817 - val_accuracy: 0.4528\n",
            "\n",
            "Epoch 00003: val_accuracy did not improve from 0.46257\n",
            "Epoch 4/5\n",
            "6571/6571 [==============================] - 2s 374us/step - loss: 1.6684 - accuracy: 0.4544 - val_loss: 1.6933 - val_accuracy: 0.4528\n",
            "\n",
            "Epoch 00004: val_accuracy did not improve from 0.46257\n",
            "Epoch 5/5\n",
            "6571/6571 [==============================] - 2s 374us/step - loss: 1.6611 - accuracy: 0.4532 - val_loss: 1.6977 - val_accuracy: 0.4540\n",
            "\n",
            "Epoch 00005: val_accuracy did not improve from 0.46257\n",
            "Train on 6572 samples, validate on 1642 samples\n",
            "Epoch 1/5\n",
            "6572/6572 [==============================] - 2s 374us/step - loss: 1.6658 - accuracy: 0.4577 - val_loss: 1.6662 - val_accuracy: 0.4549\n",
            "\n",
            "Epoch 00001: val_accuracy did not improve from 0.46257\n",
            "Epoch 2/5\n",
            "6572/6572 [==============================] - 2s 375us/step - loss: 1.6534 - accuracy: 0.4585 - val_loss: 1.6709 - val_accuracy: 0.4537\n",
            "\n",
            "Epoch 00002: val_accuracy did not improve from 0.46257\n",
            "Epoch 3/5\n",
            "6572/6572 [==============================] - 2s 379us/step - loss: 1.6460 - accuracy: 0.4617 - val_loss: 1.6747 - val_accuracy: 0.4537\n",
            "\n",
            "Epoch 00003: val_accuracy did not improve from 0.46257\n",
            "Epoch 4/5\n",
            "6572/6572 [==============================] - 2s 374us/step - loss: 1.6378 - accuracy: 0.4661 - val_loss: 1.6723 - val_accuracy: 0.4531\n",
            "\n",
            "Epoch 00004: val_accuracy did not improve from 0.46257\n",
            "Epoch 5/5\n",
            "6572/6572 [==============================] - 2s 374us/step - loss: 1.6303 - accuracy: 0.4610 - val_loss: 1.6828 - val_accuracy: 0.4555\n",
            "\n",
            "Epoch 00005: val_accuracy did not improve from 0.46257\n"
          ],
          "name": "stdout"
        }
      ]
    },
    {
      "cell_type": "code",
      "metadata": {
        "id": "upW2vW-k91lu",
        "outputId": "da8598bd-7c49-4b58-be9f-2aaacab1bd46",
        "colab": {
          "base_uri": "https://localhost:8080/",
          "height": 34
        }
      },
      "source": [
        "scores = RNNmodel.evaluate(RNNx_test, RNNy_test, verbose=0)\n",
        "print(\"Accuracy: %.2f%%\" % (scores[1]*100))"
      ],
      "execution_count": 80,
      "outputs": [
        {
          "output_type": "stream",
          "text": [
            "Accuracy: 46.33%\n"
          ],
          "name": "stdout"
        }
      ]
    },
    {
      "cell_type": "code",
      "metadata": {
        "id": "H0nHEDZOYxdL",
        "outputId": "70139e73-5443-442e-83ee-ea020e0d2dcf",
        "colab": {
          "base_uri": "https://localhost:8080/",
          "height": 139
        }
      },
      "source": [
        "print(RNNmodel.predict(RNNx_test))"
      ],
      "execution_count": null,
      "outputs": [
        {
          "output_type": "stream",
          "text": [
            "[[0.00130925 0.0009602  0.07112837 ... 0.00082162 0.11094576 0.00160509]\n",
            " [0.00070426 0.00037897 0.00180325 ... 0.00035512 0.00127909 0.00088072]\n",
            " [0.00172982 0.00029603 0.00328183 ... 0.00078204 0.00404105 0.00267932]\n",
            " ...\n",
            " [0.0026392  0.00056314 0.00132772 ... 0.0003489  0.00247079 0.0087713 ]\n",
            " [0.00103867 0.0003975  0.0084455  ... 0.00119546 0.00739369 0.00166625]\n",
            " [0.00328919 0.00443301 0.00262502 ... 0.01200816 0.00083617 0.01424525]]\n"
          ],
          "name": "stdout"
        }
      ]
    },
    {
      "cell_type": "code",
      "metadata": {
        "id": "Y1Q__y8tCG-a"
      },
      "source": [
        "#Model Loading Only. I don't know why RNN model loading has Nonetype issue...\n",
        "#10000MIDI's Model training time is about 2~3hour. especially long for\n",
        "G = generator_model()\n",
        "G.compile(loss='binary_crossentropy', optimizer=optimizer)\n",
        "G.load_weights(\"/content/drive/My Drive/FLAGNet/PPDDlist/GAN_result/generator.h5\")\n",
        "\n",
        "updown_classifier=make_classifier()\n",
        "updown_classifier.compile(loss=keras.losses.CategoricalCrossentropy(\n",
        "      from_logits=False, label_smoothing=0.1, \n",
        "      name='categorical_crossentropy'\n",
        "  ), optimizer='adam', metrics=['accuracy'])\n",
        "updown_classifier.load_weights(\"/content/drive/My Drive/FLAGNet/models/updown.h5\")\n",
        "\n",
        "classifier=make_model()\n",
        "classifier.compile(loss=keras.losses.BinaryCrossentropy(\n",
        "      from_logits=False, label_smoothing=0.1, \n",
        "      name='binary_crossentropy'\n",
        "  ), optimizer='adam', metrics=['accuracy',recall,precision,f1score])\n",
        "classifier.load_weights(\"/content/drive/My Drive/FLAGNet/models/deeperppddbest.h5\")"
      ],
      "execution_count": null,
      "outputs": []
    },
    {
      "cell_type": "code",
      "metadata": {
        "id": "6htKIS4Lcb7h",
        "outputId": "9c5cf11d-aca7-4340-e4d4-228c15111ceb",
        "colab": {
          "base_uri": "https://localhost:8080/",
          "height": 282
        }
      },
      "source": [
        "import cv2\n",
        "H=generate_images(G,5,3)[0]\n",
        "\n",
        "def matrix_cleaner(matrix,minimum_time):\n",
        "  #matrix should be size of 24*24\n",
        "  #make matrix's value of [0,1]  \n",
        "  matrix=np.matrix(matrix)\n",
        "  maximum_value=matrix.max()\n",
        "  minimum_value=matrix.min()\n",
        "  matrix=(matrix-minimum_value)/(maximum_value-minimum_value)\n",
        "  flat=matrix.flatten()\n",
        "  flat.sort()\n",
        "  flat=flat.reshape((24*minimum_time,1))\n",
        "  hundred_val=flat[-100]\n",
        "  matrix_for_duration=np.where(matrix<0.05,0,matrix)\n",
        "  matrix=np.where(matrix<hundred_val,0,matrix)\n",
        "  matrix=np.where(matrix<1/3,0,matrix)\n",
        "  \n",
        "  return matrix,matrix_for_duration\n",
        "plt.imshow(matrix_cleaner(H,Minimum_time)[0])"
      ],
      "execution_count": 81,
      "outputs": [
        {
          "output_type": "execute_result",
          "data": {
            "text/plain": [
              "<matplotlib.image.AxesImage at 0x7f1f1ecbee48>"
            ]
          },
          "metadata": {
            "tags": []
          },
          "execution_count": 81
        },
        {
          "output_type": "display_data",
          "data": {
            "image/png": "[encoded data removed]",
            "text/plain": [
              "<Figure size 432x288 with 1 Axes>"
            ]
          },
          "metadata": {
            "tags": [],
            "needs_background": "light"
          }
        }
      ]
    },
    {
      "cell_type": "code",
      "metadata": {
        "id": "lRSy54CpFDz0",
        "outputId": "5eafff11-c433-4adc-bf86-4f324ddfb7f9",
        "colab": {
          "base_uri": "https://localhost:8080/",
          "height": 265
        }
      },
      "source": [
        "import numpy as np\n",
        "from scipy.ndimage.filters import maximum_filter\n",
        "from scipy.ndimage.morphology import generate_binary_structure, binary_erosion\n",
        "import matplotlib.pyplot as pp\n",
        "\n",
        "#getting a list of images\n",
        "\n",
        "paws = [matrix_cleaner(H,Minimum_time)[0]]\n",
        "\n",
        "\n",
        "def detect_peaks(image):\n",
        "    \"\"\"\n",
        "    Takes an image and detect the peaks usingthe local maximum filter.\n",
        "    Returns a boolean mask of the peaks (i.e. 1 when\n",
        "    the pixel's value is the neighborhood maximum, 0 otherwise)\n",
        "    \"\"\"\n",
        "\n",
        "    # define an 8-connected neighborhood\n",
        "    neighborhood = generate_binary_structure(2,2)\n",
        "\n",
        "    #apply the local maximum filter; all pixel of maximal value \n",
        "    #in their neighborhood are set to 1\n",
        "    local_max = maximum_filter(image, footprint=neighborhood)==image\n",
        "    #local_max is a mask that contains the peaks we are \n",
        "    #looking for, but also the background.\n",
        "    #In order to isolate the peaks we must remove the background from the mask.\n",
        "\n",
        "    #we create the mask of the background\n",
        "    background = (image==0)\n",
        "\n",
        "    #a little technicality: we must erode the background in order to \n",
        "    #successfully subtract it form local_max, otherwise a line will \n",
        "    #appear along the background border (artifact of the local maximum filter)\n",
        "    eroded_background = binary_erosion(background, structure=neighborhood, border_value=1)\n",
        "\n",
        "    #we obtain the final mask, containing only peaks, \n",
        "    #by removing the background from the local_max mask (xor operation)\n",
        "    detected_peaks = local_max ^ eroded_background\n",
        "    detected_peaks=np.where(detected_peaks==True,1,0)\n",
        "\n",
        "    return detected_peaks\n",
        "\n",
        "\n",
        "#applying the detection and plotting results\n",
        "for i, paw in enumerate(paws):\n",
        "    detected_peaks = detect_peaks(paw)\n",
        "    pp.subplot(1,2,(2*i+1))\n",
        "    pp.imshow(paw)\n",
        "    pp.subplot(1,2,(2*i+2) )\n",
        "    pp.imshow(detected_peaks)\n",
        "\n",
        "pp.show()"
      ],
      "execution_count": 82,
      "outputs": [
        {
          "output_type": "display_data",
          "data": {
            "image/png": "[encoded data removed]",
            "text/plain": [
              "<Figure size 432x288 with 2 Axes>"
            ]
          },
          "metadata": {
            "tags": [],
            "needs_background": "light"
          }
        }
      ]
    },
    {
      "cell_type": "code",
      "metadata": {
        "id": "bPVdL9UXO-0h",
        "outputId": "36ca24ed-5489-4180-ad1c-fece8fe6661b",
        "colab": {
          "base_uri": "https://localhost:8080/",
          "height": 300
        }
      },
      "source": [
        "def left_shifting(matrix,detected_peak,minimum_time):\n",
        "  dots=[]\n",
        "  times=[]\n",
        "  \"\"\"\n",
        "  for i in range(len(detected_peak[0])):\n",
        "    for j in range(len(detected_peak)):\n",
        "      if(detected_peak[j][i]==1):\n",
        "        if(i%2!=0 and i%3!=0):#this code can shift Offbeats like 5/24, 7/24 to 4/24, 6/24, \n",
        "          detected_peak[j][i]=0\n",
        "          detected_peak[j][i-1]=1\n",
        "  \"\"\"\n",
        "  for i in range(len(detected_peak[0])):\n",
        "    for j in range(len(detected_peak)):\n",
        "      pos=[]\n",
        "      a=0\n",
        "      if(detected_peak[j][i]==1):  \n",
        "        pos=[j,i]\n",
        "      if(len(pos)!=0):\n",
        "        dots.append(pos)\n",
        "        times.append(i)\n",
        "  dots_with_length=[]\n",
        "  starting_points=[]\n",
        "  durations=[]\n",
        "  velocities=[]\n",
        "  for i,position in enumerate(dots):\n",
        "    velocity=matrix[1][position[0]][position[1]]\n",
        "    if(position[1]!=0):\n",
        "      if(velocity<matrix[1][position[0]][position[1]-1]):\n",
        "        velocity=matrix[1][position[0]][position[1]-1] #for handling shifted notes\n",
        "        #Note that matrix[1][position[0]][position[1]>matrix[1][position[0]][position[1]-1] for all none-shifted notes since\n",
        "        #peak notes selected by local maximum neighboorhood.\n",
        "    velocities.append(velocity)\n",
        "    length_val=0\n",
        "    while True:\n",
        "      if(length_val==0):\n",
        "        starting_points.append([position[0],position[1]])\n",
        "      else:\n",
        "        if(position[1]+length_val>minimum_time-1):\n",
        "          break\n",
        "        if(detected_peak[position[0]][position[1]+length_val]!=0):\n",
        "          break\n",
        "      if(position[1]+length_val>minimum_time-1):\n",
        "        break\n",
        "      elif(matrix[1][position[0]][position[1]+length_val]!=0):\n",
        "        dots_with_length.append([position[0],position[1]+length_val])\n",
        "        times.append(position[1]+length_val)\n",
        "      else:\n",
        "        break\n",
        "      length_val+=1\n",
        "\n",
        "    while True:\n",
        "      if(position[1]+length_val not in times and position[1]+length_val<minimum_time):\n",
        "        dots_with_length.append([position[0],position[1]+length_val])\n",
        "        times.append(position[1]+length_val)\n",
        "        length_val+=1   \n",
        "      else:\n",
        "        break\n",
        "    durations.append(length_val)\n",
        "  result=np.zeros_like(matrix[0])\n",
        "  for position in dots_with_length:\n",
        "    result[position[0]][position[1]]=1\n",
        "  return result,np.array(starting_points),np.array(durations),np.array(velocities)\n",
        "\n",
        "paws = [matrix_cleaner(H,Minimum_time)[0]]\n",
        "detected_peaks = detect_peaks(paws[0])\n",
        "fig = plt.figure()\n",
        "ax1 = fig.add_subplot(1, 3, 1)\n",
        "ax1.imshow(H.reshape(24,Minimum_time))\n",
        "ax1.set_title('H')\n",
        "ax1.axis(\"off\")\n",
        " \n",
        "ax3 = fig.add_subplot(1, 3, 2)\n",
        "ax3.imshow(paws[0].reshape(24,Minimum_time))\n",
        "ax3.set_title('Cleaned H')\n",
        "ax3.axis(\"off\")\n",
        "\n",
        "ax2 = fig.add_subplot(1, 3, 3)\n",
        "ax2.imshow(detect_peaks(matrix_cleaner(H,Minimum_time)[0]))\n",
        "ax2.set_title('detected_peaks')\n",
        "ax2.axis(\"off\")\n",
        "#plt.imshow(left_shifting(matrix_cleaner(H),detect_peaks(matrix_cleaner(H)[0]))[0])\n",
        "\n",
        "print(\n",
        "    left_shifting(matrix_cleaner(H,Minimum_time),detected_peaks,Minimum_time)[1],\n",
        "      left_shifting(matrix_cleaner(H,Minimum_time),detected_peaks,Minimum_time)[2],\n",
        "      left_shifting(matrix_cleaner(H,Minimum_time),detected_peaks,Minimum_time)[3])"
      ],
      "execution_count": 83,
      "outputs": [
        {
          "output_type": "stream",
          "text": [
            "[[18  1]\n",
            " [18  3]\n",
            " [21  6]\n",
            " [23  9]\n",
            " [23 11]\n",
            " [23 13]] [2 3 3 2 2 3] [0.71056306 0.8541898  0.7212556  1.         0.6921334  0.5326671 ]\n"
          ],
          "name": "stdout"
        },
        {
          "output_type": "display_data",
          "data": {
            "image/png": "[encoded data removed]",
            "text/plain": [
              "<Figure size 432x288 with 3 Axes>"
            ]
          },
          "metadata": {
            "tags": [],
            "needs_background": "light"
          }
        }
      ]
    },
    {
      "cell_type": "code",
      "metadata": {
        "id": "7hmNRrgvCTpe"
      },
      "source": [
        "import random\n",
        "C_chord=np.array([1,0,1,0,1,1,0,1,0,1,0,1])\n",
        "I_chord=np.array([1,0,0,0,1,0,0,1,0,0,0,0])\n",
        "V_chord=np.array([0,0,1,0,0,0,0,1,0,0,0,1])\n",
        "vi_chord=np.array([1,0,0,0,1,0,0,0,0,1,0,0])\n",
        "IV_chord=np.array([1,0,0,0,0,1,0,0,0,1,0,0])\n",
        "iii_chord=np.array([0,0,0,0,1,0,0,1,0,0,0,1])\n",
        "ii_chord=np.array([0,0,1,0,0,1,0,0,0,1,0,0])\n",
        "C_chords=np.array([I_chord,V_chord,vi_chord,IV_chord,iii_chord,ii_chord])\n",
        "\n",
        "chords=['C','C#','D','D#','E','F','F#','G','G#','A','A#','B']\n",
        "def chord_matching(shifted_matrix,chord,last_pitch,direction,with_chords=False):\n",
        "  selected_chords=None\n",
        "  before_matrix=shifted_matrix[0]\n",
        "  before_pitch=last_pitch\n",
        "  if (last_pitch<50):\n",
        "    direction=1\n",
        "  if (last_pitch>85):\n",
        "    direction=0\n",
        "  if chord not in chords:\n",
        "    now_chord='C'\n",
        "  now_chord=chord\n",
        "  chord_diff=chords.index(now_chord)\n",
        "  now_chord_list=np.roll(C_chord,chord_diff)#[1,0,1,0,1...]\n",
        "  now_chords=[]\n",
        "  for chord in C_chords:\n",
        "    now_chords.append(np.roll(chord,chord_diff))\n",
        "  pitch_set=[]\n",
        "  for pitchs in shifted_matrix[1]:\n",
        "    pitch_set.append(23-pitchs[0])\n",
        "  pitch_set=pitch_set-pitch_set[0]#ex)0, 10, -1, 0 ,-4, -2\n",
        "  if (direction==1):\n",
        "    possible_set=[]\n",
        "    for i in range(12):\n",
        "      possible_set.append(pitch_set+i+last_pitch)\n",
        "  else:\n",
        "    possible_set=[]\n",
        "    for i in range(12):\n",
        "      possible_set.append(pitch_set-i+last_pitch)\n",
        "  possible_set_score=[]\n",
        "  if (with_chords):\n",
        "    selected_chords=random.choice(now_chords)\n",
        "    for sets in possible_set:\n",
        "      score=0\n",
        "      for pitchs in sets:\n",
        "        score+=selected_chords[pitchs%12]\n",
        "      possible_set_score.append(score)\n",
        "    final_set=possible_set[np.argmax(possible_set_score)]\n",
        "    return_val=[]\n",
        "  else:\n",
        "    for sets in possible_set:\n",
        "      score=0\n",
        "      for pitchs in sets:\n",
        "        score+=now_chord_list[pitchs%12]\n",
        "      possible_set_score.append(score)\n",
        "    final_set=possible_set[np.argmax(possible_set_score)]\n",
        "    return_val=[]\n",
        "  for i,sets in enumerate(final_set):\n",
        "    if (before_pitch-sets<-12):\n",
        "      sets=sets-12\n",
        "    if (before_pitch-sets>12):\n",
        "      sets=sets+12               #For prevent pitch change above 1 Octave.\n",
        "    if(now_chord_list[sets%12]==1): #Use only \n",
        "      final=[]\n",
        "      if (shifted_matrix[2][i]!=0):\n",
        "        final.append(sets)#pitch\n",
        "        final.append(shifted_matrix[1][i][1])\n",
        "        final.append(shifted_matrix[2][i])\n",
        "        final.append(shifted_matrix[3][i])\n",
        "        return_val.append(final)\n",
        "    else:\n",
        "      final=[]\n",
        "      if (shifted_matrix[2][i]!=0):\n",
        "        final.append(sets)#pitch shifting for notes that not matches with chord scale. If you want to use these type of notes, just remove -1 in sets-1.\n",
        "        final.append(shifted_matrix[1][i][1])\n",
        "        final.append(shifted_matrix[2][i])\n",
        "        final.append(shifted_matrix[3][i])\n",
        "        return_val.append(final)\n",
        "    before_pitch=sets\n",
        "  return return_val, sets,selected_chords#final pitch\n"
      ],
      "execution_count": 84,
      "outputs": []
    },
    {
      "cell_type": "code",
      "metadata": {
        "id": "7chdoz0aQzCm",
        "outputId": "7fa1af69-0a1a-4457-c4d3-182171064799",
        "colab": {
          "base_uri": "https://localhost:8080/",
          "height": 34
        }
      },
      "source": [
        "shifted=left_shifting(matrix_cleaner(H,Minimum_time),detect_peaks(matrix_cleaner(H,Minimum_time)[0]),Minimum_time)\n",
        "print(chord_matching(shifted,'C',48,1))"
      ],
      "execution_count": 85,
      "outputs": [
        {
          "output_type": "stream",
          "text": [
            "([[48, 1, 2, 0.71056306], [48, 3, 3, 0.8541898], [45, 6, 3, 0.7212556], [43, 9, 2, 1.0], [43, 11, 2, 0.6921334], [43, 13, 3, 0.5326671]], 43, None)\n"
          ],
          "name": "stdout"
        }
      ]
    },
    {
      "cell_type": "code",
      "metadata": {
        "id": "Sf-UJL5SarLZ"
      },
      "source": [
        "np.random.seed(7)\n",
        "def generation_info(start_skill,length,chord,minimum_time,RNNmodel,updown_classifier,with_chords=False):\n",
        "  infos=[]\n",
        "  H=generate_images(G,1,start_skill)\n",
        "  chord_sequence=[]\n",
        "  shifted=left_shifting(matrix_cleaner(H,minimum_time),detect_peaks(matrix_cleaner(H,minimum_time)[0]),minimum_time)\n",
        "  Chord_Match=chord_matching(shifted,chord,48,1,with_chords=True)\n",
        "  infos.append(Chord_Match[0])\n",
        "  chord_sequence.append(Chord_Match[2])\n",
        "  last_pitch=Chord_Match[1]\n",
        "\n",
        "  feature_seq=[]\n",
        "  feature_seq.append(start_skill+1)\n",
        "  feature_seq_pad=sequence.pad_sequences(np.array([feature_seq]),maxlen=10)\n",
        "  prediction=RNNmodel.predict(feature_seq_pad)\n",
        "  prediction[0][start_skill]=prediction[0][start_skill]/3\n",
        "  prediction[0][6]=0#no skills\n",
        "  if(minimum_time%3!=0):\n",
        "    prediction[0][10]=0 # triplet skill, if minimum_time%3 is not 0, then generator can't handle any triplet notes.\n",
        "  updown_prediction=updown_classifier.predict(shifted[0].reshape(1,24,minimum_time,1))\n",
        "  if(updown_prediction[0][0]>=updown_prediction[0][1]):\n",
        "    updown_prediction=1\n",
        "  else:\n",
        "    updown_prediction=0\n",
        "  prob=prediction/prediction.sum()\n",
        "  next_skill=np.random.choice(\n",
        "      np.arange(13),\n",
        "      p=prob[0]\n",
        "  )\n",
        "  for i in range(length-1):\n",
        "    #print(i+2,'th bar\\'s generated skill is ',next_skill)\n",
        "    H=generate_images(G,1,next_skill)\n",
        "    shifted=left_shifting(matrix_cleaner(H,minimum_time),detect_peaks(matrix_cleaner(H,minimum_time)[0]),minimum_time)\n",
        "    Chord_Match=chord_matching(shifted,chord,last_pitch,updown_prediction,with_chords=True)\n",
        "    infos.append(Chord_Match[0])\n",
        "    chord_sequence.append(Chord_Match[2])\n",
        "    feature_seq.append(next_skill+1)\n",
        "    feature_seq_pad=sequence.pad_sequences(np.array([feature_seq]),maxlen=10)\n",
        "    prediction=RNNmodel.predict(feature_seq_pad)\n",
        "    prediction[0][next_skill]=prediction[0][next_skill]/3\n",
        "    prediction[0]=prediction[0]+prediction.sum()/20 # for more variation.\n",
        "    prediction[0][6]=0#6 is no skill\n",
        "    updown_prediction=updown_classifier.predict(shifted[0].reshape(1,24,minimum_time,1))\n",
        "    if(updown_prediction[0][0]>=updown_prediction[0][1]):\n",
        "      updown_prediction=1\n",
        "    else:\n",
        "      updown_prediction=0\n",
        "    prob=prediction/prediction.sum()\n",
        "    next_skill=np.random.choice(\n",
        "        np.arange(13),\n",
        "        p=prob[0]\n",
        "    )\n",
        "  return infos,chord_sequence"
      ],
      "execution_count": 86,
      "outputs": []
    },
    {
      "cell_type": "code",
      "metadata": {
        "id": "OORpc3qu1FXb",
        "outputId": "d2f7a27c-05f1-441a-b0b9-80161f9ad613",
        "colab": {
          "base_uri": "https://localhost:8080/",
          "height": 87
        }
      },
      "source": [
        "final_list=generation_info(0,16,'C',Minimum_time,RNNmodel,updown_classifier,with_chords=True)\n",
        "\"\"\"\n",
        "generation_info(final_skill, length, chord)\n",
        "\n",
        "final_skill should be 0~12. It matches with\n",
        "['One_rhythm' 'continuing_rhythm' 'down_leaping' 'down_steping'\n",
        " 'fast_rhythm' 'leaping_twisting' 'no skills' 'resting' 'staccato'\n",
        " 'steping_twisting' 'triplet' 'up_leaping' 'up_steping'].\n",
        " length is the bar number of song generation.\n",
        " chord should be string, 'C', 'C#', 'D' ...\n",
        " major and minor chord is not considered now.\n",
        " but maybe I can handle with making all class as two type. ex)(major One_rhythm, minor One_rhythm..)\n",
        "\"\"\""
      ],
      "execution_count": 87,
      "outputs": [
        {
          "output_type": "execute_result",
          "data": {
            "application/vnd.google.colaboratory.intrinsic+json": {
              "type": "string"
            },
            "text/plain": [
              "\"\\ngeneration_info(final_skill, length, chord)\\n\\nfinal_skill should be 0~12. It matches with\\n['One_rhythm' 'continuing_rhythm' 'down_leaping' 'down_steping'\\n 'fast_rhythm' 'leaping_twisting' 'no skills' 'resting' 'staccato'\\n 'steping_twisting' 'triplet' 'up_leaping' 'up_steping'].\\n length is the bar number of song generation.\\n chord should be string, 'C', 'C#', 'D' ...\\n major and minor chord is not considered now.\\n but maybe I can handle with making all class as two type. ex)(major One_rhythm, minor One_rhythm..)\\n\""
            ]
          },
          "metadata": {
            "tags": []
          },
          "execution_count": 87
        }
      ]
    },
    {
      "cell_type": "code",
      "metadata": {
        "id": "yYOmVKrb5vpM",
        "outputId": "eb90adaa-73f5-42e7-e44b-617764f00d9e",
        "colab": {
          "base_uri": "https://localhost:8080/",
          "height": 72
        }
      },
      "source": [
        "for i in final_list:\n",
        "  print(i)"
      ],
      "execution_count": 88,
      "outputs": [
        {
          "output_type": "stream",
          "text": [
            "[[[48, 0, 5, 0.50889003], [50, 5, 2, 0.70189404], [48, 7, 4, 0.8061541], [50, 11, 2, 0.9901683], [48, 13, 3, 1.0]], [[49, 0, 3, 0.9802175], [52, 3, 3, 1.0], [60, 6, 6, 0.7514029], [53, 12, 4, 0.53860646]], [[49, 2, 8, 0.44577947], [37, 2, 2, 0.6503194], [47, 10, 2, 0.73930097], [59, 12, 4, 1.0]], [[50, 2, 7, 0.794205], [52, 9, 2, 0.7810925], [50, 10, 2, 0.7527082], [52, 11, 1, 0.8296506], [62, 12, 4, 1.0]], [[52, 8, 5, 0.9768082], [54, 11, 1, 0.46897942], [52, 13, 3, 1.0]], [[48, 2, 2, 1.0], [48, 4, 3, 0.9752973], [48, 7, 2, 0.9619422], [48, 9, 5, 0.88209844], [48, 14, 2, 0.712121]], [[55, 3, 1, 0.8424694], [57, 4, 1, 0.6168135], [60, 5, 11, 0.88887095], [67, 6, 2, 1.0]], [[48, 1, 6, 1.0], [47, 7, 1, 0.7530258], [49, 8, 8, 0.46864167]], [[48, 0, 5, 0.54128724], [50, 5, 2, 0.94251746], [48, 7, 4, 0.86423033], [50, 11, 2, 0.9846611], [48, 13, 3, 1.0]], [[53, 0, 2, 0.4341761], [65, 2, 5, 1.0], [61, 7, 1, 0.608987], [57, 8, 6, 0.35339957], [67, 14, 2, 0.7078555]], [[50, 3, 1, 0.5487846], [52, 4, 1, 0.35379013], [55, 5, 11, 1.0]], [[48, 2, 3, 0.8248294], [48, 5, 11, 1.0]], [[50, 5, 2, 0.9227904], [53, 7, 4, 0.86114603], [55, 8, 3, 0.62050176], [55, 11, 5, 1.0], [52, 14, 2, 0.4817804]], [[57, 1, 3, 0.67455953], [57, 4, 2, 0.6966621], [54, 6, 3, 0.84361374], [52, 9, 2, 1.0], [52, 11, 2, 0.718927], [52, 13, 3, 0.5675585]], [[55, 1, 5, 0.6904078], [54, 6, 4, 0.97666097], [54, 10, 4, 1.0], [55, 12, 1, 0.34246704], [52, 14, 2, 0.39734066]], [[57, 1, 7, 1.0], [57, 8, 4, 0.9196193], [57, 12, 4, 0.4073948], [50, 12, 2, 0.7594814]]]\n",
            "[array([1, 0, 0, 0, 1, 0, 0, 0, 0, 1, 0, 0]), array([1, 0, 0, 0, 0, 1, 0, 0, 0, 1, 0, 0]), array([0, 0, 1, 0, 0, 0, 0, 1, 0, 0, 0, 1]), array([0, 0, 1, 0, 0, 1, 0, 0, 0, 1, 0, 0]), array([0, 0, 0, 0, 1, 0, 0, 1, 0, 0, 0, 1]), array([1, 0, 0, 0, 1, 0, 0, 1, 0, 0, 0, 0]), array([1, 0, 0, 0, 1, 0, 0, 1, 0, 0, 0, 0]), array([0, 0, 0, 0, 1, 0, 0, 1, 0, 0, 0, 1]), array([1, 0, 0, 0, 1, 0, 0, 0, 0, 1, 0, 0]), array([0, 0, 1, 0, 0, 1, 0, 0, 0, 1, 0, 0]), array([1, 0, 0, 0, 1, 0, 0, 1, 0, 0, 0, 0]), array([1, 0, 0, 0, 1, 0, 0, 0, 0, 1, 0, 0]), array([0, 0, 0, 0, 1, 0, 0, 1, 0, 0, 0, 1]), array([1, 0, 0, 0, 1, 0, 0, 0, 0, 1, 0, 0]), array([0, 0, 0, 0, 1, 0, 0, 1, 0, 0, 0, 1]), array([0, 0, 1, 0, 0, 1, 0, 0, 0, 1, 0, 0])]\n"
          ],
          "name": "stdout"
        }
      ]
    },
    {
      "cell_type": "code",
      "metadata": {
        "id": "8ZKfyjNENquS",
        "outputId": "65922dd8-3094-43a0-a58f-48595415a171",
        "colab": {
          "base_uri": "https://localhost:8080/",
          "height": 191
        }
      },
      "source": [
        "pip install midiutil"
      ],
      "execution_count": 89,
      "outputs": [
        {
          "output_type": "stream",
          "text": [
            "Collecting midiutil\n",
            "\u001b[?25l  Downloading https://files.pythonhosted.org/packages/f5/44/fde6772d8bfaea64fcf5eb948124d0a5fdf5f848b14ac22a23ced53e562d/MIDIUtil-1.2.1.tar.gz (1.0MB)\n",
            "\r\u001b[K     |▎                               | 10kB 20.0MB/s eta 0:00:01\r\u001b[K     |▋                               | 20kB 5.7MB/s eta 0:00:01\r\u001b[K     |█                               | 30kB 4.7MB/s eta 0:00:01\r\u001b[K     |█▎                              | 40kB 5.8MB/s eta 0:00:01\r\u001b[K     |█▋                              | 51kB 6.2MB/s eta 0:00:01\r\u001b[K     |██                              | 61kB 6.0MB/s eta 0:00:01\r\u001b[K     |██▎                             | 71kB 6.2MB/s eta 0:00:01\r\u001b[K     |██▋                             | 81kB 6.6MB/s eta 0:00:01\r\u001b[K     |███                             | 92kB 6.4MB/s eta 0:00:01\r\u001b[K     |███▎                            | 102kB 6.6MB/s eta 0:00:01\r\u001b[K     |███▋                            | 112kB 6.6MB/s eta 0:00:01\r\u001b[K     |███▉                            | 122kB 6.6MB/s eta 0:00:01\r\u001b[K     |████▏                           | 133kB 6.6MB/s eta 0:00:01\r\u001b[K     |████▌                           | 143kB 6.6MB/s eta 0:00:01\r\u001b[K     |████▉                           | 153kB 6.6MB/s eta 0:00:01\r\u001b[K     |█████▏                          | 163kB 6.6MB/s eta 0:00:01\r\u001b[K     |█████▌                          | 174kB 6.6MB/s eta 0:00:01\r\u001b[K     |█████▉                          | 184kB 6.6MB/s eta 0:00:01\r\u001b[K     |██████▏                         | 194kB 6.6MB/s eta 0:00:01\r\u001b[K     |██████▌                         | 204kB 6.6MB/s eta 0:00:01\r\u001b[K     |██████▉                         | 215kB 6.6MB/s eta 0:00:01\r\u001b[K     |███████▏                        | 225kB 6.6MB/s eta 0:00:01\r\u001b[K     |███████▍                        | 235kB 6.6MB/s eta 0:00:01\r\u001b[K     |███████▊                        | 245kB 6.6MB/s eta 0:00:01\r\u001b[K     |████████                        | 256kB 6.6MB/s eta 0:00:01\r\u001b[K     |████████▍                       | 266kB 6.6MB/s eta 0:00:01\r\u001b[K     |████████▊                       | 276kB 6.6MB/s eta 0:00:01\r\u001b[K     |█████████                       | 286kB 6.6MB/s eta 0:00:01\r\u001b[K     |█████████▍                      | 296kB 6.6MB/s eta 0:00:01\r\u001b[K     |█████████▊                      | 307kB 6.6MB/s eta 0:00:01\r\u001b[K     |██████████                      | 317kB 6.6MB/s eta 0:00:01\r\u001b[K     |██████████▍                     | 327kB 6.6MB/s eta 0:00:01\r\u001b[K     |██████████▊                     | 337kB 6.6MB/s eta 0:00:01\r\u001b[K     |███████████                     | 348kB 6.6MB/s eta 0:00:01\r\u001b[K     |███████████▎                    | 358kB 6.6MB/s eta 0:00:01\r\u001b[K     |███████████▋                    | 368kB 6.6MB/s eta 0:00:01\r\u001b[K     |████████████                    | 378kB 6.6MB/s eta 0:00:01\r\u001b[K     |████████████▎                   | 389kB 6.6MB/s eta 0:00:01\r\u001b[K     |████████████▋                   | 399kB 6.6MB/s eta 0:00:01\r\u001b[K     |█████████████                   | 409kB 6.6MB/s eta 0:00:01\r\u001b[K     |█████████████▎                  | 419kB 6.6MB/s eta 0:00:01\r\u001b[K     |█████████████▋                  | 430kB 6.6MB/s eta 0:00:01\r\u001b[K     |██████████████                  | 440kB 6.6MB/s eta 0:00:01\r\u001b[K     |██████████████▎                 | 450kB 6.6MB/s eta 0:00:01\r\u001b[K     |██████████████▋                 | 460kB 6.6MB/s eta 0:00:01\r\u001b[K     |██████████████▉                 | 471kB 6.6MB/s eta 0:00:01\r\u001b[K     |███████████████▏                | 481kB 6.6MB/s eta 0:00:01\r\u001b[K     |███████████████▌                | 491kB 6.6MB/s eta 0:00:01\r\u001b[K     |███████████████▉                | 501kB 6.6MB/s eta 0:00:01\r\u001b[K     |████████████████▏               | 512kB 6.6MB/s eta 0:00:01\r\u001b[K     |████████████████▌               | 522kB 6.6MB/s eta 0:00:01\r\u001b[K     |████████████████▉               | 532kB 6.6MB/s eta 0:00:01\r\u001b[K     |█████████████████▏              | 542kB 6.6MB/s eta 0:00:01\r\u001b[K     |█████████████████▌              | 552kB 6.6MB/s eta 0:00:01\r\u001b[K     |█████████████████▉              | 563kB 6.6MB/s eta 0:00:01\r\u001b[K     |██████████████████▏             | 573kB 6.6MB/s eta 0:00:01\r\u001b[K     |██████████████████▍             | 583kB 6.6MB/s eta 0:00:01\r\u001b[K     |██████████████████▊             | 593kB 6.6MB/s eta 0:00:01\r\u001b[K     |███████████████████             | 604kB 6.6MB/s eta 0:00:01\r\u001b[K     |███████████████████▍            | 614kB 6.6MB/s eta 0:00:01\r\u001b[K     |███████████████████▊            | 624kB 6.6MB/s eta 0:00:01\r\u001b[K     |████████████████████            | 634kB 6.6MB/s eta 0:00:01\r\u001b[K     |████████████████████▍           | 645kB 6.6MB/s eta 0:00:01\r\u001b[K     |████████████████████▊           | 655kB 6.6MB/s eta 0:00:01\r\u001b[K     |█████████████████████           | 665kB 6.6MB/s eta 0:00:01\r\u001b[K     |█████████████████████▍          | 675kB 6.6MB/s eta 0:00:01\r\u001b[K     |█████████████████████▊          | 686kB 6.6MB/s eta 0:00:01\r\u001b[K     |██████████████████████          | 696kB 6.6MB/s eta 0:00:01\r\u001b[K     |██████████████████████▎         | 706kB 6.6MB/s eta 0:00:01\r\u001b[K     |██████████████████████▋         | 716kB 6.6MB/s eta 0:00:01\r\u001b[K     |███████████████████████         | 727kB 6.6MB/s eta 0:00:01\r\u001b[K     |███████████████████████▎        | 737kB 6.6MB/s eta 0:00:01\r\u001b[K     |███████████████████████▋        | 747kB 6.6MB/s eta 0:00:01\r\u001b[K     |████████████████████████        | 757kB 6.6MB/s eta 0:00:01\r\u001b[K     |████████████████████████▎       | 768kB 6.6MB/s eta 0:00:01\r\u001b[K     |████████████████████████▋       | 778kB 6.6MB/s eta 0:00:01\r\u001b[K     |█████████████████████████       | 788kB 6.6MB/s eta 0:00:01\r\u001b[K     |█████████████████████████▎      | 798kB 6.6MB/s eta 0:00:01\r\u001b[K     |█████████████████████████▋      | 808kB 6.6MB/s eta 0:00:01\r\u001b[K     |█████████████████████████▉      | 819kB 6.6MB/s eta 0:00:01\r\u001b[K     |██████████████████████████▏     | 829kB 6.6MB/s eta 0:00:01\r\u001b[K     |██████████████████████████▌     | 839kB 6.6MB/s eta 0:00:01\r\u001b[K     |██████████████████████████▉     | 849kB 6.6MB/s eta 0:00:01\r\u001b[K     |███████████████████████████▏    | 860kB 6.6MB/s eta 0:00:01\r\u001b[K     |███████████████████████████▌    | 870kB 6.6MB/s eta 0:00:01\r\u001b[K     |███████████████████████████▉    | 880kB 6.6MB/s eta 0:00:01\r\u001b[K     |████████████████████████████▏   | 890kB 6.6MB/s eta 0:00:01\r\u001b[K     |████████████████████████████▌   | 901kB 6.6MB/s eta 0:00:01\r\u001b[K     |████████████████████████████▉   | 911kB 6.6MB/s eta 0:00:01\r\u001b[K     |█████████████████████████████▏  | 921kB 6.6MB/s eta 0:00:01\r\u001b[K     |█████████████████████████████▍  | 931kB 6.6MB/s eta 0:00:01\r\u001b[K     |█████████████████████████████▊  | 942kB 6.6MB/s eta 0:00:01\r\u001b[K     |██████████████████████████████  | 952kB 6.6MB/s eta 0:00:01\r\u001b[K     |██████████████████████████████▍ | 962kB 6.6MB/s eta 0:00:01\r\u001b[K     |██████████████████████████████▊ | 972kB 6.6MB/s eta 0:00:01\r\u001b[K     |███████████████████████████████ | 983kB 6.6MB/s eta 0:00:01\r\u001b[K     |███████████████████████████████▍| 993kB 6.6MB/s eta 0:00:01\r\u001b[K     |███████████████████████████████▊| 1.0MB 6.6MB/s eta 0:00:01\r\u001b[K     |████████████████████████████████| 1.0MB 6.6MB/s \n",
            "\u001b[?25hBuilding wheels for collected packages: midiutil\n",
            "  Building wheel for midiutil (setup.py) ... \u001b[?25l\u001b[?25hdone\n",
            "  Created wheel for midiutil: filename=MIDIUtil-1.2.1-cp36-none-any.whl size=54571 sha256=6ce3329c9eb9e09e151ff1751b6354e425a71a76f582203d9432226b7ef72a34\n",
            "  Stored in directory: /root/.cache/pip/wheels/70/f1/24/97bde012f64820632e1e5e2935df19dfbcf9e058b0734b57cd\n",
            "Successfully built midiutil\n",
            "Installing collected packages: midiutil\n",
            "Successfully installed midiutil-1.2.1\n"
          ],
          "name": "stdout"
        }
      ]
    },
    {
      "cell_type": "code",
      "metadata": {
        "id": "ksTjAaAhKyi1"
      },
      "source": [
        "import midiutil\n",
        "from midiutil.MidiFile import MIDIFile\n",
        "with_chords=True\n",
        "for start_skill in range(13):\n",
        "  for chord in chords:\n",
        "    final_list=generation_info(start_skill,16,chord,Minimum_time,RNNmodel,updown_classifier,with_chords=with_chords)\n",
        "    # create your MIDI object\n",
        "    mf = MIDIFile(1)     # only 1 track\n",
        "    track = 0   # the only track\n",
        "\n",
        "    time = 0    # start at the beginning\n",
        "    mf.addTrackName(track, time, \"Sample Track\")\n",
        "    mf.addTempo(track, time, 120)#1bar per 2second.\n",
        "\n",
        "    # add some notes\n",
        "    channel = 0\n",
        "    used_time=[]\n",
        "    for i,bars in enumerate(final_list[0]):\n",
        "      lowest_pitch=999\n",
        "      for notes in bars:\n",
        "        pitch = notes[0]+12           # My implementation was 48 as C4, but this library think C4 as 60\n",
        "        time = notes[1]/(Minimum_time/4)+i*4             # start on beat 0\n",
        "        duration = notes[2]/(Minimum_time/4)         # 1 beat long\n",
        "        volume= int(notes[3]*100)\n",
        "        if (time not in used_time and duration!=0): #Delete not in used_time for polyphonic rhythm.\n",
        "          mf.addNote(track, channel, pitch, time, duration, volume)\n",
        "          used_time.append(time)\n",
        "          if pitch<lowest_pitch:\n",
        "            lowest_pitch=pitch\n",
        "      if (with_chords is True):\n",
        "        init_pitch=lowest_pitch\n",
        "        chord_idx=np.where(final_list[1][i]==1)\n",
        "        pitch=0\n",
        "        iter=0\n",
        "        pitch_in_chord=[]\n",
        "        while (pitch<init_pitch):\n",
        "          for idx in chord_idx[0]:\n",
        "            pitch=idx+12*iter\n",
        "            if (pitch>=init_pitch):\n",
        "              break\n",
        "            pitch_in_chord.append(pitch)\n",
        "          iter+=1\n",
        "\n",
        "        pitch=pitch_in_chord[len(pitch_in_chord)-1]\n",
        "        time = i*4\n",
        "        duration=4.0\n",
        "        volume=50\n",
        "        mf.addNote(track,channel,pitch,time,duration,volume)\n",
        "        pitch=pitch_in_chord[len(pitch_in_chord)-2]\n",
        "        time = i*4\n",
        "        duration=4.0\n",
        "        volume=50\n",
        "        mf.addNote(track,channel,pitch,time,duration,volume)\n",
        "        pitch=pitch_in_chord[len(pitch_in_chord)-3]\n",
        "        time = i*4\n",
        "        duration=4.0\n",
        "        volume=50\n",
        "        mf.addNote(track,channel,pitch,time,duration,volume)\n",
        "    with open(\"/content/drive/My Drive/MARG/PPDDlist/MIDI_result/output\"+mlb.classes_[start_skill]+chord+\".mid\", 'wb') as outf:\n",
        "      mf.writeFile(outf)\n",
        "      print(mlb.classes_[start_skill]+chord+\"  generate done!\")\n",
        "      #print('info is \\n',final_list)"
      ],
      "execution_count": null,
      "outputs": []
    }
  ]
}