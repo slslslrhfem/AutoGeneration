{
  "nbformat": 4,
  "nbformat_minor": 0,
  "metadata": {
    "colab": {
      "name": "PPDD.ipynb",
      "provenance": [],
      "collapsed_sections": [],
      "machine_shape": "hm",
      "mount_file_id": "1vCXwudXUZpUmzLdlfBoJ0LU7XlCbKpgG",
      "authorship_tag": "ABX9TyOvtDIP8W28LNmtpxpLUeMX",
      "include_colab_link": true
    },
    "kernelspec": {
      "name": "python3",
      "display_name": "Python 3"
    },
    "accelerator": "GPU"
  },
  "cells": [
    {
      "cell_type": "markdown",
      "metadata": {
        "id": "view-in-github",
        "colab_type": "text"
      },
      "source": [
        "<a href=\"https://colab.research.google.com/github/slslslrhfem/AutoGeneration/blob/master/PPDD.ipynb\" target=\"_parent\"><img src=\"https://colab.research.google.com/assets/colab-badge.svg\" alt=\"Open In Colab\"/></a>"
      ]
    },
    {
      "cell_type": "code",
      "metadata": {
        "id": "MxEabHuzyjFE",
        "colab_type": "code",
        "colab": {
          "base_uri": "https://localhost:8080/",
          "height": 104
        },
        "outputId": "cc4f020a-daae-4171-c96a-4df4461efba5"
      },
      "source": [
        "pip install mido"
      ],
      "execution_count": 2,
      "outputs": [
        {
          "output_type": "stream",
          "text": [
            "Collecting mido\n",
            "\u001b[?25l  Downloading https://files.pythonhosted.org/packages/20/0a/81beb587b1ae832ea6a1901dc7c6faa380e8dd154e0a862f0a9f3d2afab9/mido-1.2.9-py2.py3-none-any.whl (52kB)\n",
            "\r\u001b[K     |██████▎                         | 10kB 19.4MB/s eta 0:00:01\r\u001b[K     |████████████▌                   | 20kB 6.6MB/s eta 0:00:01\r\u001b[K     |██████████████████▊             | 30kB 7.1MB/s eta 0:00:01\r\u001b[K     |█████████████████████████       | 40kB 5.6MB/s eta 0:00:01\r\u001b[K     |███████████████████████████████▏| 51kB 5.0MB/s eta 0:00:01\r\u001b[K     |████████████████████████████████| 61kB 3.6MB/s \n",
            "\u001b[?25hInstalling collected packages: mido\n",
            "Successfully installed mido-1.2.9\n"
          ],
          "name": "stdout"
        }
      ]
    },
    {
      "cell_type": "code",
      "metadata": {
        "id": "bJ3x-FF_4XGK",
        "colab_type": "code",
        "colab": {
          "base_uri": "https://localhost:8080/",
          "height": 244
        },
        "outputId": "02789a2c-8bbb-4081-9a6b-117c69de7fac"
      },
      "source": [
        "pip install pretty_midi"
      ],
      "execution_count": 3,
      "outputs": [
        {
          "output_type": "stream",
          "text": [
            "Collecting pretty_midi\n",
            "\u001b[?25l  Downloading https://files.pythonhosted.org/packages/bc/8e/63c6e39a7a64623a9cd6aec530070c70827f6f8f40deec938f323d7b1e15/pretty_midi-0.2.9.tar.gz (5.6MB)\n",
            "\u001b[K     |████████████████████████████████| 5.6MB 7.0MB/s \n",
            "\u001b[?25hRequirement already satisfied: numpy>=1.7.0 in /usr/local/lib/python3.6/dist-packages (from pretty_midi) (1.18.5)\n",
            "Requirement already satisfied: mido>=1.1.16 in /usr/local/lib/python3.6/dist-packages (from pretty_midi) (1.2.9)\n",
            "Requirement already satisfied: six in /usr/local/lib/python3.6/dist-packages (from pretty_midi) (1.15.0)\n",
            "Building wheels for collected packages: pretty-midi\n",
            "  Building wheel for pretty-midi (setup.py) ... \u001b[?25l\u001b[?25hdone\n",
            "  Created wheel for pretty-midi: filename=pretty_midi-0.2.9-cp36-none-any.whl size=5591954 sha256=db47924bea47fbad5d2514098aba616fb9ef6e43f08e2c42b3653a01c3005e8a\n",
            "  Stored in directory: /root/.cache/pip/wheels/4c/a1/c6/b5697841db1112c6e5866d75a6b6bf1bef73b874782556ba66\n",
            "Successfully built pretty-midi\n",
            "Installing collected packages: pretty-midi\n",
            "Successfully installed pretty-midi-0.2.9\n"
          ],
          "name": "stdout"
        }
      ]
    },
    {
      "cell_type": "code",
      "metadata": {
        "id": "5kljETrpXyFX",
        "colab_type": "code",
        "colab": {
          "base_uri": "https://localhost:8080/",
          "height": 944
        },
        "outputId": "e344b29d-940b-4a31-f705-aa5a6918cc16"
      },
      "source": [
        "pip install tensorflow==1.15.0"
      ],
      "execution_count": 4,
      "outputs": [
        {
          "output_type": "stream",
          "text": [
            "Collecting tensorflow==1.15.0\n",
            "\u001b[?25l  Downloading https://files.pythonhosted.org/packages/3f/98/5a99af92fb911d7a88a0005ad55005f35b4c1ba8d75fba02df726cd936e6/tensorflow-1.15.0-cp36-cp36m-manylinux2010_x86_64.whl (412.3MB)\n",
            "\u001b[K     |████████████████████████████████| 412.3MB 38kB/s \n",
            "\u001b[?25hRequirement already satisfied: astor>=0.6.0 in /usr/local/lib/python3.6/dist-packages (from tensorflow==1.15.0) (0.8.1)\n",
            "Requirement already satisfied: grpcio>=1.8.6 in /usr/local/lib/python3.6/dist-packages (from tensorflow==1.15.0) (1.32.0)\n",
            "Requirement already satisfied: wheel>=0.26 in /usr/local/lib/python3.6/dist-packages (from tensorflow==1.15.0) (0.35.1)\n",
            "Requirement already satisfied: wrapt>=1.11.1 in /usr/local/lib/python3.6/dist-packages (from tensorflow==1.15.0) (1.12.1)\n",
            "Collecting gast==0.2.2\n",
            "  Downloading https://files.pythonhosted.org/packages/4e/35/11749bf99b2d4e3cceb4d55ca22590b0d7c2c62b9de38ac4a4a7f4687421/gast-0.2.2.tar.gz\n",
            "Requirement already satisfied: google-pasta>=0.1.6 in /usr/local/lib/python3.6/dist-packages (from tensorflow==1.15.0) (0.2.0)\n",
            "Collecting keras-applications>=1.0.8\n",
            "\u001b[?25l  Downloading https://files.pythonhosted.org/packages/71/e3/19762fdfc62877ae9102edf6342d71b28fbfd9dea3d2f96a882ce099b03f/Keras_Applications-1.0.8-py3-none-any.whl (50kB)\n",
            "\u001b[K     |████████████████████████████████| 51kB 7.0MB/s \n",
            "\u001b[?25hRequirement already satisfied: absl-py>=0.7.0 in /usr/local/lib/python3.6/dist-packages (from tensorflow==1.15.0) (0.10.0)\n",
            "Requirement already satisfied: keras-preprocessing>=1.0.5 in /usr/local/lib/python3.6/dist-packages (from tensorflow==1.15.0) (1.1.2)\n",
            "Requirement already satisfied: numpy<2.0,>=1.16.0 in /usr/local/lib/python3.6/dist-packages (from tensorflow==1.15.0) (1.18.5)\n",
            "Requirement already satisfied: six>=1.10.0 in /usr/local/lib/python3.6/dist-packages (from tensorflow==1.15.0) (1.15.0)\n",
            "Requirement already satisfied: protobuf>=3.6.1 in /usr/local/lib/python3.6/dist-packages (from tensorflow==1.15.0) (3.12.4)\n",
            "Collecting tensorboard<1.16.0,>=1.15.0\n",
            "\u001b[?25l  Downloading https://files.pythonhosted.org/packages/1e/e9/d3d747a97f7188f48aa5eda486907f3b345cd409f0a0850468ba867db246/tensorboard-1.15.0-py3-none-any.whl (3.8MB)\n",
            "\u001b[K     |████████████████████████████████| 3.8MB 49.8MB/s \n",
            "\u001b[?25hCollecting tensorflow-estimator==1.15.1\n",
            "\u001b[?25l  Downloading https://files.pythonhosted.org/packages/de/62/2ee9cd74c9fa2fa450877847ba560b260f5d0fb70ee0595203082dafcc9d/tensorflow_estimator-1.15.1-py2.py3-none-any.whl (503kB)\n",
            "\u001b[K     |████████████████████████████████| 512kB 41.4MB/s \n",
            "\u001b[?25hRequirement already satisfied: termcolor>=1.1.0 in /usr/local/lib/python3.6/dist-packages (from tensorflow==1.15.0) (1.1.0)\n",
            "Requirement already satisfied: opt-einsum>=2.3.2 in /usr/local/lib/python3.6/dist-packages (from tensorflow==1.15.0) (3.3.0)\n",
            "Requirement already satisfied: h5py in /usr/local/lib/python3.6/dist-packages (from keras-applications>=1.0.8->tensorflow==1.15.0) (2.10.0)\n",
            "Requirement already satisfied: setuptools in /usr/local/lib/python3.6/dist-packages (from protobuf>=3.6.1->tensorflow==1.15.0) (50.3.0)\n",
            "Requirement already satisfied: markdown>=2.6.8 in /usr/local/lib/python3.6/dist-packages (from tensorboard<1.16.0,>=1.15.0->tensorflow==1.15.0) (3.2.2)\n",
            "Requirement already satisfied: werkzeug>=0.11.15 in /usr/local/lib/python3.6/dist-packages (from tensorboard<1.16.0,>=1.15.0->tensorflow==1.15.0) (1.0.1)\n",
            "Requirement already satisfied: importlib-metadata; python_version < \"3.8\" in /usr/local/lib/python3.6/dist-packages (from markdown>=2.6.8->tensorboard<1.16.0,>=1.15.0->tensorflow==1.15.0) (1.7.0)\n",
            "Requirement already satisfied: zipp>=0.5 in /usr/local/lib/python3.6/dist-packages (from importlib-metadata; python_version < \"3.8\"->markdown>=2.6.8->tensorboard<1.16.0,>=1.15.0->tensorflow==1.15.0) (3.1.0)\n",
            "Building wheels for collected packages: gast\n",
            "  Building wheel for gast (setup.py) ... \u001b[?25l\u001b[?25hdone\n",
            "  Created wheel for gast: filename=gast-0.2.2-cp36-none-any.whl size=7542 sha256=2ec23dfd03ad7a652fd36d78d2efd3b706a374a0cc033943cd750f0d7bf4040e\n",
            "  Stored in directory: /root/.cache/pip/wheels/5c/2e/7e/a1d4d4fcebe6c381f378ce7743a3ced3699feb89bcfbdadadd\n",
            "Successfully built gast\n",
            "\u001b[31mERROR: tensorflow-probability 0.11.0 has requirement gast>=0.3.2, but you'll have gast 0.2.2 which is incompatible.\u001b[0m\n",
            "Installing collected packages: gast, keras-applications, tensorboard, tensorflow-estimator, tensorflow\n",
            "  Found existing installation: gast 0.3.3\n",
            "    Uninstalling gast-0.3.3:\n",
            "      Successfully uninstalled gast-0.3.3\n",
            "  Found existing installation: tensorboard 2.3.0\n",
            "    Uninstalling tensorboard-2.3.0:\n",
            "      Successfully uninstalled tensorboard-2.3.0\n",
            "  Found existing installation: tensorflow-estimator 2.3.0\n",
            "    Uninstalling tensorflow-estimator-2.3.0:\n",
            "      Successfully uninstalled tensorflow-estimator-2.3.0\n",
            "  Found existing installation: tensorflow 2.3.0\n",
            "    Uninstalling tensorflow-2.3.0:\n",
            "      Successfully uninstalled tensorflow-2.3.0\n",
            "Successfully installed gast-0.2.2 keras-applications-1.0.8 tensorboard-1.15.0 tensorflow-1.15.0 tensorflow-estimator-1.15.1\n"
          ],
          "name": "stdout"
        }
      ]
    },
    {
      "cell_type": "code",
      "metadata": {
        "id": "YP5JOsojTLIE",
        "colab_type": "code",
        "colab": {
          "base_uri": "https://localhost:8080/",
          "height": 278
        },
        "outputId": "d124d0c3-88ae-4a49-eeff-4342f81483b2"
      },
      "source": [
        "pip install keras==2.3.1"
      ],
      "execution_count": 5,
      "outputs": [
        {
          "output_type": "stream",
          "text": [
            "Collecting keras==2.3.1\n",
            "\u001b[?25l  Downloading https://files.pythonhosted.org/packages/ad/fd/6bfe87920d7f4fd475acd28500a42482b6b84479832bdc0fe9e589a60ceb/Keras-2.3.1-py2.py3-none-any.whl (377kB)\n",
            "\r\u001b[K     |▉                               | 10kB 21.4MB/s eta 0:00:01\r\u001b[K     |█▊                              | 20kB 6.3MB/s eta 0:00:01\r\u001b[K     |██▋                             | 30kB 7.7MB/s eta 0:00:01\r\u001b[K     |███▌                            | 40kB 8.4MB/s eta 0:00:01\r\u001b[K     |████▍                           | 51kB 6.9MB/s eta 0:00:01\r\u001b[K     |█████▏                          | 61kB 7.4MB/s eta 0:00:01\r\u001b[K     |██████                          | 71kB 7.9MB/s eta 0:00:01\r\u001b[K     |███████                         | 81kB 8.4MB/s eta 0:00:01\r\u001b[K     |███████▉                        | 92kB 7.9MB/s eta 0:00:01\r\u001b[K     |████████▊                       | 102kB 8.1MB/s eta 0:00:01\r\u001b[K     |█████████▌                      | 112kB 8.1MB/s eta 0:00:01\r\u001b[K     |██████████▍                     | 122kB 8.1MB/s eta 0:00:01\r\u001b[K     |███████████▎                    | 133kB 8.1MB/s eta 0:00:01\r\u001b[K     |████████████▏                   | 143kB 8.1MB/s eta 0:00:01\r\u001b[K     |█████████████                   | 153kB 8.1MB/s eta 0:00:01\r\u001b[K     |█████████████▉                  | 163kB 8.1MB/s eta 0:00:01\r\u001b[K     |██████████████▊                 | 174kB 8.1MB/s eta 0:00:01\r\u001b[K     |███████████████▋                | 184kB 8.1MB/s eta 0:00:01\r\u001b[K     |████████████████▌               | 194kB 8.1MB/s eta 0:00:01\r\u001b[K     |█████████████████▍              | 204kB 8.1MB/s eta 0:00:01\r\u001b[K     |██████████████████▏             | 215kB 8.1MB/s eta 0:00:01\r\u001b[K     |███████████████████             | 225kB 8.1MB/s eta 0:00:01\r\u001b[K     |████████████████████            | 235kB 8.1MB/s eta 0:00:01\r\u001b[K     |████████████████████▉           | 245kB 8.1MB/s eta 0:00:01\r\u001b[K     |█████████████████████▊          | 256kB 8.1MB/s eta 0:00:01\r\u001b[K     |██████████████████████▌         | 266kB 8.1MB/s eta 0:00:01\r\u001b[K     |███████████████████████▍        | 276kB 8.1MB/s eta 0:00:01\r\u001b[K     |████████████████████████▎       | 286kB 8.1MB/s eta 0:00:01\r\u001b[K     |█████████████████████████▏      | 296kB 8.1MB/s eta 0:00:01\r\u001b[K     |██████████████████████████      | 307kB 8.1MB/s eta 0:00:01\r\u001b[K     |██████████████████████████▉     | 317kB 8.1MB/s eta 0:00:01\r\u001b[K     |███████████████████████████▊    | 327kB 8.1MB/s eta 0:00:01\r\u001b[K     |████████████████████████████▋   | 337kB 8.1MB/s eta 0:00:01\r\u001b[K     |█████████████████████████████▌  | 348kB 8.1MB/s eta 0:00:01\r\u001b[K     |██████████████████████████████▍ | 358kB 8.1MB/s eta 0:00:01\r\u001b[K     |███████████████████████████████▏| 368kB 8.1MB/s eta 0:00:01\r\u001b[K     |████████████████████████████████| 378kB 8.1MB/s \n",
            "\u001b[?25hRequirement already satisfied: scipy>=0.14 in /usr/local/lib/python3.6/dist-packages (from keras==2.3.1) (1.4.1)\n",
            "Requirement already satisfied: h5py in /usr/local/lib/python3.6/dist-packages (from keras==2.3.1) (2.10.0)\n",
            "Requirement already satisfied: numpy>=1.9.1 in /usr/local/lib/python3.6/dist-packages (from keras==2.3.1) (1.18.5)\n",
            "Requirement already satisfied: keras-preprocessing>=1.0.5 in /usr/local/lib/python3.6/dist-packages (from keras==2.3.1) (1.1.2)\n",
            "Requirement already satisfied: six>=1.9.0 in /usr/local/lib/python3.6/dist-packages (from keras==2.3.1) (1.15.0)\n",
            "Requirement already satisfied: keras-applications>=1.0.6 in /usr/local/lib/python3.6/dist-packages (from keras==2.3.1) (1.0.8)\n",
            "Requirement already satisfied: pyyaml in /usr/local/lib/python3.6/dist-packages (from keras==2.3.1) (3.13)\n",
            "Installing collected packages: keras\n",
            "  Found existing installation: Keras 2.4.3\n",
            "    Uninstalling Keras-2.4.3:\n",
            "      Successfully uninstalled Keras-2.4.3\n",
            "Successfully installed keras-2.3.1\n"
          ],
          "name": "stdout"
        }
      ]
    },
    {
      "cell_type": "code",
      "metadata": {
        "id": "upkZgrqruxem",
        "colab_type": "code",
        "colab": {
          "base_uri": "https://localhost:8080/",
          "height": 34
        },
        "outputId": "ea8e48a5-3ec0-4309-bf8e-6733183e99d3"
      },
      "source": [
        "import keras\n",
        "import os\n",
        "import json\n",
        "import pandas\n",
        "import tensorflow as tf\n",
        "import numpy as np\n",
        "from keras.layers import Dense\n",
        "from keras import layers\n",
        "from keras import optimizers\n",
        "from keras.models import Sequential\n",
        "import pickle\n",
        "import pretty_midi\n",
        "import mido\n",
        "from tqdm import tqdm\n",
        "import pickle\n",
        "import copy"
      ],
      "execution_count": 6,
      "outputs": [
        {
          "output_type": "stream",
          "text": [
            "Using TensorFlow backend.\n"
          ],
          "name": "stderr"
        }
      ]
    },
    {
      "cell_type": "code",
      "metadata": {
        "id": "KOjmQZTO0TtC",
        "colab_type": "code",
        "colab": {}
      },
      "source": [
        "def get_meta(filename):\n",
        "  with open('/content/drive/My Drive/MARG/PPDD-Sep2018_sym_mono_large/PPDD-Sep2018_sym_mono_large/descriptor/'+filename) as json_file:\n",
        "    meta_data = json.load(json_file)\n",
        "  return meta_data"
      ],
      "execution_count": 7,
      "outputs": []
    },
    {
      "cell_type": "code",
      "metadata": {
        "id": "JdprhNM2Y2qy",
        "colab_type": "code",
        "colab": {
          "base_uri": "https://localhost:8080/",
          "height": 70
        },
        "outputId": "faaf8942-ef4a-40f6-a059-c2743c764140"
      },
      "source": [
        "\"\"\"\n",
        "csvfilenames=os.listdir('/content/drive/My Drive/MARG/PPDD-Sep2018_sym_mono_large/PPDD-Sep2018_sym_mono_large/prime_csv')\n",
        "jsonfilenames=os.listdir('/content/drive/My Drive/MARG/PPDD-Sep2018_sym_mono_large/PPDD-Sep2018_sym_mono_large/descriptor')\n",
        "midifilenames=os.listdir('/content/drive/My Drive/MARG/PPDD-Sep2018_sym_mono_large/PPDD-Sep2018_sym_mono_large/prime_midi')\n",
        "\"\"\""
      ],
      "execution_count": 8,
      "outputs": [
        {
          "output_type": "execute_result",
          "data": {
            "application/vnd.google.colaboratory.intrinsic+json": {
              "type": "string"
            },
            "text/plain": [
              "\"\\ncsvfilenames=os.listdir('/content/drive/My Drive/MARG/PPDD-Sep2018_sym_mono_large/PPDD-Sep2018_sym_mono_large/prime_csv')\\njsonfilenames=os.listdir('/content/drive/My Drive/MARG/PPDD-Sep2018_sym_mono_large/PPDD-Sep2018_sym_mono_large/descriptor')\\nmidifilenames=os.listdir('/content/drive/My Drive/MARG/PPDD-Sep2018_sym_mono_large/PPDD-Sep2018_sym_mono_large/prime_midi')\\n\""
            ]
          },
          "metadata": {
            "tags": []
          },
          "execution_count": 8
        }
      ]
    },
    {
      "cell_type": "code",
      "metadata": {
        "id": "WbkrcibBv3gz",
        "colab_type": "code",
        "colab": {
          "base_uri": "https://localhost:8080/",
          "height": 35
        },
        "outputId": "09ac1cad-941a-4a1b-c618-2f209dd08f4e"
      },
      "source": [
        "\"\"\"\n",
        "midifilenames=sorted(midifilenames)\n",
        "csvfilenames=sorted(csvfilenames)\n",
        "jsonfilenames=sorted(jsonfilenames)\n",
        "\"\"\""
      ],
      "execution_count": 9,
      "outputs": [
        {
          "output_type": "execute_result",
          "data": {
            "application/vnd.google.colaboratory.intrinsic+json": {
              "type": "string"
            },
            "text/plain": [
              "'\\nmidifilenames=sorted(midifilenames)\\ncsvfilenames=sorted(csvfilenames)\\njsonfilenames=sorted(jsonfilenames)\\n'"
            ]
          },
          "metadata": {
            "tags": []
          },
          "execution_count": 9
        }
      ]
    },
    {
      "cell_type": "code",
      "metadata": {
        "id": "0lpgz0bAYHsj",
        "colab_type": "code",
        "colab": {
          "base_uri": "https://localhost:8080/",
          "height": 52
        },
        "outputId": "3c864731-17a7-4373-b3a8-cd73d1d0dae9"
      },
      "source": [
        "\"\"\"\n",
        "with open('/content/drive/My Drive/MARG/PPDDlist/csvnamelist.txt', 'wb') as f:\n",
        "  pickle.dump(csvfilenames, f)\n",
        "with open('/content/drive/My Drive/MARG/PPDDlist/jsonnamelist.txt', 'wb') as f:\n",
        "  pickle.dump(jsonfilenames, f)\n",
        "with open('/content/drive/My Drive/MARG/PPDDlist/midinamelist.txt', 'wb') as f:\n",
        "  pickle.dump(midifilenames, f)\n",
        "\"\"\""
      ],
      "execution_count": 10,
      "outputs": [
        {
          "output_type": "execute_result",
          "data": {
            "application/vnd.google.colaboratory.intrinsic+json": {
              "type": "string"
            },
            "text/plain": [
              "\"\\nwith open('/content/drive/My Drive/MARG/PPDDlist/csvnamelist.txt', 'wb') as f:\\n  pickle.dump(csvfilenames, f)\\nwith open('/content/drive/My Drive/MARG/PPDDlist/jsonnamelist.txt', 'wb') as f:\\n  pickle.dump(jsonfilenames, f)\\nwith open('/content/drive/My Drive/MARG/PPDDlist/midinamelist.txt', 'wb') as f:\\n  pickle.dump(midifilenames, f)\\n\""
            ]
          },
          "metadata": {
            "tags": []
          },
          "execution_count": 10
        }
      ]
    },
    {
      "cell_type": "code",
      "metadata": {
        "id": "JRdFqVW4v_dH",
        "colab_type": "code",
        "colab": {
          "base_uri": "https://localhost:8080/",
          "height": 105
        },
        "outputId": "5e5cb042-6eb1-4cda-ca57-17fd0791e365"
      },
      "source": [
        "\"\"\"\n",
        "import pretty_midi\n",
        "import mido\n",
        "from tqdm import tqdm\n",
        "midilist=[]\n",
        "csvlist=[]\n",
        "jsonlist=[]\n",
        "prettymidilist=[]\n",
        "for filenames in tqdm(midifilenames,position=0):\n",
        "  midi_path='/content/drive/My Drive/MARG/PPDD-Sep2018_sym_mono_large/PPDD-Sep2018_sym_mono_large/prime_midi/'+filenames\n",
        "  mid = mido.MidiFile(midi_path, clip=True)\n",
        "  midilist.append(mid)\n",
        "  prettymid=pretty_midi.PrettyMIDI(midi_path)\n",
        "  prettymidilist.append(prettymid)\n",
        "\n",
        "for filenames in tqdm(csvfilenames,position=0):\n",
        "  csv_path='/content/drive/My Drive/MARG/PPDD-Sep2018_sym_mono_large/PPDD-Sep2018_sym_mono_large/prime_csv/'+filenames\n",
        "  csv = pandas.read_csv(csv_path)\n",
        "  csvlist.append(csv)\n",
        "for filenames in tqdm(jsonfilenames,position=0):\n",
        "  jsonlist.append(get_meta(filenames))\n",
        "\n",
        "#midifilenames와 list들의 순서는 같다고 생각하고 코드 작성\n",
        "\"\"\""
      ],
      "execution_count": 11,
      "outputs": [
        {
          "output_type": "execute_result",
          "data": {
            "application/vnd.google.colaboratory.intrinsic+json": {
              "type": "string"
            },
            "text/plain": [
              "\"\\nimport pretty_midi\\nimport mido\\nfrom tqdm import tqdm\\nmidilist=[]\\ncsvlist=[]\\njsonlist=[]\\nprettymidilist=[]\\nfor filenames in tqdm(midifilenames,position=0):\\n  midi_path='/content/drive/My Drive/MARG/PPDD-Sep2018_sym_mono_large/PPDD-Sep2018_sym_mono_large/prime_midi/'+filenames\\n  mid = mido.MidiFile(midi_path, clip=True)\\n  midilist.append(mid)\\n  prettymid=pretty_midi.PrettyMIDI(midi_path)\\n  prettymidilist.append(prettymid)\\n\\nfor filenames in tqdm(csvfilenames,position=0):\\n  csv_path='/content/drive/My Drive/MARG/PPDD-Sep2018_sym_mono_large/PPDD-Sep2018_sym_mono_large/prime_csv/'+filenames\\n  csv = pandas.read_csv(csv_path)\\n  csvlist.append(csv)\\nfor filenames in tqdm(jsonfilenames,position=0):\\n  jsonlist.append(get_meta(filenames))\\n\\n#midifilenames와 list들의 순서는 같다고 생각하고 코드 작성\\n\""
            ]
          },
          "metadata": {
            "tags": []
          },
          "execution_count": 11
        }
      ]
    },
    {
      "cell_type": "code",
      "metadata": {
        "id": "qrFx5MXLwGgE",
        "colab_type": "code",
        "colab": {
          "base_uri": "https://localhost:8080/",
          "height": 70
        },
        "outputId": "445072c3-39ec-4e79-ca9e-f5126c011121"
      },
      "source": [
        "\"\"\"\n",
        "import pickle\n",
        "with open('/content/drive/My Drive/MARG/PPDDlist/midilist.txt', 'wb') as f:\n",
        "  pickle.dump(midilist, f)\n",
        "with open('/content/drive/My Drive/MARG/PPDDlist/csvlist.txt', 'wb') as f:\n",
        "  pickle.dump(csvlist, f)\n",
        "with open('/content/drive/My Drive/MARG/PPDDlist/jsonlist.txt', 'wb') as f:\n",
        "  pickle.dump(jsonlist, f)\n",
        "with open('/content/drive/My Drive/MARG/PPDDlist/prettymidilist.txt', 'wb') as f:\n",
        "  pickle.dump(prettymidilist, f)\n",
        "\"\"\""
      ],
      "execution_count": 12,
      "outputs": [
        {
          "output_type": "execute_result",
          "data": {
            "application/vnd.google.colaboratory.intrinsic+json": {
              "type": "string"
            },
            "text/plain": [
              "\"\\nimport pickle\\nwith open('/content/drive/My Drive/MARG/PPDDlist/midilist.txt', 'wb') as f:\\n  pickle.dump(midilist, f)\\nwith open('/content/drive/My Drive/MARG/PPDDlist/csvlist.txt', 'wb') as f:\\n  pickle.dump(csvlist, f)\\nwith open('/content/drive/My Drive/MARG/PPDDlist/jsonlist.txt', 'wb') as f:\\n  pickle.dump(jsonlist, f)\\nwith open('/content/drive/My Drive/MARG/PPDDlist/prettymidilist.txt', 'wb') as f:\\n  pickle.dump(prettymidilist, f)\\n\""
            ]
          },
          "metadata": {
            "tags": []
          },
          "execution_count": 12
        }
      ]
    },
    {
      "cell_type": "code",
      "metadata": {
        "id": "QoAxt13seNi-",
        "colab_type": "code",
        "colab": {}
      },
      "source": [
        "\n",
        "with open('/content/drive/My Drive/MARG/PPDDlist/midilist.txt', 'rb') as f:\n",
        "  midilist=pickle.load(f)\n",
        "with open('/content/drive/My Drive/MARG/PPDDlist/csvlist.txt', 'rb') as f2:\n",
        "  csvlist=pickle.load(f2)\n",
        "with open('/content/drive/My Drive/MARG/PPDDlist/jsonlist.txt', 'rb') as f3:\n",
        "  jsonlist=pickle.load(f3)\n",
        "with open('/content/drive/My Drive/MARG/PPDDlist/prettymidilist.txt', 'rb') as f4:\n",
        "  prettymidilist=pickle.load(f4)"
      ],
      "execution_count": 13,
      "outputs": []
    },
    {
      "cell_type": "markdown",
      "metadata": {
        "id": "rOttPVfF_yuk",
        "colab_type": "text"
      },
      "source": [
        "Following code block is using data set with CSV file, but It doesn't works for Large Data set because it has '1.5.1' value. (I don't know why this CSV has this value..)"
      ]
    },
    {
      "cell_type": "code",
      "metadata": {
        "id": "q_pieqXw_Yq0",
        "colab_type": "code",
        "colab": {
          "base_uri": "https://localhost:8080/",
          "height": 105
        },
        "outputId": "d356bf06-ddf8-4d26-d127-8a7422f96da2"
      },
      "source": [
        "#CSV Dataset has problem for large data set.\n",
        "\"\"\"\n",
        "bar_list=[]\n",
        "one_bar_number_list=[]\n",
        "starting_number_list=[]\n",
        "for i,csvs in enumerate(tqdm(csvlist)):\n",
        "  a=np.array([list(map(float,csvs.columns))])#column에도 숫자가 들어가 있어서.. 경우에 따라 조절한다\n",
        "  b=np.array(csvs.values)\n",
        "  csvarray=np.concatenate((a,b),axis=0)\n",
        "  if('timeSignature' not in jsonlist[i]):\n",
        "    jsonlist[i]['timeSignature']=[4,4]\n",
        "  one_bar_number=jsonlist[i]['timeSignature'][0]\n",
        "  bar_number=(csvarray[-1][0]-csvarray[0][0])//one_bar_number+1\n",
        "  bar_info_list=[]\n",
        "  for i in range(int(bar_number)):\n",
        "    starting_bar_time=csvarray[0][0]+i*one_bar_number\n",
        "    bar_info_list.append(csvarray[np.where( (starting_bar_time<=csvarray[:,0]) & (csvarray[:,0]<starting_bar_time+one_bar_number) )])\n",
        "  bar_list.append(bar_info_list)\n",
        "  one_bar_number_list.append(one_bar_number)\n",
        "  starting_number_list.append(csvarray[0][0])\n",
        "\"\"\""
      ],
      "execution_count": 14,
      "outputs": [
        {
          "output_type": "execute_result",
          "data": {
            "application/vnd.google.colaboratory.intrinsic+json": {
              "type": "string"
            },
            "text/plain": [
              "\"\\nbar_list=[]\\none_bar_number_list=[]\\nstarting_number_list=[]\\nfor i,csvs in enumerate(tqdm(csvlist)):\\n  a=np.array([list(map(float,csvs.columns))])#column에도 숫자가 들어가 있어서.. 경우에 따라 조절한다\\n  b=np.array(csvs.values)\\n  csvarray=np.concatenate((a,b),axis=0)\\n  if('timeSignature' not in jsonlist[i]):\\n    jsonlist[i]['timeSignature']=[4,4]\\n  one_bar_number=jsonlist[i]['timeSignature'][0]\\n  bar_number=(csvarray[-1][0]-csvarray[0][0])//one_bar_number+1\\n  bar_info_list=[]\\n  for i in range(int(bar_number)):\\n    starting_bar_time=csvarray[0][0]+i*one_bar_number\\n    bar_info_list.append(csvarray[np.where( (starting_bar_time<=csvarray[:,0]) & (csvarray[:,0]<starting_bar_time+one_bar_number) )])\\n  bar_list.append(bar_info_list)\\n  one_bar_number_list.append(one_bar_number)\\n  starting_number_list.append(csvarray[0][0])\\n\""
            ]
          },
          "metadata": {
            "tags": []
          },
          "execution_count": 14
        }
      ]
    },
    {
      "cell_type": "code",
      "metadata": {
        "id": "IeRQyawg_8tO",
        "colab_type": "code",
        "colab": {}
      },
      "source": [
        "#이게 이제 input을 midi로 받는 코드.\n",
        "bar_list=[]\n",
        "one_bar_number_list=[]\n",
        "starting_number_list=[]\n",
        "for i,songs in enumerate(prettymidilist):#곡마다.\n",
        "  if('timeSignature' not in jsonlist[i]):\n",
        "    jsonlist[i]['timeSignature']=[4,4]\n",
        "  if(jsonlist[i]['timeSignature']!=[4,4]):#여기부터 3줄의 코드를 삭제하면 3박자 등의 data도 고려한다.\n",
        "    pass\n",
        "  else:\n",
        "    for instrument in songs.instruments: #2. 어차피 instrument하나\n",
        "      csvarray=[]\n",
        "      for note in instrument.notes: #3\n",
        "        row=[note.start*2, note.pitch, note.pitch, (note.end - note.start)*2, 0] #*2를 해줘야 제대로 하나의 bar가 하나의 단위가 된다.\n",
        "        csvarray.append(row)\n",
        "    csvarray=np.array(csvarray)\n",
        "    one_bar_number=jsonlist[i]['timeSignature'][0]\n",
        "    bar_number=(csvarray[-1][0]-csvarray[0][0])//one_bar_number+1\n",
        "    bar_info_list=[]\n",
        "    for i in range(int(bar_number)):\n",
        "      starting_bar_time=csvarray[0][0]+i*one_bar_number\n",
        "      bar_info_list.append(csvarray[np.where( (starting_bar_time<=csvarray[:,0]) & (csvarray[:,0]<starting_bar_time+one_bar_number) )])\n",
        "    bar_list.append(bar_info_list)# bar info list가 bar마다 csv내용들 담겨져 있는거다.\n",
        "    one_bar_number_list.append(one_bar_number)\n",
        "    starting_number_list.append(csvarray[0][0])"
      ],
      "execution_count": 15,
      "outputs": []
    },
    {
      "cell_type": "code",
      "metadata": {
        "id": "ioRp4dJDCtUK",
        "colab_type": "code",
        "colab": {
          "base_uri": "https://localhost:8080/",
          "height": 104
        },
        "outputId": "dbb84c63-f2bb-45ae-a0c1-ddd25c75df16"
      },
      "source": [
        "print(bar_list[0][0])#1번째 곡의 1번째 bar.\n",
        "print(jsonlist[0])"
      ],
      "execution_count": 16,
      "outputs": [
        {
          "output_type": "stream",
          "text": [
            "[[ 0.         42.         42.          1.16666667  0.        ]\n",
            " [ 1.5        42.         42.          0.33333333  0.        ]\n",
            " [ 2.         42.         42.          1.16666667  0.        ]\n",
            " [ 3.5        42.         42.          0.33333333  0.        ]]\n",
            "{'id': '0000ee22-8e62-47c3-aca3-49b7999f8cf7', 'idLakh': '86545d15b5b9dda20268c47d827f072d', 'bpm': 145, 'timeSignature': [5, 4], 'keyEstimate': 'C major'}\n"
          ],
          "name": "stdout"
        }
      ]
    },
    {
      "cell_type": "code",
      "metadata": {
        "id": "aK7G2wiA4fgg",
        "colab_type": "code",
        "colab": {}
      },
      "source": [
        "Minimum_time = 16 #This value means we use (Minimum_time)th note for minimum unit. I use 24th note for minimum unit\n",
        "\n",
        "def nearest_time(time,minimum_size):\n",
        "  #혹시나 값이 조금 벗어나는 엇박 음을 가까운 최소단위로 Shifting한다.\n",
        "  #다만 엇박 관련 Skill Detecting을 따로 고려할시 코드를 수정할 수 있다.\n",
        "  num_to_multiply=time/minimum_size\n",
        "  num_to_multiply=int(num_to_multiply)\n",
        "  left_time=num_to_multiply*minimum_size\n",
        "  right_time=left_time+minimum_size\n",
        "  if (time-left_time>=right_time-time):\n",
        "    return right_time\n",
        "  return left_time\n",
        "\n",
        "def bar_to_matrix3(bar,one_bar_number,starting_number,i,minimum_time):\n",
        "  #Duration에 따라 Ploting한다.\n",
        "  #size를 상당히 작게 잡는다.\n",
        "  #8/6박이면 one_bar_number가 8이다. 그러면 바 1개당 무조건 12개 처리하는거로 한다.\n",
        "\n",
        "  init=np.zeros((24,minimum_time))#112는 Note의 수(감으로 써둠.. 나중에 전체 데이터로 할때 수정 가능성 있음 그런데 Shift를 잘 이용하면 96*96도 가능해보임.)\n",
        "  minimum_size=one_bar_number/minimum_time\n",
        "  zero_time=starting_number+one_bar_number*i\n",
        "  min_height=500\n",
        "  for lists in bar:\n",
        "    if min_height>lists[1]:\n",
        "      min_height=lists[1]    \n",
        "  for j,lists in enumerate(bar):\n",
        "    #lists[0]은 시간, lists[1]은 Note 높이, lists[3]은 Duration. \n",
        "    point=int((nearest_time(lists[0],minimum_size)-zero_time)/minimum_size)\n",
        "    length=int(round(lists[3]/minimum_size))\n",
        "    if (length>3):\n",
        "      length=length-1#여러번 두두두 치는 음을 구별하기 위함\n",
        "    if (point+length>minimum_time-1):\n",
        "      length=minimum_time-1-point # 한 음이 2Bar에 걸쳐있는 경우 Bar 뒤쪽의 음을 무시한다.\n",
        "    height=lists[1]-min_height\n",
        "    \"\"\"\n",
        "    while(height>23):\n",
        "      height=height-12 \n",
        "    \"\"\"\n",
        "    if (height<24):#two choices for handling notes that has pitch difference above 23, delete or shifting.  \n",
        "      init[23-int(height)][point:point+length]+=1\n",
        "  return init"
      ],
      "execution_count": 36,
      "outputs": []
    },
    {
      "cell_type": "code",
      "metadata": {
        "id": "t34eVSFIT6M-",
        "colab_type": "code",
        "colab": {}
      },
      "source": [
        "#bar_list to bar_matrix_list\n",
        "#bar_matrix_list=copy.deepcopy(bar_list)\n",
        "#bar_matrix_list2=copy.deepcopy(bar_list)\n",
        "bar_matrix_list3=copy.deepcopy(bar_list)\n",
        "for i,songs in enumerate(bar_matrix_list3):\n",
        "  for j,bar in enumerate(songs):\n",
        "    #print(one_bar_number_list[i],starting_number_list[i])\n",
        "    #matrix=bar_to_matrix1(bar,one_bar_number_list[i],starting_number_list[i],j)\n",
        "    #matrix2=bar_to_matrix2(bar,one_bar_number_list[i],starting_number_list[i],j)\n",
        "    matrix3=bar_to_matrix3(bar,one_bar_number_list[i],starting_number_list[i],j,Minimum_time)\n",
        "    #bar_matrix_list[i][j]=matrix\n",
        "    #bar_matrix_list2[i][j]=matrix2\n",
        "    bar_matrix_list3[i][j]=matrix3"
      ],
      "execution_count": 37,
      "outputs": []
    },
    {
      "cell_type": "code",
      "metadata": {
        "id": "WpTGTGFjOXxW",
        "colab_type": "code",
        "colab": {
          "base_uri": "https://localhost:8080/",
          "height": 282
        },
        "outputId": "b2c3c137-7c8b-477b-99ec-6a85c6236f4c"
      },
      "source": [
        "import matplotlib.pyplot as plt\n",
        "\n",
        "plt.imshow(bar_matrix_list3[2][3])"
      ],
      "execution_count": 38,
      "outputs": [
        {
          "output_type": "execute_result",
          "data": {
            "text/plain": [
              "<matplotlib.image.AxesImage at 0x7f35b07849b0>"
            ]
          },
          "metadata": {
            "tags": []
          },
          "execution_count": 38
        },
        {
          "output_type": "display_data",
          "data": {
            "image/png": "[encoded data removed]",
            "text/plain": [
              "<Figure size 432x288 with 1 Axes>"
            ]
          },
          "metadata": {
            "tags": [],
            "needs_background": "light"
          }
        }
      ]
    },
    {
      "cell_type": "code",
      "metadata": {
        "id": "VJUSzyDlbQ3R",
        "colab_type": "code",
        "colab": {}
      },
      "source": [
        "bar_updown_list=copy.deepcopy(bar_list)\n",
        "for i,songs in enumerate(bar_list):\n",
        "  for j,bar in enumerate(songs):\n",
        "    if (j==len(songs)-1):\n",
        "      updown_label='final'\n",
        "    elif(len(bar_list[i][j])==0 or len(bar_list[i][j+1])==0):\n",
        "      updown_label='meanless'\n",
        "    else:\n",
        "      if(bar_list[i][j][len(bar_list[i][j])-1][1]<=bar_list[i][j+1][0][1]):\n",
        "        updown_label='up'\n",
        "      else:\n",
        "        updown_label='down'\n",
        "    bar_updown_list[i][j]=updown_label"
      ],
      "execution_count": 39,
      "outputs": []
    },
    {
      "cell_type": "code",
      "metadata": {
        "id": "AO6-SYCu29qF",
        "colab_type": "code",
        "colab": {
          "base_uri": "https://localhost:8080/",
          "height": 238
        },
        "outputId": "7f42d787-9fe7-4a33-a9c5-5e4cc444f39e"
      },
      "source": [
        "H = bar_matrix_list3[0][0]\n",
        "\n",
        "fig = plt.figure(figsize=(6, 3.2))\n",
        "\n",
        "ax = fig.add_subplot(111)\n",
        "ax.set_title('colorMap')\n",
        "plt.imshow(H)\n",
        "ax.set_aspect('equal')\n",
        "\n",
        "cax = fig.add_axes([0.12, 0.1, 0.78, 0.8])\n",
        "cax.get_xaxis().set_visible(False)\n",
        "cax.get_yaxis().set_visible(False)\n",
        "cax.patch.set_alpha(0)\n",
        "cax.set_frame_on(False)\n",
        "plt.colorbar(orientation='vertical')\n",
        "plt.show()"
      ],
      "execution_count": 40,
      "outputs": [
        {
          "output_type": "display_data",
          "data": {
            "image/png": "[encoded data removed]",
            "text/plain": [
              "<Figure size 432x230.4 with 3 Axes>"
            ]
          },
          "metadata": {
            "tags": [],
            "needs_background": "light"
          }
        }
      ]
    },
    {
      "cell_type": "code",
      "metadata": {
        "id": "IV-em-Jo4I8H",
        "colab_type": "code",
        "colab": {
          "base_uri": "https://localhost:8080/",
          "height": 208
        },
        "outputId": "806a23c2-46e1-4330-901c-8a85fae8d094"
      },
      "source": [
        "tot=bar_matrix_list3[2]\n",
        "H=bar_matrix_list3[2][0]\n",
        "for i in range(1,len(tot)):\n",
        "  a=bar_matrix_list3[2][i]\n",
        "  H=np.concatenate((H,a),axis=1)\n",
        "  \n",
        "fig = plt.figure(figsize=(30, 3.2))\n",
        "\n",
        "ax = fig.add_subplot(111)\n",
        "ax.set_title('colorMap')\n",
        "plt.imshow(H)\n",
        "ax.set_aspect('equal')\n",
        "\n",
        "cax = fig.add_axes([0.12, 0.1, 0.78, 0.8])\n",
        "cax.get_xaxis().set_visible(False)\n",
        "cax.get_yaxis().set_visible(False)\n",
        "cax.patch.set_alpha(0)\n",
        "cax.set_frame_on(False)\n",
        "plt.colorbar(orientation='vertical')\n",
        "plt.show()\n",
        "#위 for문 없이 돌리면 1 bar만 나옴"
      ],
      "execution_count": 41,
      "outputs": [
        {
          "output_type": "display_data",
          "data": {
            "image/png": "[encoded data removed]",
            "text/plain": [
              "<Figure size 2160x230.4 with 3 Axes>"
            ]
          },
          "metadata": {
            "tags": [],
            "needs_background": "light"
          }
        }
      ]
    },
    {
      "cell_type": "code",
      "metadata": {
        "id": "QhslYmbJdSba",
        "colab_type": "code",
        "colab": {}
      },
      "source": [
        "def bar_to_contour(bar,one_bar_number,starting_number,j):\n",
        "  contour=[]\n",
        "  pitch_change_list=[]\n",
        "  duration_list=[]\n",
        "  real_pitch_list=[]\n",
        "  real_time_list=[]\n",
        "  real_duration_list=[]\n",
        "  now_pitch=1000\n",
        "  first_time=starting_number+one_bar_number*j\n",
        "  a=0\n",
        "  for lists in bar:\n",
        "    if(a!=0): \n",
        "      real_time_list.append(lists[0]-now_rhythm)\n",
        "    now_rhythm=lists[0]\n",
        "    a+=1\n",
        "    if (first_time*1.001<lists[0]):#smoothing for case like first time=5.00001, lists[0]=5.0000..\n",
        "      resting_time=lists[0]-first_time\n",
        "      duration_list.append(resting_time)\n",
        "      first_time=lists[0]\n",
        "      pitch_change_list.append('Rest')\n",
        "    if (now_pitch==1000):\n",
        "      pitch_change_list.append('Starting_Point')\n",
        "      real_pitch_list.append('Starting_Point')\n",
        "      real_duration_list.append(lists[3])\n",
        "      duration_list.append(lists[3])\n",
        "      first_time=first_time+lists[3]\n",
        "      now_pitch=lists[1]\n",
        "      a+=1\n",
        "    else:\n",
        "      pitch_change=lists[1]-now_pitch\n",
        "      pitch_change_list.append(str(pitch_change))#나중에 int로 바꿔쓸 것. 자료형 터지는거 때문에 우선 스트링.\n",
        "      duration_list.append(lists[3])\n",
        "      real_duration_list.append(lists[3])\n",
        "      first_time=first_time+lists[3]\n",
        "      now_pitch=lists[1]\n",
        "      real_pitch_list.append(str(pitch_change))\n",
        "  if (first_time*1.001<starting_number+one_bar_number*(j+1)):\n",
        "    pitch_change_list.append('Rest')#마지막 Rest\n",
        "    duration_list.append(starting_number+one_bar_number*(j+1)-first_time)\n",
        "  if(len(bar)!=0):\n",
        "    real_time_list.append(starting_number+one_bar_number*(j+1)-now_rhythm)\n",
        "  contour.append(pitch_change_list)\n",
        "  contour.append(duration_list)\n",
        "  contour.append(real_pitch_list)\n",
        "  contour.append(real_time_list)\n",
        "  contour.append(real_duration_list)\n",
        "  #something\n",
        "  return contour\n",
        "\n"
      ],
      "execution_count": 42,
      "outputs": []
    },
    {
      "cell_type": "markdown",
      "metadata": {
        "id": "nkt16alDXVFp",
        "colab_type": "text"
      },
      "source": [
        "Plot에서 중요한것은 Y-Axis의 0~112의 숫자가 Note의 반대 성향을 가진다는 것이다.(숫자가 커질수록 Note의 높이가 낮아진다.) 이는 PianoRoll을 이미지 처럼 사용하는 과정에서, 직관적인 학습이 가능하도록 이와 같이 구현한 것이다."
      ]
    },
    {
      "cell_type": "code",
      "metadata": {
        "id": "9DB6np0r4pr0",
        "colab_type": "code",
        "colab": {}
      },
      "source": [
        "bar_contour_list=copy.deepcopy(bar_list)\n",
        "for i,songs in enumerate(bar_list):\n",
        "  for j,bar in enumerate(songs):\n",
        "    contour=bar_to_contour(bar,one_bar_number_list[i],starting_number_list[i],j)\n",
        "    bar_contour_list[i][j]=contour\n"
      ],
      "execution_count": 43,
      "outputs": []
    },
    {
      "cell_type": "markdown",
      "metadata": {
        "id": "FFxmPmNCVpBD",
        "colab_type": "text"
      },
      "source": [
        "bar_contour_list : 중간과정\n",
        "bar_matrix_list2 : 아마 학습에 사용하게 될 Matrix의 List\n",
        "bar_label_list : 학습에 사용하게 될 Label의 List"
      ]
    },
    {
      "cell_type": "code",
      "metadata": {
        "id": "PO49MM20Lth1",
        "colab_type": "code",
        "colab": {
          "base_uri": "https://localhost:8080/",
          "height": 54
        },
        "outputId": "a4a7f00c-a4ec-4d96-8562-67b54bac3e48"
      },
      "source": [
        "print(bar_contour_list[0][0])\n"
      ],
      "execution_count": 44,
      "outputs": [
        {
          "output_type": "stream",
          "text": [
            "[['Starting_Point', 'Rest', '0.0', 'Rest', '0.0', 'Rest', '0.0', 'Rest'], [1.1666666666666665, 0.3333333333333335, 0.33333333333333326, 0.16666666666666674, 1.1666666666666665, 0.3333333333333335, 0.33333333333333304, 0.16666666666666696], ['Starting_Point', '0.0', '0.0', '0.0'], [1.5, 0.5, 1.5, 0.5], [1.1666666666666665, 0.33333333333333326, 1.1666666666666665, 0.33333333333333304]]\n"
          ],
          "name": "stdout"
        }
      ]
    },
    {
      "cell_type": "code",
      "metadata": {
        "id": "cqJXy8Wqv1od",
        "colab_type": "code",
        "colab": {
          "base_uri": "https://localhost:8080/",
          "height": 211
        },
        "outputId": "1a4c5feb-b9fb-4a9b-a822-573fae662c5f"
      },
      "source": [
        "for contours in bar_contour_list[11]:\n",
        "  print(contours)"
      ],
      "execution_count": 45,
      "outputs": [
        {
          "output_type": "stream",
          "text": [
            "[['Starting_Point', 'Rest', '0.0', '-2.0', '-1.0', '1.0', '2.0'], [0.33333333333333326, 0.16666666666666674, 0.5, 0.25, 0.75, 0.5, 1.75], ['Starting_Point', '0.0', '-2.0', '-1.0', '1.0', '2.0'], [0.5, 0.5, 0.25, 0.75, 0.5, 1.5], [0.33333333333333326, 0.5, 0.25, 0.75, 0.5, 1.75]]\n",
            "[['Rest', 'Starting_Point', '-2.0', '-1.0', '-2.0', '0.0', 'Rest', '2.0'], [0.5, 0.5, 0.25, 0.75, 0.5, 0.16666666666666607, 0.8333333333333339, 0.5], ['Starting_Point', '-2.0', '-1.0', '-2.0', '0.0', '2.0'], [0.5, 0.25, 0.75, 0.5, 1.0, 0.5], [0.5, 0.25, 0.75, 0.5, 0.16666666666666607, 0.5]]\n",
            "[['Starting_Point', '-3.0', 'Rest', '0.0'], [2.0, 0.33333333333333215, 0.16666666666666785, 1.5], ['Starting_Point', '-3.0', '0.0'], [2.0, 0.5, 1.5], [2.0, 0.33333333333333215, 1.5]]\n",
            "[['Starting_Point', 'Rest'], [1.5, 2.5], ['Starting_Point'], [4.0], [1.5]]\n",
            "[['Starting_Point', 'Rest', '0.0', '-2.0', '-1.0', '1.0', '2.0', 'Rest'], [0.33333333333333215, 0.16666666666666785, 0.5, 0.25, 0.75, 0.25, 0.1666666666666643, 1.5833333333333357], ['Starting_Point', '0.0', '-2.0', '-1.0', '1.0', '2.0'], [0.5, 0.5, 0.25, 0.75, 0.25, 1.75], [0.33333333333333215, 0.5, 0.25, 0.75, 0.25, 0.1666666666666643]]\n",
            "[['Rest', 'Starting_Point', '-2.0', '-1.0', '-2.0', '0.0', 'Rest', '2.0'], [0.5, 0.5, 0.25, 0.75, 0.5, 0.1666666666666643, 0.8333333333333357, 0.5], ['Starting_Point', '-2.0', '-1.0', '-2.0', '0.0', '2.0'], [0.5, 0.25, 0.75, 0.5, 1.0, 0.5], [0.5, 0.25, 0.75, 0.5, 0.1666666666666643, 0.5]]\n",
            "[['Starting_Point', 'Rest', '0.0', '2.0', '2.0', 'Rest', '1.0'], [1.3333333333333321, 0.16666666666666785, 0.5, 0.5, 0.1666666666666643, 0.8333333333333357, 0.5], ['Starting_Point', '0.0', '2.0', '2.0', '1.0'], [1.5, 0.5, 0.5, 1.0, 0.5], [1.3333333333333321, 0.5, 0.5, 0.1666666666666643, 0.5]]\n",
            "[['Starting_Point', 'Rest', '3.0', '0.0'], [1.5, 1.5, 0.5, 0.5], ['Starting_Point', '3.0', '0.0'], [3.0, 0.5, 0.5], [1.5, 0.5, 0.5]]\n",
            "[['Starting_Point', '2.0', '-2.0', '-1.0', '-2.0'], [0.5, 1.5, 0.5, 0.5, 1.5], ['Starting_Point', '2.0', '-2.0', '-1.0', '-2.0'], [0.5, 1.5, 0.5, 0.5, 1.0], [0.5, 1.5, 0.5, 0.5, 1.5]]\n",
            "[['Rest', 'Starting_Point', 'Rest'], [1.5, 0.5, 2.0], ['Starting_Point'], [2.5], [0.5]]\n"
          ],
          "name": "stdout"
        }
      ]
    },
    {
      "cell_type": "code",
      "metadata": {
        "id": "MThJLfY0V6F2",
        "colab_type": "code",
        "colab": {}
      },
      "source": [
        "#최대한 많고 깔끔한 조건문을 사용하여 Skill들을 정의해볼 것. Multilabel Classification의 가능성이 있다.\n",
        "\"\"\"\n",
        "Skill들의 음악학적인 특성 & 계산적인 특성을 적는 곳\n",
        "'resting' : 포함하는 음이 0 또는 1개인 경우 resting으로 정의. 다른 Skill들은 겹칠 수 있으나 이 skill이 Label될 경우 그냥 resting 고정이다.\n",
        "즉, Skilling Labeling은 'resting'이 아닌 경우에 진행된다.(삭제)\n",
        "'repeating' : 전체 음 중 n% 이상 또는 n개를 제외한 경우가 전부 같은 음일 경우 repeating으로 정의\n",
        "'up_steping' : 전체 음 중 n% 이상 또는 n개를 제외한 경우가 steping up 또는 같은 음, 즉 반음기준 3Note 이하로 상승하는 형태일 경우 up_steping으로 정의\n",
        "'down_steping' : 전체 음 중 n% 이상 또는 n개를 제외한 경우가 steping down 또는 같은 음, 즉 반음기준 3Note 이하로 하강하는 형태일 경우 down_steping으로 정의\n",
        "'up_leaping' : 전체 음 중 n% 이상 또는 n개를 제외한 경우가 leaping up, 즉 반음기준 3Note 이상으로 상승하는 형태일 경우 up_leaping으로 정의\n",
        "'down_leaping' : 전체 음 중 n% 이상 또는 n개를 제외한 경우가 leaping down, 즉 반음기준 3Note 이상으로 하강하는 형태일 경우 down_leaping으로 정의\n",
        "3Note에서 겹치는게 맞다. Multilabel Classification을 고안 중이기 때문.\n",
        "'steping_twisting' : 음이 4개 이상이고, n개를 제외한 경우가 2Note 이하의 상승과 하강을 반복하는 형태일 경우 steping_twisting으로 정의\n",
        "'leaping_twisting' : 음이 4개 이상이고, n개를 제외한 경우가 3Note 이상의 상승과 하강을 반복하는 형태일 경우 leaping_twisting으로 정의\n",
        "'fast_rhythm' : 1 bar 내에 음이 9개 이상인 경우 fast_rhythm으로 정의.\n",
        "'One_rhythm' :  모든 음이 지닌 연주의 real_time, 즉 음이 울리고 다음 음이 나올때 까지의 시간이 같으면 One_rhythm으로 정의\n",
        "'triplet' : real_time기반해서 triplet이 존재하면(Note 3개) triplet으로 정의\n",
        "'Staccato' : real_Duration_Time 기반해서 n% 이상의 음의 Duration이 0.16667(최소단위*4임)보다 작으면(매우 짧으면) Staccato로 정의\n",
        "'continuing_rhythm' : pitch_change_list에서 'Rest'의 비율이 25퍼센트 이하면 continuing_rhythm으로 정의\n",
        "첫 음 제외 실 음의 75%를 기준으로 잡는다.\n",
        "5개 이상의 음이 있다면 1개를 제외하고 전부 조건에 맞아야하고,\n",
        "9개 이상의 음이 있다면 2개를 제외하고 전부 조건에 맞아야하고...\n",
        "4개 이하는 다 맞아야 한다.\n",
        "ex) CDEF -> up_steping, CDED -> None, CDEFD-> up_steping.\n",
        "다만 Leaping에 대해서는 많이 후해질 것 같다. 거의 50%가까이..?  \n",
        "\"\"\"\n",
        "\n",
        "\"\"\"\n",
        "예시로는..\n",
        "contour[0] = ['Starting_Point', 'Rest', '4.0', '1.0', 'Rest', '2.0', 'Rest', '-7.0', 'Rest'] Note pitch의 변화를 쉼표를 포함하여 의미한다.\n",
        "contour[1] = [0.83333, 0.16666999999999987, 0.5, 0.33333, 0.16666999999999987, 0.8333299999999999, 0.16666999999999987, 0.75, 0.25] Duration을 쉼표를 포함하여 의미한다.\n",
        "contour[2] = ['Starting_Point', '4.0', '1.0', '2.0', '-7.0'] note pitch의 변화를 의미한다.\n",
        "contour[3] = [1.0, 0.5, 0.5, 1.0, 1.0] 한 음의 실 연주시간을 의미한다.(다음 음이 나올때 까지의 시간)\n",
        "contour[4] = [0.83333, 0.5, 0.33333, 0.8333299999999999, 0.75] Duration을 의미한다.\n",
        "\"\"\"\n",
        "def is_repeating(contour_list,exception_range):\n",
        "  boolean_repeating=0\n",
        "  non_repeat=0\n",
        "  for elements in contour_list:\n",
        "    if (elements is not 'Starting_Point'):\n",
        "      if(elements != '0.0'):\n",
        "        non_repeat+=1\n",
        "  if (non_repeat<=exception_range):\n",
        "    boolean_repeating=1\n",
        "  return boolean_repeating\n",
        "\n",
        "def is_up_steping(contour_list,exception_range):\n",
        "  balancing_param=1\n",
        "  boolean_up_steping=0\n",
        "  non_step_up=0\n",
        "  now_step_up=0\n",
        "  for elements in contour_list:\n",
        "    if (elements is not 'Starting_Point'):\n",
        "      if (now_step_up==0):\n",
        "        if (float(elements)<0.5 or float(elements)>4.5):\n",
        "          now_step_up=0\n",
        "          non_step_up+=1\n",
        "        else:\n",
        "          now_step_up=1\n",
        "      else:\n",
        "        if(float(elements)<-0.5 or float(elements)>4.5):\n",
        "          now_step_up=0\n",
        "          non_step_up+=1\n",
        "        else:\n",
        "          now_step_up=1\n",
        "  if(non_step_up<=exception_range+balancing_param):\n",
        "    boolean_up_steping=1\n",
        "  return boolean_up_steping\n",
        "\n",
        "def is_down_steping(contour_list,exception_range):\n",
        "  boolean_down_steping=0\n",
        "  balancing_param=0\n",
        "  non_step_down=0\n",
        "  now_step_down=0\n",
        "  for elements in contour_list:\n",
        "    if (elements is not 'Starting_Point'):\n",
        "      if (now_step_down==0):\n",
        "        if (float(elements)>-0.5 or float(elements)<-4.5):\n",
        "          now_step_down=0\n",
        "          non_step_down+=1\n",
        "        else:\n",
        "          now_step_down=1\n",
        "      else:\n",
        "        if(float(elements)>0.5 or float(elements)<-4.5):\n",
        "          now_step_down=0\n",
        "          non_step_down+=1\n",
        "        else:\n",
        "          now_step_down=1\n",
        "  if(non_step_down<=exception_range+balancing_param):\n",
        "    boolean_down_steping=1\n",
        "  return boolean_down_steping\n",
        "\n",
        "def is_up_leaping(contour_list,exception_range):\n",
        "  boolean_up_leaping=0\n",
        "  non_leap_up=0\n",
        "  for elements in contour_list:\n",
        "    if (elements is not 'Starting_Point'):\n",
        "      if (float(elements)<3.5):\n",
        "        non_leap_up+=1\n",
        "  if (non_leap_up<=exception_range+1):\n",
        "    boolean_up_leaping=1\n",
        "  return boolean_up_leaping\n",
        "\n",
        "def is_down_leaping(contour_list,exception_range):\n",
        "  boolean_down_leaping=0\n",
        "  non_leap_down=0\n",
        "  for elements in contour_list:\n",
        "    if (elements is not 'Starting_Point'):\n",
        "      if (float(elements)>-3.5):\n",
        "        non_leap_down+=1\n",
        "  if (non_leap_down<=exception_range+1):\n",
        "    boolean_down_leaping=1\n",
        "  return boolean_down_leaping\n",
        "\n",
        "def is_leaping_twisting(contour_list,exception_range):\n",
        "  boolean_leaping_twisting=0\n",
        "  non_leap_twist=0\n",
        "  balancing_param=1\n",
        "  now_dir=0 #1for up, -1 for down\n",
        "  for elements in contour_list:\n",
        "    if (elements is not 'Starting_Point'):\n",
        "      if (now_dir==0):\n",
        "        if (3.5<float(elements)):\n",
        "          now_dir=1\n",
        "        elif (float(elements) <-3.5):\n",
        "          now_dir=-1\n",
        "        else:\n",
        "          non_leap_twist+=1\n",
        "      elif (now_dir==1):\n",
        "        if (float(elements) <-3.5):\n",
        "          now_dir=-1\n",
        "        else:\n",
        "          now_dir=0\n",
        "          non_leap_twist+=1\n",
        "      elif (now_dir==-1):\n",
        "        if (3.5<float(elements)):\n",
        "          now_dir=1\n",
        "        else:\n",
        "          now_dir=0\n",
        "          non_leap_twist+=1\n",
        "  if(non_leap_twist<=exception_range+balancing_param):\n",
        "    boolean_leaping_twisting=1\n",
        "  return boolean_leaping_twisting\n",
        "\n",
        "def is_steping_twisting(contour_list,exception_range):\n",
        "  boolean_steping_twisting=0\n",
        "  non_step_twist=0\n",
        "  now_dir=0 #1for up, -1 for down\n",
        "  for elements in contour_list:\n",
        "    if (elements is not 'Starting_Point'):\n",
        "      if (now_dir==0):\n",
        "        if (0<float(elements) and float(elements) <2.5):\n",
        "          now_dir=1\n",
        "        elif (-2.5<float(elements) and float(elements) <0):\n",
        "          now_dir=-1\n",
        "        else:\n",
        "          non_step_twist+=1\n",
        "      elif (now_dir==1):\n",
        "        if (-2.5<float(elements) and float(elements) <0):\n",
        "          now_dir=-1\n",
        "        else:\n",
        "          now_dir=0\n",
        "          non_step_twist+=1\n",
        "      elif (now_dir==-1):\n",
        "        if (0<float(elements) and float(elements) <2.5):\n",
        "          now_dir=1\n",
        "        else:\n",
        "          now_dir=0\n",
        "          non_step_twist+=1\n",
        "  if(non_step_twist<=exception_range):\n",
        "    boolean_steping_twisting=1\n",
        "  return boolean_steping_twisting\n",
        "\n",
        "def is_one_rhythm(contour_list,exception_range):\n",
        "  boolean_one_rhythm=0\n",
        "  non_same_rhythm=0\n",
        "\n",
        "  first_rhythm=contour_list[0]\n",
        "  for rhythms in contour_list:\n",
        "    if (rhythms != first_rhythm):\n",
        "      non_same_rhythm=1\n",
        "  boolean_one_rhythm=1-non_same_rhythm\n",
        "  return boolean_one_rhythm\n",
        "\n",
        "def is_triplet(contour_list,exception_range):\n",
        "  boolean_triplet=0\n",
        "  now_triplet=0\n",
        "  for rhythms in contour_list:\n",
        "    rhythms=float(rhythms)\n",
        "    if (rhythms%0.015625>0.001):\n",
        "      if(now_triplet==1):\n",
        "        boolean_triplet=1\n",
        "      now_triplet+=1\n",
        "    else:\n",
        "      now_triplet=0\n",
        "      \n",
        "  return boolean_triplet\n",
        "\n",
        "def is_staccato(contour_list,exception_range):\n",
        "  boolean_staccato=0\n",
        "  ranges=len(contour_list)//2\n",
        "  staccato_num=0\n",
        "  for times in contour_list:\n",
        "    if (times<0.2):\n",
        "      staccato_num+=1\n",
        "  if (staccato_num>=ranges):\n",
        "    boolean_staccato=1\n",
        "  return boolean_staccato\n",
        "\n",
        "def is_continuing_rhythm(contour_list):\n",
        "  boolean_continuing_rhythm=0\n",
        "  length=len(contour_list)\n",
        "  rest_num=0\n",
        "  for elements in contour_list:\n",
        "    if (elements=='Rest'):\n",
        "      rest_num+=1\n",
        "  if (rest_num<=0.5):\n",
        "    boolean_continuing_rhythm=1\n",
        "  return boolean_continuing_rhythm\n",
        "\n",
        "def contour_to_label(contour):\n",
        "  labels=[]\n",
        "  totnum=len(contour[2]) #실 음의 갯수이다.\n",
        "  exception_range=(totnum-1)//4\n",
        "  exception_range2=(totnum-1)//3\n",
        "  if (len(contour[2])<2.5):\n",
        "    pass#원래는 resting이라는 Label을 append했으나 Control이 까다롭다\n",
        "  else:\n",
        "    if (is_repeating(contour[2],exception_range2)):\n",
        "      labels.append('repeating')\n",
        "\n",
        "    if (is_up_steping(contour[2],exception_range)):\n",
        "      if (len(contour[2])>3):\n",
        "        labels.append('up_steping')\n",
        "\n",
        "    if (is_down_steping(contour[2],exception_range)):\n",
        "      if (len(contour[2])>3):\n",
        "        labels.append('down_steping')\n",
        "\n",
        "    if (is_up_leaping(contour[2],exception_range2)):\n",
        "      labels.append('up_leaping')\n",
        "    \n",
        "    if (is_down_leaping(contour[2],exception_range2)):\n",
        "      labels.append('down_leaping')\n",
        "\n",
        "    if (is_steping_twisting(contour[2],exception_range2)):\n",
        "      if (len(contour[2])>3):\n",
        "        labels.append('steping_twisting')\n",
        "\n",
        "    if (is_leaping_twisting(contour[2],exception_range2)):\n",
        "      if (len(contour[2])>3):\n",
        "        labels.append('leaping_twisting')\n",
        "\n",
        "    if (len(contour[2])>8.5):\n",
        "      labels.append('fast_rhythm')\n",
        "\n",
        "    if (is_one_rhythm(contour[3],exception_range)):\n",
        "      labels.append('One_rhythm')\n",
        "\n",
        "    if (is_triplet(contour[3],exception_range2)):\n",
        "      labels.append('triplet')\n",
        "\n",
        "    if (is_staccato(contour[4],exception_range2)):\n",
        "      labels.append('staccato')  \n",
        "\n",
        "    if (is_continuing_rhythm(contour[0])):\n",
        "      labels.append('continuing_rhythm')  \n",
        "\n",
        "  if (len(labels)==0):\n",
        "    labels.append('no skills')#classifier과 cGan에서 사용은 하되, 추후 음원 제작에서 사용을 안한다.\n",
        "\n",
        "\n",
        "  return labels"
      ],
      "execution_count": 46,
      "outputs": []
    },
    {
      "cell_type": "code",
      "metadata": {
        "id": "ez9WMZruqLA0",
        "colab_type": "code",
        "colab": {}
      },
      "source": [
        "bar_label_list=copy.deepcopy(bar_contour_list)\n",
        "for i,songs in enumerate(bar_contour_list):\n",
        "  for j,contour in enumerate(songs):\n",
        "    label=contour_to_label(contour) \n",
        "    bar_label_list[i][j]=label"
      ],
      "execution_count": 47,
      "outputs": []
    },
    {
      "cell_type": "code",
      "metadata": {
        "id": "sqUWmjlproso",
        "colab_type": "code",
        "colab": {
          "base_uri": "https://localhost:8080/",
          "height": 665
        },
        "outputId": "e93dde63-5089-4322-f085-e322a0174ffb"
      },
      "source": [
        "for j in range(len(bar_label_list[0])):\n",
        "  print(bar_label_list[0][j])\n",
        "  print(bar_contour_list[0][j])"
      ],
      "execution_count": 48,
      "outputs": [
        {
          "output_type": "stream",
          "text": [
            "['repeating']\n",
            "[['Starting_Point', 'Rest', '0.0', 'Rest', '0.0', 'Rest', '0.0', 'Rest'], [1.1666666666666665, 0.3333333333333335, 0.33333333333333326, 0.16666666666666674, 1.1666666666666665, 0.3333333333333335, 0.33333333333333304, 0.16666666666666696], ['Starting_Point', '0.0', '0.0', '0.0'], [1.5, 0.5, 1.5, 0.5], [1.1666666666666665, 0.33333333333333326, 1.1666666666666665, 0.33333333333333304]]\n",
            "['repeating']\n",
            "[['Starting_Point', 'Rest', '0.0', 'Rest', '0.0', 'Rest', '0.0', 'Rest'], [1.166666666666666, 0.3333333333333339, 0.33333333333333304, 0.16666666666666696, 1.166666666666666, 0.3333333333333339, 0.33333333333333304, 0.16666666666666696], ['Starting_Point', '0.0', '0.0', '0.0'], [1.5, 0.5, 1.5, 0.5], [1.166666666666666, 0.33333333333333304, 1.166666666666666, 0.33333333333333304]]\n",
            "['repeating']\n",
            "[['Starting_Point', 'Rest', '0.0', 'Rest', '0.0', 'Rest', '0.0', 'Rest'], [1.166666666666666, 0.3333333333333339, 0.33333333333333215, 0.16666666666666785, 1.166666666666666, 0.3333333333333339, 0.33333333333333215, 0.16666666666666785], ['Starting_Point', '0.0', '0.0', '0.0'], [1.5, 0.5, 1.5, 0.5], [1.166666666666666, 0.33333333333333215, 1.166666666666666, 0.33333333333333215]]\n",
            "['repeating']\n",
            "[['Starting_Point', 'Rest', '0.0', 'Rest', '-1.0', 'Rest', '0.0', 'Rest'], [1.166666666666666, 0.3333333333333339, 0.33333333333333215, 0.16666666666666785, 1.166666666666666, 0.3333333333333339, 0.33333333333333215, 0.16666666666666785], ['Starting_Point', '0.0', '-1.0', '0.0'], [1.5, 0.5, 1.5, 0.5], [1.166666666666666, 0.33333333333333215, 1.166666666666666, 0.33333333333333215]]\n",
            "['repeating']\n",
            "[['Starting_Point', 'Rest', '0.0', 'Rest', '-3.0', 'Rest', '0.0', 'Rest'], [1.1666666666666643, 0.3333333333333357, 0.33333333333333215, 0.16666666666666785, 1.1666666666666643, 0.3333333333333357, 0.33333333333333215, 0.16666666666666785], ['Starting_Point', '0.0', '-3.0', '0.0'], [1.5, 0.5, 1.5, 0.5], [1.1666666666666643, 0.33333333333333215, 1.1666666666666643, 0.33333333333333215]]\n",
            "['repeating', 'up_steping']\n",
            "[['Starting_Point', 'Rest', '0.0', 'Rest', '2.0', 'Rest', '0.0', 'Rest'], [1.1666666666666643, 0.3333333333333357, 0.33333333333333215, 0.16666666666666785, 1.1666666666666643, 0.3333333333333357, 0.33333333333333215, 0.16666666666666785], ['Starting_Point', '0.0', '2.0', '0.0'], [1.5, 0.5, 1.5, 0.5], [1.1666666666666643, 0.33333333333333215, 1.1666666666666643, 0.33333333333333215]]\n",
            "['repeating']\n",
            "[['Starting_Point', 'Rest', '0.0', 'Rest', '-3.0', 'Rest', '0.0', 'Rest'], [1.1666666666666643, 0.3333333333333357, 0.33333333333333215, 0.16666666666666785, 0.75, 0.25, 0.75, 0.25], ['Starting_Point', '0.0', '-3.0', '0.0'], [1.5, 0.5, 1.0, 1.0], [1.1666666666666643, 0.33333333333333215, 0.75, 0.75]]\n",
            "['repeating']\n",
            "[['Starting_Point', 'Rest', '0.0', 'Rest', '-1.0', 'Rest', '0.0', 'Rest'], [1.1666666666666643, 0.3333333333333357, 0.33333333333333215, 0.16666666666666785, 1.1666666666666643, 0.3333333333333357, 0.33333333333333215, 0.16666666666666785], ['Starting_Point', '0.0', '-1.0', '0.0'], [1.5, 0.5, 1.5, 0.5], [1.1666666666666643, 0.33333333333333215, 1.1666666666666643, 0.33333333333333215]]\n",
            "['repeating', 'down_leaping', 'leaping_twisting']\n",
            "[['Starting_Point', 'Rest', '0.0', 'Rest', '-5.0', 'Rest', '0.0', 'Rest'], [1.1666666666666643, 0.3333333333333357, 0.3333333333333286, 0.1666666666666714, 1.1666666666666643, 0.3333333333333357, 0.3333333333333286, 0.1666666666666714], ['Starting_Point', '0.0', '-5.0', '0.0'], [1.5, 0.5, 1.5, 0.5], [1.1666666666666643, 0.3333333333333286, 1.1666666666666643, 0.3333333333333286]]\n",
            "['repeating', 'down_leaping', 'leaping_twisting']\n",
            "[['Starting_Point', 'Rest', '0.0', 'Rest', '-5.0', 'Rest', '0.0', 'Rest'], [1.1666666666666643, 0.3333333333333357, 0.3333333333333286, 0.1666666666666714, 1.1666666666666643, 0.3333333333333357, 0.3333333333333286, 0.1666666666666714], ['Starting_Point', '0.0', '-5.0', '0.0'], [1.5, 0.5, 1.5, 0.5], [1.1666666666666643, 0.3333333333333286, 1.1666666666666643, 0.3333333333333286]]\n",
            "['repeating']\n",
            "[['Starting_Point', 'Rest', '0.0', 'Rest', '0.0', 'Rest', '0.0', 'Rest'], [1.1666666666666643, 0.3333333333333357, 0.3333333333333286, 0.1666666666666714, 1.1666666666666643, 0.3333333333333357, 0.3333333333333286, 0.1666666666666714], ['Starting_Point', '0.0', '0.0', '0.0'], [1.5, 0.5, 1.5, 0.5], [1.1666666666666643, 0.3333333333333286, 1.1666666666666643, 0.3333333333333286]]\n",
            "['repeating']\n",
            "[['Starting_Point', 'Rest', '0.0', 'Rest', '0.0', 'Rest', '0.0', 'Rest'], [1.1666666666666643, 0.3333333333333357, 0.3333333333333286, 0.1666666666666714, 1.1666666666666643, 0.3333333333333357, 0.3333333333333286, 0.1666666666666714], ['Starting_Point', '0.0', '0.0', '0.0'], [1.5, 0.5, 1.5, 0.5], [1.1666666666666643, 0.3333333333333286, 1.1666666666666643, 0.3333333333333286]]\n",
            "['repeating']\n",
            "[['Starting_Point', 'Rest', '0.0', 'Rest', '0.0', 'Rest', '0.0', 'Rest'], [1.1666666666666643, 0.3333333333333357, 0.3333333333333286, 0.1666666666666714, 1.1666666666666643, 0.3333333333333357, 0.3333333333333286, 0.1666666666666714], ['Starting_Point', '0.0', '0.0', '0.0'], [1.5, 0.5, 1.5, 0.5], [1.1666666666666643, 0.3333333333333286, 1.1666666666666643, 0.3333333333333286]]\n",
            "['repeating']\n",
            "[['Starting_Point', 'Rest', '0.0', 'Rest', '0.0', 'Rest', '0.0', 'Rest'], [1.1666666666666643, 0.3333333333333357, 0.3333333333333286, 0.1666666666666714, 1.1666666666666643, 0.3333333333333357, 0.3333333333333286, 0.1666666666666714], ['Starting_Point', '0.0', '0.0', '0.0'], [1.5, 0.5, 1.5, 0.5], [1.1666666666666643, 0.3333333333333286, 1.1666666666666643, 0.3333333333333286]]\n",
            "['repeating']\n",
            "[['Starting_Point', 'Rest', '0.0', 'Rest', '0.0', 'Rest', '0.0', 'Rest'], [1.1666666666666643, 0.3333333333333357, 0.3333333333333286, 0.1666666666666714, 1.1666666666666643, 0.3333333333333357, 0.3333333333333286, 0.1666666666666714], ['Starting_Point', '0.0', '0.0', '0.0'], [1.5, 0.5, 1.5, 0.5], [1.1666666666666643, 0.3333333333333286, 1.1666666666666643, 0.3333333333333286]]\n",
            "['repeating']\n",
            "[['Starting_Point', 'Rest', '0.0', 'Rest', '0.0', 'Rest', '0.0', 'Rest'], [1.1666666666666643, 0.3333333333333357, 0.3333333333333286, 0.1666666666666714, 1.1666666666666643, 0.3333333333333357, 0.3333333333333286, 0.1666666666666714], ['Starting_Point', '0.0', '0.0', '0.0'], [1.5, 0.5, 1.5, 0.5], [1.1666666666666643, 0.3333333333333286, 1.1666666666666643, 0.3333333333333286]]\n",
            "['repeating']\n",
            "[['Starting_Point', 'Rest', '0.0', 'Rest', '0.0', 'Rest', '0.0', 'Rest'], [1.1666666666666572, 0.3333333333333428, 0.3333333333333286, 0.1666666666666714, 1.1666666666666572, 0.3333333333333428, 0.3333333333333286, 0.1666666666666714], ['Starting_Point', '0.0', '0.0', '0.0'], [1.5, 0.5, 1.5, 0.5], [1.1666666666666572, 0.3333333333333286, 1.1666666666666572, 0.3333333333333286]]\n",
            "['no skills']\n",
            "[['Starting_Point', 'Rest', '0.0', 'Rest'], [1.1666666666666572, 0.3333333333333428, 0.3333333333333286, 2.1666666666666714], ['Starting_Point', '0.0'], [1.5, 2.5], [1.1666666666666572, 0.3333333333333286]]\n"
          ],
          "name": "stdout"
        }
      ]
    },
    {
      "cell_type": "code",
      "metadata": {
        "id": "-eCyCmgXzbSr",
        "colab_type": "code",
        "colab": {
          "base_uri": "https://localhost:8080/",
          "height": 362
        },
        "outputId": "4f277bd6-2a0a-4bdf-f0c4-799fefd93ac0"
      },
      "source": [
        "#Summary\n",
        "print(bar_contour_list[0][0])\n",
        "print(bar_label_list[0][0])\n",
        "print(bar_list[0][0])\n",
        "\n",
        "H=bar_matrix_list3[0][0]\n",
        "fig = plt.figure(figsize=(6, 3.2))\n",
        "ax = fig.add_subplot(111)\n",
        "ax.set_title('colorMap')\n",
        "plt.imshow(H)\n",
        "ax.set_aspect('equal')\n",
        "\n",
        "cax = fig.add_axes([0.12, 0.1, 0.78, 0.8])\n",
        "cax.get_xaxis().set_visible(False)\n",
        "cax.get_yaxis().set_visible(False)\n",
        "cax.patch.set_alpha(0)\n",
        "cax.set_frame_on(False)\n",
        "plt.colorbar(orientation='vertical')\n",
        "plt.show()"
      ],
      "execution_count": 49,
      "outputs": [
        {
          "output_type": "stream",
          "text": [
            "[['Starting_Point', 'Rest', '0.0', 'Rest', '0.0', 'Rest', '0.0', 'Rest'], [1.1666666666666665, 0.3333333333333335, 0.33333333333333326, 0.16666666666666674, 1.1666666666666665, 0.3333333333333335, 0.33333333333333304, 0.16666666666666696], ['Starting_Point', '0.0', '0.0', '0.0'], [1.5, 0.5, 1.5, 0.5], [1.1666666666666665, 0.33333333333333326, 1.1666666666666665, 0.33333333333333304]]\n",
            "['repeating']\n",
            "[[ 0.         42.         42.          1.16666667  0.        ]\n",
            " [ 1.5        42.         42.          0.33333333  0.        ]\n",
            " [ 2.         42.         42.          1.16666667  0.        ]\n",
            " [ 3.5        42.         42.          0.33333333  0.        ]]\n"
          ],
          "name": "stdout"
        },
        {
          "output_type": "display_data",
          "data": {
            "image/png": "[encoded data removed]",
            "text/plain": [
              "<Figure size 432x230.4 with 3 Axes>"
            ]
          },
          "metadata": {
            "tags": [],
            "needs_background": "light"
          }
        }
      ]
    },
    {
      "cell_type": "code",
      "metadata": {
        "id": "ndQru9Cv1XIs",
        "colab_type": "code",
        "colab": {}
      },
      "source": [
        "all_matrix=[]\n",
        "all_labels=[]\n",
        "all_updown_labels=[]\n",
        "for songs in bar_label_list:\n",
        "  for label in songs:\n",
        "    label=np.array(label)\n",
        "    all_labels.append(label)\n",
        "for songs in bar_matrix_list3:\n",
        "  for matrix in songs:\n",
        "    matrix=matrix.reshape(24,Minimum_time,1)\n",
        "    all_matrix.append(matrix)\n",
        "for songs in bar_updown_list:\n",
        "  for label in songs:\n",
        "    all_updown_labels.append(label)\n"
      ],
      "execution_count": 50,
      "outputs": []
    },
    {
      "cell_type": "code",
      "metadata": {
        "id": "cLD6jvcH2thx",
        "colab_type": "code",
        "colab": {
          "base_uri": "https://localhost:8080/",
          "height": 34
        },
        "outputId": "9d4d63b9-45a4-4fb9-fd55-c3af53f4fcd3"
      },
      "source": [
        "print(len(all_matrix),len(all_labels),len(all_updown_labels))"
      ],
      "execution_count": 51,
      "outputs": [
        {
          "output_type": "stream",
          "text": [
            "137207 137207 137207\n"
          ],
          "name": "stdout"
        }
      ]
    },
    {
      "cell_type": "code",
      "metadata": {
        "id": "KxnqzorC35O4",
        "colab_type": "code",
        "colab": {
          "base_uri": "https://localhost:8080/",
          "height": 34
        },
        "outputId": "9da8dc11-9b5d-4f83-a48e-08176c0bcd22"
      },
      "source": [
        "import keras.backend.tensorflow_backend as tfback\n",
        "from tensorflow.python.client import device_lib\n",
        "def _get_available_gpus():\n",
        "  if tfback._LOCAL_DEVICES is None:\n",
        "    devices = device_lib.list_local_devices()\n",
        "    tfback._LOCAL_DEVICES = [x.name for x in devices]\n",
        "  return [x for x in tfback._LOCAL_DEVICES if 'device:gpu' in x.lower()]\n",
        "tfback._get_available_gpus = _get_available_gpus\n",
        "tfback._get_available_gpus()"
      ],
      "execution_count": 52,
      "outputs": [
        {
          "output_type": "execute_result",
          "data": {
            "text/plain": [
              "['/device:GPU:0']"
            ]
          },
          "metadata": {
            "tags": []
          },
          "execution_count": 52
        }
      ]
    },
    {
      "cell_type": "code",
      "metadata": {
        "id": "Mt2exWUggwA9",
        "colab_type": "code",
        "colab": {}
      },
      "source": [
        "from sklearn.preprocessing import MultiLabelBinarizer\n",
        "train_matrix=np.array(all_matrix[:int(len(all_matrix)*0.85)])\n",
        "train_label=np.array(all_labels[:int(len(all_matrix)*0.85)])"
      ],
      "execution_count": 53,
      "outputs": []
    },
    {
      "cell_type": "code",
      "metadata": {
        "id": "sc4SuOnd9wC7",
        "colab_type": "code",
        "colab": {}
      },
      "source": [
        "def set_labels():\n",
        "  labels=[]\n",
        "  label_tuple=[]\n",
        "  skills_pitch=['repeating','up_steping','down_steping','up_leaping','down_leaping','steping_twisting','leaping_twisting','dummy']\n",
        "  skills_timing=['fast_rhythm','dummy']\n",
        "  skills_triplet=['triplet','dummy']\n",
        "  skills_one_rhythm=['One_rhythm','dummy']\n",
        "  skills_staccato=['staccato','continuing_rhythm','dummy']\n",
        "  for pitch in skills_pitch:\n",
        "    for timing in skills_timing:\n",
        "      for triplet in skills_triplet:\n",
        "        for one_rhythm in skills_one_rhythm:\n",
        "          for staccato in skills_staccato:\n",
        "            label_tuple=[]\n",
        "            if pitch is not 'dummy':\n",
        "              label_tuple.append(pitch)\n",
        "            if timing is not 'dummy':\n",
        "              label_tuple.append(timing)\n",
        "            if triplet is not 'dummy':\n",
        "              label_tuple.append(triplet)\n",
        "            if one_rhythm is not 'dummy':\n",
        "              label_tuple.append(one_rhythm)\n",
        "            if staccato is not 'dummy':\n",
        "              label_tuple.append(staccato)\n",
        "            if len(label_tuple)==0:\n",
        "              label_tuple.append('no skills') # no skills label is used for training classifier and generator, but not used for real generation.\n",
        "            label_tuple=tuple(label_tuple)\n",
        "            \n",
        "            labels.append(label_tuple)\n",
        "  \n",
        "  return labels\n",
        "label=set_labels()"
      ],
      "execution_count": 54,
      "outputs": []
    },
    {
      "cell_type": "code",
      "metadata": {
        "id": "93yFDiw86QyN",
        "colab_type": "code",
        "colab": {}
      },
      "source": [
        "valid_matrix=np.array(all_matrix[int(len(all_matrix)*0.85):int(len(all_matrix)*0.95)])\n",
        "valid_label=np.array(all_labels[int(len(all_matrix)*0.85):int(len(all_matrix)*0.95)])\n",
        "test_matrix=np.array(all_matrix[int(len(all_matrix)*0.95):])\n",
        "test_label=np.array(all_labels[int(len(all_matrix)*0.95):])#어쩌면 쓸수도?\n",
        "mlb=MultiLabelBinarizer()\n",
        "labels=set_labels()\n",
        "mlb.fit(labels)\n",
        "train_label2=mlb.transform(train_label)\n",
        "valid_label2=mlb.transform(valid_label)\n",
        "test_label2=mlb.transform(test_label)\n"
      ],
      "execution_count": 56,
      "outputs": []
    },
    {
      "cell_type": "code",
      "metadata": {
        "id": "BPUsl9deYgNl",
        "colab_type": "code",
        "colab": {
          "base_uri": "https://localhost:8080/",
          "height": 34
        },
        "outputId": "75b9f7bc-caae-4647-ad74-5364fe576c76"
      },
      "source": [
        "print(train_label2.shape)"
      ],
      "execution_count": 57,
      "outputs": [
        {
          "output_type": "stream",
          "text": [
            "(116625, 13)\n"
          ],
          "name": "stdout"
        }
      ]
    },
    {
      "cell_type": "code",
      "metadata": {
        "id": "3MoUdnPf62cX",
        "colab_type": "code",
        "colab": {}
      },
      "source": [
        "from sklearn.preprocessing import LabelBinarizer\n",
        "updownle=LabelBinarizer()\n",
        "updownle.fit(['up','down','final','meanless'])\n",
        "updown_label=updownle.transform(np.array(all_updown_labels))"
      ],
      "execution_count": 58,
      "outputs": []
    },
    {
      "cell_type": "code",
      "metadata": {
        "id": "GfUeYxwX8eVM",
        "colab_type": "code",
        "colab": {}
      },
      "source": [
        "train_updown_label=updown_label[:int(len(all_matrix)*0.85)]\n",
        "valid_updown_label=updown_label[int(len(all_matrix)*0.85):int(len(all_matrix)*0.95)]\n",
        "test_updown_label=updown_label[int(len(all_matrix)*0.95):]"
      ],
      "execution_count": 59,
      "outputs": []
    },
    {
      "cell_type": "code",
      "metadata": {
        "id": "Rb3xLrR99Rk8",
        "colab_type": "code",
        "colab": {
          "base_uri": "https://localhost:8080/",
          "height": 174
        },
        "outputId": "a81003ab-4a40-4e30-d60a-ef5af8eaf1c8"
      },
      "source": [
        "print(train_matrix.shape)\n",
        "print(train_label2)\n",
        "print(valid_matrix.shape)"
      ],
      "execution_count": 60,
      "outputs": [
        {
          "output_type": "stream",
          "text": [
            "(116625, 24, 16, 1)\n",
            "[[0 0 0 ... 0 0 0]\n",
            " [0 0 0 ... 0 0 0]\n",
            " [0 0 0 ... 0 0 0]\n",
            " ...\n",
            " [0 0 0 ... 0 0 0]\n",
            " [0 0 0 ... 0 0 1]\n",
            " [0 0 0 ... 0 0 0]]\n",
            "(13721, 24, 16, 1)\n"
          ],
          "name": "stdout"
        }
      ]
    },
    {
      "cell_type": "code",
      "metadata": {
        "id": "LkGYxpDB8ky9",
        "colab_type": "code",
        "colab": {}
      },
      "source": [
        "import keras.applications\n",
        "from keras import regularizers\n",
        "from keras.applications import VGG16\n",
        "from keras.applications import resnet50\n",
        "from keras import layers\n",
        "from tensorflow import keras\n",
        "def residual_block(filter, input, add=True):\n",
        "  with tf.device('/gpu:0'):\n",
        "    layer_1 = keras.layers.Conv2D(filters=filter//4, kernel_size=(1, 1), data_format=\"channels_first\")(input)\n",
        "    layer_2 = keras.layers.Conv2D(filters=filter//4, kernel_size=(3, 3), padding='same', data_format=\"channels_first\", kernel_regularizer=keras.regularizers.l2(0.001))(layer_1)\n",
        "    layer_2 = keras.layers.BatchNormalization()(layer_2)\n",
        "    layer_2 = keras.layers.ReLU()(layer_2)\n",
        "    layer_3 = keras.layers.Conv2D(filters=filter, kernel_size=(1, 1), data_format=\"channels_first\")(layer_2)\n",
        "    layer_3 = keras.layers.BatchNormalization()(layer_3)\n",
        "    if add:\n",
        "        layer_3 = keras.layers.add([input, layer_3])\n",
        "    layer_3 = keras.layers.ReLU()(layer_3)\n",
        "    return layer_3\n",
        "def make_model(minimum_time):\n",
        "  with tf.device('/gpu:0'):\n",
        "    input_layer = keras.Input(shape=(24, minimum_time, 1))\n",
        "    layer_1 = keras.layers.Conv2D(filters=64, kernel_size=(7, 7), padding='same', data_format=\"channels_first\")(input_layer)\n",
        "    block_1 = residual_block(64, layer_1)\n",
        "    #block_2 = residual_block(64, block_1)\n",
        "    #block_3 = residual_block(64, block_2)\n",
        "    pooling_layer = keras.layers.MaxPool2D((2, 2),padding='same', data_format=\"channels_first\")(block_1)\n",
        "    block_4 = residual_block(128, pooling_layer, add=False)\n",
        "    block_5 = residual_block(128, block_4)\n",
        "    #block_6 = residual_block(128, block_5)\n",
        "    pooling_layer2 = keras.layers.MaxPool2D(padding='same',pool_size=(2, 2), data_format=\"channels_first\")(block_4)\n",
        "    block_7 = residual_block(256, pooling_layer2, add=False)\n",
        "    block_8 = residual_block(256, block_7)\n",
        "    block_9 = residual_block(256, block_8)\n",
        "    #pooling_layer4 = keras.layers.MaxPool2D(pool_size=(2, 2), data_format=\"channels_first\")(block_7)\n",
        "    #block_10 = residual_block(256, pooling_layer4)\n",
        "    #block_11 = residual_block(512, block_10)\n",
        "    pooling_layer3 = keras.layers.AvgPool2D(padding='same',pool_size=(8, 8), data_format=\"channels_first\")(block_7)\n",
        "    last_layer = keras.layers.Flatten()(pooling_layer3)\n",
        "    last_layer = keras.layers.Dropout(0.4)(last_layer)\n",
        "    last_layer = keras.layers.Dense(13, activation=\"sigmoid\")(last_layer)\n",
        "    return keras.models.Model(inputs=input_layer, outputs=last_layer)\n",
        "def make_classifier(minimum_time):\n",
        "  with tf.device('/gpu:0'):\n",
        "    classifier = keras.Sequential()\n",
        "    classifier.add(keras.layers.Conv2D(128, kernel_size=(5, 5), strides=(1, 1), padding='same',\n",
        "                  activation='relu',\n",
        "                  input_shape=(24,minimum_time,1)))\n",
        "    classifier.add(keras.layers.BatchNormalization())\n",
        "    classifier.add(keras.layers.LeakyReLU(alpha=0.01))\n",
        "    classifier.add(keras.layers.Conv2D(128, (2, 2), activation='relu', padding='same'))\n",
        "    classifier.add(keras.layers.MaxPooling2D(pool_size=(2, 2), strides=(2, 2)))\n",
        "    classifier.add(keras.layers.Conv2D(256, (2, 2), padding='same'))\n",
        "    classifier.add(keras.layers.LeakyReLU(alpha=0.01))\n",
        "    classifier.add(keras.layers.MaxPooling2D(pool_size=(2, 2)))\n",
        "    classifier.add(keras.layers.Flatten())\n",
        "    classifier.add(keras.layers.Dropout(0.25))\n",
        "    classifier.add(keras.layers.Dense(4, activation='sigmoid'))\n",
        "  return classifier"
      ],
      "execution_count": 61,
      "outputs": []
    },
    {
      "cell_type": "code",
      "metadata": {
        "id": "zn-X5lReh2ok",
        "colab_type": "code",
        "colab": {}
      },
      "source": [
        "from keras.callbacks import EarlyStopping, ReduceLROnPlateau, ModelCheckpoint\n",
        "model_path = '/content/drive/My Drive/models/' + 'deeperppddbest.h5'\n",
        "\n",
        "cb_checkpoint = ModelCheckpoint(filepath=model_path, monitor='val_acc',\n",
        "                                verbose=1, save_best_only=True)\n",
        "callbacks = [cb_checkpoint]\n",
        "\n",
        "model_path = '/content/drive/My Drive/models/' + 'updown.h5'\n",
        "\n",
        "cb_checkpoint = ModelCheckpoint(filepath=model_path, monitor='val_acc',\n",
        "                                verbose=1, save_best_only=True)\n",
        "updown_callbacks=[cb_checkpoint]\n",
        "#tf.keras의 경우(make_model) monitor='val_acc'로, keras의 경우(make_classifier) monitor='val_accuracy'로 해야한다."
      ],
      "execution_count": 62,
      "outputs": []
    },
    {
      "cell_type": "code",
      "metadata": {
        "id": "uf1jJnIxemG0",
        "colab_type": "code",
        "colab": {}
      },
      "source": [
        "from keras import backend as K\n",
        "import tensorflow as tf\n",
        "def recall(y_target, y_pred):\n",
        "    # clip(t, clip_value_min, clip_value_max) : clip_value_min~clip_value_max 이외 가장자리를 깎아 낸다\n",
        "    # round : 반올림한다\n",
        "    y_target_yn = K.round(K.clip(y_target, 0, 1)) # 실제값을 0(Negative) 또는 1(Positive)로 설정한다\n",
        "    y_pred_yn = K.round(K.clip(y_pred, 0, 1)) # 예측값을 0(Negative) 또는 1(Positive)로 설정한다\n",
        "\n",
        "    # True Positive는 실제 값과 예측 값이 모두 1(Positive)인 경우이다\n",
        "    count_true_positive = K.sum(y_target_yn * y_pred_yn) \n",
        "\n",
        "    # (True Positive + False Negative) = 실제 값이 1(Positive) 전체\n",
        "    count_true_positive_false_negative = K.sum(y_target_yn)\n",
        "\n",
        "    # Recall =  (True Positive) / (True Positive + False Negative)\n",
        "    # K.epsilon()는 'divide by zero error' 예방차원에서 작은 수를 더한다\n",
        "    recall = count_true_positive / (count_true_positive_false_negative + K.epsilon())\n",
        "\n",
        "    # return a single tensor value\n",
        "    return recall\n",
        "\n",
        "\n",
        "def precision(y_target, y_pred):\n",
        "    # clip(t, clip_value_min, clip_value_max) : clip_value_min~clip_value_max 이외 가장자리를 깎아 낸다\n",
        "    # round : 반올림한다\n",
        "    y_pred_yn = K.round(K.clip(y_pred, 0, 1)) # 예측값을 0(Negative) 또는 1(Positive)로 설정한다\n",
        "    y_target_yn = K.round(K.clip(y_target, 0, 1)) # 실제값을 0(Negative) 또는 1(Positive)로 설정한다\n",
        "\n",
        "    # True Positive는 실제 값과 예측 값이 모두 1(Positive)인 경우이다\n",
        "    count_true_positive = K.sum(y_target_yn * y_pred_yn) \n",
        "\n",
        "    # (True Positive + False Positive) = 예측 값이 1(Positive) 전체\n",
        "    count_true_positive_false_positive = K.sum(y_pred_yn)\n",
        "\n",
        "    # Precision = (True Positive) / (True Positive + False Positive)\n",
        "    # K.epsilon()는 'divide by zero error' 예방차원에서 작은 수를 더한다\n",
        "    precision = count_true_positive / (count_true_positive_false_positive + K.epsilon())\n",
        "\n",
        "    # return a single tensor value\n",
        "    return precision\n",
        "\n",
        "\n",
        "def f1score(y_target, y_pred):\n",
        "    _recall = recall(y_target, y_pred)\n",
        "    _precision = precision(y_target, y_pred)\n",
        "    # K.epsilon()는 'divide by zero error' 예방차원에서 작은 수를 더한다\n",
        "    _f1score = ( 2 * _recall * _precision) / (_recall + _precision+ K.epsilon())\n",
        "    \n",
        "    # return a single tensor value\n",
        "    return _f1score\n"
      ],
      "execution_count": 63,
      "outputs": []
    },
    {
      "cell_type": "code",
      "metadata": {
        "id": "V2Nx8Ygs-I6_",
        "colab_type": "code",
        "colab": {
          "base_uri": "https://localhost:8080/",
          "height": 1000
        },
        "outputId": "85c9a951-49eb-4deb-f04f-9491738989a8"
      },
      "source": [
        "from tensorflow import keras\n",
        "classifier=make_model(Minimum_time)\n",
        "classifier.compile(loss=keras.losses.BinaryCrossentropy(\n",
        "      from_logits=False, label_smoothing=0.1, \n",
        "      name='binary_crossentropy'\n",
        "  ), optimizer='adam', metrics=['accuracy',recall,precision,f1score])\n",
        "\n",
        "hist=classifier.fit(\n",
        "      train_matrix,train_label2,batch_size=256,\n",
        "      epochs=100,\n",
        "      validation_data=(valid_matrix,valid_label2),\n",
        "      callbacks=callbacks,\n",
        "      class_weight='balanced'\n",
        "  )\n",
        "\n",
        "#실제 학습\n"
      ],
      "execution_count": 65,
      "outputs": [
        {
          "output_type": "stream",
          "text": [
            "Train on 116625 samples, validate on 13721 samples\n",
            "Epoch 1/100\n",
            "115968/116625 [============================>.] - ETA: 0s - loss: 0.4470 - acc: 0.8664 - recall: 0.2891 - precision: 0.6701 - f1score: 0.3921\n",
            "Epoch 00001: val_acc improved from -inf to 0.85617, saving model to /content/drive/My Drive/models/deeperppddbest.h5\n",
            "116625/116625 [==============================] - 14s 121us/sample - loss: 0.4467 - acc: 0.8665 - recall: 0.2899 - precision: 0.6709 - f1score: 0.3932 - val_loss: 0.4443 - val_acc: 0.8562 - val_recall: 0.4351 - val_precision: 0.5651 - val_f1score: 0.4913\n",
            "Epoch 2/100\n",
            "114944/116625 [============================>.] - ETA: 0s - loss: 0.3814 - acc: 0.8933 - recall: 0.4694 - precision: 0.7774 - f1score: 0.5842\n",
            "Epoch 00002: val_acc improved from 0.85617 to 0.89673, saving model to /content/drive/My Drive/models/deeperppddbest.h5\n",
            "116625/116625 [==============================] - 4s 35us/sample - loss: 0.3813 - acc: 0.8934 - recall: 0.4699 - precision: 0.7777 - f1score: 0.5847 - val_loss: 0.3743 - val_acc: 0.8967 - val_recall: 0.4739 - val_precision: 0.7984 - val_f1score: 0.5945\n",
            "Epoch 3/100\n",
            "115712/116625 [============================>.] - ETA: 0s - loss: 0.3657 - acc: 0.9015 - recall: 0.5178 - precision: 0.7963 - f1score: 0.6267\n",
            "Epoch 00003: val_acc improved from 0.89673 to 0.90302, saving model to /content/drive/My Drive/models/deeperppddbest.h5\n",
            "116625/116625 [==============================] - 4s 35us/sample - loss: 0.3657 - acc: 0.9015 - recall: 0.5178 - precision: 0.7962 - f1score: 0.6267 - val_loss: 0.3631 - val_acc: 0.9030 - val_recall: 0.5280 - val_precision: 0.7965 - val_f1score: 0.6349\n",
            "Epoch 4/100\n",
            "115712/116625 [============================>.] - ETA: 0s - loss: 0.3565 - acc: 0.9066 - recall: 0.5488 - precision: 0.8060 - f1score: 0.6525\n",
            "Epoch 00004: val_acc improved from 0.90302 to 0.90580, saving model to /content/drive/My Drive/models/deeperppddbest.h5\n",
            "116625/116625 [==============================] - 4s 34us/sample - loss: 0.3565 - acc: 0.9066 - recall: 0.5489 - precision: 0.8063 - f1score: 0.6527 - val_loss: 0.3550 - val_acc: 0.9058 - val_recall: 0.5431 - val_precision: 0.8041 - val_f1score: 0.6481\n",
            "Epoch 5/100\n",
            "114944/116625 [============================>.] - ETA: 0s - loss: 0.3501 - acc: 0.9105 - recall: 0.5739 - precision: 0.8125 - f1score: 0.6722\n",
            "Epoch 00005: val_acc improved from 0.90580 to 0.90686, saving model to /content/drive/My Drive/models/deeperppddbest.h5\n",
            "116625/116625 [==============================] - 4s 35us/sample - loss: 0.3500 - acc: 0.9106 - recall: 0.5741 - precision: 0.8126 - f1score: 0.6725 - val_loss: 0.3535 - val_acc: 0.9069 - val_recall: 0.5841 - val_precision: 0.7782 - val_f1score: 0.6671\n",
            "Epoch 6/100\n",
            "114944/116625 [============================>.] - ETA: 0s - loss: 0.3453 - acc: 0.9135 - recall: 0.5937 - precision: 0.8163 - f1score: 0.6870\n",
            "Epoch 00006: val_acc improved from 0.90686 to 0.91046, saving model to /content/drive/My Drive/models/deeperppddbest.h5\n",
            "116625/116625 [==============================] - 4s 34us/sample - loss: 0.3454 - acc: 0.9135 - recall: 0.5933 - precision: 0.8163 - f1score: 0.6868 - val_loss: 0.3469 - val_acc: 0.9105 - val_recall: 0.5899 - val_precision: 0.7972 - val_f1score: 0.6778\n",
            "Epoch 7/100\n",
            "116480/116625 [============================>.] - ETA: 0s - loss: 0.3420 - acc: 0.9158 - recall: 0.6075 - precision: 0.8203 - f1score: 0.6977\n",
            "Epoch 00007: val_acc improved from 0.91046 to 0.91274, saving model to /content/drive/My Drive/models/deeperppddbest.h5\n",
            "116625/116625 [==============================] - 4s 34us/sample - loss: 0.3420 - acc: 0.9158 - recall: 0.6074 - precision: 0.8203 - f1score: 0.6976 - val_loss: 0.3430 - val_acc: 0.9127 - val_recall: 0.5833 - val_precision: 0.8193 - val_f1score: 0.6812\n",
            "Epoch 8/100\n",
            "115200/116625 [============================>.] - ETA: 0s - loss: 0.3388 - acc: 0.9178 - recall: 0.6198 - precision: 0.8231 - f1score: 0.7068\n",
            "Epoch 00008: val_acc did not improve from 0.91274\n",
            "116625/116625 [==============================] - 4s 34us/sample - loss: 0.3388 - acc: 0.9178 - recall: 0.6198 - precision: 0.8228 - f1score: 0.7067 - val_loss: 0.3467 - val_acc: 0.9110 - val_recall: 0.5800 - val_precision: 0.8087 - val_f1score: 0.6754\n",
            "Epoch 9/100\n",
            "115968/116625 [============================>.] - ETA: 0s - loss: 0.3361 - acc: 0.9194 - recall: 0.6310 - precision: 0.8247 - f1score: 0.7146\n",
            "Epoch 00009: val_acc improved from 0.91274 to 0.91373, saving model to /content/drive/My Drive/models/deeperppddbest.h5\n",
            "116625/116625 [==============================] - 4s 34us/sample - loss: 0.3361 - acc: 0.9194 - recall: 0.6308 - precision: 0.8247 - f1score: 0.7145 - val_loss: 0.3425 - val_acc: 0.9137 - val_recall: 0.6032 - val_precision: 0.8084 - val_f1score: 0.6906\n",
            "Epoch 10/100\n",
            "116480/116625 [============================>.] - ETA: 0s - loss: 0.3342 - acc: 0.9211 - recall: 0.6391 - precision: 0.8292 - f1score: 0.7215\n",
            "Epoch 00010: val_acc improved from 0.91373 to 0.91393, saving model to /content/drive/My Drive/models/deeperppddbest.h5\n",
            "116625/116625 [==============================] - 4s 34us/sample - loss: 0.3342 - acc: 0.9211 - recall: 0.6392 - precision: 0.8291 - f1score: 0.7215 - val_loss: 0.3404 - val_acc: 0.9139 - val_recall: 0.5959 - val_precision: 0.8157 - val_f1score: 0.6885\n",
            "Epoch 11/100\n",
            "115456/116625 [============================>.] - ETA: 0s - loss: 0.3322 - acc: 0.9225 - recall: 0.6472 - precision: 0.8316 - f1score: 0.7276\n",
            "Epoch 00011: val_acc improved from 0.91393 to 0.91506, saving model to /content/drive/My Drive/models/deeperppddbest.h5\n",
            "116625/116625 [==============================] - 4s 33us/sample - loss: 0.3322 - acc: 0.9225 - recall: 0.6471 - precision: 0.8315 - f1score: 0.7275 - val_loss: 0.3396 - val_acc: 0.9151 - val_recall: 0.6321 - val_precision: 0.7947 - val_f1score: 0.7040\n",
            "Epoch 12/100\n",
            "115712/116625 [============================>.] - ETA: 0s - loss: 0.3302 - acc: 0.9239 - recall: 0.6560 - precision: 0.8333 - f1score: 0.7337\n",
            "Epoch 00012: val_acc improved from 0.91506 to 0.91641, saving model to /content/drive/My Drive/models/deeperppddbest.h5\n",
            "116625/116625 [==============================] - 4s 34us/sample - loss: 0.3302 - acc: 0.9239 - recall: 0.6558 - precision: 0.8332 - f1score: 0.7336 - val_loss: 0.3395 - val_acc: 0.9164 - val_recall: 0.6313 - val_precision: 0.8028 - val_f1score: 0.7065\n",
            "Epoch 13/100\n",
            "115456/116625 [============================>.] - ETA: 0s - loss: 0.3283 - acc: 0.9251 - recall: 0.6624 - precision: 0.8363 - f1score: 0.7389\n",
            "Epoch 00013: val_acc improved from 0.91641 to 0.91818, saving model to /content/drive/My Drive/models/deeperppddbest.h5\n",
            "116625/116625 [==============================] - 4s 34us/sample - loss: 0.3283 - acc: 0.9252 - recall: 0.6627 - precision: 0.8362 - f1score: 0.7391 - val_loss: 0.3358 - val_acc: 0.9182 - val_recall: 0.6275 - val_precision: 0.8184 - val_f1score: 0.7102\n",
            "Epoch 14/100\n",
            "115712/116625 [============================>.] - ETA: 0s - loss: 0.3271 - acc: 0.9261 - recall: 0.6676 - precision: 0.8381 - f1score: 0.7429\n",
            "Epoch 00014: val_acc did not improve from 0.91818\n",
            "116625/116625 [==============================] - 4s 33us/sample - loss: 0.3271 - acc: 0.9261 - recall: 0.6675 - precision: 0.8380 - f1score: 0.7428 - val_loss: 0.3362 - val_acc: 0.9175 - val_recall: 0.6562 - val_precision: 0.7925 - val_f1score: 0.7177\n",
            "Epoch 15/100\n",
            "115712/116625 [============================>.] - ETA: 0s - loss: 0.3257 - acc: 0.9272 - recall: 0.6732 - precision: 0.8402 - f1score: 0.7472\n",
            "Epoch 00015: val_acc improved from 0.91818 to 0.91910, saving model to /content/drive/My Drive/models/deeperppddbest.h5\n",
            "116625/116625 [==============================] - 5s 43us/sample - loss: 0.3258 - acc: 0.9271 - recall: 0.6732 - precision: 0.8402 - f1score: 0.7472 - val_loss: 0.3353 - val_acc: 0.9191 - val_recall: 0.6373 - val_precision: 0.8165 - val_f1score: 0.7156\n",
            "Epoch 16/100\n",
            "115968/116625 [============================>.] - ETA: 0s - loss: 0.3243 - acc: 0.9284 - recall: 0.6796 - precision: 0.8429 - f1score: 0.7522\n",
            "Epoch 00016: val_acc improved from 0.91910 to 0.92026, saving model to /content/drive/My Drive/models/deeperppddbest.h5\n",
            "116625/116625 [==============================] - 4s 34us/sample - loss: 0.3243 - acc: 0.9284 - recall: 0.6797 - precision: 0.8428 - f1score: 0.7522 - val_loss: 0.3329 - val_acc: 0.9203 - val_recall: 0.6554 - val_precision: 0.8099 - val_f1score: 0.7243\n",
            "Epoch 17/100\n",
            "115200/116625 [============================>.] - ETA: 0s - loss: 0.3231 - acc: 0.9290 - recall: 0.6839 - precision: 0.8435 - f1score: 0.7551\n",
            "Epoch 00017: val_acc did not improve from 0.92026\n",
            "116625/116625 [==============================] - 4s 34us/sample - loss: 0.3231 - acc: 0.9291 - recall: 0.6840 - precision: 0.8435 - f1score: 0.7551 - val_loss: 0.3343 - val_acc: 0.9187 - val_recall: 0.6325 - val_precision: 0.8172 - val_f1score: 0.7130\n",
            "Epoch 18/100\n",
            "115712/116625 [============================>.] - ETA: 0s - loss: 0.3216 - acc: 0.9302 - recall: 0.6888 - precision: 0.8464 - f1score: 0.7593\n",
            "Epoch 00018: val_acc did not improve from 0.92026\n",
            "116625/116625 [==============================] - 4s 33us/sample - loss: 0.3217 - acc: 0.9301 - recall: 0.6887 - precision: 0.8464 - f1score: 0.7592 - val_loss: 0.3336 - val_acc: 0.9202 - val_recall: 0.6613 - val_precision: 0.8043 - val_f1score: 0.7257\n",
            "Epoch 19/100\n",
            "115200/116625 [============================>.] - ETA: 0s - loss: 0.3208 - acc: 0.9308 - recall: 0.6930 - precision: 0.8474 - f1score: 0.7622\n",
            "Epoch 00019: val_acc improved from 0.92026 to 0.92157, saving model to /content/drive/My Drive/models/deeperppddbest.h5\n",
            "116625/116625 [==============================] - 5s 45us/sample - loss: 0.3208 - acc: 0.9308 - recall: 0.6928 - precision: 0.8470 - f1score: 0.7619 - val_loss: 0.3318 - val_acc: 0.9216 - val_recall: 0.6542 - val_precision: 0.8185 - val_f1score: 0.7271\n",
            "Epoch 20/100\n",
            "116224/116625 [============================>.] - ETA: 0s - loss: 0.3200 - acc: 0.9311 - recall: 0.6946 - precision: 0.8477 - f1score: 0.7633\n",
            "Epoch 00020: val_acc did not improve from 0.92157\n",
            "116625/116625 [==============================] - 4s 32us/sample - loss: 0.3200 - acc: 0.9311 - recall: 0.6946 - precision: 0.8476 - f1score: 0.7633 - val_loss: 0.3350 - val_acc: 0.9185 - val_recall: 0.6409 - val_precision: 0.8092 - val_f1score: 0.7151\n",
            "Epoch 21/100\n",
            "115968/116625 [============================>.] - ETA: 0s - loss: 0.3193 - acc: 0.9316 - recall: 0.6972 - precision: 0.8489 - f1score: 0.7653\n",
            "Epoch 00021: val_acc did not improve from 0.92157\n",
            "116625/116625 [==============================] - 4s 32us/sample - loss: 0.3193 - acc: 0.9316 - recall: 0.6973 - precision: 0.8489 - f1score: 0.7654 - val_loss: 0.3340 - val_acc: 0.9198 - val_recall: 0.6468 - val_precision: 0.8131 - val_f1score: 0.7204\n",
            "Epoch 22/100\n",
            "115968/116625 [============================>.] - ETA: 0s - loss: 0.3186 - acc: 0.9322 - recall: 0.7001 - precision: 0.8500 - f1score: 0.7675\n",
            "Epoch 00022: val_acc did not improve from 0.92157\n",
            "116625/116625 [==============================] - 4s 32us/sample - loss: 0.3185 - acc: 0.9323 - recall: 0.7003 - precision: 0.8502 - f1score: 0.7678 - val_loss: 0.3336 - val_acc: 0.9208 - val_recall: 0.6781 - val_precision: 0.7963 - val_f1score: 0.7323\n",
            "Epoch 23/100\n",
            "116224/116625 [============================>.] - ETA: 0s - loss: 0.3176 - acc: 0.9330 - recall: 0.7044 - precision: 0.8516 - f1score: 0.7708\n",
            "Epoch 00023: val_acc did not improve from 0.92157\n",
            "116625/116625 [==============================] - 4s 32us/sample - loss: 0.3176 - acc: 0.9330 - recall: 0.7044 - precision: 0.8515 - f1score: 0.7708 - val_loss: 0.3337 - val_acc: 0.9216 - val_recall: 0.6721 - val_precision: 0.8052 - val_f1score: 0.7325\n",
            "Epoch 24/100\n",
            "114944/116625 [============================>.] - ETA: 0s - loss: 0.3171 - acc: 0.9335 - recall: 0.7055 - precision: 0.8538 - f1score: 0.7723\n",
            "Epoch 00024: val_acc improved from 0.92157 to 0.92281, saving model to /content/drive/My Drive/models/deeperppddbest.h5\n",
            "116625/116625 [==============================] - 5s 43us/sample - loss: 0.3171 - acc: 0.9335 - recall: 0.7056 - precision: 0.8539 - f1score: 0.7725 - val_loss: 0.3312 - val_acc: 0.9228 - val_recall: 0.6861 - val_precision: 0.8020 - val_f1score: 0.7394\n",
            "Epoch 25/100\n",
            "115200/116625 [============================>.] - ETA: 0s - loss: 0.3165 - acc: 0.9340 - recall: 0.7084 - precision: 0.8542 - f1score: 0.7743\n",
            "Epoch 00025: val_acc did not improve from 0.92281\n",
            "116625/116625 [==============================] - 4s 33us/sample - loss: 0.3165 - acc: 0.9339 - recall: 0.7082 - precision: 0.8541 - f1score: 0.7741 - val_loss: 0.3314 - val_acc: 0.9220 - val_recall: 0.6735 - val_precision: 0.8066 - val_f1score: 0.7339\n",
            "Epoch 26/100\n",
            "115200/116625 [============================>.] - ETA: 0s - loss: 0.3156 - acc: 0.9347 - recall: 0.7119 - precision: 0.8560 - f1score: 0.7770\n",
            "Epoch 00026: val_acc improved from 0.92281 to 0.92317, saving model to /content/drive/My Drive/models/deeperppddbest.h5\n",
            "116625/116625 [==============================] - 4s 34us/sample - loss: 0.3156 - acc: 0.9347 - recall: 0.7118 - precision: 0.8560 - f1score: 0.7770 - val_loss: 0.3306 - val_acc: 0.9232 - val_recall: 0.6716 - val_precision: 0.8153 - val_f1score: 0.7363\n",
            "Epoch 27/100\n",
            "116480/116625 [============================>.] - ETA: 0s - loss: 0.3152 - acc: 0.9348 - recall: 0.7130 - precision: 0.8556 - f1score: 0.7775\n",
            "Epoch 00027: val_acc did not improve from 0.92317\n",
            "116625/116625 [==============================] - 4s 32us/sample - loss: 0.3152 - acc: 0.9348 - recall: 0.7130 - precision: 0.8557 - f1score: 0.7776 - val_loss: 0.3345 - val_acc: 0.9217 - val_recall: 0.6722 - val_precision: 0.8057 - val_f1score: 0.7328\n",
            "Epoch 28/100\n",
            "115712/116625 [============================>.] - ETA: 0s - loss: 0.3149 - acc: 0.9349 - recall: 0.7143 - precision: 0.8556 - f1score: 0.7783\n",
            "Epoch 00028: val_acc did not improve from 0.92317\n",
            "116625/116625 [==============================] - 4s 33us/sample - loss: 0.3149 - acc: 0.9350 - recall: 0.7145 - precision: 0.8555 - f1score: 0.7784 - val_loss: 0.3316 - val_acc: 0.9214 - val_recall: 0.6575 - val_precision: 0.8147 - val_f1score: 0.7276\n",
            "Epoch 29/100\n",
            "114944/116625 [============================>.] - ETA: 0s - loss: 0.3140 - acc: 0.9358 - recall: 0.7180 - precision: 0.8578 - f1score: 0.7814\n",
            "Epoch 00029: val_acc did not improve from 0.92317\n",
            "116625/116625 [==============================] - 4s 33us/sample - loss: 0.3141 - acc: 0.9357 - recall: 0.7177 - precision: 0.8577 - f1score: 0.7812 - val_loss: 0.3305 - val_acc: 0.9225 - val_recall: 0.6651 - val_precision: 0.8161 - val_f1score: 0.7327\n",
            "Epoch 30/100\n",
            "115456/116625 [============================>.] - ETA: 0s - loss: 0.3138 - acc: 0.9358 - recall: 0.7182 - precision: 0.8575 - f1score: 0.7814\n",
            "Epoch 00030: val_acc did not improve from 0.92317\n",
            "116625/116625 [==============================] - 4s 34us/sample - loss: 0.3138 - acc: 0.9358 - recall: 0.7184 - precision: 0.8574 - f1score: 0.7815 - val_loss: 0.3326 - val_acc: 0.9223 - val_recall: 0.6795 - val_precision: 0.8046 - val_f1score: 0.7365\n",
            "Epoch 31/100\n",
            "116224/116625 [============================>.] - ETA: 0s - loss: 0.3130 - acc: 0.9367 - recall: 0.7215 - precision: 0.8605 - f1score: 0.7847\n",
            "Epoch 00031: val_acc did not improve from 0.92317\n",
            "116625/116625 [==============================] - 4s 35us/sample - loss: 0.3130 - acc: 0.9366 - recall: 0.7213 - precision: 0.8604 - f1score: 0.7845 - val_loss: 0.3305 - val_acc: 0.9225 - val_recall: 0.6750 - val_precision: 0.8084 - val_f1score: 0.7356\n",
            "Epoch 32/100\n",
            "116480/116625 [============================>.] - ETA: 0s - loss: 0.3129 - acc: 0.9365 - recall: 0.7211 - precision: 0.8598 - f1score: 0.7841\n",
            "Epoch 00032: val_acc did not improve from 0.92317\n",
            "116625/116625 [==============================] - 4s 33us/sample - loss: 0.3129 - acc: 0.9365 - recall: 0.7211 - precision: 0.8597 - f1score: 0.7841 - val_loss: 0.3322 - val_acc: 0.9230 - val_recall: 0.6906 - val_precision: 0.7999 - val_f1score: 0.7410\n",
            "Epoch 33/100\n",
            "115200/116625 [============================>.] - ETA: 0s - loss: 0.3123 - acc: 0.9370 - recall: 0.7241 - precision: 0.8602 - f1score: 0.7861\n",
            "Epoch 00033: val_acc improved from 0.92317 to 0.92360, saving model to /content/drive/My Drive/models/deeperppddbest.h5\n",
            "116625/116625 [==============================] - 19s 165us/sample - loss: 0.3122 - acc: 0.9370 - recall: 0.7242 - precision: 0.8603 - f1score: 0.7862 - val_loss: 0.3307 - val_acc: 0.9236 - val_recall: 0.6775 - val_precision: 0.8134 - val_f1score: 0.7391\n",
            "Epoch 34/100\n",
            "115968/116625 [============================>.] - ETA: 0s - loss: 0.3119 - acc: 0.9372 - recall: 0.7249 - precision: 0.8612 - f1score: 0.7870\n",
            "Epoch 00034: val_acc did not improve from 0.92360\n",
            "116625/116625 [==============================] - 4s 34us/sample - loss: 0.3120 - acc: 0.9372 - recall: 0.7249 - precision: 0.8611 - f1score: 0.7869 - val_loss: 0.3301 - val_acc: 0.9227 - val_recall: 0.6825 - val_precision: 0.8041 - val_f1score: 0.7382\n",
            "Epoch 35/100\n",
            "115200/116625 [============================>.] - ETA: 0s - loss: 0.3113 - acc: 0.9375 - recall: 0.7258 - precision: 0.8621 - f1score: 0.7878\n",
            "Epoch 00035: val_acc improved from 0.92360 to 0.92373, saving model to /content/drive/My Drive/models/deeperppddbest.h5\n",
            "116625/116625 [==============================] - 4s 34us/sample - loss: 0.3113 - acc: 0.9375 - recall: 0.7259 - precision: 0.8622 - f1score: 0.7880 - val_loss: 0.3308 - val_acc: 0.9237 - val_recall: 0.6914 - val_precision: 0.8044 - val_f1score: 0.7435\n",
            "Epoch 36/100\n",
            "115200/116625 [============================>.] - ETA: 0s - loss: 0.3113 - acc: 0.9376 - recall: 0.7260 - precision: 0.8626 - f1score: 0.7883\n",
            "Epoch 00036: val_acc did not improve from 0.92373\n",
            "116625/116625 [==============================] - 4s 33us/sample - loss: 0.3114 - acc: 0.9376 - recall: 0.7259 - precision: 0.8624 - f1score: 0.7880 - val_loss: 0.3316 - val_acc: 0.9233 - val_recall: 0.6868 - val_precision: 0.8045 - val_f1score: 0.7408\n",
            "Epoch 37/100\n",
            "115712/116625 [============================>.] - ETA: 0s - loss: 0.3109 - acc: 0.9381 - recall: 0.7286 - precision: 0.8635 - f1score: 0.7901\n",
            "Epoch 00037: val_acc did not improve from 0.92373\n",
            "116625/116625 [==============================] - 4s 32us/sample - loss: 0.3110 - acc: 0.9381 - recall: 0.7283 - precision: 0.8634 - f1score: 0.7899 - val_loss: 0.3299 - val_acc: 0.9228 - val_recall: 0.6700 - val_precision: 0.8138 - val_f1score: 0.7348\n",
            "Epoch 38/100\n",
            "114944/116625 [============================>.] - ETA: 0s - loss: 0.3108 - acc: 0.9382 - recall: 0.7285 - precision: 0.8640 - f1score: 0.7903\n",
            "Epoch 00038: val_acc did not improve from 0.92373\n",
            "116625/116625 [==============================] - 4s 33us/sample - loss: 0.3108 - acc: 0.9382 - recall: 0.7286 - precision: 0.8641 - f1score: 0.7903 - val_loss: 0.3310 - val_acc: 0.9234 - val_recall: 0.6888 - val_precision: 0.8042 - val_f1score: 0.7419\n",
            "Epoch 39/100\n",
            "115456/116625 [============================>.] - ETA: 0s - loss: 0.3103 - acc: 0.9384 - recall: 0.7305 - precision: 0.8634 - f1score: 0.7913\n",
            "Epoch 00039: val_acc did not improve from 0.92373\n",
            "116625/116625 [==============================] - 4s 33us/sample - loss: 0.3104 - acc: 0.9383 - recall: 0.7303 - precision: 0.8633 - f1score: 0.7911 - val_loss: 0.3322 - val_acc: 0.9224 - val_recall: 0.6651 - val_precision: 0.8156 - val_f1score: 0.7326\n",
            "Epoch 40/100\n",
            "115200/116625 [============================>.] - ETA: 0s - loss: 0.3096 - acc: 0.9390 - recall: 0.7320 - precision: 0.8658 - f1score: 0.7931\n",
            "Epoch 00040: val_acc did not improve from 0.92373\n",
            "116625/116625 [==============================] - 4s 34us/sample - loss: 0.3096 - acc: 0.9389 - recall: 0.7320 - precision: 0.8659 - f1score: 0.7931 - val_loss: 0.3299 - val_acc: 0.9232 - val_recall: 0.6738 - val_precision: 0.8131 - val_f1score: 0.7368\n",
            "Epoch 41/100\n",
            "116480/116625 [============================>.] - ETA: 0s - loss: 0.3097 - acc: 0.9389 - recall: 0.7330 - precision: 0.8650 - f1score: 0.7933\n",
            "Epoch 00041: val_acc did not improve from 0.92373\n",
            "116625/116625 [==============================] - 4s 32us/sample - loss: 0.3097 - acc: 0.9389 - recall: 0.7330 - precision: 0.8650 - f1score: 0.7933 - val_loss: 0.3298 - val_acc: 0.9233 - val_recall: 0.6760 - val_precision: 0.8129 - val_f1score: 0.7379\n",
            "Epoch 42/100\n",
            "115712/116625 [============================>.] - ETA: 0s - loss: 0.3093 - acc: 0.9393 - recall: 0.7339 - precision: 0.8662 - f1score: 0.7944\n",
            "Epoch 00042: val_acc improved from 0.92373 to 0.92388, saving model to /content/drive/My Drive/models/deeperppddbest.h5\n",
            "116625/116625 [==============================] - 6s 51us/sample - loss: 0.3092 - acc: 0.9393 - recall: 0.7340 - precision: 0.8664 - f1score: 0.7945 - val_loss: 0.3297 - val_acc: 0.9239 - val_recall: 0.6902 - val_precision: 0.8055 - val_f1score: 0.7433\n",
            "Epoch 43/100\n",
            "115712/116625 [============================>.] - ETA: 0s - loss: 0.3091 - acc: 0.9391 - recall: 0.7336 - precision: 0.8655 - f1score: 0.7938\n",
            "Epoch 00043: val_acc improved from 0.92388 to 0.92482, saving model to /content/drive/My Drive/models/deeperppddbest.h5\n",
            "116625/116625 [==============================] - 4s 34us/sample - loss: 0.3091 - acc: 0.9391 - recall: 0.7334 - precision: 0.8655 - f1score: 0.7937 - val_loss: 0.3292 - val_acc: 0.9248 - val_recall: 0.7033 - val_precision: 0.8017 - val_f1score: 0.7491\n",
            "Epoch 44/100\n",
            "115200/116625 [============================>.] - ETA: 0s - loss: 0.3085 - acc: 0.9397 - recall: 0.7359 - precision: 0.8674 - f1score: 0.7960\n",
            "Epoch 00044: val_acc did not improve from 0.92482\n",
            "116625/116625 [==============================] - 4s 32us/sample - loss: 0.3086 - acc: 0.9397 - recall: 0.7359 - precision: 0.8672 - f1score: 0.7959 - val_loss: 0.3329 - val_acc: 0.9206 - val_recall: 0.6465 - val_precision: 0.8193 - val_f1score: 0.7225\n",
            "Epoch 45/100\n",
            "116480/116625 [============================>.] - ETA: 0s - loss: 0.3085 - acc: 0.9397 - recall: 0.7362 - precision: 0.8674 - f1score: 0.7962\n",
            "Epoch 00045: val_acc did not improve from 0.92482\n",
            "116625/116625 [==============================] - 4s 34us/sample - loss: 0.3085 - acc: 0.9397 - recall: 0.7363 - precision: 0.8674 - f1score: 0.7962 - val_loss: 0.3300 - val_acc: 0.9238 - val_recall: 0.6836 - val_precision: 0.8096 - val_f1score: 0.7411\n",
            "Epoch 46/100\n",
            "114944/116625 [============================>.] - ETA: 0s - loss: 0.3081 - acc: 0.9399 - recall: 0.7373 - precision: 0.8676 - f1score: 0.7969\n",
            "Epoch 00046: val_acc did not improve from 0.92482\n",
            "116625/116625 [==============================] - 4s 32us/sample - loss: 0.3081 - acc: 0.9399 - recall: 0.7373 - precision: 0.8677 - f1score: 0.7970 - val_loss: 0.3303 - val_acc: 0.9235 - val_recall: 0.6922 - val_precision: 0.8013 - val_f1score: 0.7426\n",
            "Epoch 47/100\n",
            "116224/116625 [============================>.] - ETA: 0s - loss: 0.3079 - acc: 0.9400 - recall: 0.7377 - precision: 0.8677 - f1score: 0.7972\n",
            "Epoch 00047: val_acc did not improve from 0.92482\n",
            "116625/116625 [==============================] - 4s 32us/sample - loss: 0.3079 - acc: 0.9400 - recall: 0.7376 - precision: 0.8675 - f1score: 0.7971 - val_loss: 0.3281 - val_acc: 0.9243 - val_recall: 0.6753 - val_precision: 0.8195 - val_f1score: 0.7402\n",
            "Epoch 48/100\n",
            "116224/116625 [============================>.] - ETA: 0s - loss: 0.3079 - acc: 0.9402 - recall: 0.7381 - precision: 0.8690 - f1score: 0.7980\n",
            "Epoch 00048: val_acc did not improve from 0.92482\n",
            "116625/116625 [==============================] - 4s 32us/sample - loss: 0.3078 - acc: 0.9403 - recall: 0.7382 - precision: 0.8690 - f1score: 0.7981 - val_loss: 0.3303 - val_acc: 0.9227 - val_recall: 0.6884 - val_precision: 0.8000 - val_f1score: 0.7398\n",
            "Epoch 49/100\n",
            "116480/116625 [============================>.] - ETA: 0s - loss: 0.3076 - acc: 0.9405 - recall: 0.7393 - precision: 0.8694 - f1score: 0.7989\n",
            "Epoch 00049: val_acc did not improve from 0.92482\n",
            "116625/116625 [==============================] - 4s 34us/sample - loss: 0.3076 - acc: 0.9405 - recall: 0.7391 - precision: 0.8694 - f1score: 0.7988 - val_loss: 0.3282 - val_acc: 0.9243 - val_recall: 0.6662 - val_precision: 0.8265 - val_f1score: 0.7376\n",
            "Epoch 50/100\n",
            "115712/116625 [============================>.] - ETA: 0s - loss: 0.3072 - acc: 0.9405 - recall: 0.7396 - precision: 0.8691 - f1score: 0.7990\n",
            "Epoch 00050: val_acc did not improve from 0.92482\n",
            "116625/116625 [==============================] - 4s 34us/sample - loss: 0.3072 - acc: 0.9405 - recall: 0.7395 - precision: 0.8692 - f1score: 0.7989 - val_loss: 0.3316 - val_acc: 0.9229 - val_recall: 0.6807 - val_precision: 0.8067 - val_f1score: 0.7381\n",
            "Epoch 51/100\n",
            "115968/116625 [============================>.] - ETA: 0s - loss: 0.3072 - acc: 0.9406 - recall: 0.7406 - precision: 0.8693 - f1score: 0.7996\n",
            "Epoch 00051: val_acc improved from 0.92482 to 0.92511, saving model to /content/drive/My Drive/models/deeperppddbest.h5\n",
            "116625/116625 [==============================] - 5s 45us/sample - loss: 0.3072 - acc: 0.9406 - recall: 0.7406 - precision: 0.8694 - f1score: 0.7996 - val_loss: 0.3291 - val_acc: 0.9251 - val_recall: 0.6796 - val_precision: 0.8202 - val_f1score: 0.7431\n",
            "Epoch 52/100\n",
            "116480/116625 [============================>.] - ETA: 0s - loss: 0.3072 - acc: 0.9405 - recall: 0.7399 - precision: 0.8689 - f1score: 0.7990\n",
            "Epoch 00052: val_acc did not improve from 0.92511\n",
            "116625/116625 [==============================] - 4s 33us/sample - loss: 0.3072 - acc: 0.9405 - recall: 0.7399 - precision: 0.8689 - f1score: 0.7990 - val_loss: 0.3307 - val_acc: 0.9236 - val_recall: 0.6808 - val_precision: 0.8106 - val_f1score: 0.7399\n",
            "Epoch 53/100\n",
            "114944/116625 [============================>.] - ETA: 0s - loss: 0.3067 - acc: 0.9412 - recall: 0.7432 - precision: 0.8706 - f1score: 0.8017\n",
            "Epoch 00053: val_acc did not improve from 0.92511\n",
            "116625/116625 [==============================] - 4s 32us/sample - loss: 0.3067 - acc: 0.9411 - recall: 0.7428 - precision: 0.8706 - f1score: 0.8014 - val_loss: 0.3323 - val_acc: 0.9216 - val_recall: 0.6549 - val_precision: 0.8178 - val_f1score: 0.7272\n",
            "Epoch 54/100\n",
            "116224/116625 [============================>.] - ETA: 0s - loss: 0.3066 - acc: 0.9411 - recall: 0.7422 - precision: 0.8705 - f1score: 0.8010\n",
            "Epoch 00054: val_acc did not improve from 0.92511\n",
            "116625/116625 [==============================] - 4s 32us/sample - loss: 0.3066 - acc: 0.9410 - recall: 0.7422 - precision: 0.8704 - f1score: 0.8010 - val_loss: 0.3304 - val_acc: 0.9235 - val_recall: 0.6912 - val_precision: 0.8026 - val_f1score: 0.7426\n",
            "Epoch 55/100\n",
            "115712/116625 [============================>.] - ETA: 0s - loss: 0.3061 - acc: 0.9415 - recall: 0.7437 - precision: 0.8722 - f1score: 0.8026\n",
            "Epoch 00055: val_acc did not improve from 0.92511\n",
            "116625/116625 [==============================] - 4s 33us/sample - loss: 0.3061 - acc: 0.9415 - recall: 0.7437 - precision: 0.8720 - f1score: 0.8025 - val_loss: 0.3309 - val_acc: 0.9231 - val_recall: 0.6805 - val_precision: 0.8078 - val_f1score: 0.7385\n",
            "Epoch 56/100\n",
            "115712/116625 [============================>.] - ETA: 0s - loss: 0.3062 - acc: 0.9414 - recall: 0.7437 - precision: 0.8715 - f1score: 0.8023\n",
            "Epoch 00056: val_acc did not improve from 0.92511\n",
            "116625/116625 [==============================] - 4s 32us/sample - loss: 0.3062 - acc: 0.9414 - recall: 0.7437 - precision: 0.8716 - f1score: 0.8024 - val_loss: 0.3306 - val_acc: 0.9233 - val_recall: 0.6880 - val_precision: 0.8039 - val_f1score: 0.7413\n",
            "Epoch 57/100\n",
            "115712/116625 [============================>.] - ETA: 0s - loss: 0.3059 - acc: 0.9416 - recall: 0.7451 - precision: 0.8717 - f1score: 0.8033\n",
            "Epoch 00057: val_acc did not improve from 0.92511\n",
            "116625/116625 [==============================] - 4s 32us/sample - loss: 0.3059 - acc: 0.9416 - recall: 0.7449 - precision: 0.8716 - f1score: 0.8031 - val_loss: 0.3301 - val_acc: 0.9242 - val_recall: 0.6662 - val_precision: 0.8255 - val_f1score: 0.7372\n",
            "Epoch 58/100\n",
            "115712/116625 [============================>.] - ETA: 0s - loss: 0.3055 - acc: 0.9418 - recall: 0.7455 - precision: 0.8725 - f1score: 0.8038\n",
            "Epoch 00058: val_acc did not improve from 0.92511\n",
            "116625/116625 [==============================] - 4s 32us/sample - loss: 0.3055 - acc: 0.9418 - recall: 0.7454 - precision: 0.8726 - f1score: 0.8038 - val_loss: 0.3311 - val_acc: 0.9232 - val_recall: 0.6873 - val_precision: 0.8037 - val_f1score: 0.7409\n",
            "Epoch 59/100\n",
            "114944/116625 [============================>.] - ETA: 0s - loss: 0.3054 - acc: 0.9421 - recall: 0.7461 - precision: 0.8736 - f1score: 0.8046\n",
            "Epoch 00059: val_acc did not improve from 0.92511\n",
            "116625/116625 [==============================] - 4s 33us/sample - loss: 0.3055 - acc: 0.9420 - recall: 0.7459 - precision: 0.8736 - f1score: 0.8045 - val_loss: 0.3304 - val_acc: 0.9235 - val_recall: 0.6782 - val_precision: 0.8120 - val_f1score: 0.7389\n",
            "Epoch 60/100\n",
            "114944/116625 [============================>.] - ETA: 0s - loss: 0.3056 - acc: 0.9418 - recall: 0.7453 - precision: 0.8724 - f1score: 0.8036\n",
            "Epoch 00060: val_acc did not improve from 0.92511\n",
            "116625/116625 [==============================] - 4s 32us/sample - loss: 0.3056 - acc: 0.9418 - recall: 0.7454 - precision: 0.8724 - f1score: 0.8037 - val_loss: 0.3333 - val_acc: 0.9227 - val_recall: 0.6791 - val_precision: 0.8064 - val_f1score: 0.7371\n",
            "Epoch 61/100\n",
            "115456/116625 [============================>.] - ETA: 0s - loss: 0.3052 - acc: 0.9421 - recall: 0.7465 - precision: 0.8734 - f1score: 0.8048\n",
            "Epoch 00061: val_acc did not improve from 0.92511\n",
            "116625/116625 [==============================] - 4s 32us/sample - loss: 0.3051 - acc: 0.9422 - recall: 0.7469 - precision: 0.8736 - f1score: 0.8051 - val_loss: 0.3315 - val_acc: 0.9232 - val_recall: 0.6795 - val_precision: 0.8093 - val_f1score: 0.7386\n",
            "Epoch 62/100\n",
            "115968/116625 [============================>.] - ETA: 0s - loss: 0.3053 - acc: 0.9421 - recall: 0.7469 - precision: 0.8731 - f1score: 0.8049\n",
            "Epoch 00062: val_acc did not improve from 0.92511\n",
            "116625/116625 [==============================] - 4s 32us/sample - loss: 0.3053 - acc: 0.9421 - recall: 0.7469 - precision: 0.8731 - f1score: 0.8048 - val_loss: 0.3321 - val_acc: 0.9228 - val_recall: 0.6891 - val_precision: 0.7998 - val_f1score: 0.7403\n",
            "Epoch 63/100\n",
            "114944/116625 [============================>.] - ETA: 0s - loss: 0.3048 - acc: 0.9426 - recall: 0.7482 - precision: 0.8749 - f1score: 0.8064\n",
            "Epoch 00063: val_acc did not improve from 0.92511\n",
            "116625/116625 [==============================] - 4s 32us/sample - loss: 0.3048 - acc: 0.9426 - recall: 0.7482 - precision: 0.8749 - f1score: 0.8064 - val_loss: 0.3305 - val_acc: 0.9242 - val_recall: 0.6763 - val_precision: 0.8177 - val_f1score: 0.7402\n",
            "Epoch 64/100\n",
            "115456/116625 [============================>.] - ETA: 0s - loss: 0.3048 - acc: 0.9425 - recall: 0.7488 - precision: 0.8740 - f1score: 0.8064\n",
            "Epoch 00064: val_acc did not improve from 0.92511\n",
            "116625/116625 [==============================] - 4s 33us/sample - loss: 0.3048 - acc: 0.9425 - recall: 0.7487 - precision: 0.8740 - f1score: 0.8063 - val_loss: 0.3301 - val_acc: 0.9240 - val_recall: 0.6691 - val_precision: 0.8225 - val_f1score: 0.7377\n",
            "Epoch 65/100\n",
            "115200/116625 [============================>.] - ETA: 0s - loss: 0.3049 - acc: 0.9421 - recall: 0.7470 - precision: 0.8729 - f1score: 0.8048\n",
            "Epoch 00065: val_acc did not improve from 0.92511\n",
            "116625/116625 [==============================] - 4s 32us/sample - loss: 0.3048 - acc: 0.9421 - recall: 0.7470 - precision: 0.8730 - f1score: 0.8049 - val_loss: 0.3306 - val_acc: 0.9245 - val_recall: 0.6699 - val_precision: 0.8246 - val_f1score: 0.7391\n",
            "Epoch 66/100\n",
            "116480/116625 [============================>.] - ETA: 0s - loss: 0.3043 - acc: 0.9428 - recall: 0.7501 - precision: 0.8746 - f1score: 0.8074\n",
            "Epoch 00066: val_acc did not improve from 0.92511\n",
            "116625/116625 [==============================] - 4s 32us/sample - loss: 0.3043 - acc: 0.9428 - recall: 0.7502 - precision: 0.8747 - f1score: 0.8075 - val_loss: 0.3331 - val_acc: 0.9238 - val_recall: 0.6737 - val_precision: 0.8176 - val_f1score: 0.7386\n",
            "Epoch 67/100\n",
            "115968/116625 [============================>.] - ETA: 0s - loss: 0.3040 - acc: 0.9430 - recall: 0.7504 - precision: 0.8760 - f1score: 0.8081\n",
            "Epoch 00067: val_acc did not improve from 0.92511\n",
            "116625/116625 [==============================] - 4s 32us/sample - loss: 0.3039 - acc: 0.9430 - recall: 0.7505 - precision: 0.8760 - f1score: 0.8082 - val_loss: 0.3310 - val_acc: 0.9228 - val_recall: 0.6715 - val_precision: 0.8136 - val_f1score: 0.7356\n",
            "Epoch 68/100\n",
            "116480/116625 [============================>.] - ETA: 0s - loss: 0.3045 - acc: 0.9426 - recall: 0.7490 - precision: 0.8743 - f1score: 0.8066\n",
            "Epoch 00068: val_acc did not improve from 0.92511\n",
            "116625/116625 [==============================] - 4s 31us/sample - loss: 0.3045 - acc: 0.9426 - recall: 0.7490 - precision: 0.8743 - f1score: 0.8066 - val_loss: 0.3304 - val_acc: 0.9243 - val_recall: 0.6884 - val_precision: 0.8095 - val_f1score: 0.7439\n",
            "Epoch 69/100\n",
            "115456/116625 [============================>.] - ETA: 0s - loss: 0.3040 - acc: 0.9428 - recall: 0.7506 - precision: 0.8745 - f1score: 0.8076\n",
            "Epoch 00069: val_acc did not improve from 0.92511\n",
            "116625/116625 [==============================] - 4s 32us/sample - loss: 0.3040 - acc: 0.9428 - recall: 0.7507 - precision: 0.8746 - f1score: 0.8077 - val_loss: 0.3292 - val_acc: 0.9249 - val_recall: 0.6864 - val_precision: 0.8146 - val_f1score: 0.7449\n",
            "Epoch 70/100\n",
            "115712/116625 [============================>.] - ETA: 0s - loss: 0.3040 - acc: 0.9429 - recall: 0.7500 - precision: 0.8754 - f1score: 0.8077\n",
            "Epoch 00070: val_acc did not improve from 0.92511\n",
            "116625/116625 [==============================] - 4s 33us/sample - loss: 0.3040 - acc: 0.9429 - recall: 0.7501 - precision: 0.8755 - f1score: 0.8078 - val_loss: 0.3325 - val_acc: 0.9230 - val_recall: 0.6984 - val_precision: 0.7956 - val_f1score: 0.7437\n",
            "Epoch 71/100\n",
            "115968/116625 [============================>.] - ETA: 0s - loss: 0.3039 - acc: 0.9430 - recall: 0.7510 - precision: 0.8753 - f1score: 0.8082\n",
            "Epoch 00071: val_acc did not improve from 0.92511\n",
            "116625/116625 [==============================] - 4s 32us/sample - loss: 0.3039 - acc: 0.9430 - recall: 0.7510 - precision: 0.8754 - f1score: 0.8082 - val_loss: 0.3296 - val_acc: 0.9246 - val_recall: 0.6788 - val_precision: 0.8186 - val_f1score: 0.7420\n",
            "Epoch 72/100\n",
            "115712/116625 [============================>.] - ETA: 0s - loss: 0.3035 - acc: 0.9433 - recall: 0.7521 - precision: 0.8764 - f1score: 0.8093\n",
            "Epoch 00072: val_acc did not improve from 0.92511\n",
            "116625/116625 [==============================] - 4s 32us/sample - loss: 0.3035 - acc: 0.9433 - recall: 0.7519 - precision: 0.8764 - f1score: 0.8092 - val_loss: 0.3319 - val_acc: 0.9219 - val_recall: 0.6626 - val_precision: 0.8139 - val_f1score: 0.7304\n",
            "Epoch 73/100\n",
            "115456/116625 [============================>.] - ETA: 0s - loss: 0.3034 - acc: 0.9433 - recall: 0.7522 - precision: 0.8762 - f1score: 0.8092\n",
            "Epoch 00073: val_acc did not improve from 0.92511\n",
            "116625/116625 [==============================] - 4s 33us/sample - loss: 0.3035 - acc: 0.9433 - recall: 0.7520 - precision: 0.8763 - f1score: 0.8092 - val_loss: 0.3300 - val_acc: 0.9240 - val_recall: 0.6899 - val_precision: 0.8068 - val_f1score: 0.7436\n",
            "Epoch 74/100\n",
            "115968/116625 [============================>.] - ETA: 0s - loss: 0.3031 - acc: 0.9436 - recall: 0.7531 - precision: 0.8771 - f1score: 0.8102\n",
            "Epoch 00074: val_acc did not improve from 0.92511\n",
            "116625/116625 [==============================] - 4s 32us/sample - loss: 0.3031 - acc: 0.9436 - recall: 0.7533 - precision: 0.8771 - f1score: 0.8103 - val_loss: 0.3290 - val_acc: 0.9243 - val_recall: 0.6729 - val_precision: 0.8206 - val_f1score: 0.7393\n",
            "Epoch 75/100\n",
            "116480/116625 [============================>.] - ETA: 0s - loss: 0.3031 - acc: 0.9435 - recall: 0.7528 - precision: 0.8772 - f1score: 0.8100\n",
            "Epoch 00075: val_acc did not improve from 0.92511\n",
            "116625/116625 [==============================] - 4s 32us/sample - loss: 0.3031 - acc: 0.9435 - recall: 0.7528 - precision: 0.8772 - f1score: 0.8100 - val_loss: 0.3302 - val_acc: 0.9237 - val_recall: 0.6715 - val_precision: 0.8178 - val_f1score: 0.7373\n",
            "Epoch 76/100\n",
            "115712/116625 [============================>.] - ETA: 0s - loss: 0.3033 - acc: 0.9434 - recall: 0.7531 - precision: 0.8762 - f1score: 0.8098\n",
            "Epoch 00076: val_acc did not improve from 0.92511\n",
            "116625/116625 [==============================] - 4s 32us/sample - loss: 0.3033 - acc: 0.9434 - recall: 0.7530 - precision: 0.8761 - f1score: 0.8097 - val_loss: 0.3331 - val_acc: 0.9220 - val_recall: 0.6877 - val_precision: 0.7965 - val_f1score: 0.7379\n",
            "Epoch 77/100\n",
            "114944/116625 [============================>.] - ETA: 0s - loss: 0.3031 - acc: 0.9437 - recall: 0.7542 - precision: 0.8771 - f1score: 0.8108\n",
            "Epoch 00077: val_acc did not improve from 0.92511\n",
            "116625/116625 [==============================] - 4s 33us/sample - loss: 0.3032 - acc: 0.9437 - recall: 0.7541 - precision: 0.8769 - f1score: 0.8107 - val_loss: 0.3294 - val_acc: 0.9244 - val_recall: 0.6862 - val_precision: 0.8113 - val_f1score: 0.7433\n",
            "Epoch 78/100\n",
            "116224/116625 [============================>.] - ETA: 0s - loss: 0.3028 - acc: 0.9437 - recall: 0.7540 - precision: 0.8770 - f1score: 0.8106\n",
            "Epoch 00078: val_acc did not improve from 0.92511\n",
            "116625/116625 [==============================] - 4s 32us/sample - loss: 0.3028 - acc: 0.9437 - recall: 0.7541 - precision: 0.8771 - f1score: 0.8107 - val_loss: 0.3301 - val_acc: 0.9240 - val_recall: 0.6757 - val_precision: 0.8170 - val_f1score: 0.7395\n",
            "Epoch 79/100\n",
            "115968/116625 [============================>.] - ETA: 0s - loss: 0.3026 - acc: 0.9438 - recall: 0.7548 - precision: 0.8774 - f1score: 0.8113\n",
            "Epoch 00079: val_acc did not improve from 0.92511\n",
            "116625/116625 [==============================] - 4s 33us/sample - loss: 0.3027 - acc: 0.9438 - recall: 0.7548 - precision: 0.8772 - f1score: 0.8112 - val_loss: 0.3298 - val_acc: 0.9247 - val_recall: 0.6836 - val_precision: 0.8147 - val_f1score: 0.7432\n",
            "Epoch 80/100\n",
            "115968/116625 [============================>.] - ETA: 0s - loss: 0.3022 - acc: 0.9441 - recall: 0.7564 - precision: 0.8780 - f1score: 0.8124\n",
            "Epoch 00080: val_acc did not improve from 0.92511\n",
            "116625/116625 [==============================] - 4s 32us/sample - loss: 0.3022 - acc: 0.9442 - recall: 0.7564 - precision: 0.8780 - f1score: 0.8125 - val_loss: 0.3302 - val_acc: 0.9245 - val_recall: 0.6894 - val_precision: 0.8104 - val_f1score: 0.7449\n",
            "Epoch 81/100\n",
            "115200/116625 [============================>.] - ETA: 0s - loss: 0.3027 - acc: 0.9439 - recall: 0.7550 - precision: 0.8772 - f1score: 0.8113\n",
            "Epoch 00081: val_acc did not improve from 0.92511\n",
            "116625/116625 [==============================] - 4s 32us/sample - loss: 0.3027 - acc: 0.9439 - recall: 0.7551 - precision: 0.8772 - f1score: 0.8114 - val_loss: 0.3300 - val_acc: 0.9247 - val_recall: 0.6844 - val_precision: 0.8149 - val_f1score: 0.7438\n",
            "Epoch 82/100\n",
            "116480/116625 [============================>.] - ETA: 0s - loss: 0.3022 - acc: 0.9442 - recall: 0.7562 - precision: 0.8785 - f1score: 0.8125\n",
            "Epoch 00082: val_acc did not improve from 0.92511\n",
            "116625/116625 [==============================] - 4s 32us/sample - loss: 0.3022 - acc: 0.9442 - recall: 0.7561 - precision: 0.8784 - f1score: 0.8125 - val_loss: 0.3313 - val_acc: 0.9240 - val_recall: 0.6852 - val_precision: 0.8101 - val_f1score: 0.7423\n",
            "Epoch 83/100\n",
            "114944/116625 [============================>.] - ETA: 0s - loss: 0.3024 - acc: 0.9442 - recall: 0.7562 - precision: 0.8786 - f1score: 0.8126\n",
            "Epoch 00083: val_acc did not improve from 0.92511\n",
            "116625/116625 [==============================] - 4s 32us/sample - loss: 0.3024 - acc: 0.9442 - recall: 0.7562 - precision: 0.8784 - f1score: 0.8125 - val_loss: 0.3314 - val_acc: 0.9234 - val_recall: 0.6838 - val_precision: 0.8075 - val_f1score: 0.7404\n",
            "Epoch 84/100\n",
            "115968/116625 [============================>.] - ETA: 0s - loss: 0.3020 - acc: 0.9444 - recall: 0.7575 - precision: 0.8788 - f1score: 0.8134\n",
            "Epoch 00084: val_acc did not improve from 0.92511\n",
            "116625/116625 [==============================] - 4s 33us/sample - loss: 0.3020 - acc: 0.9444 - recall: 0.7576 - precision: 0.8788 - f1score: 0.8135 - val_loss: 0.3303 - val_acc: 0.9241 - val_recall: 0.6803 - val_precision: 0.8144 - val_f1score: 0.7411\n",
            "Epoch 85/100\n",
            "115456/116625 [============================>.] - ETA: 0s - loss: 0.3022 - acc: 0.9442 - recall: 0.7559 - precision: 0.8789 - f1score: 0.8126\n",
            "Epoch 00085: val_acc did not improve from 0.92511\n",
            "116625/116625 [==============================] - 4s 33us/sample - loss: 0.3022 - acc: 0.9442 - recall: 0.7560 - precision: 0.8790 - f1score: 0.8127 - val_loss: 0.3317 - val_acc: 0.9236 - val_recall: 0.6782 - val_precision: 0.8131 - val_f1score: 0.7393\n",
            "Epoch 86/100\n",
            "114944/116625 [============================>.] - ETA: 0s - loss: 0.3018 - acc: 0.9447 - recall: 0.7582 - precision: 0.8797 - f1score: 0.8142\n",
            "Epoch 00086: val_acc did not improve from 0.92511\n",
            "116625/116625 [==============================] - 4s 33us/sample - loss: 0.3018 - acc: 0.9446 - recall: 0.7580 - precision: 0.8796 - f1score: 0.8141 - val_loss: 0.3303 - val_acc: 0.9244 - val_recall: 0.6951 - val_precision: 0.8052 - val_f1score: 0.7460\n",
            "Epoch 87/100\n",
            "116480/116625 [============================>.] - ETA: 0s - loss: 0.3016 - acc: 0.9446 - recall: 0.7582 - precision: 0.8792 - f1score: 0.8140\n",
            "Epoch 00087: val_acc did not improve from 0.92511\n",
            "116625/116625 [==============================] - 4s 33us/sample - loss: 0.3016 - acc: 0.9446 - recall: 0.7582 - precision: 0.8792 - f1score: 0.8140 - val_loss: 0.3298 - val_acc: 0.9247 - val_recall: 0.6833 - val_precision: 0.8154 - val_f1score: 0.7434\n",
            "Epoch 88/100\n",
            "115456/116625 [============================>.] - ETA: 0s - loss: 0.3017 - acc: 0.9446 - recall: 0.7577 - precision: 0.8794 - f1score: 0.8139\n",
            "Epoch 00088: val_acc did not improve from 0.92511\n",
            "116625/116625 [==============================] - 4s 34us/sample - loss: 0.3017 - acc: 0.9446 - recall: 0.7578 - precision: 0.8794 - f1score: 0.8139 - val_loss: 0.3321 - val_acc: 0.9235 - val_recall: 0.6780 - val_precision: 0.8126 - val_f1score: 0.7390\n",
            "Epoch 89/100\n",
            "116480/116625 [============================>.] - ETA: 0s - loss: 0.3015 - acc: 0.9448 - recall: 0.7596 - precision: 0.8795 - f1score: 0.8149\n",
            "Epoch 00089: val_acc did not improve from 0.92511\n",
            "116625/116625 [==============================] - 4s 34us/sample - loss: 0.3015 - acc: 0.9448 - recall: 0.7596 - precision: 0.8794 - f1score: 0.8149 - val_loss: 0.3303 - val_acc: 0.9243 - val_recall: 0.6801 - val_precision: 0.8150 - val_f1score: 0.7414\n",
            "Epoch 90/100\n",
            "115968/116625 [============================>.] - ETA: 0s - loss: 0.3016 - acc: 0.9445 - recall: 0.7581 - precision: 0.8789 - f1score: 0.8138\n",
            "Epoch 00090: val_acc did not improve from 0.92511\n",
            "116625/116625 [==============================] - 4s 34us/sample - loss: 0.3016 - acc: 0.9446 - recall: 0.7582 - precision: 0.8789 - f1score: 0.8139 - val_loss: 0.3305 - val_acc: 0.9242 - val_recall: 0.6896 - val_precision: 0.8082 - val_f1score: 0.7441\n",
            "Epoch 91/100\n",
            "115200/116625 [============================>.] - ETA: 0s - loss: 0.3016 - acc: 0.9446 - recall: 0.7582 - precision: 0.8793 - f1score: 0.8140\n",
            "Epoch 00091: val_acc did not improve from 0.92511\n",
            "116625/116625 [==============================] - 4s 34us/sample - loss: 0.3016 - acc: 0.9446 - recall: 0.7583 - precision: 0.8791 - f1score: 0.8140 - val_loss: 0.3338 - val_acc: 0.9218 - val_recall: 0.6737 - val_precision: 0.8052 - val_f1score: 0.7334\n",
            "Epoch 92/100\n",
            "115968/116625 [============================>.] - ETA: 0s - loss: 0.3011 - acc: 0.9451 - recall: 0.7606 - precision: 0.8805 - f1score: 0.8160\n",
            "Epoch 00092: val_acc did not improve from 0.92511\n",
            "116625/116625 [==============================] - 4s 33us/sample - loss: 0.3011 - acc: 0.9451 - recall: 0.7607 - precision: 0.8804 - f1score: 0.8160 - val_loss: 0.3309 - val_acc: 0.9235 - val_recall: 0.6820 - val_precision: 0.8092 - val_f1score: 0.7400\n",
            "Epoch 93/100\n",
            "115456/116625 [============================>.] - ETA: 0s - loss: 0.3010 - acc: 0.9451 - recall: 0.7607 - precision: 0.8800 - f1score: 0.8158\n",
            "Epoch 00093: val_acc did not improve from 0.92511\n",
            "116625/116625 [==============================] - 4s 33us/sample - loss: 0.3010 - acc: 0.9450 - recall: 0.7605 - precision: 0.8799 - f1score: 0.8157 - val_loss: 0.3318 - val_acc: 0.9234 - val_recall: 0.6742 - val_precision: 0.8146 - val_f1score: 0.7376\n",
            "Epoch 94/100\n",
            "115200/116625 [============================>.] - ETA: 0s - loss: 0.3009 - acc: 0.9453 - recall: 0.7609 - precision: 0.8810 - f1score: 0.8164\n",
            "Epoch 00094: val_acc did not improve from 0.92511\n",
            "116625/116625 [==============================] - 4s 33us/sample - loss: 0.3009 - acc: 0.9452 - recall: 0.7608 - precision: 0.8810 - f1score: 0.8163 - val_loss: 0.3316 - val_acc: 0.9231 - val_recall: 0.6893 - val_precision: 0.8018 - val_f1score: 0.7412\n",
            "Epoch 95/100\n",
            "115712/116625 [============================>.] - ETA: 0s - loss: 0.3010 - acc: 0.9451 - recall: 0.7600 - precision: 0.8811 - f1score: 0.8159\n",
            "Epoch 00095: val_acc did not improve from 0.92511\n",
            "116625/116625 [==============================] - 4s 34us/sample - loss: 0.3010 - acc: 0.9451 - recall: 0.7600 - precision: 0.8811 - f1score: 0.8159 - val_loss: 0.3319 - val_acc: 0.9237 - val_recall: 0.6860 - val_precision: 0.8078 - val_f1score: 0.7418\n",
            "Epoch 96/100\n",
            "116224/116625 [============================>.] - ETA: 0s - loss: 0.3011 - acc: 0.9450 - recall: 0.7601 - precision: 0.8800 - f1score: 0.8154\n",
            "Epoch 00096: val_acc did not improve from 0.92511\n",
            "116625/116625 [==============================] - 4s 33us/sample - loss: 0.3011 - acc: 0.9450 - recall: 0.7600 - precision: 0.8800 - f1score: 0.8154 - val_loss: 0.3297 - val_acc: 0.9250 - val_recall: 0.6838 - val_precision: 0.8168 - val_f1score: 0.7442\n",
            "Epoch 97/100\n",
            "115200/116625 [============================>.] - ETA: 0s - loss: 0.3006 - acc: 0.9452 - recall: 0.7608 - precision: 0.8808 - f1score: 0.8162\n",
            "Epoch 00097: val_acc did not improve from 0.92511\n",
            "116625/116625 [==============================] - 4s 33us/sample - loss: 0.3006 - acc: 0.9452 - recall: 0.7607 - precision: 0.8809 - f1score: 0.8162 - val_loss: 0.3306 - val_acc: 0.9234 - val_recall: 0.6879 - val_precision: 0.8045 - val_f1score: 0.7415\n",
            "Epoch 98/100\n",
            "115456/116625 [============================>.] - ETA: 0s - loss: 0.3008 - acc: 0.9453 - recall: 0.7612 - precision: 0.8808 - f1score: 0.8164\n",
            "Epoch 00098: val_acc did not improve from 0.92511\n",
            "116625/116625 [==============================] - 4s 33us/sample - loss: 0.3009 - acc: 0.9453 - recall: 0.7612 - precision: 0.8808 - f1score: 0.8164 - val_loss: 0.3307 - val_acc: 0.9250 - val_recall: 0.7082 - val_precision: 0.7996 - val_f1score: 0.7509\n",
            "Epoch 99/100\n",
            "116480/116625 [============================>.] - ETA: 0s - loss: 0.3007 - acc: 0.9454 - recall: 0.7613 - precision: 0.8813 - f1score: 0.8167\n",
            "Epoch 00099: val_acc did not improve from 0.92511\n",
            "116625/116625 [==============================] - 4s 33us/sample - loss: 0.3008 - acc: 0.9454 - recall: 0.7612 - precision: 0.8812 - f1score: 0.8167 - val_loss: 0.3323 - val_acc: 0.9235 - val_recall: 0.6828 - val_precision: 0.8088 - val_f1score: 0.7403\n",
            "Epoch 100/100\n",
            "114944/116625 [============================>.] - ETA: 0s - loss: 0.3006 - acc: 0.9453 - recall: 0.7606 - precision: 0.8819 - f1score: 0.8165\n",
            "Epoch 00100: val_acc did not improve from 0.92511\n",
            "116625/116625 [==============================] - 4s 33us/sample - loss: 0.3007 - acc: 0.9453 - recall: 0.7606 - precision: 0.8816 - f1score: 0.8164 - val_loss: 0.3315 - val_acc: 0.9240 - val_recall: 0.6782 - val_precision: 0.8149 - val_f1score: 0.7402\n"
          ],
          "name": "stdout"
        }
      ]
    },
    {
      "cell_type": "code",
      "metadata": {
        "id": "FJ8oiBIhX7kq",
        "colab_type": "code",
        "colab": {
          "base_uri": "https://localhost:8080/",
          "height": 1000
        },
        "outputId": "2b4eba24-17a8-43e0-c6b3-072e87a2c805"
      },
      "source": [
        "#음의 흐름에 관한 분류기\n",
        "updown_classifier=make_classifier(Minimum_time)\n",
        "updown_classifier.compile(loss=keras.losses.BinaryCrossentropy(\n",
        "      from_logits=False,\n",
        "      name='binary_crossentorpy',\n",
        "  ), optimizer='adam', metrics=['accuracy'])\n",
        "\n",
        "updown_hist=updown_classifier.fit(\n",
        "      train_matrix,train_updown_label,batch_size=256,\n",
        "      epochs=30,\n",
        "      validation_data=(valid_matrix,valid_updown_label),\n",
        "      callbacks=updown_callbacks,\n",
        "  )\n"
      ],
      "execution_count": 67,
      "outputs": [
        {
          "output_type": "stream",
          "text": [
            "Train on 116625 samples, validate on 13721 samples\n",
            "Epoch 1/30\n",
            "115968/116625 [============================>.] - ETA: 0s - loss: 0.3369 - acc: 0.8377\n",
            "Epoch 00001: val_acc improved from -inf to 0.79260, saving model to /content/drive/My Drive/models/updown.h5\n",
            "116625/116625 [==============================] - 10s 88us/sample - loss: 0.3368 - acc: 0.8378 - val_loss: 0.4360 - val_acc: 0.7926\n",
            "Epoch 2/30\n",
            "115968/116625 [============================>.] - ETA: 0s - loss: 0.3198 - acc: 0.8496\n",
            "Epoch 00002: val_acc improved from 0.79260 to 0.83906, saving model to /content/drive/My Drive/models/updown.h5\n",
            "116625/116625 [==============================] - 7s 59us/sample - loss: 0.3198 - acc: 0.8496 - val_loss: 0.3372 - val_acc: 0.8391\n",
            "Epoch 3/30\n",
            "115968/116625 [============================>.] - ETA: 0s - loss: 0.3109 - acc: 0.8559\n",
            "Epoch 00003: val_acc did not improve from 0.83906\n",
            "116625/116625 [==============================] - 7s 58us/sample - loss: 0.3109 - acc: 0.8559 - val_loss: 0.3357 - val_acc: 0.8382\n",
            "Epoch 4/30\n",
            "115968/116625 [============================>.] - ETA: 0s - loss: 0.3042 - acc: 0.8604\n",
            "Epoch 00004: val_acc did not improve from 0.83906\n",
            "116625/116625 [==============================] - 7s 58us/sample - loss: 0.3042 - acc: 0.8604 - val_loss: 0.3407 - val_acc: 0.8365\n",
            "Epoch 5/30\n",
            "115968/116625 [============================>.] - ETA: 0s - loss: 0.2973 - acc: 0.8644\n",
            "Epoch 00005: val_acc improved from 0.83906 to 0.84043, saving model to /content/drive/My Drive/models/updown.h5\n",
            "116625/116625 [==============================] - 8s 66us/sample - loss: 0.2973 - acc: 0.8645 - val_loss: 0.3395 - val_acc: 0.8404\n",
            "Epoch 6/30\n",
            "115968/116625 [============================>.] - ETA: 0s - loss: 0.2895 - acc: 0.8701\n",
            "Epoch 00006: val_acc did not improve from 0.84043\n",
            "116625/116625 [==============================] - 7s 58us/sample - loss: 0.2897 - acc: 0.8699 - val_loss: 0.3473 - val_acc: 0.8366\n",
            "Epoch 7/30\n",
            "115968/116625 [============================>.] - ETA: 0s - loss: 0.2840 - acc: 0.8726\n",
            "Epoch 00007: val_acc did not improve from 0.84043\n",
            "116625/116625 [==============================] - 7s 58us/sample - loss: 0.2840 - acc: 0.8725 - val_loss: 0.3471 - val_acc: 0.8377\n",
            "Epoch 8/30\n",
            "115968/116625 [============================>.] - ETA: 0s - loss: 0.2765 - acc: 0.8776\n",
            "Epoch 00008: val_acc did not improve from 0.84043\n",
            "116625/116625 [==============================] - 7s 58us/sample - loss: 0.2764 - acc: 0.8776 - val_loss: 0.3522 - val_acc: 0.8375\n",
            "Epoch 9/30\n",
            "115968/116625 [============================>.] - ETA: 0s - loss: 0.2699 - acc: 0.8812\n",
            "Epoch 00009: val_acc did not improve from 0.84043\n",
            "116625/116625 [==============================] - 7s 58us/sample - loss: 0.2698 - acc: 0.8812 - val_loss: 0.3478 - val_acc: 0.8379\n",
            "Epoch 10/30\n",
            "115968/116625 [============================>.] - ETA: 0s - loss: 0.2637 - acc: 0.8849\n",
            "Epoch 00010: val_acc did not improve from 0.84043\n",
            "116625/116625 [==============================] - 7s 58us/sample - loss: 0.2636 - acc: 0.8850 - val_loss: 0.3672 - val_acc: 0.8368\n",
            "Epoch 11/30\n",
            "115968/116625 [============================>.] - ETA: 0s - loss: 0.2572 - acc: 0.8883\n",
            "Epoch 00011: val_acc did not improve from 0.84043\n",
            "116625/116625 [==============================] - 7s 57us/sample - loss: 0.2572 - acc: 0.8883 - val_loss: 0.3675 - val_acc: 0.8387\n",
            "Epoch 12/30\n",
            "115968/116625 [============================>.] - ETA: 0s - loss: 0.2516 - acc: 0.8912\n",
            "Epoch 00012: val_acc did not improve from 0.84043\n",
            "116625/116625 [==============================] - 7s 57us/sample - loss: 0.2517 - acc: 0.8912 - val_loss: 0.3703 - val_acc: 0.8364\n",
            "Epoch 13/30\n",
            "115968/116625 [============================>.] - ETA: 0s - loss: 0.2467 - acc: 0.8940\n",
            "Epoch 00013: val_acc did not improve from 0.84043\n",
            "116625/116625 [==============================] - 7s 58us/sample - loss: 0.2467 - acc: 0.8940 - val_loss: 0.3890 - val_acc: 0.8349\n",
            "Epoch 14/30\n",
            "115968/116625 [============================>.] - ETA: 0s - loss: 0.2410 - acc: 0.8962\n",
            "Epoch 00014: val_acc did not improve from 0.84043\n",
            "116625/116625 [==============================] - 7s 58us/sample - loss: 0.2410 - acc: 0.8962 - val_loss: 0.3785 - val_acc: 0.8384\n",
            "Epoch 15/30\n",
            "115968/116625 [============================>.] - ETA: 0s - loss: 0.2374 - acc: 0.8982\n",
            "Epoch 00015: val_acc did not improve from 0.84043\n",
            "116625/116625 [==============================] - 7s 58us/sample - loss: 0.2375 - acc: 0.8981 - val_loss: 0.3839 - val_acc: 0.8358\n",
            "Epoch 16/30\n",
            "115968/116625 [============================>.] - ETA: 0s - loss: 0.2325 - acc: 0.9008\n",
            "Epoch 00016: val_acc did not improve from 0.84043\n",
            "116625/116625 [==============================] - 7s 58us/sample - loss: 0.2325 - acc: 0.9008 - val_loss: 0.3816 - val_acc: 0.8354\n",
            "Epoch 17/30\n",
            "115968/116625 [============================>.] - ETA: 0s - loss: 0.2278 - acc: 0.9026\n",
            "Epoch 00017: val_acc did not improve from 0.84043\n",
            "116625/116625 [==============================] - 7s 57us/sample - loss: 0.2278 - acc: 0.9027 - val_loss: 0.4015 - val_acc: 0.8326\n",
            "Epoch 18/30\n",
            "115968/116625 [============================>.] - ETA: 0s - loss: 0.2243 - acc: 0.9047\n",
            "Epoch 00018: val_acc did not improve from 0.84043\n",
            "116625/116625 [==============================] - 7s 57us/sample - loss: 0.2244 - acc: 0.9048 - val_loss: 0.4122 - val_acc: 0.8330\n",
            "Epoch 19/30\n",
            "115968/116625 [============================>.] - ETA: 0s - loss: 0.2208 - acc: 0.9064\n",
            "Epoch 00019: val_acc did not improve from 0.84043\n",
            "116625/116625 [==============================] - 7s 57us/sample - loss: 0.2208 - acc: 0.9064 - val_loss: 0.4001 - val_acc: 0.8366\n",
            "Epoch 20/30\n",
            "115968/116625 [============================>.] - ETA: 0s - loss: 0.2176 - acc: 0.9074\n",
            "Epoch 00020: val_acc did not improve from 0.84043\n",
            "116625/116625 [==============================] - 7s 57us/sample - loss: 0.2177 - acc: 0.9074 - val_loss: 0.4073 - val_acc: 0.8344\n",
            "Epoch 21/30\n",
            "115968/116625 [============================>.] - ETA: 0s - loss: 0.2155 - acc: 0.9090\n",
            "Epoch 00021: val_acc did not improve from 0.84043\n",
            "116625/116625 [==============================] - 7s 57us/sample - loss: 0.2155 - acc: 0.9090 - val_loss: 0.4206 - val_acc: 0.8306\n",
            "Epoch 22/30\n",
            "115968/116625 [============================>.] - ETA: 0s - loss: 0.2125 - acc: 0.9100\n",
            "Epoch 00022: val_acc did not improve from 0.84043\n",
            "116625/116625 [==============================] - 7s 57us/sample - loss: 0.2125 - acc: 0.9100 - val_loss: 0.4199 - val_acc: 0.8297\n",
            "Epoch 23/30\n",
            "115968/116625 [============================>.] - ETA: 0s - loss: 0.2091 - acc: 0.9122\n",
            "Epoch 00023: val_acc did not improve from 0.84043\n",
            "116625/116625 [==============================] - 7s 57us/sample - loss: 0.2092 - acc: 0.9122 - val_loss: 0.4190 - val_acc: 0.8305\n",
            "Epoch 24/30\n",
            "115968/116625 [============================>.] - ETA: 0s - loss: 0.2070 - acc: 0.9127\n",
            "Epoch 00024: val_acc did not improve from 0.84043\n",
            "116625/116625 [==============================] - 7s 57us/sample - loss: 0.2071 - acc: 0.9127 - val_loss: 0.4282 - val_acc: 0.8309\n",
            "Epoch 25/30\n",
            "115968/116625 [============================>.] - ETA: 0s - loss: 0.2045 - acc: 0.9138\n",
            "Epoch 00025: val_acc did not improve from 0.84043\n",
            "116625/116625 [==============================] - 7s 58us/sample - loss: 0.2046 - acc: 0.9137 - val_loss: 0.4392 - val_acc: 0.8302\n",
            "Epoch 26/30\n",
            "115968/116625 [============================>.] - ETA: 0s - loss: 0.2024 - acc: 0.9149\n",
            "Epoch 00026: val_acc did not improve from 0.84043\n",
            "116625/116625 [==============================] - 7s 58us/sample - loss: 0.2026 - acc: 0.9148 - val_loss: 0.4324 - val_acc: 0.8301\n",
            "Epoch 27/30\n",
            "115968/116625 [============================>.] - ETA: 0s - loss: 0.2005 - acc: 0.9160\n",
            "Epoch 00027: val_acc did not improve from 0.84043\n",
            "116625/116625 [==============================] - 7s 57us/sample - loss: 0.2005 - acc: 0.9159 - val_loss: 0.4390 - val_acc: 0.8335\n",
            "Epoch 28/30\n",
            "115968/116625 [============================>.] - ETA: 0s - loss: 0.1980 - acc: 0.9172\n",
            "Epoch 00028: val_acc did not improve from 0.84043\n",
            "116625/116625 [==============================] - 7s 57us/sample - loss: 0.1981 - acc: 0.9172 - val_loss: 0.4391 - val_acc: 0.8286\n",
            "Epoch 29/30\n",
            "115968/116625 [============================>.] - ETA: 0s - loss: 0.1965 - acc: 0.9179\n",
            "Epoch 00029: val_acc did not improve from 0.84043\n",
            "116625/116625 [==============================] - 7s 57us/sample - loss: 0.1965 - acc: 0.9179 - val_loss: 0.4446 - val_acc: 0.8291\n",
            "Epoch 30/30\n",
            "115968/116625 [============================>.] - ETA: 0s - loss: 0.1955 - acc: 0.9180\n",
            "Epoch 00030: val_acc did not improve from 0.84043\n",
            "116625/116625 [==============================] - 7s 57us/sample - loss: 0.1956 - acc: 0.9180 - val_loss: 0.4416 - val_acc: 0.8292\n"
          ],
          "name": "stdout"
        }
      ]
    },
    {
      "cell_type": "code",
      "metadata": {
        "id": "VZABO5Fq2gQy",
        "colab_type": "code",
        "colab": {}
      },
      "source": [
        "updown_classifier.load_weights(\"/content/drive/My Drive/models/updown.h5\")"
      ],
      "execution_count": 68,
      "outputs": []
    },
    {
      "cell_type": "code",
      "metadata": {
        "id": "h4vdlmE7zc8Y",
        "colab_type": "code",
        "colab": {
          "base_uri": "https://localhost:8080/",
          "height": 156
        },
        "outputId": "31d6284c-4c97-4f23-d3fc-c8df6fb1ee69"
      },
      "source": [
        "updown_classifier.predict(test_matrix)"
      ],
      "execution_count": 69,
      "outputs": [
        {
          "output_type": "execute_result",
          "data": {
            "text/plain": [
              "array([[7.12810993e-01, 1.06222332e-02, 2.99662352e-04, 4.39938635e-01],\n",
              "       [3.35629135e-01, 4.16854024e-03, 1.20311975e-04, 5.31284034e-01],\n",
              "       [9.38150227e-01, 3.09553742e-03, 3.64333391e-04, 8.90166163e-02],\n",
              "       ...,\n",
              "       [2.86973238e-01, 1.03096098e-01, 4.19765711e-04, 6.63511217e-01],\n",
              "       [2.35178173e-02, 7.62403011e-04, 3.33786011e-06, 9.90042925e-01],\n",
              "       [8.29292238e-02, 3.90552223e-01, 1.75553560e-03, 8.12698126e-01]],\n",
              "      dtype=float32)"
            ]
          },
          "metadata": {
            "tags": []
          },
          "execution_count": 69
        }
      ]
    },
    {
      "cell_type": "code",
      "metadata": {
        "id": "76EtBzIJsfJM",
        "colab_type": "code",
        "colab": {
          "base_uri": "https://localhost:8080/",
          "height": 279
        },
        "outputId": "c0ef22b8-518d-4d54-fa40-135af5a15bed"
      },
      "source": [
        "%matplotlib inline\n",
        "import matplotlib.pyplot as plt\n",
        "\n",
        "fig, loss_ax = plt.subplots()\n",
        "\n",
        "acc_ax = loss_ax.twinx()\n",
        "\n",
        "loss_ax.plot(hist.history['loss'], 'y', label='train loss')\n",
        "loss_ax.plot(hist.history['val_loss'], 'r', label='val loss')\n",
        "\n",
        "acc_ax.plot(hist.history['acc'], 'b', label='train acc')\n",
        "acc_ax.plot(hist.history['val_acc'], 'g', label='val acc')\n",
        "\n",
        "loss_ax.set_xlabel('epoch')\n",
        "loss_ax.set_ylabel('loss')\n",
        "acc_ax.set_ylabel('accuracy')\n",
        "\n",
        "loss_ax.legend(loc='upper left')\n",
        "acc_ax.legend(loc='lower left')\n",
        "\n",
        "plt.show()"
      ],
      "execution_count": 70,
      "outputs": [
        {
          "output_type": "display_data",
          "data": {
            "image/png": "[encoded data removed]",
            "text/plain": [
              "<Figure size 432x288 with 2 Axes>"
            ]
          },
          "metadata": {
            "tags": [],
            "needs_background": "light"
          }
        }
      ]
    },
    {
      "cell_type": "code",
      "metadata": {
        "id": "6T9qKNfNsuTv",
        "colab_type": "code",
        "colab": {
          "base_uri": "https://localhost:8080/",
          "height": 280
        },
        "outputId": "44b50a0c-acff-4687-924b-499617dfba05"
      },
      "source": [
        "%matplotlib inline\n",
        "import matplotlib.pyplot as plt\n",
        "\n",
        "fig, recall_ax = plt.subplots()\n",
        "\n",
        "\n",
        "recall_ax.plot(hist.history['recall'], 'y', label='recall')\n",
        "recall_ax.plot(hist.history['val_recall'], 'r', label='valid recall')\n",
        "\n",
        "recall_ax.plot(hist.history['f1score'], 'b', label='f1score')\n",
        "recall_ax.plot(hist.history['val_f1score'], 'g', label='valid f1score')\n",
        "\n",
        "recall_ax.plot(hist.history['precision'], 'c', label='precision')\n",
        "recall_ax.plot(hist.history['val_precision'], 'k', label='valid precision')\n",
        "\n",
        "recall_ax.set_xlabel('epoch')\n",
        "recall_ax.set_ylabel('score')\n",
        "\n",
        "recall_ax.legend(loc='upper left')\n",
        "\n",
        "plt.show()"
      ],
      "execution_count": 71,
      "outputs": [
        {
          "output_type": "display_data",
          "data": {
            "image/png": "[encoded data removed]",
            "text/plain": [
              "<Figure size 432x288 with 1 Axes>"
            ]
          },
          "metadata": {
            "tags": [],
            "needs_background": "light"
          }
        }
      ]
    },
    {
      "cell_type": "code",
      "metadata": {
        "id": "oQ-K9Y2vFN2O",
        "colab_type": "code",
        "colab": {}
      },
      "source": [
        "  classifier.load_weights(\"/content/drive/My Drive/models/deeperppddbest.h5\")\n",
        "  testresult=classifier.predict(test_matrix)"
      ],
      "execution_count": 72,
      "outputs": []
    },
    {
      "cell_type": "code",
      "metadata": {
        "id": "N2XAN8kzN3gp",
        "colab_type": "code",
        "colab": {
          "base_uri": "https://localhost:8080/",
          "height": 139
        },
        "outputId": "b95f0ba7-d2ec-423f-dc14-bcb27ff73a8d"
      },
      "source": [
        "print(testresult)"
      ],
      "execution_count": 73,
      "outputs": [
        {
          "output_type": "stream",
          "text": [
            "[[0.03143117 0.3027956  0.6493057  ... 0.08849069 0.9410814  0.04022819]\n",
            " [0.95758164 0.95011955 0.0542174  ... 0.03704548 0.8179147  0.03099227]\n",
            " [0.8601561  0.8712102  0.03410062 ... 0.05358827 0.8511646  0.05258662]\n",
            " ...\n",
            " [0.6954656  0.29768836 0.05800626 ... 0.12859678 0.04407325 0.05691367]\n",
            " [0.94336987 0.9034127  0.03111133 ... 0.06027943 0.02575806 0.03884482]\n",
            " [0.53660184 0.08158812 0.07824424 ... 0.15913945 0.04802689 0.06927386]]\n"
          ],
          "name": "stdout"
        }
      ]
    },
    {
      "cell_type": "code",
      "metadata": {
        "id": "mFucJZONFnqX",
        "colab_type": "code",
        "colab": {
          "base_uri": "https://localhost:8080/",
          "height": 72
        },
        "outputId": "8a332ee7-a79e-4915-d803-4c7b4f4960a0"
      },
      "source": [
        "def get_tag_results(testresult,test_label2):  \n",
        "  classnum={}\n",
        "  testnum={}\n",
        "  resultmat=[]\n",
        "  bestmat=[]\n",
        "  for i in range(len(testresult)):\n",
        "    eval_result=[0 for i in range(13)]\n",
        "    best_result=[0 for i in range(13)]\n",
        "    class_num=np.count_nonzero(test_label2[i]==1)+1\n",
        "    classidx=(-testresult[i]).argsort()[:class_num]\n",
        "    for k,j in enumerate(classidx):\n",
        "      if (k==0):\n",
        "        best_result[j]=1\n",
        "      eval_result[j]=1\n",
        "    resultmat.append(eval_result)\n",
        "    bestmat.append(best_result)\n",
        "    test_result2=copy.deepcopy(testresult)\n",
        "    test_result2[np.where(test_result2>0.30)]=1\n",
        "    test_result2[np.where(test_result2<=0.30)]=0\n",
        "  resultmat=np.array(resultmat)\n",
        "  bestmat=np.array(bestmat)\n",
        "  testidx=mlb.inverse_transform(resultmat)\n",
        "  classidx=mlb.inverse_transform(test_label2)\n",
        "  testidx2=mlb.inverse_transform(test_result2)\n",
        "  bestidx=mlb.inverse_transform(bestmat)\n",
        "  for i in range(len(testidx)):  \n",
        "    #print(bestidx[i],testidx2[i],testidx[i], classidx[i],i) # 값이 0.30 이상인 set, 원래 Label보다 1개 많이 보여주는 내림차순 set, 원래 label set 순서이다. \n",
        "    for classes in classidx[i]:\n",
        "      if (classes not in classnum):\n",
        "        classnum[classes]=1\n",
        "      else:\n",
        "        classnum[classes]+=1\n",
        "    for classes in testidx[i]:\n",
        "      if (classes not in testnum):\n",
        "        testnum[classes]=1\n",
        "      else:\n",
        "        testnum[classes]+=1\n",
        "  print(classnum, testnum)\n",
        "  return bestidx, testidx2, testidx, classidx#가장 높은거, 0.30이상인 set, 원래의 Label보다 1개 많이 보여주는 내림차순, 원래 Label\n",
        "best=get_tag_results(testresult,test_label2)[0]\n",
        "print(best)\n"
      ],
      "execution_count": 74,
      "outputs": [
        {
          "output_type": "stream",
          "text": [
            "{'continuing_rhythm': 1174, 'leaping_twisting': 2401, 'up_leaping': 1283, 'One_rhythm': 1715, 'down_leaping': 1093, 'up_steping': 1134, 'repeating': 963, 'fast_rhythm': 959, 'down_steping': 324, 'triplet': 1193, 'no skills': 1052, 'staccato': 1239, 'steping_twisting': 366} {'continuing_rhythm': 1566, 'down_leaping': 1293, 'leaping_twisting': 2943, 'up_leaping': 1609, 'One_rhythm': 2226, 'fast_rhythm': 1389, 'no skills': 1760, 'repeating': 1462, 'up_steping': 1599, 'staccato': 2943, 'triplet': 1849, 'down_steping': 501, 'steping_twisting': 617}\n",
            "[('up_leaping',), ('leaping_twisting',), ('leaping_twisting',), ('leaping_twisting',), ('leaping_twisting',), ('leaping_twisting',), ('leaping_twisting',), ('leaping_twisting',), ('up_leaping',), ('up_steping',), ('repeating',), ('repeating',), ('repeating',), ('up_steping',), ('repeating',), ('repeating',), ('repeating',), ('up_steping',), ('repeating',), ('repeating',), ('repeating',), ('up_steping',), ('repeating',), ('repeating',), ('repeating',), ('up_steping',), ('repeating',), ('fast_rhythm',), ('fast_rhythm',), ('fast_rhythm',), ('fast_rhythm',), ('fast_rhythm',), ('fast_rhythm',), ('fast_rhythm',), ('fast_rhythm',), ('fast_rhythm',), ('fast_rhythm',), ('fast_rhythm',), ('fast_rhythm',), ('fast_rhythm',), ('fast_rhythm',), ('fast_rhythm',), ('repeating',), ('no skills',), ('up_leaping',), ('no skills',), ('up_steping',), ('staccato',), ('repeating',), ('no skills',), ('up_steping',), ('up_steping',), ('repeating',), ('no skills',), ('no skills',), ('no skills',), ('repeating',), ('no skills',), ('no skills',), ('no skills',), ('up_steping',), ('repeating',), ('up_steping',), ('leaping_twisting',), ('One_rhythm',), ('One_rhythm',), ('One_rhythm',), ('One_rhythm',), ('One_rhythm',), ('One_rhythm',), ('One_rhythm',), ('One_rhythm',), ('One_rhythm',), ('One_rhythm',), ('One_rhythm',), ('no skills',), ('up_steping',), ('repeating',), ('repeating',), ('leaping_twisting',), ('One_rhythm',), ('One_rhythm',), ('leaping_twisting',), ('continuing_rhythm',), ('leaping_twisting',), ('repeating',), ('repeating',), ('up_steping',), ('no skills',), ('up_steping',), ('repeating',), ('up_steping',), ('down_steping',), ('up_steping',), ('down_steping',), ('no skills',), ('no skills',), ('up_leaping',), ('staccato',), ('repeating',), ('repeating',), ('triplet',), ('up_steping',), ('up_leaping',), ('repeating',), ('up_leaping',), ('leaping_twisting',), ('no skills',), ('repeating',), ('repeating',), ('repeating',), ('no skills',), ('repeating',), ('repeating',), ('down_steping',), ('no skills',), ('up_steping',), ('no skills',), ('up_steping',), ('no skills',), ('up_steping',), ('no skills',), ('up_steping',), ('no skills',), ('no skills',), ('no skills',), ('continuing_rhythm',), ('continuing_rhythm',), ('leaping_twisting',), ('One_rhythm',), ('leaping_twisting',), ('leaping_twisting',), ('leaping_twisting',), ('continuing_rhythm',), ('One_rhythm',), ('leaping_twisting',), ('leaping_twisting',), ('continuing_rhythm',), ('leaping_twisting',), ('continuing_rhythm',), ('continuing_rhythm',), ('up_leaping',), ('fast_rhythm',), ('fast_rhythm',), ('fast_rhythm',), ('fast_rhythm',), ('fast_rhythm',), ('fast_rhythm',), ('fast_rhythm',), ('fast_rhythm',), ('fast_rhythm',), ('leaping_twisting',), ('leaping_twisting',), ('leaping_twisting',), ('leaping_twisting',), ('leaping_twisting',), ('leaping_twisting',), ('leaping_twisting',), ('leaping_twisting',), ('leaping_twisting',), ('leaping_twisting',), ('leaping_twisting',), ('leaping_twisting',), ('leaping_twisting',), ('leaping_twisting',), ('leaping_twisting',), ('up_leaping',), ('up_leaping',), ('up_leaping',), ('up_leaping',), ('up_leaping',), ('up_leaping',), ('continuing_rhythm',), ('continuing_rhythm',), ('One_rhythm',), ('continuing_rhythm',), ('leaping_twisting',), ('up_leaping',), ('continuing_rhythm',), ('leaping_twisting',), ('continuing_rhythm',), ('continuing_rhythm',), ('One_rhythm',), ('leaping_twisting',), ('down_steping',), ('up_leaping',), ('down_steping',), ('up_steping',), ('up_leaping',), ('repeating',), ('repeating',), ('down_steping',), ('up_steping',), ('One_rhythm',), ('fast_rhythm',), ('One_rhythm',), ('no skills',), ('One_rhythm',), ('leaping_twisting',), ('continuing_rhythm',), ('continuing_rhythm',), ('continuing_rhythm',), ('continuing_rhythm',), ('continuing_rhythm',), ('continuing_rhythm',), ('continuing_rhythm',), ('continuing_rhythm',), ('continuing_rhythm',), ('continuing_rhythm',), ('continuing_rhythm',), ('continuing_rhythm',), ('continuing_rhythm',), ('continuing_rhythm',), ('continuing_rhythm',), ('continuing_rhythm',), ('continuing_rhythm',), ('continuing_rhythm',), ('continuing_rhythm',), ('continuing_rhythm',), ('continuing_rhythm',), ('no skills',), ('leaping_twisting',), ('leaping_twisting',), ('leaping_twisting',), ('leaping_twisting',), ('leaping_twisting',), ('leaping_twisting',), ('leaping_twisting',), ('leaping_twisting',), ('leaping_twisting',), ('leaping_twisting',), ('leaping_twisting',), ('leaping_twisting',), ('leaping_twisting',), ('leaping_twisting',), ('up_leaping',), ('up_steping',), ('repeating',), ('repeating',), ('fast_rhythm',), ('repeating',), ('fast_rhythm',), ('repeating',), ('triplet',), ('repeating',), ('repeating',), ('no skills',), ('fast_rhythm',), ('fast_rhythm',), ('leaping_twisting',), ('up_steping',), ('no skills',), ('triplet',), ('triplet',), ('up_steping',), ('leaping_twisting',), ('triplet',), ('fast_rhythm',), ('up_steping',), ('leaping_twisting',), ('up_steping',), ('no skills',), ('up_steping',), ('triplet',), ('leaping_twisting',), ('no skills',), ('leaping_twisting',), ('no skills',), ('no skills',), ('no skills',), ('down_leaping',), ('fast_rhythm',), ('continuing_rhythm',), ('staccato',), ('leaping_twisting',), ('up_leaping',), ('triplet',), ('leaping_twisting',), ('down_steping',), ('leaping_twisting',), ('repeating',), ('leaping_twisting',), ('triplet',), ('leaping_twisting',), ('down_steping',), ('leaping_twisting',), ('down_steping',), ('leaping_twisting',), ('repeating',), ('leaping_twisting',), ('triplet',), ('up_leaping',), ('leaping_twisting',), ('leaping_twisting',), ('leaping_twisting',), ('fast_rhythm',), ('up_steping',), ('leaping_twisting',), ('leaping_twisting',), ('up_steping',), ('fast_rhythm',), ('leaping_twisting',), ('up_leaping',), ('triplet',), ('leaping_twisting',), ('up_leaping',), ('leaping_twisting',), ('no skills',), ('no skills',), ('no skills',), ('no skills',), ('no skills',), ('no skills',), ('One_rhythm',), ('One_rhythm',), ('One_rhythm',), ('One_rhythm',), ('fast_rhythm',), ('no skills',), ('fast_rhythm',), ('no skills',), ('no skills',), ('up_steping',), ('up_steping',), ('up_steping',), ('up_steping',), ('up_steping',), ('up_steping',), ('leaping_twisting',), ('up_steping',), ('leaping_twisting',), ('One_rhythm',), ('leaping_twisting',), ('leaping_twisting',), ('up_leaping',), ('no skills',), ('repeating',), ('One_rhythm',), ('no skills',), ('One_rhythm',), ('fast_rhythm',), ('repeating',), ('no skills',), ('repeating',), ('staccato',), ('up_steping',), ('up_steping',), ('leaping_twisting',), ('fast_rhythm',), ('fast_rhythm',), ('fast_rhythm',), ('no skills',), ('no skills',), ('no skills',), ('triplet',), ('up_steping',), ('fast_rhythm',), ('triplet',), ('triplet',), ('repeating',), ('repeating',), ('leaping_twisting',), ('up_leaping',), ('leaping_twisting',), ('up_leaping',), ('up_steping',), ('up_steping',), ('up_steping',), ('up_steping',), ('up_steping',), ('no skills',), ('up_steping',), ('repeating',), ('up_steping',), ('up_steping',), ('up_steping',), ('no skills',), ('fast_rhythm',), ('repeating',), ('no skills',), ('repeating',), ('staccato',), ('repeating',), ('no skills',), ('repeating',), ('up_steping',), ('repeating',), ('down_leaping',), ('no skills',), ('repeating',), ('repeating',), ('up_steping',), ('repeating',), ('repeating',), ('repeating',), ('no skills',), ('staccato',), ('triplet',), ('fast_rhythm',), ('fast_rhythm',), ('staccato',), ('triplet',), ('fast_rhythm',), ('fast_rhythm',), ('staccato',), ('triplet',), ('fast_rhythm',), ('fast_rhythm',), ('staccato',), ('no skills',), ('down_steping',), ('down_steping',), ('up_steping',), ('up_steping',), ('up_steping',), ('up_steping',), ('down_leaping',), ('up_leaping',), ('repeating',), ('up_steping',), ('staccato',), ('up_leaping',), ('repeating',), ('repeating',), ('down_steping',), ('no skills',), ('One_rhythm',), ('no skills',), ('One_rhythm',), ('repeating',), ('repeating',), ('One_rhythm',), ('One_rhythm',), ('One_rhythm',), ('One_rhythm',), ('no skills',), ('One_rhythm',), ('One_rhythm',), ('One_rhythm',), ('One_rhythm',), ('One_rhythm',), ('repeating',), ('repeating',), ('leaping_twisting',), ('down_leaping',), ('leaping_twisting',), ('down_leaping',), ('fast_rhythm',), ('leaping_twisting',), ('fast_rhythm',), ('leaping_twisting',), ('leaping_twisting',), ('leaping_twisting',), ('leaping_twisting',), ('leaping_twisting',), ('leaping_twisting',), ('triplet',), ('no skills',), ('triplet',), ('no skills',), ('no skills',), ('continuing_rhythm',), ('no skills',), ('continuing_rhythm',), ('repeating',), ('no skills',), ('continuing_rhythm',), ('repeating',), ('no skills',), ('continuing_rhythm',), ('repeating',), ('no skills',), ('continuing_rhythm',), ('repeating',), ('no skills',), ('continuing_rhythm',), ('continuing_rhythm',), ('no skills',), ('down_steping',), ('no skills',), ('no skills',), ('continuing_rhythm',), ('continuing_rhythm',), ('no skills',), ('continuing_rhythm',), ('up_steping',), ('up_leaping',), ('no skills',), ('repeating',), ('One_rhythm',), ('repeating',), ('One_rhythm',), ('repeating',), ('repeating',), ('repeating',), ('One_rhythm',), ('repeating',), ('repeating',), ('repeating',), ('One_rhythm',), ('repeating',), ('One_rhythm',), ('no skills',), ('leaping_twisting',), ('One_rhythm',), ('continuing_rhythm',), ('leaping_twisting',), ('leaping_twisting',), ('no skills',), ('leaping_twisting',), ('leaping_twisting',), ('no skills',), ('no skills',), ('no skills',), ('One_rhythm',), ('continuing_rhythm',), ('leaping_twisting',), ('leaping_twisting',), ('no skills',), ('no skills',), ('One_rhythm',), ('One_rhythm',), ('up_steping',), ('continuing_rhythm',), ('no skills',), ('repeating',), ('no skills',), ('down_steping',), ('One_rhythm',), ('continuing_rhythm',), ('One_rhythm',), ('no skills',), ('down_leaping',), ('One_rhythm',), ('One_rhythm',), ('down_steping',), ('repeating',), ('up_leaping',), ('up_steping',), ('no skills',), ('up_steping',), ('up_steping',), ('up_steping',), ('no skills',), ('up_steping',), ('steping_twisting',), ('up_steping',), ('no skills',), ('leaping_twisting',), ('no skills',), ('no skills',), ('leaping_twisting',), ('leaping_twisting',), ('down_leaping',), ('up_leaping',), ('up_leaping',), ('no skills',), ('up_steping',), ('leaping_twisting',), ('leaping_twisting',), ('leaping_twisting',), ('no skills',), ('leaping_twisting',), ('leaping_twisting',), ('no skills',), ('no skills',), ('leaping_twisting',), ('up_steping',), ('no skills',), ('staccato',), ('leaping_twisting',), ('down_steping',), ('leaping_twisting',), ('no skills',), ('staccato',), ('no skills',), ('no skills',), ('staccato',), ('leaping_twisting',), ('fast_rhythm',), ('staccato',), ('triplet',), ('staccato',), ('leaping_twisting',), ('staccato',), ('triplet',), ('staccato',), ('leaping_twisting',), ('down_leaping',), ('repeating',), ('leaping_twisting',), ('down_leaping',), ('down_leaping',), ('repeating',), ('up_steping',), ('down_leaping',), ('down_leaping',), ('repeating',), ('down_leaping',), ('down_leaping',), ('no skills',), ('no skills',), ('no skills',), ('no skills',), ('no skills',), ('no skills',), ('no skills',), ('no skills',), ('no skills',), ('no skills',), ('no skills',), ('no skills',), ('no skills',), ('no skills',), ('no skills',), ('no skills',), ('no skills',), ('no skills',), ('no skills',), ('One_rhythm',), ('up_leaping',), ('repeating',), ('fast_rhythm',), ('no skills',), ('repeating',), ('continuing_rhythm',), ('One_rhythm',), ('repeating',), ('continuing_rhythm',), ('repeating',), ('continuing_rhythm',), ('repeating',), ('continuing_rhythm',), ('repeating',), ('fast_rhythm',), ('leaping_twisting',), ('leaping_twisting',), ('leaping_twisting',), ('leaping_twisting',), ('leaping_twisting',), ('leaping_twisting',), ('leaping_twisting',), ('leaping_twisting',), ('leaping_twisting',), ('leaping_twisting',), ('leaping_twisting',), ('leaping_twisting',), ('leaping_twisting',), ('leaping_twisting',), ('leaping_twisting',), ('leaping_twisting',), ('leaping_twisting',), ('leaping_twisting',), ('leaping_twisting',), ('leaping_twisting',), ('leaping_twisting',), ('leaping_twisting',), ('leaping_twisting',), ('leaping_twisting',), ('leaping_twisting',), ('leaping_twisting',), ('leaping_twisting',), ('no skills',), ('no skills',), ('up_steping',), ('no skills',), ('leaping_twisting',), ('leaping_twisting',), ('leaping_twisting',), ('up_steping',), ('up_steping',), ('no skills',), ('One_rhythm',), ('One_rhythm',), ('One_rhythm',), ('One_rhythm',), ('One_rhythm',), ('One_rhythm',), ('One_rhythm',), ('One_rhythm',), ('One_rhythm',), ('One_rhythm',), ('One_rhythm',), ('One_rhythm',), ('One_rhythm',), ('One_rhythm',), ('One_rhythm',), ('One_rhythm',), ('One_rhythm',), ('no skills',), ('leaping_twisting',), ('One_rhythm',), ('One_rhythm',), ('up_steping',), ('up_steping',), ('up_leaping',), ('up_steping',), ('One_rhythm',), ('down_steping',), ('up_steping',), ('up_leaping',), ('leaping_twisting',), ('up_leaping',), ('up_leaping',), ('leaping_twisting',), ('triplet',), ('up_leaping',), ('up_leaping',), ('up_steping',), ('continuing_rhythm',), ('up_steping',), ('triplet',), ('leaping_twisting',), ('triplet',), ('fast_rhythm',), ('fast_rhythm',), ('up_steping',), ('repeating',), ('no skills',), ('no skills',), ('leaping_twisting',), ('no skills',), ('leaping_twisting',), ('leaping_twisting',), ('leaping_twisting',), ('no skills',), ('leaping_twisting',), ('leaping_twisting',), ('leaping_twisting',), ('leaping_twisting',), ('leaping_twisting',), ('leaping_twisting',), ('leaping_twisting',), ('leaping_twisting',), ('no skills',), ('no skills',), ('no skills',), ('no skills',), ('no skills',), ('continuing_rhythm',), ('leaping_twisting',), ('leaping_twisting',), ('up_steping',), ('continuing_rhythm',), ('up_steping',), ('no skills',), ('repeating',), ('repeating',), ('no skills',), ('no skills',), ('no skills',), ('no skills',), ('no skills',), ('leaping_twisting',), ('up_steping',), ('no skills',), ('triplet',), ('no skills',), ('up_steping',), ('triplet',), ('leaping_twisting',), ('no skills',), ('leaping_twisting',), ('continuing_rhythm',), ('leaping_twisting',), ('leaping_twisting',), ('continuing_rhythm',), ('leaping_twisting',), ('continuing_rhythm',), ('leaping_twisting',), ('leaping_twisting',), ('continuing_rhythm',), ('leaping_twisting',), ('leaping_twisting',), ('repeating',), ('leaping_twisting',), ('no skills',), ('leaping_twisting',), ('down_steping',), ('up_steping',), ('One_rhythm',), ('leaping_twisting',), ('no skills',), ('leaping_twisting',), ('no skills',), ('leaping_twisting',), ('down_steping',), ('up_steping',), ('One_rhythm',), ('leaping_twisting',), ('no skills',), ('no skills',), ('leaping_twisting',), ('triplet',), ('up_steping',), ('up_leaping',), ('down_leaping',), ('One_rhythm',), ('down_leaping',), ('One_rhythm',), ('leaping_twisting',), ('repeating',), ('fast_rhythm',), ('triplet',), ('down_steping',), ('triplet',), ('up_leaping',), ('repeating',), ('repeating',), ('repeating',), ('repeating',), ('repeating',), ('repeating',), ('no skills',), ('no skills',), ('fast_rhythm',), ('fast_rhythm',), ('fast_rhythm',), ('leaping_twisting',), ('fast_rhythm',), ('no skills',), ('leaping_twisting',), ('leaping_twisting',), ('leaping_twisting',), ('leaping_twisting',), ('leaping_twisting',), ('leaping_twisting',), ('leaping_twisting',), ('leaping_twisting',), ('leaping_twisting',), ('leaping_twisting',), ('leaping_twisting',), ('leaping_twisting',), ('up_steping',), ('no skills',), ('up_steping',), ('no skills',), ('repeating',), ('repeating',), ('fast_rhythm',), ('leaping_twisting',), ('no skills',), ('repeating',), ('triplet',), ('leaping_twisting',), ('no skills',), ('up_steping',), ('no skills',), ('repeating',), ('steping_twisting',), ('no skills',), ('triplet',), ('no skills',), ('repeating',), ('repeating',), ('continuing_rhythm',), ('repeating',), ('continuing_rhythm',), ('no skills',), ('continuing_rhythm',), ('no skills',), ('continuing_rhythm',), ('up_steping',), ('staccato',), ('One_rhythm',), ('no skills',), ('leaping_twisting',), ('repeating',), ('repeating',), ('repeating',), ('repeating',), ('repeating',), ('repeating',), ('repeating',), ('down_steping',), ('repeating',), ('up_steping',), ('repeating',), ('repeating',), ('repeating',), ('repeating',), ('repeating',), ('repeating',), ('up_steping',), ('repeating',), ('repeating',), ('repeating',), ('up_steping',), ('repeating',), ('repeating',), ('repeating',), ('no skills',), ('up_steping',), ('no skills',), ('down_steping',), ('no skills',), ('no skills',), ('no skills',), ('up_steping',), ('One_rhythm',), ('leaping_twisting',), ('One_rhythm',), ('One_rhythm',), ('One_rhythm',), ('One_rhythm',), ('One_rhythm',), ('One_rhythm',), ('One_rhythm',), ('One_rhythm',), ('One_rhythm',), ('no skills',), ('leaping_twisting',), ('triplet',), ('leaping_twisting',), ('One_rhythm',), ('leaping_twisting',), ('triplet',), ('leaping_twisting',), ('fast_rhythm',), ('triplet',), ('triplet',), ('triplet',), ('up_steping',), ('no skills',), ('no skills',), ('no skills',), ('up_leaping',), ('leaping_twisting',), ('triplet',), ('no skills',), ('One_rhythm',), ('up_steping',), ('no skills',), ('no skills',), ('leaping_twisting',), ('up_steping',), ('no skills',), ('One_rhythm',), ('leaping_twisting',), ('leaping_twisting',), ('steping_twisting',), ('no skills',), ('One_rhythm',), ('up_leaping',), ('steping_twisting',), ('no skills',), ('One_rhythm',), ('up_steping',), ('no skills',), ('no skills',), ('leaping_twisting',), ('fast_rhythm',), ('fast_rhythm',), ('fast_rhythm',), ('leaping_twisting',), ('repeating',), ('repeating',), ('repeating',), ('repeating',), ('repeating',), ('repeating',), ('repeating',), ('leaping_twisting',), ('fast_rhythm',), ('fast_rhythm',), ('fast_rhythm',), ('fast_rhythm',), ('no skills',), ('leaping_twisting',), ('staccato',), ('no skills',), ('no skills',), ('leaping_twisting',), ('One_rhythm',), ('up_leaping',), ('staccato',), ('up_leaping',), ('no skills',), ('leaping_twisting',), ('leaping_twisting',), ('leaping_twisting',), ('leaping_twisting',), ('leaping_twisting',), ('no skills',), ('leaping_twisting',), ('leaping_twisting',), ('leaping_twisting',), ('no skills',), ('leaping_twisting',), ('fast_rhythm',), ('fast_rhythm',), ('fast_rhythm',), ('staccato',), ('One_rhythm',), ('leaping_twisting',), ('leaping_twisting',), ('up_leaping',), ('leaping_twisting',), ('leaping_twisting',), ('up_steping',), ('leaping_twisting',), ('up_steping',), ('triplet',), ('up_leaping',), ('up_leaping',), ('leaping_twisting',), ('up_leaping',), ('leaping_twisting',), ('up_steping',), ('leaping_twisting',), ('leaping_twisting',), ('up_steping',), ('up_steping',), ('no skills',), ('no skills',), ('no skills',), ('up_steping',), ('no skills',), ('no skills',), ('no skills',), ('up_steping',), ('no skills',), ('no skills',), ('no skills',), ('no skills',), ('no skills',), ('fast_rhythm',), ('fast_rhythm',), ('repeating',), ('no skills',), ('repeating',), ('no skills',), ('repeating',), ('triplet',), ('repeating',), ('up_leaping',), ('repeating',), ('no skills',), ('repeating',), ('no skills',), ('repeating',), ('triplet',), ('repeating',), ('up_leaping',), ('repeating',), ('repeating',), ('repeating',), ('repeating',), ('repeating',), ('continuing_rhythm',), ('repeating',), ('leaping_twisting',), ('repeating',), ('no skills',), ('repeating',), ('up_steping',), ('repeating',), ('no skills',), ('repeating',), ('no skills',), ('repeating',), ('One_rhythm',), ('continuing_rhythm',), ('leaping_twisting',), ('leaping_twisting',), ('leaping_twisting',), ('leaping_twisting',), ('continuing_rhythm',), ('leaping_twisting',), ('One_rhythm',), ('continuing_rhythm',), ('leaping_twisting',), ('leaping_twisting',), ('leaping_twisting',), ('no skills',), ('up_steping',), ('up_leaping',), ('up_steping',), ('leaping_twisting',), ('leaping_twisting',), ('leaping_twisting',), ('leaping_twisting',), ('leaping_twisting',), ('up_steping',), ('up_leaping',), ('up_steping',), ('leaping_twisting',), ('leaping_twisting',), ('leaping_twisting',), ('up_steping',), ('leaping_twisting',), ('leaping_twisting',), ('leaping_twisting',), ('down_leaping',), ('down_leaping',), ('no skills',), ('up_leaping',), ('no skills',), ('down_leaping',), ('no skills',), ('up_leaping',), ('no skills',), ('down_leaping',), ('no skills',), ('repeating',), ('repeating',), ('leaping_twisting',), ('leaping_twisting',), ('leaping_twisting',), ('leaping_twisting',), ('leaping_twisting',), ('leaping_twisting',), ('no skills',), ('no skills',), ('One_rhythm',), ('no skills',), ('One_rhythm',), ('no skills',), ('One_rhythm',), ('One_rhythm',), ('up_steping',), ('no skills',), ('down_steping',), ('up_steping',), ('One_rhythm',), ('no skills',), ('One_rhythm',), ('no skills',), ('One_rhythm',), ('no skills',), ('One_rhythm',), ('One_rhythm',), ('up_steping',), ('no skills',), ('no skills',), ('up_leaping',), ('down_steping',), ('down_steping',), ('no skills',), ('staccato',), ('down_steping',), ('no skills',), ('repeating',), ('no skills',), ('leaping_twisting',), ('triplet',), ('no skills',), ('no skills',), ('down_leaping',), ('repeating',), ('leaping_twisting',), ('repeating',), ('repeating',), ('no skills',), ('fast_rhythm',), ('up_steping',), ('fast_rhythm',), ('leaping_twisting',), ('leaping_twisting',), ('fast_rhythm',), ('steping_twisting',), ('fast_rhythm',), ('no skills',), ('triplet',), ('fast_rhythm',), ('One_rhythm',), ('fast_rhythm',), ('leaping_twisting',), ('no skills',), ('One_rhythm',), ('up_steping',), ('no skills',), ('leaping_twisting',), ('up_steping',), ('One_rhythm',), ('continuing_rhythm',), ('One_rhythm',), ('continuing_rhythm',), ('leaping_twisting',), ('no skills',), ('leaping_twisting',), ('up_steping',), ('continuing_rhythm',), ('continuing_rhythm',), ('leaping_twisting',), ('continuing_rhythm',), ('One_rhythm',), ('leaping_twisting',), ('continuing_rhythm',), ('no skills',), ('no skills',), ('no skills',), ('no skills',), ('no skills',), ('no skills',), ('up_steping',), ('continuing_rhythm',), ('no skills',), ('no skills',), ('no skills',), ('no skills',), ('no skills',), ('no skills',), ('up_steping',), ('no skills',), ('no skills',), ('no skills',), ('up_leaping',), ('leaping_twisting',), ('up_steping',), ('leaping_twisting',), ('steping_twisting',), ('leaping_twisting',), ('One_rhythm',), ('down_leaping',), ('down_leaping',), ('down_leaping',), ('no skills',), ('down_steping',), ('no skills',), ('no skills',), ('up_steping',), ('no skills',), ('down_steping',), ('leaping_twisting',), ('leaping_twisting',), ('One_rhythm',), ('no skills',), ('leaping_twisting',), ('no skills',), ('leaping_twisting',), ('leaping_twisting',), ('leaping_twisting',), ('One_rhythm',), ('leaping_twisting',), ('no skills',), ('no skills',), ('no skills',), ('no skills',), ('down_leaping',), ('repeating',), ('repeating',), ('repeating',), ('repeating',), ('repeating',), ('repeating',), ('repeating',), ('repeating',), ('repeating',), ('repeating',), ('repeating',), ('repeating',), ('repeating',), ('repeating',), ('repeating',), ('up_steping',), ('repeating',), ('down_leaping',), ('down_leaping',), ('down_leaping',), ('down_leaping',), ('no skills',), ('fast_rhythm',), ('no skills',), ('repeating',), ('repeating',), ('One_rhythm',), ('One_rhythm',), ('steping_twisting',), ('leaping_twisting',), ('One_rhythm',), ('no skills',), ('continuing_rhythm',), ('repeating',), ('One_rhythm',), ('One_rhythm',), ('steping_twisting',), ('no skills',), ('continuing_rhythm',), ('down_leaping',), ('no skills',), ('leaping_twisting',), ('up_steping',), ('up_steping',), ('leaping_twisting',), ('continuing_rhythm',), ('up_steping',), ('continuing_rhythm',), ('leaping_twisting',), ('down_steping',), ('staccato',), ('down_steping',), ('up_leaping',), ('triplet',), ('no skills',), ('triplet',), ('leaping_twisting',), ('triplet',), ('leaping_twisting',), ('leaping_twisting',), ('leaping_twisting',), ('repeating',), ('down_leaping',), ('repeating',), ('repeating',), ('leaping_twisting',), ('leaping_twisting',), ('repeating',), ('leaping_twisting',), ('leaping_twisting',), ('repeating',), ('repeating',), ('repeating',), ('triplet',), ('triplet',), ('repeating',), ('triplet',), ('repeating',), ('repeating',), ('repeating',), ('repeating',), ('triplet',), ('triplet',), ('repeating',), ('repeating',), ('triplet',), ('triplet',), ('repeating',), ('up_steping',), ('repeating',), ('leaping_twisting',), ('repeating',), ('One_rhythm',), ('repeating',), ('up_leaping',), ('repeating',), ('repeating',), ('repeating',), ('leaping_twisting',), ('repeating',), ('repeating',), ('repeating',), ('up_leaping',), ('repeating',), ('no skills',), ('continuing_rhythm',), ('repeating',), ('repeating',), ('fast_rhythm',), ('fast_rhythm',), ('no skills',), ('no skills',), ('continuing_rhythm',), ('continuing_rhythm',), ('fast_rhythm',), ('fast_rhythm',), ('continuing_rhythm',), ('continuing_rhythm',), ('fast_rhythm',), ('fast_rhythm',), ('continuing_rhythm',), ('no skills',), ('leaping_twisting',), ('fast_rhythm',), ('fast_rhythm',), ('fast_rhythm',), ('leaping_twisting',), ('leaping_twisting',), ('fast_rhythm',), ('up_steping',), ('down_leaping',), ('up_steping',), ('no skills',), ('leaping_twisting',), ('down_leaping',), ('down_leaping',), ('leaping_twisting',), ('down_leaping',), ('leaping_twisting',), ('down_leaping',), ('down_leaping',), ('leaping_twisting',), ('down_leaping',), ('leaping_twisting',), ('down_leaping',), ('down_leaping',), ('leaping_twisting',), ('down_leaping',), ('leaping_twisting',), ('down_leaping',), ('leaping_twisting',), ('no skills',), ('fast_rhythm',), ('continuing_rhythm',), ('no skills',), ('continuing_rhythm',), ('continuing_rhythm',), ('no skills',), ('no skills',), ('up_steping',), ('leaping_twisting',), ('fast_rhythm',), ('no skills',), ('up_steping',), ('no skills',), ('staccato',), ('triplet',), ('One_rhythm',), ('triplet',), ('triplet',), ('triplet',), ('no skills',), ('repeating',), ('repeating',), ('up_steping',), ('down_leaping',), ('repeating',), ('down_leaping',), ('leaping_twisting',), ('leaping_twisting',), ('no skills',), ('leaping_twisting',), ('no skills',), ('no skills',), ('down_steping',), ('leaping_twisting',), ('no skills',), ('up_steping',), ('fast_rhythm',), ('up_steping',), ('up_leaping',), ('leaping_twisting',), ('up_steping',), ('down_leaping',), ('no skills',), ('up_leaping',), ('steping_twisting',), ('steping_twisting',), ('up_leaping',), ('up_steping',), ('leaping_twisting',), ('leaping_twisting',), ('down_leaping',), ('no skills',), ('steping_twisting',), ('steping_twisting',), ('up_leaping',), ('up_steping',), ('up_steping',), ('down_leaping',), ('no skills',), ('up_leaping',), ('steping_twisting',), ('no skills',), ('no skills',), ('no skills',), ('no skills',), ('repeating',), ('up_steping',), ('down_steping',), ('down_leaping',), ('One_rhythm',), ('staccato',), ('repeating',), ('no skills',), ('up_steping',), ('leaping_twisting',), ('no skills',), ('down_steping',), ('One_rhythm',), ('no skills',), ('no skills',), ('no skills',), ('no skills',), ('up_steping',), ('triplet',), ('down_leaping',), ('staccato',), ('up_steping',), ('down_leaping',), ('no skills',), ('up_leaping',), ('up_steping',), ('up_leaping',), ('up_leaping',), ('no skills',), ('up_steping',), ('down_steping',), ('up_leaping',), ('leaping_twisting',), ('up_steping',), ('steping_twisting',), ('up_leaping',), ('leaping_twisting',), ('continuing_rhythm',), ('down_steping',), ('up_leaping',), ('no skills',), ('up_steping',), ('One_rhythm',), ('up_leaping',), ('steping_twisting',), ('up_steping',), ('up_leaping',), ('up_steping',), ('up_steping',), ('leaping_twisting',), ('leaping_twisting',), ('up_steping',), ('up_leaping',), ('One_rhythm',), ('up_steping',), ('down_steping',), ('One_rhythm',), ('down_steping',), ('up_steping',), ('up_steping',), ('no skills',), ('up_steping',), ('up_steping',), ('triplet',), ('no skills',), ('triplet',), ('no skills',), ('up_steping',), ('triplet',), ('up_steping',), ('down_steping',), ('up_steping',), ('staccato',), ('repeating',), ('no skills',), ('up_steping',), ('repeating',), ('repeating',), ('repeating',), ('no skills',), ('leaping_twisting',), ('no skills',), ('steping_twisting',), ('leaping_twisting',), ('up_leaping',), ('repeating',), ('no skills',), ('leaping_twisting',), ('leaping_twisting',), ('up_steping',), ('repeating',), ('up_steping',), ('up_steping',), ('up_leaping',), ('up_steping',), ('down_steping',), ('no skills',), ('up_steping',), ('up_steping',), ('up_leaping',), ('triplet',), ('leaping_twisting',), ('One_rhythm',), ('leaping_twisting',), ('One_rhythm',), ('leaping_twisting',), ('triplet',), ('triplet',), ('up_steping',), ('up_steping',), ('up_steping',), ('triplet',), ('up_steping',), ('up_steping',), ('up_steping',), ('up_leaping',), ('triplet',), ('leaping_twisting',), ('One_rhythm',), ('repeating',), ('steping_twisting',), ('up_steping',), ('triplet',), ('up_leaping',), ('triplet',), ('up_leaping',), ('up_steping',), ('no skills',), ('no skills',), ('no skills',), ('triplet',), ('no skills',), ('triplet',), ('triplet',), ('up_steping',), ('no skills',), ('up_steping',), ('no skills',), ('no skills',), ('no skills',), ('repeating',), ('leaping_twisting',), ('up_steping',), ('fast_rhythm',), ('up_steping',), ('no skills',), ('leaping_twisting',), ('no skills',), ('no skills',), ('triplet',), ('no skills',), ('leaping_twisting',), ('no skills',), ('leaping_twisting',), ('no skills',), ('no skills',), ('down_leaping',), ('down_leaping',), ('down_leaping',), ('down_leaping',), ('down_leaping',), ('down_leaping',), ('down_leaping',), ('down_leaping',), ('up_leaping',), ('no skills',), ('leaping_twisting',), ('triplet',), ('leaping_twisting',), ('leaping_twisting',), ('down_leaping',), ('repeating',), ('up_leaping',), ('leaping_twisting',), ('leaping_twisting',), ('leaping_twisting',), ('leaping_twisting',), ('triplet',), ('repeating',), ('up_leaping',), ('leaping_twisting',), ('no skills',), ('up_leaping',), ('down_steping',), ('up_steping',), ('leaping_twisting',), ('up_leaping',), ('down_leaping',), ('up_steping',), ('leaping_twisting',), ('up_leaping',), ('leaping_twisting',), ('up_steping',), ('leaping_twisting',), ('up_leaping',), ('leaping_twisting',), ('up_steping',), ('leaping_twisting',), ('up_leaping',), ('down_steping',), ('up_steping',), ('leaping_twisting',), ('up_leaping',), ('down_leaping',), ('up_steping',), ('leaping_twisting',), ('no skills',), ('up_steping',), ('up_steping',), ('no skills',), ('staccato',), ('up_steping',), ('no skills',), ('no skills',), ('up_steping',), ('up_steping',), ('no skills',), ('no skills',), ('no skills',), ('no skills',), ('fast_rhythm',), ('up_steping',), ('up_steping',), ('fast_rhythm',), ('up_steping',), ('up_steping',), ('down_steping',), ('down_steping',), ('continuing_rhythm',), ('leaping_twisting',), ('leaping_twisting',), ('leaping_twisting',), ('leaping_twisting',), ('leaping_twisting',), ('leaping_twisting',), ('continuing_rhythm',), ('no skills',), ('leaping_twisting',), ('leaping_twisting',), ('leaping_twisting',), ('leaping_twisting',), ('leaping_twisting',), ('leaping_twisting',), ('leaping_twisting',), ('continuing_rhythm',), ('leaping_twisting',), ('leaping_twisting',), ('up_leaping',), ('steping_twisting',), ('down_leaping',), ('leaping_twisting',), ('up_leaping',), ('steping_twisting',), ('down_leaping',), ('down_leaping',), ('One_rhythm',), ('up_steping',), ('up_steping',), ('leaping_twisting',), ('leaping_twisting',), ('leaping_twisting',), ('leaping_twisting',), ('leaping_twisting',), ('leaping_twisting',), ('leaping_twisting',), ('leaping_twisting',), ('leaping_twisting',), ('leaping_twisting',), ('leaping_twisting',), ('leaping_twisting',), ('leaping_twisting',), ('leaping_twisting',), ('leaping_twisting',), ('up_leaping',), ('up_steping',), ('no skills',), ('up_leaping',), ('no skills',), ('steping_twisting',), ('no skills',), ('no skills',), ('no skills',), ('down_steping',), ('no skills',), ('no skills',), ('up_steping',), ('staccato',), ('no skills',), ('no skills',), ('no skills',), ('no skills',), ('no skills',), ('no skills',), ('down_steping',), ('no skills',), ('down_steping',), ('no skills',), ('no skills',), ('triplet',), ('triplet',), ('fast_rhythm',), ('triplet',), ('no skills',), ('leaping_twisting',), ('down_leaping',), ('no skills',), ('up_steping',), ('triplet',), ('no skills',), ('leaping_twisting',), ('leaping_twisting',), ('leaping_twisting',), ('no skills',), ('no skills',), ('down_steping',), ('no skills',), ('steping_twisting',), ('no skills',), ('down_steping',), ('no skills',), ('steping_twisting',), ('no skills',), ('down_steping',), ('no skills',), ('steping_twisting',), ('no skills',), ('up_steping',), ('no skills',), ('up_steping',), ('up_steping',), ('no skills',), ('fast_rhythm',), ('fast_rhythm',), ('fast_rhythm',), ('fast_rhythm',), ('triplet',), ('up_steping',), ('fast_rhythm',), ('triplet',), ('continuing_rhythm',), ('fast_rhythm',), ('fast_rhythm',), ('fast_rhythm',), ('fast_rhythm',), ('fast_rhythm',), ('fast_rhythm',), ('triplet',), ('leaping_twisting',), ('down_leaping',), ('down_leaping',), ('down_leaping',), ('down_leaping',), ('down_leaping',), ('down_leaping',), ('leaping_twisting',), ('leaping_twisting',), ('down_leaping',), ('down_leaping',), ('down_leaping',), ('down_leaping',), ('down_leaping',), ('down_leaping',), ('down_leaping',), ('down_leaping',), ('down_leaping',), ('down_leaping',), ('no skills',), ('triplet',), ('no skills',), ('up_leaping',), ('up_steping',), ('triplet',), ('no skills',), ('repeating',), ('up_steping',), ('repeating',), ('repeating',), ('repeating',), ('leaping_twisting',), ('repeating',), ('fast_rhythm',), ('repeating',), ('steping_twisting',), ('down_leaping',), ('no skills',), ('down_leaping',), ('up_steping',), ('leaping_twisting',), ('leaping_twisting',), ('leaping_twisting',), ('leaping_twisting',), ('leaping_twisting',), ('leaping_twisting',), ('leaping_twisting',), ('leaping_twisting',), ('leaping_twisting',), ('leaping_twisting',), ('leaping_twisting',), ('leaping_twisting',), ('up_leaping',), ('up_steping',), ('no skills',), ('up_steping',), ('leaping_twisting',), ('up_steping',), ('no skills',), ('no skills',), ('staccato',), ('no skills',), ('no skills',), ('fast_rhythm',), ('up_steping',), ('no skills',), ('no skills',), ('leaping_twisting',), ('leaping_twisting',), ('leaping_twisting',), ('leaping_twisting',), ('leaping_twisting',), ('leaping_twisting',), ('leaping_twisting',), ('leaping_twisting',), ('repeating',), ('no skills',), ('leaping_twisting',), ('leaping_twisting',), ('leaping_twisting',), ('leaping_twisting',), ('leaping_twisting',), ('up_leaping',), ('up_leaping',), ('up_leaping',), ('up_leaping',), ('up_leaping',), ('up_leaping',), ('up_leaping',), ('up_leaping',), ('leaping_twisting',), ('up_leaping',), ('up_leaping',), ('up_leaping',), ('up_leaping',), ('up_leaping',), ('up_leaping',), ('up_leaping',), ('leaping_twisting',), ('up_leaping',), ('up_leaping',), ('no skills',), ('triplet',), ('up_steping',), ('triplet',), ('up_steping',), ('leaping_twisting',), ('leaping_twisting',), ('leaping_twisting',), ('leaping_twisting',), ('leaping_twisting',), ('leaping_twisting',), ('leaping_twisting',), ('leaping_twisting',), ('leaping_twisting',), ('leaping_twisting',), ('leaping_twisting',), ('no skills',), ('repeating',), ('repeating',), ('repeating',), ('repeating',), ('repeating',), ('repeating',), ('repeating',), ('repeating',), ('repeating',), ('repeating',), ('repeating',), ('repeating',), ('repeating',), ('repeating',), ('repeating',), ('repeating',), ('down_steping',), ('repeating',), ('repeating',), ('repeating',), ('down_steping',), ('repeating',), ('repeating',), ('repeating',), ('staccato',), ('repeating',), ('repeating',), ('repeating',), ('staccato',), ('no skills',), ('continuing_rhythm',), ('no skills',), ('One_rhythm',), ('leaping_twisting',), ('continuing_rhythm',), ('leaping_twisting',), ('no skills',), ('no skills',), ('leaping_twisting',), ('leaping_twisting',), ('One_rhythm',), ('leaping_twisting',), ('leaping_twisting',), ('up_steping',), ('repeating',), ('leaping_twisting',), ('staccato',), ('up_steping',), ('down_steping',), ('triplet',), ('no skills',), ('no skills',), ('down_leaping',), ('triplet',), ('up_steping',), ('leaping_twisting',), ('leaping_twisting',), ('staccato',), ('leaping_twisting',), ('leaping_twisting',), ('leaping_twisting',), ('leaping_twisting',), ('leaping_twisting',), ('leaping_twisting',), ('leaping_twisting',), ('leaping_twisting',), ('leaping_twisting',), ('up_leaping',), ('leaping_twisting',), ('up_steping',), ('leaping_twisting',), ('leaping_twisting',), ('continuing_rhythm',), ('leaping_twisting',), ('leaping_twisting',), ('leaping_twisting',), ('up_leaping',), ('up_leaping',), ('leaping_twisting',), ('leaping_twisting',), ('up_steping',), ('leaping_twisting',), ('continuing_rhythm',), ('no skills',), ('up_steping',), ('down_steping',), ('up_steping',), ('leaping_twisting',), ('no skills',), ('no skills',), ('no skills',), ('no skills',), ('down_leaping',), ('leaping_twisting',), ('up_leaping',), ('up_steping',), ('up_leaping',), ('leaping_twisting',), ('up_steping',), ('leaping_twisting',), ('no skills',), ('continuing_rhythm',), ('triplet',), ('fast_rhythm',), ('fast_rhythm',), ('no skills',), ('fast_rhythm',), ('fast_rhythm',), ('fast_rhythm',), ('no skills',), ('fast_rhythm',), ('up_steping',), ('leaping_twisting',), ('fast_rhythm',), ('up_steping',), ('down_steping',), ('triplet',), ('no skills',), ('down_steping',), ('no skills',), ('repeating',), ('repeating',), ('up_steping',), ('no skills',), ('leaping_twisting',), ('up_steping',), ('up_steping',), ('no skills',), ('leaping_twisting',), ('up_steping',), ('down_steping',), ('staccato',), ('no skills',), ('up_leaping',), ('One_rhythm',), ('no skills',), ('down_leaping',), ('triplet',), ('fast_rhythm',), ('up_leaping',), ('down_leaping',), ('leaping_twisting',), ('up_leaping',), ('up_leaping',), ('down_leaping',), ('up_leaping',), ('down_leaping',), ('up_leaping',), ('down_leaping',), ('up_leaping',), ('down_leaping',), ('up_leaping',), ('continuing_rhythm',), ('leaping_twisting',), ('One_rhythm',), ('continuing_rhythm',), ('leaping_twisting',), ('continuing_rhythm',), ('One_rhythm',), ('continuing_rhythm',), ('leaping_twisting',), ('continuing_rhythm',), ('continuing_rhythm',), ('continuing_rhythm',), ('leaping_twisting',), ('continuing_rhythm',), ('no skills',), ('One_rhythm',), ('no skills',), ('fast_rhythm',), ('One_rhythm',), ('fast_rhythm',), ('no skills',), ('One_rhythm',), ('no skills',), ('One_rhythm',), ('leaping_twisting',), ('One_rhythm',), ('One_rhythm',), ('One_rhythm',), ('leaping_twisting',), ('One_rhythm',), ('fast_rhythm',), ('One_rhythm',), ('leaping_twisting',), ('One_rhythm',), ('One_rhythm',), ('One_rhythm',), ('leaping_twisting',), ('One_rhythm',), ('fast_rhythm',), ('One_rhythm',), ('no skills',), ('fast_rhythm',), ('One_rhythm',), ('fast_rhythm',), ('no skills',), ('One_rhythm',), ('no skills',), ('repeating',), ('repeating',), ('leaping_twisting',), ('no skills',), ('repeating',), ('up_steping',), ('repeating',), ('leaping_twisting',), ('no skills',), ('repeating',), ('repeating',), ('leaping_twisting',), ('leaping_twisting',), ('no skills',), ('leaping_twisting',), ('no skills',), ('up_steping',), ('One_rhythm',), ('no skills',), ('One_rhythm',), ('no skills',), ('One_rhythm',), ('no skills',), ('One_rhythm',), ('no skills',), ('One_rhythm',), ('no skills',), ('One_rhythm',), ('no skills',), ('One_rhythm',), ('no skills',), ('leaping_twisting',), ('down_leaping',), ('down_leaping',), ('down_leaping',), ('down_leaping',), ('down_leaping',), ('down_leaping',), ('down_leaping',), ('down_leaping',), ('down_leaping',), ('repeating',), ('staccato',), ('repeating',), ('leaping_twisting',), ('One_rhythm',), ('no skills',), ('repeating',), ('leaping_twisting',), ('repeating',), ('staccato',), ('repeating',), ('leaping_twisting',), ('One_rhythm',), ('leaping_twisting',), ('leaping_twisting',), ('down_leaping',), ('no skills',), ('no skills',), ('fast_rhythm',), ('no skills',), ('fast_rhythm',), ('fast_rhythm',), ('fast_rhythm',), ('fast_rhythm',), ('fast_rhythm',), ('fast_rhythm',), ('fast_rhythm',), ('no skills',), ('fast_rhythm',), ('leaping_twisting',), ('up_leaping',), ('up_leaping',), ('leaping_twisting',), ('up_leaping',), ('up_leaping',), ('up_leaping',), ('up_leaping',), ('down_steping',), ('leaping_twisting',), ('down_steping',), ('leaping_twisting',), ('down_steping',), ('leaping_twisting',), ('down_steping',), ('leaping_twisting',), ('down_steping',), ('leaping_twisting',), ('down_steping',), ('leaping_twisting',), ('down_steping',), ('leaping_twisting',), ('down_steping',), ('no skills',), ('no skills',), ('down_steping',), ('no skills',), ('leaping_twisting',), ('up_leaping',), ('up_leaping',), ('leaping_twisting',), ('up_leaping',), ('up_leaping',), ('up_leaping',), ('leaping_twisting',), ('up_leaping',), ('up_leaping',), ('no skills',), ('leaping_twisting',), ('up_leaping',), ('up_leaping',), ('up_steping',), ('triplet',), ('up_leaping',), ('no skills',), ('up_steping',), ('no skills',), ('staccato',), ('down_leaping',), ('up_steping',), ('fast_rhythm',), ('staccato',), ('staccato',), ('up_steping',), ('no skills',), ('staccato',), ('down_leaping',), ('leaping_twisting',), ('leaping_twisting',), ('leaping_twisting',), ('leaping_twisting',), ('fast_rhythm',), ('leaping_twisting',), ('leaping_twisting',), ('leaping_twisting',), ('leaping_twisting',), ('leaping_twisting',), ('leaping_twisting',), ('fast_rhythm',), ('fast_rhythm',), ('leaping_twisting',), ('leaping_twisting',), ('leaping_twisting',), ('down_leaping',), ('One_rhythm',), ('leaping_twisting',), ('leaping_twisting',), ('leaping_twisting',), ('One_rhythm',), ('leaping_twisting',), ('leaping_twisting',), ('leaping_twisting',), ('down_leaping',), ('down_leaping',), ('down_leaping',), ('leaping_twisting',), ('down_leaping',), ('leaping_twisting',), ('leaping_twisting',), ('no skills',), ('down_leaping',), ('up_leaping',), ('up_leaping',), ('leaping_twisting',), ('fast_rhythm',), ('triplet',), ('continuing_rhythm',), ('fast_rhythm',), ('fast_rhythm',), ('fast_rhythm',), ('continuing_rhythm',), ('fast_rhythm',), ('fast_rhythm',), ('no skills',), ('leaping_twisting',), ('up_steping',), ('One_rhythm',), ('One_rhythm',), ('leaping_twisting',), ('One_rhythm',), ('One_rhythm',), ('One_rhythm',), ('leaping_twisting',), ('One_rhythm',), ('One_rhythm',), ('up_leaping',), ('leaping_twisting',), ('continuing_rhythm',), ('leaping_twisting',), ('continuing_rhythm',), ('leaping_twisting',), ('no skills',), ('leaping_twisting',), ('continuing_rhythm',), ('leaping_twisting',), ('continuing_rhythm',), ('leaping_twisting',), ('continuing_rhythm',), ('leaping_twisting',), ('continuing_rhythm',), ('leaping_twisting',), ('continuing_rhythm',), ('leaping_twisting',), ('no skills',), ('up_steping',), ('down_steping',), ('down_steping',), ('down_steping',), ('up_steping',), ('down_steping',), ('down_steping',), ('down_steping',), ('repeating',), ('down_steping',), ('staccato',), ('down_steping',), ('repeating',), ('down_steping',), ('staccato',), ('down_steping',), ('repeating',), ('leaping_twisting',), ('leaping_twisting',), ('leaping_twisting',), ('leaping_twisting',), ('leaping_twisting',), ('leaping_twisting',), ('leaping_twisting',), ('leaping_twisting',), ('leaping_twisting',), ('leaping_twisting',), ('leaping_twisting',), ('leaping_twisting',), ('leaping_twisting',), ('triplet',), ('triplet',), ('down_steping',), ('up_steping',), ('triplet',), ('triplet',), ('triplet',), ('continuing_rhythm',), ('up_leaping',), ('triplet',), ('down_leaping',), ('up_steping',), ('steping_twisting',), ('down_steping',), ('up_steping',), ('up_steping',), ('up_leaping',), ('leaping_twisting',), ('leaping_twisting',), ('down_leaping',), ('down_leaping',), ('leaping_twisting',), ('leaping_twisting',), ('down_leaping',), ('down_leaping',), ('leaping_twisting',), ('leaping_twisting',), ('leaping_twisting',), ('down_leaping',), ('leaping_twisting',), ('leaping_twisting',), ('down_leaping',), ('down_leaping',), ('leaping_twisting',), ('leaping_twisting',), ('up_leaping',), ('One_rhythm',), ('One_rhythm',), ('repeating',), ('repeating',), ('One_rhythm',), ('One_rhythm',), ('repeating',), ('up_steping',), ('repeating',), ('repeating',), ('One_rhythm',), ('One_rhythm',), ('repeating',), ('fast_rhythm',), ('no skills',), ('no skills',), ('One_rhythm',), ('One_rhythm',), ('repeating',), ('repeating',), ('One_rhythm',), ('no skills',), ('triplet',), ('up_leaping',), ('triplet',), ('up_leaping',), ('triplet',), ('up_leaping',), ('up_leaping',), ('repeating',), ('no skills',), ('up_leaping',), ('no skills',), ('no skills',), ('up_steping',), ('no skills',), ('steping_twisting',), ('no skills',), ('no skills',), ('no skills',), ('steping_twisting',), ('no skills',), ('repeating',), ('triplet',), ('no skills',), ('steping_twisting',), ('no skills',), ('up_steping',), ('repeating',), ('repeating',), ('repeating',), ('triplet',), ('up_steping',), ('no skills',), ('repeating',), ('no skills',), ('no skills',), ('no skills',), ('no skills',), ('no skills',), ('no skills',), ('repeating',), ('no skills',), ('up_steping',), ('no skills',), ('up_steping',), ('up_steping',), ('up_steping',), ('triplet',), ('up_steping',), ('no skills',), ('up_steping',), ('leaping_twisting',), ('repeating',), ('repeating',), ('repeating',), ('repeating',), ('up_steping',), ('repeating',), ('repeating',), ('repeating',), ('One_rhythm',), ('repeating',), ('repeating',), ('repeating',), ('repeating',), ('leaping_twisting',), ('leaping_twisting',), ('leaping_twisting',), ('repeating',), ('repeating',), ('no skills',), ('fast_rhythm',), ('fast_rhythm',), ('fast_rhythm',), ('fast_rhythm',), ('fast_rhythm',), ('fast_rhythm',), ('fast_rhythm',), ('fast_rhythm',), ('fast_rhythm',), ('fast_rhythm',), ('fast_rhythm',), ('fast_rhythm',), ('fast_rhythm',), ('fast_rhythm',), ('fast_rhythm',), ('fast_rhythm',), ('up_leaping',), ('fast_rhythm',), ('fast_rhythm',), ('fast_rhythm',), ('fast_rhythm',), ('fast_rhythm',), ('leaping_twisting',), ('triplet',), ('fast_rhythm',), ('up_leaping',), ('triplet',), ('fast_rhythm',), ('fast_rhythm',), ('fast_rhythm',), ('triplet',), ('triplet',), ('fast_rhythm',), ('fast_rhythm',), ('up_leaping',), ('triplet',), ('triplet',), ('up_steping',), ('triplet',), ('triplet',), ('triplet',), ('triplet',), ('fast_rhythm',), ('triplet',), ('triplet',), ('up_steping',), ('triplet',), ('fast_rhythm',), ('up_steping',), ('up_steping',), ('triplet',), ('triplet',), ('triplet',), ('repeating',), ('leaping_twisting',), ('leaping_twisting',), ('leaping_twisting',), ('leaping_twisting',), ('leaping_twisting',), ('leaping_twisting',), ('leaping_twisting',), ('leaping_twisting',), ('leaping_twisting',), ('leaping_twisting',), ('leaping_twisting',), ('leaping_twisting',), ('leaping_twisting',), ('leaping_twisting',), ('leaping_twisting',), ('leaping_twisting',), ('One_rhythm',), ('leaping_twisting',), ('leaping_twisting',), ('leaping_twisting',), ('leaping_twisting',), ('leaping_twisting',), ('fast_rhythm',), ('leaping_twisting',), ('triplet',), ('leaping_twisting',), ('fast_rhythm',), ('leaping_twisting',), ('continuing_rhythm',), ('leaping_twisting',), ('triplet',), ('leaping_twisting',), ('fast_rhythm',), ('leaping_twisting',), ('fast_rhythm',), ('leaping_twisting',), ('no skills',), ('no skills',), ('staccato',), ('up_steping',), ('up_steping',), ('down_leaping',), ('staccato',), ('up_steping',), ('up_steping',), ('down_leaping',), ('staccato',), ('fast_rhythm',), ('fast_rhythm',), ('down_leaping',), ('triplet',), ('no skills',), ('no skills',), ('no skills',), ('up_steping',), ('down_steping',), ('no skills',), ('no skills',), ('up_steping',), ('no skills',), ('up_steping',), ('no skills',), ('up_steping',), ('down_steping',), ('leaping_twisting',), ('leaping_twisting',), ('leaping_twisting',), ('up_steping',), ('no skills',), ('One_rhythm',), ('down_leaping',), ('up_steping',), ('up_leaping',), ('no skills',), ('no skills',), ('triplet',), ('fast_rhythm',), ('down_steping',), ('leaping_twisting',), ('continuing_rhythm',), ('continuing_rhythm',), ('leaping_twisting',), ('leaping_twisting',), ('repeating',), ('up_leaping',), ('staccato',), ('repeating',), ('no skills',), ('staccato',), ('no skills',), ('leaping_twisting',), ('repeating',), ('repeating',), ('staccato',), ('triplet',), ('up_leaping',), ('leaping_twisting',), ('up_steping',), ('no skills',), ('no skills',), ('up_steping',), ('up_leaping',), ('continuing_rhythm',), ('no skills',), ('fast_rhythm',), ('leaping_twisting',), ('up_leaping',), ('down_leaping',), ('up_leaping',), ('no skills',), ('no skills',), ('no skills',), ('down_steping',), ('no skills',), ('no skills',), ('no skills',), ('continuing_rhythm',), ('fast_rhythm',), ('triplet',), ('staccato',), ('repeating',), ('leaping_twisting',), ('leaping_twisting',), ('repeating',), ('continuing_rhythm',), ('repeating',), ('leaping_twisting',), ('repeating',), ('repeating',), ('leaping_twisting',), ('leaping_twisting',), ('repeating',), ('continuing_rhythm',), ('repeating',), ('leaping_twisting',), ('repeating',), ('no skills',), ('no skills',), ('no skills',), ('continuing_rhythm',), ('no skills',), ('no skills',), ('no skills',), ('no skills',), ('no skills',), ('One_rhythm',), ('up_leaping',), ('leaping_twisting',), ('leaping_twisting',), ('leaping_twisting',), ('no skills',), ('leaping_twisting',), ('up_leaping',), ('no skills',), ('down_leaping',), ('no skills',), ('One_rhythm',), ('leaping_twisting',), ('up_steping',), ('leaping_twisting',), ('no skills',), ('fast_rhythm',), ('no skills',), ('up_steping',), ('up_steping',), ('up_steping',), ('down_leaping',), ('repeating',), ('repeating',), ('triplet',), ('no skills',), ('down_steping',), ('triplet',), ('no skills',), ('no skills',), ('One_rhythm',), ('no skills',), ('up_steping',), ('leaping_twisting',), ('leaping_twisting',), ('up_leaping',), ('no skills',), ('down_steping',), ('up_leaping',), ('up_leaping',), ('down_steping',), ('leaping_twisting',), ('up_steping',), ('leaping_twisting',), ('no skills',), ('up_steping',), ('down_steping',), ('up_steping',), ('up_steping',), ('steping_twisting',), ('down_leaping',), ('up_steping',), ('up_steping',), ('up_steping',), ('down_steping',), ('up_steping',), ('up_steping',), ('down_steping',), ('leaping_twisting',), ('down_steping',), ('leaping_twisting',), ('down_steping',), ('leaping_twisting',), ('down_steping',), ('up_steping',), ('leaping_twisting',), ('leaping_twisting',), ('no skills',), ('no skills',), ('leaping_twisting',), ('leaping_twisting',), ('leaping_twisting',), ('leaping_twisting',), ('leaping_twisting',), ('leaping_twisting',), ('up_steping',), ('leaping_twisting',), ('leaping_twisting',), ('leaping_twisting',), ('up_steping',), ('leaping_twisting',), ('leaping_twisting',), ('leaping_twisting',), ('leaping_twisting',), ('leaping_twisting',), ('leaping_twisting',), ('leaping_twisting',), ('leaping_twisting',), ('no skills',), ('fast_rhythm',), ('up_steping',), ('triplet',), ('fast_rhythm',), ('fast_rhythm',), ('triplet',), ('fast_rhythm',), ('fast_rhythm',), ('fast_rhythm',), ('fast_rhythm',), ('fast_rhythm',), ('fast_rhythm',), ('fast_rhythm',), ('up_steping',), ('triplet',), ('fast_rhythm',), ('fast_rhythm',), ('triplet',), ('fast_rhythm',), ('fast_rhythm',), ('fast_rhythm',), ('triplet',), ('fast_rhythm',), ('triplet',), ('fast_rhythm',), ('fast_rhythm',), ('triplet',), ('fast_rhythm',), ('fast_rhythm',), ('fast_rhythm',), ('fast_rhythm',), ('fast_rhythm',), ('fast_rhythm',), ('triplet',), ('fast_rhythm',), ('triplet',), ('triplet',), ('leaping_twisting',), ('down_steping',), ('leaping_twisting',), ('down_steping',), ('leaping_twisting',), ('down_steping',), ('leaping_twisting',), ('down_steping',), ('leaping_twisting',), ('down_steping',), ('leaping_twisting',), ('down_steping',), ('leaping_twisting',), ('down_steping',), ('leaping_twisting',), ('down_leaping',), ('down_leaping',), ('One_rhythm',), ('leaping_twisting',), ('up_leaping',), ('leaping_twisting',), ('up_steping',), ('leaping_twisting',), ('down_leaping',), ('leaping_twisting',), ('repeating',), ('leaping_twisting',), ('leaping_twisting',), ('no skills',), ('leaping_twisting',), ('leaping_twisting',), ('no skills',), ('leaping_twisting',), ('down_leaping',), ('leaping_twisting',), ('One_rhythm',), ('up_steping',), ('no skills',), ('down_leaping',), ('up_leaping',), ('up_steping',), ('leaping_twisting',), ('down_leaping',), ('up_leaping',), ('up_steping',), ('leaping_twisting',), ('leaping_twisting',), ('leaping_twisting',), ('down_leaping',), ('leaping_twisting',), ('leaping_twisting',), ('leaping_twisting',), ('leaping_twisting',), ('leaping_twisting',), ('up_leaping',), ('up_steping',), ('up_leaping',), ('no skills',), ('down_steping',), ('up_steping',), ('no skills',), ('up_leaping',), ('up_steping',), ('no skills',), ('no skills',), ('triplet',), ('down_leaping',), ('up_steping',), ('no skills',), ('triplet',), ('triplet',), ('triplet',), ('fast_rhythm',), ('triplet',), ('no skills',), ('down_leaping',), ('leaping_twisting',), ('leaping_twisting',), ('repeating',), ('leaping_twisting',), ('no skills',), ('continuing_rhythm',), ('no skills',), ('leaping_twisting',), ('leaping_twisting',), ('down_leaping',), ('One_rhythm',), ('One_rhythm',), ('One_rhythm',), ('One_rhythm',), ('One_rhythm',), ('One_rhythm',), ('up_steping',), ('no skills',), ('One_rhythm',), ('One_rhythm',), ('One_rhythm',), ('One_rhythm',), ('One_rhythm',), ('One_rhythm',), ('One_rhythm',), ('One_rhythm',), ('One_rhythm',), ('One_rhythm',), ('One_rhythm',), ('repeating',), ('repeating',), ('no skills',), ('down_leaping',), ('leaping_twisting',), ('up_leaping',), ('up_steping',), ('up_leaping',), ('leaping_twisting',), ('up_leaping',), ('leaping_twisting',), ('down_leaping',), ('leaping_twisting',), ('up_leaping',), ('up_steping',), ('up_leaping',), ('no skills',), ('no skills',), ('no skills',), ('no skills',), ('continuing_rhythm',), ('down_steping',), ('no skills',), ('staccato',), ('fast_rhythm',), ('no skills',), ('no skills',), ('no skills',), ('leaping_twisting',), ('fast_rhythm',), ('fast_rhythm',), ('leaping_twisting',), ('no skills',), ('fast_rhythm',), ('fast_rhythm',), ('fast_rhythm',), ('fast_rhythm',), ('fast_rhythm',), ('fast_rhythm',), ('no skills',), ('leaping_twisting',), ('leaping_twisting',), ('leaping_twisting',), ('leaping_twisting',), ('leaping_twisting',), ('leaping_twisting',), ('leaping_twisting',), ('leaping_twisting',), ('leaping_twisting',), ('leaping_twisting',), ('leaping_twisting',), ('leaping_twisting',), ('leaping_twisting',), ('leaping_twisting',), ('leaping_twisting',), ('leaping_twisting',), ('leaping_twisting',), ('up_leaping',), ('repeating',), ('repeating',), ('repeating',), ('repeating',), ('repeating',), ('repeating',), ('repeating',), ('repeating',), ('repeating',), ('repeating',), ('repeating',), ('no skills',), ('fast_rhythm',), ('fast_rhythm',), ('fast_rhythm',), ('fast_rhythm',), ('fast_rhythm',), ('up_steping',), ('leaping_twisting',), ('fast_rhythm',), ('leaping_twisting',), ('leaping_twisting',), ('leaping_twisting',), ('fast_rhythm',), ('leaping_twisting',), ('leaping_twisting',), ('leaping_twisting',), ('fast_rhythm',), ('leaping_twisting',), ('leaping_twisting',), ('leaping_twisting',), ('steping_twisting',), ('up_leaping',), ('up_leaping',), ('down_steping',), ('fast_rhythm',), ('up_leaping',), ('up_leaping',), ('down_steping',), ('fast_rhythm',), ('up_leaping',), ('up_leaping',), ('down_steping',), ('fast_rhythm',), ('up_leaping',), ('up_leaping',), ('up_steping',), ('One_rhythm',), ('up_steping',), ('steping_twisting',), ('up_steping',), ('One_rhythm',), ('leaping_twisting',), ('up_leaping',), ('up_steping',), ('up_steping',), ('continuing_rhythm',), ('down_leaping',), ('One_rhythm',), ('up_steping',), ('up_steping',), ('up_steping',), ('One_rhythm',), ('no skills',), ('up_leaping',), ('up_leaping',), ('up_leaping',), ('up_leaping',), ('up_leaping',), ('up_leaping',), ('up_leaping',), ('fast_rhythm',), ('up_leaping',), ('up_leaping',), ('up_leaping',), ('up_leaping',), ('up_leaping',), ('fast_rhythm',), ('up_leaping',), ('up_leaping',), ('up_leaping',), ('down_steping',), ('no skills',), ('no skills',), ('up_steping',), ('no skills',), ('One_rhythm',), ('no skills',), ('no skills',), ('no skills',), ('down_steping',), ('down_leaping',), ('no skills',), ('up_steping',), ('repeating',), ('repeating',), ('no skills',), ('repeating',), ('repeating',), ('repeating',), ('no skills',), ('repeating',), ('repeating',), ('repeating',), ('no skills',), ('repeating',), ('down_steping',), ('triplet',), ('repeating',), ('repeating',), ('up_steping',), ('repeating',), ('no skills',), ('repeating',), ('up_steping',), ('repeating',), ('no skills',), ('repeating',), ('up_steping',), ('repeating',), ('no skills',), ('repeating',), ('up_steping',), ('repeating',), ('no skills',), ('leaping_twisting',), ('leaping_twisting',), ('up_leaping',), ('no skills',), ('no skills',), ('no skills',), ('no skills',), ('no skills',), ('no skills',), ('no skills',), ('no skills',), ('no skills',), ('no skills',), ('no skills',), ('leaping_twisting',), ('no skills',), ('no skills',), ('no skills',), ('up_leaping',), ('triplet',), ('staccato',), ('repeating',), ('up_steping',), ('repeating',), ('triplet',), ('staccato',), ('triplet',), ('triplet',), ('no skills',), ('no skills',), ('up_steping',), ('no skills',), ('staccato',), ('no skills',), ('up_steping',), ('triplet',), ('no skills',), ('no skills',), ('repeating',), ('no skills',), ('leaping_twisting',), ('leaping_twisting',), ('leaping_twisting',), ('up_steping',), ('no skills',), ('leaping_twisting',), ('leaping_twisting',), ('up_steping',), ('up_steping',), ('no skills',), ('up_steping',), ('no skills',), ('repeating',), ('no skills',), ('leaping_twisting',), ('leaping_twisting',), ('leaping_twisting',), ('up_leaping',), ('leaping_twisting',), ('up_leaping',), ('up_leaping',), ('up_leaping',), ('leaping_twisting',), ('leaping_twisting',), ('no skills',), ('leaping_twisting',), ('leaping_twisting',), ('leaping_twisting',), ('up_leaping',), ('leaping_twisting',), ('leaping_twisting',), ('no skills',), ('leaping_twisting',), ('leaping_twisting',), ('leaping_twisting',), ('leaping_twisting',), ('up_leaping',), ('up_steping',), ('down_leaping',), ('down_leaping',), ('up_leaping',), ('leaping_twisting',), ('up_leaping',), ('leaping_twisting',), ('leaping_twisting',), ('leaping_twisting',), ('leaping_twisting',), ('up_leaping',), ('up_leaping',), ('up_steping',), ('no skills',), ('continuing_rhythm',), ('triplet',), ('no skills',), ('leaping_twisting',), ('no skills',), ('no skills',), ('repeating',), ('up_leaping',), ('continuing_rhythm',), ('down_steping',), ('up_steping',), ('up_steping',), ('continuing_rhythm',), ('up_steping',), ('no skills',), ('down_leaping',), ('up_steping',), ('down_leaping',), ('up_steping',), ('leaping_twisting',), ('down_steping',), ('no skills',), ('continuing_rhythm',), ('down_leaping',), ('continuing_rhythm',), ('repeating',), ('up_steping',), ('down_leaping',), ('continuing_rhythm',), ('leaping_twisting',), ('down_steping',), ('up_steping',), ('continuing_rhythm',), ('down_leaping',), ('continuing_rhythm',), ('no skills',), ('continuing_rhythm',), ('continuing_rhythm',), ('continuing_rhythm',), ('continuing_rhythm',), ('continuing_rhythm',), ('continuing_rhythm',), ('continuing_rhythm',), ('continuing_rhythm',), ('continuing_rhythm',), ('continuing_rhythm',), ('continuing_rhythm',), ('continuing_rhythm',), ('continuing_rhythm',), ('continuing_rhythm',), ('steping_twisting',), ('fast_rhythm',), ('fast_rhythm',), ('fast_rhythm',), ('staccato',), ('fast_rhythm',), ('fast_rhythm',), ('down_steping',), ('up_leaping',), ('fast_rhythm',), ('up_steping',), ('triplet',), ('up_leaping',), ('triplet',), ('up_leaping',), ('up_leaping',), ('down_leaping',), ('up_steping',), ('One_rhythm',), ('down_leaping',), ('no skills',), ('no skills',), ('no skills',), ('staccato',), ('One_rhythm',), ('repeating',), ('repeating',), ('leaping_twisting',), ('repeating',), ('One_rhythm',), ('no skills',), ('no skills',), ('repeating',), ('repeating',), ('One_rhythm',), ('repeating',), ('repeating',), ('repeating',), ('One_rhythm',), ('One_rhythm',), ('One_rhythm',), ('repeating',), ('leaping_twisting',), ('triplet',), ('repeating',), ('staccato',), ('leaping_twisting',), ('triplet',), ('triplet',), ('leaping_twisting',), ('up_leaping',), ('leaping_twisting',), ('leaping_twisting',), ('triplet',), ('triplet',), ('triplet',), ('leaping_twisting',), ('leaping_twisting',), ('up_leaping',), ('no skills',), ('no skills',), ('leaping_twisting',), ('leaping_twisting',), ('repeating',), ('repeating',), ('fast_rhythm',), ('fast_rhythm',), ('fast_rhythm',), ('fast_rhythm',), ('fast_rhythm',), ('fast_rhythm',), ('fast_rhythm',), ('fast_rhythm',), ('fast_rhythm',), ('fast_rhythm',), ('fast_rhythm',), ('fast_rhythm',), ('fast_rhythm',), ('staccato',), ('triplet',), ('triplet',), ('up_steping',), ('triplet',), ('triplet',), ('leaping_twisting',), ('triplet',), ('down_leaping',), ('triplet',), ('up_steping',), ('down_steping',), ('down_steping',), ('no skills',), ('triplet',), ('triplet',), ('staccato',), ('no skills',), ('leaping_twisting',), ('repeating',), ('repeating',), ('leaping_twisting',), ('no skills',), ('leaping_twisting',), ('no skills',), ('leaping_twisting',), ('steping_twisting',), ('leaping_twisting',), ('steping_twisting',), ('leaping_twisting',), ('up_steping',), ('leaping_twisting',), ('steping_twisting',), ('leaping_twisting',), ('up_steping',), ('leaping_twisting',), ('steping_twisting',), ('fast_rhythm',), ('triplet',), ('fast_rhythm',), ('leaping_twisting',), ('triplet',), ('no skills',), ('fast_rhythm',), ('fast_rhythm',), ('One_rhythm',), ('repeating',), ('One_rhythm',), ('fast_rhythm',), ('repeating',), ('leaping_twisting',), ('repeating',), ('no skills',), ('no skills',), ('fast_rhythm',), ('fast_rhythm',), ('no skills',), ('no skills',), ('no skills',), ('repeating',), ('repeating',), ('fast_rhythm',), ('repeating',), ('no skills',), ('repeating',), ('fast_rhythm',), ('repeating',), ('fast_rhythm',), ('repeating',), ('down_leaping',), ('no skills',), ('repeating',), ('continuing_rhythm',), ('fast_rhythm',), ('repeating',), ('no skills',), ('continuing_rhythm',), ('fast_rhythm',), ('repeating',), ('repeating',), ('repeating',), ('no skills',), ('no skills',), ('repeating',), ('up_steping',), ('steping_twisting',), ('staccato',), ('repeating',), ('up_steping',), ('staccato',), ('no skills',), ('repeating',), ('up_steping',), ('steping_twisting',), ('staccato',), ('repeating',), ('repeating',), ('up_leaping',), ('repeating',), ('repeating',), ('down_leaping',), ('leaping_twisting',), ('continuing_rhythm',), ('leaping_twisting',), ('up_steping',), ('repeating',), ('repeating',), ('repeating',), ('repeating',), ('repeating',), ('repeating',), ('repeating',), ('repeating',), ('up_steping',), ('repeating',), ('no skills',), ('steping_twisting',), ('no skills',), ('no skills',), ('fast_rhythm',), ('up_steping',), ('One_rhythm',), ('no skills',), ('One_rhythm',), ('no skills',), ('up_leaping',), ('up_steping',), ('up_steping',), ('no skills',), ('leaping_twisting',), ('up_steping',), ('down_leaping',), ('repeating',), ('repeating',), ('repeating',), ('up_steping',), ('leaping_twisting',), ('repeating',), ('repeating',), ('repeating',), ('up_steping',), ('repeating',), ('repeating',), ('up_steping',), ('leaping_twisting',), ('repeating',), ('no skills',), ('fast_rhythm',), ('leaping_twisting',), ('fast_rhythm',), ('leaping_twisting',), ('fast_rhythm',), ('fast_rhythm',), ('fast_rhythm',), ('fast_rhythm',), ('fast_rhythm',), ('leaping_twisting',), ('fast_rhythm',), ('leaping_twisting',), ('up_leaping',), ('no skills',), ('up_steping',), ('no skills',), ('no skills',), ('no skills',), ('no skills',), ('leaping_twisting',), ('fast_rhythm',), ('no skills',), ('up_steping',), ('no skills',), ('no skills',), ('no skills',), ('no skills',), ('leaping_twisting',), ('staccato',), ('triplet',), ('leaping_twisting',), ('repeating',), ('triplet',), ('leaping_twisting',), ('leaping_twisting',), ('repeating',), ('continuing_rhythm',), ('triplet',), ('leaping_twisting',), ('staccato',), ('down_leaping',), ('up_steping',), ('repeating',), ('leaping_twisting',), ('leaping_twisting',), ('leaping_twisting',), ('triplet',), ('leaping_twisting',), ('up_leaping',), ('leaping_twisting',), ('up_leaping',), ('down_steping',), ('down_leaping',), ('up_steping',), ('leaping_twisting',), ('leaping_twisting',), ('triplet',), ('up_leaping',), ('leaping_twisting',), ('up_steping',), ('One_rhythm',), ('down_leaping',), ('up_steping',), ('no skills',), ('triplet',), ('down_steping',), ('triplet',), ('up_steping',), ('down_steping',), ('down_steping',), ('triplet',), ('One_rhythm',), ('up_steping',), ('up_steping',), ('One_rhythm',), ('fast_rhythm',), ('triplet',), ('no skills',), ('up_steping',), ('down_leaping',), ('no skills',), ('repeating',), ('repeating',), ('leaping_twisting',), ('repeating',), ('no skills',), ('no skills',), ('no skills',), ('repeating',), ('leaping_twisting',), ('no skills',), ('no skills',), ('repeating',), ('no skills',), ('leaping_twisting',), ('leaping_twisting',), ('fast_rhythm',), ('up_steping',), ('leaping_twisting',), ('triplet',), ('leaping_twisting',), ('up_steping',), ('leaping_twisting',), ('leaping_twisting',), ('leaping_twisting',), ('leaping_twisting',), ('leaping_twisting',), ('fast_rhythm',), ('triplet',), ('leaping_twisting',), ('leaping_twisting',), ('triplet',), ('no skills',), ('up_steping',), ('leaping_twisting',), ('leaping_twisting',), ('triplet',), ('no skills',), ('leaping_twisting',), ('leaping_twisting',), ('leaping_twisting',), ('fast_rhythm',), ('no skills',), ('leaping_twisting',), ('fast_rhythm',), ('leaping_twisting',), ('leaping_twisting',), ('leaping_twisting',), ('leaping_twisting',), ('leaping_twisting',), ('no skills',), ('up_steping',), ('no skills',), ('up_steping',), ('no skills',), ('no skills',), ('repeating',), ('up_steping',), ('no skills',), ('up_steping',), ('repeating',), ('up_steping',), ('up_steping',), ('no skills',), ('repeating',), ('up_steping',), ('no skills',), ('no skills',), ('down_steping',), ('up_steping',), ('no skills',), ('no skills',), ('down_steping',), ('up_steping',), ('no skills',), ('no skills',), ('staccato',), ('staccato',), ('One_rhythm',), ('steping_twisting',), ('One_rhythm',), ('One_rhythm',), ('One_rhythm',), ('One_rhythm',), ('staccato',), ('staccato',), ('One_rhythm',), ('steping_twisting',), ('steping_twisting',), ('up_steping',), ('One_rhythm',), ('steping_twisting',), ('One_rhythm',), ('steping_twisting',), ('no skills',), ('no skills',), ('One_rhythm',), ('One_rhythm',), ('One_rhythm',), ('One_rhythm',), ('staccato',), ('One_rhythm',), ('One_rhythm',), ('continuing_rhythm',), ('One_rhythm',), ('One_rhythm',), ('One_rhythm',), ('One_rhythm',), ('One_rhythm',), ('One_rhythm',), ('triplet',), ('One_rhythm',), ('no skills',), ('One_rhythm',), ('One_rhythm',), ('One_rhythm',), ('continuing_rhythm',), ('no skills',), ('up_steping',), ('up_steping',), ('triplet',), ('steping_twisting',), ('up_steping',), ('up_steping',), ('no skills',), ('up_steping',), ('up_steping',), ('up_steping',), ('triplet',), ('steping_twisting',), ('up_steping',), ('up_steping',), ('fast_rhythm',), ('up_steping',), ('fast_rhythm',), ('up_steping',), ('fast_rhythm',), ('up_steping',), ('fast_rhythm',), ('up_steping',), ('fast_rhythm',), ('fast_rhythm',), ('fast_rhythm',), ('up_steping',), ('fast_rhythm',), ('fast_rhythm',), ('up_steping',), ('leaping_twisting',), ('continuing_rhythm',), ('leaping_twisting',), ('continuing_rhythm',), ('continuing_rhythm',), ('continuing_rhythm',), ('leaping_twisting',), ('fast_rhythm',), ('leaping_twisting',), ('continuing_rhythm',), ('leaping_twisting',), ('continuing_rhythm',), ('continuing_rhythm',), ('continuing_rhythm',), ('leaping_twisting',), ('fast_rhythm',), ('leaping_twisting',), ('fast_rhythm',), ('leaping_twisting',), ('fast_rhythm',), ('continuing_rhythm',), ('fast_rhythm',), ('up_steping',), ('up_steping',), ('up_steping',), ('up_steping',), ('up_steping',), ('up_steping',), ('up_steping',), ('up_steping',), ('up_steping',), ('up_steping',), ('up_steping',), ('up_steping',), ('up_steping',), ('up_steping',), ('leaping_twisting',), ('leaping_twisting',), ('leaping_twisting',), ('no skills',), ('up_steping',), ('no skills',), ('up_steping',), ('up_steping',), ('up_steping',), ('no skills',), ('up_steping',), ('up_steping',), ('up_steping',), ('leaping_twisting',), ('no skills',), ('leaping_twisting',), ('no skills',), ('leaping_twisting',), ('no skills',), ('leaping_twisting',), ('no skills',), ('leaping_twisting',), ('no skills',), ('up_leaping',), ('up_steping',), ('no skills',), ('no skills',), ('up_steping',), ('up_steping',), ('down_leaping',), ('no skills',), ('no skills',), ('up_steping',), ('no skills',), ('up_steping',), ('no skills',), ('up_leaping',), ('no skills',), ('down_leaping',), ('repeating',), ('repeating',), ('repeating',), ('staccato',), ('repeating',), ('repeating',), ('repeating',), ('up_leaping',), ('leaping_twisting',), ('leaping_twisting',), ('repeating',), ('staccato',), ('leaping_twisting',), ('up_steping',), ('repeating',), ('up_steping',), ('no skills',), ('One_rhythm',), ('One_rhythm',), ('One_rhythm',), ('One_rhythm',), ('repeating',), ('leaping_twisting',), ('One_rhythm',), ('no skills',), ('leaping_twisting',), ('leaping_twisting',), ('One_rhythm',), ('no skills',), ('leaping_twisting',), ('leaping_twisting',), ('One_rhythm',), ('down_steping',), ('repeating',), ('One_rhythm',), ('leaping_twisting',), ('no skills',), ('fast_rhythm',), ('repeating',), ('repeating',), ('repeating',), ('repeating',), ('repeating',), ('repeating',), ('repeating',), ('repeating',), ('repeating',), ('repeating',), ('repeating',), ('One_rhythm',), ('One_rhythm',), ('leaping_twisting',), ('leaping_twisting',), ('leaping_twisting',), ('leaping_twisting',), ('leaping_twisting',), ('leaping_twisting',), ('leaping_twisting',), ('leaping_twisting',), ('leaping_twisting',), ('leaping_twisting',), ('leaping_twisting',), ('leaping_twisting',), ('leaping_twisting',), ('leaping_twisting',), ('leaping_twisting',), ('leaping_twisting',), ('leaping_twisting',), ('leaping_twisting',), ('leaping_twisting',), ('leaping_twisting',), ('no skills',), ('no skills',), ('continuing_rhythm',), ('repeating',), ('no skills',), ('no skills',), ('down_leaping',), ('no skills',), ('no skills',), ('no skills',), ('leaping_twisting',), ('leaping_twisting',), ('leaping_twisting',), ('leaping_twisting',), ('leaping_twisting',), ('One_rhythm',), ('leaping_twisting',), ('leaping_twisting',), ('leaping_twisting',), ('leaping_twisting',), ('One_rhythm',), ('One_rhythm',), ('leaping_twisting',), ('leaping_twisting',), ('leaping_twisting',), ('leaping_twisting',), ('no skills',), ('staccato',), ('staccato',), ('fast_rhythm',), ('fast_rhythm',), ('staccato',), ('staccato',), ('fast_rhythm',), ('fast_rhythm',), ('staccato',), ('staccato',), ('fast_rhythm',), ('fast_rhythm',), ('staccato',), ('staccato',), ('fast_rhythm',), ('fast_rhythm',), ('staccato',), ('staccato',), ('fast_rhythm',), ('fast_rhythm',), ('staccato',), ('staccato',), ('One_rhythm',), ('leaping_twisting',), ('One_rhythm',), ('leaping_twisting',), ('One_rhythm',), ('One_rhythm',), ('One_rhythm',), ('leaping_twisting',), ('leaping_twisting',), ('up_steping',), ('no skills',), ('leaping_twisting',), ('leaping_twisting',), ('leaping_twisting',), ('leaping_twisting',), ('leaping_twisting',), ('leaping_twisting',), ('triplet',), ('triplet',), ('triplet',), ('up_steping',), ('up_steping',), ('triplet',), ('triplet',), ('no skills',), ('triplet',), ('triplet',), ('repeating',), ('no skills',), ('staccato',), ('leaping_twisting',), ('staccato',), ('no skills',), ('staccato',), ('leaping_twisting',), ('leaping_twisting',), ('no skills',), ('no skills',), ('One_rhythm',), ('leaping_twisting',), ('One_rhythm',), ('leaping_twisting',), ('leaping_twisting',), ('leaping_twisting',), ('repeating',), ('repeating',), ('leaping_twisting',), ('leaping_twisting',), ('triplet',), ('repeating',), ('leaping_twisting',), ('leaping_twisting',), ('triplet',), ('repeating',), ('leaping_twisting',), ('leaping_twisting',), ('triplet',), ('repeating',), ('leaping_twisting',), ('leaping_twisting',), ('triplet',), ('repeating',), ('no skills',), ('no skills',), ('no skills',), ('no skills',), ('no skills',), ('no skills',), ('no skills',), ('repeating',), ('continuing_rhythm',), ('One_rhythm',), ('One_rhythm',), ('One_rhythm',), ('One_rhythm',), ('One_rhythm',), ('One_rhythm',), ('continuing_rhythm',), ('One_rhythm',), ('continuing_rhythm',), ('One_rhythm',), ('One_rhythm',), ('One_rhythm',), ('no skills',), ('up_steping',), ('no skills',), ('up_steping',), ('up_steping',), ('up_steping',), ('One_rhythm',), ('no skills',), ('up_steping',), ('no skills',), ('no skills',), ('no skills',), ('One_rhythm',), ('One_rhythm',), ('One_rhythm',), ('no skills',), ('up_steping',), ('up_steping',), ('up_steping',), ('no skills',), ('no skills',), ('up_steping',), ('triplet',), ('triplet',), ('no skills',), ('up_steping',), ('no skills',), ('steping_twisting',), ('up_steping',), ('up_steping',), ('no skills',), ('repeating',), ('no skills',), ('no skills',), ('no skills',), ('up_steping',), ('up_leaping',), ('up_steping',), ('up_leaping',), ('up_steping',), ('up_leaping',), ('up_steping',), ('up_leaping',), ('up_steping',), ('up_leaping',), ('up_steping',), ('up_leaping',), ('no skills',), ('leaping_twisting',), ('up_steping',), ('leaping_twisting',), ('up_steping',), ('leaping_twisting',), ('up_steping',), ('leaping_twisting',), ('One_rhythm',), ('up_leaping',), ('up_steping',), ('fast_rhythm',), ('fast_rhythm',), ('fast_rhythm',), ('fast_rhythm',), ('fast_rhythm',), ('fast_rhythm',), ('fast_rhythm',), ('fast_rhythm',), ('fast_rhythm',), ('fast_rhythm',), ('fast_rhythm',), ('fast_rhythm',), ('fast_rhythm',), ('fast_rhythm',), ('fast_rhythm',), ('fast_rhythm',), ('fast_rhythm',), ('up_steping',), ('fast_rhythm',), ('repeating',), ('fast_rhythm',), ('repeating',), ('no skills',), ('triplet',), ('fast_rhythm',), ('leaping_twisting',), ('leaping_twisting',), ('leaping_twisting',), ('triplet',), ('repeating',), ('down_leaping',), ('down_leaping',), ('down_leaping',), ('down_leaping',), ('down_leaping',), ('down_leaping',), ('down_leaping',), ('down_leaping',), ('down_leaping',), ('down_leaping',), ('leaping_twisting',), ('up_steping',), ('leaping_twisting',), ('leaping_twisting',), ('leaping_twisting',), ('up_steping',), ('leaping_twisting',), ('leaping_twisting',), ('leaping_twisting',), ('no skills',), ('up_steping',), ('no skills',), ('up_steping',), ('no skills',), ('up_steping',), ('up_leaping',), ('leaping_twisting',), ('repeating',), ('repeating',), ('up_steping',), ('up_steping',), ('no skills',), ('leaping_twisting',), ('continuing_rhythm',), ('no skills',), ('repeating',), ('up_leaping',), ('repeating',), ('leaping_twisting',), ('no skills',), ('leaping_twisting',), ('no skills',), ('no skills',), ('no skills',), ('repeating',), ('repeating',), ('repeating',), ('up_steping',), ('staccato',), ('fast_rhythm',), ('repeating',), ('no skills',), ('repeating',), ('up_steping',), ('fast_rhythm',), ('repeating',), ('repeating',), ('repeating',), ('repeating',), ('repeating',), ('repeating',), ('no skills',), ('triplet',), ('fast_rhythm',), ('fast_rhythm',), ('triplet',), ('fast_rhythm',), ('triplet',), ('triplet',), ('fast_rhythm',), ('fast_rhythm',), ('triplet',), ('triplet',), ('triplet',), ('fast_rhythm',), ('fast_rhythm',), ('no skills',), ('no skills',), ('repeating',), ('no skills',), ('up_steping',), ('fast_rhythm',), ('no skills',), ('no skills',), ('repeating',), ('repeating',), ('fast_rhythm',), ('fast_rhythm',), ('fast_rhythm',), ('no skills',), ('leaping_twisting',), ('leaping_twisting',), ('leaping_twisting',), ('leaping_twisting',), ('leaping_twisting',), ('leaping_twisting',), ('leaping_twisting',), ('leaping_twisting',), ('leaping_twisting',), ('leaping_twisting',), ('leaping_twisting',), ('leaping_twisting',), ('leaping_twisting',), ('leaping_twisting',), ('leaping_twisting',), ('leaping_twisting',), ('leaping_twisting',), ('no skills',), ('One_rhythm',), ('no skills',), ('One_rhythm',), ('continuing_rhythm',), ('One_rhythm',), ('One_rhythm',), ('continuing_rhythm',), ('continuing_rhythm',), ('up_steping',), ('leaping_twisting',), ('down_leaping',), ('triplet',), ('no skills',), ('down_leaping',), ('no skills',), ('no skills',), ('no skills',), ('up_leaping',), ('no skills',), ('no skills',), ('no skills',), ('repeating',), ('up_steping',), ('fast_rhythm',), ('up_steping',), ('fast_rhythm',), ('leaping_twisting',), ('fast_rhythm',), ('no skills',), ('up_steping',), ('no skills',), ('up_steping',), ('up_steping',), ('triplet',), ('no skills',), ('fast_rhythm',), ('up_steping',), ('no skills',), ('up_steping',), ('triplet',), ('up_steping',), ('no skills',), ('no skills',), ('down_steping',), ('staccato',), ('no skills',), ('no skills',), ('up_steping',), ('leaping_twisting',), ('continuing_rhythm',), ('leaping_twisting',), ('leaping_twisting',), ('leaping_twisting',), ('leaping_twisting',), ('leaping_twisting',), ('leaping_twisting',), ('leaping_twisting',), ('leaping_twisting',), ('repeating',), ('repeating',), ('leaping_twisting',), ('repeating',), ('fast_rhythm',), ('no skills',), ('One_rhythm',), ('no skills',), ('no skills',), ('down_steping',), ('repeating',), ('up_steping',), ('up_steping',), ('up_steping',), ('up_steping',), ('up_steping',), ('no skills',), ('repeating',), ('triplet',), ('no skills',), ('up_steping',), ('down_leaping',), ('repeating',), ('up_steping',), ('up_steping',), ('triplet',), ('up_steping',), ('no skills',), ('no skills',), ('no skills',), ('up_steping',), ('down_steping',), ('down_leaping',), ('down_leaping',), ('no skills',), ('down_leaping',), ('leaping_twisting',), ('staccato',), ('up_leaping',), ('up_steping',), ('leaping_twisting',), ('up_steping',), ('down_leaping',), ('up_steping',), ('leaping_twisting',), ('up_steping',), ('no skills',), ('down_leaping',), ('down_leaping',), ('up_steping',), ('fast_rhythm',), ('triplet',), ('fast_rhythm',), ('fast_rhythm',), ('down_leaping',), ('no skills',), ('no skills',), ('no skills',), ('fast_rhythm',), ('fast_rhythm',), ('fast_rhythm',), ('up_steping',), ('steping_twisting',), ('triplet',), ('fast_rhythm',), ('no skills',), ('up_steping',), ('continuing_rhythm',), ('up_steping',), ('continuing_rhythm',), ('continuing_rhythm',), ('continuing_rhythm',), ('continuing_rhythm',), ('triplet',), ('fast_rhythm',), ('triplet',), ('triplet',), ('triplet',), ('One_rhythm',), ('One_rhythm',), ('up_steping',), ('down_leaping',), ('up_leaping',), ('leaping_twisting',), ('no skills',), ('continuing_rhythm',), ('continuing_rhythm',), ('continuing_rhythm',), ('continuing_rhythm',), ('down_leaping',), ('down_leaping',), ('down_leaping',), ('no skills',), ('no skills',), ('no skills',), ('no skills',), ('no skills',), ('no skills',), ('no skills',), ('no skills',), ('no skills',), ('no skills',), ('no skills',), ('no skills',), ('no skills',), ('continuing_rhythm',), ('continuing_rhythm',), ('no skills',), ('continuing_rhythm',), ('One_rhythm',), ('One_rhythm',), ('no skills',), ('One_rhythm',), ('One_rhythm',), ('One_rhythm',), ('One_rhythm',), ('fast_rhythm',), ('no skills',), ('fast_rhythm',), ('up_leaping',), ('triplet',), ('fast_rhythm',), ('fast_rhythm',), ('fast_rhythm',), ('triplet',), ('triplet',), ('fast_rhythm',), ('fast_rhythm',), ('no skills',), ('repeating',), ('repeating',), ('no skills',), ('repeating',), ('leaping_twisting',), ('leaping_twisting',), ('no skills',), ('leaping_twisting',), ('leaping_twisting',), ('down_steping',), ('leaping_twisting',), ('leaping_twisting',), ('leaping_twisting',), ('leaping_twisting',), ('no skills',), ('fast_rhythm',), ('up_leaping',), ('fast_rhythm',), ('fast_rhythm',), ('repeating',), ('up_steping',), ('steping_twisting',), ('fast_rhythm',), ('leaping_twisting',), ('fast_rhythm',), ('leaping_twisting',), ('fast_rhythm',), ('down_steping',), ('down_leaping',), ('repeating',), ('down_leaping',), ('leaping_twisting',), ('down_leaping',), ('leaping_twisting',), ('down_steping',), ('up_steping',), ('One_rhythm',), ('One_rhythm',), ('down_steping',), ('up_steping',), ('up_steping',), ('One_rhythm',), ('repeating',), ('repeating',), ('One_rhythm',), ('repeating',), ('repeating',), ('repeating',), ('One_rhythm',), ('repeating',), ('repeating',), ('One_rhythm',), ('repeating',), ('One_rhythm',), ('repeating',), ('repeating',), ('repeating',), ('repeating',), ('repeating',), ('up_steping',), ('down_steping',), ('down_steping',), ('leaping_twisting',), ('staccato',), ('leaping_twisting',), ('up_steping',), ('leaping_twisting',), ('staccato',), ('no skills',), ('leaping_twisting',), ('staccato',), ('up_steping',), ('up_steping',), ('no skills',), ('no skills',), ('repeating',), ('repeating',), ('repeating',), ('repeating',), ('repeating',), ('fast_rhythm',), ('repeating',), ('repeating',), ('fast_rhythm',), ('fast_rhythm',), ('One_rhythm',), ('fast_rhythm',), ('One_rhythm',), ('repeating',), ('repeating',), ('repeating',), ('repeating',), ('repeating',), ('repeating',), ('repeating',), ('repeating',), ('down_leaping',), ('leaping_twisting',), ('leaping_twisting',), ('down_leaping',), ('down_leaping',), ('down_leaping',), ('down_leaping',), ('down_leaping',), ('down_leaping',), ('down_leaping',), ('leaping_twisting',), ('down_leaping',), ('down_leaping',), ('down_leaping',), ('down_leaping',), ('down_leaping',), ('down_leaping',), ('no skills',), ('leaping_twisting',), ('leaping_twisting',), ('down_steping',), ('up_steping',), ('no skills',), ('no skills',), ('leaping_twisting',), ('leaping_twisting',), ('down_steping',), ('up_steping',), ('leaping_twisting',), ('leaping_twisting',), ('up_leaping',), ('up_steping',), ('no skills',), ('triplet',), ('triplet',), ('steping_twisting',), ('triplet',), ('fast_rhythm',), ('leaping_twisting',), ('fast_rhythm',), ('fast_rhythm',), ('leaping_twisting',), ('leaping_twisting',), ('fast_rhythm',), ('leaping_twisting',), ('leaping_twisting',), ('leaping_twisting',), ('leaping_twisting',), ('leaping_twisting',), ('leaping_twisting',), ('leaping_twisting',), ('leaping_twisting',), ('leaping_twisting',), ('up_steping',), ('leaping_twisting',), ('leaping_twisting',), ('leaping_twisting',), ('leaping_twisting',), ('down_leaping',), ('leaping_twisting',), ('leaping_twisting',), ('no skills',), ('down_steping',), ('up_steping',), ('triplet',), ('triplet',), ('no skills',), ('triplet',), ('leaping_twisting',), ('triplet',), ('triplet',), ('up_steping',), ('down_steping',), ('no skills',), ('no skills',), ('no skills',), ('down_leaping',), ('no skills',), ('no skills',), ('up_steping',), ('no skills',), ('steping_twisting',), ('down_leaping',), ('down_leaping',), ('no skills',), ('no skills',), ('leaping_twisting',), ('no skills',), ('up_leaping',), ('no skills',), ('down_steping',), ('up_leaping',), ('leaping_twisting',), ('down_steping',), ('up_steping',), ('up_steping',), ('leaping_twisting',), ('no skills',), ('down_leaping',), ('down_leaping',), ('leaping_twisting',), ('leaping_twisting',), ('leaping_twisting',), ('leaping_twisting',), ('leaping_twisting',), ('leaping_twisting',), ('leaping_twisting',), ('leaping_twisting',), ('leaping_twisting',), ('leaping_twisting',), ('leaping_twisting',), ('leaping_twisting',), ('no skills',), ('triplet',), ('no skills',), ('triplet',), ('leaping_twisting',), ('up_steping',), ('leaping_twisting',), ('up_steping',), ('up_steping',), ('up_steping',), ('leaping_twisting',), ('leaping_twisting',), ('up_steping',), ('up_steping',), ('leaping_twisting',), ('up_steping',), ('up_steping',), ('up_steping',), ('up_steping',), ('leaping_twisting',), ('up_steping',), ('up_steping',), ('up_steping',), ('triplet',), ('continuing_rhythm',), ('leaping_twisting',), ('continuing_rhythm',), ('triplet',), ('continuing_rhythm',), ('continuing_rhythm',), ('triplet',), ('continuing_rhythm',), ('triplet',), ('repeating',), ('leaping_twisting',), ('One_rhythm',), ('One_rhythm',), ('leaping_twisting',), ('leaping_twisting',), ('leaping_twisting',), ('leaping_twisting',), ('leaping_twisting',), ('leaping_twisting',), ('leaping_twisting',), ('leaping_twisting',), ('leaping_twisting',), ('leaping_twisting',), ('leaping_twisting',), ('leaping_twisting',), ('leaping_twisting',), ('leaping_twisting',), ('leaping_twisting',), ('leaping_twisting',), ('leaping_twisting',), ('leaping_twisting',), ('no skills',), ('leaping_twisting',), ('no skills',), ('down_leaping',), ('repeating',), ('triplet',), ('leaping_twisting',), ('down_leaping',), ('up_steping',), ('leaping_twisting',), ('down_leaping',), ('no skills',), ('no skills',), ('no skills',), ('no skills',), ('no skills',), ('triplet',), ('no skills',), ('no skills',), ('no skills',), ('no skills',), ('triplet',), ('no skills',), ('triplet',), ('repeating',), ('triplet',), ('leaping_twisting',), ('no skills',), ('triplet',), ('triplet',), ('triplet',), ('down_leaping',), ('no skills',), ('no skills',), ('triplet',), ('no skills',), ('triplet',), ('no skills',), ('triplet',), ('no skills',), ('repeating',), ('One_rhythm',), ('One_rhythm',), ('up_steping',), ('One_rhythm',), ('One_rhythm',), ('repeating',), ('no skills',), ('no skills',), ('no skills',), ('down_steping',), ('One_rhythm',), ('no skills',), ('One_rhythm',), ('One_rhythm',), ('up_steping',), ('One_rhythm',), ('One_rhythm',), ('repeating',), ('One_rhythm',), ('up_steping',), ('One_rhythm',), ('up_steping',), ('leaping_twisting',), ('leaping_twisting',), ('leaping_twisting',), ('leaping_twisting',), ('leaping_twisting',), ('leaping_twisting',), ('leaping_twisting',), ('leaping_twisting',), ('leaping_twisting',), ('leaping_twisting',), ('leaping_twisting',), ('leaping_twisting',), ('leaping_twisting',), ('up_leaping',), ('no skills',), ('steping_twisting',), ('down_steping',), ('leaping_twisting',), ('no skills',), ('no skills',), ('no skills',), ('steping_twisting',), ('no skills',), ('down_steping',), ('down_steping',), ('leaping_twisting',), ('up_steping',), ('no skills',), ('no skills',), ('up_steping',), ('leaping_twisting',), ('leaping_twisting',), ('leaping_twisting',), ('leaping_twisting',), ('leaping_twisting',), ('leaping_twisting',), ('up_steping',), ('leaping_twisting',), ('leaping_twisting',), ('leaping_twisting',), ('leaping_twisting',), ('leaping_twisting',), ('leaping_twisting',), ('leaping_twisting',), ('up_steping',), ('leaping_twisting',), ('leaping_twisting',), ('leaping_twisting',), ('leaping_twisting',), ('leaping_twisting',), ('no skills',), ('up_leaping',), ('up_leaping',), ('leaping_twisting',), ('leaping_twisting',), ('leaping_twisting',), ('leaping_twisting',), ('leaping_twisting',), ('leaping_twisting',), ('up_leaping',), ('up_leaping',), ('leaping_twisting',), ('leaping_twisting',), ('leaping_twisting',), ('leaping_twisting',), ('leaping_twisting',), ('leaping_twisting',), ('leaping_twisting',), ('leaping_twisting',), ('up_leaping',), ('leaping_twisting',), ('up_leaping',), ('leaping_twisting',), ('leaping_twisting',), ('leaping_twisting',), ('leaping_twisting',), ('up_leaping',), ('leaping_twisting',), ('leaping_twisting',), ('up_leaping',), ('no skills',), ('leaping_twisting',), ('no skills',), ('no skills',), ('no skills',), ('repeating',), ('repeating',), ('repeating',), ('no skills',), ('no skills',), ('no skills',), ('no skills',), ('no skills',), ('no skills',), ('no skills',), ('triplet',), ('triplet',), ('leaping_twisting',), ('no skills',), ('triplet',), ('triplet',), ('triplet',), ('up_leaping',), ('triplet',), ('triplet',), ('triplet',), ('down_leaping',), ('leaping_twisting',), ('up_leaping',), ('leaping_twisting',), ('no skills',), ('triplet',), ('no skills',), ('up_steping',), ('leaping_twisting',), ('down_leaping',), ('leaping_twisting',), ('leaping_twisting',), ('leaping_twisting',), ('up_leaping',), ('leaping_twisting',), ('leaping_twisting',), ('leaping_twisting',), ('leaping_twisting',), ('up_leaping',), ('down_leaping',), ('leaping_twisting',), ('leaping_twisting',), ('leaping_twisting',), ('leaping_twisting',), ('no skills',), ('staccato',), ('staccato',), ('staccato',), ('staccato',), ('staccato',), ('staccato',), ('staccato',), ('staccato',), ('staccato',), ('staccato',), ('staccato',), ('staccato',), ('staccato',), ('staccato',), ('staccato',), ('staccato',), ('staccato',), ('staccato',), ('staccato',), ('down_leaping',), ('no skills',), ('up_steping',), ('up_steping',), ('triplet',), ('up_steping',), ('leaping_twisting',), ('up_steping',), ('down_steping',), ('triplet',), ('up_steping',), ('triplet',), ('triplet',), ('no skills',), ('leaping_twisting',), ('leaping_twisting',), ('no skills',), ('steping_twisting',), ('down_steping',), ('down_steping',), ('no skills',), ('leaping_twisting',), ('leaping_twisting',), ('leaping_twisting',), ('up_steping',), ('continuing_rhythm',), ('down_steping',), ('down_steping',), ('repeating',), ('down_steping',), ('down_steping',), ('no skills',), ('no skills',), ('up_steping',), ('triplet',), ('leaping_twisting',), ('leaping_twisting',), ('triplet',), ('triplet',), ('triplet',), ('triplet',), ('up_leaping',), ('up_steping',), ('leaping_twisting',), ('leaping_twisting',), ('up_steping',), ('leaping_twisting',), ('leaping_twisting',), ('leaping_twisting',), ('no skills',), ('no skills',), ('no skills',), ('leaping_twisting',), ('leaping_twisting',), ('leaping_twisting',), ('leaping_twisting',), ('leaping_twisting',), ('no skills',), ('no skills',), ('leaping_twisting',), ('leaping_twisting',), ('no skills',), ('leaping_twisting',), ('no skills',), ('fast_rhythm',), ('no skills',), ('down_steping',), ('no skills',), ('repeating',), ('up_steping',), ('no skills',), ('continuing_rhythm',), ('no skills',), ('triplet',), ('no skills',), ('continuing_rhythm',), ('continuing_rhythm',), ('continuing_rhythm',), ('continuing_rhythm',), ('continuing_rhythm',), ('continuing_rhythm',), ('continuing_rhythm',), ('leaping_twisting',), ('leaping_twisting',), ('leaping_twisting',), ('leaping_twisting',), ('continuing_rhythm',), ('continuing_rhythm',), ('continuing_rhythm',), ('continuing_rhythm',), ('leaping_twisting',), ('no skills',), ('up_steping',), ('down_leaping',), ('no skills',), ('no skills',), ('up_steping',), ('continuing_rhythm',), ('continuing_rhythm',), ('triplet',), ('continuing_rhythm',), ('triplet',), ('no skills',), ('no skills',), ('continuing_rhythm',), ('repeating',), ('no skills',), ('no skills',), ('no skills',), ('fast_rhythm',), ('continuing_rhythm',), ('continuing_rhythm',), ('fast_rhythm',), ('fast_rhythm',), ('continuing_rhythm',), ('continuing_rhythm',), ('fast_rhythm',), ('fast_rhythm',), ('continuing_rhythm',), ('continuing_rhythm',), ('no skills',), ('One_rhythm',), ('One_rhythm',), ('up_steping',), ('One_rhythm',), ('One_rhythm',), ('One_rhythm',), ('leaping_twisting',), ('repeating',), ('One_rhythm',), ('leaping_twisting',), ('One_rhythm',), ('One_rhythm',), ('One_rhythm',), ('One_rhythm',), ('continuing_rhythm',), ('no skills',), ('repeating',), ('repeating',), ('repeating',), ('repeating',), ('up_steping',), ('leaping_twisting',), ('down_leaping',), ('down_leaping',), ('leaping_twisting',), ('leaping_twisting',), ('no skills',), ('triplet',), ('triplet',), ('triplet',), ('triplet',), ('no skills',), ('down_leaping',), ('triplet',), ('down_steping',), ('no skills',), ('triplet',), ('triplet',), ('down_steping',), ('up_steping',), ('no skills',), ('no skills',), ('down_steping',), ('up_steping',), ('up_steping',), ('no skills',), ('down_steping',), ('up_steping',), ('repeating',), ('up_steping',), ('leaping_twisting',), ('up_steping',), ('no skills',), ('no skills',), ('no skills',), ('up_steping',), ('One_rhythm',), ('no skills',), ('no skills',), ('no skills',), ('no skills',), ('no skills',), ('down_leaping',), ('up_steping',), ('steping_twisting',), ('triplet',), ('up_steping',), ('no skills',), ('up_leaping',), ('leaping_twisting',), ('down_leaping',), ('up_leaping',), ('up_leaping',), ('leaping_twisting',), ('down_leaping',), ('down_leaping',), ('up_leaping',), ('down_leaping',), ('leaping_twisting',), ('leaping_twisting',), ('leaping_twisting',), ('leaping_twisting',), ('down_leaping',), ('leaping_twisting',), ('leaping_twisting',), ('leaping_twisting',), ('One_rhythm',), ('leaping_twisting',), ('up_leaping',), ('triplet',), ('leaping_twisting',), ('down_steping',), ('down_steping',), ('triplet',), ('triplet',), ('triplet',), ('triplet',), ('up_steping',), ('up_steping',), ('triplet',), ('up_steping',), ('down_steping',), ('leaping_twisting',), ('no skills',), ('no skills',), ('no skills',), ('no skills',), ('fast_rhythm',), ('leaping_twisting',), ('fast_rhythm',), ('triplet',), ('no skills',), ('no skills',), ('no skills',), ('no skills',), ('no skills',), ('repeating',), ('triplet',), ('repeating',), ('repeating',), ('repeating',), ('fast_rhythm',), ('repeating',), ('repeating',), ('repeating',), ('triplet',), ('leaping_twisting',), ('up_steping',), ('leaping_twisting',), ('up_steping',), ('leaping_twisting',), ('up_steping',), ('no skills',), ('fast_rhythm',), ('fast_rhythm',), ('fast_rhythm',), ('fast_rhythm',), ('fast_rhythm',), ('fast_rhythm',), ('fast_rhythm',), ('fast_rhythm',), ('fast_rhythm',), ('no skills',), ('leaping_twisting',), ('leaping_twisting',), ('triplet',), ('fast_rhythm',), ('leaping_twisting',), ('leaping_twisting',), ('fast_rhythm',), ('fast_rhythm',), ('fast_rhythm',), ('continuing_rhythm',), ('One_rhythm',), ('up_leaping',), ('no skills',), ('no skills',), ('One_rhythm',), ('up_steping',), ('repeating',), ('repeating',), ('up_steping',), ('repeating',), ('up_leaping',), ('no skills',), ('fast_rhythm',), ('fast_rhythm',), ('fast_rhythm',), ('leaping_twisting',), ('leaping_twisting',), ('leaping_twisting',), ('leaping_twisting',), ('leaping_twisting',), ('leaping_twisting',), ('leaping_twisting',), ('fast_rhythm',), ('leaping_twisting',), ('leaping_twisting',), ('fast_rhythm',), ('fast_rhythm',), ('leaping_twisting',), ('leaping_twisting',), ('fast_rhythm',), ('fast_rhythm',), ('leaping_twisting',), ('leaping_twisting',), ('fast_rhythm',), ('up_leaping',), ('leaping_twisting',), ('fast_rhythm',), ('fast_rhythm',), ('up_leaping',), ('fast_rhythm',), ('no skills',), ('fast_rhythm',), ('no skills',), ('fast_rhythm',), ('fast_rhythm',), ('fast_rhythm',), ('fast_rhythm',), ('fast_rhythm',), ('leaping_twisting',), ('no skills',), ('no skills',), ('up_steping',), ('up_steping',), ('up_steping',), ('up_steping',), ('up_steping',), ('repeating',), ('up_steping',), ('up_steping',), ('up_steping',), ('no skills',), ('up_steping',), ('no skills',), ('up_steping',), ('up_steping',), ('up_steping',), ('One_rhythm',), ('up_steping',), ('repeating',), ('up_steping',), ('leaping_twisting',), ('repeating',), ('up_steping',), ('triplet',), ('no skills',), ('no skills',), ('no skills',), ('leaping_twisting',), ('no skills',), ('up_steping',), ('up_steping',), ('no skills',), ('no skills',), ('no skills',), ('no skills',), ('no skills',), ('no skills',), ('no skills',), ('up_steping',), ('no skills',), ('up_steping',), ('triplet',), ('up_steping',), ('no skills',), ('up_steping',), ('One_rhythm',), ('repeating',), ('no skills',), ('no skills',), ('no skills',), ('no skills',), ('no skills',), ('up_steping',), ('leaping_twisting',), ('repeating',), ('leaping_twisting',), ('repeating',), ('no skills',), ('leaping_twisting',), ('repeating',), ('no skills',), ('leaping_twisting',), ('leaping_twisting',), ('leaping_twisting',), ('leaping_twisting',), ('leaping_twisting',), ('leaping_twisting',), ('leaping_twisting',), ('leaping_twisting',), ('leaping_twisting',), ('leaping_twisting',), ('leaping_twisting',), ('leaping_twisting',), ('leaping_twisting',), ('leaping_twisting',), ('no skills',), ('fast_rhythm',), ('continuing_rhythm',), ('One_rhythm',), ('leaping_twisting',), ('continuing_rhythm',), ('leaping_twisting',), ('leaping_twisting',), ('leaping_twisting',), ('leaping_twisting',), ('leaping_twisting',), ('continuing_rhythm',), ('leaping_twisting',), ('leaping_twisting',), ('down_leaping',), ('leaping_twisting',), ('leaping_twisting',), ('leaping_twisting',), ('leaping_twisting',), ('leaping_twisting',), ('leaping_twisting',), ('leaping_twisting',), ('leaping_twisting',), ('leaping_twisting',), ('leaping_twisting',), ('leaping_twisting',), ('leaping_twisting',), ('leaping_twisting',), ('leaping_twisting',), ('leaping_twisting',), ('leaping_twisting',), ('leaping_twisting',), ('no skills',), ('leaping_twisting',), ('leaping_twisting',), ('leaping_twisting',), ('leaping_twisting',), ('leaping_twisting',), ('leaping_twisting',), ('leaping_twisting',), ('leaping_twisting',), ('One_rhythm',), ('leaping_twisting',), ('continuing_rhythm',), ('continuing_rhythm',), ('leaping_twisting',), ('leaping_twisting',), ('leaping_twisting',), ('leaping_twisting',), ('no skills',), ('fast_rhythm',), ('down_steping',), ('down_steping',), ('fast_rhythm',), ('fast_rhythm',), ('leaping_twisting',), ('leaping_twisting',), ('no skills',), ('leaping_twisting',), ('leaping_twisting',), ('leaping_twisting',), ('no skills',), ('leaping_twisting',), ('leaping_twisting',), ('leaping_twisting',), ('leaping_twisting',), ('leaping_twisting',), ('leaping_twisting',), ('leaping_twisting',), ('leaping_twisting',), ('leaping_twisting',), ('leaping_twisting',), ('leaping_twisting',), ('leaping_twisting',), ('up_steping',), ('leaping_twisting',), ('leaping_twisting',), ('leaping_twisting',), ('no skills',), ('leaping_twisting',), ('leaping_twisting',), ('leaping_twisting',), ('no skills',), ('leaping_twisting',), ('fast_rhythm',), ('up_steping',), ('fast_rhythm',), ('up_steping',), ('fast_rhythm',), ('up_steping',), ('fast_rhythm',), ('up_steping',), ('fast_rhythm',), ('staccato',), ('no skills',), ('triplet',), ('triplet',), ('triplet',), ('no skills',), ('up_leaping',), ('One_rhythm',), ('up_steping',), ('steping_twisting',), ('down_leaping',), ('One_rhythm',), ('leaping_twisting',), ('steping_twisting',), ('leaping_twisting',), ('leaping_twisting',), ('leaping_twisting',), ('down_steping',), ('down_steping',), ('repeating',), ('steping_twisting',), ('up_leaping',), ('One_rhythm',), ('steping_twisting',), ('up_leaping',), ('no skills',), ('no skills',), ('fast_rhythm',), ('no skills',), ('up_steping',), ('fast_rhythm',), ('fast_rhythm',), ('up_steping',), ('fast_rhythm',), ('triplet',), ('up_steping',), ('no skills',), ('no skills',), ('no skills',), ('fast_rhythm',), ('no skills',), ('no skills',), ('no skills',), ('fast_rhythm',), ('staccato',), ('no skills',), ('fast_rhythm',), ('fast_rhythm',), ('fast_rhythm',), ('fast_rhythm',), ('triplet',), ('triplet',), ('fast_rhythm',), ('fast_rhythm',), ('fast_rhythm',), ('down_steping',), ('up_steping',), ('fast_rhythm',), ('fast_rhythm',), ('fast_rhythm',), ('staccato',), ('fast_rhythm',), ('up_steping',), ('no skills',), ('leaping_twisting',), ('fast_rhythm',), ('up_steping',), ('fast_rhythm',), ('up_steping',), ('leaping_twisting',), ('fast_rhythm',), ('fast_rhythm',), ('fast_rhythm',), ('down_steping',), ('down_steping',), ('no skills',), ('no skills',), ('repeating',), ('repeating',), ('triplet',), ('leaping_twisting',), ('repeating',), ('leaping_twisting',), ('triplet',), ('repeating',), ('triplet',), ('leaping_twisting',), ('leaping_twisting',), ('repeating',), ('leaping_twisting',), ('no skills',), ('triplet',), ('triplet',), ('triplet',), ('repeating',), ('leaping_twisting',), ('leaping_twisting',), ('fast_rhythm',), ('fast_rhythm',), ('leaping_twisting',), ('staccato',), ('fast_rhythm',), ('fast_rhythm',), ('fast_rhythm',), ('fast_rhythm',), ('fast_rhythm',), ('fast_rhythm',), ('fast_rhythm',), ('fast_rhythm',), ('fast_rhythm',), ('fast_rhythm',), ('fast_rhythm',), ('fast_rhythm',), ('fast_rhythm',), ('fast_rhythm',), ('up_leaping',), ('One_rhythm',), ('leaping_twisting',), ('continuing_rhythm',), ('leaping_twisting',), ('continuing_rhythm',), ('up_leaping',), ('leaping_twisting',), ('down_leaping',), ('down_leaping',), ('staccato',), ('down_leaping',), ('down_leaping',), ('leaping_twisting',), ('triplet',), ('staccato',), ('triplet',), ('up_leaping',), ('triplet',), ('staccato',), ('up_steping',), ('no skills',), ('up_leaping',), ('leaping_twisting',), ('leaping_twisting',), ('leaping_twisting',), ('up_leaping',), ('down_leaping',), ('leaping_twisting',), ('down_leaping',), ('leaping_twisting',), ('leaping_twisting',), ('leaping_twisting',), ('leaping_twisting',), ('up_leaping',), ('down_leaping',), ('leaping_twisting',), ('down_leaping',), ('leaping_twisting',), ('no skills',), ('triplet',), ('up_steping',), ('up_steping',), ('fast_rhythm',), ('up_steping',), ('fast_rhythm',), ('fast_rhythm',), ('fast_rhythm',), ('fast_rhythm',), ('repeating',), ('fast_rhythm',), ('repeating',), ('fast_rhythm',), ('repeating',), ('up_steping',), ('staccato',), ('up_steping',), ('staccato',), ('staccato',), ('staccato',), ('up_steping',), ('staccato',), ('staccato',), ('staccato',), ('up_steping',), ('up_steping',), ('up_steping',), ('down_steping',), ('no skills',), ('leaping_twisting',), ('no skills',), ('up_steping',), ('repeating',), ('no skills',), ('down_steping',), ('up_leaping',), ('no skills',), ('leaping_twisting',), ('no skills',), ('up_steping',), ('steping_twisting',), ('up_steping',), ('no skills',), ('leaping_twisting',), ('leaping_twisting',), ('One_rhythm',), ('leaping_twisting',), ('leaping_twisting',), ('leaping_twisting',), ('leaping_twisting',), ('leaping_twisting',), ('leaping_twisting',), ('leaping_twisting',), ('leaping_twisting',), ('leaping_twisting',), ('leaping_twisting',), ('leaping_twisting',), ('One_rhythm',), ('leaping_twisting',), ('staccato',), ('leaping_twisting',), ('One_rhythm',), ('leaping_twisting',), ('leaping_twisting',), ('One_rhythm',), ('One_rhythm',), ('leaping_twisting',), ('leaping_twisting',), ('no skills',), ('leaping_twisting',), ('leaping_twisting',), ('repeating',), ('fast_rhythm',), ('leaping_twisting',), ('fast_rhythm',), ('leaping_twisting',), ('no skills',), ('no skills',), ('leaping_twisting',), ('leaping_twisting',), ('leaping_twisting',), ('leaping_twisting',), ('leaping_twisting',), ('leaping_twisting',), ('leaping_twisting',), ('leaping_twisting',), ('leaping_twisting',), ('leaping_twisting',), ('leaping_twisting',), ('leaping_twisting',), ('leaping_twisting',), ('leaping_twisting',), ('leaping_twisting',), ('leaping_twisting',), ('leaping_twisting',), ('leaping_twisting',), ('leaping_twisting',), ('leaping_twisting',), ('leaping_twisting',), ('leaping_twisting',), ('repeating',), ('up_steping',), ('repeating',), ('up_steping',), ('leaping_twisting',), ('repeating',), ('repeating',), ('leaping_twisting',), ('leaping_twisting',), ('fast_rhythm',), ('fast_rhythm',), ('fast_rhythm',), ('fast_rhythm',), ('fast_rhythm',), ('fast_rhythm',), ('fast_rhythm',), ('fast_rhythm',), ('no skills',), ('no skills',), ('up_steping',), ('no skills',), ('up_steping',), ('no skills',), ('down_leaping',), ('leaping_twisting',), ('leaping_twisting',), ('leaping_twisting',), ('down_leaping',), ('leaping_twisting',), ('leaping_twisting',), ('leaping_twisting',), ('down_leaping',), ('leaping_twisting',), ('down_leaping',), ('leaping_twisting',), ('down_leaping',), ('leaping_twisting',), ('down_leaping',), ('leaping_twisting',), ('down_leaping',), ('leaping_twisting',), ('leaping_twisting',), ('up_leaping',), ('leaping_twisting',), ('leaping_twisting',), ('leaping_twisting',), ('leaping_twisting',), ('leaping_twisting',), ('leaping_twisting',), ('leaping_twisting',), ('leaping_twisting',), ('leaping_twisting',), ('leaping_twisting',), ('leaping_twisting',), ('leaping_twisting',), ('leaping_twisting',), ('leaping_twisting',), ('leaping_twisting',), ('leaping_twisting',), ('leaping_twisting',), ('leaping_twisting',), ('leaping_twisting',), ('leaping_twisting',), ('up_steping',), ('up_leaping',), ('no skills',), ('no skills',), ('up_steping',), ('up_leaping',), ('no skills',), ('no skills',), ('up_steping',), ('up_leaping',), ('no skills',), ('no skills',), ('up_steping',), ('up_leaping',), ('no skills',), ('no skills',), ('up_steping',), ('down_leaping',), ('down_leaping',), ('down_leaping',), ('down_leaping',), ('down_leaping',), ('down_leaping',), ('down_leaping',), ('down_leaping',), ('staccato',), ('staccato',), ('triplet',), ('repeating',), ('leaping_twisting',), ('leaping_twisting',), ('leaping_twisting',), ('leaping_twisting',), ('repeating',), ('continuing_rhythm',), ('continuing_rhythm',), ('down_steping',), ('no skills',), ('continuing_rhythm',), ('continuing_rhythm',), ('up_steping',), ('repeating',), ('continuing_rhythm',), ('continuing_rhythm',), ('no skills',), ('fast_rhythm',), ('fast_rhythm',), ('fast_rhythm',), ('continuing_rhythm',), ('leaping_twisting',), ('leaping_twisting',), ('triplet',), ('up_steping',), ('no skills',), ('triplet',), ('no skills',), ('triplet',), ('no skills',), ('no skills',), ('up_leaping',), ('fast_rhythm',), ('staccato',), ('no skills',), ('triplet',), ('no skills',), ('leaping_twisting',), ('triplet',), ('triplet',), ('up_leaping',), ('triplet',), ('up_leaping',), ('leaping_twisting',), ('down_leaping',), ('leaping_twisting',), ('leaping_twisting',), ('triplet',), ('up_steping',), ('no skills',), ('One_rhythm',), ('One_rhythm',), ('One_rhythm',), ('One_rhythm',), ('One_rhythm',), ('One_rhythm',), ('One_rhythm',), ('One_rhythm',), ('One_rhythm',), ('One_rhythm',), ('One_rhythm',), ('One_rhythm',), ('One_rhythm',), ('One_rhythm',), ('One_rhythm',), ('One_rhythm',), ('One_rhythm',), ('One_rhythm',), ('One_rhythm',), ('One_rhythm',), ('One_rhythm',), ('One_rhythm',), ('One_rhythm',), ('One_rhythm',), ('One_rhythm',), ('One_rhythm',), ('One_rhythm',), ('One_rhythm',), ('One_rhythm',), ('One_rhythm',), ('One_rhythm',), ('One_rhythm',), ('One_rhythm',), ('One_rhythm',), ('One_rhythm',), ('One_rhythm',), ('no skills',), ('repeating',), ('up_steping',), ('no skills',), ('up_steping',), ('repeating',), ('triplet',), ('repeating',), ('repeating',), ('no skills',), ('down_steping',), ('no skills',), ('up_steping',), ('repeating',), ('down_steping',), ('repeating',), ('repeating',), ('no skills',), ('down_steping',), ('no skills',), ('up_steping',), ('repeating',), ('down_steping',), ('repeating',), ('repeating',), ('repeating',), ('up_steping',), ('down_steping',), ('repeating',), ('repeating',), ('repeating',), ('up_steping',), ('repeating',), ('repeating',), ('down_steping',), ('repeating',), ('up_leaping',), ('repeating',), ('repeating',), ('repeating',), ('repeating',), ('repeating',), ('down_steping',), ('repeating',), ('up_leaping',), ('repeating',), ('leaping_twisting',), ('leaping_twisting',), ('staccato',), ('leaping_twisting',), ('leaping_twisting',), ('down_leaping',), ('no skills',), ('no skills',), ('no skills',), ('no skills',), ('up_steping',), ('no skills',), ('One_rhythm',), ('One_rhythm',), ('One_rhythm',), ('One_rhythm',), ('One_rhythm',), ('One_rhythm',), ('One_rhythm',), ('One_rhythm',), ('no skills',), ('up_leaping',), ('up_steping',), ('down_steping',), ('down_steping',), ('continuing_rhythm',), ('leaping_twisting',), ('down_steping',), ('staccato',), ('up_steping',), ('no skills',), ('no skills',), ('no skills',), ('repeating',), ('repeating',), ('leaping_twisting',), ('triplet',), ('repeating',), ('repeating',), ('leaping_twisting',), ('leaping_twisting',), ('fast_rhythm',), ('repeating',), ('leaping_twisting',), ('no skills',), ('fast_rhythm',), ('staccato',), ('leaping_twisting',), ('up_leaping',), ('no skills',), ('leaping_twisting',), ('up_steping',), ('leaping_twisting',), ('fast_rhythm',), ('leaping_twisting',), ('staccato',), ('leaping_twisting',), ('no skills',), ('triplet',), ('no skills',), ('up_leaping',), ('no skills',), ('triplet',), ('no skills',), ('triplet',), ('no skills',), ('fast_rhythm',), ('fast_rhythm',), ('up_leaping',), ('fast_rhythm',), ('triplet',), ('fast_rhythm',), ('leaping_twisting',), ('triplet',), ('fast_rhythm',), ('fast_rhythm',), ('fast_rhythm',), ('fast_rhythm',), ('leaping_twisting',), ('leaping_twisting',), ('triplet',), ('fast_rhythm',), ('fast_rhythm',), ('leaping_twisting',), ('One_rhythm',), ('leaping_twisting',), ('no skills',), ('leaping_twisting',), ('leaping_twisting',), ('up_steping',), ('One_rhythm',), ('leaping_twisting',), ('leaping_twisting',), ('One_rhythm',), ('One_rhythm',), ('leaping_twisting',), ('leaping_twisting',), ('leaping_twisting',), ('One_rhythm',), ('leaping_twisting',), ('no skills',), ('One_rhythm',), ('leaping_twisting',), ('One_rhythm',), ('One_rhythm',), ('up_steping',), ('no skills',), ('One_rhythm',), ('leaping_twisting',), ('One_rhythm',), ('One_rhythm',), ('One_rhythm',), ('leaping_twisting',), ('up_steping',), ('up_leaping',), ('leaping_twisting',), ('One_rhythm',), ('One_rhythm',), ('leaping_twisting',), ('leaping_twisting',), ('leaping_twisting',), ('leaping_twisting',), ('leaping_twisting',), ('leaping_twisting',), ('leaping_twisting',), ('leaping_twisting',), ('leaping_twisting',), ('leaping_twisting',), ('leaping_twisting',), ('leaping_twisting',), ('leaping_twisting',), ('continuing_rhythm',), ('leaping_twisting',), ('leaping_twisting',), ('leaping_twisting',), ('leaping_twisting',), ('leaping_twisting',), ('up_steping',), ('leaping_twisting',), ('leaping_twisting',), ('leaping_twisting',), ('leaping_twisting',), ('leaping_twisting',), ('leaping_twisting',), ('up_leaping',), ('leaping_twisting',), ('leaping_twisting',), ('leaping_twisting',), ('up_steping',), ('leaping_twisting',), ('no skills',), ('leaping_twisting',), ('up_steping',), ('down_leaping',), ('continuing_rhythm',), ('continuing_rhythm',), ('repeating',), ('leaping_twisting',), ('continuing_rhythm',), ('leaping_twisting',), ('up_steping',), ('no skills',), ('leaping_twisting',), ('leaping_twisting',), ('leaping_twisting',), ('leaping_twisting',), ('leaping_twisting',), ('up_steping',), ('leaping_twisting',), ('up_steping',), ('leaping_twisting',), ('leaping_twisting',), ('leaping_twisting',), ('up_steping',), ('leaping_twisting',), ('up_steping',), ('leaping_twisting',), ('leaping_twisting',), ('leaping_twisting',), ('leaping_twisting',), ('up_steping',), ('up_steping',), ('down_steping',), ('repeating',), ('repeating',), ('One_rhythm',), ('repeating',), ('repeating',), ('One_rhythm',), ('One_rhythm',), ('One_rhythm',), ('repeating',), ('repeating',), ('One_rhythm',), ('One_rhythm',), ('up_steping',), ('repeating',), ('leaping_twisting',), ('triplet',), ('no skills',), ('One_rhythm',), ('no skills',), ('leaping_twisting',), ('triplet',), ('leaping_twisting',), ('fast_rhythm',), ('triplet',), ('leaping_twisting',), ('leaping_twisting',), ('down_leaping',), ('repeating',), ('continuing_rhythm',), ('repeating',), ('repeating',), ('repeating',), ('up_leaping',), ('repeating',), ('repeating',), ('repeating',), ('up_steping',), ('repeating',), ('up_steping',), ('repeating',), ('leaping_twisting',), ('repeating',), ('up_steping',), ('repeating',), ('leaping_twisting',), ('repeating',), ('up_steping',), ('repeating',), ('triplet',), ('repeating',), ('triplet',), ('repeating',), ('triplet',), ('up_leaping',), ('leaping_twisting',), ('triplet',), ('triplet',), ('leaping_twisting',), ('no skills',), ('leaping_twisting',), ('triplet',), ('triplet',), ('triplet',), ('triplet',), ('leaping_twisting',), ('leaping_twisting',), ('triplet',), ('no skills',), ('triplet',), ('no skills',), ('triplet',), ('triplet',), ('up_steping',), ('triplet',), ('triplet',), ('triplet',), ('leaping_twisting',), ('leaping_twisting',), ('leaping_twisting',), ('no skills',), ('triplet',), ('triplet',), ('up_steping',), ('triplet',), ('triplet',), ('triplet',), ('up_steping',), ('triplet',), ('triplet',), ('triplet',), ('leaping_twisting',), ('leaping_twisting',), ('leaping_twisting',), ('no skills',), ('no skills',), ('leaping_twisting',), ('down_leaping',), ('up_leaping',), ('leaping_twisting',), ('leaping_twisting',), ('down_leaping',), ('up_leaping',), ('leaping_twisting',), ('leaping_twisting',), ('up_steping',), ('down_steping',), ('repeating',), ('up_steping',), ('up_leaping',), ('up_leaping',), ('leaping_twisting',), ('down_steping',), ('no skills',), ('up_steping',), ('no skills',), ('triplet',), ('triplet',), ('triplet',), ('no skills',), ('no skills',), ('repeating',), ('leaping_twisting',), ('repeating',), ('no skills',), ('no skills',), ('no skills',), ('no skills',), ('down_steping',), ('down_steping',), ('no skills',), ('leaping_twisting',), ('up_steping',), ('staccato',), ('no skills',), ('triplet',), ('no skills',), ('triplet',), ('no skills',), ('no skills',), ('no skills',), ('leaping_twisting',), ('down_steping',), ('leaping_twisting',), ('up_steping',), ('staccato',), ('no skills',), ('triplet',), ('no skills',), ('triplet',), ('no skills',), ('no skills',), ('no skills',), ('leaping_twisting',), ('down_steping',), ('leaping_twisting',), ('no skills',), ('down_steping',), ('up_steping',), ('no skills',), ('no skills',), ('steping_twisting',), ('no skills',), ('down_steping',), ('no skills',), ('down_steping',), ('up_steping',), ('up_steping',), ('leaping_twisting',), ('up_steping',), ('up_steping',), ('triplet',), ('leaping_twisting',), ('leaping_twisting',), ('leaping_twisting',), ('leaping_twisting',), ('leaping_twisting',), ('leaping_twisting',), ('leaping_twisting',), ('leaping_twisting',), ('leaping_twisting',), ('leaping_twisting',), ('leaping_twisting',), ('leaping_twisting',), ('no skills',), ('One_rhythm',), ('One_rhythm',), ('One_rhythm',), ('One_rhythm',), ('One_rhythm',), ('One_rhythm',), ('One_rhythm',), ('One_rhythm',), ('up_steping',), ('steping_twisting',), ('no skills',), ('no skills',), ('leaping_twisting',), ('steping_twisting',), ('One_rhythm',), ('up_steping',), ('leaping_twisting',), ('One_rhythm',), ('steping_twisting',), ('staccato',), ('triplet',), ('triplet',), ('triplet',), ('fast_rhythm',), ('repeating',), ('repeating',), ('staccato',), ('up_leaping',), ('leaping_twisting',), ('up_leaping',), ('up_leaping',), ('leaping_twisting',), ('up_leaping',), ('leaping_twisting',), ('leaping_twisting',), ('leaping_twisting',), ('up_leaping',), ('leaping_twisting',), ('leaping_twisting',), ('up_leaping',), ('up_leaping',), ('leaping_twisting',), ('up_leaping',), ('no skills',), ('no skills',), ('no skills',), ('triplet',), ('leaping_twisting',), ('no skills',), ('triplet',), ('repeating',), ('no skills',), ('down_leaping',), ('no skills',), ('up_leaping',), ('no skills',), ('repeating',), ('no skills',), ('repeating',), ('steping_twisting',), ('no skills',), ('One_rhythm',), ('One_rhythm',), ('One_rhythm',), ('One_rhythm',), ('One_rhythm',), ('One_rhythm',), ('One_rhythm',), ('One_rhythm',), ('One_rhythm',), ('no skills',), ('no skills',), ('down_steping',), ('steping_twisting',), ('down_steping',), ('no skills',), ('down_steping',), ('steping_twisting',), ('down_steping',), ('up_leaping',), ('leaping_twisting',), ('up_steping',), ('up_steping',), ('steping_twisting',), ('repeating',), ('up_leaping',), ('repeating',), ('up_steping',), ('leaping_twisting',), ('up_steping',), ('up_leaping',), ('down_leaping',), ('down_leaping',), ('up_steping',), ('repeating',), ('down_leaping',), ('fast_rhythm',), ('fast_rhythm',), ('leaping_twisting',), ('fast_rhythm',), ('leaping_twisting',), ('fast_rhythm',), ('fast_rhythm',), ('leaping_twisting',), ('fast_rhythm',), ('triplet',), ('leaping_twisting',), ('fast_rhythm',), ('staccato',), ('triplet',), ('up_steping',), ('fast_rhythm',), ('down_steping',), ('no skills',), ('fast_rhythm',), ('triplet',), ('no skills',), ('triplet',), ('fast_rhythm',), ('down_steping',), ('fast_rhythm',), ('fast_rhythm',), ('triplet',), ('fast_rhythm',), ('no skills',), ('no skills',), ('repeating',), ('no skills',), ('fast_rhythm',), ('steping_twisting',), ('leaping_twisting',), ('leaping_twisting',), ('leaping_twisting',), ('leaping_twisting',), ('leaping_twisting',), ('leaping_twisting',), ('leaping_twisting',), ('leaping_twisting',), ('leaping_twisting',), ('leaping_twisting',), ('down_leaping',), ('up_leaping',), ('leaping_twisting',), ('leaping_twisting',), ('leaping_twisting',), ('leaping_twisting',), ('up_leaping',), ('leaping_twisting',), ('leaping_twisting',), ('no skills',), ('repeating',), ('up_steping',), ('triplet',), ('repeating',), ('no skills',), ('up_steping',), ('no skills',), ('no skills',), ('down_steping',), ('up_steping',), ('triplet',), ('no skills',), ('no skills',), ('triplet',), ('no skills',), ('no skills',), ('no skills',), ('no skills',), ('no skills',), ('One_rhythm',), ('repeating',), ('One_rhythm',), ('repeating',), ('One_rhythm',), ('One_rhythm',), ('up_steping',), ('repeating',), ('One_rhythm',), ('One_rhythm',), ('up_steping',), ('repeating',), ('repeating',), ('repeating',), ('repeating',), ('One_rhythm',), ('up_steping',), ('no skills',), ('continuing_rhythm',), ('up_steping',), ('no skills',), ('continuing_rhythm',), ('up_steping',), ('no skills',), ('One_rhythm',), ('up_steping',), ('no skills',), ('One_rhythm',), ('up_steping',), ('no skills',), ('continuing_rhythm',), ('up_steping',), ('no skills',), ('continuing_rhythm',), ('up_steping',), ('no skills',), ('no skills',), ('leaping_twisting',), ('up_steping',), ('leaping_twisting',), ('up_leaping',), ('repeating',), ('repeating',), ('One_rhythm',), ('up_leaping',), ('up_steping',), ('leaping_twisting',), ('leaping_twisting',), ('One_rhythm',), ('up_steping',), ('repeating',), ('leaping_twisting',), ('One_rhythm',), ('up_steping',), ('leaping_twisting',), ('up_steping',), ('leaping_twisting',), ('leaping_twisting',), ('continuing_rhythm',), ('up_leaping',), ('continuing_rhythm',), ('up_steping',), ('continuing_rhythm',), ('up_leaping',), ('steping_twisting',), ('continuing_rhythm',), ('no skills',), ('no skills',), ('leaping_twisting',), ('no skills',), ('leaping_twisting',), ('no skills',), ('leaping_twisting',), ('no skills',), ('leaping_twisting',), ('no skills',), ('leaping_twisting',), ('no skills',), ('leaping_twisting',), ('no skills',), ('leaping_twisting',), ('no skills',), ('leaping_twisting',), ('continuing_rhythm',), ('no skills',), ('down_steping',), ('One_rhythm',), ('One_rhythm',), ('One_rhythm',), ('One_rhythm',), ('One_rhythm',), ('up_steping',), ('up_steping',), ('continuing_rhythm',), ('One_rhythm',), ('One_rhythm',), ('One_rhythm',), ('One_rhythm',), ('One_rhythm',), ('up_steping',), ('up_steping',), ('steping_twisting',), ('no skills',), ('leaping_twisting',), ('continuing_rhythm',), ('leaping_twisting',), ('leaping_twisting',), ('leaping_twisting',), ('leaping_twisting',), ('leaping_twisting',), ('leaping_twisting',), ('leaping_twisting',), ('leaping_twisting',), ('leaping_twisting',), ('leaping_twisting',), ('leaping_twisting',), ('leaping_twisting',), ('leaping_twisting',), ('leaping_twisting',), ('leaping_twisting',), ('leaping_twisting',), ('leaping_twisting',), ('continuing_rhythm',), ('leaping_twisting',), ('leaping_twisting',), ('continuing_rhythm',), ('continuing_rhythm',), ('leaping_twisting',), ('leaping_twisting',), ('leaping_twisting',), ('continuing_rhythm',), ('repeating',), ('repeating',), ('repeating',), ('repeating',), ('repeating',), ('repeating',), ('repeating',), ('repeating',), ('repeating',), ('repeating',), ('repeating',), ('repeating',), ('repeating',), ('repeating',), ('repeating',), ('repeating',), ('repeating',), ('repeating',), ('repeating',), ('repeating',), ('no skills',), ('up_steping',), ('up_steping',), ('One_rhythm',), ('up_steping',), ('steping_twisting',), ('no skills',), ('One_rhythm',), ('leaping_twisting',), ('up_steping',), ('up_steping',), ('up_steping',), ('steping_twisting',), ('up_steping',), ('up_steping',), ('One_rhythm',), ('up_steping',), ('up_steping',), ('down_leaping',), ('no skills',), ('no skills',), ('no skills',), ('up_steping',), ('continuing_rhythm',), ('no skills',), ('continuing_rhythm',), ('no skills',), ('triplet',), ('up_leaping',), ('leaping_twisting',), ('fast_rhythm',), ('leaping_twisting',), ('up_leaping',), ('fast_rhythm',), ('fast_rhythm',), ('continuing_rhythm',), ('leaping_twisting',), ('up_leaping',), ('steping_twisting',), ('fast_rhythm',), ('down_leaping',), ('no skills',), ('up_leaping',), ('down_steping',), ('up_leaping',), ('no skills',), ('up_leaping',), ('down_steping',), ('continuing_rhythm',), ('continuing_rhythm',), ('continuing_rhythm',), ('continuing_rhythm',), ('no skills',), ('leaping_twisting',), ('down_steping',), ('no skills',), ('no skills',), ('leaping_twisting',), ('leaping_twisting',), ('One_rhythm',), ('continuing_rhythm',), ('up_steping',), ('up_steping',), ('fast_rhythm',), ('up_steping',), ('fast_rhythm',), ('up_steping',), ('fast_rhythm',), ('up_steping',), ('fast_rhythm',), ('up_steping',), ('fast_rhythm',), ('up_steping',), ('fast_rhythm',), ('up_leaping',), ('leaping_twisting',), ('down_leaping',), ('One_rhythm',), ('leaping_twisting',), ('leaping_twisting',), ('up_steping',), ('leaping_twisting',), ('leaping_twisting',), ('leaping_twisting',), ('down_leaping',), ('One_rhythm',), ('leaping_twisting',), ('leaping_twisting',), ('up_steping',), ('leaping_twisting',), ('leaping_twisting',), ('leaping_twisting',), ('down_leaping',), ('One_rhythm',), ('no skills',), ('leaping_twisting',), ('leaping_twisting',), ('repeating',), ('leaping_twisting',), ('leaping_twisting',), ('leaping_twisting',), ('repeating',), ('repeating',), ('up_steping',), ('up_leaping',), ('repeating',), ('no skills',), ('fast_rhythm',), ('up_steping',), ('fast_rhythm',), ('leaping_twisting',), ('fast_rhythm',), ('One_rhythm',), ('leaping_twisting',), ('up_steping',), ('One_rhythm',), ('up_steping',), ('down_steping',), ('up_steping',), ('One_rhythm',), ('down_leaping',), ('up_steping',), ('up_steping',), ('steping_twisting',), ('down_steping',), ('down_leaping',), ('no skills',), ('triplet',), ('no skills',), ('steping_twisting',), ('no skills',), ('triplet',), ('no skills',), ('up_leaping',), ('no skills',), ('no skills',), ('no skills',), ('no skills',), ('no skills',), ('repeating',), ('repeating',), ('repeating',), ('repeating',), ('repeating',), ('repeating',), ('repeating',), ('repeating',), ('repeating',), ('repeating',), ('repeating',), ('repeating',), ('repeating',), ('repeating',), ('repeating',), ('leaping_twisting',), ('One_rhythm',), ('One_rhythm',), ('One_rhythm',), ('no skills',), ('fast_rhythm',), ('fast_rhythm',), ('fast_rhythm',), ('fast_rhythm',), ('fast_rhythm',), ('fast_rhythm',), ('fast_rhythm',), ('fast_rhythm',), ('fast_rhythm',), ('fast_rhythm',), ('fast_rhythm',), ('fast_rhythm',), ('fast_rhythm',), ('fast_rhythm',), ('no skills',), ('One_rhythm',), ('One_rhythm',), ('One_rhythm',), ('One_rhythm',), ('One_rhythm',), ('One_rhythm',), ('continuing_rhythm',), ('One_rhythm',), ('One_rhythm',), ('One_rhythm',), ('continuing_rhythm',), ('One_rhythm',), ('One_rhythm',), ('One_rhythm',), ('continuing_rhythm',), ('One_rhythm',), ('One_rhythm',), ('One_rhythm',), ('up_leaping',), ('down_leaping',), ('steping_twisting',), ('down_leaping',), ('steping_twisting',), ('down_leaping',), ('no skills',), ('continuing_rhythm',), ('up_leaping',), ('triplet',), ('no skills',), ('down_leaping',), ('steping_twisting',), ('down_leaping',), ('steping_twisting',), ('down_leaping',), ('steping_twisting',), ('down_leaping',), ('continuing_rhythm',), ('no skills',), ('no skills',), ('no skills',), ('up_leaping',), ('down_leaping',), ('no skills',), ('no skills',), ('up_steping',), ('no skills',), ('up_steping',), ('no skills',), ('leaping_twisting',), ('down_leaping',), ('no skills',), ('down_leaping',), ('up_steping',), ('up_steping',), ('up_steping',), ('up_leaping',), ('up_steping',), ('up_steping',), ('up_steping',), ('up_steping',), ('leaping_twisting',), ('up_steping',), ('up_steping',), ('leaping_twisting',), ('leaping_twisting',), ('up_steping',), ('no skills',), ('up_steping',), ('continuing_rhythm',), ('down_leaping',), ('down_leaping',), ('leaping_twisting',), ('down_leaping',), ('down_leaping',), ('leaping_twisting',), ('up_steping',), ('continuing_rhythm',), ('down_leaping',), ('continuing_rhythm',), ('continuing_rhythm',), ('down_steping',), ('no skills',), ('up_leaping',), ('repeating',), ('up_steping',), ('up_leaping',), ('down_steping',), ('no skills',), ('up_steping',), ('down_steping',), ('up_steping',), ('up_steping',), ('steping_twisting',), ('continuing_rhythm',), ('up_steping',), ('no skills',), ('no skills',), ('no skills',), ('no skills',), ('no skills',), ('no skills',), ('no skills',), ('no skills',), ('no skills',), ('no skills',), ('no skills',), ('leaping_twisting',), ('no skills',), ('up_steping',), ('no skills',), ('leaping_twisting',), ('continuing_rhythm',), ('up_steping',), ('up_leaping',), ('continuing_rhythm',), ('continuing_rhythm',), ('down_steping',), ('up_leaping',), ('up_leaping',), ('down_leaping',), ('continuing_rhythm',), ('continuing_rhythm',), ('steping_twisting',), ('continuing_rhythm',), ('no skills',), ('One_rhythm',), ('up_steping',), ('up_steping',), ('leaping_twisting',), ('leaping_twisting',), ('leaping_twisting',), ('leaping_twisting',), ('leaping_twisting',), ('leaping_twisting',), ('leaping_twisting',), ('leaping_twisting',), ('no skills',), ('One_rhythm',), ('leaping_twisting',), ('leaping_twisting',), ('leaping_twisting',), ('leaping_twisting',), ('leaping_twisting',), ('leaping_twisting',), ('leaping_twisting',), ('leaping_twisting',), ('leaping_twisting',), ('leaping_twisting',), ('leaping_twisting',), ('leaping_twisting',), ('leaping_twisting',), ('leaping_twisting',), ('leaping_twisting',), ('leaping_twisting',), ('fast_rhythm',), ('fast_rhythm',), ('fast_rhythm',), ('leaping_twisting',), ('up_steping',), ('repeating',), ('repeating',), ('repeating',), ('no skills',), ('no skills',), ('repeating',), ('repeating',), ('repeating',), ('repeating',), ('repeating',), ('repeating',), ('up_steping',), ('repeating',), ('repeating',), ('repeating',), ('repeating',), ('repeating',), ('repeating',), ('repeating',), ('staccato',), ('down_leaping',), ('leaping_twisting',), ('leaping_twisting',), ('leaping_twisting',), ('down_leaping',), ('leaping_twisting',), ('leaping_twisting',), ('staccato',), ('down_leaping',), ('staccato',), ('leaping_twisting',), ('fast_rhythm',), ('fast_rhythm',), ('fast_rhythm',), ('fast_rhythm',), ('fast_rhythm',), ('fast_rhythm',), ('fast_rhythm',), ('fast_rhythm',), ('fast_rhythm',), ('fast_rhythm',), ('fast_rhythm',), ('fast_rhythm',), ('fast_rhythm',), ('fast_rhythm',)]\n"
          ],
          "name": "stdout"
        }
      ]
    },
    {
      "cell_type": "code",
      "metadata": {
        "id": "eKJiCvrXd5NJ",
        "colab_type": "code",
        "colab": {
          "base_uri": "https://localhost:8080/",
          "height": 255
        },
        "outputId": "9890e8cc-6d88-4999-e280-ccc29be7ff72"
      },
      "source": [
        "prediction=classifier.predict(test_matrix[460].reshape(1,24,Minimum_time,1))\n",
        "categorical=np.zeros_like(prediction)\n",
        "num=np.argmax(prediction)\n",
        "categorical[0][num]=1\n",
        "label=mlb.inverse_transform(categorical)\n",
        "print(label)\n",
        "H = test_matrix[460].reshape(24,Minimum_time) #위에 출력에서 나온 숫자 test_matrix['요기']에 적고 출력하면 나옴\n",
        "fig = plt.figure(figsize=(6, 3.2))\n",
        "\n",
        "ax = fig.add_subplot(111)\n",
        "ax.set_title('colorMap')\n",
        "plt.imshow(H)\n",
        "ax.set_aspect('equal')\n",
        "\n",
        "cax = fig.add_axes([0.12, 0.1, 0.78, 0.8])\n",
        "cax.get_xaxis().set_visible(False)\n",
        "cax.get_yaxis().set_visible(False)\n",
        "cax.patch.set_alpha(0)\n",
        "cax.set_frame_on(False)\n",
        "plt.colorbar(orientation='vertical')\n",
        "plt.show()"
      ],
      "execution_count": 75,
      "outputs": [
        {
          "output_type": "stream",
          "text": [
            "[('no skills',)]\n"
          ],
          "name": "stdout"
        },
        {
          "output_type": "display_data",
          "data": {
            "image/png": "[encoded data removed]",
            "text/plain": [
              "<Figure size 432x230.4 with 3 Axes>"
            ]
          },
          "metadata": {
            "tags": [],
            "needs_background": "light"
          }
        }
      ]
    },
    {
      "cell_type": "markdown",
      "metadata": {
        "id": "_1UAO1g3lELo",
        "colab_type": "text"
      },
      "source": [
        "Implementation of GAN "
      ]
    },
    {
      "cell_type": "code",
      "metadata": {
        "id": "dgsQdsiqlC9E",
        "colab_type": "code",
        "colab": {}
      },
      "source": [
        "!pip install -q imageio"
      ],
      "execution_count": null,
      "outputs": []
    },
    {
      "cell_type": "code",
      "metadata": {
        "id": "27spffKwmnaO",
        "colab_type": "code",
        "colab": {}
      },
      "source": [
        "import glob\n",
        "import imageio\n",
        "import matplotlib.pyplot as plt\n",
        "import numpy as np\n",
        "import os\n",
        "import PIL\n",
        "from tensorflow.keras import layers\n",
        "import time\n",
        "\n",
        "from IPython import display"
      ],
      "execution_count": 76,
      "outputs": []
    },
    {
      "cell_type": "code",
      "metadata": {
        "id": "mGCuBMQI7sX3",
        "colab_type": "code",
        "colab": {}
      },
      "source": [
        "def get_best_results(testresult,test_label2):  #for optimizing.\n",
        "  classnum={}\n",
        "  testnum={}\n",
        "  resultmat=[]\n",
        "  bestmat=[]\n",
        "  for i in range(len(testresult)):\n",
        "    best_result=[0 for i in range(13)]\n",
        "    class_num=np.count_nonzero(test_label2[i]==1)+1\n",
        "    classidx=(-testresult[i]).argsort()[:class_num]\n",
        "    for k,j in enumerate(classidx):\n",
        "      if (k==0):\n",
        "        best_result[j]=1\n",
        "    bestmat.append(best_result)\n",
        "  bestmat=np.array(bestmat)\n",
        "  bestidx=mlb.inverse_transform(bestmat)\n",
        "  return bestidx"
      ],
      "execution_count": 77,
      "outputs": []
    },
    {
      "cell_type": "code",
      "metadata": {
        "id": "V32sqv0MOOnI",
        "colab_type": "code",
        "colab": {
          "base_uri": "https://localhost:8080/",
          "height": 52
        },
        "outputId": "3ba7da55-4a48-4d7a-c5b1-3c7ae187619e"
      },
      "source": [
        "trainX=train_matrix.reshape((int(len(all_matrix)*0.85),24,Minimum_time))\n",
        "for i in tqdm(range(int(len(train_matrix)//1000)),position=0):\n",
        "  if(i==0):\n",
        "    test_result=classifier.predict(train_matrix[1000*i:1000+1000*i])\n",
        "  else:\n",
        "    sub_testresult=classifier.predict(train_matrix[1000*i:1000+1000*i])\n",
        "    test_result=np.concatenate((test_result,sub_testresult))\n",
        "sub_testresult=classifier.predict(train_matrix[1000*(i+1):])\n",
        "test_result=np.concatenate((test_result,sub_testresult))\n",
        "trainy=np.array(get_best_results(test_result,train_label2)).reshape((int(len(all_matrix)*0.85),))\n",
        "print('Train', trainX.shape, trainy.shape)"
      ],
      "execution_count": 78,
      "outputs": [
        {
          "output_type": "stream",
          "text": [
            "100%|██████████| 116/116 [00:06<00:00, 16.81it/s]\n"
          ],
          "name": "stderr"
        },
        {
          "output_type": "stream",
          "text": [
            "Train (116625, 24, 16) (116625,)\n"
          ],
          "name": "stdout"
        }
      ]
    },
    {
      "cell_type": "code",
      "metadata": {
        "id": "XCe1Clvjvz1-",
        "colab_type": "code",
        "colab": {
          "base_uri": "https://localhost:8080/",
          "height": 34
        },
        "outputId": "3c3c1b73-1515-48f5-cf0b-f14004b12b25"
      },
      "source": [
        "from sklearn.preprocessing import LabelEncoder\n",
        "# 라벨 인코더 생성\n",
        "encoder = LabelEncoder()\n",
        "\n",
        "# X_train데이터를 이용 피팅하고 라벨숫자로 변환한다\n",
        "encoder.fit(trainy)\n",
        "trainy = encoder.transform(trainy)\n",
        "print(trainy)\n",
        "trainy=np.array(trainy)"
      ],
      "execution_count": 79,
      "outputs": [
        {
          "output_type": "stream",
          "text": [
            "[ 7  7  7 ...  7 12  6]\n"
          ],
          "name": "stdout"
        }
      ]
    },
    {
      "cell_type": "code",
      "metadata": {
        "id": "OiRvfSRjmyEr",
        "colab_type": "code",
        "colab": {}
      },
      "source": [
        "import numpy as np\n",
        "import scipy as sp\n",
        "import scipy.ndimage\n",
        "def blur_image(matrix):\n",
        "  sigma_y = 0.5\n",
        "  sigma_x = 0.5\n",
        "  inputmat=matrix\n",
        "  \"\"\"\n",
        "  # Plot input array\n",
        "  plt.imshow(inputmat, cmap='Blues', interpolation='nearest')\n",
        "  plt.xlabel(\"$x$\")\n",
        "  plt.ylabel(\"$y$\")\n",
        "  plt.savefig(\"array.png\")\n",
        "  \"\"\"\n",
        "  # Apply gaussian filter\n",
        "  sigma = [sigma_y, sigma_x]\n",
        "  y = sp.ndimage.filters.gaussian_filter(inputmat, sigma, mode='constant')\n",
        "  \"\"\"\n",
        "  # Display filtered array\n",
        "  plt.imshow(y, cmap='Blues', interpolation='nearest')\n",
        "  plt.xlabel(\"$x$\")\n",
        "  plt.ylabel(\"$y$\")\n",
        "  plt.title(\"$\\sigma_x = \" + str(sigma_x) + \"\\quad \\sigma_y = \" + str(sigma_y) + \"$\")\n",
        "  plt.savefig(\"smooth_array_\" + str(sigma_x) + \"_\" + str(sigma_y) + \".png\")\n",
        "  \"\"\"\n",
        "  return y\n"
      ],
      "execution_count": 80,
      "outputs": []
    },
    {
      "cell_type": "code",
      "metadata": {
        "id": "FHYRcDkY4GgB",
        "colab_type": "code",
        "colab": {}
      },
      "source": [
        "blur_trainX=copy.deepcopy(trainX)\n",
        "for i,matrix in enumerate(trainX):\n",
        "  blur_trainX[i]=blur_image(matrix)\n",
        "trainX=blur_trainX"
      ],
      "execution_count": 81,
      "outputs": []
    },
    {
      "cell_type": "code",
      "metadata": {
        "id": "5zvs3DNh9EMk",
        "colab_type": "code",
        "colab": {
          "base_uri": "https://localhost:8080/",
          "height": 282
        },
        "outputId": "7bcc7fef-5eae-4e54-cf27-0fbe1b2c0149"
      },
      "source": [
        "plt.imshow(trainX[0])"
      ],
      "execution_count": 82,
      "outputs": [
        {
          "output_type": "execute_result",
          "data": {
            "text/plain": [
              "<matplotlib.image.AxesImage at 0x7f35a0b8cc18>"
            ]
          },
          "metadata": {
            "tags": []
          },
          "execution_count": 82
        },
        {
          "output_type": "display_data",
          "data": {
            "image/png": "[encoded data removed]",
            "text/plain": [
              "<Figure size 432x288 with 1 Axes>"
            ]
          },
          "metadata": {
            "tags": [],
            "needs_background": "light"
          }
        }
      ]
    },
    {
      "cell_type": "code",
      "metadata": {
        "id": "EJr2T_F3wHVK",
        "colab_type": "code",
        "colab": {}
      },
      "source": [
        "#These scripts refer to https://github.com/gaborvecsei/CDCGAN-Keras/tree/master/cdcgan.\n",
        "\n",
        "import matplotlib\n",
        "\n",
        "matplotlib.use('Agg')\n",
        "from keras import models, layers\n",
        "\n",
        "ACTIVATION = layers.Activation(\"tanh\")\n",
        "\n",
        "\n",
        "def generator_model(minimum_time):\n",
        "    # Prepare noise input\n",
        "    input_z = layers.Input((13,))\n",
        "    dense_z_1 = layers.Dense(1024)(input_z)\n",
        "    act_z_1 = ACTIVATION(dense_z_1)\n",
        "    dense_z_2 = layers.Dense(128 * 6 * int(minimum_time/4))(act_z_1)\n",
        "    bn_z_1 = layers.BatchNormalization()(dense_z_2)\n",
        "    reshape_z = layers.Reshape((6, int(minimum_time/4), 128), input_shape=(128 * 6 * int(minimum_time/4),))(bn_z_1)\n",
        "\n",
        "    # Prepare Conditional (label) input\n",
        "    input_c = layers.Input((13,))\n",
        "    dense_c_1 = layers.Dense(1024)(input_c)\n",
        "    act_c_1 = ACTIVATION(dense_c_1)\n",
        "    dense_c_2 = layers.Dense(128 * 6 * int(minimum_time/4))(act_c_1)\n",
        "    bn_c_1 = layers.BatchNormalization()(dense_c_2)\n",
        "    reshape_c = layers.Reshape((6, int(minimum_time/4), 128), input_shape=(128 * 6 * int(minimum_time/4),))(bn_c_1)\n",
        "\n",
        "    # Combine input source\n",
        "    concat_z_c = layers.Concatenate()([reshape_z, reshape_c])\n",
        "\n",
        "    # Image generation with the concatenated inputs\n",
        "    up_1 = layers.UpSampling2D(size=(2, 2))(concat_z_c)\n",
        "    conv_1 = layers.Conv2D(64, (5, 5), padding='same')(up_1)\n",
        "    act_1 = ACTIVATION(conv_1)\n",
        "    up_2 = layers.UpSampling2D(size=(2, 2))(act_1)\n",
        "    conv_2 = layers.Conv2D(1, (5, 5), padding='same')(up_2)\n",
        "    act_2 = layers.Activation(\"tanh\")(conv_2)\n",
        "    model = models.Model(inputs=[input_z, input_c], outputs=act_2)\n",
        "    return model\n",
        "\n",
        "\n",
        "def discriminator_model(minimum_time):\n",
        "    input_gen_image = layers.Input((24, minimum_time, 1))\n",
        "    conv_1_image = layers.Conv2D(64, (5, 5), padding='same')(input_gen_image)\n",
        "    act_1_image = ACTIVATION(conv_1_image)\n",
        "    pool_1_image = layers.MaxPooling2D(pool_size=(2, 2))(act_1_image)\n",
        "    conv_2_image = layers.Conv2D(128, (5, 5))(pool_1_image)\n",
        "    act_2_image = ACTIVATION(conv_2_image)\n",
        "    pool_2_image = layers.MaxPooling2D(pool_size=(2, 2))(act_2_image)\n",
        "\n",
        "    input_c = layers.Input((13,))\n",
        "    dense_1_c = layers.Dense(1024)(input_c)\n",
        "    act_1_c = ACTIVATION(dense_1_c)\n",
        "    dense_2_c = layers.Dense(4 * int(minimum_time/4-2) * 128)(act_1_c)\n",
        "    bn_c = layers.BatchNormalization()(dense_2_c)\n",
        "    reshaped_c = layers.Reshape((4, int(minimum_time/4-2), 128))(bn_c)\n",
        "\n",
        "    concat = layers.Concatenate()([pool_2_image, reshaped_c])\n",
        "\n",
        "    flat = layers.Flatten()(concat)\n",
        "    dense_1 = layers.Dense(1024)(flat)\n",
        "    act_1 = ACTIVATION(dense_1)\n",
        "    dense_2 = layers.Dense(1)(act_1)\n",
        "    act_2 = layers.Activation('sigmoid')(dense_2)\n",
        "    model = models.Model(inputs=[input_gen_image, input_c], outputs=act_2)\n",
        "    return model\n",
        "\n",
        "\n",
        "def generator_containing_discriminator(g, d):\n",
        "    input_z = layers.Input((13,))\n",
        "    input_c = layers.Input((13,))\n",
        "    gen_image = g([input_z, input_c])\n",
        "    d.trainable = False\n",
        "    is_real = d([gen_image, input_c])\n",
        "    model = models.Model(inputs=[input_z, input_c], outputs=is_real)\n",
        "    return model"
      ],
      "execution_count": 91,
      "outputs": []
    },
    {
      "cell_type": "code",
      "metadata": {
        "id": "XNHFwwLpm85B",
        "colab_type": "code",
        "colab": {}
      },
      "source": [
        "import math\n",
        "import os\n",
        "import subprocess\n",
        "\n",
        "import cv2\n",
        "import matplotlib\n",
        "\n",
        "matplotlib.use('Agg')\n",
        "import matplotlib.pyplot as plt\n",
        "import numpy as np\n",
        "\n",
        "\n",
        "def combine_images(generated_images):\n",
        "    num_images = generated_images.shape[0]\n",
        "    new_width = int(math.sqrt(num_images))\n",
        "    new_height = int(math.ceil(float(num_images) / new_width))\n",
        "    grid_shape = generated_images.shape[1:3]\n",
        "    grid_image = np.zeros((new_height * grid_shape[0], new_width * grid_shape[1]), dtype=generated_images.dtype)\n",
        "    for index, img in enumerate(generated_images):\n",
        "        i = int(index / new_width)\n",
        "        j = index % new_width\n",
        "        grid_image[i * grid_shape[0]:(i + 1) * grid_shape[0], j * grid_shape[1]:(j + 1) * grid_shape[1]] = \\\n",
        "            img[:, :, 0]\n",
        "    return grid_image\n",
        "\n",
        "\n",
        "def generate_noise(shape: tuple):\n",
        "    noise = np.random.uniform(0, 1, size=shape)\n",
        "    return noise\n",
        "\n",
        "\n",
        "def generate_condition_embedding(label: int, nb_of_label_embeddings: int):\n",
        "    label_embeddings = np.zeros((nb_of_label_embeddings, 13))\n",
        "    label_embeddings[:, label] = 1\n",
        "    return label_embeddings\n",
        "\n",
        "\n",
        "def generate_images(generator, nb_images: int, label: int):\n",
        "    noise = generate_noise((nb_images, 13))\n",
        "    label_batch = generate_condition_embedding(label, nb_images)\n",
        "    generated_images = generator.predict([noise, label_batch], verbose=0)\n",
        "    return generated_images\n",
        "\n",
        "\n",
        "def generate_mnist_image_grid(generator, title: str = \"Generated images\"):\n",
        "    generated_images = []\n",
        "\n",
        "    for i in range(10):\n",
        "        noise = generate_noise((10, 13))\n",
        "        label_input = generate_condition_embedding(i, 10)\n",
        "        gen_images = generator.predict([noise, label_input], verbose=0)\n",
        "        generated_images.extend(gen_images)\n",
        "\n",
        "    generated_images = np.array(generated_images)\n",
        "    image_grid = combine_images(generated_images)\n",
        "    image_grid = inverse_transform_images(image_grid)\n",
        "\n",
        "    fig = plt.figure()\n",
        "    ax = fig.add_subplot(1, 1, 1)\n",
        "    ax.axis(\"off\")\n",
        "    ax.imshow(image_grid, cmap=\"gray\")\n",
        "    ax.set_title(title)\n",
        "    fig.canvas.draw()\n",
        "\n",
        "    image = np.fromstring(fig.canvas.tostring_rgb(), dtype=np.uint8, sep='')\n",
        "    image = image.reshape(fig.canvas.get_width_height()[::-1] + (3,))\n",
        "\n",
        "    plt.close()\n",
        "\n",
        "    return image\n",
        "\n",
        "\n",
        "def save_generated_image(image, epoch, iteration, folder_path):\n",
        "    if not os.path.isdir(folder_path):\n",
        "        os.makedirs(folder_path)\n",
        "\n",
        "    file_path = \"{0}/{1}_{2}.png\".format(folder_path, epoch, iteration)\n",
        "    cv2.imwrite(file_path, image.astype(np.uint8))\n",
        "\n",
        "\n",
        "def transform_images(images: np.ndarray):\n",
        "    \"\"\"\n",
        "    [0,1]Transform images to [-1, 1]\n",
        "    \"\"\"\n",
        "    max_value=images.max()\n",
        "\n",
        "    images = (images.astype(np.float32) - (max_value/2)) / (max_value/2)\n",
        "    return images\n",
        "\n",
        "\n",
        "def inverse_transform_images(images: np.ndarray):\n",
        "    \"\"\"\n",
        "    From the [-1, 1] range transform the images back to [0, 255]\n",
        "    \"\"\"\n",
        "\n",
        "    images = images * 127.5 + 127.5\n",
        "    images = images.astype(np.uint8)\n",
        "    return images\n",
        "\n",
        "\n",
        "def convert_video_to_gif(input_video_path, output_gif_path, fps=24):\n",
        "    palette_image_path = \"palette.png\"\n",
        "    command_palette = 'ffmpeg -y -t 0 -i {0} -vf fps={1},scale=320:-1:flags=lanczos,palettegen {2}'.format(input_video_path,\n",
        "                                                                                                           fps,\n",
        "                                                                                                           palette_image_path)\n",
        "    command_convert = 'ffmpeg -y -t 0 -i {0} -i {1} -filter_complex \"fps={2},scale=320:-1:flags=lanczos[x];[x][1:v]paletteuse\" {3}'.format(input_video_path,palette_image_path, fps, output_gif_path)\n",
        "    \n",
        "    try:\n",
        "        subprocess.check_call(command_palette)\n",
        "        subprocess.check_call(command_convert)\n",
        "    except subprocess.CalledProcessError as exc:\n",
        "        print(exc.output)\n",
        "        raise\n",
        "    finally:\n",
        "        os.remove(palette_image_path)"
      ],
      "execution_count": 89,
      "outputs": []
    },
    {
      "cell_type": "code",
      "metadata": {
        "id": "1xqJAsQDYM2D",
        "colab_type": "code",
        "colab": {
          "base_uri": "https://localhost:8080/",
          "height": 333
        },
        "outputId": "f30ab753-926b-4bae-8b76-c6dd6d792dea"
      },
      "source": [
        "pip install git+https://github.com/gaborvecsei/Swiss-Army-Tensorboard.git"
      ],
      "execution_count": 85,
      "outputs": [
        {
          "output_type": "stream",
          "text": [
            "Collecting git+https://github.com/gaborvecsei/Swiss-Army-Tensorboard.git\n",
            "  Cloning https://github.com/gaborvecsei/Swiss-Army-Tensorboard.git to /tmp/pip-req-build-907do1c_\n",
            "  Running command git clone -q https://github.com/gaborvecsei/Swiss-Army-Tensorboard.git /tmp/pip-req-build-907do1c_\n",
            "Requirement already satisfied: numpy>=1.16.1 in /usr/local/lib/python3.6/dist-packages (from swiss-army-tensorboard==0.0.1) (1.18.5)\n",
            "Requirement already satisfied: matplotlib>=3.1 in /usr/local/lib/python3.6/dist-packages (from swiss-army-tensorboard==0.0.1) (3.2.2)\n",
            "Requirement already satisfied: kiwisolver>=1.0.1 in /usr/local/lib/python3.6/dist-packages (from matplotlib>=3.1->swiss-army-tensorboard==0.0.1) (1.2.0)\n",
            "Requirement already satisfied: pyparsing!=2.0.4,!=2.1.2,!=2.1.6,>=2.0.1 in /usr/local/lib/python3.6/dist-packages (from matplotlib>=3.1->swiss-army-tensorboard==0.0.1) (2.4.7)\n",
            "Requirement already satisfied: cycler>=0.10 in /usr/local/lib/python3.6/dist-packages (from matplotlib>=3.1->swiss-army-tensorboard==0.0.1) (0.10.0)\n",
            "Requirement already satisfied: python-dateutil>=2.1 in /usr/local/lib/python3.6/dist-packages (from matplotlib>=3.1->swiss-army-tensorboard==0.0.1) (2.8.1)\n",
            "Requirement already satisfied: six in /usr/local/lib/python3.6/dist-packages (from cycler>=0.10->matplotlib>=3.1->swiss-army-tensorboard==0.0.1) (1.15.0)\n",
            "Building wheels for collected packages: swiss-army-tensorboard\n",
            "  Building wheel for swiss-army-tensorboard (setup.py) ... \u001b[?25l\u001b[?25hdone\n",
            "  Created wheel for swiss-army-tensorboard: filename=swiss_army_tensorboard-0.0.1-cp36-none-any.whl size=5376 sha256=9cca0d54f94587df3e1c673cb1dd4e7513247e31de4d5126c649a72dac797a24\n",
            "  Stored in directory: /tmp/pip-ephem-wheel-cache-2488_nfv/wheels/ea/f7/db/67f8661f9c334ad8eda2d0dfbc21bcaea99f739c97f6008d41\n",
            "Successfully built swiss-army-tensorboard\n",
            "Installing collected packages: swiss-army-tensorboard\n",
            "Successfully installed swiss-army-tensorboard-0.0.1\n"
          ],
          "name": "stdout"
        }
      ]
    },
    {
      "cell_type": "code",
      "metadata": {
        "id": "kJjHn-Nngy8P",
        "colab_type": "code",
        "colab": {}
      },
      "source": [
        "import matplotlib\n",
        "\n",
        "matplotlib.use('Agg')\n",
        "import numpy as np\n",
        "from keras import backend as K\n",
        "from keras import utils as keras_utils\n",
        "from keras import optimizers\n",
        "from keras import datasets\n",
        "from swiss_army_tensorboard import tfboard_loggers\n",
        "from tqdm import tqdm\n",
        "\n",
        "BATCH_SIZE = 256\n",
        "EPOCHS = 75\n",
        "\n",
        "# Load & Prepare MNIST\n",
        "\n",
        "X_train=trainX\n",
        "y_train=trainy\n",
        "X_train = transform_images(X_train)\n",
        "X_train = X_train[:, :, :, None]\n",
        "\n",
        "y_train = keras_utils.to_categorical(y_train, 13)\n",
        "\n",
        "# Create the models\n",
        "\n",
        "G = generator_model(Minimum_time)\n",
        "D = discriminator_model(Minimum_time)\n",
        "\n",
        "GD = generator_containing_discriminator(G, D)\n",
        "\n",
        "optimizer = optimizers.Adam(0.0002, 0.5)\n",
        "\n",
        "G.compile(loss='binary_crossentropy', optimizer=optimizer)\n",
        "GD.compile(loss='binary_crossentropy', optimizer=optimizer)\n",
        "D.trainable = True\n",
        "D.compile(loss='binary_crossentropy', optimizer=optimizer)\n"
      ],
      "execution_count": 92,
      "outputs": []
    },
    {
      "cell_type": "code",
      "metadata": {
        "id": "xiSLW8ipuBhP",
        "colab_type": "code",
        "colab": {}
      },
      "source": [
        "G.load_weights(\"/content/drive/My Drive/MARG/PPDDlist/GAN_result/generator.h5\")\n",
        "D.load_weights(\"/content/drive/My Drive/MARG/PPDDlist/GAN_result/discriminator.h5\")"
      ],
      "execution_count": null,
      "outputs": []
    },
    {
      "cell_type": "code",
      "metadata": {
        "id": "CX3bvlrduAKR",
        "colab_type": "code",
        "colab": {
          "base_uri": "https://localhost:8080/",
          "height": 1000
        },
        "outputId": "2974d6b1-52fa-430b-cf7a-179cc1f1366e"
      },
      "source": [
        "from tensorflow import keras\n",
        "# Setup Tensorboard loggers\n",
        "\n",
        "tfboard_loggers.TFBoardModelGraphLogger.log_graph(\"/content/drive/My Drive/MARG/PPDDlist/GAN_result/logs\", K.get_session())\n",
        "loss_logger = tfboard_loggers.TFBoardScalarLogger(\"/content/drive/My Drive/MARG/PPDDlist/GAN_result/logs/loss\")\n",
        "image_logger = tfboard_loggers.TFBoardImageLogger(\"/content/drive/My Drive/MARG/PPDDlist/GAN_result/logs/generated_images\")\n",
        "\n",
        "# Model Training\n",
        "\n",
        "iteration = 0\n",
        "dist_val=0.8\n",
        "nb_of_iterations_per_epoch = int(X_train.shape[0] / BATCH_SIZE)\n",
        "print(\"Number of iterations per epoch: {0}\".format(nb_of_iterations_per_epoch))\n",
        "\n",
        "for epoch in range(EPOCHS):\n",
        "    pbar = tqdm(desc=\"Epoch: {0}\".format(epoch), total=X_train.shape[0],position=0)\n",
        "\n",
        "    g_losses_for_epoch = []\n",
        "    d_losses_for_epoch = []\n",
        "\n",
        "    for i in range(nb_of_iterations_per_epoch):\n",
        "        noise = generate_noise((BATCH_SIZE, 13))\n",
        "\n",
        "        image_batch = X_train[i * BATCH_SIZE:(i + 1) * BATCH_SIZE]\n",
        "        label_batch = y_train[i * BATCH_SIZE:(i + 1) * BATCH_SIZE]\n",
        "\n",
        "        generated_images = G.predict([noise, label_batch], verbose=0)\n",
        "        X = np.concatenate((image_batch, generated_images))\n",
        "        y = [1] * BATCH_SIZE + [0] * BATCH_SIZE\n",
        "        label_batches_for_discriminator = np.concatenate((label_batch, label_batch))\n",
        "        \n",
        "        if(np.random.random()<dist_val):\n",
        "            D_loss = D.train_on_batch([X, label_batches_for_discriminator], y)\n",
        "            d_losses_for_epoch.append(D_loss)\n",
        "            loss_logger.log_scalar(\"discriminator_loss\", D_loss, iteration)\n",
        "\n",
        "        noise = generate_noise((BATCH_SIZE, 13))\n",
        "        D.trainable = False\n",
        "        G_loss = GD.train_on_batch([noise, label_batch], [1] * BATCH_SIZE)\n",
        "        D.trainable = True\n",
        "        g_losses_for_epoch.append(G_loss)\n",
        "        loss_logger.log_scalar(\"generator_loss\", G_loss, iteration)\n",
        "\n",
        "        pbar.update(BATCH_SIZE)\n",
        "\n",
        "        iteration += 1\n",
        "        \n",
        "    # Save a generated image for every epoch\n",
        "    image_grid = generate_mnist_image_grid(G, title=\"Epoch {0}\".format(epoch))\n",
        "    save_generated_image(image_grid, epoch, 0, \"/content/drive/My Drive/MARG/PPDDlist/GAN_result/generated_mnist_images_per_epoch\")\n",
        "    image_logger.log_images(\"/content/drive/My Drive/MARG/PPDDlist/GAN_result/generated_mnist_images_per_epoch\", [image_grid], epoch)\n",
        "\n",
        "    pbar.close()\n",
        "    print(\"D loss: {0}, G loss: {1}\".format(np.mean(d_losses_for_epoch), np.mean(g_losses_for_epoch)))\n",
        "    if(np.mean(g_losses_for_epoch)>1):\n",
        "      dist_val=0.8\n",
        "    else:\n",
        "      dist_val=0.4\n",
        "\n",
        "\n",
        "    G.save_weights(\"/content/drive/My Drive/MARG/PPDDlist/GAN_result/generator.h5\")\n",
        "    D.save_weights(\"/content/drive/My Drive/MARG/PPDDlist/GAN_result/discriminator.h5\")"
      ],
      "execution_count": 93,
      "outputs": [
        {
          "output_type": "stream",
          "text": [
            "WARNING:tensorflow:From /usr/local/lib/python3.6/dist-packages/swiss_army_tensorboard/tfboard_loggers/tfboard_loggers.py:32: The name tf.summary.FileWriter is deprecated. Please use tf.compat.v1.summary.FileWriter instead.\n",
            "\n"
          ],
          "name": "stdout"
        },
        {
          "output_type": "stream",
          "text": [
            "/usr/local/lib/python3.6/dist-packages/swiss_army_tensorboard/tfboard_loggers/tfboard_loggers.py:19: UserWarning: Folder /content/drive/My Drive/MARG/PPDDlist/GAN_result/logs/loss is already created, maybe it contains other log files\n",
            "  warnings.warn(\"Folder {0} is already created, maybe it contains other log files\".format(log_dir))\n",
            "/usr/local/lib/python3.6/dist-packages/swiss_army_tensorboard/tfboard_loggers/tfboard_loggers.py:19: UserWarning: Folder /content/drive/My Drive/MARG/PPDDlist/GAN_result/logs/generated_images is already created, maybe it contains other log files\n",
            "  warnings.warn(\"Folder {0} is already created, maybe it contains other log files\".format(log_dir))\n",
            "\rEpoch: 0:   0%|          | 0/116625 [00:00<?, ?it/s]"
          ],
          "name": "stderr"
        },
        {
          "output_type": "stream",
          "text": [
            "Number of iterations per epoch: 455\n",
            "WARNING:tensorflow:From /usr/local/lib/python3.6/dist-packages/keras/backend/tensorflow_backend.py:422: The name tf.global_variables is deprecated. Please use tf.compat.v1.global_variables instead.\n",
            "\n",
            "WARNING:tensorflow:From /usr/local/lib/python3.6/dist-packages/swiss_army_tensorboard/tfboard_loggers/tfboard_loggers.py:72: The name tf.Summary is deprecated. Please use tf.compat.v1.Summary instead.\n",
            "\n"
          ],
          "name": "stdout"
        },
        {
          "output_type": "stream",
          "text": [
            "Epoch: 0: 100%|█████████▉| 116224/116625 [00:20<00:00, 7298.16it/s]/usr/local/lib/python3.6/dist-packages/ipykernel_launcher.py:64: DeprecationWarning: The binary mode of fromstring is deprecated, as it behaves surprisingly on unicode inputs. Use frombuffer instead\n",
            "Epoch: 0: 100%|█████████▉| 116480/116625 [00:30<00:00, 3827.86it/s]\n"
          ],
          "name": "stderr"
        },
        {
          "output_type": "stream",
          "text": [
            "D loss: 0.33786195516586304, G loss: 0.8356335163116455\n"
          ],
          "name": "stdout"
        },
        {
          "output_type": "stream",
          "text": [
            "Epoch: 1: 100%|█████████▉| 116480/116625 [00:15<00:00, 7395.67it/s]\n"
          ],
          "name": "stderr"
        },
        {
          "output_type": "stream",
          "text": [
            "D loss: 0.6987853050231934, G loss: 0.6996198296546936\n"
          ],
          "name": "stdout"
        },
        {
          "output_type": "stream",
          "text": [
            "Epoch: 2: 100%|█████████▉| 116480/116625 [00:14<00:00, 7883.88it/s]\n"
          ],
          "name": "stderr"
        },
        {
          "output_type": "stream",
          "text": [
            "D loss: 0.6935383677482605, G loss: 0.7070029973983765\n"
          ],
          "name": "stdout"
        },
        {
          "output_type": "stream",
          "text": [
            "Epoch: 3: 100%|█████████▉| 116480/116625 [00:14<00:00, 7868.28it/s]\n"
          ],
          "name": "stderr"
        },
        {
          "output_type": "stream",
          "text": [
            "D loss: 0.6930190324783325, G loss: 0.709044337272644\n"
          ],
          "name": "stdout"
        },
        {
          "output_type": "stream",
          "text": [
            "Epoch: 4: 100%|█████████▉| 116480/116625 [00:14<00:00, 7951.07it/s]\n"
          ],
          "name": "stderr"
        },
        {
          "output_type": "stream",
          "text": [
            "D loss: 0.6927059888839722, G loss: 0.710397481918335\n"
          ],
          "name": "stdout"
        },
        {
          "output_type": "stream",
          "text": [
            "Epoch: 5: 100%|█████████▉| 116480/116625 [00:15<00:00, 7746.87it/s]\n"
          ],
          "name": "stderr"
        },
        {
          "output_type": "stream",
          "text": [
            "D loss: 0.6927472949028015, G loss: 0.7168907523155212\n"
          ],
          "name": "stdout"
        },
        {
          "output_type": "stream",
          "text": [
            "Epoch: 6: 100%|█████████▉| 116480/116625 [00:34<00:00, 3331.04it/s]\n"
          ],
          "name": "stderr"
        },
        {
          "output_type": "stream",
          "text": [
            "D loss: 0.6913211345672607, G loss: 0.7197620868682861\n"
          ],
          "name": "stdout"
        },
        {
          "output_type": "stream",
          "text": [
            "Epoch: 7: 100%|█████████▉| 116480/116625 [00:14<00:00, 7807.73it/s]\n"
          ],
          "name": "stderr"
        },
        {
          "output_type": "stream",
          "text": [
            "D loss: 0.6901997327804565, G loss: 0.7124283909797668\n"
          ],
          "name": "stdout"
        },
        {
          "output_type": "stream",
          "text": [
            "Epoch: 8: 100%|█████████▉| 116480/116625 [00:15<00:00, 7472.32it/s]\n"
          ],
          "name": "stderr"
        },
        {
          "output_type": "stream",
          "text": [
            "D loss: 0.6920886635780334, G loss: 0.7284135222434998\n"
          ],
          "name": "stdout"
        },
        {
          "output_type": "stream",
          "text": [
            "Epoch: 9: 100%|█████████▉| 116480/116625 [00:14<00:00, 7820.00it/s]\n"
          ],
          "name": "stderr"
        },
        {
          "output_type": "stream",
          "text": [
            "D loss: 0.6890309453010559, G loss: 0.7196526527404785\n"
          ],
          "name": "stdout"
        },
        {
          "output_type": "stream",
          "text": [
            "Epoch: 10: 100%|█████████▉| 116480/116625 [00:14<00:00, 7870.22it/s]\n"
          ],
          "name": "stderr"
        },
        {
          "output_type": "stream",
          "text": [
            "D loss: 0.6922711133956909, G loss: 0.7202267646789551\n"
          ],
          "name": "stdout"
        },
        {
          "output_type": "stream",
          "text": [
            "Epoch: 11: 100%|█████████▉| 116480/116625 [00:14<00:00, 7864.81it/s]\n"
          ],
          "name": "stderr"
        },
        {
          "output_type": "stream",
          "text": [
            "D loss: 0.689507782459259, G loss: 0.7338545322418213\n"
          ],
          "name": "stdout"
        },
        {
          "output_type": "stream",
          "text": [
            "Epoch: 12: 100%|█████████▉| 116480/116625 [00:14<00:00, 7882.97it/s]\n"
          ],
          "name": "stderr"
        },
        {
          "output_type": "stream",
          "text": [
            "D loss: 0.6897875666618347, G loss: 0.7240808010101318\n"
          ],
          "name": "stdout"
        },
        {
          "output_type": "stream",
          "text": [
            "Epoch: 13: 100%|█████████▉| 116480/116625 [00:14<00:00, 8023.30it/s]\n"
          ],
          "name": "stderr"
        },
        {
          "output_type": "stream",
          "text": [
            "D loss: 0.6860296130180359, G loss: 0.7371026873588562\n"
          ],
          "name": "stdout"
        },
        {
          "output_type": "stream",
          "text": [
            "Epoch: 14: 100%|█████████▉| 116480/116625 [00:14<00:00, 7940.25it/s]\n"
          ],
          "name": "stderr"
        },
        {
          "output_type": "stream",
          "text": [
            "D loss: 0.6856645941734314, G loss: 0.7410410046577454\n"
          ],
          "name": "stdout"
        },
        {
          "output_type": "stream",
          "text": [
            "Epoch: 15: 100%|█████████▉| 116480/116625 [00:14<00:00, 7767.56it/s]\n"
          ],
          "name": "stderr"
        },
        {
          "output_type": "stream",
          "text": [
            "D loss: 0.6852564215660095, G loss: 0.7462568879127502\n"
          ],
          "name": "stdout"
        },
        {
          "output_type": "stream",
          "text": [
            "Epoch: 16: 100%|█████████▉| 116480/116625 [00:14<00:00, 7794.13it/s]\n"
          ],
          "name": "stderr"
        },
        {
          "output_type": "stream",
          "text": [
            "D loss: 0.6750893592834473, G loss: 0.7777642011642456\n"
          ],
          "name": "stdout"
        },
        {
          "output_type": "stream",
          "text": [
            "Epoch: 17: 100%|█████████▉| 116480/116625 [00:15<00:00, 7405.37it/s]\n"
          ],
          "name": "stderr"
        },
        {
          "output_type": "stream",
          "text": [
            "D loss: 0.6725698709487915, G loss: 0.7703595757484436\n"
          ],
          "name": "stdout"
        },
        {
          "output_type": "stream",
          "text": [
            "Epoch: 18: 100%|█████████▉| 116480/116625 [00:14<00:00, 7813.69it/s]\n"
          ],
          "name": "stderr"
        },
        {
          "output_type": "stream",
          "text": [
            "D loss: 0.6627002954483032, G loss: 0.797021210193634\n"
          ],
          "name": "stdout"
        },
        {
          "output_type": "stream",
          "text": [
            "Epoch: 19: 100%|█████████▉| 116480/116625 [00:14<00:00, 7947.71it/s]\n"
          ],
          "name": "stderr"
        },
        {
          "output_type": "stream",
          "text": [
            "D loss: 0.6188054084777832, G loss: 0.8102720379829407\n"
          ],
          "name": "stdout"
        },
        {
          "output_type": "stream",
          "text": [
            "Epoch: 20: 100%|█████████▉| 116480/116625 [00:14<00:00, 7940.41it/s]\n"
          ],
          "name": "stderr"
        },
        {
          "output_type": "stream",
          "text": [
            "D loss: 0.48367395997047424, G loss: 0.5754273533821106\n"
          ],
          "name": "stdout"
        },
        {
          "output_type": "stream",
          "text": [
            "Epoch: 21: 100%|█████████▉| 116480/116625 [00:15<00:00, 7706.42it/s]\n"
          ],
          "name": "stderr"
        },
        {
          "output_type": "stream",
          "text": [
            "D loss: 0.36745184659957886, G loss: 0.6401950716972351\n"
          ],
          "name": "stdout"
        },
        {
          "output_type": "stream",
          "text": [
            "Epoch: 22: 100%|█████████▉| 116480/116625 [00:14<00:00, 7842.93it/s]\n"
          ],
          "name": "stderr"
        },
        {
          "output_type": "stream",
          "text": [
            "D loss: 0.2673564553260803, G loss: 0.37718459963798523\n"
          ],
          "name": "stdout"
        },
        {
          "output_type": "stream",
          "text": [
            "Epoch: 23: 100%|█████████▉| 116480/116625 [00:14<00:00, 7809.72it/s]\n"
          ],
          "name": "stderr"
        },
        {
          "output_type": "stream",
          "text": [
            "D loss: 0.4692980647087097, G loss: 0.8085348606109619\n"
          ],
          "name": "stdout"
        },
        {
          "output_type": "stream",
          "text": [
            "Epoch: 24: 100%|█████████▉| 116480/116625 [00:15<00:00, 7763.51it/s]\n"
          ],
          "name": "stderr"
        },
        {
          "output_type": "stream",
          "text": [
            "D loss: 0.4524623155593872, G loss: 0.8407853245735168\n"
          ],
          "name": "stdout"
        },
        {
          "output_type": "stream",
          "text": [
            "Epoch: 25: 100%|█████████▉| 116480/116625 [00:14<00:00, 7781.54it/s]\n"
          ],
          "name": "stderr"
        },
        {
          "output_type": "stream",
          "text": [
            "D loss: 0.5589951276779175, G loss: 1.0612555742263794\n"
          ],
          "name": "stdout"
        },
        {
          "output_type": "stream",
          "text": [
            "Epoch: 26: 100%|█████████▉| 116480/116625 [00:16<00:00, 7080.46it/s]\n"
          ],
          "name": "stderr"
        },
        {
          "output_type": "stream",
          "text": [
            "D loss: 0.41741445660591125, G loss: 1.2179285287857056\n"
          ],
          "name": "stdout"
        },
        {
          "output_type": "stream",
          "text": [
            "Epoch: 27: 100%|█████████▉| 116480/116625 [00:16<00:00, 7112.44it/s]\n"
          ],
          "name": "stderr"
        },
        {
          "output_type": "stream",
          "text": [
            "D loss: 0.3564477562904358, G loss: 1.343332290649414\n"
          ],
          "name": "stdout"
        },
        {
          "output_type": "stream",
          "text": [
            "Epoch: 28: 100%|█████████▉| 116480/116625 [00:16<00:00, 7220.68it/s]\n"
          ],
          "name": "stderr"
        },
        {
          "output_type": "stream",
          "text": [
            "D loss: 0.37599799036979675, G loss: 1.446365475654602\n"
          ],
          "name": "stdout"
        },
        {
          "output_type": "stream",
          "text": [
            "Epoch: 29: 100%|█████████▉| 116480/116625 [00:16<00:00, 7185.07it/s]\n"
          ],
          "name": "stderr"
        },
        {
          "output_type": "stream",
          "text": [
            "D loss: 0.29645174741744995, G loss: 1.2950735092163086\n"
          ],
          "name": "stdout"
        },
        {
          "output_type": "stream",
          "text": [
            "Epoch: 30: 100%|█████████▉| 116480/116625 [00:16<00:00, 7016.46it/s]\n"
          ],
          "name": "stderr"
        },
        {
          "output_type": "stream",
          "text": [
            "D loss: 0.2947840690612793, G loss: 1.2906016111373901\n"
          ],
          "name": "stdout"
        },
        {
          "output_type": "stream",
          "text": [
            "Epoch: 31: 100%|█████████▉| 116480/116625 [00:16<00:00, 7117.44it/s]\n"
          ],
          "name": "stderr"
        },
        {
          "output_type": "stream",
          "text": [
            "D loss: 0.30328261852264404, G loss: 1.3218700885772705\n"
          ],
          "name": "stdout"
        },
        {
          "output_type": "stream",
          "text": [
            "Epoch: 32: 100%|█████████▉| 116480/116625 [00:16<00:00, 6946.00it/s]\n"
          ],
          "name": "stderr"
        },
        {
          "output_type": "stream",
          "text": [
            "D loss: 0.3373446464538574, G loss: 1.8207913637161255\n"
          ],
          "name": "stdout"
        },
        {
          "output_type": "stream",
          "text": [
            "Epoch: 33: 100%|█████████▉| 116480/116625 [00:16<00:00, 6913.86it/s]\n"
          ],
          "name": "stderr"
        },
        {
          "output_type": "stream",
          "text": [
            "D loss: 0.3124873638153076, G loss: 1.8727086782455444\n"
          ],
          "name": "stdout"
        },
        {
          "output_type": "stream",
          "text": [
            "Epoch: 34: 100%|█████████▉| 116480/116625 [00:16<00:00, 6986.44it/s]\n"
          ],
          "name": "stderr"
        },
        {
          "output_type": "stream",
          "text": [
            "D loss: 0.2253037542104721, G loss: 1.2436723709106445\n"
          ],
          "name": "stdout"
        },
        {
          "output_type": "stream",
          "text": [
            "Epoch: 35: 100%|█████████▉| 116480/116625 [00:16<00:00, 7072.71it/s]\n"
          ],
          "name": "stderr"
        },
        {
          "output_type": "stream",
          "text": [
            "D loss: 0.2873673737049103, G loss: 2.021120071411133\n"
          ],
          "name": "stdout"
        },
        {
          "output_type": "stream",
          "text": [
            "Epoch: 36: 100%|█████████▉| 116480/116625 [00:16<00:00, 7078.41it/s]\n"
          ],
          "name": "stderr"
        },
        {
          "output_type": "stream",
          "text": [
            "D loss: 0.24611039459705353, G loss: 1.696873664855957\n"
          ],
          "name": "stdout"
        },
        {
          "output_type": "stream",
          "text": [
            "Epoch: 37: 100%|█████████▉| 116480/116625 [00:16<00:00, 7047.66it/s]\n"
          ],
          "name": "stderr"
        },
        {
          "output_type": "stream",
          "text": [
            "D loss: 0.23932498693466187, G loss: 2.054548501968384\n"
          ],
          "name": "stdout"
        },
        {
          "output_type": "stream",
          "text": [
            "Epoch: 38: 100%|█████████▉| 116480/116625 [00:16<00:00, 7151.63it/s]\n"
          ],
          "name": "stderr"
        },
        {
          "output_type": "stream",
          "text": [
            "D loss: 0.24635326862335205, G loss: 2.087923526763916\n"
          ],
          "name": "stdout"
        },
        {
          "output_type": "stream",
          "text": [
            "Epoch: 39: 100%|█████████▉| 116480/116625 [00:16<00:00, 7161.07it/s]\n"
          ],
          "name": "stderr"
        },
        {
          "output_type": "stream",
          "text": [
            "D loss: 0.2297748625278473, G loss: 2.353471517562866\n"
          ],
          "name": "stdout"
        },
        {
          "output_type": "stream",
          "text": [
            "Epoch: 40: 100%|█████████▉| 116480/116625 [00:16<00:00, 7125.85it/s]\n"
          ],
          "name": "stderr"
        },
        {
          "output_type": "stream",
          "text": [
            "D loss: 0.20039008557796478, G loss: 2.3785150051116943\n"
          ],
          "name": "stdout"
        },
        {
          "output_type": "stream",
          "text": [
            "Epoch: 41: 100%|█████████▉| 116480/116625 [00:16<00:00, 7108.43it/s]\n"
          ],
          "name": "stderr"
        },
        {
          "output_type": "stream",
          "text": [
            "D loss: 0.223297581076622, G loss: 2.4327192306518555\n"
          ],
          "name": "stdout"
        },
        {
          "output_type": "stream",
          "text": [
            "Epoch: 42: 100%|█████████▉| 116480/116625 [00:16<00:00, 7167.46it/s]\n"
          ],
          "name": "stderr"
        },
        {
          "output_type": "stream",
          "text": [
            "D loss: 0.2048872411251068, G loss: 2.5778961181640625\n"
          ],
          "name": "stdout"
        },
        {
          "output_type": "stream",
          "text": [
            "Epoch: 43: 100%|█████████▉| 116480/116625 [00:16<00:00, 7230.98it/s]\n"
          ],
          "name": "stderr"
        },
        {
          "output_type": "stream",
          "text": [
            "D loss: 0.22138148546218872, G loss: 2.626657009124756\n"
          ],
          "name": "stdout"
        },
        {
          "output_type": "stream",
          "text": [
            "Epoch: 44: 100%|█████████▉| 116480/116625 [00:16<00:00, 7230.19it/s]\n"
          ],
          "name": "stderr"
        },
        {
          "output_type": "stream",
          "text": [
            "D loss: 0.23158028721809387, G loss: 2.5656328201293945\n"
          ],
          "name": "stdout"
        },
        {
          "output_type": "stream",
          "text": [
            "Epoch: 45: 100%|█████████▉| 116480/116625 [00:16<00:00, 7210.62it/s]\n"
          ],
          "name": "stderr"
        },
        {
          "output_type": "stream",
          "text": [
            "D loss: 0.18861111998558044, G loss: 2.6182961463928223\n"
          ],
          "name": "stdout"
        },
        {
          "output_type": "stream",
          "text": [
            "Epoch: 46: 100%|█████████▉| 116480/116625 [00:16<00:00, 7265.00it/s]\n"
          ],
          "name": "stderr"
        },
        {
          "output_type": "stream",
          "text": [
            "D loss: 0.19435076415538788, G loss: 2.6293697357177734\n"
          ],
          "name": "stdout"
        },
        {
          "output_type": "stream",
          "text": [
            "Epoch: 47: 100%|█████████▉| 116480/116625 [00:16<00:00, 7091.02it/s]\n"
          ],
          "name": "stderr"
        },
        {
          "output_type": "stream",
          "text": [
            "D loss: 0.1815577745437622, G loss: 2.729402542114258\n"
          ],
          "name": "stdout"
        },
        {
          "output_type": "stream",
          "text": [
            "Epoch: 48: 100%|█████████▉| 116480/116625 [00:15<00:00, 7377.98it/s]\n"
          ],
          "name": "stderr"
        },
        {
          "output_type": "stream",
          "text": [
            "D loss: 0.1829432100057602, G loss: 2.8147356510162354\n"
          ],
          "name": "stdout"
        },
        {
          "output_type": "stream",
          "text": [
            "Epoch: 49: 100%|█████████▉| 116480/116625 [00:16<00:00, 7156.48it/s]\n"
          ],
          "name": "stderr"
        },
        {
          "output_type": "stream",
          "text": [
            "D loss: 0.159099280834198, G loss: 3.1233816146850586\n"
          ],
          "name": "stdout"
        },
        {
          "output_type": "stream",
          "text": [
            "Epoch: 50: 100%|█████████▉| 116480/116625 [00:16<00:00, 7100.12it/s]\n"
          ],
          "name": "stderr"
        },
        {
          "output_type": "stream",
          "text": [
            "D loss: 0.15630458295345306, G loss: 3.2514026165008545\n"
          ],
          "name": "stdout"
        },
        {
          "output_type": "stream",
          "text": [
            "Epoch: 51: 100%|█████████▉| 116480/116625 [00:16<00:00, 7254.40it/s]\n"
          ],
          "name": "stderr"
        },
        {
          "output_type": "stream",
          "text": [
            "D loss: 0.17454685270786285, G loss: 3.0294859409332275\n"
          ],
          "name": "stdout"
        },
        {
          "output_type": "stream",
          "text": [
            "Epoch: 52: 100%|█████████▉| 116480/116625 [00:15<00:00, 7333.46it/s]\n"
          ],
          "name": "stderr"
        },
        {
          "output_type": "stream",
          "text": [
            "D loss: 0.17845994234085083, G loss: 2.9303066730499268\n"
          ],
          "name": "stdout"
        },
        {
          "output_type": "stream",
          "text": [
            "Epoch: 53: 100%|█████████▉| 116480/116625 [00:17<00:00, 6710.56it/s]\n"
          ],
          "name": "stderr"
        },
        {
          "output_type": "stream",
          "text": [
            "D loss: 0.13436147570610046, G loss: 3.044862747192383\n"
          ],
          "name": "stdout"
        },
        {
          "output_type": "stream",
          "text": [
            "Epoch: 54: 100%|█████████▉| 116480/116625 [00:16<00:00, 7175.87it/s]\n"
          ],
          "name": "stderr"
        },
        {
          "output_type": "stream",
          "text": [
            "D loss: 0.15446318686008453, G loss: 3.3283612728118896\n"
          ],
          "name": "stdout"
        },
        {
          "output_type": "stream",
          "text": [
            "Epoch: 55: 100%|█████████▉| 116480/116625 [00:15<00:00, 7317.56it/s]\n"
          ],
          "name": "stderr"
        },
        {
          "output_type": "stream",
          "text": [
            "D loss: 0.1516191065311432, G loss: 3.329251766204834\n"
          ],
          "name": "stdout"
        },
        {
          "output_type": "stream",
          "text": [
            "Epoch: 56: 100%|█████████▉| 116480/116625 [00:16<00:00, 7279.89it/s]\n"
          ],
          "name": "stderr"
        },
        {
          "output_type": "stream",
          "text": [
            "D loss: 0.14688481390476227, G loss: 3.2865936756134033\n"
          ],
          "name": "stdout"
        },
        {
          "output_type": "stream",
          "text": [
            "Epoch: 57: 100%|█████████▉| 116480/116625 [00:16<00:00, 7228.88it/s]\n"
          ],
          "name": "stderr"
        },
        {
          "output_type": "stream",
          "text": [
            "D loss: 0.14550518989562988, G loss: 3.3444528579711914\n"
          ],
          "name": "stdout"
        },
        {
          "output_type": "stream",
          "text": [
            "Epoch: 58: 100%|█████████▉| 116480/116625 [00:16<00:00, 7260.23it/s]\n"
          ],
          "name": "stderr"
        },
        {
          "output_type": "stream",
          "text": [
            "D loss: 0.15140213072299957, G loss: 3.359938383102417\n"
          ],
          "name": "stdout"
        },
        {
          "output_type": "stream",
          "text": [
            "Epoch: 59: 100%|█████████▉| 116480/116625 [00:16<00:00, 7255.12it/s]\n"
          ],
          "name": "stderr"
        },
        {
          "output_type": "stream",
          "text": [
            "D loss: 0.12410376220941544, G loss: 3.2937910556793213\n"
          ],
          "name": "stdout"
        },
        {
          "output_type": "stream",
          "text": [
            "Epoch: 60: 100%|█████████▉| 116480/116625 [00:16<00:00, 6968.55it/s]\n"
          ],
          "name": "stderr"
        },
        {
          "output_type": "stream",
          "text": [
            "D loss: 0.15469074249267578, G loss: 3.472874402999878\n"
          ],
          "name": "stdout"
        },
        {
          "output_type": "stream",
          "text": [
            "Epoch: 61: 100%|█████████▉| 116480/116625 [00:15<00:00, 7346.27it/s]\n"
          ],
          "name": "stderr"
        },
        {
          "output_type": "stream",
          "text": [
            "D loss: 0.13272906839847565, G loss: 3.311777353286743\n"
          ],
          "name": "stdout"
        },
        {
          "output_type": "stream",
          "text": [
            "Epoch: 62: 100%|█████████▉| 116480/116625 [00:16<00:00, 7063.72it/s]\n"
          ],
          "name": "stderr"
        },
        {
          "output_type": "stream",
          "text": [
            "D loss: 0.1458432376384735, G loss: 3.5121614933013916\n"
          ],
          "name": "stdout"
        },
        {
          "output_type": "stream",
          "text": [
            "Epoch: 63: 100%|█████████▉| 116480/116625 [00:15<00:00, 7330.08it/s]\n"
          ],
          "name": "stderr"
        },
        {
          "output_type": "stream",
          "text": [
            "D loss: 0.14062483608722687, G loss: 3.600318670272827\n"
          ],
          "name": "stdout"
        },
        {
          "output_type": "stream",
          "text": [
            "Epoch: 64: 100%|█████████▉| 116480/116625 [00:15<00:00, 7356.46it/s]\n"
          ],
          "name": "stderr"
        },
        {
          "output_type": "stream",
          "text": [
            "D loss: 0.12339864671230316, G loss: 3.599950075149536\n"
          ],
          "name": "stdout"
        },
        {
          "output_type": "stream",
          "text": [
            "Epoch: 65: 100%|█████████▉| 116480/116625 [00:16<00:00, 7200.65it/s]\n"
          ],
          "name": "stderr"
        },
        {
          "output_type": "stream",
          "text": [
            "D loss: 0.12874627113342285, G loss: 3.656381130218506\n"
          ],
          "name": "stdout"
        },
        {
          "output_type": "stream",
          "text": [
            "Epoch: 66: 100%|█████████▉| 116480/116625 [00:15<00:00, 7290.86it/s]\n"
          ],
          "name": "stderr"
        },
        {
          "output_type": "stream",
          "text": [
            "D loss: 0.1309313327074051, G loss: 3.630488157272339\n"
          ],
          "name": "stdout"
        },
        {
          "output_type": "stream",
          "text": [
            "Epoch: 67: 100%|█████████▉| 116480/116625 [00:16<00:00, 7273.15it/s]\n"
          ],
          "name": "stderr"
        },
        {
          "output_type": "stream",
          "text": [
            "D loss: 0.10831905156373978, G loss: 3.7171218395233154\n"
          ],
          "name": "stdout"
        },
        {
          "output_type": "stream",
          "text": [
            "Epoch: 68: 100%|█████████▉| 116480/116625 [00:16<00:00, 7110.53it/s]\n"
          ],
          "name": "stderr"
        },
        {
          "output_type": "stream",
          "text": [
            "D loss: 0.13308194279670715, G loss: 3.7251224517822266\n"
          ],
          "name": "stdout"
        },
        {
          "output_type": "stream",
          "text": [
            "Epoch: 69: 100%|█████████▉| 116480/116625 [00:15<00:00, 7334.54it/s]\n"
          ],
          "name": "stderr"
        },
        {
          "output_type": "stream",
          "text": [
            "D loss: 0.11579933762550354, G loss: 3.702418804168701\n"
          ],
          "name": "stdout"
        },
        {
          "output_type": "stream",
          "text": [
            "Epoch: 70: 100%|█████████▉| 116480/116625 [00:15<00:00, 7280.63it/s]\n"
          ],
          "name": "stderr"
        },
        {
          "output_type": "stream",
          "text": [
            "D loss: 0.13145554065704346, G loss: 3.5545992851257324\n"
          ],
          "name": "stdout"
        },
        {
          "output_type": "stream",
          "text": [
            "Epoch: 71: 100%|█████████▉| 116480/116625 [00:15<00:00, 7315.05it/s]\n"
          ],
          "name": "stderr"
        },
        {
          "output_type": "stream",
          "text": [
            "D loss: 0.11266515403985977, G loss: 3.87050724029541\n"
          ],
          "name": "stdout"
        },
        {
          "output_type": "stream",
          "text": [
            "Epoch: 72: 100%|█████████▉| 116480/116625 [00:16<00:00, 7248.25it/s]\n"
          ],
          "name": "stderr"
        },
        {
          "output_type": "stream",
          "text": [
            "D loss: 0.096013642847538, G loss: 4.072824954986572\n"
          ],
          "name": "stdout"
        },
        {
          "output_type": "stream",
          "text": [
            "Epoch: 73: 100%|█████████▉| 116480/116625 [00:15<00:00, 7412.58it/s]\n"
          ],
          "name": "stderr"
        },
        {
          "output_type": "stream",
          "text": [
            "D loss: 0.10935943573713303, G loss: 4.092305660247803\n"
          ],
          "name": "stdout"
        },
        {
          "output_type": "stream",
          "text": [
            "Epoch: 74: 100%|█████████▉| 116480/116625 [00:15<00:00, 7396.65it/s]\n"
          ],
          "name": "stderr"
        },
        {
          "output_type": "stream",
          "text": [
            "D loss: 0.10635187476873398, G loss: 4.004202842712402\n"
          ],
          "name": "stdout"
        }
      ]
    },
    {
      "cell_type": "code",
      "metadata": {
        "id": "aUyKRM_Vqd9Y",
        "colab_type": "code",
        "colab": {
          "base_uri": "https://localhost:8080/",
          "height": 333
        },
        "outputId": "aa5d4f5b-1d41-4ba5-853f-a5d9de17fbf4"
      },
      "source": [
        "print(encoder.classes_)\n",
        "image=generate_images(G,4,4)\n",
        "H = image[0].reshape((24,Minimum_time))\n",
        "\n",
        "fig = plt.figure(figsize=(14, 4))\n",
        "\n",
        "ax = fig.add_subplot(111)\n",
        "ax.set_title('colorMap')\n",
        "plt.imshow(H)\n",
        "ax.set_aspect('equal')\n",
        "\n",
        "cax = fig.add_axes([0.12, 0.1, 0.78, 0.8])\n",
        "cax.get_xaxis().set_visible(False)\n",
        "cax.get_yaxis().set_visible(False)\n",
        "cax.patch.set_alpha(0)\n",
        "cax.set_frame_on(False)\n",
        "plt.colorbar(orientation='vertical')\n",
        "plt.show()"
      ],
      "execution_count": 95,
      "outputs": [
        {
          "output_type": "stream",
          "text": [
            "['One_rhythm' 'continuing_rhythm' 'down_leaping' 'down_steping'\n",
            " 'fast_rhythm' 'leaping_twisting' 'no skills' 'repeating' 'staccato'\n",
            " 'steping_twisting' 'triplet' 'up_leaping' 'up_steping']\n"
          ],
          "name": "stdout"
        },
        {
          "output_type": "display_data",
          "data": {
            "image/png": "[encoded data removed]",
            "text/plain": [
              "<Figure size 1008x288 with 3 Axes>"
            ]
          },
          "metadata": {
            "tags": [],
            "needs_background": "light"
          }
        }
      ]
    },
    {
      "cell_type": "markdown",
      "metadata": {
        "id": "exdtcOln9Qdq",
        "colab_type": "text"
      },
      "source": [
        "여기서부터 Simple RNN을 구현합니다."
      ]
    },
    {
      "cell_type": "code",
      "metadata": {
        "id": "qNqr-1ZWLKdh",
        "colab_type": "code",
        "colab": {}
      },
      "source": [
        "RNNx_train=[]\n",
        "RNNy_train=[]\n",
        "RNNx_test=[]\n",
        "RNNy_test=[]\n",
        "RNN_kfoldx=[]\n",
        "RNN_kfoldy=[]\n",
        "for i in range(len(bar_matrix_list3)):\n",
        "  nowseq=[]\n",
        "  nowmat=np.array(bar_matrix_list3[i])\n",
        "  nowbars=classifier.predict(nowmat.reshape(len(nowmat),24,Minimum_time,1) ) #이는 mlb를 통해 embedding 되어있다\n",
        "  for j,bars in enumerate(nowbars):\n",
        "    if(j==len(nowbars)-1):\n",
        "      if(i>=5000):\n",
        "        RNNy_test.append(np.argmax(bars))\n",
        "      else:\n",
        "        RNNy_train.append(np.argmax(bars))\n",
        "      RNN_kfoldy.append(np.argmax(bars))\n",
        "    else:\n",
        "      nowseq.append(np.argmax(bars)+1)#0 padding을 하기 때문에 0~12에 해당하는 스킬을 1~13으로 사용한다. predict때 이를 감안하면 된다. \n",
        "  if(i>=5000):\n",
        "    RNNx_test.append(nowseq)\n",
        "  else:\n",
        "    RNNx_train.append(nowseq)\n",
        "  RNN_kfoldx.append(nowseq)"
      ],
      "execution_count": 96,
      "outputs": []
    },
    {
      "cell_type": "code",
      "metadata": {
        "id": "1oaBpBguS5j2",
        "colab_type": "code",
        "colab": {
          "base_uri": "https://localhost:8080/",
          "height": 211
        },
        "outputId": "51f1a061-c94b-4221-d741-5da37d373766"
      },
      "source": [
        "from keras.utils import to_categorical\n",
        "print(len(RNNx_train),len(RNNx_train[0]))\n",
        "print(RNNy_train)\n",
        "print(to_categorical(RNNy_train))\n",
        "print(mlb.inverse_transform(to_categorical(RNNy_train)))"
      ],
      "execution_count": 97,
      "outputs": [
        {
          "output_type": "stream",
          "text": [
            "5000 17\n",
            "[6, 6, 10, 5, 3, 6, 5, 6, 6, 6, 5, 6, 12, 11, 6, 5, 6, 11, 6, 2, 6, 7, 6, 5, 3, 6, 7, 9, 11, 7, 5, 5, 6, 12, 6, 10, 6, 6, 12, 5, 6, 6, 6, 6, 6, 6, 6, 6, 12, 6, 5, 5, 6, 5, 6, 6, 12, 6, 3, 6, 6, 6, 7, 11, 12, 11, 5, 3, 6, 6, 6, 12, 11, 9, 11, 6, 2, 10, 6, 11, 6, 2, 12, 6, 6, 6, 6, 6, 5, 7, 5, 6, 11, 11, 6, 6, 8, 6, 6, 5, 0, 6, 11, 6, 6, 2, 5, 6, 11, 6, 6, 5, 11, 12, 6, 12, 4, 6, 8, 11, 2, 6, 2, 5, 7, 6, 2, 2, 11, 6, 3, 10, 5, 8, 5, 7, 6, 8, 6, 6, 11, 11, 10, 6, 5, 11, 10, 0, 8, 11, 11, 5, 5, 7, 2, 6, 6, 6, 6, 6, 6, 8, 6, 11, 6, 2, 6, 6, 6, 10, 6, 3, 6, 11, 7, 6, 2, 6, 12, 1, 6, 6, 5, 6, 11, 11, 6, 6, 12, 5, 6, 6, 5, 6, 6, 6, 3, 6, 10, 5, 6, 6, 6, 11, 12, 5, 6, 11, 11, 6, 6, 6, 3, 6, 7, 5, 7, 6, 5, 4, 6, 6, 5, 12, 9, 6, 12, 11, 6, 7, 6, 12, 6, 6, 4, 6, 11, 11, 9, 2, 5, 12, 6, 6, 7, 12, 11, 6, 6, 6, 12, 11, 6, 6, 5, 7, 6, 5, 6, 12, 6, 5, 7, 6, 5, 11, 7, 2, 6, 6, 6, 6, 6, 6, 5, 6, 6, 11, 6, 12, 5, 4, 10, 12, 6, 12, 5, 5, 6, 3, 5, 11, 5, 6, 6, 6, 12, 11, 12, 11, 7, 12, 6, 6, 4, 8, 6, 6, 5, 6, 3, 11, 6, 7, 6, 8, 2, 6, 12, 12, 0, 6, 10, 5, 10, 5, 1, 11, 12, 12, 8, 6, 11, 11, 3, 6, 10, 4, 6, 6, 6, 12, 9, 6, 6, 8, 6, 6, 6, 12, 6, 6, 11, 6, 6, 12, 1, 6, 6, 6, 6, 2, 9, 8, 6, 6, 6, 6, 6, 0, 6, 6, 6, 6, 6, 6, 12, 12, 6, 6, 5, 6, 1, 6, 6, 7, 11, 11, 6, 6, 6, 12, 6, 6, 6, 6, 6, 7, 6, 12, 5, 7, 6, 6, 6, 6, 11, 4, 12, 6, 6, 6, 6, 6, 6, 6, 6, 11, 5, 6, 6, 0, 6, 3, 7, 6, 6, 4, 11, 2, 6, 11, 6, 5, 6, 12, 10, 11, 8, 6, 7, 1, 6, 6, 12, 6, 5, 8, 6, 6, 12, 6, 6, 6, 6, 11, 6, 5, 6, 4, 6, 5, 6, 6, 10, 6, 2, 5, 2, 11, 7, 6, 6, 5, 6, 12, 7, 6, 7, 10, 2, 6, 6, 7, 7, 5, 6, 6, 6, 4, 7, 7, 6, 6, 6, 10, 3, 3, 2, 6, 4, 2, 11, 6, 11, 5, 6, 6, 6, 2, 12, 6, 5, 2, 12, 6, 7, 5, 10, 6, 8, 6, 6, 7, 12, 3, 6, 6, 7, 6, 6, 6, 6, 5, 5, 6, 0, 6, 6, 5, 6, 6, 11, 11, 5, 12, 2, 12, 6, 5, 4, 2, 6, 6, 6, 8, 5, 6, 6, 6, 6, 6, 11, 1, 5, 5, 6, 6, 5, 12, 5, 6, 10, 7, 6, 11, 6, 7, 6, 6, 3, 11, 6, 11, 11, 6, 6, 4, 6, 6, 6, 7, 6, 4, 2, 6, 1, 10, 7, 6, 5, 2, 11, 2, 6, 7, 6, 5, 12, 6, 6, 6, 6, 6, 6, 6, 7, 7, 5, 6, 6, 6, 7, 6, 6, 5, 12, 6, 12, 6, 6, 11, 6, 5, 6, 5, 5, 6, 11, 6, 8, 11, 5, 6, 5, 6, 5, 12, 5, 8, 12, 6, 6, 10, 8, 6, 7, 6, 6, 6, 6, 6, 7, 6, 6, 8, 6, 6, 9, 6, 6, 6, 6, 2, 6, 12, 6, 12, 6, 5, 4, 7, 6, 7, 10, 12, 6, 5, 6, 2, 6, 6, 6, 6, 6, 1, 6, 2, 6, 6, 8, 6, 2, 12, 6, 5, 2, 12, 6, 11, 11, 6, 12, 5, 7, 5, 6, 1, 11, 11, 6, 6, 12, 2, 2, 4, 5, 12, 6, 12, 6, 6, 6, 2, 6, 11, 6, 6, 3, 5, 7, 6, 5, 6, 11, 4, 12, 6, 7, 8, 6, 5, 12, 11, 11, 6, 3, 12, 12, 10, 3, 6, 6, 8, 7, 12, 6, 5, 5, 6, 5, 1, 6, 2, 6, 11, 3, 6, 3, 6, 5, 6, 6, 8, 5, 7, 6, 6, 7, 6, 11, 6, 5, 5, 11, 6, 2, 6, 5, 12, 11, 10, 10, 8, 6, 9, 11, 2, 5, 5, 6, 2, 5, 6, 2, 5, 12, 12, 1, 2, 6, 6, 1, 11, 6, 6, 6, 5, 11, 5, 7, 5, 6, 11, 6, 5, 6, 7, 0, 6, 3, 5, 5, 6, 2, 4, 3, 5, 12, 2, 10, 5, 10, 6, 11, 5, 6, 11, 12, 6, 6, 6, 11, 4, 6, 4, 9, 5, 6, 7, 6, 4, 5, 6, 6, 6, 11, 6, 11, 6, 12, 6, 7, 5, 7, 5, 6, 2, 1, 6, 5, 11, 6, 6, 6, 6, 7, 7, 6, 2, 11, 11, 7, 7, 6, 5, 6, 6, 4, 12, 1, 8, 11, 5, 12, 6, 6, 6, 5, 10, 6, 6, 6, 6, 6, 6, 6, 6, 12, 6, 6, 6, 5, 4, 6, 6, 11, 10, 5, 3, 6, 2, 6, 6, 3, 6, 5, 6, 6, 6, 6, 6, 5, 11, 6, 5, 10, 6, 6, 4, 9, 4, 6, 5, 5, 12, 6, 7, 5, 7, 5, 5, 6, 6, 6, 6, 1, 6, 10, 5, 6, 6, 7, 7, 7, 6, 9, 6, 2, 6, 12, 4, 6, 7, 7, 5, 6, 9, 6, 9, 6, 12, 12, 6, 9, 12, 6, 8, 6, 8, 6, 6, 6, 10, 6, 6, 5, 7, 6, 9, 6, 0, 4, 11, 6, 6, 5, 6, 2, 3, 6, 6, 5, 7, 7, 12, 5, 10, 6, 5, 5, 6, 6, 6, 6, 6, 5, 8, 6, 11, 5, 7, 10, 12, 6, 6, 5, 5, 6, 5, 5, 11, 3, 6, 10, 6, 6, 7, 5, 5, 6, 6, 6, 11, 6, 6, 6, 3, 6, 7, 6, 11, 11, 10, 6, 7, 11, 4, 7, 10, 6, 6, 12, 5, 12, 5, 11, 6, 7, 11, 6, 6, 8, 6, 4, 2, 5, 7, 6, 11, 11, 4, 6, 6, 2, 6, 6, 2, 7, 6, 7, 12, 6, 7, 6, 12, 7, 10, 8, 11, 10, 10, 3, 6, 6, 6, 7, 6, 5, 12, 6, 6, 6, 7, 6, 5, 12, 11, 12, 11, 9, 6, 12, 6, 5, 6, 6, 6, 1, 5, 5, 5, 4, 11, 6, 6, 7, 6, 4, 9, 6, 9, 12, 12, 6, 1, 12, 11, 6, 6, 7, 5, 11, 6, 6, 6, 6, 5, 11, 12, 5, 6, 4, 6, 7, 1, 4, 4, 3, 6, 6, 7, 6, 5, 12, 5, 6, 7, 12, 12, 6, 6, 6, 6, 6, 2, 1, 6, 6, 6, 7, 4, 9, 6, 5, 12, 11, 10, 5, 6, 11, 6, 6, 6, 2, 11, 6, 7, 3, 6, 6, 5, 8, 6, 11, 6, 6, 2, 6, 0, 1, 3, 2, 6, 11, 6, 6, 7, 3, 2, 10, 6, 6, 6, 12, 6, 12, 5, 7, 0, 6, 8, 4, 11, 5, 5, 8, 12, 10, 7, 6, 6, 6, 12, 2, 6, 8, 6, 6, 3, 7, 11, 6, 6, 6, 6, 6, 12, 12, 2, 8, 6, 11, 8, 2, 6, 2, 8, 11, 6, 5, 5, 11, 5, 6, 6, 6, 5, 6, 6, 7, 12, 6, 6, 5, 6, 6, 5, 2, 6, 11, 4, 7, 7, 4, 6, 6, 6, 6, 6, 6, 6, 6, 8, 6, 7, 6, 2, 7, 6, 6, 10, 12, 11, 6, 6, 6, 6, 6, 6, 5, 6, 4, 5, 5, 11, 6, 11, 6, 6, 6, 11, 6, 6, 7, 6, 4, 6, 6, 11, 6, 7, 6, 7, 7, 6, 5, 12, 6, 5, 6, 2, 5, 6, 6, 6, 11, 6, 5, 4, 6, 11, 11, 10, 6, 6, 7, 6, 7, 6, 6, 6, 10, 6, 12, 5, 7, 6, 5, 9, 6, 5, 6, 10, 12, 6, 6, 11, 6, 9, 11, 2, 6, 5, 6, 6, 11, 8, 6, 5, 6, 9, 7, 6, 11, 6, 10, 2, 6, 5, 11, 12, 7, 6, 3, 6, 12, 4, 6, 7, 6, 6, 9, 6, 5, 6, 6, 6, 6, 11, 6, 12, 6, 6, 6, 6, 5, 4, 3, 10, 11, 5, 6, 6, 8, 10, 6, 4, 6, 6, 6, 6, 6, 5, 6, 6, 6, 6, 6, 7, 3, 11, 8, 12, 5, 2, 7, 6, 6, 6, 6, 6, 6, 4, 6, 2, 12, 6, 6, 5, 11, 6, 6, 6, 6, 4, 6, 12, 6, 5, 4, 11, 5, 8, 6, 3, 6, 11, 6, 12, 6, 11, 2, 6, 12, 12, 6, 6, 12, 6, 10, 6, 0, 6, 6, 5, 6, 6, 6, 11, 5, 6, 10, 12, 6, 6, 4, 11, 6, 5, 6, 12, 6, 11, 6, 7, 6, 5, 5, 6, 6, 11, 6, 12, 6, 2, 6, 8, 5, 6, 6, 8, 5, 6, 6, 6, 7, 7, 12, 5, 2, 11, 6, 6, 6, 6, 6, 8, 3, 6, 6, 6, 7, 3, 10, 6, 10, 6, 4, 12, 12, 6, 6, 10, 12, 6, 5, 7, 8, 5, 5, 7, 11, 6, 6, 5, 6, 12, 10, 5, 12, 6, 6, 6, 6, 4, 6, 0, 6, 5, 6, 6, 6, 6, 6, 7, 11, 4, 11, 6, 6, 9, 7, 6, 6, 6, 7, 6, 6, 6, 7, 6, 3, 7, 6, 6, 6, 5, 6, 6, 6, 12, 6, 7, 6, 9, 6, 12, 6, 2, 6, 6, 2, 7, 6, 11, 6, 11, 12, 6, 5, 6, 6, 9, 5, 11, 6, 2, 6, 6, 5, 7, 2, 10, 12, 7, 5, 11, 7, 5, 7, 12, 9, 5, 12, 5, 6, 12, 7, 3, 7, 6, 6, 2, 2, 5, 4, 9, 6, 6, 6, 7, 6, 6, 2, 5, 6, 4, 4, 6, 6, 10, 6, 2, 6, 6, 8, 6, 2, 6, 11, 11, 10, 5, 12, 12, 7, 7, 2, 6, 8, 6, 6, 6, 6, 8, 5, 6, 6, 11, 8, 5, 11, 6, 6, 6, 12, 2, 6, 6, 5, 5, 10, 6, 6, 6, 6, 5, 3, 5, 5, 12, 6, 6, 12, 6, 12, 6, 3, 6, 6, 10, 7, 2, 6, 9, 5, 6, 6, 7, 6, 7, 6, 6, 9, 7, 6, 4, 6, 3, 6, 6, 6, 10, 12, 4, 6, 5, 4, 6, 6, 6, 6, 5, 7, 2, 6, 1, 9, 6, 4, 6, 6, 7, 7, 6, 3, 6, 6, 6, 6, 6, 2, 5, 5, 6, 2, 4, 6, 12, 5, 6, 6, 7, 7, 2, 4, 6, 11, 6, 6, 5, 7, 5, 6, 8, 10, 6, 12, 5, 2, 10, 6, 1, 6, 6, 2, 5, 6, 11, 3, 5, 5, 11, 6, 12, 6, 6, 6, 6, 12, 6, 6, 12, 8, 6, 6, 6, 6, 11, 6, 11, 6, 6, 10, 9, 6, 11, 4, 6, 6, 12, 6, 3, 8, 12, 6, 11, 12, 4, 7, 6, 6, 2, 12, 10, 6, 6, 8, 4, 4, 6, 6, 8, 6, 6, 11, 11, 5, 5, 6, 7, 6, 6, 9, 7, 6, 7, 6, 6, 7, 6, 12, 5, 6, 6, 11, 2, 6, 11, 2, 11, 6, 6, 5, 2, 6, 6, 6, 7, 6, 2, 6, 6, 11, 12, 6, 6, 5, 12, 12, 12, 7, 6, 7, 11, 6, 6, 6, 6, 6, 11, 7, 11, 6, 2, 5, 6, 6, 8, 6, 5, 11, 7, 6, 3, 10, 5, 6, 6, 6, 5, 6, 2, 6, 7, 6, 8, 6, 11, 6, 10, 6, 10, 0, 6, 7, 5, 7, 6, 5, 6, 11, 5, 11, 6, 11, 11, 6, 11, 4, 10, 6, 6, 12, 6, 6, 4, 11, 5, 12, 6, 3, 6, 5, 3, 2, 6, 11, 6, 2, 11, 12, 6, 6, 6, 7, 5, 6, 6, 5, 6, 6, 6, 10, 11, 6, 10, 6, 7, 6, 5, 1, 6, 10, 6, 3, 7, 10, 2, 6, 6, 1, 6, 6, 8, 0, 6, 12, 2, 5, 6, 6, 6, 6, 6, 8, 11, 6, 6, 5, 6, 6, 4, 11, 4, 6, 11, 7, 6, 6, 6, 5, 4, 11, 6, 6, 6, 8, 6, 11, 6, 7, 6, 6, 6, 6, 10, 2, 6, 7, 6, 12, 5, 5, 6, 6, 6, 6, 6, 9, 2, 6, 7, 6, 0, 3, 0, 5, 6, 6, 10, 6, 6, 12, 6, 6, 11, 8, 12, 6, 11, 6, 11, 6, 11, 12, 2, 5, 6, 12, 6, 5, 5, 6, 6, 10, 5, 6, 0, 6, 2, 8, 5, 6, 6, 12, 6, 5, 5, 7, 6, 6, 7, 7, 6, 6, 5, 6, 8, 11, 6, 6, 4, 5, 5, 6, 11, 12, 6, 6, 8, 6, 6, 6, 5, 6, 11, 11, 6, 5, 6, 7, 11, 5, 7, 5, 6, 5, 6, 5, 12, 3, 4, 11, 6, 7, 2, 12, 2, 5, 11, 4, 5, 6, 6, 6, 5, 6, 9, 11, 7, 5, 4, 6, 8, 5, 6, 12, 6, 6, 1, 5, 9, 5, 6, 6, 8, 12, 7, 11, 6, 6, 6, 5, 6, 6, 6, 5, 6, 5, 6, 10, 5, 5, 2, 8, 6, 5, 11, 6, 11, 6, 11, 10, 6, 3, 10, 0, 6, 5, 11, 6, 4, 6, 8, 12, 5, 6, 6, 3, 5, 3, 6, 5, 6, 12, 12, 12, 10, 6, 2, 9, 6, 6, 5, 7, 12, 6, 6, 2, 6, 10, 6, 5, 12, 6, 6, 6, 6, 11, 6, 5, 12, 6, 6, 4, 6, 4, 12, 6, 11, 7, 5, 2, 10, 6, 2, 6, 5, 4, 9, 4, 6, 8, 11, 11, 2, 6, 6, 6, 2, 7, 10, 4, 5, 0, 2, 6, 10, 6, 9, 10, 5, 6, 9, 0, 5, 11, 1, 5, 11, 1, 6, 8, 10, 6, 12, 11, 6, 6, 7, 5, 6, 6, 6, 4, 5, 5, 5, 6, 6, 5, 6, 11, 7, 12, 3, 6, 6, 11, 4, 7, 1, 6, 11, 8, 9, 12, 6, 6, 6, 4, 11, 2, 2, 11, 6, 5, 4, 6, 5, 6, 11, 6, 6, 10, 9, 6, 6, 6, 5, 9, 5, 5, 6, 11, 5, 10, 6, 5, 6, 6, 2, 6, 6, 6, 0, 12, 5, 12, 12, 10, 6, 6, 10, 3, 7, 5, 12, 6, 5, 3, 8, 6, 4, 12, 6, 6, 12, 6, 11, 6, 6, 5, 6, 0, 8, 2, 5, 7, 6, 2, 5, 6, 7, 6, 2, 5, 5, 6, 5, 5, 10, 1, 8, 5, 6, 7, 6, 6, 11, 5, 5, 10, 7, 11, 6, 8, 6, 6, 5, 11, 12, 2, 6, 6, 11, 11, 4, 9, 5, 10, 6, 6, 6, 6, 5, 11, 6, 6, 11, 5, 5, 5, 6, 6, 6, 6, 6, 6, 2, 6, 5, 6, 10, 2, 6, 11, 10, 9, 5, 7, 12, 6, 10, 5, 6, 5, 6, 11, 6, 6, 6, 10, 6, 5, 6, 6, 5, 5, 6, 6, 12, 6, 12, 6, 6, 7, 9, 2, 6, 6, 6, 9, 5, 6, 12, 6, 6, 8, 6, 12, 6, 10, 6, 6, 6, 9, 11, 4, 10, 6, 10, 6, 6, 5, 11, 6, 2, 5, 6, 3, 12, 6, 5, 2, 6, 6, 11, 9, 6, 6, 11, 7, 8, 12, 10, 6, 6, 6, 2, 11, 6, 6, 6, 12, 6, 12, 4, 5, 6, 4, 7, 5, 3, 6, 6, 12, 5, 7, 1, 8, 6, 6, 5, 3, 12, 2, 5, 6, 5, 12, 2, 6, 7, 11, 2, 12, 7, 8, 6, 6, 2, 10, 5, 6, 6, 5, 5, 4, 6, 7, 3, 6, 5, 5, 7, 5, 2, 5, 2, 6, 6, 6, 11, 6, 12, 2, 6, 5, 7, 6, 5, 6, 5, 3, 6, 6, 11, 5, 6, 2, 3, 5, 9, 6, 5, 5, 6, 6, 11, 6, 2, 6, 6, 2, 11, 12, 11, 6, 6, 0, 9, 0, 6, 11, 3, 10, 5, 11, 9, 10, 2, 6, 6, 6, 4, 9, 5, 6, 6, 12, 5, 6, 6, 6, 6, 7, 5, 6, 6, 6, 9, 7, 12, 6, 6, 6, 4, 5, 5, 6, 6, 5, 6, 6, 6, 6, 11, 5, 11, 6, 6, 6, 11, 5, 6, 6, 10, 12, 6, 2, 7, 2, 6, 4, 11, 11, 2, 6, 6, 7, 11, 6, 5, 6, 5, 2, 8, 6, 6, 12, 6, 10, 6, 6, 10, 10, 6, 6, 6, 12, 6, 6, 2, 6, 6, 5, 6, 7, 6, 6, 12, 12, 6, 6, 11, 6, 5, 6, 12, 7, 3, 2, 6, 6, 6, 6, 10, 11, 11, 10, 12, 6, 5, 6, 7, 5, 5, 11, 12, 6, 6, 6, 6, 11, 11, 6, 6, 3, 6, 10, 6, 1, 9, 6, 5, 6, 6, 6, 6, 5, 9, 6, 10, 5, 5, 6, 3, 6, 12, 12, 6, 12, 11, 6, 10, 2, 6, 7, 6, 7, 6, 6, 6, 5, 6, 11, 11, 12, 3, 5, 6, 5, 2, 6, 3, 8, 6, 6, 11, 7, 6, 6, 6, 7, 6, 6, 4, 12, 2, 6, 6, 6, 6, 6, 3, 6, 6, 12, 12, 6, 4, 10, 6, 4, 5, 10, 6, 6, 11, 6, 6, 6, 10, 4, 12, 5, 6, 12, 6, 6, 10, 6, 6, 11, 6, 4, 6, 6, 6, 11, 6, 11, 5, 4, 6, 4, 8, 11, 6, 6, 7, 6, 4, 12, 7, 6, 6, 5, 6, 7, 5, 5, 6, 12, 6, 6, 4, 6, 9, 5, 5, 5, 11, 6, 6, 11, 5, 12, 6, 12, 5, 6, 6, 10, 6, 3, 6, 11, 12, 12, 6, 5, 5, 6, 4, 7, 5, 6, 6, 11, 3, 6, 7, 6, 3, 0, 6, 6, 11, 6, 6, 6, 10, 0, 5, 5, 6, 5, 6, 6, 6, 5, 6, 11, 7, 1, 6, 9, 6, 2, 6, 1, 8, 5, 6, 6, 5, 6, 6, 5, 2, 8, 12, 6, 6, 4, 6, 12, 6, 8, 7, 12, 11, 10, 5, 6, 5, 12, 6, 5, 7, 11, 6, 6, 6, 6, 10, 1, 6, 6, 9, 6, 7, 6, 6, 10, 6, 11, 7, 6, 12, 7, 6, 2, 12, 5, 6, 6, 12, 6, 12, 5, 7, 10, 6, 6, 3, 4, 11, 12, 8, 11, 6, 12, 6, 5, 7, 6, 7, 2, 11, 9, 6, 0, 11, 4, 2, 10, 7, 4, 6, 2, 6, 12, 6, 11, 11, 8, 12, 2, 6, 6, 12, 3, 7, 11, 5, 11, 7, 2, 9, 6, 11, 10, 2, 12, 6, 11, 7, 6, 6, 6, 6, 6, 1, 11, 5, 0, 6, 6, 11, 6, 6, 6, 6, 3, 2, 6, 2, 6, 6, 6, 8, 7, 6, 6, 7, 6, 6, 8, 6, 11, 6, 5, 12, 2, 3, 12, 12, 6, 6, 6, 6, 6, 6, 6, 7, 7, 11, 6, 6, 5, 6, 11, 11, 6, 0, 6, 5, 2, 6, 12, 12, 4, 6, 2, 6, 12, 6, 2, 5, 10, 6, 6, 6, 6, 6, 5, 6, 6, 5, 7, 6, 6, 5, 6, 5, 5, 6, 5, 4, 2, 9, 6, 6, 6, 12, 6, 7, 6, 7, 6, 12, 11, 8, 6, 11, 7, 6, 6, 12, 6, 6, 4, 3, 6, 4, 1, 6, 6, 8, 12, 6, 2, 6, 6, 12, 4, 11, 2, 5, 6, 4, 6, 6, 8, 6, 6, 12, 3, 12, 6, 5, 8, 8, 6, 5, 5, 6, 5, 6, 5, 4, 6, 6, 6, 6, 11, 6, 6, 6, 5, 7, 5, 5, 6, 4, 6, 7, 8, 6, 12, 6, 6, 7, 5, 4, 6, 4, 7, 6, 5, 7, 6, 6, 1, 6, 10, 6, 2, 8, 11, 6, 6, 12, 6, 6, 2, 11, 10, 7, 12, 6, 11, 12, 6, 4, 6, 11, 6, 12, 4, 6, 6, 6, 6, 6, 7, 7, 6, 6, 4, 6, 6, 6, 12, 11, 6, 7, 5, 4, 6, 5, 2, 11, 11, 6, 9, 5, 2, 11, 11, 6, 11, 6, 11, 12, 8, 6, 6, 11, 6, 5, 11, 6, 6, 7, 5, 9, 6, 6, 6, 4, 6, 6, 5, 4, 6, 5, 12, 6, 6, 6, 8, 6, 6, 4, 6, 6, 6, 6, 5, 5, 12, 6, 6, 6, 2, 5, 7, 5, 12, 8, 9, 4, 9, 6, 8, 6, 6, 11, 6, 12, 11, 6, 2, 12, 7, 8, 7, 2, 4, 6, 6, 6, 5, 11, 6, 6, 9, 6, 12, 11, 6, 6, 5, 6, 12, 12, 9, 6, 6, 6, 12, 6, 5, 2, 10, 10, 11, 4, 5, 4, 6, 12, 12, 2, 5, 3, 6, 12, 3, 5, 6, 11, 11, 2, 6, 8, 6, 6, 2, 11, 7, 6, 6, 10, 12, 5, 7, 11, 6, 11, 4, 3, 10, 11, 8, 2, 5, 4, 6, 5, 6, 11, 6, 11, 6, 6, 3, 6, 6, 5, 11, 5, 6, 6, 12, 6, 11, 11, 6, 6, 6, 10, 12, 6, 6, 6, 2, 6, 11, 6, 6, 5, 5, 12, 6, 8, 6, 2, 11, 6, 7, 6, 6, 6, 6, 6, 2, 6, 8, 7, 11, 8, 5, 6, 10, 6, 6, 5, 6, 5, 12, 6, 5, 12, 6, 7, 6, 9, 5, 2, 2, 6, 10, 6, 6, 6, 4, 6, 11, 5, 6, 5, 6, 6, 12, 6, 5, 12, 5, 5, 6, 6, 6, 6, 6, 7, 6, 12, 6, 11, 6, 8, 7, 6, 6, 7, 6, 11, 6, 6, 6, 11, 6, 6, 6, 5, 6, 5, 6, 11, 2, 6, 10, 11, 6, 2, 7, 6, 6, 6, 11, 6, 6, 6, 5, 4, 10, 11, 6, 5, 6, 6, 5, 12, 11, 6, 6, 11, 11, 11, 11, 6, 6, 10, 6, 6, 7, 6, 7, 1, 6, 7, 6, 12, 10, 6, 10, 11, 10, 6, 11, 6, 6, 6, 10, 5, 6, 5, 10, 6, 10, 8, 6, 5, 6, 6, 8, 1, 6, 5, 6, 6, 6, 5, 6, 5, 6, 6, 6, 4, 6, 6, 6, 10, 5, 6, 10, 12, 8, 5, 12, 6, 7, 6, 7, 5, 6, 12, 6, 4, 5, 4, 6, 6, 6, 2, 12, 6, 12, 6, 6, 10, 6, 5, 6, 6, 12, 6, 6, 6, 7, 11, 6, 3, 4, 6, 2, 6, 5, 11, 10, 6, 5, 7, 5, 4, 6, 6, 6, 6, 11, 6, 7, 5, 11, 10, 6, 2, 6, 5, 6, 12, 6, 11, 10, 7, 9, 7, 3, 6, 10, 6, 7, 11, 5, 11, 6, 7, 6, 5, 3, 5, 0, 12, 7, 7, 6, 2, 6, 11, 6, 6, 7, 6, 6, 5, 6, 6, 6, 6, 12, 7, 9, 7, 5, 6, 7, 2, 5, 5, 10, 4, 6, 5, 12, 6, 6, 10, 6, 6, 5, 5, 6, 6, 6, 6, 12, 2, 5, 12, 6, 7, 4, 6, 6, 7, 9, 11, 4, 5, 6, 6, 2, 6, 4, 12, 6, 6, 4, 6, 11, 6, 6, 2, 7, 11, 8, 9, 1, 12, 6, 6, 6, 8, 5, 6, 2, 6, 12, 6, 6, 12, 12, 4, 10, 6, 6, 7, 6, 6, 10, 6, 6, 12, 12, 5, 6, 6, 6, 6, 4, 7, 9, 6, 6, 5, 6, 6, 6, 0, 6, 6, 6, 8, 12, 5, 6, 6, 5, 5, 6, 5, 6, 6, 5, 6, 6, 6, 6, 6, 6, 6, 6, 6, 4, 5, 5, 2, 6, 6, 5, 5, 12, 8, 0, 6, 11, 6, 6, 6, 6, 12, 6, 12, 11, 6, 6, 6, 10, 12, 6, 11, 12, 10, 12, 6, 1, 6, 6, 6, 7, 9, 6, 2, 6, 7, 6, 6, 7, 12, 12, 6, 12, 5, 11, 11, 6, 9, 2, 6, 6, 7, 6, 6, 9, 12, 6, 6, 11, 6, 6, 11, 1, 6, 4, 6, 6, 6, 6, 6, 6, 7, 2, 6, 8, 6, 6, 2, 6, 12, 12, 8, 6, 12, 6, 11, 9, 5, 10, 6, 6, 4, 12, 6, 6, 2, 6, 6, 6, 5, 6, 6, 6, 7, 7, 11, 8, 11, 6, 12, 12, 6, 5, 11, 6, 6, 2, 1, 6, 3, 12, 6, 5, 5, 6, 5, 10, 6, 6, 6, 2, 5, 6, 6, 6, 6, 6, 12, 5, 6, 7, 2, 12, 4, 12, 9, 6, 6, 6, 6, 6, 6, 6, 2, 7, 12, 6, 6, 6, 6, 6, 6, 6, 6, 6, 8, 6, 9, 5, 6, 6, 11, 11, 10, 6, 6, 6, 3, 2, 5, 6, 6, 6, 6, 12, 6, 10, 12, 6, 12, 7, 6, 4, 3, 6, 7, 5, 10, 7, 11, 6, 12, 9, 6, 2, 12, 6, 11, 7, 11, 10, 8, 6, 2, 3, 5, 2, 6, 6, 5, 12, 6, 6, 11, 6, 5, 7, 2, 6, 6, 6, 6, 5, 7, 6, 8, 6, 6, 5, 4, 5, 3, 12, 10, 6, 10, 6, 12, 6, 6, 6, 6, 6, 6, 6, 6, 3, 12, 5, 11, 6, 6, 6, 12, 5, 3, 6, 12, 12, 6, 7, 6, 6, 4, 6, 6, 6, 7, 6, 2, 11, 12, 6, 5, 6, 6, 11, 4, 5, 6, 6, 2, 6, 6, 6, 12, 3, 6, 4, 11, 6, 5, 6, 1, 6, 2, 6, 5, 8, 5, 6, 6, 4, 6, 7, 5, 6, 6, 6, 6, 6, 6, 6, 0, 6, 3, 6, 6, 10, 6, 12, 5, 6, 4, 6, 7, 9, 5, 11, 6, 5, 6, 9, 6, 1, 7, 6, 5, 6, 9, 12, 7, 8, 6, 8, 4, 6, 5, 6, 1, 5, 6, 2, 5, 3, 9, 4, 11, 6, 6, 11, 6, 11, 12, 0, 2, 5, 5, 8, 10, 2, 6, 6, 4, 6, 3, 12, 6, 10, 6, 6, 12, 7, 6, 6, 6, 2, 9, 6, 6, 11, 3, 6, 11, 6, 7, 4, 6, 6, 6, 4, 11, 6, 4, 6, 6, 6, 10, 6, 6, 12, 12, 12, 6, 12, 6, 10, 2, 5, 2, 6, 6, 6, 6, 11, 6, 9, 7, 6, 6, 4, 12, 5, 11, 2, 12, 6, 6, 11, 5, 7, 6, 4, 5, 6, 6, 6, 5, 11, 11, 3, 8, 3, 7, 5, 6, 6, 4, 6, 2, 11, 6, 7, 4, 4, 6, 10, 6, 7, 6, 6, 2, 7, 6, 10, 6, 6, 6, 5, 6, 3, 2, 6, 6, 2, 6, 6, 6, 6, 4, 6, 10, 6, 6, 11, 7, 6, 9, 12, 6, 6, 11, 6, 12, 5, 7, 12, 4, 6, 12, 4, 6, 5, 2, 7, 7, 0, 6, 6, 4, 3, 3, 0, 6, 8, 6, 6, 5, 11, 12, 6, 11, 8, 6, 6, 5, 7, 6, 6, 10, 11, 12, 4, 10, 11, 8, 7, 2, 6, 6, 6, 6, 8, 6, 5, 6, 5, 11, 12, 12, 3, 6, 6, 12, 7, 6, 6, 11, 6, 5, 6, 6, 12, 2, 6, 6, 7, 10, 4, 5, 3, 6, 6, 6, 5, 7, 2, 5, 1, 5, 7, 12, 6, 6, 2, 3, 6, 7, 7, 12, 2, 3, 6, 5, 12, 5, 6, 11, 6, 0, 6, 7, 9, 6, 6, 5, 12, 6, 3, 6, 6, 6, 6, 6, 5, 6, 10, 5, 6, 6, 11, 9, 5, 6, 6, 5, 6, 6, 6, 6, 6, 5, 6, 6, 12, 6, 6, 7, 6, 6, 4, 5, 6, 5, 6, 6, 12, 7, 12, 6, 6, 12, 6, 2, 6, 6, 10, 6, 12, 6, 6, 6, 6, 6, 12, 11, 6, 6, 6, 11, 11, 6, 7, 6, 6, 11, 6, 6, 11, 6, 0, 6, 11, 6, 12, 7, 12, 6, 6, 7, 6, 6, 6, 7, 4, 5, 6, 6, 6, 6, 11, 6, 2, 6, 12, 6, 7, 6, 6, 6, 10, 6, 6, 6, 6, 6, 12, 6, 6, 6, 11, 6, 2, 6, 7, 10, 5, 6, 7, 7, 7, 7, 7, 6, 6, 4, 12, 6, 12, 12, 4, 12, 6, 4, 6, 6, 6, 4, 2, 6, 6, 9, 2, 5, 6, 6, 3, 7, 6, 7, 11, 3, 6, 6, 9, 2, 6, 6, 10, 11, 5, 10, 4, 6, 6, 12, 5, 6, 2, 6, 5, 6, 6, 12, 6, 12, 5, 6, 2, 6, 5, 6, 6, 6, 6, 6, 6, 6, 12, 6, 11, 11, 8, 2, 6, 6, 5, 2, 7, 6, 12, 5, 10, 5, 6, 6, 6, 6, 6, 6, 6, 5, 6, 6, 6, 7, 10, 6, 12, 6, 5, 5, 8, 4, 2, 6, 7, 6, 6, 9, 9, 12, 5, 6, 5, 10, 4, 6, 6, 6, 6, 9, 6, 4, 4, 5, 6, 9, 6, 6, 12, 6, 11, 10, 6, 6, 4, 6, 2, 6, 7, 6, 6, 2, 11, 6, 7, 11, 6, 2, 6, 5, 4, 6, 6, 9, 6, 8, 6, 5, 6, 6, 4, 6, 6, 6, 6, 6, 6, 6, 6, 6, 11, 6, 0, 12, 6, 6, 6, 6, 7, 12, 6, 5, 11, 5, 12, 6, 7, 11, 12, 3, 6, 5]\n",
            "[[0. 0. 0. ... 0. 0. 0.]\n",
            " [0. 0. 0. ... 0. 0. 0.]\n",
            " [0. 0. 0. ... 1. 0. 0.]\n",
            " ...\n",
            " [0. 0. 0. ... 0. 0. 0.]\n",
            " [0. 0. 0. ... 0. 0. 0.]\n",
            " [0. 0. 0. ... 0. 0. 0.]]\n",
            "[('no skills',), ('no skills',), ('triplet',), ('leaping_twisting',), ('down_steping',), ('no skills',), ('leaping_twisting',), ('no skills',), ('no skills',), ('no skills',), ('leaping_twisting',), ('no skills',), ('up_steping',), ('up_leaping',), ('no skills',), ('leaping_twisting',), ('no skills',), ('up_leaping',), ('no skills',), ('down_leaping',), ('no skills',), ('repeating',), ('no skills',), ('leaping_twisting',), ('down_steping',), ('no skills',), ('repeating',), ('steping_twisting',), ('up_leaping',), ('repeating',), ('leaping_twisting',), ('leaping_twisting',), ('no skills',), ('up_steping',), ('no skills',), ('triplet',), ('no skills',), ('no skills',), ('up_steping',), ('leaping_twisting',), ('no skills',), ('no skills',), ('no skills',), ('no skills',), ('no skills',), ('no skills',), ('no skills',), ('no skills',), ('up_steping',), ('no skills',), ('leaping_twisting',), ('leaping_twisting',), ('no skills',), ('leaping_twisting',), ('no skills',), ('no skills',), ('up_steping',), ('no skills',), ('down_steping',), ('no skills',), ('no skills',), ('no skills',), ('repeating',), ('up_leaping',), ('up_steping',), ('up_leaping',), ('leaping_twisting',), ('down_steping',), ('no skills',), ('no skills',), ('no skills',), ('up_steping',), ('up_leaping',), ('steping_twisting',), ('up_leaping',), ('no skills',), ('down_leaping',), ('triplet',), ('no skills',), ('up_leaping',), ('no skills',), ('down_leaping',), ('up_steping',), ('no skills',), ('no skills',), ('no skills',), ('no skills',), ('no skills',), ('leaping_twisting',), ('repeating',), ('leaping_twisting',), ('no skills',), ('up_leaping',), ('up_leaping',), ('no skills',), ('no skills',), ('staccato',), ('no skills',), ('no skills',), ('leaping_twisting',), ('One_rhythm',), ('no skills',), ('up_leaping',), ('no skills',), ('no skills',), ('down_leaping',), ('leaping_twisting',), ('no skills',), ('up_leaping',), ('no skills',), ('no skills',), ('leaping_twisting',), ('up_leaping',), ('up_steping',), ('no skills',), ('up_steping',), ('fast_rhythm',), ('no skills',), ('staccato',), ('up_leaping',), ('down_leaping',), ('no skills',), ('down_leaping',), ('leaping_twisting',), ('repeating',), ('no skills',), ('down_leaping',), ('down_leaping',), ('up_leaping',), ('no skills',), ('down_steping',), ('triplet',), ('leaping_twisting',), ('staccato',), ('leaping_twisting',), ('repeating',), ('no skills',), ('staccato',), ('no skills',), ('no skills',), ('up_leaping',), ('up_leaping',), ('triplet',), ('no skills',), ('leaping_twisting',), ('up_leaping',), ('triplet',), ('One_rhythm',), ('staccato',), ('up_leaping',), ('up_leaping',), ('leaping_twisting',), ('leaping_twisting',), ('repeating',), ('down_leaping',), ('no skills',), ('no skills',), ('no skills',), ('no skills',), ('no skills',), ('no skills',), ('staccato',), ('no skills',), ('up_leaping',), ('no skills',), ('down_leaping',), ('no skills',), ('no skills',), ('no skills',), ('triplet',), ('no skills',), ('down_steping',), ('no skills',), ('up_leaping',), ('repeating',), ('no skills',), ('down_leaping',), ('no skills',), ('up_steping',), ('continuing_rhythm',), ('no skills',), ('no skills',), ('leaping_twisting',), ('no skills',), ('up_leaping',), ('up_leaping',), ('no skills',), ('no skills',), ('up_steping',), ('leaping_twisting',), ('no skills',), ('no skills',), ('leaping_twisting',), ('no skills',), ('no skills',), ('no skills',), ('down_steping',), ('no skills',), ('triplet',), ('leaping_twisting',), ('no skills',), ('no skills',), ('no skills',), ('up_leaping',), ('up_steping',), ('leaping_twisting',), ('no skills',), ('up_leaping',), ('up_leaping',), ('no skills',), ('no skills',), ('no skills',), ('down_steping',), ('no skills',), ('repeating',), ('leaping_twisting',), ('repeating',), ('no skills',), ('leaping_twisting',), ('fast_rhythm',), ('no skills',), ('no skills',), ('leaping_twisting',), ('up_steping',), ('steping_twisting',), ('no skills',), ('up_steping',), ('up_leaping',), ('no skills',), ('repeating',), ('no skills',), ('up_steping',), ('no skills',), ('no skills',), ('fast_rhythm',), ('no skills',), ('up_leaping',), ('up_leaping',), ('steping_twisting',), ('down_leaping',), ('leaping_twisting',), ('up_steping',), ('no skills',), ('no skills',), ('repeating',), ('up_steping',), ('up_leaping',), ('no skills',), ('no skills',), ('no skills',), ('up_steping',), ('up_leaping',), ('no skills',), ('no skills',), ('leaping_twisting',), ('repeating',), ('no skills',), ('leaping_twisting',), ('no skills',), ('up_steping',), ('no skills',), ('leaping_twisting',), ('repeating',), ('no skills',), ('leaping_twisting',), ('up_leaping',), ('repeating',), ('down_leaping',), ('no skills',), ('no skills',), ('no skills',), ('no skills',), ('no skills',), ('no skills',), ('leaping_twisting',), ('no skills',), ('no skills',), ('up_leaping',), ('no skills',), ('up_steping',), ('leaping_twisting',), ('fast_rhythm',), ('triplet',), ('up_steping',), ('no skills',), ('up_steping',), ('leaping_twisting',), ('leaping_twisting',), ('no skills',), ('down_steping',), ('leaping_twisting',), ('up_leaping',), ('leaping_twisting',), ('no skills',), ('no skills',), ('no skills',), ('up_steping',), ('up_leaping',), ('up_steping',), ('up_leaping',), ('repeating',), ('up_steping',), ('no skills',), ('no skills',), ('fast_rhythm',), ('staccato',), ('no skills',), ('no skills',), ('leaping_twisting',), ('no skills',), ('down_steping',), ('up_leaping',), ('no skills',), ('repeating',), ('no skills',), ('staccato',), ('down_leaping',), ('no skills',), ('up_steping',), ('up_steping',), ('One_rhythm',), ('no skills',), ('triplet',), ('leaping_twisting',), ('triplet',), ('leaping_twisting',), ('continuing_rhythm',), ('up_leaping',), ('up_steping',), ('up_steping',), ('staccato',), ('no skills',), ('up_leaping',), ('up_leaping',), ('down_steping',), ('no skills',), ('triplet',), ('fast_rhythm',), ('no skills',), ('no skills',), ('no skills',), ('up_steping',), ('steping_twisting',), ('no skills',), ('no skills',), ('staccato',), ('no skills',), ('no skills',), ('no skills',), ('up_steping',), ('no skills',), ('no skills',), ('up_leaping',), ('no skills',), ('no skills',), ('up_steping',), ('continuing_rhythm',), ('no skills',), ('no skills',), ('no skills',), ('no skills',), ('down_leaping',), ('steping_twisting',), ('staccato',), ('no skills',), ('no skills',), ('no skills',), ('no skills',), ('no skills',), ('One_rhythm',), ('no skills',), ('no skills',), ('no skills',), ('no skills',), ('no skills',), ('no skills',), ('up_steping',), ('up_steping',), ('no skills',), ('no skills',), ('leaping_twisting',), ('no skills',), ('continuing_rhythm',), ('no skills',), ('no skills',), ('repeating',), ('up_leaping',), ('up_leaping',), ('no skills',), ('no skills',), ('no skills',), ('up_steping',), ('no skills',), ('no skills',), ('no skills',), ('no skills',), ('no skills',), ('repeating',), ('no skills',), ('up_steping',), ('leaping_twisting',), ('repeating',), ('no skills',), ('no skills',), ('no skills',), ('no skills',), ('up_leaping',), ('fast_rhythm',), ('up_steping',), ('no skills',), ('no skills',), ('no skills',), ('no skills',), ('no skills',), ('no skills',), ('no skills',), ('no skills',), ('up_leaping',), ('leaping_twisting',), ('no skills',), ('no skills',), ('One_rhythm',), ('no skills',), ('down_steping',), ('repeating',), ('no skills',), ('no skills',), ('fast_rhythm',), ('up_leaping',), ('down_leaping',), ('no skills',), ('up_leaping',), ('no skills',), ('leaping_twisting',), ('no skills',), ('up_steping',), ('triplet',), ('up_leaping',), ('staccato',), ('no skills',), ('repeating',), ('continuing_rhythm',), ('no skills',), ('no skills',), ('up_steping',), ('no skills',), ('leaping_twisting',), ('staccato',), ('no skills',), ('no skills',), ('up_steping',), ('no skills',), ('no skills',), ('no skills',), ('no skills',), ('up_leaping',), ('no skills',), ('leaping_twisting',), ('no skills',), ('fast_rhythm',), ('no skills',), ('leaping_twisting',), ('no skills',), ('no skills',), ('triplet',), ('no skills',), ('down_leaping',), ('leaping_twisting',), ('down_leaping',), ('up_leaping',), ('repeating',), ('no skills',), ('no skills',), ('leaping_twisting',), ('no skills',), ('up_steping',), ('repeating',), ('no skills',), ('repeating',), ('triplet',), ('down_leaping',), ('no skills',), ('no skills',), ('repeating',), ('repeating',), ('leaping_twisting',), ('no skills',), ('no skills',), ('no skills',), ('fast_rhythm',), ('repeating',), ('repeating',), ('no skills',), ('no skills',), ('no skills',), ('triplet',), ('down_steping',), ('down_steping',), ('down_leaping',), ('no skills',), ('fast_rhythm',), ('down_leaping',), ('up_leaping',), ('no skills',), ('up_leaping',), ('leaping_twisting',), ('no skills',), ('no skills',), ('no skills',), ('down_leaping',), ('up_steping',), ('no skills',), ('leaping_twisting',), ('down_leaping',), ('up_steping',), ('no skills',), ('repeating',), ('leaping_twisting',), ('triplet',), ('no skills',), ('staccato',), ('no skills',), ('no skills',), ('repeating',), ('up_steping',), ('down_steping',), ('no skills',), ('no skills',), ('repeating',), ('no skills',), ('no skills',), ('no skills',), ('no skills',), ('leaping_twisting',), ('leaping_twisting',), ('no skills',), ('One_rhythm',), ('no skills',), ('no skills',), ('leaping_twisting',), ('no skills',), ('no skills',), ('up_leaping',), ('up_leaping',), ('leaping_twisting',), ('up_steping',), ('down_leaping',), ('up_steping',), ('no skills',), ('leaping_twisting',), ('fast_rhythm',), ('down_leaping',), ('no skills',), ('no skills',), ('no skills',), ('staccato',), ('leaping_twisting',), ('no skills',), ('no skills',), ('no skills',), ('no skills',), ('no skills',), ('up_leaping',), ('continuing_rhythm',), ('leaping_twisting',), ('leaping_twisting',), ('no skills',), ('no skills',), ('leaping_twisting',), ('up_steping',), ('leaping_twisting',), ('no skills',), ('triplet',), ('repeating',), ('no skills',), ('up_leaping',), ('no skills',), ('repeating',), ('no skills',), ('no skills',), ('down_steping',), ('up_leaping',), ('no skills',), ('up_leaping',), ('up_leaping',), ('no skills',), ('no skills',), ('fast_rhythm',), ('no skills',), ('no skills',), ('no skills',), ('repeating',), ('no skills',), ('fast_rhythm',), ('down_leaping',), ('no skills',), ('continuing_rhythm',), ('triplet',), ('repeating',), ('no skills',), ('leaping_twisting',), ('down_leaping',), ('up_leaping',), ('down_leaping',), ('no skills',), ('repeating',), ('no skills',), ('leaping_twisting',), ('up_steping',), ('no skills',), ('no skills',), ('no skills',), ('no skills',), ('no skills',), ('no skills',), ('no skills',), ('repeating',), ('repeating',), ('leaping_twisting',), ('no skills',), ('no skills',), ('no skills',), ('repeating',), ('no skills',), ('no skills',), ('leaping_twisting',), ('up_steping',), ('no skills',), ('up_steping',), ('no skills',), ('no skills',), ('up_leaping',), ('no skills',), ('leaping_twisting',), ('no skills',), ('leaping_twisting',), ('leaping_twisting',), ('no skills',), ('up_leaping',), ('no skills',), ('staccato',), ('up_leaping',), ('leaping_twisting',), ('no skills',), ('leaping_twisting',), ('no skills',), ('leaping_twisting',), ('up_steping',), ('leaping_twisting',), ('staccato',), ('up_steping',), ('no skills',), ('no skills',), ('triplet',), ('staccato',), ('no skills',), ('repeating',), ('no skills',), ('no skills',), ('no skills',), ('no skills',), ('no skills',), ('repeating',), ('no skills',), ('no skills',), ('staccato',), ('no skills',), ('no skills',), ('steping_twisting',), ('no skills',), ('no skills',), ('no skills',), ('no skills',), ('down_leaping',), ('no skills',), ('up_steping',), ('no skills',), ('up_steping',), ('no skills',), ('leaping_twisting',), ('fast_rhythm',), ('repeating',), ('no skills',), ('repeating',), ('triplet',), ('up_steping',), ('no skills',), ('leaping_twisting',), ('no skills',), ('down_leaping',), ('no skills',), ('no skills',), ('no skills',), ('no skills',), ('no skills',), ('continuing_rhythm',), ('no skills',), ('down_leaping',), ('no skills',), ('no skills',), ('staccato',), ('no skills',), ('down_leaping',), ('up_steping',), ('no skills',), ('leaping_twisting',), ('down_leaping',), ('up_steping',), ('no skills',), ('up_leaping',), ('up_leaping',), ('no skills',), ('up_steping',), ('leaping_twisting',), ('repeating',), ('leaping_twisting',), ('no skills',), ('continuing_rhythm',), ('up_leaping',), ('up_leaping',), ('no skills',), ('no skills',), ('up_steping',), ('down_leaping',), ('down_leaping',), ('fast_rhythm',), ('leaping_twisting',), ('up_steping',), ('no skills',), ('up_steping',), ('no skills',), ('no skills',), ('no skills',), ('down_leaping',), ('no skills',), ('up_leaping',), ('no skills',), ('no skills',), ('down_steping',), ('leaping_twisting',), ('repeating',), ('no skills',), ('leaping_twisting',), ('no skills',), ('up_leaping',), ('fast_rhythm',), ('up_steping',), ('no skills',), ('repeating',), ('staccato',), ('no skills',), ('leaping_twisting',), ('up_steping',), ('up_leaping',), ('up_leaping',), ('no skills',), ('down_steping',), ('up_steping',), ('up_steping',), ('triplet',), ('down_steping',), ('no skills',), ('no skills',), ('staccato',), ('repeating',), ('up_steping',), ('no skills',), ('leaping_twisting',), ('leaping_twisting',), ('no skills',), ('leaping_twisting',), ('continuing_rhythm',), ('no skills',), ('down_leaping',), ('no skills',), ('up_leaping',), ('down_steping',), ('no skills',), ('down_steping',), ('no skills',), ('leaping_twisting',), ('no skills',), ('no skills',), ('staccato',), ('leaping_twisting',), ('repeating',), ('no skills',), ('no skills',), ('repeating',), ('no skills',), ('up_leaping',), ('no skills',), ('leaping_twisting',), ('leaping_twisting',), ('up_leaping',), ('no skills',), ('down_leaping',), ('no skills',), ('leaping_twisting',), ('up_steping',), ('up_leaping',), ('triplet',), ('triplet',), ('staccato',), ('no skills',), ('steping_twisting',), ('up_leaping',), ('down_leaping',), ('leaping_twisting',), ('leaping_twisting',), ('no skills',), ('down_leaping',), ('leaping_twisting',), ('no skills',), ('down_leaping',), ('leaping_twisting',), ('up_steping',), ('up_steping',), ('continuing_rhythm',), ('down_leaping',), ('no skills',), ('no skills',), ('continuing_rhythm',), ('up_leaping',), ('no skills',), ('no skills',), ('no skills',), ('leaping_twisting',), ('up_leaping',), ('leaping_twisting',), ('repeating',), ('leaping_twisting',), ('no skills',), ('up_leaping',), ('no skills',), ('leaping_twisting',), ('no skills',), ('repeating',), ('One_rhythm',), ('no skills',), ('down_steping',), ('leaping_twisting',), ('leaping_twisting',), ('no skills',), ('down_leaping',), ('fast_rhythm',), ('down_steping',), ('leaping_twisting',), ('up_steping',), ('down_leaping',), ('triplet',), ('leaping_twisting',), ('triplet',), ('no skills',), ('up_leaping',), ('leaping_twisting',), ('no skills',), ('up_leaping',), ('up_steping',), ('no skills',), ('no skills',), ('no skills',), ('up_leaping',), ('fast_rhythm',), ('no skills',), ('fast_rhythm',), ('steping_twisting',), ('leaping_twisting',), ('no skills',), ('repeating',), ('no skills',), ('fast_rhythm',), ('leaping_twisting',), ('no skills',), ('no skills',), ('no skills',), ('up_leaping',), ('no skills',), ('up_leaping',), ('no skills',), ('up_steping',), ('no skills',), ('repeating',), ('leaping_twisting',), ('repeating',), ('leaping_twisting',), ('no skills',), ('down_leaping',), ('continuing_rhythm',), ('no skills',), ('leaping_twisting',), ('up_leaping',), ('no skills',), ('no skills',), ('no skills',), ('no skills',), ('repeating',), ('repeating',), ('no skills',), ('down_leaping',), ('up_leaping',), ('up_leaping',), ('repeating',), ('repeating',), ('no skills',), ('leaping_twisting',), ('no skills',), ('no skills',), ('fast_rhythm',), ('up_steping',), ('continuing_rhythm',), ('staccato',), ('up_leaping',), ('leaping_twisting',), ('up_steping',), ('no skills',), ('no skills',), ('no skills',), ('leaping_twisting',), ('triplet',), ('no skills',), ('no skills',), ('no skills',), ('no skills',), ('no skills',), ('no skills',), ('no skills',), ('no skills',), ('up_steping',), ('no skills',), ('no skills',), ('no skills',), ('leaping_twisting',), ('fast_rhythm',), ('no skills',), ('no skills',), ('up_leaping',), ('triplet',), ('leaping_twisting',), ('down_steping',), ('no skills',), ('down_leaping',), ('no skills',), ('no skills',), ('down_steping',), ('no skills',), ('leaping_twisting',), ('no skills',), ('no skills',), ('no skills',), ('no skills',), ('no skills',), ('leaping_twisting',), ('up_leaping',), ('no skills',), ('leaping_twisting',), ('triplet',), ('no skills',), ('no skills',), ('fast_rhythm',), ('steping_twisting',), ('fast_rhythm',), ('no skills',), ('leaping_twisting',), ('leaping_twisting',), ('up_steping',), ('no skills',), ('repeating',), ('leaping_twisting',), ('repeating',), ('leaping_twisting',), ('leaping_twisting',), ('no skills',), ('no skills',), ('no skills',), ('no skills',), ('continuing_rhythm',), ('no skills',), ('triplet',), ('leaping_twisting',), ('no skills',), ('no skills',), ('repeating',), ('repeating',), ('repeating',), ('no skills',), ('steping_twisting',), ('no skills',), ('down_leaping',), ('no skills',), ('up_steping',), ('fast_rhythm',), ('no skills',), ('repeating',), ('repeating',), ('leaping_twisting',), ('no skills',), ('steping_twisting',), ('no skills',), ('steping_twisting',), ('no skills',), ('up_steping',), ('up_steping',), ('no skills',), ('steping_twisting',), ('up_steping',), ('no skills',), ('staccato',), ('no skills',), ('staccato',), ('no skills',), ('no skills',), ('no skills',), ('triplet',), ('no skills',), ('no skills',), ('leaping_twisting',), ('repeating',), ('no skills',), ('steping_twisting',), ('no skills',), ('One_rhythm',), ('fast_rhythm',), ('up_leaping',), ('no skills',), ('no skills',), ('leaping_twisting',), ('no skills',), ('down_leaping',), ('down_steping',), ('no skills',), ('no skills',), ('leaping_twisting',), ('repeating',), ('repeating',), ('up_steping',), ('leaping_twisting',), ('triplet',), ('no skills',), ('leaping_twisting',), ('leaping_twisting',), ('no skills',), ('no skills',), ('no skills',), ('no skills',), ('no skills',), ('leaping_twisting',), ('staccato',), ('no skills',), ('up_leaping',), ('leaping_twisting',), ('repeating',), ('triplet',), ('up_steping',), ('no skills',), ('no skills',), ('leaping_twisting',), ('leaping_twisting',), ('no skills',), ('leaping_twisting',), ('leaping_twisting',), ('up_leaping',), ('down_steping',), ('no skills',), ('triplet',), ('no skills',), ('no skills',), ('repeating',), ('leaping_twisting',), ('leaping_twisting',), ('no skills',), ('no skills',), ('no skills',), ('up_leaping',), ('no skills',), ('no skills',), ('no skills',), ('down_steping',), ('no skills',), ('repeating',), ('no skills',), ('up_leaping',), ('up_leaping',), ('triplet',), ('no skills',), ('repeating',), ('up_leaping',), ('fast_rhythm',), ('repeating',), ('triplet',), ('no skills',), ('no skills',), ('up_steping',), ('leaping_twisting',), ('up_steping',), ('leaping_twisting',), ('up_leaping',), ('no skills',), ('repeating',), ('up_leaping',), ('no skills',), ('no skills',), ('staccato',), ('no skills',), ('fast_rhythm',), ('down_leaping',), ('leaping_twisting',), ('repeating',), ('no skills',), ('up_leaping',), ('up_leaping',), ('fast_rhythm',), ('no skills',), ('no skills',), ('down_leaping',), ('no skills',), ('no skills',), ('down_leaping',), ('repeating',), ('no skills',), ('repeating',), ('up_steping',), ('no skills',), ('repeating',), ('no skills',), ('up_steping',), ('repeating',), ('triplet',), ('staccato',), ('up_leaping',), ('triplet',), ('triplet',), ('down_steping',), ('no skills',), ('no skills',), ('no skills',), ('repeating',), ('no skills',), ('leaping_twisting',), ('up_steping',), ('no skills',), ('no skills',), ('no skills',), ('repeating',), ('no skills',), ('leaping_twisting',), ('up_steping',), ('up_leaping',), ('up_steping',), ('up_leaping',), ('steping_twisting',), ('no skills',), ('up_steping',), ('no skills',), ('leaping_twisting',), ('no skills',), ('no skills',), ('no skills',), ('continuing_rhythm',), ('leaping_twisting',), ('leaping_twisting',), ('leaping_twisting',), ('fast_rhythm',), ('up_leaping',), ('no skills',), ('no skills',), ('repeating',), ('no skills',), ('fast_rhythm',), ('steping_twisting',), ('no skills',), ('steping_twisting',), ('up_steping',), ('up_steping',), ('no skills',), ('continuing_rhythm',), ('up_steping',), ('up_leaping',), ('no skills',), ('no skills',), ('repeating',), ('leaping_twisting',), ('up_leaping',), ('no skills',), ('no skills',), ('no skills',), ('no skills',), ('leaping_twisting',), ('up_leaping',), ('up_steping',), ('leaping_twisting',), ('no skills',), ('fast_rhythm',), ('no skills',), ('repeating',), ('continuing_rhythm',), ('fast_rhythm',), ('fast_rhythm',), ('down_steping',), ('no skills',), ('no skills',), ('repeating',), ('no skills',), ('leaping_twisting',), ('up_steping',), ('leaping_twisting',), ('no skills',), ('repeating',), ('up_steping',), ('up_steping',), ('no skills',), ('no skills',), ('no skills',), ('no skills',), ('no skills',), ('down_leaping',), ('continuing_rhythm',), ('no skills',), ('no skills',), ('no skills',), ('repeating',), ('fast_rhythm',), ('steping_twisting',), ('no skills',), ('leaping_twisting',), ('up_steping',), ('up_leaping',), ('triplet',), ('leaping_twisting',), ('no skills',), ('up_leaping',), ('no skills',), ('no skills',), ('no skills',), ('down_leaping',), ('up_leaping',), ('no skills',), ('repeating',), ('down_steping',), ('no skills',), ('no skills',), ('leaping_twisting',), ('staccato',), ('no skills',), ('up_leaping',), ('no skills',), ('no skills',), ('down_leaping',), ('no skills',), ('One_rhythm',), ('continuing_rhythm',), ('down_steping',), ('down_leaping',), ('no skills',), ('up_leaping',), ('no skills',), ('no skills',), ('repeating',), ('down_steping',), ('down_leaping',), ('triplet',), ('no skills',), ('no skills',), ('no skills',), ('up_steping',), ('no skills',), ('up_steping',), ('leaping_twisting',), ('repeating',), ('One_rhythm',), ('no skills',), ('staccato',), ('fast_rhythm',), ('up_leaping',), ('leaping_twisting',), ('leaping_twisting',), ('staccato',), ('up_steping',), ('triplet',), ('repeating',), ('no skills',), ('no skills',), ('no skills',), ('up_steping',), ('down_leaping',), ('no skills',), ('staccato',), ('no skills',), ('no skills',), ('down_steping',), ('repeating',), ('up_leaping',), ('no skills',), ('no skills',), ('no skills',), ('no skills',), ('no skills',), ('up_steping',), ('up_steping',), ('down_leaping',), ('staccato',), ('no skills',), ('up_leaping',), ('staccato',), ('down_leaping',), ('no skills',), ('down_leaping',), ('staccato',), ('up_leaping',), ('no skills',), ('leaping_twisting',), ('leaping_twisting',), ('up_leaping',), ('leaping_twisting',), ('no skills',), ('no skills',), ('no skills',), ('leaping_twisting',), ('no skills',), ('no skills',), ('repeating',), ('up_steping',), ('no skills',), ('no skills',), ('leaping_twisting',), ('no skills',), ('no skills',), ('leaping_twisting',), ('down_leaping',), ('no skills',), ('up_leaping',), ('fast_rhythm',), ('repeating',), ('repeating',), ('fast_rhythm',), ('no skills',), ('no skills',), ('no skills',), ('no skills',), ('no skills',), ('no skills',), ('no skills',), ('no skills',), ('staccato',), ('no skills',), ('repeating',), ('no skills',), ('down_leaping',), ('repeating',), ('no skills',), ('no skills',), ('triplet',), ('up_steping',), ('up_leaping',), ('no skills',), ('no skills',), ('no skills',), ('no skills',), ('no skills',), ('no skills',), ('leaping_twisting',), ('no skills',), ('fast_rhythm',), ('leaping_twisting',), ('leaping_twisting',), ('up_leaping',), ('no skills',), ('up_leaping',), ('no skills',), ('no skills',), ('no skills',), ('up_leaping',), ('no skills',), ('no skills',), ('repeating',), ('no skills',), ('fast_rhythm',), ('no skills',), ('no skills',), ('up_leaping',), ('no skills',), ('repeating',), ('no skills',), ('repeating',), ('repeating',), ('no skills',), ('leaping_twisting',), ('up_steping',), ('no skills',), ('leaping_twisting',), ('no skills',), ('down_leaping',), ('leaping_twisting',), ('no skills',), ('no skills',), ('no skills',), ('up_leaping',), ('no skills',), ('leaping_twisting',), ('fast_rhythm',), ('no skills',), ('up_leaping',), ('up_leaping',), ('triplet',), ('no skills',), ('no skills',), ('repeating',), ('no skills',), ('repeating',), ('no skills',), ('no skills',), ('no skills',), ('triplet',), ('no skills',), ('up_steping',), ('leaping_twisting',), ('repeating',), ('no skills',), ('leaping_twisting',), ('steping_twisting',), ('no skills',), ('leaping_twisting',), ('no skills',), ('triplet',), ('up_steping',), ('no skills',), ('no skills',), ('up_leaping',), ('no skills',), ('steping_twisting',), ('up_leaping',), ('down_leaping',), ('no skills',), ('leaping_twisting',), ('no skills',), ('no skills',), ('up_leaping',), ('staccato',), ('no skills',), ('leaping_twisting',), ('no skills',), ('steping_twisting',), ('repeating',), ('no skills',), ('up_leaping',), ('no skills',), ('triplet',), ('down_leaping',), ('no skills',), ('leaping_twisting',), ('up_leaping',), ('up_steping',), ('repeating',), ('no skills',), ('down_steping',), ('no skills',), ('up_steping',), ('fast_rhythm',), ('no skills',), ('repeating',), ('no skills',), ('no skills',), ('steping_twisting',), ('no skills',), ('leaping_twisting',), ('no skills',), ('no skills',), ('no skills',), ('no skills',), ('up_leaping',), ('no skills',), ('up_steping',), ('no skills',), ('no skills',), ('no skills',), ('no skills',), ('leaping_twisting',), ('fast_rhythm',), ('down_steping',), ('triplet',), ('up_leaping',), ('leaping_twisting',), ('no skills',), ('no skills',), ('staccato',), ('triplet',), ('no skills',), ('fast_rhythm',), ('no skills',), ('no skills',), ('no skills',), ('no skills',), ('no skills',), ('leaping_twisting',), ('no skills',), ('no skills',), ('no skills',), ('no skills',), ('no skills',), ('repeating',), ('down_steping',), ('up_leaping',), ('staccato',), ('up_steping',), ('leaping_twisting',), ('down_leaping',), ('repeating',), ('no skills',), ('no skills',), ('no skills',), ('no skills',), ('no skills',), ('no skills',), ('fast_rhythm',), ('no skills',), ('down_leaping',), ('up_steping',), ('no skills',), ('no skills',), ('leaping_twisting',), ('up_leaping',), ('no skills',), ('no skills',), ('no skills',), ('no skills',), ('fast_rhythm',), ('no skills',), ('up_steping',), ('no skills',), ('leaping_twisting',), ('fast_rhythm',), ('up_leaping',), ('leaping_twisting',), ('staccato',), ('no skills',), ('down_steping',), ('no skills',), ('up_leaping',), ('no skills',), ('up_steping',), ('no skills',), ('up_leaping',), ('down_leaping',), ('no skills',), ('up_steping',), ('up_steping',), ('no skills',), ('no skills',), ('up_steping',), ('no skills',), ('triplet',), ('no skills',), ('One_rhythm',), ('no skills',), ('no skills',), ('leaping_twisting',), ('no skills',), ('no skills',), ('no skills',), ('up_leaping',), ('leaping_twisting',), ('no skills',), ('triplet',), ('up_steping',), ('no skills',), ('no skills',), ('fast_rhythm',), ('up_leaping',), ('no skills',), ('leaping_twisting',), ('no skills',), ('up_steping',), ('no skills',), ('up_leaping',), ('no skills',), ('repeating',), ('no skills',), ('leaping_twisting',), ('leaping_twisting',), ('no skills',), ('no skills',), ('up_leaping',), ('no skills',), ('up_steping',), ('no skills',), ('down_leaping',), ('no skills',), ('staccato',), ('leaping_twisting',), ('no skills',), ('no skills',), ('staccato',), ('leaping_twisting',), ('no skills',), ('no skills',), ('no skills',), ('repeating',), ('repeating',), ('up_steping',), ('leaping_twisting',), ('down_leaping',), ('up_leaping',), ('no skills',), ('no skills',), ('no skills',), ('no skills',), ('no skills',), ('staccato',), ('down_steping',), ('no skills',), ('no skills',), ('no skills',), ('repeating',), ('down_steping',), ('triplet',), ('no skills',), ('triplet',), ('no skills',), ('fast_rhythm',), ('up_steping',), ('up_steping',), ('no skills',), ('no skills',), ('triplet',), ('up_steping',), ('no skills',), ('leaping_twisting',), ('repeating',), ('staccato',), ('leaping_twisting',), ('leaping_twisting',), ('repeating',), ('up_leaping',), ('no skills',), ('no skills',), ('leaping_twisting',), ('no skills',), ('up_steping',), ('triplet',), ('leaping_twisting',), ('up_steping',), ('no skills',), ('no skills',), ('no skills',), ('no skills',), ('fast_rhythm',), ('no skills',), ('One_rhythm',), ('no skills',), ('leaping_twisting',), ('no skills',), ('no skills',), ('no skills',), ('no skills',), ('no skills',), ('repeating',), ('up_leaping',), ('fast_rhythm',), ('up_leaping',), ('no skills',), ('no skills',), ('steping_twisting',), ('repeating',), ('no skills',), ('no skills',), ('no skills',), ('repeating',), ('no skills',), ('no skills',), ('no skills',), ('repeating',), ('no skills',), ('down_steping',), ('repeating',), ('no skills',), ('no skills',), ('no skills',), ('leaping_twisting',), ('no skills',), ('no skills',), ('no skills',), ('up_steping',), ('no skills',), ('repeating',), ('no skills',), ('steping_twisting',), ('no skills',), ('up_steping',), ('no skills',), ('down_leaping',), ('no skills',), ('no skills',), ('down_leaping',), ('repeating',), ('no skills',), ('up_leaping',), ('no skills',), ('up_leaping',), ('up_steping',), ('no skills',), ('leaping_twisting',), ('no skills',), ('no skills',), ('steping_twisting',), ('leaping_twisting',), ('up_leaping',), ('no skills',), ('down_leaping',), ('no skills',), ('no skills',), ('leaping_twisting',), ('repeating',), ('down_leaping',), ('triplet',), ('up_steping',), ('repeating',), ('leaping_twisting',), ('up_leaping',), ('repeating',), ('leaping_twisting',), ('repeating',), ('up_steping',), ('steping_twisting',), ('leaping_twisting',), ('up_steping',), ('leaping_twisting',), ('no skills',), ('up_steping',), ('repeating',), ('down_steping',), ('repeating',), ('no skills',), ('no skills',), ('down_leaping',), ('down_leaping',), ('leaping_twisting',), ('fast_rhythm',), ('steping_twisting',), ('no skills',), ('no skills',), ('no skills',), ('repeating',), ('no skills',), ('no skills',), ('down_leaping',), ('leaping_twisting',), ('no skills',), ('fast_rhythm',), ('fast_rhythm',), ('no skills',), ('no skills',), ('triplet',), ('no skills',), ('down_leaping',), ('no skills',), ('no skills',), ('staccato',), ('no skills',), ('down_leaping',), ('no skills',), ('up_leaping',), ('up_leaping',), ('triplet',), ('leaping_twisting',), ('up_steping',), ('up_steping',), ('repeating',), ('repeating',), ('down_leaping',), ('no skills',), ('staccato',), ('no skills',), ('no skills',), ('no skills',), ('no skills',), ('staccato',), ('leaping_twisting',), ('no skills',), ('no skills',), ('up_leaping',), ('staccato',), ('leaping_twisting',), ('up_leaping',), ('no skills',), ('no skills',), ('no skills',), ('up_steping',), ('down_leaping',), ('no skills',), ('no skills',), ('leaping_twisting',), ('leaping_twisting',), ('triplet',), ('no skills',), ('no skills',), ('no skills',), ('no skills',), ('leaping_twisting',), ('down_steping',), ('leaping_twisting',), ('leaping_twisting',), ('up_steping',), ('no skills',), ('no skills',), ('up_steping',), ('no skills',), ('up_steping',), ('no skills',), ('down_steping',), ('no skills',), ('no skills',), ('triplet',), ('repeating',), ('down_leaping',), ('no skills',), ('steping_twisting',), ('leaping_twisting',), ('no skills',), ('no skills',), ('repeating',), ('no skills',), ('repeating',), ('no skills',), ('no skills',), ('steping_twisting',), ('repeating',), ('no skills',), ('fast_rhythm',), ('no skills',), ('down_steping',), ('no skills',), ('no skills',), ('no skills',), ('triplet',), ('up_steping',), ('fast_rhythm',), ('no skills',), ('leaping_twisting',), ('fast_rhythm',), ('no skills',), ('no skills',), ('no skills',), ('no skills',), ('leaping_twisting',), ('repeating',), ('down_leaping',), ('no skills',), ('continuing_rhythm',), ('steping_twisting',), ('no skills',), ('fast_rhythm',), ('no skills',), ('no skills',), ('repeating',), ('repeating',), ('no skills',), ('down_steping',), ('no skills',), ('no skills',), ('no skills',), ('no skills',), ('no skills',), ('down_leaping',), ('leaping_twisting',), ('leaping_twisting',), ('no skills',), ('down_leaping',), ('fast_rhythm',), ('no skills',), ('up_steping',), ('leaping_twisting',), ('no skills',), ('no skills',), ('repeating',), ('repeating',), ('down_leaping',), ('fast_rhythm',), ('no skills',), ('up_leaping',), ('no skills',), ('no skills',), ('leaping_twisting',), ('repeating',), ('leaping_twisting',), ('no skills',), ('staccato',), ('triplet',), ('no skills',), ('up_steping',), ('leaping_twisting',), ('down_leaping',), ('triplet',), ('no skills',), ('continuing_rhythm',), ('no skills',), ('no skills',), ('down_leaping',), ('leaping_twisting',), ('no skills',), ('up_leaping',), ('down_steping',), ('leaping_twisting',), ('leaping_twisting',), ('up_leaping',), ('no skills',), ('up_steping',), ('no skills',), ('no skills',), ('no skills',), ('no skills',), ('up_steping',), ('no skills',), ('no skills',), ('up_steping',), ('staccato',), ('no skills',), ('no skills',), ('no skills',), ('no skills',), ('up_leaping',), ('no skills',), ('up_leaping',), ('no skills',), ('no skills',), ('triplet',), ('steping_twisting',), ('no skills',), ('up_leaping',), ('fast_rhythm',), ('no skills',), ('no skills',), ('up_steping',), ('no skills',), ('down_steping',), ('staccato',), ('up_steping',), ('no skills',), ('up_leaping',), ('up_steping',), ('fast_rhythm',), ('repeating',), ('no skills',), ('no skills',), ('down_leaping',), ('up_steping',), ('triplet',), ('no skills',), ('no skills',), ('staccato',), ('fast_rhythm',), ('fast_rhythm',), ('no skills',), ('no skills',), ('staccato',), ('no skills',), ('no skills',), ('up_leaping',), ('up_leaping',), ('leaping_twisting',), ('leaping_twisting',), ('no skills',), ('repeating',), ('no skills',), ('no skills',), ('steping_twisting',), ('repeating',), ('no skills',), ('repeating',), ('no skills',), ('no skills',), ('repeating',), ('no skills',), ('up_steping',), ('leaping_twisting',), ('no skills',), ('no skills',), ('up_leaping',), ('down_leaping',), ('no skills',), ('up_leaping',), ('down_leaping',), ('up_leaping',), ('no skills',), ('no skills',), ('leaping_twisting',), ('down_leaping',), ('no skills',), ('no skills',), ('no skills',), ('repeating',), ('no skills',), ('down_leaping',), ('no skills',), ('no skills',), ('up_leaping',), ('up_steping',), ('no skills',), ('no skills',), ('leaping_twisting',), ('up_steping',), ('up_steping',), ('up_steping',), ('repeating',), ('no skills',), ('repeating',), ('up_leaping',), ('no skills',), ('no skills',), ('no skills',), ('no skills',), ('no skills',), ('up_leaping',), ('repeating',), ('up_leaping',), ('no skills',), ('down_leaping',), ('leaping_twisting',), ('no skills',), ('no skills',), ('staccato',), ('no skills',), ('leaping_twisting',), ('up_leaping',), ('repeating',), ('no skills',), ('down_steping',), ('triplet',), ('leaping_twisting',), ('no skills',), ('no skills',), ('no skills',), ('leaping_twisting',), ('no skills',), ('down_leaping',), ('no skills',), ('repeating',), ('no skills',), ('staccato',), ('no skills',), ('up_leaping',), ('no skills',), ('triplet',), ('no skills',), ('triplet',), ('One_rhythm',), ('no skills',), ('repeating',), ('leaping_twisting',), ('repeating',), ('no skills',), ('leaping_twisting',), ('no skills',), ('up_leaping',), ('leaping_twisting',), ('up_leaping',), ('no skills',), ('up_leaping',), ('up_leaping',), ('no skills',), ('up_leaping',), ('fast_rhythm',), ('triplet',), ('no skills',), ('no skills',), ('up_steping',), ('no skills',), ('no skills',), ('fast_rhythm',), ('up_leaping',), ('leaping_twisting',), ('up_steping',), ('no skills',), ('down_steping',), ('no skills',), ('leaping_twisting',), ('down_steping',), ('down_leaping',), ('no skills',), ('up_leaping',), ('no skills',), ('down_leaping',), ('up_leaping',), ('up_steping',), ('no skills',), ('no skills',), ('no skills',), ('repeating',), ('leaping_twisting',), ('no skills',), ('no skills',), ('leaping_twisting',), ('no skills',), ('no skills',), ('no skills',), ('triplet',), ('up_leaping',), ('no skills',), ('triplet',), ('no skills',), ('repeating',), ('no skills',), ('leaping_twisting',), ('continuing_rhythm',), ('no skills',), ('triplet',), ('no skills',), ('down_steping',), ('repeating',), ('triplet',), ('down_leaping',), ('no skills',), ('no skills',), ('continuing_rhythm',), ('no skills',), ('no skills',), ('staccato',), ('One_rhythm',), ('no skills',), ('up_steping',), ('down_leaping',), ('leaping_twisting',), ('no skills',), ('no skills',), ('no skills',), ('no skills',), ('no skills',), ('staccato',), ('up_leaping',), ('no skills',), ('no skills',), ('leaping_twisting',), ('no skills',), ('no skills',), ('fast_rhythm',), ('up_leaping',), ('fast_rhythm',), ('no skills',), ('up_leaping',), ('repeating',), ('no skills',), ('no skills',), ('no skills',), ('leaping_twisting',), ('fast_rhythm',), ('up_leaping',), ('no skills',), ('no skills',), ('no skills',), ('staccato',), ('no skills',), ('up_leaping',), ('no skills',), ('repeating',), ('no skills',), ('no skills',), ('no skills',), ('no skills',), ('triplet',), ('down_leaping',), ('no skills',), ('repeating',), ('no skills',), ('up_steping',), ('leaping_twisting',), ('leaping_twisting',), ('no skills',), ('no skills',), ('no skills',), ('no skills',), ('no skills',), ('steping_twisting',), ('down_leaping',), ('no skills',), ('repeating',), ('no skills',), ('One_rhythm',), ('down_steping',), ('One_rhythm',), ('leaping_twisting',), ('no skills',), ('no skills',), ('triplet',), ('no skills',), ('no skills',), ('up_steping',), ('no skills',), ('no skills',), ('up_leaping',), ('staccato',), ('up_steping',), ('no skills',), ('up_leaping',), ('no skills',), ('up_leaping',), ('no skills',), ('up_leaping',), ('up_steping',), ('down_leaping',), ('leaping_twisting',), ('no skills',), ('up_steping',), ('no skills',), ('leaping_twisting',), ('leaping_twisting',), ('no skills',), ('no skills',), ('triplet',), ('leaping_twisting',), ('no skills',), ('One_rhythm',), ('no skills',), ('down_leaping',), ('staccato',), ('leaping_twisting',), ('no skills',), ('no skills',), ('up_steping',), ('no skills',), ('leaping_twisting',), ('leaping_twisting',), ('repeating',), ('no skills',), ('no skills',), ('repeating',), ('repeating',), ('no skills',), ('no skills',), ('leaping_twisting',), ('no skills',), ('staccato',), ('up_leaping',), ('no skills',), ('no skills',), ('fast_rhythm',), ('leaping_twisting',), ('leaping_twisting',), ('no skills',), ('up_leaping',), ('up_steping',), ('no skills',), ('no skills',), ('staccato',), ('no skills',), ('no skills',), ('no skills',), ('leaping_twisting',), ('no skills',), ('up_leaping',), ('up_leaping',), ('no skills',), ('leaping_twisting',), ('no skills',), ('repeating',), ('up_leaping',), ('leaping_twisting',), ('repeating',), ('leaping_twisting',), ('no skills',), ('leaping_twisting',), ('no skills',), ('leaping_twisting',), ('up_steping',), ('down_steping',), ('fast_rhythm',), ('up_leaping',), ('no skills',), ('repeating',), ('down_leaping',), ('up_steping',), ('down_leaping',), ('leaping_twisting',), ('up_leaping',), ('fast_rhythm',), ('leaping_twisting',), ('no skills',), ('no skills',), ('no skills',), ('leaping_twisting',), ('no skills',), ('steping_twisting',), ('up_leaping',), ('repeating',), ('leaping_twisting',), ('fast_rhythm',), ('no skills',), ('staccato',), ('leaping_twisting',), ('no skills',), ('up_steping',), ('no skills',), ('no skills',), ('continuing_rhythm',), ('leaping_twisting',), ('steping_twisting',), ('leaping_twisting',), ('no skills',), ('no skills',), ('staccato',), ('up_steping',), ('repeating',), ('up_leaping',), ('no skills',), ('no skills',), ('no skills',), ('leaping_twisting',), ('no skills',), ('no skills',), ('no skills',), ('leaping_twisting',), ('no skills',), ('leaping_twisting',), ('no skills',), ('triplet',), ('leaping_twisting',), ('leaping_twisting',), ('down_leaping',), ('staccato',), ('no skills',), ('leaping_twisting',), ('up_leaping',), ('no skills',), ('up_leaping',), ('no skills',), ('up_leaping',), ('triplet',), ('no skills',), ('down_steping',), ('triplet',), ('One_rhythm',), ('no skills',), ('leaping_twisting',), ('up_leaping',), ('no skills',), ('fast_rhythm',), ('no skills',), ('staccato',), ('up_steping',), ('leaping_twisting',), ('no skills',), ('no skills',), ('down_steping',), ('leaping_twisting',), ('down_steping',), ('no skills',), ('leaping_twisting',), ('no skills',), ('up_steping',), ('up_steping',), ('up_steping',), ('triplet',), ('no skills',), ('down_leaping',), ('steping_twisting',), ('no skills',), ('no skills',), ('leaping_twisting',), ('repeating',), ('up_steping',), ('no skills',), ('no skills',), ('down_leaping',), ('no skills',), ('triplet',), ('no skills',), ('leaping_twisting',), ('up_steping',), ('no skills',), ('no skills',), ('no skills',), ('no skills',), ('up_leaping',), ('no skills',), ('leaping_twisting',), ('up_steping',), ('no skills',), ('no skills',), ('fast_rhythm',), ('no skills',), ('fast_rhythm',), ('up_steping',), ('no skills',), ('up_leaping',), ('repeating',), ('leaping_twisting',), ('down_leaping',), ('triplet',), ('no skills',), ('down_leaping',), ('no skills',), ('leaping_twisting',), ('fast_rhythm',), ('steping_twisting',), ('fast_rhythm',), ('no skills',), ('staccato',), ('up_leaping',), ('up_leaping',), ('down_leaping',), ('no skills',), ('no skills',), ('no skills',), ('down_leaping',), ('repeating',), ('triplet',), ('fast_rhythm',), ('leaping_twisting',), ('One_rhythm',), ('down_leaping',), ('no skills',), ('triplet',), ('no skills',), ('steping_twisting',), ('triplet',), ('leaping_twisting',), ('no skills',), ('steping_twisting',), ('One_rhythm',), ('leaping_twisting',), ('up_leaping',), ('continuing_rhythm',), ('leaping_twisting',), ('up_leaping',), ('continuing_rhythm',), ('no skills',), ('staccato',), ('triplet',), ('no skills',), ('up_steping',), ('up_leaping',), ('no skills',), ('no skills',), ('repeating',), ('leaping_twisting',), ('no skills',), ('no skills',), ('no skills',), ('fast_rhythm',), ('leaping_twisting',), ('leaping_twisting',), ('leaping_twisting',), ('no skills',), ('no skills',), ('leaping_twisting',), ('no skills',), ('up_leaping',), ('repeating',), ('up_steping',), ('down_steping',), ('no skills',), ('no skills',), ('up_leaping',), ('fast_rhythm',), ('repeating',), ('continuing_rhythm',), ('no skills',), ('up_leaping',), ('staccato',), ('steping_twisting',), ('up_steping',), ('no skills',), ('no skills',), ('no skills',), ('fast_rhythm',), ('up_leaping',), ('down_leaping',), ('down_leaping',), ('up_leaping',), ('no skills',), ('leaping_twisting',), ('fast_rhythm',), ('no skills',), ('leaping_twisting',), ('no skills',), ('up_leaping',), ('no skills',), ('no skills',), ('triplet',), ('steping_twisting',), ('no skills',), ('no skills',), ('no skills',), ('leaping_twisting',), ('steping_twisting',), ('leaping_twisting',), ('leaping_twisting',), ('no skills',), ('up_leaping',), ('leaping_twisting',), ('triplet',), ('no skills',), ('leaping_twisting',), ('no skills',), ('no skills',), ('down_leaping',), ('no skills',), ('no skills',), ('no skills',), ('One_rhythm',), ('up_steping',), ('leaping_twisting',), ('up_steping',), ('up_steping',), ('triplet',), ('no skills',), ('no skills',), ('triplet',), ('down_steping',), ('repeating',), ('leaping_twisting',), ('up_steping',), ('no skills',), ('leaping_twisting',), ('down_steping',), ('staccato',), ('no skills',), ('fast_rhythm',), ('up_steping',), ('no skills',), ('no skills',), ('up_steping',), ('no skills',), ('up_leaping',), ('no skills',), ('no skills',), ('leaping_twisting',), ('no skills',), ('One_rhythm',), ('staccato',), ('down_leaping',), ('leaping_twisting',), ('repeating',), ('no skills',), ('down_leaping',), ('leaping_twisting',), ('no skills',), ('repeating',), ('no skills',), ('down_leaping',), ('leaping_twisting',), ('leaping_twisting',), ('no skills',), ('leaping_twisting',), ('leaping_twisting',), ('triplet',), ('continuing_rhythm',), ('staccato',), ('leaping_twisting',), ('no skills',), ('repeating',), ('no skills',), ('no skills',), ('up_leaping',), ('leaping_twisting',), ('leaping_twisting',), ('triplet',), ('repeating',), ('up_leaping',), ('no skills',), ('staccato',), ('no skills',), ('no skills',), ('leaping_twisting',), ('up_leaping',), ('up_steping',), ('down_leaping',), ('no skills',), ('no skills',), ('up_leaping',), ('up_leaping',), ('fast_rhythm',), ('steping_twisting',), ('leaping_twisting',), ('triplet',), ('no skills',), ('no skills',), ('no skills',), ('no skills',), ('leaping_twisting',), ('up_leaping',), ('no skills',), ('no skills',), ('up_leaping',), ('leaping_twisting',), ('leaping_twisting',), ('leaping_twisting',), ('no skills',), ('no skills',), ('no skills',), ('no skills',), ('no skills',), ('no skills',), ('down_leaping',), ('no skills',), ('leaping_twisting',), ('no skills',), ('triplet',), ('down_leaping',), ('no skills',), ('up_leaping',), ('triplet',), ('steping_twisting',), ('leaping_twisting',), ('repeating',), ('up_steping',), ('no skills',), ('triplet',), ('leaping_twisting',), ('no skills',), ('leaping_twisting',), ('no skills',), ('up_leaping',), ('no skills',), ('no skills',), ('no skills',), ('triplet',), ('no skills',), ('leaping_twisting',), ('no skills',), ('no skills',), ('leaping_twisting',), ('leaping_twisting',), ('no skills',), ('no skills',), ('up_steping',), ('no skills',), ('up_steping',), ('no skills',), ('no skills',), ('repeating',), ('steping_twisting',), ('down_leaping',), ('no skills',), ('no skills',), ('no skills',), ('steping_twisting',), ('leaping_twisting',), ('no skills',), ('up_steping',), ('no skills',), ('no skills',), ('staccato',), ('no skills',), ('up_steping',), ('no skills',), ('triplet',), ('no skills',), ('no skills',), ('no skills',), ('steping_twisting',), ('up_leaping',), ('fast_rhythm',), ('triplet',), ('no skills',), ('triplet',), ('no skills',), ('no skills',), ('leaping_twisting',), ('up_leaping',), ('no skills',), ('down_leaping',), ('leaping_twisting',), ('no skills',), ('down_steping',), ('up_steping',), ('no skills',), ('leaping_twisting',), ('down_leaping',), ('no skills',), ('no skills',), ('up_leaping',), ('steping_twisting',), ('no skills',), ('no skills',), ('up_leaping',), ('repeating',), ('staccato',), ('up_steping',), ('triplet',), ('no skills',), ('no skills',), ('no skills',), ('down_leaping',), ('up_leaping',), ('no skills',), ('no skills',), ('no skills',), ('up_steping',), ('no skills',), ('up_steping',), ('fast_rhythm',), ('leaping_twisting',), ('no skills',), ('fast_rhythm',), ('repeating',), ('leaping_twisting',), ('down_steping',), ('no skills',), ('no skills',), ('up_steping',), ('leaping_twisting',), ('repeating',), ('continuing_rhythm',), ('staccato',), ('no skills',), ('no skills',), ('leaping_twisting',), ('down_steping',), ('up_steping',), ('down_leaping',), ('leaping_twisting',), ('no skills',), ('leaping_twisting',), ('up_steping',), ('down_leaping',), ('no skills',), ('repeating',), ('up_leaping',), ('down_leaping',), ('up_steping',), ('repeating',), ('staccato',), ('no skills',), ('no skills',), ('down_leaping',), ('triplet',), ('leaping_twisting',), ('no skills',), ('no skills',), ('leaping_twisting',), ('leaping_twisting',), ('fast_rhythm',), ('no skills',), ('repeating',), ('down_steping',), ('no skills',), ('leaping_twisting',), ('leaping_twisting',), ('repeating',), ('leaping_twisting',), ('down_leaping',), ('leaping_twisting',), ('down_leaping',), ('no skills',), ('no skills',), ('no skills',), ('up_leaping',), ('no skills',), ('up_steping',), ('down_leaping',), ('no skills',), ('leaping_twisting',), ('repeating',), ('no skills',), ('leaping_twisting',), ('no skills',), ('leaping_twisting',), ('down_steping',), ('no skills',), ('no skills',), ('up_leaping',), ('leaping_twisting',), ('no skills',), ('down_leaping',), ('down_steping',), ('leaping_twisting',), ('steping_twisting',), ('no skills',), ('leaping_twisting',), ('leaping_twisting',), ('no skills',), ('no skills',), ('up_leaping',), ('no skills',), ('down_leaping',), ('no skills',), ('no skills',), ('down_leaping',), ('up_leaping',), ('up_steping',), ('up_leaping',), ('no skills',), ('no skills',), ('One_rhythm',), ('steping_twisting',), ('One_rhythm',), ('no skills',), ('up_leaping',), ('down_steping',), ('triplet',), ('leaping_twisting',), ('up_leaping',), ('steping_twisting',), ('triplet',), ('down_leaping',), ('no skills',), ('no skills',), ('no skills',), ('fast_rhythm',), ('steping_twisting',), ('leaping_twisting',), ('no skills',), ('no skills',), ('up_steping',), ('leaping_twisting',), ('no skills',), ('no skills',), ('no skills',), ('no skills',), ('repeating',), ('leaping_twisting',), ('no skills',), ('no skills',), ('no skills',), ('steping_twisting',), ('repeating',), ('up_steping',), ('no skills',), ('no skills',), ('no skills',), ('fast_rhythm',), ('leaping_twisting',), ('leaping_twisting',), ('no skills',), ('no skills',), ('leaping_twisting',), ('no skills',), ('no skills',), ('no skills',), ('no skills',), ('up_leaping',), ('leaping_twisting',), ('up_leaping',), ('no skills',), ('no skills',), ('no skills',), ('up_leaping',), ('leaping_twisting',), ('no skills',), ('no skills',), ('triplet',), ('up_steping',), ('no skills',), ('down_leaping',), ('repeating',), ('down_leaping',), ('no skills',), ('fast_rhythm',), ('up_leaping',), ('up_leaping',), ('down_leaping',), ('no skills',), ('no skills',), ('repeating',), ('up_leaping',), ('no skills',), ('leaping_twisting',), ('no skills',), ('leaping_twisting',), ('down_leaping',), ('staccato',), ('no skills',), ('no skills',), ('up_steping',), ('no skills',), ('triplet',), ('no skills',), ('no skills',), ('triplet',), ('triplet',), ('no skills',), ('no skills',), ('no skills',), ('up_steping',), ('no skills',), ('no skills',), ('down_leaping',), ('no skills',), ('no skills',), ('leaping_twisting',), ('no skills',), ('repeating',), ('no skills',), ('no skills',), ('up_steping',), ('up_steping',), ('no skills',), ('no skills',), ('up_leaping',), ('no skills',), ('leaping_twisting',), ('no skills',), ('up_steping',), ('repeating',), ('down_steping',), ('down_leaping',), ('no skills',), ('no skills',), ('no skills',), ('no skills',), ('triplet',), ('up_leaping',), ('up_leaping',), ('triplet',), ('up_steping',), ('no skills',), ('leaping_twisting',), ('no skills',), ('repeating',), ('leaping_twisting',), ('leaping_twisting',), ('up_leaping',), ('up_steping',), ('no skills',), ('no skills',), ('no skills',), ('no skills',), ('up_leaping',), ('up_leaping',), ('no skills',), ('no skills',), ('down_steping',), ('no skills',), ('triplet',), ('no skills',), ('continuing_rhythm',), ('steping_twisting',), ('no skills',), ('leaping_twisting',), ('no skills',), ('no skills',), ('no skills',), ('no skills',), ('leaping_twisting',), ('steping_twisting',), ('no skills',), ('triplet',), ('leaping_twisting',), ('leaping_twisting',), ('no skills',), ('down_steping',), ('no skills',), ('up_steping',), ('up_steping',), ('no skills',), ('up_steping',), ('up_leaping',), ('no skills',), ('triplet',), ('down_leaping',), ('no skills',), ('repeating',), ('no skills',), ('repeating',), ('no skills',), ('no skills',), ('no skills',), ('leaping_twisting',), ('no skills',), ('up_leaping',), ('up_leaping',), ('up_steping',), ('down_steping',), ('leaping_twisting',), ('no skills',), ('leaping_twisting',), ('down_leaping',), ('no skills',), ('down_steping',), ('staccato',), ('no skills',), ('no skills',), ('up_leaping',), ('repeating',), ('no skills',), ('no skills',), ('no skills',), ('repeating',), ('no skills',), ('no skills',), ('fast_rhythm',), ('up_steping',), ('down_leaping',), ('no skills',), ('no skills',), ('no skills',), ('no skills',), ('no skills',), ('down_steping',), ('no skills',), ('no skills',), ('up_steping',), ('up_steping',), ('no skills',), ('fast_rhythm',), ('triplet',), ('no skills',), ('fast_rhythm',), ('leaping_twisting',), ('triplet',), ('no skills',), ('no skills',), ('up_leaping',), ('no skills',), ('no skills',), ('no skills',), ('triplet',), ('fast_rhythm',), ('up_steping',), ('leaping_twisting',), ('no skills',), ('up_steping',), ('no skills',), ('no skills',), ('triplet',), ('no skills',), ('no skills',), ('up_leaping',), ('no skills',), ('fast_rhythm',), ('no skills',), ('no skills',), ('no skills',), ('up_leaping',), ('no skills',), ('up_leaping',), ('leaping_twisting',), ('fast_rhythm',), ('no skills',), ('fast_rhythm',), ('staccato',), ('up_leaping',), ('no skills',), ('no skills',), ('repeating',), ('no skills',), ('fast_rhythm',), ('up_steping',), ('repeating',), ('no skills',), ('no skills',), ('leaping_twisting',), ('no skills',), ('repeating',), ('leaping_twisting',), ('leaping_twisting',), ('no skills',), ('up_steping',), ('no skills',), ('no skills',), ('fast_rhythm',), ('no skills',), ('steping_twisting',), ('leaping_twisting',), ('leaping_twisting',), ('leaping_twisting',), ('up_leaping',), ('no skills',), ('no skills',), ('up_leaping',), ('leaping_twisting',), ('up_steping',), ('no skills',), ('up_steping',), ('leaping_twisting',), ('no skills',), ('no skills',), ('triplet',), ('no skills',), ('down_steping',), ('no skills',), ('up_leaping',), ('up_steping',), ('up_steping',), ('no skills',), ('leaping_twisting',), ('leaping_twisting',), ('no skills',), ('fast_rhythm',), ('repeating',), ('leaping_twisting',), ('no skills',), ('no skills',), ('up_leaping',), ('down_steping',), ('no skills',), ('repeating',), ('no skills',), ('down_steping',), ('One_rhythm',), ('no skills',), ('no skills',), ('up_leaping',), ('no skills',), ('no skills',), ('no skills',), ('triplet',), ('One_rhythm',), ('leaping_twisting',), ('leaping_twisting',), ('no skills',), ('leaping_twisting',), ('no skills',), ('no skills',), ('no skills',), ('leaping_twisting',), ('no skills',), ('up_leaping',), ('repeating',), ('continuing_rhythm',), ('no skills',), ('steping_twisting',), ('no skills',), ('down_leaping',), ('no skills',), ('continuing_rhythm',), ('staccato',), ('leaping_twisting',), ('no skills',), ('no skills',), ('leaping_twisting',), ('no skills',), ('no skills',), ('leaping_twisting',), ('down_leaping',), ('staccato',), ('up_steping',), ('no skills',), ('no skills',), ('fast_rhythm',), ('no skills',), ('up_steping',), ('no skills',), ('staccato',), ('repeating',), ('up_steping',), ('up_leaping',), ('triplet',), ('leaping_twisting',), ('no skills',), ('leaping_twisting',), ('up_steping',), ('no skills',), ('leaping_twisting',), ('repeating',), ('up_leaping',), ('no skills',), ('no skills',), ('no skills',), ('no skills',), ('triplet',), ('continuing_rhythm',), ('no skills',), ('no skills',), ('steping_twisting',), ('no skills',), ('repeating',), ('no skills',), ('no skills',), ('triplet',), ('no skills',), ('up_leaping',), ('repeating',), ('no skills',), ('up_steping',), ('repeating',), ('no skills',), ('down_leaping',), ('up_steping',), ('leaping_twisting',), ('no skills',), ('no skills',), ('up_steping',), ('no skills',), ('up_steping',), ('leaping_twisting',), ('repeating',), ('triplet',), ('no skills',), ('no skills',), ('down_steping',), ('fast_rhythm',), ('up_leaping',), ('up_steping',), ('staccato',), ('up_leaping',), ('no skills',), ('up_steping',), ('no skills',), ('leaping_twisting',), ('repeating',), ('no skills',), ('repeating',), ('down_leaping',), ('up_leaping',), ('steping_twisting',), ('no skills',), ('One_rhythm',), ('up_leaping',), ('fast_rhythm',), ('down_leaping',), ('triplet',), ('repeating',), ('fast_rhythm',), ('no skills',), ('down_leaping',), ('no skills',), ('up_steping',), ('no skills',), ('up_leaping',), ('up_leaping',), ('staccato',), ('up_steping',), ('down_leaping',), ('no skills',), ('no skills',), ('up_steping',), ('down_steping',), ('repeating',), ('up_leaping',), ('leaping_twisting',), ('up_leaping',), ('repeating',), ('down_leaping',), ('steping_twisting',), ('no skills',), ('up_leaping',), ('triplet',), ('down_leaping',), ('up_steping',), ('no skills',), ('up_leaping',), ('repeating',), ('no skills',), ('no skills',), ('no skills',), ('no skills',), ('no skills',), ('continuing_rhythm',), ('up_leaping',), ('leaping_twisting',), ('One_rhythm',), ('no skills',), ('no skills',), ('up_leaping',), ('no skills',), ('no skills',), ('no skills',), ('no skills',), ('down_steping',), ('down_leaping',), ('no skills',), ('down_leaping',), ('no skills',), ('no skills',), ('no skills',), ('staccato',), ('repeating',), ('no skills',), ('no skills',), ('repeating',), ('no skills',), ('no skills',), ('staccato',), ('no skills',), ('up_leaping',), ('no skills',), ('leaping_twisting',), ('up_steping',), ('down_leaping',), ('down_steping',), ('up_steping',), ('up_steping',), ('no skills',), ('no skills',), ('no skills',), ('no skills',), ('no skills',), ('no skills',), ('no skills',), ('repeating',), ('repeating',), ('up_leaping',), ('no skills',), ('no skills',), ('leaping_twisting',), ('no skills',), ('up_leaping',), ('up_leaping',), ('no skills',), ('One_rhythm',), ('no skills',), ('leaping_twisting',), ('down_leaping',), ('no skills',), ('up_steping',), ('up_steping',), ('fast_rhythm',), ('no skills',), ('down_leaping',), ('no skills',), ('up_steping',), ('no skills',), ('down_leaping',), ('leaping_twisting',), ('triplet',), ('no skills',), ('no skills',), ('no skills',), ('no skills',), ('no skills',), ('leaping_twisting',), ('no skills',), ('no skills',), ('leaping_twisting',), ('repeating',), ('no skills',), ('no skills',), ('leaping_twisting',), ('no skills',), ('leaping_twisting',), ('leaping_twisting',), ('no skills',), ('leaping_twisting',), ('fast_rhythm',), ('down_leaping',), ('steping_twisting',), ('no skills',), ('no skills',), ('no skills',), ('up_steping',), ('no skills',), ('repeating',), ('no skills',), ('repeating',), ('no skills',), ('up_steping',), ('up_leaping',), ('staccato',), ('no skills',), ('up_leaping',), ('repeating',), ('no skills',), ('no skills',), ('up_steping',), ('no skills',), ('no skills',), ('fast_rhythm',), ('down_steping',), ('no skills',), ('fast_rhythm',), ('continuing_rhythm',), ('no skills',), ('no skills',), ('staccato',), ('up_steping',), ('no skills',), ('down_leaping',), ('no skills',), ('no skills',), ('up_steping',), ('fast_rhythm',), ('up_leaping',), ('down_leaping',), ('leaping_twisting',), ('no skills',), ('fast_rhythm',), ('no skills',), ('no skills',), ('staccato',), ('no skills',), ('no skills',), ('up_steping',), ('down_steping',), ('up_steping',), ('no skills',), ('leaping_twisting',), ('staccato',), ('staccato',), ('no skills',), ('leaping_twisting',), ('leaping_twisting',), ('no skills',), ('leaping_twisting',), ('no skills',), ('leaping_twisting',), ('fast_rhythm',), ('no skills',), ('no skills',), ('no skills',), ('no skills',), ('up_leaping',), ('no skills',), ('no skills',), ('no skills',), ('leaping_twisting',), ('repeating',), ('leaping_twisting',), ('leaping_twisting',), ('no skills',), ('fast_rhythm',), ('no skills',), ('repeating',), ('staccato',), ('no skills',), ('up_steping',), ('no skills',), ('no skills',), ('repeating',), ('leaping_twisting',), ('fast_rhythm',), ('no skills',), ('fast_rhythm',), ('repeating',), ('no skills',), ('leaping_twisting',), ('repeating',), ('no skills',), ('no skills',), ('continuing_rhythm',), ('no skills',), ('triplet',), ('no skills',), ('down_leaping',), ('staccato',), ('up_leaping',), ('no skills',), ('no skills',), ('up_steping',), ('no skills',), ('no skills',), ('down_leaping',), ('up_leaping',), ('triplet',), ('repeating',), ('up_steping',), ('no skills',), ('up_leaping',), ('up_steping',), ('no skills',), ('fast_rhythm',), ('no skills',), ('up_leaping',), ('no skills',), ('up_steping',), ('fast_rhythm',), ('no skills',), ('no skills',), ('no skills',), ('no skills',), ('no skills',), ('repeating',), ('repeating',), ('no skills',), ('no skills',), ('fast_rhythm',), ('no skills',), ('no skills',), ('no skills',), ('up_steping',), ('up_leaping',), ('no skills',), ('repeating',), ('leaping_twisting',), ('fast_rhythm',), ('no skills',), ('leaping_twisting',), ('down_leaping',), ('up_leaping',), ('up_leaping',), ('no skills',), ('steping_twisting',), ('leaping_twisting',), ('down_leaping',), ('up_leaping',), ('up_leaping',), ('no skills',), ('up_leaping',), ('no skills',), ('up_leaping',), ('up_steping',), ('staccato',), ('no skills',), ('no skills',), ('up_leaping',), ('no skills',), ('leaping_twisting',), ('up_leaping',), ('no skills',), ('no skills',), ('repeating',), ('leaping_twisting',), ('steping_twisting',), ('no skills',), ('no skills',), ('no skills',), ('fast_rhythm',), ('no skills',), ('no skills',), ('leaping_twisting',), ('fast_rhythm',), ('no skills',), ('leaping_twisting',), ('up_steping',), ('no skills',), ('no skills',), ('no skills',), ('staccato',), ('no skills',), ('no skills',), ('fast_rhythm',), ('no skills',), ('no skills',), ('no skills',), ('no skills',), ('leaping_twisting',), ('leaping_twisting',), ('up_steping',), ('no skills',), ('no skills',), ('no skills',), ('down_leaping',), ('leaping_twisting',), ('repeating',), ('leaping_twisting',), ('up_steping',), ('staccato',), ('steping_twisting',), ('fast_rhythm',), ('steping_twisting',), ('no skills',), ('staccato',), ('no skills',), ('no skills',), ('up_leaping',), ('no skills',), ('up_steping',), ('up_leaping',), ('no skills',), ('down_leaping',), ('up_steping',), ('repeating',), ('staccato',), ('repeating',), ('down_leaping',), ('fast_rhythm',), ('no skills',), ('no skills',), ('no skills',), ('leaping_twisting',), ('up_leaping',), ('no skills',), ('no skills',), ('steping_twisting',), ('no skills',), ('up_steping',), ('up_leaping',), ('no skills',), ('no skills',), ('leaping_twisting',), ('no skills',), ('up_steping',), ('up_steping',), ('steping_twisting',), ('no skills',), ('no skills',), ('no skills',), ('up_steping',), ('no skills',), ('leaping_twisting',), ('down_leaping',), ('triplet',), ('triplet',), ('up_leaping',), ('fast_rhythm',), ('leaping_twisting',), ('fast_rhythm',), ('no skills',), ('up_steping',), ('up_steping',), ('down_leaping',), ('leaping_twisting',), ('down_steping',), ('no skills',), ('up_steping',), ('down_steping',), ('leaping_twisting',), ('no skills',), ('up_leaping',), ('up_leaping',), ('down_leaping',), ('no skills',), ('staccato',), ('no skills',), ('no skills',), ('down_leaping',), ('up_leaping',), ('repeating',), ('no skills',), ('no skills',), ('triplet',), ('up_steping',), ('leaping_twisting',), ('repeating',), ('up_leaping',), ('no skills',), ('up_leaping',), ('fast_rhythm',), ('down_steping',), ('triplet',), ('up_leaping',), ('staccato',), ('down_leaping',), ('leaping_twisting',), ('fast_rhythm',), ('no skills',), ('leaping_twisting',), ('no skills',), ('up_leaping',), ('no skills',), ('up_leaping',), ('no skills',), ('no skills',), ('down_steping',), ('no skills',), ('no skills',), ('leaping_twisting',), ('up_leaping',), ('leaping_twisting',), ('no skills',), ('no skills',), ('up_steping',), ('no skills',), ('up_leaping',), ('up_leaping',), ('no skills',), ('no skills',), ('no skills',), ('triplet',), ('up_steping',), ('no skills',), ('no skills',), ('no skills',), ('down_leaping',), ('no skills',), ('up_leaping',), ('no skills',), ('no skills',), ('leaping_twisting',), ('leaping_twisting',), ('up_steping',), ('no skills',), ('staccato',), ('no skills',), ('down_leaping',), ('up_leaping',), ('no skills',), ('repeating',), ('no skills',), ('no skills',), ('no skills',), ('no skills',), ('no skills',), ('down_leaping',), ('no skills',), ('staccato',), ('repeating',), ('up_leaping',), ('staccato',), ('leaping_twisting',), ('no skills',), ('triplet',), ('no skills',), ('no skills',), ('leaping_twisting',), ('no skills',), ('leaping_twisting',), ('up_steping',), ('no skills',), ('leaping_twisting',), ('up_steping',), ('no skills',), ('repeating',), ('no skills',), ('steping_twisting',), ('leaping_twisting',), ('down_leaping',), ('down_leaping',), ('no skills',), ('triplet',), ('no skills',), ('no skills',), ('no skills',), ('fast_rhythm',), ('no skills',), ('up_leaping',), ('leaping_twisting',), ('no skills',), ('leaping_twisting',), ('no skills',), ('no skills',), ('up_steping',), ('no skills',), ('leaping_twisting',), ('up_steping',), ('leaping_twisting',), ('leaping_twisting',), ('no skills',), ('no skills',), ('no skills',), ('no skills',), ('no skills',), ('repeating',), ('no skills',), ('up_steping',), ('no skills',), ('up_leaping',), ('no skills',), ('staccato',), ('repeating',), ('no skills',), ('no skills',), ('repeating',), ('no skills',), ('up_leaping',), ('no skills',), ('no skills',), ('no skills',), ('up_leaping',), ('no skills',), ('no skills',), ('no skills',), ('leaping_twisting',), ('no skills',), ('leaping_twisting',), ('no skills',), ('up_leaping',), ('down_leaping',), ('no skills',), ('triplet',), ('up_leaping',), ('no skills',), ('down_leaping',), ('repeating',), ('no skills',), ('no skills',), ('no skills',), ('up_leaping',), ('no skills',), ('no skills',), ('no skills',), ('leaping_twisting',), ('fast_rhythm',), ('triplet',), ('up_leaping',), ('no skills',), ('leaping_twisting',), ('no skills',), ('no skills',), ('leaping_twisting',), ('up_steping',), ('up_leaping',), ('no skills',), ('no skills',), ('up_leaping',), ('up_leaping',), ('up_leaping',), ('up_leaping',), ('no skills',), ('no skills',), ('triplet',), ('no skills',), ('no skills',), ('repeating',), ('no skills',), ('repeating',), ('continuing_rhythm',), ('no skills',), ('repeating',), ('no skills',), ('up_steping',), ('triplet',), ('no skills',), ('triplet',), ('up_leaping',), ('triplet',), ('no skills',), ('up_leaping',), ('no skills',), ('no skills',), ('no skills',), ('triplet',), ('leaping_twisting',), ('no skills',), ('leaping_twisting',), ('triplet',), ('no skills',), ('triplet',), ('staccato',), ('no skills',), ('leaping_twisting',), ('no skills',), ('no skills',), ('staccato',), ('continuing_rhythm',), ('no skills',), ('leaping_twisting',), ('no skills',), ('no skills',), ('no skills',), ('leaping_twisting',), ('no skills',), ('leaping_twisting',), ('no skills',), ('no skills',), ('no skills',), ('fast_rhythm',), ('no skills',), ('no skills',), ('no skills',), ('triplet',), ('leaping_twisting',), ('no skills',), ('triplet',), ('up_steping',), ('staccato',), ('leaping_twisting',), ('up_steping',), ('no skills',), ('repeating',), ('no skills',), ('repeating',), ('leaping_twisting',), ('no skills',), ('up_steping',), ('no skills',), ('fast_rhythm',), ('leaping_twisting',), ('fast_rhythm',), ('no skills',), ('no skills',), ('no skills',), ('down_leaping',), ('up_steping',), ('no skills',), ('up_steping',), ('no skills',), ('no skills',), ('triplet',), ('no skills',), ('leaping_twisting',), ('no skills',), ('no skills',), ('up_steping',), ('no skills',), ('no skills',), ('no skills',), ('repeating',), ('up_leaping',), ('no skills',), ('down_steping',), ('fast_rhythm',), ('no skills',), ('down_leaping',), ('no skills',), ('leaping_twisting',), ('up_leaping',), ('triplet',), ('no skills',), ('leaping_twisting',), ('repeating',), ('leaping_twisting',), ('fast_rhythm',), ('no skills',), ('no skills',), ('no skills',), ('no skills',), ('up_leaping',), ('no skills',), ('repeating',), ('leaping_twisting',), ('up_leaping',), ('triplet',), ('no skills',), ('down_leaping',), ('no skills',), ('leaping_twisting',), ('no skills',), ('up_steping',), ('no skills',), ('up_leaping',), ('triplet',), ('repeating',), ('steping_twisting',), ('repeating',), ('down_steping',), ('no skills',), ('triplet',), ('no skills',), ('repeating',), ('up_leaping',), ('leaping_twisting',), ('up_leaping',), ('no skills',), ('repeating',), ('no skills',), ('leaping_twisting',), ('down_steping',), ('leaping_twisting',), ('One_rhythm',), ('up_steping',), ('repeating',), ('repeating',), ('no skills',), ('down_leaping',), ('no skills',), ('up_leaping',), ('no skills',), ('no skills',), ('repeating',), ('no skills',), ('no skills',), ('leaping_twisting',), ('no skills',), ('no skills',), ('no skills',), ('no skills',), ('up_steping',), ('repeating',), ('steping_twisting',), ('repeating',), ('leaping_twisting',), ('no skills',), ('repeating',), ('down_leaping',), ('leaping_twisting',), ('leaping_twisting',), ('triplet',), ('fast_rhythm',), ('no skills',), ('leaping_twisting',), ('up_steping',), ('no skills',), ('no skills',), ('triplet',), ('no skills',), ('no skills',), ('leaping_twisting',), ('leaping_twisting',), ('no skills',), ('no skills',), ('no skills',), ('no skills',), ('up_steping',), ('down_leaping',), ('leaping_twisting',), ('up_steping',), ('no skills',), ('repeating',), ('fast_rhythm',), ('no skills',), ('no skills',), ('repeating',), ('steping_twisting',), ('up_leaping',), ('fast_rhythm',), ('leaping_twisting',), ('no skills',), ('no skills',), ('down_leaping',), ('no skills',), ('fast_rhythm',), ('up_steping',), ('no skills',), ('no skills',), ('fast_rhythm',), ('no skills',), ('up_leaping',), ('no skills',), ('no skills',), ('down_leaping',), ('repeating',), ('up_leaping',), ('staccato',), ('steping_twisting',), ('continuing_rhythm',), ('up_steping',), ('no skills',), ('no skills',), ('no skills',), ('staccato',), ('leaping_twisting',), ('no skills',), ('down_leaping',), ('no skills',), ('up_steping',), ('no skills',), ('no skills',), ('up_steping',), ('up_steping',), ('fast_rhythm',), ('triplet',), ('no skills',), ('no skills',), ('repeating',), ('no skills',), ('no skills',), ('triplet',), ('no skills',), ('no skills',), ('up_steping',), ('up_steping',), ('leaping_twisting',), ('no skills',), ('no skills',), ('no skills',), ('no skills',), ('fast_rhythm',), ('repeating',), ('steping_twisting',), ('no skills',), ('no skills',), ('leaping_twisting',), ('no skills',), ('no skills',), ('no skills',), ('One_rhythm',), ('no skills',), ('no skills',), ('no skills',), ('staccato',), ('up_steping',), ('leaping_twisting',), ('no skills',), ('no skills',), ('leaping_twisting',), ('leaping_twisting',), ('no skills',), ('leaping_twisting',), ('no skills',), ('no skills',), ('leaping_twisting',), ('no skills',), ('no skills',), ('no skills',), ('no skills',), ('no skills',), ('no skills',), ('no skills',), ('no skills',), ('no skills',), ('fast_rhythm',), ('leaping_twisting',), ('leaping_twisting',), ('down_leaping',), ('no skills',), ('no skills',), ('leaping_twisting',), ('leaping_twisting',), ('up_steping',), ('staccato',), ('One_rhythm',), ('no skills',), ('up_leaping',), ('no skills',), ('no skills',), ('no skills',), ('no skills',), ('up_steping',), ('no skills',), ('up_steping',), ('up_leaping',), ('no skills',), ('no skills',), ('no skills',), ('triplet',), ('up_steping',), ('no skills',), ('up_leaping',), ('up_steping',), ('triplet',), ('up_steping',), ('no skills',), ('continuing_rhythm',), ('no skills',), ('no skills',), ('no skills',), ('repeating',), ('steping_twisting',), ('no skills',), ('down_leaping',), ('no skills',), ('repeating',), ('no skills',), ('no skills',), ('repeating',), ('up_steping',), ('up_steping',), ('no skills',), ('up_steping',), ('leaping_twisting',), ('up_leaping',), ('up_leaping',), ('no skills',), ('steping_twisting',), ('down_leaping',), ('no skills',), ('no skills',), ('repeating',), ('no skills',), ('no skills',), ('steping_twisting',), ('up_steping',), ('no skills',), ('no skills',), ('up_leaping',), ('no skills',), ('no skills',), ('up_leaping',), ('continuing_rhythm',), ('no skills',), ('fast_rhythm',), ('no skills',), ('no skills',), ('no skills',), ('no skills',), ('no skills',), ('no skills',), ('repeating',), ('down_leaping',), ('no skills',), ('staccato',), ('no skills',), ('no skills',), ('down_leaping',), ('no skills',), ('up_steping',), ('up_steping',), ('staccato',), ('no skills',), ('up_steping',), ('no skills',), ('up_leaping',), ('steping_twisting',), ('leaping_twisting',), ('triplet',), ('no skills',), ('no skills',), ('fast_rhythm',), ('up_steping',), ('no skills',), ('no skills',), ('down_leaping',), ('no skills',), ('no skills',), ('no skills',), ('leaping_twisting',), ('no skills',), ('no skills',), ('no skills',), ('repeating',), ('repeating',), ('up_leaping',), ('staccato',), ('up_leaping',), ('no skills',), ('up_steping',), ('up_steping',), ('no skills',), ('leaping_twisting',), ('up_leaping',), ('no skills',), ('no skills',), ('down_leaping',), ('continuing_rhythm',), ('no skills',), ('down_steping',), ('up_steping',), ('no skills',), ('leaping_twisting',), ('leaping_twisting',), ('no skills',), ('leaping_twisting',), ('triplet',), ('no skills',), ('no skills',), ('no skills',), ('down_leaping',), ('leaping_twisting',), ('no skills',), ('no skills',), ('no skills',), ('no skills',), ('no skills',), ('up_steping',), ('leaping_twisting',), ('no skills',), ('repeating',), ('down_leaping',), ('up_steping',), ('fast_rhythm',), ('up_steping',), ('steping_twisting',), ('no skills',), ('no skills',), ('no skills',), ('no skills',), ('no skills',), ('no skills',), ('no skills',), ('down_leaping',), ('repeating',), ('up_steping',), ('no skills',), ('no skills',), ('no skills',), ('no skills',), ('no skills',), ('no skills',), ('no skills',), ('no skills',), ('no skills',), ('staccato',), ('no skills',), ('steping_twisting',), ('leaping_twisting',), ('no skills',), ('no skills',), ('up_leaping',), ('up_leaping',), ('triplet',), ('no skills',), ('no skills',), ('no skills',), ('down_steping',), ('down_leaping',), ('leaping_twisting',), ('no skills',), ('no skills',), ('no skills',), ('no skills',), ('up_steping',), ('no skills',), ('triplet',), ('up_steping',), ('no skills',), ('up_steping',), ('repeating',), ('no skills',), ('fast_rhythm',), ('down_steping',), ('no skills',), ('repeating',), ('leaping_twisting',), ('triplet',), ('repeating',), ('up_leaping',), ('no skills',), ('up_steping',), ('steping_twisting',), ('no skills',), ('down_leaping',), ('up_steping',), ('no skills',), ('up_leaping',), ('repeating',), ('up_leaping',), ('triplet',), ('staccato',), ('no skills',), ('down_leaping',), ('down_steping',), ('leaping_twisting',), ('down_leaping',), ('no skills',), ('no skills',), ('leaping_twisting',), ('up_steping',), ('no skills',), ('no skills',), ('up_leaping',), ('no skills',), ('leaping_twisting',), ('repeating',), ('down_leaping',), ('no skills',), ('no skills',), ('no skills',), ('no skills',), ('leaping_twisting',), ('repeating',), ('no skills',), ('staccato',), ('no skills',), ('no skills',), ('leaping_twisting',), ('fast_rhythm',), ('leaping_twisting',), ('down_steping',), ('up_steping',), ('triplet',), ('no skills',), ('triplet',), ('no skills',), ('up_steping',), ('no skills',), ('no skills',), ('no skills',), ('no skills',), ('no skills',), ('no skills',), ('no skills',), ('no skills',), ('down_steping',), ('up_steping',), ('leaping_twisting',), ('up_leaping',), ('no skills',), ('no skills',), ('no skills',), ('up_steping',), ('leaping_twisting',), ('down_steping',), ('no skills',), ('up_steping',), ('up_steping',), ('no skills',), ('repeating',), ('no skills',), ('no skills',), ('fast_rhythm',), ('no skills',), ('no skills',), ('no skills',), ('repeating',), ('no skills',), ('down_leaping',), ('up_leaping',), ('up_steping',), ('no skills',), ('leaping_twisting',), ('no skills',), ('no skills',), ('up_leaping',), ('fast_rhythm',), ('leaping_twisting',), ('no skills',), ('no skills',), ('down_leaping',), ('no skills',), ('no skills',), ('no skills',), ('up_steping',), ('down_steping',), ('no skills',), ('fast_rhythm',), ('up_leaping',), ('no skills',), ('leaping_twisting',), ('no skills',), ('continuing_rhythm',), ('no skills',), ('down_leaping',), ('no skills',), ('leaping_twisting',), ('staccato',), ('leaping_twisting',), ('no skills',), ('no skills',), ('fast_rhythm',), ('no skills',), ('repeating',), ('leaping_twisting',), ('no skills',), ('no skills',), ('no skills',), ('no skills',), ('no skills',), ('no skills',), ('no skills',), ('One_rhythm',), ('no skills',), ('down_steping',), ('no skills',), ('no skills',), ('triplet',), ('no skills',), ('up_steping',), ('leaping_twisting',), ('no skills',), ('fast_rhythm',), ('no skills',), ('repeating',), ('steping_twisting',), ('leaping_twisting',), ('up_leaping',), ('no skills',), ('leaping_twisting',), ('no skills',), ('steping_twisting',), ('no skills',), ('continuing_rhythm',), ('repeating',), ('no skills',), ('leaping_twisting',), ('no skills',), ('steping_twisting',), ('up_steping',), ('repeating',), ('staccato',), ('no skills',), ('staccato',), ('fast_rhythm',), ('no skills',), ('leaping_twisting',), ('no skills',), ('continuing_rhythm',), ('leaping_twisting',), ('no skills',), ('down_leaping',), ('leaping_twisting',), ('down_steping',), ('steping_twisting',), ('fast_rhythm',), ('up_leaping',), ('no skills',), ('no skills',), ('up_leaping',), ('no skills',), ('up_leaping',), ('up_steping',), ('One_rhythm',), ('down_leaping',), ('leaping_twisting',), ('leaping_twisting',), ('staccato',), ('triplet',), ('down_leaping',), ('no skills',), ('no skills',), ('fast_rhythm',), ('no skills',), ('down_steping',), ('up_steping',), ('no skills',), ('triplet',), ('no skills',), ('no skills',), ('up_steping',), ('repeating',), ('no skills',), ('no skills',), ('no skills',), ('down_leaping',), ('steping_twisting',), ('no skills',), ('no skills',), ('up_leaping',), ('down_steping',), ('no skills',), ('up_leaping',), ('no skills',), ('repeating',), ('fast_rhythm',), ('no skills',), ('no skills',), ('no skills',), ('fast_rhythm',), ('up_leaping',), ('no skills',), ('fast_rhythm',), ('no skills',), ('no skills',), ('no skills',), ('triplet',), ('no skills',), ('no skills',), ('up_steping',), ('up_steping',), ('up_steping',), ('no skills',), ('up_steping',), ('no skills',), ('triplet',), ('down_leaping',), ('leaping_twisting',), ('down_leaping',), ('no skills',), ('no skills',), ('no skills',), ('no skills',), ('up_leaping',), ('no skills',), ('steping_twisting',), ('repeating',), ('no skills',), ('no skills',), ('fast_rhythm',), ('up_steping',), ('leaping_twisting',), ('up_leaping',), ('down_leaping',), ('up_steping',), ('no skills',), ('no skills',), ('up_leaping',), ('leaping_twisting',), ('repeating',), ('no skills',), ('fast_rhythm',), ('leaping_twisting',), ('no skills',), ('no skills',), ('no skills',), ('leaping_twisting',), ('up_leaping',), ('up_leaping',), ('down_steping',), ('staccato',), ('down_steping',), ('repeating',), ('leaping_twisting',), ('no skills',), ('no skills',), ('fast_rhythm',), ('no skills',), ('down_leaping',), ('up_leaping',), ('no skills',), ('repeating',), ('fast_rhythm',), ('fast_rhythm',), ('no skills',), ('triplet',), ('no skills',), ('repeating',), ('no skills',), ('no skills',), ('down_leaping',), ('repeating',), ('no skills',), ('triplet',), ('no skills',), ('no skills',), ('no skills',), ('leaping_twisting',), ('no skills',), ('down_steping',), ('down_leaping',), ('no skills',), ('no skills',), ('down_leaping',), ('no skills',), ('no skills',), ('no skills',), ('no skills',), ('fast_rhythm',), ('no skills',), ('triplet',), ('no skills',), ('no skills',), ('up_leaping',), ('repeating',), ('no skills',), ('steping_twisting',), ('up_steping',), ('no skills',), ('no skills',), ('up_leaping',), ('no skills',), ('up_steping',), ('leaping_twisting',), ('repeating',), ('up_steping',), ('fast_rhythm',), ('no skills',), ('up_steping',), ('fast_rhythm',), ('no skills',), ('leaping_twisting',), ('down_leaping',), ('repeating',), ('repeating',), ('One_rhythm',), ('no skills',), ('no skills',), ('fast_rhythm',), ('down_steping',), ('down_steping',), ('One_rhythm',), ('no skills',), ('staccato',), ('no skills',), ('no skills',), ('leaping_twisting',), ('up_leaping',), ('up_steping',), ('no skills',), ('up_leaping',), ('staccato',), ('no skills',), ('no skills',), ('leaping_twisting',), ('repeating',), ('no skills',), ('no skills',), ('triplet',), ('up_leaping',), ('up_steping',), ('fast_rhythm',), ('triplet',), ('up_leaping',), ('staccato',), ('repeating',), ('down_leaping',), ('no skills',), ('no skills',), ('no skills',), ('no skills',), ('staccato',), ('no skills',), ('leaping_twisting',), ('no skills',), ('leaping_twisting',), ('up_leaping',), ('up_steping',), ('up_steping',), ('down_steping',), ('no skills',), ('no skills',), ('up_steping',), ('repeating',), ('no skills',), ('no skills',), ('up_leaping',), ('no skills',), ('leaping_twisting',), ('no skills',), ('no skills',), ('up_steping',), ('down_leaping',), ('no skills',), ('no skills',), ('repeating',), ('triplet',), ('fast_rhythm',), ('leaping_twisting',), ('down_steping',), ('no skills',), ('no skills',), ('no skills',), ('leaping_twisting',), ('repeating',), ('down_leaping',), ('leaping_twisting',), ('continuing_rhythm',), ('leaping_twisting',), ('repeating',), ('up_steping',), ('no skills',), ('no skills',), ('down_leaping',), ('down_steping',), ('no skills',), ('repeating',), ('repeating',), ('up_steping',), ('down_leaping',), ('down_steping',), ('no skills',), ('leaping_twisting',), ('up_steping',), ('leaping_twisting',), ('no skills',), ('up_leaping',), ('no skills',), ('One_rhythm',), ('no skills',), ('repeating',), ('steping_twisting',), ('no skills',), ('no skills',), ('leaping_twisting',), ('up_steping',), ('no skills',), ('down_steping',), ('no skills',), ('no skills',), ('no skills',), ('no skills',), ('no skills',), ('leaping_twisting',), ('no skills',), ('triplet',), ('leaping_twisting',), ('no skills',), ('no skills',), ('up_leaping',), ('steping_twisting',), ('leaping_twisting',), ('no skills',), ('no skills',), ('leaping_twisting',), ('no skills',), ('no skills',), ('no skills',), ('no skills',), ('no skills',), ('leaping_twisting',), ('no skills',), ('no skills',), ('up_steping',), ('no skills',), ('no skills',), ('repeating',), ('no skills',), ('no skills',), ('fast_rhythm',), ('leaping_twisting',), ('no skills',), ('leaping_twisting',), ('no skills',), ('no skills',), ('up_steping',), ('repeating',), ('up_steping',), ('no skills',), ('no skills',), ('up_steping',), ('no skills',), ('down_leaping',), ('no skills',), ('no skills',), ('triplet',), ('no skills',), ('up_steping',), ('no skills',), ('no skills',), ('no skills',), ('no skills',), ('no skills',), ('up_steping',), ('up_leaping',), ('no skills',), ('no skills',), ('no skills',), ('up_leaping',), ('up_leaping',), ('no skills',), ('repeating',), ('no skills',), ('no skills',), ('up_leaping',), ('no skills',), ('no skills',), ('up_leaping',), ('no skills',), ('One_rhythm',), ('no skills',), ('up_leaping',), ('no skills',), ('up_steping',), ('repeating',), ('up_steping',), ('no skills',), ('no skills',), ('repeating',), ('no skills',), ('no skills',), ('no skills',), ('repeating',), ('fast_rhythm',), ('leaping_twisting',), ('no skills',), ('no skills',), ('no skills',), ('no skills',), ('up_leaping',), ('no skills',), ('down_leaping',), ('no skills',), ('up_steping',), ('no skills',), ('repeating',), ('no skills',), ('no skills',), ('no skills',), ('triplet',), ('no skills',), ('no skills',), ('no skills',), ('no skills',), ('no skills',), ('up_steping',), ('no skills',), ('no skills',), ('no skills',), ('up_leaping',), ('no skills',), ('down_leaping',), ('no skills',), ('repeating',), ('triplet',), ('leaping_twisting',), ('no skills',), ('repeating',), ('repeating',), ('repeating',), ('repeating',), ('repeating',), ('no skills',), ('no skills',), ('fast_rhythm',), ('up_steping',), ('no skills',), ('up_steping',), ('up_steping',), ('fast_rhythm',), ('up_steping',), ('no skills',), ('fast_rhythm',), ('no skills',), ('no skills',), ('no skills',), ('fast_rhythm',), ('down_leaping',), ('no skills',), ('no skills',), ('steping_twisting',), ('down_leaping',), ('leaping_twisting',), ('no skills',), ('no skills',), ('down_steping',), ('repeating',), ('no skills',), ('repeating',), ('up_leaping',), ('down_steping',), ('no skills',), ('no skills',), ('steping_twisting',), ('down_leaping',), ('no skills',), ('no skills',), ('triplet',), ('up_leaping',), ('leaping_twisting',), ('triplet',), ('fast_rhythm',), ('no skills',), ('no skills',), ('up_steping',), ('leaping_twisting',), ('no skills',), ('down_leaping',), ('no skills',), ('leaping_twisting',), ('no skills',), ('no skills',), ('up_steping',), ('no skills',), ('up_steping',), ('leaping_twisting',), ('no skills',), ('down_leaping',), ('no skills',), ('leaping_twisting',), ('no skills',), ('no skills',), ('no skills',), ('no skills',), ('no skills',), ('no skills',), ('no skills',), ('up_steping',), ('no skills',), ('up_leaping',), ('up_leaping',), ('staccato',), ('down_leaping',), ('no skills',), ('no skills',), ('leaping_twisting',), ('down_leaping',), ('repeating',), ('no skills',), ('up_steping',), ('leaping_twisting',), ('triplet',), ('leaping_twisting',), ('no skills',), ('no skills',), ('no skills',), ('no skills',), ('no skills',), ('no skills',), ('no skills',), ('leaping_twisting',), ('no skills',), ('no skills',), ('no skills',), ('repeating',), ('triplet',), ('no skills',), ('up_steping',), ('no skills',), ('leaping_twisting',), ('leaping_twisting',), ('staccato',), ('fast_rhythm',), ('down_leaping',), ('no skills',), ('repeating',), ('no skills',), ('no skills',), ('steping_twisting',), ('steping_twisting',), ('up_steping',), ('leaping_twisting',), ('no skills',), ('leaping_twisting',), ('triplet',), ('fast_rhythm',), ('no skills',), ('no skills',), ('no skills',), ('no skills',), ('steping_twisting',), ('no skills',), ('fast_rhythm',), ('fast_rhythm',), ('leaping_twisting',), ('no skills',), ('steping_twisting',), ('no skills',), ('no skills',), ('up_steping',), ('no skills',), ('up_leaping',), ('triplet',), ('no skills',), ('no skills',), ('fast_rhythm',), ('no skills',), ('down_leaping',), ('no skills',), ('repeating',), ('no skills',), ('no skills',), ('down_leaping',), ('up_leaping',), ('no skills',), ('repeating',), ('up_leaping',), ('no skills',), ('down_leaping',), ('no skills',), ('leaping_twisting',), ('fast_rhythm',), ('no skills',), ('no skills',), ('steping_twisting',), ('no skills',), ('staccato',), ('no skills',), ('leaping_twisting',), ('no skills',), ('no skills',), ('fast_rhythm',), ('no skills',), ('no skills',), ('no skills',), ('no skills',), ('no skills',), ('no skills',), ('no skills',), ('no skills',), ('no skills',), ('up_leaping',), ('no skills',), ('One_rhythm',), ('up_steping',), ('no skills',), ('no skills',), ('no skills',), ('no skills',), ('repeating',), ('up_steping',), ('no skills',), ('leaping_twisting',), ('up_leaping',), ('leaping_twisting',), ('up_steping',), ('no skills',), ('repeating',), ('up_leaping',), ('up_steping',), ('down_steping',), ('no skills',), ('leaping_twisting',)]\n"
          ],
          "name": "stdout"
        }
      ]
    },
    {
      "cell_type": "code",
      "metadata": {
        "id": "wbnUCrqw9O2P",
        "colab_type": "code",
        "colab": {}
      },
      "source": [
        "import numpy\n",
        "from keras.datasets import imdb\n",
        "from keras.models import Sequential\n",
        "from keras.layers import Dense\n",
        "from keras.layers import LSTM\n",
        "from keras.layers import Dropout\n",
        "from keras.layers.embeddings import Embedding\n",
        "from keras.preprocessing import sequence\n",
        "from keras.utils import to_categorical\n",
        "from keras.wrappers.scikit_learn import KerasClassifier\n",
        "from sklearn.model_selection import KFold\n",
        "from sklearn.model_selection import cross_val_score\n",
        "RNNy_test=to_categorical(np.array(RNNy_test))\n",
        "RNNy_train=to_categorical(np.array(RNNy_train))\n",
        "RNN_kfoldy=to_categorical(np.array(RNN_kfoldy))\n",
        "# fix random seed for reproducibility\n",
        "numpy.random.seed(7)\n",
        "top_words=13\n",
        "# truncate and pad input sequences\n",
        "\n",
        "RNNx_train = sequence.pad_sequences(RNNx_train, maxlen=10)\n",
        "RNNx_test = sequence.pad_sequences(RNNx_test, maxlen=10)\n",
        "RNN_kfoldx = sequence.pad_sequences(RNN_kfoldx, maxlen=10)\n"
      ],
      "execution_count": 98,
      "outputs": []
    },
    {
      "cell_type": "code",
      "metadata": {
        "id": "jd4AzRMhPWyj",
        "colab_type": "code",
        "colab": {
          "base_uri": "https://localhost:8080/",
          "height": 34
        },
        "outputId": "d5374812-16b1-430b-e99f-a0c5b62906ed"
      },
      "source": [
        "print(RNN_kfoldx.shape, RNN_kfoldy.shape)"
      ],
      "execution_count": 99,
      "outputs": [
        {
          "output_type": "stream",
          "text": [
            "(8214, 10) (8214, 13)\n"
          ],
          "name": "stdout"
        }
      ]
    },
    {
      "cell_type": "code",
      "metadata": {
        "id": "yDIeTYTFewfH",
        "colab_type": "code",
        "colab": {}
      },
      "source": [
        "unique, counts = numpy.unique(RNN_kfoldx, return_counts=True)\n",
        "RNN_weight=dict(zip(unique, 5000/counts))"
      ],
      "execution_count": 100,
      "outputs": []
    },
    {
      "cell_type": "code",
      "metadata": {
        "id": "UmiN9lI_fbs7",
        "colab_type": "code",
        "colab": {}
      },
      "source": [
        "from keras.callbacks import EarlyStopping, ReduceLROnPlateau, ModelCheckpoint\n",
        "model_path = '/content/drive/My Drive/models/' + 'RNN.h5'\n",
        "\n",
        "cb_checkpoint = ModelCheckpoint(filepath=model_path, monitor='val_accuracy',\n",
        "                                verbose=1, save_best_only=True)\n",
        "callbacks = [cb_checkpoint]"
      ],
      "execution_count": 101,
      "outputs": []
    },
    {
      "cell_type": "code",
      "metadata": {
        "id": "qtTnECWM9ooa",
        "colab_type": "code",
        "colab": {}
      },
      "source": [
        "from keras import regularizers\n",
        "# create the model\n",
        "embedding_vecor_length = 32\n",
        "timesteps = 8\n",
        "\n",
        "RNNmodel = Sequential()\n",
        "RNNmodel.add(Embedding(top_words, embedding_vecor_length, input_length=10))\n",
        "RNNmodel.add(LSTM(100, return_sequences=True,\n",
        "               input_shape=(timesteps, 100)))  # returns a sequence of vectors of dimension 32\n",
        "RNNmodel.add(LSTM(100))  # return a single vector of dimension 32\n",
        "RNNmodel.add(Dropout(0.2))\n",
        "RNNmodel.add(Dense(13, activation='sigmoid', kernel_regularizer=regularizers.l2(0.01)))\n",
        "\n",
        "RNNmodel.compile(loss='categorical_crossentropy', optimizer='adam', metrics=['accuracy'])\n",
        "\n"
      ],
      "execution_count": 102,
      "outputs": []
    },
    {
      "cell_type": "markdown",
      "metadata": {
        "id": "qwd8KBt0SKZF",
        "colab_type": "text"
      },
      "source": [
        "아래거는 kfold방식. 더 아래에는 그냥 위에서 설정한 RNNmodel을 train : valid = 1:1로 학습하는 코드가 있다."
      ]
    },
    {
      "cell_type": "code",
      "metadata": {
        "id": "oztvg4cPAxPW",
        "colab_type": "code",
        "colab": {
          "base_uri": "https://localhost:8080/",
          "height": 1000
        },
        "outputId": "0940c5eb-e8a1-4ef4-a252-8e9643d69d78"
      },
      "source": [
        "kfold = KFold(n_splits=5, shuffle=True, random_state=7)\n",
        "for i in range(3):\n",
        "  for train,valid in kfold.split(RNN_kfoldx,RNN_kfoldy):\n",
        "    RNNmodel.fit(RNN_kfoldx[train],RNN_kfoldy[train], validation_data=(RNN_kfoldx[valid],RNN_kfoldy[valid])\n",
        "    ,epochs=15, batch_size=64,callbacks=callbacks, class_weight='balanced')"
      ],
      "execution_count": 103,
      "outputs": [
        {
          "output_type": "stream",
          "text": [
            "Train on 6571 samples, validate on 1643 samples\n",
            "Epoch 1/15\n",
            "6571/6571 [==============================] - 3s 463us/step - loss: 2.2400 - accuracy: 0.4418 - val_loss: 2.0821 - val_accuracy: 0.4492\n",
            "\n",
            "Epoch 00001: val_accuracy improved from -inf to 0.44918, saving model to /content/drive/My Drive/models/RNN.h5\n",
            "Epoch 2/15\n",
            "6571/6571 [==============================] - 2s 326us/step - loss: 2.0279 - accuracy: 0.4456 - val_loss: 1.9943 - val_accuracy: 0.4492\n",
            "\n",
            "Epoch 00002: val_accuracy did not improve from 0.44918\n",
            "Epoch 3/15\n",
            "6571/6571 [==============================] - 2s 337us/step - loss: 1.9572 - accuracy: 0.4461 - val_loss: 1.9321 - val_accuracy: 0.4492\n",
            "\n",
            "Epoch 00003: val_accuracy did not improve from 0.44918\n",
            "Epoch 4/15\n",
            "6571/6571 [==============================] - 2s 339us/step - loss: 1.9082 - accuracy: 0.4461 - val_loss: 1.8873 - val_accuracy: 0.4492\n",
            "\n",
            "Epoch 00004: val_accuracy did not improve from 0.44918\n",
            "Epoch 5/15\n",
            "6571/6571 [==============================] - 2s 349us/step - loss: 1.8661 - accuracy: 0.4461 - val_loss: 1.8617 - val_accuracy: 0.4492\n",
            "\n",
            "Epoch 00005: val_accuracy did not improve from 0.44918\n",
            "Epoch 6/15\n",
            "6571/6571 [==============================] - 2s 355us/step - loss: 1.8442 - accuracy: 0.4461 - val_loss: 1.8422 - val_accuracy: 0.4492\n",
            "\n",
            "Epoch 00006: val_accuracy did not improve from 0.44918\n",
            "Epoch 7/15\n",
            "6571/6571 [==============================] - 2s 336us/step - loss: 1.8260 - accuracy: 0.4464 - val_loss: 1.8351 - val_accuracy: 0.4492\n",
            "\n",
            "Epoch 00007: val_accuracy did not improve from 0.44918\n",
            "Epoch 8/15\n",
            "6571/6571 [==============================] - 2s 331us/step - loss: 1.8148 - accuracy: 0.4462 - val_loss: 1.8259 - val_accuracy: 0.4492\n",
            "\n",
            "Epoch 00008: val_accuracy did not improve from 0.44918\n",
            "Epoch 9/15\n",
            "6571/6571 [==============================] - 2s 337us/step - loss: 1.8058 - accuracy: 0.4461 - val_loss: 1.8179 - val_accuracy: 0.4498\n",
            "\n",
            "Epoch 00009: val_accuracy improved from 0.44918 to 0.44979, saving model to /content/drive/My Drive/models/RNN.h5\n",
            "Epoch 10/15\n",
            "6571/6571 [==============================] - 2s 351us/step - loss: 1.7978 - accuracy: 0.4464 - val_loss: 1.8178 - val_accuracy: 0.4492\n",
            "\n",
            "Epoch 00010: val_accuracy did not improve from 0.44979\n",
            "Epoch 11/15\n",
            "6571/6571 [==============================] - 2s 351us/step - loss: 1.7946 - accuracy: 0.4464 - val_loss: 1.8164 - val_accuracy: 0.4492\n",
            "\n",
            "Epoch 00011: val_accuracy did not improve from 0.44979\n",
            "Epoch 12/15\n",
            "6571/6571 [==============================] - 2s 335us/step - loss: 1.7909 - accuracy: 0.4457 - val_loss: 1.8110 - val_accuracy: 0.4492\n",
            "\n",
            "Epoch 00012: val_accuracy did not improve from 0.44979\n",
            "Epoch 13/15\n",
            "6571/6571 [==============================] - 2s 342us/step - loss: 1.7832 - accuracy: 0.4457 - val_loss: 1.8064 - val_accuracy: 0.4492\n",
            "\n",
            "Epoch 00013: val_accuracy did not improve from 0.44979\n",
            "Epoch 14/15\n",
            "6571/6571 [==============================] - 2s 359us/step - loss: 1.7789 - accuracy: 0.4473 - val_loss: 1.7980 - val_accuracy: 0.4504\n",
            "\n",
            "Epoch 00014: val_accuracy improved from 0.44979 to 0.45040, saving model to /content/drive/My Drive/models/RNN.h5\n",
            "Epoch 15/15\n",
            "6571/6571 [==============================] - 2s 352us/step - loss: 1.7697 - accuracy: 0.4471 - val_loss: 1.7952 - val_accuracy: 0.4504\n",
            "\n",
            "Epoch 00015: val_accuracy did not improve from 0.45040\n",
            "Train on 6571 samples, validate on 1643 samples\n",
            "Epoch 1/15\n",
            "6571/6571 [==============================] - 2s 345us/step - loss: 1.7757 - accuracy: 0.4491 - val_loss: 1.7596 - val_accuracy: 0.4480\n",
            "\n",
            "Epoch 00001: val_accuracy did not improve from 0.45040\n",
            "Epoch 2/15\n",
            "6571/6571 [==============================] - 2s 328us/step - loss: 1.7720 - accuracy: 0.4538 - val_loss: 1.7585 - val_accuracy: 0.4492\n",
            "\n",
            "Epoch 00002: val_accuracy did not improve from 0.45040\n",
            "Epoch 3/15\n",
            "6571/6571 [==============================] - 2s 344us/step - loss: 1.7622 - accuracy: 0.4494 - val_loss: 1.7551 - val_accuracy: 0.4474\n",
            "\n",
            "Epoch 00003: val_accuracy did not improve from 0.45040\n",
            "Epoch 4/15\n",
            "6571/6571 [==============================] - 2s 342us/step - loss: 1.7613 - accuracy: 0.4489 - val_loss: 1.7565 - val_accuracy: 0.4480\n",
            "\n",
            "Epoch 00004: val_accuracy did not improve from 0.45040\n",
            "Epoch 5/15\n",
            "6571/6571 [==============================] - 2s 332us/step - loss: 1.7596 - accuracy: 0.4503 - val_loss: 1.7546 - val_accuracy: 0.4504\n",
            "\n",
            "Epoch 00005: val_accuracy did not improve from 0.45040\n",
            "Epoch 6/15\n",
            "6571/6571 [==============================] - 2s 341us/step - loss: 1.7537 - accuracy: 0.4517 - val_loss: 1.7583 - val_accuracy: 0.4498\n",
            "\n",
            "Epoch 00006: val_accuracy did not improve from 0.45040\n",
            "Epoch 7/15\n",
            "6571/6571 [==============================] - 2s 339us/step - loss: 1.7518 - accuracy: 0.4552 - val_loss: 1.7607 - val_accuracy: 0.4528\n",
            "\n",
            "Epoch 00007: val_accuracy improved from 0.45040 to 0.45283, saving model to /content/drive/My Drive/models/RNN.h5\n",
            "Epoch 8/15\n",
            "6571/6571 [==============================] - 2s 333us/step - loss: 1.7507 - accuracy: 0.4512 - val_loss: 1.7698 - val_accuracy: 0.4480\n",
            "\n",
            "Epoch 00008: val_accuracy did not improve from 0.45283\n",
            "Epoch 9/15\n",
            "6571/6571 [==============================] - 2s 341us/step - loss: 1.7464 - accuracy: 0.4531 - val_loss: 1.7578 - val_accuracy: 0.4498\n",
            "\n",
            "Epoch 00009: val_accuracy did not improve from 0.45283\n",
            "Epoch 10/15\n",
            "6571/6571 [==============================] - 2s 334us/step - loss: 1.7480 - accuracy: 0.4535 - val_loss: 1.7620 - val_accuracy: 0.4504\n",
            "\n",
            "Epoch 00010: val_accuracy did not improve from 0.45283\n",
            "Epoch 11/15\n",
            "6571/6571 [==============================] - 2s 333us/step - loss: 1.7412 - accuracy: 0.4546 - val_loss: 1.7538 - val_accuracy: 0.4498\n",
            "\n",
            "Epoch 00011: val_accuracy did not improve from 0.45283\n",
            "Epoch 12/15\n",
            "6571/6571 [==============================] - 2s 333us/step - loss: 1.7383 - accuracy: 0.4534 - val_loss: 1.7594 - val_accuracy: 0.4510\n",
            "\n",
            "Epoch 00012: val_accuracy did not improve from 0.45283\n",
            "Epoch 13/15\n",
            "6571/6571 [==============================] - 2s 327us/step - loss: 1.7349 - accuracy: 0.4518 - val_loss: 1.7656 - val_accuracy: 0.4492\n",
            "\n",
            "Epoch 00013: val_accuracy did not improve from 0.45283\n",
            "Epoch 14/15\n",
            "6571/6571 [==============================] - 2s 335us/step - loss: 1.7332 - accuracy: 0.4561 - val_loss: 1.7569 - val_accuracy: 0.4498\n",
            "\n",
            "Epoch 00014: val_accuracy did not improve from 0.45283\n",
            "Epoch 15/15\n",
            "6571/6571 [==============================] - 2s 337us/step - loss: 1.7322 - accuracy: 0.4549 - val_loss: 1.7566 - val_accuracy: 0.4510\n",
            "\n",
            "Epoch 00015: val_accuracy did not improve from 0.45283\n",
            "Train on 6571 samples, validate on 1643 samples\n",
            "Epoch 1/15\n",
            "6571/6571 [==============================] - 2s 345us/step - loss: 1.7402 - accuracy: 0.4543 - val_loss: 1.7056 - val_accuracy: 0.4528\n",
            "\n",
            "Epoch 00001: val_accuracy did not improve from 0.45283\n",
            "Epoch 2/15\n",
            "6571/6571 [==============================] - 2s 337us/step - loss: 1.7343 - accuracy: 0.4535 - val_loss: 1.7080 - val_accuracy: 0.4565\n",
            "\n",
            "Epoch 00002: val_accuracy improved from 0.45283 to 0.45648, saving model to /content/drive/My Drive/models/RNN.h5\n",
            "Epoch 3/15\n",
            "6571/6571 [==============================] - 2s 328us/step - loss: 1.7282 - accuracy: 0.4547 - val_loss: 1.7097 - val_accuracy: 0.4516\n",
            "\n",
            "Epoch 00003: val_accuracy did not improve from 0.45648\n",
            "Epoch 4/15\n",
            "6571/6571 [==============================] - 2s 329us/step - loss: 1.7301 - accuracy: 0.4526 - val_loss: 1.7202 - val_accuracy: 0.4534\n",
            "\n",
            "Epoch 00004: val_accuracy did not improve from 0.45648\n",
            "Epoch 5/15\n",
            "6571/6571 [==============================] - 2s 329us/step - loss: 1.7233 - accuracy: 0.4558 - val_loss: 1.7161 - val_accuracy: 0.4516\n",
            "\n",
            "Epoch 00005: val_accuracy did not improve from 0.45648\n",
            "Epoch 6/15\n",
            "6571/6571 [==============================] - 2s 329us/step - loss: 1.7193 - accuracy: 0.4546 - val_loss: 1.7147 - val_accuracy: 0.4540\n",
            "\n",
            "Epoch 00006: val_accuracy did not improve from 0.45648\n",
            "Epoch 7/15\n",
            "6571/6571 [==============================] - 2s 328us/step - loss: 1.7127 - accuracy: 0.4569 - val_loss: 1.7182 - val_accuracy: 0.4644\n",
            "\n",
            "Epoch 00007: val_accuracy improved from 0.45648 to 0.46439, saving model to /content/drive/My Drive/models/RNN.h5\n",
            "Epoch 8/15\n",
            "6571/6571 [==============================] - 2s 338us/step - loss: 1.7108 - accuracy: 0.4552 - val_loss: 1.7234 - val_accuracy: 0.4528\n",
            "\n",
            "Epoch 00008: val_accuracy did not improve from 0.46439\n",
            "Epoch 9/15\n",
            "6571/6571 [==============================] - 2s 337us/step - loss: 1.7080 - accuracy: 0.4573 - val_loss: 1.7215 - val_accuracy: 0.4516\n",
            "\n",
            "Epoch 00009: val_accuracy did not improve from 0.46439\n",
            "Epoch 10/15\n",
            "6571/6571 [==============================] - 2s 342us/step - loss: 1.7034 - accuracy: 0.4567 - val_loss: 1.7233 - val_accuracy: 0.4547\n",
            "\n",
            "Epoch 00010: val_accuracy did not improve from 0.46439\n",
            "Epoch 11/15\n",
            "6571/6571 [==============================] - 2s 345us/step - loss: 1.6992 - accuracy: 0.4582 - val_loss: 1.7254 - val_accuracy: 0.4559\n",
            "\n",
            "Epoch 00011: val_accuracy did not improve from 0.46439\n",
            "Epoch 12/15\n",
            "6571/6571 [==============================] - 2s 338us/step - loss: 1.6942 - accuracy: 0.4552 - val_loss: 1.7218 - val_accuracy: 0.4522\n",
            "\n",
            "Epoch 00012: val_accuracy did not improve from 0.46439\n",
            "Epoch 13/15\n",
            "6571/6571 [==============================] - 2s 340us/step - loss: 1.6920 - accuracy: 0.4590 - val_loss: 1.7271 - val_accuracy: 0.4565\n",
            "\n",
            "Epoch 00013: val_accuracy did not improve from 0.46439\n",
            "Epoch 14/15\n",
            "6571/6571 [==============================] - 2s 334us/step - loss: 1.6850 - accuracy: 0.4601 - val_loss: 1.7230 - val_accuracy: 0.4601\n",
            "\n",
            "Epoch 00014: val_accuracy did not improve from 0.46439\n",
            "Epoch 15/15\n",
            "6571/6571 [==============================] - 2s 343us/step - loss: 1.6815 - accuracy: 0.4599 - val_loss: 1.7374 - val_accuracy: 0.4522\n",
            "\n",
            "Epoch 00015: val_accuracy did not improve from 0.46439\n",
            "Train on 6571 samples, validate on 1643 samples\n",
            "Epoch 1/15\n",
            "6571/6571 [==============================] - 2s 334us/step - loss: 1.6952 - accuracy: 0.4538 - val_loss: 1.6491 - val_accuracy: 0.4644\n",
            "\n",
            "Epoch 00001: val_accuracy did not improve from 0.46439\n",
            "Epoch 2/15\n",
            "6571/6571 [==============================] - 2s 341us/step - loss: 1.6870 - accuracy: 0.4556 - val_loss: 1.6597 - val_accuracy: 0.4650\n",
            "\n",
            "Epoch 00002: val_accuracy improved from 0.46439 to 0.46500, saving model to /content/drive/My Drive/models/RNN.h5\n",
            "Epoch 3/15\n",
            "6571/6571 [==============================] - 2s 339us/step - loss: 1.6791 - accuracy: 0.4613 - val_loss: 1.6589 - val_accuracy: 0.4747\n",
            "\n",
            "Epoch 00003: val_accuracy improved from 0.46500 to 0.47474, saving model to /content/drive/My Drive/models/RNN.h5\n",
            "Epoch 4/15\n",
            "6571/6571 [==============================] - 2s 343us/step - loss: 1.6698 - accuracy: 0.4610 - val_loss: 1.6665 - val_accuracy: 0.4632\n",
            "\n",
            "Epoch 00004: val_accuracy did not improve from 0.47474\n",
            "Epoch 5/15\n",
            "6571/6571 [==============================] - 2s 346us/step - loss: 1.6619 - accuracy: 0.4604 - val_loss: 1.6730 - val_accuracy: 0.4729\n",
            "\n",
            "Epoch 00005: val_accuracy did not improve from 0.47474\n",
            "Epoch 6/15\n",
            "6571/6571 [==============================] - 2s 363us/step - loss: 1.6589 - accuracy: 0.4674 - val_loss: 1.6774 - val_accuracy: 0.4674\n",
            "\n",
            "Epoch 00006: val_accuracy did not improve from 0.47474\n",
            "Epoch 7/15\n",
            "6571/6571 [==============================] - 2s 367us/step - loss: 1.6461 - accuracy: 0.4614 - val_loss: 1.6808 - val_accuracy: 0.4766\n",
            "\n",
            "Epoch 00007: val_accuracy improved from 0.47474 to 0.47657, saving model to /content/drive/My Drive/models/RNN.h5\n",
            "Epoch 8/15\n",
            "6571/6571 [==============================] - 2s 337us/step - loss: 1.6385 - accuracy: 0.4663 - val_loss: 1.6843 - val_accuracy: 0.4747\n",
            "\n",
            "Epoch 00008: val_accuracy did not improve from 0.47657\n",
            "Epoch 9/15\n",
            "6571/6571 [==============================] - 2s 338us/step - loss: 1.6319 - accuracy: 0.4693 - val_loss: 1.6877 - val_accuracy: 0.4705\n",
            "\n",
            "Epoch 00009: val_accuracy did not improve from 0.47657\n",
            "Epoch 10/15\n",
            "6571/6571 [==============================] - 2s 348us/step - loss: 1.6184 - accuracy: 0.4721 - val_loss: 1.6857 - val_accuracy: 0.4735\n",
            "\n",
            "Epoch 00010: val_accuracy did not improve from 0.47657\n",
            "Epoch 11/15\n",
            "6571/6571 [==============================] - 2s 335us/step - loss: 1.6097 - accuracy: 0.4718 - val_loss: 1.7041 - val_accuracy: 0.4638\n",
            "\n",
            "Epoch 00011: val_accuracy did not improve from 0.47657\n",
            "Epoch 12/15\n",
            "6571/6571 [==============================] - 3s 386us/step - loss: 1.5980 - accuracy: 0.4741 - val_loss: 1.7068 - val_accuracy: 0.4729\n",
            "\n",
            "Epoch 00012: val_accuracy did not improve from 0.47657\n",
            "Epoch 13/15\n",
            "6571/6571 [==============================] - 2s 338us/step - loss: 1.5882 - accuracy: 0.4759 - val_loss: 1.7056 - val_accuracy: 0.4662\n",
            "\n",
            "Epoch 00013: val_accuracy did not improve from 0.47657\n",
            "Epoch 14/15\n",
            "6571/6571 [==============================] - 2s 347us/step - loss: 1.5761 - accuracy: 0.4835 - val_loss: 1.7164 - val_accuracy: 0.4626\n",
            "\n",
            "Epoch 00014: val_accuracy did not improve from 0.47657\n",
            "Epoch 15/15\n",
            "6571/6571 [==============================] - 2s 339us/step - loss: 1.5713 - accuracy: 0.4798 - val_loss: 1.7185 - val_accuracy: 0.4626\n",
            "\n",
            "Epoch 00015: val_accuracy did not improve from 0.47657\n",
            "Train on 6572 samples, validate on 1642 samples\n",
            "Epoch 1/15\n",
            "6572/6572 [==============================] - 2s 336us/step - loss: 1.5992 - accuracy: 0.4846 - val_loss: 1.5691 - val_accuracy: 0.4598\n",
            "\n",
            "Epoch 00001: val_accuracy did not improve from 0.47657\n",
            "Epoch 2/15\n",
            "6572/6572 [==============================] - 2s 338us/step - loss: 1.5789 - accuracy: 0.4874 - val_loss: 1.5895 - val_accuracy: 0.4488\n",
            "\n",
            "Epoch 00002: val_accuracy did not improve from 0.47657\n",
            "Epoch 3/15\n",
            "6572/6572 [==============================] - 2s 340us/step - loss: 1.5641 - accuracy: 0.4915 - val_loss: 1.6015 - val_accuracy: 0.4562\n",
            "\n",
            "Epoch 00003: val_accuracy did not improve from 0.47657\n",
            "Epoch 4/15\n",
            "6572/6572 [==============================] - 2s 338us/step - loss: 1.5509 - accuracy: 0.4868 - val_loss: 1.6004 - val_accuracy: 0.4586\n",
            "\n",
            "Epoch 00004: val_accuracy did not improve from 0.47657\n",
            "Epoch 5/15\n",
            "6572/6572 [==============================] - 2s 328us/step - loss: 1.5391 - accuracy: 0.4957 - val_loss: 1.6038 - val_accuracy: 0.4635\n",
            "\n",
            "Epoch 00005: val_accuracy did not improve from 0.47657\n",
            "Epoch 6/15\n",
            "6572/6572 [==============================] - 2s 333us/step - loss: 1.5296 - accuracy: 0.4985 - val_loss: 1.6137 - val_accuracy: 0.4616\n",
            "\n",
            "Epoch 00006: val_accuracy did not improve from 0.47657\n",
            "Epoch 7/15\n",
            "6572/6572 [==============================] - 2s 332us/step - loss: 1.5170 - accuracy: 0.5047 - val_loss: 1.6259 - val_accuracy: 0.4604\n",
            "\n",
            "Epoch 00007: val_accuracy did not improve from 0.47657\n",
            "Epoch 8/15\n",
            "6572/6572 [==============================] - 2s 331us/step - loss: 1.5006 - accuracy: 0.5050 - val_loss: 1.6397 - val_accuracy: 0.4677\n",
            "\n",
            "Epoch 00008: val_accuracy did not improve from 0.47657\n",
            "Epoch 9/15\n",
            "6572/6572 [==============================] - 2s 331us/step - loss: 1.4876 - accuracy: 0.5065 - val_loss: 1.6461 - val_accuracy: 0.4629\n",
            "\n",
            "Epoch 00009: val_accuracy did not improve from 0.47657\n",
            "Epoch 10/15\n",
            "6572/6572 [==============================] - 2s 329us/step - loss: 1.4715 - accuracy: 0.5210 - val_loss: 1.6584 - val_accuracy: 0.4653\n",
            "\n",
            "Epoch 00010: val_accuracy did not improve from 0.47657\n",
            "Epoch 11/15\n",
            "6572/6572 [==============================] - 2s 335us/step - loss: 1.4591 - accuracy: 0.5198 - val_loss: 1.6644 - val_accuracy: 0.4665\n",
            "\n",
            "Epoch 00011: val_accuracy did not improve from 0.47657\n",
            "Epoch 12/15\n",
            "6572/6572 [==============================] - 2s 339us/step - loss: 1.4464 - accuracy: 0.5275 - val_loss: 1.6814 - val_accuracy: 0.4629\n",
            "\n",
            "Epoch 00012: val_accuracy did not improve from 0.47657\n",
            "Epoch 13/15\n",
            "6572/6572 [==============================] - 2s 333us/step - loss: 1.4325 - accuracy: 0.5318 - val_loss: 1.6859 - val_accuracy: 0.4616\n",
            "\n",
            "Epoch 00013: val_accuracy did not improve from 0.47657\n",
            "Epoch 14/15\n",
            "6572/6572 [==============================] - 2s 333us/step - loss: 1.4149 - accuracy: 0.5341 - val_loss: 1.6983 - val_accuracy: 0.4622\n",
            "\n",
            "Epoch 00014: val_accuracy did not improve from 0.47657\n",
            "Epoch 15/15\n",
            "6572/6572 [==============================] - 2s 333us/step - loss: 1.3981 - accuracy: 0.5429 - val_loss: 1.7057 - val_accuracy: 0.4604\n",
            "\n",
            "Epoch 00015: val_accuracy did not improve from 0.47657\n",
            "Train on 6571 samples, validate on 1643 samples\n",
            "Epoch 1/15\n",
            "6571/6571 [==============================] - 2s 354us/step - loss: 1.4855 - accuracy: 0.5200 - val_loss: 1.3878 - val_accuracy: 0.5825\n",
            "\n",
            "Epoch 00001: val_accuracy improved from 0.47657 to 0.58247, saving model to /content/drive/My Drive/models/RNN.h5\n",
            "Epoch 2/15\n",
            "6571/6571 [==============================] - 2s 329us/step - loss: 1.4578 - accuracy: 0.5209 - val_loss: 1.3814 - val_accuracy: 0.5624\n",
            "\n",
            "Epoch 00002: val_accuracy did not improve from 0.58247\n",
            "Epoch 3/15\n",
            "6571/6571 [==============================] - 2s 349us/step - loss: 1.4305 - accuracy: 0.5339 - val_loss: 1.3890 - val_accuracy: 0.5557\n",
            "\n",
            "Epoch 00003: val_accuracy did not improve from 0.58247\n",
            "Epoch 4/15\n",
            "6571/6571 [==============================] - 2s 339us/step - loss: 1.4085 - accuracy: 0.5413 - val_loss: 1.4170 - val_accuracy: 0.5496\n",
            "\n",
            "Epoch 00004: val_accuracy did not improve from 0.58247\n",
            "Epoch 5/15\n",
            "6571/6571 [==============================] - 2s 335us/step - loss: 1.3914 - accuracy: 0.5444 - val_loss: 1.4258 - val_accuracy: 0.5563\n",
            "\n",
            "Epoch 00005: val_accuracy did not improve from 0.58247\n",
            "Epoch 6/15\n",
            "6571/6571 [==============================] - 2s 333us/step - loss: 1.3746 - accuracy: 0.5565 - val_loss: 1.4320 - val_accuracy: 0.5484\n",
            "\n",
            "Epoch 00006: val_accuracy did not improve from 0.58247\n",
            "Epoch 7/15\n",
            "6571/6571 [==============================] - 2s 338us/step - loss: 1.3550 - accuracy: 0.5611 - val_loss: 1.4600 - val_accuracy: 0.5399\n",
            "\n",
            "Epoch 00007: val_accuracy did not improve from 0.58247\n",
            "Epoch 8/15\n",
            "6571/6571 [==============================] - 3s 406us/step - loss: 1.3350 - accuracy: 0.5733 - val_loss: 1.4602 - val_accuracy: 0.5429\n",
            "\n",
            "Epoch 00008: val_accuracy did not improve from 0.58247\n",
            "Epoch 9/15\n",
            "6571/6571 [==============================] - 3s 424us/step - loss: 1.3160 - accuracy: 0.5833 - val_loss: 1.4861 - val_accuracy: 0.5350\n",
            "\n",
            "Epoch 00009: val_accuracy did not improve from 0.58247\n",
            "Epoch 10/15\n",
            "6571/6571 [==============================] - 3s 392us/step - loss: 1.3024 - accuracy: 0.5929 - val_loss: 1.5043 - val_accuracy: 0.5326\n",
            "\n",
            "Epoch 00010: val_accuracy did not improve from 0.58247\n",
            "Epoch 11/15\n",
            "6571/6571 [==============================] - 3s 404us/step - loss: 1.2955 - accuracy: 0.5976 - val_loss: 1.5003 - val_accuracy: 0.5350\n",
            "\n",
            "Epoch 00011: val_accuracy did not improve from 0.58247\n",
            "Epoch 12/15\n",
            "6571/6571 [==============================] - 2s 353us/step - loss: 1.2774 - accuracy: 0.6030 - val_loss: 1.5145 - val_accuracy: 0.5259\n",
            "\n",
            "Epoch 00012: val_accuracy did not improve from 0.58247\n",
            "Epoch 13/15\n",
            "6571/6571 [==============================] - 2s 337us/step - loss: 1.2540 - accuracy: 0.6183 - val_loss: 1.5480 - val_accuracy: 0.5210\n",
            "\n",
            "Epoch 00013: val_accuracy did not improve from 0.58247\n",
            "Epoch 14/15\n",
            "6571/6571 [==============================] - 2s 334us/step - loss: 1.2429 - accuracy: 0.6198 - val_loss: 1.5547 - val_accuracy: 0.5289\n",
            "\n",
            "Epoch 00014: val_accuracy did not improve from 0.58247\n",
            "Epoch 15/15\n",
            "6571/6571 [==============================] - 2s 333us/step - loss: 1.2224 - accuracy: 0.6276 - val_loss: 1.5776 - val_accuracy: 0.5009\n",
            "\n",
            "Epoch 00015: val_accuracy did not improve from 0.58247\n",
            "Train on 6571 samples, validate on 1643 samples\n",
            "Epoch 1/15\n",
            "6571/6571 [==============================] - 2s 337us/step - loss: 1.3317 - accuracy: 0.5885 - val_loss: 1.1901 - val_accuracy: 0.6427\n",
            "\n",
            "Epoch 00001: val_accuracy improved from 0.58247 to 0.64273, saving model to /content/drive/My Drive/models/RNN.h5\n",
            "Epoch 2/15\n",
            "6571/6571 [==============================] - 2s 343us/step - loss: 1.2926 - accuracy: 0.6014 - val_loss: 1.2033 - val_accuracy: 0.6354\n",
            "\n",
            "Epoch 00002: val_accuracy did not improve from 0.64273\n",
            "Epoch 3/15\n",
            "6571/6571 [==============================] - 2s 357us/step - loss: 1.2627 - accuracy: 0.6205 - val_loss: 1.2067 - val_accuracy: 0.6196\n",
            "\n",
            "Epoch 00003: val_accuracy did not improve from 0.64273\n",
            "Epoch 4/15\n",
            "6571/6571 [==============================] - 2s 355us/step - loss: 1.2295 - accuracy: 0.6331 - val_loss: 1.2205 - val_accuracy: 0.6233\n",
            "\n",
            "Epoch 00004: val_accuracy did not improve from 0.64273\n",
            "Epoch 5/15\n",
            "6571/6571 [==============================] - 2s 346us/step - loss: 1.2175 - accuracy: 0.6370 - val_loss: 1.2466 - val_accuracy: 0.5959\n",
            "\n",
            "Epoch 00005: val_accuracy did not improve from 0.64273\n",
            "Epoch 6/15\n",
            "6571/6571 [==============================] - 2s 349us/step - loss: 1.1973 - accuracy: 0.6465 - val_loss: 1.2497 - val_accuracy: 0.6129\n",
            "\n",
            "Epoch 00006: val_accuracy did not improve from 0.64273\n",
            "Epoch 7/15\n",
            "6571/6571 [==============================] - 2s 353us/step - loss: 1.1754 - accuracy: 0.6573 - val_loss: 1.2679 - val_accuracy: 0.5995\n",
            "\n",
            "Epoch 00007: val_accuracy did not improve from 0.64273\n",
            "Epoch 8/15\n",
            "6571/6571 [==============================] - 2s 373us/step - loss: 1.1634 - accuracy: 0.6644 - val_loss: 1.2932 - val_accuracy: 0.5983\n",
            "\n",
            "Epoch 00008: val_accuracy did not improve from 0.64273\n",
            "Epoch 9/15\n",
            "6571/6571 [==============================] - 2s 367us/step - loss: 1.1435 - accuracy: 0.6707 - val_loss: 1.2891 - val_accuracy: 0.6074\n",
            "\n",
            "Epoch 00009: val_accuracy did not improve from 0.64273\n",
            "Epoch 10/15\n",
            "6571/6571 [==============================] - 2s 360us/step - loss: 1.1363 - accuracy: 0.6736 - val_loss: 1.3019 - val_accuracy: 0.6056\n",
            "\n",
            "Epoch 00010: val_accuracy did not improve from 0.64273\n",
            "Epoch 11/15\n",
            "6571/6571 [==============================] - 2s 341us/step - loss: 1.1162 - accuracy: 0.6874 - val_loss: 1.3167 - val_accuracy: 0.5928\n",
            "\n",
            "Epoch 00011: val_accuracy did not improve from 0.64273\n",
            "Epoch 12/15\n",
            "6571/6571 [==============================] - 2s 336us/step - loss: 1.0984 - accuracy: 0.6941 - val_loss: 1.3253 - val_accuracy: 0.5873\n",
            "\n",
            "Epoch 00012: val_accuracy did not improve from 0.64273\n",
            "Epoch 13/15\n",
            "6571/6571 [==============================] - 2s 334us/step - loss: 1.0757 - accuracy: 0.7028 - val_loss: 1.3499 - val_accuracy: 0.5904\n",
            "\n",
            "Epoch 00013: val_accuracy did not improve from 0.64273\n",
            "Epoch 14/15\n",
            "6571/6571 [==============================] - 2s 349us/step - loss: 1.0763 - accuracy: 0.7025 - val_loss: 1.3726 - val_accuracy: 0.5733\n",
            "\n",
            "Epoch 00014: val_accuracy did not improve from 0.64273\n",
            "Epoch 15/15\n",
            "6571/6571 [==============================] - 2s 330us/step - loss: 1.0643 - accuracy: 0.7115 - val_loss: 1.3784 - val_accuracy: 0.5673\n",
            "\n",
            "Epoch 00015: val_accuracy did not improve from 0.64273\n",
            "Train on 6571 samples, validate on 1643 samples\n",
            "Epoch 1/15\n",
            "6571/6571 [==============================] - 2s 340us/step - loss: 1.1693 - accuracy: 0.6609 - val_loss: 1.0285 - val_accuracy: 0.7304\n",
            "\n",
            "Epoch 00001: val_accuracy improved from 0.64273 to 0.73037, saving model to /content/drive/My Drive/models/RNN.h5\n",
            "Epoch 2/15\n",
            "6571/6571 [==============================] - 2s 333us/step - loss: 1.1332 - accuracy: 0.6772 - val_loss: 1.0258 - val_accuracy: 0.7158\n",
            "\n",
            "Epoch 00002: val_accuracy did not improve from 0.73037\n",
            "Epoch 3/15\n",
            "6571/6571 [==============================] - 2s 342us/step - loss: 1.1048 - accuracy: 0.6862 - val_loss: 1.0409 - val_accuracy: 0.7091\n",
            "\n",
            "Epoch 00003: val_accuracy did not improve from 0.73037\n",
            "Epoch 4/15\n",
            "6571/6571 [==============================] - 2s 353us/step - loss: 1.0729 - accuracy: 0.7052 - val_loss: 1.0403 - val_accuracy: 0.7018\n",
            "\n",
            "Epoch 00004: val_accuracy did not improve from 0.73037\n",
            "Epoch 5/15\n",
            "6571/6571 [==============================] - 2s 339us/step - loss: 1.0590 - accuracy: 0.7077 - val_loss: 1.0516 - val_accuracy: 0.7188\n",
            "\n",
            "Epoch 00005: val_accuracy did not improve from 0.73037\n",
            "Epoch 6/15\n",
            "6571/6571 [==============================] - 2s 344us/step - loss: 1.0462 - accuracy: 0.7130 - val_loss: 1.1142 - val_accuracy: 0.6835\n",
            "\n",
            "Epoch 00006: val_accuracy did not improve from 0.73037\n",
            "Epoch 7/15\n",
            "6571/6571 [==============================] - 2s 343us/step - loss: 1.0358 - accuracy: 0.7203 - val_loss: 1.0958 - val_accuracy: 0.6799\n",
            "\n",
            "Epoch 00007: val_accuracy did not improve from 0.73037\n",
            "Epoch 8/15\n",
            "6571/6571 [==============================] - 2s 337us/step - loss: 1.0242 - accuracy: 0.7287 - val_loss: 1.0977 - val_accuracy: 0.6835\n",
            "\n",
            "Epoch 00008: val_accuracy did not improve from 0.73037\n",
            "Epoch 9/15\n",
            "6571/6571 [==============================] - 2s 335us/step - loss: 1.0128 - accuracy: 0.7293 - val_loss: 1.1161 - val_accuracy: 0.6811\n",
            "\n",
            "Epoch 00009: val_accuracy did not improve from 0.73037\n",
            "Epoch 10/15\n",
            "6571/6571 [==============================] - 2s 334us/step - loss: 1.0035 - accuracy: 0.7346 - val_loss: 1.1294 - val_accuracy: 0.6659\n",
            "\n",
            "Epoch 00010: val_accuracy did not improve from 0.73037\n",
            "Epoch 11/15\n",
            "6571/6571 [==============================] - 2s 338us/step - loss: 0.9898 - accuracy: 0.7378 - val_loss: 1.1451 - val_accuracy: 0.6719\n",
            "\n",
            "Epoch 00011: val_accuracy did not improve from 0.73037\n",
            "Epoch 12/15\n",
            "6571/6571 [==============================] - 2s 337us/step - loss: 0.9833 - accuracy: 0.7442 - val_loss: 1.1569 - val_accuracy: 0.6750\n",
            "\n",
            "Epoch 00012: val_accuracy did not improve from 0.73037\n",
            "Epoch 13/15\n",
            "6571/6571 [==============================] - 2s 336us/step - loss: 0.9683 - accuracy: 0.7503 - val_loss: 1.1577 - val_accuracy: 0.6567\n",
            "\n",
            "Epoch 00013: val_accuracy did not improve from 0.73037\n",
            "Epoch 14/15\n",
            "6571/6571 [==============================] - 2s 346us/step - loss: 0.9540 - accuracy: 0.7589 - val_loss: 1.1792 - val_accuracy: 0.6579\n",
            "\n",
            "Epoch 00014: val_accuracy did not improve from 0.73037\n",
            "Epoch 15/15\n",
            "6571/6571 [==============================] - 2s 359us/step - loss: 0.9430 - accuracy: 0.7675 - val_loss: 1.1840 - val_accuracy: 0.6567\n",
            "\n",
            "Epoch 00015: val_accuracy did not improve from 0.73037\n",
            "Train on 6571 samples, validate on 1643 samples\n",
            "Epoch 1/15\n",
            "6571/6571 [==============================] - 2s 333us/step - loss: 1.0331 - accuracy: 0.7166 - val_loss: 0.9382 - val_accuracy: 0.7620\n",
            "\n",
            "Epoch 00001: val_accuracy improved from 0.73037 to 0.76202, saving model to /content/drive/My Drive/models/RNN.h5\n",
            "Epoch 2/15\n",
            "6571/6571 [==============================] - 2s 337us/step - loss: 0.9922 - accuracy: 0.7417 - val_loss: 0.9622 - val_accuracy: 0.7541\n",
            "\n",
            "Epoch 00002: val_accuracy did not improve from 0.76202\n",
            "Epoch 3/15\n",
            "6571/6571 [==============================] - 2s 343us/step - loss: 0.9692 - accuracy: 0.7489 - val_loss: 0.9618 - val_accuracy: 0.7511\n",
            "\n",
            "Epoch 00003: val_accuracy did not improve from 0.76202\n",
            "Epoch 4/15\n",
            "6571/6571 [==============================] - 2s 354us/step - loss: 0.9576 - accuracy: 0.7522 - val_loss: 0.9787 - val_accuracy: 0.7352\n",
            "\n",
            "Epoch 00004: val_accuracy did not improve from 0.76202\n",
            "Epoch 5/15\n",
            "6571/6571 [==============================] - 2s 333us/step - loss: 0.9443 - accuracy: 0.7562 - val_loss: 0.9778 - val_accuracy: 0.7492\n",
            "\n",
            "Epoch 00005: val_accuracy did not improve from 0.76202\n",
            "Epoch 6/15\n",
            "6571/6571 [==============================] - 2s 330us/step - loss: 0.9278 - accuracy: 0.7693 - val_loss: 0.9816 - val_accuracy: 0.7383\n",
            "\n",
            "Epoch 00006: val_accuracy did not improve from 0.76202\n",
            "Epoch 7/15\n",
            "6571/6571 [==============================] - 2s 331us/step - loss: 0.9089 - accuracy: 0.7778 - val_loss: 1.0184 - val_accuracy: 0.7237\n",
            "\n",
            "Epoch 00007: val_accuracy did not improve from 0.76202\n",
            "Epoch 8/15\n",
            "6571/6571 [==============================] - 2s 354us/step - loss: 0.9104 - accuracy: 0.7722 - val_loss: 1.0344 - val_accuracy: 0.7219\n",
            "\n",
            "Epoch 00008: val_accuracy did not improve from 0.76202\n",
            "Epoch 9/15\n",
            "6571/6571 [==============================] - 2s 325us/step - loss: 0.9008 - accuracy: 0.7793 - val_loss: 1.0272 - val_accuracy: 0.7273\n",
            "\n",
            "Epoch 00009: val_accuracy did not improve from 0.76202\n",
            "Epoch 10/15\n",
            "6571/6571 [==============================] - 2s 340us/step - loss: 0.8886 - accuracy: 0.7844 - val_loss: 1.0337 - val_accuracy: 0.7231\n",
            "\n",
            "Epoch 00010: val_accuracy did not improve from 0.76202\n",
            "Epoch 11/15\n",
            "6571/6571 [==============================] - 2s 348us/step - loss: 0.8747 - accuracy: 0.7863 - val_loss: 1.0459 - val_accuracy: 0.7182\n",
            "\n",
            "Epoch 00011: val_accuracy did not improve from 0.76202\n",
            "Epoch 12/15\n",
            "6571/6571 [==============================] - 2s 361us/step - loss: 0.8710 - accuracy: 0.7915 - val_loss: 1.0746 - val_accuracy: 0.6987\n",
            "\n",
            "Epoch 00012: val_accuracy did not improve from 0.76202\n",
            "Epoch 13/15\n",
            "6571/6571 [==============================] - 2s 351us/step - loss: 0.8681 - accuracy: 0.7929 - val_loss: 1.1112 - val_accuracy: 0.6987\n",
            "\n",
            "Epoch 00013: val_accuracy did not improve from 0.76202\n",
            "Epoch 14/15\n",
            "6571/6571 [==============================] - 2s 341us/step - loss: 0.8791 - accuracy: 0.7880 - val_loss: 1.1295 - val_accuracy: 0.6865\n",
            "\n",
            "Epoch 00014: val_accuracy did not improve from 0.76202\n",
            "Epoch 15/15\n",
            "6571/6571 [==============================] - 2s 347us/step - loss: 0.8646 - accuracy: 0.7938 - val_loss: 1.1132 - val_accuracy: 0.6896\n",
            "\n",
            "Epoch 00015: val_accuracy did not improve from 0.76202\n",
            "Train on 6572 samples, validate on 1642 samples\n",
            "Epoch 1/15\n",
            "6572/6572 [==============================] - 2s 339us/step - loss: 0.9478 - accuracy: 0.7616 - val_loss: 0.8489 - val_accuracy: 0.7984\n",
            "\n",
            "Epoch 00001: val_accuracy improved from 0.76202 to 0.79842, saving model to /content/drive/My Drive/models/RNN.h5\n",
            "Epoch 2/15\n",
            "6572/6572 [==============================] - 2s 342us/step - loss: 0.9231 - accuracy: 0.7658 - val_loss: 0.8408 - val_accuracy: 0.8057\n",
            "\n",
            "Epoch 00002: val_accuracy improved from 0.79842 to 0.80572, saving model to /content/drive/My Drive/models/RNN.h5\n",
            "Epoch 3/15\n",
            "6572/6572 [==============================] - 2s 342us/step - loss: 0.8827 - accuracy: 0.7800 - val_loss: 0.8379 - val_accuracy: 0.8130\n",
            "\n",
            "Epoch 00003: val_accuracy improved from 0.80572 to 0.81303, saving model to /content/drive/My Drive/models/RNN.h5\n",
            "Epoch 4/15\n",
            "6572/6572 [==============================] - 2s 331us/step - loss: 0.8774 - accuracy: 0.7879 - val_loss: 0.8571 - val_accuracy: 0.7972\n",
            "\n",
            "Epoch 00004: val_accuracy did not improve from 0.81303\n",
            "Epoch 5/15\n",
            "6572/6572 [==============================] - 2s 330us/step - loss: 0.8660 - accuracy: 0.7952 - val_loss: 0.8626 - val_accuracy: 0.8027\n",
            "\n",
            "Epoch 00005: val_accuracy did not improve from 0.81303\n",
            "Epoch 6/15\n",
            "6572/6572 [==============================] - 2s 352us/step - loss: 0.8531 - accuracy: 0.7991 - val_loss: 0.8822 - val_accuracy: 0.8015\n",
            "\n",
            "Epoch 00006: val_accuracy did not improve from 0.81303\n",
            "Epoch 7/15\n",
            "6572/6572 [==============================] - 2s 344us/step - loss: 0.8351 - accuracy: 0.8078 - val_loss: 0.8769 - val_accuracy: 0.8100\n",
            "\n",
            "Epoch 00007: val_accuracy did not improve from 0.81303\n",
            "Epoch 8/15\n",
            "6572/6572 [==============================] - 2s 344us/step - loss: 0.8291 - accuracy: 0.8122 - val_loss: 0.8889 - val_accuracy: 0.7838\n",
            "\n",
            "Epoch 00008: val_accuracy did not improve from 0.81303\n",
            "Epoch 9/15\n",
            "6572/6572 [==============================] - 2s 339us/step - loss: 0.8206 - accuracy: 0.8115 - val_loss: 0.8954 - val_accuracy: 0.7783\n",
            "\n",
            "Epoch 00009: val_accuracy did not improve from 0.81303\n",
            "Epoch 10/15\n",
            "6572/6572 [==============================] - 2s 347us/step - loss: 0.8226 - accuracy: 0.8107 - val_loss: 0.9115 - val_accuracy: 0.7680\n",
            "\n",
            "Epoch 00010: val_accuracy did not improve from 0.81303\n",
            "Epoch 11/15\n",
            "6572/6572 [==============================] - 2s 345us/step - loss: 0.8163 - accuracy: 0.8100 - val_loss: 0.9449 - val_accuracy: 0.7716\n",
            "\n",
            "Epoch 00011: val_accuracy did not improve from 0.81303\n",
            "Epoch 12/15\n",
            "6572/6572 [==============================] - 2s 326us/step - loss: 0.8088 - accuracy: 0.8150 - val_loss: 0.9305 - val_accuracy: 0.7680\n",
            "\n",
            "Epoch 00012: val_accuracy did not improve from 0.81303\n",
            "Epoch 13/15\n",
            "6572/6572 [==============================] - 2s 332us/step - loss: 0.7989 - accuracy: 0.8186 - val_loss: 0.9416 - val_accuracy: 0.7674\n",
            "\n",
            "Epoch 00013: val_accuracy did not improve from 0.81303\n",
            "Epoch 14/15\n",
            "6572/6572 [==============================] - 2s 330us/step - loss: 0.7961 - accuracy: 0.8201 - val_loss: 1.0001 - val_accuracy: 0.7314\n",
            "\n",
            "Epoch 00014: val_accuracy did not improve from 0.81303\n",
            "Epoch 15/15\n",
            "6572/6572 [==============================] - 2s 344us/step - loss: 0.7876 - accuracy: 0.8243 - val_loss: 0.9944 - val_accuracy: 0.7393\n",
            "\n",
            "Epoch 00015: val_accuracy did not improve from 0.81303\n",
            "Train on 6571 samples, validate on 1643 samples\n",
            "Epoch 1/15\n",
            "6571/6571 [==============================] - 2s 346us/step - loss: 0.8650 - accuracy: 0.7904 - val_loss: 0.8211 - val_accuracy: 0.8107\n",
            "\n",
            "Epoch 00001: val_accuracy did not improve from 0.81303\n",
            "Epoch 2/15\n",
            "6571/6571 [==============================] - 2s 334us/step - loss: 0.8358 - accuracy: 0.8025 - val_loss: 0.7957 - val_accuracy: 0.8205\n",
            "\n",
            "Epoch 00002: val_accuracy improved from 0.81303 to 0.82045, saving model to /content/drive/My Drive/models/RNN.h5\n",
            "Epoch 3/15\n",
            "6571/6571 [==============================] - 2s 345us/step - loss: 0.8003 - accuracy: 0.8174 - val_loss: 0.8234 - val_accuracy: 0.8077\n",
            "\n",
            "Epoch 00003: val_accuracy did not improve from 0.82045\n",
            "Epoch 4/15\n",
            "6571/6571 [==============================] - 2s 326us/step - loss: 0.7875 - accuracy: 0.8204 - val_loss: 0.8196 - val_accuracy: 0.8022\n",
            "\n",
            "Epoch 00004: val_accuracy did not improve from 0.82045\n",
            "Epoch 5/15\n",
            "6571/6571 [==============================] - 2s 342us/step - loss: 0.7803 - accuracy: 0.8297 - val_loss: 0.8269 - val_accuracy: 0.8040\n",
            "\n",
            "Epoch 00005: val_accuracy did not improve from 0.82045\n",
            "Epoch 6/15\n",
            "6571/6571 [==============================] - 2s 342us/step - loss: 0.7700 - accuracy: 0.8300 - val_loss: 0.8268 - val_accuracy: 0.8028\n",
            "\n",
            "Epoch 00006: val_accuracy did not improve from 0.82045\n",
            "Epoch 7/15\n",
            "6571/6571 [==============================] - 2s 334us/step - loss: 0.7597 - accuracy: 0.8335 - val_loss: 0.8468 - val_accuracy: 0.7882\n",
            "\n",
            "Epoch 00007: val_accuracy did not improve from 0.82045\n",
            "Epoch 8/15\n",
            "6571/6571 [==============================] - 2s 341us/step - loss: 0.7571 - accuracy: 0.8346 - val_loss: 0.8727 - val_accuracy: 0.7839\n",
            "\n",
            "Epoch 00008: val_accuracy did not improve from 0.82045\n",
            "Epoch 9/15\n",
            "6571/6571 [==============================] - 2s 333us/step - loss: 0.7562 - accuracy: 0.8361 - val_loss: 0.8713 - val_accuracy: 0.7851\n",
            "\n",
            "Epoch 00009: val_accuracy did not improve from 0.82045\n",
            "Epoch 10/15\n",
            "6571/6571 [==============================] - 2s 327us/step - loss: 0.7560 - accuracy: 0.8356 - val_loss: 0.8917 - val_accuracy: 0.7803\n",
            "\n",
            "Epoch 00010: val_accuracy did not improve from 0.82045\n",
            "Epoch 11/15\n",
            "6571/6571 [==============================] - 2s 334us/step - loss: 0.7475 - accuracy: 0.8382 - val_loss: 0.8884 - val_accuracy: 0.7772\n",
            "\n",
            "Epoch 00011: val_accuracy did not improve from 0.82045\n",
            "Epoch 12/15\n",
            "6571/6571 [==============================] - 2s 331us/step - loss: 0.7291 - accuracy: 0.8460 - val_loss: 0.9070 - val_accuracy: 0.7791\n",
            "\n",
            "Epoch 00012: val_accuracy did not improve from 0.82045\n",
            "Epoch 13/15\n",
            "6571/6571 [==============================] - 2s 322us/step - loss: 0.7289 - accuracy: 0.8472 - val_loss: 0.9013 - val_accuracy: 0.7785\n",
            "\n",
            "Epoch 00013: val_accuracy did not improve from 0.82045\n",
            "Epoch 14/15\n",
            "6571/6571 [==============================] - 2s 331us/step - loss: 0.7216 - accuracy: 0.8528 - val_loss: 0.9422 - val_accuracy: 0.7626\n",
            "\n",
            "Epoch 00014: val_accuracy did not improve from 0.82045\n",
            "Epoch 15/15\n",
            "6571/6571 [==============================] - 2s 330us/step - loss: 0.7189 - accuracy: 0.8525 - val_loss: 0.9286 - val_accuracy: 0.7675\n",
            "\n",
            "Epoch 00015: val_accuracy did not improve from 0.82045\n",
            "Train on 6571 samples, validate on 1643 samples\n",
            "Epoch 1/15\n",
            "6571/6571 [==============================] - 2s 341us/step - loss: 0.8228 - accuracy: 0.8114 - val_loss: 0.7713 - val_accuracy: 0.8229\n",
            "\n",
            "Epoch 00001: val_accuracy improved from 0.82045 to 0.82288, saving model to /content/drive/My Drive/models/RNN.h5\n",
            "Epoch 2/15\n",
            "6571/6571 [==============================] - 2s 330us/step - loss: 0.8185 - accuracy: 0.8128 - val_loss: 0.7546 - val_accuracy: 0.8320\n",
            "\n",
            "Epoch 00002: val_accuracy improved from 0.82288 to 0.83201, saving model to /content/drive/My Drive/models/RNN.h5\n",
            "Epoch 3/15\n",
            "6571/6571 [==============================] - 2s 327us/step - loss: 0.7658 - accuracy: 0.8334 - val_loss: 0.7459 - val_accuracy: 0.8357\n",
            "\n",
            "Epoch 00003: val_accuracy improved from 0.83201 to 0.83567, saving model to /content/drive/My Drive/models/RNN.h5\n",
            "Epoch 4/15\n",
            "6571/6571 [==============================] - 2s 334us/step - loss: 0.7412 - accuracy: 0.8411 - val_loss: 0.7487 - val_accuracy: 0.8296\n",
            "\n",
            "Epoch 00004: val_accuracy did not improve from 0.83567\n",
            "Epoch 5/15\n",
            "6571/6571 [==============================] - 2s 338us/step - loss: 0.7254 - accuracy: 0.8464 - val_loss: 0.7574 - val_accuracy: 0.8308\n",
            "\n",
            "Epoch 00005: val_accuracy did not improve from 0.83567\n",
            "Epoch 6/15\n",
            "6571/6571 [==============================] - 2s 330us/step - loss: 0.7297 - accuracy: 0.8455 - val_loss: 0.8249 - val_accuracy: 0.7979\n",
            "\n",
            "Epoch 00006: val_accuracy did not improve from 0.83567\n",
            "Epoch 7/15\n",
            "6571/6571 [==============================] - 2s 349us/step - loss: 0.7395 - accuracy: 0.8449 - val_loss: 0.7892 - val_accuracy: 0.8138\n",
            "\n",
            "Epoch 00007: val_accuracy did not improve from 0.83567\n",
            "Epoch 8/15\n",
            "6571/6571 [==============================] - 2s 339us/step - loss: 0.7171 - accuracy: 0.8515 - val_loss: 0.7927 - val_accuracy: 0.8156\n",
            "\n",
            "Epoch 00008: val_accuracy did not improve from 0.83567\n",
            "Epoch 9/15\n",
            "6571/6571 [==============================] - 2s 338us/step - loss: 0.7070 - accuracy: 0.8527 - val_loss: 0.7750 - val_accuracy: 0.8211\n",
            "\n",
            "Epoch 00009: val_accuracy did not improve from 0.83567\n",
            "Epoch 10/15\n",
            "6571/6571 [==============================] - 2s 334us/step - loss: 0.6868 - accuracy: 0.8635 - val_loss: 0.7770 - val_accuracy: 0.8229\n",
            "\n",
            "Epoch 00010: val_accuracy did not improve from 0.83567\n",
            "Epoch 11/15\n",
            "6571/6571 [==============================] - 2s 344us/step - loss: 0.6825 - accuracy: 0.8653 - val_loss: 0.8226 - val_accuracy: 0.8071\n",
            "\n",
            "Epoch 00011: val_accuracy did not improve from 0.83567\n",
            "Epoch 12/15\n",
            "6571/6571 [==============================] - 2s 332us/step - loss: 0.6808 - accuracy: 0.8649 - val_loss: 0.8316 - val_accuracy: 0.7985\n",
            "\n",
            "Epoch 00012: val_accuracy did not improve from 0.83567\n",
            "Epoch 13/15\n",
            "6571/6571 [==============================] - 2s 338us/step - loss: 0.6853 - accuracy: 0.8626 - val_loss: 0.8384 - val_accuracy: 0.7918\n",
            "\n",
            "Epoch 00013: val_accuracy did not improve from 0.83567\n",
            "Epoch 14/15\n",
            "6571/6571 [==============================] - 2s 334us/step - loss: 0.6888 - accuracy: 0.8633 - val_loss: 0.8362 - val_accuracy: 0.7998\n",
            "\n",
            "Epoch 00014: val_accuracy did not improve from 0.83567\n",
            "Epoch 15/15\n",
            "6571/6571 [==============================] - 2s 350us/step - loss: 0.6904 - accuracy: 0.8604 - val_loss: 0.8457 - val_accuracy: 0.7931\n",
            "\n",
            "Epoch 00015: val_accuracy did not improve from 0.83567\n",
            "Train on 6571 samples, validate on 1643 samples\n",
            "Epoch 1/15\n",
            "6571/6571 [==============================] - 2s 331us/step - loss: 0.7667 - accuracy: 0.8297 - val_loss: 0.7028 - val_accuracy: 0.8509\n",
            "\n",
            "Epoch 00001: val_accuracy improved from 0.83567 to 0.85088, saving model to /content/drive/My Drive/models/RNN.h5\n",
            "Epoch 2/15\n",
            "6571/6571 [==============================] - 2s 348us/step - loss: 0.7396 - accuracy: 0.8402 - val_loss: 0.6873 - val_accuracy: 0.8491\n",
            "\n",
            "Epoch 00002: val_accuracy did not improve from 0.85088\n",
            "Epoch 3/15\n",
            "6571/6571 [==============================] - 2s 338us/step - loss: 0.7067 - accuracy: 0.8518 - val_loss: 0.6937 - val_accuracy: 0.8515\n",
            "\n",
            "Epoch 00003: val_accuracy improved from 0.85088 to 0.85149, saving model to /content/drive/My Drive/models/RNN.h5\n",
            "Epoch 4/15\n",
            "6571/6571 [==============================] - 2s 348us/step - loss: 0.6953 - accuracy: 0.8620 - val_loss: 0.6788 - val_accuracy: 0.8606\n",
            "\n",
            "Epoch 00004: val_accuracy improved from 0.85149 to 0.86062, saving model to /content/drive/My Drive/models/RNN.h5\n",
            "Epoch 5/15\n",
            "6571/6571 [==============================] - 2s 333us/step - loss: 0.6880 - accuracy: 0.8609 - val_loss: 0.6926 - val_accuracy: 0.8539\n",
            "\n",
            "Epoch 00005: val_accuracy did not improve from 0.86062\n",
            "Epoch 6/15\n",
            "6571/6571 [==============================] - 2s 348us/step - loss: 0.6718 - accuracy: 0.8638 - val_loss: 0.7007 - val_accuracy: 0.8564\n",
            "\n",
            "Epoch 00006: val_accuracy did not improve from 0.86062\n",
            "Epoch 7/15\n",
            "6571/6571 [==============================] - 2s 330us/step - loss: 0.6739 - accuracy: 0.8643 - val_loss: 0.7098 - val_accuracy: 0.8484\n",
            "\n",
            "Epoch 00007: val_accuracy did not improve from 0.86062\n",
            "Epoch 8/15\n",
            "6571/6571 [==============================] - 2s 344us/step - loss: 0.6601 - accuracy: 0.8673 - val_loss: 0.7025 - val_accuracy: 0.8515\n",
            "\n",
            "Epoch 00008: val_accuracy did not improve from 0.86062\n",
            "Epoch 9/15\n",
            "6571/6571 [==============================] - 2s 336us/step - loss: 0.6556 - accuracy: 0.8693 - val_loss: 0.7246 - val_accuracy: 0.8442\n",
            "\n",
            "Epoch 00009: val_accuracy did not improve from 0.86062\n",
            "Epoch 10/15\n",
            "6571/6571 [==============================] - 2s 330us/step - loss: 0.6536 - accuracy: 0.8688 - val_loss: 0.7315 - val_accuracy: 0.8375\n",
            "\n",
            "Epoch 00010: val_accuracy did not improve from 0.86062\n",
            "Epoch 11/15\n",
            "6571/6571 [==============================] - 2s 333us/step - loss: 0.6577 - accuracy: 0.8719 - val_loss: 0.7431 - val_accuracy: 0.8338\n",
            "\n",
            "Epoch 00011: val_accuracy did not improve from 0.86062\n",
            "Epoch 12/15\n",
            "6571/6571 [==============================] - 2s 345us/step - loss: 0.6499 - accuracy: 0.8735 - val_loss: 0.7562 - val_accuracy: 0.8284\n",
            "\n",
            "Epoch 00012: val_accuracy did not improve from 0.86062\n",
            "Epoch 13/15\n",
            "6571/6571 [==============================] - 2s 327us/step - loss: 0.6555 - accuracy: 0.8705 - val_loss: 0.7671 - val_accuracy: 0.8265\n",
            "\n",
            "Epoch 00013: val_accuracy did not improve from 0.86062\n",
            "Epoch 14/15\n",
            "6571/6571 [==============================] - 2s 338us/step - loss: 0.6447 - accuracy: 0.8743 - val_loss: 0.7837 - val_accuracy: 0.8180\n",
            "\n",
            "Epoch 00014: val_accuracy did not improve from 0.86062\n",
            "Epoch 15/15\n",
            "6571/6571 [==============================] - 2s 331us/step - loss: 0.6683 - accuracy: 0.8671 - val_loss: 0.8262 - val_accuracy: 0.8016\n",
            "\n",
            "Epoch 00015: val_accuracy did not improve from 0.86062\n",
            "Train on 6571 samples, validate on 1643 samples\n",
            "Epoch 1/15\n",
            "6571/6571 [==============================] - 2s 334us/step - loss: 0.7436 - accuracy: 0.8302 - val_loss: 0.6632 - val_accuracy: 0.8655\n",
            "\n",
            "Epoch 00001: val_accuracy improved from 0.86062 to 0.86549, saving model to /content/drive/My Drive/models/RNN.h5\n",
            "Epoch 2/15\n",
            "6571/6571 [==============================] - 2s 334us/step - loss: 0.7195 - accuracy: 0.8428 - val_loss: 0.6730 - val_accuracy: 0.8637\n",
            "\n",
            "Epoch 00002: val_accuracy did not improve from 0.86549\n",
            "Epoch 3/15\n",
            "6571/6571 [==============================] - 2s 333us/step - loss: 0.6854 - accuracy: 0.8571 - val_loss: 0.6950 - val_accuracy: 0.8551\n",
            "\n",
            "Epoch 00003: val_accuracy did not improve from 0.86549\n",
            "Epoch 4/15\n",
            "6571/6571 [==============================] - 2s 344us/step - loss: 0.6689 - accuracy: 0.8639 - val_loss: 0.6820 - val_accuracy: 0.8600\n",
            "\n",
            "Epoch 00004: val_accuracy did not improve from 0.86549\n",
            "Epoch 5/15\n",
            "6571/6571 [==============================] - 2s 334us/step - loss: 0.6580 - accuracy: 0.8620 - val_loss: 0.6632 - val_accuracy: 0.8655\n",
            "\n",
            "Epoch 00005: val_accuracy did not improve from 0.86549\n",
            "Epoch 6/15\n",
            "6571/6571 [==============================] - 2s 336us/step - loss: 0.6325 - accuracy: 0.8748 - val_loss: 0.6671 - val_accuracy: 0.8637\n",
            "\n",
            "Epoch 00006: val_accuracy did not improve from 0.86549\n",
            "Epoch 7/15\n",
            "6571/6571 [==============================] - 2s 336us/step - loss: 0.6307 - accuracy: 0.8778 - val_loss: 0.6710 - val_accuracy: 0.8606\n",
            "\n",
            "Epoch 00007: val_accuracy did not improve from 0.86549\n",
            "Epoch 8/15\n",
            "6571/6571 [==============================] - 2s 343us/step - loss: 0.6175 - accuracy: 0.8802 - val_loss: 0.6787 - val_accuracy: 0.8533\n",
            "\n",
            "Epoch 00008: val_accuracy did not improve from 0.86549\n",
            "Epoch 9/15\n",
            "6571/6571 [==============================] - 2s 341us/step - loss: 0.6169 - accuracy: 0.8792 - val_loss: 0.6770 - val_accuracy: 0.8533\n",
            "\n",
            "Epoch 00009: val_accuracy did not improve from 0.86549\n",
            "Epoch 10/15\n",
            "6571/6571 [==============================] - 2s 346us/step - loss: 0.6190 - accuracy: 0.8837 - val_loss: 0.7008 - val_accuracy: 0.8454\n",
            "\n",
            "Epoch 00010: val_accuracy did not improve from 0.86549\n",
            "Epoch 11/15\n",
            "6571/6571 [==============================] - 2s 329us/step - loss: 0.6340 - accuracy: 0.8734 - val_loss: 0.7284 - val_accuracy: 0.8259\n",
            "\n",
            "Epoch 00011: val_accuracy did not improve from 0.86549\n",
            "Epoch 12/15\n",
            "6571/6571 [==============================] - 2s 365us/step - loss: 0.6217 - accuracy: 0.8819 - val_loss: 0.7114 - val_accuracy: 0.8399\n",
            "\n",
            "Epoch 00012: val_accuracy did not improve from 0.86549\n",
            "Epoch 13/15\n",
            "6571/6571 [==============================] - 2s 332us/step - loss: 0.6236 - accuracy: 0.8776 - val_loss: 0.7280 - val_accuracy: 0.8369\n",
            "\n",
            "Epoch 00013: val_accuracy did not improve from 0.86549\n",
            "Epoch 14/15\n",
            "6571/6571 [==============================] - 2s 346us/step - loss: 0.6216 - accuracy: 0.8763 - val_loss: 0.7548 - val_accuracy: 0.8253\n",
            "\n",
            "Epoch 00014: val_accuracy did not improve from 0.86549\n",
            "Epoch 15/15\n",
            "6571/6571 [==============================] - 2s 333us/step - loss: 0.6224 - accuracy: 0.8776 - val_loss: 0.7620 - val_accuracy: 0.8223\n",
            "\n",
            "Epoch 00015: val_accuracy did not improve from 0.86549\n",
            "Train on 6572 samples, validate on 1642 samples\n",
            "Epoch 1/15\n",
            "6572/6572 [==============================] - 2s 330us/step - loss: 0.7031 - accuracy: 0.8448 - val_loss: 0.6228 - val_accuracy: 0.8825\n",
            "\n",
            "Epoch 00001: val_accuracy improved from 0.86549 to 0.88246, saving model to /content/drive/My Drive/models/RNN.h5\n",
            "Epoch 2/15\n",
            "6572/6572 [==============================] - 2s 356us/step - loss: 0.7086 - accuracy: 0.8471 - val_loss: 0.6482 - val_accuracy: 0.8727\n",
            "\n",
            "Epoch 00002: val_accuracy did not improve from 0.88246\n",
            "Epoch 3/15\n",
            "6572/6572 [==============================] - 2s 352us/step - loss: 0.6604 - accuracy: 0.8658 - val_loss: 0.6224 - val_accuracy: 0.8898\n",
            "\n",
            "Epoch 00003: val_accuracy improved from 0.88246 to 0.88977, saving model to /content/drive/My Drive/models/RNN.h5\n",
            "Epoch 4/15\n",
            "6572/6572 [==============================] - 2s 347us/step - loss: 0.6358 - accuracy: 0.8739 - val_loss: 0.6057 - val_accuracy: 0.8946\n",
            "\n",
            "Epoch 00004: val_accuracy improved from 0.88977 to 0.89464, saving model to /content/drive/My Drive/models/RNN.h5\n",
            "Epoch 5/15\n",
            "6572/6572 [==============================] - 2s 365us/step - loss: 0.6113 - accuracy: 0.8857 - val_loss: 0.6027 - val_accuracy: 0.8831\n",
            "\n",
            "Epoch 00005: val_accuracy did not improve from 0.89464\n",
            "Epoch 6/15\n",
            "6572/6572 [==============================] - 3s 388us/step - loss: 0.6079 - accuracy: 0.8825 - val_loss: 0.6051 - val_accuracy: 0.8819\n",
            "\n",
            "Epoch 00006: val_accuracy did not improve from 0.89464\n",
            "Epoch 7/15\n",
            "6572/6572 [==============================] - 3s 403us/step - loss: 0.5969 - accuracy: 0.8871 - val_loss: 0.6172 - val_accuracy: 0.8776\n",
            "\n",
            "Epoch 00007: val_accuracy did not improve from 0.89464\n",
            "Epoch 8/15\n",
            "6572/6572 [==============================] - 3s 403us/step - loss: 0.5915 - accuracy: 0.8853 - val_loss: 0.6163 - val_accuracy: 0.8849\n",
            "\n",
            "Epoch 00008: val_accuracy did not improve from 0.89464\n",
            "Epoch 9/15\n",
            "6572/6572 [==============================] - 3s 389us/step - loss: 0.5978 - accuracy: 0.8854 - val_loss: 0.6449 - val_accuracy: 0.8721\n",
            "\n",
            "Epoch 00009: val_accuracy did not improve from 0.89464\n",
            "Epoch 10/15\n",
            "6572/6572 [==============================] - 2s 371us/step - loss: 0.5969 - accuracy: 0.8836 - val_loss: 0.6374 - val_accuracy: 0.8709\n",
            "\n",
            "Epoch 00010: val_accuracy did not improve from 0.89464\n",
            "Epoch 11/15\n",
            "6572/6572 [==============================] - 2s 359us/step - loss: 0.5902 - accuracy: 0.8865 - val_loss: 0.6563 - val_accuracy: 0.8630\n",
            "\n",
            "Epoch 00011: val_accuracy did not improve from 0.89464\n",
            "Epoch 12/15\n",
            "6572/6572 [==============================] - 2s 340us/step - loss: 0.6027 - accuracy: 0.8850 - val_loss: 0.6649 - val_accuracy: 0.8636\n",
            "\n",
            "Epoch 00012: val_accuracy did not improve from 0.89464\n",
            "Epoch 13/15\n",
            "6572/6572 [==============================] - 2s 331us/step - loss: 0.6021 - accuracy: 0.8828 - val_loss: 0.6810 - val_accuracy: 0.8544\n",
            "\n",
            "Epoch 00013: val_accuracy did not improve from 0.89464\n",
            "Epoch 14/15\n",
            "6572/6572 [==============================] - 2s 329us/step - loss: 0.6206 - accuracy: 0.8734 - val_loss: 0.7381 - val_accuracy: 0.8380\n",
            "\n",
            "Epoch 00014: val_accuracy did not improve from 0.89464\n",
            "Epoch 15/15\n",
            "6572/6572 [==============================] - 2s 340us/step - loss: 0.6123 - accuracy: 0.8815 - val_loss: 0.6932 - val_accuracy: 0.8551\n",
            "\n",
            "Epoch 00015: val_accuracy did not improve from 0.89464\n"
          ],
          "name": "stdout"
        }
      ]
    },
    {
      "cell_type": "code",
      "metadata": {
        "id": "O8-5W7XTuaVW",
        "colab_type": "code",
        "colab": {}
      },
      "source": [
        "hist=RNNmodel.fit(RNNx_train, RNNy_train, validation_data=(RNNx_test, RNNy_test), epochs=50, batch_size=64,callbacks=callbacks)"
      ],
      "execution_count": null,
      "outputs": []
    },
    {
      "cell_type": "code",
      "metadata": {
        "id": "OuOfuuWDZuW4",
        "colab_type": "code",
        "colab": {
          "base_uri": "https://localhost:8080/",
          "height": 490
        },
        "outputId": "7909bc2b-8ee9-46fc-dc0f-f8f76d35cc6e"
      },
      "source": [
        "%matplotlib inline\n",
        "import matplotlib.pyplot as plt\n",
        "\n",
        "fig, loss_ax = plt.subplots()\n",
        "\n",
        "acc_ax = loss_ax.twinx()\n",
        "\n",
        "loss_ax.plot(hist.history['loss'], 'y', label='train loss')\n",
        "loss_ax.plot(hist.history['val_loss'], 'r', label='val loss')\n",
        "\n",
        "acc_ax.plot(hist.history['accuracy'], 'b', label='train acc')\n",
        "acc_ax.plot(hist.history['val_accuracy'], 'g', label='val acc')\n",
        "\n",
        "loss_ax.set_xlabel('epoch')\n",
        "loss_ax.set_ylabel('loss')\n",
        "acc_ax.set_ylabel('accuracy')\n",
        "\n",
        "loss_ax.legend(loc='upper left')\n",
        "acc_ax.legend(loc='lower left')\n",
        "\n",
        "plt.show()"
      ],
      "execution_count": 104,
      "outputs": [
        {
          "output_type": "error",
          "ename": "KeyError",
          "evalue": "ignored",
          "traceback": [
            "\u001b[0;31m---------------------------------------------------------------------------\u001b[0m",
            "\u001b[0;31mKeyError\u001b[0m                                  Traceback (most recent call last)",
            "\u001b[0;32m<ipython-input-104-26624a8ef6c2>\u001b[0m in \u001b[0;36m<module>\u001b[0;34m()\u001b[0m\n\u001b[1;32m      9\u001b[0m \u001b[0mloss_ax\u001b[0m\u001b[0;34m.\u001b[0m\u001b[0mplot\u001b[0m\u001b[0;34m(\u001b[0m\u001b[0mhist\u001b[0m\u001b[0;34m.\u001b[0m\u001b[0mhistory\u001b[0m\u001b[0;34m[\u001b[0m\u001b[0;34m'val_loss'\u001b[0m\u001b[0;34m]\u001b[0m\u001b[0;34m,\u001b[0m \u001b[0;34m'r'\u001b[0m\u001b[0;34m,\u001b[0m \u001b[0mlabel\u001b[0m\u001b[0;34m=\u001b[0m\u001b[0;34m'val loss'\u001b[0m\u001b[0;34m)\u001b[0m\u001b[0;34m\u001b[0m\u001b[0;34m\u001b[0m\u001b[0m\n\u001b[1;32m     10\u001b[0m \u001b[0;34m\u001b[0m\u001b[0m\n\u001b[0;32m---> 11\u001b[0;31m \u001b[0macc_ax\u001b[0m\u001b[0;34m.\u001b[0m\u001b[0mplot\u001b[0m\u001b[0;34m(\u001b[0m\u001b[0mhist\u001b[0m\u001b[0;34m.\u001b[0m\u001b[0mhistory\u001b[0m\u001b[0;34m[\u001b[0m\u001b[0;34m'accuracy'\u001b[0m\u001b[0;34m]\u001b[0m\u001b[0;34m,\u001b[0m \u001b[0;34m'b'\u001b[0m\u001b[0;34m,\u001b[0m \u001b[0mlabel\u001b[0m\u001b[0;34m=\u001b[0m\u001b[0;34m'train acc'\u001b[0m\u001b[0;34m)\u001b[0m\u001b[0;34m\u001b[0m\u001b[0;34m\u001b[0m\u001b[0m\n\u001b[0m\u001b[1;32m     12\u001b[0m \u001b[0macc_ax\u001b[0m\u001b[0;34m.\u001b[0m\u001b[0mplot\u001b[0m\u001b[0;34m(\u001b[0m\u001b[0mhist\u001b[0m\u001b[0;34m.\u001b[0m\u001b[0mhistory\u001b[0m\u001b[0;34m[\u001b[0m\u001b[0;34m'val_accuracy'\u001b[0m\u001b[0;34m]\u001b[0m\u001b[0;34m,\u001b[0m \u001b[0;34m'g'\u001b[0m\u001b[0;34m,\u001b[0m \u001b[0mlabel\u001b[0m\u001b[0;34m=\u001b[0m\u001b[0;34m'val acc'\u001b[0m\u001b[0;34m)\u001b[0m\u001b[0;34m\u001b[0m\u001b[0;34m\u001b[0m\u001b[0m\n\u001b[1;32m     13\u001b[0m \u001b[0;34m\u001b[0m\u001b[0m\n",
            "\u001b[0;31mKeyError\u001b[0m: 'accuracy'"
          ]
        },
        {
          "output_type": "display_data",
          "data": {
            "image/png": "[encoded data removed]",
            "text/plain": [
              "<Figure size 432x288 with 2 Axes>"
            ]
          },
          "metadata": {
            "tags": [],
            "needs_background": "light"
          }
        }
      ]
    },
    {
      "cell_type": "code",
      "metadata": {
        "id": "upW2vW-k91lu",
        "colab_type": "code",
        "colab": {
          "base_uri": "https://localhost:8080/",
          "height": 34
        },
        "outputId": "15163bc5-eea0-457c-cb9a-2c1bd3a8a107"
      },
      "source": [
        "scores = RNNmodel.evaluate(RNNx_test, RNNy_test, verbose=0)\n",
        "print(\"Accuracy: %.2f%%\" % (scores[1]*100))"
      ],
      "execution_count": 105,
      "outputs": [
        {
          "output_type": "stream",
          "text": [
            "Accuracy: 89.64%\n"
          ],
          "name": "stdout"
        }
      ]
    },
    {
      "cell_type": "code",
      "metadata": {
        "id": "H0nHEDZOYxdL",
        "colab_type": "code",
        "colab": {
          "base_uri": "https://localhost:8080/",
          "height": 139
        },
        "outputId": "1d4c18a8-36b5-430e-e1c2-fa1fc423f3a9"
      },
      "source": [
        "print(RNNmodel.predict(RNNx_test))# (size,10)의 RNNxtest를 넣으면 (size,13)이 나온다."
      ],
      "execution_count": 106,
      "outputs": [
        {
          "output_type": "stream",
          "text": [
            "[[0.0017162  0.00140566 0.06486911 ... 0.00119376 0.13487878 0.00382763]\n",
            " [0.00316271 0.00064948 0.00646305 ... 0.00126299 0.00310969 0.00187415]\n",
            " [0.00045186 0.00043833 0.00181264 ... 0.00134835 0.00530833 0.00065196]\n",
            " ...\n",
            " [0.00334379 0.00059482 0.00379446 ... 0.00124553 0.00271904 0.00095367]\n",
            " [0.00062561 0.00087392 0.00299865 ... 0.0009751  0.00748408 0.00049961]\n",
            " [0.00440741 0.0062241  0.024077   ... 0.01731449 0.14819099 0.05875698]]\n"
          ],
          "name": "stdout"
        }
      ]
    },
    {
      "cell_type": "markdown",
      "metadata": {
        "id": "5CP7tkoSCIm2",
        "colab_type": "text"
      },
      "source": [
        "classifier : 24*24 bar input을 기반하여 Skill을 분류한다. 학습은 Multilabel Classifier로써 진행된다.\n",
        "\n",
        "updown_classifier : 24*24 bar input을 기반하여 다음 bar의 pitch change를 분류한다. 학습은 up, down, final, meanless 4가지 기반하여 진행되나 분류 자체는 up, down만 유의미하다.\n",
        "\n",
        "RNNmodel : bar skill sequence를 기반하여 다음 bar가 어떤 스킬을 가지는지를 분류한다. 학습은 k-fold기반의 RNN으로 진행된다\n",
        "\n",
        "G : GAN기반한 모델의 Generator이다. image_generator(G,갯수,encoded skill num)과 같은 형태로 사용하여 이미지를 생성할 수 있다. 원할한 생성을 위해 Matrix Image에 Bluring을 사용한다.\n",
        "\n",
        "이제 G가 생성한 Matrix이미지를 0과1로 이루어진 Matrix로 정리하고, Chord를 Match시켜준 뒤 MIDI로 Decoding하면 끝이다."
      ]
    },
    {
      "cell_type": "code",
      "metadata": {
        "id": "Y1Q__y8tCG-a",
        "colab_type": "code",
        "colab": {
          "base_uri": "https://localhost:8080/",
          "height": 471
        },
        "outputId": "7732cb64-3620-4a57-df03-51f5abeba0af"
      },
      "source": [
        "#Model Loading Only\n",
        "RNNmodel = Sequential()\n",
        "RNNmodel.add(Embedding(top_words, embedding_vecor_length, input_length=10))\n",
        "RNNmodel.add(LSTM(100, return_sequences=True,\n",
        "               input_shape=(timesteps, 100)))  # returns a sequence of vectors of dimension 32\n",
        "RNNmodel.add(LSTM(100))  # return a single vector of dimension 32\n",
        "RNNmodel.add(Dropout(0.2))\n",
        "RNNmodel.add(Dense(13, activation='sigmoid', kernel_regularizer=regularizers.l2(0.01)))\n",
        "RNNmodel.compile(loss='categorical_crossentropy', optimizer='adam', metrics=['accuracy'])\n",
        "RNNmodel.load_weights('/content/drive/My Drive/models/RNN.h5')\n",
        "\n",
        "G = generator_model()\n",
        "G.compile(loss='binary_crossentropy', optimizer=optimizer)\n",
        "G.load_weights(\"/content/drive/My Drive/MARG/PPDDlist/GAN_result/generator.h5\")\n",
        "\n",
        "updown_classifier=make_classifier()\n",
        "updown_classifier.compile(loss=keras.losses.CategoricalCrossentropy(\n",
        "      from_logits=False, label_smoothing=0.1, \n",
        "      name='categorical_crossentropy'\n",
        "  ), optimizer='adam', metrics=['accuracy'])\n",
        "updown_classifier.load_weights(\"/content/drive/My Drive/models/updown.h5\")\n",
        "\n",
        "classifier=make_model()\n",
        "classifier.compile(loss=keras.losses.BinaryCrossentropy(\n",
        "      from_logits=False, label_smoothing=0.1, \n",
        "      name='binary_crossentropy'\n",
        "  ), optimizer='adam', metrics=['accuracy',recall,precision,f1score])\n",
        "classifier.load_weights(\"/content/drive/My Drive/models/deeperppddbest.h5\")"
      ],
      "execution_count": null,
      "outputs": [
        {
          "output_type": "error",
          "ename": "KeyboardInterrupt",
          "evalue": "ignored",
          "traceback": [
            "\u001b[0;31m---------------------------------------------------------------------------\u001b[0m",
            "\u001b[0;31mKeyboardInterrupt\u001b[0m                         Traceback (most recent call last)",
            "\u001b[0;32m<ipython-input-107-4026a3a454c3>\u001b[0m in \u001b[0;36m<module>\u001b[0;34m()\u001b[0m\n\u001b[1;32m      8\u001b[0m \u001b[0mRNNmodel\u001b[0m\u001b[0;34m.\u001b[0m\u001b[0madd\u001b[0m\u001b[0;34m(\u001b[0m\u001b[0mDense\u001b[0m\u001b[0;34m(\u001b[0m\u001b[0;36m13\u001b[0m\u001b[0;34m,\u001b[0m \u001b[0mactivation\u001b[0m\u001b[0;34m=\u001b[0m\u001b[0;34m'sigmoid'\u001b[0m\u001b[0;34m,\u001b[0m \u001b[0mkernel_regularizer\u001b[0m\u001b[0;34m=\u001b[0m\u001b[0mregularizers\u001b[0m\u001b[0;34m.\u001b[0m\u001b[0ml2\u001b[0m\u001b[0;34m(\u001b[0m\u001b[0;36m0.01\u001b[0m\u001b[0;34m)\u001b[0m\u001b[0;34m)\u001b[0m\u001b[0;34m)\u001b[0m\u001b[0;34m\u001b[0m\u001b[0;34m\u001b[0m\u001b[0m\n\u001b[1;32m      9\u001b[0m \u001b[0mRNNmodel\u001b[0m\u001b[0;34m.\u001b[0m\u001b[0mcompile\u001b[0m\u001b[0;34m(\u001b[0m\u001b[0mloss\u001b[0m\u001b[0;34m=\u001b[0m\u001b[0;34m'categorical_crossentropy'\u001b[0m\u001b[0;34m,\u001b[0m \u001b[0moptimizer\u001b[0m\u001b[0;34m=\u001b[0m\u001b[0;34m'adam'\u001b[0m\u001b[0;34m,\u001b[0m \u001b[0mmetrics\u001b[0m\u001b[0;34m=\u001b[0m\u001b[0;34m[\u001b[0m\u001b[0;34m'accuracy'\u001b[0m\u001b[0;34m]\u001b[0m\u001b[0;34m)\u001b[0m\u001b[0;34m\u001b[0m\u001b[0;34m\u001b[0m\u001b[0m\n\u001b[0;32m---> 10\u001b[0;31m \u001b[0mRNNmodel\u001b[0m\u001b[0;34m.\u001b[0m\u001b[0mload_weights\u001b[0m\u001b[0;34m(\u001b[0m\u001b[0;34m'/content/drive/My Drive/models/RNN.h5'\u001b[0m\u001b[0;34m)\u001b[0m\u001b[0;34m\u001b[0m\u001b[0;34m\u001b[0m\u001b[0m\n\u001b[0m\u001b[1;32m     11\u001b[0m \u001b[0;34m\u001b[0m\u001b[0m\n\u001b[1;32m     12\u001b[0m \u001b[0mG\u001b[0m \u001b[0;34m=\u001b[0m \u001b[0mgenerator_model\u001b[0m\u001b[0;34m(\u001b[0m\u001b[0;34m)\u001b[0m\u001b[0;34m\u001b[0m\u001b[0;34m\u001b[0m\u001b[0m\n",
            "\u001b[0;32m/usr/local/lib/python3.6/dist-packages/keras/engine/saving.py\u001b[0m in \u001b[0;36mload_wrapper\u001b[0;34m(*args, **kwargs)\u001b[0m\n\u001b[1;32m    490\u001b[0m                 \u001b[0mos\u001b[0m\u001b[0;34m.\u001b[0m\u001b[0mremove\u001b[0m\u001b[0;34m(\u001b[0m\u001b[0mtmp_filepath\u001b[0m\u001b[0;34m)\u001b[0m\u001b[0;34m\u001b[0m\u001b[0;34m\u001b[0m\u001b[0m\n\u001b[1;32m    491\u001b[0m             \u001b[0;32mreturn\u001b[0m \u001b[0mres\u001b[0m\u001b[0;34m\u001b[0m\u001b[0;34m\u001b[0m\u001b[0m\n\u001b[0;32m--> 492\u001b[0;31m         \u001b[0;32mreturn\u001b[0m \u001b[0mload_function\u001b[0m\u001b[0;34m(\u001b[0m\u001b[0;34m*\u001b[0m\u001b[0margs\u001b[0m\u001b[0;34m,\u001b[0m \u001b[0;34m**\u001b[0m\u001b[0mkwargs\u001b[0m\u001b[0;34m)\u001b[0m\u001b[0;34m\u001b[0m\u001b[0;34m\u001b[0m\u001b[0m\n\u001b[0m\u001b[1;32m    493\u001b[0m \u001b[0;34m\u001b[0m\u001b[0m\n\u001b[1;32m    494\u001b[0m     \u001b[0;32mreturn\u001b[0m \u001b[0mload_wrapper\u001b[0m\u001b[0;34m\u001b[0m\u001b[0;34m\u001b[0m\u001b[0m\n",
            "\u001b[0;32m/usr/local/lib/python3.6/dist-packages/keras/engine/network.py\u001b[0m in \u001b[0;36mload_weights\u001b[0;34m(self, filepath, by_name, skip_mismatch, reshape)\u001b[0m\n\u001b[1;32m   1219\u001b[0m         \u001b[0;32mif\u001b[0m \u001b[0mh5py\u001b[0m \u001b[0;32mis\u001b[0m \u001b[0;32mNone\u001b[0m\u001b[0;34m:\u001b[0m\u001b[0;34m\u001b[0m\u001b[0;34m\u001b[0m\u001b[0m\n\u001b[1;32m   1220\u001b[0m             \u001b[0;32mraise\u001b[0m \u001b[0mImportError\u001b[0m\u001b[0;34m(\u001b[0m\u001b[0;34m'`load_weights` requires h5py.'\u001b[0m\u001b[0;34m)\u001b[0m\u001b[0;34m\u001b[0m\u001b[0;34m\u001b[0m\u001b[0m\n\u001b[0;32m-> 1221\u001b[0;31m         \u001b[0;32mwith\u001b[0m \u001b[0mh5py\u001b[0m\u001b[0;34m.\u001b[0m\u001b[0mFile\u001b[0m\u001b[0;34m(\u001b[0m\u001b[0mfilepath\u001b[0m\u001b[0;34m,\u001b[0m \u001b[0mmode\u001b[0m\u001b[0;34m=\u001b[0m\u001b[0;34m'r'\u001b[0m\u001b[0;34m)\u001b[0m \u001b[0;32mas\u001b[0m \u001b[0mf\u001b[0m\u001b[0;34m:\u001b[0m\u001b[0;34m\u001b[0m\u001b[0;34m\u001b[0m\u001b[0m\n\u001b[0m\u001b[1;32m   1222\u001b[0m             \u001b[0;32mif\u001b[0m \u001b[0;34m'layer_names'\u001b[0m \u001b[0;32mnot\u001b[0m \u001b[0;32min\u001b[0m \u001b[0mf\u001b[0m\u001b[0;34m.\u001b[0m\u001b[0mattrs\u001b[0m \u001b[0;32mand\u001b[0m \u001b[0;34m'model_weights'\u001b[0m \u001b[0;32min\u001b[0m \u001b[0mf\u001b[0m\u001b[0;34m:\u001b[0m\u001b[0;34m\u001b[0m\u001b[0;34m\u001b[0m\u001b[0m\n\u001b[1;32m   1223\u001b[0m                 \u001b[0mf\u001b[0m \u001b[0;34m=\u001b[0m \u001b[0mf\u001b[0m\u001b[0;34m[\u001b[0m\u001b[0;34m'model_weights'\u001b[0m\u001b[0;34m]\u001b[0m\u001b[0;34m\u001b[0m\u001b[0;34m\u001b[0m\u001b[0m\n",
            "\u001b[0;32m/usr/local/lib/python3.6/dist-packages/h5py/_hl/files.py\u001b[0m in \u001b[0;36m__init__\u001b[0;34m(self, name, mode, driver, libver, userblock_size, swmr, rdcc_nslots, rdcc_nbytes, rdcc_w0, track_order, **kwds)\u001b[0m\n\u001b[1;32m    406\u001b[0m                 fid = make_fid(name, mode, userblock_size,\n\u001b[1;32m    407\u001b[0m                                \u001b[0mfapl\u001b[0m\u001b[0;34m,\u001b[0m \u001b[0mfcpl\u001b[0m\u001b[0;34m=\u001b[0m\u001b[0mmake_fcpl\u001b[0m\u001b[0;34m(\u001b[0m\u001b[0mtrack_order\u001b[0m\u001b[0;34m=\u001b[0m\u001b[0mtrack_order\u001b[0m\u001b[0;34m)\u001b[0m\u001b[0;34m,\u001b[0m\u001b[0;34m\u001b[0m\u001b[0;34m\u001b[0m\u001b[0m\n\u001b[0;32m--> 408\u001b[0;31m                                swmr=swmr)\n\u001b[0m\u001b[1;32m    409\u001b[0m \u001b[0;34m\u001b[0m\u001b[0m\n\u001b[1;32m    410\u001b[0m             \u001b[0;32mif\u001b[0m \u001b[0misinstance\u001b[0m\u001b[0;34m(\u001b[0m\u001b[0mlibver\u001b[0m\u001b[0;34m,\u001b[0m \u001b[0mtuple\u001b[0m\u001b[0;34m)\u001b[0m\u001b[0;34m:\u001b[0m\u001b[0;34m\u001b[0m\u001b[0;34m\u001b[0m\u001b[0m\n",
            "\u001b[0;32m/usr/local/lib/python3.6/dist-packages/h5py/_hl/files.py\u001b[0m in \u001b[0;36mmake_fid\u001b[0;34m(name, mode, userblock_size, fapl, fcpl, swmr)\u001b[0m\n\u001b[1;32m    171\u001b[0m         \u001b[0;32mif\u001b[0m \u001b[0mswmr\u001b[0m \u001b[0;32mand\u001b[0m \u001b[0mswmr_support\u001b[0m\u001b[0;34m:\u001b[0m\u001b[0;34m\u001b[0m\u001b[0;34m\u001b[0m\u001b[0m\n\u001b[1;32m    172\u001b[0m             \u001b[0mflags\u001b[0m \u001b[0;34m|=\u001b[0m \u001b[0mh5f\u001b[0m\u001b[0;34m.\u001b[0m\u001b[0mACC_SWMR_READ\u001b[0m\u001b[0;34m\u001b[0m\u001b[0;34m\u001b[0m\u001b[0m\n\u001b[0;32m--> 173\u001b[0;31m         \u001b[0mfid\u001b[0m \u001b[0;34m=\u001b[0m \u001b[0mh5f\u001b[0m\u001b[0;34m.\u001b[0m\u001b[0mopen\u001b[0m\u001b[0;34m(\u001b[0m\u001b[0mname\u001b[0m\u001b[0;34m,\u001b[0m \u001b[0mflags\u001b[0m\u001b[0;34m,\u001b[0m \u001b[0mfapl\u001b[0m\u001b[0;34m=\u001b[0m\u001b[0mfapl\u001b[0m\u001b[0;34m)\u001b[0m\u001b[0;34m\u001b[0m\u001b[0;34m\u001b[0m\u001b[0m\n\u001b[0m\u001b[1;32m    174\u001b[0m     \u001b[0;32melif\u001b[0m \u001b[0mmode\u001b[0m \u001b[0;34m==\u001b[0m \u001b[0;34m'r+'\u001b[0m\u001b[0;34m:\u001b[0m\u001b[0;34m\u001b[0m\u001b[0;34m\u001b[0m\u001b[0m\n\u001b[1;32m    175\u001b[0m         \u001b[0mfid\u001b[0m \u001b[0;34m=\u001b[0m \u001b[0mh5f\u001b[0m\u001b[0;34m.\u001b[0m\u001b[0mopen\u001b[0m\u001b[0;34m(\u001b[0m\u001b[0mname\u001b[0m\u001b[0;34m,\u001b[0m \u001b[0mh5f\u001b[0m\u001b[0;34m.\u001b[0m\u001b[0mACC_RDWR\u001b[0m\u001b[0;34m,\u001b[0m \u001b[0mfapl\u001b[0m\u001b[0;34m=\u001b[0m\u001b[0mfapl\u001b[0m\u001b[0;34m)\u001b[0m\u001b[0;34m\u001b[0m\u001b[0;34m\u001b[0m\u001b[0m\n",
            "\u001b[0;32mh5py/_objects.pyx\u001b[0m in \u001b[0;36mh5py._objects.with_phil.wrapper\u001b[0;34m()\u001b[0m\n",
            "\u001b[0;32mh5py/_objects.pyx\u001b[0m in \u001b[0;36mh5py._objects.with_phil.wrapper\u001b[0;34m()\u001b[0m\n",
            "\u001b[0;32mh5py/h5f.pyx\u001b[0m in \u001b[0;36mh5py.h5f.open\u001b[0;34m()\u001b[0m\n",
            "\u001b[0;32mh5py/h5g.pyx\u001b[0m in \u001b[0;36mh5py.h5g.GroupID.__init__\u001b[0;34m()\u001b[0m\n",
            "\u001b[0;32mh5py/h5g.pyx\u001b[0m in \u001b[0;36mh5py.h5g.GroupID.__init__\u001b[0;34m()\u001b[0m\n",
            "\u001b[0;32m/usr/lib/python3.6/importlib/_bootstrap.py\u001b[0m in \u001b[0;36mparent\u001b[0;34m(self)\u001b[0m\n",
            "\u001b[0;31mKeyboardInterrupt\u001b[0m: "
          ]
        }
      ]
    },
    {
      "cell_type": "code",
      "metadata": {
        "id": "6htKIS4Lcb7h",
        "colab_type": "code",
        "colab": {
          "base_uri": "https://localhost:8080/",
          "height": 282
        },
        "outputId": "7e75ec12-4bdd-44cb-8eb3-1269ab525b8b"
      },
      "source": [
        "import cv2\n",
        "H=generate_images(G,3,4)[0]\n",
        "\n",
        "def matrix_cleaner(matrix,minimum_time):\n",
        "  #matrix should be size of 24*24\n",
        "  #make matrix's value of [0,1]  \n",
        "  matrix=np.matrix(matrix)\n",
        "  maximum_value=matrix.max()\n",
        "  minimum_value=matrix.min()\n",
        "  matrix=(matrix-minimum_value)/(maximum_value-minimum_value)\n",
        "  flat=matrix.flatten()\n",
        "  flat.sort()\n",
        "  flat=flat.reshape((24*minimum_time,1))\n",
        "  hundred_val=flat[-100]\n",
        "  matrix_for_duration=np.where(matrix<0.1,0,matrix)\n",
        "  matrix=np.where(matrix<hundred_val,0,matrix)\n",
        "  matrix=np.where(matrix<1/3,0,matrix)\n",
        "  \n",
        "  return matrix,matrix_for_duration\n",
        "plt.imshow(matrix_cleaner(H,Minimum_time)[0])"
      ],
      "execution_count": 156,
      "outputs": [
        {
          "output_type": "execute_result",
          "data": {
            "text/plain": [
              "<matplotlib.image.AxesImage at 0x7f359c68f358>"
            ]
          },
          "metadata": {
            "tags": []
          },
          "execution_count": 156
        },
        {
          "output_type": "display_data",
          "data": {
            "image/png": "[encoded data removed]",
            "text/plain": [
              "<Figure size 432x288 with 1 Axes>"
            ]
          },
          "metadata": {
            "tags": [],
            "needs_background": "light"
          }
        }
      ]
    },
    {
      "cell_type": "code",
      "metadata": {
        "id": "lRSy54CpFDz0",
        "colab_type": "code",
        "colab": {
          "base_uri": "https://localhost:8080/",
          "height": 265
        },
        "outputId": "3ef38ee0-3e41-4abd-c0cb-acf6d58ae24e"
      },
      "source": [
        "import numpy as np\n",
        "from scipy.ndimage.filters import maximum_filter\n",
        "from scipy.ndimage.morphology import generate_binary_structure, binary_erosion\n",
        "import matplotlib.pyplot as pp\n",
        "\n",
        "#getting a list of images\n",
        "\n",
        "paws = [matrix_cleaner(H,Minimum_time)[0]]\n",
        "\n",
        "\n",
        "def detect_peaks(image):\n",
        "    \"\"\"\n",
        "    Takes an image and detect the peaks usingthe local maximum filter.\n",
        "    Returns a boolean mask of the peaks (i.e. 1 when\n",
        "    the pixel's value is the neighborhood maximum, 0 otherwise)\n",
        "    \"\"\"\n",
        "\n",
        "    # define an 8-connected neighborhood\n",
        "    neighborhood = generate_binary_structure(2,2)\n",
        "\n",
        "    #apply the local maximum filter; all pixel of maximal value \n",
        "    #in their neighborhood are set to 1\n",
        "    local_max = maximum_filter(image, footprint=neighborhood)==image\n",
        "    #local_max is a mask that contains the peaks we are \n",
        "    #looking for, but also the background.\n",
        "    #In order to isolate the peaks we must remove the background from the mask.\n",
        "\n",
        "    #we create the mask of the background\n",
        "    background = (image==0)\n",
        "\n",
        "    #a little technicality: we must erode the background in order to \n",
        "    #successfully subtract it form local_max, otherwise a line will \n",
        "    #appear along the background border (artifact of the local maximum filter)\n",
        "    eroded_background = binary_erosion(background, structure=neighborhood, border_value=1)\n",
        "\n",
        "    #we obtain the final mask, containing only peaks, \n",
        "    #by removing the background from the local_max mask (xor operation)\n",
        "    detected_peaks = local_max ^ eroded_background\n",
        "    detected_peaks=np.where(detected_peaks==True,1,0)\n",
        "\n",
        "    return detected_peaks\n",
        "\n",
        "\n",
        "#applying the detection and plotting results\n",
        "for i, paw in enumerate(paws):\n",
        "    detected_peaks = detect_peaks(paw)\n",
        "    pp.subplot(1,2,(2*i+1))\n",
        "    pp.imshow(paw)\n",
        "    pp.subplot(1,2,(2*i+2) )\n",
        "    pp.imshow(detected_peaks)\n",
        "\n",
        "pp.show()"
      ],
      "execution_count": 157,
      "outputs": [
        {
          "output_type": "display_data",
          "data": {
            "image/png": "[encoded data removed]",
            "text/plain": [
              "<Figure size 432x288 with 2 Axes>"
            ]
          },
          "metadata": {
            "tags": [],
            "needs_background": "light"
          }
        }
      ]
    },
    {
      "cell_type": "code",
      "metadata": {
        "id": "bPVdL9UXO-0h",
        "colab_type": "code",
        "colab": {
          "base_uri": "https://localhost:8080/",
          "height": 352
        },
        "outputId": "2e76d24e-ade2-49ac-b97d-380889e57aa0"
      },
      "source": [
        "def left_shifting(matrix,detected_peak,minimum_time):\n",
        "  #input은 detected_peak가 들어와야한다.\n",
        "  dots=[]\n",
        "  \"\"\"\n",
        "  for i in range(len(detected_peak[0])):\n",
        "    for j in range(len(detected_peak)):\n",
        "      if(detected_peak[j][i]==1):\n",
        "        if(i%2!=0 and i%3!=0):#this code can shift Offbeats like 5/24, 7/24 to 4/24, 6/24, \n",
        "          detected_peak[j][i]=0\n",
        "          detected_peak[j][i-1]=1\n",
        "  \"\"\"\n",
        "  for i in range(len(detected_peak[0])):\n",
        "    for j in range(len(detected_peak)):#for 문의 순서를 이렇게 지정해야 Handle이 가능하다.      \n",
        "      pos=[]\n",
        "      a=0\n",
        "      if(detected_peak[j][i]==1):  \n",
        "        pos=[j,i]\n",
        "      if(len(pos)!=0):\n",
        "        dots.append(pos)\n",
        "  dots_with_length=[]\n",
        "  starting_points=[]\n",
        "  durations=[]\n",
        "  velocities=[]\n",
        "  for i,position in enumerate(dots):\n",
        "    velocity=matrix[1][position[0]][position[1]]\n",
        "    if(position[1]!=0):\n",
        "      if(velocity<matrix[1][position[0]][position[1]-1]):\n",
        "        velocity=matrix[1][position[0]][position[1]-1] #for handling shifted notes\n",
        "        #Note that matrix[1][position[0]][position[1]>matrix[1][position[0]][position[1]-1] for all none-shifted notes since\n",
        "        #peak notes selected by local maximum neighboorhood.\n",
        "    velocities.append(velocity)\n",
        "    length_val=0\n",
        "    while True:\n",
        "      if(length_val==0):\n",
        "        starting_points.append([position[0],position[1]])\n",
        "      else:\n",
        "        if(position[1]+length_val>minimum_time-1):\n",
        "          break\n",
        "        if(detected_peak[position[0]][position[1]+length_val]!=0):\n",
        "          break\n",
        "      if(position[1]+length_val>minimum_time-1):\n",
        "        break\n",
        "      elif(matrix[1][position[0]][position[1]+length_val]!=0):\n",
        "        dots_with_length.append([position[0],position[1]+length_val])\n",
        "      else:\n",
        "        break\n",
        "      length_val+=1\n",
        "    durations.append(length_val)\n",
        "  result=np.zeros_like(matrix[0])\n",
        "  for position in dots_with_length:\n",
        "    result[position[0]][position[1]]=1\n",
        "  return result,np.array(starting_points),np.array(durations),np.array(velocities)\n",
        "\n",
        "paws = [matrix_cleaner(H,Minimum_time)[0]]\n",
        "detected_peaks = detect_peaks(paws[0])\n",
        "fig = plt.figure()\n",
        "ax1 = fig.add_subplot(1, 3, 1)\n",
        "ax1.imshow(H.reshape(24,Minimum_time))\n",
        "ax1.set_title('H')\n",
        "ax1.axis(\"off\")\n",
        " \n",
        "ax3 = fig.add_subplot(1, 3, 2)\n",
        "ax3.imshow(paws[0].reshape(24,Minimum_time))\n",
        "ax3.set_title('Cleaned H')\n",
        "ax3.axis(\"off\")\n",
        "\n",
        "ax2 = fig.add_subplot(1, 3, 3)\n",
        "ax2.imshow(detect_peaks(matrix_cleaner(H,Minimum_time)[0]))\n",
        "ax2.set_title('detected_peaks')\n",
        "ax2.axis(\"off\")\n",
        "#plt.imshow(left_shifting(matrix_cleaner(H),detect_peaks(matrix_cleaner(H)[0]))[0])\n",
        "\n",
        "print(left_shifting(matrix_cleaner(H,Minimum_time),detected_peaks,Minimum_time)[1],\n",
        "      left_shifting(matrix_cleaner(H,Minimum_time),detected_peaks,Minimum_time)[2],\n",
        "      left_shifting(matrix_cleaner(H,Minimum_time),detected_peaks,Minimum_time)[3])"
      ],
      "execution_count": 170,
      "outputs": [
        {
          "output_type": "stream",
          "text": [
            "[[23  0]\n",
            " [11  4]\n",
            " [ 4  6]\n",
            " [ 2  9]\n",
            " [ 9 12]\n",
            " [ 4 13]\n",
            " [23 13]\n",
            " [ 9 14]] [1 2 2 2 2 3 2 1] [0.3459293  0.5397763  0.46556175 0.58330435 0.50278753 1.\n",
            " 0.50210226 0.46178928]\n"
          ],
          "name": "stdout"
        },
        {
          "output_type": "display_data",
          "data": {
            "image/png": "[encoded data removed]",
            "text/plain": [
              "<Figure size 432x288 with 3 Axes>"
            ]
          },
          "metadata": {
            "tags": [],
            "needs_background": "light"
          }
        }
      ]
    },
    {
      "cell_type": "code",
      "metadata": {
        "id": "7hmNRrgvCTpe",
        "colab_type": "code",
        "colab": {}
      },
      "source": [
        "C_chord=[1,0,1,0,1,1,0,1,0,1,0,1]\n",
        "chords=['C','C#','D','D#','E','F','F#','G','G#','A','A#','B']\n",
        "def chord_matching(shifted_matrix,chord,last_pitch,direction):\n",
        "  #input은 left_shifting의 output을 그대로 넣고, chord(C,C#,D,D#....,B), 마지막 리듬의 pitch를 숫자로, 그리고 진행 방향을 direction(1,0)으로 받는다.\n",
        "  #output은 MIDI기반의 decoding이 되도록 정보 기반으로, 그리고 last_pitch까지 넣어준다.\n",
        "  #또한 출력 그림과 상관없이, 그냥 Note Pitch를 그냥 Matrix에 넣어준다.\n",
        "  before_matrix=shifted_matrix[0]\n",
        "  before_pitch=last_pitch\n",
        "  if (last_pitch<40):\n",
        "    direction=1\n",
        "  if (last_pitch>80):\n",
        "    direction=0\n",
        "  if chord not in chords:\n",
        "    now_chord='C'\n",
        "  now_chord=chord\n",
        "  chord_diff=chords.index(now_chord)\n",
        "  now_chord_list=np.roll(C_chord,chord_diff)#[1,0,1,0,1...] 이런 set인데 여기에 맞추면 함수에 넣은 chord에 맞게 된다.\n",
        "  #나중에 그냥 chord뿐만 아니라 화음의 종류까지 고민하게 된다면 이걸 잘 쓰면 된다.\n",
        "  pitch_set=[]\n",
        "  for pitchs in shifted_matrix[1]:\n",
        "    pitch_set.append(23-pitchs[0])#위 그림 기준 7,17,9,7,3,5 이렇게 들감\n",
        "  pitch_set=pitch_set-pitch_set[0]#이러면 0, 10, -1, 0 ,-4, -2, 이렇게 들간다. 상대적인 위치를 다루는게 쉽다.\n",
        "  if (direction==1):\n",
        "    possible_set=[]\n",
        "    for i in range(12):\n",
        "      possible_set.append(pitch_set+i+last_pitch)\n",
        "  else:\n",
        "    possible_set=[]\n",
        "    for i in range(12):\n",
        "      possible_set.append(pitch_set-i+last_pitch)\n",
        "  possible_set_score=[]\n",
        "  for sets in possible_set:\n",
        "    score=0\n",
        "    for pitchs in sets:\n",
        "      score+=now_chord_list[pitchs%12]\n",
        "    possible_set_score.append(score)\n",
        "  final_set=possible_set[np.argmax(possible_set_score)]\n",
        "  return_val=[]\n",
        "  for i,sets in enumerate(final_set):\n",
        "    if (before_pitch-sets<-12):\n",
        "      sets=sets-12\n",
        "    if (before_pitch-sets>12):\n",
        "      sets=sets+12               #For prevent pitch change above 1 Octave.\n",
        "    if(now_chord_list[sets%12]==1):\n",
        "      final=[]\n",
        "      if (shifted_matrix[2][i]!=0):\n",
        "        final.append(sets)#pitch\n",
        "        final.append(shifted_matrix[1][i][1])\n",
        "        final.append(shifted_matrix[2][i])\n",
        "        final.append(shifted_matrix[3][i])\n",
        "        return_val.append(final)\n",
        "    before_pitch=sets\n",
        "  return return_val, sets#final pitch\n"
      ],
      "execution_count": 116,
      "outputs": []
    },
    {
      "cell_type": "code",
      "metadata": {
        "id": "7chdoz0aQzCm",
        "colab_type": "code",
        "colab": {
          "base_uri": "https://localhost:8080/",
          "height": 54
        },
        "outputId": "2c940c28-4f90-4ace-cf58-b6952e1cad8e"
      },
      "source": [
        "shifted=left_shifting(matrix_cleaner(H,Minimum_time),detect_peaks(matrix_cleaner(H,Minimum_time)[0]),Minimum_time)\n",
        "print(chord_matching(shifted,'C',48,1))"
      ],
      "execution_count": 119,
      "outputs": [
        {
          "output_type": "stream",
          "text": [
            "([[52, 10, 1, 0.40820837], [50, 6, 2, 0.51305705], [45, 12, 3, 0.90604013], [43, 0, 1, 1.0], [41, 3, 2, 0.69647956], [31, 0, 1, 0.6495035]], 31)\n"
          ],
          "name": "stdout"
        }
      ]
    },
    {
      "cell_type": "code",
      "metadata": {
        "id": "Sf-UJL5SarLZ",
        "colab_type": "code",
        "colab": {}
      },
      "source": [
        "np.random.seed(7)\n",
        "def generation_info(start_skill,length,chord,minimum_time):\n",
        "  infos=[]\n",
        "  H=generate_images(G,1,start_skill)\n",
        "  shifted=left_shifting(matrix_cleaner(H,Minimum_time),detect_peaks(matrix_cleaner(H,Minimum_time)[0]),Minimum_time)\n",
        "  infos.append(chord_matching(shifted,chord,48,1)[0]) # 48은 last_pitch정보, 1은 updown precition, 즉 direction 관련 정보다.\n",
        "  last_pitch=chord_matching(shifted,chord,48,1)[1]\n",
        "\n",
        "  feature_seq=[]\n",
        "  feature_seq.append(start_skill+1)#RNN Predict Pad 전에 1을 더해야한다.\n",
        "  feature_seq_pad=sequence.pad_sequences(np.array([feature_seq]),maxlen=10)\n",
        "  prediction=RNNmodel.predict(feature_seq_pad)\n",
        "  prediction[0][start_skill]=prediction[0][start_skill]/3\n",
        "  prediction[0][6]=0#no skills\n",
        "  updown_prediction=updown_classifier.predict(shifted[0].reshape(1,24,minimum_time,1))\n",
        "  if(updown_prediction[0][0]>=updown_prediction[0][1]):\n",
        "    updown_prediction=1\n",
        "  else:\n",
        "    updown_prediction=0\n",
        "  prob=prediction/prediction.sum()\n",
        "  next_skill=np.random.choice(\n",
        "      np.arange(13),\n",
        "      p=prob[0]\n",
        "  )\n",
        "  for i in range(length-1):\n",
        "    #print(i+2,'th bar\\'s generated skill is ',next_skill)\n",
        "    H=generate_images(G,1,next_skill)\n",
        "    shifted=left_shifting(matrix_cleaner(H,Minimum_time),detect_peaks(matrix_cleaner(H,Minimum_time)[0]),Minimum_time)\n",
        "    infos.append(chord_matching(shifted,chord,last_pitch,updown_prediction)[0])\n",
        "    feature_seq.append(next_skill+1)# H generation을 4로 했다.\n",
        "    feature_seq_pad=sequence.pad_sequences(np.array([feature_seq]),maxlen=10)\n",
        "    prediction=RNNmodel.predict(feature_seq_pad)\n",
        "    prediction[0][next_skill]=prediction[0][next_skill]/3\n",
        "    prediction[0]=prediction[0]+prediction.sum()/20 # for more variation.\n",
        "    prediction[0][6]=0#6 is no skill\n",
        "    updown_prediction=updown_classifier.predict(shifted[0].reshape(1,24,minimum_time,1))\n",
        "    if(updown_prediction[0][0]>=updown_prediction[0][1]):\n",
        "      updown_prediction=1\n",
        "    else:\n",
        "      updown_prediction=0\n",
        "    prob=prediction/prediction.sum()\n",
        "    next_skill=np.random.choice(\n",
        "        np.arange(13),\n",
        "        p=prob[0]\n",
        "    )\n",
        "  return infos"
      ],
      "execution_count": 120,
      "outputs": []
    },
    {
      "cell_type": "code",
      "metadata": {
        "id": "OORpc3qu1FXb",
        "colab_type": "code",
        "colab": {
          "base_uri": "https://localhost:8080/",
          "height": 87
        },
        "outputId": "5736ac40-357f-44ad-fff8-d98e58952529"
      },
      "source": [
        "final_list=generation_info(0,16,'F#',Minimum_time)\n",
        "\"\"\"\n",
        "generation_info(final_skill, length, chord)\n",
        "\n",
        "final_skill should be 0~12. It matches with\n",
        "['One_rhythm' 'continuing_rhythm' 'down_leaping' 'down_steping'\n",
        " 'fast_rhythm' 'leaping_twisting' 'no skills' 'resting' 'staccato'\n",
        " 'steping_twisting' 'triplet' 'up_leaping' 'up_steping'].\n",
        " length is the bar number of song generation.\n",
        " chord should be string, 'C', 'C#', 'D' ...\n",
        " major and minor chord is not considered now.\n",
        " but maybe I can handle with making all class as two type. ex)(major One_rhythm, minor One_rhythm..)\n",
        "\"\"\""
      ],
      "execution_count": 121,
      "outputs": [
        {
          "output_type": "execute_result",
          "data": {
            "application/vnd.google.colaboratory.intrinsic+json": {
              "type": "string"
            },
            "text/plain": [
              "\"\\ngeneration_info(final_skill, length, chord)\\n\\nfinal_skill should be 0~12. It matches with\\n['One_rhythm' 'continuing_rhythm' 'down_leaping' 'down_steping'\\n 'fast_rhythm' 'leaping_twisting' 'no skills' 'resting' 'staccato'\\n 'steping_twisting' 'triplet' 'up_leaping' 'up_steping'].\\n length is the bar number of song generation.\\n chord should be string, 'C', 'C#', 'D' ...\\n major and minor chord is not considered now.\\n but maybe I can handle with making all class as two type. ex)(major One_rhythm, minor One_rhythm..)\\n\""
            ]
          },
          "metadata": {
            "tags": []
          },
          "execution_count": 121
        }
      ]
    },
    {
      "cell_type": "code",
      "metadata": {
        "id": "yYOmVKrb5vpM",
        "colab_type": "code",
        "colab": {
          "base_uri": "https://localhost:8080/",
          "height": 316
        },
        "outputId": "3c6369f6-303a-4a7c-d261-af6fcbaccba9"
      },
      "source": [
        "for i in final_list:\n",
        "  print(i)"
      ],
      "execution_count": 122,
      "outputs": [
        {
          "output_type": "stream",
          "text": [
            "[[51, 9, 2, 0.97601146], [49, 6, 2, 1.0], [47, 6, 1, 0.48840782], [42, 4, 2, 0.99571633], [30, 0, 1, 0.6545766]]\n",
            "[[34, 4, 1, 0.57788944], [30, 10, 2, 0.5550961], [27, 12, 2, 1.0]]\n",
            "[[34, 9, 4, 1.0], [27, 4, 1, 0.42309907]]\n",
            "[[32, 6, 1, 0.37032303], [30, 14, 1, 0.5208909], [25, 4, 2, 0.57804763], [18, 14, 1, 0.35294288]]\n",
            "[[32, 6, 1, 0.34464383], [27, 12, 3, 1.0], [25, 0, 1, 0.7720368], [23, 3, 2, 0.62873536], [13, 0, 1, 0.4495749]]\n",
            "[[30, 4, 3, 1.0]]\n",
            "[[35, 8, 1, 0.62615037], [29, 0, 1, 0.85709333]]\n",
            "[[30, 4, 4, 1.0]]\n",
            "[[34, 9, 2, 0.8448576], [32, 6, 2, 0.94038075], [30, 6, 2, 0.387102], [27, 14, 1, 0.81753975], [25, 4, 2, 0.91662496], [23, 3, 2, 0.44971955], [13, 0, 1, 0.5698244]]\n",
            "[[34, 9, 2, 0.4623674], [32, 6, 1, 0.5622058], [27, 12, 2, 0.8754036], [25, 4, 2, 0.7734158], [23, 3, 2, 0.5758665], [13, 0, 1, 0.4581147]]\n",
            "[[34, 14, 1, 0.41361913], [32, 4, 2, 0.59909964], [30, 3, 2, 0.43382517], [20, 0, 2, 0.7715293]]\n",
            "[[30, 12, 2, 0.66507477], [22, 0, 1, 0.23044252]]\n",
            "[[30, 4, 2, 1.0], [18, 0, 1, 0.36067733]]\n",
            "[[27, 9, 4, 1.0], [23, 0, 1, 0.2117873], [20, 4, 1, 0.3513967]]\n",
            "[[34, 8, 5, 1.0], [30, 4, 1, 0.38619867]]\n",
            "[[34, 6, 2, 0.50795466], [29, 6, 1, 0.5237306], [27, 14, 1, 0.900096], [18, 3, 1, 0.53512746], [15, 14, 1, 1.0]]\n"
          ],
          "name": "stdout"
        }
      ]
    },
    {
      "cell_type": "code",
      "metadata": {
        "id": "8ZKfyjNENquS",
        "colab_type": "code",
        "colab": {
          "base_uri": "https://localhost:8080/",
          "height": 211
        },
        "outputId": "5af7dd65-ba55-4515-eb16-3eba2cea2ed3"
      },
      "source": [
        "pip install midiutil"
      ],
      "execution_count": 123,
      "outputs": [
        {
          "output_type": "stream",
          "text": [
            "Collecting midiutil\n",
            "\u001b[?25l  Downloading https://files.pythonhosted.org/packages/f5/44/fde6772d8bfaea64fcf5eb948124d0a5fdf5f848b14ac22a23ced53e562d/MIDIUtil-1.2.1.tar.gz (1.0MB)\n",
            "\r\u001b[K     |▎                               | 10kB 27.8MB/s eta 0:00:01\r\u001b[K     |▋                               | 20kB 6.4MB/s eta 0:00:01\r\u001b[K     |█                               | 30kB 7.5MB/s eta 0:00:01\r\u001b[K     |█▎                              | 40kB 7.7MB/s eta 0:00:01\r\u001b[K     |█▋                              | 51kB 7.5MB/s eta 0:00:01\r\u001b[K     |██                              | 61kB 8.4MB/s eta 0:00:01\r\u001b[K     |██▎                             | 71kB 8.3MB/s eta 0:00:01\r\u001b[K     |██▋                             | 81kB 8.9MB/s eta 0:00:01\r\u001b[K     |███                             | 92kB 8.9MB/s eta 0:00:01\r\u001b[K     |███▎                            | 102kB 9.5MB/s eta 0:00:01\r\u001b[K     |███▋                            | 112kB 9.5MB/s eta 0:00:01\r\u001b[K     |███▉                            | 122kB 9.5MB/s eta 0:00:01\r\u001b[K     |████▏                           | 133kB 9.5MB/s eta 0:00:01\r\u001b[K     |████▌                           | 143kB 9.5MB/s eta 0:00:01\r\u001b[K     |████▉                           | 153kB 9.5MB/s eta 0:00:01\r\u001b[K     |█████▏                          | 163kB 9.5MB/s eta 0:00:01\r\u001b[K     |█████▌                          | 174kB 9.5MB/s eta 0:00:01\r\u001b[K     |█████▉                          | 184kB 9.5MB/s eta 0:00:01\r\u001b[K     |██████▏                         | 194kB 9.5MB/s eta 0:00:01\r\u001b[K     |██████▌                         | 204kB 9.5MB/s eta 0:00:01\r\u001b[K     |██████▉                         | 215kB 9.5MB/s eta 0:00:01\r\u001b[K     |███████▏                        | 225kB 9.5MB/s eta 0:00:01\r\u001b[K     |███████▍                        | 235kB 9.5MB/s eta 0:00:01\r\u001b[K     |███████▊                        | 245kB 9.5MB/s eta 0:00:01\r\u001b[K     |████████                        | 256kB 9.5MB/s eta 0:00:01\r\u001b[K     |████████▍                       | 266kB 9.5MB/s eta 0:00:01\r\u001b[K     |████████▊                       | 276kB 9.5MB/s eta 0:00:01\r\u001b[K     |█████████                       | 286kB 9.5MB/s eta 0:00:01\r\u001b[K     |█████████▍                      | 296kB 9.5MB/s eta 0:00:01\r\u001b[K     |█████████▊                      | 307kB 9.5MB/s eta 0:00:01\r\u001b[K     |██████████                      | 317kB 9.5MB/s eta 0:00:01\r\u001b[K     |██████████▍                     | 327kB 9.5MB/s eta 0:00:01\r\u001b[K     |██████████▊                     | 337kB 9.5MB/s eta 0:00:01\r\u001b[K     |███████████                     | 348kB 9.5MB/s eta 0:00:01\r\u001b[K     |███████████▎                    | 358kB 9.5MB/s eta 0:00:01\r\u001b[K     |███████████▋                    | 368kB 9.5MB/s eta 0:00:01\r\u001b[K     |████████████                    | 378kB 9.5MB/s eta 0:00:01\r\u001b[K     |████████████▎                   | 389kB 9.5MB/s eta 0:00:01\r\u001b[K     |████████████▋                   | 399kB 9.5MB/s eta 0:00:01\r\u001b[K     |█████████████                   | 409kB 9.5MB/s eta 0:00:01\r\u001b[K     |█████████████▎                  | 419kB 9.5MB/s eta 0:00:01\r\u001b[K     |█████████████▋                  | 430kB 9.5MB/s eta 0:00:01\r\u001b[K     |██████████████                  | 440kB 9.5MB/s eta 0:00:01\r\u001b[K     |██████████████▎                 | 450kB 9.5MB/s eta 0:00:01\r\u001b[K     |██████████████▋                 | 460kB 9.5MB/s eta 0:00:01\r\u001b[K     |██████████████▉                 | 471kB 9.5MB/s eta 0:00:01\r\u001b[K     |███████████████▏                | 481kB 9.5MB/s eta 0:00:01\r\u001b[K     |███████████████▌                | 491kB 9.5MB/s eta 0:00:01\r\u001b[K     |███████████████▉                | 501kB 9.5MB/s eta 0:00:01\r\u001b[K     |████████████████▏               | 512kB 9.5MB/s eta 0:00:01\r\u001b[K     |████████████████▌               | 522kB 9.5MB/s eta 0:00:01\r\u001b[K     |████████████████▉               | 532kB 9.5MB/s eta 0:00:01\r\u001b[K     |█████████████████▏              | 542kB 9.5MB/s eta 0:00:01\r\u001b[K     |█████████████████▌              | 552kB 9.5MB/s eta 0:00:01\r\u001b[K     |█████████████████▉              | 563kB 9.5MB/s eta 0:00:01\r\u001b[K     |██████████████████▏             | 573kB 9.5MB/s eta 0:00:01\r\u001b[K     |██████████████████▍             | 583kB 9.5MB/s eta 0:00:01\r\u001b[K     |██████████████████▊             | 593kB 9.5MB/s eta 0:00:01\r\u001b[K     |███████████████████             | 604kB 9.5MB/s eta 0:00:01\r\u001b[K     |███████████████████▍            | 614kB 9.5MB/s eta 0:00:01\r\u001b[K     |███████████████████▊            | 624kB 9.5MB/s eta 0:00:01\r\u001b[K     |████████████████████            | 634kB 9.5MB/s eta 0:00:01\r\u001b[K     |████████████████████▍           | 645kB 9.5MB/s eta 0:00:01\r\u001b[K     |████████████████████▊           | 655kB 9.5MB/s eta 0:00:01\r\u001b[K     |█████████████████████           | 665kB 9.5MB/s eta 0:00:01\r\u001b[K     |█████████████████████▍          | 675kB 9.5MB/s eta 0:00:01\r\u001b[K     |█████████████████████▊          | 686kB 9.5MB/s eta 0:00:01\r\u001b[K     |██████████████████████          | 696kB 9.5MB/s eta 0:00:01\r\u001b[K     |██████████████████████▎         | 706kB 9.5MB/s eta 0:00:01\r\u001b[K     |██████████████████████▋         | 716kB 9.5MB/s eta 0:00:01\r\u001b[K     |███████████████████████         | 727kB 9.5MB/s eta 0:00:01\r\u001b[K     |███████████████████████▎        | 737kB 9.5MB/s eta 0:00:01\r\u001b[K     |███████████████████████▋        | 747kB 9.5MB/s eta 0:00:01\r\u001b[K     |████████████████████████        | 757kB 9.5MB/s eta 0:00:01\r\u001b[K     |████████████████████████▎       | 768kB 9.5MB/s eta 0:00:01\r\u001b[K     |████████████████████████▋       | 778kB 9.5MB/s eta 0:00:01\r\u001b[K     |█████████████████████████       | 788kB 9.5MB/s eta 0:00:01\r\u001b[K     |█████████████████████████▎      | 798kB 9.5MB/s eta 0:00:01\r\u001b[K     |█████████████████████████▋      | 808kB 9.5MB/s eta 0:00:01\r\u001b[K     |█████████████████████████▉      | 819kB 9.5MB/s eta 0:00:01\r\u001b[K     |██████████████████████████▏     | 829kB 9.5MB/s eta 0:00:01\r\u001b[K     |██████████████████████████▌     | 839kB 9.5MB/s eta 0:00:01\r\u001b[K     |██████████████████████████▉     | 849kB 9.5MB/s eta 0:00:01\r\u001b[K     |███████████████████████████▏    | 860kB 9.5MB/s eta 0:00:01\r\u001b[K     |███████████████████████████▌    | 870kB 9.5MB/s eta 0:00:01\r\u001b[K     |███████████████████████████▉    | 880kB 9.5MB/s eta 0:00:01\r\u001b[K     |████████████████████████████▏   | 890kB 9.5MB/s eta 0:00:01\r\u001b[K     |████████████████████████████▌   | 901kB 9.5MB/s eta 0:00:01\r\u001b[K     |████████████████████████████▉   | 911kB 9.5MB/s eta 0:00:01\r\u001b[K     |█████████████████████████████▏  | 921kB 9.5MB/s eta 0:00:01\r\u001b[K     |█████████████████████████████▍  | 931kB 9.5MB/s eta 0:00:01\r\u001b[K     |█████████████████████████████▊  | 942kB 9.5MB/s eta 0:00:01\r\u001b[K     |██████████████████████████████  | 952kB 9.5MB/s eta 0:00:01\r\u001b[K     |██████████████████████████████▍ | 962kB 9.5MB/s eta 0:00:01\r\u001b[K     |██████████████████████████████▊ | 972kB 9.5MB/s eta 0:00:01\r\u001b[K     |███████████████████████████████ | 983kB 9.5MB/s eta 0:00:01\r\u001b[K     |███████████████████████████████▍| 993kB 9.5MB/s eta 0:00:01\r\u001b[K     |███████████████████████████████▊| 1.0MB 9.5MB/s eta 0:00:01\r\u001b[K     |████████████████████████████████| 1.0MB 9.5MB/s \n",
            "\u001b[?25hBuilding wheels for collected packages: midiutil\n",
            "  Building wheel for midiutil (setup.py) ... \u001b[?25l\u001b[?25hdone\n",
            "  Created wheel for midiutil: filename=MIDIUtil-1.2.1-cp36-none-any.whl size=54571 sha256=b6f6a300e7cb9696f13762e09ab8dacbb6294f1f844a1ac213e8d086fa72d8e6\n",
            "  Stored in directory: /root/.cache/pip/wheels/70/f1/24/97bde012f64820632e1e5e2935df19dfbcf9e058b0734b57cd\n",
            "Successfully built midiutil\n",
            "Installing collected packages: midiutil\n",
            "Successfully installed midiutil-1.2.1\n"
          ],
          "name": "stdout"
        }
      ]
    },
    {
      "cell_type": "code",
      "metadata": {
        "id": "ksTjAaAhKyi1",
        "colab_type": "code",
        "colab": {
          "base_uri": "https://localhost:8080/",
          "height": 1000
        },
        "outputId": "dac73eb3-624a-4781-d20c-dfe9258c41ac"
      },
      "source": [
        "import midiutil\n",
        "from midiutil.MidiFile import MIDIFile\n",
        "\n",
        "for start_skill in range(12):\n",
        "  for chord in chords:\n",
        "    final_list=generation_info(start_skill,16,chord,Minimum_time)\n",
        "    # create your MIDI object\n",
        "    mf = MIDIFile(1)     # only 1 track\n",
        "    track = 0   # the only track\n",
        "\n",
        "    time = 0    # start at the beginning\n",
        "    mf.addTrackName(track, time, \"Sample Track\")\n",
        "    mf.addTempo(track, time, 120)#2초에 1bar\n",
        "\n",
        "    # add some notes\n",
        "    channel = 0\n",
        "    used_time=[]\n",
        "    for i,bars in enumerate(final_list):\n",
        "\n",
        "      for notes in bars:\n",
        "\n",
        "        pitch = notes[0]+12           # C4 (middle C) 48이 C4인 내구현에 비해 여기는 60이 C4이다.\n",
        "        time = notes[1]/(Minimum_time/4)+i*4             # start on beat 0\n",
        "        duration = notes[2]/(Minimum_time/4)         # 1 beat long\n",
        "        volume= int(notes[3]*100)\n",
        "        if (time not in used_time and duration!=0):\n",
        "          mf.addNote(track, channel, pitch, time, duration, volume)\n",
        "          used_time.append(time)\n",
        "    with open(\"/content/drive/My Drive/MARG/PPDDlist/MIDI_result/output\"+mlb.classes_[start_skill]+chord+\".mid\", 'wb') as outf:\n",
        "      mf.writeFile(outf)\n",
        "      print(mlb.classes_[start_skill]+chord+\"  generate done!\")\n",
        "      print('info is \\n',final_list)"
      ],
      "execution_count": 171,
      "outputs": [
        {
          "output_type": "stream",
          "text": [
            "One_rhythmC  generate done!\n",
            "info is \n",
            " [[[50, 2, 2, 0.8264362], [55, 4, 2, 0.5054862], [62, 7, 2, 0.9270204], [60, 12, 2, 0.64244586], [60, 14, 1, 0.82447857], [48, 14, 1, 1.0]], [[48, 0, 1, 0.37330097], [60, 4, 1, 0.5433075], [67, 6, 2, 0.5509488], [69, 9, 2, 0.5839013], [67, 13, 3, 1.0], [60, 13, 2, 0.50191516]], [[48, 1, 1, 0.68125546], [40, 2, 1, 0.7489568], [48, 5, 1, 1.0]], [[48, 0, 2, 0.9014984], [48, 2, 2, 0.86648154], [48, 4, 1, 0.826947], [48, 9, 1, 1.0]], [[48, 1, 3, 1.0], [45, 10, 2, 0.50736475], [48, 14, 1, 0.39199498]], [[48, 0, 2, 0.97663337], [48, 2, 2, 0.9139089], [48, 4, 2, 0.90725845], [48, 9, 1, 1.0]], [[48, 1, 1, 0.7206467], [45, 4, 1, 0.39203158], [48, 5, 1, 0.9114045], [52, 9, 4, 1.0], [52, 13, 1, 0.5906163]], [[52, 1, 2, 0.7083112], [57, 2, 1, 0.9323946], [45, 2, 1, 0.7569438], [53, 5, 1, 1.0], [57, 6, 1, 0.47238988], [62, 11, 3, 0.8941843]], [[48, 0, 2, 1.0], [48, 2, 2, 0.9843679], [48, 4, 1, 0.95542663]], [[52, 4, 1, 0.55868423], [59, 7, 2, 0.3744649], [52, 8, 1, 0.40262017], [57, 10, 2, 0.33665952], [57, 12, 2, 0.57651705], [57, 14, 1, 0.5942039]], [[50, 0, 2, 0.61492306], [53, 3, 1, 0.50156605], [57, 6, 2, 0.5645133], [64, 7, 2, 0.85749596], [62, 12, 2, 0.7688174], [62, 14, 1, 0.9139611], [50, 14, 1, 1.0]], [[48, 6, 3, 1.0], [50, 10, 2, 0.85076666], [50, 12, 2, 0.8619346], [52, 14, 1, 0.3958724]], [[48, 0, 2, 0.82968974], [48, 2, 2, 0.77869064], [48, 4, 3, 1.0], [48, 9, 1, 0.88583887]], [[48, 1, 1, 0.8180949], [40, 2, 1, 0.6692718], [48, 5, 1, 1.0], [52, 9, 2, 0.6915485], [57, 12, 2, 0.6618488]], [[48, 1, 2, 0.7600138], [48, 3, 2, 0.49292052], [48, 5, 3, 1.0], [48, 12, 3, 0.3457343]], [[48, 1, 2, 0.55902815], [59, 2, 3, 1.0]]]\n",
            "One_rhythmC#  generate done!\n",
            "info is \n",
            " [[[51, 0, 1, 1.0], [39, 0, 1, 0.5707463], [41, 1, 2, 0.41186053], [49, 3, 2, 0.6134081], [51, 4, 2, 0.70633453], [39, 6, 1, 0.5625775], [41, 7, 3, 0.849894], [49, 8, 3, 0.45491636], [53, 12, 3, 0.95758045], [58, 13, 1, 0.342529], [51, 13, 2, 0.87917477]], [[54, 1, 1, 0.6341387], [46, 2, 1, 0.71649903], [54, 5, 1, 1.0]], [[51, 13, 1, 1.0]], [[54, 3, 2, 0.36273196], [56, 4, 2, 0.54516494], [63, 6, 2, 0.4511715], [65, 10, 1, 0.51473165], [58, 12, 2, 0.72041243], [63, 13, 3, 1.0], [56, 13, 2, 0.44355246], [58, 14, 1, 0.49758005]], [[51, 2, 1, 0.33389843], [51, 8, 1, 1.0]], [[58, 4, 1, 0.6117068], [65, 7, 2, 0.60663766], [63, 10, 2, 0.4092429], [63, 12, 2, 0.7393016], [63, 14, 1, 0.7279952]], [[54, 1, 1, 0.6671571], [46, 2, 1, 0.7068086], [54, 5, 1, 1.0], [58, 8, 3, 0.6297664]], [[51, 10, 3, 1.0], [53, 12, 2, 0.7153378], [53, 14, 1, 0.83103853]], [[56, 0, 2, 0.5628933], [49, 1, 2, 0.7183785], [60, 2, 2, 1.0], [60, 4, 2, 0.98839766], [49, 9, 3, 0.73126215], [44, 14, 1, 0.46721822]], [[56, 0, 2, 0.51448756], [60, 2, 2, 1.0], [60, 4, 2, 0.98387635], [56, 5, 2, 0.41623116], [49, 10, 2, 0.45079827], [44, 14, 1, 0.43282667]], [[54, 1, 3, 1.0], [60, 4, 1, 0.57725525]], [[49, 3, 4, 0.43567523], [49, 7, 3, 0.82976955], [48, 11, 2, 0.89734733], [49, 13, 3, 1.0]], [[51, 12, 2, 1.0], [49, 14, 1, 0.88823056]], [[53, 8, 1, 0.62586594], [54, 10, 3, 1.0], [56, 12, 2, 0.4846388], [56, 14, 1, 0.7546866]], [[51, 0, 1, 0.3993684], [63, 4, 1, 1.0], [51, 13, 2, 0.65772927]], [[48, 1, 2, 0.610174], [53, 2, 1, 0.95795417], [41, 2, 1, 0.8083598], [49, 5, 1, 1.0]]]\n",
            "One_rhythmD  generate done!\n",
            "info is \n",
            " [[[52, 0, 2, 0.64659905], [55, 2, 2, 0.60714865], [59, 6, 1, 0.34203315], [66, 7, 3, 0.9182856], [64, 12, 2, 0.82814354], [64, 14, 1, 1.0], [52, 14, 1, 0.9498638]], [[59, 4, 2, 0.6857955], [66, 7, 2, 0.51930976], [64, 12, 2, 0.6566471], [64, 14, 1, 0.68602264]], [[55, 1, 1, 0.52958363], [59, 2, 1, 0.4279004], [47, 2, 1, 0.67834157], [55, 5, 1, 1.0]], [[57, 4, 1, 0.5557426], [64, 7, 2, 0.38439342], [57, 8, 1, 0.38021907], [62, 10, 2, 0.33352816], [62, 12, 2, 0.5844379], [62, 14, 1, 0.59974104]], [[55, 1, 1, 0.37013024], [52, 4, 1, 0.5705988], [55, 5, 1, 0.89653397], [59, 9, 4, 1.0], [59, 13, 1, 0.6116886]], [[55, 2, 2, 1.0], [43, 4, 2, 0.7200501], [55, 6, 1, 0.45447975], [49, 14, 1, 0.8786294]], [[52, 5, 1, 0.7327756], [45, 12, 2, 1.0], [43, 13, 2, 0.8983607]], [[52, 1, 3, 1.0], [50, 4, 2, 0.6552998], [50, 8, 3, 0.8332284], [49, 10, 2, 0.65054584]], [[55, 2, 2, 1.0], [43, 4, 2, 0.7362434], [55, 6, 1, 0.4986215], [49, 14, 1, 0.91456085]], [[52, 1, 1, 0.3390471], [57, 2, 2, 1.0], [45, 2, 3, 0.9355163], [45, 5, 2, 0.6955144], [57, 6, 1, 0.49118027]], [[57, 4, 1, 0.60783494], [64, 6, 3, 0.34193256], [57, 8, 1, 0.61791193], [62, 10, 2, 0.38819534], [62, 12, 2, 0.65674263], [62, 14, 1, 0.46759608]], [[59, 4, 2, 0.6343013], [66, 7, 2, 0.78011173], [64, 12, 2, 0.5114004], [64, 14, 1, 0.558415], [52, 14, 1, 0.37958124]], [[55, 1, 2, 0.5253514], [66, 2, 3, 1.0]], [[49, 1, 1, 0.5453295], [54, 2, 1, 0.9692501], [42, 2, 3, 0.8838576], [50, 5, 1, 0.5302528], [42, 5, 2, 0.811122], [54, 6, 1, 0.9476265], [59, 11, 3, 1.0]], [[54, 0, 2, 0.64569336], [57, 1, 2, 0.8518395], [55, 5, 1, 0.9774206], [55, 8, 3, 1.0], [54, 10, 1, 0.6404947]], [[59, 4, 1, 0.5860851], [66, 7, 2, 0.47373238], [64, 10, 2, 0.36549428], [64, 12, 2, 0.73295903], [64, 14, 1, 0.6905694]]]\n",
            "One_rhythmD#  generate done!\n",
            "info is \n",
            " [[[48, 0, 1, 0.5861786], [36, 0, 1, 0.42674026], [46, 3, 2, 0.65860105], [48, 4, 2, 0.6196318], [55, 7, 1, 0.48907736], [50, 7, 3, 0.56413114], [46, 8, 3, 0.6484274], [50, 12, 3, 1.0], [55, 13, 3, 0.8321277], [48, 13, 2, 0.6311363]], [[55, 4, 1, 0.6268631], [62, 7, 2, 0.6183524], [60, 12, 2, 0.4811353], [60, 14, 1, 0.5232367]], [[48, 0, 2, 0.67642254], [51, 3, 1, 0.5517907], [55, 6, 2, 0.41630152], [62, 7, 2, 0.86648446], [60, 12, 2, 0.66440344], [60, 14, 1, 0.84719706], [48, 14, 1, 1.0]], [[48, 0, 1, 0.36290053], [60, 4, 1, 1.0], [48, 13, 2, 0.6064384]], [[43, 2, 2, 0.7243804], [43, 4, 2, 0.6387753], [44, 12, 1, 0.81724507], [39, 14, 2, 1.0]], [[48, 0, 2, 0.6220735], [56, 2, 1, 0.36824706], [51, 3, 1, 0.49889868], [55, 6, 2, 0.59040815], [62, 7, 2, 0.87153655], [60, 12, 2, 0.80339456], [60, 14, 1, 0.9367458], [48, 14, 1, 1.0]], [[51, 1, 1, 0.6083097], [43, 2, 1, 0.69854087], [51, 5, 1, 1.0]], [[53, 4, 1, 0.64422953], [60, 7, 2, 0.59367675], [58, 12, 2, 0.7422826], [58, 14, 1, 0.75293535]], [[48, 0, 2, 1.0], [48, 2, 2, 0.9634167], [48, 4, 1, 0.92543733], [48, 9, 1, 0.7385853]], [[46, 1, 1, 0.58654153], [43, 4, 1, 0.3893677], [46, 5, 1, 0.9461254], [50, 9, 5, 1.0]], [[50, 1, 2, 0.72894293], [55, 2, 1, 1.0], [43, 2, 1, 0.77621484], [51, 5, 1, 0.9997521], [60, 12, 2, 0.9503832]], [[46, 0, 1, 0.49633694], [56, 3, 2, 0.4848985], [58, 4, 2, 0.7903676], [63, 6, 2, 0.34185594], [65, 7, 1, 0.7130472], [67, 9, 2, 0.6131226], [60, 12, 2, 1.0], [65, 13, 2, 0.8693586], [58, 13, 2, 0.80485], [60, 14, 1, 0.8608662], [65, 15, 1, 0.48122954]], [[56, 2, 2, 1.0], [62, 4, 1, 0.60513264], [62, 8, 1, 0.51674294], [67, 10, 2, 0.3411116], [67, 12, 2, 0.5512157], [67, 14, 1, 0.576504]], [[55, 4, 1, 0.555229], [62, 7, 2, 0.45738238], [60, 10, 2, 0.3479295], [60, 12, 2, 0.62981814], [60, 14, 1, 0.65159607]], [[50, 2, 2, 1.0], [38, 2, 2, 0.841895], [38, 4, 3, 0.860434], [50, 6, 1, 0.64236325], [44, 14, 1, 0.4706054]], [[56, 2, 2, 1.0], [63, 4, 2, 0.39681095], [62, 14, 1, 0.66138405]]]\n",
            "One_rhythmE  generate done!\n",
            "info is \n",
            " [[[49, 0, 1, 0.49045515], [37, 0, 1, 0.4562307], [47, 3, 2, 0.66388404], [49, 4, 2, 0.73259175], [56, 7, 1, 0.5530271], [51, 7, 2, 0.42032775], [47, 8, 3, 0.67144436], [57, 9, 1, 0.3899785], [51, 12, 2, 1.0], [56, 13, 3, 0.9771018], [49, 13, 2, 0.6594707], [51, 14, 1, 0.75644684]], [[52, 0, 2, 0.4420261], [45, 1, 2, 0.5354542], [56, 2, 4, 1.0], [59, 3, 2, 0.5598248], [57, 9, 2, 0.5624581], [52, 14, 1, 0.43657666]], [[52, 2, 2, 0.7744806], [49, 5, 2, 0.92234683], [52, 7, 1, 1.0], [49, 14, 1, 0.84495616]], [[52, 1, 1, 0.749104], [49, 4, 1, 0.3497216], [52, 5, 1, 0.9440449], [56, 9, 4, 1.0], [56, 13, 1, 0.47538108]], [[51, 5, 2, 0.39838287], [45, 7, 1, 1.0], [47, 10, 2, 0.50721335], [42, 14, 1, 0.64019203]], [[51, 2, 2, 0.5577884], [51, 4, 2, 0.68330365], [47, 5, 1, 0.59620494], [35, 14, 1, 0.59055716]], [[52, 0, 2, 0.82827556], [52, 6, 1, 0.46870968], [54, 7, 2, 0.961412], [52, 14, 1, 1.0]], [[59, 4, 2, 0.66123456], [66, 7, 2, 0.6004226], [64, 12, 2, 0.52321], [64, 14, 1, 0.56653124]], [[51, 2, 2, 1.0], [39, 2, 3, 0.926768], [39, 5, 2, 0.7797557], [51, 6, 1, 0.5373327]], [[56, 4, 1, 0.5997687], [63, 6, 3, 0.36743522], [61, 12, 2, 0.52793187], [61, 14, 1, 0.3852848]], [[54, 0, 1, 0.7556097], [42, 0, 1, 0.6374768], [44, 1, 2, 0.74957883], [52, 3, 2, 0.6900214], [54, 4, 2, 0.6454657], [42, 6, 1, 0.5158396], [44, 7, 3, 0.8155523], [52, 10, 1, 0.49417487], [56, 12, 3, 0.79392326], [54, 13, 2, 1.0]], [[51, 0, 2, 0.8947223], [51, 2, 2, 0.85599], [51, 4, 1, 0.8212232], [51, 9, 1, 1.0]], [[49, 0, 1, 0.68155974], [37, 0, 1, 0.51140755], [47, 3, 2, 0.7033093], [49, 4, 2, 0.59944946], [37, 6, 1, 0.37063083], [44, 7, 1, 0.33429185], [51, 7, 3, 0.663394], [47, 8, 3, 0.67497987], [51, 12, 3, 1.0], [56, 13, 3, 0.6118611], [49, 13, 2, 0.6869308]], [[52, 1, 1, 0.49972996], [56, 2, 1, 1.0], [44, 2, 1, 0.52514005], [52, 5, 1, 0.80432403], [61, 12, 2, 0.60950583]], [[49, 1, 1, 0.8550459], [52, 3, 1, 0.69774187], [63, 7, 2, 0.8966886], [61, 12, 2, 0.35094807], [61, 14, 1, 0.64952487], [49, 14, 1, 1.0]], [[59, 4, 2, 0.6389665], [66, 7, 2, 0.74955845], [64, 12, 2, 0.5092671], [64, 14, 1, 0.53832114]]]\n",
            "One_rhythmF  generate done!\n",
            "info is \n",
            " [[[55, 4, 1, 0.60276896], [62, 6, 3, 0.35402462], [55, 8, 1, 0.59278476], [60, 10, 2, 0.3815928], [60, 12, 2, 0.6663476], [60, 14, 1, 0.4841057]], [[60, 1, 1, 0.47861767], [60, 6, 2, 0.71370804], [62, 12, 2, 1.0]], [[64, 2, 2, 1.0], [52, 2, 3, 0.35767764], [52, 5, 2, 0.77341783], [64, 6, 1, 0.62136036], [58, 14, 1, 0.97208446]], [[64, 1, 2, 0.6430165], [69, 2, 1, 0.9741798], [57, 2, 1, 0.86786765], [65, 5, 1, 1.0]], [[60, 10, 3, 1.0], [62, 12, 2, 0.7372408], [62, 14, 1, 0.9671406]], [[65, 1, 2, 0.8433223], [64, 4, 1, 1.0], [65, 10, 2, 0.87410307], [65, 12, 1, 0.5404634], [60, 14, 1, 0.72218955]], [[60, 7, 1, 1.0], [62, 10, 2, 0.50928056], [57, 14, 1, 0.643655]], [[60, 8, 1, 1.0]], [[62, 0, 2, 0.702789], [70, 2, 2, 0.3870119], [65, 3, 1, 0.8722908], [69, 6, 1, 0.4026361], [76, 7, 2, 0.7891589], [74, 12, 2, 0.66305697], [74, 14, 1, 0.9363254], [62, 14, 1, 1.0]], [[60, 1, 1, 0.48713347], [60, 5, 1, 1.0], [64, 9, 4, 0.92104876], [64, 13, 1, 0.75301254]], [[60, 0, 2, 0.70627517], [60, 2, 2, 0.74127316], [60, 4, 4, 1.0], [60, 8, 2, 0.68386203]], [[60, 3, 2, 0.74408805], [60, 5, 8, 0.74675], [60, 13, 3, 1.0]], [[60, 0, 1, 0.5027952], [70, 3, 2, 0.35902065], [72, 4, 2, 1.0], [60, 13, 2, 0.80216736]], [[60, 4, 1, 0.3638346], [53, 13, 1, 1.0]], [[60, 10, 3, 1.0], [62, 12, 2, 0.6889469], [62, 14, 1, 0.9647378]], [[60, 0, 2, 0.8820343], [60, 2, 2, 0.8275775], [60, 4, 3, 1.0], [60, 9, 1, 0.88866323]]]\n",
            "One_rhythmF#  generate done!\n",
            "info is \n",
            " [[[49, 0, 1, 1.0], [37, 0, 1, 0.56520796], [39, 1, 2, 0.38568604], [47, 3, 2, 0.6192775], [49, 4, 2, 0.7041854], [37, 6, 1, 0.5644776], [39, 7, 3, 0.8442792], [47, 8, 3, 0.46145388], [51, 12, 3, 0.9588545], [56, 13, 2, 0.36260664], [49, 13, 2, 0.8741733]], [[49, 1, 1, 0.6769927], [41, 2, 1, 0.7369252], [49, 5, 1, 1.0], [53, 8, 2, 0.47984818]], [[49, 0, 1, 0.91449785], [37, 0, 1, 0.5529328], [39, 1, 2, 0.6481319], [56, 6, 2, 0.5037457], [49, 6, 1, 0.5121096], [51, 7, 2, 1.0], [47, 8, 3, 0.35268602], [51, 12, 2, 0.45399836], [49, 13, 2, 0.8133628], [51, 14, 1, 0.43461218]], [[56, 4, 1, 0.62618405], [63, 7, 2, 0.6303783], [61, 12, 2, 0.47513402], [61, 14, 1, 0.510841]], [[59, 2, 2, 1.0], [66, 4, 2, 0.3887387], [59, 4, 2, 0.60961807], [53, 14, 1, 0.5161424]], [[54, 1, 2, 0.49674156], [65, 2, 3, 1.0]], [[49, 6, 2, 0.86729646], [51, 12, 2, 1.0]], [[51, 5, 2, 0.89298683], [42, 14, 2, 1.0]], [[49, 1, 2, 0.87613654], [59, 3, 2, 0.45924324], [49, 9, 2, 0.83485234], [44, 13, 2, 0.5520209]], [[56, 4, 1, 0.5746491], [63, 7, 2, 0.47710487], [61, 10, 2, 0.3414265], [61, 12, 2, 0.6498168], [61, 14, 1, 0.67527825]], [[49, 0, 1, 0.37167367], [47, 3, 2, 0.43541387], [49, 4, 2, 0.55442625], [56, 6, 2, 0.44161087], [58, 10, 1, 0.47632816], [51, 12, 2, 0.761405], [56, 13, 3, 1.0], [49, 13, 2, 0.42893916], [51, 14, 1, 0.50621545]], [[49, 0, 1, 0.5851407], [61, 4, 1, 1.0], [68, 6, 2, 0.80421454], [70, 9, 2, 0.6767831], [61, 13, 2, 0.73984647]], [[49, 1, 1, 0.79220325], [41, 2, 1, 0.3476978], [49, 5, 1, 0.98284495], [53, 9, 4, 1.0], [53, 13, 1, 0.34652603]], [[54, 4, 2, 0.65830916], [61, 7, 2, 0.8359053], [59, 12, 2, 0.67180526], [59, 14, 1, 0.66959834]], [[56, 4, 2, 0.5426512], [63, 7, 2, 0.71398586], [61, 12, 2, 0.49386308], [61, 14, 1, 0.61284137], [49, 14, 1, 0.5498705]], [[49, 0, 2, 0.7434193], [49, 2, 2, 0.7641671], [49, 4, 4, 1.0], [49, 8, 1, 0.6720372]]]\n",
            "One_rhythmG  generate done!\n",
            "info is \n",
            " [[[50, 0, 1, 0.6332169], [38, 0, 1, 0.41509235], [48, 3, 2, 0.647347], [50, 4, 2, 0.59585667], [38, 6, 1, 0.36621505], [45, 7, 1, 0.45963678], [52, 7, 3, 0.5980943], [48, 8, 3, 0.6168385], [52, 12, 3, 1.0], [57, 13, 3, 0.769008], [50, 13, 2, 0.6312715]], [[50, 1, 1, 0.628699], [47, 4, 1, 0.36508653], [50, 5, 1, 0.99092793], [54, 9, 5, 1.0]], [[50, 1, 1, 0.45110935], [57, 4, 2, 0.7694795], [50, 12, 2, 1.0]], [[50, 0, 1, 1.0], [38, 0, 1, 0.65927625], [40, 1, 2, 0.4041066], [48, 3, 2, 0.7263045], [50, 4, 2, 0.6726643], [38, 6, 1, 0.541253], [40, 7, 3, 0.88274], [48, 8, 3, 0.6421313], [52, 12, 3, 0.9927378], [57, 13, 2, 0.33610332], [50, 13, 2, 0.8296182]], [[54, 1, 2, 0.5581467], [42, 2, 2, 0.7146513], [54, 3, 1, 0.49011707], [42, 4, 2, 0.6993743], [43, 12, 1, 0.8478098], [38, 14, 2, 1.0]], [[60, 2, 2, 1.0], [67, 4, 2, 0.79626334], [60, 12, 2, 0.3415635], [54, 14, 1, 0.51091295]], [[50, 2, 2, 0.49836317], [47, 5, 1, 0.6034662], [50, 7, 1, 1.0], [52, 10, 2, 0.395417], [47, 14, 1, 0.7621878]], [[55, 1, 3, 0.5602557], [66, 2, 4, 1.0], [69, 3, 2, 0.3723216], [67, 9, 2, 0.5865742], [62, 14, 1, 0.40304345]], [[50, 0, 1, 0.34526092], [62, 4, 2, 0.54799247], [69, 6, 2, 0.4892504], [71, 9, 2, 0.5867015], [64, 12, 2, 0.34229732], [69, 13, 3, 1.0], [62, 13, 2, 0.50642824], [64, 14, 1, 0.4309149]], [[50, 1, 1, 0.47071055], [57, 4, 2, 0.7906097], [50, 12, 2, 1.0]], [[45, 1, 1, 0.83420306], [48, 3, 1, 0.6726578], [59, 7, 2, 0.8659023], [57, 12, 2, 0.3335352], [57, 14, 1, 0.62868786], [45, 14, 1, 1.0]], [[50, 10, 3, 1.0], [52, 12, 2, 0.7428834], [52, 14, 1, 0.9612711]], [[50, 0, 2, 1.0], [50, 2, 2, 0.96416134], [50, 4, 1, 0.9258353], [50, 9, 1, 0.7459175]], [[50, 0, 1, 0.37701294], [38, 0, 1, 0.46599764], [48, 3, 2, 0.6120761], [50, 4, 2, 0.6755858], [57, 7, 1, 0.51679474], [52, 7, 2, 0.38117087], [48, 8, 3, 0.5822361], [52, 12, 2, 1.0], [57, 13, 3, 0.7236944], [50, 13, 2, 0.709491], [52, 14, 1, 0.76715887]], [[50, 0, 2, 0.49692732], [43, 1, 2, 0.56007725], [54, 2, 2, 1.0], [57, 3, 2, 0.5437724], [54, 4, 2, 0.9901259], [43, 9, 2, 0.56871414], [38, 14, 1, 0.45254362]], [[52, 1, 1, 1.0], [55, 3, 1, 0.3392374], [59, 4, 2, 0.8526875], [66, 7, 2, 0.46347487], [64, 14, 1, 0.69646513], [52, 14, 1, 0.5443586]]]\n",
            "One_rhythmG#  generate done!\n",
            "info is \n",
            " [[[49, 1, 3, 1.0], [55, 4, 1, 0.6476238], [60, 12, 2, 0.7368058], [60, 14, 1, 0.7506015]], [[61, 5, 1, 1.0], [65, 8, 5, 0.88825047], [65, 13, 1, 0.7579769]], [[60, 1, 1, 0.6095269], [70, 2, 3, 0.5334904], [67, 5, 2, 0.5268036], [58, 7, 1, 0.6394185], [60, 9, 3, 0.49175778], [55, 14, 1, 0.5250191]], [[61, 2, 2, 1.0], [49, 4, 2, 0.6935234], [55, 14, 1, 0.63396806]], [[67, 2, 2, 1.0], [55, 4, 2, 0.58649486], [67, 6, 1, 0.67197144], [72, 11, 4, 0.5843131], [61, 14, 1, 0.7325379]], [[60, 1, 1, 0.48457587], [65, 2, 1, 0.6868732], [53, 2, 1, 0.682952], [61, 5, 1, 1.0]], [[56, 2, 2, 0.4456175], [56, 7, 3, 1.0], [55, 11, 2, 0.930157], [56, 13, 3, 0.98383725]], [[61, 2, 2, 0.7314029], [58, 5, 2, 0.94417256], [61, 7, 1, 1.0], [58, 14, 1, 0.9107986]], [[60, 1, 2, 0.663181], [65, 2, 1, 1.0], [53, 2, 1, 0.7353388], [61, 5, 1, 0.9405813], [70, 12, 2, 0.90731573]], [[58, 0, 1, 0.8241027], [46, 0, 1, 0.6610221], [48, 1, 3, 0.8376891], [56, 3, 2, 0.63714045], [58, 4, 2, 0.67206854], [46, 6, 1, 0.54294175], [48, 7, 3, 0.9350432], [56, 8, 3, 0.47388998], [60, 12, 3, 0.65569013], [58, 13, 2, 1.0]], [[60, 0, 2, 0.6668029], [61, 5, 3, 0.78258485], [61, 8, 3, 0.85747784]], [[60, 0, 2, 0.556655], [63, 1, 3, 0.98316383], [61, 4, 2, 0.95116043], [61, 8, 3, 1.0], [60, 10, 2, 0.71644056]], [[61, 1, 2, 0.39171848], [72, 2, 3, 1.0], [60, 4, 1, 0.40276688], [61, 12, 1, 0.33374566], [56, 14, 1, 0.5211124]], [[60, 1, 2, 0.71748203], [65, 2, 1, 0.9589973], [53, 2, 1, 0.7619838], [61, 5, 1, 1.0], [65, 6, 1, 0.4084453], [70, 12, 2, 0.9170534]], [[58, 0, 2, 0.6668348], [61, 2, 2, 0.76844066], [72, 7, 3, 0.94907784], [70, 12, 2, 0.7186481], [68, 13, 1, 0.35810184], [58, 13, 2, 0.8979158], [70, 14, 1, 1.0]], [[60, 0, 2, 0.36162928], [55, 0, 1, 0.5224904], [65, 3, 2, 0.51196504], [67, 4, 2, 1.0], [55, 13, 2, 0.55429167]]]\n",
            "One_rhythmA  generate done!\n",
            "info is \n",
            " [[[52, 0, 1, 0.6000849], [64, 4, 2, 1.0], [71, 6, 2, 0.83210534], [69, 7, 2, 0.41561], [73, 9, 2, 0.7493049], [64, 13, 2, 0.7532861]], [[64, 0, 2, 0.66634697], [64, 2, 2, 0.7262289], [64, 4, 4, 1.0], [64, 8, 2, 0.76748616]], [[62, 1, 2, 0.9086642], [69, 4, 2, 0.9515614], [62, 12, 2, 1.0], [56, 14, 1, 0.4353747]], [[64, 0, 2, 0.8767673], [64, 2, 3, 0.7721911], [64, 5, 3, 1.0], [64, 8, 2, 0.9101791]], [[64, 6, 2, 0.90524286], [66, 12, 2, 1.0]], [[66, 1, 1, 0.9215477], [69, 2, 1, 0.39321938], [80, 7, 2, 1.0], [78, 14, 1, 0.9104052]], [[74, 2, 2, 1.0], [81, 4, 2, 0.978798], [74, 12, 2, 0.75855476], [68, 14, 1, 0.63469476]], [[68, 1, 3, 1.0], [74, 4, 1, 0.49901584]], [[59, 0, 2, 0.61841685], [62, 3, 1, 0.5124686], [66, 6, 1, 0.39601052], [73, 7, 2, 0.8454573], [71, 12, 2, 0.78126985], [71, 14, 1, 0.94279444], [59, 14, 1, 1.0]], [[66, 0, 2, 0.6420568], [69, 2, 2, 0.60150385], [73, 6, 1, 0.376232], [80, 7, 3, 0.90690553], [78, 12, 2, 0.8362378], [78, 14, 1, 1.0], [66, 14, 1, 0.97128123]], [[66, 1, 1, 0.8656803], [69, 3, 1, 0.68265057], [80, 7, 2, 0.8286764], [78, 14, 1, 0.6206725], [66, 14, 1, 1.0]], [[69, 1, 3, 0.9647438], [80, 2, 3, 1.0], [68, 4, 1, 0.3513017], [64, 6, 1, 0.4486407], [69, 9, 2, 0.8267411], [64, 14, 2, 0.639801]], [[68, 5, 1, 0.34155813], [69, 7, 1, 1.0], [71, 7, 1, 0.94583833], [68, 14, 1, 0.60255957]], [[68, 1, 2, 1.0], [74, 4, 2, 0.82262415]], [[64, 0, 1, 0.5251766], [74, 3, 2, 0.47243252], [76, 4, 2, 0.84921014], [81, 6, 2, 0.3608416], [83, 7, 1, 0.796933], [85, 9, 2, 0.709797], [78, 12, 2, 1.0], [83, 13, 2, 0.9210574], [76, 13, 2, 0.8384026], [78, 14, 1, 0.88884884], [83, 15, 1, 0.5168506]], [[64, 9, 1, 0.59768426], [62, 10, 2, 1.0], [64, 14, 1, 0.73805296]]]\n",
            "One_rhythmA#  generate done!\n",
            "info is \n",
            " [[[48, 0, 1, 0.57267714], [60, 4, 1, 1.0], [67, 6, 2, 0.7752325], [69, 9, 2, 0.59663004], [60, 13, 2, 0.73819757]], [[63, 1, 1, 0.65741205], [55, 2, 1, 0.66782403], [63, 5, 1, 1.0], [67, 8, 3, 0.7168504]], [[60, 0, 1, 0.35285503], [72, 4, 2, 0.53371716], [79, 6, 2, 0.48907062], [81, 9, 2, 0.5898459], [79, 13, 3, 1.0], [72, 13, 2, 0.51138484], [74, 14, 1, 0.38743976]], [[63, 1, 1, 0.53894824], [67, 2, 1, 0.4271552], [55, 2, 1, 0.67506546], [63, 5, 1, 1.0]], [[65, 4, 1, 0.64826065], [72, 7, 2, 0.37021482], [65, 8, 1, 0.725374], [70, 10, 2, 0.5720925], [70, 12, 2, 0.6992685], [70, 14, 1, 0.3373677]], [[62, 8, 1, 0.63183945], [63, 10, 3, 1.0], [65, 12, 2, 0.4763259], [65, 14, 1, 0.7518644]], [[67, 4, 2, 0.51784885], [74, 7, 2, 0.93037367], [72, 12, 2, 0.6428345], [72, 14, 1, 0.807699], [60, 14, 1, 1.0]], [[60, 0, 1, 1.0], [48, 0, 1, 0.6311737], [50, 1, 2, 0.43215376], [58, 3, 2, 0.71881837], [60, 4, 2, 0.66097313], [48, 6, 1, 0.51815736], [50, 7, 3, 0.89250284], [58, 8, 3, 0.6452329], [62, 12, 3, 0.97464883], [67, 13, 2, 0.33601844], [60, 13, 2, 0.8108901]], [[60, 1, 3, 1.0], [57, 10, 2, 0.52946], [60, 14, 1, 0.3483259]], [[60, 1, 1, 0.88013345], [63, 2, 2, 0.52621835], [74, 7, 2, 1.0], [72, 14, 1, 0.36964187], [60, 14, 1, 0.9804449]], [[60, 0, 2, 0.82757145], [72, 4, 2, 0.39565718], [60, 6, 1, 0.48062465], [62, 7, 2, 0.9370188], [60, 14, 1, 1.0]], [[65, 0, 2, 0.5532661], [58, 1, 2, 0.6956453], [60, 2, 3, 0.5417207], [69, 2, 2, 1.0], [63, 3, 1, 0.34234396], [69, 4, 2, 0.989095], [58, 9, 2, 0.69953275], [53, 14, 1, 0.46099785]], [[60, 0, 2, 0.86252916], [60, 2, 2, 0.90013516], [60, 4, 2, 1.0], [60, 6, 2, 0.9705197], [60, 8, 1, 0.79439765]], [[60, 2, 2, 0.7623645], [57, 5, 2, 0.908434], [60, 7, 1, 1.0], [57, 14, 1, 0.8385004]], [[67, 0, 2, 0.6803351], [75, 2, 2, 0.43571758], [70, 3, 1, 0.78584224], [74, 6, 1, 0.44159636], [81, 7, 2, 0.796365], [79, 12, 2, 0.68363225], [79, 14, 1, 0.9678277], [67, 14, 1, 1.0]], [[62, 2, 2, 0.6385948], [62, 7, 3, 1.0], [63, 12, 2, 0.7269902], [63, 14, 1, 0.6491633]]]\n",
            "One_rhythmB  generate done!\n",
            "info is \n",
            " [[[49, 0, 1, 0.5749036], [61, 4, 1, 1.0], [68, 6, 2, 0.78017825], [70, 9, 2, 0.6040018], [61, 13, 2, 0.7397374]], [[61, 0, 1, 0.9466431], [49, 0, 1, 0.60718066], [59, 3, 2, 0.7296573], [61, 4, 2, 0.70754004], [68, 6, 2, 0.49394682], [61, 6, 1, 0.5012087], [63, 7, 2, 0.62658554], [59, 8, 3, 0.61782837], [70, 10, 1, 0.4710013], [63, 12, 3, 1.0], [68, 13, 3, 0.86585253], [61, 13, 2, 0.75299907]], [[64, 1, 1, 0.6352995], [61, 4, 1, 0.38154054], [64, 5, 1, 1.0], [68, 9, 5, 0.9657755]], [[64, 1, 2, 0.4839], [71, 4, 2, 1.0], [64, 12, 2, 0.83689165], [58, 14, 1, 0.39311048]], [[63, 1, 1, 0.6361578], [68, 2, 1, 0.9851994], [56, 2, 2, 0.90666115], [64, 5, 1, 1.0]], [[58, 1, 2, 1.0], [46, 2, 2, 0.42464018], [58, 3, 1, 0.813739], [46, 4, 1, 0.53750074], [47, 12, 1, 0.58312327], [42, 14, 1, 0.76050246]], [[66, 0, 2, 0.5546968], [59, 1, 2, 0.64104], [70, 2, 2, 1.0], [70, 4, 2, 0.99108255], [59, 9, 3, 0.7092568], [54, 14, 1, 0.46057746]], [[61, 2, 2, 0.34296608], [58, 5, 1, 0.34163326], [61, 7, 1, 1.0], [63, 10, 2, 0.49414387], [58, 14, 1, 0.656413]], [[68, 4, 1, 0.6259573], [75, 7, 2, 0.56028324], [73, 12, 2, 0.75293064], [73, 14, 1, 0.7514531]], [[61, 0, 2, 0.783022], [71, 3, 2, 0.4050531], [73, 4, 2, 0.57995003], [61, 6, 1, 0.49648386], [63, 7, 1, 0.67091835], [71, 9, 2, 0.42362767], [61, 13, 2, 1.0], [63, 14, 1, 0.4004146]], [[70, 5, 2, 0.39763772], [64, 7, 1, 1.0], [68, 8, 1, 0.34121105], [66, 10, 2, 0.5116894], [61, 14, 1, 0.63836324]], [[61, 0, 2, 1.0], [61, 2, 2, 0.96499014], [61, 4, 1, 0.9222359], [61, 9, 1, 0.93676996]], [[61, 0, 1, 0.5829107], [73, 4, 1, 1.0], [80, 6, 2, 0.76972276], [82, 9, 2, 0.5865145], [73, 13, 2, 0.73538035]], [[64, 1, 3, 1.0], [75, 2, 3, 0.9904744], [63, 4, 1, 0.38295543], [59, 6, 1, 0.46454972], [64, 9, 2, 0.8511079], [59, 14, 2, 0.66779023]], [[61, 1, 1, 0.6056183], [61, 5, 3, 0.55253786], [63, 10, 2, 0.73877317], [63, 12, 2, 0.8908689]], [[64, 1, 2, 1.0], [70, 4, 2, 0.6927605]]]\n",
            "continuing_rhythmC  generate done!\n",
            "info is \n",
            " [[[50, 0, 2, 0.6793629], [53, 3, 1, 0.56216365], [57, 6, 2, 0.44962567], [64, 7, 2, 0.8772378], [62, 12, 2, 0.6761206], [62, 14, 1, 0.86135536], [50, 14, 1, 1.0]], [[57, 4, 2, 0.7148165], [64, 7, 2, 0.5594188], [62, 12, 2, 0.5814762], [62, 14, 1, 0.6185331]], [[50, 0, 1, 0.6250263], [38, 0, 1, 0.608098], [40, 1, 2, 0.79305524], [38, 6, 1, 0.46098655], [40, 7, 3, 1.0], [48, 8, 3, 0.3393271], [38, 13, 2, 0.9166771], [40, 14, 1, 0.36734286], [50, 14, 1, 0.5054065]], [[53, 1, 1, 0.5617441], [57, 2, 1, 0.35088676], [45, 2, 1, 0.6809317], [53, 5, 1, 1.0]], [[50, 0, 1, 1.0], [38, 0, 1, 0.5542753], [40, 1, 2, 0.60594094], [50, 4, 2, 0.70711917], [57, 6, 2, 0.46809563], [50, 6, 1, 0.5390417], [52, 7, 2, 0.98786837], [48, 8, 3, 0.39370507], [52, 12, 3, 0.6991375], [50, 13, 2, 0.84123814]], [[53, 2, 2, 1.0], [41, 4, 2, 0.707152], [53, 6, 1, 0.4105763], [47, 14, 1, 0.83364457]], [[50, 4, 1, 0.47249275], [53, 5, 1, 1.0], [57, 9, 4, 0.8513267], [57, 13, 1, 0.69429433]], [[52, 2, 2, 0.66488683], [52, 4, 2, 0.6262891], [53, 12, 1, 0.85902315], [48, 14, 2, 1.0]], [[50, 0, 1, 0.42096192], [50, 2, 6, 0.7911091], [50, 8, 1, 1.0]], [[50, 0, 1, 0.5003402], [62, 4, 2, 0.79646826], [69, 6, 2, 1.0], [67, 7, 1, 0.4801426], [71, 9, 2, 0.7427466], [69, 13, 2, 0.6377576], [62, 13, 2, 0.67606807], [69, 15, 1, 0.490898]], [[50, 5, 1, 0.5920773], [43, 12, 2, 1.0], [41, 13, 2, 0.8538122]], [[50, 0, 2, 0.7131046], [50, 2, 3, 0.7777032], [50, 5, 3, 1.0], [50, 8, 2, 0.92873836]], [[41, 2, 2, 1.0], [48, 4, 2, 0.778981], [47, 14, 1, 0.53923523]], [[50, 0, 2, 0.8142928], [60, 3, 2, 0.65124595], [62, 4, 2, 0.7955938], [50, 6, 1, 0.5250889], [52, 7, 1, 0.4004724], [60, 9, 2, 0.54241544], [64, 12, 2, 0.34376356], [62, 13, 2, 1.0], [64, 14, 1, 0.5205096]], [[50, 0, 2, 0.73452395], [50, 2, 3, 0.77589935], [50, 5, 3, 1.0], [50, 8, 2, 0.92988884]], [[50, 0, 1, 0.932551], [38, 0, 1, 0.5268521], [48, 3, 2, 0.6348931], [50, 4, 2, 0.65640926], [38, 6, 1, 0.5260709], [40, 7, 3, 0.7808435], [48, 8, 3, 0.48529905], [52, 12, 3, 1.0], [57, 13, 2, 0.48671693], [50, 13, 2, 0.79537374]]]\n",
            "continuing_rhythmC#  generate done!\n",
            "info is \n",
            " [[[51, 0, 1, 0.9967528], [39, 0, 1, 0.6497646], [41, 1, 2, 0.37713805], [49, 3, 2, 0.738654], [51, 4, 2, 0.6748175], [39, 6, 1, 0.52844054], [41, 7, 3, 0.8833918], [49, 8, 3, 0.64648426], [53, 12, 3, 1.0], [58, 13, 2, 0.37024102], [51, 13, 2, 0.8160646]], [[51, 4, 1, 0.53618723], [44, 13, 1, 1.0]], [[51, 0, 2, 0.7435062], [51, 2, 3, 0.7872544], [51, 5, 3, 1.0], [51, 8, 2, 0.93553007]], [[49, 5, 1, 0.56038773], [53, 8, 5, 1.0], [53, 13, 1, 0.86997455]], [[51, 0, 2, 0.8084883], [51, 2, 2, 0.9731001], [51, 4, 2, 0.9918566], [51, 6, 2, 1.0], [51, 8, 1, 0.82974416]], [[42, 2, 2, 1.0], [49, 4, 2, 0.48496518], [48, 14, 1, 0.69317484]], [[51, 1, 4, 0.9809128], [51, 5, 2, 1.0], [51, 14, 2, 0.33694375]], [[54, 2, 2, 1.0], [60, 4, 1, 0.62319046], [60, 8, 1, 0.59038246], [65, 10, 2, 0.35942885], [65, 12, 2, 0.547229], [65, 14, 1, 0.56781036]], [[54, 1, 1, 0.6507379], [46, 2, 1, 0.5646183], [54, 5, 1, 1.0], [58, 8, 3, 0.738388]], [[49, 1, 1, 0.7605104], [46, 4, 1, 0.34033147], [49, 5, 1, 0.9544435], [53, 9, 4, 1.0], [53, 13, 1, 0.43489012]], [[51, 10, 2, 1.0], [53, 12, 2, 0.6579953], [53, 14, 1, 0.5773435]], [[51, 1, 1, 1.0], [58, 4, 2, 0.8278409], [63, 14, 1, 0.5708848], [51, 14, 1, 0.42605063]], [[56, 0, 2, 0.53956014], [49, 1, 1, 0.34825835], [60, 2, 2, 1.0], [60, 4, 2, 0.9908083], [56, 5, 2, 0.40342182], [49, 10, 2, 0.52790284], [44, 14, 1, 0.4401978]], [[54, 1, 3, 1.0], [60, 4, 1, 0.5644437]], [[42, 1, 1, 0.33705273], [49, 4, 2, 1.0], [42, 12, 2, 0.80472535], [36, 14, 1, 0.34945852]], [[53, 1, 3, 1.0], [42, 1, 2, 0.39286175], [41, 4, 1, 0.42851648], [42, 12, 1, 0.3696637], [37, 14, 1, 0.5638605]]]\n",
            "continuing_rhythmD  generate done!\n",
            "info is \n",
            " [[[59, 0, 2, 0.67796737], [67, 2, 1, 0.3802256], [62, 2, 2, 0.6607055], [66, 6, 2, 0.5589184], [73, 7, 3, 0.95055306], [71, 12, 2, 0.80072725], [69, 13, 1, 0.41522545], [59, 13, 2, 1.0], [71, 14, 1, 0.99316806]], [[74, 0, 1, 0.38283005], [86, 4, 1, 0.5536408], [93, 6, 2, 0.5569787], [95, 9, 2, 0.5894379], [93, 13, 3, 1.0], [86, 13, 2, 0.50290793]], [[71, 0, 2, 0.3412784], [66, 0, 1, 0.4031523], [76, 3, 1, 0.41468963], [78, 4, 2, 1.0], [66, 14, 1, 0.4491187]], [[67, 2, 2, 1.0], [55, 2, 3, 0.9058677], [55, 5, 2, 0.81450886], [67, 6, 1, 0.57741755], [61, 14, 1, 0.3344551]], [[78, 4, 2, 0.6027508], [85, 7, 2, 0.66197526], [83, 12, 2, 0.4395241], [83, 14, 1, 0.49212763]], [[73, 5, 1, 0.43316466], [74, 7, 1, 1.0], [76, 7, 1, 0.91933525], [73, 14, 1, 0.61051756]], [[71, 0, 1, 0.3564098], [83, 4, 2, 1.0], [71, 13, 2, 0.59802866]], [[71, 0, 2, 0.7084014], [71, 2, 2, 0.74620855], [71, 4, 4, 1.0], [71, 8, 1, 0.6780495]], [[71, 5, 2, 1.0], [64, 12, 1, 0.577846], [62, 14, 2, 0.9849388]], [[73, 1, 2, 1.0], [61, 2, 2, 0.4012354], [73, 3, 1, 0.76388186], [61, 4, 1, 0.53568715], [62, 12, 1, 0.55712754], [57, 14, 1, 0.7633544]], [[74, 0, 1, 0.51839954], [86, 4, 2, 0.77600855], [93, 6, 2, 1.0], [91, 7, 2, 0.56262094], [95, 9, 2, 0.71790135], [93, 13, 2, 0.42680553], [86, 13, 2, 0.6616514], [93, 15, 1, 0.4241595]], [[74, 1, 1, 0.6752825], [78, 2, 1, 0.99684435], [66, 2, 1, 0.6469811], [74, 5, 1, 1.0], [83, 12, 2, 0.75160724]], [[61, 5, 2, 0.91254], [55, 7, 1, 1.0], [59, 8, 1, 0.58637863], [57, 10, 2, 0.62060905], [54, 12, 1, 0.8909331], [52, 14, 1, 0.88309914]], [[73, 1, 3, 1.0], [79, 4, 1, 0.57216054]], [[69, 0, 1, 1.0], [57, 0, 1, 0.65694547], [59, 1, 2, 0.6333099], [67, 3, 2, 0.68615925], [69, 4, 2, 0.74091625], [76, 6, 2, 0.5161235], [69, 6, 1, 0.5515493], [71, 7, 2, 0.6871408], [67, 8, 3, 0.503847], [78, 10, 1, 0.37829724], [71, 12, 3, 0.90313214], [76, 13, 3, 0.5834982], [69, 13, 2, 0.8304145]], [[78, 4, 1, 0.5572961], [85, 7, 2, 0.5684846], [78, 8, 1, 0.4488363], [83, 10, 2, 0.41703627], [83, 12, 2, 0.6943708], [83, 14, 1, 0.6161165]]]\n",
            "continuing_rhythmD#  generate done!\n",
            "info is \n",
            " [[[48, 0, 2, 0.6530869], [56, 2, 1, 0.3470608], [51, 2, 2, 0.6110267], [55, 6, 2, 0.52706057], [62, 7, 3, 0.9260331], [60, 12, 2, 0.82952327], [48, 13, 2, 1.0], [60, 14, 1, 0.97585833]], [[67, 4, 2, 0.5285281], [74, 7, 2, 0.75773615], [72, 12, 2, 0.54517096], [72, 14, 1, 0.69188005], [60, 14, 1, 0.7147989]], [[60, 0, 2, 0.61179703], [63, 3, 1, 0.547047], [67, 6, 1, 0.38008848], [74, 7, 2, 0.8441968], [72, 12, 2, 0.7667668], [72, 14, 1, 0.93615294], [60, 14, 1, 1.0]], [[60, 0, 2, 0.67582905], [68, 2, 2, 0.42759877], [63, 3, 1, 0.76046765], [67, 6, 1, 0.4677642], [74, 7, 2, 0.791149], [72, 12, 2, 0.68946636], [72, 14, 1, 0.97258335], [60, 14, 1, 1.0]], [[63, 0, 1, 0.57869226], [75, 4, 1, 1.0], [82, 6, 2, 0.80125415], [84, 9, 2, 0.64256513], [75, 13, 2, 0.742566]], [[63, 0, 1, 0.3472388], [75, 4, 2, 0.54160047], [82, 6, 2, 0.47581807], [84, 9, 2, 0.58730125], [77, 12, 2, 0.41149363], [82, 13, 3, 1.0], [75, 13, 2, 0.5039966], [77, 14, 1, 0.43397507]], [[63, 0, 1, 0.37502646], [75, 4, 1, 0.55300075], [82, 6, 2, 0.56741214], [84, 9, 2, 0.58563936], [82, 13, 3, 1.0], [75, 13, 2, 0.4988335]], [[67, 4, 1, 0.59221333], [74, 7, 2, 0.49971128], [67, 8, 1, 0.6480029], [72, 10, 2, 0.48389888], [72, 12, 2, 0.6648861], [72, 14, 1, 0.4129523]], [[65, 0, 1, 0.53758925], [75, 3, 2, 0.49451348], [77, 4, 2, 0.8845794], [82, 6, 2, 0.3833802], [84, 7, 1, 0.8238684], [86, 9, 2, 0.7464016], [79, 12, 2, 1.0], [84, 13, 2, 0.98607194], [77, 13, 2, 0.86508596], [79, 14, 1, 0.92100054], [84, 15, 1, 0.55200917]], [[60, 1, 1, 0.8149679], [63, 3, 1, 0.6381055], [74, 7, 2, 0.8638418], [72, 12, 2, 0.3357551], [72, 14, 1, 0.57572764], [60, 14, 1, 1.0]], [[65, 0, 1, 0.5486894], [75, 3, 2, 0.43585247], [77, 4, 2, 0.9074502], [84, 6, 2, 0.94277996], [82, 6, 2, 0.40057248], [86, 9, 2, 0.8323839], [79, 12, 2, 0.7170115], [84, 13, 2, 1.0], [77, 13, 2, 0.8566319], [79, 14, 1, 0.80609], [84, 15, 1, 0.6049186]], [[63, 0, 1, 0.33445823], [75, 4, 2, 0.5428459], [82, 6, 2, 0.4713158], [84, 9, 2, 0.58421427], [77, 12, 2, 0.55496275], [82, 13, 3, 1.0], [75, 13, 2, 0.4854184], [77, 14, 1, 0.47529384]], [[63, 0, 2, 0.4263301], [67, 2, 2, 1.0], [67, 4, 2, 0.95735824], [63, 5, 2, 0.44257408], [51, 14, 1, 0.41148835]], [[60, 0, 2, 0.6997299], [63, 3, 1, 0.68259573], [74, 7, 2, 0.9383916], [72, 12, 2, 0.7591688], [72, 14, 1, 0.9285039], [60, 14, 1, 1.0]], [[65, 0, 1, 0.4669035], [75, 3, 2, 0.4351817], [77, 4, 2, 0.79845643], [84, 6, 2, 0.7176698], [86, 9, 2, 0.6649527], [79, 12, 2, 0.5389452], [84, 13, 3, 1.0], [77, 13, 2, 0.70204484], [79, 14, 1, 0.60649586]], [[62, 1, 2, 0.53568053], [67, 2, 1, 1.0], [55, 2, 1, 0.573021], [63, 5, 1, 0.83248514], [72, 12, 2, 0.7161001]]]\n",
            "continuing_rhythmE  generate done!\n",
            "info is \n",
            " [[[54, 4, 2, 0.7449187], [61, 7, 2, 0.91658115], [59, 12, 2, 0.6250111], [59, 14, 1, 0.6613395], [47, 14, 1, 0.48569438]], [[47, 10, 2, 1.0], [49, 12, 2, 0.88941944], [49, 14, 1, 0.8015582]], [[51, 2, 2, 1.0], [39, 2, 2, 0.71579903], [39, 4, 3, 0.8631144], [51, 6, 1, 0.6924636], [45, 14, 1, 0.7103796]], [[47, 0, 1, 0.35269776], [59, 4, 2, 0.53475], [66, 6, 2, 0.49510607], [68, 9, 2, 0.59222585], [66, 13, 3, 1.0], [59, 13, 2, 0.5089233], [61, 14, 1, 0.37410393]], [[51, 0, 2, 0.74560946], [54, 1, 1, 0.35797462], [52, 5, 3, 0.88780254], [52, 8, 3, 1.0]], [[57, 2, 2, 1.0], [64, 4, 2, 0.48874047], [63, 14, 1, 0.6807224]], [[51, 5, 3, 0.6490196], [51, 8, 1, 0.8976524], [52, 10, 2, 0.85242635], [52, 12, 3, 1.0]], [[51, 2, 2, 1.0], [39, 4, 2, 0.67001164], [45, 14, 1, 0.59107053]], [[57, 1, 2, 0.5028272], [64, 4, 2, 1.0], [57, 12, 2, 0.84528834], [51, 14, 1, 0.39487258]], [[47, 0, 1, 1.0], [35, 0, 1, 0.6690604], [37, 1, 2, 0.70450646], [45, 3, 2, 0.67317915], [47, 4, 2, 0.73217744], [54, 6, 2, 0.50819457], [47, 6, 1, 0.54875255], [49, 7, 2, 0.6937501], [45, 8, 3, 0.4922909], [56, 10, 1, 0.34045658], [49, 12, 3, 0.9069861], [54, 13, 3, 0.54796654], [47, 13, 2, 0.85227805]], [[54, 4, 2, 0.67391926], [61, 7, 2, 0.66117173], [59, 12, 2, 0.6701741], [59, 14, 1, 0.65807724]], [[47, 1, 1, 0.3746702], [47, 6, 2, 0.7629938], [49, 12, 2, 1.0]], [[51, 1, 2, 0.73596764], [56, 2, 1, 0.95364976], [44, 2, 1, 0.7609943], [52, 5, 1, 1.0], [56, 6, 1, 0.41835117], [61, 12, 2, 0.88062364]], [[47, 0, 1, 0.9481501], [35, 0, 1, 0.6777404], [37, 2, 2, 1.0], [54, 6, 2, 0.6789486], [47, 6, 1, 0.48852473], [49, 7, 2, 0.9176723], [45, 8, 3, 0.37027007], [49, 12, 2, 0.5699079], [54, 13, 2, 0.33534363], [47, 13, 2, 0.8200678], [49, 14, 1, 0.5886273], [47, 14, 1, 0.55109113]], [[47, 0, 2, 0.87688375], [47, 2, 3, 0.7731772], [47, 5, 3, 1.0], [47, 8, 2, 0.9126391]], [[45, 1, 2, 0.9386135], [52, 4, 2, 0.94419456], [45, 12, 2, 1.0], [39, 14, 1, 0.4389168]]]\n",
            "continuing_rhythmF  generate done!\n",
            "info is \n",
            " [[[50, 0, 2, 0.6298842], [53, 3, 1, 0.5304353], [57, 6, 2, 0.5343062], [64, 7, 2, 0.84949505], [62, 12, 2, 0.7244903], [62, 14, 1, 0.88924694], [50, 14, 1, 1.0]], [[50, 0, 2, 0.7245051], [58, 2, 2, 0.36104664], [53, 3, 1, 0.93024325], [57, 6, 1, 0.4186317], [64, 7, 2, 0.80407137], [62, 12, 2, 0.660773], [62, 14, 1, 0.9256232], [50, 14, 1, 1.0]], [[53, 1, 1, 0.66984636], [45, 2, 1, 0.7343261], [53, 5, 1, 1.0]], [[45, 1, 2, 0.5040824], [50, 2, 1, 0.7677554], [38, 2, 1, 0.68213576], [46, 5, 1, 1.0]], [[50, 1, 2, 0.87635416], [60, 4, 1, 0.4445099], [50, 9, 2, 0.8292958], [45, 13, 2, 0.5604297]], [[50, 4, 1, 0.6569861], [43, 13, 1, 1.0]], [[50, 0, 2, 0.78338003], [58, 2, 3, 0.36643612], [53, 3, 1, 0.9717535], [57, 6, 1, 0.44054458], [64, 7, 2, 0.81539536], [62, 12, 2, 0.66764265], [62, 14, 1, 0.9217872], [50, 14, 1, 1.0]], [[57, 4, 2, 0.59989136], [64, 7, 2, 0.6535273], [62, 12, 2, 0.43928775], [62, 14, 1, 0.50089055]], [[52, 1, 2, 0.52278], [57, 2, 1, 1.0], [45, 2, 1, 0.5446308], [53, 5, 1, 0.80028737], [62, 12, 2, 0.6746189]], [[50, 1, 1, 0.9418097], [52, 7, 2, 1.0], [50, 14, 1, 0.9254428]], [[57, 4, 1, 0.60460424], [64, 7, 2, 0.60195076], [62, 10, 2, 0.42016432], [62, 12, 2, 0.7373748], [62, 14, 1, 0.717849]], [[52, 2, 2, 1.0], [40, 5, 2, 0.84914786], [52, 6, 1, 0.89731103], [57, 11, 3, 0.65413344], [46, 14, 1, 0.8515322]], [[53, 2, 2, 0.7663446], [50, 5, 2, 0.953548], [53, 7, 1, 1.0], [50, 14, 1, 0.8586678]], [[53, 1, 1, 0.68932754], [50, 4, 1, 0.415076], [53, 5, 1, 0.85421795], [57, 9, 4, 1.0], [57, 13, 1, 0.65524465]], [[50, 0, 1, 0.67497057], [38, 0, 1, 0.6120287], [40, 1, 2, 0.57768786], [48, 3, 2, 0.73848736], [50, 4, 2, 0.6528116], [38, 6, 1, 0.52277243], [40, 7, 3, 0.7513054], [48, 9, 2, 0.5672483], [52, 12, 3, 0.9074984], [50, 13, 2, 1.0]], [[53, 0, 2, 0.4535142], [57, 2, 2, 1.0], [57, 4, 2, 0.9677226], [53, 5, 2, 0.4392317], [41, 14, 1, 0.4140006]]]\n",
            "continuing_rhythmF#  generate done!\n",
            "info is \n",
            " [[[49, 0, 1, 0.53361285], [59, 3, 2, 0.475536], [61, 4, 2, 0.8595316], [66, 6, 2, 0.37008008], [68, 7, 1, 0.8166433], [70, 9, 2, 0.72581655], [63, 12, 2, 1.0], [68, 13, 2, 0.94057226], [61, 13, 2, 0.85591066], [63, 14, 1, 0.8872377], [68, 15, 1, 0.53797233]], [[68, 0, 1, 0.7187265], [80, 4, 1, 1.0], [68, 13, 2, 0.8730581]], [[68, 0, 2, 0.9699342], [68, 2, 2, 0.93361795], [68, 4, 1, 0.8960524], [68, 9, 1, 1.0]], [[66, 0, 2, 0.47047648], [59, 1, 2, 0.550988], [70, 2, 4, 1.0], [73, 3, 2, 0.57285064], [71, 9, 2, 0.58041596], [66, 14, 1, 0.44475827]], [[71, 1, 1, 0.6739532], [63, 2, 1, 0.7361185], [71, 5, 1, 1.0], [75, 8, 3, 0.59432274]], [[68, 0, 1, 0.6913401], [56, 0, 1, 0.43566388], [66, 3, 2, 0.634216], [68, 4, 2, 0.58864754], [56, 6, 1, 0.40329778], [63, 7, 1, 0.41993776], [70, 7, 3, 0.6408757], [66, 8, 3, 0.5587335], [70, 12, 3, 1.0], [75, 13, 3, 0.7208236], [68, 13, 2, 0.6495755]], [[68, 5, 1, 0.83978325], [61, 12, 2, 1.0], [59, 13, 2, 0.9468765]], [[73, 0, 2, 0.5374321], [66, 1, 2, 0.5775048], [77, 2, 2, 1.0], [77, 4, 2, 0.98961693], [66, 9, 3, 0.68996745], [61, 14, 1, 0.4581912]], [[68, 0, 1, 1.0], [56, 0, 1, 0.6764885], [58, 1, 2, 0.70153695], [66, 3, 2, 0.6320505], [68, 4, 2, 0.7016745], [56, 6, 1, 0.5474716], [58, 7, 3, 0.9477401], [66, 8, 3, 0.5321147], [70, 12, 3, 0.8745334], [68, 13, 2, 0.8617846]], [[68, 1, 4, 0.97557265], [68, 5, 2, 1.0]], [[65, 5, 2, 0.93962383], [59, 7, 1, 0.53320605], [63, 8, 1, 0.5846957], [61, 10, 2, 0.54319394], [58, 12, 2, 1.0], [56, 14, 1, 0.8568809]], [[68, 12, 2, 1.0], [66, 14, 1, 0.943449]], [[75, 0, 2, 0.6284816], [83, 2, 1, 0.35651627], [78, 2, 2, 0.51642203], [82, 6, 2, 0.5905798], [89, 7, 3, 0.8885541], [87, 12, 2, 0.83263016], [87, 14, 1, 0.95666957], [75, 14, 1, 1.0]], [[68, 0, 2, 0.48552623], [78, 2, 2, 0.7276955], [75, 5, 2, 0.72898734], [66, 7, 1, 1.0], [68, 9, 3, 0.41641238], [63, 14, 2, 0.6996191]], [[70, 8, 1, 0.54129505], [71, 10, 3, 1.0], [73, 12, 2, 0.51640946], [73, 14, 1, 0.7959348]], [[68, 0, 1, 0.5034402], [78, 3, 2, 0.35377586], [80, 4, 2, 1.0], [68, 13, 2, 0.8047594]]]\n",
            "continuing_rhythmG  generate done!\n",
            "info is \n",
            " [[[50, 0, 1, 0.5299535], [62, 4, 2, 0.77538985], [69, 6, 2, 1.0], [67, 7, 2, 0.66323644], [71, 9, 2, 0.6422603], [62, 13, 2, 0.6533191]], [[69, 4, 2, 0.68636525], [76, 7, 2, 0.5178589], [74, 12, 2, 0.6613794], [74, 14, 1, 0.692692]], [[72, 2, 2, 1.0], [79, 4, 2, 0.76341164], [78, 14, 1, 0.56770855]], [[66, 2, 2, 1.0], [54, 2, 3, 0.41759285], [54, 5, 2, 0.78838474], [66, 6, 1, 0.65787125], [60, 14, 1, 0.9475389]], [[62, 10, 2, 1.0], [64, 12, 2, 0.6725332], [64, 14, 1, 0.61749774]], [[66, 1, 1, 0.39326224], [71, 2, 2, 1.0], [59, 2, 3, 0.95412946], [67, 5, 1, 0.5177516], [59, 5, 2, 0.630723], [71, 6, 1, 0.47323447]], [[59, 1, 1, 0.6437975], [64, 2, 1, 0.840671], [52, 2, 2, 0.72922367], [60, 5, 1, 1.0], [64, 6, 1, 0.5957869], [69, 11, 3, 0.9117213]], [[59, 1, 1, 0.42612803], [64, 2, 2, 1.0], [52, 2, 3, 0.9541723], [60, 5, 1, 0.6591601], [52, 5, 2, 0.56148803], [64, 6, 1, 0.45083025]], [[62, 0, 1, 0.6467637], [62, 13, 2, 1.0]], [[62, 1, 1, 0.50840527], [62, 6, 2, 0.68359786], [64, 12, 2, 1.0]], [[62, 10, 3, 1.0], [64, 12, 2, 0.6735462], [64, 14, 1, 0.9486661]], [[62, 0, 1, 0.64648324], [74, 4, 2, 0.99384564], [81, 6, 2, 1.0], [79, 7, 2, 0.50480217], [83, 9, 2, 0.98055047], [74, 13, 2, 0.83436394]], [[62, 0, 2, 1.0], [62, 2, 2, 0.96149683], [62, 4, 1, 0.9324893], [62, 9, 1, 0.58910704]], [[67, 4, 1, 0.5738708], [74, 6, 3, 0.40360585], [67, 8, 1, 0.47568417], [72, 10, 2, 0.36330798], [72, 12, 2, 0.69360316], [72, 14, 1, 0.5756846]], [[62, 5, 1, 0.8455481], [66, 8, 5, 1.0], [66, 13, 1, 0.87260246]], [[62, 0, 1, 1.0], [50, 0, 1, 0.6633898], [52, 1, 3, 0.9938741], [62, 4, 2, 0.6332297], [69, 6, 2, 0.6931536], [62, 6, 1, 0.521993], [64, 7, 2, 0.84557295], [60, 8, 3, 0.4000558], [64, 12, 3, 0.7726882], [69, 13, 2, 0.39124545], [62, 13, 2, 0.8237925], [62, 14, 1, 0.4453986]]]\n",
            "continuing_rhythmG#  generate done!\n",
            "info is \n",
            " [[[53, 0, 2, 0.64207053], [61, 2, 1, 0.42411616], [56, 2, 2, 0.5904966], [60, 6, 2, 0.6492739], [67, 7, 3, 0.91437024], [65, 12, 2, 0.86241645], [53, 13, 2, 1.0], [65, 14, 1, 0.9787166]], [[70, 0, 1, 0.42401186], [58, 0, 1, 0.34958678], [68, 3, 2, 0.49341208], [70, 4, 2, 0.5629335], [77, 6, 2, 0.42495656], [79, 10, 1, 0.43465], [72, 12, 2, 0.7988327], [77, 13, 3, 1.0], [70, 13, 2, 0.4393139], [72, 14, 1, 0.5130745]], [[67, 2, 2, 1.0], [55, 2, 3, 0.89994204], [55, 5, 2, 0.84305483], [67, 6, 1, 0.5945741], [61, 14, 1, 0.37870306]], [[70, 0, 1, 0.8779843], [58, 0, 1, 0.5247647], [68, 3, 2, 0.6940331], [70, 4, 2, 0.64525867], [77, 6, 2, 0.4429451], [70, 6, 1, 0.43998504], [72, 7, 2, 0.55574334], [68, 8, 3, 0.62423337], [79, 10, 1, 0.4221211], [72, 12, 3, 1.0], [77, 13, 3, 0.89184964], [70, 13, 2, 0.6799518]], [[65, 1, 1, 0.79686296], [68, 3, 1, 0.58521885], [79, 7, 2, 0.87553793], [77, 14, 1, 0.5344898], [65, 14, 1, 1.0]], [[65, 0, 2, 0.6805932], [73, 2, 2, 0.39914626], [68, 3, 1, 0.8041578], [72, 6, 1, 0.42373198], [79, 7, 2, 0.7953737], [77, 12, 2, 0.66704047], [77, 14, 1, 0.94204897], [65, 14, 1, 1.0]], [[65, 0, 1, 0.7171744], [53, 0, 2, 0.62018454], [55, 2, 2, 1.0], [72, 6, 2, 0.61840415], [65, 6, 1, 0.37056628], [67, 7, 2, 0.87016183], [63, 8, 3, 0.34546214], [67, 14, 1, 0.48476908], [65, 14, 1, 0.679279], [53, 14, 1, 0.69913167]], [[72, 4, 1, 0.61249894], [79, 6, 3, 0.3414265], [72, 8, 1, 0.60904133], [77, 10, 2, 0.3876733], [77, 12, 2, 0.66488063], [77, 14, 1, 0.48300588]], [[65, 0, 1, 0.3730658], [77, 4, 2, 1.0], [65, 14, 1, 0.48327464]], [[65, 0, 1, 0.60380363], [77, 4, 1, 1.0], [65, 13, 2, 0.7423465]], [[55, 2, 2, 1.0], [43, 4, 2, 0.4419719], [55, 6, 1, 0.3365536], [60, 11, 4, 0.5282863], [49, 14, 1, 0.7308128]], [[65, 9, 1, 1.0], [63, 10, 2, 0.87412477], [65, 13, 2, 0.9123955]], [[67, 5, 3, 0.647933], [67, 8, 1, 0.8957287], [68, 10, 2, 0.8517277], [68, 12, 3, 1.0]], [[65, 9, 1, 1.0], [63, 10, 2, 0.9595272], [65, 13, 2, 0.95131993]], [[65, 1, 2, 0.6564233], [65, 3, 2, 0.5298339], [65, 5, 4, 1.0], [65, 12, 3, 0.4940916]], [[65, 0, 2, 0.6457472], [68, 3, 1, 0.66387457], [79, 7, 2, 0.8346972], [77, 12, 2, 0.6819532], [77, 14, 1, 0.87905186], [65, 14, 1, 1.0]]]\n",
            "continuing_rhythmA  generate done!\n",
            "info is \n",
            " [[[52, 0, 1, 0.519938], [64, 4, 2, 0.75693095], [71, 6, 2, 1.0], [69, 7, 2, 0.60468096], [73, 9, 2, 0.6761439], [64, 13, 2, 0.65981257], [71, 15, 1, 0.39325255]], [[73, 1, 1, 0.52264774], [78, 2, 1, 0.97256553], [66, 2, 3, 0.89271253], [74, 5, 1, 0.4089528], [66, 5, 2, 0.8590431], [78, 6, 1, 0.96353], [83, 11, 4, 1.0]], [[74, 1, 1, 0.5814709], [78, 2, 1, 0.33490562], [66, 2, 1, 0.6867299], [74, 5, 1, 1.0]], [[68, 2, 2, 0.67984307], [68, 7, 3, 1.0], [69, 12, 2, 0.64809996], [69, 14, 1, 0.6502814]], [[80, 5, 2, 0.82014066], [74, 7, 1, 0.6044818], [71, 14, 1, 1.0]], [[71, 6, 2, 0.93279755], [73, 10, 2, 0.6486898], [73, 12, 2, 1.0]], [[71, 9, 1, 0.97987705], [69, 10, 2, 0.8397802], [71, 14, 1, 1.0]], [[73, 1, 3, 1.0], [62, 1, 2, 0.39649856], [61, 4, 1, 0.38767245], [62, 12, 1, 0.39487895], [57, 14, 1, 0.6117862]], [[74, 1, 1, 0.40278852], [78, 2, 1, 1.0], [66, 2, 1, 0.49307248], [74, 5, 1, 0.73975974], [83, 12, 2, 0.56025153]], [[68, 2, 2, 0.6511409], [68, 7, 3, 0.95883167], [69, 12, 2, 0.87088585], [69, 14, 1, 1.0]], [[71, 13, 1, 1.0]], [[71, 0, 2, 0.9002034], [71, 2, 2, 0.8632322], [71, 4, 1, 0.82087916], [71, 9, 1, 1.0]], [[68, 2, 2, 1.0], [56, 2, 2, 0.8381869], [56, 4, 3, 0.86757636], [68, 6, 1, 0.63260084], [62, 14, 1, 0.46031877]], [[71, 0, 1, 0.4797124], [59, 0, 1, 0.5611993], [69, 3, 2, 0.86406785], [71, 4, 2, 0.8447294], [59, 6, 1, 0.5467716], [61, 7, 2, 0.38955873], [69, 9, 2, 0.8984626], [73, 12, 2, 0.68430907], [71, 13, 2, 1.0], [73, 14, 1, 0.63604796]], [[74, 1, 1, 0.65318465], [71, 4, 1, 0.40522245], [74, 5, 1, 0.8072585], [78, 9, 4, 1.0], [78, 13, 1, 0.6681687]], [[71, 1, 1, 0.48536286], [78, 4, 2, 0.7896843], [71, 12, 2, 1.0]]]\n",
            "continuing_rhythmA#  generate done!\n",
            "info is \n",
            " [[[48, 0, 1, 0.5376492], [36, 0, 2, 0.72446173], [39, 2, 2, 0.5226191], [43, 6, 1, 0.35144687], [50, 7, 3, 1.0], [48, 12, 2, 0.42962885], [46, 13, 1, 0.5921847], [36, 13, 2, 0.925749], [48, 14, 1, 0.8935475]], [[48, 0, 1, 1.0], [36, 0, 1, 0.65042555], [38, 1, 2, 0.9464737], [48, 4, 2, 0.64439756], [55, 6, 2, 0.6094006], [48, 6, 1, 0.5227915], [50, 7, 2, 0.81065714], [46, 8, 3, 0.39051324], [50, 12, 3, 0.8037709], [55, 13, 2, 0.37943637], [48, 13, 2, 0.83440316], [48, 14, 1, 0.37975597]], [[48, 1, 1, 0.5080972], [48, 6, 2, 0.68691236], [50, 12, 2, 1.0]], [[51, 1, 1, 0.6605579], [43, 2, 1, 0.7285101], [51, 5, 1, 1.0]], [[46, 3, 4, 0.4743774], [46, 7, 3, 0.82673645], [45, 11, 2, 0.8945329], [46, 13, 3, 1.0]], [[55, 4, 1, 0.62019193], [62, 7, 2, 0.6339162], [60, 12, 2, 0.46777242], [60, 14, 1, 0.50778586]], [[51, 5, 1, 0.65384173], [55, 8, 5, 1.0], [55, 13, 1, 0.8603015]], [[51, 2, 2, 1.0], [58, 4, 2, 0.76586926], [51, 12, 2, 0.46454585], [45, 14, 1, 0.64692295]], [[48, 1, 1, 0.96072716], [50, 7, 2, 1.0], [48, 14, 1, 0.9324267]], [[45, 5, 2, 0.472237], [46, 7, 1, 0.49430433], [36, 7, 1, 0.47135854], [33, 14, 1, 0.44550645]], [[51, 1, 3, 1.0], [57, 4, 1, 0.56120193], [57, 8, 1, 0.52721137]], [[48, 0, 1, 0.54237044], [60, 4, 2, 0.79029566], [67, 6, 2, 1.0], [65, 7, 2, 0.67448944], [69, 9, 2, 0.6428519], [60, 13, 2, 0.6650782]], [[48, 0, 2, 0.74792576], [48, 2, 2, 0.7690201], [48, 4, 4, 1.0], [48, 8, 1, 0.6720183]], [[48, 0, 2, 0.7775833], [48, 2, 2, 0.78438807], [48, 4, 4, 1.0], [48, 8, 1, 0.67728186]], [[53, 4, 2, 0.72135055], [60, 7, 2, 0.8928898], [58, 12, 2, 0.6055443], [58, 14, 1, 0.63060397], [46, 14, 1, 0.44346276]], [[51, 1, 3, 1.0], [57, 4, 1, 0.51527786]]]\n",
            "continuing_rhythmB  generate done!\n",
            "info is \n",
            " [[[54, 4, 1, 0.6353433], [61, 7, 2, 0.6450757], [59, 10, 2, 0.363219], [59, 12, 2, 0.7380685], [59, 14, 1, 0.74348503]], [[64, 2, 2, 1.0], [71, 4, 2, 0.9039515], [64, 12, 2, 0.5957107], [58, 14, 1, 0.43940523]], [[63, 2, 2, 0.45641747], [63, 7, 3, 0.7961128], [64, 9, 1, 0.68034995], [64, 14, 1, 1.0]], [[59, 4, 1, 0.5950715], [52, 13, 1, 1.0]], [[59, 1, 1, 0.5512297], [63, 2, 1, 1.0], [51, 2, 1, 0.54629064], [59, 5, 1, 0.84064364], [68, 12, 2, 0.66070634]], [[58, 2, 2, 1.0], [46, 2, 3, 0.5303374], [46, 5, 2, 0.8437389], [58, 6, 1, 0.6933859], [52, 14, 1, 0.88168037]], [[70, 5, 2, 0.42376935], [64, 7, 1, 1.0], [66, 10, 2, 0.5197576], [61, 14, 1, 0.6538738]], [[66, 4, 1, 0.55089664], [73, 7, 2, 0.5545822], [66, 8, 1, 0.5608051], [71, 10, 2, 0.41993597], [71, 12, 2, 0.6752526], [71, 14, 1, 0.53656125]], [[63, 5, 2, 0.8248455], [59, 10, 2, 0.5403318], [56, 12, 2, 1.0], [54, 13, 2, 0.7919291]], [[61, 0, 1, 0.53889185], [49, 0, 2, 0.6785292], [52, 2, 2, 0.6446449], [63, 7, 2, 1.0], [61, 12, 2, 0.45256662], [59, 13, 1, 0.46175858], [49, 13, 2, 0.85990995], [61, 14, 1, 0.88992023]], [[61, 9, 1, 1.0], [59, 10, 2, 0.9440721], [61, 13, 2, 0.9303769]], [[66, 4, 2, 0.69135904], [73, 7, 2, 0.7005819], [71, 12, 2, 0.6610162], [71, 14, 1, 0.6642258]], [[59, 1, 1, 0.7963834], [51, 2, 1, 0.670706], [59, 5, 1, 1.0], [63, 8, 2, 0.47461504], [68, 12, 2, 0.7407137]], [[59, 1, 1, 0.68359953], [56, 4, 1, 0.39702508], [59, 5, 1, 0.84775436], [63, 9, 4, 1.0], [63, 13, 1, 0.6419271]], [[64, 1, 3, 1.0], [70, 4, 1, 0.504244]], [[52, 2, 2, 1.0], [59, 4, 2, 0.3663285], [58, 14, 1, 0.6112663]]]\n",
            "down_leapingC  generate done!\n",
            "info is \n",
            " [[[50, 5, 1, 0.39191815], [43, 12, 2, 1.0], [41, 13, 2, 0.8309657]], [[41, 1, 1, 0.5826758], [48, 4, 2, 0.79595417], [41, 12, 2, 1.0]], [[40, 1, 2, 0.5392106], [45, 2, 1, 0.96217227], [33, 2, 1, 0.73567265], [41, 5, 1, 1.0]], [[41, 0, 1, 0.7173301], [41, 13, 2, 1.0]], [[41, 1, 3, 1.0], [38, 10, 2, 0.46007478], [41, 14, 1, 0.4715202]], [[45, 0, 2, 0.62143743], [48, 2, 2, 0.5101161], [52, 6, 1, 0.3611904], [59, 7, 2, 0.8596586], [57, 12, 2, 0.78622377], [57, 14, 1, 0.9480063], [45, 14, 1, 1.0]], [[41, 8, 1, 1.0]], [[45, 5, 1, 0.6023332], [38, 12, 2, 1.0], [36, 13, 2, 0.86563927]], [[41, 1, 1, 0.42919803], [45, 2, 1, 1.0], [33, 2, 1, 0.49806756], [41, 5, 1, 0.7564778], [50, 12, 2, 0.6027647]], [[41, 2, 2, 0.9605617], [41, 4, 2, 0.96246225], [38, 7, 1, 1.0], [28, 7, 1, 0.6745186]], [[41, 0, 2, 0.8447109], [41, 2, 2, 0.7919558], [41, 4, 3, 1.0], [41, 9, 1, 0.8840566]], [[41, 0, 2, 0.79659796], [41, 2, 2, 0.9493745], [41, 4, 2, 0.95081276], [41, 6, 2, 1.0], [41, 8, 1, 0.80661106]], [[40, 1, 1, 0.60502964], [45, 2, 1, 0.8812572], [33, 2, 3, 0.7980248], [41, 5, 1, 1.0], [33, 5, 1, 0.39749467], [45, 6, 1, 0.76585686], [50, 11, 3, 0.9741889]], [[41, 0, 2, 0.9066854], [41, 2, 2, 0.86264163], [41, 4, 1, 0.82745934], [41, 9, 1, 1.0]], [[41, 1, 1, 0.55020577], [45, 2, 1, 0.41048077], [33, 2, 1, 0.67904484], [41, 5, 1, 1.0]], [[40, 9, 1, 0.90393835], [38, 10, 2, 1.0], [40, 14, 1, 0.831916]]]\n",
            "down_leapingC#  generate done!\n",
            "info is \n",
            " [[[49, 1, 3, 0.5530291], [60, 2, 4, 1.0], [63, 3, 2, 0.38908255], [61, 9, 2, 0.5994459], [56, 14, 1, 0.41016188]], [[60, 2, 2, 1.0], [48, 4, 2, 0.3956536], [53, 11, 4, 0.5270151], [54, 14, 1, 0.74814487]], [[56, 1, 4, 1.0], [56, 5, 2, 0.9641604], [56, 14, 2, 0.36355498]], [[56, 0, 2, 0.33747724], [66, 2, 2, 0.7210962], [63, 5, 2, 0.77336967], [54, 7, 1, 1.0], [56, 9, 3, 0.39647743], [51, 14, 2, 0.72965723]], [[56, 0, 1, 0.37286478], [68, 4, 2, 1.0], [56, 14, 1, 0.47739336]], [[56, 1, 4, 0.94292355], [56, 5, 2, 1.0]], [[53, 3, 2, 0.47329593], [53, 5, 3, 0.5526155], [53, 8, 2, 1.0], [54, 10, 2, 0.79824317], [54, 12, 2, 0.87705266]], [[56, 1, 1, 0.929411], [63, 4, 2, 0.5790864], [70, 7, 2, 0.92728364], [68, 12, 2, 0.6611466], [68, 14, 1, 0.7987524], [56, 14, 1, 1.0]], [[56, 1, 1, 0.82994837], [48, 2, 1, 0.6373046], [56, 5, 1, 1.0], [60, 9, 2, 0.89906454], [65, 12, 2, 0.5140486]], [[46, 0, 1, 0.55250245], [34, 0, 1, 0.38040143], [44, 3, 2, 0.5794381], [46, 4, 2, 0.57385004], [53, 6, 2, 0.40002716], [54, 9, 1, 0.38255575], [44, 9, 2, 0.5159451], [48, 12, 3, 0.88816684], [53, 13, 3, 1.0], [46, 13, 2, 0.48568177]], [[56, 0, 1, 0.6359679], [44, 0, 2, 0.71100914], [46, 2, 1, 0.538185], [44, 6, 1, 0.33832324], [46, 7, 3, 1.0], [54, 13, 1, 0.5975442], [44, 13, 2, 0.8756776], [56, 14, 1, 0.7902139]], [[60, 5, 3, 0.78660125], [60, 8, 3, 0.860511], [61, 12, 3, 1.0]], [[58, 0, 2, 0.62104964], [66, 2, 1, 0.40332446], [61, 2, 2, 0.49772245], [65, 6, 2, 0.61323667], [72, 7, 2, 0.8765276], [70, 12, 2, 0.8299639], [70, 14, 1, 0.9487036], [58, 14, 1, 1.0]], [[56, 1, 3, 0.8558583], [66, 4, 1, 0.34270445], [63, 6, 1, 0.39434117], [56, 9, 2, 0.7305339], [51, 13, 2, 0.58331394]], [[56, 1, 1, 0.7219096], [66, 3, 2, 0.58515865], [63, 5, 2, 0.5091109], [56, 9, 4, 0.6143969], [51, 14, 1, 0.5315613]], [[56, 1, 1, 0.98202467], [58, 7, 2, 1.0], [56, 14, 1, 0.92145663]]]\n",
            "down_leapingD  generate done!\n",
            "info is \n",
            " [[[50, 1, 3, 0.5831302], [61, 2, 3, 1.0], [50, 9, 3, 0.4484854]], [[52, 1, 1, 0.81123173], [55, 3, 1, 0.63922185], [66, 7, 2, 0.86781436], [64, 12, 2, 0.33702657], [64, 14, 1, 0.5771441], [52, 14, 1, 1.0]], [[50, 0, 1, 0.6735579], [50, 2, 2, 0.74497485], [50, 4, 4, 1.0], [50, 8, 2, 0.8837826]], [[47, 0, 1, 0.49646074], [35, 0, 1, 0.45047638], [45, 3, 2, 0.6620473], [47, 4, 2, 0.7125521], [54, 7, 1, 0.5423374], [49, 7, 2, 0.4377653], [45, 8, 3, 0.66219765], [55, 9, 1, 0.38162225], [49, 12, 2, 1.0], [54, 13, 3, 0.9350535], [47, 13, 2, 0.6521275], [49, 14, 1, 0.73839283]], [[57, 4, 1, 0.63110775], [64, 7, 2, 0.61741626], [62, 12, 2, 0.49220663], [62, 14, 1, 0.53432643]], [[55, 1, 3, 1.0], [61, 4, 1, 0.58086383]], [[50, 0, 2, 0.81262726], [50, 2, 2, 0.91374904], [50, 4, 2, 0.8744792], [50, 6, 2, 1.0], [50, 8, 1, 0.8070408]], [[49, 2, 2, 1.0], [37, 4, 2, 0.39996842], [49, 6, 1, 0.34413987], [54, 11, 4, 0.52415574], [43, 14, 1, 0.751862]], [[50, 1, 1, 1.0], [57, 4, 2, 0.8463311], [62, 14, 1, 0.44512942]], [[54, 1, 2, 0.69830173], [59, 2, 1, 1.0], [47, 2, 1, 0.74850494], [55, 5, 1, 0.9791874], [64, 12, 2, 0.9484355]], [[49, 2, 2, 1.0], [37, 4, 2, 0.48710173], [49, 6, 1, 0.46785057], [54, 11, 4, 0.5422022], [43, 14, 1, 0.75990343]], [[55, 1, 3, 1.0], [61, 4, 1, 0.5490072]], [[50, 1, 1, 0.6073762], [47, 4, 1, 0.57065195], [50, 5, 1, 0.8627664], [54, 9, 4, 1.0], [54, 13, 1, 0.72636896]], [[50, 1, 3, 1.0], [47, 10, 2, 0.49230695], [50, 14, 1, 0.4197106]], [[52, 5, 2, 0.97065157], [43, 14, 2, 1.0]], [[52, 5, 1, 0.92219174], [45, 12, 2, 0.96027035], [43, 13, 2, 1.0]]]\n",
            "down_leapingD#  generate done!\n",
            "info is \n",
            " [[[48, 2, 2, 0.62949723], [48, 4, 2, 0.73162055], [44, 5, 1, 0.6270477], [32, 14, 1, 0.6126759]], [[34, 0, 2, 0.8131913], [44, 3, 2, 0.7087484], [46, 4, 2, 0.8600576], [34, 6, 1, 0.51943696], [36, 7, 1, 0.36515456], [44, 9, 2, 0.587616], [48, 12, 2, 0.37956515], [46, 13, 2, 1.0], [48, 14, 1, 0.548362]], [[32, 2, 2, 1.0], [38, 4, 1, 0.5499314], [43, 10, 2, 0.34396374], [43, 12, 2, 0.6274391], [43, 14, 1, 0.64821446]], [[32, 10, 3, 1.0], [34, 12, 2, 0.7487047], [34, 14, 1, 0.81238294]], [[32, 0, 2, 0.8335655], [32, 6, 1, 0.4417313], [34, 7, 2, 0.9912712], [32, 14, 1, 1.0]], [[32, 1, 2, 0.69191116], [32, 3, 2, 0.5364977], [32, 5, 4, 1.0], [32, 12, 3, 0.6195448]], [[32, 1, 2, 0.8741968], [43, 2, 3, 1.0], [32, 9, 2, 0.8167978], [27, 13, 2, 0.5501135]], [[32, 6, 2, 0.87159365], [34, 12, 2, 1.0]], [[32, 1, 2, 0.81556046], [32, 3, 2, 0.4981451], [32, 5, 3, 1.0]], [[32, 1, 2, 0.7185096], [32, 3, 2, 0.5020335], [32, 5, 3, 1.0], [32, 12, 3, 0.40955994]], [[32, 2, 2, 0.7172401], [29, 5, 2, 0.9312786], [32, 7, 1, 1.0], [29, 14, 1, 0.878676]], [[32, 5, 1, 0.84228027], [36, 8, 5, 1.0], [36, 13, 1, 0.87524354]], [[32, 10, 3, 1.0], [34, 12, 2, 0.71966785], [34, 14, 1, 0.8327958]], [[32, 0, 2, 0.861604], [32, 2, 2, 0.92466486], [32, 4, 2, 0.97541356], [32, 6, 2, 1.0], [32, 8, 1, 0.81804866]], [[38, 2, 2, 0.96106076], [26, 2, 3, 0.67367077], [26, 5, 2, 1.0], [38, 6, 2, 0.9970013], [41, 10, 2, 0.3334932], [43, 11, 3, 0.80110407], [32, 14, 1, 0.7379436]], [[32, 1, 1, 0.8418425], [31, 6, 1, 0.36286914], [31, 14, 1, 0.97032136]]]\n",
            "down_leapingE  generate done!\n",
            "info is \n",
            " [[[52, 1, 2, 0.49965182], [63, 2, 3, 1.0]], [[59, 1, 1, 0.6422349], [51, 2, 1, 0.7137957], [59, 5, 1, 1.0]], [[63, 0, 2, 0.9192821], [63, 2, 2, 0.86063313], [63, 4, 3, 1.0], [63, 9, 1, 0.89300746]], [[68, 4, 1, 0.55484945], [75, 7, 2, 0.57312185], [68, 8, 1, 0.45289332], [73, 10, 2, 0.41242725], [73, 12, 2, 0.70226157], [73, 14, 1, 0.6169973]], [[64, 1, 1, 0.50364226], [61, 4, 1, 0.4122865], [64, 5, 1, 0.854265], [68, 9, 4, 1.0], [68, 13, 1, 0.4265181]], [[71, 4, 2, 0.60456795], [78, 7, 2, 0.6603704], [76, 12, 2, 0.4435805], [76, 14, 1, 0.5032658]], [[66, 0, 1, 1.0], [54, 0, 1, 0.5777592], [56, 1, 2, 0.564906], [64, 3, 2, 0.5394274], [66, 4, 2, 0.73889005], [73, 6, 2, 0.3847231], [66, 6, 1, 0.54755247], [68, 7, 3, 0.9235453], [64, 8, 3, 0.42512682], [68, 12, 3, 0.8605437], [66, 13, 2, 0.91202193]], [[71, 4, 1, 0.6005938], [78, 7, 2, 0.51265615], [76, 10, 2, 0.3531526], [76, 12, 2, 0.7499891], [76, 14, 1, 0.7230656]], [[64, 10, 2, 1.0], [66, 12, 2, 0.48562872], [66, 14, 1, 0.57118195]], [[63, 0, 2, 0.85825783], [63, 2, 2, 0.886449], [63, 4, 2, 1.0], [63, 6, 2, 0.9541114], [63, 8, 1, 0.7802125]], [[63, 1, 4, 1.0], [52, 1, 2, 0.37816426], [51, 4, 1, 0.44621456], [52, 12, 1, 0.41402674], [47, 14, 1, 0.61708754]], [[66, 0, 1, 0.5210732], [54, 0, 1, 0.6239426], [56, 2, 2, 0.766167], [54, 6, 1, 0.48069784], [56, 7, 3, 1.0], [64, 13, 1, 0.34695455], [54, 13, 2, 0.9255702], [66, 14, 1, 0.61356544]], [[69, 1, 2, 0.48348415], [76, 4, 2, 1.0], [69, 12, 2, 0.8448714], [63, 14, 1, 0.3752451]], [[64, 1, 3, 0.8397107], [75, 2, 3, 1.0], [71, 6, 1, 0.3818123], [64, 9, 2, 0.7220794], [59, 13, 2, 0.5729833]], [[64, 0, 1, 0.761798], [52, 0, 1, 0.5973009], [54, 1, 2, 0.60009015], [63, 4, 2, 0.436651], [52, 6, 1, 0.40286306], [54, 7, 2, 1.0], [52, 13, 2, 0.8006019], [54, 14, 1, 0.3532302], [64, 14, 1, 0.5265882]], [[66, 0, 2, 0.6447552], [68, 2, 1, 0.7559702], [66, 6, 1, 0.38405338], [68, 7, 3, 1.0], [78, 12, 2, 0.44571212], [76, 13, 1, 0.4037854], [66, 13, 2, 0.8926225], [78, 14, 1, 0.82113916]]]\n",
            "down_leapingF  generate done!\n",
            "info is \n",
            " [[[53, 1, 2, 0.5346313], [64, 2, 3, 1.0]], [[62, 0, 1, 1.0], [50, 0, 1, 0.55547696], [52, 1, 2, 0.5889526], [62, 4, 2, 0.72867155], [69, 6, 2, 0.43293986], [62, 6, 1, 0.537788], [64, 7, 2, 0.9710476], [60, 8, 3, 0.40050864], [64, 12, 3, 0.75877], [62, 13, 2, 0.8628271]], [[67, 0, 1, 0.6709939], [55, 0, 1, 0.42910454], [65, 3, 2, 0.63542145], [67, 4, 2, 0.5863874], [74, 6, 2, 0.4038477], [69, 7, 2, 0.41961232], [65, 9, 2, 0.6251342], [76, 10, 1, 0.37326664], [69, 12, 3, 0.97277236], [74, 13, 3, 1.0], [67, 13, 2, 0.54893345]], [[64, 8, 1, 1.0]], [[64, 0, 2, 0.36089414], [64, 5, 2, 0.45035276], [65, 7, 1, 0.3841337], [55, 7, 1, 0.45295635], [52, 14, 1, 0.42207327]], [[65, 1, 1, 0.59193724], [69, 2, 1, 1.0], [57, 2, 1, 0.5773308], [65, 5, 1, 0.8887084], [74, 12, 2, 0.7169652]], [[62, 0, 2, 0.8257243], [72, 3, 2, 0.6823521], [74, 4, 2, 0.846318], [62, 6, 1, 0.52508384], [64, 7, 1, 0.35431916], [72, 9, 2, 0.5430565], [76, 12, 2, 0.37304726], [74, 13, 2, 1.0], [76, 14, 1, 0.533347]], [[64, 4, 2, 1.0], [57, 13, 1, 0.8008463]], [[58, 1, 2, 0.54315984], [69, 2, 3, 1.0]], [[64, 0, 2, 0.8219845], [64, 2, 2, 0.7695248], [64, 4, 3, 1.0], [64, 9, 1, 0.8784827]], [[64, 1, 2, 0.5824442], [69, 2, 1, 1.0], [57, 2, 1, 0.65995497], [65, 5, 1, 0.9105066], [74, 12, 2, 0.86796457]], [[64, 0, 2, 0.9100074], [64, 2, 2, 0.87427264], [64, 4, 1, 0.8413618], [64, 9, 1, 1.0]], [[64, 1, 1, 0.6209384], [69, 2, 1, 0.92452013], [57, 2, 3, 0.81228405], [65, 5, 1, 0.9878935], [57, 5, 1, 0.44783908], [69, 6, 1, 0.797153], [74, 11, 3, 1.0]], [[72, 4, 2, 0.75956297], [79, 7, 2, 0.95819324], [77, 12, 2, 0.632246], [77, 14, 1, 0.69072396], [65, 14, 1, 0.61689967]], [[64, 0, 1, 0.6275148], [76, 4, 1, 0.34866816], [64, 13, 2, 1.0]], [[64, 2, 2, 1.0], [52, 2, 3, 0.88268155], [52, 5, 2, 0.8354319], [64, 6, 1, 0.55151457], [58, 14, 1, 0.38174626]]]\n",
            "down_leapingF#  generate done!\n",
            "info is \n",
            " [[[54, 1, 2, 0.40858382], [65, 2, 3, 1.0], [53, 4, 1, 0.33884192], [49, 14, 1, 0.42247176]], [[49, 1, 1, 0.6438252], [41, 2, 1, 0.43900207], [46, 4, 1, 0.3417774], [49, 5, 1, 1.0], [53, 9, 5, 0.9197817]], [[53, 2, 2, 0.6567128], [53, 7, 3, 1.0], [54, 12, 2, 0.8753785], [54, 14, 1, 0.8986041]], [[53, 5, 3, 0.77126324], [53, 8, 3, 0.8446381], [54, 12, 3, 1.0]], [[53, 1, 1, 0.4763477], [58, 2, 1, 0.6443358], [46, 2, 1, 0.66833377], [54, 5, 1, 1.0]], [[47, 2, 2, 0.35337296], [47, 7, 3, 0.8799208], [46, 11, 2, 0.90815556], [47, 13, 3, 1.0]], [[49, 5, 1, 0.9629459], [53, 8, 5, 1.0], [53, 13, 1, 0.8824702]], [[49, 0, 2, 0.84049577], [49, 6, 1, 0.42541498], [51, 7, 2, 0.9995904], [49, 14, 1, 1.0]], [[49, 6, 2, 0.8831265], [51, 12, 2, 1.0]], [[49, 0, 2, 1.0], [49, 2, 2, 0.9330413], [49, 4, 2, 0.9517193], [49, 9, 1, 0.9945296]], [[46, 1, 2, 0.69722384], [34, 2, 2, 0.7145556], [46, 3, 1, 0.60432136], [34, 4, 2, 0.7327476], [35, 12, 1, 0.8689469], [30, 14, 2, 1.0]], [[54, 1, 3, 0.57945275], [65, 2, 4, 1.0], [54, 9, 3, 0.54816645], [49, 14, 1, 0.37299043]], [[49, 0, 2, 0.8310847], [49, 2, 3, 0.7726595], [49, 5, 3, 1.0], [49, 8, 2, 0.92156076]], [[49, 1, 1, 0.70194566], [46, 4, 1, 0.40074882], [49, 5, 1, 0.88705647], [53, 9, 4, 1.0], [53, 13, 1, 0.6220486]], [[53, 2, 2, 0.60273784], [53, 4, 2, 0.6071747], [54, 12, 1, 0.86422837], [49, 14, 2, 1.0]], [[49, 0, 1, 0.52297944], [61, 4, 2, 0.7707308], [68, 6, 2, 1.0], [66, 7, 2, 0.5475465], [70, 9, 2, 0.7181191], [68, 13, 2, 0.4693583], [61, 13, 2, 0.676098], [68, 15, 1, 0.44289255]]]\n",
            "down_leapingG  generate done!\n",
            "info is \n",
            " [[[50, 0, 2, 0.5551021], [43, 1, 2, 0.7184508], [54, 2, 2, 1.0], [54, 4, 2, 0.98746103], [43, 9, 3, 0.7218921], [38, 14, 1, 0.4678249]], [[45, 4, 1, 0.57548195], [52, 7, 2, 0.53540015], [45, 8, 1, 0.6227827], [50, 10, 2, 0.4544355], [50, 12, 2, 0.6699983], [50, 14, 1, 0.45084193]], [[38, 1, 4, 0.93725497], [38, 5, 2, 1.0]], [[42, 5, 3, 0.81951106], [42, 8, 3, 0.90764534], [43, 12, 3, 1.0]], [[38, 1, 1, 0.34130096], [45, 4, 1, 0.6603363], [38, 13, 1, 1.0]], [[42, 1, 3, 1.0], [48, 4, 1, 0.54361403]], [[38, 1, 3, 1.0], [36, 3, 3, 0.35303712], [36, 8, 1, 0.38379484], [35, 10, 2, 0.5640074]], [[38, 0, 2, 0.83257955], [48, 3, 2, 0.73058474], [50, 4, 2, 0.9337941], [38, 6, 1, 0.52635425], [48, 9, 2, 0.5450797], [52, 12, 2, 0.38125786], [50, 13, 2, 1.0], [52, 14, 1, 0.5615166]], [[38, 1, 1, 0.86892325], [38, 5, 1, 1.0]], [[43, 1, 3, 0.57460505], [54, 2, 4, 1.0], [57, 3, 2, 0.3521681], [55, 9, 2, 0.5681135], [50, 14, 1, 0.39038128]], [[40, 5, 1, 0.7762798], [36, 10, 2, 0.5177054], [33, 12, 2, 1.0], [31, 13, 2, 0.7998245]], [[38, 10, 2, 0.8287319], [40, 12, 3, 1.0]], [[38, 1, 1, 0.42801476], [38, 6, 2, 0.7287619], [40, 12, 2, 1.0]], [[42, 1, 3, 1.0], [48, 4, 1, 0.6092965], [48, 8, 1, 0.60387623]], [[38, 0, 1, 0.61590356], [50, 4, 2, 0.9255635], [57, 6, 2, 1.0], [55, 6, 3, 0.45561752], [59, 9, 2, 0.98622745], [57, 13, 2, 0.47208372], [50, 13, 2, 0.8158242], [57, 15, 1, 0.4051185]], [[42, 2, 2, 0.9933618], [30, 2, 3, 0.5676265], [30, 5, 2, 1.0], [42, 6, 2, 0.98706776], [47, 11, 3, 0.7641358], [36, 14, 1, 0.8226757]]]\n",
            "down_leapingG#  generate done!\n",
            "info is \n",
            " [[[58, 0, 1, 0.35086873], [55, 5, 2, 0.64404166], [60, 6, 2, 0.46736676], [49, 7, 1, 1.0], [46, 14, 1, 0.88818234]], [[51, 4, 2, 0.60653543], [58, 7, 2, 0.65626556], [56, 12, 2, 0.44262472], [56, 14, 1, 0.5042851]], [[46, 0, 1, 0.4163153], [34, 0, 1, 0.356902], [44, 3, 2, 0.49107003], [46, 4, 2, 0.56709373], [53, 6, 2, 0.42739755], [55, 10, 1, 0.4252583], [48, 12, 3, 0.80203736], [53, 13, 3, 1.0], [46, 13, 2, 0.4423519]], [[53, 4, 1, 0.61913335], [60, 7, 2, 0.6350159], [58, 12, 2, 0.45904526], [58, 14, 1, 0.4948577]], [[51, 0, 2, 0.36393738], [44, 1, 2, 0.54002887], [55, 2, 4, 1.0], [58, 3, 2, 0.46014535], [56, 9, 2, 0.5766354], [51, 14, 1, 0.42601672]], [[46, 0, 2, 1.0], [46, 2, 2, 0.9677073], [46, 4, 1, 0.93247145]], [[44, 1, 3, 0.58012456], [55, 2, 4, 1.0], [44, 9, 3, 0.5791555], [39, 14, 1, 0.38738143]], [[49, 1, 3, 1.0], [48, 4, 1, 0.7284629], [44, 6, 1, 0.42681012], [49, 9, 4, 0.97469556], [44, 14, 2, 0.6657408]], [[46, 0, 2, 0.80808437], [46, 2, 2, 0.9476978], [46, 4, 2, 0.9094062], [46, 6, 2, 1.0], [46, 8, 1, 0.8101622]], [[46, 3, 3, 0.5991397], [46, 6, 3, 0.7111967], [46, 13, 3, 1.0]], [[49, 1, 3, 0.5777007], [60, 2, 3, 1.0], [49, 10, 2, 0.38924542]], [[46, 0, 1, 0.55347615], [58, 4, 2, 0.7881903], [65, 6, 2, 1.0], [63, 7, 2, 0.6571381], [67, 9, 2, 0.65720165], [58, 13, 2, 0.67948616]], [[51, 0, 2, 0.5545117], [44, 1, 2, 0.6913208], [55, 2, 2, 1.0], [55, 4, 2, 0.9884872], [44, 9, 3, 0.72268504], [39, 14, 1, 0.4650002]], [[53, 4, 1, 0.5834098], [60, 7, 2, 0.5262702], [53, 8, 1, 0.62975276], [58, 10, 2, 0.46409982], [58, 12, 2, 0.6603187], [58, 14, 1, 0.42566347]], [[51, 0, 2, 0.55376863], [44, 1, 2, 0.71470517], [55, 2, 2, 1.0], [55, 4, 2, 0.98726916], [44, 9, 3, 0.7244471], [39, 14, 1, 0.46558478]], [[46, 0, 1, 0.37296057], [56, 3, 1, 0.35831913], [58, 4, 2, 1.0], [46, 14, 1, 0.46585253]]]\n",
            "down_leapingA  generate done!\n",
            "info is \n",
            " [[[52, 0, 2, 0.5485087], [45, 1, 2, 0.7020554], [56, 2, 2, 1.0], [56, 4, 2, 0.9885523], [45, 9, 3, 0.7262208], [40, 14, 1, 0.46503335]], [[40, 0, 1, 0.8386926], [28, 0, 1, 0.48851424], [38, 3, 2, 0.6274439], [40, 4, 2, 0.6187604], [28, 6, 1, 0.4740257], [30, 7, 3, 0.73234856], [38, 8, 3, 0.5054], [42, 12, 3, 1.0], [47, 13, 2, 0.57247937], [40, 13, 2, 0.7265067]], [[40, 0, 2, 0.84192854], [40, 2, 2, 0.91555095], [40, 4, 2, 0.9440007], [40, 6, 2, 1.0], [40, 8, 1, 0.8121233]], [[37, 1, 2, 0.5254486], [42, 2, 1, 0.87065], [30, 2, 1, 0.6841122], [38, 5, 1, 1.0]], [[40, 1, 2, 0.8190034], [40, 3, 2, 0.5007208], [40, 5, 3, 1.0]], [[40, 0, 2, 1.0], [40, 2, 2, 0.9639389], [40, 4, 1, 0.9326192]], [[38, 2, 2, 1.0], [38, 4, 2, 0.9214083], [35, 7, 1, 0.61247957], [25, 7, 1, 0.49695846]], [[40, 1, 1, 0.58434], [40, 5, 3, 0.5656357], [42, 10, 2, 0.70854187], [42, 12, 2, 0.89026296]], [[47, 4, 1, 0.3990289], [54, 7, 2, 0.9114548], [52, 12, 2, 0.6354056], [52, 14, 1, 0.8055466], [40, 14, 1, 1.0]], [[40, 6, 2, 0.8723123], [42, 12, 2, 1.0]], [[40, 6, 3, 1.0], [42, 10, 4, 0.8940125], [44, 14, 1, 0.45233232]], [[40, 0, 1, 0.39344925], [50, 3, 1, 0.40943077], [52, 4, 2, 1.0], [40, 14, 1, 0.45052776]], [[40, 0, 1, 0.45657444], [50, 3, 2, 0.5023234], [52, 4, 2, 0.7662843], [59, 6, 2, 0.61053586], [61, 9, 2, 0.533781], [54, 12, 2, 0.74841213], [59, 13, 3, 1.0], [52, 13, 2, 0.6694163], [54, 14, 1, 0.6596048]], [[40, 1, 4, 0.9443294], [40, 5, 2, 1.0]], [[32, 2, 2, 0.9589268], [20, 2, 3, 0.64372975], [20, 5, 2, 1.0], [32, 6, 2, 0.984502], [37, 11, 3, 0.7706482], [26, 14, 1, 0.7335123]], [[50, 2, 2, 0.99300694], [57, 4, 2, 1.0], [50, 12, 2, 0.7789066], [44, 14, 1, 0.63347685]]]\n",
            "down_leapingA#  generate done!\n",
            "info is \n",
            " [[[51, 1, 2, 0.4831045], [62, 2, 3, 1.0], [58, 14, 1, 0.34482464]], [[58, 1, 1, 0.376787], [55, 4, 1, 0.5636202], [58, 5, 1, 0.90192753], [62, 9, 4, 1.0], [62, 13, 1, 0.6074109]], [[65, 0, 2, 0.53423953], [58, 1, 2, 0.67468846], [60, 2, 3, 0.4917447], [69, 2, 2, 1.0], [63, 3, 1, 0.33845714], [69, 4, 2, 0.9882159], [58, 9, 2, 0.67402476], [53, 14, 1, 0.45976958]], [[58, 0, 2, 1.0], [58, 2, 2, 0.99301296], [58, 4, 1, 0.9830937]], [[57, 6, 2, 0.9946059], [46, 7, 1, 1.0], [43, 14, 1, 0.64320004]], [[60, 9, 1, 0.951628], [58, 10, 2, 1.0], [60, 14, 1, 0.89895284]], [[60, 0, 2, 0.7057977], [63, 3, 1, 0.650273], [74, 7, 2, 0.9679277], [72, 12, 2, 0.8125456], [72, 14, 1, 0.9603942], [60, 14, 1, 1.0]], [[58, 0, 1, 0.50744057], [70, 4, 2, 1.0], [58, 13, 2, 0.79324913]], [[57, 5, 3, 0.64751005], [57, 8, 1, 0.8928311], [58, 10, 2, 0.848875], [58, 12, 3, 1.0]], [[58, 6, 2, 0.85590035], [60, 12, 2, 1.0]], [[65, 4, 1, 0.6174517], [72, 7, 2, 0.5039486], [70, 12, 2, 0.66403353], [70, 14, 1, 0.6925468]], [[63, 2, 2, 1.0], [70, 4, 2, 0.84300333], [63, 12, 2, 0.52778614], [57, 14, 1, 0.6266029]], [[58, 0, 1, 0.6104096], [70, 4, 2, 1.0], [77, 6, 2, 0.8304529], [75, 7, 2, 0.42978963], [79, 9, 2, 0.7762987], [70, 13, 2, 0.76315504]], [[58, 2, 2, 1.0], [57, 4, 1, 0.7981831], [53, 6, 1, 0.3805977], [58, 9, 4, 0.9909175], [53, 14, 2, 0.653169]], [[62, 8, 1, 0.35167602], [63, 10, 3, 1.0], [65, 12, 2, 0.6101191], [65, 14, 1, 0.89638686]], [[63, 2, 2, 1.0], [51, 4, 2, 0.73651826], [63, 6, 1, 0.465794], [57, 14, 1, 0.87503076]]]\n",
            "down_leapingB  generate done!\n",
            "info is \n",
            " [[[46, 5, 2, 0.60097975], [47, 7, 1, 1.0], [37, 7, 1, 0.6759247], [34, 14, 1, 0.581313]], [[35, 0, 1, 0.3339943], [47, 4, 2, 0.54085356], [54, 6, 2, 0.461367], [56, 9, 2, 0.57112837], [49, 12, 2, 0.64129424], [54, 13, 3, 1.0], [47, 13, 2, 0.4725942], [49, 14, 1, 0.48951864]], [[34, 1, 3, 1.0], [40, 4, 1, 0.5416148]], [[34, 2, 2, 1.0], [22, 4, 2, 0.7021057], [34, 6, 1, 0.34589705], [28, 14, 1, 0.79963386]], [[34, 0, 2, 0.80358183], [34, 2, 2, 0.9496527], [34, 4, 2, 0.93112034], [34, 6, 2, 1.0], [34, 8, 1, 0.80805075]], [[37, 1, 1, 1.0], [40, 3, 1, 0.38389444], [44, 4, 2, 0.88845825], [51, 7, 2, 0.54136205], [49, 14, 1, 0.70327187], [37, 14, 1, 0.6499262]], [[37, 0, 1, 0.44570512], [25, 0, 2, 0.65604347], [28, 2, 2, 0.86707693], [32, 6, 1, 0.56454134], [39, 7, 2, 0.86449736], [37, 12, 2, 0.60332507], [35, 13, 1, 0.47369733], [37, 14, 1, 1.0], [25, 14, 1, 0.77180266]], [[40, 2, 2, 1.0], [46, 4, 2, 0.7327019], [46, 8, 1, 0.78897554], [51, 10, 2, 0.50272036], [51, 12, 2, 0.68923116], [51, 14, 1, 0.38841882]], [[37, 1, 1, 0.9844054], [40, 3, 1, 0.7213816], [51, 7, 2, 0.8281361], [49, 14, 1, 0.72172725], [37, 14, 1, 1.0]], [[37, 1, 1, 0.97100306], [40, 2, 1, 0.3752069], [51, 7, 2, 1.0], [49, 14, 1, 0.9119504]], [[34, 5, 2, 0.989785], [27, 12, 1, 0.6964511], [25, 13, 3, 1.0]], [[37, 1, 1, 0.6928091], [47, 3, 2, 0.5959736], [44, 5, 2, 0.5264247], [35, 7, 1, 0.472051], [37, 9, 3, 0.5950551], [32, 14, 1, 0.5397316]], [[35, 10, 2, 0.9735543], [37, 12, 2, 1.0], [37, 14, 1, 0.623636]], [[34, 0, 1, 0.36362883], [46, 4, 1, 1.0], [34, 13, 2, 0.60281426]], [[34, 13, 1, 1.0]], [[37, 0, 1, 0.5410688], [47, 3, 2, 0.4736813], [49, 4, 2, 0.8711223], [54, 6, 2, 0.3738957], [56, 7, 1, 0.8174932], [58, 9, 2, 0.7353016], [51, 12, 2, 1.0], [56, 13, 2, 0.9565519], [49, 13, 2, 0.8570086], [51, 14, 1, 0.8932176], [56, 15, 1, 0.53601986]]]\n",
            "down_stepingC  generate done!\n",
            "info is \n",
            " [[[48, 1, 2, 0.74328387], [59, 2, 3, 1.0], [55, 5, 2, 0.45774546], [48, 9, 4, 0.6596419], [43, 14, 1, 0.5221505]], [[43, 0, 1, 0.71714014], [43, 2, 2, 1.0], [43, 4, 2, 0.8651123], [43, 6, 2, 0.87208813], [43, 8, 1, 0.9092345]], [[41, 2, 2, 1.0], [29, 4, 2, 0.6960388], [35, 14, 1, 0.7532376]], [[43, 0, 2, 1.0], [43, 2, 2, 0.9816287], [43, 4, 1, 0.96158445]], [[43, 0, 1, 0.33505693], [31, 0, 1, 0.3342858], [41, 3, 2, 0.38716328], [43, 4, 2, 0.5486034], [50, 6, 2, 0.4522426], [52, 10, 1, 0.51701266], [45, 12, 2, 0.73416877], [50, 13, 3, 1.0], [43, 13, 2, 0.44115773], [45, 14, 1, 0.508435]], [[43, 8, 1, 1.0]], [[43, 1, 4, 0.963567], [43, 5, 2, 1.0]], [[38, 1, 1, 1.0], [41, 3, 1, 0.76688147], [52, 7, 2, 0.8150148], [50, 14, 1, 0.7430165], [38, 14, 1, 0.9838928]], [[50, 4, 2, 0.6749794], [57, 6, 3, 0.44579875], [55, 12, 2, 0.6205456], [55, 14, 1, 0.53514403]], [[47, 1, 3, 1.0], [53, 4, 1, 0.5823169], [53, 8, 1, 0.60750556]], [[48, 2, 2, 0.9356066], [47, 4, 1, 0.9341985], [48, 9, 4, 1.0], [43, 14, 1, 0.5240756]], [[43, 8, 1, 1.0]], [[43, 0, 1, 0.5038038], [53, 3, 2, 0.38138044], [55, 4, 2, 1.0], [43, 13, 2, 0.82486194]], [[43, 0, 2, 0.8128311], [43, 2, 2, 0.91961235], [43, 4, 2, 0.868674], [43, 6, 2, 1.0], [43, 8, 1, 0.8111566]], [[43, 0, 1, 0.49000135], [55, 4, 1, 1.0], [43, 13, 2, 0.7970401]], [[43, 1, 1, 0.82665277], [35, 2, 1, 0.6287965], [43, 5, 1, 1.0], [47, 9, 2, 0.91526496], [52, 12, 2, 0.4936093]]]\n",
            "down_stepingC#  generate done!\n",
            "info is \n",
            " [[[49, 1, 3, 1.0], [48, 4, 1, 0.68664575], [44, 6, 1, 0.43656752], [49, 9, 4, 0.936693], [44, 14, 2, 0.6856544]], [[54, 2, 2, 1.0], [60, 4, 2, 0.7215774], [60, 8, 1, 0.7743148], [65, 10, 2, 0.45112088], [65, 12, 2, 0.5576459], [65, 14, 1, 0.5199145]], [[44, 10, 3, 1.0], [46, 12, 2, 0.7280724], [46, 14, 1, 0.8185105]], [[44, 0, 1, 0.51251745], [54, 3, 2, 0.45178235], [56, 4, 2, 1.0], [44, 6, 1, 0.37577048], [44, 13, 2, 0.88694376]], [[44, 0, 2, 0.87539005], [44, 2, 3, 0.77290606], [44, 5, 3, 1.0], [44, 8, 2, 0.914176]], [[44, 13, 1, 1.0]], [[46, 0, 2, 0.74452055], [49, 3, 1, 0.701892], [60, 7, 2, 0.90174663], [58, 12, 2, 0.6295904], [58, 14, 1, 0.7898732], [46, 14, 1, 1.0]], [[44, 0, 1, 0.5355779], [56, 4, 2, 0.79443705], [63, 6, 2, 1.0], [61, 7, 2, 0.6848818], [65, 9, 2, 0.6074465], [56, 13, 2, 0.656008]], [[44, 2, 2, 0.7740543], [41, 5, 2, 0.8317168], [32, 7, 1, 1.0], [29, 14, 2, 0.78931516]], [[51, 4, 1, 0.61962414], [58, 7, 2, 0.52591705], [56, 10, 2, 0.3477897], [56, 12, 2, 0.7473328], [56, 14, 1, 0.7318908]], [[51, 4, 1, 0.57863367], [58, 7, 2, 0.5338972], [51, 8, 1, 0.61913806], [56, 10, 2, 0.45401984], [56, 12, 2, 0.6654978], [56, 14, 1, 0.45828158]], [[44, 1, 1, 0.56019753], [41, 4, 1, 0.5771749], [44, 5, 1, 0.98078436], [48, 9, 4, 1.0], [48, 13, 1, 0.78482234]], [[46, 1, 1, 0.85013175], [49, 2, 2, 0.530185], [60, 7, 2, 1.0], [58, 14, 1, 0.36858758], [46, 14, 1, 0.98950213]], [[44, 0, 2, 0.7614985], [54, 3, 2, 0.681002], [56, 4, 2, 1.0], [44, 6, 1, 0.46398526], [54, 9, 2, 0.38450676], [44, 13, 2, 0.87647206], [46, 14, 1, 0.49063876]], [[51, 4, 2, 0.74784213], [58, 7, 2, 0.9841304], [56, 12, 2, 0.6311912], [56, 14, 1, 0.70522714], [44, 14, 1, 0.70220274]], [[44, 1, 1, 0.8306841], [36, 2, 1, 0.66538614], [44, 5, 1, 1.0], [48, 9, 2, 0.8299342], [53, 12, 2, 0.5829996]]]\n",
            "down_stepingD  generate done!\n",
            "info is \n",
            " [[[49, 5, 2, 0.9040769], [43, 7, 1, 1.0], [47, 8, 1, 0.59604853], [45, 10, 2, 0.6026742], [42, 12, 1, 0.84449565], [40, 14, 1, 0.865313]], [[40, 1, 2, 0.57206535], [40, 3, 2, 0.8131808], [40, 5, 8, 1.0], [40, 13, 2, 0.8578305]], [[42, 1, 1, 0.42444026], [47, 2, 2, 1.0], [35, 2, 3, 0.95009315], [43, 5, 1, 0.63469326], [35, 5, 2, 0.6004617], [47, 6, 1, 0.45579708]], [[40, 8, 1, 1.0]], [[40, 0, 1, 0.35611263], [52, 4, 2, 1.0], [40, 13, 2, 0.51881266]], [[40, 0, 2, 0.8651749], [40, 2, 2, 0.92372364], [40, 4, 2, 0.97956353], [40, 6, 2, 1.0], [40, 8, 1, 0.8230032]], [[40, 0, 2, 0.8325763], [40, 6, 1, 0.39990062], [42, 7, 2, 1.0], [40, 14, 1, 0.97957176]], [[43, 1, 2, 1.0], [49, 4, 2, 0.7330723]], [[31, 2, 2, 1.0], [38, 4, 2, 0.6029745], [37, 14, 1, 0.6782476]], [[43, 1, 3, 1.0], [49, 4, 1, 0.499557]], [[40, 1, 4, 0.90979236], [40, 5, 2, 1.0]], [[45, 4, 2, 0.6787248], [52, 7, 2, 0.7032852], [50, 12, 2, 0.6601042], [50, 14, 1, 0.6520879]], [[43, 1, 1, 0.4829984], [40, 4, 1, 0.34104037], [43, 5, 1, 1.0], [47, 9, 4, 0.9113052], [47, 13, 1, 0.7461778]], [[47, 0, 2, 0.6692353], [55, 2, 2, 0.4239556], [50, 3, 1, 0.7048915], [54, 6, 1, 0.44877732], [61, 7, 2, 0.80875283], [59, 12, 2, 0.7095878], [59, 14, 1, 1.0], [47, 14, 1, 0.9917821]], [[43, 3, 3, 0.5792828], [43, 6, 3, 0.80723375], [42, 11, 2, 0.84780645], [43, 13, 3, 1.0]], [[40, 0, 2, 0.86665046], [40, 2, 3, 0.7679467], [40, 5, 3, 1.0], [40, 8, 2, 0.90006095]]]\n",
            "down_stepingD#  generate done!\n",
            "info is \n",
            " [[[50, 2, 2, 0.741794], [39, 2, 2, 1.0], [38, 4, 1, 0.5028675], [34, 6, 1, 0.45243883], [39, 9, 2, 0.8815075], [34, 14, 2, 0.65446705]], [[36, 0, 1, 0.58169353], [24, 0, 1, 0.4120146], [34, 3, 2, 0.5983563], [36, 4, 2, 0.582716], [43, 6, 2, 0.409314], [38, 7, 2, 0.35805345], [44, 9, 1, 0.3790456], [34, 9, 2, 0.5262381], [38, 12, 3, 0.92167723], [43, 13, 3, 1.0], [36, 13, 2, 0.50399053]], [[34, 0, 1, 0.47469416], [44, 3, 2, 0.4970743], [46, 4, 2, 0.7341088], [53, 7, 1, 0.63122827], [44, 8, 3, 0.3372136], [55, 9, 2, 0.5009739], [48, 12, 2, 1.0], [53, 13, 2, 0.7814858], [46, 13, 2, 0.76006037], [48, 14, 1, 0.81929594], [53, 15, 1, 0.4180653]], [[34, 0, 2, 0.86946595], [34, 2, 3, 0.7697489], [34, 5, 3, 1.0], [34, 8, 2, 0.89911324]], [[34, 0, 1, 0.3492874], [46, 4, 2, 1.0], [34, 13, 2, 0.53112614]], [[38, 1, 2, 1.0], [44, 4, 2, 0.925732]], [[34, 0, 2, 0.7645081], [44, 3, 2, 0.40705073], [46, 4, 2, 0.5902101], [34, 6, 1, 0.49901077], [36, 7, 1, 0.64549917], [44, 9, 2, 0.41981846], [34, 13, 2, 1.0], [36, 14, 1, 0.40433025]], [[34, 0, 1, 0.38779458], [22, 0, 1, 0.55436945], [32, 3, 2, 0.7177417], [34, 4, 2, 0.9742822], [22, 6, 1, 0.5228582], [32, 9, 2, 0.50803435], [22, 13, 2, 1.0], [24, 14, 1, 0.44529518]], [[34, 2, 2, 1.0], [39, 4, 1, 0.4362688], [46, 7, 2, 0.7881517], [44, 12, 2, 0.6111898], [44, 14, 1, 0.8084721], [32, 14, 1, 0.84241474]], [[34, 0, 1, 0.703091], [22, 0, 2, 0.63889515], [24, 2, 2, 1.0], [41, 6, 2, 0.6090355], [34, 6, 1, 0.36473414], [36, 7, 2, 0.8880318], [32, 8, 3, 0.3428062], [36, 14, 1, 0.4848308], [34, 14, 1, 0.71936756], [22, 14, 1, 0.7117088]], [[36, 0, 1, 0.65509063], [24, 0, 1, 0.41322592], [34, 3, 2, 0.62223876], [36, 4, 2, 0.5821782], [43, 6, 2, 0.3997552], [38, 7, 2, 0.3878527], [44, 9, 1, 0.3703682], [34, 9, 2, 0.62368715], [38, 12, 3, 0.95245403], [43, 13, 3, 1.0], [36, 13, 2, 0.52802896]], [[38, 2, 2, 1.0], [26, 4, 2, 0.6054473], [38, 6, 1, 0.7334269], [43, 11, 4, 0.58415604], [32, 14, 1, 0.7669367]], [[38, 2, 2, 1.0], [26, 5, 1, 0.72460264], [38, 6, 1, 0.83232105], [43, 11, 4, 0.6268772], [32, 14, 1, 0.82145005]], [[36, 1, 1, 0.9071811], [39, 2, 2, 0.4209486], [50, 7, 2, 1.0], [48, 14, 1, 0.9169295]], [[34, 1, 1, 0.65850806], [31, 4, 1, 0.41443682], [34, 5, 1, 0.81274664], [38, 9, 4, 1.0], [38, 13, 1, 0.66340214]], [[38, 2, 2, 1.0], [43, 11, 4, 0.499471], [32, 14, 1, 0.7055885]]]\n",
            "down_stepingE  generate done!\n",
            "info is \n",
            " [[[49, 1, 2, 0.90097535], [59, 4, 1, 0.40767646], [49, 9, 2, 0.82590216], [44, 13, 2, 0.5491142]], [[47, 0, 1, 0.5354848], [59, 4, 2, 0.7615758], [66, 6, 2, 1.0], [64, 7, 2, 0.6244747], [68, 9, 2, 0.6632787], [59, 13, 2, 0.6721913], [66, 15, 1, 0.37339503]], [[45, 2, 2, 1.0], [33, 2, 3, 0.8613374], [33, 5, 2, 0.86814815], [45, 6, 1, 0.6119774], [39, 14, 1, 0.39016706]], [[44, 0, 1, 0.37181538], [56, 4, 1, 1.0], [44, 13, 2, 0.6234727]], [[39, 2, 2, 1.0], [27, 5, 1, 0.68504155], [39, 6, 1, 0.79718524], [44, 11, 4, 0.61072356], [33, 14, 1, 0.7980306]], [[49, 1, 1, 0.86516184], [52, 3, 1, 0.7010049], [63, 7, 2, 0.82377577], [61, 14, 1, 0.61366725], [49, 14, 1, 1.0]], [[44, 5, 1, 0.5781617], [37, 12, 2, 1.0], [35, 13, 2, 0.8386397]], [[44, 0, 1, 0.37837768], [54, 3, 1, 0.35550538], [56, 4, 2, 1.0], [44, 14, 1, 0.46719432]], [[40, 1, 2, 0.69430697], [39, 4, 1, 0.9986424], [40, 10, 2, 0.72765195], [40, 12, 1, 0.86362576], [35, 14, 2, 1.0]], [[45, 1, 3, 1.0], [51, 4, 1, 0.51238763]], [[44, 1, 2, 0.6336726], [49, 2, 1, 0.9680937], [37, 2, 1, 0.84126574], [45, 5, 1, 1.0]], [[39, 2, 2, 1.0], [27, 2, 3, 0.9302321], [27, 5, 2, 0.8054003], [39, 6, 1, 0.54655516], [33, 14, 1, 0.3347576]], [[44, 0, 1, 0.5001617], [54, 3, 2, 0.36359736], [56, 4, 2, 1.0], [44, 13, 2, 0.8272928]], [[42, 0, 2, 0.7228061], [39, 0, 2, 0.66607267], [40, 5, 3, 0.95696944], [40, 8, 3, 1.0], [39, 10, 1, 0.51264423]], [[45, 1, 2, 0.6197871], [52, 4, 2, 1.0], [45, 12, 2, 0.839307], [39, 14, 1, 0.40401554]], [[49, 0, 2, 0.6410844], [52, 3, 1, 0.6598988], [63, 7, 2, 0.8397393], [61, 12, 2, 0.6800783], [61, 14, 1, 0.88155663], [49, 14, 1, 1.0]]]\n",
            "down_stepingF  generate done!\n",
            "info is \n",
            " [[[48, 2, 2, 0.598359], [45, 5, 1, 0.771433], [48, 7, 1, 1.0], [45, 14, 1, 0.8493615]], [[45, 0, 2, 1.0], [45, 2, 2, 0.9723181], [45, 4, 1, 0.9482185]], [[45, 0, 1, 0.62699217], [45, 2, 2, 1.0], [45, 4, 2, 0.5477949], [45, 6, 2, 0.54868495], [45, 8, 1, 0.996728]], [[45, 0, 1, 0.35646257], [57, 4, 2, 1.0], [45, 13, 2, 0.5899521]], [[50, 4, 1, 0.5770041], [57, 6, 3, 0.43741405], [50, 8, 1, 0.3400405], [55, 10, 2, 0.37121522], [55, 12, 2, 0.7232726], [55, 14, 1, 0.6608689]], [[48, 0, 2, 0.8117326], [58, 3, 2, 0.73534524], [60, 4, 2, 1.0], [48, 6, 1, 0.5016391], [58, 9, 2, 0.50679183], [48, 13, 2, 0.9621686], [50, 14, 1, 0.5457485]], [[46, 2, 2, 1.0], [52, 4, 2, 0.6868679], [52, 8, 1, 0.73855644], [57, 10, 2, 0.46136442], [57, 12, 2, 0.6607336], [57, 14, 1, 0.3767802]], [[46, 1, 1, 0.43420884], [53, 4, 2, 1.0], [46, 12, 2, 0.8326865], [40, 14, 1, 0.39091435]], [[46, 2, 2, 1.0], [52, 4, 2, 0.67635065], [52, 8, 1, 0.7075548], [57, 10, 2, 0.43850648], [57, 12, 2, 0.6897256], [57, 14, 1, 0.43173808]], [[52, 2, 2, 1.0], [57, 11, 3, 0.38923788], [46, 14, 1, 0.5737221]], [[48, 0, 1, 0.3986653], [36, 0, 1, 0.45556948], [46, 3, 2, 0.6291228], [48, 4, 2, 0.6697208], [55, 7, 1, 0.49952742], [50, 7, 2, 0.39045113], [46, 8, 3, 0.6307248], [50, 12, 2, 1.0], [55, 13, 3, 0.7310243], [48, 13, 2, 0.69493526], [50, 14, 1, 0.7749407]], [[45, 1, 3, 0.85611343], [55, 4, 1, 0.3884311], [52, 6, 1, 0.3714613], [45, 9, 2, 0.73014086], [40, 13, 2, 0.5737419]], [[48, 0, 1, 0.99323016], [36, 0, 2, 0.64264315], [38, 1, 2, 0.7473358], [48, 4, 2, 0.66482556], [55, 6, 2, 0.4013994], [48, 6, 1, 0.52269906], [50, 7, 2, 1.0], [46, 8, 3, 0.47780302], [50, 12, 3, 0.6769124], [48, 13, 2, 0.8167893]], [[46, 2, 2, 0.7699509], [43, 5, 2, 0.90982527], [46, 7, 1, 1.0], [43, 14, 1, 0.8406415]], [[50, 0, 2, 0.63305706], [53, 3, 1, 0.6509638], [64, 7, 2, 0.8346479], [62, 12, 2, 0.6780008], [62, 14, 1, 0.8855665], [50, 14, 1, 1.0]], [[46, 1, 3, 1.0], [52, 4, 2, 0.676413], [57, 12, 2, 0.6800746], [57, 14, 1, 0.670462]]]\n",
            "down_stepingF#  generate done!\n",
            "info is \n",
            " [[[54, 1, 3, 0.8966279], [65, 2, 3, 1.0], [61, 6, 1, 0.41954997], [54, 9, 2, 0.7511434], [49, 14, 1, 0.60197556]], [[53, 2, 2, 1.0], [41, 5, 2, 0.7579891], [53, 6, 1, 0.6014347], [47, 14, 1, 0.98029304]], [[53, 1, 3, 1.0], [59, 4, 1, 0.6041953], [59, 8, 1, 0.6282595]], [[49, 0, 2, 0.87592256], [49, 2, 3, 0.7729517], [49, 5, 3, 1.0], [49, 8, 2, 0.9128204]], [[54, 4, 1, 0.6224623], [61, 6, 3, 0.33422494], [54, 8, 1, 0.6040215], [59, 10, 2, 0.3847899], [59, 12, 2, 0.6709476], [59, 14, 1, 0.47313896]], [[49, 0, 2, 1.0], [49, 2, 2, 0.96440554], [49, 4, 1, 0.9241673], [49, 9, 1, 0.62664074]], [[41, 2, 2, 0.94191504], [29, 2, 3, 0.7528184], [29, 5, 2, 0.9858086], [41, 6, 2, 1.0], [44, 10, 2, 0.36003304], [46, 11, 3, 0.84335035], [35, 14, 1, 0.6415566]], [[49, 1, 1, 0.6235413], [46, 4, 1, 0.47823253], [49, 5, 1, 0.8135994], [53, 9, 4, 1.0], [53, 13, 1, 0.6883887]], [[49, 0, 1, 0.70592976], [37, 0, 1, 0.4299764], [47, 3, 2, 0.6290521], [49, 4, 2, 0.5876778], [37, 6, 1, 0.40913233], [44, 7, 1, 0.41253692], [51, 7, 3, 0.6439741], [47, 8, 3, 0.56498], [51, 12, 3, 1.0], [56, 13, 3, 0.69378746], [49, 13, 2, 0.65411425]], [[53, 1, 2, 1.0], [59, 4, 2, 0.884434]], [[46, 2, 2, 0.6553732], [46, 4, 2, 0.66589355], [47, 12, 1, 0.90362346], [42, 14, 2, 1.0]], [[49, 0, 1, 0.60416514], [37, 0, 2, 0.71162474], [39, 2, 1, 0.5388362], [44, 6, 1, 0.33334154], [51, 7, 3, 1.0], [47, 13, 1, 0.6022974], [37, 13, 2, 0.88895583], [49, 14, 1, 0.8223589]], [[49, 0, 1, 0.39550492], [37, 0, 1, 0.5595832], [47, 3, 2, 0.7428053], [49, 4, 2, 0.92421937], [37, 6, 1, 0.53261817], [47, 9, 2, 0.64643705], [37, 13, 2, 1.0], [39, 14, 1, 0.49818504]], [[51, 0, 2, 0.62858224], [59, 2, 1, 0.3532851], [54, 2, 2, 0.5071507], [58, 6, 2, 0.55329823], [65, 7, 3, 0.8839772], [63, 12, 2, 0.82710505], [63, 14, 1, 0.9483285], [51, 14, 1, 1.0]], [[54, 1, 3, 0.8744424], [65, 2, 3, 1.0], [61, 6, 1, 0.3987649], [54, 9, 2, 0.7150668], [49, 14, 1, 0.575847]], [[49, 0, 1, 0.5867995], [37, 0, 1, 0.4209319], [47, 3, 2, 0.65483683], [49, 4, 2, 0.61026835], [37, 6, 1, 0.3384029], [44, 7, 1, 0.48163307], [51, 7, 3, 0.58348584], [47, 8, 3, 0.61881995], [51, 12, 3, 1.0], [56, 13, 3, 0.8151585], [49, 13, 2, 0.631322]]]\n",
            "down_stepingG  generate done!\n",
            "info is \n",
            " [[[48, 2, 2, 1.0], [47, 4, 1, 0.8577282], [48, 9, 4, 0.9997799], [43, 14, 2, 0.61913335]], [[48, 2, 2, 1.0], [36, 2, 2, 0.697605], [36, 4, 3, 0.86391205], [48, 6, 1, 0.6659251], [42, 14, 1, 0.65797234]], [[43, 0, 2, 1.0], [43, 2, 2, 0.96620107], [43, 4, 1, 0.9387023]], [[43, 1, 1, 0.8257047], [35, 2, 1, 0.6406953], [43, 5, 1, 1.0], [47, 9, 2, 0.88198733], [52, 12, 2, 0.52936727]], [[43, 0, 2, 0.85533816], [43, 2, 2, 0.87568855], [43, 4, 2, 1.0], [43, 6, 2, 0.9342245], [43, 8, 1, 0.7704057]], [[43, 0, 2, 0.74651134], [43, 2, 2, 0.7696511], [43, 4, 4, 1.0], [43, 8, 1, 0.67216265]], [[40, 1, 1, 0.8720048], [43, 2, 2, 0.53276014], [54, 7, 2, 1.0], [52, 14, 1, 0.37096077], [40, 14, 1, 0.9801935]], [[43, 0, 2, 1.0], [43, 2, 2, 0.9851858], [43, 4, 1, 0.96737665]], [[43, 0, 1, 0.8649841], [31, 0, 1, 0.567689], [33, 1, 2, 0.66162026], [42, 4, 2, 0.5439844], [50, 6, 2, 0.400273], [43, 6, 1, 0.48054895], [45, 7, 2, 1.0], [45, 12, 2, 0.33697084], [43, 13, 2, 0.81422156], [45, 14, 1, 0.40438223], [43, 14, 1, 0.37649515]], [[48, 1, 2, 1.0], [54, 4, 2, 0.76923096]], [[43, 1, 1, 0.79994255], [35, 2, 1, 0.6667839], [43, 5, 1, 1.0], [47, 8, 2, 0.5074188], [52, 12, 2, 0.71638924]], [[43, 0, 2, 0.8076119], [43, 2, 2, 0.94763994], [43, 4, 2, 0.91380143], [43, 6, 2, 1.0], [43, 8, 1, 0.81031334]], [[43, 0, 1, 0.3552387], [55, 4, 2, 1.0], [43, 13, 2, 0.51158625]], [[40, 1, 1, 0.9572505], [43, 2, 1, 0.40592435], [54, 7, 2, 1.0], [52, 14, 1, 0.9113114]], [[50, 4, 1, 0.60525465], [57, 6, 3, 0.34491375], [50, 8, 1, 0.5946168], [55, 10, 2, 0.38545963], [55, 12, 2, 0.6588518], [55, 14, 1, 0.47968298]], [[50, 4, 1, 0.6023229], [57, 6, 3, 0.3692367], [55, 12, 2, 0.52916205], [55, 14, 1, 0.38765824]]]\n",
            "down_stepingG#  generate done!\n",
            "info is \n",
            " [[[48, 5, 1, 0.71826863], [44, 10, 2, 0.5043701], [41, 12, 2, 1.0], [39, 13, 2, 0.80019593]], [[39, 0, 1, 0.5910461], [49, 3, 1, 0.3543982], [51, 4, 2, 0.90193135], [58, 6, 2, 1.0], [56, 6, 2, 0.42790905], [60, 9, 2, 0.9974162], [58, 13, 2, 0.65706736], [51, 13, 2, 0.81894267], [58, 15, 1, 0.48086518]], [[39, 0, 2, 0.52563375], [32, 1, 2, 0.65369123], [43, 2, 2, 1.0], [46, 3, 2, 0.45509827], [43, 4, 2, 0.98637027], [32, 9, 2, 0.70266724], [27, 14, 1, 0.45756721]], [[39, 0, 2, 0.78189707], [39, 2, 3, 0.7250246], [39, 5, 2, 1.0], [39, 9, 1, 0.84537303]], [[49, 2, 2, 1.0], [56, 4, 2, 0.3995593], [49, 4, 2, 0.5758727], [43, 14, 1, 0.5231861]], [[41, 5, 1, 0.5236377], [34, 12, 2, 1.0], [32, 13, 2, 0.8217834]], [[39, 0, 1, 0.584177], [27, 0, 2, 0.7136139], [29, 2, 2, 0.98526454], [34, 6, 2, 0.591268], [41, 7, 2, 0.9484401], [39, 12, 2, 0.5158329], [37, 13, 1, 0.50801456], [27, 13, 2, 0.792315], [39, 14, 1, 1.0]], [[39, 4, 2, 1.0], [32, 12, 2, 0.8023872]], [[39, 0, 1, 0.35880816], [51, 4, 2, 0.5339058], [58, 6, 2, 0.5327689], [60, 9, 2, 0.5915871], [58, 13, 3, 1.0], [51, 13, 2, 0.50540376]], [[39, 6, 2, 0.82409686], [41, 12, 2, 1.0]], [[39, 1, 1, 0.6392515], [36, 4, 1, 0.42770815], [39, 5, 1, 0.8022902], [43, 9, 4, 1.0], [43, 13, 1, 0.68278915]], [[49, 2, 2, 1.0], [56, 4, 2, 0.6782367], [55, 14, 1, 0.6505196]], [[43, 2, 2, 0.39996472], [43, 7, 3, 0.7420228], [44, 9, 1, 0.79261637], [44, 14, 1, 1.0]], [[39, 0, 2, 0.81045645], [39, 2, 2, 0.923076], [39, 4, 2, 0.862147], [39, 6, 2, 1.0], [39, 8, 1, 0.81062454]], [[39, 10, 2, 1.0], [41, 12, 2, 0.53420913], [41, 14, 1, 0.59744704]], [[39, 12, 2, 1.0], [37, 14, 1, 0.9342491]]]\n",
            "down_stepingA  generate done!\n",
            "info is \n",
            " [[[56, 5, 2, 0.98925406], [50, 7, 1, 0.78143394], [54, 8, 1, 0.64581084], [52, 10, 2, 0.5885908], [49, 12, 1, 1.0], [47, 14, 1, 0.9129933]], [[47, 2, 2, 1.0], [52, 4, 1, 0.3792305], [59, 7, 2, 0.80763733], [57, 12, 2, 0.6333733], [57, 14, 1, 0.8499769], [45, 14, 1, 0.87677276]], [[47, 0, 2, 0.7797251], [47, 2, 3, 0.71928066], [47, 5, 2, 1.0], [47, 9, 1, 0.8399757]], [[47, 0, 2, 0.7452843], [47, 2, 2, 0.7663692], [47, 4, 4, 1.0], [47, 8, 1, 0.6730406]], [[47, 0, 2, 0.85536], [47, 2, 2, 0.80119914], [47, 4, 3, 1.0], [47, 9, 1, 0.87274426]], [[47, 0, 2, 0.74779004], [47, 2, 2, 0.77331305], [47, 4, 4, 1.0], [47, 8, 1, 0.6704363]], [[47, 8, 1, 1.0]], [[47, 4, 1, 0.62674105], [40, 13, 1, 1.0]], [[50, 2, 2, 1.0], [38, 2, 3, 0.6394392], [38, 5, 2, 0.8575797], [50, 6, 1, 0.6731294], [44, 14, 1, 0.73165166]], [[47, 0, 2, 1.0], [47, 2, 2, 0.9328637], [47, 4, 2, 0.9789463], [47, 9, 1, 0.97105455]], [[42, 0, 1, 0.59670603], [30, 0, 1, 0.40564162], [40, 3, 2, 0.6057758], [42, 4, 2, 0.5764516], [49, 6, 2, 0.4032485], [44, 7, 2, 0.37406823], [50, 9, 1, 0.37270445], [40, 9, 2, 0.5677538], [44, 12, 3, 0.9282654], [49, 13, 3, 1.0], [42, 13, 2, 0.50870365]], [[50, 1, 2, 0.40809157], [61, 2, 3, 1.0], [49, 4, 1, 0.34520334], [45, 14, 1, 0.45519862]], [[50, 1, 3, 0.568817], [61, 2, 4, 1.0], [50, 9, 2, 0.5580895], [45, 14, 1, 0.38791946]], [[47, 10, 2, 1.0], [49, 12, 2, 0.8974207], [49, 14, 1, 0.84355456]], [[47, 0, 2, 0.91011226], [54, 4, 2, 0.67724127], [61, 7, 2, 1.0], [59, 12, 2, 0.6555542], [59, 14, 1, 0.7987111], [47, 14, 1, 0.9942905]], [[47, 0, 1, 0.7134356], [35, 0, 1, 0.43696868], [45, 3, 2, 0.63260305], [47, 4, 2, 0.59156984], [35, 6, 1, 0.41435727], [42, 7, 1, 0.40291917], [49, 7, 3, 0.6497972], [45, 8, 3, 0.5679937], [49, 12, 3, 1.0], [54, 13, 3, 0.7067762], [47, 13, 2, 0.6630248]]]\n",
            "down_stepingA#  generate done!\n",
            "info is \n",
            " [[[48, 0, 2, 0.4090863], [58, 2, 2, 0.728532], [55, 5, 2, 0.74179375], [46, 7, 1, 1.0], [48, 9, 3, 0.40412855], [43, 14, 2, 0.701182]], [[45, 2, 2, 1.0], [50, 11, 4, 0.48233092], [39, 14, 1, 0.6340475]], [[46, 0, 2, 0.5593151], [39, 1, 2, 0.69391364], [50, 2, 2, 1.0], [50, 4, 2, 0.9886448], [39, 9, 3, 0.7193353], [34, 14, 1, 0.46570176]], [[46, 0, 2, 0.4702911], [50, 2, 2, 1.0], [50, 4, 2, 0.9757146], [46, 5, 2, 0.4382114], [34, 14, 1, 0.4172263]], [[46, 0, 2, 0.54829425], [39, 1, 2, 0.7065], [41, 2, 3, 0.53162247], [50, 2, 2, 1.0], [50, 4, 2, 0.9887437], [39, 9, 2, 0.69971514], [34, 14, 1, 0.4642112]], [[45, 1, 3, 1.0], [51, 4, 1, 0.5094424]], [[43, 10, 2, 1.0], [45, 12, 2, 0.98938453], [45, 14, 1, 0.84654266]], [[45, 1, 2, 0.5761487], [50, 2, 1, 1.0], [38, 2, 1, 0.63479567], [46, 5, 1, 0.89283985], [55, 12, 2, 0.8266728]], [[38, 6, 2, 0.8048338], [27, 7, 1, 1.0], [24, 14, 1, 0.7567382]], [[45, 1, 3, 1.0], [51, 4, 1, 0.49199852]], [[41, 0, 2, 0.7309473], [38, 0, 2, 0.6683926], [39, 5, 3, 0.9614114], [39, 8, 3, 1.0], [38, 10, 1, 0.51485497]], [[50, 4, 2, 0.74995214], [57, 7, 2, 1.0], [55, 12, 2, 0.64168155], [55, 14, 1, 0.74421287], [43, 14, 1, 0.86058444]], [[43, 0, 2, 0.8955188], [43, 2, 2, 0.8584712], [43, 4, 1, 0.8222501], [43, 9, 1, 1.0]], [[48, 4, 2, 0.629431], [55, 7, 2, 0.97501117], [53, 12, 2, 0.6545623], [53, 14, 1, 0.8023842], [41, 14, 1, 0.9415486]], [[43, 0, 1, 0.69189113], [31, 0, 2, 0.702467], [33, 2, 1, 0.54232424], [31, 6, 1, 0.37219524], [33, 7, 3, 1.0], [41, 8, 3, 0.34191626], [41, 13, 1, 0.5665217], [31, 13, 2, 0.859192], [43, 14, 1, 0.72472197]], [[45, 2, 2, 0.4794517], [45, 7, 3, 0.7690025], [46, 9, 1, 0.60322154], [46, 14, 1, 1.0]]]\n",
            "down_stepingB  generate done!\n",
            "info is \n",
            " [[[49, 1, 2, 0.9013026], [59, 4, 1, 0.3958748], [49, 9, 2, 0.8150008], [44, 13, 2, 0.54711586]], [[51, 4, 2, 0.7096344], [58, 7, 2, 0.529848], [56, 12, 2, 0.6423476], [56, 14, 1, 0.6753775]], [[46, 1, 2, 1.0], [52, 4, 2, 0.83343256]], [[42, 0, 1, 0.49774042], [30, 0, 1, 0.36998308], [40, 3, 2, 0.55138564], [42, 4, 2, 0.56999743], [49, 6, 2, 0.40472442], [40, 8, 3, 0.42565095], [51, 10, 1, 0.3875534], [44, 12, 3, 0.8565743], [49, 13, 3, 1.0], [42, 13, 2, 0.46188712]], [[44, 0, 2, 0.8253074], [56, 4, 2, 0.47107112], [44, 6, 1, 0.5070158], [46, 7, 2, 0.8613195], [44, 13, 2, 1.0]], [[44, 0, 2, 0.7860382], [54, 3, 2, 0.6985092], [56, 4, 2, 1.0], [44, 6, 1, 0.49116397], [54, 9, 2, 0.40597165], [44, 13, 2, 0.9136088], [46, 14, 1, 0.51360506]], [[47, 1, 1, 0.59640884], [44, 4, 1, 0.5849081], [47, 5, 1, 0.8818151], [51, 9, 4, 1.0], [51, 13, 1, 0.7353244]], [[44, 0, 2, 0.7932751], [54, 3, 2, 0.56203693], [56, 4, 2, 0.68637234], [44, 6, 1, 0.5057816], [46, 7, 1, 0.5030568], [54, 9, 2, 0.5519198], [44, 13, 2, 1.0], [46, 14, 1, 0.48103207]], [[51, 4, 1, 0.61909664], [58, 7, 2, 0.63186514], [56, 12, 2, 0.4554278], [56, 14, 1, 0.49195027]], [[44, 0, 2, 0.7663187], [52, 2, 3, 0.36532313], [47, 3, 1, 0.96434826], [51, 6, 1, 0.45346552], [58, 7, 2, 0.8070675], [56, 12, 2, 0.6645654], [56, 14, 1, 0.9222495], [44, 14, 1, 1.0]], [[44, 0, 1, 0.6361208], [32, 0, 1, 0.4119929], [42, 3, 2, 0.6168361], [44, 4, 2, 0.5839617], [51, 6, 2, 0.4030546], [46, 7, 2, 0.38077086], [52, 9, 1, 0.3727309], [42, 9, 2, 0.5947901], [46, 12, 3, 0.9454238], [51, 13, 3, 1.0], [44, 13, 2, 0.5250923]], [[47, 1, 1, 0.8105757], [39, 2, 1, 0.6691929], [47, 5, 1, 1.0], [51, 8, 2, 0.54579246], [56, 12, 2, 0.71828604]], [[42, 1, 1, 0.6094412], [39, 4, 1, 0.517472], [42, 5, 1, 0.83332944], [46, 9, 4, 1.0], [46, 13, 1, 0.7229333]], [[44, 1, 1, 1.0], [47, 2, 1, 0.37617204], [58, 7, 2, 0.99579394], [56, 14, 1, 0.9083899]], [[46, 1, 3, 1.0], [52, 4, 1, 0.53347266]], [[34, 2, 2, 1.0], [22, 2, 3, 0.5082033], [22, 5, 2, 0.97469074], [34, 6, 2, 0.96576667], [39, 11, 3, 0.7380392], [28, 14, 1, 0.85946107]]]\n",
            "fast_rhythmC  generate done!\n",
            "info is \n",
            " [[[50, 0, 1, 1.0], [38, 0, 1, 0.6685793], [40, 1, 2, 0.7230965], [48, 3, 2, 0.66675985], [50, 4, 2, 0.736647], [57, 6, 2, 0.50652796], [50, 6, 1, 0.5515759], [52, 7, 2, 0.7035905], [48, 8, 3, 0.48208538], [52, 12, 3, 0.9129674], [57, 13, 3, 0.5247508], [50, 13, 2, 0.8561957]], [[53, 1, 3, 1.0], [60, 4, 2, 0.99802953], [53, 12, 2, 0.89198595], [47, 14, 1, 0.45178738]], [[50, 0, 1, 0.87212044], [38, 0, 1, 0.654746], [40, 2, 2, 1.0], [57, 6, 2, 0.665657], [50, 6, 1, 0.4520329], [52, 7, 2, 0.9019636], [48, 8, 3, 0.36088642], [52, 12, 2, 0.48561054], [50, 13, 2, 0.77538824], [52, 14, 1, 0.56625], [50, 14, 1, 0.57720596]], [[50, 0, 1, 0.68469024], [50, 2, 2, 1.0], [50, 4, 2, 0.83698374], [50, 6, 2, 0.86625516], [50, 8, 1, 0.9362252]], [[50, 0, 1, 1.0], [38, 0, 1, 0.623548], [40, 1, 2, 0.37938932], [48, 3, 2, 0.7312686], [50, 4, 2, 0.7281258], [57, 6, 2, 0.5131122], [50, 6, 1, 0.5272648], [52, 7, 2, 0.6621399], [48, 8, 3, 0.5939467], [59, 10, 1, 0.47040698], [52, 12, 2, 0.9554796], [57, 13, 3, 0.77296996], [50, 13, 2, 0.7898751], [52, 14, 1, 0.71485984]], [[50, 1, 2, 0.85968006], [60, 4, 1, 0.44379058], [50, 9, 2, 0.7905765], [45, 13, 2, 0.5592212]], [[50, 0, 2, 0.9737513], [50, 2, 2, 0.93667364], [50, 4, 1, 0.89916897], [50, 9, 1, 1.0]], [[50, 9, 1, 1.0], [48, 10, 2, 0.90285105], [50, 13, 2, 0.92560375]], [[50, 0, 1, 0.50226265], [60, 3, 1, 0.33695108], [62, 4, 2, 0.819482], [69, 6, 2, 1.0], [67, 7, 1, 0.42702627], [71, 9, 2, 0.76676285], [69, 13, 2, 0.78528196], [62, 13, 2, 0.7183814], [64, 14, 1, 0.4344229], [69, 15, 1, 0.5343804]], [[57, 4, 2, 0.63819516], [64, 7, 2, 0.77281064], [62, 12, 2, 0.5105957], [62, 14, 1, 0.55498683], [50, 14, 1, 0.35439092]], [[50, 0, 1, 0.3634247], [62, 4, 2, 1.0], [50, 13, 2, 0.49300194]], [[50, 0, 2, 0.8281808], [50, 2, 3, 0.7757413], [50, 5, 3, 1.0], [50, 8, 2, 0.92325103]], [[50, 12, 2, 1.0], [48, 14, 1, 0.8872114]], [[50, 0, 2, 0.52065355], [47, 0, 2, 0.71321636], [48, 5, 3, 0.9069841], [48, 8, 3, 1.0], [47, 10, 1, 0.35709116]], [[50, 1, 3, 1.0], [47, 10, 2, 0.47478753], [50, 14, 1, 0.45389065]], [[50, 0, 1, 0.5872229], [62, 4, 1, 1.0], [69, 6, 2, 0.82228327], [71, 9, 2, 0.67186683], [62, 13, 2, 0.74588233]]]\n",
            "fast_rhythmC#  generate done!\n",
            "info is \n",
            " [[[54, 2, 2, 1.0], [60, 4, 1, 0.62406975], [60, 8, 1, 0.5896239], [65, 10, 2, 0.3567031], [65, 12, 2, 0.55441684], [65, 14, 1, 0.5684953]], [[66, 1, 3, 1.0], [72, 4, 2, 0.60736185], [77, 12, 2, 0.4455981], [77, 14, 1, 0.5138274]], [[65, 0, 2, 0.6480725], [66, 5, 3, 0.75031173], [66, 8, 3, 0.8462781]], [[66, 0, 1, 0.4451815], [78, 4, 1, 0.73281103], [85, 6, 2, 0.5690761], [87, 9, 2, 0.60021275], [85, 13, 2, 1.0], [78, 13, 2, 0.5640998], [85, 15, 1, 0.7524491]], [[65, 9, 1, 0.50986826], [63, 10, 2, 1.0], [65, 12, 2, 0.5666036], [65, 14, 1, 0.68575925]], [[66, 2, 2, 1.0], [54, 4, 2, 0.6070393], [60, 14, 1, 0.5228056]], [[70, 0, 2, 0.6753035], [78, 2, 2, 0.40599385], [73, 3, 1, 0.77471787], [77, 6, 1, 0.40874416], [84, 7, 2, 0.7964215], [82, 12, 2, 0.6797185], [82, 14, 1, 0.9657879], [70, 14, 1, 1.0]], [[65, 2, 2, 0.6833468], [65, 7, 3, 1.0], [66, 12, 2, 0.6893969], [66, 14, 1, 0.66715467]], [[65, 0, 2, 0.84985125], [65, 2, 2, 0.92316926], [65, 4, 2, 0.950795], [65, 6, 2, 1.0], [65, 8, 1, 0.820984]], [[65, 5, 1, 0.3425119], [58, 12, 2, 1.0], [56, 13, 2, 0.8371276]], [[66, 2, 2, 1.0], [72, 4, 1, 0.5574523], [72, 8, 1, 0.3796218], [77, 10, 2, 0.4151706], [77, 12, 2, 0.70713675], [77, 14, 1, 0.6462572]], [[65, 1, 2, 0.556321], [70, 2, 1, 1.0], [58, 2, 1, 0.72056764], [66, 5, 1, 0.9771335]], [[63, 0, 2, 0.68194693], [66, 2, 2, 0.67037207], [77, 7, 3, 1.0], [75, 12, 2, 0.8809784], [75, 14, 1, 0.99530995], [63, 14, 1, 0.9211748]], [[65, 0, 2, 0.9125478], [65, 2, 2, 0.86607194], [65, 4, 1, 0.8377834], [65, 9, 1, 1.0]], [[60, 2, 2, 1.0], [48, 2, 3, 0.64064], [48, 5, 2, 0.8631402], [60, 6, 1, 0.6953983], [54, 14, 1, 0.73205733]], [[68, 0, 1, 0.6739593], [56, 0, 1, 0.6057701], [58, 1, 2, 0.55606806], [66, 3, 2, 0.7656932], [68, 4, 2, 0.6554423], [56, 6, 1, 0.5243492], [58, 7, 3, 0.7326281], [66, 9, 2, 0.59567106], [70, 12, 3, 0.94007343], [68, 13, 2, 1.0]]]\n",
            "fast_rhythmD  generate done!\n",
            "info is \n",
            " [[[52, 0, 1, 1.0], [40, 0, 1, 0.6371385], [42, 1, 2, 0.9516099], [52, 4, 2, 0.6537884], [59, 6, 2, 0.628673], [52, 6, 1, 0.5169173], [54, 7, 2, 0.804709], [50, 8, 3, 0.39439407], [54, 12, 3, 0.7932224], [59, 13, 2, 0.37420672], [52, 13, 2, 0.7952483], [52, 14, 1, 0.38880792]], [[54, 1, 2, 0.56686634], [59, 2, 1, 0.9911951], [47, 2, 1, 0.72420764], [55, 5, 1, 1.0]], [[57, 4, 2, 0.64458066], [64, 7, 2, 0.612021], [62, 12, 2, 0.5037452], [62, 14, 1, 0.5465581]], [[55, 2, 2, 1.0], [43, 2, 3, 0.5784396], [43, 5, 2, 0.8448866], [55, 6, 1, 0.69448274], [49, 14, 1, 0.82872015]], [[55, 2, 2, 1.0], [43, 4, 2, 0.68145674], [49, 14, 1, 0.6652701]], [[59, 4, 1, 0.6247639], [66, 7, 2, 0.5003744], [64, 12, 2, 0.6708619], [64, 14, 1, 0.697507]], [[55, 2, 2, 1.0], [43, 2, 3, 0.8984874], [43, 5, 2, 0.85015285], [55, 6, 1, 0.58841515], [49, 14, 1, 0.37703633]], [[52, 0, 1, 1.0], [40, 0, 1, 0.63344246], [42, 1, 2, 0.46047306], [50, 3, 2, 0.71191025], [52, 4, 2, 0.7249773], [59, 6, 2, 0.5121118], [52, 6, 1, 0.53207177], [54, 7, 2, 0.6725145], [50, 8, 3, 0.55532825], [61, 10, 1, 0.44623688], [54, 12, 2, 0.9213481], [59, 13, 3, 0.69177437], [52, 13, 2, 0.7972126], [54, 14, 1, 0.70497]], [[52, 5, 1, 0.7477872], [45, 12, 2, 1.0], [43, 13, 2, 0.88835526]], [[52, 2, 2, 0.8061696], [49, 5, 2, 0.8567538], [52, 7, 1, 1.0], [49, 14, 2, 0.81094545]], [[54, 1, 2, 0.54475504], [59, 2, 1, 1.0], [47, 2, 1, 0.72693455], [55, 5, 1, 0.99468255]], [[52, 0, 1, 0.5310222], [64, 4, 2, 0.7696845], [71, 6, 2, 1.0], [69, 7, 2, 0.5735861], [73, 9, 2, 0.70885193], [71, 13, 2, 0.40844557], [64, 13, 2, 0.6759541], [71, 15, 1, 0.42410806]], [[52, 0, 2, 0.8437126], [52, 2, 3, 0.7699997], [52, 5, 3, 1.0], [52, 8, 2, 0.92220604]], [[52, 13, 1, 1.0]], [[52, 10, 2, 1.0], [54, 12, 2, 0.46879768], [54, 14, 1, 0.54869276]], [[52, 1, 2, 0.55798024], [52, 3, 2, 0.79380924], [52, 5, 8, 1.0], [52, 13, 2, 0.8285057]]]\n",
            "fast_rhythmD#  generate done!\n",
            "info is \n",
            " [[[48, 0, 1, 1.0], [36, 0, 1, 0.6483363], [38, 1, 2, 0.97051716], [41, 2, 2, 0.33908194], [48, 4, 2, 0.6815008], [55, 6, 2, 0.60530376], [48, 6, 1, 0.5272812], [50, 7, 2, 0.78517187], [46, 8, 3, 0.41001308], [50, 12, 3, 0.8520835], [55, 13, 2, 0.39441213], [48, 13, 2, 0.8218161], [48, 14, 1, 0.3530748]], [[50, 1, 2, 0.537434], [55, 2, 1, 0.9675593], [43, 2, 1, 0.74870586], [51, 5, 1, 1.0]], [[48, 0, 2, 0.7862343], [48, 2, 3, 0.720037], [48, 5, 4, 1.0], [48, 9, 1, 0.8379083]], [[46, 0, 1, 0.84777015], [34, 0, 1, 0.5132446], [44, 3, 2, 0.68425596], [46, 4, 2, 0.6318013], [53, 6, 2, 0.43759435], [46, 6, 1, 0.41728047], [48, 7, 2, 0.5306089], [44, 8, 3, 0.62664485], [55, 10, 1, 0.41205382], [48, 12, 3, 1.0], [53, 13, 3, 0.91693366], [46, 13, 2, 0.65828955]], [[51, 5, 1, 1.0], [55, 8, 5, 0.99771816], [55, 13, 1, 0.8811172]], [[48, 0, 1, 0.36043724], [36, 0, 2, 0.64328015], [44, 2, 2, 0.35230863], [39, 2, 2, 0.81548566], [43, 6, 1, 0.50707585], [50, 7, 2, 0.8274365], [48, 12, 2, 0.65565264], [46, 13, 1, 0.41558793], [48, 14, 1, 1.0], [36, 14, 1, 0.78810316]], [[50, 2, 2, 1.0], [55, 11, 3, 0.3958328], [44, 14, 1, 0.5749256]], [[50, 1, 3, 1.0], [56, 4, 1, 0.5753797], [56, 8, 1, 0.5306453]], [[48, 0, 1, 0.5639444], [36, 0, 1, 0.41972646], [46, 3, 2, 0.66532856], [48, 4, 2, 0.63620883], [55, 7, 1, 0.49381992], [50, 7, 2, 0.52984643], [46, 8, 3, 0.69078106], [56, 9, 1, 0.34721074], [50, 12, 3, 1.0], [55, 13, 3, 0.85251236], [48, 13, 2, 0.63074523]], [[50, 1, 2, 0.74236053], [55, 2, 1, 0.98155826], [43, 2, 1, 0.7816151], [51, 5, 1, 1.0], [55, 6, 1, 0.3938518], [60, 12, 2, 0.91402876]], [[48, 1, 2, 0.82270396], [58, 3, 2, 0.49672547], [55, 6, 1, 0.38130945], [48, 9, 3, 0.70648843], [43, 13, 2, 0.5272155]], [[56, 1, 2, 0.52523965], [63, 4, 2, 1.0], [56, 12, 2, 0.8301784], [50, 14, 1, 0.38304338]], [[48, 1, 1, 0.54419833], [55, 4, 2, 0.78964657], [48, 12, 2, 1.0]], [[48, 0, 2, 1.0], [48, 2, 2, 0.96869934], [48, 4, 1, 0.93821734]], [[46, 1, 1, 0.3610145], [43, 4, 1, 0.64033276], [46, 5, 1, 0.9768114], [50, 9, 4, 1.0], [50, 13, 1, 0.6513596]], [[48, 1, 2, 0.76677096], [48, 3, 2, 0.50397223], [48, 5, 3, 1.0], [48, 12, 3, 0.4088479]]]\n",
            "fast_rhythmE  generate done!\n",
            "info is \n",
            " [[[49, 0, 1, 1.0], [37, 0, 1, 0.6586789], [39, 1, 3, 0.9604881], [42, 2, 2, 0.34368858], [49, 4, 2, 0.6853807], [56, 6, 2, 0.57965416], [49, 6, 1, 0.53023946], [51, 7, 2, 0.7710558], [47, 8, 3, 0.4188448], [51, 12, 3, 0.878042], [56, 13, 2, 0.40143886], [49, 13, 2, 0.8478621]], [[49, 4, 1, 0.35201204], [42, 13, 1, 1.0]], [[49, 5, 2, 0.93068963], [47, 8, 1, 0.4936804], [45, 10, 2, 0.5432325], [42, 12, 2, 1.0], [40, 14, 1, 0.79063076]], [[51, 2, 2, 0.97410136], [39, 2, 3, 0.60823756], [39, 5, 2, 1.0], [51, 6, 2, 0.9840327], [56, 11, 3, 0.7596423], [45, 14, 1, 0.7924844]], [[49, 1, 2, 0.7422518], [49, 3, 2, 0.48586303], [49, 5, 3, 1.0]], [[49, 0, 2, 0.6680601], [52, 2, 2, 0.6983826], [63, 7, 3, 1.0], [61, 12, 2, 0.8755155], [61, 14, 1, 0.9916219], [49, 14, 1, 0.89331394]], [[51, 2, 2, 1.0], [39, 2, 2, 0.7943809], [39, 4, 3, 0.880792], [51, 6, 1, 0.632421], [45, 14, 1, 0.553387]], [[51, 8, 1, 0.5030212], [52, 10, 3, 1.0], [54, 12, 2, 0.5310671], [54, 14, 1, 0.8279775]], [[49, 0, 1, 0.39933506], [61, 4, 1, 1.0], [49, 13, 2, 0.66102153]], [[47, 1, 3, 1.0], [44, 10, 2, 0.44864637], [47, 14, 1, 0.48750257]], [[49, 0, 1, 0.40485206], [37, 0, 1, 0.55622673], [47, 3, 2, 0.76516575], [49, 4, 2, 0.9068265], [37, 6, 1, 0.5361252], [47, 9, 2, 0.7145486], [37, 13, 2, 1.0], [39, 14, 1, 0.5291157]], [[49, 1, 2, 0.8529957], [49, 3, 2, 0.52305704], [49, 5, 2, 1.0]], [[49, 0, 1, 1.0], [37, 0, 1, 0.64752907], [39, 1, 2, 0.93970305], [42, 2, 2, 0.34839615], [49, 4, 2, 0.69730645], [56, 6, 2, 0.5501827], [49, 6, 1, 0.5296212], [51, 7, 2, 0.7494941], [47, 8, 3, 0.42073458], [51, 12, 3, 0.88567954], [56, 13, 2, 0.39596], [49, 13, 2, 0.86480343]], [[49, 10, 2, 1.0], [51, 12, 2, 0.56757873], [51, 14, 1, 0.5749698]], [[49, 0, 1, 0.5234382], [37, 0, 1, 0.6332731], [39, 2, 2, 0.7673534], [37, 6, 1, 0.44811064], [39, 7, 3, 1.0], [47, 13, 1, 0.33423033], [37, 13, 2, 0.93550646], [49, 14, 1, 0.61933184]], [[57, 0, 2, 0.99375266], [57, 2, 2, 1.0], [63, 4, 2, 0.81165814], [63, 8, 1, 0.88293046], [68, 10, 2, 0.54093015], [68, 12, 2, 0.6945845], [68, 14, 1, 0.34249768]]]\n",
            "fast_rhythmF  generate done!\n",
            "info is \n",
            " [[[55, 4, 1, 0.5433008], [62, 7, 2, 0.4081236], [60, 10, 2, 0.34088522], [60, 12, 2, 0.5977169], [60, 14, 1, 0.6144194]], [[60, 1, 1, 0.5865166], [52, 2, 1, 0.6811336], [60, 5, 1, 1.0]], [[60, 3, 3, 0.6456698], [60, 6, 7, 0.665428], [60, 13, 3, 1.0]], [[67, 4, 1, 0.5376009], [74, 7, 2, 0.43974534], [72, 10, 2, 0.33801323], [72, 12, 2, 0.61504257], [72, 14, 1, 0.6381238]], [[60, 5, 1, 0.59694433], [64, 8, 5, 1.0], [64, 13, 1, 0.85671383]], [[60, 0, 1, 1.0], [48, 0, 1, 0.6517935], [50, 1, 2, 0.96746445], [53, 2, 2, 0.3374912], [60, 4, 2, 0.6722217], [67, 6, 2, 0.6555818], [60, 6, 1, 0.52529126], [62, 7, 2, 0.8141003], [58, 8, 3, 0.40238208], [62, 12, 3, 0.81708014], [67, 13, 2, 0.3975255], [60, 13, 2, 0.7981664], [60, 14, 1, 0.39305663]], [[60, 0, 2, 0.53637284], [53, 1, 2, 0.6816783], [55, 2, 3, 0.4517536], [64, 2, 2, 1.0], [64, 4, 2, 0.9872646], [53, 9, 2, 0.7081854], [48, 14, 1, 0.4591772]], [[64, 5, 3, 0.773159], [64, 8, 3, 0.84371126], [65, 12, 3, 1.0]], [[67, 4, 2, 0.68422866], [74, 7, 2, 0.5193718], [72, 12, 2, 0.6576078], [72, 14, 1, 0.6863781]], [[64, 0, 2, 0.63479906], [67, 1, 2, 0.912856], [65, 4, 2, 0.97203875], [65, 8, 3, 1.0], [64, 10, 2, 0.679287]], [[60, 10, 2, 1.0], [62, 12, 2, 0.9008529], [62, 14, 1, 0.8223555]], [[60, 0, 1, 0.5971178], [72, 4, 1, 1.0], [60, 14, 1, 0.94742835]], [[57, 1, 1, 0.55219066], [62, 2, 1, 1.0], [50, 2, 4, 0.9495922], [58, 5, 1, 0.96665967]], [[57, 1, 1, 0.6375193], [62, 2, 1, 0.96861666], [50, 2, 2, 0.89318484], [58, 5, 1, 1.0]], [[55, 1, 1, 0.78756535], [58, 2, 2, 0.57568395], [69, 7, 2, 0.9033039], [67, 14, 1, 0.46701005], [55, 14, 1, 1.0]], [[70, 2, 2, 1.0], [77, 4, 2, 0.7009854], [76, 14, 1, 0.55895436]]]\n",
            "fast_rhythmF#  generate done!\n",
            "info is \n",
            " [[[49, 0, 1, 0.40489158], [61, 4, 1, 0.6114317], [68, 6, 2, 0.58377314], [70, 9, 2, 0.5845849], [68, 13, 3, 1.0], [61, 13, 2, 0.5105289]], [[71, 2, 2, 1.0], [78, 4, 2, 0.6696355], [71, 4, 2, 0.40446714], [65, 14, 1, 0.5552001]], [[61, 9, 1, 0.47690415], [59, 10, 2, 1.0], [61, 12, 2, 0.54296637], [61, 14, 1, 0.66464126]], [[61, 1, 1, 1.0], [68, 4, 2, 0.87267727], [75, 7, 2, 0.41907492], [73, 14, 1, 0.6465619], [61, 14, 1, 0.52266145]], [[65, 1, 2, 0.63112265], [70, 2, 1, 0.9523892], [58, 2, 1, 0.8316651], [66, 5, 1, 1.0]], [[61, 0, 1, 0.63091123], [49, 0, 1, 0.4217237], [59, 3, 2, 0.64186436], [61, 4, 2, 0.59466326], [49, 6, 1, 0.3750516], [56, 7, 1, 0.45663816], [63, 7, 3, 0.60279727], [59, 8, 3, 0.5995092], [63, 12, 3, 1.0], [68, 13, 3, 0.76018703], [61, 13, 2, 0.6362801]], [[61, 0, 2, 1.0], [61, 2, 2, 0.96223855], [61, 4, 1, 0.9270993], [61, 9, 1, 0.95099694]], [[61, 0, 2, 0.8363224], [71, 3, 2, 0.75709015], [73, 4, 2, 0.9963024], [61, 6, 1, 0.5241481], [71, 9, 2, 0.525213], [75, 12, 2, 0.36785588], [73, 13, 2, 1.0], [75, 14, 1, 0.5720446]], [[61, 1, 1, 0.5691877], [58, 4, 1, 0.59440583], [61, 5, 1, 0.94813657], [65, 9, 4, 1.0], [65, 13, 1, 0.77128017]], [[63, 0, 2, 0.63343436], [71, 2, 2, 0.39488026], [66, 2, 2, 0.7747333], [70, 6, 1, 0.48899296], [77, 7, 2, 0.79558575], [75, 12, 2, 0.7053548], [75, 14, 1, 1.0], [63, 14, 1, 0.84495217]], [[68, 4, 1, 0.575583], [75, 7, 2, 0.58869845], [73, 10, 2, 0.42156574], [73, 12, 2, 0.71760744], [73, 14, 1, 0.67597103]], [[63, 5, 2, 0.9956577], [56, 12, 2, 0.90391034], [54, 13, 3, 1.0]], [[61, 0, 1, 0.7315388], [49, 0, 2, 0.69013655], [51, 2, 1, 0.5427953], [49, 6, 1, 0.40220386], [51, 7, 3, 1.0], [59, 8, 5, 0.4008037], [59, 13, 1, 0.5494971], [49, 13, 2, 0.84277004], [61, 14, 1, 0.67056215]], [[65, 1, 2, 1.0], [71, 4, 2, 0.79336333]], [[61, 10, 2, 1.0], [63, 12, 2, 0.8776353], [63, 14, 1, 0.6631451]], [[65, 0, 2, 0.49953535], [68, 1, 3, 1.0], [66, 4, 2, 0.9252881], [66, 8, 3, 0.9814845], [65, 10, 2, 0.71229756]]]\n",
            "fast_rhythmG  generate done!\n",
            "info is \n",
            " [[[48, 2, 2, 1.0], [54, 4, 1, 0.54913914], [54, 8, 1, 0.35871717], [59, 10, 2, 0.33485585], [59, 12, 2, 0.5823806], [59, 14, 1, 0.6010372]], [[60, 2, 2, 1.0], [66, 4, 1, 0.55312103], [71, 10, 2, 0.34695485], [71, 12, 2, 0.6283994], [71, 14, 1, 0.65096384]], [[60, 0, 1, 0.43954343], [72, 4, 1, 0.7165879], [79, 6, 2, 0.5566869], [81, 9, 2, 0.594578], [79, 13, 2, 1.0], [72, 13, 2, 0.55981755], [79, 15, 1, 0.75077844]], [[62, 0, 1, 0.6336469], [50, 0, 2, 0.70321023], [52, 2, 2, 1.0], [57, 6, 2, 0.60482794], [64, 7, 2, 0.9366374], [62, 12, 2, 0.4233506], [60, 13, 1, 0.5251661], [64, 14, 1, 0.38029492], [62, 14, 1, 0.93507284], [50, 14, 1, 0.77089304]], [[59, 6, 2, 0.8106349], [60, 8, 1, 0.87059635]], [[62, 0, 1, 0.7141093], [50, 0, 1, 0.4704471], [60, 3, 2, 0.655807], [62, 4, 2, 0.6003333], [69, 6, 2, 0.4174642], [64, 7, 2, 0.4612502], [60, 9, 2, 0.6244682], [71, 10, 1, 0.38156378], [64, 12, 3, 1.0], [69, 13, 3, 0.99838823], [62, 13, 2, 0.5790492]], [[62, 0, 1, 0.40971887], [50, 0, 1, 0.3462453], [60, 3, 2, 0.4762804], [62, 4, 2, 0.56188613], [69, 6, 2, 0.4325948], [71, 10, 1, 0.44373867], [64, 12, 2, 0.78779185], [69, 13, 3, 1.0], [62, 13, 2, 0.43566543], [64, 14, 1, 0.50645185]], [[62, 0, 2, 0.65033436], [64, 2, 1, 0.76037055], [76, 7, 3, 1.0], [74, 12, 2, 0.5806215], [72, 13, 1, 0.3744064], [62, 13, 2, 0.89737487], [74, 14, 1, 0.88052994]], [[60, 1, 1, 0.4871554], [57, 4, 1, 0.37314174], [60, 5, 1, 1.0], [64, 9, 4, 0.91054255], [64, 13, 1, 0.7470491]], [[60, 3, 2, 0.33550614], [62, 4, 2, 0.5429962], [69, 6, 2, 0.45687342], [71, 9, 2, 0.54653883], [64, 12, 2, 0.6955188], [69, 13, 3, 1.0], [62, 13, 2, 0.45618388], [64, 14, 1, 0.50025976]], [[59, 1, 2, 0.5537478], [64, 2, 1, 0.9990656], [52, 2, 1, 0.7150056], [60, 5, 1, 1.0]], [[57, 1, 1, 0.9175148], [59, 7, 2, 1.0], [57, 14, 1, 0.95144844]], [[62, 0, 2, 0.788434], [72, 3, 2, 0.70749056], [74, 4, 2, 1.0], [62, 6, 1, 0.494456], [72, 9, 2, 0.43445408], [62, 13, 2, 0.9332942], [64, 14, 1, 0.5213829]], [[60, 6, 3, 0.40397772], [62, 10, 3, 1.0], [64, 12, 2, 0.56921345], [64, 14, 1, 0.8612794]], [[60, 1, 1, 0.60271335], [60, 5, 3, 0.5431075], [62, 10, 2, 0.7410341], [62, 12, 2, 0.8865431]], [[62, 0, 1, 0.5108876], [72, 3, 2, 0.41801214], [74, 4, 2, 0.8698009], [81, 6, 2, 0.8955304], [79, 6, 2, 0.3604231], [83, 9, 2, 0.86099803], [81, 13, 3, 1.0], [74, 13, 2, 0.78237444], [76, 14, 1, 0.47199088]]]\n",
            "fast_rhythmG#  generate done!\n",
            "info is \n",
            " [[[49, 0, 1, 0.40780303], [61, 4, 1, 0.65081966], [68, 6, 2, 0.5569828], [70, 9, 2, 0.5892744], [68, 13, 3, 1.0], [61, 13, 2, 0.52597785]], [[61, 1, 1, 0.71604115], [58, 4, 1, 0.39112562], [61, 5, 1, 0.90728515], [65, 9, 4, 1.0], [65, 13, 1, 0.6090279]], [[61, 2, 2, 1.0], [68, 4, 2, 0.80580616], [67, 14, 1, 0.52232254]], [[61, 2, 5, 0.40348768], [61, 7, 3, 0.8869829], [60, 11, 2, 0.88502556], [61, 13, 3, 1.0]], [[67, 5, 3, 0.6698048], [67, 8, 1, 0.8623941], [68, 12, 3, 1.0]], [[65, 5, 1, 0.9480619], [58, 12, 2, 1.0], [56, 13, 2, 0.9964423]], [[67, 3, 2, 0.5315875], [67, 5, 3, 0.64692885], [67, 8, 2, 0.9399767], [68, 10, 2, 0.8797178], [68, 12, 3, 1.0]], [[65, 5, 2, 0.9445771], [56, 14, 2, 1.0]], [[61, 6, 3, 0.8446399], [63, 10, 3, 1.0], [65, 12, 2, 0.43519977], [65, 14, 1, 0.67804706]], [[61, 1, 2, 0.49796343], [72, 2, 3, 1.0]], [[61, 1, 2, 0.83145535], [61, 3, 2, 0.5156419], [61, 5, 3, 1.0]], [[61, 2, 2, 1.0], [49, 4, 2, 0.6783942], [55, 14, 1, 0.5823012]], [[67, 2, 2, 1.0], [72, 11, 3, 0.40280366], [61, 14, 1, 0.58357936]], [[61, 10, 2, 0.8268223], [63, 12, 2, 1.0], [63, 14, 1, 0.7385221]], [[67, 2, 2, 1.0], [55, 4, 2, 0.52517813], [67, 6, 1, 0.5373399], [72, 11, 4, 0.56793267], [61, 14, 1, 0.75100756]], [[61, 6, 2, 0.8752459], [63, 12, 2, 1.0]]]\n",
            "fast_rhythmA  generate done!\n",
            "info is \n",
            " [[[54, 0, 1, 0.605793], [42, 0, 1, 0.38632306], [52, 3, 2, 0.6042361], [54, 4, 2, 0.5744725], [61, 6, 2, 0.39699256], [56, 7, 2, 0.34642678], [62, 9, 1, 0.37743968], [52, 9, 2, 0.58728504], [56, 12, 3, 0.9181586], [61, 13, 3, 1.0], [54, 13, 2, 0.50053215]], [[62, 1, 3, 1.0], [68, 4, 1, 0.57336104], [68, 8, 1, 0.44807687], [73, 12, 3, 0.43609717]], [[54, 0, 1, 0.5282346], [66, 4, 2, 1.0], [54, 13, 2, 0.70224595]], [[52, 1, 3, 1.0], [49, 10, 2, 0.49430668], [52, 14, 1, 0.42153406]], [[61, 4, 2, 0.7123219], [68, 7, 2, 0.8872056], [66, 12, 2, 0.6887599], [66, 14, 1, 0.7483587], [54, 14, 1, 0.6676421]], [[54, 0, 2, 0.3997248], [49, 0, 1, 0.4794849], [59, 3, 2, 0.4460706], [61, 4, 2, 1.0], [49, 13, 2, 0.47191507]], [[49, 0, 2, 0.6380974], [52, 1, 2, 0.8761388], [50, 5, 1, 0.97082233], [50, 8, 3, 1.0], [49, 10, 1, 0.6511679]], [[56, 1, 1, 0.5275681], [61, 2, 1, 1.0], [49, 2, 4, 0.9594342], [57, 5, 1, 0.9405262], [61, 6, 1, 0.3376283]], [[52, 1, 3, 1.0], [49, 10, 2, 0.4580506], [52, 14, 1, 0.47611392]], [[56, 1, 2, 0.52398163], [61, 2, 1, 1.0], [49, 2, 1, 0.55143106], [57, 5, 1, 0.7969363], [66, 12, 2, 0.64116055]], [[50, 1, 3, 1.0], [56, 4, 1, 0.49471316]], [[54, 0, 2, 0.62399334], [62, 2, 1, 0.33908147], [57, 3, 1, 0.51057875], [61, 6, 2, 0.55414], [68, 7, 2, 0.8520062], [66, 12, 2, 0.7535946], [66, 14, 1, 0.90765804], [54, 14, 1, 1.0]], [[54, 0, 2, 0.82885796], [61, 4, 2, 0.5980106], [68, 7, 2, 0.9522337], [66, 12, 2, 0.6310698], [66, 14, 1, 0.79385257], [54, 14, 1, 1.0]], [[54, 0, 1, 0.6410948], [42, 0, 1, 0.60669243], [44, 1, 2, 0.48679653], [52, 3, 2, 0.7108788], [54, 4, 2, 0.6529919], [42, 6, 1, 0.5246419], [44, 7, 3, 0.7153785], [52, 9, 2, 0.5883355], [56, 12, 3, 0.9220832], [54, 13, 2, 1.0]], [[54, 1, 1, 0.6963162], [64, 3, 2, 0.596102], [61, 5, 2, 0.52223337], [52, 7, 1, 0.50525194], [54, 9, 3, 0.59568006], [49, 14, 1, 0.5366812]], [[54, 2, 2, 1.0], [54, 4, 2, 0.9181821], [50, 5, 2, 0.494266], [38, 14, 1, 0.4704463]]]\n",
            "fast_rhythmA#  generate done!\n",
            "info is \n",
            " [[[55, 0, 2, 0.64227986], [63, 2, 2, 0.3774138], [58, 2, 2, 0.74817103], [62, 6, 1, 0.45765996], [69, 7, 2, 0.7939642], [67, 12, 2, 0.71466213], [67, 14, 1, 1.0], [55, 14, 1, 0.87355494]], [[63, 1, 2, 0.72672004], [70, 4, 2, 0.849216], [63, 12, 2, 1.0], [57, 14, 1, 0.37735987]], [[57, 1, 2, 0.7307607], [62, 2, 1, 0.9680989], [50, 2, 1, 0.76377004], [58, 5, 1, 1.0], [62, 6, 1, 0.37789106], [67, 12, 2, 0.9108337]], [[55, 0, 2, 0.7702403], [63, 2, 2, 0.33732498], [58, 3, 1, 0.9853077], [62, 6, 1, 0.4129884], [69, 7, 2, 0.83338404], [67, 12, 2, 0.6736481], [67, 14, 1, 0.92991287], [55, 14, 1, 1.0]], [[62, 4, 2, 0.72201085], [69, 7, 2, 0.549479], [67, 12, 2, 0.6142312], [67, 14, 1, 0.65537316]], [[55, 0, 1, 0.3706315], [67, 4, 2, 1.0], [55, 13, 2, 0.61722434]], [[60, 4, 1, 0.62032115], [67, 7, 2, 0.6195258], [65, 12, 2, 0.47257805], [65, 14, 1, 0.5090322]], [[55, 1, 1, 1.0], [62, 4, 2, 0.80314344], [67, 14, 1, 0.4670939]], [[58, 1, 2, 0.83582526], [57, 4, 1, 1.0], [58, 10, 2, 0.8417275], [58, 12, 1, 0.57778436], [53, 14, 1, 0.71925306]], [[55, 1, 1, 0.96010834], [58, 3, 1, 0.7687811], [69, 7, 2, 0.84344864], [67, 12, 2, 0.3365551], [67, 14, 1, 0.7228681], [55, 14, 1, 1.0]], [[58, 1, 1, 0.7322201], [55, 4, 1, 0.3720306], [58, 5, 1, 0.9312604], [62, 9, 4, 1.0], [62, 13, 1, 0.55544615]], [[58, 0, 2, 0.53850335], [51, 1, 1, 0.35046804], [62, 2, 2, 1.0], [62, 4, 2, 0.99006265], [58, 5, 2, 0.3922691], [51, 10, 2, 0.52114534], [46, 14, 1, 0.43789232]], [[55, 0, 2, 0.81758285], [55, 2, 2, 0.93173146], [55, 4, 2, 0.8695917], [55, 6, 2, 1.0], [55, 8, 1, 0.81359243]], [[55, 0, 2, 0.61398834], [58, 3, 1, 0.6125295], [62, 6, 1, 0.3680432], [69, 7, 2, 0.8297887], [67, 12, 2, 0.7234605], [67, 14, 1, 0.9142574], [55, 14, 1, 1.0]], [[58, 1, 1, 0.8245933], [50, 2, 1, 0.6538489], [58, 5, 1, 1.0], [62, 9, 2, 0.839968], [67, 12, 2, 0.5504221]], [[53, 0, 1, 0.6163884], [65, 4, 2, 0.93574774], [72, 6, 2, 1.0], [70, 6, 3, 0.46700588], [74, 9, 2, 0.9615904], [72, 13, 2, 0.37802258], [65, 13, 2, 0.8031751], [72, 15, 1, 0.35412458]]]\n",
            "fast_rhythmB  generate done!\n",
            "info is \n",
            " [[[49, 0, 1, 0.49187306], [37, 0, 2, 0.67200553], [39, 2, 1, 0.9177538], [44, 6, 2, 0.60033566], [51, 7, 2, 0.89258486], [49, 12, 2, 0.5816373], [47, 13, 1, 0.49711248], [49, 14, 1, 1.0], [37, 14, 1, 0.77619773]], [[37, 0, 2, 0.71910405], [37, 2, 2, 0.75298274], [37, 4, 4, 1.0], [37, 8, 1, 0.6717919]], [[37, 0, 1, 0.6313275], [25, 0, 1, 0.59180677], [27, 1, 2, 0.43758228], [35, 3, 2, 0.7921106], [37, 4, 2, 0.6720883], [25, 6, 1, 0.51832163], [27, 7, 3, 0.67439175], [35, 9, 3, 0.69289416], [39, 12, 3, 0.9842885], [37, 13, 2, 1.0]], [[40, 1, 1, 0.7191471], [37, 4, 1, 0.39420468], [40, 5, 1, 0.91597], [44, 9, 4, 1.0], [44, 13, 1, 0.58445454]], [[37, 0, 2, 0.98110974], [37, 2, 2, 0.9139822], [37, 4, 2, 1.0], [37, 9, 1, 0.93028]], [[37, 0, 1, 0.63201034], [49, 4, 1, 0.5936478], [37, 13, 2, 1.0]], [[39, 5, 3, 0.8059896], [39, 8, 3, 0.89445055], [40, 12, 3, 1.0]], [[40, 1, 1, 0.67115045], [44, 2, 1, 1.0], [32, 2, 1, 0.624451], [40, 5, 1, 0.96213496], [49, 12, 2, 0.7549471]], [[40, 1, 2, 0.6430825], [39, 4, 1, 1.0], [40, 10, 2, 0.6747419], [40, 12, 1, 0.87326914], [35, 14, 2, 0.97604734]], [[37, 5, 1, 0.8329603], [30, 12, 2, 1.0], [28, 13, 2, 0.9316013]], [[37, 0, 1, 0.9563405], [25, 0, 2, 0.6317497], [27, 1, 2, 0.7119799], [25, 6, 1, 0.4999553], [27, 7, 2, 1.0], [35, 8, 3, 0.4744261], [39, 12, 2, 0.5187379], [37, 13, 2, 0.81049836], [39, 14, 1, 0.38840282], [37, 14, 1, 0.37141845]], [[44, 4, 1, 0.58972025], [51, 7, 2, 0.4814341], [49, 10, 2, 0.33896968], [49, 12, 2, 0.6558197], [49, 14, 1, 0.68118596]], [[37, 10, 2, 1.0], [39, 12, 2, 0.4955346], [39, 14, 1, 0.5635037]], [[39, 1, 1, 0.58771324], [44, 2, 1, 0.8402097], [32, 2, 4, 0.7469031], [40, 5, 1, 1.0], [44, 6, 1, 0.6878813], [49, 11, 3, 0.9223346]], [[39, 2, 2, 0.6530828], [28, 2, 2, 1.0], [27, 4, 1, 0.5319698], [23, 6, 1, 0.44918132], [28, 9, 2, 0.8627567], [23, 14, 2, 0.6464919]], [[40, 1, 2, 0.6621667], [47, 4, 2, 1.0], [40, 12, 2, 0.84544796], [34, 14, 1, 0.3999295]]]\n",
            "leaping_twistingC  generate done!\n",
            "info is \n",
            " [[[53, 2, 2, 1.0], [60, 4, 2, 0.49774858], [59, 14, 1, 0.68396306]], [[67, 4, 2, 0.5940944], [74, 7, 2, 0.66492623], [72, 12, 2, 0.44666886], [72, 14, 1, 0.519062]], [[60, 4, 2, 0.543499], [67, 6, 2, 0.46006626], [69, 9, 2, 0.554874], [62, 12, 2, 0.68086326], [67, 13, 3, 1.0], [60, 13, 2, 0.46066627], [62, 14, 1, 0.50724775]], [[67, 4, 1, 0.57946056], [74, 7, 2, 0.4399153], [67, 8, 1, 0.3345482], [72, 10, 2, 0.37647265], [72, 12, 2, 0.72917706], [72, 14, 1, 0.6607942]], [[69, 0, 1, 0.6319246], [57, 0, 1, 0.41622075], [67, 3, 2, 0.6200363], [69, 4, 2, 0.58036625], [76, 6, 2, 0.4057066], [71, 7, 2, 0.39392245], [77, 9, 1, 0.37459835], [67, 9, 2, 0.59933174], [71, 12, 3, 0.94762254], [76, 13, 3, 1.0], [69, 13, 2, 0.52548707]], [[60, 2, 2, 0.77161515], [57, 5, 2, 0.7982746], [48, 7, 1, 1.0], [45, 14, 2, 0.7594116]], [[59, 1, 2, 0.6406482], [64, 2, 1, 1.0], [52, 2, 1, 0.7152277], [60, 5, 1, 0.9680506], [69, 12, 2, 0.951135]], [[55, 0, 2, 0.7336272], [52, 0, 2, 0.6759976], [53, 5, 3, 0.96352637], [53, 8, 3, 1.0], [52, 10, 1, 0.5265955]], [[62, 0, 2, 0.80850655], [72, 3, 2, 0.6272852], [74, 4, 2, 0.76478744], [62, 6, 1, 0.5173519], [64, 7, 1, 0.421991], [72, 9, 2, 0.5324292], [76, 12, 2, 0.34134087], [74, 13, 2, 1.0], [76, 14, 1, 0.50913376]], [[62, 0, 2, 0.6061402], [59, 0, 2, 0.69344133], [60, 5, 3, 0.9296818], [60, 8, 3, 1.0], [59, 10, 1, 0.41407403]], [[62, 0, 1, 0.3848773], [50, 0, 1, 0.34272867], [60, 3, 2, 0.46562377], [62, 4, 2, 0.5585302], [69, 6, 2, 0.42727163], [71, 10, 1, 0.44560647], [64, 12, 2, 0.7820735], [69, 13, 3, 1.0], [62, 13, 2, 0.4355683], [64, 14, 1, 0.50775844]], [[67, 4, 1, 0.5899575], [74, 7, 2, 0.5968745], [72, 10, 2, 0.41866967], [72, 12, 2, 0.73694134], [72, 14, 1, 0.70476675]], [[62, 1, 3, 1.0], [60, 3, 3, 0.47308612], [60, 8, 2, 0.69114643], [59, 10, 2, 0.60652447]], [[60, 1, 1, 0.43754873], [64, 2, 1, 1.0], [52, 2, 1, 0.5017999], [60, 5, 1, 0.7645564], [69, 12, 2, 0.5906374]], [[59, 1, 4, 0.9239605], [59, 5, 2, 1.0]], [[57, 0, 1, 0.5051301], [45, 0, 1, 0.4389419], [55, 3, 2, 0.6635403], [57, 4, 2, 0.69930494], [64, 7, 1, 0.5322967], [59, 7, 2, 0.4548353], [55, 8, 3, 0.6784057], [65, 9, 1, 0.3773728], [59, 12, 2, 1.0], [64, 13, 3, 0.9275757], [57, 13, 2, 0.64436626], [59, 14, 1, 0.7343097]]]\n",
            "leaping_twistingC#  generate done!\n",
            "info is \n",
            " [[[49, 1, 1, 0.6817328], [53, 2, 1, 1.0], [41, 2, 1, 0.6280113], [49, 5, 1, 0.9687711], [58, 12, 2, 0.7755383]], [[56, 1, 1, 0.62498266], [48, 2, 1, 0.70562], [56, 5, 1, 1.0]], [[58, 0, 2, 0.71057194], [66, 2, 2, 0.37096825], [61, 3, 1, 0.90100104], [65, 6, 1, 0.4104143], [72, 7, 2, 0.796159], [70, 12, 2, 0.66708595], [70, 14, 1, 0.9350503], [58, 14, 1, 1.0]], [[66, 1, 3, 1.0], [72, 4, 1, 0.57062495], [72, 8, 1, 0.398581], [77, 12, 3, 0.45519504]], [[58, 0, 1, 0.528377], [46, 0, 1, 0.6220158], [48, 2, 2, 0.74887836], [46, 6, 1, 0.4514448], [48, 7, 3, 1.0], [46, 13, 2, 0.9239225], [48, 14, 1, 0.33785248], [58, 14, 1, 0.58733463]], [[58, 10, 2, 1.0], [60, 12, 2, 0.4868728], [60, 14, 1, 0.5693135]], [[58, 5, 1, 0.6808482], [51, 12, 2, 1.0], [49, 13, 2, 0.8925815]], [[61, 1, 3, 1.0], [58, 10, 2, 0.45348406], [61, 14, 1, 0.503821]], [[60, 1, 2, 1.0], [48, 2, 2, 0.3777908], [60, 3, 1, 0.7820283], [48, 4, 1, 0.50835955], [49, 12, 1, 0.53791344], [44, 14, 1, 0.6890232]], [[61, 2, 2, 0.97161883], [60, 4, 1, 0.89835334], [61, 9, 3, 1.0], [61, 12, 1, 0.33928573], [56, 14, 1, 0.5725637]], [[61, 1, 1, 0.6517756], [53, 2, 1, 0.7251912], [61, 5, 1, 1.0]], [[58, 0, 1, 0.8727862], [46, 0, 1, 0.652467], [48, 1, 3, 0.9173664], [56, 3, 2, 0.560415], [58, 4, 2, 0.61551225], [46, 6, 1, 0.5472579], [48, 7, 3, 1.0], [56, 9, 2, 0.46567148], [60, 12, 3, 0.5456443], [58, 13, 2, 0.9478758]], [[58, 0, 2, 1.0], [58, 2, 2, 0.9790646], [58, 4, 1, 0.9489702]], [[48, 5, 2, 0.95947224], [42, 7, 1, 0.49271315], [46, 8, 1, 0.59078133], [44, 10, 2, 0.5609475], [41, 12, 2, 1.0], [39, 14, 1, 0.8705664]], [[61, 2, 2, 0.82259333], [58, 5, 2, 0.8502733], [61, 7, 1, 1.0], [58, 14, 2, 0.803265]], [[60, 1, 1, 0.61714065], [65, 2, 1, 0.83291197], [53, 2, 2, 0.7153065], [61, 5, 1, 1.0], [65, 6, 1, 0.6073239], [70, 11, 3, 0.8957339]]]\n",
            "leaping_twistingD  generate done!\n",
            "info is \n",
            " [[[50, 1, 1, 0.47622108], [50, 5, 1, 1.0], [54, 9, 4, 0.913723], [54, 13, 1, 0.74700725]], [[55, 2, 2, 1.0], [61, 4, 1, 0.5887761], [66, 12, 2, 0.65955323], [66, 14, 1, 0.6889391]], [[61, 5, 2, 0.89407], [55, 7, 1, 1.0], [59, 8, 1, 0.5746855], [57, 10, 2, 0.6058104], [54, 12, 1, 0.8694774], [52, 14, 1, 0.852164]], [[59, 1, 1, 1.0], [62, 3, 1, 0.46903875], [66, 4, 2, 0.8004416], [73, 7, 2, 0.6072083], [71, 14, 1, 0.7388447], [59, 14, 1, 0.7172972]], [[55, 2, 2, 1.0], [43, 4, 2, 0.7191119], [55, 6, 1, 0.43231192], [49, 14, 1, 0.8928011]], [[55, 1, 3, 1.0], [61, 4, 2, 0.57645226], [66, 12, 2, 0.4476558], [66, 14, 1, 0.5307264], [54, 14, 1, 0.35038632]], [[54, 2, 2, 0.6710232], [54, 7, 3, 1.0], [55, 12, 2, 0.84497553], [55, 14, 1, 0.8984027]], [[55, 1, 2, 0.650697], [62, 4, 2, 1.0], [55, 12, 2, 0.8503523], [49, 14, 1, 0.39305082]], [[54, 1, 2, 1.0], [42, 2, 2, 0.39794204], [54, 3, 1, 0.8050116], [42, 4, 1, 0.5286766], [43, 12, 1, 0.5588653], [38, 14, 1, 0.7462227]], [[55, 1, 3, 1.0], [61, 4, 1, 0.5476872]], [[49, 5, 2, 0.83250386], [43, 7, 1, 1.0], [47, 8, 1, 0.5406606], [45, 10, 2, 0.5751479], [42, 12, 1, 0.76069903], [40, 14, 1, 0.7957631]], [[54, 1, 1, 0.6407266], [55, 5, 3, 0.65611744], [55, 8, 1, 0.8771395]], [[55, 0, 4, 1.0], [61, 4, 2, 0.8268652], [61, 8, 1, 0.89748245], [66, 10, 2, 0.4842434], [66, 12, 3, 0.6174022]], [[55, 1, 3, 1.0], [52, 10, 2, 0.4526391], [55, 14, 1, 0.5019941]], [[54, 1, 2, 0.57515854], [54, 3, 2, 0.80955076], [54, 5, 8, 1.0], [54, 13, 2, 0.81500787]], [[54, 5, 2, 0.9549259], [52, 8, 1, 0.57111514], [50, 10, 2, 0.54109937], [47, 12, 2, 1.0], [45, 14, 1, 0.8305779]]]\n",
            "leaping_twistingD#  generate done!\n",
            "info is \n",
            " [[[51, 1, 1, 0.47070676], [55, 2, 1, 1.0], [43, 2, 1, 0.5085149], [51, 5, 1, 0.7765936], [60, 12, 2, 0.6046446]], [[60, 1, 1, 0.8798985], [62, 2, 2, 1.0], [67, 6, 1, 0.37847123], [74, 7, 2, 0.8242233], [72, 12, 2, 0.65519804], [72, 14, 1, 0.87867236], [60, 14, 1, 0.9479427]], [[60, 2, 2, 1.0], [60, 4, 2, 0.9241868], [56, 5, 2, 0.51587397], [44, 14, 1, 0.4943268]], [[62, 1, 3, 1.0], [68, 4, 1, 0.5194757]], [[58, 1, 3, 1.0], [55, 10, 2, 0.4667217], [58, 14, 1, 0.49212348]], [[60, 0, 2, 0.9876055], [60, 2, 2, 0.921065], [60, 4, 2, 0.9323648], [60, 9, 1, 1.0]], [[50, 5, 2, 0.9531596], [44, 7, 1, 0.5566941], [48, 8, 1, 0.59659773], [46, 10, 2, 0.5541014], [43, 12, 2, 1.0], [41, 14, 1, 0.8714874]], [[63, 0, 2, 0.4600898], [56, 1, 2, 0.54625213], [67, 2, 4, 1.0], [70, 3, 2, 0.54243857], [68, 9, 2, 0.5795576], [63, 14, 1, 0.44101295]], [[65, 0, 1, 0.35802367], [62, 5, 2, 0.60078496], [67, 6, 2, 0.59493166], [56, 7, 1, 1.0], [53, 14, 1, 0.86302143]], [[60, 0, 2, 0.68847543], [60, 2, 2, 0.73883677], [60, 4, 4, 1.0], [60, 8, 2, 0.6963634]], [[60, 0, 2, 0.8015775], [60, 2, 2, 0.93285346], [60, 4, 2, 0.8696095], [60, 6, 2, 1.0], [60, 8, 1, 0.80019283]], [[58, 1, 1, 0.65436137], [55, 4, 1, 0.4074822], [58, 5, 1, 0.8080709], [62, 9, 4, 1.0], [62, 13, 1, 0.67096776]], [[60, 5, 2, 0.88243085], [58, 8, 1, 0.3727102], [56, 10, 2, 0.55260205], [53, 12, 2, 1.0], [51, 13, 2, 0.7517399]], [[60, 1, 2, 0.79719734], [70, 3, 2, 0.5151557], [67, 6, 1, 0.39557093], [60, 9, 4, 0.6852289], [55, 14, 1, 0.51412594]], [[60, 4, 2, 1.0], [53, 13, 1, 0.8142449]], [[60, 10, 3, 1.0], [62, 12, 2, 0.7318881], [62, 14, 1, 0.82736766]]]\n",
            "leaping_twistingE  generate done!\n",
            "info is \n",
            " [[[51, 1, 1, 0.5294619], [56, 2, 1, 0.96884656], [44, 2, 3, 0.87177104], [52, 5, 1, 0.39406794], [44, 5, 2, 0.8414952], [56, 6, 1, 0.9590129], [61, 11, 4, 1.0]], [[51, 1, 1, 0.6517101], [56, 2, 1, 0.9821678], [44, 2, 2, 0.8894061], [52, 5, 1, 1.0]], [[45, 2, 2, 1.0], [51, 4, 2, 0.65940446], [51, 8, 1, 0.6919952], [56, 10, 2, 0.43087795], [56, 12, 2, 0.66327596], [56, 14, 1, 0.42193148]], [[56, 4, 1, 0.5942036], [63, 7, 2, 0.50182164], [56, 8, 1, 0.65494704], [61, 10, 2, 0.5003383], [61, 12, 2, 0.66351736], [61, 14, 1, 0.39445195]], [[52, 0, 1, 0.64128184], [64, 4, 2, 1.0], [71, 6, 2, 0.8980082], [69, 7, 2, 0.49585932], [73, 9, 2, 0.9122739], [64, 13, 2, 0.8071348]], [[56, 4, 2, 0.6834838], [63, 7, 2, 0.5586686], [61, 12, 2, 0.6809787], [61, 14, 1, 0.6643726]], [[54, 1, 1, 1.0], [57, 3, 1, 0.70916104], [68, 7, 2, 0.78677815], [66, 14, 1, 0.79373515], [54, 14, 1, 0.9100697]], [[57, 1, 2, 1.0], [63, 4, 2, 0.91328114], [68, 14, 1, 0.33917567]], [[51, 5, 1, 0.7199664], [44, 12, 2, 1.0], [42, 13, 2, 0.8526043]], [[54, 0, 2, 0.8240928], [64, 3, 2, 0.6946733], [66, 4, 2, 0.863256], [54, 6, 1, 0.5317573], [56, 7, 1, 0.35217407], [64, 9, 2, 0.5480155], [68, 12, 2, 0.3645702], [66, 13, 2, 1.0], [68, 14, 1, 0.5463055]], [[52, 0, 1, 0.54747784], [64, 4, 2, 0.7724278], [71, 6, 2, 1.0], [69, 7, 2, 0.6278929], [73, 9, 2, 0.682314], [64, 13, 2, 0.6853567], [71, 15, 1, 0.38530686]], [[54, 1, 3, 1.0], [52, 4, 2, 0.5444018], [52, 8, 3, 0.76582307], [51, 10, 2, 0.63967764]], [[52, 1, 1, 0.7120979], [49, 4, 1, 0.38342762], [52, 5, 1, 0.89098644], [56, 9, 4, 1.0], [56, 13, 1, 0.6046857]], [[51, 0, 1, 0.5140069], [63, 4, 2, 1.0], [51, 13, 2, 0.7720844]], [[47, 1, 1, 0.748724], [44, 4, 1, 0.3511574], [47, 5, 1, 0.9462556], [51, 9, 4, 1.0], [51, 13, 1, 0.46737355]], [[61, 0, 1, 0.6210951], [49, 0, 1, 0.40294686], [59, 3, 2, 0.6126153], [61, 4, 2, 0.57601726], [68, 6, 2, 0.3970721], [63, 7, 2, 0.37485248], [69, 9, 1, 0.37018895], [59, 9, 2, 0.5964038], [63, 12, 3, 0.9371728], [68, 13, 3, 1.0], [61, 13, 2, 0.51987004]]]\n",
            "leaping_twistingF  generate done!\n",
            "info is \n",
            " [[[52, 1, 2, 0.5372189], [57, 2, 1, 1.0], [45, 2, 1, 0.57165015], [53, 5, 1, 0.829073], [62, 12, 2, 0.7070479]], [[60, 5, 1, 0.8582464], [64, 8, 5, 1.0], [64, 13, 1, 0.8822754]], [[65, 5, 1, 0.6335946], [69, 8, 5, 1.0], [69, 13, 1, 0.8622822]], [[67, 0, 1, 0.3573503], [55, 0, 1, 0.45904884], [65, 3, 2, 0.5905573], [67, 4, 2, 0.68627787], [69, 6, 3, 0.33760428], [74, 7, 1, 0.5327529], [65, 8, 3, 0.5459259], [76, 9, 2, 0.35698012], [69, 12, 2, 1.0], [74, 13, 3, 0.73331785], [67, 13, 2, 0.7133328], [69, 14, 1, 0.77643347]], [[70, 2, 2, 1.0], [77, 4, 2, 0.6953837], [70, 4, 2, 0.34759215], [64, 14, 1, 0.5655461]], [[65, 1, 3, 0.9297234], [64, 4, 1, 1.0], [65, 10, 2, 0.9719701], [65, 12, 1, 0.3821039], [60, 14, 1, 0.5830316]], [[62, 0, 2, 0.712969], [65, 3, 1, 0.7262295], [76, 7, 2, 0.9146151], [74, 12, 2, 0.69565845], [74, 14, 1, 0.864801], [62, 14, 1, 1.0]], [[62, 0, 2, 0.38698468], [57, 0, 1, 0.52184755], [67, 3, 2, 0.48633045], [69, 4, 2, 1.0], [57, 13, 2, 0.53497136]], [[57, 2, 2, 0.49401516], [46, 2, 2, 1.0], [45, 4, 1, 0.5978484], [41, 6, 1, 0.44632408], [46, 9, 2, 0.901816], [41, 14, 2, 0.65454865]], [[62, 1, 4, 0.90716887], [62, 5, 2, 1.0]], [[57, 0, 2, 0.6353184], [58, 5, 3, 0.72644913], [58, 8, 1, 0.8481457]], [[62, 1, 1, 0.79463655], [65, 3, 1, 0.6266241], [76, 7, 2, 0.8322104], [74, 14, 1, 0.57037586], [62, 14, 1, 1.0]], [[62, 0, 2, 0.61938137], [70, 2, 1, 0.37724158], [65, 2, 2, 0.5025211], [69, 6, 2, 0.6221734], [76, 7, 2, 0.87079173], [74, 12, 2, 0.8209329], [74, 14, 1, 0.9455428], [62, 14, 1, 1.0]], [[64, 5, 3, 0.758033], [64, 8, 3, 0.8433942], [65, 12, 3, 1.0]], [[62, 0, 2, 0.678717], [62, 2, 2, 0.7291073], [62, 4, 4, 1.0], [62, 8, 2, 0.70906544]], [[57, 5, 1, 0.4258124], [58, 7, 1, 1.0], [60, 7, 1, 0.9595262], [57, 14, 1, 0.64645123]]]\n",
            "leaping_twistingF#  generate done!\n",
            "info is \n",
            " [[[49, 1, 1, 0.71693045], [46, 4, 1, 0.38930663], [49, 5, 1, 0.91027963], [53, 9, 4, 1.0], [53, 13, 1, 0.59134203]], [[61, 4, 2, 0.6393327], [68, 7, 2, 0.6063772], [66, 12, 2, 0.50142825], [66, 14, 1, 0.54165035]], [[53, 2, 2, 1.0], [41, 4, 2, 0.677244], [47, 14, 1, 0.6839808]], [[58, 3, 2, 0.54064596], [58, 5, 3, 0.65571624], [58, 8, 2, 0.9813437], [59, 10, 2, 0.90044445], [59, 12, 2, 1.0]], [[54, 0, 1, 0.8300363], [42, 0, 1, 0.6347373], [44, 2, 2, 1.0], [53, 4, 2, 0.48369038], [61, 6, 2, 0.67269385], [54, 6, 1, 0.4351257], [56, 7, 2, 0.8860387], [56, 12, 2, 0.43474263], [54, 13, 2, 0.7303972], [56, 14, 1, 0.54904616], [54, 14, 1, 0.5911108]], [[56, 0, 2, 0.64397466], [59, 2, 2, 0.6359669], [63, 6, 1, 0.37202722], [70, 7, 3, 0.9149408], [68, 12, 2, 0.823399], [68, 14, 1, 1.0], [56, 14, 1, 0.93052083]], [[54, 1, 1, 0.4351334], [51, 4, 1, 0.44202128], [54, 5, 1, 0.8049356], [58, 9, 4, 1.0], [58, 13, 1, 0.5251044]], [[54, 3, 4, 0.5190892], [54, 7, 3, 0.8051734], [53, 11, 2, 0.89383143], [54, 13, 3, 1.0]], [[53, 5, 1, 0.38312218], [46, 12, 2, 1.0], [44, 13, 2, 0.83617926]], [[53, 1, 2, 0.55010986], [58, 2, 1, 1.0], [46, 2, 1, 0.59373003], [54, 5, 1, 0.8537081], [63, 12, 2, 0.7508679]], [[53, 8, 1, 0.8429268], [54, 10, 2, 0.7339626], [54, 12, 2, 1.0]], [[53, 1, 1, 0.6655915], [58, 2, 1, 0.88254565], [46, 2, 2, 0.74064684], [54, 5, 1, 1.0], [58, 6, 1, 0.56659657], [63, 11, 3, 0.9136866]], [[53, 1, 3, 1.0], [59, 4, 1, 0.56363577]], [[53, 0, 1, 0.6437947], [53, 13, 2, 1.0]], [[54, 2, 2, 0.7137588], [51, 5, 2, 0.8128565], [42, 7, 1, 1.0], [39, 14, 2, 0.7723868]], [[53, 1, 2, 0.5392636], [58, 2, 1, 1.0], [46, 2, 1, 0.7140126], [54, 5, 1, 0.97309154]]]\n",
            "leaping_twistingG  generate done!\n",
            "info is \n",
            " [[[48, 2, 2, 1.0], [55, 4, 2, 0.50049955], [54, 14, 1, 0.70765704]], [[57, 0, 2, 0.75340426], [60, 3, 1, 0.6860363], [64, 4, 1, 0.35789648], [71, 7, 2, 0.8880287], [69, 12, 2, 0.64400154], [69, 14, 1, 0.80371577], [57, 14, 1, 1.0]], [[54, 1, 1, 0.47945717], [59, 2, 2, 1.0], [47, 2, 3, 0.971351], [55, 5, 1, 0.83520854], [47, 5, 1, 0.46388888], [59, 6, 1, 0.41011018]], [[54, 2, 2, 1.0], [42, 2, 3, 0.5933938], [42, 5, 2, 0.8479617], [54, 6, 1, 0.70206696], [48, 14, 1, 0.84432787]], [[64, 0, 2, 0.7667843], [72, 2, 3, 0.39579034], [67, 3, 1, 0.964841], [71, 6, 1, 0.44699404], [78, 7, 2, 0.8111064], [76, 12, 2, 0.67420596], [76, 14, 1, 0.9407232], [64, 14, 1, 1.0]], [[54, 0, 2, 0.9054318], [54, 2, 2, 0.87033653], [54, 4, 1, 0.833205], [54, 9, 1, 1.0]], [[48, 1, 2, 0.40022945], [59, 2, 3, 1.0], [47, 4, 1, 0.36507127], [43, 14, 1, 0.43730557]], [[55, 1, 1, 0.7235135], [52, 4, 1, 0.39639187], [55, 5, 1, 0.9181132], [59, 9, 4, 1.0], [59, 13, 1, 0.5789219]], [[55, 1, 2, 0.46989056], [66, 2, 3, 1.0], [62, 14, 1, 0.34921694]], [[64, 0, 2, 0.6349501], [72, 2, 2, 0.37627056], [67, 2, 2, 0.7821528], [71, 6, 1, 0.50384027], [78, 7, 2, 0.80407715], [76, 12, 2, 0.679771], [74, 13, 1, 0.37754765], [76, 14, 1, 1.0], [64, 14, 1, 0.81541973]], [[57, 1, 1, 0.91401476], [60, 2, 1, 0.40524876], [71, 7, 2, 1.0], [69, 14, 1, 0.91246325]], [[57, 1, 1, 0.6468047], [67, 2, 3, 0.6020577], [64, 5, 2, 0.5646643], [55, 7, 1, 0.7365893], [57, 9, 3, 0.5531666], [52, 14, 1, 0.5730127]], [[55, 1, 1, 0.6015329], [52, 4, 1, 0.38170674], [55, 5, 1, 0.96291894], [59, 9, 5, 1.0]], [[54, 1, 2, 0.49719], [59, 2, 1, 1.0], [47, 2, 1, 0.5195798], [55, 5, 1, 0.75658256], [64, 12, 2, 0.5733294]], [[48, 3, 4, 0.5461398], [48, 7, 3, 0.8083521], [47, 11, 2, 0.8960282], [48, 13, 3, 1.0]], [[57, 0, 1, 0.4826606], [45, 0, 1, 0.36845487], [55, 3, 2, 0.54022413], [57, 4, 2, 0.5736849], [64, 6, 2, 0.4106076], [55, 8, 3, 0.38779905], [66, 10, 1, 0.3938851], [59, 12, 3, 0.8434009], [64, 13, 3, 1.0], [57, 13, 2, 0.4610024]]]\n",
            "leaping_twistingG#  generate done!\n",
            "info is \n",
            " [[[48, 1, 1, 0.45859843], [53, 2, 1, 0.96397686], [41, 2, 3, 0.8524653], [41, 5, 2, 0.96243346], [53, 6, 1, 1.0], [58, 11, 3, 0.94852525]], [[49, 2, 2, 1.0], [37, 2, 2, 0.8168237], [37, 4, 3, 0.8757004], [49, 6, 1, 0.6209109], [43, 14, 1, 0.49511406]], [[55, 5, 2, 0.93807214], [49, 7, 1, 0.33705786], [53, 8, 1, 0.57537526], [51, 10, 2, 0.53654885], [48, 12, 2, 1.0], [46, 14, 1, 0.8226945]], [[53, 1, 1, 0.83639], [56, 2, 2, 0.6248782], [67, 7, 2, 0.95574975], [65, 14, 1, 0.46998698], [53, 14, 1, 1.0]], [[49, 2, 2, 1.0], [56, 4, 2, 0.82567906], [49, 12, 2, 0.36083275], [43, 14, 1, 0.46695137]], [[51, 0, 2, 0.53076625], [44, 1, 2, 0.66371727], [46, 2, 3, 0.4725658], [55, 2, 2, 1.0], [55, 4, 2, 0.9871242], [44, 9, 2, 0.68528956], [39, 14, 1, 0.45975038]], [[48, 5, 2, 0.8665019], [44, 10, 2, 0.5588327], [41, 12, 2, 1.0], [39, 13, 2, 0.7612025]], [[53, 4, 1, 0.6338004], [60, 7, 2, 0.6448572], [58, 12, 2, 0.71694183], [58, 14, 1, 0.7262293]], [[55, 2, 2, 1.0], [43, 5, 1, 0.59650266], [55, 6, 1, 0.74653625], [60, 11, 4, 0.58736795], [49, 14, 1, 0.76296324]], [[49, 0, 2, 0.4874903], [53, 2, 2, 1.0], [53, 4, 2, 0.9776126], [49, 5, 2, 0.4384292], [37, 14, 1, 0.41931054]], [[44, 2, 2, 1.0], [43, 4, 1, 0.7941336], [39, 6, 1, 0.39119577], [44, 9, 3, 0.9959111], [44, 12, 1, 0.34468257], [39, 14, 2, 0.6464785]], [[51, 0, 1, 0.48157418], [39, 0, 1, 0.55906135], [49, 3, 2, 0.845097], [51, 4, 2, 0.82335407], [39, 6, 1, 0.5411998], [41, 7, 2, 0.41232693], [49, 9, 2, 0.88975173], [53, 12, 2, 0.70977885], [51, 13, 2, 1.0], [53, 14, 1, 0.6412849]], [[53, 1, 1, 0.8334229], [56, 2, 2, 0.6023757], [67, 7, 2, 0.9637899], [65, 14, 1, 0.4475258], [53, 14, 1, 1.0]], [[53, 4, 2, 0.64810556], [60, 7, 2, 0.5105607], [58, 12, 2, 0.667373], [58, 14, 1, 0.6907078]], [[49, 1, 3, 1.0], [55, 4, 1, 0.57378584], [55, 8, 1, 0.4708967], [60, 12, 3, 0.4211128]], [[49, 1, 2, 0.63164], [56, 4, 2, 0.84762716], [49, 12, 2, 1.0], [43, 14, 1, 0.3350955]]]\n",
            "leaping_twistingA  generate done!\n",
            "info is \n",
            " [[[49, 1, 2, 0.4500504], [54, 2, 1, 1.0], [42, 2, 1, 0.49779826], [50, 5, 1, 0.74109197], [59, 12, 2, 0.5437861]], [[64, 4, 1, 0.62339956], [71, 7, 2, 0.49718082], [69, 12, 2, 0.6669603], [69, 14, 1, 0.69373465]], [[62, 1, 2, 1.0], [68, 4, 2, 0.91348994]], [[59, 0, 1, 0.40308753], [71, 4, 1, 0.63181984], [78, 6, 2, 0.5483146], [80, 9, 2, 0.5852227], [78, 13, 3, 1.0], [71, 13, 2, 0.5202222]], [[59, 1, 1, 1.0], [66, 4, 2, 0.82797503], [71, 14, 1, 0.46863818]], [[56, 5, 1, 0.5008452], [57, 7, 1, 1.0], [47, 7, 1, 0.8164134], [44, 14, 1, 0.59240955]], [[59, 1, 3, 1.0], [56, 10, 2, 0.45505756], [59, 14, 1, 0.47164568]], [[59, 0, 2, 0.7789778], [69, 3, 2, 0.5671741], [71, 4, 2, 0.6951705], [59, 6, 1, 0.50916284], [61, 7, 1, 0.49356633], [69, 9, 2, 0.5278068], [59, 13, 2, 1.0], [61, 14, 1, 0.4850818]], [[61, 5, 3, 0.76076996], [61, 8, 3, 0.84349203], [62, 12, 3, 1.0]], [[66, 4, 2, 0.6776342], [73, 6, 3, 0.4394346], [71, 12, 2, 0.6196295], [71, 14, 1, 0.5439968]], [[64, 0, 2, 0.55667114], [57, 1, 2, 0.71792734], [68, 2, 2, 1.0], [68, 4, 2, 0.98727155], [57, 9, 3, 0.7173036], [52, 14, 1, 0.4651198]], [[59, 9, 1, 0.49277395], [57, 10, 2, 1.0], [59, 12, 2, 0.55486995], [59, 14, 1, 0.67375433]], [[56, 5, 1, 0.5439936], [57, 7, 1, 1.0], [47, 7, 1, 0.6840518], [44, 14, 1, 0.54920757]], [[66, 4, 1, 0.55345327], [73, 7, 2, 0.5620922], [66, 8, 1, 0.49664402], [71, 10, 2, 0.4139091], [71, 12, 2, 0.6876013], [71, 14, 1, 0.5915994]], [[61, 5, 1, 0.7408563], [57, 10, 2, 0.5087973], [54, 12, 2, 1.0], [52, 13, 2, 0.80167097]], [[59, 0, 2, 0.40804738], [56, 0, 2, 0.7202736], [57, 5, 3, 0.8956381], [57, 8, 3, 1.0]]]\n",
            "leaping_twistingA#  generate done!\n",
            "info is \n",
            " [[[51, 1, 2, 0.886021], [58, 4, 2, 1.0], [51, 12, 2, 0.8333676], [45, 14, 1, 0.5671698]], [[46, 1, 3, 0.59135956], [57, 2, 4, 1.0], [46, 9, 4, 0.5359449], [41, 14, 1, 0.3594305]], [[51, 2, 2, 1.0], [57, 4, 2, 0.6483274], [57, 8, 1, 0.6313249], [62, 10, 2, 0.37152934], [62, 12, 2, 0.5444102], [62, 14, 1, 0.5509126]], [[45, 2, 2, 1.0], [33, 4, 2, 0.3792113], [38, 11, 4, 0.5064209], [39, 14, 1, 0.7457019]], [[46, 0, 2, 0.8334971], [58, 4, 2, 0.3708128], [46, 6, 1, 0.47854096], [48, 7, 2, 0.94917786], [46, 14, 1, 1.0]], [[46, 1, 2, 0.8110965], [57, 2, 3, 1.0], [53, 6, 1, 0.36170906], [46, 9, 3, 0.6917534], [41, 14, 1, 0.5169376]], [[46, 1, 3, 1.0], [43, 10, 2, 0.4468372], [46, 14, 1, 0.5011479]], [[46, 0, 1, 0.9211629], [34, 0, 1, 0.54620665], [36, 1, 2, 0.6515064], [45, 4, 2, 0.59890544], [53, 6, 2, 0.5027776], [46, 6, 1, 0.50822634], [48, 7, 2, 1.0], [48, 12, 2, 0.46414912], [46, 13, 2, 0.7983195], [48, 14, 1, 0.4291497]], [[45, 5, 1, 0.943163], [38, 12, 2, 1.0], [36, 13, 2, 0.9866991]], [[45, 5, 1, 0.8820902], [38, 12, 2, 1.0], [36, 13, 2, 0.978881]], [[53, 4, 2, 0.6343324], [60, 7, 2, 0.6211567], [58, 12, 2, 0.48983097], [58, 14, 1, 0.5294023]], [[45, 6, 2, 0.88390964], [46, 8, 1, 0.8432878]], [[46, 6, 3, 0.83741117], [48, 10, 3, 1.0], [50, 12, 2, 0.43407807], [50, 14, 1, 0.69576204]], [[48, 0, 1, 0.3639784], [36, 0, 1, 0.55120337], [46, 3, 2, 0.6445586], [48, 4, 2, 1.0], [36, 6, 1, 0.5048671], [46, 9, 2, 0.34800485], [36, 13, 2, 0.9883654], [38, 14, 1, 0.33944666]], [[46, 1, 1, 0.5990431], [43, 4, 1, 0.5966211], [46, 5, 1, 0.88579047], [50, 9, 4, 1.0], [50, 13, 1, 0.7399756]], [[51, 1, 2, 0.87269926], [58, 4, 2, 1.0], [51, 12, 2, 0.86327606], [45, 14, 1, 0.5618699]]]\n",
            "leaping_twistingB  generate done!\n",
            "info is \n",
            " [[[58, 2, 2, 1.0], [46, 5, 1, 0.6490052], [58, 6, 1, 0.7871932], [63, 11, 4, 0.5967927], [52, 14, 1, 0.7827171]], [[56, 1, 1, 0.85961354], [59, 3, 1, 1.0], [63, 6, 1, 0.36408013], [70, 7, 2, 0.8445517], [68, 12, 2, 0.6743403], [68, 14, 1, 0.91555744], [56, 14, 1, 0.9788342]], [[54, 0, 1, 0.4725742], [64, 3, 2, 0.5206069], [66, 4, 2, 0.7114822], [73, 7, 1, 0.58261067], [64, 8, 3, 0.4197629], [75, 9, 2, 0.4337146], [68, 12, 2, 1.0], [73, 13, 2, 0.74942553], [66, 13, 2, 0.7374214], [68, 14, 1, 0.79005355], [73, 15, 1, 0.38535792]], [[52, 2, 2, 1.0], [59, 4, 2, 0.9297291], [52, 12, 2, 0.645414], [46, 14, 1, 0.43744954]], [[58, 5, 3, 0.6720228], [58, 8, 1, 0.8582076], [59, 12, 3, 1.0]], [[52, 1, 3, 1.0], [49, 10, 2, 0.502129], [52, 14, 1, 0.4128366]], [[54, 9, 1, 1.0], [52, 10, 2, 0.92795026], [54, 13, 2, 0.91881675]], [[58, 1, 1, 0.47405002], [63, 2, 1, 0.6052044], [51, 2, 1, 0.68104345], [59, 5, 1, 1.0]], [[49, 0, 1, 1.0], [37, 0, 1, 0.6601956], [39, 1, 2, 0.8653036], [42, 2, 2, 0.36318704], [47, 3, 2, 0.6197504], [49, 4, 2, 0.7259676], [56, 6, 2, 0.52095926], [49, 6, 1, 0.5383698], [51, 7, 2, 0.7115862], [47, 8, 3, 0.45361227], [51, 12, 3, 0.9079833], [56, 13, 2, 0.44084984], [49, 13, 2, 0.88931715]], [[52, 6, 3, 0.36163267], [54, 10, 3, 1.0], [56, 12, 2, 0.5760812], [56, 14, 1, 0.8616707]], [[56, 5, 2, 0.93231815], [49, 12, 1, 0.53031635], [47, 14, 2, 1.0]], [[52, 2, 2, 1.0], [40, 2, 3, 0.45932072], [40, 5, 2, 0.8076008], [52, 6, 1, 0.6588568], [46, 14, 1, 0.88992673]], [[52, 1, 3, 1.0], [58, 4, 1, 0.6229368], [63, 12, 2, 0.6997037], [63, 14, 1, 0.7161628]], [[52, 6, 2, 0.77565455], [54, 12, 2, 1.0]], [[52, 1, 3, 1.0], [58, 4, 2, 0.5791728], [63, 12, 2, 0.44582993], [63, 14, 1, 0.51574427], [51, 14, 1, 0.33378232]], [[52, 1, 4, 0.9659134], [52, 5, 2, 1.0]]]\n",
            "no skillsC  generate done!\n",
            "info is \n",
            " [[[48, 14, 1, 1.0]], [[55, 4, 2, 0.5763143], [62, 7, 2, 0.67260814], [60, 12, 2, 0.4504499], [60, 14, 1, 0.5353919], [48, 14, 1, 0.363206]], [[52, 5, 2, 0.84668046], [48, 10, 2, 0.5577359], [45, 12, 2, 1.0], [43, 13, 2, 0.78507423]], [[48, 0, 2, 0.7744082], [48, 2, 3, 0.71371335], [48, 5, 4, 1.0], [48, 9, 1, 0.8317956]], [[48, 0, 2, 0.8637024], [48, 2, 3, 0.7713032], [48, 5, 3, 1.0], [48, 8, 2, 0.918954]], [[48, 1, 2, 0.93332005], [47, 4, 1, 1.0], [48, 10, 2, 0.9888575], [48, 12, 1, 0.45555988], [43, 14, 1, 0.6189404]], [[50, 0, 1, 1.0], [38, 0, 1, 0.63330245], [40, 1, 2, 0.48483032], [48, 3, 2, 0.70423484], [50, 4, 2, 0.71829337], [57, 6, 2, 0.5057019], [50, 6, 1, 0.53093547], [52, 7, 2, 0.6708882], [48, 8, 3, 0.5538495], [59, 10, 1, 0.4355536], [52, 12, 2, 0.9187121], [57, 13, 3, 0.67747945], [50, 13, 2, 0.8023188], [52, 14, 1, 0.70320016]], [[48, 10, 3, 1.0], [50, 12, 2, 0.74442583], [50, 14, 1, 0.98989546]], [[50, 5, 2, 0.8871253], [41, 14, 2, 1.0]], [[48, 0, 2, 0.8381988], [48, 2, 2, 0.78376496], [48, 4, 3, 1.0], [48, 9, 1, 0.87201023]], [[48, 1, 2, 0.83834606], [59, 2, 3, 1.0], [48, 9, 2, 0.7111475], [43, 13, 2, 0.5450426]], [[52, 3, 2, 0.45927706], [52, 5, 3, 0.5349156], [52, 8, 2, 1.0], [53, 10, 2, 0.7803492], [53, 12, 2, 0.8686157]], [[50, 0, 2, 0.79978466], [62, 4, 2, 0.5045131], [50, 6, 1, 0.50221956], [52, 7, 2, 0.80960405], [60, 9, 2, 0.34877393], [50, 13, 2, 1.0], [52, 14, 1, 0.34040868]], [[57, 0, 2, 0.6534713], [65, 2, 2, 0.387954], [60, 2, 2, 0.7107031], [64, 6, 1, 0.40940422], [71, 7, 2, 0.80373085], [69, 12, 2, 0.71938914], [69, 14, 1, 1.0], [57, 14, 1, 0.9318218]], [[59, 5, 2, 0.83373225], [53, 7, 1, 0.69932425], [50, 14, 1, 1.0]], [[48, 3, 4, 0.46504578], [48, 7, 3, 0.79977936], [47, 11, 2, 0.8985164], [48, 13, 3, 1.0]]]\n",
            "no skillsC#  generate done!\n",
            "info is \n",
            " [[[48, 14, 1, 1.0]], [[56, 4, 1, 0.57285124], [63, 7, 2, 0.34127018], [56, 8, 1, 0.4508667], [61, 10, 2, 0.33398175], [61, 12, 2, 0.56803936], [61, 14, 1, 0.5825441]], [[49, 1, 3, 1.0], [46, 10, 2, 0.4469074], [49, 14, 1, 0.49942416]], [[54, 1, 2, 0.97623366], [61, 4, 2, 0.9690566], [54, 12, 2, 1.0], [48, 14, 1, 0.44866416]], [[51, 0, 1, 0.63613904], [39, 0, 2, 0.6401564], [41, 2, 1, 0.5689751], [46, 6, 1, 0.3512281], [53, 7, 2, 1.0], [49, 13, 1, 0.42105108], [39, 13, 2, 0.7908648], [51, 14, 1, 0.75583714]], [[49, 10, 2, 1.0], [51, 12, 2, 0.4827833], [51, 14, 1, 0.5544892]], [[54, 2, 2, 1.0], [60, 4, 2, 0.6834285], [60, 8, 1, 0.71108055], [65, 10, 2, 0.44459295], [65, 12, 2, 0.6944266], [65, 14, 1, 0.42995617]], [[48, 5, 2, 0.87730414], [42, 7, 1, 0.49989176], [39, 14, 1, 1.0]], [[48, 1, 1, 0.8576762], [49, 7, 2, 1.0]], [[51, 0, 1, 1.0], [39, 0, 1, 0.6701426], [41, 1, 2, 0.48870227], [49, 3, 2, 0.71047354], [51, 4, 2, 0.7433299], [58, 6, 2, 0.5244901], [51, 6, 1, 0.55818486], [53, 7, 2, 0.6884291], [49, 8, 3, 0.53464705], [60, 10, 1, 0.43508703], [53, 12, 3, 0.92919195], [58, 13, 3, 0.68556213], [51, 13, 2, 0.8267422]], [[49, 3, 4, 0.4548803], [49, 7, 3, 0.8116725], [48, 11, 2, 0.9033264], [49, 13, 3, 1.0]], [[51, 1, 1, 0.86009777], [54, 3, 1, 0.7195684], [65, 7, 2, 0.8568652], [63, 12, 2, 0.34322503], [63, 14, 1, 0.63596445], [51, 14, 1, 1.0]], [[51, 0, 1, 1.0], [39, 0, 1, 0.5721224], [41, 1, 2, 0.5929051], [51, 4, 2, 0.73687184], [58, 6, 2, 0.41691867], [51, 6, 1, 0.54491967], [53, 7, 2, 0.9598077], [49, 8, 3, 0.40759346], [53, 12, 3, 0.800296], [51, 13, 2, 0.8873119]], [[56, 4, 2, 0.7693591], [63, 7, 2, 1.0], [61, 12, 2, 0.6478708], [61, 14, 1, 0.7443533], [49, 14, 1, 0.76822305]], [[48, 2, 2, 1.0], [36, 2, 3, 0.5027004], [36, 5, 2, 0.98307604], [48, 6, 2, 0.9737804], [53, 11, 3, 0.74354005], [42, 14, 1, 0.8633925]], [[51, 1, 3, 1.0], [49, 3, 3, 0.43655628], [49, 8, 2, 0.6223785], [48, 10, 2, 0.5884849]]]\n",
            "no skillsD  generate done!\n",
            "info is \n",
            " [[[49, 1, 2, 1.0]], [[49, 1, 1, 0.64396757], [54, 2, 1, 0.98227876], [42, 2, 2, 0.87503403], [50, 5, 1, 1.0]], [[43, 0, 1, 0.7295683], [31, 0, 1, 0.6104586], [33, 1, 2, 0.56924796], [42, 4, 1, 0.3924975], [31, 6, 1, 0.3723264], [33, 7, 2, 1.0], [31, 13, 2, 0.7897616], [43, 14, 1, 0.59132093]], [[49, 2, 2, 0.6006581], [38, 2, 2, 1.0], [37, 4, 1, 0.55499226], [33, 6, 1, 0.44706354], [38, 9, 2, 0.880546], [33, 14, 2, 0.65384823]], [[49, 1, 2, 0.8522127], [49, 3, 2, 0.53968513], [49, 5, 3, 1.0]], [[45, 0, 2, 0.5656184], [38, 1, 2, 0.72464305], [40, 2, 3, 0.452925], [49, 2, 2, 1.0], [49, 4, 2, 0.98792726], [38, 9, 2, 0.72826666], [33, 14, 1, 0.46711445]], [[59, 0, 2, 0.7841076], [67, 2, 3, 0.35046846], [62, 3, 1, 0.98728657], [66, 6, 1, 0.43924513], [73, 7, 2, 0.8300256], [71, 12, 2, 0.6788702], [71, 14, 1, 0.9362939], [59, 14, 1, 1.0]], [[50, 1, 3, 0.9179074], [49, 4, 1, 0.96300006], [50, 9, 3, 1.0], [50, 12, 1, 0.35226732], [45, 14, 1, 0.538224]], [[52, 1, 1, 1.0], [55, 3, 1, 0.6667973], [66, 7, 2, 0.7242123], [64, 14, 1, 0.74087054], [52, 14, 1, 0.8995243]], [[50, 10, 3, 1.0], [52, 12, 2, 0.7235615], [52, 14, 1, 0.865091]], [[49, 0, 2, 0.658897], [50, 5, 3, 0.7805211], [50, 8, 3, 0.8497834]], [[49, 4, 2, 1.0], [42, 13, 1, 0.8084314]], [[49, 5, 1, 0.8036427], [42, 12, 2, 1.0], [40, 13, 2, 0.91393626]], [[52, 0, 1, 0.626475], [40, 0, 2, 0.7166879], [42, 7, 3, 1.0], [50, 13, 1, 0.6013726], [40, 13, 2, 0.8917821], [52, 14, 1, 0.8129282]], [[52, 0, 2, 0.80558324], [62, 3, 2, 0.6383311], [64, 4, 2, 0.76346827], [52, 6, 1, 0.5117158], [54, 7, 1, 0.4413238], [62, 9, 2, 0.55746245], [66, 12, 2, 0.35160878], [64, 13, 2, 1.0], [66, 14, 1, 0.5270114]], [[49, 6, 2, 0.8627954], [50, 8, 1, 0.8534577]]]\n",
            "no skillsD#  generate done!\n",
            "info is \n",
            " [[[48, 0, 1, 1.0]], [[48, 0, 2, 0.80897325], [56, 2, 3, 0.36615428], [51, 3, 1, 0.98632884], [55, 6, 1, 0.451346], [62, 7, 2, 0.836591], [60, 12, 2, 0.68975383], [60, 14, 1, 0.9519561], [48, 14, 1, 1.0]], [[50, 2, 2, 1.0], [38, 5, 2, 0.8225675], [50, 6, 1, 0.88218224], [55, 11, 4, 0.6456807], [44, 14, 1, 0.86072534]], [[48, 0, 1, 0.61366343], [60, 4, 1, 1.0], [48, 13, 2, 0.7602745]], [[46, 5, 1, 0.5592719], [50, 8, 5, 1.0], [50, 13, 1, 0.86026776]], [[51, 1, 1, 0.501452], [48, 4, 1, 0.41429478], [51, 5, 1, 1.0], [55, 9, 4, 0.934632], [55, 13, 1, 0.75275075]], [[55, 4, 1, 0.6400541], [62, 7, 2, 0.5717938], [60, 12, 2, 0.75408614], [60, 14, 1, 0.74768245]], [[50, 0, 2, 0.72822404], [53, 1, 1, 0.38032106], [51, 5, 3, 0.88743085], [51, 8, 3, 1.0]], [[50, 1, 2, 0.6157579], [55, 2, 1, 1.0], [43, 2, 1, 0.7010259], [51, 5, 1, 0.9438209], [60, 12, 2, 0.91054094]], [[48, 1, 1, 0.7754588], [51, 3, 1, 0.5895561], [62, 7, 2, 0.85405314], [60, 14, 1, 0.5015523], [48, 14, 1, 1.0]], [[50, 1, 2, 0.61792976], [55, 2, 1, 1.0], [43, 2, 1, 0.69289243], [51, 5, 1, 0.9458036], [60, 12, 2, 0.9032312]], [[44, 1, 2, 1.0], [50, 4, 2, 0.7951642]], [[48, 1, 1, 1.0], [51, 3, 1, 0.7870473], [62, 7, 2, 0.86782444], [60, 12, 2, 0.33642578], [60, 14, 1, 0.78123564], [48, 14, 1, 0.98323894]], [[50, 1, 3, 1.0], [56, 4, 1, 0.53696567]], [[43, 1, 2, 0.5403977], [48, 2, 1, 1.0], [36, 2, 1, 0.56530696], [44, 5, 1, 0.8221898], [53, 12, 2, 0.68678635]], [[53, 4, 1, 0.57231206], [60, 6, 3, 0.4283497], [53, 8, 1, 0.35849613], [58, 10, 2, 0.36426607], [58, 12, 2, 0.71267885], [58, 14, 1, 0.6283951]]]\n",
            "no skillsE  generate done!\n",
            "info is \n",
            " [[[49, 2, 1, 1.0]], [[44, 1, 1, 0.6573887], [49, 2, 1, 0.87226784], [37, 2, 2, 0.72866297], [45, 5, 1, 1.0], [49, 6, 1, 0.55751276], [54, 11, 3, 0.90073085]], [[49, 6, 3, 0.9975244], [51, 10, 2, 0.7767942], [51, 12, 2, 1.0]], [[49, 1, 2, 0.5865602], [49, 3, 2, 0.86251444], [49, 5, 8, 1.0], [49, 13, 2, 0.94268596]], [[54, 1, 3, 1.0], [52, 3, 3, 0.39053515], [52, 8, 1, 0.5302583], [51, 10, 2, 0.57334256]], [[51, 1, 1, 0.5394728], [56, 2, 1, 0.959067], [44, 2, 3, 0.8746287], [52, 5, 1, 0.41775337], [44, 5, 2, 0.8421938], [56, 6, 1, 0.9497109], [61, 11, 3, 1.0]], [[49, 2, 2, 1.0], [49, 4, 2, 0.9290228], [45, 5, 2, 0.5584417], [33, 14, 1, 0.53462845]], [[49, 9, 1, 1.0], [47, 10, 2, 0.939621], [49, 13, 2, 0.94986266]], [[54, 0, 1, 0.3411902], [51, 5, 2, 0.6694521], [56, 6, 1, 0.3854176], [45, 7, 1, 1.0], [42, 14, 1, 0.92682225]], [[49, 0, 2, 0.6975426], [52, 2, 2, 0.60325986], [63, 7, 3, 0.9912512], [61, 12, 2, 0.8711264], [61, 14, 1, 1.0], [49, 14, 1, 0.9751978]], [[49, 0, 1, 0.34411195], [61, 4, 2, 1.0], [49, 13, 2, 0.5127758]], [[49, 0, 1, 0.66264457], [37, 0, 1, 0.602667], [39, 1, 2, 0.7909193], [37, 6, 1, 0.45485327], [39, 7, 3, 1.0], [47, 8, 3, 0.35513958], [37, 13, 2, 0.9158104], [39, 14, 1, 0.38042256], [49, 14, 1, 0.44649878]], [[56, 4, 1, 0.6202502], [63, 7, 2, 0.6340962], [61, 12, 2, 0.46310928], [61, 14, 1, 0.4986207]], [[49, 9, 1, 0.5682226], [47, 10, 2, 1.0], [49, 14, 1, 0.7340096]], [[49, 1, 1, 1.0], [56, 4, 2, 0.85379004], [63, 7, 2, 0.41585708], [61, 14, 1, 0.64114606], [49, 14, 1, 0.49976936]], [[52, 0, 2, 0.5406459], [45, 1, 2, 0.6813345], [47, 2, 3, 0.5166561], [56, 2, 2, 1.0], [56, 4, 2, 0.9881749], [45, 9, 2, 0.6777969], [40, 14, 1, 0.4603055]]]\n",
            "no skillsF  generate done!\n",
            "info is \n",
            " [[[48, 2, 1, 1.0]], [[38, 0, 2, 0.7264742], [46, 2, 2, 0.38410935], [41, 3, 1, 0.90612525], [45, 6, 1, 0.47493905], [52, 7, 2, 0.7845008], [50, 12, 2, 0.65840167], [50, 14, 1, 0.93029], [38, 14, 1, 1.0]], [[48, 5, 1, 1.0], [52, 8, 5, 0.8963702], [52, 13, 1, 0.7584251]], [[48, 9, 1, 1.0], [46, 10, 2, 0.857724], [48, 13, 2, 0.9185644]], [[48, 0, 1, 0.5057392], [60, 4, 2, 1.0], [48, 13, 2, 0.7846167]], [[48, 0, 1, 1.0], [36, 0, 1, 0.6579727], [38, 1, 2, 0.9052276], [41, 2, 2, 0.3600806], [46, 3, 2, 0.60126746], [48, 4, 2, 0.72339284], [55, 6, 2, 0.5372638], [48, 6, 1, 0.5330912], [50, 7, 2, 0.7249436], [46, 8, 3, 0.4463724], [50, 12, 3, 0.90976804], [55, 13, 2, 0.4232958], [48, 13, 2, 0.87434316]], [[48, 0, 2, 0.67285466], [48, 2, 2, 0.7384356], [48, 4, 4, 1.0], [48, 8, 2, 0.80232185]], [[46, 1, 2, 0.7241129], [53, 4, 2, 1.0], [46, 12, 2, 0.8568943], [40, 14, 1, 0.41371822]], [[52, 2, 2, 1.0], [40, 5, 2, 0.87704223], [52, 6, 2, 0.91259074], [57, 11, 3, 0.67311585], [46, 14, 1, 0.86217993]], [[50, 1, 1, 0.84176666], [53, 2, 2, 0.5697792], [64, 7, 2, 0.9760263], [62, 14, 1, 0.41033068], [50, 14, 1, 1.0]], [[48, 0, 2, 0.4438518], [41, 1, 2, 0.53392756], [52, 2, 4, 1.0], [55, 3, 2, 0.4979362], [53, 9, 2, 0.55415994], [48, 14, 1, 0.43707284]], [[48, 1, 1, 0.7910417], [52, 2, 1, 0.3909636], [40, 2, 1, 0.6584115], [48, 5, 1, 1.0], [52, 8, 2, 0.45077917], [57, 12, 2, 0.7431698]], [[48, 0, 1, 0.999229], [36, 0, 2, 0.6541905], [38, 1, 2, 0.7851267], [48, 4, 2, 0.6840795], [55, 6, 2, 0.4040131], [48, 6, 1, 0.52442056], [50, 7, 2, 1.0], [46, 8, 3, 0.47693273], [50, 12, 3, 0.7179128], [48, 13, 2, 0.82869005]], [[52, 5, 2, 0.9657689], [46, 7, 1, 1.0], [50, 8, 1, 0.6224449], [48, 10, 2, 0.63987863], [45, 12, 1, 0.979216], [43, 14, 1, 0.93137056]], [[55, 4, 1, 0.575665], [62, 6, 3, 0.39347214], [55, 8, 1, 0.514976], [60, 10, 2, 0.3603212], [60, 12, 2, 0.67980057], [60, 14, 1, 0.53781605]], [[50, 0, 2, 0.6712874], [53, 2, 2, 0.7575666], [64, 7, 3, 0.9537972], [62, 12, 2, 0.7334604], [60, 13, 1, 0.33794644], [50, 13, 2, 0.8932686], [62, 14, 1, 1.0]]]\n",
            "no skillsF#  generate done!\n",
            "info is \n",
            " [[[49, 2, 1, 1.0]], [[46, 1, 2, 0.5178938], [51, 2, 1, 0.86650395], [39, 2, 1, 0.6777283], [47, 5, 1, 1.0]], [[49, 1, 2, 0.8243545], [59, 3, 2, 0.46943662], [56, 6, 1, 0.34566405], [49, 9, 2, 0.71141624], [44, 13, 2, 0.54149413]], [[49, 0, 2, 1.0], [49, 2, 2, 0.98288745], [49, 4, 1, 0.9559781]], [[49, 1, 1, 0.6431898], [41, 2, 1, 0.45591548], [46, 4, 1, 0.36796358], [49, 5, 1, 1.0], [53, 9, 5, 0.9586169]], [[49, 0, 2, 1.0], [49, 2, 2, 0.96103007], [49, 4, 1, 0.9266156], [49, 9, 1, 0.98478055]], [[47, 3, 3, 0.5245932], [47, 6, 4, 0.7951404], [46, 11, 2, 0.8757798], [47, 13, 3, 1.0]], [[49, 2, 1, 0.5841584], [49, 8, 1, 1.0]], [[56, 4, 1, 0.6041256], [63, 7, 2, 0.48399124], [56, 8, 1, 0.66271204], [61, 10, 2, 0.50420594], [61, 12, 2, 0.6660944], [61, 14, 1, 0.37981597]], [[49, 0, 2, 0.70579267], [46, 0, 2, 0.668011], [47, 5, 3, 0.95816547], [47, 8, 3, 1.0], [46, 10, 1, 0.5035889]], [[53, 3, 2, 0.5388484], [53, 5, 3, 0.65222925], [53, 8, 2, 0.9679601], [54, 10, 2, 0.89441675], [54, 12, 2, 1.0]], [[49, 5, 1, 0.9824958], [53, 8, 5, 1.0], [53, 13, 1, 0.8656913]], [[49, 0, 1, 0.84208983], [37, 0, 1, 0.6445513], [39, 2, 2, 1.0], [56, 6, 2, 0.63994724], [49, 6, 1, 0.4408432], [51, 7, 2, 0.8919124], [47, 8, 3, 0.3586659], [51, 12, 2, 0.45956698], [49, 13, 2, 0.7528815], [51, 14, 1, 0.55238557], [49, 14, 1, 0.5836189]], [[49, 0, 1, 0.85862607], [37, 0, 1, 0.6629205], [39, 1, 3, 0.90138704], [49, 4, 2, 0.62607497], [37, 6, 1, 0.54952085], [39, 7, 3, 1.0], [47, 9, 2, 0.46281677], [51, 12, 3, 0.5450837], [49, 13, 2, 0.9686844]], [[56, 4, 2, 0.7191352], [63, 7, 2, 0.55402446], [61, 12, 2, 0.61034477], [61, 14, 1, 0.64864504]], [[49, 0, 1, 1.0], [37, 0, 1, 0.6603646], [39, 1, 2, 0.61231786], [47, 3, 2, 0.6996462], [49, 4, 2, 0.73818076], [56, 6, 2, 0.5066584], [49, 6, 1, 0.5499796], [51, 7, 2, 0.6880257], [47, 8, 3, 0.5292409], [58, 10, 1, 0.408536], [51, 12, 3, 0.91649926], [56, 13, 3, 0.62366086], [49, 13, 2, 0.82972175]]]\n",
            "no skillsG  generate done!\n",
            "info is \n",
            " [[[48, 14, 1, 1.0]], [[50, 0, 1, 1.0], [38, 0, 1, 0.6668341], [40, 1, 2, 0.70855343], [48, 3, 2, 0.6556442], [50, 4, 2, 0.7320688], [57, 6, 2, 0.49250603], [50, 6, 1, 0.55250144], [52, 7, 2, 0.70634145], [48, 8, 3, 0.48083535], [52, 12, 3, 0.90342414], [57, 13, 3, 0.5130547], [50, 13, 2, 0.8618353]], [[48, 1, 1, 0.4798598], [55, 4, 2, 0.7684041], [48, 12, 2, 1.0]], [[47, 5, 2, 0.88081646], [45, 8, 1, 0.36573362], [43, 10, 2, 0.5601291], [40, 12, 2, 1.0], [38, 13, 2, 0.7520043]], [[48, 1, 1, 0.47891447], [48, 6, 2, 0.7134996], [50, 12, 2, 1.0]], [[48, 0, 2, 0.8159224], [48, 2, 2, 0.93752384], [48, 4, 2, 0.8720698], [48, 6, 2, 1.0], [48, 8, 1, 0.81610423]], [[45, 0, 1, 0.82347053], [33, 0, 1, 0.48958707], [43, 3, 2, 0.62999463], [45, 4, 2, 0.61438483], [33, 6, 1, 0.47359383], [35, 7, 3, 0.72845745], [43, 8, 3, 0.5092711], [47, 12, 3, 1.0], [52, 13, 3, 0.594931], [45, 13, 2, 0.7260328]], [[48, 2, 2, 1.0], [48, 4, 2, 0.9367468], [45, 7, 1, 0.7771795], [35, 7, 1, 0.5583446]], [[50, 0, 2, 0.4005865], [43, 1, 3, 0.5465715], [54, 2, 4, 1.0], [57, 3, 2, 0.46958998], [55, 9, 2, 0.5831053], [50, 14, 1, 0.43573803]], [[50, 0, 2, 0.83231056], [60, 3, 2, 0.71933824], [62, 4, 2, 1.0], [50, 6, 1, 0.5152982], [60, 9, 2, 0.4569068], [64, 12, 2, 0.3370079], [62, 13, 2, 0.95633405], [64, 14, 1, 0.5416007]], [[54, 5, 3, 0.6468312], [54, 8, 1, 0.90656906], [55, 10, 2, 0.8579403], [55, 12, 3, 1.0]], [[54, 5, 1, 0.44109392], [55, 7, 1, 1.0], [57, 7, 1, 0.88738126], [54, 14, 1, 0.5918982]], [[48, 1, 2, 0.56234753], [55, 4, 2, 1.0], [48, 12, 2, 0.8621427], [42, 14, 1, 0.39657247]], [[48, 0, 1, 0.33916685], [60, 4, 2, 0.53619903], [67, 6, 2, 0.4700487], [69, 9, 2, 0.582656], [62, 12, 2, 0.48410258], [67, 13, 3, 1.0], [60, 13, 2, 0.502913], [62, 14, 1, 0.45599896]], [[54, 2, 2, 1.0], [42, 4, 2, 0.49683267], [54, 6, 1, 0.47352737], [59, 11, 4, 0.56245446], [48, 14, 1, 0.75956553]], [[54, 2, 2, 1.0], [42, 2, 3, 0.49520868], [42, 5, 2, 0.97273344], [54, 6, 2, 0.96414155], [59, 11, 3, 0.727362], [48, 14, 1, 0.8306319]]]\n",
            "no skillsG#  generate done!\n",
            "info is \n",
            " [[[48, 2, 1, 1.0]], [[48, 1, 2, 0.5203517], [53, 2, 1, 0.8131519], [41, 2, 1, 0.6871596], [49, 5, 1, 1.0]], [[48, 0, 2, 0.75463605], [48, 2, 3, 0.7781777], [48, 5, 3, 1.0], [48, 8, 2, 0.9290807]], [[48, 0, 2, 0.85288733], [48, 2, 3, 0.7605795], [48, 5, 3, 1.0], [48, 8, 2, 0.88677377]], [[48, 8, 1, 1.0]], [[51, 0, 2, 0.5513183], [44, 1, 2, 0.6632414], [55, 2, 2, 1.0], [55, 4, 2, 0.9881553], [44, 9, 3, 0.71103674], [39, 14, 1, 0.46349815]], [[48, 0, 2, 0.7746366], [48, 2, 2, 1.0], [48, 4, 2, 0.96387404], [48, 6, 2, 0.9422134], [48, 8, 1, 0.8742853]], [[53, 4, 2, 0.6897103], [60, 7, 2, 0.5041444], [58, 12, 2, 0.6671493], [58, 14, 1, 0.6455364]], [[48, 8, 1, 1.0]], [[49, 1, 1, 0.5960824], [46, 4, 1, 0.5849678], [49, 5, 1, 0.87785685], [53, 9, 4, 1.0], [53, 13, 1, 0.7470888]], [[49, 1, 1, 0.63379145], [41, 2, 1, 0.7119319], [49, 5, 1, 1.0]], [[46, 1, 1, 0.99209994], [49, 2, 1, 0.36259282], [60, 7, 2, 1.0], [58, 14, 1, 0.9091859]], [[48, 1, 1, 1.0], [55, 4, 2, 0.79674035], [60, 14, 1, 0.45581847]], [[49, 1, 1, 1.0], [56, 4, 2, 0.643974], [63, 7, 2, 0.9543518], [61, 12, 2, 0.69571435], [61, 14, 1, 0.81949186], [49, 14, 1, 0.9972516]], [[49, 1, 3, 1.0], [55, 4, 1, 0.5905398], [60, 10, 2, 0.4185477], [60, 12, 2, 0.7351913], [60, 14, 1, 0.71970904]], [[51, 0, 1, 0.56020087], [61, 3, 2, 0.39652377], [63, 4, 2, 0.88910246], [70, 6, 2, 1.0], [68, 7, 1, 0.40510246], [72, 9, 2, 0.83944684], [65, 12, 2, 0.40085873], [70, 13, 2, 0.9221912], [63, 13, 2, 0.8411017], [65, 14, 1, 0.6279159], [70, 15, 1, 0.5844155]]]\n",
            "no skillsA  generate done!\n",
            "info is \n",
            " [[[50, 12, 1, 0.3649943], [61, 14, 1, 1.0]], [[62, 1, 3, 1.0], [68, 4, 1, 0.6141629], [73, 12, 2, 0.44673908], [73, 14, 1, 0.48470774]], [[61, 0, 2, 0.7564637], [61, 2, 2, 1.0], [61, 4, 2, 0.9564558], [61, 6, 2, 0.95673454], [61, 8, 1, 0.8856521]], [[61, 2, 2, 0.5384187], [61, 4, 2, 0.5688707], [62, 12, 1, 0.82607234], [57, 14, 2, 1.0]], [[62, 10, 2, 1.0], [64, 12, 2, 0.5370602], [64, 14, 1, 0.5603821]], [[62, 6, 3, 0.77642494], [64, 10, 3, 1.0], [66, 12, 2, 0.43295377], [66, 14, 1, 0.69208837]], [[61, 0, 2, 1.0], [61, 2, 2, 0.9653033], [61, 4, 1, 0.9331675]], [[57, 1, 3, 1.0], [56, 4, 1, 0.72051275], [52, 6, 1, 0.4226223], [57, 9, 4, 0.96788377], [52, 14, 2, 0.6671621]], [[61, 0, 2, 0.81791586], [61, 2, 2, 0.92064685], [61, 4, 2, 0.87891865], [61, 6, 2, 1.0], [61, 8, 1, 0.8141411]], [[61, 6, 2, 0.8608634], [62, 8, 1, 0.85842395]], [[64, 0, 1, 1.0], [52, 0, 1, 0.6499872], [54, 1, 3, 0.9698752], [57, 2, 2, 0.354486], [62, 3, 2, 0.53416336], [64, 4, 2, 0.69237363], [71, 6, 2, 0.59830624], [64, 6, 1, 0.526207], [66, 7, 2, 0.75860363], [62, 8, 3, 0.42141354], [66, 12, 3, 0.8685115], [71, 13, 2, 0.39917275], [64, 13, 2, 0.8304478], [64, 14, 1, 0.33336928]], [[62, 1, 3, 1.0], [68, 4, 2, 0.60466594], [73, 12, 2, 0.43974492], [73, 14, 1, 0.49414763]], [[62, 1, 3, 1.0], [68, 4, 1, 0.56654185]], [[61, 0, 2, 0.75348353], [61, 2, 2, 1.0], [61, 4, 2, 0.933565], [61, 6, 2, 0.93580526], [61, 8, 1, 0.8833998]], [[61, 6, 2, 0.8676306], [62, 8, 1, 0.8532895]], [[61, 1, 1, 0.63578147], [62, 5, 3, 0.6886988], [62, 8, 1, 0.8562082]]]\n",
            "no skillsA#  generate done!\n",
            "info is \n",
            " [[[48, 0, 1, 1.0]], [[45, 1, 1, 0.4218231], [50, 2, 2, 1.0], [38, 2, 3, 0.9650491], [46, 5, 1, 0.57369405], [38, 5, 2, 0.5705011], [50, 6, 1, 0.4441696]], [[48, 0, 2, 0.7787751], [58, 3, 2, 0.4000707], [60, 4, 2, 0.5736938], [48, 6, 1, 0.49611726], [50, 7, 2, 0.67505515], [58, 9, 2, 0.4286238], [48, 13, 2, 1.0], [50, 14, 1, 0.3951858]], [[48, 0, 3, 0.81144917], [45, 0, 2, 0.65489054], [46, 5, 1, 0.9754983], [46, 8, 3, 1.0], [45, 10, 1, 0.6025039]], [[51, 2, 2, 1.0], [57, 4, 1, 0.61519474], [57, 8, 1, 0.5831159], [62, 10, 2, 0.3503917], [62, 12, 2, 0.5466622], [62, 14, 1, 0.5594469]], [[48, 1, 1, 0.9458897], [50, 7, 2, 1.0], [48, 14, 1, 0.94011337]], [[48, 0, 1, 0.726915], [58, 3, 2, 0.65043753], [60, 4, 2, 1.0], [48, 6, 1, 0.432724], [48, 13, 2, 0.8270072], [50, 14, 1, 0.45626208]], [[48, 0, 2, 0.8973045], [48, 2, 2, 0.8605363], [48, 4, 1, 0.8223992], [48, 9, 1, 1.0]], [[48, 0, 2, 0.8754731], [48, 2, 3, 0.7732044], [48, 5, 3, 1.0], [48, 8, 2, 0.9187136]], [[48, 5, 2, 0.9563212], [39, 14, 2, 1.0]], [[48, 0, 2, 0.8397519], [48, 2, 2, 0.78756243], [48, 4, 3, 1.0], [48, 9, 1, 0.87678695]], [[48, 0, 2, 0.7927369], [60, 4, 2, 0.4805925], [48, 6, 1, 0.49534953], [50, 7, 2, 0.78966016], [48, 13, 2, 1.0]], [[55, 4, 1, 0.6125749], [62, 7, 2, 0.60797054], [60, 10, 2, 0.40873656], [60, 12, 2, 0.73567635], [60, 14, 1, 0.728777]], [[51, 1, 3, 1.0], [57, 4, 1, 0.56996953]], [[45, 1, 2, 0.52238184], [50, 2, 1, 1.0], [38, 2, 1, 0.549849], [46, 5, 1, 0.80197966], [55, 12, 2, 0.65543973]], [[46, 1, 1, 0.40796703], [50, 2, 1, 1.0], [38, 2, 1, 0.5002431], [46, 5, 1, 0.7500706], [55, 12, 2, 0.5665944]]]\n",
            "no skillsB  generate done!\n",
            "info is \n",
            " [[[49, 0, 3, 1.0]], [[54, 4, 2, 0.73019266], [61, 7, 2, 0.55127114], [59, 12, 2, 0.61085594], [59, 14, 1, 0.64990336]], [[49, 0, 1, 0.5933991], [37, 0, 1, 0.41673923], [47, 3, 2, 0.6531179], [49, 4, 2, 0.61192334], [56, 7, 1, 0.47905836], [51, 7, 3, 0.56815755], [47, 8, 3, 0.6331541], [51, 12, 3, 1.0], [56, 13, 3, 0.81348693], [49, 13, 2, 0.62639296]], [[49, 4, 1, 0.3461707], [42, 13, 1, 1.0]], [[49, 1, 1, 0.82496214], [52, 2, 2, 0.57277125], [63, 7, 2, 0.9755845], [61, 14, 1, 0.40965423], [49, 14, 1, 1.0]], [[49, 0, 2, 1.0], [49, 2, 2, 0.964626], [49, 4, 1, 0.9230501], [49, 9, 1, 0.8800236]], [[49, 0, 2, 1.0], [49, 2, 2, 0.98700476], [49, 4, 1, 0.9642625]], [[49, 0, 1, 0.36426282], [61, 4, 2, 1.0], [49, 13, 2, 0.5905624]], [[49, 0, 1, 0.5203667], [49, 2, 2, 0.9152516], [49, 4, 2, 0.44381595], [49, 6, 2, 0.4557051], [49, 8, 1, 1.0]], [[40, 2, 2, 1.0], [47, 4, 2, 0.8441906], [40, 12, 2, 0.4774134], [34, 14, 1, 0.47156072]], [[52, 5, 1, 0.71151316], [56, 8, 5, 1.0], [56, 13, 1, 0.8727272]], [[49, 0, 1, 0.5202914], [61, 4, 2, 0.821205], [68, 6, 2, 1.0], [66, 7, 1, 0.4577798], [70, 9, 2, 0.77039486], [68, 13, 2, 0.7297481], [61, 13, 2, 0.71645784], [63, 14, 1, 0.36990234], [68, 15, 1, 0.52799743]], [[52, 1, 3, 1.0], [58, 4, 1, 0.5333876]], [[49, 0, 2, 0.9043546], [49, 2, 2, 0.863397], [49, 4, 1, 0.8238769], [49, 9, 1, 1.0]], [[49, 1, 1, 1.0], [56, 4, 2, 0.80638224], [61, 14, 1, 0.49308804]], [[52, 1, 2, 0.80361265], [59, 4, 2, 0.9334885], [52, 12, 2, 1.0], [46, 14, 1, 0.37303105]]]\n",
            "repeatingC  generate done!\n",
            "info is \n",
            " [[[48, 0, 2, 0.9021757], [48, 2, 2, 0.8622907], [48, 4, 1, 0.8220687], [48, 9, 1, 1.0]], [[41, 1, 2, 0.6977471], [48, 4, 2, 0.8786028], [41, 12, 2, 1.0], [35, 14, 1, 0.33828017]], [[50, 0, 1, 0.33965102], [38, 0, 2, 0.678828], [41, 2, 2, 0.7528731], [52, 7, 3, 0.9623463], [50, 12, 2, 0.70632863], [48, 13, 1, 0.35739976], [38, 13, 2, 0.9032892], [50, 14, 1, 1.0]], [[48, 0, 2, 0.7923695], [48, 2, 3, 0.7225109], [48, 5, 4, 1.0], [48, 9, 1, 0.8374188]], [[52, 4, 1, 0.58064145], [59, 7, 2, 0.52299917], [52, 8, 1, 0.62761426], [57, 10, 2, 0.46237558], [57, 12, 2, 0.6703275], [57, 14, 1, 0.44195184]], [[48, 0, 1, 0.4757346], [60, 4, 1, 0.8058365], [67, 6, 2, 0.60320526], [69, 9, 2, 0.6256776], [67, 13, 2, 1.0], [60, 13, 2, 0.60801584], [67, 15, 1, 0.76415354]], [[50, 0, 2, 0.78186303], [60, 3, 2, 0.5495463], [62, 4, 2, 0.67234653], [50, 6, 1, 0.50064075], [52, 7, 1, 0.5409043], [60, 9, 2, 0.5387484], [50, 13, 2, 1.0], [52, 14, 1, 0.47136348]], [[55, 4, 2, 0.674242], [62, 7, 2, 0.51119715], [60, 12, 2, 0.66519123], [60, 14, 1, 0.69222623]], [[53, 1, 3, 1.0], [59, 4, 1, 0.5116823]], [[47, 5, 3, 0.64902115], [47, 8, 1, 0.9242276], [48, 10, 2, 0.8708645], [48, 12, 3, 1.0]], [[48, 0, 2, 0.8762146], [48, 2, 3, 0.773292], [48, 5, 3, 1.0], [48, 8, 2, 0.9158076]], [[45, 0, 2, 0.6782938], [53, 2, 2, 0.40098903], [48, 3, 1, 0.7726864], [52, 6, 1, 0.39735478], [59, 7, 2, 0.803275], [57, 12, 2, 0.6866561], [57, 14, 1, 0.96498317], [45, 14, 1, 1.0]], [[48, 1, 2, 0.6574111], [48, 3, 2, 0.6258603], [48, 5, 4, 1.0], [48, 12, 3, 0.80279714]], [[55, 4, 2, 0.6833065], [62, 7, 2, 0.7014273], [60, 12, 2, 0.6511782], [60, 14, 1, 0.64246136]], [[48, 0, 1, 0.52987397], [60, 4, 2, 1.0], [48, 13, 2, 0.7254087]], [[48, 1, 1, 0.9502168], [50, 7, 2, 1.0], [48, 14, 1, 0.9296422]]]\n",
            "repeatingC#  generate done!\n",
            "info is \n",
            " [[[48, 0, 2, 0.86784464], [48, 2, 3, 0.77201456], [48, 5, 3, 1.0], [48, 8, 2, 0.92464745]], [[42, 2, 2, 0.49010232], [42, 7, 3, 1.0], [41, 11, 2, 0.89890283], [42, 13, 3, 0.97742915]], [[56, 4, 1, 0.56092286], [63, 7, 2, 0.5428413], [56, 8, 1, 0.59631205], [61, 10, 2, 0.43685094], [61, 12, 2, 0.66838825], [61, 14, 1, 0.49604967]], [[48, 0, 1, 0.6777303], [48, 2, 2, 0.7532929], [48, 4, 4, 1.0], [48, 8, 2, 0.87154317]], [[48, 1, 2, 0.6561661], [53, 2, 1, 1.0], [41, 2, 1, 0.73965025], [49, 5, 1, 0.9640567], [58, 12, 2, 0.935996]], [[42, 1, 2, 0.39917356], [53, 2, 3, 1.0], [41, 4, 1, 0.3675586], [37, 14, 1, 0.5322703]], [[48, 5, 2, 0.885356], [42, 7, 1, 0.37386176], [39, 14, 1, 1.0]], [[48, 2, 2, 1.0], [36, 2, 3, 0.52641726], [36, 5, 2, 0.8500989], [48, 6, 1, 0.69565344], [42, 14, 1, 0.89884245]], [[54, 1, 2, 1.0], [60, 4, 2, 0.91995764], [65, 14, 1, 0.35894486]], [[49, 0, 2, 0.5518428], [42, 1, 2, 0.7098519], [44, 2, 3, 0.47696495], [53, 2, 2, 1.0], [53, 4, 2, 0.9885159], [42, 9, 2, 0.7069031], [37, 14, 1, 0.4635144]], [[48, 1, 3, 1.0], [54, 4, 1, 0.50162166]], [[44, 1, 1, 0.73465514], [48, 2, 1, 0.6702833], [36, 2, 1, 0.648241], [44, 5, 1, 1.0], [53, 12, 2, 0.7456464]], [[44, 2, 2, 0.57751626], [41, 5, 1, 0.7185868], [44, 7, 1, 1.0], [41, 14, 1, 0.8153083]], [[48, 1, 2, 0.5721696], [48, 3, 2, 0.863762], [48, 5, 8, 1.0], [48, 13, 2, 0.94776887]], [[49, 0, 2, 0.5376412], [42, 1, 1, 0.3857902], [53, 2, 2, 1.0], [53, 4, 2, 0.99032086], [49, 5, 2, 0.38710093], [42, 9, 3, 0.54383266], [37, 14, 1, 0.4404311]], [[51, 0, 1, 0.34456003], [61, 3, 2, 0.398025], [63, 4, 2, 0.5531427], [70, 6, 2, 0.448299], [72, 10, 1, 0.4915078], [65, 12, 2, 0.7487568], [70, 13, 3, 1.0], [63, 13, 2, 0.4388042], [65, 14, 1, 0.49695402]]]\n",
            "repeatingD  generate done!\n",
            "info is \n",
            " [[[49, 8, 1, 1.0]], [[57, 4, 1, 0.6252883], [64, 7, 2, 0.61920786], [62, 12, 2, 0.47965306], [62, 14, 1, 0.5158159]], [[50, 0, 1, 0.89714676], [38, 0, 1, 0.6422074], [40, 2, 2, 1.0], [49, 4, 2, 0.5423785], [57, 6, 2, 0.7484884], [50, 6, 1, 0.47924194], [52, 7, 2, 0.883511], [52, 12, 2, 0.5951123], [57, 13, 2, 0.37001905], [50, 13, 2, 0.75753295], [52, 14, 1, 0.59609455], [50, 14, 1, 0.5437035]], [[49, 2, 2, 1.0], [37, 2, 3, 0.44883016], [37, 5, 2, 0.9309877], [49, 6, 2, 0.93840295], [54, 11, 3, 0.7061348], [43, 14, 1, 0.90298474]], [[49, 0, 2, 0.99257857], [49, 2, 2, 0.9547328], [49, 4, 1, 0.9184927], [49, 9, 1, 1.0]], [[45, 1, 1, 0.34780312], [42, 4, 1, 0.6344098], [45, 5, 1, 1.0], [49, 9, 4, 0.9770189], [49, 13, 1, 0.663151]], [[49, 2, 2, 0.99772865], [37, 2, 3, 0.54764724], [37, 5, 2, 1.0], [49, 6, 2, 0.98583627], [54, 11, 3, 0.75665146], [43, 14, 1, 0.8355043]], [[57, 4, 2, 0.7204514], [64, 7, 2, 0.5493115], [62, 12, 2, 0.6079658], [62, 14, 1, 0.6476551]], [[49, 1, 3, 1.0], [55, 4, 1, 0.5446917]], [[49, 1, 3, 1.0], [55, 4, 1, 0.5016701]], [[45, 1, 1, 0.82291], [37, 2, 1, 0.67518586], [45, 5, 1, 1.0], [49, 9, 2, 0.73224455], [54, 12, 2, 0.61286116]], [[49, 0, 1, 0.62623435], [61, 4, 1, 0.5337039], [49, 13, 2, 1.0]], [[47, 0, 1, 0.66331357], [35, 0, 2, 0.6344939], [37, 2, 1, 0.57123554], [42, 6, 1, 0.33449623], [49, 7, 2, 1.0], [45, 13, 1, 0.40925103], [35, 13, 2, 0.79810274], [47, 14, 1, 0.7104666]], [[49, 0, 2, 1.0], [49, 2, 2, 0.9651323], [49, 4, 1, 0.927079], [49, 9, 1, 0.5201843]], [[49, 0, 2, 0.8500598], [49, 2, 3, 0.7731113], [49, 5, 3, 1.0], [49, 8, 2, 0.92586225]], [[54, 4, 1, 0.5810916], [61, 6, 3, 0.3780625], [54, 8, 1, 0.5376998], [59, 10, 2, 0.36966443], [59, 12, 2, 0.6772212], [59, 14, 1, 0.5204029]]]\n",
            "repeatingD#  generate done!\n",
            "info is \n",
            " [[[48, 0, 2, 0.9003222], [48, 2, 2, 0.86492413], [48, 4, 1, 0.8231676], [48, 9, 1, 1.0]], [[48, 0, 2, 0.9863593], [48, 2, 2, 0.9506912], [48, 4, 1, 0.9096097], [48, 9, 1, 1.0]], [[48, 0, 2, 1.0], [48, 2, 2, 0.93188643], [48, 4, 2, 0.9876605], [48, 9, 1, 0.9561662]], [[46, 0, 2, 0.46577686], [39, 1, 2, 0.5431872], [50, 2, 2, 1.0], [53, 3, 2, 0.5500336], [50, 4, 2, 0.99106425], [39, 9, 2, 0.5477229], [34, 14, 1, 0.449293]], [[48, 0, 2, 0.91153365], [48, 2, 2, 0.86594856], [48, 4, 1, 0.8289007], [48, 9, 1, 1.0]], [[44, 2, 2, 1.0], [32, 2, 3, 0.9059825], [32, 5, 2, 0.8453282], [44, 6, 1, 0.59922487], [38, 14, 1, 0.36888534]], [[48, 0, 2, 0.9952031], [48, 2, 2, 0.92890275], [48, 4, 2, 1.0], [48, 9, 1, 0.9533619]], [[43, 0, 2, 0.44333708], [46, 1, 3, 1.0], [44, 4, 2, 0.87324023], [44, 8, 3, 0.96010786], [43, 10, 2, 0.7001237]], [[51, 1, 3, 1.0], [50, 4, 1, 0.76974016], [46, 6, 1, 0.4016827], [51, 9, 4, 0.97608906], [46, 14, 2, 0.65639395]], [[48, 6, 3, 0.9498227], [50, 10, 2, 0.7007272], [50, 12, 2, 1.0]], [[48, 0, 2, 0.65480095], [56, 2, 2, 0.4335593], [51, 2, 2, 0.6933308], [55, 6, 1, 0.4374942], [62, 7, 2, 0.8044028], [60, 12, 2, 0.728959], [60, 14, 1, 1.0], [48, 14, 1, 0.94500405]], [[48, 0, 2, 0.38994497], [43, 0, 1, 0.45237184], [53, 3, 2, 0.4264151], [55, 4, 2, 1.0], [43, 13, 2, 0.45589283]], [[48, 0, 2, 0.62130344], [51, 2, 2, 0.55319667], [55, 6, 1, 0.40005475], [62, 7, 3, 0.8619523], [60, 12, 2, 0.81175226], [60, 14, 1, 0.97525436], [48, 14, 1, 1.0]], [[51, 2, 2, 0.76519096], [48, 5, 2, 0.9049342], [51, 7, 1, 1.0], [48, 14, 2, 0.84070456]], [[53, 1, 3, 1.0], [51, 4, 2, 0.64383465], [51, 8, 3, 0.82721305], [50, 10, 2, 0.64596635]], [[48, 10, 3, 1.0], [50, 12, 2, 0.69274324], [50, 14, 1, 0.9624285]]]\n",
            "repeatingE  generate done!\n",
            "info is \n",
            " [[[49, 0, 2, 0.8566455], [49, 2, 2, 0.8925107], [49, 4, 2, 1.0], [49, 6, 2, 0.9523833], [49, 8, 1, 0.7805722]], [[54, 4, 2, 0.5810898], [61, 7, 2, 0.6793616], [59, 12, 2, 0.45332327], [59, 14, 1, 0.534689], [47, 14, 1, 0.37760934]], [[49, 0, 2, 0.79826146], [49, 2, 2, 0.94268656], [49, 4, 2, 0.924087], [49, 6, 2, 1.0], [49, 8, 1, 0.8049152]], [[47, 0, 2, 0.51870525], [51, 2, 2, 1.0], [51, 4, 2, 0.9858278], [47, 5, 2, 0.4086414], [40, 10, 2, 0.46569568], [35, 14, 1, 0.43656763]], [[49, 1, 1, 0.4811429], [54, 2, 1, 0.9813894], [42, 2, 3, 0.85829246], [42, 5, 2, 0.9475171], [54, 6, 1, 1.0], [59, 11, 3, 0.9617665]], [[51, 1, 3, 1.0], [57, 4, 1, 0.50133854]], [[44, 1, 1, 0.50204253], [49, 2, 1, 1.0], [37, 2, 3, 0.9763126], [45, 5, 1, 0.8972583], [37, 5, 1, 0.39429012], [49, 6, 1, 0.38880652]], [[49, 1, 1, 1.0], [56, 4, 2, 0.8138305], [61, 14, 1, 0.46923557]], [[52, 1, 1, 0.5856866], [49, 4, 1, 0.6105636], [52, 5, 1, 0.9212726], [56, 9, 4, 1.0], [56, 13, 1, 0.7584588]], [[52, 1, 1, 0.7005029], [49, 4, 1, 0.39787677], [52, 5, 1, 0.8842436], [56, 9, 4, 1.0], [56, 13, 1, 0.61698246]], [[51, 8, 1, 0.37641743], [52, 10, 3, 1.0], [54, 12, 2, 0.61293125], [54, 14, 1, 0.8954861]], [[54, 0, 1, 1.0], [42, 0, 1, 0.6435677], [44, 1, 2, 0.4018614], [52, 3, 2, 0.7403685], [54, 4, 2, 0.7436671], [61, 6, 2, 0.5251737], [54, 6, 1, 0.54444444], [56, 7, 2, 0.6723079], [52, 8, 3, 0.58989197], [63, 10, 1, 0.4829993], [56, 12, 2, 0.9682814], [61, 13, 3, 0.78178], [54, 13, 2, 0.8092574], [56, 14, 1, 0.73216987]], [[49, 1, 4, 0.92511237], [49, 5, 2, 1.0]], [[47, 1, 1, 0.68230176], [44, 4, 1, 0.39618263], [47, 5, 1, 0.8443212], [51, 9, 4, 1.0], [51, 13, 1, 0.64299214]], [[49, 1, 1, 1.0], [56, 4, 2, 0.69163203], [63, 7, 2, 0.91625464], [61, 12, 2, 0.68524414], [61, 14, 1, 0.7768951], [49, 14, 1, 0.80459595]], [[49, 0, 1, 0.64150006], [37, 0, 1, 0.42050436], [47, 3, 2, 0.64200133], [49, 4, 2, 0.5946964], [37, 6, 1, 0.37231287], [44, 7, 1, 0.45440623], [51, 7, 3, 0.60054517], [47, 8, 3, 0.6123968], [51, 12, 3, 1.0], [56, 13, 3, 0.7621326], [49, 13, 2, 0.6389606]]]\n",
            "repeatingF  generate done!\n",
            "info is \n",
            " [[[48, 0, 2, 0.9429541], [48, 2, 2, 0.9063245], [48, 4, 1, 0.8721605], [48, 9, 1, 1.0]], [[46, 1, 3, 1.0], [52, 4, 1, 0.50315756]], [[40, 5, 2, 0.9368904], [34, 7, 1, 0.3552855], [31, 14, 2, 1.0]], [[52, 2, 2, 0.5464235], [41, 2, 2, 1.0], [40, 4, 1, 0.5634119], [36, 6, 1, 0.44226512], [41, 9, 2, 0.8822673], [36, 14, 2, 0.64421666]], [[50, 0, 2, 0.6902736], [53, 3, 1, 0.56077504], [57, 6, 2, 0.40278965], [64, 7, 2, 0.872117], [62, 12, 2, 0.65411496], [62, 14, 1, 0.8371607], [50, 14, 1, 1.0]], [[52, 2, 2, 1.0], [40, 4, 2, 0.6954984], [46, 14, 1, 0.7857853]], [[53, 1, 3, 0.53895205], [64, 2, 4, 1.0], [67, 3, 2, 0.33337513], [65, 9, 2, 0.58374935], [60, 14, 1, 0.4152141]], [[48, 0, 1, 0.86661494], [36, 0, 1, 0.5649421], [38, 1, 2, 0.66025025], [55, 6, 2, 0.4870592], [48, 6, 1, 0.4951867], [50, 7, 2, 1.0], [46, 8, 3, 0.34301385], [50, 12, 2, 0.3655665], [48, 13, 2, 0.8038272], [50, 14, 1, 0.4199215], [48, 14, 1, 0.37698606]], [[48, 6, 3, 0.9428565], [50, 10, 3, 1.0], [52, 12, 2, 0.3923379], [52, 14, 1, 0.63813996]], [[48, 0, 1, 0.53648984], [58, 3, 1, 0.34581342], [60, 4, 2, 0.8405107], [67, 6, 2, 1.0], [65, 7, 1, 0.43702272], [69, 9, 2, 0.796723], [67, 13, 2, 0.77916783], [60, 13, 2, 0.7528028], [62, 14, 1, 0.44176525], [67, 15, 1, 0.54383487]], [[52, 2, 2, 1.0], [40, 4, 3, 0.7390998], [52, 6, 1, 0.5036064], [46, 14, 1, 0.92838115]], [[52, 1, 1, 0.6050045], [57, 2, 1, 0.9024913], [45, 2, 3, 0.80866224], [53, 5, 1, 0.99901307], [45, 5, 1, 0.44025347], [57, 6, 1, 0.79406077], [62, 11, 3, 1.0]], [[48, 6, 2, 0.9021517], [50, 12, 2, 1.0]], [[48, 0, 2, 0.9878466], [48, 2, 2, 0.9838631], [48, 4, 1, 1.0]], [[48, 0, 1, 0.6992], [48, 2, 3, 0.7651296], [48, 5, 3, 1.0], [48, 8, 2, 0.9154983]], [[48, 4, 1, 0.43732047], [41, 13, 1, 1.0]]]\n",
            "repeatingF#  generate done!\n",
            "info is \n",
            " [[[49, 0, 2, 0.9032891], [49, 2, 2, 0.8635896], [49, 4, 1, 0.8239984], [49, 9, 1, 1.0]], [[47, 2, 2, 1.0], [54, 4, 2, 0.8609319], [47, 12, 2, 0.52408844], [41, 14, 1, 0.4429158]], [[49, 0, 1, 0.35232547], [61, 4, 2, 0.5352757], [68, 6, 2, 0.5032841], [70, 9, 2, 0.59079736], [68, 13, 3, 1.0], [61, 13, 2, 0.5130603], [63, 14, 1, 0.3693379]], [[49, 0, 2, 0.9845016], [49, 2, 2, 0.9479313], [49, 4, 1, 0.90822875], [49, 9, 1, 1.0]], [[49, 1, 1, 1.0], [56, 4, 2, 0.803463], [61, 14, 1, 0.5366906]], [[53, 1, 2, 0.69097465], [58, 2, 1, 1.0], [46, 2, 1, 0.74363506], [54, 5, 1, 0.977465], [63, 12, 2, 0.9374086]], [[47, 1, 3, 1.0], [53, 4, 1, 0.5180455]], [[49, 1, 1, 0.76646495], [49, 5, 1, 0.9541273], [53, 9, 4, 1.0], [53, 13, 1, 0.40927693]], [[49, 0, 2, 0.81802607], [59, 3, 2, 0.72326666], [61, 4, 2, 1.0], [49, 6, 1, 0.50980264], [59, 9, 2, 0.45365652], [63, 12, 2, 0.33766562], [61, 13, 2, 0.96020985], [63, 14, 1, 0.5393548]], [[56, 4, 1, 0.58598334], [63, 7, 2, 0.717915], [61, 12, 2, 0.63020754], [61, 14, 1, 0.6432878]], [[49, 0, 2, 0.37188023], [44, 0, 1, 0.5115993], [54, 3, 2, 0.4981024], [56, 4, 2, 1.0], [44, 13, 2, 0.5304387]], [[54, 4, 2, 0.65562147], [61, 7, 2, 0.82915634], [59, 12, 2, 0.6661223], [59, 14, 1, 0.6619144]], [[49, 1, 4, 0.86519766], [49, 5, 2, 1.0]], [[49, 0, 1, 0.5550855], [59, 3, 2, 0.47574523], [61, 4, 2, 0.9116677], [66, 6, 2, 0.38052675], [68, 7, 1, 0.8754717], [70, 9, 2, 0.7850066], [63, 12, 2, 0.95607305], [68, 13, 2, 1.0], [61, 13, 2, 0.8893072], [63, 14, 1, 0.894411], [68, 15, 1, 0.57006174]], [[51, 5, 2, 1.0], [44, 12, 1, 0.61115086], [42, 14, 2, 0.9642664]], [[53, 1, 3, 1.0], [59, 4, 1, 0.4999777]]]\n",
            "repeatingG  generate done!\n",
            "info is \n",
            " [[[48, 0, 2, 0.7919121], [48, 2, 2, 0.9861062], [48, 4, 2, 1.0], [48, 6, 2, 0.9877475], [48, 8, 1, 0.84948605]], [[45, 0, 1, 0.8163087], [33, 0, 1, 0.5035109], [43, 3, 2, 0.6700378], [45, 4, 2, 0.6144425], [52, 6, 2, 0.42636263], [45, 6, 1, 0.40036148], [47, 7, 2, 0.5133757], [43, 8, 3, 0.62159854], [54, 10, 1, 0.3898874], [47, 12, 3, 1.0], [52, 13, 3, 0.92657495], [45, 13, 2, 0.6356203]], [[54, 5, 3, 0.7860154], [54, 8, 3, 0.86167806], [55, 12, 3, 1.0]], [[48, 0, 2, 0.792984], [48, 2, 3, 0.72321993], [48, 5, 4, 1.0], [48, 9, 1, 0.83683264]], [[45, 0, 2, 0.6605152], [48, 3, 1, 0.64798546], [59, 7, 2, 0.8338897], [57, 12, 2, 0.6608312], [57, 14, 1, 0.8574865], [45, 14, 1, 1.0]], [[50, 9, 1, 0.42620632], [48, 10, 2, 1.0], [50, 12, 2, 0.51718485], [50, 14, 1, 0.6219001]], [[54, 5, 3, 0.7743468], [54, 8, 3, 0.842425], [55, 12, 3, 1.0]], [[54, 2, 2, 1.0], [42, 2, 3, 0.4495893], [42, 5, 2, 0.93647814], [54, 6, 2, 0.9395272], [59, 11, 3, 0.7116867], [48, 14, 1, 0.86339414]], [[48, 1, 2, 0.8306263], [48, 3, 2, 0.5125159], [48, 5, 3, 1.0]], [[48, 2, 2, 0.7473434], [45, 5, 2, 0.9741285], [48, 7, 1, 1.0], [45, 14, 1, 0.90163636]], [[48, 0, 1, 0.3592223], [60, 4, 2, 1.0], [48, 13, 2, 0.5747299]], [[48, 7, 1, 1.0], [50, 10, 2, 0.49078435], [45, 14, 1, 0.6514787]], [[54, 2, 2, 0.66193897], [54, 7, 3, 1.0], [55, 12, 2, 0.8486079], [55, 14, 1, 0.8688955]], [[48, 2, 2, 0.9768024], [55, 4, 2, 1.0], [48, 12, 2, 0.7626971], [42, 14, 1, 0.45354104]], [[48, 5, 1, 0.49504182], [52, 8, 3, 1.0], [52, 11, 2, 0.5560291], [52, 13, 1, 0.86432505]], [[48, 1, 2, 0.8078678], [59, 2, 3, 1.0], [55, 6, 1, 0.36090967], [48, 9, 3, 0.6867106], [43, 14, 1, 0.5171751]]]\n",
            "repeatingG#  generate done!\n",
            "info is \n",
            " [[[48, 0, 2, 1.0], [48, 2, 2, 0.97878987], [48, 4, 1, 0.94909835]], [[37, 1, 2, 0.75475985], [44, 4, 2, 0.872302], [37, 12, 2, 1.0], [31, 14, 1, 0.37622216]], [[48, 0, 2, 0.9607536], [48, 2, 2, 0.9008295], [48, 4, 2, 0.885597], [48, 9, 1, 1.0]], [[48, 0, 2, 0.78612494], [48, 2, 3, 0.71858925], [48, 5, 4, 1.0], [48, 9, 1, 0.8357409]], [[48, 0, 2, 0.87622905], [48, 2, 3, 0.77323425], [48, 5, 3, 1.0], [48, 8, 2, 0.91621554]], [[43, 1, 2, 1.0], [49, 4, 2, 0.8273314]], [[48, 0, 2, 0.80416214], [48, 2, 3, 0.7790781], [48, 5, 3, 1.0], [48, 8, 2, 0.93273544]], [[43, 1, 3, 1.0], [49, 4, 1, 0.5651461]], [[48, 8, 1, 1.0]], [[48, 0, 2, 0.8947414], [48, 2, 2, 0.8569339], [48, 4, 1, 0.8218166], [48, 9, 1, 1.0]], [[43, 1, 2, 1.0], [49, 4, 2, 0.85698414]], [[48, 2, 2, 1.0], [48, 4, 2, 0.9028175], [44, 5, 2, 0.5194434], [32, 14, 1, 0.49318308]], [[48, 0, 2, 0.8728135], [48, 2, 3, 0.772063], [48, 5, 3, 1.0], [48, 8, 2, 0.91452354]], [[43, 5, 2, 0.94001144], [37, 7, 1, 0.34362325], [41, 8, 1, 0.55845165], [39, 10, 2, 0.5425418], [36, 12, 2, 1.0], [34, 14, 1, 0.8458885]], [[49, 4, 2, 0.54305685], [56, 6, 2, 0.47460753], [58, 9, 2, 0.58222747], [51, 12, 2, 0.5620203], [56, 13, 3, 1.0], [49, 13, 2, 0.48186448], [51, 14, 1, 0.47740537]], [[51, 0, 1, 0.45777634], [39, 0, 1, 0.56172496], [49, 3, 2, 0.8323368], [51, 4, 2, 0.8504584], [39, 6, 1, 0.54767996], [41, 7, 2, 0.3854438], [49, 9, 2, 0.8599116], [53, 12, 2, 0.6440382], [51, 13, 2, 1.0], [53, 14, 1, 0.6146655]]]\n",
            "repeatingA  generate done!\n",
            "info is \n",
            " [[[49, 0, 2, 0.9844997], [49, 2, 2, 0.97550637], [49, 4, 1, 1.0]], [[45, 1, 1, 0.6271394], [42, 4, 1, 0.3770446], [45, 5, 1, 0.9880831], [49, 9, 5, 1.0]], [[50, 2, 2, 0.7313102], [47, 5, 2, 0.9434782], [50, 7, 1, 1.0], [47, 14, 1, 0.87434465]], [[49, 0, 2, 0.82681483], [49, 2, 2, 0.9141574], [49, 4, 2, 0.91337526], [49, 6, 2, 1.0], [49, 8, 1, 0.80924374]], [[44, 2, 2, 1.0], [32, 4, 2, 0.7321934], [44, 6, 1, 0.46460238], [38, 14, 1, 0.9103768]], [[50, 1, 3, 1.0], [49, 4, 1, 0.7803492], [45, 6, 1, 0.40193728], [50, 9, 4, 0.9830132], [45, 14, 2, 0.6500207]], [[52, 0, 1, 0.66623044], [62, 3, 2, 0.57800937], [64, 4, 2, 1.0], [52, 6, 1, 0.37500852], [52, 13, 2, 0.7291021], [54, 14, 1, 0.34840864]], [[49, 0, 1, 0.37422806], [59, 3, 1, 0.33497152], [61, 4, 2, 1.0], [49, 14, 1, 0.468526]], [[49, 0, 2, 0.9069956], [49, 2, 2, 0.8622836], [49, 4, 1, 0.82974106], [49, 9, 1, 1.0]], [[47, 0, 2, 0.64372474], [50, 2, 2, 0.561285], [54, 6, 1, 0.3391457], [61, 7, 3, 0.9087014], [59, 12, 2, 0.8278771], [59, 14, 1, 0.99416256], [47, 14, 1, 1.0]], [[52, 1, 3, 1.0], [50, 4, 2, 0.56237596], [50, 8, 3, 0.77395505], [49, 10, 2, 0.6309166]], [[50, 3, 4, 0.5534012], [50, 7, 3, 0.80378395], [49, 11, 2, 0.88728255], [50, 13, 3, 1.0]], [[52, 0, 1, 0.6203129], [40, 0, 1, 0.5893285], [42, 1, 2, 0.43183702], [50, 3, 2, 0.75136614], [52, 4, 2, 0.66649437], [40, 6, 1, 0.5242151], [42, 7, 3, 0.69011813], [50, 9, 3, 0.6683632], [54, 12, 3, 0.9671351], [52, 13, 2, 1.0]], [[49, 1, 2, 0.8446445], [59, 3, 2, 0.46255663], [49, 9, 2, 0.73531884], [44, 13, 2, 0.54340863]], [[49, 0, 2, 1.0], [49, 2, 2, 0.9608566], [49, 4, 1, 0.92988676], [49, 9, 1, 0.85989267]], [[49, 1, 2, 0.49931625], [49, 3, 2, 0.78781796], [49, 5, 8, 0.85908985], [49, 13, 3, 1.0]]]\n",
            "repeatingA#  generate done!\n",
            "info is \n",
            " [[[48, 0, 2, 0.872338], [48, 2, 3, 0.7715996], [48, 5, 3, 1.0], [48, 8, 2, 0.9037933]], [[53, 4, 1, 0.5405251], [60, 7, 2, 0.40979147], [58, 10, 2, 0.34148866], [58, 12, 2, 0.5994237], [58, 14, 1, 0.6175963]], [[48, 1, 1, 0.4998584], [48, 6, 2, 0.690212], [50, 12, 2, 1.0]], [[50, 1, 2, 0.5602924], [55, 2, 1, 0.97693], [43, 2, 1, 0.7522508], [51, 5, 1, 1.0]], [[48, 0, 2, 0.82922655], [48, 2, 3, 0.7464294], [48, 5, 3, 1.0], [48, 8, 2, 0.8589683]], [[48, 0, 2, 0.7737779], [58, 3, 1, 0.3748393], [60, 4, 2, 0.5591687], [48, 6, 1, 0.49925387], [50, 7, 2, 0.6840016], [58, 9, 2, 0.39041048], [48, 13, 2, 1.0], [50, 14, 1, 0.3891465]], [[51, 1, 1, 0.83028], [43, 2, 1, 0.64955664], [51, 5, 1, 1.0], [55, 9, 2, 0.9038462], [60, 12, 2, 0.5058368]], [[48, 0, 1, 0.7248897], [58, 3, 2, 0.6389328], [60, 4, 2, 1.0], [48, 6, 1, 0.42874163], [48, 13, 2, 0.81880313], [50, 14, 1, 0.43590736]], [[48, 1, 1, 1.0], [51, 2, 1, 0.34565303], [62, 7, 2, 0.9930191], [60, 14, 1, 0.9153221]], [[48, 9, 1, 0.4962342], [46, 10, 2, 1.0], [48, 12, 2, 0.5481301], [48, 14, 1, 0.6891608]], [[51, 1, 3, 0.5758673], [62, 2, 3, 1.0], [51, 10, 3, 0.38931668]], [[48, 0, 2, 0.6661955], [51, 2, 2, 0.7657499], [62, 7, 3, 0.9587745], [60, 12, 2, 0.72415006], [58, 13, 1, 0.33989462], [48, 13, 2, 0.89626193], [60, 14, 1, 1.0]], [[48, 1, 1, 0.659504], [58, 3, 2, 0.5800548], [55, 5, 2, 0.5200784], [46, 7, 1, 0.49131405], [48, 9, 3, 0.54728776], [43, 14, 1, 0.533688]], [[48, 6, 2, 0.81501484], [50, 12, 2, 1.0]], [[48, 1, 3, 1.0], [45, 10, 2, 0.47174424], [48, 14, 1, 0.4827281]], [[48, 10, 2, 1.0], [50, 12, 2, 0.86741656], [50, 14, 1, 0.6063117]]]\n",
            "repeatingB  generate done!\n",
            "info is \n",
            " [[[49, 0, 2, 0.86939555], [49, 2, 3, 0.76945215], [49, 5, 3, 1.0], [49, 8, 2, 0.9040402]], [[49, 0, 1, 0.51671517], [61, 4, 2, 1.0], [49, 13, 2, 0.7690181]], [[47, 1, 3, 0.9493577], [58, 2, 3, 1.0], [54, 6, 1, 0.437617], [47, 9, 2, 0.787397], [42, 14, 2, 0.63051134]], [[54, 0, 2, 0.56876844], [47, 1, 2, 0.7356517], [49, 2, 3, 0.45680863], [58, 2, 2, 1.0], [58, 4, 2, 0.9866146], [47, 9, 2, 0.7127401], [42, 14, 1, 0.46722606]], [[56, 4, 2, 0.6484189], [63, 7, 2, 0.7850485], [61, 12, 2, 0.5203436], [61, 14, 1, 0.57531995], [49, 14, 1, 0.37095788]], [[52, 1, 1, 0.6467357], [49, 4, 1, 0.4312985], [52, 5, 1, 0.8076347], [56, 9, 4, 1.0], [56, 13, 1, 0.68424]], [[49, 0, 2, 0.78571445], [59, 3, 2, 0.54012495], [61, 4, 2, 0.677601], [49, 6, 1, 0.50375265], [51, 7, 1, 0.52038264], [59, 9, 2, 0.5106353], [49, 13, 2, 1.0], [51, 14, 1, 0.4708666]], [[58, 2, 2, 1.0], [63, 11, 3, 0.34722167], [52, 14, 1, 0.5833129]], [[49, 4, 2, 1.0], [42, 13, 1, 0.8083768]], [[47, 1, 2, 0.90254915], [46, 4, 1, 1.0], [47, 10, 2, 0.9152002], [47, 12, 1, 0.4332494], [42, 14, 1, 0.6456831]], [[58, 2, 2, 1.0], [46, 5, 2, 0.81061804], [58, 6, 1, 0.8809034], [63, 11, 3, 0.64811677], [52, 14, 1, 0.845069]], [[49, 0, 2, 0.8334293], [49, 2, 3, 0.77785945], [49, 5, 3, 1.0], [49, 8, 2, 0.93144166]], [[46, 1, 2, 1.0], [52, 4, 2, 0.8353009]], [[44, 0, 2, 0.64269435], [52, 2, 1, 0.4276744], [47, 2, 2, 0.58744884], [51, 6, 2, 0.6671929], [58, 7, 3, 0.9208594], [56, 12, 2, 0.87004834], [44, 13, 2, 1.0], [56, 14, 1, 0.9815981]], [[49, 0, 2, 0.7007044], [49, 2, 2, 0.7463986], [49, 4, 4, 1.0], [49, 8, 1, 0.6775771]], [[49, 1, 2, 0.57248217], [49, 3, 2, 0.7822441], [49, 5, 8, 1.0], [49, 13, 2, 0.7826734]]]\n",
            "staccatoC  generate done!\n",
            "info is \n",
            " [[[53, 2, 2, 1.0], [41, 5, 2, 0.77086765], [53, 6, 1, 0.59808], [47, 14, 1, 0.9595186]], [[55, 4, 1, 0.56910276], [62, 7, 2, 0.4721101], [60, 10, 2, 0.33608997], [60, 12, 2, 0.6436677], [60, 14, 1, 0.6662186]], [[47, 4, 1, 0.4726766], [40, 13, 1, 1.0]], [[48, 1, 1, 0.6776421], [40, 2, 1, 0.7406064], [48, 5, 1, 1.0]], [[47, 0, 2, 0.85682356], [47, 2, 2, 0.88862735], [47, 4, 2, 1.0], [47, 6, 2, 0.94991696], [47, 8, 1, 0.77876717]], [[47, 0, 2, 0.4688435], [50, 1, 3, 1.0], [48, 4, 2, 0.8968937], [48, 8, 3, 0.9720784], [47, 10, 2, 0.70693773]], [[47, 2, 2, 0.83397293], [47, 4, 2, 0.87672997], [43, 5, 2, 0.5680126], [31, 14, 1, 0.5569237]], [[48, 5, 1, 0.97987556], [52, 8, 5, 1.0], [52, 13, 1, 0.860543]], [[57, 0, 1, 0.37195027], [45, 0, 2, 0.6468023], [53, 2, 2, 0.3845983], [48, 2, 2, 0.8268234], [52, 6, 1, 0.5374579], [59, 7, 2, 0.82932734], [57, 12, 2, 0.6589437], [55, 13, 1, 0.42601264], [57, 14, 1, 1.0], [45, 14, 1, 0.7898059]], [[48, 1, 1, 0.6550454], [40, 2, 1, 0.60998714], [48, 5, 1, 1.0], [52, 9, 3, 0.774966]], [[47, 0, 2, 1.0], [47, 2, 2, 0.9667577], [47, 4, 1, 0.9384059]], [[45, 0, 1, 1.0], [33, 0, 1, 0.669297], [35, 1, 2, 0.5869368], [43, 3, 2, 0.6598447], [45, 4, 2, 0.68590134], [33, 6, 1, 0.5582933], [35, 7, 3, 0.9134753], [43, 8, 3, 0.5322599], [47, 12, 3, 0.8968161], [45, 13, 2, 0.846282]], [[55, 4, 2, 0.74811995], [62, 7, 2, 0.92292786], [60, 12, 2, 0.6319034], [60, 14, 1, 0.6827312], [48, 14, 1, 0.46641093]], [[53, 2, 2, 1.0], [60, 4, 2, 0.34744158], [59, 14, 1, 0.6091453]], [[48, 0, 1, 0.5895827], [60, 4, 2, 1.0], [67, 6, 2, 0.8477118], [65, 7, 2, 0.41160777], [69, 9, 2, 0.7404963], [60, 13, 2, 0.7454561]], [[55, 4, 2, 0.70457435], [62, 7, 2, 0.87051094], [60, 12, 2, 0.6268853], [60, 14, 1, 0.6360407], [48, 14, 1, 0.3489686]]]\n",
            "staccatoC#  generate done!\n",
            "info is \n",
            " [[[54, 1, 2, 0.7539282], [61, 4, 2, 0.8765589], [54, 12, 2, 1.0], [48, 14, 1, 0.370472]], [[49, 0, 1, 0.42457294], [61, 4, 1, 0.6803284], [68, 6, 2, 0.5548568], [70, 9, 2, 0.59177697], [68, 13, 2, 1.0], [61, 13, 2, 0.5385808], [68, 15, 1, 0.7549241]], [[56, 4, 2, 0.59200436], [63, 7, 2, 0.67014104], [61, 12, 2, 0.45109153], [61, 14, 1, 0.5302523], [49, 14, 1, 0.33762932]], [[54, 2, 2, 1.0], [61, 4, 2, 0.8343827], [54, 12, 2, 0.41894627], [48, 14, 1, 0.4737939]], [[49, 0, 1, 0.35061368], [61, 4, 2, 0.5316678], [68, 6, 2, 0.4859629], [70, 9, 2, 0.5909429], [68, 13, 3, 1.0], [61, 13, 2, 0.5070844], [63, 14, 1, 0.39220345]], [[49, 1, 1, 0.5873999], [46, 4, 1, 0.38491818], [49, 5, 1, 0.9448457], [53, 9, 5, 1.0]], [[48, 1, 3, 0.3437447], [36, 2, 2, 0.6454159], [36, 4, 2, 0.5407641], [37, 12, 1, 0.78868467], [32, 14, 2, 1.0]], [[48, 0, 1, 0.6930949], [48, 13, 2, 1.0]], [[48, 1, 2, 0.6084337], [53, 2, 1, 0.9673229], [41, 2, 1, 0.8121324], [49, 5, 1, 1.0]], [[48, 1, 1, 0.62667316], [49, 5, 3, 0.7005962], [49, 8, 1, 0.8565998]], [[58, 0, 1, 0.47935566], [46, 0, 1, 0.45778242], [56, 3, 2, 0.6642591], [58, 4, 2, 0.75192], [65, 7, 1, 0.56058687], [60, 7, 2, 0.39559662], [56, 8, 3, 0.6516594], [66, 9, 1, 0.40308425], [60, 12, 2, 1.0], [65, 13, 3, 0.99614906], [58, 13, 2, 0.6728263], [60, 14, 1, 0.76819444]], [[51, 1, 1, 0.79477644], [54, 3, 1, 0.660792], [58, 4, 1, 0.4396296], [65, 7, 2, 0.9030337], [63, 12, 2, 0.6424386], [63, 14, 1, 0.7911947], [51, 14, 1, 1.0]], [[54, 2, 2, 1.0], [61, 4, 2, 0.44225636], [54, 4, 2, 0.5769631], [48, 14, 1, 0.5144769]], [[51, 0, 1, 0.539966], [39, 0, 2, 0.6696831], [42, 2, 2, 0.66092795], [53, 7, 2, 1.0], [51, 12, 2, 0.45082024], [49, 13, 1, 0.4526004], [39, 13, 2, 0.83913296], [51, 14, 1, 0.8857475]], [[49, 0, 2, 0.52837026], [53, 2, 2, 1.0], [53, 4, 2, 0.98760456], [49, 5, 2, 0.41547644], [42, 10, 2, 0.47084108], [37, 14, 1, 0.4338347]], [[48, 2, 2, 1.0], [53, 11, 4, 0.4736246], [42, 14, 1, 0.660105]]]\n",
            "staccatoD  generate done!\n",
            "info is \n",
            " [[[50, 1, 1, 0.36808443], [57, 4, 1, 0.64184064], [50, 12, 2, 1.0]], [[50, 0, 1, 0.91327643], [38, 0, 1, 0.65574], [40, 2, 2, 1.0], [49, 4, 2, 0.5387994], [57, 6, 2, 0.7209453], [50, 6, 1, 0.4799369], [52, 7, 2, 0.8923799], [52, 12, 2, 0.58035976], [57, 13, 2, 0.3535456], [50, 13, 2, 0.7819961], [52, 14, 1, 0.5966176], [50, 14, 1, 0.54950476]], [[50, 1, 1, 0.93690866], [50, 5, 1, 1.0]], [[49, 2, 2, 1.0], [37, 2, 3, 0.37372866], [37, 5, 2, 0.7742576], [49, 6, 1, 0.6350585], [43, 14, 1, 0.9586052]], [[50, 10, 2, 1.0], [52, 12, 2, 0.84801173], [52, 14, 1, 0.8429991]], [[50, 0, 1, 0.7027082], [50, 13, 2, 1.0]], [[59, 0, 2, 0.65685964], [67, 2, 2, 0.4212839], [62, 2, 2, 0.6831795], [66, 6, 1, 0.4322446], [73, 7, 2, 0.80452234], [71, 12, 2, 0.72118473], [71, 14, 1, 1.0], [59, 14, 1, 0.9559184]], [[50, 10, 3, 1.0], [52, 12, 2, 0.73690665], [52, 14, 1, 0.90539724]], [[55, 2, 2, 1.0], [43, 2, 2, 0.70219046], [43, 4, 3, 0.8598689], [55, 6, 1, 0.7010657], [49, 14, 1, 0.70594823]], [[52, 0, 1, 0.5020165], [62, 3, 2, 0.37577295], [64, 4, 2, 1.0], [52, 13, 2, 0.81940776]], [[50, 0, 2, 0.9999784], [50, 2, 2, 1.0], [50, 4, 1, 0.9872478]], [[47, 1, 1, 0.80005145], [50, 2, 2, 0.58340716], [61, 7, 2, 0.8953896], [59, 14, 1, 0.5120289], [47, 14, 1, 1.0]], [[50, 0, 1, 0.6286727], [62, 4, 1, 0.93691474], [50, 14, 1, 1.0]], [[49, 2, 2, 1.0], [37, 4, 2, 0.40686685], [42, 11, 4, 0.5124393], [43, 14, 1, 0.718597]], [[57, 4, 2, 0.7042464], [64, 7, 2, 0.57872623], [62, 12, 2, 0.5604988], [62, 14, 1, 0.60240746]], [[50, 1, 3, 0.57924175], [61, 2, 4, 1.0], [50, 9, 4, 0.56966037], [45, 14, 1, 0.38850427]]]\n",
            "staccatoD#  generate done!\n",
            "info is \n",
            " [[[50, 1, 1, 0.63605535], [55, 2, 1, 0.9679052], [43, 2, 2, 0.8684864], [51, 5, 1, 1.0]], [[48, 0, 2, 0.69983256], [56, 2, 2, 0.40209848], [51, 3, 1, 0.85547674], [55, 6, 1, 0.43600416], [62, 7, 2, 0.7837559], [60, 12, 2, 0.66733706], [60, 14, 1, 0.9446474], [48, 14, 1, 1.0]], [[51, 1, 1, 0.48103425], [48, 4, 1, 0.42969504], [51, 5, 1, 0.8281753], [55, 9, 4, 1.0], [55, 13, 1, 0.45348433]], [[51, 1, 2, 0.8911996], [62, 2, 3, 1.0], [51, 9, 2, 0.8237317], [46, 13, 2, 0.55006]], [[53, 0, 1, 0.83200556], [41, 0, 1, 0.49510512], [51, 3, 2, 0.6750649], [53, 4, 2, 0.61540717], [60, 6, 2, 0.42655462], [53, 6, 1, 0.4009376], [55, 7, 2, 0.51656437], [51, 8, 3, 0.6257241], [62, 10, 1, 0.3964928], [55, 12, 3, 1.0], [60, 13, 3, 0.91999066], [53, 13, 2, 0.6416068]], [[51, 0, 1, 0.41458827], [63, 4, 1, 1.0], [51, 13, 2, 0.689815]], [[44, 1, 2, 0.89122313], [51, 4, 2, 0.92616534], [44, 12, 2, 1.0], [38, 14, 1, 0.4243537]], [[56, 2, 2, 1.0], [44, 2, 2, 0.83189046], [44, 4, 3, 0.88586926], [56, 6, 1, 0.61209714], [50, 14, 1, 0.45989886]], [[53, 0, 2, 0.78323716], [63, 3, 1, 0.36095974], [65, 4, 2, 0.54427886], [53, 6, 1, 0.49757805], [55, 7, 2, 0.709306], [63, 9, 2, 0.40169472], [53, 13, 2, 1.0], [55, 14, 1, 0.37856752]], [[56, 1, 3, 1.0], [62, 4, 1, 0.49546114]], [[51, 1, 3, 1.0], [48, 10, 2, 0.4481665], [51, 14, 1, 0.5059741]], [[51, 10, 3, 1.0], [53, 12, 2, 0.720309], [53, 14, 1, 0.8700981]], [[58, 4, 2, 0.52617735], [65, 7, 2, 0.95015776], [63, 12, 2, 0.65092474], [63, 14, 1, 0.81745297], [51, 14, 1, 1.0]], [[51, 1, 1, 0.39098552], [48, 4, 1, 0.52278936], [51, 5, 1, 0.85751384], [55, 9, 4, 1.0], [55, 13, 1, 0.5884524]], [[51, 1, 1, 0.3746805], [48, 4, 1, 0.56701124], [51, 5, 1, 0.903939], [55, 9, 4, 1.0], [55, 13, 1, 0.6295351]], [[51, 1, 1, 0.6322296], [55, 2, 1, 1.0], [43, 2, 1, 0.6088407], [51, 5, 1, 0.93755496], [60, 12, 2, 0.7206018]]]\n",
            "staccatoE  generate done!\n",
            "info is \n",
            " [[[57, 2, 2, 1.0], [64, 4, 2, 0.61105853], [57, 4, 2, 0.4199403], [51, 14, 1, 0.5361406]], [[54, 0, 1, 0.8432902], [42, 0, 1, 0.5436599], [52, 3, 2, 0.67690426], [54, 4, 2, 0.6307002], [61, 6, 2, 0.4349508], [54, 6, 1, 0.429907], [56, 7, 2, 0.54678494], [52, 8, 3, 0.60677356], [63, 10, 1, 0.39770094], [56, 12, 3, 1.0], [61, 13, 3, 0.890775], [54, 13, 2, 0.66145927]], [[51, 1, 2, 0.5310692], [56, 2, 1, 0.87381077], [44, 2, 1, 0.68912375], [52, 5, 1, 1.0]], [[51, 0, 1, 0.5172159], [63, 4, 2, 1.0], [51, 13, 2, 0.7635937]], [[49, 0, 1, 1.0], [37, 0, 1, 0.6643944], [39, 1, 2, 0.8127268], [42, 2, 2, 0.3615072], [47, 3, 2, 0.63444984], [49, 4, 2, 0.7409471], [56, 6, 2, 0.5218387], [49, 6, 1, 0.5513469], [51, 7, 2, 0.7159273], [47, 8, 3, 0.4567839], [51, 12, 3, 0.92585254], [56, 13, 2, 0.46745285], [49, 13, 2, 0.8909933]], [[51, 2, 2, 0.36311594], [52, 9, 1, 0.9109771], [52, 14, 1, 1.0]], [[54, 0, 2, 0.8258955], [64, 3, 2, 0.66772133], [66, 4, 2, 0.81323594], [54, 6, 1, 0.52143615], [56, 7, 1, 0.39040855], [64, 9, 2, 0.5402286], [68, 12, 2, 0.35579398], [66, 13, 2, 1.0], [68, 14, 1, 0.53101933]], [[59, 4, 2, 0.7287793], [66, 7, 2, 0.84229004], [64, 12, 2, 0.6836112], [64, 14, 1, 0.7414935], [52, 14, 1, 0.5726035]], [[51, 0, 2, 0.8677036], [51, 2, 2, 0.8140972], [51, 4, 3, 1.0], [51, 9, 1, 0.87632877]], [[49, 1, 1, 1.0], [52, 3, 1, 0.3922621], [56, 4, 2, 0.87369776], [63, 7, 2, 0.5369562], [61, 14, 1, 0.7155202], [49, 14, 1, 0.62055206]], [[51, 0, 1, 0.70831734], [51, 2, 3, 0.77651787], [51, 5, 3, 1.0], [51, 8, 2, 0.9291261]], [[49, 1, 1, 0.89995587], [51, 7, 2, 1.0], [49, 14, 1, 0.95265704]], [[51, 0, 1, 0.507228], [63, 4, 2, 1.0], [51, 13, 2, 0.7918478]], [[51, 1, 2, 0.64746225], [39, 2, 2, 0.76983666], [51, 3, 1, 0.57123524], [39, 4, 2, 0.7715933], [40, 12, 1, 0.92566645], [35, 14, 2, 1.0]], [[51, 2, 2, 0.7391645], [51, 4, 2, 0.8200661], [47, 5, 2, 0.61207056], [35, 14, 1, 0.5954343]], [[51, 0, 1, 0.5059005], [63, 4, 2, 1.0], [51, 13, 2, 0.7928432]]]\n",
            "staccatoF  generate done!\n",
            "info is \n",
            " [[[52, 2, 2, 1.0], [40, 2, 2, 0.8122414], [40, 4, 3, 0.87822086], [52, 6, 1, 0.64839166], [46, 14, 1, 0.5081771]], [[46, 3, 2, 0.35689035], [48, 4, 2, 0.5460243], [55, 6, 2, 0.45301095], [57, 10, 1, 0.51802963], [50, 12, 2, 0.7178591], [55, 13, 3, 1.0], [48, 13, 2, 0.44114283], [50, 14, 1, 0.50025034]], [[48, 0, 1, 0.5011778], [36, 0, 1, 0.466214], [46, 3, 2, 0.6788962], [48, 4, 2, 0.6468647], [55, 7, 1, 0.45998874], [50, 7, 3, 0.5026503], [46, 8, 3, 0.7245743], [50, 12, 2, 1.0], [55, 13, 3, 0.70446575], [48, 13, 2, 0.6895736], [50, 14, 1, 0.7471581]], [[52, 1, 2, 0.54058665], [57, 2, 1, 0.9861969], [45, 2, 1, 0.7017164], [53, 5, 1, 1.0]], [[43, 0, 1, 0.60822725], [31, 0, 2, 0.7217436], [33, 2, 2, 0.9916981], [38, 6, 2, 0.61872447], [45, 7, 2, 0.96140313], [43, 12, 2, 0.5022455], [41, 13, 1, 0.528972], [45, 14, 1, 0.3462149], [43, 14, 1, 1.0], [31, 14, 1, 0.80100775]], [[48, 0, 1, 0.6609602], [36, 0, 2, 0.631297], [38, 2, 1, 0.55834436], [50, 7, 2, 1.0], [46, 13, 1, 0.36579826], [36, 13, 2, 0.80631715], [48, 14, 1, 0.6928312]], [[52, 5, 1, 0.35895768], [53, 7, 1, 1.0], [55, 7, 1, 0.98425597], [52, 14, 1, 0.6491692]], [[46, 13, 1, 1.0]], [[46, 1, 1, 0.7892368], [38, 2, 1, 0.3940756], [46, 5, 1, 0.9772847], [50, 9, 4, 1.0], [50, 13, 1, 0.34523788]], [[46, 0, 2, 0.4164972], [50, 2, 2, 1.0], [50, 4, 2, 0.9518879], [46, 5, 2, 0.4431965], [34, 14, 1, 0.41420257]], [[48, 0, 2, 0.56795305], [41, 1, 2, 0.6914805], [52, 2, 2, 1.0], [52, 4, 2, 0.9895671], [41, 9, 3, 0.7095346], [36, 14, 1, 0.46144256]], [[52, 1, 2, 0.43813005], [57, 2, 1, 1.0], [45, 2, 1, 0.4943454], [53, 5, 1, 0.7376055], [62, 12, 2, 0.5551585]], [[43, 0, 1, 0.62258583], [55, 4, 2, 0.940404], [62, 6, 2, 0.99870276], [60, 6, 3, 0.4735702], [64, 9, 2, 1.0], [62, 13, 2, 0.45752755], [55, 13, 2, 0.8322774], [62, 15, 1, 0.40440738]], [[52, 5, 3, 0.6698131], [52, 8, 1, 0.8649663], [53, 12, 3, 1.0]], [[46, 1, 3, 1.0], [52, 4, 1, 0.52741617]], [[43, 0, 2, 0.69122064], [40, 0, 2, 0.67192054], [41, 5, 3, 0.9488065], [41, 8, 3, 1.0], [40, 10, 1, 0.48316276]]]\n",
            "staccatoF#  generate done!\n",
            "info is \n",
            " [[[53, 1, 2, 0.54339755], [58, 2, 1, 0.90755105], [46, 2, 1, 0.6974695], [54, 5, 1, 1.0]], [[58, 4, 1, 0.55252063], [65, 7, 2, 0.3864774], [58, 8, 1, 0.35905856], [63, 10, 2, 0.33469617], [63, 12, 2, 0.5838962], [63, 14, 1, 0.5963183]], [[58, 1, 2, 0.939763], [46, 2, 2, 0.6200551], [58, 3, 1, 0.75386924], [46, 4, 2, 0.6790254], [47, 12, 1, 0.8127792], [42, 14, 2, 1.0]], [[59, 1, 2, 0.93030596], [66, 4, 2, 0.93787974], [59, 12, 2, 1.0], [53, 14, 1, 0.43223622]], [[54, 4, 1, 0.5194604], [47, 13, 1, 1.0]], [[59, 2, 2, 1.0], [65, 4, 1, 0.5822973], [65, 8, 1, 0.49205536], [70, 12, 2, 0.5555866], [70, 14, 1, 0.5699599]], [[54, 1, 2, 0.92061067], [53, 4, 1, 1.0], [54, 10, 2, 0.9669986], [54, 12, 1, 0.44635567], [49, 14, 1, 0.63997525]], [[54, 0, 2, 0.3632549], [47, 1, 3, 0.5535559], [58, 2, 4, 1.0], [61, 3, 2, 0.42845112], [59, 9, 2, 0.5994131], [54, 14, 1, 0.41847748]], [[54, 1, 1, 0.8146629], [54, 5, 1, 1.0]], [[54, 0, 2, 0.8555592], [54, 2, 3, 0.76183873], [54, 5, 3, 1.0], [54, 8, 2, 0.888159]], [[51, 0, 2, 0.73665094], [54, 3, 1, 0.7389514], [65, 7, 2, 0.9063347], [63, 12, 2, 0.66872054], [63, 14, 1, 0.8362407], [51, 14, 1, 1.0]], [[54, 0, 1, 0.6038396], [66, 4, 2, 1.0], [73, 6, 2, 0.8094439], [71, 7, 2, 0.4044472], [75, 9, 2, 0.73628485], [66, 13, 2, 0.7547858]], [[54, 1, 4, 0.92078084], [54, 5, 2, 1.0]], [[53, 0, 1, 0.33487302], [41, 0, 1, 0.54465723], [51, 3, 2, 0.6059451], [53, 4, 2, 1.0], [41, 6, 1, 0.47863898], [41, 13, 2, 0.9762884]], [[54, 0, 2, 0.47593915], [47, 1, 2, 0.55652833], [58, 2, 4, 1.0], [61, 3, 2, 0.49895743], [59, 9, 2, 0.59443915], [54, 14, 1, 0.44491565]], [[56, 0, 1, 0.42291504], [44, 0, 1, 0.4564207], [54, 3, 2, 0.6359418], [56, 4, 2, 0.67286974], [63, 7, 1, 0.51093155], [58, 7, 2, 0.4029724], [54, 8, 3, 0.6500105], [58, 12, 2, 1.0], [63, 13, 3, 0.72564954], [56, 13, 2, 0.695988], [58, 14, 1, 0.7631399]]]\n",
            "staccatoG  generate done!\n",
            "info is \n",
            " [[[48, 2, 2, 1.0], [36, 2, 3, 0.5300583], [36, 5, 2, 0.8290799], [48, 6, 1, 0.69341767], [42, 14, 1, 0.924432]], [[43, 5, 1, 1.0], [47, 8, 5, 0.87362766], [47, 13, 1, 0.738603]], [[42, 1, 2, 1.0], [30, 2, 2, 0.5459119], [42, 3, 1, 0.7653679], [30, 4, 1, 0.62672544], [31, 12, 1, 0.7157143], [26, 14, 2, 0.90083236]], [[43, 10, 3, 1.0], [45, 12, 2, 0.7429591], [45, 14, 1, 0.9200771]], [[42, 6, 2, 0.64639914], [31, 7, 1, 1.0], [28, 14, 1, 0.7253631]], [[43, 1, 1, 0.41600102], [40, 4, 1, 0.461922], [43, 5, 1, 0.7968669], [47, 9, 4, 1.0], [47, 13, 1, 0.53921425]], [[42, 0, 2, 0.7784172], [42, 2, 3, 0.78371185], [42, 5, 3, 1.0], [42, 8, 2, 0.9372422]], [[42, 0, 2, 0.86713135], [42, 2, 3, 0.76894414], [42, 5, 3, 1.0], [42, 8, 2, 0.89748985]], [[47, 4, 2, 0.726132], [54, 7, 2, 0.553298], [52, 12, 2, 0.61191016], [52, 14, 1, 0.65089744]], [[42, 0, 2, 0.82597315], [42, 2, 2, 0.8347759], [42, 4, 4, 1.0], [42, 8, 1, 0.7191066]], [[42, 2, 2, 1.0], [30, 2, 3, 0.9522314], [30, 5, 2, 0.74973893], [42, 6, 1, 0.5059667]], [[38, 0, 1, 0.6625295], [50, 4, 2, 0.9996508], [57, 6, 2, 1.0], [55, 7, 2, 0.48550802], [59, 9, 2, 0.9965789], [57, 13, 2, 0.34539872], [50, 13, 2, 0.8580721], [57, 15, 1, 0.34517896]], [[45, 0, 2, 0.64642155], [48, 2, 2, 0.71454686], [52, 6, 1, 0.34497976], [59, 7, 3, 0.91753054], [57, 12, 2, 0.7981933], [45, 13, 2, 0.91032654], [57, 14, 1, 1.0]], [[45, 0, 2, 0.8426299], [55, 3, 2, 0.6877761], [57, 4, 2, 0.8644528], [45, 6, 1, 0.53279084], [47, 7, 1, 0.34635994], [55, 9, 2, 0.51571405], [59, 12, 2, 0.36298767], [57, 13, 2, 1.0], [59, 14, 1, 0.53797686]], [[45, 0, 1, 0.9070815], [33, 0, 1, 0.6034276], [43, 3, 2, 0.71083623], [45, 4, 2, 0.6324137], [33, 6, 1, 0.47901624], [35, 7, 3, 0.8161759], [43, 8, 3, 0.6509475], [47, 12, 3, 1.0], [52, 13, 3, 0.4295386], [45, 13, 2, 0.76359177]], [[48, 0, 2, 1.0], [48, 2, 2, 0.99139416], [54, 4, 2, 0.8082838], [54, 8, 1, 0.8746617], [59, 10, 2, 0.5368345], [59, 12, 2, 0.70619637], [59, 14, 1, 0.35150024]]]\n",
            "staccatoG#  generate done!\n",
            "info is \n",
            " [[[49, 1, 1, 0.59063077], [46, 4, 1, 0.38888472], [49, 5, 1, 0.9467023], [53, 9, 5, 1.0]], [[53, 2, 2, 0.698523], [53, 4, 2, 0.791505], [49, 5, 1, 0.5998115], [37, 14, 1, 0.58149326]], [[53, 0, 1, 0.95800906], [41, 0, 2, 0.6387538], [43, 1, 2, 0.7145553], [60, 6, 2, 0.3552807], [53, 6, 1, 0.5093902], [55, 7, 2, 1.0], [51, 8, 3, 0.45146763], [55, 12, 3, 0.564054], [53, 13, 2, 0.8117062], [53, 14, 1, 0.33883315]], [[56, 1, 1, 0.8295625], [48, 2, 1, 0.6720586], [56, 5, 1, 1.0], [60, 9, 2, 0.8168707], [65, 12, 2, 0.5948824]], [[48, 3, 2, 0.45728108], [48, 5, 3, 0.5198709], [48, 8, 2, 1.0], [49, 10, 2, 0.7731434], [49, 12, 2, 0.87352455]], [[53, 9, 1, 1.0], [51, 10, 2, 0.95462847], [53, 13, 2, 0.92782885]], [[55, 2, 2, 1.0], [43, 4, 2, 0.4401981], [55, 6, 1, 0.34920943], [60, 11, 4, 0.5260608], [49, 14, 1, 0.7577434]], [[55, 1, 2, 0.54469043], [60, 2, 1, 1.0], [48, 2, 1, 0.5736342], [56, 5, 1, 0.81945205], [65, 12, 2, 0.6973588]], [[58, 4, 2, 0.69176483], [65, 7, 2, 0.7460596], [63, 12, 2, 0.6606908], [63, 14, 1, 0.6733484]], [[53, 1, 1, 0.9941322], [56, 2, 1, 0.38473806], [67, 7, 2, 1.0], [65, 14, 1, 0.9091346]], [[53, 4, 1, 0.5969724], [56, 5, 1, 1.0], [60, 9, 4, 0.90147716], [60, 13, 1, 0.6670961]], [[58, 0, 1, 0.559482], [68, 3, 2, 0.3762201], [70, 4, 2, 0.90408707], [77, 6, 2, 1.0], [75, 6, 2, 0.38753837], [79, 9, 2, 0.9579948], [77, 13, 2, 0.7846314], [70, 13, 2, 0.80564106], [77, 15, 1, 0.50252336]], [[53, 0, 1, 0.5177141], [65, 4, 1, 1.0], [53, 13, 2, 0.84285057]], [[53, 8, 1, 1.0]], [[53, 0, 1, 1.0], [41, 0, 1, 0.6677654], [43, 1, 3, 0.9946997], [53, 4, 2, 0.6581911], [60, 6, 2, 0.6487862], [53, 6, 1, 0.5297084], [55, 7, 2, 0.81129956], [51, 8, 3, 0.40615585], [55, 12, 3, 0.8293688], [60, 13, 2, 0.3988058], [53, 13, 2, 0.84394866], [53, 14, 1, 0.3981075]], [[53, 1, 1, 0.9855446], [56, 2, 1, 0.38049865], [67, 7, 2, 1.0], [65, 14, 1, 0.90135]]]\n",
            "staccatoA  generate done!\n",
            "info is \n",
            " [[[50, 1, 1, 0.57558215], [42, 2, 1, 0.6931607], [50, 5, 1, 1.0]], [[50, 0, 2, 0.86090523], [50, 2, 3, 0.772442], [50, 5, 3, 1.0], [50, 8, 2, 0.9231495]], [[50, 0, 2, 0.861317], [50, 2, 2, 0.8938843], [50, 4, 2, 1.0], [50, 6, 2, 0.9570885], [50, 8, 1, 0.7850879]], [[50, 1, 2, 0.54622424], [57, 4, 2, 1.0], [50, 12, 2, 0.8380749], [44, 14, 1, 0.39652026]], [[50, 2, 2, 1.0], [56, 4, 2, 0.73042023], [56, 8, 1, 0.77760935], [61, 10, 2, 0.48654538], [61, 12, 2, 0.6966551], [61, 14, 1, 0.39812475]], [[50, 6, 3, 0.3635753], [52, 10, 3, 1.0], [54, 12, 2, 0.5827029], [54, 14, 1, 0.87076616]], [[50, 6, 2, 0.8952906], [52, 12, 2, 1.0]], [[50, 1, 2, 0.7715983], [50, 3, 2, 0.5049164], [50, 5, 3, 1.0]], [[47, 0, 1, 0.5927541], [57, 3, 2, 0.44853565], [59, 4, 2, 0.9429156], [66, 6, 2, 1.0], [64, 6, 2, 0.41308427], [68, 9, 2, 0.8820342], [61, 12, 2, 0.7119047], [66, 13, 2, 0.99567825], [59, 13, 2, 0.91235906], [61, 14, 1, 0.790928], [66, 15, 1, 0.6006366]], [[50, 1, 1, 0.4779306], [50, 5, 1, 1.0], [54, 9, 4, 0.9340689], [54, 13, 1, 0.7629321]], [[50, 0, 1, 0.73695195], [38, 0, 1, 0.6180839], [40, 1, 2, 0.56131315], [49, 4, 1, 0.39944762], [38, 6, 1, 0.37926993], [40, 7, 2, 1.0], [38, 13, 2, 0.7944411], [50, 14, 1, 0.59950805]], [[52, 9, 1, 1.0], [50, 10, 2, 0.99837834], [52, 13, 2, 0.8989957]], [[50, 13, 1, 1.0]], [[52, 0, 2, 0.6489017], [54, 2, 1, 0.7822999], [52, 6, 1, 0.34766725], [54, 7, 3, 1.0], [64, 12, 2, 0.46489048], [62, 13, 1, 0.39385357], [52, 13, 2, 0.9179305], [64, 14, 1, 0.8207512]], [[50, 1, 1, 1.0], [57, 4, 2, 0.8350102], [62, 14, 1, 0.43836942]], [[50, 1, 3, 1.0], [56, 4, 1, 0.5688064], [56, 8, 1, 0.4981783], [61, 12, 3, 0.3921648]]]\n",
            "staccatoA#  generate done!\n",
            "info is \n",
            " [[[51, 2, 2, 1.0], [39, 2, 3, 0.90057117], [39, 5, 2, 0.81971335], [51, 6, 1, 0.57040286], [45, 14, 1, 0.3507497]], [[48, 1, 1, 0.81201977], [51, 3, 1, 1.0], [55, 6, 1, 0.40621838], [62, 7, 2, 0.8375476], [60, 12, 2, 0.67784625], [60, 14, 1, 0.93110824], [48, 14, 1, 0.98036414]], [[53, 4, 2, 0.6118968], [60, 7, 2, 0.89551973], [58, 12, 2, 0.5784786], [58, 14, 1, 0.69151604], [46, 14, 1, 0.7215218]], [[48, 0, 1, 0.77989477], [36, 0, 1, 0.515631], [46, 3, 2, 0.7076312], [48, 4, 2, 0.5954759], [36, 6, 1, 0.39838967], [38, 7, 3, 0.72021055], [46, 8, 3, 0.66957873], [50, 12, 3, 1.0], [55, 13, 3, 0.56918997], [48, 13, 2, 0.6936875]], [[45, 1, 2, 0.5383132], [50, 2, 1, 0.9568183], [38, 2, 1, 0.7024866], [46, 5, 1, 1.0]], [[45, 5, 1, 0.7979045], [38, 12, 2, 1.0], [36, 13, 2, 0.8928472]], [[51, 1, 3, 1.0], [58, 4, 2, 0.9803439], [51, 12, 2, 0.9340385], [45, 14, 1, 0.4563001]], [[45, 2, 2, 0.9788538], [33, 2, 3, 0.6097662], [33, 5, 2, 1.0], [45, 6, 2, 0.98808354], [50, 11, 3, 0.77742034], [39, 14, 1, 0.8091231]], [[46, 1, 1, 0.595948], [38, 2, 1, 0.69501483], [46, 5, 1, 1.0]], [[39, 3, 4, 0.43090042], [39, 7, 3, 0.8349108], [38, 11, 2, 0.8897019], [39, 13, 3, 1.0]], [[46, 1, 3, 1.0], [43, 10, 2, 0.45037133], [46, 14, 1, 0.49065354]], [[51, 2, 2, 1.0], [58, 4, 2, 0.69341177], [51, 12, 2, 0.38416353], [45, 14, 1, 0.6572328]], [[51, 2, 1, 0.9298003], [58, 4, 2, 1.0], [51, 12, 2, 0.80361706], [45, 14, 1, 0.6211337]], [[51, 2, 2, 1.0], [58, 4, 2, 0.6946946], [51, 4, 2, 0.35553956], [45, 14, 1, 0.57058746]], [[46, 0, 2, 0.55670595], [39, 1, 2, 0.7169833], [41, 2, 3, 0.48542634], [50, 2, 2, 1.0], [50, 4, 2, 0.9875689], [39, 9, 2, 0.70850724], [34, 14, 1, 0.46378455]], [[55, 0, 2, 0.6925658], [63, 2, 1, 0.3416217], [58, 2, 2, 0.6553546], [62, 6, 2, 0.45791906], [69, 7, 3, 0.9625813], [67, 12, 2, 0.7701595], [65, 13, 1, 0.44849548], [55, 13, 2, 1.0], [67, 14, 1, 0.9944052]]]\n",
            "staccatoB  generate done!\n",
            "info is \n",
            " [[[49, 4, 1, 0.53984964], [42, 13, 1, 1.0]], [[42, 0, 1, 0.8244939], [30, 0, 1, 0.513954], [40, 3, 2, 0.67282504], [42, 4, 2, 0.6184793], [49, 6, 2, 0.4272708], [42, 6, 1, 0.40797833], [44, 7, 2, 0.52571774], [40, 8, 3, 0.6189403], [51, 10, 1, 0.39892447], [44, 12, 3, 1.0], [49, 13, 3, 0.9115158], [42, 13, 2, 0.6412499]], [[46, 1, 3, 1.0], [52, 4, 1, 0.5904015], [52, 8, 1, 0.5776092]], [[46, 1, 2, 0.72600836], [51, 2, 1, 1.0], [39, 2, 1, 0.77336395], [47, 5, 1, 0.98215216], [56, 12, 2, 0.9413516]], [[39, 1, 2, 0.54529184], [44, 2, 1, 0.978877], [32, 2, 1, 0.7322008], [40, 5, 1, 1.0]], [[40, 2, 2, 1.0], [28, 2, 2, 0.56155556], [28, 4, 3, 0.8242575], [40, 6, 1, 0.6977335], [34, 14, 1, 0.89833564]], [[42, 0, 2, 0.7309125], [44, 2, 2, 0.7528903], [49, 4, 1, 0.34662476], [56, 7, 2, 0.8877124], [54, 12, 2, 0.64972126], [54, 14, 1, 0.8421673], [42, 14, 1, 1.0]], [[46, 2, 2, 1.0], [34, 4, 2, 0.50399655], [46, 6, 1, 0.5027294], [51, 11, 4, 0.54719275], [40, 14, 1, 0.7462735]], [[44, 1, 1, 0.81839836], [47, 2, 2, 0.58407265], [58, 7, 2, 0.93330306], [56, 14, 1, 0.4438178], [44, 14, 1, 1.0]], [[44, 0, 2, 0.6983756], [47, 2, 2, 0.5989542], [58, 7, 3, 1.0], [56, 12, 2, 0.8717638], [56, 14, 1, 0.997664], [44, 14, 1, 0.96805686]], [[49, 4, 2, 0.7046081], [56, 7, 2, 0.4779602], [54, 12, 2, 0.6604784], [54, 14, 1, 0.638699]], [[42, 0, 2, 1.0], [42, 2, 2, 0.9646463], [42, 4, 1, 0.9363144]], [[42, 0, 1, 0.5958531], [30, 0, 1, 0.5742792], [32, 1, 2, 0.35694578], [40, 3, 2, 0.79687023], [42, 4, 2, 0.68507344], [30, 6, 1, 0.5225434], [32, 7, 3, 0.64570487], [40, 9, 3, 0.7490304], [44, 12, 3, 1.0], [42, 13, 2, 0.9937075]], [[44, 0, 2, 0.6799765], [52, 2, 1, 0.33899638], [47, 2, 2, 0.6386216], [51, 6, 2, 0.49702984], [58, 7, 3, 0.9515705], [56, 12, 2, 0.776766], [54, 13, 1, 0.43728822], [44, 13, 2, 1.0], [56, 14, 1, 0.9850407]], [[42, 0, 2, 1.0], [42, 2, 2, 0.932479], [42, 4, 2, 0.9645259], [42, 9, 1, 0.9910242]], [[42, 0, 2, 1.0], [42, 2, 2, 0.971048], [42, 4, 1, 0.9415997]]]\n",
            "steping_twistingC  generate done!\n",
            "info is \n",
            " [[[48, 10, 2, 1.0], [50, 12, 2, 0.8253528], [50, 14, 1, 0.65088814]], [[57, 4, 2, 0.7084817], [64, 7, 2, 0.52765805], [62, 12, 2, 0.6426511], [62, 14, 1, 0.6781691]], [[50, 4, 1, 0.54050463], [43, 13, 1, 1.0]], [[53, 1, 3, 1.0], [59, 4, 1, 0.58138293], [59, 8, 1, 0.5538196]], [[50, 1, 1, 0.8791879], [53, 2, 2, 0.42322043], [64, 7, 2, 1.0], [62, 14, 1, 0.9139508]], [[52, 2, 2, 0.67626524], [52, 7, 3, 1.0], [53, 12, 2, 0.68169504], [53, 14, 1, 0.6354234]], [[53, 2, 2, 0.59492564], [53, 7, 3, 1.0], [52, 10, 3, 0.81689626], [53, 13, 2, 0.76383966]], [[50, 1, 2, 0.55905515], [50, 3, 2, 0.84570205], [50, 5, 8, 1.0], [50, 13, 2, 0.9467052]], [[57, 4, 2, 0.7525559], [64, 7, 2, 0.95532656], [62, 12, 2, 0.6294629], [62, 14, 1, 0.69868505], [50, 14, 1, 0.5966558]], [[50, 0, 1, 0.55185676], [60, 3, 2, 0.42160648], [62, 4, 2, 0.9036364], [69, 6, 2, 0.958197], [67, 6, 2, 0.3883404], [71, 9, 2, 0.93773913], [69, 13, 2, 1.0], [62, 13, 2, 0.8206038], [64, 14, 1, 0.43362194], [69, 15, 1, 0.5630996]], [[50, 0, 2, 0.77660406], [62, 4, 2, 0.47906893], [50, 6, 1, 0.4930144], [52, 7, 2, 0.76003814], [50, 13, 2, 1.0]], [[50, 0, 2, 0.8101861], [50, 2, 2, 0.91422105], [50, 4, 2, 0.8690675], [50, 6, 2, 1.0], [50, 8, 1, 0.80444306]], [[48, 1, 1, 0.6446141], [40, 2, 1, 0.46753642], [45, 4, 1, 0.3571302], [48, 5, 1, 1.0], [52, 9, 5, 0.91248566]], [[50, 0, 1, 0.3633979], [62, 4, 1, 1.0], [50, 13, 2, 0.6037716]], [[50, 1, 2, 0.8932905], [60, 4, 1, 0.41455227], [50, 9, 2, 0.8286408], [45, 13, 2, 0.5543727]], [[52, 5, 3, 0.6564357], [52, 8, 1, 0.8739451], [53, 12, 3, 1.0]]]\n",
            "steping_twistingC#  generate done!\n",
            "info is \n",
            " [[[48, 1, 4, 0.8824999], [48, 5, 2, 1.0]], [[44, 5, 1, 0.97750616], [48, 8, 5, 1.0], [48, 13, 1, 0.87736785]], [[48, 1, 2, 0.760519], [48, 3, 2, 0.4894715], [48, 5, 3, 1.0]], [[46, 0, 2, 0.64253914], [49, 2, 2, 0.63285166], [53, 6, 1, 0.3454348], [60, 7, 3, 0.913511], [58, 12, 2, 0.83401436], [58, 14, 1, 1.0], [46, 14, 1, 0.9492863]], [[48, 1, 3, 1.0], [54, 4, 1, 0.5608342], [54, 8, 1, 0.510778]], [[49, 1, 1, 1.0], [56, 4, 2, 0.8131962], [61, 14, 1, 0.56327164], [49, 14, 1, 0.34159517]], [[48, 9, 1, 0.39762422], [46, 10, 2, 1.0], [48, 12, 2, 0.51333565], [48, 14, 1, 0.61585236]], [[48, 0, 1, 0.45500222], [60, 4, 1, 1.0], [48, 14, 1, 0.73966783]], [[48, 1, 2, 0.7237893], [48, 3, 2, 0.49622554], [48, 5, 3, 1.0], [48, 12, 3, 0.38371912]], [[51, 0, 2, 0.7663373], [61, 3, 2, 0.49532193], [63, 4, 2, 0.6468021], [51, 6, 1, 0.50254047], [53, 7, 1, 0.55301845], [61, 9, 2, 0.4921038], [51, 13, 2, 1.0], [53, 14, 1, 0.4514707]], [[49, 1, 1, 0.6017842], [46, 4, 1, 0.56968284], [49, 5, 1, 0.8663654], [53, 9, 4, 1.0], [53, 13, 1, 0.72642505]], [[48, 0, 1, 0.38325596], [58, 3, 1, 0.3487133], [60, 4, 2, 1.0], [48, 14, 1, 0.46618503]], [[53, 4, 1, 0.59106517], [60, 7, 2, 0.34082535], [53, 8, 1, 0.46549022], [58, 10, 2, 0.33919626], [58, 12, 2, 0.56201226], [58, 14, 1, 0.58805466]], [[48, 5, 1, 0.50601], [41, 12, 2, 1.0], [39, 13, 2, 0.83435154]], [[49, 1, 1, 0.8216578], [41, 2, 1, 0.56482124], [49, 5, 1, 1.0], [53, 9, 2, 0.9864411]], [[46, 0, 2, 0.6405711], [49, 2, 2, 0.6084503], [53, 6, 1, 0.36818975], [60, 7, 3, 0.8992127], [58, 12, 2, 0.8374601], [58, 14, 1, 1.0], [46, 14, 1, 0.9650584]]]\n",
            "steping_twistingD  generate done!\n",
            "info is \n",
            " [[[49, 1, 2, 0.67088956], [49, 3, 2, 0.5431818], [49, 5, 4, 1.0], [49, 12, 3, 0.55280775]], [[57, 4, 1, 0.60691255], [64, 7, 2, 0.4903574], [62, 12, 2, 0.6623206], [62, 14, 1, 0.686865]], [[55, 2, 2, 1.0], [62, 4, 2, 0.49903965], [55, 4, 2, 0.5871645], [49, 14, 1, 0.4988625]], [[52, 0, 1, 0.36277065], [40, 0, 2, 0.6401442], [42, 2, 2, 0.7761418], [40, 6, 1, 0.42598018], [42, 7, 3, 1.0], [52, 12, 2, 0.34728318], [50, 13, 1, 0.41546956], [40, 13, 2, 0.91879123], [52, 14, 1, 0.7487912]], [[49, 2, 2, 1.0], [37, 4, 2, 0.46763617], [49, 6, 1, 0.43522042], [54, 11, 4, 0.54051584], [43, 14, 1, 0.76167625]], [[50, 1, 1, 0.45210344], [57, 4, 2, 0.73519737], [50, 12, 2, 1.0]], [[47, 10, 3, 1.0], [49, 12, 2, 0.7404043], [49, 14, 1, 0.9351088]], [[55, 1, 2, 0.8330439], [62, 4, 2, 0.91011035], [55, 12, 2, 1.0], [49, 14, 1, 0.39879313]], [[57, 4, 1, 0.6136027], [64, 7, 2, 0.45354313], [57, 8, 1, 0.6829053], [62, 10, 2, 0.52403927], [62, 12, 2, 0.679237], [62, 14, 1, 0.3639445]], [[52, 1, 1, 0.83867085], [55, 2, 2, 0.5676657], [66, 7, 2, 1.0], [64, 14, 1, 0.38510504], [52, 14, 1, 0.9867634]], [[50, 1, 1, 0.5759186], [47, 4, 1, 0.6061776], [50, 5, 1, 0.9504341], [54, 9, 4, 1.0], [54, 13, 1, 0.7641835]], [[50, 0, 2, 0.5401184], [43, 1, 2, 0.5641587], [54, 2, 2, 1.0], [54, 4, 2, 0.9908965], [43, 9, 3, 0.6914089], [38, 14, 1, 0.45778877]], [[52, 1, 1, 0.8266672], [55, 3, 1, 0.6586205], [66, 7, 2, 0.8596869], [64, 12, 2, 0.3446848], [64, 14, 1, 0.5649271], [52, 14, 1, 1.0]], [[55, 2, 2, 1.0], [62, 4, 2, 0.43946084], [61, 14, 1, 0.68399614]], [[52, 0, 1, 0.53651506], [40, 0, 2, 0.7221741], [43, 2, 2, 0.54197216], [47, 6, 1, 0.35833472], [54, 7, 3, 1.0], [52, 12, 2, 0.4273473], [50, 13, 1, 0.60123956], [40, 13, 2, 0.9225644], [52, 14, 1, 0.8892704]], [[50, 0, 1, 0.4417562], [62, 4, 1, 0.72148937], [69, 6, 2, 0.55640405], [71, 9, 2, 0.59931666], [69, 13, 2, 1.0], [62, 13, 2, 0.5570539], [69, 15, 1, 0.75267756]]]\n",
            "steping_twistingD#  generate done!\n",
            "info is \n",
            " [[[48, 10, 2, 1.0], [50, 12, 2, 0.73057836], [50, 14, 1, 0.61752546]], [[50, 1, 2, 0.5452139], [55, 2, 1, 0.993604], [43, 2, 1, 0.7022185], [51, 5, 1, 1.0]], [[50, 0, 2, 0.9019585], [50, 2, 2, 0.8656622], [50, 4, 1, 0.8327852], [50, 9, 1, 1.0]], [[50, 1, 2, 0.55802876], [55, 2, 1, 0.9954333], [43, 2, 1, 0.72370577], [51, 5, 1, 1.0]], [[55, 4, 2, 0.7059509], [62, 7, 2, 0.77957886], [60, 12, 2, 0.6607577], [60, 14, 1, 0.68814707], [48, 14, 1, 0.4089858]], [[50, 0, 1, 0.5237428], [62, 4, 2, 1.0], [50, 13, 2, 0.76236475]], [[55, 4, 2, 0.6461817], [62, 7, 2, 0.75913113], [60, 12, 2, 0.51107556], [60, 14, 1, 0.54733974]], [[50, 2, 2, 1.0], [38, 5, 1, 0.6303666], [50, 6, 1, 0.75478274], [55, 11, 4, 0.6071606], [44, 14, 1, 0.7691027]], [[53, 0, 1, 1.0], [41, 0, 1, 0.5671708], [43, 1, 2, 0.5968257], [53, 4, 2, 0.7384315], [60, 6, 2, 0.41220087], [53, 6, 1, 0.5366966], [55, 7, 2, 0.9389941], [51, 8, 3, 0.430033], [55, 12, 3, 0.829936], [53, 13, 2, 0.8843471]], [[50, 1, 3, 1.0], [56, 4, 1, 0.5221891]], [[44, 2, 2, 1.0], [51, 4, 2, 0.6826069], [44, 12, 2, 0.37972328], [38, 14, 1, 0.65717494]], [[50, 1, 1, 0.5924422], [55, 2, 1, 0.92825544], [43, 2, 3, 0.8322482], [51, 5, 1, 0.9465518], [43, 5, 1, 0.5436512], [55, 6, 1, 0.8276805], [60, 11, 3, 1.0]], [[50, 0, 2, 0.8050512], [50, 2, 3, 0.7292611], [50, 5, 3, 1.0], [50, 8, 2, 0.8416925]], [[46, 0, 2, 0.53035855], [50, 2, 2, 1.0], [50, 4, 2, 0.9903582], [46, 5, 2, 0.41631776], [39, 9, 3, 0.47379056], [34, 14, 1, 0.43282884]], [[50, 0, 1, 0.68533206], [50, 2, 2, 1.0], [50, 4, 2, 0.7830496], [50, 6, 2, 0.77413934], [50, 8, 1, 0.9316345]], [[44, 2, 2, 1.0], [50, 4, 2, 0.71439725], [50, 8, 1, 0.7577787], [55, 10, 2, 0.4422342], [55, 12, 2, 0.5636188], [55, 14, 1, 0.5323104]]]\n",
            "steping_twistingE  generate done!\n",
            "info is \n",
            " [[[49, 1, 2, 0.5523998], [49, 3, 2, 0.8033064], [49, 5, 8, 1.0], [49, 13, 2, 0.8542981]], [[56, 4, 2, 0.5774061], [63, 7, 2, 0.6928572], [61, 12, 2, 0.47365707], [61, 14, 1, 0.57320863], [49, 14, 1, 0.4711847]], [[52, 1, 1, 0.53052896], [56, 2, 1, 0.3933219], [44, 2, 1, 0.6790802], [52, 5, 1, 1.0]], [[44, 1, 1, 0.5515719], [49, 2, 1, 1.0], [37, 2, 4, 0.9570945], [45, 5, 1, 0.9673573]], [[49, 0, 2, 0.8999415], [49, 2, 2, 0.8620227], [49, 4, 1, 0.8222715], [49, 9, 1, 1.0]], [[47, 0, 2, 0.73274714], [44, 0, 2, 0.66625565], [45, 5, 3, 0.95654577], [45, 8, 3, 1.0], [44, 10, 1, 0.51338017]], [[57, 2, 2, 1.0], [64, 4, 2, 0.37451458], [63, 14, 1, 0.6333447]], [[49, 6, 1, 0.3754076], [51, 7, 2, 1.0], [49, 14, 1, 0.9763302]], [[51, 1, 3, 1.0], [57, 4, 1, 0.58289254], [57, 8, 1, 0.55133194]], [[51, 1, 3, 1.0], [57, 4, 1, 0.5100274]], [[54, 4, 2, 0.689047], [61, 6, 3, 0.43522668], [59, 12, 2, 0.6338989], [59, 14, 1, 0.57370895]], [[56, 4, 2, 0.64039207], [63, 7, 2, 0.4936723], [61, 12, 2, 0.6643013], [61, 14, 1, 0.69344616]], [[54, 0, 1, 0.9180711], [42, 0, 1, 0.5588581], [52, 3, 2, 0.70965433], [54, 4, 2, 0.6749441], [61, 6, 2, 0.46287915], [54, 6, 1, 0.47388116], [56, 7, 2, 0.5932785], [52, 8, 3, 0.6248428], [63, 10, 1, 0.43812236], [56, 12, 3, 1.0], [61, 13, 3, 0.88054407], [54, 13, 2, 0.71470654]], [[51, 8, 1, 0.34068498], [52, 10, 3, 1.0], [54, 12, 2, 0.6198518], [54, 14, 1, 0.91674274]], [[57, 2, 2, 0.97367424], [64, 4, 2, 1.0], [57, 12, 2, 0.7492456], [51, 14, 1, 0.63623124]], [[51, 2, 2, 1.0], [39, 2, 2, 0.78768176], [39, 4, 3, 0.875146], [51, 6, 1, 0.66055125], [45, 14, 1, 0.5362845]]]\n",
            "steping_twistingF  generate done!\n",
            "info is \n",
            " [[[48, 3, 2, 0.6961543], [48, 5, 8, 0.7087966], [48, 13, 3, 1.0]], [[52, 1, 1, 0.5301728], [57, 2, 1, 1.0], [45, 2, 4, 0.9510018], [53, 5, 1, 0.9367554], [57, 6, 1, 0.33988443]], [[48, 1, 3, 1.0], [45, 10, 2, 0.46028703], [48, 14, 1, 0.46151698]], [[48, 0, 2, 0.7990733], [58, 3, 2, 0.7151803], [60, 4, 2, 1.0], [48, 6, 1, 0.49897772], [58, 9, 2, 0.44564936], [48, 13, 2, 0.9354448], [50, 14, 1, 0.5283264]], [[48, 0, 1, 0.6898222], [36, 0, 1, 0.42621627], [46, 3, 2, 0.6347069], [48, 4, 2, 0.588729], [36, 6, 1, 0.39877468], [43, 7, 1, 0.4290399], [50, 7, 3, 0.6277528], [46, 8, 3, 0.58395094], [50, 12, 3, 1.0], [55, 13, 3, 0.7215374], [48, 13, 2, 0.6483539]], [[50, 5, 2, 0.85575384], [46, 10, 2, 0.55866796], [43, 12, 2, 1.0], [41, 13, 2, 0.7767676]], [[52, 1, 3, 1.0], [58, 4, 1, 0.512673]], [[48, 0, 1, 0.7891447], [36, 0, 1, 0.64182204], [38, 2, 2, 1.0], [55, 6, 2, 0.65431184], [48, 6, 1, 0.41765442], [50, 7, 2, 0.881424], [46, 8, 3, 0.36188707], [50, 12, 2, 0.390688], [48, 13, 2, 0.73724985], [50, 14, 1, 0.54000527], [48, 14, 1, 0.6263985]], [[58, 2, 2, 1.0], [64, 4, 2, 0.6707846], [64, 8, 1, 0.7062235], [69, 10, 2, 0.4464713], [69, 12, 2, 0.6829346], [69, 14, 1, 0.41774583]], [[58, 2, 2, 1.0], [65, 4, 2, 0.4082118], [64, 14, 1, 0.67342645]], [[52, 2, 2, 0.6482483], [52, 7, 3, 1.0], [53, 12, 2, 0.58692086], [53, 14, 1, 0.60563505]], [[48, 0, 1, 0.55380934], [36, 0, 2, 0.6976007], [38, 2, 2, 0.99444443], [43, 6, 2, 0.6363096], [50, 7, 2, 0.93726695], [48, 12, 2, 0.53846335], [46, 13, 1, 0.53158534], [48, 14, 1, 1.0], [36, 14, 1, 0.789632]], [[48, 0, 2, 0.7264841], [45, 0, 2, 0.67558765], [46, 5, 3, 0.96067595], [46, 8, 3, 1.0], [45, 10, 1, 0.52032703]], [[52, 1, 2, 0.58871466], [57, 2, 1, 0.9663096], [45, 2, 1, 0.7869086], [53, 5, 1, 1.0]], [[48, 1, 1, 0.4835075], [52, 2, 1, 0.5610711], [40, 2, 1, 0.6769905], [48, 5, 1, 1.0]], [[46, 1, 2, 1.0], [52, 4, 2, 0.9245956], [57, 14, 1, 0.3528436]]]\n",
            "steping_twistingF#  generate done!\n",
            "info is \n",
            " [[[49, 1, 4, 0.91778886], [49, 5, 2, 1.0]], [[49, 0, 1, 0.4066186], [37, 0, 1, 0.36106762], [47, 3, 2, 0.48229003], [49, 4, 2, 0.5671875], [56, 6, 2, 0.42937526], [58, 10, 1, 0.43521932], [51, 12, 2, 0.7984598], [56, 13, 3, 1.0], [49, 13, 2, 0.44519156], [51, 14, 1, 0.5032929]], [[53, 5, 2, 0.8649376], [47, 7, 1, 0.48315015], [44, 14, 1, 1.0]], [[53, 1, 2, 0.7378382], [58, 2, 1, 0.9883262], [46, 2, 1, 0.77202815], [54, 5, 1, 1.0], [63, 12, 2, 0.93446034]], [[49, 0, 2, 0.8158474], [59, 3, 2, 0.67541546], [61, 4, 2, 0.8360227], [49, 6, 1, 0.5179678], [51, 7, 1, 0.37188798], [59, 9, 2, 0.52635384], [63, 12, 2, 0.36379611], [61, 13, 2, 1.0], [63, 14, 1, 0.5296172]], [[49, 9, 1, 0.8936085], [47, 10, 2, 1.0], [49, 14, 1, 0.87553847]], [[49, 0, 1, 0.36886758], [61, 4, 1, 1.0], [49, 13, 2, 0.617074]], [[49, 1, 1, 0.5151874], [46, 4, 1, 0.4629959], [49, 5, 1, 1.0], [53, 9, 4, 0.94795626], [53, 13, 1, 0.76199454]], [[49, 0, 2, 0.9256418], [49, 2, 2, 0.89155376], [49, 4, 1, 0.85107136], [49, 9, 1, 1.0]], [[49, 6, 2, 0.8838235], [51, 12, 2, 1.0]], [[51, 0, 2, 0.6386331], [59, 2, 2, 0.3942138], [54, 2, 2, 0.7519367], [58, 6, 1, 0.4851964], [65, 7, 2, 0.79233414], [63, 12, 2, 0.7050522], [63, 14, 1, 1.0], [51, 14, 1, 0.8578634]], [[49, 12, 2, 1.0], [47, 14, 1, 0.83126515]], [[49, 1, 2, 0.8059651], [59, 3, 2, 0.55629766], [56, 6, 1, 0.34133327], [49, 9, 3, 0.69210464], [44, 14, 1, 0.521856]], [[49, 0, 2, 0.3887446], [44, 0, 1, 0.4515891], [54, 3, 2, 0.4350855], [56, 4, 2, 1.0], [44, 13, 2, 0.45707336]], [[49, 9, 1, 0.85690564], [47, 10, 2, 0.7643895], [49, 14, 1, 1.0]], [[49, 0, 1, 0.6612182], [37, 0, 1, 0.42464566], [47, 3, 2, 0.6377893], [49, 4, 2, 0.5899901], [37, 6, 1, 0.38582617], [44, 7, 1, 0.43747658], [51, 7, 3, 0.61764854], [47, 8, 3, 0.58084255], [51, 12, 3, 1.0], [56, 13, 3, 0.74321854], [49, 13, 2, 0.6421591]]]\n",
            "steping_twistingG  generate done!\n",
            "info is \n",
            " [[[50, 9, 1, 0.3923254], [48, 10, 2, 1.0], [50, 12, 2, 0.50759506], [50, 14, 1, 0.6081778]], [[50, 1, 1, 0.6717963], [42, 2, 1, 0.7291854], [50, 5, 1, 1.0], [54, 8, 2, 0.4082878]], [[45, 0, 2, 0.74712867], [48, 3, 1, 0.70172435], [59, 7, 2, 0.90806526], [57, 12, 2, 0.64409375], [57, 14, 1, 0.8029831], [45, 14, 1, 1.0]], [[60, 2, 1, 0.91575384], [67, 4, 2, 1.0], [60, 12, 2, 0.8033396], [54, 14, 1, 0.60450935]], [[60, 2, 2, 1.0], [67, 4, 2, 0.8558539], [60, 12, 2, 0.5881138], [54, 14, 1, 0.6323763]], [[52, 0, 2, 0.7152352], [55, 3, 1, 0.7024399], [66, 7, 2, 0.9275631], [64, 12, 2, 0.69759256], [64, 14, 1, 0.86740357], [52, 14, 1, 1.0]], [[54, 1, 2, 1.0], [60, 4, 2, 0.89688504]], [[45, 1, 1, 1.0], [48, 3, 1, 0.71669924], [59, 7, 2, 0.76736194], [57, 14, 1, 0.78072405], [45, 14, 1, 0.89730644]], [[50, 1, 2, 0.85022235], [60, 4, 1, 0.43371388], [50, 9, 2, 0.76541734], [45, 13, 2, 0.55328333]], [[50, 1, 2, 0.87030363], [60, 3, 2, 0.5238804], [50, 9, 2, 0.79968476], [45, 13, 2, 0.5553725]], [[50, 6, 2, 0.91398275], [52, 10, 2, 0.60712105], [52, 12, 2, 1.0]], [[50, 1, 1, 0.79157627], [42, 2, 1, 0.6638935], [50, 5, 1, 1.0], [54, 8, 2, 0.48692116], [59, 12, 2, 0.7149975]], [[47, 0, 2, 0.74242157], [48, 5, 3, 0.88714904], [48, 8, 6, 1.0]], [[50, 10, 2, 0.8286765], [52, 12, 3, 1.0]], [[50, 0, 1, 1.0], [38, 0, 1, 0.6577309], [40, 1, 2, 0.51292497], [48, 3, 2, 0.6822463], [50, 4, 2, 0.6733141], [38, 6, 1, 0.5523886], [40, 7, 3, 0.8967563], [48, 8, 3, 0.57523006], [52, 12, 3, 0.92041934], [50, 13, 2, 0.8320199]], [[50, 9, 1, 0.5262493], [48, 10, 2, 1.0], [50, 12, 2, 0.56726897], [50, 14, 1, 0.69569457]]]\n",
            "steping_twistingG#  generate done!\n",
            "info is \n",
            " [[[49, 10, 2, 1.0], [51, 12, 2, 0.8389606], [51, 14, 1, 0.6397107]], [[58, 4, 1, 0.6325131], [65, 7, 2, 0.49659622], [63, 12, 2, 0.6696018], [63, 14, 1, 0.6918352]], [[55, 1, 2, 0.6341582], [60, 2, 1, 0.9736295], [48, 2, 1, 0.8424947], [56, 5, 1, 1.0]], [[51, 0, 2, 0.5641323], [44, 1, 2, 0.7154145], [46, 2, 3, 0.35843366], [55, 2, 2, 1.0], [55, 4, 2, 0.9890466], [44, 9, 3, 0.7242956], [39, 14, 1, 0.46497023]], [[55, 1, 3, 1.0], [61, 4, 1, 0.5564906], [61, 8, 1, 0.50593877]], [[51, 0, 1, 0.35919574], [63, 4, 2, 0.5264582], [70, 6, 2, 0.51402116], [72, 9, 2, 0.5897988], [70, 13, 3, 1.0], [63, 13, 2, 0.5081898]], [[53, 1, 1, 1.0], [56, 3, 1, 0.7631856], [67, 7, 2, 0.8436785], [65, 14, 1, 0.7670504], [53, 14, 1, 0.9949159]], [[55, 0, 2, 0.6546199], [58, 1, 2, 0.83958673], [56, 5, 1, 0.9760593], [56, 8, 3, 1.0], [55, 10, 1, 0.6283796]], [[53, 1, 1, 0.89811003], [56, 3, 1, 0.704992], [67, 7, 2, 0.8482852], [65, 14, 1, 0.6664841], [53, 14, 1, 1.0]], [[51, 0, 1, 0.629591], [39, 0, 1, 0.60854554], [41, 1, 2, 0.77777374], [39, 6, 1, 0.487203], [41, 7, 3, 1.0], [49, 8, 3, 0.34099802], [39, 13, 2, 0.9128998], [41, 14, 1, 0.3699372], [51, 14, 1, 0.51673603]], [[51, 0, 1, 0.77028775], [39, 0, 1, 0.6242165], [41, 1, 3, 0.841127], [39, 6, 1, 0.5142188], [41, 7, 3, 1.0], [49, 8, 3, 0.40940797], [53, 12, 2, 0.35126686], [51, 13, 2, 0.92747927], [53, 14, 1, 0.4299557], [51, 14, 1, 0.36266693]], [[51, 0, 2, 0.7416425], [51, 2, 3, 0.7799451], [51, 5, 3, 1.0], [51, 8, 2, 0.9314005]], [[51, 0, 2, 0.9225398], [51, 2, 2, 0.8708801], [51, 4, 2, 0.84941775], [51, 9, 1, 1.0]], [[48, 3, 2, 0.493632], [48, 5, 3, 0.5789989], [48, 8, 2, 1.0], [49, 10, 2, 0.8315118], [49, 12, 2, 0.8982773]], [[51, 0, 2, 0.71464235], [51, 2, 2, 0.7422662], [51, 4, 4, 1.0], [51, 8, 1, 0.68111306]], [[51, 1, 2, 0.639688], [51, 3, 2, 0.6003363], [51, 5, 4, 1.0], [51, 12, 3, 0.7982592]]]\n",
            "steping_twistingA  generate done!\n",
            "info is \n",
            " [[[49, 1, 2, 0.7258836], [49, 3, 2, 0.49742714], [49, 5, 3, 1.0], [49, 12, 3, 0.5647312]], [[50, 1, 2, 0.6181456], [57, 4, 2, 1.0], [50, 12, 2, 0.85277873], [44, 14, 1, 0.41634417]], [[50, 1, 3, 1.0], [56, 4, 2, 0.7448724], [61, 12, 2, 0.6230153], [61, 14, 1, 0.6913555], [49, 14, 1, 0.62699497]], [[50, 6, 3, 0.89022034], [52, 10, 3, 1.0], [54, 12, 2, 0.42524138], [54, 14, 1, 0.6799275]], [[52, 0, 1, 0.46357948], [62, 3, 2, 0.47276828], [64, 4, 2, 0.79033494], [71, 6, 2, 0.66713977], [73, 9, 2, 0.6129301], [66, 12, 2, 0.6465866], [71, 13, 3, 1.0], [64, 13, 2, 0.6935512], [66, 14, 1, 0.6376834]], [[50, 5, 1, 1.0], [54, 8, 5, 0.9406941], [54, 13, 1, 0.818563]], [[54, 0, 2, 0.74134415], [57, 3, 1, 0.70684487], [68, 7, 2, 0.9025872], [66, 12, 2, 0.66252], [66, 14, 1, 0.8234886], [54, 14, 1, 1.0]], [[50, 1, 2, 0.8143053], [57, 4, 2, 1.0], [50, 12, 2, 0.85066], [44, 14, 1, 0.47296527]], [[50, 1, 1, 0.4769694], [50, 5, 1, 1.0], [54, 9, 4, 0.9376415], [54, 13, 1, 0.7698947]], [[49, 1, 1, 0.7320832], [59, 3, 2, 0.630178], [56, 5, 2, 0.5112129], [47, 7, 1, 0.3504288], [49, 9, 4, 0.6437735], [44, 14, 1, 0.5445596]], [[49, 1, 2, 0.5545364], [54, 2, 1, 1.0], [42, 2, 1, 0.5794498], [50, 5, 1, 0.82702297], [59, 12, 2, 0.7009435]], [[49, 0, 2, 1.0], [49, 2, 2, 0.9816571], [49, 4, 1, 0.9548821]], [[49, 3, 2, 0.5356221], [49, 5, 3, 0.65193796], [49, 8, 2, 0.97183794], [50, 10, 2, 0.8970036], [50, 12, 2, 1.0]], [[49, 0, 2, 0.81783533], [49, 2, 2, 0.9260768], [49, 4, 2, 0.8719018], [49, 6, 2, 1.0], [49, 8, 1, 0.81843936]], [[45, 0, 2, 0.429521], [38, 1, 2, 0.53225696], [49, 2, 4, 1.0], [52, 3, 2, 0.5029785], [50, 9, 2, 0.5725937], [45, 14, 1, 0.43302733]], [[50, 0, 2, 0.4502674], [54, 2, 2, 1.0], [54, 4, 2, 0.964447], [50, 5, 2, 0.43848065], [38, 14, 1, 0.41787368]]]\n",
            "steping_twistingA#  generate done!\n",
            "info is \n",
            " [[[48, 1, 2, 0.5624825], [48, 3, 2, 0.8065046], [48, 5, 8, 1.0], [48, 13, 2, 0.82576877]], [[48, 0, 1, 0.34121934], [58, 3, 2, 0.38470897], [60, 4, 2, 0.55066764], [67, 6, 2, 0.44913083], [69, 10, 1, 0.500005], [62, 12, 2, 0.7405523], [67, 13, 3, 1.0], [60, 13, 2, 0.4412578], [62, 14, 1, 0.49421456]], [[55, 0, 2, 0.69113594], [63, 2, 1, 0.40741524], [58, 2, 2, 0.6716043], [62, 6, 2, 0.57831377], [69, 7, 3, 0.9661241], [67, 12, 2, 0.7800913], [65, 13, 1, 0.45545334], [55, 13, 2, 0.9954624], [67, 14, 1, 1.0]], [[48, 5, 1, 0.6667102], [41, 12, 2, 1.0], [39, 13, 2, 0.86203504]], [[51, 1, 3, 1.0], [57, 4, 1, 0.5010535]], [[48, 1, 2, 0.89225554], [58, 4, 1, 0.43139863], [48, 9, 2, 0.8099833], [43, 13, 2, 0.54917943]], [[51, 1, 3, 1.0], [57, 4, 1, 0.5769944], [57, 8, 1, 0.5933515]], [[48, 0, 1, 0.70515025], [36, 0, 1, 0.61045915], [38, 1, 2, 0.60855716], [46, 3, 2, 0.7361116], [48, 4, 2, 0.6426177], [36, 6, 1, 0.5238968], [38, 7, 3, 0.76308805], [46, 9, 2, 0.5397998], [50, 12, 3, 0.88431036], [48, 13, 2, 1.0]], [[48, 0, 1, 0.94414866], [36, 0, 1, 0.54175746], [38, 1, 2, 0.62932193], [55, 6, 2, 0.5057397], [48, 6, 1, 0.516517], [50, 7, 2, 1.0], [46, 8, 3, 0.34326637], [50, 12, 2, 0.47799724], [48, 13, 2, 0.80212635], [50, 14, 1, 0.42750517]], [[48, 0, 1, 0.58898395], [36, 0, 1, 0.58192474], [38, 1, 2, 0.34446248], [46, 3, 2, 0.80812544], [48, 4, 2, 0.6946397], [36, 6, 1, 0.5163939], [38, 7, 3, 0.64150256], [46, 9, 3, 0.7596248], [50, 12, 3, 1.0], [48, 13, 2, 0.98596]], [[48, 1, 1, 1.0], [51, 3, 1, 0.3691292], [55, 4, 2, 0.91089326], [62, 7, 2, 0.52879024], [60, 14, 1, 0.7203521], [48, 14, 1, 0.62422955]], [[48, 0, 1, 0.71351486], [36, 0, 1, 0.611055], [38, 1, 2, 0.81936014], [36, 6, 1, 0.48593774], [38, 7, 3, 1.0], [46, 8, 3, 0.38034472], [36, 13, 2, 0.92225903], [38, 14, 1, 0.4029256], [48, 14, 1, 0.4341316]], [[53, 0, 2, 0.42599806], [46, 1, 2, 0.5376161], [57, 2, 4, 1.0], [60, 3, 2, 0.56653875], [58, 9, 2, 0.57933927], [53, 14, 1, 0.4353132]], [[48, 0, 2, 0.7568429], [48, 2, 3, 0.7822564], [48, 5, 3, 1.0], [48, 8, 2, 0.93010026]], [[48, 1, 2, 0.7701008], [58, 3, 2, 0.5507256], [55, 5, 2, 0.43008557], [48, 9, 4, 0.66413677], [43, 14, 1, 0.51964325]], [[51, 1, 3, 0.58018315], [62, 2, 3, 1.0], [51, 9, 3, 0.43178484]]]\n",
            "steping_twistingB  generate done!\n",
            "info is \n",
            " [[[49, 10, 2, 1.0], [51, 12, 2, 0.5079364], [51, 14, 1, 0.5618257]], [[54, 0, 1, 0.86734647], [42, 0, 1, 0.52146375], [52, 3, 2, 0.6848071], [54, 4, 2, 0.6360432], [61, 6, 2, 0.43943015], [54, 6, 1, 0.43158624], [56, 7, 2, 0.5466748], [52, 8, 3, 0.624288], [63, 10, 1, 0.40927425], [56, 12, 3, 1.0], [61, 13, 3, 0.8988288], [54, 13, 2, 0.6683667]], [[52, 2, 2, 1.0], [58, 4, 2, 0.6849788], [58, 8, 1, 0.70114726], [63, 10, 2, 0.41040388], [63, 12, 2, 0.5549402], [63, 14, 1, 0.5610562]], [[51, 1, 2, 0.6869004], [56, 2, 1, 0.8992252], [44, 2, 1, 0.74563974], [52, 5, 1, 1.0], [56, 6, 1, 0.5481512], [61, 11, 3, 0.91034186]], [[49, 0, 2, 0.71015376], [52, 3, 1, 0.7209467], [63, 7, 2, 0.91986316], [61, 12, 2, 0.71122044], [61, 14, 1, 0.8812083], [49, 14, 1, 1.0]], [[51, 1, 1, 0.6069026], [56, 2, 1, 0.9087345], [44, 2, 3, 0.824913], [52, 5, 1, 0.98380435], [44, 5, 1, 0.47216538], [56, 6, 1, 0.7950216], [61, 11, 3, 1.0]], [[51, 1, 2, 0.5620291], [51, 3, 2, 0.68837065], [51, 5, 4, 1.0], [51, 13, 2, 0.751406]], [[51, 0, 2, 0.348377], [46, 0, 1, 0.5545085], [56, 3, 2, 0.53523064], [58, 4, 2, 1.0], [46, 13, 2, 0.5991978]], [[56, 4, 2, 0.6655756], [63, 6, 3, 0.42484927], [61, 12, 2, 0.5986207], [61, 14, 1, 0.5064589]], [[52, 1, 1, 1.0], [59, 4, 2, 0.8849984], [66, 7, 2, 0.373347], [64, 14, 1, 0.638898], [52, 14, 1, 0.45764273]], [[52, 1, 1, 0.825323], [44, 2, 1, 0.6373501], [52, 5, 1, 1.0], [56, 9, 2, 0.8908616], [61, 12, 2, 0.5019289]], [[46, 1, 3, 1.0], [52, 4, 1, 0.5695919]], [[47, 2, 2, 1.0], [46, 4, 1, 0.8276389], [42, 6, 1, 0.37052992], [47, 9, 3, 0.9929485], [47, 12, 1, 0.33547047], [42, 14, 2, 0.6488374]], [[58, 2, 2, 1.0], [46, 5, 2, 0.8032894], [58, 6, 1, 0.8716729], [63, 11, 4, 0.6402952], [52, 14, 1, 0.83632743]], [[52, 1, 3, 1.0], [63, 2, 2, 0.34235874], [51, 4, 1, 0.64780104], [47, 6, 1, 0.43769243], [52, 9, 2, 0.91949946], [47, 14, 2, 0.6555083]], [[51, 5, 1, 0.40471825], [52, 7, 1, 1.0], [54, 7, 1, 0.8962553], [51, 14, 1, 0.60530937]]]\n",
            "tripletC  generate done!\n",
            "info is \n",
            " [[[50, 0, 1, 0.5344181], [38, 0, 1, 0.56908566], [48, 3, 2, 0.86589235], [50, 4, 2, 0.7781518], [38, 6, 1, 0.5375811], [40, 7, 3, 0.51717037], [48, 9, 3, 0.88929564], [52, 12, 3, 0.90404916], [50, 13, 2, 1.0]], [[57, 0, 2, 0.770529], [65, 2, 3, 0.36852503], [60, 3, 1, 0.9792932], [64, 6, 1, 0.44626832], [71, 7, 2, 0.8126828], [69, 12, 2, 0.6730744], [69, 14, 1, 0.93949646], [57, 14, 1, 1.0]], [[50, 13, 1, 1.0]], [[57, 4, 2, 0.74884224], [64, 7, 2, 0.952562], [62, 12, 2, 0.6189549], [62, 14, 1, 0.6875767], [50, 14, 1, 0.64388585]], [[53, 1, 2, 1.0], [59, 4, 2, 0.92794204], [64, 14, 1, 0.34403548]], [[52, 2, 2, 0.4735819], [52, 7, 3, 0.76044357], [53, 9, 1, 0.63099015], [53, 14, 1, 1.0]], [[50, 10, 2, 0.9054775], [52, 12, 2, 1.0], [52, 14, 1, 0.79571354]], [[53, 1, 1, 0.67974037], [45, 2, 1, 0.7434457], [53, 5, 1, 1.0], [57, 8, 2, 0.46327388]], [[47, 2, 2, 1.0], [35, 5, 1, 0.7418249], [47, 6, 1, 0.8350941], [52, 11, 4, 0.62335694], [41, 14, 1, 0.8238982]], [[50, 0, 1, 0.87814564], [38, 0, 1, 0.65472674], [40, 1, 3, 0.89846987], [48, 3, 2, 0.5773816], [50, 4, 2, 0.6347907], [38, 6, 1, 0.55241215], [40, 7, 3, 1.0], [48, 9, 2, 0.46631134], [52, 12, 3, 0.5722341], [50, 13, 2, 0.9539281]], [[53, 1, 1, 0.7446198], [50, 4, 1, 0.3559865], [53, 5, 1, 0.9426002], [57, 9, 4, 1.0], [57, 13, 1, 0.49979734]], [[50, 0, 2, 0.8327778], [50, 2, 2, 0.78207636], [50, 4, 3, 1.0], [50, 9, 1, 0.8731944]], [[41, 1, 2, 1.0], [48, 4, 2, 0.9980993], [41, 12, 2, 0.97756153], [35, 14, 1, 0.45583895]], [[53, 3, 4, 0.4394893], [53, 7, 3, 0.8264969], [52, 11, 2, 0.90373087], [53, 13, 3, 1.0]], [[53, 1, 3, 1.0], [59, 4, 1, 0.5048939]], [[55, 4, 2, 0.73058385], [62, 7, 2, 1.0], [60, 12, 2, 0.6435447], [60, 14, 1, 0.76399475], [48, 14, 1, 0.8955778]]]\n",
            "tripletC#  generate done!\n",
            "info is \n",
            " [[[48, 0, 1, 0.7593192], [48, 13, 2, 1.0]], [[51, 0, 1, 1.0], [39, 0, 1, 0.6606785], [41, 1, 2, 0.9041453], [44, 2, 2, 0.37906528], [49, 3, 2, 0.6378671], [51, 4, 2, 0.7294286], [58, 6, 2, 0.5440087], [51, 6, 1, 0.5383148], [53, 7, 2, 0.71240383], [49, 8, 3, 0.4694623], [53, 12, 3, 0.9159292], [58, 13, 2, 0.45263547], [51, 13, 2, 0.8715646]], [[48, 2, 2, 1.0], [36, 5, 1, 0.67828125], [48, 6, 1, 0.79229015], [53, 11, 4, 0.6058317], [42, 14, 1, 0.7666185]], [[48, 1, 1, 0.41030094], [53, 2, 1, 1.0], [41, 2, 1, 0.49625057], [49, 5, 1, 0.74515456], [58, 12, 2, 0.5860637]], [[48, 1, 3, 1.0], [54, 4, 1, 0.6453447]], [[48, 0, 1, 0.48937297], [48, 2, 2, 0.87051845], [48, 4, 2, 0.35448602], [48, 6, 2, 0.39011738], [48, 8, 1, 1.0]], [[48, 0, 2, 0.9679477], [48, 2, 2, 0.9036539], [48, 4, 2, 1.0], [48, 9, 1, 0.92895067]], [[42, 2, 2, 1.0], [48, 4, 2, 0.6806326], [48, 8, 1, 0.71968174], [53, 10, 2, 0.442365], [53, 12, 2, 0.6859557], [53, 14, 1, 0.4208184]], [[48, 0, 2, 0.7947831], [48, 2, 3, 0.77464294], [48, 5, 3, 1.0], [48, 8, 2, 0.9240734]], [[48, 4, 1, 0.4739516], [41, 13, 1, 1.0]], [[49, 1, 3, 0.59460187], [60, 2, 4, 1.0], [49, 9, 3, 0.5533701], [44, 14, 1, 0.35614848]], [[51, 1, 1, 1.0], [54, 3, 1, 0.46477905], [58, 4, 2, 0.76721406], [65, 7, 2, 0.6039623], [63, 14, 1, 0.71902], [51, 14, 1, 0.70909584]], [[48, 4, 1, 0.36252287], [41, 13, 1, 1.0]], [[51, 0, 1, 0.40613732], [39, 0, 1, 0.46190634], [49, 3, 2, 0.6323406], [51, 4, 2, 0.6697526], [58, 7, 1, 0.5081604], [53, 7, 2, 0.40774623], [49, 8, 3, 0.62623787], [53, 12, 2, 1.0], [58, 13, 3, 0.7270885], [51, 13, 2, 0.70288086], [53, 14, 1, 0.7627738]], [[53, 5, 3, 0.6516287], [53, 8, 1, 0.8965455], [54, 10, 2, 0.84949386], [54, 12, 3, 1.0]], [[49, 1, 1, 0.8256855], [41, 2, 1, 0.58391476], [49, 5, 1, 1.0], [53, 9, 2, 0.9686859]]]\n",
            "tripletD  generate done!\n",
            "info is \n",
            " [[[49, 0, 1, 0.5384653], [59, 3, 2, 0.561841], [61, 4, 2, 1.0], [49, 6, 1, 0.46462086], [49, 13, 2, 0.95447654]], [[49, 1, 2, 0.5782565], [54, 2, 1, 0.9686844], [42, 2, 1, 0.7861404], [50, 5, 1, 1.0]], [[47, 0, 2, 0.67251235], [50, 2, 2, 0.72052735], [61, 7, 2, 1.0], [59, 12, 2, 0.8329074], [47, 13, 2, 0.88391143], [59, 14, 1, 0.97710884]], [[49, 0, 2, 0.87206614], [49, 2, 3, 0.7712447], [49, 5, 3, 1.0], [49, 8, 2, 0.9083982]], [[49, 1, 1, 0.5316979], [54, 2, 1, 1.0], [42, 2, 4, 0.95450515], [50, 5, 1, 0.9505606], [54, 6, 1, 0.35074127]], [[49, 0, 2, 0.7994625], [49, 2, 2, 0.9450442], [49, 4, 2, 0.93125665], [49, 6, 2, 1.0], [49, 8, 1, 0.80646324]], [[49, 0, 2, 0.8128443], [49, 2, 2, 0.9291357], [49, 4, 2, 0.86281097], [49, 6, 2, 1.0], [49, 8, 1, 0.80856967]], [[49, 1, 1, 0.33504662], [54, 2, 2, 1.0], [42, 2, 3, 0.95850706], [42, 5, 2, 0.73298717], [54, 6, 1, 0.5183503]], [[49, 0, 2, 0.7353848], [49, 2, 3, 0.7801958], [49, 5, 3, 1.0], [49, 8, 2, 0.93626004]], [[49, 2, 2, 1.0], [37, 2, 2, 0.7628283], [37, 4, 3, 0.8797013], [49, 6, 1, 0.64240557], [43, 14, 1, 0.55577284]], [[50, 0, 2, 0.8268531], [50, 6, 1, 0.4602277], [52, 7, 2, 0.9654233], [50, 14, 1, 1.0]], [[49, 2, 2, 0.39266646], [50, 9, 1, 0.81591123], [50, 14, 1, 1.0]], [[49, 0, 2, 0.67128575], [49, 2, 2, 0.7378892], [49, 4, 4, 1.0], [49, 8, 2, 0.82565963]], [[47, 0, 1, 0.8523812], [35, 0, 1, 0.5616176], [45, 3, 2, 0.70362335], [47, 4, 2, 0.60964054], [35, 6, 1, 0.4510334], [37, 7, 3, 0.7761791], [45, 8, 3, 0.65109986], [49, 12, 3, 1.0], [54, 13, 3, 0.4773643], [47, 13, 2, 0.7263509]], [[49, 1, 4, 1.0], [49, 5, 2, 0.96405476], [49, 14, 2, 0.3337549]], [[49, 0, 2, 0.7356652], [52, 1, 1, 0.34930295], [50, 5, 3, 0.88931525], [50, 8, 3, 1.0]]]\n",
            "tripletD#  generate done!\n",
            "info is \n",
            " [[[55, 4, 2, 0.67792535], [62, 7, 2, 0.641452], [60, 12, 2, 0.6654829], [60, 14, 1, 0.6525798]], [[68, 1, 2, 0.92444193], [75, 4, 2, 0.96605873], [68, 12, 2, 1.0], [62, 14, 1, 0.43724117]], [[63, 3, 3, 0.6060942], [63, 6, 3, 0.74717355], [62, 11, 2, 0.7659898], [63, 13, 3, 1.0]], [[63, 0, 1, 0.55108196], [75, 4, 2, 0.801948], [82, 6, 2, 1.0], [80, 7, 2, 0.6750286], [84, 9, 2, 0.63843715], [75, 13, 2, 0.6697275]], [[68, 2, 2, 1.0], [74, 4, 2, 0.66395485], [74, 8, 1, 0.6581945], [79, 10, 2, 0.38835943], [79, 12, 2, 0.5538527], [79, 14, 1, 0.56223404]], [[60, 0, 2, 0.64342463], [68, 2, 2, 0.38095564], [63, 2, 2, 0.76558405], [67, 6, 1, 0.47529015], [74, 7, 2, 0.8013565], [72, 12, 2, 0.6971329], [72, 14, 1, 1.0], [60, 14, 1, 0.8409588]], [[63, 1, 1, 0.38998213], [60, 4, 1, 0.49474582], [63, 5, 1, 0.83474195], [67, 9, 4, 1.0], [67, 13, 1, 0.58633983]], [[60, 0, 1, 0.6494127], [60, 13, 2, 1.0]], [[60, 4, 2, 1.0], [53, 13, 1, 0.8074125]], [[58, 2, 2, 0.7309572], [55, 5, 2, 0.94866014], [58, 7, 1, 1.0], [55, 14, 1, 0.8865608]], [[60, 0, 1, 0.64494413], [48, 0, 1, 0.61316204], [50, 1, 3, 0.80490285], [48, 6, 1, 0.4904053], [50, 7, 3, 1.0], [58, 8, 3, 0.36691394], [48, 13, 2, 0.9226955], [50, 14, 1, 0.38520628], [60, 14, 1, 0.49462605]], [[60, 0, 2, 0.8760674], [60, 2, 3, 0.77329445], [60, 5, 3, 1.0], [60, 8, 2, 0.9107009]], [[56, 1, 3, 1.0], [67, 2, 2, 0.9611133], [55, 4, 1, 0.39399564], [51, 6, 1, 0.46339065], [56, 9, 2, 0.84780306], [51, 14, 2, 0.6618173]], [[60, 12, 2, 1.0], [58, 14, 1, 0.8466423]], [[60, 0, 2, 0.86102337], [60, 2, 2, 0.9216963], [60, 4, 2, 0.9717519], [60, 6, 2, 1.0], [60, 8, 1, 0.8203446]], [[58, 0, 1, 0.58469063], [68, 3, 1, 0.3434051], [70, 4, 2, 0.89719224], [77, 6, 2, 1.0], [75, 6, 2, 0.42525765], [79, 9, 2, 0.97731614], [77, 13, 2, 0.5852249], [70, 13, 2, 0.8055525], [77, 15, 1, 0.44956842]]]\n",
            "tripletE  generate done!\n",
            "info is \n",
            " [[[49, 0, 1, 0.6221498], [37, 0, 1, 0.57970846], [39, 1, 2, 0.41287994], [47, 3, 2, 0.79639935], [49, 4, 2, 0.6676637], [37, 6, 1, 0.5103022], [39, 7, 3, 0.6627768], [47, 9, 3, 0.7101894], [51, 12, 3, 1.0], [49, 13, 2, 0.9802593]], [[49, 0, 1, 0.694659], [37, 0, 1, 0.42795599], [47, 3, 2, 0.6392795], [49, 4, 2, 0.5870978], [56, 6, 2, 0.40947857], [51, 7, 2, 0.42116272], [57, 9, 1, 0.3788815], [47, 9, 2, 0.645841], [51, 12, 3, 0.9710969], [56, 13, 3, 1.0], [49, 13, 2, 0.5489783]], [[49, 0, 1, 1.0], [37, 0, 1, 0.6616794], [39, 1, 3, 0.9809079], [49, 4, 2, 0.63228256], [56, 6, 2, 0.6249947], [49, 6, 1, 0.51940316], [51, 7, 2, 0.83263254], [47, 8, 3, 0.40429983], [51, 12, 3, 0.8000502], [56, 13, 2, 0.3800151], [49, 13, 2, 0.84201974], [49, 14, 1, 0.40777504]], [[56, 4, 1, 0.63758177], [63, 7, 2, 0.7778069], [61, 12, 2, 0.70693666], [61, 14, 1, 0.7175871]], [[51, 0, 2, 0.56910247], [54, 1, 3, 0.98139274], [52, 4, 2, 0.9612218], [52, 8, 3, 1.0], [51, 10, 2, 0.70607156]], [[56, 4, 2, 0.658553], [63, 7, 2, 0.6108725], [61, 12, 2, 0.51123357], [61, 14, 1, 0.5545517]], [[56, 4, 2, 0.62989527], [63, 7, 2, 0.95678], [61, 12, 2, 0.6309704], [61, 14, 1, 0.7654849], [49, 14, 1, 0.9400087]], [[57, 1, 2, 0.7367763], [64, 4, 2, 1.0], [57, 12, 2, 0.853261], [51, 14, 1, 0.4344887]], [[51, 8, 1, 0.38445777], [52, 10, 3, 1.0], [54, 12, 2, 0.5897982], [54, 14, 1, 0.86892104]], [[49, 0, 1, 0.40282285], [59, 3, 1, 0.37870517], [61, 4, 2, 1.0], [49, 14, 1, 0.45723435]], [[39, 2, 2, 1.0], [27, 5, 1, 0.7438469], [39, 6, 1, 0.8432693], [44, 11, 4, 0.6280655], [33, 14, 1, 0.8411422]], [[49, 5, 2, 0.87792516], [47, 8, 1, 0.33915466], [45, 10, 2, 0.5611087], [42, 12, 2, 1.0], [40, 13, 2, 0.7650446]], [[49, 6, 2, 0.7916435], [51, 12, 2, 1.0]], [[49, 0, 2, 0.8225287], [49, 2, 2, 0.8261082], [49, 4, 4, 1.0], [49, 8, 1, 0.71088547]], [[47, 0, 1, 0.51490057], [59, 4, 2, 0.75837874], [66, 6, 2, 1.0], [64, 7, 2, 0.59120286], [68, 9, 2, 0.6968992], [66, 13, 2, 0.36860442], [59, 13, 2, 0.65358496], [66, 15, 1, 0.40175042]], [[56, 4, 1, 0.5783621], [63, 7, 2, 0.44591543], [61, 10, 2, 0.3692148], [61, 12, 2, 0.73110485], [61, 14, 1, 0.6739037]]]\n",
            "tripletF  generate done!\n",
            "info is \n",
            " [[[48, 0, 1, 0.635889], [36, 0, 1, 0.58920646], [38, 1, 2, 0.4368739], [46, 3, 2, 0.7775613], [48, 4, 2, 0.6667376], [36, 6, 1, 0.52692384], [38, 7, 3, 0.6916097], [46, 9, 3, 0.67928225], [50, 12, 3, 0.98521644], [48, 13, 2, 1.0]], [[48, 0, 1, 0.805701], [36, 0, 1, 0.4914947], [46, 3, 2, 0.67130214], [48, 4, 2, 0.61537635], [55, 6, 2, 0.4245857], [48, 6, 1, 0.38687202], [50, 7, 2, 0.51459265], [46, 8, 3, 0.61595213], [57, 10, 1, 0.3948911], [50, 12, 3, 1.0], [55, 13, 3, 0.9346409], [48, 13, 2, 0.6318467]], [[55, 4, 1, 0.58601326], [62, 6, 3, 0.37697214], [55, 8, 1, 0.5420207], [60, 10, 2, 0.36861444], [60, 12, 2, 0.6687285], [60, 14, 1, 0.51498413]], [[48, 0, 1, 0.3348483], [41, 0, 2, 0.33520833], [36, 0, 1, 0.5475728], [46, 3, 2, 0.5928669], [48, 4, 2, 1.0], [36, 6, 1, 0.46089816], [36, 13, 2, 0.96328753]], [[48, 1, 1, 0.6173321], [45, 4, 1, 0.39328387], [48, 5, 1, 0.98077416], [52, 9, 5, 1.0]], [[55, 4, 2, 0.7139665], [62, 7, 2, 0.7890902], [60, 12, 2, 0.6653042], [60, 14, 1, 0.7028465], [48, 14, 1, 0.4501243]], [[55, 4, 2, 0.70042825], [62, 7, 2, 0.76893723], [60, 12, 2, 0.65802425], [60, 14, 1, 0.67550546], [48, 14, 1, 0.38316324]], [[48, 0, 1, 1.0], [36, 0, 1, 0.66863245], [38, 1, 2, 0.7545031], [41, 2, 2, 0.34713572], [46, 3, 2, 0.67564607], [48, 4, 2, 0.7383822], [55, 6, 2, 0.5229167], [48, 6, 1, 0.5499584], [50, 7, 2, 0.69585943], [46, 8, 3, 0.48331615], [50, 12, 3, 0.91527426], [55, 13, 3, 0.5263139], [48, 13, 2, 0.85501957]], [[48, 4, 1, 0.55024916], [41, 13, 1, 1.0]], [[48, 1, 3, 1.0], [45, 10, 2, 0.51492196], [48, 14, 1, 0.36628848]], [[48, 10, 2, 1.0], [50, 12, 2, 0.48591438], [50, 14, 1, 0.566985]], [[48, 0, 2, 1.0], [48, 2, 2, 0.97315246], [48, 4, 1, 0.94067633]], [[48, 1, 1, 0.82877123], [40, 2, 1, 0.63881516], [48, 5, 1, 1.0], [52, 9, 2, 0.90915024], [57, 12, 2, 0.5392123]], [[48, 0, 2, 0.5240724], [52, 2, 2, 1.0], [52, 4, 2, 0.9890064], [48, 5, 2, 0.4290692], [41, 10, 2, 0.4153461], [36, 14, 1, 0.42439747]], [[52, 2, 2, 1.0], [40, 4, 2, 0.5069561], [52, 6, 1, 0.48779234], [57, 11, 4, 0.558772], [46, 14, 1, 0.7326957]], [[50, 5, 1, 0.66762644], [46, 10, 2, 0.48354596], [43, 12, 2, 1.0], [41, 13, 2, 0.8018059]]]\n",
            "tripletF#  generate done!\n",
            "info is \n",
            " [[[51, 0, 2, 0.6830851], [54, 2, 2, 0.661346], [65, 7, 3, 0.9952039], [63, 12, 2, 0.8846303], [63, 14, 1, 1.0], [51, 14, 1, 0.92875177]], [[58, 4, 2, 0.6598511], [65, 7, 2, 0.6086389], [63, 12, 2, 0.5168203], [63, 14, 1, 0.5572418]], [[53, 1, 1, 0.49129474], [58, 2, 1, 0.6905042], [46, 2, 1, 0.6804091], [54, 5, 1, 1.0]], [[49, 5, 1, 0.49285048], [53, 8, 3, 1.0], [53, 11, 2, 0.5592395], [53, 13, 1, 0.8669693]], [[51, 1, 4, 1.0], [51, 5, 2, 0.9930514], [51, 14, 2, 0.3648651]], [[51, 0, 1, 0.503975], [61, 3, 2, 0.34853476], [63, 4, 2, 1.0], [51, 13, 2, 0.8074129]], [[51, 0, 1, 0.35261667], [63, 4, 2, 1.0], [51, 14, 1, 0.4904031]], [[51, 0, 2, 0.8993048], [51, 2, 2, 0.85825896], [51, 4, 1, 0.82327837], [51, 9, 1, 1.0]], [[51, 1, 1, 1.0], [58, 4, 2, 0.86828244], [65, 7, 2, 0.4335625], [63, 14, 1, 0.6433338], [51, 14, 1, 0.5393417]], [[53, 1, 2, 0.5303505], [58, 2, 1, 1.0], [46, 2, 1, 0.5511454], [54, 5, 1, 0.79658777], [63, 12, 2, 0.63965094]], [[41, 2, 2, 1.0], [29, 2, 3, 0.4302816], [29, 5, 2, 0.92347854], [41, 6, 2, 0.9293776], [46, 11, 3, 0.7030547], [35, 14, 1, 0.88350683]], [[51, 0, 2, 0.8099939], [61, 3, 2, 0.7318484], [63, 4, 2, 1.0], [51, 6, 1, 0.51290125], [61, 9, 2, 0.4837508], [65, 12, 2, 0.3377508], [63, 13, 2, 0.96150124], [65, 14, 1, 0.54500973]], [[51, 0, 2, 0.7922583], [63, 4, 2, 0.5143426], [51, 6, 1, 0.49775824], [53, 7, 2, 0.7734728], [61, 9, 2, 0.33352596], [51, 13, 2, 1.0]], [[58, 4, 1, 0.5725533], [65, 7, 2, 0.358708], [58, 8, 1, 0.44291565], [63, 10, 2, 0.3360267], [63, 12, 2, 0.568494], [63, 14, 1, 0.58270293]], [[51, 0, 1, 0.6777884], [51, 2, 2, 0.755054], [51, 4, 4, 1.0], [51, 8, 2, 0.891022]], [[41, 2, 2, 1.0], [29, 4, 2, 0.59558094], [41, 6, 1, 0.693237], [46, 11, 4, 0.59766686], [35, 14, 1, 0.7294215]]]\n",
            "tripletG  generate done!\n",
            "info is \n",
            " [[[48, 0, 1, 0.51379627], [60, 4, 2, 1.0], [48, 13, 2, 0.7786032]], [[48, 1, 1, 0.5947407], [40, 2, 1, 0.6868867], [48, 5, 1, 1.0]], [[48, 1, 3, 1.0], [54, 4, 1, 0.5440861]], [[48, 1, 3, 1.0], [54, 4, 1, 0.6153496], [54, 8, 1, 0.6303585]], [[48, 0, 1, 0.36818662], [60, 4, 1, 1.0], [48, 13, 2, 0.6161808]], [[47, 1, 1, 0.4355307], [52, 2, 1, 0.9573617], [40, 2, 3, 0.83462423], [40, 5, 2, 0.9654264], [52, 6, 1, 1.0], [57, 11, 3, 0.93418676]], [[48, 0, 2, 0.82815707], [48, 6, 1, 0.463356], [50, 7, 2, 0.9518525], [48, 14, 1, 1.0]], [[48, 1, 3, 1.0], [54, 4, 2, 0.6932206], [59, 12, 2, 0.65511644], [59, 14, 1, 0.6884652]], [[52, 1, 1, 0.8174832], [55, 2, 2, 0.6078001], [66, 7, 2, 0.93479025], [64, 14, 1, 0.46635035], [52, 14, 1, 1.0]], [[48, 0, 1, 0.3470839], [60, 4, 2, 1.0], [48, 13, 2, 0.53773886]], [[48, 1, 3, 1.0], [54, 4, 2, 0.64699626], [59, 12, 2, 0.51786953], [59, 14, 1, 0.55486757]], [[48, 1, 3, 1.0], [54, 4, 1, 0.49338594]], [[47, 1, 2, 1.0], [35, 2, 2, 0.39859545], [47, 3, 1, 0.7655666], [35, 4, 1, 0.49158877], [36, 12, 1, 0.53003013], [31, 14, 1, 0.7383988]], [[50, 0, 1, 0.5916444], [62, 4, 2, 1.0], [69, 6, 2, 0.82497], [67, 7, 2, 0.4300814], [71, 9, 2, 0.76111305], [62, 13, 2, 0.76077956]], [[50, 0, 1, 0.57173], [38, 0, 1, 0.5722883], [48, 3, 2, 0.80284446], [50, 4, 2, 0.71221393], [38, 6, 1, 0.52487147], [40, 7, 3, 0.6044578], [48, 9, 3, 0.7979674], [52, 12, 3, 0.979198], [50, 13, 2, 1.0]], [[48, 0, 1, 0.54574925], [60, 4, 2, 1.0], [48, 13, 2, 0.6902642]]]\n",
            "tripletG#  generate done!\n",
            "info is \n",
            " [[[51, 0, 1, 0.36924672], [39, 0, 1, 0.5577131], [49, 3, 2, 0.6810697], [51, 4, 2, 0.96925575], [39, 6, 1, 0.5221451], [49, 9, 2, 0.46448088], [39, 13, 2, 1.0], [41, 14, 1, 0.42891783]], [[48, 4, 2, 0.70947754], [55, 7, 2, 0.5549446], [53, 12, 2, 0.5856744], [53, 14, 1, 0.6244536]], [[46, 0, 1, 0.9588606], [34, 0, 1, 0.6005855], [44, 3, 2, 0.72808135], [46, 4, 2, 0.7065707], [53, 6, 2, 0.48838457], [46, 6, 1, 0.50549567], [48, 7, 2, 0.631943], [44, 8, 3, 0.6207277], [55, 10, 1, 0.47287217], [48, 12, 3, 1.0], [53, 13, 3, 0.84366053], [46, 13, 2, 0.75956404]], [[41, 13, 1, 1.0]], [[48, 4, 2, 0.61518514], [55, 7, 2, 0.81444883], [53, 12, 2, 0.52872914], [53, 14, 1, 0.6004522], [41, 14, 1, 0.5668565]], [[41, 0, 2, 0.61798877], [44, 3, 1, 0.5163281], [48, 6, 2, 0.57617486], [55, 7, 2, 0.85827315], [53, 12, 2, 0.76978606], [53, 14, 1, 0.91705674], [41, 14, 1, 1.0]], [[48, 4, 2, 0.7134299], [55, 7, 2, 1.0], [53, 12, 2, 0.638887], [53, 14, 1, 0.75279194], [41, 14, 1, 0.9332395]], [[41, 0, 2, 0.79448533], [41, 2, 2, 0.9265251], [41, 4, 2, 0.8682452], [41, 6, 2, 1.0], [41, 8, 1, 0.7965051]], [[39, 0, 1, 0.6206511], [51, 4, 2, 1.0], [58, 6, 2, 0.9095948], [56, 7, 2, 0.4736485], [60, 9, 2, 0.8559539], [51, 13, 2, 0.78704166]], [[44, 1, 1, 0.49546346], [41, 4, 1, 0.37824413], [44, 5, 1, 1.0], [48, 9, 4, 0.9299916], [48, 13, 1, 0.74898934]], [[49, 2, 2, 1.0], [56, 4, 2, 0.67139876], [49, 12, 2, 0.35402063], [43, 14, 1, 0.6816383]], [[49, 1, 2, 0.8314658], [56, 4, 2, 1.0], [49, 12, 2, 0.8721958], [43, 14, 1, 0.48541638]], [[41, 0, 1, 0.52861977], [51, 3, 2, 0.50067544], [53, 4, 2, 1.0], [41, 6, 1, 0.42310297], [41, 13, 2, 0.9216976]], [[41, 0, 2, 0.9091166], [41, 2, 2, 0.86572134], [41, 4, 1, 0.8284202], [41, 9, 1, 1.0]], [[39, 1, 1, 0.7842068], [43, 2, 1, 0.40654176], [31, 2, 1, 0.6634589], [39, 5, 1, 1.0], [43, 8, 2, 0.41843152], [48, 12, 2, 0.73575795]], [[41, 0, 2, 0.6471337], [49, 2, 1, 0.35653964], [44, 2, 2, 0.5878296], [48, 6, 2, 0.5320817], [55, 7, 3, 0.9212778], [53, 12, 2, 0.84377736], [41, 13, 2, 1.0], [53, 14, 1, 0.9780181]]]\n",
            "tripletA  generate done!\n",
            "info is \n",
            " [[[49, 0, 1, 0.79394907], [61, 4, 1, 0.4786479], [49, 13, 2, 1.0]], [[54, 4, 1, 0.5536257], [61, 7, 2, 0.45330727], [59, 10, 2, 0.3455858], [59, 12, 2, 0.6270677], [59, 14, 1, 0.64834327]], [[50, 2, 2, 0.55791193], [50, 7, 3, 1.0], [49, 10, 2, 0.81747246], [50, 13, 2, 0.64878047]], [[54, 0, 2, 0.6817392], [57, 2, 2, 0.67513716], [68, 7, 3, 1.0], [66, 12, 2, 0.8752119], [66, 14, 1, 0.9902326], [54, 14, 1, 0.90828663]], [[50, 1, 3, 1.0], [56, 4, 1, 0.62676436], [61, 12, 2, 0.7499769], [61, 14, 1, 0.7446287]], [[54, 0, 2, 0.64053357], [62, 2, 2, 0.38715312], [57, 2, 2, 0.7758201], [61, 6, 1, 0.48037785], [68, 7, 2, 0.80720794], [66, 12, 2, 0.6887443], [64, 13, 1, 0.35213205], [66, 14, 1, 1.0], [54, 14, 1, 0.8235108]], [[52, 0, 1, 0.799129], [40, 0, 1, 0.537308], [50, 3, 2, 0.7004549], [52, 4, 2, 0.60036236], [40, 6, 1, 0.42584667], [42, 7, 3, 0.7411293], [50, 8, 3, 0.6565787], [54, 12, 3, 1.0], [59, 13, 3, 0.5233389], [52, 13, 2, 0.7087733]], [[49, 2, 2, 0.3483925], [50, 9, 1, 0.9352672], [50, 14, 1, 1.0]], [[50, 2, 2, 0.8781869], [49, 4, 1, 0.91024303], [50, 9, 3, 1.0], [50, 12, 1, 0.34277207], [45, 14, 1, 0.5044853]], [[54, 0, 1, 0.55409485], [42, 0, 1, 0.42587364], [52, 3, 2, 0.6632942], [54, 4, 2, 0.64658487], [61, 7, 1, 0.5057249], [56, 7, 2, 0.5285538], [52, 8, 3, 0.66255903], [62, 9, 1, 0.34442195], [56, 12, 3, 1.0], [61, 13, 3, 0.85934854], [54, 13, 2, 0.63300115]], [[49, 0, 2, 0.41114935], [52, 1, 3, 1.0], [50, 4, 2, 0.85116994], [50, 8, 3, 0.9328777], [49, 10, 2, 0.6841362]], [[50, 1, 3, 1.0], [56, 4, 2, 0.6561018], [61, 12, 2, 0.72870576], [61, 14, 1, 0.73862004]], [[49, 0, 2, 0.65281194], [50, 5, 3, 0.7555478], [50, 8, 3, 0.84515005]], [[49, 0, 1, 0.49270684], [61, 4, 1, 1.0], [49, 14, 1, 0.8022797]], [[49, 1, 1, 0.4024389], [49, 6, 2, 0.7391963], [50, 8, 1, 0.9184308]], [[50, 6, 3, 0.6293047], [52, 10, 3, 1.0], [54, 12, 2, 0.50274366], [54, 14, 1, 0.7865433]]]\n",
            "tripletA#  generate done!\n",
            "info is \n",
            " [[[48, 0, 1, 0.50204355], [58, 3, 2, 0.39478022], [60, 4, 2, 1.0], [48, 13, 2, 0.8200122]], [[45, 2, 2, 1.0], [33, 2, 2, 0.7778365], [33, 4, 3, 0.88766533], [45, 6, 1, 0.66942203], [39, 14, 1, 0.5649188]], [[48, 0, 2, 0.8137543], [48, 2, 2, 0.9403208], [48, 4, 2, 0.8751461], [48, 6, 2, 1.0], [48, 8, 1, 0.81627506]], [[46, 1, 1, 0.4865632], [43, 4, 1, 0.42582047], [46, 5, 1, 0.8306072], [50, 9, 4, 1.0], [50, 13, 1, 0.44165277]], [[55, 4, 2, 0.5762518], [62, 7, 2, 0.6792768], [60, 12, 2, 0.4605668], [60, 14, 1, 0.55320734], [48, 14, 1, 0.43182692]], [[48, 0, 2, 0.978422], [48, 2, 2, 0.91319007], [48, 4, 2, 1.0], [48, 9, 1, 0.9381627]], [[48, 0, 2, 0.7714279], [48, 2, 2, 1.0], [48, 4, 2, 0.9565724], [48, 6, 2, 0.95757174], [48, 8, 1, 0.87606066]], [[45, 2, 2, 1.0], [33, 5, 2, 0.8543283], [45, 6, 1, 0.89812756], [50, 11, 3, 0.6632069], [39, 14, 1, 0.87414134]], [[48, 0, 2, 0.3848389], [43, 0, 1, 0.48429993], [53, 3, 2, 0.47213125], [55, 4, 2, 1.0], [43, 13, 2, 0.49585596]], [[46, 1, 1, 0.6385926], [43, 4, 1, 0.4334397], [46, 5, 1, 0.79984176], [50, 9, 4, 1.0], [50, 13, 1, 0.68292826]], [[51, 1, 3, 1.0], [57, 4, 1, 0.5080793]], [[48, 1, 1, 0.82855105], [51, 3, 1, 0.65583575], [62, 7, 2, 0.8523162], [60, 12, 2, 0.33523417], [60, 14, 1, 0.5856488], [48, 14, 1, 1.0]], [[51, 1, 2, 1.0], [57, 4, 2, 0.9116603]], [[48, 5, 1, 0.5992426], [41, 12, 2, 1.0], [39, 13, 2, 0.85796493]], [[55, 0, 2, 0.6321529], [63, 2, 2, 0.37038955], [58, 2, 2, 0.77731556], [62, 6, 1, 0.49378553], [69, 7, 2, 0.8031154], [67, 12, 2, 0.6803453], [65, 13, 1, 0.3678859], [67, 14, 1, 1.0], [55, 14, 1, 0.80747545]], [[53, 0, 2, 0.4953695], [46, 1, 2, 0.5806856], [48, 2, 3, 0.50184387], [57, 2, 2, 1.0], [57, 4, 2, 0.987399], [46, 9, 2, 0.5848114], [41, 14, 1, 0.45070398]]]\n",
            "tripletB  generate done!\n",
            "info is \n",
            " [[[49, 0, 2, 0.680256], [52, 2, 2, 0.6689159], [63, 7, 3, 0.98646456], [61, 12, 2, 0.8901061], [61, 14, 1, 1.0], [49, 14, 1, 0.9461657]], [[58, 2, 2, 0.9904419], [46, 2, 3, 0.59629536], [46, 5, 2, 1.0], [58, 6, 2, 0.9839743], [63, 11, 3, 0.7634022], [52, 14, 1, 0.8405898]], [[52, 1, 1, 0.56207293], [56, 2, 1, 0.34879512], [44, 2, 1, 0.68889457], [52, 5, 1, 1.0]], [[49, 0, 1, 0.5346071], [59, 3, 2, 0.38661334], [61, 4, 2, 0.89595056], [68, 6, 2, 1.0], [66, 6, 2, 0.38265923], [70, 9, 2, 0.9328885], [68, 13, 2, 0.8759343], [61, 13, 2, 0.79287297], [68, 15, 1, 0.54537225]], [[49, 0, 1, 0.33596885], [61, 4, 2, 0.541759], [68, 6, 2, 0.4641254], [70, 9, 2, 0.57092726], [63, 12, 2, 0.63197106], [68, 13, 3, 1.0], [61, 13, 2, 0.4823493], [63, 14, 1, 0.49400014]], [[49, 0, 2, 0.8099814], [61, 4, 2, 0.4842828], [49, 6, 1, 0.49686286], [51, 7, 2, 0.81613314], [49, 13, 2, 1.0]], [[49, 0, 1, 0.3420461], [37, 0, 1, 0.45849413], [47, 3, 2, 0.5109333], [49, 4, 2, 0.7741736], [56, 6, 2, 0.60917306], [58, 9, 2, 0.5291791], [51, 12, 2, 0.75875556], [56, 13, 3, 1.0], [49, 13, 2, 0.6674967], [51, 14, 1, 0.67163885]], [[59, 4, 2, 1.0], [52, 12, 2, 0.7946899], [46, 14, 1, 0.35492152]], [[52, 1, 1, 0.56980026], [56, 2, 1, 1.0], [44, 2, 1, 0.56767434], [52, 5, 1, 0.8774401], [61, 12, 2, 0.675836]], [[49, 0, 1, 0.36895368], [59, 3, 1, 0.34033847], [61, 4, 2, 1.0], [49, 14, 1, 0.46654475]], [[49, 0, 1, 0.3551794], [61, 4, 2, 1.0], [49, 13, 2, 0.59579057]], [[49, 1, 1, 0.95313907], [51, 7, 2, 1.0], [49, 14, 1, 0.9182553]], [[49, 1, 1, 0.97545063], [52, 3, 1, 0.7363221], [63, 7, 2, 0.83386594], [61, 14, 1, 0.7360759], [49, 14, 1, 1.0]], [[51, 8, 1, 0.45234102], [52, 10, 3, 1.0], [54, 12, 2, 0.55655164], [54, 14, 1, 0.8642541]], [[51, 5, 2, 0.83870924], [47, 10, 2, 0.5507734], [44, 12, 2, 1.0], [42, 13, 2, 0.78412056]], [[52, 1, 2, 1.0], [58, 4, 2, 0.9051085], [63, 14, 1, 0.3935215]]]\n",
            "up_leapingC  generate done!\n",
            "info is \n",
            " [[[50, 1, 1, 1.0], [53, 3, 1, 0.62330776], [57, 4, 1, 0.41104096], [64, 7, 2, 0.67955583], [62, 14, 1, 0.75322205], [50, 14, 1, 0.8315913]], [[53, 1, 1, 0.5711657], [45, 2, 1, 0.68189704], [53, 5, 1, 1.0]], [[41, 2, 2, 1.0], [48, 4, 2, 0.4347961], [41, 4, 2, 0.60847265], [35, 14, 1, 0.5082704]], [[50, 9, 1, 1.0], [48, 10, 2, 0.8704], [50, 13, 2, 0.91933584]], [[59, 5, 2, 0.9322513], [53, 7, 1, 0.39958966], [57, 8, 1, 0.33902746], [50, 14, 1, 1.0]], [[50, 0, 1, 0.34120232], [62, 4, 2, 0.5452304], [69, 6, 2, 0.4570411], [71, 9, 2, 0.54672706], [64, 12, 2, 0.6965395], [69, 13, 3, 1.0], [62, 13, 2, 0.45919055], [64, 14, 1, 0.50144476]], [[50, 1, 2, 0.8735709], [60, 4, 1, 0.44100577], [50, 9, 2, 0.78571355], [45, 13, 2, 0.560623]], [[57, 4, 1, 0.5530393], [64, 7, 2, 0.5571551], [57, 8, 1, 0.5203529], [62, 10, 2, 0.4127471], [62, 12, 2, 0.6775728], [62, 14, 1, 0.5759871]], [[50, 2, 2, 0.65560985], [47, 5, 2, 0.847677], [50, 7, 1, 1.0], [47, 14, 1, 0.8779845]], [[53, 1, 3, 0.94820344], [64, 2, 3, 1.0], [60, 6, 1, 0.4344207], [53, 9, 2, 0.7916422], [48, 14, 2, 0.62163264]], [[52, 1, 2, 0.5556211], [57, 2, 1, 0.97712755], [45, 2, 1, 0.7662152], [53, 5, 1, 1.0]], [[48, 2, 2, 1.0], [47, 4, 1, 0.87441725], [48, 9, 3, 0.99647576], [48, 12, 1, 0.3484577], [43, 14, 2, 0.61456245]], [[53, 1, 1, 0.6800792], [45, 2, 1, 0.7375273], [53, 5, 1, 1.0], [57, 8, 2, 0.40275076]], [[50, 9, 1, 0.86587656], [48, 10, 2, 1.0], [50, 14, 1, 0.8409725]], [[50, 6, 2, 0.8863424], [52, 12, 2, 1.0]], [[50, 0, 1, 0.46633908], [38, 0, 1, 0.37011275], [48, 3, 2, 0.5305864], [50, 4, 2, 0.5723936], [57, 6, 2, 0.41189492], [48, 8, 3, 0.350082], [59, 10, 1, 0.39844212], [52, 12, 3, 0.83819973], [57, 13, 3, 1.0], [50, 13, 2, 0.45689687]]]\n",
            "up_leapingC#  generate done!\n",
            "info is \n",
            " [[[49, 1, 1, 1.0], [56, 4, 2, 0.86808467], [63, 7, 2, 0.43438196], [61, 14, 1, 0.6347971], [49, 14, 1, 0.5422146]], [[51, 0, 1, 1.0], [39, 0, 1, 0.65574443], [41, 1, 2, 0.8931782], [44, 2, 2, 0.36996764], [49, 3, 2, 0.6018233], [51, 4, 2, 0.7310865], [58, 6, 2, 0.5583356], [51, 6, 1, 0.5362407], [53, 7, 2, 0.7259136], [49, 8, 3, 0.439531], [53, 12, 3, 0.9038174], [58, 13, 2, 0.4297208], [51, 13, 2, 0.8369754]], [[51, 12, 2, 1.0], [49, 14, 1, 0.8738574]], [[49, 6, 2, 0.8573761], [51, 12, 2, 1.0]], [[49, 0, 1, 0.5237327], [61, 4, 2, 1.0], [49, 13, 2, 0.75468045]], [[46, 0, 2, 0.6770383], [54, 2, 2, 0.43417382], [49, 3, 1, 0.6858687], [53, 6, 1, 0.42376202], [60, 7, 2, 0.8062576], [58, 12, 2, 0.7273821], [58, 14, 1, 1.0], [46, 14, 1, 0.9780434]], [[53, 1, 2, 0.64992017], [58, 2, 1, 1.0], [46, 2, 1, 0.7257628], [54, 5, 1, 0.9485656], [63, 12, 2, 0.9120459]], [[49, 0, 2, 0.80937266], [49, 2, 2, 0.8132428], [49, 4, 4, 1.0], [49, 8, 1, 0.6977755]], [[49, 6, 2, 0.8229318], [51, 12, 2, 1.0]], [[54, 1, 2, 1.0], [60, 4, 2, 0.7832254]], [[48, 5, 2, 0.91169167], [39, 14, 2, 1.0]], [[51, 0, 1, 0.5197901], [61, 3, 2, 0.43863153], [63, 4, 2, 1.0], [51, 6, 1, 0.36311612], [51, 13, 2, 0.8806659]], [[49, 1, 4, 0.96627885], [49, 5, 2, 1.0], [49, 14, 2, 0.3389179]], [[53, 5, 1, 0.74614316], [49, 10, 2, 0.50460434], [46, 12, 2, 1.0], [44, 13, 2, 0.80293036]], [[49, 1, 1, 0.84742576], [51, 2, 2, 0.97543275], [56, 6, 1, 0.39847773], [63, 7, 2, 0.84392893], [61, 12, 2, 0.68085605], [61, 14, 1, 0.92388785], [49, 14, 1, 1.0]], [[49, 1, 1, 0.6757989], [41, 2, 1, 0.73327214], [49, 5, 1, 1.0], [53, 8, 2, 0.41894177]]]\n",
            "up_leapingD  generate done!\n",
            "info is \n",
            " [[[52, 0, 2, 0.81103635], [62, 3, 2, 0.60999787], [64, 4, 2, 0.7382192], [52, 6, 1, 0.51539934], [54, 7, 1, 0.43662685], [62, 9, 2, 0.5434892], [52, 13, 2, 1.0], [54, 14, 1, 0.49983442]], [[55, 2, 2, 0.7627975], [52, 5, 2, 0.91543525], [55, 7, 1, 1.0], [52, 14, 1, 0.84104425]], [[54, 1, 2, 0.8473259], [64, 3, 2, 0.44401363], [54, 9, 2, 0.73593193], [49, 13, 2, 0.5460174]], [[55, 2, 2, 1.0], [62, 4, 2, 0.90900713], [55, 12, 2, 0.5296661], [49, 14, 1, 0.43808663]], [[55, 0, 1, 0.7032041], [43, 0, 2, 0.64809734], [45, 2, 2, 1.0], [54, 4, 1, 0.36171648], [62, 6, 2, 0.5614155], [55, 6, 1, 0.3483603], [57, 7, 2, 0.89219415], [57, 14, 1, 0.4608726], [55, 14, 1, 0.74226457], [43, 14, 1, 0.7137761]], [[57, 0, 2, 0.56807214], [50, 1, 2, 0.6945831], [61, 2, 2, 1.0], [61, 4, 2, 0.9902921], [50, 9, 3, 0.72337216], [45, 14, 1, 0.4634737]], [[54, 1, 1, 0.5849624], [59, 2, 1, 0.9006169], [47, 2, 3, 0.83164126], [55, 5, 1, 1.0], [47, 5, 1, 0.5268103], [59, 6, 1, 0.80091155], [64, 11, 3, 0.9845697]], [[61, 2, 2, 0.9832037], [49, 2, 3, 0.62317514], [49, 5, 2, 1.0], [61, 6, 2, 0.9881148], [64, 10, 2, 0.34135434], [66, 11, 3, 0.7683642], [55, 14, 1, 0.8412585]], [[57, 0, 2, 0.8281436], [67, 3, 2, 0.690648], [69, 4, 2, 0.87120706], [57, 6, 1, 0.52831656], [59, 7, 1, 0.33669424], [67, 9, 2, 0.52606964], [71, 12, 2, 0.3614417], [69, 13, 2, 1.0], [71, 14, 1, 0.5369546]], [[55, 2, 2, 0.7981793], [52, 5, 2, 0.88553935], [55, 7, 1, 1.0], [52, 14, 2, 0.83390456]], [[54, 0, 1, 0.35509017], [66, 4, 2, 1.0], [54, 13, 2, 0.5959499]], [[54, 0, 2, 0.8753294], [54, 2, 3, 0.7725227], [54, 5, 3, 1.0], [54, 8, 2, 0.9069203]], [[52, 2, 2, 0.52012306], [49, 5, 1, 0.6185713], [52, 7, 1, 1.0], [54, 10, 2, 0.407959], [49, 14, 1, 0.77717537]], [[59, 0, 2, 0.6181014], [62, 3, 1, 0.579244], [66, 6, 1, 0.353632], [73, 7, 2, 0.8334628], [71, 12, 2, 0.7357151], [71, 14, 1, 0.90692925], [59, 14, 1, 1.0]], [[54, 1, 2, 0.83146006], [64, 3, 2, 0.46447983], [61, 6, 1, 0.3434939], [54, 9, 2, 0.7046904], [49, 13, 2, 0.5428923]], [[55, 2, 2, 0.7602182], [52, 5, 2, 0.96007717], [55, 7, 1, 1.0], [52, 14, 1, 0.8679274]]]\n",
            "up_leapingD#  generate done!\n",
            "info is \n",
            " [[[48, 0, 1, 0.41008604], [60, 4, 1, 1.0], [48, 13, 2, 0.6761889]], [[44, 1, 3, 1.0], [50, 4, 1, 0.51794755]], [[53, 4, 2, 0.653571], [60, 7, 2, 0.6099978], [58, 12, 2, 0.7442658], [58, 14, 1, 0.74158895]], [[48, 0, 2, 0.7899906], [48, 2, 2, 0.91923827], [48, 4, 2, 0.8555909], [48, 6, 2, 1.0], [48, 8, 1, 0.7907686]], [[48, 0, 2, 0.37883794], [43, 0, 1, 0.5064327], [53, 3, 2, 0.47988027], [55, 4, 2, 1.0], [43, 13, 2, 0.51502144]], [[43, 1, 2, 0.5563422], [48, 2, 1, 1.0], [36, 2, 1, 0.72096586], [44, 5, 1, 0.9920804]], [[48, 1, 1, 0.36453322], [55, 4, 1, 0.62295794], [48, 13, 1, 1.0]], [[48, 1, 1, 0.9915415], [51, 2, 1, 0.34109628], [62, 7, 2, 1.0], [60, 14, 1, 0.91822666]], [[51, 1, 3, 1.0], [48, 10, 2, 0.44542634], [51, 14, 1, 0.50101715]], [[51, 1, 2, 0.82110393], [50, 4, 1, 1.0], [51, 10, 2, 0.832862], [51, 12, 1, 0.6006792], [46, 14, 1, 0.7880133]], [[48, 0, 2, 0.7575214], [51, 3, 1, 0.69341093], [55, 4, 1, 0.38247538], [62, 7, 2, 0.8973301], [60, 12, 2, 0.6351047], [60, 14, 1, 0.78947306], [48, 14, 1, 1.0]], [[48, 10, 2, 1.0], [50, 12, 2, 0.5854545], [50, 14, 1, 0.5938008]], [[48, 0, 2, 0.80135137], [48, 2, 2, 0.9754691], [48, 4, 2, 1.0], [48, 6, 2, 0.9886861], [48, 8, 1, 0.8339599]], [[48, 2, 2, 1.0], [48, 4, 2, 0.9777429], [44, 5, 2, 0.61120206], [32, 14, 1, 0.58522326]], [[56, 2, 2, 1.0], [63, 4, 2, 0.47570455], [62, 14, 1, 0.6939161]], [[50, 2, 2, 1.0], [55, 11, 4, 0.4992275], [44, 14, 1, 0.7264078]]]\n",
            "up_leapingE  generate done!\n",
            "info is \n",
            " [[[49, 0, 1, 0.35231844], [61, 4, 2, 1.0], [49, 14, 1, 0.47855756]], [[49, 0, 1, 0.40918586], [37, 0, 2, 0.6500531], [45, 2, 2, 0.34630406], [40, 2, 2, 0.83977765], [44, 6, 1, 0.5288211], [51, 7, 2, 0.84587294], [49, 12, 2, 0.62403333], [47, 13, 1, 0.4462745], [49, 14, 1, 1.0], [37, 14, 1, 0.77237386]], [[52, 1, 1, 0.6788838], [44, 2, 1, 0.7368084], [52, 5, 1, 1.0]], [[47, 0, 2, 0.71764857], [44, 0, 2, 0.66883475], [45, 5, 3, 0.95380586], [45, 8, 3, 1.0], [44, 10, 1, 0.50036156]], [[49, 4, 1, 0.58268005], [52, 5, 1, 1.0], [56, 9, 4, 0.8931517], [56, 13, 1, 0.66293323]], [[49, 0, 2, 0.66525364], [57, 2, 2, 0.40555415], [52, 2, 2, 0.6895736], [56, 6, 1, 0.40619192], [63, 7, 2, 0.80682653], [61, 12, 2, 0.7174135], [61, 14, 1, 1.0], [49, 14, 1, 0.95929325]], [[52, 1, 1, 0.33775377], [49, 4, 1, 0.63229793], [52, 5, 1, 1.0], [56, 9, 4, 0.9566646], [56, 13, 1, 0.66171837]], [[49, 0, 1, 0.9477023], [37, 0, 2, 0.6406639], [39, 1, 2, 0.6890673], [56, 6, 2, 0.3548279], [49, 6, 1, 0.5023759], [51, 7, 2, 1.0], [47, 8, 3, 0.4483615], [51, 12, 2, 0.4828821], [49, 13, 2, 0.8104089], [51, 14, 1, 0.38439518], [49, 14, 1, 0.39274934]], [[49, 13, 1, 1.0]], [[49, 10, 2, 1.0], [51, 12, 2, 0.8530027], [51, 14, 1, 0.8136259]], [[51, 2, 2, 1.0], [39, 5, 2, 0.81064373], [51, 6, 1, 0.8779212], [56, 11, 4, 0.645576], [45, 14, 1, 0.84407544]], [[52, 2, 2, 0.765613], [49, 5, 2, 0.91338044], [52, 7, 1, 1.0], [49, 14, 2, 0.84767324]], [[51, 2, 2, 1.0], [39, 5, 1, 0.73647743], [51, 6, 1, 0.83626044], [56, 11, 4, 0.61796534], [45, 14, 1, 0.82896906]], [[51, 2, 2, 1.0], [39, 4, 2, 0.6288845], [45, 14, 1, 0.58365333]], [[54, 0, 1, 0.8501278], [42, 0, 1, 0.5172868], [52, 3, 2, 0.6766147], [54, 4, 2, 0.62322783], [61, 6, 2, 0.4324298], [54, 6, 1, 0.41741583], [56, 7, 2, 0.5308496], [52, 8, 3, 0.62364715], [63, 10, 1, 0.39673194], [56, 12, 3, 1.0], [61, 13, 3, 0.90082556], [54, 13, 2, 0.65266895]], [[49, 1, 2, 0.889375], [59, 3, 2, 0.46304235], [49, 9, 2, 0.82856447], [44, 13, 2, 0.5486274]]]\n",
            "up_leapingF  generate done!\n",
            "info is \n",
            " [[[52, 1, 2, 1.0], [58, 4, 2, 0.7158317]], [[58, 0, 2, 0.87224406], [58, 2, 3, 0.7718296], [58, 5, 3, 1.0], [58, 8, 2, 0.91650975]], [[58, 1, 2, 0.8024002], [57, 4, 1, 1.0], [58, 10, 2, 0.76729023], [58, 12, 1, 0.64204717], [53, 14, 1, 0.83821136]], [[62, 1, 1, 0.93483835], [65, 3, 1, 0.77134806], [76, 7, 2, 0.900571], [74, 12, 2, 0.34598285], [74, 14, 1, 0.71751297], [62, 14, 1, 1.0]], [[60, 4, 2, 1.0], [53, 13, 1, 0.82337767]], [[58, 0, 2, 0.6690137], [58, 2, 2, 0.7322022], [58, 4, 4, 1.0], [58, 8, 2, 0.79381967]], [[58, 1, 2, 0.6197789], [58, 3, 2, 0.644297], [58, 5, 4, 1.0], [58, 12, 3, 0.78351027]], [[64, 5, 2, 0.88240254], [58, 7, 1, 0.547631], [62, 8, 1, 0.3392965], [55, 14, 1, 1.0]], [[58, 5, 1, 1.0], [62, 8, 5, 0.8909013], [62, 13, 1, 0.7538878]], [[58, 2, 2, 0.590192], [58, 7, 3, 1.0], [57, 10, 2, 0.79883873], [58, 13, 2, 0.71455896]], [[62, 0, 2, 0.7547719], [70, 2, 2, 0.38735425], [65, 3, 1, 0.95994216], [69, 6, 1, 0.44195253], [76, 7, 2, 0.8212853], [74, 12, 2, 0.68270046], [74, 14, 1, 0.9495177], [62, 14, 1, 1.0]], [[60, 0, 2, 0.64842], [62, 2, 1, 0.7636356], [60, 6, 1, 0.33805597], [62, 7, 3, 1.0], [72, 12, 2, 0.53226453], [70, 13, 1, 0.3877346], [60, 13, 2, 0.89301455], [72, 14, 1, 0.8598793]], [[60, 0, 2, 0.40118334], [57, 0, 2, 0.7381731], [58, 5, 3, 0.89073396], [58, 8, 3, 1.0]], [[60, 0, 2, 0.78157645], [70, 3, 1, 0.3347524], [72, 4, 2, 0.53756034], [60, 6, 1, 0.499367], [62, 7, 2, 0.74765736], [70, 9, 2, 0.3598238], [60, 13, 2, 1.0], [62, 14, 1, 0.35612857]], [[58, 0, 2, 0.8393181], [58, 2, 3, 0.7512666], [58, 5, 3, 1.0], [58, 8, 2, 0.8729172]], [[55, 0, 1, 0.68067664], [43, 0, 1, 0.43004072], [53, 3, 2, 0.63584566], [55, 4, 2, 0.58952224], [43, 6, 1, 0.399752], [50, 7, 1, 0.4343384], [57, 7, 3, 0.63313603], [53, 8, 3, 0.5727375], [57, 12, 3, 1.0], [62, 13, 3, 0.7248095], [55, 13, 2, 0.6455027]]]\n",
            "up_leapingF#  generate done!\n",
            "info is \n",
            " [[[47, 6, 1, 0.38177338], [49, 7, 2, 1.0], [47, 14, 1, 0.97941935]], [[47, 10, 3, 1.0], [49, 12, 2, 0.66010594], [49, 14, 1, 0.953566]], [[49, 0, 1, 0.60535425], [37, 0, 1, 0.59038204], [39, 1, 2, 0.3858315], [47, 3, 2, 0.7600319], [49, 4, 2, 0.67933553], [37, 6, 1, 0.5306777], [39, 7, 3, 0.6731412], [47, 9, 2, 0.68495685], [51, 12, 3, 0.9757214], [49, 13, 2, 1.0]], [[47, 2, 2, 1.0], [47, 4, 2, 0.91740805], [44, 7, 1, 0.79586875], [34, 7, 1, 0.5559987]], [[49, 0, 1, 1.0], [37, 0, 1, 0.66379875], [39, 1, 2, 0.74936694], [42, 2, 2, 0.33434924], [47, 3, 2, 0.6638627], [49, 4, 2, 0.73151326], [56, 6, 2, 0.50565034], [49, 6, 1, 0.5519707], [51, 7, 2, 0.7054932], [47, 8, 3, 0.4872956], [51, 12, 3, 0.9089579], [56, 13, 3, 0.51302123], [49, 13, 2, 0.8614306]], [[53, 8, 1, 0.37956765], [54, 10, 3, 1.0], [56, 12, 2, 0.6049055], [56, 14, 1, 0.9177245]], [[47, 1, 4, 0.9093192], [47, 5, 2, 1.0]], [[41, 5, 1, 0.5067076], [42, 7, 1, 1.0], [32, 7, 1, 0.7516039], [29, 14, 1, 0.55568075]], [[47, 1, 2, 0.7629628], [46, 4, 1, 1.0], [47, 10, 2, 0.769616], [47, 12, 1, 0.82802236], [42, 14, 2, 0.9654343]], [[51, 5, 2, 0.9533163], [44, 12, 1, 0.7303467], [42, 13, 3, 1.0]], [[49, 0, 1, 0.41664878], [37, 0, 1, 0.5668407], [47, 3, 2, 0.7895571], [49, 4, 2, 0.87292475], [37, 6, 1, 0.5426016], [39, 7, 2, 0.337903], [47, 9, 2, 0.7801824], [51, 12, 2, 0.5507904], [49, 13, 2, 1.0], [51, 14, 1, 0.57356113]], [[49, 0, 1, 0.54773], [61, 4, 2, 0.8112418], [68, 6, 2, 1.0], [66, 7, 2, 0.6990996], [70, 9, 2, 0.6004326], [61, 13, 2, 0.66822183]], [[49, 0, 1, 1.0], [37, 0, 1, 0.6654609], [39, 1, 2, 0.69085383], [47, 3, 2, 0.62742543], [49, 4, 2, 0.6960527], [37, 6, 1, 0.5543219], [39, 7, 3, 0.94267166], [47, 8, 3, 0.52095944], [51, 12, 3, 0.87240905], [49, 13, 2, 0.8542332]], [[47, 6, 2, 0.8842151], [49, 12, 2, 1.0]], [[47, 2, 2, 0.76142764], [44, 5, 2, 0.79125756], [35, 7, 1, 1.0], [32, 14, 2, 0.75102776]], [[51, 5, 1, 0.78341466], [44, 12, 2, 1.0], [42, 13, 2, 0.86827457]]]\n",
            "up_leapingG  generate done!\n",
            "info is \n",
            " [[[48, 1, 2, 1.0], [54, 4, 2, 0.9294913], [59, 14, 1, 0.34398106]], [[59, 4, 2, 1.0], [52, 13, 1, 0.80940384]], [[59, 0, 1, 0.62528163], [71, 4, 1, 0.47646236], [59, 13, 2, 1.0]], [[59, 6, 2, 0.8748828], [60, 8, 1, 0.8443795]], [[62, 0, 1, 0.7250273], [72, 3, 2, 0.63764274], [74, 4, 2, 1.0], [62, 6, 1, 0.4312447], [62, 13, 2, 0.81746155], [64, 14, 1, 0.4340974]], [[59, 8, 1, 1.0]], [[59, 0, 2, 0.8070782], [59, 2, 2, 0.92930704], [59, 4, 2, 0.8605818], [59, 6, 2, 1.0], [59, 8, 1, 0.8059468]], [[59, 1, 1, 0.55128664], [64, 2, 1, 0.9788164], [52, 2, 3, 0.87807924], [60, 5, 1, 0.4555725], [52, 5, 2, 0.82088655], [64, 6, 1, 0.9497788], [69, 11, 4, 1.0]], [[62, 0, 2, 0.6982483], [59, 0, 2, 0.67908096], [60, 5, 3, 0.9557603], [60, 8, 3, 1.0], [59, 10, 1, 0.4809242]], [[60, 2, 2, 1.0], [67, 4, 2, 0.8604218], [60, 12, 2, 0.4358228], [54, 14, 1, 0.44526356]], [[60, 1, 2, 0.6836252], [67, 4, 2, 1.0], [60, 12, 2, 0.8624652], [54, 14, 1, 0.42419013]], [[59, 9, 1, 1.0], [57, 10, 2, 0.8552087], [59, 13, 2, 0.91973233]], [[60, 10, 3, 1.0], [62, 12, 2, 0.72331136], [62, 14, 1, 0.87708503]], [[62, 0, 2, 0.5617154], [55, 1, 2, 0.71924806], [57, 2, 3, 0.35120592], [66, 2, 2, 1.0], [66, 4, 2, 0.9876611], [55, 9, 2, 0.73159164], [50, 14, 1, 0.4650585]], [[62, 0, 1, 1.0], [50, 0, 1, 0.57144415], [52, 1, 2, 0.56805426], [60, 3, 2, 0.54843336], [62, 4, 2, 0.72689193], [69, 6, 2, 0.36563918], [62, 6, 1, 0.5346198], [64, 7, 3, 0.90821105], [60, 8, 3, 0.43499368], [64, 12, 3, 0.8626015], [62, 13, 2, 0.8993361]], [[59, 9, 1, 1.0], [57, 10, 2, 0.8865503], [59, 13, 2, 0.9438885]]]\n",
            "up_leapingG#  generate done!\n",
            "info is \n",
            " [[[48, 0, 1, 0.63853395], [48, 13, 2, 1.0]], [[49, 1, 1, 0.61973786], [41, 2, 1, 0.6989314], [49, 5, 1, 1.0]], [[53, 4, 2, 0.69087106], [60, 7, 2, 0.7548783], [58, 12, 2, 0.65114653], [58, 14, 1, 0.66099167]], [[49, 1, 2, 0.45881686], [60, 2, 3, 1.0], [56, 14, 1, 0.36817917]], [[49, 6, 3, 0.9701114], [51, 10, 2, 0.732778], [51, 12, 2, 1.0]], [[51, 0, 1, 0.33738014], [39, 0, 2, 0.6404668], [41, 2, 2, 0.775263], [39, 6, 1, 0.41812658], [41, 7, 3, 1.0], [51, 12, 2, 0.36506218], [49, 13, 1, 0.42078096], [39, 13, 2, 0.9151019], [51, 14, 1, 0.76996726]], [[49, 1, 1, 0.9235732], [51, 7, 2, 1.0], [49, 14, 1, 0.9427105]], [[49, 1, 1, 0.7572647], [46, 4, 1, 0.3476254], [49, 5, 1, 0.9508655], [53, 9, 4, 1.0], [53, 13, 1, 0.45796993]], [[51, 0, 1, 0.39756474], [39, 0, 2, 0.64275014], [41, 2, 2, 0.79883045], [39, 6, 1, 0.426598], [41, 7, 3, 1.0], [49, 13, 1, 0.43257868], [39, 13, 2, 0.9312476], [51, 14, 1, 0.72296953]], [[49, 0, 1, 0.9489828], [37, 0, 2, 0.6513416], [39, 1, 2, 0.6914003], [48, 4, 2, 0.5747018], [56, 6, 2, 0.3361597], [49, 6, 1, 0.5005802], [51, 7, 2, 1.0], [51, 12, 2, 0.5005457], [49, 13, 2, 0.8279528], [51, 14, 1, 0.39274263], [49, 14, 1, 0.3904744]], [[49, 1, 3, 0.9287521], [60, 2, 3, 1.0], [56, 6, 1, 0.43366444], [49, 9, 2, 0.77161777], [44, 14, 2, 0.62423176]], [[49, 1, 3, 0.56891507], [60, 2, 4, 1.0], [49, 9, 2, 0.5610159], [44, 14, 1, 0.3921955]], [[49, 0, 2, 0.8384476], [49, 6, 1, 0.42270458], [51, 7, 2, 0.9987173], [49, 14, 1, 1.0]], [[48, 2, 2, 0.7451697], [48, 4, 2, 0.731613], [49, 12, 1, 0.9593617], [44, 14, 2, 1.0]], [[48, 1, 1, 0.46320614], [48, 6, 2, 0.7255286], [49, 8, 1, 0.92772]], [[48, 0, 2, 0.77298135], [48, 2, 3, 0.7176635], [48, 5, 2, 1.0], [48, 9, 1, 0.8360371]]]\n",
            "up_leapingA  generate done!\n",
            "info is \n",
            " [[[54, 1, 1, 0.8950241], [57, 3, 1, 0.72693807], [68, 7, 2, 0.8881603], [66, 12, 2, 0.34739625], [66, 14, 1, 0.680625], [54, 14, 1, 1.0]], [[54, 0, 2, 1.0], [54, 2, 2, 0.9621198], [54, 4, 1, 0.9329694], [54, 9, 1, 0.4056823]], [[52, 1, 3, 1.0], [49, 10, 2, 0.46520436], [52, 14, 1, 0.49211007]], [[54, 0, 2, 0.7584831], [54, 2, 3, 0.7821693], [54, 5, 3, 1.0], [54, 8, 2, 0.9306689]], [[54, 0, 1, 0.6815944], [54, 2, 2, 0.75881284], [54, 4, 4, 1.0], [54, 8, 2, 0.87527484]], [[59, 4, 2, 0.5558056], [66, 7, 2, 0.7624731], [64, 12, 2, 0.5524508], [64, 14, 1, 0.7020103], [52, 14, 1, 0.7343513]], [[59, 0, 1, 0.48036033], [47, 0, 1, 0.3505329], [57, 3, 2, 0.53904635], [59, 4, 2, 0.56688327], [66, 6, 2, 0.40878], [57, 8, 3, 0.40950483], [68, 10, 1, 0.40218958], [61, 12, 3, 0.83385676], [66, 13, 3, 1.0], [59, 13, 2, 0.45219448]], [[54, 0, 1, 0.5393328], [42, 0, 1, 0.42692244], [52, 3, 2, 0.6603226], [54, 4, 2, 0.64464486], [61, 7, 1, 0.5049044], [56, 7, 2, 0.52794003], [52, 8, 3, 0.6505689], [56, 12, 3, 1.0], [61, 13, 3, 0.84622455], [54, 13, 2, 0.63447195]], [[54, 0, 1, 0.41629204], [42, 0, 1, 0.55752885], [52, 3, 2, 0.7946383], [54, 4, 2, 0.90387857], [42, 6, 1, 0.5386971], [52, 8, 3, 0.7459541], [42, 13, 2, 1.0], [44, 14, 1, 0.5416578]], [[54, 0, 2, 0.86347026], [54, 2, 3, 0.76643825], [54, 5, 3, 1.0], [54, 8, 2, 0.89407486]], [[52, 1, 1, 0.78847617], [44, 2, 1, 0.37075195], [52, 5, 1, 0.9737028], [56, 9, 4, 1.0], [56, 13, 1, 0.3564694]], [[52, 1, 1, 0.38750175], [49, 4, 1, 0.50960815], [52, 5, 1, 0.8413729], [56, 9, 4, 1.0], [56, 13, 1, 0.56707597]], [[54, 0, 2, 0.8546843], [54, 2, 2, 0.9206381], [54, 4, 2, 0.9595717], [54, 6, 2, 1.0], [54, 8, 1, 0.8213729]], [[50, 1, 2, 1.0], [56, 4, 2, 0.8991003]], [[54, 0, 2, 0.87371486], [54, 2, 3, 0.77277356], [54, 5, 3, 1.0], [54, 8, 2, 0.91742176]], [[49, 2, 2, 0.6440732], [49, 7, 3, 1.0], [50, 12, 2, 0.9032526], [50, 14, 1, 0.9573109]]]\n",
            "up_leapingA#  generate done!\n",
            "info is \n",
            " [[[51, 1, 2, 1.0], [57, 4, 2, 0.71007687]], [[53, 1, 1, 0.74789816], [50, 4, 1, 0.35279718], [53, 5, 1, 0.9465246], [57, 9, 4, 1.0], [57, 13, 1, 0.48907912]], [[57, 4, 2, 1.0], [50, 13, 1, 0.8121728]], [[57, 0, 2, 0.80347383], [57, 2, 2, 0.97871137], [57, 4, 2, 1.0], [57, 6, 2, 0.99946815], [57, 8, 1, 0.83517975]], [[53, 1, 1, 0.60306144], [45, 2, 1, 0.698421], [53, 5, 1, 1.0]], [[57, 0, 2, 0.6853759], [57, 2, 2, 0.7346157], [57, 4, 4, 1.0], [57, 8, 2, 0.70140684]], [[55, 1, 1, 1.0], [62, 4, 2, 0.7089828], [69, 7, 2, 0.89778954], [67, 12, 2, 0.6835351], [67, 14, 1, 0.7742506], [55, 14, 1, 0.7797329]], [[57, 0, 2, 0.8756241], [57, 2, 3, 0.77257496], [57, 5, 3, 1.0], [57, 8, 2, 0.9145238]], [[62, 4, 1, 0.6237243], [69, 7, 2, 0.6176685], [67, 10, 2, 0.39345387], [67, 12, 2, 0.73801816], [67, 14, 1, 0.7421129]], [[57, 0, 2, 0.8691682], [57, 2, 3, 0.77240944], [57, 5, 3, 1.0], [57, 8, 2, 0.9195069]], [[53, 0, 2, 0.53509915], [46, 1, 1, 0.40100467], [57, 2, 2, 1.0], [57, 4, 2, 0.9901748], [53, 5, 2, 0.37877062], [46, 10, 2, 0.54756355], [41, 14, 1, 0.43980083]], [[57, 0, 2, 0.8711152], [57, 2, 2, 0.9261754], [57, 4, 2, 1.0], [57, 6, 2, 0.99799836], [57, 8, 1, 0.8103321]], [[55, 1, 1, 0.9969036], [58, 2, 1, 0.39565283], [69, 7, 2, 1.0], [67, 14, 1, 0.91133195]], [[57, 1, 1, 0.66869545], [62, 2, 1, 0.867704], [50, 2, 2, 0.74055976], [58, 5, 1, 1.0], [62, 6, 1, 0.5536913], [67, 11, 3, 0.90995914]], [[62, 4, 2, 0.67479306], [69, 7, 2, 0.8394202], [67, 12, 2, 0.64673406], [67, 14, 1, 0.65216696]], [[65, 4, 2, 0.6375083], [72, 7, 2, 0.74858093], [70, 12, 2, 0.52581763], [70, 14, 1, 0.5392882]]]\n",
            "up_leapingB  generate done!\n",
            "info is \n",
            " [[[49, 0, 2, 0.34550342], [44, 0, 1, 0.4067645], [54, 3, 1, 0.4185764], [56, 4, 2, 1.0], [44, 14, 1, 0.44923925]], [[49, 4, 2, 0.6672986], [56, 7, 2, 0.60084635], [54, 12, 2, 0.52776176], [54, 14, 1, 0.5715784]], [[44, 0, 2, 0.79237825], [44, 2, 2, 0.79096305], [44, 4, 4, 1.0], [44, 8, 1, 0.6849087]], [[40, 1, 3, 1.0], [46, 4, 1, 0.6009646], [46, 8, 1, 0.60070217]], [[44, 0, 1, 1.0], [32, 0, 1, 0.6511805], [34, 1, 3, 0.96555907], [37, 2, 2, 0.34695724], [44, 4, 2, 0.6828864], [51, 6, 2, 0.61422104], [44, 6, 1, 0.525553], [46, 7, 2, 0.77763677], [42, 8, 3, 0.4146293], [46, 12, 3, 0.8490639], [51, 13, 2, 0.395178], [44, 13, 2, 0.8220517], [44, 14, 1, 0.35423005]], [[44, 1, 4, 0.9069862], [44, 5, 2, 1.0]], [[42, 1, 1, 0.47856542], [42, 5, 1, 1.0], [46, 9, 4, 0.93721247], [46, 13, 1, 0.75362]], [[51, 4, 2, 0.7068379], [58, 7, 2, 0.79122925], [56, 12, 2, 0.6644482], [56, 14, 1, 0.69359666], [44, 14, 1, 0.41316706]], [[44, 0, 1, 0.52983755], [32, 0, 1, 0.567407], [42, 3, 2, 0.8903207], [44, 4, 2, 0.79654104], [32, 6, 1, 0.54374564], [34, 7, 3, 0.5097206], [42, 9, 3, 0.9165585], [46, 12, 3, 0.89201313], [44, 13, 2, 1.0]], [[44, 0, 2, 0.74888796], [47, 3, 1, 0.7195011], [51, 4, 1, 0.3386699], [58, 7, 2, 0.9025793], [56, 12, 2, 0.6415437], [56, 14, 1, 0.8000179], [44, 14, 1, 1.0]], [[44, 0, 1, 0.8059518], [32, 0, 1, 0.6542938], [34, 1, 3, 0.81576836], [42, 3, 2, 0.6656726], [44, 4, 2, 0.66684675], [32, 6, 1, 0.5340694], [34, 7, 3, 0.8948813], [42, 8, 3, 0.47568622], [46, 12, 3, 0.72022617], [44, 13, 2, 1.0]], [[52, 2, 2, 1.0], [59, 4, 2, 0.40726426], [52, 4, 2, 0.5979491], [46, 14, 1, 0.50297034]], [[51, 4, 1, 0.61752814], [58, 7, 2, 0.6474108], [56, 12, 2, 0.45116916], [56, 14, 1, 0.48114124]], [[44, 4, 1, 0.6030437], [37, 13, 1, 1.0]], [[46, 1, 3, 1.0], [52, 4, 1, 0.59401125], [52, 8, 1, 0.56989056]], [[44, 12, 2, 1.0], [42, 14, 1, 0.8731231]]]\n"
          ],
          "name": "stdout"
        }
      ]
    }
  ]
}