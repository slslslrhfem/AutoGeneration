{
  "nbformat": 4,
  "nbformat_minor": 0,
  "metadata": {
    "accelerator": "GPU",
    "colab": {
      "name": "AI contest only melody",
      "provenance": [],
      "collapsed_sections": [],
      "machine_shape": "hm",
      "mount_file_id": "1UZxKYEzKfikzBr-HMWgmX5KEuIBXq6V0",
      "authorship_tag": "ABX9TyNn5LcF8UQiGH2q2MjfTpf8",
      "include_colab_link": true
    },
    "kernelspec": {
      "display_name": "Python 3",
      "name": "python3"
    }
  },
  "cells": [
    {
      "cell_type": "markdown",
      "metadata": {
        "id": "view-in-github",
        "colab_type": "text"
      },
      "source": [
        "<a href=\"https://colab.research.google.com/github/slslslrhfem/FLAGNet/blob/master/FLAGNet.ipynb\" target=\"_parent\"><img src=\"https://colab.research.google.com/assets/colab-badge.svg\" alt=\"Open In Colab\"/></a>"
      ]
    },
    {
      "cell_type": "code",
      "metadata": {
        "colab": {
          "base_uri": "https://localhost:8080/"
        },
        "id": "MxEabHuzyjFE",
        "outputId": "72d3db75-cf9c-47de-bf03-198a543fed7f"
      },
      "source": [
        "pip install mido"
      ],
      "execution_count": null,
      "outputs": [
        {
          "output_type": "stream",
          "text": [
            "Requirement already satisfied: mido in /usr/local/lib/python3.7/dist-packages (1.2.9)\n"
          ],
          "name": "stdout"
        }
      ]
    },
    {
      "cell_type": "code",
      "metadata": {
        "colab": {
          "base_uri": "https://localhost:8080/"
        },
        "id": "bJ3x-FF_4XGK",
        "outputId": "cfda2b86-2079-4146-dbba-fdd9d3fcddc3"
      },
      "source": [
        "pip install pretty_midi"
      ],
      "execution_count": null,
      "outputs": [
        {
          "output_type": "stream",
          "text": [
            "Requirement already satisfied: pretty_midi in /usr/local/lib/python3.7/dist-packages (0.2.9)\n",
            "Requirement already satisfied: numpy>=1.7.0 in /usr/local/lib/python3.7/dist-packages (from pretty_midi) (1.19.5)\n",
            "Requirement already satisfied: six in /usr/local/lib/python3.7/dist-packages (from pretty_midi) (1.15.0)\n",
            "Requirement already satisfied: mido>=1.1.16 in /usr/local/lib/python3.7/dist-packages (from pretty_midi) (1.2.9)\n"
          ],
          "name": "stdout"
        }
      ]
    },
    {
      "cell_type": "code",
      "metadata": {
        "colab": {
          "base_uri": "https://localhost:8080/"
        },
        "id": "5kljETrpXyFX",
        "outputId": "a640c69a-4dc7-433b-9083-7d2f74a1cab6"
      },
      "source": [
        "pip install tensorflow==1.15.0"
      ],
      "execution_count": null,
      "outputs": [
        {
          "output_type": "stream",
          "text": [
            "Requirement already satisfied: tensorflow==1.15.0 in /usr/local/lib/python3.7/dist-packages (1.15.0)\n",
            "Requirement already satisfied: tensorflow-estimator==1.15.1 in /usr/local/lib/python3.7/dist-packages (from tensorflow==1.15.0) (1.15.1)\n",
            "Requirement already satisfied: wrapt>=1.11.1 in /usr/local/lib/python3.7/dist-packages (from tensorflow==1.15.0) (1.12.1)\n",
            "Requirement already satisfied: keras-preprocessing>=1.0.5 in /usr/local/lib/python3.7/dist-packages (from tensorflow==1.15.0) (1.1.2)\n",
            "Requirement already satisfied: wheel>=0.26 in /usr/local/lib/python3.7/dist-packages (from tensorflow==1.15.0) (0.36.2)\n",
            "Requirement already satisfied: gast==0.2.2 in /usr/local/lib/python3.7/dist-packages (from tensorflow==1.15.0) (0.2.2)\n",
            "Requirement already satisfied: absl-py>=0.7.0 in /usr/local/lib/python3.7/dist-packages (from tensorflow==1.15.0) (0.12.0)\n",
            "Requirement already satisfied: astor>=0.6.0 in /usr/local/lib/python3.7/dist-packages (from tensorflow==1.15.0) (0.8.1)\n",
            "Requirement already satisfied: opt-einsum>=2.3.2 in /usr/local/lib/python3.7/dist-packages (from tensorflow==1.15.0) (3.3.0)\n",
            "Requirement already satisfied: numpy<2.0,>=1.16.0 in /usr/local/lib/python3.7/dist-packages (from tensorflow==1.15.0) (1.19.5)\n",
            "Requirement already satisfied: six>=1.10.0 in /usr/local/lib/python3.7/dist-packages (from tensorflow==1.15.0) (1.15.0)\n",
            "Requirement already satisfied: keras-applications>=1.0.8 in /usr/local/lib/python3.7/dist-packages (from tensorflow==1.15.0) (1.0.8)\n",
            "Requirement already satisfied: protobuf>=3.6.1 in /usr/local/lib/python3.7/dist-packages (from tensorflow==1.15.0) (3.12.4)\n",
            "Requirement already satisfied: termcolor>=1.1.0 in /usr/local/lib/python3.7/dist-packages (from tensorflow==1.15.0) (1.1.0)\n",
            "Requirement already satisfied: google-pasta>=0.1.6 in /usr/local/lib/python3.7/dist-packages (from tensorflow==1.15.0) (0.2.0)\n",
            "Requirement already satisfied: tensorboard<1.16.0,>=1.15.0 in /usr/local/lib/python3.7/dist-packages (from tensorflow==1.15.0) (1.15.0)\n",
            "Requirement already satisfied: grpcio>=1.8.6 in /usr/local/lib/python3.7/dist-packages (from tensorflow==1.15.0) (1.32.0)\n",
            "Requirement already satisfied: h5py in /usr/local/lib/python3.7/dist-packages (from keras-applications>=1.0.8->tensorflow==1.15.0) (2.10.0)\n",
            "Requirement already satisfied: setuptools in /usr/local/lib/python3.7/dist-packages (from protobuf>=3.6.1->tensorflow==1.15.0) (56.0.0)\n",
            "Requirement already satisfied: werkzeug>=0.11.15 in /usr/local/lib/python3.7/dist-packages (from tensorboard<1.16.0,>=1.15.0->tensorflow==1.15.0) (1.0.1)\n",
            "Requirement already satisfied: markdown>=2.6.8 in /usr/local/lib/python3.7/dist-packages (from tensorboard<1.16.0,>=1.15.0->tensorflow==1.15.0) (3.3.4)\n",
            "Requirement already satisfied: importlib-metadata; python_version < \"3.8\" in /usr/local/lib/python3.7/dist-packages (from markdown>=2.6.8->tensorboard<1.16.0,>=1.15.0->tensorflow==1.15.0) (3.10.1)\n",
            "Requirement already satisfied: typing-extensions>=3.6.4; python_version < \"3.8\" in /usr/local/lib/python3.7/dist-packages (from importlib-metadata; python_version < \"3.8\"->markdown>=2.6.8->tensorboard<1.16.0,>=1.15.0->tensorflow==1.15.0) (3.7.4.3)\n",
            "Requirement already satisfied: zipp>=0.5 in /usr/local/lib/python3.7/dist-packages (from importlib-metadata; python_version < \"3.8\"->markdown>=2.6.8->tensorboard<1.16.0,>=1.15.0->tensorflow==1.15.0) (3.4.1)\n"
          ],
          "name": "stdout"
        }
      ]
    },
    {
      "cell_type": "code",
      "metadata": {
        "colab": {
          "base_uri": "https://localhost:8080/"
        },
        "id": "YP5JOsojTLIE",
        "outputId": "7919236f-680e-4880-84ca-2457dfe57bfc"
      },
      "source": [
        "pip install keras==2.3.1"
      ],
      "execution_count": null,
      "outputs": [
        {
          "output_type": "stream",
          "text": [
            "Requirement already satisfied: keras==2.3.1 in /usr/local/lib/python3.7/dist-packages (2.3.1)\n",
            "Requirement already satisfied: h5py in /usr/local/lib/python3.7/dist-packages (from keras==2.3.1) (2.10.0)\n",
            "Requirement already satisfied: keras-preprocessing>=1.0.5 in /usr/local/lib/python3.7/dist-packages (from keras==2.3.1) (1.1.2)\n",
            "Requirement already satisfied: keras-applications>=1.0.6 in /usr/local/lib/python3.7/dist-packages (from keras==2.3.1) (1.0.8)\n",
            "Requirement already satisfied: pyyaml in /usr/local/lib/python3.7/dist-packages (from keras==2.3.1) (3.13)\n",
            "Requirement already satisfied: numpy>=1.9.1 in /usr/local/lib/python3.7/dist-packages (from keras==2.3.1) (1.19.5)\n",
            "Requirement already satisfied: six>=1.9.0 in /usr/local/lib/python3.7/dist-packages (from keras==2.3.1) (1.15.0)\n",
            "Requirement already satisfied: scipy>=0.14 in /usr/local/lib/python3.7/dist-packages (from keras==2.3.1) (1.4.1)\n"
          ],
          "name": "stdout"
        }
      ]
    },
    {
      "cell_type": "code",
      "metadata": {
        "id": "upkZgrqruxem",
        "colab": {
          "base_uri": "https://localhost:8080/"
        },
        "outputId": "d9a66a64-aeda-4721-e476-d1fb21c073e3"
      },
      "source": [
        "import keras\n",
        "import os\n",
        "import json\n",
        "import pandas\n",
        "import tensorflow\n",
        "import numpy as np\n",
        "from keras.layers import Dense\n",
        "from keras import layers\n",
        "from keras import optimizers\n",
        "from keras.models import Sequential\n",
        "import pickle\n",
        "import pretty_midi\n",
        "import mido\n",
        "from tqdm import tqdm\n",
        "import copy\n",
        "import music21\n",
        "import pandas as pd"
      ],
      "execution_count": null,
      "outputs": [
        {
          "output_type": "stream",
          "text": [
            "Using TensorFlow backend.\n"
          ],
          "name": "stderr"
        }
      ]
    },
    {
      "cell_type": "code",
      "metadata": {
        "id": "EwhhSAsqeQbx",
        "colab": {
          "base_uri": "https://localhost:8080/"
        },
        "outputId": "5072fdff-3d27-4b89-87c7-0bb5f9feb068"
      },
      "source": [
        "tensorflow"
      ],
      "execution_count": null,
      "outputs": [
        {
          "output_type": "execute_result",
          "data": {
            "text/plain": [
              "<module 'tensorflow' from '/usr/local/lib/python3.7/dist-packages/tensorflow/__init__.py'>"
            ]
          },
          "metadata": {
            "tags": []
          },
          "execution_count": 6
        }
      ]
    },
    {
      "cell_type": "code",
      "metadata": {
        "id": "KOjmQZTO0TtC"
      },
      "source": [
        "def get_meta():\n",
        "  file=pd.read_excel('/content/drive/MyDrive/MARG/POP909-Dataset-master/POP909/index.xlsx')\n",
        "  return file"
      ],
      "execution_count": null,
      "outputs": []
    },
    {
      "cell_type": "code",
      "metadata": {
        "id": "JdprhNM2Y2qy"
      },
      "source": [
        "with open(\"/content/drive/My Drive/MARG/PPDDlist/prettymidilist.txt\",\"rb\") as f:\n",
        "  prettymidilist=pickle.load(f)\n",
        "with open(\"/content/drive/My Drive/MARG/PPDDlist/midilist.txt\",\"rb\") as f1:\n",
        "  midilist=pickle.load(f1)\n",
        "with open('/content/drive/My Drive/MARG/PPDDlist/music21list.txt', 'rb') as f5:\n",
        "  music21list=pickle.load(f5)"
      ],
      "execution_count": null,
      "outputs": []
    },
    {
      "cell_type": "code",
      "metadata": {
        "id": "87COcpAJtDIm",
        "colab": {
          "base_uri": "https://localhost:8080/",
          "height": 35
        },
        "outputId": "041fa1f4-9374-48da-a8ea-df67343daab9"
      },
      "source": [
        "def extract_notes(midi_part):\n",
        "    parent_element = []\n",
        "    ret = []\n",
        "    z=[]\n",
        "    for nt in midi_part.flat.notes:        \n",
        "        if isinstance(nt, music21.note.Note):\n",
        "            ret.append(max(0.0, nt.pitch.ps))\n",
        "            parent_element.append(nt)\n",
        "            z.append(max(nt.duration.quarterLength,0.125))\n",
        "        elif isinstance(nt, music21.chord.Chord):\n",
        "            for pitch in nt.pitches:\n",
        "                ret.append(max(0.0, pitch.ps))\n",
        "                parent_element.append(nt)\n",
        "                z.append(max(nt.duration.quarterLength,0.25))\n",
        "    x=[n.offset for n in parent_element]\n",
        "    return x, ret, parent_element,z\n",
        "def get_ts(index_number,meta_data):\n",
        "  TS=[0,0]\n",
        "  TS[0]=meta_data.iloc[index_number,4]\n",
        "  TS[1]=meta_data.iloc[index_number,5]\n",
        "  return TS\n",
        "def numbershifting(number,time):\n",
        "  a=time\n",
        "  while True:\n",
        "    if number<a:\n",
        "      a+=time\n",
        "    else:\n",
        "      break\n",
        "  return a\n",
        "def double(lst):\n",
        "    return [i*2 for i in lst]\n",
        "meta_data=get_meta()\n",
        "\"\"\"\n",
        "top = music21list[0].parts[0].flat.notes # parts[0]이 main melodty\n",
        "x, y, parent_element = extract_notes(top)\n",
        "print(len(y),len(x),len(parent_element))\n",
        "for i in range(len(y)):\n",
        "  print(x[i],y[i],parent_element[i])\n",
        "\"\"\""
      ],
      "execution_count": null,
      "outputs": [
        {
          "output_type": "execute_result",
          "data": {
            "application/vnd.google.colaboratory.intrinsic+json": {
              "type": "string"
            },
            "text/plain": [
              "'\\ntop = music21list[0].parts[0].flat.notes # parts[0]이 main melodty\\nx, y, parent_element = extract_notes(top)\\nprint(len(y),len(x),len(parent_element))\\nfor i in range(len(y)):\\n  print(x[i],y[i],parent_element[i])\\n'"
            ]
          },
          "metadata": {
            "tags": []
          },
          "execution_count": 9
        }
      ]
    },
    {
      "cell_type": "code",
      "metadata": {
        "id": "IeRQyawg_8tO"
      },
      "source": [
        "#melody 만\n",
        "bar_list=[]\n",
        "one_bar_number_list=[]\n",
        "starting_number_list=[]\n",
        "for i,songs in enumerate(music21list[100:800]):\n",
        "  TS = get_ts(i,meta_data)\n",
        "  if(TS!=[2,2]):#This code is used for using only 4/4 time signature\n",
        "    pass\n",
        "  else:\n",
        "    TS=double(TS)\n",
        "    pretty_song=prettymidilist[i]\n",
        "    totcsvarray=[]\n",
        "    for j,instrument in enumerate(pretty_song.instruments): #2\n",
        "      if j==0:\n",
        "        issame=1\n",
        "        top = music21list[i].parts[j].flat.notes #melody만\n",
        "        x, y, parent_element, duration = extract_notes(top)\n",
        "        for k, element in enumerate(x):\n",
        "          x[k]=float(element)\n",
        "        csvarray=[]\n",
        "        for j in range(len(x)): #3\n",
        "          row=[x[j], y[j], y[j], duration[j], 0] #*2를 해줘야 제대로 하나의 bar가 하나의 단위가 된다. #3번째거는 원래 relational pitch라는 단위가 있었다.\n",
        "          csvarray.append(row)\n",
        "    one_bar_number=TS[0]\n",
        "    bar_number=(csvarray[-1][0]-csvarray[0][0])//one_bar_number+1\n",
        "    bar_info_list=[]\n",
        "    started=0\n",
        "    csvarray=np.array(csvarray)\n",
        "    for i in range(int(bar_number)):\n",
        "      starting_bar_time=i*one_bar_number#+csvarray[0][0] -> 이걸 해주면 무조건 midi의 첫음이 첫 박의 시작이 된다. 깔끔한 processing이 가능하나 팝장르에서는 별로이고 데이터셋이 잘 정리되어 있어 별로임\n",
        "      final_array=csvarray[np.where( (starting_bar_time<=csvarray[:,0]) & (csvarray[:,0]<starting_bar_time+one_bar_number) )]\n",
        "      if (len(final_array) !=0 or started==1):\n",
        "        if started==0:\n",
        "          starting_number_list.append(starting_bar_time)\n",
        "          started=1\n",
        "        bar_info_list.append(final_array)\n",
        "        \n",
        "    bar_list.append(bar_info_list)# bar info list가 bar마다 csv내용들 담겨져 있는거다.\n",
        "    one_bar_number_list.append(one_bar_number)"
      ],
      "execution_count": null,
      "outputs": []
    },
    {
      "cell_type": "code",
      "metadata": {
        "id": "ioRp4dJDCtUK",
        "colab": {
          "base_uri": "https://localhost:8080/"
        },
        "outputId": "9f4b5c04-b8f2-44ce-d2eb-a191e2e7bcc7"
      },
      "source": [
        "print(bar_list[0][0])#1번째 곡의 1번째 bar."
      ],
      "execution_count": null,
      "outputs": [
        {
          "output_type": "stream",
          "text": [
            "[[19.0 61.0 61.0 0.25 0]\n",
            " [19.333333333333332 63.0 63.0 0.125 0]\n",
            " [19.5 66.0 66.0 0.125 0]\n",
            " [19.75 68.0 68.0 0.125 0]]\n"
          ],
          "name": "stdout"
        }
      ]
    },
    {
      "cell_type": "code",
      "metadata": {
        "id": "aK7G2wiA4fgg"
      },
      "source": [
        "Minimum_time = 4 #This value means we use 4*(Minimum_time)th note for minimum unit. Use Integer value!\n",
        "#I Highly recommend you to use this value 4 or 6.(16th note and 24th note as smallest unit.)\n",
        "#Using Too Small value for Minimum_time can't handle fast rhythms, and Too Large value for Minimum_time is not good for generator's training\n",
        "Minimum_time*=4 #If Minimum_time value%4 is not 0, then error occurs in training generator\n",
        "\n",
        "def nearest_time(time,minimum_size):\n",
        "  #Given minimum time, there can be outliars. Shift for this. ex)32th notes in minimum unit 16th notes.\n",
        "  num_to_multiply=time/minimum_size\n",
        "  num_to_multiply=int(num_to_multiply)\n",
        "  left_time=num_to_multiply*minimum_size\n",
        "  right_time=left_time+minimum_size\n",
        "  if (time-left_time>=right_time-time):\n",
        "    return right_time\n",
        "  return left_time\n",
        "\n",
        "def bar_to_matrix3(bar,one_bar_number,starting_number,i,minimum_time):\n",
        "  init=np.zeros((24,minimum_time))\n",
        "  minimum_size=one_bar_number/minimum_time\n",
        "  zero_time=starting_number+one_bar_number*i\n",
        "  min_height=500\n",
        "  for lists in bar:\n",
        "    if min_height>lists[1]:\n",
        "      min_height=lists[1]\n",
        "  for i,lists in enumerate(bar):    \n",
        "      point=int((nearest_time(lists[0],minimum_size)-zero_time)/minimum_size)\n",
        "      length=int(round(2*lists[3]/minimum_size))\n",
        "      if length==0:\n",
        "        length=1\n",
        "      if (length>3):\n",
        "        length=length-1#Handling repeating notes.\n",
        "      if (point+length>minimum_time-1):\n",
        "        length=minimum_time-point\n",
        "      height=lists[1]-min_height\n",
        "      \"\"\"\n",
        "      while(height>23):\n",
        "        height=height-12 \n",
        "      \"\"\"\n",
        "      if (height<24):#two choices for handling notes that has pitch difference above 23, delete or shifting. \n",
        "      #If you want shift them then uncomment above 2 line of codes. \n",
        "        init[23-int(height)][point:point+length]+=1\n",
        "        init=np.array(init)\n",
        "        init=np.where(init>=2,1,init)\n",
        "  return init"
      ],
      "execution_count": null,
      "outputs": []
    },
    {
      "cell_type": "code",
      "metadata": {
        "id": "t34eVSFIT6M-"
      },
      "source": [
        "bar_matrix_list3=copy.deepcopy(bar_list)\n",
        "for i,songs in enumerate(bar_matrix_list3):\n",
        "  for j,bar in enumerate(songs): # 이러면 bar에 3차원이 들어간다.\n",
        "    matrix3=bar_to_matrix3(bar,one_bar_number_list[i],starting_number_list[i],j,Minimum_time)\n",
        "    bar_matrix_list3[i][j]=matrix3"
      ],
      "execution_count": null,
      "outputs": []
    },
    {
      "cell_type": "code",
      "metadata": {
        "id": "WpTGTGFjOXxW",
        "colab": {
          "base_uri": "https://localhost:8080/",
          "height": 283
        },
        "outputId": "6d764482-a0a1-47b1-ed23-5bb1bd9559d7"
      },
      "source": [
        "import matplotlib.pyplot as plt\n",
        "\n",
        "plt.imshow(bar_matrix_list3[0][0])"
      ],
      "execution_count": null,
      "outputs": [
        {
          "output_type": "execute_result",
          "data": {
            "text/plain": [
              "<matplotlib.image.AxesImage at 0x7f81e31a8310>"
            ]
          },
          "metadata": {
            "tags": []
          },
          "execution_count": 14
        },
        {
          "output_type": "display_data",
          "data": {
            "image/png": "[encoded data removed]",
            "text/plain": [
              "<Figure size 432x288 with 1 Axes>"
            ]
          },
          "metadata": {
            "tags": [],
            "image/png": {
              "width": 181,
              "height": 248
            },
            "needs_background": "light"
          }
        }
      ]
    },
    {
      "cell_type": "code",
      "metadata": {
        "id": "VJUSzyDlbQ3R"
      },
      "source": [
        "bar_updown_list=copy.deepcopy(bar_list)\n",
        "for i,songs in enumerate(bar_list):\n",
        "  for j,bar in enumerate(songs):\n",
        "    if (j==len(songs)-1):\n",
        "      updown_label='final'\n",
        "    elif(len(bar_list[i][j])==0 or len(bar_list[i][j+1])==0):\n",
        "      updown_label='meanless'\n",
        "    else:\n",
        "      if(bar_list[i][j][len(bar_list[i][j])-1][1]<=bar_list[i][j+1][0][1]):\n",
        "        updown_label='up'\n",
        "      else:\n",
        "        updown_label='down'\n",
        "    bar_updown_list[i][j]=updown_label"
      ],
      "execution_count": null,
      "outputs": []
    },
    {
      "cell_type": "code",
      "metadata": {
        "id": "AO6-SYCu29qF",
        "colab": {
          "base_uri": "https://localhost:8080/",
          "height": 237
        },
        "outputId": "d593d20f-d20f-42d9-f850-fa9dff8601a7"
      },
      "source": [
        "H = bar_matrix_list3[0][0]\n",
        "\n",
        "fig = plt.figure(figsize=(6, 3.2))\n",
        "\n",
        "ax = fig.add_subplot(111)\n",
        "ax.set_title('colorMap')\n",
        "plt.imshow(H)\n",
        "ax.set_aspect('equal')\n",
        "\n",
        "cax = fig.add_axes([0.12, 0.1, 0.78, 0.8])\n",
        "cax.get_xaxis().set_visible(False)\n",
        "cax.get_yaxis().set_visible(False)\n",
        "cax.patch.set_alpha(0)\n",
        "cax.set_frame_on(False)\n",
        "plt.colorbar(orientation='vertical')\n",
        "plt.show()"
      ],
      "execution_count": null,
      "outputs": [
        {
          "output_type": "display_data",
          "data": {
            "image/png": "[encoded data removed]",
            "text/plain": [
              "<Figure size 432x230.4 with 3 Axes>"
            ]
          },
          "metadata": {
            "tags": [],
            "image/png": {
              "width": 333,
              "height": 220
            },
            "needs_background": "light"
          }
        }
      ]
    },
    {
      "cell_type": "code",
      "metadata": {
        "id": "IV-em-Jo4I8H",
        "colab": {
          "base_uri": "https://localhost:8080/",
          "height": 225
        },
        "outputId": "d2c3df97-8bbc-4ded-d870-d3a5c0dddf36"
      },
      "source": [
        "tot=bar_matrix_list3[2]\n",
        "H=bar_matrix_list3[2][0]\n",
        "for i in range(1,len(tot)):\n",
        "  a=bar_matrix_list3[2][i]\n",
        "  H=np.concatenate((H,a),axis=1)\n",
        "  \n",
        "fig = plt.figure(figsize=(30, 3.2))\n",
        "\n",
        "ax = fig.add_subplot(111)\n",
        "ax.set_title('colorMap')\n",
        "plt.imshow(H)\n",
        "ax.set_aspect('equal')\n",
        "\n",
        "cax = fig.add_axes([0.12, 0.1, 0.78, 0.8])\n",
        "cax.get_xaxis().set_visible(False)\n",
        "cax.get_yaxis().set_visible(False)\n",
        "cax.patch.set_alpha(0)\n",
        "cax.set_frame_on(False)\n",
        "plt.colorbar(orientation='vertical')\n",
        "plt.show()"
      ],
      "execution_count": null,
      "outputs": [
        {
          "output_type": "display_data",
          "data": {
            "image/png": "[encoded data removed]",
            "text/plain": [
              "<Figure size 2160x230.4 with 3 Axes>"
            ]
          },
          "metadata": {
            "tags": [],
            "image/png": {
              "width": 1708,
              "height": 208
            },
            "needs_background": "light"
          }
        }
      ]
    },
    {
      "cell_type": "code",
      "metadata": {
        "id": "QhslYmbJdSba"
      },
      "source": [
        "def bar_to_contour(bar,one_bar_number,starting_number,j):\n",
        "  contour=[]\n",
        "  pitch_change_list=[]\n",
        "  duration_list=[]\n",
        "  real_pitch_list=[]\n",
        "  real_time_list=[]\n",
        "  real_duration_list=[]\n",
        "  now_pitch=1000\n",
        "  first_time=starting_number+one_bar_number*j\n",
        "  a=0\n",
        "  for lists in bar:\n",
        "    if(a!=0): \n",
        "      real_time_list.append(lists[0]-now_rhythm)\n",
        "    now_rhythm=lists[0]\n",
        "    a+=1\n",
        "    if (first_time*1.001<lists[0]):#smoothing for case like first time=5.00001, lists[0]=5.0000..\n",
        "      resting_time=lists[0]-first_time\n",
        "      duration_list.append(resting_time)\n",
        "      first_time=lists[0]\n",
        "      pitch_change_list.append('Rest')\n",
        "    if (now_pitch==1000):\n",
        "      pitch_change_list.append('Starting_Point')\n",
        "      real_pitch_list.append('Starting_Point')\n",
        "      real_duration_list.append(lists[3])\n",
        "      duration_list.append(lists[3])\n",
        "      first_time=first_time+lists[3]\n",
        "      now_pitch=lists[1]\n",
        "      a+=1\n",
        "    else:\n",
        "      pitch_change=lists[1]-now_pitch\n",
        "      pitch_change_list.append(str(pitch_change))\n",
        "      duration_list.append(lists[3])\n",
        "      real_duration_list.append(lists[3])\n",
        "      first_time=first_time+lists[3]\n",
        "      now_pitch=lists[1]\n",
        "      real_pitch_list.append(str(pitch_change))\n",
        "  if (first_time*1.001<starting_number+one_bar_number*(j+1)):\n",
        "    pitch_change_list.append('Rest')\n",
        "    duration_list.append(starting_number+one_bar_number*(j+1)-first_time)\n",
        "  if(len(bar)!=0):\n",
        "    real_time_list.append(starting_number+one_bar_number*(j+1)-now_rhythm)\n",
        "  contour.append(pitch_change_list)\n",
        "  contour.append(duration_list)\n",
        "  contour.append(real_pitch_list)\n",
        "  contour.append(real_time_list)\n",
        "  contour.append(real_duration_list)\n",
        "  return contour"
      ],
      "execution_count": null,
      "outputs": []
    },
    {
      "cell_type": "markdown",
      "metadata": {
        "id": "nkt16alDXVFp"
      },
      "source": [
        "Plot에서 중요한것은 Y-Axis의 0~112의 숫자가 Note의 반대 성향을 가진다는 것이다.(숫자가 커질수록 Note의 높이가 낮아진다.) 이는 PianoRoll을 이미지 처럼 사용하는 과정에서, 직관적인 학습이 가능하도록 이와 같이 구현한 것이다."
      ]
    },
    {
      "cell_type": "code",
      "metadata": {
        "id": "9DB6np0r4pr0"
      },
      "source": [
        "bar_contour_list=copy.deepcopy(bar_list)\n",
        "for i,songs in enumerate(bar_list):\n",
        "  for j,bar in enumerate(songs):\n",
        "    contour=bar_to_contour(bar,one_bar_number_list[i],starting_number_list[i],j)\n",
        "    bar_contour_list[i][j]=contour\n"
      ],
      "execution_count": null,
      "outputs": []
    },
    {
      "cell_type": "markdown",
      "metadata": {
        "id": "FFxmPmNCVpBD"
      },
      "source": [
        "bar_contour_list : 중간과정\n",
        "bar_matrix_list2 : 아마 학습에 사용하게 될 Matrix의 List\n",
        "bar_label_list : 학습에 사용하게 될 Label의 List"
      ]
    },
    {
      "cell_type": "code",
      "metadata": {
        "id": "PO49MM20Lth1",
        "colab": {
          "base_uri": "https://localhost:8080/"
        },
        "outputId": "5e4ce999-44ec-4d3c-e1d6-9e8d4618c584"
      },
      "source": [
        "print(bar_contour_list[0][0])\n"
      ],
      "execution_count": null,
      "outputs": [
        {
          "output_type": "stream",
          "text": [
            "[['Rest', 'Starting_Point', 'Rest', '2.0', 'Rest', '3.0', 'Rest', '2.0', 'Rest'], [3.0, 0.25, 0.08333333333333215, 0.125, 0.04166666666666785, 0.125, 0.125, 0.125, 0.125], ['Starting_Point', '2.0', '3.0', '2.0'], [0.33333333333333215, 0.16666666666666785, 0.25, 0.25], [0.25, 0.125, 0.125, 0.125]]\n"
          ],
          "name": "stdout"
        }
      ]
    },
    {
      "cell_type": "code",
      "metadata": {
        "id": "cqJXy8Wqv1od",
        "colab": {
          "base_uri": "https://localhost:8080/"
        },
        "outputId": "e399b20d-015a-46f1-f851-4683f310acd5"
      },
      "source": [
        "for contours in bar_contour_list[11]:\n",
        "  print(contours)"
      ],
      "execution_count": null,
      "outputs": [
        {
          "output_type": "stream",
          "text": [
            "[['Rest', 'Starting_Point', '2.0', 'Rest', '5.0', 'Rest', '0.0', 'Rest', '0.0', '-2.0', 'Rest', '2.0', 'Rest', '-2.0', 'Rest', '2.0', 'Rest', '0.0', 'Rest', '0.0', '2.0', 'Rest', '-2.0'], [0.25, 0.125, 0.125, 0.16666666666666785, 0.125, 0.20833333333333215, 0.125, 0.125, 0.25, 0.125, 0.04166666666666785, 0.25, 0.08333333333333215, 0.5, 0.16666666666666785, 0.25, 0.08333333333333215, 0.125, 0.125, 0.125, 0.25, 0.04166666666666785, Fraction(1, 3)], ['Starting_Point', '2.0', '5.0', '0.0', '0.0', '-2.0', '2.0', '-2.0', '2.0', '0.0', '0.0', '2.0', '-2.0'], [0.08333333333333215, 0.3333333333333357, 0.33333333333333215, 0.25, 0.08333333333333215, 0.3333333333333357, 0.33333333333333215, 0.6666666666666679, 0.33333333333333215, 0.25, 0.08333333333333215, 0.3333333333333357, 0.33333333333333215], [0.125, 0.125, 0.125, 0.125, 0.25, 0.125, 0.25, 0.5, 0.25, 0.125, 0.125, 0.25, Fraction(1, 3)]]\n",
            "[['Rest', 'Starting_Point', '-3.0', 'Rest', '3.0', 'Rest'], [0.25, 0.25, Fraction(1, 3), 0.16666666666666785, 1.75, 1.25], ['Starting_Point', '-3.0', '3.0'], [0.08333333333333215, 0.6666666666666679, 3.0], [0.25, Fraction(1, 3), 1.75]]\n",
            "[['Rest', 'Starting_Point', '2.0', 'Rest', '5.0', 'Rest', '0.0', '-2.0', 'Rest', '2.0', 'Rest', '-2.0', 'Rest', '2.0', 'Rest', '0.0', 'Rest', '0.0', '2.0', '-2.0'], [0.25, 0.125, 0.125, 0.1666666666666643, Fraction(1, 3), 0.25, 0.25, 0.125, 0.0416666666666643, Fraction(1, 3), 0.25, Fraction(1, 3), 0.0833333333333286, 0.125, 0.2083333333333357, 0.125, 0.125, 0.25, 0.25, Fraction(1, 3)], ['Starting_Point', '2.0', '5.0', '0.0', '-2.0', '2.0', '-2.0', '2.0', '0.0', '0.0', '2.0', '-2.0'], [0.0833333333333357, 0.3333333333333286, 0.5833333333333357, 0.0833333333333357, 0.3333333333333286, 0.5833333333333357, 0.4166666666666643, 0.3333333333333357, 0.25, 0.0833333333333357, 0.3333333333333286, 0.3333333333333357], [0.125, 0.125, Fraction(1, 3), 0.25, 0.125, Fraction(1, 3), Fraction(1, 3), 0.125, 0.125, 0.25, 0.25, Fraction(1, 3)]]\n",
            "[['Rest', 'Starting_Point', '-3.0', 'Rest', '7.0', 'Rest'], [0.25, 0.25, Fraction(1, 3), 0.1666666666666643, 1.75, 1.25], ['Starting_Point', '-3.0', '7.0'], [0.0833333333333357, 0.6666666666666643, 3.0], [0.25, Fraction(1, 3), 1.75]]\n",
            "[['Rest', 'Starting_Point', '3.0', 'Rest', '2.0', 'Rest', '0.0', 'Rest', '0.0', '0.0', 'Rest', '0.0', 'Rest', '0.0', 'Rest', '3.0', 'Rest', '0.0', '-3.0', '0.0'], [0.25, 0.25, 0.125, 0.0416666666666643, 0.25, 0.0833333333333357, 0.125, 0.125, 0.125, 0.125, 0.1666666666666643, Fraction(1, 3), 0.25, 0.25, 0.1666666666666643, Fraction(1, 3), 0.25, 0.25, 0.25, Fraction(1, 3)], ['Starting_Point', '3.0', '2.0', '0.0', '0.0', '0.0', '0.0', '0.0', '3.0', '0.0', '-3.0', '0.0'], [0.0833333333333357, 0.3333333333333286, 0.3333333333333357, 0.25, 0.0833333333333357, 0.3333333333333286, 0.5833333333333357, 0.4166666666666643, 0.5833333333333357, 0.0833333333333357, 0.3333333333333286, 0.3333333333333357], [0.25, 0.125, 0.25, 0.125, 0.125, 0.125, Fraction(1, 3), 0.25, Fraction(1, 3), 0.25, 0.25, Fraction(1, 3)]]\n",
            "[['Rest', 'Starting_Point', 'Rest', '2.0', 'Rest', '-2.0', 'Rest', '-5.0', 'Rest', '2.0', 'Rest'], [0.25, 0.25, 0.1666666666666643, Fraction(1, 3), 0.25, 0.5, 0.5, Fraction(1, 3), 0.0833333333333286, 1.25, 0.0833333333333357], ['Starting_Point', '2.0', '-2.0', '-5.0', '2.0'], [0.4166666666666643, 0.5833333333333357, 1.0, 0.4166666666666643, 1.3333333333333357], [0.25, Fraction(1, 3), 0.5, Fraction(1, 3), 1.25]]\n",
            "[['Rest', 'Starting_Point', '2.0', '5.0', '0.0', 'Rest', '0.0', '-2.0', '2.0', 'Rest', '-2.0', 'Rest', '2.0', 'Rest', '0.0', 'Rest', '0.0', '2.0', 'Rest', '-2.0'], [0.25, 0.25, 0.25, 0.25, 0.125, 0.125, 0.25, 0.25, Fraction(1, 3), 0.1666666666666643, Fraction(1, 3), 0.0833333333333286, 0.125, 0.2083333333333357, 0.125, 0.125, 0.125, 0.125, 0.1666666666666643, Fraction(1, 3)], ['Starting_Point', '2.0', '5.0', '0.0', '0.0', '-2.0', '2.0', '-2.0', '2.0', '0.0', '0.0', '2.0', '-2.0'], [0.0833333333333357, 0.3333333333333286, 0.3333333333333357, 0.25, 0.0833333333333357, 0.3333333333333286, 0.5833333333333357, 0.4166666666666643, 0.3333333333333357, 0.25, 0.0833333333333357, 0.3333333333333286, 0.3333333333333357], [0.25, 0.25, 0.25, 0.125, 0.25, 0.25, Fraction(1, 3), Fraction(1, 3), 0.125, 0.125, 0.125, 0.125, Fraction(1, 3)]]\n",
            "[['Rest', 'Starting_Point', 'Rest', '-2.0', 'Rest', '-2.0', 'Rest', '2.0', 'Rest', '2.0'], [0.25, Fraction(1, 3), 0.0833333333333286, 0.5, 0.0833333333333357, 1.0, 1.0833333333333357, 0.25, 0.0833333333333286, Fraction(1, 3)], ['Starting_Point', '-2.0', '-2.0', '2.0', '2.0'], [0.4166666666666643, 0.5833333333333357, 2.0833333333333357, 0.3333333333333286, 0.3333333333333357], [Fraction(1, 3), 0.5, 1.0, 0.25, Fraction(1, 3)]]\n",
            "[['Rest', 'Starting_Point', '2.0', 'Rest', '-5.0', 'Rest', '3.0'], [0.25, Fraction(1, 3), Fraction(4, 3), 0.4166666666666643, Fraction(1, 3), 0.3333333333333286, 1.0], ['Starting_Point', '2.0', '-5.0', '3.0'], [0.25, 1.8333333333333357, 0.6666666666666643, 1.0], [Fraction(1, 3), Fraction(4, 3), Fraction(1, 3), 1.0]]\n",
            "[['Rest', 'Starting_Point', 'Rest', '2.0', 'Rest', '0.0', '0.0', 'Rest', '-2.0', 'Rest', '-3.0', '-2.0', 'Rest', '2.0', 'Rest', '0.0'], [0.3333333333333357, 0.25, 0.0833333333333286, 0.25, 0.3333333333333357, 0.125, 0.125, 0.1666666666666643, Fraction(1, 3), 0.25, 0.25, Fraction(1, 3), 0.1666666666666643, 0.5, 0.1666666666666643, Fraction(1, 3)], ['Starting_Point', '2.0', '0.0', '0.0', '-2.0', '-3.0', '-2.0', '2.0', '0.0'], [0.3333333333333286, 0.5833333333333357, 0.0833333333333357, 0.3333333333333286, 0.5833333333333357, 0.0833333333333357, 0.6666666666666643, 0.6666666666666643, 0.3333333333333357], [0.25, 0.25, 0.125, 0.125, Fraction(1, 3), 0.25, Fraction(1, 3), 0.5, Fraction(1, 3)]]\n",
            "[['Rest', 'Starting_Point', 'Rest', '2.0', 'Rest', '2.0', 'Rest', '-2.0', 'Rest', '-2.0', 'Rest'], [0.25, Fraction(1, 3), 0.08333333333334281, Fraction(4, 3), 0.25, Fraction(1, 3), 0.08333333333334281, 0.5, 0.0833333333333286, Fraction(2, 3), 0.0833333333333286], ['Starting_Point', '2.0', '2.0', '-2.0', '-2.0'], [0.4166666666666714, 1.5833333333333286, 0.4166666666666714, 0.5833333333333286, 0.75], [Fraction(1, 3), Fraction(4, 3), Fraction(1, 3), 0.5, Fraction(2, 3)]]\n",
            "[['Rest', 'Starting_Point', 'Rest', '2.0', 'Rest', '0.0', '0.0', 'Rest', '0.0', 'Rest', '-2.0', '2.0', 'Rest', '-2.0'], [0.3333333333333286, 0.25, 0.08333333333334281, Fraction(1, 3), 0.25, 0.125, 0.125, 0.1666666666666714, Fraction(1, 3), 0.25, 0.125, 0.5, 0.125, Fraction(5, 3)], ['Starting_Point', '2.0', '0.0', '0.0', '0.0', '-2.0', '2.0', '-2.0'], [0.3333333333333428, 0.5833333333333286, 0.0833333333333286, 0.3333333333333428, 0.5833333333333286, 0.0833333333333286, 0.6666666666666714, 1.0], [0.25, Fraction(1, 3), 0.125, 0.125, Fraction(1, 3), 0.125, 0.5, Fraction(5, 3)]]\n",
            "[['Rest', 'Starting_Point', '2.0', '7.0', 'Rest', '-2.0', '-2.0', '-3.0'], [2.25, 0.25, 0.125, Fraction(1, 3), 0.2916666666666714, 0.25, 0.25, Fraction(1, 3)], ['Starting_Point', '2.0', '7.0', '-2.0', '-2.0', '-3.0'], [0.0833333333333286, 0.3333333333333428, 0.5833333333333286, 0.0833333333333286, 0.3333333333333428, 0.3333333333333286], [0.25, 0.125, Fraction(1, 3), 0.25, 0.25, Fraction(1, 3)]]\n",
            "[['Rest', 'Starting_Point', 'Rest', '3.0', 'Rest', '0.0', '2.0', '7.0', 'Rest', '-2.0', '-2.0', '-3.0'], [0.25, Fraction(1, 3), 0.08333333333334281, Fraction(4, 3), 0.25, 0.25, 0.125, Fraction(1, 3), 0.2916666666666714, 0.25, 0.125, Fraction(1, 3)], ['Starting_Point', '3.0', '0.0', '2.0', '7.0', '-2.0', '-2.0', '-3.0'], [0.4166666666666714, 1.5833333333333286, 0.0833333333333286, 0.3333333333333428, 0.5833333333333286, 0.0833333333333286, 0.3333333333333428, 0.3333333333333286], [Fraction(1, 3), Fraction(4, 3), 0.25, 0.125, Fraction(1, 3), 0.25, 0.125, Fraction(1, 3)]]\n",
            "[['Rest', 'Starting_Point', 'Rest', '3.0', 'Rest', '0.0', '2.0', 'Rest', '7.0', 'Rest', '-2.0', '-2.0', '0.0'], [0.25, Fraction(1, 3), 0.08333333333334281, 1.25, 0.3333333333333286, 0.125, 0.125, 0.1666666666666714, Fraction(1, 3), 0.25, 0.25, 0.125, Fraction(1, 3)], ['Starting_Point', '3.0', '0.0', '2.0', '7.0', '-2.0', '-2.0', '0.0'], [0.4166666666666714, 1.5833333333333286, 0.0833333333333286, 0.3333333333333428, 0.5833333333333286, 0.0833333333333286, 0.3333333333333428, 0.3333333333333286], [Fraction(1, 3), 1.25, 0.125, 0.125, Fraction(1, 3), 0.25, 0.125, Fraction(1, 3)]]\n",
            "[['Rest', 'Starting_Point', '-2.0', '9.0', 'Rest', '-2.0', '-2.0', '0.0', 'Rest', '-3.0', '-2.0', '9.0', 'Rest', '-2.0', '-2.0', '0.0'], [0.25, 0.25, 0.25, Fraction(1, 3), 0.1666666666666714, 0.25, 0.25, Fraction(1, 3), 0.1666666666666714, 0.25, 0.25, Fraction(1, 3), 0.1666666666666714, 0.125, 0.25, 0.5], ['Starting_Point', '-2.0', '9.0', '-2.0', '-2.0', '0.0', '-3.0', '-2.0', '9.0', '-2.0', '-2.0', '0.0'], [0.0833333333333286, 0.3333333333333428, 0.5833333333333286, 0.0833333333333286, 0.3333333333333428, 0.5833333333333286, 0.0833333333333286, 0.3333333333333428, 0.5833333333333286, 0.0833333333333286, 0.3333333333333428, 0.3333333333333286], [0.25, 0.25, Fraction(1, 3), 0.25, 0.25, Fraction(1, 3), 0.25, 0.25, Fraction(1, 3), 0.125, 0.25, 0.5]]\n",
            "[['Rest', 'Starting_Point', '5.0', 'Rest', '-7.0', '2.0', 'Rest', '7.0', 'Rest', '-2.0', '-2.0', '-3.0'], [0.25, 0.25, 1.0, 0.75, 0.125, 0.125, 0.1666666666666714, Fraction(1, 3), 0.25, 0.125, 0.25, Fraction(1, 3)], ['Starting_Point', '5.0', '-7.0', '2.0', '7.0', '-2.0', '-2.0', '-3.0'], [0.0833333333333286, 1.9166666666666714, 0.0833333333333286, 0.3333333333333428, 0.5833333333333286, 0.0833333333333286, 0.3333333333333428, 0.3333333333333286], [0.25, 1.0, 0.125, 0.125, Fraction(1, 3), 0.125, 0.25, Fraction(1, 3)]]\n",
            "[['Rest', 'Starting_Point', '3.0', 'Rest', '0.0', '2.0', 'Rest', '7.0', 'Rest', '-2.0', '-2.0', '-3.0'], [0.25, Fraction(1, 3), Fraction(4, 3), 0.3333333333333428, 0.125, 0.125, 0.1666666666666714, Fraction(1, 3), 0.25, 0.25, 0.25, Fraction(1, 3)], ['Starting_Point', '3.0', '0.0', '2.0', '7.0', '-2.0', '-2.0', '-3.0'], [0.4166666666666714, 1.5833333333333286, 0.0833333333333286, 0.3333333333333428, 0.5833333333333286, 0.0833333333333286, 0.3333333333333428, 0.3333333333333286], [Fraction(1, 3), Fraction(4, 3), 0.125, 0.125, Fraction(1, 3), 0.25, 0.25, Fraction(1, 3)]]\n",
            "[['Rest', 'Starting_Point', '3.0', 'Rest', '0.0', '2.0', 'Rest', '7.0', 'Rest', '-2.0', '-2.0', 'Rest', '0.0'], [0.25, Fraction(1, 3), Fraction(4, 3), 0.3333333333333428, 0.125, 0.125, 0.1666666666666714, Fraction(1, 3), 0.25, 0.125, 0.125, 0.1666666666666714, Fraction(1, 3)], ['Starting_Point', '3.0', '0.0', '2.0', '7.0', '-2.0', '-2.0', '0.0'], [0.4166666666666714, 1.5833333333333286, 0.0833333333333286, 0.3333333333333428, 0.5833333333333286, 0.0833333333333286, 0.3333333333333428, 0.3333333333333286], [Fraction(1, 3), Fraction(4, 3), 0.125, 0.125, Fraction(1, 3), 0.125, 0.125, Fraction(1, 3)]]\n",
            "[['Rest', 'Starting_Point', '-2.0', '9.0', 'Rest', '-2.0', '-2.0', '0.0', 'Rest', '-3.0', '-2.0', '9.0', 'Rest', '-2.0', '-2.0', '0.0'], [0.25, 0.25, 0.125, Fraction(1, 3), 0.2916666666666714, 0.25, 0.25, Fraction(1, 3), 0.1666666666666714, 0.125, 0.25, Fraction(1, 3), 0.2916666666666714, 0.25, 0.125, Fraction(1, 3)], ['Starting_Point', '-2.0', '9.0', '-2.0', '-2.0', '0.0', '-3.0', '-2.0', '9.0', '-2.0', '-2.0', '0.0'], [0.0833333333333286, 0.3333333333333428, 0.5833333333333286, 0.0833333333333286, 0.3333333333333428, 0.5833333333333286, 0.0833333333333286, 0.3333333333333428, 0.5833333333333286, 0.0833333333333286, 0.3333333333333428, 0.3333333333333286], [0.25, 0.125, Fraction(1, 3), 0.25, 0.25, Fraction(1, 3), 0.125, 0.25, Fraction(1, 3), 0.25, 0.125, Fraction(1, 3)]]\n",
            "[['Rest', 'Starting_Point', '-2.0', 'Rest'], [0.25, Fraction(1, 3), Fraction(8, 3), 0.75], ['Starting_Point', '-2.0'], [0.4166666666666714, 3.3333333333333286], [Fraction(1, 3), Fraction(8, 3)]]\n",
            "[['Rest'], [4], [], [], []]\n",
            "[['Rest'], [4], [], [], []]\n",
            "[['Rest'], [4], [], [], []]\n",
            "[['Rest'], [4], [], [], []]\n",
            "[['Rest'], [4], [], [], []]\n",
            "[['Rest', 'Starting_Point', '2.0', 'Rest', '5.0', 'Rest', '0.0', '0.0', '-2.0', 'Rest', '2.0', '-2.0', 'Rest', '2.0', '0.0', 'Rest', '0.0', '2.0', '-2.0'], [0.25, 0.125, 0.125, 0.1666666666666572, 0.125, 0.2083333333333428, 0.125, 0.25, 0.125, 0.1666666666666572, 0.25, 0.5, 0.25, 0.25, 0.125, 0.2083333333333428, 0.125, 0.25, Fraction(1, 3)], ['Starting_Point', '2.0', '5.0', '0.0', '0.0', '-2.0', '2.0', '-2.0', '2.0', '0.0', '0.0', '2.0', '-2.0'], [0.08333333333334281, 0.3333333333333144, 0.3333333333333428, 0.25, 0.08333333333334281, 0.3333333333333144, 0.3333333333333428, 0.6666666666666572, 0.3333333333333428, 0.25, 0.08333333333334281, 0.3333333333333144, 0.3333333333333428], [0.125, 0.125, 0.125, 0.125, 0.25, 0.125, 0.25, 0.5, 0.25, 0.125, 0.125, 0.25, Fraction(1, 3)]]\n",
            "[['Rest', 'Starting_Point', '-3.0', 'Rest', '3.0', 'Rest'], [0.25, 0.25, Fraction(1, 3), 0.1666666666666572, 1.75, 1.25], ['Starting_Point', '-3.0', '3.0'], [0.08333333333334281, 0.6666666666666572, 3.0], [0.25, Fraction(1, 3), 1.75]]\n",
            "[['Rest', 'Starting_Point', '2.0', 'Rest', '5.0', 'Rest', '0.0', '-2.0', '2.0', 'Rest', '-2.0', '2.0', 'Rest', '0.0', '0.0', '2.0', '-2.0'], [0.25, 0.125, 0.125, 0.1666666666666572, Fraction(1, 3), 0.25, 0.25, 0.125, Fraction(1, 3), 0.2916666666666572, Fraction(1, 3), 0.125, 0.2916666666666572, 0.125, 0.25, 0.25, Fraction(1, 3)], ['Starting_Point', '2.0', '5.0', '0.0', '-2.0', '2.0', '-2.0', '2.0', '0.0', '0.0', '2.0', '-2.0'], [0.08333333333334281, 0.3333333333333144, 0.5833333333333428, 0.08333333333334281, 0.3333333333333144, 0.5833333333333428, 0.4166666666666572, 0.3333333333333428, 0.25, 0.08333333333334281, 0.3333333333333144, 0.3333333333333428], [0.125, 0.125, Fraction(1, 3), 0.25, 0.125, Fraction(1, 3), Fraction(1, 3), 0.125, 0.125, 0.25, 0.25, Fraction(1, 3)]]\n",
            "[['Rest', 'Starting_Point', '-3.0', 'Rest', '7.0', 'Rest'], [0.25, 0.25, Fraction(1, 3), 0.1666666666666572, 1.75, 1.25], ['Starting_Point', '-3.0', '7.0'], [0.08333333333334281, 0.6666666666666572, 3.0], [0.25, Fraction(1, 3), 1.75]]\n",
            "[['Rest', 'Starting_Point', '3.0', '2.0', '0.0', 'Rest', '0.0', '0.0', 'Rest', '0.0', 'Rest', '0.0', 'Rest', '3.0', 'Rest', '0.0', '-3.0', '0.0'], [0.25, 0.25, 0.125, 0.25, 0.125, 0.25, 0.125, 0.125, 0.1666666666666572, Fraction(1, 3), 0.25, 0.25, 0.1666666666666572, Fraction(1, 3), 0.25, 0.25, 0.25, Fraction(1, 3)], ['Starting_Point', '3.0', '2.0', '0.0', '0.0', '0.0', '0.0', '0.0', '3.0', '0.0', '-3.0', '0.0'], [0.08333333333334281, 0.3333333333333144, 0.3333333333333428, 0.25, 0.08333333333334281, 0.3333333333333144, 0.5833333333333428, 0.4166666666666572, 0.5833333333333428, 0.08333333333334281, 0.3333333333333144, 0.3333333333333428], [0.25, 0.125, 0.25, 0.125, 0.125, 0.125, Fraction(1, 3), 0.25, Fraction(1, 3), 0.25, 0.25, Fraction(1, 3)]]\n",
            "[['Rest', 'Starting_Point', 'Rest', '2.0', 'Rest', '-2.0', 'Rest', '-5.0', '2.0', 'Rest'], [0.25, 0.25, 0.1666666666666572, Fraction(1, 3), 0.25, 0.5, 0.5, Fraction(1, 3), 1.25, 0.1666666666666572], ['Starting_Point', '2.0', '-2.0', '-5.0', '2.0'], [0.4166666666666572, 0.5833333333333428, 1.0, 0.4166666666666572, 1.3333333333333428], [0.25, Fraction(1, 3), 0.5, Fraction(1, 3), 1.25]]\n",
            "[['Rest', 'Starting_Point', '2.0', '5.0', '0.0', '0.0', '-2.0', '2.0', 'Rest', '-2.0', '2.0', 'Rest', '0.0', '0.0', '2.0', 'Rest', '-2.0'], [0.25, 0.25, 0.25, 0.25, 0.125, 0.25, 0.25, Fraction(1, 3), 0.2916666666666572, Fraction(1, 3), 0.125, 0.2916666666666572, 0.125, 0.125, 0.125, 0.2916666666666572, Fraction(1, 3)], ['Starting_Point', '2.0', '5.0', '0.0', '0.0', '-2.0', '2.0', '-2.0', '2.0', '0.0', '0.0', '2.0', '-2.0'], [0.08333333333334281, 0.3333333333333144, 0.3333333333333428, 0.25, 0.08333333333334281, 0.3333333333333144, 0.5833333333333428, 0.4166666666666572, 0.3333333333333428, 0.25, 0.08333333333334281, 0.3333333333333144, 0.3333333333333428], [0.25, 0.25, 0.25, 0.125, 0.25, 0.25, Fraction(1, 3), Fraction(1, 3), 0.125, 0.125, 0.125, 0.125, Fraction(1, 3)]]\n",
            "[['Rest', 'Starting_Point', '-2.0', 'Rest', '-2.0', 'Rest', '2.0', '2.0'], [0.25, Fraction(1, 3), 0.5, 0.1666666666666572, 1.0, 1.0833333333333428, 0.25, Fraction(1, 3)], ['Starting_Point', '-2.0', '-2.0', '2.0', '2.0'], [0.4166666666666572, 0.5833333333333428, 2.083333333333343, 0.3333333333333144, 0.3333333333333428], [Fraction(1, 3), 0.5, 1.0, 0.25, Fraction(1, 3)]]\n",
            "[['Rest', 'Starting_Point', '2.0', 'Rest', '-5.0', 'Rest', '3.0', 'Rest'], [0.25, Fraction(1, 3), Fraction(4, 3), 0.4166666666666572, Fraction(1, 3), 0.3333333333333144, 0.75, 0.25], ['Starting_Point', '2.0', '-5.0', '3.0'], [0.08333333333334281, 2.0, 0.6666666666666572, 1.0], [Fraction(1, 3), Fraction(4, 3), Fraction(1, 3), 0.75]]\n",
            "[['Rest', 'Starting_Point', '2.0', 'Rest', '0.0', '0.0', 'Rest', '-2.0', 'Rest', '-3.0', '-2.0', '2.0', 'Rest', '0.0'], [0.3333333333333428, 0.25, 0.25, 0.4166666666666572, 0.125, 0.125, 0.1666666666666572, Fraction(1, 3), 0.25, 0.25, Fraction(1, 3), 0.5, 0.3333333333333144, Fraction(1, 3)], ['Starting_Point', '2.0', '0.0', '0.0', '-2.0', '-3.0', '-2.0', '2.0', '0.0'], [0.3333333333333144, 0.5833333333333428, 0.08333333333334281, 0.3333333333333144, 0.5833333333333428, 0.08333333333334281, 0.6666666666666572, 0.6666666666666572, 0.3333333333333428], [0.25, 0.25, 0.125, 0.125, Fraction(1, 3), 0.25, Fraction(1, 3), 0.5, Fraction(1, 3)]]\n",
            "[['Rest', 'Starting_Point', '2.0', 'Rest', '2.0', '-2.0', '-2.0', 'Rest'], [0.25, Fraction(1, 3), Fraction(4, 3), 0.3333333333333144, Fraction(1, 3), 0.5, Fraction(2, 3), 0.25], ['Starting_Point', '2.0', '2.0', '-2.0', '-2.0'], [0.4166666666666572, 1.5833333333333428, 0.4166666666666572, 0.5833333333333428, 0.75], [Fraction(1, 3), Fraction(4, 3), Fraction(1, 3), 0.5, Fraction(2, 3)]]\n",
            "[['Rest', 'Starting_Point', '2.0', 'Rest', '0.0', '0.0', '0.0', 'Rest', '-2.0', '2.0', '-2.0'], [0.3333333333333428, 0.25, Fraction(1, 3), 0.3333333333333144, 0.125, 0.125, Fraction(1, 3), 0.4166666666666572, 0.125, 0.5, 1.0], ['Starting_Point', '2.0', '0.0', '0.0', '0.0', '-2.0', '2.0', '-2.0'], [0.3333333333333144, 0.5833333333333428, 0.08333333333334281, 0.3333333333333144, 0.5833333333333428, 0.08333333333334281, 0.6666666666666572, 1.0], [0.25, Fraction(1, 3), 0.125, 0.125, Fraction(1, 3), 0.125, 0.5, 1.0]]\n",
            "[['Rest', 'Starting_Point', '2.0', '7.0', 'Rest', '-2.0', '-2.0', '-3.0', '-5.0', 'Rest', '3.0'], [0.25, 0.25, 0.125, Fraction(1, 3), 0.2916666666666572, 0.25, 0.25, Fraction(1, 3), Fraction(1, 3), 0.24999999999997158, Fraction(4, 3)], ['Starting_Point', '2.0', '7.0', '-2.0', '-2.0', '-3.0', '-5.0', '3.0'], [0.08333333333334281, 0.3333333333333144, 0.5833333333333428, 0.08333333333334281, 0.3333333333333144, 0.5833333333333428, 0.4166666666666572, 1.3333333333333428], [0.25, 0.125, Fraction(1, 3), 0.25, 0.25, Fraction(1, 3), Fraction(1, 3), Fraction(4, 3)]]\n",
            "[['Rest', 'Starting_Point', '2.0', '7.0', 'Rest', '-2.0', '-2.0', '-3.0', 'Rest', '-5.0', '3.0'], [0.25, 0.25, 0.125, Fraction(1, 3), 0.2916666666666572, 0.25, 0.125, Fraction(1, 3), 0.2916666666666572, Fraction(1, 3), 1.25], ['Starting_Point', '2.0', '7.0', '-2.0', '-2.0', '-3.0', '-5.0', '3.0'], [0.08333333333334281, 0.3333333333333144, 0.5833333333333428, 0.08333333333334281, 0.3333333333333144, 0.5833333333333428, 0.4166666666666572, 1.3333333333333428], [0.25, 0.125, Fraction(1, 3), 0.25, 0.125, Fraction(1, 3), Fraction(1, 3), 1.25]]\n",
            "[['Rest', 'Starting_Point', '2.0', '7.0', 'Rest', '-2.0', '-2.0', '0.0', 'Rest', '-3.0', '-2.0', '9.0', '-2.0', '-2.0', '0.0'], [0.25, 0.125, 0.125, Fraction(1, 3), 0.4166666666666572, 0.25, 0.125, Fraction(1, 3), 0.2916666666666572, 0.25, 0.25, Fraction(1, 3), 0.25, 0.25, Fraction(1, 3)], ['Starting_Point', '2.0', '7.0', '-2.0', '-2.0', '0.0', '-3.0', '-2.0', '9.0', '-2.0', '-2.0', '0.0'], [0.08333333333334281, 0.3333333333333144, 0.5833333333333428, 0.08333333333334281, 0.3333333333333144, 0.5833333333333428, 0.08333333333334281, 0.3333333333333144, 0.5833333333333428, 0.08333333333334281, 0.3333333333333144, 0.3333333333333428], [0.125, 0.125, Fraction(1, 3), 0.25, 0.125, Fraction(1, 3), 0.25, 0.25, Fraction(1, 3), 0.25, 0.25, Fraction(1, 3)]]\n",
            "[['Rest', 'Starting_Point', '-2.0', '9.0', '-2.0', '-2.0', 'Rest', '0.0', '-3.0', '5.0', 'Rest'], [0.25, 0.25, 0.25, Fraction(1, 3), 0.125, 0.25, 0.20833333333331439, 0.5, 0.25, 1.0, 0.5833333333333428], ['Starting_Point', '-2.0', '9.0', '-2.0', '-2.0', '0.0', '-3.0', '5.0'], [0.08333333333334281, 0.3333333333333144, 0.5833333333333428, 0.08333333333334281, 0.3333333333333144, 0.5833333333333428, 0.08333333333334281, 1.6666666666666572], [0.25, 0.25, Fraction(1, 3), 0.125, 0.25, 0.5, 0.25, 1.0]]\n",
            "[['Rest', 'Starting_Point', '2.0', '7.0', 'Rest', '-2.0', '-2.0', '-3.0', 'Rest', '-5.0', '3.0'], [0.25, 0.125, 0.125, Fraction(1, 3), 0.4166666666666572, 0.125, 0.25, Fraction(1, 3), 0.2916666666666572, Fraction(1, 3), Fraction(4, 3)], ['Starting_Point', '2.0', '7.0', '-2.0', '-2.0', '-3.0', '-5.0', '3.0'], [0.08333333333334281, 0.3333333333333144, 0.5833333333333428, 0.08333333333334281, 0.3333333333333144, 0.5833333333333428, 0.4166666666666572, 1.3333333333333428], [0.125, 0.125, Fraction(1, 3), 0.125, 0.25, Fraction(1, 3), Fraction(1, 3), Fraction(4, 3)]]\n",
            "[['Rest', 'Starting_Point', '2.0', '7.0', 'Rest', '-2.0', '-2.0', '-3.0', '-5.0', 'Rest', '3.0'], [0.25, 0.125, 0.125, Fraction(1, 3), 0.4166666666666572, 0.25, 0.25, Fraction(1, 3), Fraction(1, 3), 0.24999999999997158, Fraction(4, 3)], ['Starting_Point', '2.0', '7.0', '-2.0', '-2.0', '-3.0', '-5.0', '3.0'], [0.08333333333334281, 0.3333333333333144, 0.5833333333333428, 0.08333333333334281, 0.3333333333333144, 0.5833333333333428, 0.4166666666666572, 1.3333333333333428], [0.125, 0.125, Fraction(1, 3), 0.25, 0.25, Fraction(1, 3), Fraction(1, 3), Fraction(4, 3)]]\n",
            "[['Rest', 'Starting_Point', '2.0', '7.0', 'Rest', '-2.0', '-2.0', '0.0', 'Rest', '-3.0', '-2.0', '9.0', 'Rest', '-2.0', '-2.0', '0.0'], [0.25, 0.125, 0.125, Fraction(1, 3), 0.4166666666666572, 0.125, 0.125, Fraction(1, 3), 0.4166666666666572, 0.25, 0.125, Fraction(1, 3), 0.2916666666666572, 0.25, 0.25, Fraction(1, 3)], ['Starting_Point', '2.0', '7.0', '-2.0', '-2.0', '0.0', '-3.0', '-2.0', '9.0', '-2.0', '-2.0', '0.0'], [0.08333333333334281, 0.3333333333333144, 0.5833333333333428, 0.08333333333334281, 0.3333333333333144, 0.5833333333333428, 0.08333333333334281, 0.3333333333333144, 0.5833333333333428, 0.08333333333334281, 0.3333333333333144, 0.3333333333333428], [0.125, 0.125, Fraction(1, 3), 0.125, 0.125, Fraction(1, 3), 0.25, 0.125, Fraction(1, 3), 0.25, 0.25, Fraction(1, 3)]]\n",
            "[['Rest', 'Starting_Point', '-2.0', '9.0', 'Rest', '-2.0', '-2.0', '0.0', 'Rest', '2.0', '-2.0'], [0.25, 0.125, 0.25, Fraction(1, 3), 0.2916666666666572, 0.25, 0.125, Fraction(1, 3), 0.2916666666666572, Fraction(1, 3), 1.25], ['Starting_Point', '-2.0', '9.0', '-2.0', '-2.0', '0.0', '2.0', '-2.0'], [0.08333333333334281, 0.3333333333333144, 0.5833333333333428, 0.08333333333334281, 0.3333333333333144, 0.5833333333333428, 0.4166666666666572, 1.3333333333333428], [0.125, 0.25, Fraction(1, 3), 0.25, 0.125, Fraction(1, 3), Fraction(1, 3), 1.25]]\n",
            "[['Rest', 'Starting_Point', '2.0', '7.0', 'Rest', '-2.0', '-2.0', '-3.0', '-5.0', 'Rest', '3.0'], [0.25, 0.25, 0.125, Fraction(1, 3), 0.2916666666666572, 0.25, 0.25, Fraction(1, 3), Fraction(1, 3), 0.24999999999997158, Fraction(4, 3)], ['Starting_Point', '2.0', '7.0', '-2.0', '-2.0', '-3.0', '-5.0', '3.0'], [0.08333333333334281, 0.3333333333333144, 0.5833333333333428, 0.08333333333334281, 0.3333333333333144, 0.5833333333333428, 0.4166666666666572, 1.3333333333333428], [0.25, 0.125, Fraction(1, 3), 0.25, 0.25, Fraction(1, 3), Fraction(1, 3), Fraction(4, 3)]]\n",
            "[['Rest', 'Starting_Point', '2.0', '7.0', 'Rest', '-2.0', '-2.0', '-3.0', 'Rest', '-5.0', '3.0'], [0.25, 0.25, 0.125, Fraction(1, 3), 0.2916666666666572, 0.25, 0.125, Fraction(1, 3), 0.2916666666666572, Fraction(1, 3), 1.25], ['Starting_Point', '2.0', '7.0', '-2.0', '-2.0', '-3.0', '-5.0', '3.0'], [0.08333333333334281, 0.3333333333333144, 0.5833333333333428, 0.08333333333334281, 0.3333333333333144, 0.5833333333333428, 0.4166666666666572, 1.3333333333333428], [0.25, 0.125, Fraction(1, 3), 0.25, 0.125, Fraction(1, 3), Fraction(1, 3), 1.25]]\n",
            "[['Rest', 'Starting_Point', '2.0', '7.0', 'Rest', '-2.0', '-2.0', '0.0', 'Rest', '-3.0', '-2.0', '9.0', '-2.0', '-2.0', '0.0'], [0.25, 0.125, 0.125, Fraction(1, 3), 0.4166666666666572, 0.25, 0.125, Fraction(1, 3), 0.2916666666666572, 0.25, 0.25, Fraction(1, 3), 0.25, 0.25, Fraction(1, 3)], ['Starting_Point', '2.0', '7.0', '-2.0', '-2.0', '0.0', '-3.0', '-2.0', '9.0', '-2.0', '-2.0', '0.0'], [0.08333333333334281, 0.3333333333333144, 0.5833333333333428, 0.08333333333334281, 0.3333333333333144, 0.5833333333333428, 0.08333333333334281, 0.3333333333333144, 0.5833333333333428, 0.08333333333334281, 0.3333333333333144, 0.3333333333333428], [0.125, 0.125, Fraction(1, 3), 0.25, 0.125, Fraction(1, 3), 0.25, 0.25, Fraction(1, 3), 0.25, 0.25, Fraction(1, 3)]]\n",
            "[['Rest', 'Starting_Point', '-2.0', '9.0', '-2.0', '-2.0', '0.0', 'Rest', '-3.0', '5.0', 'Rest'], [0.25, 0.25, 0.25, Fraction(1, 3), 0.125, 0.25, 0.5, 0.2916666666666572, 0.25, 1.0, 0.5], ['Starting_Point', '-2.0', '9.0', '-2.0', '-2.0', '0.0', '-3.0', '5.0'], [0.08333333333334281, 0.3333333333333144, 0.5833333333333428, 0.08333333333334281, 0.3333333333333144, 0.5833333333333428, 0.08333333333334281, 1.6666666666666572], [0.25, 0.25, Fraction(1, 3), 0.125, 0.25, 0.5, 0.25, 1.0]]\n",
            "[['Rest', 'Starting_Point', '2.0', '7.0', 'Rest', '-2.0', '-2.0', '-3.0', 'Rest', '-5.0', '3.0'], [0.25, 0.125, 0.125, Fraction(1, 3), 0.4166666666666572, 0.125, 0.25, Fraction(1, 3), 0.2916666666666572, Fraction(1, 3), Fraction(4, 3)], ['Starting_Point', '2.0', '7.0', '-2.0', '-2.0', '-3.0', '-5.0', '3.0'], [0.08333333333334281, 0.3333333333333144, 0.5833333333333428, 0.08333333333334281, 0.3333333333333144, 0.5833333333333428, 0.4166666666666572, 1.3333333333333428], [0.125, 0.125, Fraction(1, 3), 0.125, 0.25, Fraction(1, 3), Fraction(1, 3), Fraction(4, 3)]]\n",
            "[['Rest', 'Starting_Point', '2.0', '7.0', 'Rest', '-2.0', '-2.0', '-3.0', '-5.0', 'Rest', '3.0'], [0.25, 0.125, 0.125, Fraction(1, 3), 0.4166666666666572, 0.25, 0.25, Fraction(1, 3), Fraction(1, 3), 0.24999999999997158, Fraction(4, 3)], ['Starting_Point', '2.0', '7.0', '-2.0', '-2.0', '-3.0', '-5.0', '3.0'], [0.08333333333334281, 0.3333333333333144, 0.5833333333333428, 0.08333333333334281, 0.3333333333333144, 0.5833333333333428, 0.4166666666666572, 1.3333333333333428], [0.125, 0.125, Fraction(1, 3), 0.25, 0.25, Fraction(1, 3), Fraction(1, 3), Fraction(4, 3)]]\n",
            "[['Rest', 'Starting_Point', '2.0', '7.0', 'Rest', '-2.0', '-2.0', '0.0', 'Rest', '-3.0', '-2.0', '9.0', 'Rest', '-2.0', '-2.0', '0.0'], [0.25, 0.125, 0.125, Fraction(1, 3), 0.4166666666666572, 0.125, 0.125, Fraction(1, 3), 0.4166666666666572, 0.25, 0.125, Fraction(1, 3), 0.2916666666666572, 0.25, 0.25, Fraction(1, 3)], ['Starting_Point', '2.0', '7.0', '-2.0', '-2.0', '0.0', '-3.0', '-2.0', '9.0', '-2.0', '-2.0', '0.0'], [0.08333333333334281, 0.3333333333333144, 0.5833333333333428, 0.08333333333334281, 0.3333333333333144, 0.5833333333333428, 0.08333333333334281, 0.3333333333333144, 0.5833333333333428, 0.08333333333334281, 0.3333333333333144, 0.3333333333333428], [0.125, 0.125, Fraction(1, 3), 0.125, 0.125, Fraction(1, 3), 0.25, 0.125, Fraction(1, 3), 0.25, 0.25, Fraction(1, 3)]]\n"
          ],
          "name": "stdout"
        }
      ]
    },
    {
      "cell_type": "code",
      "metadata": {
        "id": "MThJLfY0V6F2"
      },
      "source": [
        "#최대한 많고 깔끔한 조건문을 사용하여 Skill들을 정의해볼 것. Multilabel Classification의 가능성이 있다.\n",
        "\"\"\"\n",
        "Skill들의 음악학적인 특성 & 계산적인 특성을 적는 곳\n",
        "'resting' : 포함하는 음이 0 또는 1개인 경우 resting으로 정의. 다른 Skill들은 겹칠 수 있으나 이 skill이 Label될 경우 그냥 resting 고정이다.\n",
        "즉, Skilling Labeling은 'resting'이 아닌 경우에 진행된다.(삭제)\n",
        "'repeating' : 전체 음 중 n% 이상 또는 n개를 제외한 경우가 전부 같은 음일 경우 repeating으로 정의\n",
        "'up_steping' : 전체 음 중 n% 이상 또는 n개를 제외한 경우가 steping up 또는 같은 음, 즉 반음기준 3Note 이하로 상승하는 형태일 경우 up_steping으로 정의\n",
        "'down_steping' : 전체 음 중 n% 이상 또는 n개를 제외한 경우가 steping down 또는 같은 음, 즉 반음기준 3Note 이하로 하강하는 형태일 경우 down_steping으로 정의\n",
        "'up_leaping' : 전체 음 중 n% 이상 또는 n개를 제외한 경우가 leaping up, 즉 반음기준 3Note 이상으로 상승하는 형태일 경우 up_leaping으로 정의\n",
        "'down_leaping' : 전체 음 중 n% 이상 또는 n개를 제외한 경우가 leaping down, 즉 반음기준 3Note 이상으로 하강하는 형태일 경우 down_leaping으로 정의\n",
        "3Note에서 겹치는게 맞다. Multilabel Classification을 고안 중이기 때문.\n",
        "'steping_twisting' : 음이 4개 이상이고, n개를 제외한 경우가 2Note 이하의 상승과 하강을 반복하는 형태일 경우 steping_twisting으로 정의\n",
        "'leaping_twisting' : 음이 4개 이상이고, n개를 제외한 경우가 3Note 이상의 상승과 하강을 반복하는 형태일 경우 leaping_twisting으로 정의\n",
        "'fast_rhythm' : 1 bar 내에 음이 9개 이상인 경우 fast_rhythm으로 정의.\n",
        "'One_rhythm' :  모든 음이 지닌 연주의 real_time, 즉 음이 울리고 다음 음이 나올때 까지의 시간이 같으면 One_rhythm으로 정의\n",
        "'triplet' : real_time기반해서 triplet이 존재하면(Note 3개) triplet으로 정의\n",
        "'Staccato' : real_Duration_Time 기반해서 n% 이상의 음의 Duration이 0.16667(최소단위*4임)보다 작으면(매우 짧으면) Staccato로 정의\n",
        "'continuing_rhythm' : pitch_change_list에서 'Rest'의 비율이 25퍼센트 이하면 continuing_rhythm으로 정의\n",
        "첫 음 제외 실 음의 75%를 기준으로 잡는다.\n",
        "5개 이상의 음이 있다면 1개를 제외하고 전부 조건에 맞아야하고,\n",
        "9개 이상의 음이 있다면 2개를 제외하고 전부 조건에 맞아야하고...\n",
        "4개 이하는 다 맞아야 한다.\n",
        "ex) CDEF -> up_steping, CDED -> None, CDEFD-> up_steping.\n",
        "다만 Leaping에 대해서는 많이 후해질 것 같다. 거의 50%가까이..?  \n",
        "\"\"\"\n",
        "\n",
        "\"\"\"\n",
        "예시로는..\n",
        "contour[0] = ['Starting_Point', 'Rest', '4.0', '1.0', 'Rest', '2.0', 'Rest', '-7.0', 'Rest'] Note pitch의 변화를 쉼표를 포함하여 의미한다.\n",
        "contour[1] = [0.83333, 0.16666999999999987, 0.5, 0.33333, 0.16666999999999987, 0.8333299999999999, 0.16666999999999987, 0.75, 0.25] Duration을 쉼표를 포함하여 의미한다.\n",
        "contour[2] = ['Starting_Point', '4.0', '1.0', '2.0', '-7.0'] note pitch의 변화를 의미한다.\n",
        "contour[3] = [1.0, 0.5, 0.5, 1.0, 1.0] 한 음의 실 연주시간을 의미한다.(다음 음이 나올때 까지의 시간)\n",
        "contour[4] = [0.83333, 0.5, 0.33333, 0.8333299999999999, 0.75] Duration을 의미한다.\n",
        "\"\"\"\n",
        "def is_repeating(contour_list,exception_range):\n",
        "  boolean_repeating=0\n",
        "  non_repeat=0\n",
        "  for elements in contour_list:\n",
        "    if (elements is not 'Starting_Point'):\n",
        "      if(elements != '0.0'):\n",
        "        non_repeat+=1\n",
        "  if (non_repeat<=exception_range):\n",
        "    boolean_repeating=1\n",
        "  return boolean_repeating\n",
        "\n",
        "def is_up_steping(contour_list,exception_range):\n",
        "  balancing_param=1\n",
        "  boolean_up_steping=0\n",
        "  non_step_up=0\n",
        "  now_step_up=0\n",
        "  for elements in contour_list:\n",
        "    if (elements is not 'Starting_Point'):\n",
        "      if (now_step_up==0):\n",
        "        if (float(elements)<0.5 or float(elements)>4.5):\n",
        "          now_step_up=0\n",
        "          non_step_up+=1\n",
        "        else:\n",
        "          now_step_up=1\n",
        "      else:\n",
        "        if(float(elements)<-0.5 or float(elements)>4.5):\n",
        "          now_step_up=0\n",
        "          non_step_up+=1\n",
        "        else:\n",
        "          now_step_up=1\n",
        "  if(non_step_up<=exception_range+balancing_param):\n",
        "    boolean_up_steping=1\n",
        "  return boolean_up_steping\n",
        "\n",
        "def is_down_steping(contour_list,exception_range):\n",
        "  boolean_down_steping=0\n",
        "  balancing_param=0\n",
        "  non_step_down=0\n",
        "  now_step_down=0\n",
        "  for elements in contour_list:\n",
        "    if (elements is not 'Starting_Point'):\n",
        "      if (now_step_down==0):\n",
        "        if (float(elements)>-0.5 or float(elements)<-4.5):\n",
        "          now_step_down=0\n",
        "          non_step_down+=1\n",
        "        else:\n",
        "          now_step_down=1\n",
        "      else:\n",
        "        if(float(elements)>0.5 or float(elements)<-4.5):\n",
        "          now_step_down=0\n",
        "          non_step_down+=1\n",
        "        else:\n",
        "          now_step_down=1\n",
        "  if(non_step_down<=exception_range+balancing_param):\n",
        "    boolean_down_steping=1\n",
        "  return boolean_down_steping\n",
        "\n",
        "def is_up_leaping(contour_list,exception_range):\n",
        "  boolean_up_leaping=0\n",
        "  non_leap_up=0\n",
        "  for elements in contour_list:\n",
        "    if (elements is not 'Starting_Point'):\n",
        "      if (float(elements)<3.5):\n",
        "        non_leap_up+=1\n",
        "  if (non_leap_up<=exception_range+1):\n",
        "    boolean_up_leaping=1\n",
        "  return boolean_up_leaping\n",
        "\n",
        "def is_down_leaping(contour_list,exception_range):\n",
        "  boolean_down_leaping=0\n",
        "  non_leap_down=0\n",
        "  for elements in contour_list:\n",
        "    if (elements is not 'Starting_Point'):\n",
        "      if (float(elements)>-3.5):\n",
        "        non_leap_down+=1\n",
        "  if (non_leap_down<=exception_range+1):\n",
        "    boolean_down_leaping=1\n",
        "  return boolean_down_leaping\n",
        "\n",
        "def is_leaping_twisting(contour_list,exception_range):\n",
        "  boolean_leaping_twisting=0\n",
        "  non_leap_twist=0\n",
        "  balancing_param=1\n",
        "  now_dir=0 #1for up, -1 for down\n",
        "  for elements in contour_list:\n",
        "    if (elements is not 'Starting_Point'):\n",
        "      if (now_dir==0):\n",
        "        if (3.5<float(elements)):\n",
        "          now_dir=1\n",
        "        elif (float(elements) <-3.5):\n",
        "          now_dir=-1\n",
        "        else:\n",
        "          non_leap_twist+=1\n",
        "      elif (now_dir==1):\n",
        "        if (float(elements) <-3.5):\n",
        "          now_dir=-1\n",
        "        else:\n",
        "          now_dir=0\n",
        "          non_leap_twist+=1\n",
        "      elif (now_dir==-1):\n",
        "        if (3.5<float(elements)):\n",
        "          now_dir=1\n",
        "        else:\n",
        "          now_dir=0\n",
        "          non_leap_twist+=1\n",
        "  if(non_leap_twist<=exception_range+balancing_param):\n",
        "    boolean_leaping_twisting=1\n",
        "  return boolean_leaping_twisting\n",
        "\n",
        "def is_steping_twisting(contour_list,exception_range):\n",
        "  boolean_steping_twisting=0\n",
        "  non_step_twist=0\n",
        "  now_dir=0 #1for up, -1 for down\n",
        "  for elements in contour_list:\n",
        "    if (elements is not 'Starting_Point'):\n",
        "      if (now_dir==0):\n",
        "        if (0<float(elements) and float(elements) <2.5):\n",
        "          now_dir=1\n",
        "        elif (-2.5<float(elements) and float(elements) <0):\n",
        "          now_dir=-1\n",
        "        else:\n",
        "          non_step_twist+=1\n",
        "      elif (now_dir==1):\n",
        "        if (-2.5<float(elements) and float(elements) <0):\n",
        "          now_dir=-1\n",
        "        else:\n",
        "          now_dir=0\n",
        "          non_step_twist+=1\n",
        "      elif (now_dir==-1):\n",
        "        if (0<float(elements) and float(elements) <2.5):\n",
        "          now_dir=1\n",
        "        else:\n",
        "          now_dir=0\n",
        "          non_step_twist+=1\n",
        "  if(non_step_twist<=exception_range):\n",
        "    boolean_steping_twisting=1\n",
        "  return boolean_steping_twisting\n",
        "\n",
        "def is_one_rhythm(contour_list,exception_range):\n",
        "  boolean_one_rhythm=0\n",
        "  non_same_rhythm=0\n",
        "\n",
        "  first_rhythm=contour_list[0]\n",
        "  for rhythms in contour_list:\n",
        "    if (rhythms != first_rhythm):\n",
        "      non_same_rhythm=1\n",
        "  boolean_one_rhythm=1-non_same_rhythm\n",
        "  return boolean_one_rhythm\n",
        "\n",
        "def is_triplet(contour_list,exception_range):\n",
        "  boolean_triplet=0\n",
        "  now_triplet=0\n",
        "  for rhythms in contour_list:\n",
        "    rhythms=float(rhythms)\n",
        "    if (rhythms%0.015625>0.001):\n",
        "      if(now_triplet==1):\n",
        "        boolean_triplet=1\n",
        "      now_triplet+=1\n",
        "    else:\n",
        "      now_triplet=0\n",
        "      \n",
        "  return boolean_triplet\n",
        "\n",
        "def is_staccato(contour_list,exception_range):\n",
        "  boolean_staccato=0\n",
        "  ranges=len(contour_list)//2\n",
        "  staccato_num=0\n",
        "  for times in contour_list:\n",
        "    if (times<0.2):\n",
        "      staccato_num+=1\n",
        "  if (staccato_num>=ranges):\n",
        "    boolean_staccato=1\n",
        "  return boolean_staccato\n",
        "\n",
        "def is_continuing_rhythm(contour_list):\n",
        "  boolean_continuing_rhythm=0\n",
        "  length=len(contour_list)\n",
        "  rest_num=0\n",
        "  for elements in contour_list:\n",
        "    if (elements=='Rest'):\n",
        "      rest_num+=1\n",
        "  if (rest_num<=0.5):\n",
        "    boolean_continuing_rhythm=1\n",
        "  return boolean_continuing_rhythm\n",
        "\n",
        "def contour_to_label(contour):\n",
        "  labels=[]\n",
        "  totnum=len(contour[2]) #실 음의 갯수이다.\n",
        "  exception_range=(totnum-1)//4\n",
        "  exception_range2=(totnum-1)//3\n",
        "  if (len(contour[2])<2.5):\n",
        "    pass#원래는 resting이라는 Label을 append했으나 Control이 까다롭다\n",
        "  else:\n",
        "    if (is_repeating(contour[2],exception_range2)):\n",
        "      labels.append('repeating')\n",
        "\n",
        "    if (is_up_steping(contour[2],exception_range)):\n",
        "      if (len(contour[2])>3):\n",
        "        labels.append('up_steping')\n",
        "\n",
        "    if (is_down_steping(contour[2],exception_range)):\n",
        "      if (len(contour[2])>3):\n",
        "        labels.append('down_steping')\n",
        "\n",
        "    if (is_up_leaping(contour[2],exception_range2)):\n",
        "      labels.append('up_leaping')\n",
        "    \n",
        "    if (is_down_leaping(contour[2],exception_range2)):\n",
        "      labels.append('down_leaping')\n",
        "\n",
        "    if (is_steping_twisting(contour[2],exception_range2)):\n",
        "      if (len(contour[2])>3):\n",
        "        labels.append('steping_twisting')\n",
        "\n",
        "    if (is_leaping_twisting(contour[2],exception_range2)):\n",
        "      if (len(contour[2])>3):\n",
        "        labels.append('leaping_twisting')\n",
        "\n",
        "    if (len(contour[2])>8.5):\n",
        "      labels.append('fast_rhythm')\n",
        "\n",
        "    if (is_one_rhythm(contour[3],exception_range)):\n",
        "      labels.append('One_rhythm')\n",
        "\n",
        "    if (is_triplet(contour[3],exception_range2)):\n",
        "      labels.append('triplet')\n",
        "\n",
        "    if (is_staccato(contour[4],exception_range2)):\n",
        "      labels.append('staccato')  \n",
        "\n",
        "    if (is_continuing_rhythm(contour[0])):\n",
        "      labels.append('continuing_rhythm')  \n",
        "\n",
        "  if (len(labels)==0):\n",
        "    labels.append('no skills')#Use for Classifier and cGAN, but I don't use this label for generation\n",
        "\n",
        "\n",
        "  return labels"
      ],
      "execution_count": null,
      "outputs": []
    },
    {
      "cell_type": "code",
      "metadata": {
        "id": "ez9WMZruqLA0"
      },
      "source": [
        "bar_label_list=copy.deepcopy(bar_contour_list)\n",
        "for i,songs in enumerate(bar_contour_list):\n",
        "  for j,contour in enumerate(songs):\n",
        "    label=contour_to_label(contour) \n",
        "    bar_label_list[i][j]=label"
      ],
      "execution_count": null,
      "outputs": []
    },
    {
      "cell_type": "code",
      "metadata": {
        "id": "sqUWmjlproso",
        "colab": {
          "base_uri": "https://localhost:8080/"
        },
        "outputId": "ca711707-227c-47a3-eb25-e7e140b72041"
      },
      "source": [
        "for j in range(len(bar_label_list[0])):\n",
        "  print(bar_label_list[0][j])\n",
        "  print(bar_contour_list[0][j])"
      ],
      "execution_count": null,
      "outputs": [
        {
          "output_type": "stream",
          "text": [
            "['up_steping', 'steping_twisting', 'triplet', 'staccato']\n",
            "[['Rest', 'Starting_Point', 'Rest', '2.0', 'Rest', '3.0', 'Rest', '2.0', 'Rest'], [3.0, 0.25, 0.08333333333333215, 0.125, 0.04166666666666785, 0.125, 0.125, 0.125, 0.125], ['Starting_Point', '2.0', '3.0', '2.0'], [0.33333333333333215, 0.16666666666666785, 0.25, 0.25], [0.25, 0.125, 0.125, 0.125]]\n",
            "['up_leaping', 'down_leaping', 'leaping_twisting']\n",
            "[['Starting_Point', 'Rest', '-4.0', 'Rest', '-3.0', 'Rest', '5.0', 'Rest'], [0.25, 0.25, Fraction(1, 3), 0.16666666666666785, Fraction(1, 3), 0.16666666666666785, 1.5, 1.0], ['Starting_Point', '-4.0', '-3.0', '5.0'], [0.5, 0.5, 0.5, 2.5], [0.25, Fraction(1, 3), Fraction(1, 3), 1.5]]\n",
            "['triplet']\n",
            "[['Starting_Point', 'Rest', '-3.0', 'Rest', '-4.0', 'Rest', '5.0', 'Rest', '-5.0', 'Rest', '2.0', 'Rest', '3.0', 'Rest', '2.0'], [Fraction(1, 3), 0.16666666666666785, 0.25, 0.25, 0.25, 0.25, 1.25, 0.25, 0.25, 0.08333333333333215, 0.125, 0.04166666666666785, 0.125, 0.125, 0.25], ['Starting_Point', '-3.0', '-4.0', '5.0', '-5.0', '2.0', '3.0', '2.0'], [0.5, 0.5, 0.5, 1.5, 0.33333333333333215, 0.16666666666666785, 0.25, 0.25], [Fraction(1, 3), 0.25, 0.25, 1.25, 0.25, 0.125, 0.125, 0.25]]\n",
            "['leaping_twisting']\n",
            "[['Starting_Point', 'Rest', '-4.0', 'Rest', '-3.0', 'Rest', '5.0', 'Rest', '-7.0', 'Rest', '7.0', 'Rest', '-2.0'], [0.25, 0.25, Fraction(1, 3), 0.16666666666666785, 0.25, 0.25, 0.75, 0.25, 0.25, 0.25, 0.25, 0.25, 1.75], ['Starting_Point', '-4.0', '-3.0', '5.0', '-7.0', '7.0', '-2.0'], [0.5, 0.5, 0.5, 1.0, 0.5, 0.5, 0.5], [0.25, Fraction(1, 3), 0.25, 0.75, 0.25, 0.25, 1.75]]\n",
            "['no skills']\n",
            "[['Rest'], [4], [], [], []]\n",
            "['steping_twisting']\n",
            "[['Starting_Point', 'Rest', '0.0', 'Rest', '-1.0', 'Rest', '1.0', '-1.0', 'Rest'], [Fraction(2, 3), 0.3333333333333357, 0.5, 0.5, Fraction(1, 3), 0.1666666666666643, 0.25, Fraction(1, 3), 0.9166666666666643], ['Starting_Point', '0.0', '-1.0', '1.0', '-1.0'], [1.0, 1.0, 0.5, 0.25, 1.25], [Fraction(2, 3), 0.5, Fraction(1, 3), 0.25, Fraction(1, 3)]]\n",
            "['up_steping', 'steping_twisting', 'triplet']\n",
            "[['Starting_Point', 'Rest', '1.0', '-1.0', 'Rest', '-4.0', 'Rest', '2.0', 'Rest', '0.0', '2.0', 'Rest'], [0.25, 0.25, 0.25, 0.25, 0.3333333333333357, 0.25, 0.1666666666666643, 1.0, 0.75, 0.25, 0.125, 0.125], ['Starting_Point', '1.0', '-1.0', '-4.0', '2.0', '0.0', '2.0'], [0.5, 0.25, 0.5833333333333357, 0.4166666666666643, 1.75, 0.25, 0.25], [0.25, 0.25, 0.25, 0.25, 1.0, 0.25, 0.125]]\n",
            "['steping_twisting', 'triplet']\n",
            "[['Starting_Point', 'Rest', '0.0', 'Rest', '-1.0', 'Rest', '1.0', '-1.0', 'Rest', '-2.0', 'Rest', '-2.0'], [0.75, 0.25, Fraction(2, 3), 0.3333333333333357, 0.25, 0.25, 0.25, 0.25, 0.3333333333333357, Fraction(1, 3), 0.0833333333333286, 2.0], ['Starting_Point', '0.0', '-1.0', '1.0', '-1.0', '-2.0', '-2.0'], [1.0, 1.0, 0.5, 0.25, 0.5833333333333357, 0.4166666666666643, 0.25], [0.75, Fraction(2, 3), 0.25, 0.25, 0.25, Fraction(1, 3), 2.0]]\n",
            "['no skills']\n",
            "[['Rest'], [4], [], [], []]\n",
            "['up_steping']\n",
            "[['Starting_Point', 'Rest', '0.0', 'Rest', '2.0', 'Rest', '2.0', 'Rest', '-2.0', 'Rest'], [0.5, 0.5, Fraction(2, 3), 0.3333333333333357, 0.25, 0.25, 0.125, 0.125, 0.25, 1.0], ['Starting_Point', '0.0', '2.0', '2.0', '-2.0'], [1.0, 1.0, 0.5, 0.25, 1.25], [0.5, Fraction(2, 3), 0.25, 0.125, 0.25]]\n",
            "['steping_twisting', 'triplet']\n",
            "[['Starting_Point', 'Rest', '2.0', 'Rest', '-2.0', 'Rest', '-3.0', 'Rest', '1.0', 'Rest', '-5.0', '2.0', 'Rest'], [0.25, 0.25, 0.125, 0.125, 0.25, 0.3333333333333357, 0.25, 0.1666666666666643, Fraction(4, 3), 0.4166666666666643, 0.25, 0.125, 0.125], ['Starting_Point', '2.0', '-2.0', '-3.0', '1.0', '-5.0', '2.0'], [0.5, 0.25, 0.5833333333333357, 0.4166666666666643, 1.75, 0.25, 0.25], [0.25, 0.125, 0.25, 0.25, Fraction(4, 3), 0.25, 0.125]]\n",
            "['triplet']\n",
            "[['Starting_Point', 'Rest', '4.0', '-2.0', 'Rest', '-2.0', 'Rest', '2.0', 'Rest', '2.0', 'Rest', '-2.0', 'Rest', '-2.0', 'Rest'], [0.25, 0.25, 0.25, 0.25, 0.3333333333333357, 0.25, 0.4166666666666643, 0.25, 0.25, 0.125, 0.125, 0.25, 0.3333333333333357, 0.25, 0.4166666666666643], ['Starting_Point', '4.0', '-2.0', '-2.0', '2.0', '2.0', '-2.0', '-2.0'], [0.5, 0.25, 0.5833333333333357, 0.6666666666666643, 0.5, 0.25, 0.5833333333333357, 0.6666666666666643], [0.25, 0.25, 0.25, 0.25, 0.25, 0.125, 0.25, 0.25]]\n",
            "['up_steping', 'triplet', 'staccato']\n",
            "[['Starting_Point', 'Rest', '-5.0', 'Rest', '2.0', '3.0', 'Rest', '2.0', 'Rest'], [Fraction(5, 3), 1.3333333333333286, 0.25, 0.0833333333333286, 0.125, 0.125, 0.1666666666666714, 0.125, 0.125], ['Starting_Point', '-5.0', '2.0', '3.0', '2.0'], [3.0, 0.3333333333333286, 0.1666666666666714, 0.25, 0.25], [Fraction(5, 3), 0.25, 0.125, 0.125, 0.125]]\n",
            "['up_leaping', 'down_leaping', 'leaping_twisting']\n",
            "[['Starting_Point', 'Rest', '-4.0', 'Rest', '-3.0', 'Rest', '5.0', 'Rest'], [0.25, 0.25, Fraction(1, 3), 0.1666666666666714, Fraction(1, 3), 0.1666666666666714, 1.5, 1.0], ['Starting_Point', '-4.0', '-3.0', '5.0'], [0.5, 0.5, 0.5, 2.5], [0.25, Fraction(1, 3), Fraction(1, 3), 1.5]]\n",
            "['triplet']\n",
            "[['Starting_Point', 'Rest', '-3.0', 'Rest', '-4.0', 'Rest', '5.0', 'Rest', '-5.0', 'Rest', '2.0', '3.0', 'Rest', '2.0'], [Fraction(1, 3), 0.1666666666666714, 0.25, 0.25, 0.25, 0.25, 1.25, 0.25, 0.25, 0.0833333333333286, 0.125, 0.125, 0.1666666666666714, 0.25], ['Starting_Point', '-3.0', '-4.0', '5.0', '-5.0', '2.0', '3.0', '2.0'], [0.5, 0.5, 0.5, 1.5, 0.3333333333333286, 0.1666666666666714, 0.25, 0.25], [Fraction(1, 3), 0.25, 0.25, 1.25, 0.25, 0.125, 0.125, 0.25]]\n",
            "['leaping_twisting']\n",
            "[['Starting_Point', 'Rest', '-4.0', 'Rest', '-3.0', 'Rest', '5.0', 'Rest', '-7.0', 'Rest', '7.0', 'Rest', '2.0'], [0.25, 0.25, Fraction(1, 3), 0.1666666666666714, 0.25, 0.25, 0.75, 0.25, 0.25, 0.25, 0.25, 0.25, 1.75], ['Starting_Point', '-4.0', '-3.0', '5.0', '-7.0', '7.0', '2.0'], [0.5, 0.5, 0.5, 1.0, 0.5, 0.5, 0.5], [0.25, Fraction(1, 3), 0.25, 0.75, 0.25, 0.25, 1.75]]\n",
            "['up_steping', 'steping_twisting', 'triplet', 'staccato']\n",
            "[['Rest', 'Starting_Point', 'Rest', '2.0', '3.0', 'Rest', '2.0', 'Rest'], [3.0, 0.25, 0.0833333333333286, 0.125, 0.125, 0.1666666666666714, 0.125, 0.125], ['Starting_Point', '2.0', '3.0', '2.0'], [0.3333333333333286, 0.1666666666666714, 0.25, 0.25], [0.25, 0.125, 0.125, 0.125]]\n",
            "['up_leaping', 'down_leaping', 'leaping_twisting']\n",
            "[['Starting_Point', 'Rest', '-4.0', 'Rest', '-3.0', 'Rest', '5.0', 'Rest'], [0.25, 0.25, Fraction(1, 3), 0.1666666666666714, Fraction(1, 3), 0.1666666666666714, 1.5, 1.0], ['Starting_Point', '-4.0', '-3.0', '5.0'], [0.5, 0.5, 0.5, 2.5], [0.25, Fraction(1, 3), Fraction(1, 3), 1.5]]\n",
            "['triplet']\n",
            "[['Starting_Point', 'Rest', '-3.0', 'Rest', '-4.0', 'Rest', '5.0', 'Rest', '-5.0', '2.0', 'Rest', '3.0', 'Rest', '2.0'], [Fraction(1, 3), 0.1666666666666714, 0.25, 0.25, 0.25, 0.25, 1.25, 0.25, 0.25, 0.125, 0.125, 0.125, 0.125, 0.25], ['Starting_Point', '-3.0', '-4.0', '5.0', '-5.0', '2.0', '3.0', '2.0'], [0.5, 0.5, 0.5, 1.5, 0.3333333333333286, 0.1666666666666714, 0.25, 0.25], [Fraction(1, 3), 0.25, 0.25, 1.25, 0.25, 0.125, 0.125, 0.25]]\n",
            "['leaping_twisting']\n",
            "[['Starting_Point', 'Rest', '-4.0', 'Rest', '-3.0', 'Rest', '5.0', 'Rest', '-7.0', 'Rest', '7.0', 'Rest', '-2.0'], [0.25, 0.25, Fraction(1, 3), 0.1666666666666714, 0.25, 0.25, 0.75, 0.25, 0.25, 0.25, 0.25, 0.25, 1.75], ['Starting_Point', '-4.0', '-3.0', '5.0', '-7.0', '7.0', '-2.0'], [0.5, 0.5, 0.5, 1.0, 0.5, 0.5, 0.5], [0.25, Fraction(1, 3), 0.25, 0.75, 0.25, 0.25, 1.75]]\n",
            "['no skills']\n",
            "[['Rest'], [4], [], [], []]\n",
            "['no skills']\n",
            "[['Rest'], [4], [], [], []]\n",
            "['no skills']\n",
            "[['Rest'], [4], [], [], []]\n",
            "['no skills']\n",
            "[['Rest'], [4], [], [], []]\n",
            "['no skills']\n",
            "[['Rest'], [4], [], [], []]\n",
            "['steping_twisting']\n",
            "[['Starting_Point', 'Rest', '0.0', 'Rest', '-1.0', 'Rest', '1.0', '-1.0', 'Rest'], [Fraction(2, 3), 0.3333333333333286, 0.5, 0.5, Fraction(1, 3), 0.1666666666666714, 0.25, Fraction(1, 3), 0.9166666666666714], ['Starting_Point', '0.0', '-1.0', '1.0', '-1.0'], [1.0, 1.0, 0.5, 0.25, 1.25], [Fraction(2, 3), 0.5, Fraction(1, 3), 0.25, Fraction(1, 3)]]\n",
            "['up_steping', 'steping_twisting', 'triplet']\n",
            "[['Starting_Point', 'Rest', '1.0', '-1.0', 'Rest', '-4.0', 'Rest', '2.0', 'Rest', '0.0', '2.0', 'Rest'], [0.25, 0.25, 0.25, 0.25, 0.3333333333333286, 0.25, 0.1666666666666714, 1.0, 0.75, 0.25, 0.125, 0.125], ['Starting_Point', '1.0', '-1.0', '-4.0', '2.0', '0.0', '2.0'], [0.5, 0.25, 0.5833333333333286, 0.4166666666666714, 1.75, 0.25, 0.25], [0.25, 0.25, 0.25, 0.25, 1.0, 0.25, 0.125]]\n",
            "['steping_twisting', 'triplet']\n",
            "[['Starting_Point', 'Rest', '0.0', 'Rest', '-1.0', 'Rest', '1.0', '-1.0', 'Rest', '-2.0', '-2.0'], [0.75, 0.25, Fraction(2, 3), 0.3333333333333286, 0.25, 0.25, 0.25, 0.25, 0.3333333333333286, Fraction(1, 3), 2.0], ['Starting_Point', '0.0', '-1.0', '1.0', '-1.0', '-2.0', '-2.0'], [1.0, 1.0, 0.5, 0.25, 0.5833333333333286, 0.4166666666666714, 0.25], [0.75, Fraction(2, 3), 0.25, 0.25, 0.25, Fraction(1, 3), 2.0]]\n",
            "['no skills']\n",
            "[['Rest'], [4], [], [], []]\n",
            "['up_steping']\n",
            "[['Starting_Point', 'Rest', '0.0', 'Rest', '2.0', 'Rest', '2.0', '-2.0', 'Rest'], [0.5, 0.5, Fraction(2, 3), 0.3333333333333428, 0.25, 0.25, 0.125, 0.25, 1.125], ['Starting_Point', '0.0', '2.0', '2.0', '-2.0'], [1.0, 1.0, 0.5, 0.25, 1.25], [0.5, Fraction(2, 3), 0.25, 0.125, 0.25]]\n",
            "['steping_twisting', 'triplet']\n",
            "[['Starting_Point', 'Rest', '2.0', '-2.0', 'Rest', '-3.0', 'Rest', '1.0', 'Rest', '-5.0', '2.0'], [0.25, 0.25, 0.125, 0.25, 0.4583333333333428, 0.25, 0.1666666666666572, Fraction(4, 3), 0.4166666666666572, 0.25, 0.125], ['Starting_Point', '2.0', '-2.0', '-3.0', '1.0', '-5.0', '2.0'], [0.5, 0.25, 0.5833333333333428, 0.4166666666666572, 1.75, 0.25, 0.25], [0.25, 0.125, 0.25, 0.25, Fraction(4, 3), 0.25, 0.125]]\n",
            "['triplet']\n",
            "[['Starting_Point', 'Rest', '4.0', '-2.0', 'Rest', '-2.0', 'Rest', '2.0', 'Rest', '2.0', '-2.0', 'Rest', '-2.0', 'Rest'], [0.25, 0.25, 0.25, 0.25, 0.3333333333333428, 0.25, 0.4166666666666572, 0.25, 0.25, 0.125, 0.25, 0.4583333333333428, 0.25, 0.4166666666666572], ['Starting_Point', '4.0', '-2.0', '-2.0', '2.0', '2.0', '-2.0', '-2.0'], [0.5, 0.25, 0.5833333333333428, 0.6666666666666572, 0.5, 0.25, 0.5833333333333428, 0.6666666666666572], [0.25, 0.25, 0.25, 0.25, 0.25, 0.125, 0.25, 0.25]]\n",
            "['up_steping', 'triplet', 'staccato']\n",
            "[['Starting_Point', 'Rest', '-5.0', '2.0', '3.0', 'Rest', '2.0'], [Fraction(5, 3), 1.3333333333333428, 0.25, 0.125, 0.125, 0.25, 0.125], ['Starting_Point', '-5.0', '2.0', '3.0', '2.0'], [3.0, 0.3333333333333428, 0.1666666666666572, 0.25, 0.25], [Fraction(5, 3), 0.25, 0.125, 0.125, 0.125]]\n",
            "['up_leaping', 'down_leaping', 'leaping_twisting']\n",
            "[['Starting_Point', 'Rest', '-4.0', 'Rest', '-3.0', 'Rest', '5.0', 'Rest'], [0.25, 0.25, Fraction(1, 3), 0.1666666666666572, Fraction(1, 3), 0.1666666666666572, 1.5, 1.0], ['Starting_Point', '-4.0', '-3.0', '5.0'], [0.5, 0.5, 0.5, 2.5], [0.25, Fraction(1, 3), Fraction(1, 3), 1.5]]\n",
            "['triplet']\n",
            "[['Starting_Point', 'Rest', '-3.0', 'Rest', '-4.0', 'Rest', '5.0', 'Rest', '-5.0', '2.0', '3.0', 'Rest', '2.0'], [Fraction(1, 3), 0.1666666666666572, 0.25, 0.25, 0.25, 0.25, 1.25, 0.25, 0.25, 0.125, 0.125, 0.25, 0.25], ['Starting_Point', '-3.0', '-4.0', '5.0', '-5.0', '2.0', '3.0', '2.0'], [0.5, 0.5, 0.5, 1.5, 0.3333333333333428, 0.1666666666666572, 0.25, 0.25], [Fraction(1, 3), 0.25, 0.25, 1.25, 0.25, 0.125, 0.125, 0.25]]\n",
            "['leaping_twisting']\n",
            "[['Starting_Point', 'Rest', '-4.0', 'Rest', '-3.0', 'Rest', '5.0', 'Rest', '-7.0', 'Rest', '7.0', 'Rest', '2.0'], [0.25, 0.25, Fraction(1, 3), 0.1666666666666572, 0.25, 0.25, 0.75, 0.25, 0.25, 0.25, 0.25, 0.25, 1.75], ['Starting_Point', '-4.0', '-3.0', '5.0', '-7.0', '7.0', '2.0'], [0.5, 0.5, 0.5, 1.0, 0.5, 0.5, 0.5], [0.25, Fraction(1, 3), 0.25, 0.75, 0.25, 0.25, 1.75]]\n",
            "['up_steping', 'steping_twisting', 'triplet', 'staccato']\n",
            "[['Rest', 'Starting_Point', '2.0', '3.0', 'Rest', '2.0'], [3.0, 0.25, 0.125, 0.125, 0.25, 0.125], ['Starting_Point', '2.0', '3.0', '2.0'], [0.3333333333333428, 0.1666666666666572, 0.25, 0.25], [0.25, 0.125, 0.125, 0.125]]\n",
            "['up_leaping', 'down_leaping', 'leaping_twisting']\n",
            "[['Starting_Point', 'Rest', '-4.0', 'Rest', '-3.0', 'Rest', '5.0', 'Rest'], [0.25, 0.25, Fraction(1, 3), 0.1666666666666572, Fraction(1, 3), 0.1666666666666572, 1.5, 1.0], ['Starting_Point', '-4.0', '-3.0', '5.0'], [0.5, 0.5, 0.5, 2.5], [0.25, Fraction(1, 3), Fraction(1, 3), 1.5]]\n",
            "['triplet']\n",
            "[['Starting_Point', '-3.0', 'Rest', '-4.0', 'Rest', '5.0', 'Rest', '-5.0', '2.0', '3.0', 'Rest', '2.0'], [Fraction(1, 3), 0.25, 0.4166666666666572, 0.25, 0.25, 1.25, 0.25, 0.25, 0.125, 0.125, 0.25, 0.25], ['Starting_Point', '-3.0', '-4.0', '5.0', '-5.0', '2.0', '3.0', '2.0'], [0.5, 0.5, 0.5, 1.5, 0.3333333333333428, 0.1666666666666572, 0.25, 0.25], [Fraction(1, 3), 0.25, 0.25, 1.25, 0.25, 0.125, 0.125, 0.25]]\n",
            "['leaping_twisting']\n",
            "[['Starting_Point', 'Rest', '-4.0', '-3.0', 'Rest', '5.0', 'Rest', '-7.0', 'Rest', '7.0', 'Rest', '-2.0'], [0.25, 0.25, Fraction(1, 3), 0.25, 0.4166666666666572, 0.75, 0.25, 0.25, 0.25, 0.25, 0.25, 1.75], ['Starting_Point', '-4.0', '-3.0', '5.0', '-7.0', '7.0', '-2.0'], [0.5, 0.5, 0.5, 1.0, 0.5, 0.5, 0.5], [0.25, Fraction(1, 3), 0.25, 0.75, 0.25, 0.25, 1.75]]\n",
            "['no skills']\n",
            "[['Rest'], [4], [], [], []]\n",
            "['no skills']\n",
            "[['Rest'], [4], [], [], []]\n",
            "['no skills']\n",
            "[['Rest'], [4], [], [], []]\n",
            "['no skills']\n",
            "[['Rest'], [4], [], [], []]\n",
            "['no skills']\n",
            "[['Rest'], [4], [], [], []]\n",
            "['no skills']\n",
            "[['Rest'], [4], [], [], []]\n",
            "['no skills']\n",
            "[['Rest'], [4], [], [], []]\n",
            "['no skills']\n",
            "[['Rest'], [4], [], [], []]\n",
            "['up_steping', 'steping_twisting', 'triplet', 'staccato']\n",
            "[['Rest', 'Starting_Point', '2.0', '3.0', 'Rest', '2.0'], [3.0, 0.25, 0.125, 0.125, 0.25, 0.125], ['Starting_Point', '2.0', '3.0', '2.0'], [0.3333333333333428, 0.1666666666666572, 0.25, 0.25], [0.25, 0.125, 0.125, 0.125]]\n",
            "['up_leaping', 'down_leaping', 'leaping_twisting']\n",
            "[['Starting_Point', 'Rest', '-4.0', '-3.0', 'Rest', '5.0', 'Rest'], [0.25, 0.25, Fraction(1, 3), Fraction(1, 3), 0.3333333333333144, 1.5, 1.0], ['Starting_Point', '-4.0', '-3.0', '5.0'], [0.5, 0.5, 0.5, 2.5], [0.25, Fraction(1, 3), Fraction(1, 3), 1.5]]\n",
            "['triplet']\n",
            "[['Starting_Point', '-3.0', 'Rest', '-4.0', 'Rest', '5.0', 'Rest', '-5.0', '2.0', '3.0', 'Rest', '2.0'], [Fraction(1, 3), 0.25, 0.4166666666666572, 0.25, 0.25, 1.25, 0.25, 0.25, 0.125, 0.125, 0.25, 0.25], ['Starting_Point', '-3.0', '-4.0', '5.0', '-5.0', '2.0', '3.0', '2.0'], [0.5, 0.5, 0.5, 1.5, 0.3333333333333428, 0.1666666666666572, 0.25, 0.25], [Fraction(1, 3), 0.25, 0.25, 1.25, 0.25, 0.125, 0.125, 0.25]]\n",
            "['leaping_twisting']\n",
            "[['Starting_Point', 'Rest', '-4.0', '-3.0', 'Rest', '5.0', 'Rest', '-7.0', 'Rest', '7.0', 'Rest', '2.0'], [0.25, 0.25, Fraction(1, 3), 0.25, 0.4166666666666572, 0.75, 0.25, 0.25, 0.25, 0.25, 0.25, 1.75], ['Starting_Point', '-4.0', '-3.0', '5.0', '-7.0', '7.0', '2.0'], [0.5, 0.5, 0.5, 1.0, 0.5, 0.5, 0.5], [0.25, Fraction(1, 3), 0.25, 0.75, 0.25, 0.25, 1.75]]\n",
            "['up_steping', 'steping_twisting', 'triplet', 'staccato']\n",
            "[['Rest', 'Starting_Point', '2.0', '3.0', 'Rest', '2.0'], [3.0, 0.25, 0.125, 0.125, 0.25, 0.125], ['Starting_Point', '2.0', '3.0', '2.0'], [0.3333333333333428, 0.1666666666666572, 0.25, 0.25], [0.25, 0.125, 0.125, 0.125]]\n",
            "['up_leaping', 'down_leaping', 'leaping_twisting']\n",
            "[['Starting_Point', 'Rest', '-4.0', '-3.0', 'Rest', '5.0', 'Rest'], [0.25, 0.25, Fraction(1, 3), Fraction(1, 3), 0.3333333333333144, 1.5, 1.0], ['Starting_Point', '-4.0', '-3.0', '5.0'], [0.5, 0.5, 0.5, 2.5], [0.25, Fraction(1, 3), Fraction(1, 3), 1.5]]\n",
            "['triplet']\n",
            "[['Starting_Point', '-3.0', 'Rest', '-4.0', 'Rest', '5.0', 'Rest', '-5.0', '2.0', '3.0', 'Rest', '2.0'], [Fraction(1, 3), 0.25, 0.4166666666666572, 0.25, 0.25, 1.25, 0.25, 0.25, 0.125, 0.125, 0.25, 0.25], ['Starting_Point', '-3.0', '-4.0', '5.0', '-5.0', '2.0', '3.0', '2.0'], [0.5, 0.5, 0.5, 1.5, 0.3333333333333428, 0.1666666666666572, 0.25, 0.25], [Fraction(1, 3), 0.25, 0.25, 1.25, 0.25, 0.125, 0.125, 0.25]]\n",
            "['leaping_twisting']\n",
            "[['Starting_Point', 'Rest', '-4.0', '-3.0', 'Rest', '5.0', 'Rest', '-7.0', 'Rest', '7.0', 'Rest', '-2.0'], [0.25, 0.25, Fraction(1, 3), 0.25, 0.4166666666666572, 0.75, 0.25, 0.25, 0.25, 0.25, 0.25, 1.75], ['Starting_Point', '-4.0', '-3.0', '5.0', '-7.0', '7.0', '-2.0'], [0.5, 0.5, 0.5, 1.0, 0.5, 0.5, 0.5], [0.25, Fraction(1, 3), 0.25, 0.75, 0.25, 0.25, 1.75]]\n",
            "['no skills']\n",
            "[['Rest'], [4], [], [], []]\n",
            "['no skills']\n",
            "[['Rest'], [4], [], [], []]\n",
            "['no skills']\n",
            "[['Rest'], [4], [], [], []]\n",
            "['no skills']\n",
            "[['Rest'], [4], [], [], []]\n"
          ],
          "name": "stdout"
        }
      ]
    },
    {
      "cell_type": "code",
      "metadata": {
        "id": "-eCyCmgXzbSr",
        "colab": {
          "base_uri": "https://localhost:8080/",
          "height": 366
        },
        "outputId": "860a1608-14d5-49ad-f68f-59777477aa60"
      },
      "source": [
        "#Summary\n",
        "print(bar_contour_list[0][0])\n",
        "print(bar_label_list[0][0])\n",
        "print(bar_list[0][0])\n",
        "\n",
        "H=bar_matrix_list3[0][3]\n",
        "fig = plt.figure(figsize=(6, 3.2))\n",
        "ax = fig.add_subplot(111)\n",
        "ax.set_title('colorMap')\n",
        "plt.imshow(H)\n",
        "ax.set_aspect('equal')\n",
        "\n",
        "cax = fig.add_axes([0.12, 0.1, 0.78, 0.8])\n",
        "cax.get_xaxis().set_visible(False)\n",
        "cax.get_yaxis().set_visible(False)\n",
        "cax.patch.set_alpha(0)\n",
        "cax.set_frame_on(False)\n",
        "plt.colorbar(orientation='vertical')\n",
        "plt.show()"
      ],
      "execution_count": null,
      "outputs": [
        {
          "output_type": "stream",
          "text": [
            "[['Rest', 'Starting_Point', 'Rest', '2.0', 'Rest', '3.0', 'Rest', '2.0', 'Rest'], [3.0, 0.25, 0.08333333333333215, 0.125, 0.04166666666666785, 0.125, 0.125, 0.125, 0.125], ['Starting_Point', '2.0', '3.0', '2.0'], [0.33333333333333215, 0.16666666666666785, 0.25, 0.25], [0.25, 0.125, 0.125, 0.125]]\n",
            "['up_steping', 'steping_twisting', 'triplet', 'staccato']\n",
            "[[19.0 61.0 61.0 0.25 0]\n",
            " [19.333333333333332 63.0 63.0 0.125 0]\n",
            " [19.5 66.0 66.0 0.125 0]\n",
            " [19.75 68.0 68.0 0.125 0]]\n"
          ],
          "name": "stdout"
        },
        {
          "output_type": "display_data",
          "data": {
            "image/png": "[encoded data removed]",
            "text/plain": [
              "<Figure size 432x230.4 with 3 Axes>"
            ]
          },
          "metadata": {
            "tags": [],
            "image/png": {
              "width": 333,
              "height": 220
            },
            "needs_background": "light"
          }
        }
      ]
    },
    {
      "cell_type": "markdown",
      "metadata": {
        "id": "JTf8MW9ax5ae"
      },
      "source": [
        "Implementation of models in FLAGNet.\n",
        "Model Loading only code is in end of model implementation.\n",
        "If you use pre-trained model, then running codes below the text 'Implementation of RNN'\n",
        "RNN model loading is not working.."
      ]
    },
    {
      "cell_type": "code",
      "metadata": {
        "id": "ndQru9Cv1XIs"
      },
      "source": [
        "all_matrix=[]\n",
        "all_labels=[]\n",
        "all_updown_labels=[]\n",
        "for songs in bar_label_list:\n",
        "  for label in songs:\n",
        "    label=np.array(label)\n",
        "    all_labels.append(label)\n",
        "for songs in bar_matrix_list3:\n",
        "  for matrix in songs:\n",
        "    matrix=matrix.reshape(24,Minimum_time,1)\n",
        "    all_matrix.append(matrix)\n",
        "for songs in bar_updown_list:\n",
        "  for label in songs:\n",
        "    all_updown_labels.append(label)\n"
      ],
      "execution_count": null,
      "outputs": []
    },
    {
      "cell_type": "code",
      "metadata": {
        "id": "cLD6jvcH2thx",
        "colab": {
          "base_uri": "https://localhost:8080/"
        },
        "outputId": "f26de8cd-eef2-4449-c034-72ed049d5dfe"
      },
      "source": [
        "print(len(all_matrix),len(all_labels),len(all_updown_labels))"
      ],
      "execution_count": null,
      "outputs": [
        {
          "output_type": "stream",
          "text": [
            "41716 41716 41716\n"
          ],
          "name": "stdout"
        }
      ]
    },
    {
      "cell_type": "code",
      "metadata": {
        "id": "KxnqzorC35O4",
        "colab": {
          "base_uri": "https://localhost:8080/"
        },
        "outputId": "51fcbf54-6bf6-48ef-9de6-cd705b00f14f"
      },
      "source": [
        "import keras.backend.tensorflow_backend as tfback\n",
        "from tensorflow.python.client import device_lib\n",
        "def _get_available_gpus():\n",
        "  if tfback._LOCAL_DEVICES is None:\n",
        "    devices = device_lib.list_local_devices()\n",
        "    tfback._LOCAL_DEVICES = [x.name for x in devices]\n",
        "  return [x for x in tfback._LOCAL_DEVICES if 'device:gpu' in x.lower()]\n",
        "tfback._get_available_gpus = _get_available_gpus\n",
        "tfback._get_available_gpus()"
      ],
      "execution_count": null,
      "outputs": [
        {
          "output_type": "execute_result",
          "data": {
            "text/plain": [
              "['/device:GPU:0']"
            ]
          },
          "metadata": {
            "tags": []
          },
          "execution_count": 28
        }
      ]
    },
    {
      "cell_type": "code",
      "metadata": {
        "id": "Mt2exWUggwA9",
        "colab": {
          "base_uri": "https://localhost:8080/"
        },
        "outputId": "623cb98b-3da2-4ecd-f0e0-e54499a0443d"
      },
      "source": [
        "from sklearn.preprocessing import MultiLabelBinarizer\n",
        "train_matrix=np.array(all_matrix[:int(len(all_matrix)*0.85)])\n",
        "train_label=np.array(all_labels[:int(len(all_matrix)*0.85)])"
      ],
      "execution_count": null,
      "outputs": [
        {
          "output_type": "stream",
          "text": [
            "/usr/local/lib/python3.7/dist-packages/ipykernel_launcher.py:3: VisibleDeprecationWarning: Creating an ndarray from ragged nested sequences (which is a list-or-tuple of lists-or-tuples-or ndarrays with different lengths or shapes) is deprecated. If you meant to do this, you must specify 'dtype=object' when creating the ndarray\n",
            "  This is separate from the ipykernel package so we can avoid doing imports until\n"
          ],
          "name": "stderr"
        }
      ]
    },
    {
      "cell_type": "code",
      "metadata": {
        "id": "sc4SuOnd9wC7"
      },
      "source": [
        "# Since label which has both 'up_steping' and 'down_steping' is impossible, setting label against with these impossible cases to improve classifier's performance.\n",
        "def set_labels():\n",
        "  labels=[]\n",
        "  label_tuple=[]\n",
        "  skills_pitch=['repeating','up_steping','down_steping','up_leaping','down_leaping','steping_twisting','leaping_twisting','dummy']\n",
        "  skills_timing=['fast_rhythm','dummy']\n",
        "  skills_triplet=['triplet','dummy']\n",
        "  skills_one_rhythm=['One_rhythm','dummy']\n",
        "  skills_staccato=['staccato','continuing_rhythm','dummy']\n",
        "  for pitch in skills_pitch:\n",
        "    for timing in skills_timing:\n",
        "      for triplet in skills_triplet:\n",
        "        for one_rhythm in skills_one_rhythm:\n",
        "          for staccato in skills_staccato:\n",
        "            label_tuple=[]\n",
        "            if pitch is not 'dummy':\n",
        "              label_tuple.append(pitch)\n",
        "            if timing is not 'dummy':\n",
        "              label_tuple.append(timing)\n",
        "            if triplet is not 'dummy':\n",
        "              label_tuple.append(triplet)\n",
        "            if one_rhythm is not 'dummy':\n",
        "              label_tuple.append(one_rhythm)\n",
        "            if staccato is not 'dummy':\n",
        "              label_tuple.append(staccato)\n",
        "            if len(label_tuple)==0:\n",
        "              label_tuple.append('no skills') # no skills label is used for training classifier and generator, but not used for real generation.\n",
        "            label_tuple=tuple(label_tuple)\n",
        "            \n",
        "            labels.append(label_tuple)\n",
        "  \n",
        "  return labels\n",
        "label=set_labels()"
      ],
      "execution_count": null,
      "outputs": []
    },
    {
      "cell_type": "code",
      "metadata": {
        "id": "93yFDiw86QyN",
        "colab": {
          "base_uri": "https://localhost:8080/"
        },
        "outputId": "f7219959-0b2c-4411-f139-d6c38c3abdb3"
      },
      "source": [
        "valid_matrix=np.array(all_matrix[int(len(all_matrix)*0.85):int(len(all_matrix)*0.95)])\n",
        "valid_label=np.array(all_labels[int(len(all_matrix)*0.85):int(len(all_matrix)*0.95)])\n",
        "test_matrix=np.array(all_matrix[int(len(all_matrix)*0.95):])\n",
        "test_label=np.array(all_labels[int(len(all_matrix)*0.95):])#Maybe can used in implementation..\n",
        "mlb=MultiLabelBinarizer()\n",
        "labels=set_labels()\n",
        "mlb.fit(labels)\n",
        "train_label2=mlb.transform(train_label)\n",
        "valid_label2=mlb.transform(valid_label)\n",
        "test_label2=mlb.transform(test_label)\n"
      ],
      "execution_count": null,
      "outputs": [
        {
          "output_type": "stream",
          "text": [
            "/usr/local/lib/python3.7/dist-packages/ipykernel_launcher.py:2: VisibleDeprecationWarning: Creating an ndarray from ragged nested sequences (which is a list-or-tuple of lists-or-tuples-or ndarrays with different lengths or shapes) is deprecated. If you meant to do this, you must specify 'dtype=object' when creating the ndarray\n",
            "  \n",
            "/usr/local/lib/python3.7/dist-packages/ipykernel_launcher.py:4: VisibleDeprecationWarning: Creating an ndarray from ragged nested sequences (which is a list-or-tuple of lists-or-tuples-or ndarrays with different lengths or shapes) is deprecated. If you meant to do this, you must specify 'dtype=object' when creating the ndarray\n",
            "  after removing the cwd from sys.path.\n"
          ],
          "name": "stderr"
        }
      ]
    },
    {
      "cell_type": "code",
      "metadata": {
        "id": "BPUsl9deYgNl",
        "colab": {
          "base_uri": "https://localhost:8080/"
        },
        "outputId": "b6368be8-b585-4651-aee7-018af434c6a6"
      },
      "source": [
        "print(train_label2.shape)"
      ],
      "execution_count": null,
      "outputs": [
        {
          "output_type": "stream",
          "text": [
            "(35458, 13)\n"
          ],
          "name": "stdout"
        }
      ]
    },
    {
      "cell_type": "code",
      "metadata": {
        "id": "3MoUdnPf62cX"
      },
      "source": [
        "from sklearn.preprocessing import LabelBinarizer\n",
        "updownle=LabelBinarizer()\n",
        "updownle.fit(['up','down','final','meanless'])\n",
        "updown_label=updownle.transform(np.array(all_updown_labels))"
      ],
      "execution_count": null,
      "outputs": []
    },
    {
      "cell_type": "code",
      "metadata": {
        "id": "GfUeYxwX8eVM"
      },
      "source": [
        "train_updown_label=updown_label[:int(len(all_matrix)*0.85)]\n",
        "valid_updown_label=updown_label[int(len(all_matrix)*0.85):int(len(all_matrix)*0.95)]\n",
        "test_updown_label=updown_label[int(len(all_matrix)*0.95):]"
      ],
      "execution_count": null,
      "outputs": []
    },
    {
      "cell_type": "code",
      "metadata": {
        "id": "Rb3xLrR99Rk8",
        "colab": {
          "base_uri": "https://localhost:8080/"
        },
        "outputId": "dea29c7e-c0d5-4c15-e6cb-f1775450bacd"
      },
      "source": [
        "print(train_matrix.shape)\n",
        "print(train_label2)\n",
        "print(valid_matrix.shape)"
      ],
      "execution_count": null,
      "outputs": [
        {
          "output_type": "stream",
          "text": [
            "(35458, 24, 16, 1)\n",
            "[[0 0 0 ... 1 0 1]\n",
            " [0 0 1 ... 0 1 0]\n",
            " [0 0 0 ... 1 0 0]\n",
            " ...\n",
            " [0 0 0 ... 0 0 0]\n",
            " [0 0 0 ... 1 0 1]\n",
            " [0 0 0 ... 1 0 0]]\n",
            "(4172, 24, 16, 1)\n"
          ],
          "name": "stdout"
        }
      ]
    },
    {
      "cell_type": "code",
      "metadata": {
        "id": "LkGYxpDB8ky9"
      },
      "source": [
        "import keras.applications\n",
        "from keras import regularizers\n",
        "from keras.applications import VGG16\n",
        "from keras.applications import resnet50\n",
        "from keras import layers\n",
        "from tensorflow import keras\n",
        "def residual_block(filter, input, add=True):\n",
        "  with tf.device('/gpu:0'):\n",
        "    layer_1 = keras.layers.Conv2D(filters=filter//4, kernel_size=(1, 1), data_format=\"channels_first\")(input)\n",
        "    layer_2 = keras.layers.Conv2D(filters=filter//4, kernel_size=(3, 3), padding='same', data_format=\"channels_first\", kernel_regularizer=keras.regularizers.l2(0.001))(layer_1)\n",
        "    layer_2 = keras.layers.BatchNormalization()(layer_2)\n",
        "    layer_2 = keras.layers.ReLU()(layer_2)\n",
        "    layer_3 = keras.layers.Conv2D(filters=filter, kernel_size=(1, 1), data_format=\"channels_first\")(layer_2)\n",
        "    layer_3 = keras.layers.BatchNormalization()(layer_3)\n",
        "    if add:\n",
        "        layer_3 = keras.layers.add([input, layer_3])\n",
        "    layer_3 = keras.layers.ReLU()(layer_3)\n",
        "    return layer_3\n",
        "def make_model(minimum_time):\n",
        "  with tf.device('/gpu:0'):\n",
        "    input_layer = keras.Input(shape=(24, minimum_time, 1))\n",
        "    layer_1 = keras.layers.Conv2D(filters=64, kernel_size=(7, 7), padding='same', data_format=\"channels_first\")(input_layer)\n",
        "    block_1 = residual_block(64, layer_1)\n",
        "    #block_2 = residual_block(64, block_1)\n",
        "    #block_3 = residual_block(64, block_2)\n",
        "    pooling_layer = keras.layers.MaxPool2D((2, 2),padding='same', data_format=\"channels_first\")(block_1)\n",
        "    block_4 = residual_block(128, pooling_layer, add=False)\n",
        "    block_5 = residual_block(128, block_4)\n",
        "    #block_6 = residual_block(128, block_5)\n",
        "    pooling_layer2 = keras.layers.MaxPool2D(padding='same',pool_size=(2, 2), data_format=\"channels_first\")(block_4)\n",
        "    block_7 = residual_block(256, pooling_layer2, add=False)\n",
        "    block_8 = residual_block(256, block_7)\n",
        "    block_9 = residual_block(256, block_8)\n",
        "    #pooling_layer4 = keras.layers.MaxPool2D(pool_size=(2, 2), data_format=\"channels_first\")(block_7)\n",
        "    #block_10 = residual_block(256, pooling_layer4)\n",
        "    #block_11 = residual_block(512, block_10)\n",
        "    pooling_layer3 = keras.layers.AvgPool2D(padding='same',pool_size=(8, 8), data_format=\"channels_first\")(block_7)\n",
        "    last_layer = keras.layers.Flatten()(pooling_layer3)\n",
        "    last_layer = keras.layers.Dropout(0.4)(last_layer)\n",
        "    last_layer = keras.layers.Dense(13, activation=\"sigmoid\")(last_layer)\n",
        "    return keras.models.Model(inputs=input_layer, outputs=last_layer)\n",
        "def make_classifier(minimum_time):\n",
        "  with tf.device('/gpu:0'):\n",
        "    classifier = keras.Sequential()\n",
        "    classifier.add(keras.layers.Conv2D(128, kernel_size=(5, 5), strides=(1, 1), padding='same',\n",
        "                  activation='relu',\n",
        "                  input_shape=(24,minimum_time,1)))\n",
        "    classifier.add(keras.layers.BatchNormalization())\n",
        "    classifier.add(keras.layers.LeakyReLU(alpha=0.01))\n",
        "    classifier.add(keras.layers.Conv2D(128, (2, 2), activation='relu', padding='same'))\n",
        "    classifier.add(keras.layers.MaxPooling2D(pool_size=(2, 2), strides=(2, 2)))\n",
        "    classifier.add(keras.layers.Conv2D(256, (2, 2), padding='same'))\n",
        "    classifier.add(keras.layers.LeakyReLU(alpha=0.01))\n",
        "    classifier.add(keras.layers.MaxPooling2D(pool_size=(2, 2)))\n",
        "    classifier.add(keras.layers.Flatten())\n",
        "    classifier.add(keras.layers.Dropout(0.25))\n",
        "    classifier.add(keras.layers.Dense(4, activation='sigmoid'))\n",
        "  return classifier"
      ],
      "execution_count": null,
      "outputs": []
    },
    {
      "cell_type": "code",
      "metadata": {
        "id": "zn-X5lReh2ok"
      },
      "source": [
        "from keras.callbacks import EarlyStopping, ReduceLROnPlateau, ModelCheckpoint\n",
        "model_path = '/content/drive/My Drive/MARG/models/' + 'deeperppddbest.h5'\n",
        "\n",
        "cb_checkpoint = ModelCheckpoint(filepath=model_path, monitor='val_acc',\n",
        "                                verbose=1, save_best_only=True)\n",
        "callbacks = [cb_checkpoint]\n",
        "\n",
        "model_path = '/content/drive/My Drive/MARG/models/' + 'updown.h5'\n",
        "\n",
        "cb_checkpoint = ModelCheckpoint(filepath=model_path, monitor='val_acc',\n",
        "                                verbose=1, save_best_only=True)\n",
        "updown_callbacks=[cb_checkpoint]\n",
        "#tf.keras(make_model) : monitor='val_acc', keras(make_classifier) : monitor='val_accuracy'"
      ],
      "execution_count": null,
      "outputs": []
    },
    {
      "cell_type": "markdown",
      "metadata": {
        "id": "TWr3MT13qAWJ"
      },
      "source": [
        ""
      ]
    },
    {
      "cell_type": "code",
      "metadata": {
        "id": "uf1jJnIxemG0"
      },
      "source": [
        "from keras import backend as K\n",
        "import tensorflow as tf\n",
        "def recall(y_target, y_pred):\n",
        "    y_target_yn = K.round(K.clip(y_target, 0, 1))\n",
        "    y_pred_yn = K.round(K.clip(y_pred, 0, 1))\n",
        "    count_true_positive = K.sum(y_target_yn * y_pred_yn) \n",
        "    count_true_positive_false_negative = K.sum(y_target_yn)\n",
        "    recall = count_true_positive / (count_true_positive_false_negative + K.epsilon())\n",
        "    # return a single tensor value\n",
        "    return recall\n",
        "\n",
        "\n",
        "def precision(y_target, y_pred):\n",
        "    y_pred_yn = K.round(K.clip(y_pred, 0, 1))\n",
        "    y_target_yn = K.round(K.clip(y_target, 0, 1))\n",
        "    count_true_positive = K.sum(y_target_yn * y_pred_yn) \n",
        "    count_true_positive_false_positive = K.sum(y_pred_yn)\n",
        "    # Precision = (True Positive) / (True Positive + False Positive)\n",
        "    precision = count_true_positive / (count_true_positive_false_positive + K.epsilon())\n",
        "\n",
        "    # return a single tensor value\n",
        "    return precision\n",
        "\n",
        "\n",
        "def f1score(y_target, y_pred):\n",
        "    _recall = recall(y_target, y_pred)\n",
        "    _precision = precision(y_target, y_pred)\n",
        "    _f1score = ( 2 * _recall * _precision) / (_recall + _precision+ K.epsilon())\n",
        "    \n",
        "    # return a single tensor value\n",
        "    return _f1score\n"
      ],
      "execution_count": null,
      "outputs": []
    },
    {
      "cell_type": "code",
      "metadata": {
        "id": "V2Nx8Ygs-I6_",
        "colab": {
          "base_uri": "https://localhost:8080/"
        },
        "outputId": "3c6b73b2-a832-4810-b67c-272c0491d4e2"
      },
      "source": [
        "from tensorflow import keras\n",
        "classifier=make_model(Minimum_time)\n",
        "classifier.compile(loss=keras.losses.BinaryCrossentropy(\n",
        "      from_logits=False, label_smoothing=0.1, \n",
        "      name='binary_crossentropy'\n",
        "  ), optimizer='adam', metrics=['accuracy',recall,precision,f1score])\n",
        "\n",
        "hist=classifier.fit(\n",
        "      train_matrix,train_label2,batch_size=256,\n",
        "      epochs=50,\n",
        "      validation_data=(valid_matrix,valid_label2),\n",
        "      callbacks=callbacks,\n",
        "      class_weight='balanced'\n",
        "  )\n",
        "\n",
        "#Training\n"
      ],
      "execution_count": null,
      "outputs": [
        {
          "output_type": "stream",
          "text": [
            "WARNING:tensorflow:From /usr/local/lib/python3.7/dist-packages/tensorflow_core/python/ops/resource_variable_ops.py:1630: calling BaseResourceVariable.__init__ (from tensorflow.python.ops.resource_variable_ops) with constraint is deprecated and will be removed in a future version.\n",
            "Instructions for updating:\n",
            "If using Keras pass *_constraint arguments to layers.\n",
            "WARNING:tensorflow:From /usr/local/lib/python3.7/dist-packages/tensorflow_core/python/ops/nn_impl.py:183: where (from tensorflow.python.ops.array_ops) is deprecated and will be removed in a future version.\n",
            "Instructions for updating:\n",
            "Use tf.where in 2.0, which has the same broadcast rule as np.where\n",
            "Train on 35458 samples, validate on 4172 samples\n",
            "Epoch 1/50\n",
            "33792/35458 [===========================>..] - ETA: 0s - loss: 0.4413 - acc: 0.8868 - recall: 0.2276 - precision: 0.5756 - f1score: 0.3215\n",
            "Epoch 00001: val_acc improved from -inf to 0.85760, saving model to /content/drive/My Drive/MARG/models/deeperppddbest.h5\n",
            "35458/35458 [==============================] - 7s 186us/sample - loss: 0.4388 - acc: 0.8873 - recall: 0.2322 - precision: 0.5806 - f1score: 0.3269 - val_loss: 0.5065 - val_acc: 0.8576 - val_recall: 0.1820 - val_precision: 0.3175 - val_f1score: 0.2313\n",
            "Epoch 2/50\n",
            "34560/35458 [============================>.] - ETA: 0s - loss: 0.3735 - acc: 0.9024 - recall: 0.3375 - precision: 0.6740 - f1score: 0.4477\n",
            "Epoch 00002: val_acc improved from 0.85760 to 0.88386, saving model to /content/drive/My Drive/MARG/models/deeperppddbest.h5\n",
            "35458/35458 [==============================] - 1s 38us/sample - loss: 0.3732 - acc: 0.9024 - recall: 0.3377 - precision: 0.6736 - f1score: 0.4478 - val_loss: 0.4546 - val_acc: 0.8839 - val_recall: 0.1592 - val_precision: 0.5270 - val_f1score: 0.2442\n",
            "Epoch 3/50\n",
            "35328/35458 [============================>.] - ETA: 0s - loss: 0.3564 - acc: 0.9083 - recall: 0.3891 - precision: 0.7027 - f1score: 0.4994\n",
            "Epoch 00003: val_acc improved from 0.88386 to 0.89387, saving model to /content/drive/My Drive/MARG/models/deeperppddbest.h5\n",
            "35458/35458 [==============================] - 1s 37us/sample - loss: 0.3563 - acc: 0.9084 - recall: 0.3893 - precision: 0.7025 - f1score: 0.4995 - val_loss: 0.4069 - val_acc: 0.8939 - val_recall: 0.1709 - val_precision: 0.7098 - val_f1score: 0.2751\n",
            "Epoch 4/50\n",
            "35328/35458 [============================>.] - ETA: 0s - loss: 0.3465 - acc: 0.9128 - recall: 0.4260 - precision: 0.7220 - f1score: 0.5342\n",
            "Epoch 00004: val_acc improved from 0.89387 to 0.90949, saving model to /content/drive/My Drive/MARG/models/deeperppddbest.h5\n",
            "35458/35458 [==============================] - 1s 37us/sample - loss: 0.3466 - acc: 0.9127 - recall: 0.4253 - precision: 0.7219 - f1score: 0.5335 - val_loss: 0.3611 - val_acc: 0.9095 - val_recall: 0.3248 - val_precision: 0.7733 - val_f1score: 0.4571\n",
            "Epoch 5/50\n",
            "34560/35458 [============================>.] - ETA: 0s - loss: 0.3392 - acc: 0.9163 - recall: 0.4564 - precision: 0.7347 - f1score: 0.5622\n",
            "Epoch 00005: val_acc improved from 0.90949 to 0.91550, saving model to /content/drive/My Drive/MARG/models/deeperppddbest.h5\n",
            "35458/35458 [==============================] - 1s 37us/sample - loss: 0.3392 - acc: 0.9163 - recall: 0.4567 - precision: 0.7345 - f1score: 0.5624 - val_loss: 0.3521 - val_acc: 0.9155 - val_recall: 0.4694 - val_precision: 0.7166 - val_f1score: 0.5668\n",
            "Epoch 6/50\n",
            "33792/35458 [===========================>..] - ETA: 0s - loss: 0.3349 - acc: 0.9190 - recall: 0.4832 - precision: 0.7406 - f1score: 0.5839\n",
            "Epoch 00006: val_acc improved from 0.91550 to 0.91834, saving model to /content/drive/My Drive/MARG/models/deeperppddbest.h5\n",
            "35458/35458 [==============================] - 1s 37us/sample - loss: 0.3347 - acc: 0.9191 - recall: 0.4832 - precision: 0.7416 - f1score: 0.5842 - val_loss: 0.3422 - val_acc: 0.9183 - val_recall: 0.5041 - val_precision: 0.7184 - val_f1score: 0.5922\n",
            "Epoch 7/50\n",
            "34048/35458 [===========================>..] - ETA: 0s - loss: 0.3296 - acc: 0.9219 - recall: 0.5087 - precision: 0.7495 - f1score: 0.6052\n",
            "Epoch 00007: val_acc did not improve from 0.91834\n",
            "35458/35458 [==============================] - 1s 33us/sample - loss: 0.3295 - acc: 0.9220 - recall: 0.5095 - precision: 0.7494 - f1score: 0.6058 - val_loss: 0.3401 - val_acc: 0.9178 - val_recall: 0.4678 - val_precision: 0.7359 - val_f1score: 0.5717\n",
            "Epoch 8/50\n",
            "33792/35458 [===========================>..] - ETA: 0s - loss: 0.3272 - acc: 0.9232 - recall: 0.5216 - precision: 0.7532 - f1score: 0.6154\n",
            "Epoch 00008: val_acc did not improve from 0.91834\n",
            "35458/35458 [==============================] - 1s 33us/sample - loss: 0.3272 - acc: 0.9233 - recall: 0.5213 - precision: 0.7535 - f1score: 0.6153 - val_loss: 0.3392 - val_acc: 0.9174 - val_recall: 0.4891 - val_precision: 0.7212 - val_f1score: 0.5823\n",
            "Epoch 9/50\n",
            "33792/35458 [===========================>..] - ETA: 0s - loss: 0.3235 - acc: 0.9259 - recall: 0.5422 - precision: 0.7615 - f1score: 0.6328\n",
            "Epoch 00009: val_acc improved from 0.91834 to 0.92238, saving model to /content/drive/My Drive/MARG/models/deeperppddbest.h5\n",
            "35458/35458 [==============================] - 1s 37us/sample - loss: 0.3237 - acc: 0.9259 - recall: 0.5419 - precision: 0.7611 - f1score: 0.6323 - val_loss: 0.3325 - val_acc: 0.9224 - val_recall: 0.5601 - val_precision: 0.7192 - val_f1score: 0.6294\n",
            "Epoch 10/50\n",
            "35072/35458 [============================>.] - ETA: 0s - loss: 0.3208 - acc: 0.9276 - recall: 0.5571 - precision: 0.7664 - f1score: 0.6444\n",
            "Epoch 00010: val_acc did not improve from 0.92238\n",
            "35458/35458 [==============================] - 1s 33us/sample - loss: 0.3208 - acc: 0.9276 - recall: 0.5566 - precision: 0.7665 - f1score: 0.6441 - val_loss: 0.3349 - val_acc: 0.9163 - val_recall: 0.4511 - val_precision: 0.7397 - val_f1score: 0.5600\n",
            "Epoch 11/50\n",
            "34816/35458 [============================>.] - ETA: 0s - loss: 0.3183 - acc: 0.9296 - recall: 0.5705 - precision: 0.7738 - f1score: 0.6562\n",
            "Epoch 00011: val_acc did not improve from 0.92238\n",
            "35458/35458 [==============================] - 1s 35us/sample - loss: 0.3182 - acc: 0.9296 - recall: 0.5707 - precision: 0.7742 - f1score: 0.6564 - val_loss: 0.3332 - val_acc: 0.9213 - val_recall: 0.5782 - val_precision: 0.6998 - val_f1score: 0.6330\n",
            "Epoch 12/50\n",
            "34304/35458 [============================>.] - ETA: 0s - loss: 0.3158 - acc: 0.9314 - recall: 0.5859 - precision: 0.7783 - f1score: 0.6680\n",
            "Epoch 00012: val_acc improved from 0.92238 to 0.92308, saving model to /content/drive/My Drive/MARG/models/deeperppddbest.h5\n",
            "35458/35458 [==============================] - 1s 38us/sample - loss: 0.3160 - acc: 0.9314 - recall: 0.5857 - precision: 0.7783 - f1score: 0.6678 - val_loss: 0.3293 - val_acc: 0.9231 - val_recall: 0.5663 - val_precision: 0.7252 - val_f1score: 0.6356\n",
            "Epoch 13/50\n",
            "34560/35458 [============================>.] - ETA: 0s - loss: 0.3139 - acc: 0.9332 - recall: 0.5968 - precision: 0.7861 - f1score: 0.6779\n",
            "Epoch 00013: val_acc did not improve from 0.92308\n",
            "35458/35458 [==============================] - 1s 34us/sample - loss: 0.3138 - acc: 0.9333 - recall: 0.5974 - precision: 0.7870 - f1score: 0.6787 - val_loss: 0.3337 - val_acc: 0.9207 - val_recall: 0.5607 - val_precision: 0.7040 - val_f1score: 0.6237\n",
            "Epoch 14/50\n",
            "35328/35458 [============================>.] - ETA: 0s - loss: 0.3112 - acc: 0.9349 - recall: 0.6088 - precision: 0.7913 - f1score: 0.6877\n",
            "Epoch 00014: val_acc did not improve from 0.92308\n",
            "35458/35458 [==============================] - 1s 34us/sample - loss: 0.3111 - acc: 0.9349 - recall: 0.6093 - precision: 0.7912 - f1score: 0.6880 - val_loss: 0.3330 - val_acc: 0.9217 - val_recall: 0.5639 - val_precision: 0.7110 - val_f1score: 0.6283\n",
            "Epoch 15/50\n",
            "35328/35458 [============================>.] - ETA: 0s - loss: 0.3097 - acc: 0.9364 - recall: 0.6184 - precision: 0.7971 - f1score: 0.6959\n",
            "Epoch 00015: val_acc did not improve from 0.92308\n",
            "35458/35458 [==============================] - 1s 34us/sample - loss: 0.3096 - acc: 0.9364 - recall: 0.6185 - precision: 0.7970 - f1score: 0.6960 - val_loss: 0.3371 - val_acc: 0.9177 - val_recall: 0.5116 - val_precision: 0.7086 - val_f1score: 0.5938\n",
            "Epoch 16/50\n",
            "34304/35458 [============================>.] - ETA: 0s - loss: 0.3077 - acc: 0.9375 - recall: 0.6281 - precision: 0.7995 - f1score: 0.7030\n",
            "Epoch 00016: val_acc did not improve from 0.92308\n",
            "35458/35458 [==============================] - 1s 35us/sample - loss: 0.3078 - acc: 0.9374 - recall: 0.6279 - precision: 0.7989 - f1score: 0.7027 - val_loss: 0.3355 - val_acc: 0.9193 - val_recall: 0.5225 - val_precision: 0.7164 - val_f1score: 0.6040\n",
            "Epoch 17/50\n",
            "35328/35458 [============================>.] - ETA: 0s - loss: 0.3062 - acc: 0.9388 - recall: 0.6347 - precision: 0.8054 - f1score: 0.7093\n",
            "Epoch 00017: val_acc did not improve from 0.92308\n",
            "35458/35458 [==============================] - 1s 35us/sample - loss: 0.3062 - acc: 0.9388 - recall: 0.6350 - precision: 0.8057 - f1score: 0.7097 - val_loss: 0.3377 - val_acc: 0.9217 - val_recall: 0.5740 - val_precision: 0.7076 - val_f1score: 0.6335\n",
            "Epoch 18/50\n",
            "35328/35458 [============================>.] - ETA: 0s - loss: 0.3043 - acc: 0.9406 - recall: 0.6482 - precision: 0.8111 - f1score: 0.7201\n",
            "Epoch 00018: val_acc did not improve from 0.92308\n",
            "35458/35458 [==============================] - 1s 34us/sample - loss: 0.3042 - acc: 0.9407 - recall: 0.6483 - precision: 0.8113 - f1score: 0.7203 - val_loss: 0.3380 - val_acc: 0.9184 - val_recall: 0.5394 - val_precision: 0.7021 - val_f1score: 0.6098\n",
            "Epoch 19/50\n",
            "33792/35458 [===========================>..] - ETA: 0s - loss: 0.3037 - acc: 0.9412 - recall: 0.6523 - precision: 0.8123 - f1score: 0.7231\n",
            "Epoch 00019: val_acc did not improve from 0.92308\n",
            "35458/35458 [==============================] - 1s 34us/sample - loss: 0.3036 - acc: 0.9412 - recall: 0.6524 - precision: 0.8126 - f1score: 0.7233 - val_loss: 0.3385 - val_acc: 0.9188 - val_recall: 0.5416 - val_precision: 0.6984 - val_f1score: 0.6098\n",
            "Epoch 20/50\n",
            "34304/35458 [============================>.] - ETA: 0s - loss: 0.3013 - acc: 0.9427 - recall: 0.6614 - precision: 0.8189 - f1score: 0.7314\n",
            "Epoch 00020: val_acc did not improve from 0.92308\n",
            "35458/35458 [==============================] - 1s 34us/sample - loss: 0.3013 - acc: 0.9427 - recall: 0.6615 - precision: 0.8187 - f1score: 0.7314 - val_loss: 0.3387 - val_acc: 0.9206 - val_recall: 0.5376 - val_precision: 0.7179 - val_f1score: 0.6145\n",
            "Epoch 21/50\n",
            "33792/35458 [===========================>..] - ETA: 0s - loss: 0.2997 - acc: 0.9441 - recall: 0.6711 - precision: 0.8235 - f1score: 0.7389\n",
            "Epoch 00021: val_acc did not improve from 0.92308\n",
            "35458/35458 [==============================] - 1s 33us/sample - loss: 0.2997 - acc: 0.9442 - recall: 0.6703 - precision: 0.8243 - f1score: 0.7387 - val_loss: 0.3402 - val_acc: 0.9166 - val_recall: 0.5271 - val_precision: 0.6918 - val_f1score: 0.5982\n",
            "Epoch 22/50\n",
            "35328/35458 [============================>.] - ETA: 0s - loss: 0.2981 - acc: 0.9455 - recall: 0.6769 - precision: 0.8298 - f1score: 0.7452\n",
            "Epoch 00022: val_acc did not improve from 0.92308\n",
            "35458/35458 [==============================] - 1s 33us/sample - loss: 0.2980 - acc: 0.9455 - recall: 0.6774 - precision: 0.8300 - f1score: 0.7456 - val_loss: 0.3408 - val_acc: 0.9216 - val_recall: 0.5564 - val_precision: 0.7149 - val_f1score: 0.6254\n",
            "Epoch 23/50\n",
            "34048/35458 [===========================>..] - ETA: 0s - loss: 0.2969 - acc: 0.9464 - recall: 0.6846 - precision: 0.8320 - f1score: 0.7506\n",
            "Epoch 00023: val_acc did not improve from 0.92308\n",
            "35458/35458 [==============================] - 1s 33us/sample - loss: 0.2971 - acc: 0.9463 - recall: 0.6838 - precision: 0.8314 - f1score: 0.7499 - val_loss: 0.3440 - val_acc: 0.9179 - val_recall: 0.5871 - val_precision: 0.6712 - val_f1score: 0.6261\n",
            "Epoch 24/50\n",
            "34304/35458 [============================>.] - ETA: 0s - loss: 0.2958 - acc: 0.9472 - recall: 0.6906 - precision: 0.8331 - f1score: 0.7548\n",
            "Epoch 00024: val_acc did not improve from 0.92308\n",
            "35458/35458 [==============================] - 1s 33us/sample - loss: 0.2959 - acc: 0.9471 - recall: 0.6897 - precision: 0.8331 - f1score: 0.7542 - val_loss: 0.3435 - val_acc: 0.9170 - val_recall: 0.5476 - val_precision: 0.6858 - val_f1score: 0.6085\n",
            "Epoch 25/50\n",
            "33792/35458 [===========================>..] - ETA: 0s - loss: 0.2946 - acc: 0.9482 - recall: 0.6949 - precision: 0.8385 - f1score: 0.7596\n",
            "Epoch 00025: val_acc did not improve from 0.92308\n",
            "35458/35458 [==============================] - 1s 33us/sample - loss: 0.2946 - acc: 0.9481 - recall: 0.6948 - precision: 0.8383 - f1score: 0.7594 - val_loss: 0.3484 - val_acc: 0.9158 - val_recall: 0.5534 - val_precision: 0.6717 - val_f1score: 0.6067\n",
            "Epoch 26/50\n",
            "33792/35458 [===========================>..] - ETA: 0s - loss: 0.2934 - acc: 0.9489 - recall: 0.7007 - precision: 0.8402 - f1score: 0.7638\n",
            "Epoch 00026: val_acc did not improve from 0.92308\n",
            "35458/35458 [==============================] - 1s 33us/sample - loss: 0.2933 - acc: 0.9490 - recall: 0.7013 - precision: 0.8404 - f1score: 0.7642 - val_loss: 0.3444 - val_acc: 0.9176 - val_recall: 0.5420 - val_precision: 0.6937 - val_f1score: 0.6082\n",
            "Epoch 27/50\n",
            "34304/35458 [============================>.] - ETA: 0s - loss: 0.2928 - acc: 0.9495 - recall: 0.7024 - precision: 0.8435 - f1score: 0.7661\n",
            "Epoch 00027: val_acc did not improve from 0.92308\n",
            "35458/35458 [==============================] - 1s 33us/sample - loss: 0.2929 - acc: 0.9495 - recall: 0.7023 - precision: 0.8437 - f1score: 0.7661 - val_loss: 0.3480 - val_acc: 0.9142 - val_recall: 0.5209 - val_precision: 0.6788 - val_f1score: 0.5891\n",
            "Epoch 28/50\n",
            "35328/35458 [============================>.] - ETA: 0s - loss: 0.2908 - acc: 0.9514 - recall: 0.7140 - precision: 0.8499 - f1score: 0.7757\n",
            "Epoch 00028: val_acc did not improve from 0.92308\n",
            "35458/35458 [==============================] - 1s 34us/sample - loss: 0.2908 - acc: 0.9514 - recall: 0.7136 - precision: 0.8501 - f1score: 0.7755 - val_loss: 0.3462 - val_acc: 0.9181 - val_recall: 0.5368 - val_precision: 0.6974 - val_f1score: 0.6063\n",
            "Epoch 29/50\n",
            "35328/35458 [============================>.] - ETA: 0s - loss: 0.2906 - acc: 0.9512 - recall: 0.7135 - precision: 0.8489 - f1score: 0.7749\n",
            "Epoch 00029: val_acc did not improve from 0.92308\n",
            "35458/35458 [==============================] - 1s 35us/sample - loss: 0.2906 - acc: 0.9512 - recall: 0.7137 - precision: 0.8488 - f1score: 0.7750 - val_loss: 0.3487 - val_acc: 0.9158 - val_recall: 0.5668 - val_precision: 0.6664 - val_f1score: 0.6123\n",
            "Epoch 30/50\n",
            "34816/35458 [============================>.] - ETA: 0s - loss: 0.2898 - acc: 0.9520 - recall: 0.7192 - precision: 0.8516 - f1score: 0.7795\n",
            "Epoch 00030: val_acc did not improve from 0.92308\n",
            "35458/35458 [==============================] - 1s 34us/sample - loss: 0.2900 - acc: 0.9519 - recall: 0.7180 - precision: 0.8512 - f1score: 0.7786 - val_loss: 0.3509 - val_acc: 0.9147 - val_recall: 0.5224 - val_precision: 0.6795 - val_f1score: 0.5904\n",
            "Epoch 31/50\n",
            "34816/35458 [============================>.] - ETA: 0s - loss: 0.2883 - acc: 0.9531 - recall: 0.7236 - precision: 0.8574 - f1score: 0.7844\n",
            "Epoch 00031: val_acc did not improve from 0.92308\n",
            "35458/35458 [==============================] - 1s 34us/sample - loss: 0.2882 - acc: 0.9532 - recall: 0.7241 - precision: 0.8574 - f1score: 0.7847 - val_loss: 0.3526 - val_acc: 0.9125 - val_recall: 0.5664 - val_precision: 0.6491 - val_f1score: 0.6048\n",
            "Epoch 32/50\n",
            "34304/35458 [============================>.] - ETA: 0s - loss: 0.2873 - acc: 0.9538 - recall: 0.7288 - precision: 0.8583 - f1score: 0.7880\n",
            "Epoch 00032: val_acc did not improve from 0.92308\n",
            "35458/35458 [==============================] - 1s 34us/sample - loss: 0.2875 - acc: 0.9537 - recall: 0.7282 - precision: 0.8579 - f1score: 0.7875 - val_loss: 0.3500 - val_acc: 0.9127 - val_recall: 0.5556 - val_precision: 0.6537 - val_f1score: 0.6005\n",
            "Epoch 33/50\n",
            "34560/35458 [============================>.] - ETA: 0s - loss: 0.2862 - acc: 0.9549 - recall: 0.7340 - precision: 0.8629 - f1score: 0.7930\n",
            "Epoch 00033: val_acc did not improve from 0.92308\n",
            "35458/35458 [==============================] - 1s 34us/sample - loss: 0.2863 - acc: 0.9548 - recall: 0.7336 - precision: 0.8627 - f1score: 0.7927 - val_loss: 0.3530 - val_acc: 0.9132 - val_recall: 0.5295 - val_precision: 0.6668 - val_f1score: 0.5898\n",
            "Epoch 34/50\n",
            "34304/35458 [============================>.] - ETA: 0s - loss: 0.2858 - acc: 0.9552 - recall: 0.7357 - precision: 0.8650 - f1score: 0.7948\n",
            "Epoch 00034: val_acc did not improve from 0.92308\n",
            "35458/35458 [==============================] - 1s 34us/sample - loss: 0.2859 - acc: 0.9552 - recall: 0.7358 - precision: 0.8646 - f1score: 0.7947 - val_loss: 0.3512 - val_acc: 0.9155 - val_recall: 0.5493 - val_precision: 0.6712 - val_f1score: 0.6040\n",
            "Epoch 35/50\n",
            "35328/35458 [============================>.] - ETA: 0s - loss: 0.2850 - acc: 0.9557 - recall: 0.7373 - precision: 0.8669 - f1score: 0.7966\n",
            "Epoch 00035: val_acc did not improve from 0.92308\n",
            "35458/35458 [==============================] - 1s 34us/sample - loss: 0.2850 - acc: 0.9557 - recall: 0.7376 - precision: 0.8668 - f1score: 0.7967 - val_loss: 0.3506 - val_acc: 0.9176 - val_recall: 0.5521 - val_precision: 0.6873 - val_f1score: 0.6120\n",
            "Epoch 36/50\n",
            "34560/35458 [============================>.] - ETA: 0s - loss: 0.2834 - acc: 0.9570 - recall: 0.7471 - precision: 0.8703 - f1score: 0.8037\n",
            "Epoch 00036: val_acc did not improve from 0.92308\n",
            "35458/35458 [==============================] - 1s 35us/sample - loss: 0.2835 - acc: 0.9570 - recall: 0.7468 - precision: 0.8701 - f1score: 0.8035 - val_loss: 0.3534 - val_acc: 0.9168 - val_recall: 0.5867 - val_precision: 0.6692 - val_f1score: 0.6249\n",
            "Epoch 37/50\n",
            "33792/35458 [===========================>..] - ETA: 0s - loss: 0.2837 - acc: 0.9569 - recall: 0.7452 - precision: 0.8712 - f1score: 0.8029\n",
            "Epoch 00037: val_acc did not improve from 0.92308\n",
            "35458/35458 [==============================] - 1s 35us/sample - loss: 0.2838 - acc: 0.9569 - recall: 0.7447 - precision: 0.8711 - f1score: 0.8026 - val_loss: 0.3560 - val_acc: 0.9169 - val_recall: 0.6070 - val_precision: 0.6635 - val_f1score: 0.6337\n",
            "Epoch 38/50\n",
            "34560/35458 [============================>.] - ETA: 0s - loss: 0.2825 - acc: 0.9575 - recall: 0.7501 - precision: 0.8724 - f1score: 0.8064\n",
            "Epoch 00038: val_acc did not improve from 0.92308\n",
            "35458/35458 [==============================] - 1s 35us/sample - loss: 0.2826 - acc: 0.9575 - recall: 0.7495 - precision: 0.8721 - f1score: 0.8058 - val_loss: 0.3520 - val_acc: 0.9163 - val_recall: 0.5666 - val_precision: 0.6707 - val_f1score: 0.6139\n",
            "Epoch 39/50\n",
            "34816/35458 [============================>.] - ETA: 0s - loss: 0.2826 - acc: 0.9577 - recall: 0.7514 - precision: 0.8729 - f1score: 0.8073\n",
            "Epoch 00039: val_acc did not improve from 0.92308\n",
            "35458/35458 [==============================] - 1s 34us/sample - loss: 0.2826 - acc: 0.9577 - recall: 0.7510 - precision: 0.8730 - f1score: 0.8071 - val_loss: 0.3543 - val_acc: 0.9160 - val_recall: 0.5553 - val_precision: 0.6711 - val_f1score: 0.6074\n",
            "Epoch 40/50\n",
            "34304/35458 [============================>.] - ETA: 0s - loss: 0.2817 - acc: 0.9580 - recall: 0.7538 - precision: 0.8730 - f1score: 0.8087\n",
            "Epoch 00040: val_acc did not improve from 0.92308\n",
            "35458/35458 [==============================] - 1s 34us/sample - loss: 0.2817 - acc: 0.9579 - recall: 0.7532 - precision: 0.8725 - f1score: 0.8081 - val_loss: 0.3566 - val_acc: 0.9133 - val_recall: 0.5250 - val_precision: 0.6631 - val_f1score: 0.5859\n",
            "Epoch 41/50\n",
            "34816/35458 [============================>.] - ETA: 0s - loss: 0.2804 - acc: 0.9590 - recall: 0.7585 - precision: 0.8778 - f1score: 0.8135\n",
            "Epoch 00041: val_acc did not improve from 0.92308\n",
            "35458/35458 [==============================] - 1s 34us/sample - loss: 0.2805 - acc: 0.9590 - recall: 0.7580 - precision: 0.8777 - f1score: 0.8132 - val_loss: 0.3563 - val_acc: 0.9149 - val_recall: 0.5651 - val_precision: 0.6668 - val_f1score: 0.6115\n",
            "Epoch 42/50\n",
            "34304/35458 [============================>.] - ETA: 0s - loss: 0.2799 - acc: 0.9596 - recall: 0.7618 - precision: 0.8795 - f1score: 0.8161\n",
            "Epoch 00042: val_acc did not improve from 0.92308\n",
            "35458/35458 [==============================] - 1s 34us/sample - loss: 0.2799 - acc: 0.9596 - recall: 0.7619 - precision: 0.8797 - f1score: 0.8163 - val_loss: 0.3541 - val_acc: 0.9159 - val_recall: 0.5785 - val_precision: 0.6653 - val_f1score: 0.6188\n",
            "Epoch 43/50\n",
            "34560/35458 [============================>.] - ETA: 0s - loss: 0.2788 - acc: 0.9601 - recall: 0.7647 - precision: 0.8815 - f1score: 0.8187\n",
            "Epoch 00043: val_acc did not improve from 0.92308\n",
            "35458/35458 [==============================] - 1s 34us/sample - loss: 0.2788 - acc: 0.9601 - recall: 0.7644 - precision: 0.8821 - f1score: 0.8188 - val_loss: 0.3520 - val_acc: 0.9160 - val_recall: 0.5681 - val_precision: 0.6698 - val_f1score: 0.6144\n",
            "Epoch 44/50\n",
            "34304/35458 [============================>.] - ETA: 0s - loss: 0.2788 - acc: 0.9603 - recall: 0.7661 - precision: 0.8819 - f1score: 0.8197\n",
            "Epoch 00044: val_acc did not improve from 0.92308\n",
            "35458/35458 [==============================] - 1s 34us/sample - loss: 0.2789 - acc: 0.9602 - recall: 0.7657 - precision: 0.8813 - f1score: 0.8192 - val_loss: 0.3577 - val_acc: 0.9136 - val_recall: 0.5499 - val_precision: 0.6586 - val_f1score: 0.5992\n",
            "Epoch 45/50\n",
            "34560/35458 [============================>.] - ETA: 0s - loss: 0.2793 - acc: 0.9601 - recall: 0.7652 - precision: 0.8810 - f1score: 0.8187\n",
            "Epoch 00045: val_acc did not improve from 0.92308\n",
            "35458/35458 [==============================] - 1s 34us/sample - loss: 0.2795 - acc: 0.9599 - recall: 0.7640 - precision: 0.8805 - f1score: 0.8178 - val_loss: 0.3590 - val_acc: 0.9166 - val_recall: 0.5760 - val_precision: 0.6696 - val_f1score: 0.6188\n",
            "Epoch 46/50\n",
            "34048/35458 [===========================>..] - ETA: 0s - loss: 0.2777 - acc: 0.9613 - recall: 0.7710 - precision: 0.8863 - f1score: 0.8244\n",
            "Epoch 00046: val_acc did not improve from 0.92308\n",
            "35458/35458 [==============================] - 1s 33us/sample - loss: 0.2777 - acc: 0.9612 - recall: 0.7707 - precision: 0.8863 - f1score: 0.8241 - val_loss: 0.3602 - val_acc: 0.9159 - val_recall: 0.5704 - val_precision: 0.6686 - val_f1score: 0.6154\n",
            "Epoch 47/50\n",
            "34560/35458 [============================>.] - ETA: 0s - loss: 0.2777 - acc: 0.9612 - recall: 0.7702 - precision: 0.8862 - f1score: 0.8239\n",
            "Epoch 00047: val_acc did not improve from 0.92308\n",
            "35458/35458 [==============================] - 1s 34us/sample - loss: 0.2778 - acc: 0.9611 - recall: 0.7698 - precision: 0.8859 - f1score: 0.8235 - val_loss: 0.3622 - val_acc: 0.9138 - val_recall: 0.5597 - val_precision: 0.6545 - val_f1score: 0.6032\n",
            "Epoch 48/50\n",
            "34048/35458 [===========================>..] - ETA: 0s - loss: 0.2783 - acc: 0.9610 - recall: 0.7698 - precision: 0.8848 - f1score: 0.8229\n",
            "Epoch 00048: val_acc did not improve from 0.92308\n",
            "35458/35458 [==============================] - 1s 33us/sample - loss: 0.2782 - acc: 0.9610 - recall: 0.7698 - precision: 0.8850 - f1score: 0.8230 - val_loss: 0.3552 - val_acc: 0.9167 - val_recall: 0.5883 - val_precision: 0.6694 - val_f1score: 0.6260\n",
            "Epoch 49/50\n",
            "34304/35458 [============================>.] - ETA: 0s - loss: 0.2767 - acc: 0.9620 - recall: 0.7761 - precision: 0.8877 - f1score: 0.8278\n",
            "Epoch 00049: val_acc did not improve from 0.92308\n",
            "35458/35458 [==============================] - 1s 33us/sample - loss: 0.2767 - acc: 0.9620 - recall: 0.7764 - precision: 0.8875 - f1score: 0.8279 - val_loss: 0.3580 - val_acc: 0.9148 - val_recall: 0.5754 - val_precision: 0.6563 - val_f1score: 0.6129\n",
            "Epoch 50/50\n",
            "34048/35458 [===========================>..] - ETA: 0s - loss: 0.2760 - acc: 0.9626 - recall: 0.7795 - precision: 0.8900 - f1score: 0.8309\n",
            "Epoch 00050: val_acc did not improve from 0.92308\n",
            "35458/35458 [==============================] - 1s 34us/sample - loss: 0.2760 - acc: 0.9626 - recall: 0.7794 - precision: 0.8899 - f1score: 0.8307 - val_loss: 0.3604 - val_acc: 0.9134 - val_recall: 0.5448 - val_precision: 0.6570 - val_f1score: 0.5954\n"
          ],
          "name": "stdout"
        }
      ]
    },
    {
      "cell_type": "code",
      "metadata": {
        "id": "FJ8oiBIhX7kq",
        "colab": {
          "base_uri": "https://localhost:8080/"
        },
        "outputId": "9105d159-2390-4979-d1f4-55090fe63df1"
      },
      "source": [
        "updown_classifier=make_classifier(Minimum_time)\n",
        "updown_classifier.compile(loss=keras.losses.BinaryCrossentropy(\n",
        "      from_logits=False,\n",
        "      name='binary_crossentorpy',\n",
        "  ), optimizer='adam', metrics=['accuracy'])\n",
        "\n",
        "updown_hist=updown_classifier.fit(\n",
        "      train_matrix,train_updown_label,batch_size=256,\n",
        "      epochs=30,\n",
        "      validation_data=(valid_matrix,valid_updown_label),\n",
        "      callbacks=updown_callbacks,\n",
        "  )\n"
      ],
      "execution_count": null,
      "outputs": [
        {
          "output_type": "stream",
          "text": [
            "Train on 35458 samples, validate on 4172 samples\n",
            "Epoch 1/30\n",
            "34816/35458 [============================>.] - ETA: 0s - loss: 0.3765 - acc: 0.8066\n",
            "Epoch 00001: val_acc improved from -inf to 0.57802, saving model to /content/drive/My Drive/MARG/models/updown.h5\n",
            "35458/35458 [==============================] - 4s 113us/sample - loss: 0.3759 - acc: 0.8069 - val_loss: 0.8255 - val_acc: 0.5780\n",
            "Epoch 2/30\n",
            "34816/35458 [============================>.] - ETA: 0s - loss: 0.3372 - acc: 0.8266\n",
            "Epoch 00002: val_acc did not improve from 0.57802\n",
            "35458/35458 [==============================] - 3s 89us/sample - loss: 0.3371 - acc: 0.8268 - val_loss: 0.7628 - val_acc: 0.5780\n",
            "Epoch 3/30\n",
            "34816/35458 [============================>.] - ETA: 0s - loss: 0.3268 - acc: 0.8352\n",
            "Epoch 00003: val_acc improved from 0.57802 to 0.58653, saving model to /content/drive/My Drive/MARG/models/updown.h5\n",
            "35458/35458 [==============================] - 3s 91us/sample - loss: 0.3265 - acc: 0.8356 - val_loss: 0.6386 - val_acc: 0.5865\n",
            "Epoch 4/30\n",
            "35328/35458 [============================>.] - ETA: 0s - loss: 0.3164 - acc: 0.8452\n",
            "Epoch 00004: val_acc improved from 0.58653 to 0.74287, saving model to /content/drive/My Drive/MARG/models/updown.h5\n",
            "35458/35458 [==============================] - 3s 91us/sample - loss: 0.3164 - acc: 0.8453 - val_loss: 0.4711 - val_acc: 0.7429\n",
            "Epoch 5/30\n",
            "34816/35458 [============================>.] - ETA: 0s - loss: 0.3052 - acc: 0.8547\n",
            "Epoch 00005: val_acc improved from 0.74287 to 0.80675, saving model to /content/drive/My Drive/MARG/models/updown.h5\n",
            "35458/35458 [==============================] - 3s 92us/sample - loss: 0.3052 - acc: 0.8547 - val_loss: 0.3654 - val_acc: 0.8067\n",
            "Epoch 6/30\n",
            "34816/35458 [============================>.] - ETA: 0s - loss: 0.2924 - acc: 0.8631\n",
            "Epoch 00006: val_acc did not improve from 0.80675\n",
            "35458/35458 [==============================] - 3s 90us/sample - loss: 0.2927 - acc: 0.8630 - val_loss: 0.3661 - val_acc: 0.8019\n",
            "Epoch 7/30\n",
            "34816/35458 [============================>.] - ETA: 0s - loss: 0.2800 - acc: 0.8715\n",
            "Epoch 00007: val_acc did not improve from 0.80675\n",
            "35458/35458 [==============================] - 3s 91us/sample - loss: 0.2798 - acc: 0.8716 - val_loss: 0.4001 - val_acc: 0.8030\n",
            "Epoch 8/30\n",
            "34816/35458 [============================>.] - ETA: 0s - loss: 0.2669 - acc: 0.8803\n",
            "Epoch 00008: val_acc did not improve from 0.80675\n",
            "35458/35458 [==============================] - 3s 91us/sample - loss: 0.2666 - acc: 0.8805 - val_loss: 0.4231 - val_acc: 0.8007\n",
            "Epoch 9/30\n",
            "34816/35458 [============================>.] - ETA: 0s - loss: 0.2524 - acc: 0.8883\n",
            "Epoch 00009: val_acc did not improve from 0.80675\n",
            "35458/35458 [==============================] - 3s 90us/sample - loss: 0.2522 - acc: 0.8882 - val_loss: 0.4823 - val_acc: 0.7955\n",
            "Epoch 10/30\n",
            "34816/35458 [============================>.] - ETA: 0s - loss: 0.2395 - acc: 0.8959\n",
            "Epoch 00010: val_acc improved from 0.80675 to 0.80783, saving model to /content/drive/My Drive/MARG/models/updown.h5\n",
            "35458/35458 [==============================] - 4s 100us/sample - loss: 0.2398 - acc: 0.8957 - val_loss: 0.4217 - val_acc: 0.8078\n",
            "Epoch 11/30\n",
            "34816/35458 [============================>.] - ETA: 0s - loss: 0.2292 - acc: 0.9013\n",
            "Epoch 00011: val_acc did not improve from 0.80783\n",
            "35458/35458 [==============================] - 3s 90us/sample - loss: 0.2296 - acc: 0.9012 - val_loss: 0.4205 - val_acc: 0.8076\n",
            "Epoch 12/30\n",
            "34816/35458 [============================>.] - ETA: 0s - loss: 0.2197 - acc: 0.9060\n",
            "Epoch 00012: val_acc did not improve from 0.80783\n",
            "35458/35458 [==============================] - 3s 89us/sample - loss: 0.2194 - acc: 0.9061 - val_loss: 0.5290 - val_acc: 0.7967\n",
            "Epoch 13/30\n",
            "34816/35458 [============================>.] - ETA: 0s - loss: 0.2109 - acc: 0.9104\n",
            "Epoch 00013: val_acc did not improve from 0.80783\n",
            "35458/35458 [==============================] - 3s 90us/sample - loss: 0.2104 - acc: 0.9107 - val_loss: 0.4659 - val_acc: 0.8020\n",
            "Epoch 14/30\n",
            "34816/35458 [============================>.] - ETA: 0s - loss: 0.2029 - acc: 0.9140\n",
            "Epoch 00014: val_acc did not improve from 0.80783\n",
            "35458/35458 [==============================] - 3s 89us/sample - loss: 0.2030 - acc: 0.9141 - val_loss: 0.5123 - val_acc: 0.8009\n",
            "Epoch 15/30\n",
            "34816/35458 [============================>.] - ETA: 0s - loss: 0.1937 - acc: 0.9179\n",
            "Epoch 00015: val_acc did not improve from 0.80783\n",
            "35458/35458 [==============================] - 3s 90us/sample - loss: 0.1943 - acc: 0.9176 - val_loss: 0.4917 - val_acc: 0.8024\n",
            "Epoch 16/30\n",
            "34816/35458 [============================>.] - ETA: 0s - loss: 0.1889 - acc: 0.9208\n",
            "Epoch 00016: val_acc did not improve from 0.80783\n",
            "35458/35458 [==============================] - 3s 92us/sample - loss: 0.1891 - acc: 0.9208 - val_loss: 0.5355 - val_acc: 0.7951\n",
            "Epoch 17/30\n",
            "34816/35458 [============================>.] - ETA: 0s - loss: 0.1817 - acc: 0.9238\n",
            "Epoch 00017: val_acc did not improve from 0.80783\n",
            "35458/35458 [==============================] - 3s 91us/sample - loss: 0.1814 - acc: 0.9240 - val_loss: 0.5242 - val_acc: 0.8028\n",
            "Epoch 18/30\n",
            "34816/35458 [============================>.] - ETA: 0s - loss: 0.1770 - acc: 0.9256\n",
            "Epoch 00018: val_acc did not improve from 0.80783\n",
            "35458/35458 [==============================] - 3s 89us/sample - loss: 0.1771 - acc: 0.9256 - val_loss: 0.5134 - val_acc: 0.8027\n",
            "Epoch 19/30\n",
            "34816/35458 [============================>.] - ETA: 0s - loss: 0.1724 - acc: 0.9282\n",
            "Epoch 00019: val_acc did not improve from 0.80783\n",
            "35458/35458 [==============================] - 3s 89us/sample - loss: 0.1725 - acc: 0.9281 - val_loss: 0.5396 - val_acc: 0.7988\n",
            "Epoch 20/30\n",
            "34816/35458 [============================>.] - ETA: 0s - loss: 0.1697 - acc: 0.9292\n",
            "Epoch 00020: val_acc did not improve from 0.80783\n",
            "35458/35458 [==============================] - 3s 89us/sample - loss: 0.1695 - acc: 0.9293 - val_loss: 0.5515 - val_acc: 0.8036\n",
            "Epoch 21/30\n",
            "34816/35458 [============================>.] - ETA: 0s - loss: 0.1660 - acc: 0.9312\n",
            "Epoch 00021: val_acc did not improve from 0.80783\n",
            "35458/35458 [==============================] - 3s 90us/sample - loss: 0.1661 - acc: 0.9312 - val_loss: 0.5392 - val_acc: 0.8021\n",
            "Epoch 22/30\n",
            "34816/35458 [============================>.] - ETA: 0s - loss: 0.1628 - acc: 0.9330\n",
            "Epoch 00022: val_acc did not improve from 0.80783\n",
            "35458/35458 [==============================] - 3s 91us/sample - loss: 0.1628 - acc: 0.9329 - val_loss: 0.5472 - val_acc: 0.7987\n",
            "Epoch 23/30\n",
            "34816/35458 [============================>.] - ETA: 0s - loss: 0.1588 - acc: 0.9342\n",
            "Epoch 00023: val_acc did not improve from 0.80783\n",
            "35458/35458 [==============================] - 3s 90us/sample - loss: 0.1590 - acc: 0.9340 - val_loss: 0.5786 - val_acc: 0.8011\n",
            "Epoch 24/30\n",
            "34816/35458 [============================>.] - ETA: 0s - loss: 0.1574 - acc: 0.9362\n",
            "Epoch 00024: val_acc did not improve from 0.80783\n",
            "35458/35458 [==============================] - 3s 89us/sample - loss: 0.1575 - acc: 0.9360 - val_loss: 0.5958 - val_acc: 0.8036\n",
            "Epoch 25/30\n",
            "34816/35458 [============================>.] - ETA: 0s - loss: 0.1537 - acc: 0.9372\n",
            "Epoch 00025: val_acc did not improve from 0.80783\n",
            "35458/35458 [==============================] - 3s 90us/sample - loss: 0.1537 - acc: 0.9373 - val_loss: 0.5881 - val_acc: 0.8027\n",
            "Epoch 26/30\n",
            "34816/35458 [============================>.] - ETA: 0s - loss: 0.1512 - acc: 0.9377\n",
            "Epoch 00026: val_acc did not improve from 0.80783\n",
            "35458/35458 [==============================] - 3s 90us/sample - loss: 0.1517 - acc: 0.9374 - val_loss: 0.5835 - val_acc: 0.8031\n",
            "Epoch 27/30\n",
            "34816/35458 [============================>.] - ETA: 0s - loss: 0.1487 - acc: 0.9385\n",
            "Epoch 00027: val_acc did not improve from 0.80783\n",
            "35458/35458 [==============================] - 3s 90us/sample - loss: 0.1489 - acc: 0.9385 - val_loss: 0.5997 - val_acc: 0.8022\n",
            "Epoch 28/30\n",
            "34816/35458 [============================>.] - ETA: 0s - loss: 0.1472 - acc: 0.9387\n",
            "Epoch 00028: val_acc did not improve from 0.80783\n",
            "35458/35458 [==============================] - 3s 91us/sample - loss: 0.1475 - acc: 0.9387 - val_loss: 0.6098 - val_acc: 0.7978\n",
            "Epoch 29/30\n",
            "34816/35458 [============================>.] - ETA: 0s - loss: 0.1464 - acc: 0.9404\n",
            "Epoch 00029: val_acc did not improve from 0.80783\n",
            "35458/35458 [==============================] - 3s 90us/sample - loss: 0.1464 - acc: 0.9404 - val_loss: 0.6291 - val_acc: 0.8001\n",
            "Epoch 30/30\n",
            "34816/35458 [============================>.] - ETA: 0s - loss: 0.1429 - acc: 0.9413\n",
            "Epoch 00030: val_acc did not improve from 0.80783\n",
            "35458/35458 [==============================] - 3s 90us/sample - loss: 0.1428 - acc: 0.9413 - val_loss: 0.6157 - val_acc: 0.7978\n"
          ],
          "name": "stdout"
        }
      ]
    },
    {
      "cell_type": "code",
      "metadata": {
        "id": "VZABO5Fq2gQy"
      },
      "source": [
        "updown_classifier.load_weights(\"/content/drive/My Drive/MARG/models/updown.h5\")"
      ],
      "execution_count": null,
      "outputs": []
    },
    {
      "cell_type": "code",
      "metadata": {
        "id": "h4vdlmE7zc8Y",
        "colab": {
          "base_uri": "https://localhost:8080/"
        },
        "outputId": "d87ba4c8-f7ec-41f6-e2cf-0fba2ae09236"
      },
      "source": [
        "updown_classifier.predict(test_matrix)"
      ],
      "execution_count": null,
      "outputs": [
        {
          "output_type": "execute_result",
          "data": {
            "text/plain": [
              "array([[1.2609750e-01, 1.7309040e-02, 1.3850063e-02, 9.3068367e-01],\n",
              "       [4.9404988e-01, 4.5721829e-03, 1.6314864e-02, 6.9170350e-01],\n",
              "       [5.4714155e-01, 1.2021363e-02, 4.0108860e-03, 5.3278267e-01],\n",
              "       ...,\n",
              "       [6.5082955e-01, 1.3927132e-02, 6.1347485e-03, 5.3921455e-01],\n",
              "       [9.4553268e-01, 1.4777660e-02, 1.1419952e-03, 1.5636459e-01],\n",
              "       [9.1294253e-01, 4.1341990e-02, 6.7850947e-04, 3.8550493e-01]],\n",
              "      dtype=float32)"
            ]
          },
          "metadata": {
            "tags": []
          },
          "execution_count": 42
        }
      ]
    },
    {
      "cell_type": "code",
      "metadata": {
        "id": "76EtBzIJsfJM",
        "colab": {
          "base_uri": "https://localhost:8080/",
          "height": 278
        },
        "outputId": "45882ac2-a499-45c5-eb11-e024392f1ead"
      },
      "source": [
        "%matplotlib inline\n",
        "import matplotlib.pyplot as plt\n",
        "\n",
        "fig, loss_ax = plt.subplots()\n",
        "\n",
        "acc_ax = loss_ax.twinx()\n",
        "\n",
        "loss_ax.plot(hist.history['loss'], 'y', label='train loss')\n",
        "loss_ax.plot(hist.history['val_loss'], 'r', label='val loss')\n",
        "\n",
        "acc_ax.plot(hist.history['acc'], 'b', label='train acc')\n",
        "acc_ax.plot(hist.history['val_acc'], 'g', label='val acc')\n",
        "\n",
        "loss_ax.set_xlabel('epoch')\n",
        "loss_ax.set_ylabel('loss')\n",
        "acc_ax.set_ylabel('accuracy')\n",
        "\n",
        "loss_ax.legend(loc='upper left')\n",
        "acc_ax.legend(loc='lower left')\n",
        "\n",
        "plt.show()"
      ],
      "execution_count": null,
      "outputs": [
        {
          "output_type": "display_data",
          "data": {
            "image/png": "[encoded data removed]",
            "text/plain": [
              "<Figure size 432x288 with 2 Axes>"
            ]
          },
          "metadata": {
            "tags": [],
            "image/png": {
              "width": 434,
              "height": 261
            },
            "needs_background": "light"
          }
        }
      ]
    },
    {
      "cell_type": "code",
      "metadata": {
        "id": "6T9qKNfNsuTv",
        "colab": {
          "base_uri": "https://localhost:8080/",
          "height": 278
        },
        "outputId": "cfe3b19e-db28-43f2-e7e9-d926feee2fd6"
      },
      "source": [
        "%matplotlib inline\n",
        "import matplotlib.pyplot as plt\n",
        "\n",
        "fig, recall_ax = plt.subplots()\n",
        "\n",
        "\n",
        "recall_ax.plot(hist.history['recall'], 'y', label='recall')\n",
        "recall_ax.plot(hist.history['val_recall'], 'r', label='valid recall')\n",
        "\n",
        "recall_ax.plot(hist.history['f1score'], 'b', label='f1score')\n",
        "recall_ax.plot(hist.history['val_f1score'], 'g', label='valid f1score')\n",
        "\n",
        "recall_ax.plot(hist.history['precision'], 'c', label='precision')\n",
        "recall_ax.plot(hist.history['val_precision'], 'k', label='valid precision')\n",
        "\n",
        "recall_ax.set_xlabel('epoch')\n",
        "recall_ax.set_ylabel('score')\n",
        "\n",
        "recall_ax.legend(loc='upper left')\n",
        "\n",
        "plt.show()"
      ],
      "execution_count": null,
      "outputs": [
        {
          "output_type": "display_data",
          "data": {
            "image/png": "[encoded data removed]",
            "text/plain": [
              "<Figure size 432x288 with 1 Axes>"
            ]
          },
          "metadata": {
            "tags": [],
            "image/png": {
              "width": 385,
              "height": 261
            },
            "needs_background": "light"
          }
        }
      ]
    },
    {
      "cell_type": "code",
      "metadata": {
        "id": "oQ-K9Y2vFN2O"
      },
      "source": [
        "  classifier.load_weights(\"/content/drive/My Drive/MARG/models/deeperppddbest.h5\")#loading for best classifier model\n",
        "  testresult=classifier.predict(test_matrix)"
      ],
      "execution_count": null,
      "outputs": []
    },
    {
      "cell_type": "code",
      "metadata": {
        "id": "N2XAN8kzN3gp",
        "colab": {
          "base_uri": "https://localhost:8080/"
        },
        "outputId": "92bcee72-4dd6-43a4-b1c2-b34f55694aae"
      },
      "source": [
        "print(testresult)"
      ],
      "execution_count": null,
      "outputs": [
        {
          "output_type": "stream",
          "text": [
            "[[0.08278391 0.04773369 0.73016024 ... 0.61669093 0.12768939 0.18231961]\n",
            " [0.07425997 0.15304619 0.06068414 ... 0.34839398 0.05407107 0.8883326 ]\n",
            " [0.08851555 0.06743321 0.11701334 ... 0.66664803 0.08204085 0.07818818]\n",
            " ...\n",
            " [0.08243275 0.26070023 0.08585414 ... 0.6491476  0.1452314  0.44475472]\n",
            " [0.06327191 0.05660373 0.13097918 ... 0.7735016  0.1183916  0.11652383]\n",
            " [0.09089202 0.06886783 0.1481395  ... 0.5410464  0.55461556 0.06051788]]\n"
          ],
          "name": "stdout"
        }
      ]
    },
    {
      "cell_type": "code",
      "metadata": {
        "id": "mFucJZONFnqX",
        "colab": {
          "base_uri": "https://localhost:8080/"
        },
        "outputId": "3ac4cffa-1304-4036-977a-0c2949446a23"
      },
      "source": [
        "def get_tag_results(testresult,test_label2):  \n",
        "  classnum={}\n",
        "  testnum={}\n",
        "  resultmat=[]\n",
        "  bestmat=[]\n",
        "  for i in range(len(testresult)):\n",
        "    eval_result=[0 for i in range(13)]\n",
        "    best_result=[0 for i in range(13)]\n",
        "    class_num=np.count_nonzero(test_label2[i]==1)+1\n",
        "    classidx=(-testresult[i]).argsort()[:class_num]\n",
        "    for k,j in enumerate(classidx):\n",
        "      if (k==0):\n",
        "        best_result[j]=1\n",
        "      eval_result[j]=1\n",
        "    resultmat.append(eval_result)\n",
        "    bestmat.append(best_result)\n",
        "    test_result2=copy.deepcopy(testresult)\n",
        "    test_result2[np.where(test_result2>0.30)]=1\n",
        "    test_result2[np.where(test_result2<=0.30)]=0\n",
        "  resultmat=np.array(resultmat)\n",
        "  bestmat=np.array(bestmat)\n",
        "  testidx=mlb.inverse_transform(resultmat)\n",
        "  classidx=mlb.inverse_transform(test_label2)\n",
        "  testidx2=mlb.inverse_transform(test_result2)\n",
        "  bestidx=mlb.inverse_transform(bestmat)\n",
        "  for i in range(len(testidx)):  \n",
        "    for classes in classidx[i]:\n",
        "      if (classes not in classnum):\n",
        "        classnum[classes]=1\n",
        "      else:\n",
        "        classnum[classes]+=1\n",
        "    for classes in testidx[i]:\n",
        "      if (classes not in testnum):\n",
        "        testnum[classes]=1\n",
        "      else:\n",
        "        testnum[classes]+=1\n",
        "  print(classnum, testnum)\n",
        "  return bestidx, testidx2, testidx, classidx\n",
        "best=get_tag_results(testresult,test_label2)[0]\n",
        "print(best)\n"
      ],
      "execution_count": null,
      "outputs": [
        {
          "output_type": "stream",
          "text": [
            "{'down_leaping': 119, 'triplet': 883, 'steping_twisting': 234, 'up_steping': 369, 'no skills': 709, 'repeating': 124, 'leaping_twisting': 264, 'up_leaping': 148, 'continuing_rhythm': 27, 'down_steping': 166, 'One_rhythm': 54, 'fast_rhythm': 73} {'down_leaping': 160, 'leaping_twisting': 377, 'triplet': 1257, 'continuing_rhythm': 561, 'steping_twisting': 247, 'up_steping': 522, 'down_steping': 246, 'no skills': 999, 'repeating': 234, 'up_leaping': 234, 'One_rhythm': 88, 'fast_rhythm': 306, 'staccato': 25}\n",
            "[('down_leaping',), ('up_steping',), ('down_steping',), ('triplet',), ('no skills',), ('repeating',), ('down_leaping',), ('triplet',), ('down_leaping',), ('triplet',), ('triplet',), ('repeating',), ('up_steping',), ('up_leaping',), ('triplet',), ('no skills',), ('down_leaping',), ('triplet',), ('triplet',), ('no skills',), ('steping_twisting',), ('no skills',), ('no skills',), ('no skills',), ('no skills',), ('no skills',), ('no skills',), ('no skills',), ('no skills',), ('no skills',), ('no skills',), ('no skills',), ('no skills',), ('no skills',), ('no skills',), ('no skills',), ('no skills',), ('no skills',), ('repeating',), ('triplet',), ('down_leaping',), ('triplet',), ('down_leaping',), ('triplet',), ('triplet',), ('repeating',), ('up_steping',), ('up_leaping',), ('triplet',), ('no skills',), ('down_leaping',), ('triplet',), ('triplet',), ('no skills',), ('steping_twisting',), ('no skills',), ('triplet',), ('triplet',), ('no skills',), ('steping_twisting',), ('no skills',), ('no skills',), ('no skills',), ('no skills',), ('no skills',), ('up_leaping',), ('no skills',), ('no skills',), ('continuing_rhythm',), ('no skills',), ('repeating',), ('no skills',), ('down_steping',), ('no skills',), ('down_leaping',), ('no skills',), ('down_steping',), ('no skills',), ('no skills',), ('down_steping',), ('down_steping',), ('triplet',), ('down_leaping',), ('no skills',), ('triplet',), ('no skills',), ('up_leaping',), ('up_leaping',), ('triplet',), ('triplet',), ('down_steping',), ('up_leaping',), ('triplet',), ('triplet',), ('no skills',), ('triplet',), ('no skills',), ('triplet',), ('no skills',), ('no skills',), ('repeating',), ('down_leaping',), ('no skills',), ('triplet',), ('no skills',), ('triplet',), ('no skills',), ('no skills',), ('repeating',), ('down_leaping',), ('no skills',), ('no skills',), ('no skills',), ('no skills',), ('no skills',), ('no skills',), ('no skills',), ('no skills',), ('no skills',), ('no skills',), ('down_steping',), ('down_steping',), ('triplet',), ('down_leaping',), ('no skills',), ('triplet',), ('no skills',), ('up_leaping',), ('up_leaping',), ('triplet',), ('triplet',), ('down_steping',), ('up_leaping',), ('triplet',), ('triplet',), ('no skills',), ('triplet',), ('no skills',), ('no skills',), ('triplet',), ('triplet',), ('down_steping',), ('no skills',), ('triplet',), ('up_steping',), ('steping_twisting',), ('no skills',), ('triplet',), ('triplet',), ('down_steping',), ('no skills',), ('triplet',), ('up_steping',), ('triplet',), ('no skills',), ('no skills',), ('no skills',), ('triplet',), ('triplet',), ('down_steping',), ('no skills',), ('triplet',), ('up_steping',), ('steping_twisting',), ('no skills',), ('triplet',), ('triplet',), ('down_steping',), ('no skills',), ('triplet',), ('up_steping',), ('triplet',), ('no skills',), ('no skills',), ('no skills',), ('no skills',), ('no skills',), ('no skills',), ('no skills',), ('no skills',), ('no skills',), ('triplet',), ('triplet',), ('down_steping',), ('no skills',), ('triplet',), ('up_steping',), ('steping_twisting',), ('no skills',), ('triplet',), ('triplet',), ('down_steping',), ('triplet',), ('triplet',), ('repeating',), ('triplet',), ('repeating',), ('no skills',), ('down_steping',), ('no skills',), ('up_steping',), ('up_leaping',), ('triplet',), ('triplet',), ('up_steping',), ('triplet',), ('triplet',), ('no skills',), ('no skills',), ('up_steping',), ('triplet',), ('triplet',), ('no skills',), ('triplet',), ('up_leaping',), ('leaping_twisting',), ('no skills',), ('triplet',), ('triplet',), ('triplet',), ('repeating',), ('triplet',), ('up_leaping',), ('triplet',), ('up_steping',), ('no skills',), ('no skills',), ('no skills',), ('no skills',), ('no skills',), ('no skills',), ('no skills',), ('no skills',), ('no skills',), ('no skills',), ('no skills',), ('no skills',), ('no skills',), ('no skills',), ('no skills',), ('no skills',), ('no skills',), ('no skills',), ('no skills',), ('no skills',), ('triplet',), ('triplet',), ('repeating',), ('triplet',), ('repeating',), ('no skills',), ('down_steping',), ('no skills',), ('up_steping',), ('up_leaping',), ('triplet',), ('triplet',), ('up_steping',), ('triplet',), ('triplet',), ('no skills',), ('no skills',), ('up_steping',), ('triplet',), ('triplet',), ('no skills',), ('triplet',), ('up_leaping',), ('leaping_twisting',), ('no skills',), ('triplet',), ('triplet',), ('triplet',), ('repeating',), ('triplet',), ('up_leaping',), ('triplet',), ('up_steping',), ('no skills',), ('no skills',), ('up_steping',), ('triplet',), ('triplet',), ('no skills',), ('triplet',), ('up_steping',), ('triplet',), ('up_steping',), ('no skills',), ('up_steping',), ('triplet',), ('no skills',), ('no skills',), ('up_steping',), ('triplet',), ('up_steping',), ('no skills',), ('up_steping',), ('triplet',), ('no skills',), ('no skills',), ('no skills',), ('no skills',), ('no skills',), ('no skills',), ('no skills',), ('no skills',), ('no skills',), ('no skills',), ('no skills',), ('no skills',), ('no skills',), ('up_steping',), ('triplet',), ('up_steping',), ('no skills',), ('up_steping',), ('triplet',), ('no skills',), ('no skills',), ('up_steping',), ('triplet',), ('up_steping',), ('no skills',), ('up_steping',), ('triplet',), ('no skills',), ('no skills',), ('no skills',), ('no skills',), ('up_steping',), ('One_rhythm',), ('up_steping',), ('no skills',), ('up_steping',), ('One_rhythm',), ('up_steping',), ('down_steping',), ('One_rhythm',), ('no skills',), ('One_rhythm',), ('One_rhythm',), ('up_leaping',), ('no skills',), ('leaping_twisting',), ('One_rhythm',), ('no skills',), ('no skills',), ('no skills',), ('no skills',), ('no skills',), ('no skills',), ('up_steping',), ('One_rhythm',), ('up_steping',), ('no skills',), ('up_steping',), ('One_rhythm',), ('up_steping',), ('down_steping',), ('One_rhythm',), ('no skills',), ('One_rhythm',), ('One_rhythm',), ('up_steping',), ('triplet',), ('up_steping',), ('triplet',), ('triplet',), ('triplet',), ('triplet',), ('triplet',), ('up_steping',), ('down_leaping',), ('up_steping',), ('triplet',), ('triplet',), ('triplet',), ('triplet',), ('triplet',), ('no skills',), ('triplet',), ('triplet',), ('down_leaping',), ('triplet',), ('triplet',), ('triplet',), ('triplet',), ('triplet',), ('no skills',), ('no skills',), ('no skills',), ('no skills',), ('no skills',), ('no skills',), ('no skills',), ('no skills',), ('up_steping',), ('down_leaping',), ('up_steping',), ('triplet',), ('triplet',), ('triplet',), ('triplet',), ('triplet',), ('triplet',), ('triplet',), ('down_leaping',), ('triplet',), ('triplet',), ('triplet',), ('triplet',), ('triplet',), ('triplet',), ('triplet',), ('down_leaping',), ('triplet',), ('no skills',), ('leaping_twisting',), ('down_steping',), ('no skills',), ('no skills',), ('down_leaping',), ('up_steping',), ('no skills',), ('no skills',), ('leaping_twisting',), ('down_steping',), ('no skills',), ('no skills',), ('down_leaping',), ('triplet',), ('up_steping',), ('triplet',), ('up_steping',), ('triplet',), ('up_steping',), ('triplet',), ('up_steping',), ('triplet',), ('down_steping',), ('triplet',), ('up_steping',), ('triplet',), ('up_steping',), ('triplet',), ('up_steping',), ('no skills',), ('up_leaping',), ('no skills',), ('no skills',), ('no skills',), ('no skills',), ('no skills',), ('leaping_twisting',), ('down_steping',), ('no skills',), ('no skills',), ('down_leaping',), ('triplet',), ('up_steping',), ('triplet',), ('up_steping',), ('triplet',), ('up_steping',), ('triplet',), ('up_steping',), ('triplet',), ('down_steping',), ('triplet',), ('up_steping',), ('triplet',), ('up_steping',), ('triplet',), ('up_steping',), ('no skills',), ('up_leaping',), ('no skills',), ('no skills',), ('triplet',), ('up_steping',), ('triplet',), ('up_steping',), ('triplet',), ('triplet',), ('triplet',), ('up_leaping',), ('triplet',), ('triplet',), ('triplet',), ('triplet',), ('up_steping',), ('triplet',), ('up_steping',), ('triplet',), ('triplet',), ('triplet',), ('triplet',), ('fast_rhythm',), ('no skills',), ('triplet',), ('triplet',), ('triplet',), ('fast_rhythm',), ('continuing_rhythm',), ('triplet',), ('no skills',), ('no skills',), ('no skills',), ('no skills',), ('no skills',), ('no skills',), ('no skills',), ('no skills',), ('no skills',), ('triplet',), ('triplet',), ('triplet',), ('up_leaping',), ('triplet',), ('triplet',), ('triplet',), ('triplet',), ('up_steping',), ('triplet',), ('up_steping',), ('triplet',), ('triplet',), ('triplet',), ('triplet',), ('fast_rhythm',), ('no skills',), ('triplet',), ('triplet',), ('triplet',), ('fast_rhythm',), ('continuing_rhythm',), ('triplet',), ('up_leaping',), ('fast_rhythm',), ('no skills',), ('triplet',), ('triplet',), ('triplet',), ('down_leaping',), ('triplet',), ('triplet',), ('triplet',), ('triplet',), ('triplet',), ('triplet',), ('triplet',), ('down_leaping',), ('triplet',), ('triplet',), ('triplet',), ('no skills',), ('triplet',), ('triplet',), ('leaping_twisting',), ('down_leaping',), ('triplet',), ('triplet',), ('triplet',), ('no skills',), ('no skills',), ('no skills',), ('no skills',), ('no skills',), ('no skills',), ('no skills',), ('no skills',), ('no skills',), ('triplet',), ('triplet',), ('triplet',), ('down_leaping',), ('triplet',), ('triplet',), ('triplet',), ('no skills',), ('triplet',), ('triplet',), ('leaping_twisting',), ('down_leaping',), ('triplet',), ('triplet',), ('triplet',), ('no skills',), ('triplet',), ('steping_twisting',), ('triplet',), ('up_steping',), ('steping_twisting',), ('steping_twisting',), ('triplet',), ('up_steping',), ('fast_rhythm',), ('down_leaping',), ('triplet',), ('triplet',), ('triplet',), ('steping_twisting',), ('fast_rhythm',), ('down_steping',), ('continuing_rhythm',), ('continuing_rhythm',), ('up_leaping',), ('steping_twisting',), ('no skills',), ('no skills',), ('no skills',), ('no skills',), ('no skills',), ('no skills',), ('no skills',), ('no skills',), ('triplet',), ('continuing_rhythm',), ('triplet',), ('no skills',), ('fast_rhythm',), ('continuing_rhythm',), ('triplet',), ('fast_rhythm',), ('triplet',), ('leaping_twisting',), ('triplet',), ('leaping_twisting',), ('up_steping',), ('fast_rhythm',), ('no skills',), ('no skills',), ('down_leaping',), ('triplet',), ('triplet',), ('triplet',), ('steping_twisting',), ('fast_rhythm',), ('down_steping',), ('no skills',), ('no skills',), ('no skills',), ('triplet',), ('no skills',), ('triplet',), ('down_steping',), ('triplet',), ('no skills',), ('no skills',), ('no skills',), ('triplet',), ('no skills',), ('triplet',), ('down_steping',), ('down_steping',), ('no skills',), ('no skills',), ('down_leaping',), ('no skills',), ('triplet',), ('no skills',), ('triplet',), ('triplet',), ('triplet',), ('no skills',), ('down_leaping',), ('no skills',), ('triplet',), ('no skills',), ('triplet',), ('triplet',), ('no skills',), ('no skills',), ('no skills',), ('no skills',), ('no skills',), ('no skills',), ('no skills',), ('no skills',), ('no skills',), ('no skills',), ('no skills',), ('no skills',), ('no skills',), ('no skills',), ('triplet',), ('no skills',), ('triplet',), ('down_steping',), ('down_steping',), ('no skills',), ('no skills',), ('down_leaping',), ('no skills',), ('triplet',), ('no skills',), ('triplet',), ('triplet',), ('triplet',), ('no skills',), ('down_leaping',), ('no skills',), ('triplet',), ('no skills',), ('triplet',), ('triplet',), ('no skills',), ('no skills',), ('down_leaping',), ('no skills',), ('triplet',), ('no skills',), ('triplet',), ('triplet',), ('triplet',), ('leaping_twisting',), ('triplet',), ('leaping_twisting',), ('up_steping',), ('leaping_twisting',), ('triplet',), ('leaping_twisting',), ('up_steping',), ('up_steping',), ('fast_rhythm',), ('triplet',), ('down_leaping',), ('up_steping',), ('up_steping',), ('down_steping',), ('no skills',), ('fast_rhythm',), ('triplet',), ('triplet',), ('triplet',), ('fast_rhythm',), ('triplet',), ('triplet',), ('triplet',), ('down_steping',), ('no skills',), ('no skills',), ('no skills',), ('no skills',), ('no skills',), ('no skills',), ('no skills',), ('no skills',), ('no skills',), ('no skills',), ('leaping_twisting',), ('triplet',), ('leaping_twisting',), ('up_steping',), ('up_steping',), ('fast_rhythm',), ('triplet',), ('down_leaping',), ('up_steping',), ('up_steping',), ('down_steping',), ('no skills',), ('fast_rhythm',), ('triplet',), ('triplet',), ('triplet',), ('fast_rhythm',), ('triplet',), ('triplet',), ('triplet',), ('up_steping',), ('triplet',), ('up_steping',), ('fast_rhythm',), ('triplet',), ('triplet',), ('up_steping',), ('fast_rhythm',), ('triplet',), ('no skills',), ('triplet',), ('no skills',), ('triplet',), ('leaping_twisting',), ('triplet',), ('up_steping',), ('triplet',), ('no skills',), ('triplet',), ('no skills',), ('triplet',), ('leaping_twisting',), ('triplet',), ('triplet',), ('triplet',), ('no skills',), ('up_steping',), ('fast_rhythm',), ('triplet',), ('up_steping',), ('no skills',), ('triplet',), ('triplet',), ('triplet',), ('triplet',), ('fast_rhythm',), ('triplet',), ('up_steping',), ('no skills',), ('triplet',), ('triplet',), ('triplet',), ('no skills',), ('no skills',), ('no skills',), ('no skills',), ('no skills',), ('no skills',), ('no skills',), ('no skills',), ('no skills',), ('no skills',), ('triplet',), ('no skills',), ('triplet',), ('leaping_twisting',), ('triplet',), ('triplet',), ('triplet',), ('no skills',), ('up_steping',), ('fast_rhythm',), ('triplet',), ('up_steping',), ('no skills',), ('triplet',), ('triplet',), ('triplet',), ('triplet',), ('fast_rhythm',), ('triplet',), ('up_steping',), ('no skills',), ('triplet',), ('triplet',), ('triplet',), ('One_rhythm',), ('down_steping',), ('One_rhythm',), ('triplet',), ('no skills',), ('down_steping',), ('up_steping',), ('down_steping',), ('One_rhythm',), ('continuing_rhythm',), ('One_rhythm',), ('triplet',), ('no skills',), ('down_steping',), ('up_steping',), ('down_steping',), ('no skills',), ('down_steping',), ('no skills',), ('triplet',), ('triplet',), ('triplet',), ('triplet',), ('triplet',), ('triplet',), ('no skills',), ('triplet',), ('triplet',), ('steping_twisting',), ('no skills',), ('no skills',), ('no skills',), ('no skills',), ('One_rhythm',), ('continuing_rhythm',), ('One_rhythm',), ('triplet',), ('no skills',), ('down_steping',), ('up_steping',), ('down_steping',), ('no skills',), ('down_steping',), ('no skills',), ('triplet',), ('triplet',), ('triplet',), ('triplet',), ('triplet',), ('triplet',), ('no skills',), ('triplet',), ('triplet',), ('steping_twisting',), ('no skills',), ('fast_rhythm',), ('up_steping',), ('no skills',), ('up_steping',), ('up_leaping',), ('down_steping',), ('no skills',), ('up_steping',), ('up_leaping',), ('steping_twisting',), ('no skills',), ('down_steping',), ('steping_twisting',), ('triplet',), ('triplet',), ('up_leaping',), ('triplet',), ('up_leaping',), ('triplet',), ('up_leaping',), ('no skills',), ('up_leaping',), ('no skills',), ('no skills',), ('no skills',), ('no skills',), ('no skills',), ('up_steping',), ('up_leaping',), ('down_steping',), ('no skills',), ('down_steping',), ('steping_twisting',), ('triplet',), ('triplet',), ('up_leaping',), ('triplet',), ('up_leaping',), ('triplet',), ('up_leaping',), ('no skills',), ('triplet',), ('no skills',), ('no skills',), ('no skills',), ('no skills',), ('triplet',), ('up_leaping',), ('triplet',), ('up_leaping',), ('triplet',), ('up_leaping',), ('no skills',), ('triplet',), ('up_leaping',), ('triplet',), ('triplet',), ('triplet',), ('triplet',), ('triplet',), ('triplet',), ('up_steping',), ('up_leaping',), ('triplet',), ('triplet',), ('triplet',), ('triplet',), ('triplet',), ('triplet',), ('up_steping',), ('up_steping',), ('triplet',), ('up_steping',), ('triplet',), ('up_steping',), ('no skills',), ('up_steping',), ('no skills',), ('repeating',), ('up_steping',), ('triplet',), ('triplet',), ('up_leaping',), ('triplet',), ('triplet',), ('triplet',), ('no skills',), ('no skills',), ('no skills',), ('no skills',), ('no skills',), ('no skills',), ('no skills',), ('no skills',), ('up_steping',), ('triplet',), ('triplet',), ('fast_rhythm',), ('triplet',), ('up_steping',), ('triplet',), ('up_steping',), ('triplet',), ('up_steping',), ('no skills',), ('up_steping',), ('no skills',), ('up_leaping',), ('triplet',), ('triplet',), ('triplet',), ('triplet',), ('triplet',), ('triplet',), ('no skills',), ('continuing_rhythm',), ('no skills',), ('up_steping',), ('triplet',), ('down_leaping',), ('up_steping',), ('no skills',), ('no skills',), ('continuing_rhythm',), ('no skills',), ('up_steping',), ('down_leaping',), ('down_leaping',), ('up_steping',), ('no skills',), ('up_steping',), ('no skills',), ('continuing_rhythm',), ('fast_rhythm',), ('triplet',), ('triplet',), ('triplet',), ('steping_twisting',), ('up_steping',), ('no skills',), ('triplet',), ('fast_rhythm',), ('up_steping',), ('up_leaping',), ('leaping_twisting',), ('no skills',), ('no skills',), ('no skills',), ('no skills',), ('no skills',), ('no skills',), ('continuing_rhythm',), ('no skills',), ('up_steping',), ('down_leaping',), ('down_leaping',), ('up_steping',), ('no skills',), ('up_steping',), ('no skills',), ('continuing_rhythm',), ('fast_rhythm',), ('triplet',), ('triplet',), ('triplet',), ('steping_twisting',), ('up_steping',), ('no skills',), ('triplet',), ('fast_rhythm',), ('up_steping',), ('up_leaping',), ('leaping_twisting',), ('no skills',), ('no skills',), ('no skills',), ('no skills',), ('no skills',), ('no skills',), ('no skills',), ('no skills',), ('no skills',), ('up_steping',), ('no skills',), ('continuing_rhythm',), ('up_leaping',), ('triplet',), ('up_steping',), ('triplet',), ('up_leaping',), ('triplet',), ('triplet',), ('leaping_twisting',), ('up_leaping',), ('triplet',), ('up_steping',), ('triplet',), ('up_leaping',), ('triplet',), ('triplet',), ('leaping_twisting',), ('no skills',), ('fast_rhythm',), ('up_leaping',), ('leaping_twisting',), ('up_leaping',), ('up_steping',), ('triplet',), ('down_leaping',), ('no skills',), ('fast_rhythm',), ('up_leaping',), ('leaping_twisting',), ('up_leaping',), ('up_steping',), ('triplet',), ('down_leaping',), ('no skills',), ('no skills',), ('no skills',), ('no skills',), ('no skills',), ('no skills',), ('no skills',), ('no skills',), ('up_leaping',), ('triplet',), ('up_steping',), ('triplet',), ('up_leaping',), ('triplet',), ('triplet',), ('leaping_twisting',), ('up_leaping',), ('triplet',), ('up_steping',), ('triplet',), ('up_leaping',), ('triplet',), ('triplet',), ('leaping_twisting',), ('no skills',), ('fast_rhythm',), ('up_leaping',), ('leaping_twisting',), ('up_leaping',), ('up_steping',), ('triplet',), ('down_leaping',), ('no skills',), ('fast_rhythm',), ('up_leaping',), ('leaping_twisting',), ('up_leaping',), ('up_steping',), ('triplet',), ('down_leaping',), ('no skills',), ('fast_rhythm',), ('up_leaping',), ('leaping_twisting',), ('up_leaping',), ('up_steping',), ('triplet',), ('down_leaping',), ('no skills',), ('fast_rhythm',), ('up_leaping',), ('repeating',), ('triplet',), ('up_leaping',), ('triplet',), ('no skills',), ('triplet',), ('up_leaping',), ('up_steping',), ('repeating',), ('down_steping',), ('up_steping',), ('up_leaping',), ('repeating',), ('no skills',), ('triplet',), ('triplet',), ('no skills',), ('triplet',), ('triplet',), ('up_leaping',), ('triplet',), ('no skills',), ('triplet',), ('up_leaping',), ('up_steping',), ('repeating',), ('down_steping',), ('up_steping',), ('up_leaping',), ('repeating',), ('no skills',), ('triplet',), ('triplet',), ('triplet',), ('up_steping',), ('no skills',), ('triplet',), ('no skills',), ('up_steping',), ('up_leaping',), ('up_steping',), ('repeating',), ('triplet',), ('up_steping',), ('up_leaping',), ('repeating',), ('no skills',), ('triplet',), ('triplet',), ('no skills',), ('no skills',), ('no skills',), ('no skills',), ('no skills',), ('no skills',), ('no skills',), ('no skills',), ('no skills',), ('no skills',), ('no skills',), ('no skills',), ('no skills',), ('no skills',), ('no skills',), ('no skills',), ('no skills',), ('no skills',), ('repeating',), ('triplet',), ('up_leaping',), ('triplet',), ('no skills',), ('triplet',), ('up_leaping',), ('up_steping',), ('repeating',), ('down_steping',), ('up_steping',), ('up_leaping',), ('repeating',), ('no skills',), ('triplet',), ('triplet',), ('no skills',), ('triplet',), ('triplet',), ('up_leaping',), ('triplet',), ('no skills',), ('up_steping',), ('up_leaping',), ('up_steping',), ('repeating',), ('down_steping',), ('triplet',), ('up_leaping',), ('triplet',), ('fast_rhythm',), ('fast_rhythm',), ('triplet',), ('fast_rhythm',), ('triplet',), ('triplet',), ('triplet',), ('up_leaping',), ('triplet',), ('triplet',), ('fast_rhythm',), ('triplet',), ('triplet',), ('triplet',), ('triplet',), ('triplet',), ('triplet',), ('fast_rhythm',), ('triplet',), ('triplet',), ('no skills',), ('no skills',), ('no skills',), ('no skills',), ('triplet',), ('fast_rhythm',), ('up_steping',), ('down_steping',), ('triplet',), ('fast_rhythm',), ('up_steping',), ('up_steping',), ('triplet',), ('triplet',), ('triplet',), ('down_steping',), ('triplet',), ('down_steping',), ('triplet',), ('down_steping',), ('up_steping',), ('triplet',), ('fast_rhythm',), ('down_steping',), ('triplet',), ('down_steping',), ('up_steping',), ('up_steping',), ('up_steping',), ('no skills',), ('up_steping',), ('up_steping',), ('no skills',), ('no skills',), ('up_steping',), ('up_steping',), ('up_steping',), ('no skills',), ('up_steping',), ('up_steping',), ('no skills',), ('down_steping',), ('up_steping',), ('up_steping',), ('steping_twisting',), ('no skills',), ('up_steping',), ('fast_rhythm',), ('down_leaping',), ('no skills',), ('up_steping',), ('up_steping',), ('steping_twisting',), ('no skills',), ('up_steping',), ('fast_rhythm',), ('continuing_rhythm',), ('no skills',), ('no skills',), ('no skills',), ('no skills',), ('no skills',), ('no skills',), ('no skills',), ('no skills',), ('no skills',), ('up_steping',), ('up_steping',), ('up_steping',), ('no skills',), ('up_steping',), ('up_steping',), ('no skills',), ('no skills',), ('up_steping',), ('up_steping',), ('up_steping',), ('no skills',), ('up_steping',), ('up_steping',), ('no skills',), ('down_steping',), ('up_steping',), ('up_steping',), ('steping_twisting',), ('no skills',), ('up_steping',), ('fast_rhythm',), ('down_leaping',), ('no skills',), ('up_steping',), ('up_steping',), ('steping_twisting',), ('no skills',), ('up_steping',), ('fast_rhythm',), ('continuing_rhythm',), ('no skills',), ('no skills',), ('no skills',), ('no skills',), ('no skills',), ('no skills',), ('no skills',), ('no skills',), ('no skills',), ('no skills',), ('no skills',), ('no skills',), ('no skills',), ('no skills',), ('no skills',), ('no skills',), ('no skills',), ('up_steping',), ('up_steping',), ('steping_twisting',), ('no skills',), ('up_steping',), ('fast_rhythm',), ('down_leaping',), ('no skills',), ('up_steping',), ('up_steping',), ('steping_twisting',), ('no skills',), ('up_steping',), ('fast_rhythm',), ('continuing_rhythm',), ('no skills',), ('up_steping',), ('up_steping',), ('steping_twisting',), ('no skills',), ('up_steping',), ('fast_rhythm',), ('down_leaping',), ('no skills',), ('down_leaping',), ('triplet',), ('no skills',), ('triplet',), ('down_leaping',), ('down_leaping',), ('triplet',), ('no skills',), ('down_leaping',), ('triplet',), ('no skills',), ('triplet',), ('down_leaping',), ('no skills',), ('repeating',), ('no skills',), ('triplet',), ('no skills',), ('triplet',), ('down_steping',), ('no skills',), ('up_steping',), ('triplet',), ('down_leaping',), ('no skills',), ('no skills',), ('down_leaping',), ('triplet',), ('triplet',), ('no skills',), ('no skills',), ('no skills',), ('no skills',), ('no skills',), ('no skills',), ('no skills',), ('no skills',), ('no skills',), ('down_leaping',), ('triplet',), ('no skills',), ('triplet',), ('down_leaping',), ('down_leaping',), ('triplet',), ('no skills',), ('down_leaping',), ('triplet',), ('no skills',), ('triplet',), ('down_leaping',), ('no skills',), ('repeating',), ('no skills',), ('triplet',), ('no skills',), ('triplet',), ('down_steping',), ('no skills',), ('up_steping',), ('triplet',), ('down_leaping',), ('no skills',), ('no skills',), ('down_leaping',), ('triplet',), ('no skills',), ('triplet',), ('down_leaping',), ('down_leaping',), ('triplet',), ('no skills',), ('down_leaping',), ('triplet',), ('no skills',), ('triplet',), ('down_leaping',), ('no skills',), ('repeating',), ('no skills',), ('no skills',), ('no skills',), ('no skills',), ('no skills',), ('no skills',), ('no skills',), ('no skills',), ('no skills',), ('triplet',), ('no skills',), ('triplet',), ('down_steping',), ('no skills',), ('up_steping',), ('no skills',), ('triplet',), ('no skills',), ('up_steping',), ('no skills',), ('triplet',), ('down_leaping',), ('up_steping',), ('triplet',), ('up_steping',), ('up_leaping',), ('up_steping',), ('triplet',), ('up_leaping',), ('no skills',), ('triplet',), ('triplet',), ('triplet',), ('triplet',), ('triplet',), ('up_steping',), ('triplet',), ('no skills',), ('triplet',), ('triplet',), ('triplet',), ('triplet',), ('triplet',), ('up_steping',), ('triplet',), ('no skills',), ('no skills',), ('no skills',), ('no skills',), ('no skills',), ('no skills',), ('no skills',), ('no skills',), ('no skills',), ('up_steping',), ('no skills',), ('triplet',), ('down_leaping',), ('up_steping',), ('triplet',), ('triplet',), ('down_leaping',), ('up_steping',), ('triplet',), ('up_steping',), ('up_leaping',), ('up_steping',), ('no skills',), ('up_leaping',), ('no skills',), ('triplet',), ('triplet',), ('triplet',), ('triplet',), ('triplet',), ('up_steping',), ('triplet',), ('no skills',), ('triplet',), ('triplet',), ('triplet',), ('triplet',), ('triplet',), ('no skills',), ('no skills',), ('triplet',), ('no skills',), ('no skills',), ('no skills',), ('triplet',), ('no skills',), ('up_leaping',), ('down_steping',), ('up_steping',), ('no skills',), ('up_leaping',), ('down_steping',), ('triplet',), ('no skills',), ('steping_twisting',), ('no skills',), ('no skills',), ('up_leaping',), ('triplet',), ('continuing_rhythm',), ('steping_twisting',), ('fast_rhythm',), ('leaping_twisting',), ('triplet',), ('steping_twisting',), ('no skills',), ('leaping_twisting',), ('no skills',), ('no skills',), ('leaping_twisting',), ('triplet',), ('continuing_rhythm',), ('steping_twisting',), ('fast_rhythm',), ('fast_rhythm',), ('triplet',), ('steping_twisting',), ('no skills',), ('leaping_twisting',), ('no skills',), ('no skills',), ('no skills',), ('no skills',), ('no skills',), ('no skills',), ('no skills',), ('up_leaping',), ('down_steping',), ('up_steping',), ('no skills',), ('up_leaping',), ('down_steping',), ('triplet',), ('no skills',), ('steping_twisting',), ('no skills',), ('no skills',), ('up_leaping',), ('triplet',), ('continuing_rhythm',), ('steping_twisting',), ('fast_rhythm',), ('leaping_twisting',), ('triplet',), ('steping_twisting',), ('no skills',), ('leaping_twisting',), ('no skills',), ('no skills',), ('no skills',), ('repeating',), ('no skills',), ('no skills',), ('triplet',), ('repeating',), ('no skills',), ('up_steping',), ('up_leaping',), ('triplet',), ('continuing_rhythm',), ('steping_twisting',), ('fast_rhythm',), ('leaping_twisting',), ('triplet',), ('steping_twisting',), ('no skills',), ('leaping_twisting',), ('no skills',), ('no skills',), ('leaping_twisting',), ('triplet',), ('continuing_rhythm',), ('steping_twisting',), ('fast_rhythm',), ('fast_rhythm',), ('triplet',), ('steping_twisting',), ('no skills',), ('no skills',), ('no skills',), ('up_leaping',), ('no skills',), ('fast_rhythm',), ('leaping_twisting',), ('up_leaping',), ('no skills',), ('fast_rhythm',), ('leaping_twisting',), ('One_rhythm',), ('no skills',), ('no skills',), ('no skills',), ('no skills',), ('no skills',), ('fast_rhythm',), ('continuing_rhythm',), ('no skills',), ('repeating',), ('One_rhythm',), ('down_steping',), ('no skills',), ('no skills',), ('no skills',), ('no skills',), ('no skills',), ('up_leaping',), ('no skills',), ('fast_rhythm',), ('leaping_twisting',), ('up_leaping',), ('no skills',), ('fast_rhythm',), ('leaping_twisting',), ('One_rhythm',), ('no skills',), ('no skills',), ('no skills',), ('no skills',), ('no skills',), ('fast_rhythm',), ('continuing_rhythm',), ('no skills',), ('repeating',), ('One_rhythm',), ('down_steping',), ('no skills',), ('no skills',), ('no skills',), ('no skills',), ('no skills',), ('no skills',), ('One_rhythm',), ('no skills',), ('no skills',), ('no skills',), ('no skills',), ('no skills',), ('fast_rhythm',), ('continuing_rhythm',), ('no skills',), ('repeating',), ('One_rhythm',), ('down_steping',), ('fast_rhythm',), ('no skills',), ('no skills',), ('triplet',), ('triplet',), ('triplet',), ('repeating',), ('triplet',), ('triplet',), ('up_steping',), ('no skills',), ('triplet',), ('triplet',), ('triplet',), ('triplet',), ('triplet',), ('fast_rhythm',), ('triplet',), ('no skills',), ('triplet',), ('triplet',), ('triplet',), ('triplet',), ('up_steping',), ('triplet',), ('triplet',), ('up_steping',), ('triplet',), ('triplet',), ('triplet',), ('triplet',), ('up_steping',), ('triplet',), ('triplet',), ('up_steping',), ('no skills',), ('no skills',), ('no skills',), ('no skills',), ('triplet',), ('triplet',), ('triplet',), ('triplet',), ('triplet',), ('fast_rhythm',), ('triplet',), ('no skills',), ('triplet',), ('triplet',), ('triplet',), ('triplet',), ('up_steping',), ('triplet',), ('triplet',), ('up_steping',), ('triplet',), ('triplet',), ('triplet',), ('triplet',), ('up_steping',), ('triplet',), ('triplet',), ('up_steping',), ('no skills',), ('no skills',), ('triplet',), ('down_steping',), ('triplet',), ('triplet',), ('fast_rhythm',), ('triplet',), ('triplet',), ('triplet',), ('up_steping',), ('no skills',), ('up_steping',), ('triplet',), ('steping_twisting',), ('fast_rhythm',), ('One_rhythm',), ('up_steping',), ('triplet',), ('triplet',), ('down_steping',), ('triplet',), ('down_steping',), ('triplet',), ('steping_twisting',), ('leaping_twisting',), ('no skills',), ('no skills',), ('no skills',), ('no skills',), ('no skills',), ('no skills',), ('no skills',), ('no skills',), ('up_steping',), ('no skills',), ('up_steping',), ('triplet',), ('steping_twisting',), ('fast_rhythm',), ('One_rhythm',), ('up_steping',), ('triplet',), ('triplet',), ('down_steping',), ('triplet',), ('down_steping',), ('triplet',), ('steping_twisting',), ('leaping_twisting',), ('up_leaping',), ('leaping_twisting',), ('down_steping',), ('triplet',), ('leaping_twisting',), ('up_steping',), ('triplet',), ('triplet',), ('up_steping',), ('triplet',), ('leaping_twisting',), ('triplet',), ('no skills',), ('down_steping',), ('up_steping',), ('triplet',), ('up_steping',), ('triplet',), ('up_steping',), ('triplet',), ('up_steping',), ('up_leaping',), ('no skills',), ('no skills',), ('no skills',), ('no skills',), ('no skills',), ('no skills',), ('no skills',), ('up_leaping',), ('leaping_twisting',), ('down_steping',), ('triplet',), ('leaping_twisting',), ('up_steping',), ('fast_rhythm',), ('triplet',), ('up_steping',), ('triplet',), ('leaping_twisting',), ('triplet',), ('no skills',), ('down_steping',), ('up_steping',), ('triplet',), ('up_steping',), ('triplet',), ('up_steping',), ('triplet',), ('up_steping',), ('triplet',), ('no skills',), ('repeating',), ('triplet',), ('no skills',), ('triplet',), ('repeating',), ('triplet',), ('up_leaping',), ('triplet',), ('repeating',), ('triplet',), ('no skills',), ('triplet',), ('repeating',), ('triplet',), ('up_leaping',), ('triplet',), ('no skills',), ('continuing_rhythm',), ('One_rhythm',), ('leaping_twisting',), ('repeating',), ('up_steping',), ('down_leaping',), ('triplet',), ('no skills',), ('continuing_rhythm',), ('no skills',), ('leaping_twisting',), ('repeating',), ('up_steping',), ('down_leaping',), ('triplet',), ('repeating',), ('triplet',), ('no skills',), ('no skills',), ('no skills',), ('no skills',), ('no skills',), ('no skills',), ('no skills',), ('no skills',), ('repeating',), ('triplet',), ('no skills',), ('triplet',), ('repeating',), ('triplet',), ('up_leaping',), ('triplet',), ('no skills',), ('continuing_rhythm',), ('One_rhythm',), ('leaping_twisting',), ('repeating',), ('up_steping',), ('down_leaping',), ('triplet',), ('no skills',), ('continuing_rhythm',), ('no skills',), ('leaping_twisting',), ('repeating',), ('up_steping',), ('down_leaping',), ('triplet',), ('repeating',), ('triplet',), ('no skills',), ('continuing_rhythm',), ('One_rhythm',), ('leaping_twisting',), ('repeating',), ('up_steping',), ('down_leaping',), ('triplet',), ('no skills',), ('down_steping',), ('no skills',), ('down_steping',), ('no skills',), ('down_leaping',), ('no skills',), ('no skills',), ('no skills',), ('triplet',), ('no skills',), ('triplet',), ('no skills',), ('repeating',), ('no skills',), ('no skills',), ('no skills',), ('no skills',), ('triplet',), ('up_leaping',), ('triplet',), ('triplet',), ('triplet',), ('repeating',), ('triplet',), ('up_leaping',), ('triplet',), ('up_leaping',), ('triplet',), ('triplet',), ('triplet',), ('repeating',), ('triplet',), ('leaping_twisting',), ('no skills',), ('no skills',), ('no skills',), ('no skills',), ('no skills',), ('no skills',), ('no skills',), ('down_steping',), ('no skills',), ('down_steping',), ('no skills',), ('down_leaping',), ('no skills',), ('no skills',), ('no skills',), ('triplet',), ('no skills',), ('triplet',), ('no skills',), ('down_leaping',), ('no skills',), ('no skills',), ('no skills',), ('no skills',), ('triplet',), ('up_leaping',), ('triplet',), ('triplet',), ('triplet',), ('up_leaping',), ('triplet',), ('up_leaping',), ('triplet',), ('up_leaping',), ('triplet',), ('triplet',), ('triplet',), ('triplet',), ('triplet',), ('leaping_twisting',), ('no skills',), ('no skills',), ('no skills',), ('no skills',), ('up_leaping',), ('triplet',), ('triplet',), ('triplet',), ('triplet',), ('triplet',), ('repeating',), ('triplet',), ('no skills',), ('triplet',), ('triplet',), ('triplet',), ('triplet',), ('triplet',), ('repeating',)]\n"
          ],
          "name": "stdout"
        }
      ]
    },
    {
      "cell_type": "code",
      "metadata": {
        "id": "eKJiCvrXd5NJ",
        "colab": {
          "base_uri": "https://localhost:8080/",
          "height": 255
        },
        "outputId": "4a7ea8b7-7b98-4d33-f32c-3f56e67c28f3"
      },
      "source": [
        "prediction=classifier.predict(test_matrix[460].reshape(1,24,Minimum_time,1))\n",
        "categorical=np.zeros_like(prediction)\n",
        "num=np.argmax(prediction)\n",
        "categorical[0][num]=1\n",
        "label=mlb.inverse_transform(categorical)\n",
        "print(label)\n",
        "H = test_matrix[460].reshape(24,Minimum_time)\n",
        "fig = plt.figure(figsize=(6, 3.2))\n",
        "\n",
        "ax = fig.add_subplot(111)\n",
        "ax.set_title('colorMap')\n",
        "plt.imshow(H)\n",
        "ax.set_aspect('equal')\n",
        "\n",
        "cax = fig.add_axes([0.12, 0.1, 0.78, 0.8])\n",
        "cax.get_xaxis().set_visible(False)\n",
        "cax.get_yaxis().set_visible(False)\n",
        "cax.patch.set_alpha(0)\n",
        "cax.set_frame_on(False)\n",
        "plt.colorbar(orientation='vertical')\n",
        "plt.show()"
      ],
      "execution_count": null,
      "outputs": [
        {
          "output_type": "stream",
          "text": [
            "[('up_steping',)]\n"
          ],
          "name": "stdout"
        },
        {
          "output_type": "display_data",
          "data": {
            "image/png": "[encoded data removed]",
            "text/plain": [
              "<Figure size 432x230.4 with 3 Axes>"
            ]
          },
          "metadata": {
            "tags": [],
            "image/png": {
              "width": 333,
              "height": 220
            },
            "needs_background": "light"
          }
        }
      ]
    },
    {
      "cell_type": "markdown",
      "metadata": {
        "id": "_1UAO1g3lELo"
      },
      "source": [
        "Implementation of GAN "
      ]
    },
    {
      "cell_type": "code",
      "metadata": {
        "id": "27spffKwmnaO"
      },
      "source": [
        "import glob\n",
        "import imageio\n",
        "import matplotlib.pyplot as plt\n",
        "import numpy as np\n",
        "import os\n",
        "import PIL\n",
        "from tensorflow.keras import layers\n",
        "import time\n",
        "\n",
        "from IPython import display"
      ],
      "execution_count": null,
      "outputs": []
    },
    {
      "cell_type": "code",
      "metadata": {
        "id": "mGCuBMQI7sX3"
      },
      "source": [
        "def get_best_results(testresult,test_label2):  #for optimizing get_tag_results function\n",
        "  classnum={}\n",
        "  testnum={}\n",
        "  resultmat=[]\n",
        "  bestmat=[]\n",
        "  for i in range(len(testresult)):\n",
        "    best_result=[0 for i in range(13)]\n",
        "    class_num=np.count_nonzero(test_label2[i]==1)+1\n",
        "    classidx=(-testresult[i]).argsort()[:class_num]\n",
        "    for k,j in enumerate(classidx):\n",
        "      if (k==0):\n",
        "        best_result[j]=1\n",
        "    bestmat.append(best_result)\n",
        "  bestmat=np.array(bestmat)\n",
        "  bestidx=mlb.inverse_transform(bestmat)\n",
        "  return bestidx"
      ],
      "execution_count": null,
      "outputs": []
    },
    {
      "cell_type": "code",
      "metadata": {
        "id": "V32sqv0MOOnI",
        "colab": {
          "base_uri": "https://localhost:8080/"
        },
        "outputId": "8587f06d-1d56-42ce-ba86-f75d1bd2dac1"
      },
      "source": [
        "trainX=train_matrix.reshape((int(len(all_matrix)*0.85),24,Minimum_time))\n",
        "for i in tqdm(range(int(len(train_matrix)//1000)),position=0):\n",
        "  if(i==0):\n",
        "    test_result=classifier.predict(train_matrix[1000*i:1000+1000*i])\n",
        "  else:\n",
        "    sub_testresult=classifier.predict(train_matrix[1000*i:1000+1000*i])\n",
        "    test_result=np.concatenate((test_result,sub_testresult))\n",
        "sub_testresult=classifier.predict(train_matrix[1000*(i+1):])\n",
        "test_result=np.concatenate((test_result,sub_testresult))\n",
        "trainy=np.array(get_best_results(test_result,train_label2)).reshape((int(len(all_matrix)*0.85),))\n",
        "print('Train', trainX.shape, trainy.shape)"
      ],
      "execution_count": null,
      "outputs": [
        {
          "output_type": "stream",
          "text": [
            "100%|██████████| 35/35 [00:01<00:00, 18.69it/s]\n"
          ],
          "name": "stderr"
        },
        {
          "output_type": "stream",
          "text": [
            "Train (35458, 24, 16) (35458,)\n"
          ],
          "name": "stdout"
        }
      ]
    },
    {
      "cell_type": "code",
      "metadata": {
        "id": "XCe1Clvjvz1-",
        "colab": {
          "base_uri": "https://localhost:8080/"
        },
        "outputId": "f40fe232-f90f-400a-9614-5acde9dab84b"
      },
      "source": [
        "from sklearn.preprocessing import LabelEncoder\n",
        "encoder = LabelEncoder()\n",
        "encoder.fit(trainy)\n",
        "trainy = encoder.transform(trainy)\n",
        "print(trainy)\n",
        "trainy=np.array(trainy)"
      ],
      "execution_count": null,
      "outputs": [
        {
          "output_type": "stream",
          "text": [
            "[ 9 10  9 ...  9  9  9]\n"
          ],
          "name": "stdout"
        }
      ]
    },
    {
      "cell_type": "code",
      "metadata": {
        "id": "OiRvfSRjmyEr"
      },
      "source": [
        "import numpy as np\n",
        "import scipy as sp\n",
        "import scipy.ndimage\n",
        "def blur_image(matrix):\n",
        "  sigma_y = 0.5\n",
        "  sigma_x = 0.5\n",
        "  inputmat=matrix\n",
        "  # Apply gaussian filter\n",
        "  sigma = [sigma_y, sigma_x]\n",
        "  y = sp.ndimage.filters.gaussian_filter(inputmat, sigma, mode='constant')\n",
        "  return y\n"
      ],
      "execution_count": null,
      "outputs": []
    },
    {
      "cell_type": "code",
      "metadata": {
        "id": "FHYRcDkY4GgB"
      },
      "source": [
        "blur_trainX=copy.deepcopy(trainX)\n",
        "for i,matrix in enumerate(trainX):\n",
        "  blur_trainX[i]=blur_image(matrix)\n",
        "trainX=blur_trainX"
      ],
      "execution_count": null,
      "outputs": []
    },
    {
      "cell_type": "code",
      "metadata": {
        "id": "5zvs3DNh9EMk",
        "colab": {
          "base_uri": "https://localhost:8080/",
          "height": 283
        },
        "outputId": "ac2dc5e5-583a-489c-8edb-9dff43e87b6d"
      },
      "source": [
        "plt.imshow(trainX[236])"
      ],
      "execution_count": null,
      "outputs": [
        {
          "output_type": "execute_result",
          "data": {
            "text/plain": [
              "<matplotlib.image.AxesImage at 0x7f8148f50c10>"
            ]
          },
          "metadata": {
            "tags": []
          },
          "execution_count": 55
        },
        {
          "output_type": "display_data",
          "data": {
            "image/png": "[encoded data removed]",
            "text/plain": [
              "<Figure size 432x288 with 1 Axes>"
            ]
          },
          "metadata": {
            "tags": [],
            "image/png": {
              "width": 181,
              "height": 248
            },
            "needs_background": "light"
          }
        }
      ]
    },
    {
      "cell_type": "code",
      "metadata": {
        "id": "EJr2T_F3wHVK"
      },
      "source": [
        "#These scripts refer to https://github.com/gaborvecsei/CDCGAN-Keras/tree/master/cdcgan.\n",
        "\n",
        "import matplotlib\n",
        "\n",
        "matplotlib.use('Agg')\n",
        "from keras import models, layers\n",
        "\n",
        "ACTIVATION = layers.Activation(\"tanh\")\n",
        "\n",
        "\n",
        "def generator_model(minimum_time):\n",
        "    # Prepare noise input\n",
        "    input_z = layers.Input((13,))\n",
        "    dense_z_1 = layers.Dense(1024)(input_z)\n",
        "    act_z_1 = ACTIVATION(dense_z_1)\n",
        "    dense_z_2 = layers.Dense(128 * 6 * int(minimum_time/4))(act_z_1)\n",
        "    bn_z_1 = layers.BatchNormalization()(dense_z_2)\n",
        "    reshape_z = layers.Reshape((6, int(minimum_time/4), 128), input_shape=(128 * 6 * int(minimum_time/4),))(bn_z_1)\n",
        "\n",
        "    # Prepare Conditional (label) input\n",
        "    input_c = layers.Input((13,))\n",
        "    dense_c_1 = layers.Dense(1024)(input_c)\n",
        "    act_c_1 = ACTIVATION(dense_c_1)\n",
        "    dense_c_2 = layers.Dense(128 * 6 * int(minimum_time/4))(act_c_1)\n",
        "    bn_c_1 = layers.BatchNormalization()(dense_c_2)\n",
        "    reshape_c = layers.Reshape((6, int(minimum_time/4), 128), input_shape=(128 * 6 * int(minimum_time/4),))(bn_c_1)\n",
        "\n",
        "    # Combine input source\n",
        "    concat_z_c = layers.Concatenate()([reshape_z, reshape_c])\n",
        "\n",
        "    # Image generation with the concatenated inputs\n",
        "    up_1 = layers.UpSampling2D(size=(2, 2))(concat_z_c)\n",
        "    conv_1 = layers.Conv2D(64, (5, 5), padding='same')(up_1)\n",
        "    act_1 = ACTIVATION(conv_1)\n",
        "    up_2 = layers.UpSampling2D(size=(2, 2))(act_1)\n",
        "    conv_2 = layers.Conv2D(1, (5, 5), padding='same')(up_2)\n",
        "    act_2 = layers.Activation(\"tanh\")(conv_2)\n",
        "    model = models.Model(inputs=[input_z, input_c], outputs=act_2)\n",
        "    return model\n",
        "\n",
        "\n",
        "def discriminator_model(minimum_time):\n",
        "    input_gen_image = layers.Input((24, minimum_time, 1))\n",
        "    conv_1_image = layers.Conv2D(64, (5, 5), padding='same')(input_gen_image)\n",
        "    act_1_image = ACTIVATION(conv_1_image)\n",
        "    pool_1_image = layers.MaxPooling2D(pool_size=(2, 2))(act_1_image)\n",
        "    conv_2_image = layers.Conv2D(128, (5, 5))(pool_1_image)\n",
        "    act_2_image = ACTIVATION(conv_2_image)\n",
        "    pool_2_image = layers.MaxPooling2D(pool_size=(2, 2))(act_2_image)\n",
        "\n",
        "    input_c = layers.Input((13,))\n",
        "    dense_1_c = layers.Dense(1024)(input_c)\n",
        "    act_1_c = ACTIVATION(dense_1_c)\n",
        "    dense_2_c = layers.Dense(4 * int(minimum_time/4-2) * 128)(act_1_c)\n",
        "    bn_c = layers.BatchNormalization()(dense_2_c)\n",
        "    reshaped_c = layers.Reshape((4, int(minimum_time/4-2), 128))(bn_c)\n",
        "\n",
        "    concat = layers.Concatenate()([pool_2_image, reshaped_c])\n",
        "\n",
        "    flat = layers.Flatten()(concat)\n",
        "    dense_1 = layers.Dense(1024)(flat)\n",
        "    act_1 = ACTIVATION(dense_1)\n",
        "    dense_2 = layers.Dense(1)(act_1)\n",
        "    act_2 = layers.Activation('sigmoid')(dense_2)\n",
        "    model = models.Model(inputs=[input_gen_image, input_c], outputs=act_2)\n",
        "    return model\n",
        "\n",
        "\n",
        "def generator_containing_discriminator(g, d):\n",
        "    input_z = layers.Input((13,))\n",
        "    input_c = layers.Input((13,))\n",
        "    gen_image = g([input_z, input_c])\n",
        "    d.trainable = False\n",
        "    is_real = d([gen_image, input_c])\n",
        "    model = models.Model(inputs=[input_z, input_c], outputs=is_real)\n",
        "    return model"
      ],
      "execution_count": null,
      "outputs": []
    },
    {
      "cell_type": "code",
      "metadata": {
        "id": "XNHFwwLpm85B"
      },
      "source": [
        "import math\n",
        "import os\n",
        "import subprocess\n",
        "\n",
        "import cv2\n",
        "import matplotlib\n",
        "\n",
        "matplotlib.use('Agg')\n",
        "import matplotlib.pyplot as plt\n",
        "import numpy as np\n",
        "\n",
        "\n",
        "def combine_images(generated_images):\n",
        "    num_images = generated_images.shape[0]\n",
        "    new_width = int(math.sqrt(num_images))\n",
        "    new_height = int(math.ceil(float(num_images) / new_width))\n",
        "    grid_shape = generated_images.shape[1:3]\n",
        "    grid_image = np.zeros((new_height * grid_shape[0], new_width * grid_shape[1]), dtype=generated_images.dtype)\n",
        "    for index, img in enumerate(generated_images):\n",
        "        i = int(index / new_width)\n",
        "        j = index % new_width\n",
        "        grid_image[i * grid_shape[0]:(i + 1) * grid_shape[0], j * grid_shape[1]:(j + 1) * grid_shape[1]] = \\\n",
        "            img[:, :, 0]\n",
        "    return grid_image\n",
        "\n",
        "\n",
        "def generate_noise(shape: tuple):\n",
        "    noise = np.random.uniform(0, 1, size=shape)\n",
        "    return noise\n",
        "\n",
        "\n",
        "def generate_condition_embedding(label: int, nb_of_label_embeddings: int):\n",
        "    label_embeddings = np.zeros((nb_of_label_embeddings, 13))\n",
        "    label_embeddings[:, label] = 1\n",
        "    return label_embeddings\n",
        "\n",
        "\n",
        "def generate_images(generator, nb_images: int, label: int):\n",
        "    noise = generate_noise((nb_images, 13))\n",
        "    label_batch = generate_condition_embedding(label, nb_images)\n",
        "    generated_images = generator.predict([noise, label_batch], verbose=0)\n",
        "    return generated_images\n",
        "\n",
        "\n",
        "def generate_mnist_image_grid(generator, title: str = \"Generated images\"):\n",
        "    generated_images = []\n",
        "\n",
        "    for i in range(10):\n",
        "        noise = generate_noise((10, 13))\n",
        "        label_input = generate_condition_embedding(i, 10)\n",
        "        gen_images = generator.predict([noise, label_input], verbose=0)\n",
        "        generated_images.extend(gen_images)\n",
        "\n",
        "    generated_images = np.array(generated_images)\n",
        "    image_grid = combine_images(generated_images)\n",
        "    image_grid = inverse_transform_images(image_grid)\n",
        "\n",
        "    fig = plt.figure()\n",
        "    ax = fig.add_subplot(1, 1, 1)\n",
        "    ax.axis(\"off\")\n",
        "    ax.imshow(image_grid, cmap=\"gray\")\n",
        "    ax.set_title(title)\n",
        "    fig.canvas.draw()\n",
        "\n",
        "    image = np.fromstring(fig.canvas.tostring_rgb(), dtype=np.uint8, sep='')\n",
        "    image = image.reshape(fig.canvas.get_width_height()[::-1] + (3,))\n",
        "\n",
        "    plt.close()\n",
        "\n",
        "    return image\n",
        "\n",
        "\n",
        "def save_generated_image(image, epoch, iteration, folder_path):\n",
        "    if not os.path.isdir(folder_path):\n",
        "        os.makedirs(folder_path)\n",
        "\n",
        "    file_path = \"{0}/{1}_{2}.png\".format(folder_path, epoch, iteration)\n",
        "    cv2.imwrite(file_path, image.astype(np.uint8))\n",
        "\n",
        "\n",
        "def transform_images(images: np.ndarray):\n",
        "    \"\"\"\n",
        "    [0,1]Transform images to [-1, 1]\n",
        "    \"\"\"\n",
        "    max_value=images.max()\n",
        "\n",
        "    images = (images.astype(np.float32) - (max_value/2)) / (max_value/2)\n",
        "    return images\n",
        "\n",
        "\n",
        "def inverse_transform_images(images: np.ndarray):\n",
        "    \"\"\"\n",
        "    From the [-1, 1] range transform the images back to [0, 255]\n",
        "    \"\"\"\n",
        "\n",
        "    images = images * 127.5 + 127.5\n",
        "    images = images.astype(np.uint8)\n",
        "    return images\n",
        "\n",
        "\n",
        "def convert_video_to_gif(input_video_path, output_gif_path, fps=24):\n",
        "    palette_image_path = \"palette.png\"\n",
        "    command_palette = 'ffmpeg -y -t 0 -i {0} -vf fps={1},scale=320:-1:flags=lanczos,palettegen {2}'.format(input_video_path,\n",
        "                                                                                                           fps,\n",
        "                                                                                                           palette_image_path)\n",
        "    command_convert = 'ffmpeg -y -t 0 -i {0} -i {1} -filter_complex \"fps={2},scale=320:-1:flags=lanczos[x];[x][1:v]paletteuse\" {3}'.format(input_video_path,palette_image_path, fps, output_gif_path)\n",
        "    \n",
        "    try:\n",
        "        subprocess.check_call(command_palette)\n",
        "        subprocess.check_call(command_convert)\n",
        "    except subprocess.CalledProcessError as exc:\n",
        "        print(exc.output)\n",
        "        raise\n",
        "    finally:\n",
        "        os.remove(palette_image_path)"
      ],
      "execution_count": null,
      "outputs": []
    },
    {
      "cell_type": "code",
      "metadata": {
        "id": "1xqJAsQDYM2D",
        "colab": {
          "base_uri": "https://localhost:8080/"
        },
        "outputId": "0ce4c32f-990e-4cf7-e69d-0cd4e6441969"
      },
      "source": [
        "pip install git+https://github.com/gaborvecsei/Swiss-Army-Tensorboard.git"
      ],
      "execution_count": null,
      "outputs": [
        {
          "output_type": "stream",
          "text": [
            "Collecting git+https://github.com/gaborvecsei/Swiss-Army-Tensorboard.git\n",
            "  Cloning https://github.com/gaborvecsei/Swiss-Army-Tensorboard.git to /tmp/pip-req-build-nvyl0dw3\n",
            "  Running command git clone -q https://github.com/gaborvecsei/Swiss-Army-Tensorboard.git /tmp/pip-req-build-nvyl0dw3\n",
            "Requirement already satisfied (use --upgrade to upgrade): swiss-army-tensorboard==0.0.1 from git+https://github.com/gaborvecsei/Swiss-Army-Tensorboard.git in /usr/local/lib/python3.7/dist-packages\n",
            "Requirement already satisfied: numpy>=1.16.1 in /usr/local/lib/python3.7/dist-packages (from swiss-army-tensorboard==0.0.1) (1.19.5)\n",
            "Requirement already satisfied: matplotlib>=3.1 in /usr/local/lib/python3.7/dist-packages (from swiss-army-tensorboard==0.0.1) (3.2.2)\n",
            "Requirement already satisfied: python-dateutil>=2.1 in /usr/local/lib/python3.7/dist-packages (from matplotlib>=3.1->swiss-army-tensorboard==0.0.1) (2.8.1)\n",
            "Requirement already satisfied: kiwisolver>=1.0.1 in /usr/local/lib/python3.7/dist-packages (from matplotlib>=3.1->swiss-army-tensorboard==0.0.1) (1.3.1)\n",
            "Requirement already satisfied: pyparsing!=2.0.4,!=2.1.2,!=2.1.6,>=2.0.1 in /usr/local/lib/python3.7/dist-packages (from matplotlib>=3.1->swiss-army-tensorboard==0.0.1) (2.4.7)\n",
            "Requirement already satisfied: cycler>=0.10 in /usr/local/lib/python3.7/dist-packages (from matplotlib>=3.1->swiss-army-tensorboard==0.0.1) (0.10.0)\n",
            "Requirement already satisfied: six>=1.5 in /usr/local/lib/python3.7/dist-packages (from python-dateutil>=2.1->matplotlib>=3.1->swiss-army-tensorboard==0.0.1) (1.15.0)\n",
            "Building wheels for collected packages: swiss-army-tensorboard\n",
            "  Building wheel for swiss-army-tensorboard (setup.py) ... \u001b[?25l\u001b[?25hdone\n",
            "  Created wheel for swiss-army-tensorboard: filename=swiss_army_tensorboard-0.0.1-cp37-none-any.whl size=5377 sha256=8bc33834a1284a38c50719a9324fa9e1f410499f29c5f42ee3b317e74436f2a3\n",
            "  Stored in directory: /tmp/pip-ephem-wheel-cache-170i50yw/wheels/ea/f7/db/67f8661f9c334ad8eda2d0dfbc21bcaea99f739c97f6008d41\n",
            "Successfully built swiss-army-tensorboard\n"
          ],
          "name": "stdout"
        }
      ]
    },
    {
      "cell_type": "code",
      "metadata": {
        "id": "kJjHn-Nngy8P",
        "colab": {
          "base_uri": "https://localhost:8080/"
        },
        "outputId": "8d96f810-88af-4f8f-b656-5cc9e2287470"
      },
      "source": [
        "import matplotlib\n",
        "\n",
        "matplotlib.use('Agg')\n",
        "import numpy as np\n",
        "from keras import backend as K\n",
        "from keras import utils as keras_utils\n",
        "from keras import optimizers\n",
        "from keras import datasets\n",
        "from swiss_army_tensorboard import tfboard_loggers\n",
        "from tqdm import tqdm\n",
        "\n",
        "BATCH_SIZE = 128\n",
        "EPOCHS = 50\n",
        "\n",
        "# Load & Prepare data\n",
        "\n",
        "X_train=trainX\n",
        "y_train=trainy\n",
        "X_train = transform_images(X_train)\n",
        "X_train = X_train[:, :, :, None]\n",
        "\n",
        "y_train = keras_utils.to_categorical(y_train, 13)\n",
        "\n",
        "# Create the models\n",
        "\n",
        "G = generator_model(Minimum_time)\n",
        "D = discriminator_model(Minimum_time)\n",
        "\n",
        "GD = generator_containing_discriminator(G, D)\n",
        "\n",
        "optimizer = optimizers.Adam(0.0002, 0.5)\n",
        "\n",
        "G.compile(loss='binary_crossentropy', optimizer=optimizer)\n",
        "GD.compile(loss='binary_crossentropy', optimizer=optimizer)\n",
        "D.trainable = True\n",
        "D.compile(loss='binary_crossentropy', optimizer=optimizer)\n"
      ],
      "execution_count": null,
      "outputs": [
        {
          "output_type": "stream",
          "text": [
            "WARNING:tensorflow:From /usr/local/lib/python3.7/dist-packages/swiss_army_tensorboard/tfboard_loggers/tfboard_loggers.py:47: The name tf.HistogramProto is deprecated. Please use tf.compat.v1.HistogramProto instead.\n",
            "\n",
            "WARNING:tensorflow:From /usr/local/lib/python3.7/dist-packages/keras/backend/tensorflow_backend.py:4070: The name tf.nn.max_pool is deprecated. Please use tf.nn.max_pool2d instead.\n",
            "\n"
          ],
          "name": "stdout"
        }
      ]
    },
    {
      "cell_type": "code",
      "metadata": {
        "id": "xiSLW8ipuBhP",
        "colab": {
          "base_uri": "https://localhost:8080/",
          "height": 35
        },
        "outputId": "25a9128a-ec39-4559-81e2-bb080dd2f6d7"
      },
      "source": [
        "\"\"\"\n",
        "G.load_weights(\"/content/drive/My Drive/MARG/PPDDlist/GAN_result/generator.h5\")\n",
        "D.load_weights(\"/content/drive/My Drive/MARG/PPDDlist/GAN_result/discriminator.h5\")\n",
        "\"\"\""
      ],
      "execution_count": null,
      "outputs": [
        {
          "output_type": "execute_result",
          "data": {
            "application/vnd.google.colaboratory.intrinsic+json": {
              "type": "string"
            },
            "text/plain": [
              "'\\nG.load_weights(\"/content/drive/My Drive/MARG/PPDDlist/GAN_result/generator.h5\")\\nD.load_weights(\"/content/drive/My Drive/MARG/PPDDlist/GAN_result/discriminator.h5\")\\n'"
            ]
          },
          "metadata": {
            "tags": []
          },
          "execution_count": 60
        }
      ]
    },
    {
      "cell_type": "code",
      "metadata": {
        "id": "CX3bvlrduAKR",
        "colab": {
          "base_uri": "https://localhost:8080/"
        },
        "outputId": "e3528c95-0668-470c-956d-3393e2488cb5"
      },
      "source": [
        "from tensorflow import keras\n",
        "# Setup Tensorboard loggers\n",
        "\n",
        "tfboard_loggers.TFBoardModelGraphLogger.log_graph(\"/content/drive/My Drive/MARG/PPDDlist/GAN_result/logs\", K.get_session())\n",
        "loss_logger = tfboard_loggers.TFBoardScalarLogger(\"/content/drive/My Drive/MARG/PPDDlist/GAN_result/logs/loss\")\n",
        "image_logger = tfboard_loggers.TFBoardImageLogger(\"/content/drive/My Drive/MARG/PPDDlist/GAN_result/logs/generated_images\")\n",
        "\n",
        "# Model Training\n",
        "\n",
        "iteration = 0\n",
        "dist_val=0.8\n",
        "nb_of_iterations_per_epoch = int(X_train.shape[0] / BATCH_SIZE)\n",
        "print(\"Number of iterations per epoch: {0}\".format(nb_of_iterations_per_epoch))\n",
        "\n",
        "for epoch in range(EPOCHS):\n",
        "    pbar = tqdm(desc=\"Epoch: {0}\".format(epoch), total=X_train.shape[0],position=0)\n",
        "\n",
        "    g_losses_for_epoch = []\n",
        "    d_losses_for_epoch = []\n",
        "\n",
        "    for i in range(nb_of_iterations_per_epoch):\n",
        "        noise = generate_noise((BATCH_SIZE, 13))\n",
        "\n",
        "        image_batch = X_train[i * BATCH_SIZE:(i + 1) * BATCH_SIZE]\n",
        "        label_batch = y_train[i * BATCH_SIZE:(i + 1) * BATCH_SIZE]\n",
        "\n",
        "        generated_images = G.predict([noise, label_batch], verbose=0)\n",
        "        X = np.concatenate((image_batch, generated_images))\n",
        "        y = [1] * BATCH_SIZE + [0] * BATCH_SIZE\n",
        "        label_batches_for_discriminator = np.concatenate((label_batch, label_batch))\n",
        "        \n",
        "        if(np.random.random()<dist_val):\n",
        "            D_loss = D.train_on_batch([X, label_batches_for_discriminator], y)\n",
        "            d_losses_for_epoch.append(D_loss)\n",
        "            loss_logger.log_scalar(\"discriminator_loss\", D_loss, iteration)\n",
        "\n",
        "        noise = generate_noise((BATCH_SIZE, 13))\n",
        "        D.trainable = False\n",
        "        G_loss = GD.train_on_batch([noise, label_batch], [1] * BATCH_SIZE)\n",
        "        D.trainable = True\n",
        "        g_losses_for_epoch.append(G_loss)\n",
        "        loss_logger.log_scalar(\"generator_loss\", G_loss, iteration)\n",
        "\n",
        "        pbar.update(BATCH_SIZE)\n",
        "\n",
        "        iteration += 1\n",
        "        \n",
        "    # Save a generated image for every epoch\n",
        "    image_grid = generate_mnist_image_grid(G, title=\"Epoch {0}\".format(epoch))\n",
        "    save_generated_image(image_grid, epoch, 0, \"/content/drive/My Drive/MARG/PPDDlist/GAN_result/generated_mnist_images_per_epoch\")\n",
        "    image_logger.log_images(\"/content/drive/My Drive/MARG/PPDDlist/GAN_result/generated_mnist_images_per_epoch\", [image_grid], epoch)\n",
        "\n",
        "    pbar.close()\n",
        "    print(\"D loss: {0}, G loss: {1}\".format(np.mean(d_losses_for_epoch), np.mean(g_losses_for_epoch)))\n",
        "    if(np.mean(g_losses_for_epoch)>1):\n",
        "      dist_val=0.8\n",
        "    else:\n",
        "      dist_val=0.4\n",
        "\n",
        "\n",
        "    G.save_weights(\"/content/drive/My Drive/MARG/PPDDlist/GAN_result/generator.h5\")\n",
        "    D.save_weights(\"/content/drive/My Drive/MARG/PPDDlist/GAN_result/discriminator.h5\")"
      ],
      "execution_count": null,
      "outputs": [
        {
          "output_type": "stream",
          "text": [
            "WARNING:tensorflow:From /usr/local/lib/python3.7/dist-packages/swiss_army_tensorboard/tfboard_loggers/tfboard_loggers.py:32: The name tf.summary.FileWriter is deprecated. Please use tf.compat.v1.summary.FileWriter instead.\n",
            "\n"
          ],
          "name": "stdout"
        },
        {
          "output_type": "stream",
          "text": [
            "/usr/local/lib/python3.7/dist-packages/swiss_army_tensorboard/tfboard_loggers/tfboard_loggers.py:19: UserWarning: Folder /content/drive/My Drive/MARG/PPDDlist/GAN_result/logs/loss is already created, maybe it contains other log files\n",
            "  warnings.warn(\"Folder {0} is already created, maybe it contains other log files\".format(log_dir))\n",
            "/usr/local/lib/python3.7/dist-packages/swiss_army_tensorboard/tfboard_loggers/tfboard_loggers.py:19: UserWarning: Folder /content/drive/My Drive/MARG/PPDDlist/GAN_result/logs/generated_images is already created, maybe it contains other log files\n",
            "  warnings.warn(\"Folder {0} is already created, maybe it contains other log files\".format(log_dir))\n",
            "\rEpoch: 0:   0%|          | 0/35458 [00:00<?, ?it/s]"
          ],
          "name": "stderr"
        },
        {
          "output_type": "stream",
          "text": [
            "Number of iterations per epoch: 277\n",
            "WARNING:tensorflow:From /usr/local/lib/python3.7/dist-packages/keras/backend/tensorflow_backend.py:422: The name tf.global_variables is deprecated. Please use tf.compat.v1.global_variables instead.\n",
            "\n",
            "WARNING:tensorflow:From /usr/local/lib/python3.7/dist-packages/swiss_army_tensorboard/tfboard_loggers/tfboard_loggers.py:72: The name tf.Summary is deprecated. Please use tf.compat.v1.Summary instead.\n",
            "\n"
          ],
          "name": "stdout"
        },
        {
          "output_type": "stream",
          "text": [
            "Epoch: 0:  99%|█████████▉| 35072/35458 [00:10<00:00, 4920.23it/s]/usr/local/lib/python3.7/dist-packages/ipykernel_launcher.py:64: DeprecationWarning: The binary mode of fromstring is deprecated, as it behaves surprisingly on unicode inputs. Use frombuffer instead\n",
            "Epoch: 0: 100%|█████████▉| 35456/35458 [00:11<00:00, 3192.08it/s]\n"
          ],
          "name": "stderr"
        },
        {
          "output_type": "stream",
          "text": [
            "D loss: 0.31911924481391907, G loss: 3.612621545791626\n"
          ],
          "name": "stdout"
        },
        {
          "output_type": "stream",
          "text": [
            "Epoch: 1: 100%|█████████▉| 35456/35458 [00:07<00:00, 4626.13it/s]\n"
          ],
          "name": "stderr"
        },
        {
          "output_type": "stream",
          "text": [
            "D loss: 0.6458978056907654, G loss: 1.1392030715942383\n"
          ],
          "name": "stdout"
        },
        {
          "output_type": "stream",
          "text": [
            "Epoch: 2: 100%|█████████▉| 35456/35458 [00:07<00:00, 4691.41it/s]\n"
          ],
          "name": "stderr"
        },
        {
          "output_type": "stream",
          "text": [
            "D loss: 0.6839741468429565, G loss: 0.7908486127853394\n"
          ],
          "name": "stdout"
        },
        {
          "output_type": "stream",
          "text": [
            "Epoch: 3: 100%|█████████▉| 35456/35458 [00:06<00:00, 5505.91it/s]\n",
            "Epoch: 4:   0%|          | 0/35458 [00:00<?, ?it/s]"
          ],
          "name": "stderr"
        },
        {
          "output_type": "stream",
          "text": [
            "D loss: 0.6841965913772583, G loss: 0.7376241683959961\n"
          ],
          "name": "stdout"
        },
        {
          "output_type": "stream",
          "text": [
            "Epoch: 4: 100%|█████████▉| 35456/35458 [00:06<00:00, 5444.80it/s]\n",
            "Epoch: 5:   0%|          | 0/35458 [00:00<?, ?it/s]"
          ],
          "name": "stderr"
        },
        {
          "output_type": "stream",
          "text": [
            "D loss: 0.6936008930206299, G loss: 0.7608880400657654\n"
          ],
          "name": "stdout"
        },
        {
          "output_type": "stream",
          "text": [
            "Epoch: 5: 100%|█████████▉| 35456/35458 [00:06<00:00, 5456.04it/s]\n",
            "Epoch: 6:   0%|          | 0/35458 [00:00<?, ?it/s]"
          ],
          "name": "stderr"
        },
        {
          "output_type": "stream",
          "text": [
            "D loss: 0.6768841743469238, G loss: 0.7774552702903748\n"
          ],
          "name": "stdout"
        },
        {
          "output_type": "stream",
          "text": [
            "Epoch: 6: 100%|█████████▉| 35456/35458 [00:06<00:00, 5463.22it/s]\n",
            "Epoch: 7:   0%|          | 0/35458 [00:00<?, ?it/s]"
          ],
          "name": "stderr"
        },
        {
          "output_type": "stream",
          "text": [
            "D loss: 0.6770216822624207, G loss: 0.7835777997970581\n"
          ],
          "name": "stdout"
        },
        {
          "output_type": "stream",
          "text": [
            "Epoch: 7: 100%|█████████▉| 35456/35458 [00:06<00:00, 5413.87it/s]\n",
            "Epoch: 8:   0%|          | 0/35458 [00:00<?, ?it/s]"
          ],
          "name": "stderr"
        },
        {
          "output_type": "stream",
          "text": [
            "D loss: 0.6658591032028198, G loss: 0.8100565075874329\n"
          ],
          "name": "stdout"
        },
        {
          "output_type": "stream",
          "text": [
            "Epoch: 8: 100%|█████████▉| 35456/35458 [00:06<00:00, 5287.70it/s]\n",
            "Epoch: 9:   0%|          | 0/35458 [00:00<?, ?it/s]"
          ],
          "name": "stderr"
        },
        {
          "output_type": "stream",
          "text": [
            "D loss: 0.6810272336006165, G loss: 0.7819302678108215\n"
          ],
          "name": "stdout"
        },
        {
          "output_type": "stream",
          "text": [
            "Epoch: 9: 100%|█████████▉| 35456/35458 [00:06<00:00, 5491.71it/s]\n",
            "Epoch: 10:   0%|          | 0/35458 [00:00<?, ?it/s]"
          ],
          "name": "stderr"
        },
        {
          "output_type": "stream",
          "text": [
            "D loss: 0.6597306132316589, G loss: 0.8090488314628601\n"
          ],
          "name": "stdout"
        },
        {
          "output_type": "stream",
          "text": [
            "Epoch: 10: 100%|█████████▉| 35456/35458 [00:06<00:00, 5455.01it/s]\n",
            "Epoch: 11:   0%|          | 0/35458 [00:00<?, ?it/s]"
          ],
          "name": "stderr"
        },
        {
          "output_type": "stream",
          "text": [
            "D loss: 0.6673479080200195, G loss: 0.8243420124053955\n"
          ],
          "name": "stdout"
        },
        {
          "output_type": "stream",
          "text": [
            "Epoch: 11: 100%|█████████▉| 35456/35458 [00:06<00:00, 5361.32it/s]\n",
            "Epoch: 12:   0%|          | 0/35458 [00:00<?, ?it/s]"
          ],
          "name": "stderr"
        },
        {
          "output_type": "stream",
          "text": [
            "D loss: 0.6464501619338989, G loss: 0.8554122447967529\n"
          ],
          "name": "stdout"
        },
        {
          "output_type": "stream",
          "text": [
            "Epoch: 12: 100%|█████████▉| 35456/35458 [00:06<00:00, 5445.18it/s]\n",
            "Epoch: 13:   0%|          | 0/35458 [00:00<?, ?it/s]"
          ],
          "name": "stderr"
        },
        {
          "output_type": "stream",
          "text": [
            "D loss: 0.6647980809211731, G loss: 0.8593266606330872\n"
          ],
          "name": "stdout"
        },
        {
          "output_type": "stream",
          "text": [
            "Epoch: 13: 100%|█████████▉| 35456/35458 [00:06<00:00, 5357.06it/s]\n",
            "Epoch: 14:   0%|          | 0/35458 [00:00<?, ?it/s]"
          ],
          "name": "stderr"
        },
        {
          "output_type": "stream",
          "text": [
            "D loss: 0.6427276134490967, G loss: 0.8991257548332214\n"
          ],
          "name": "stdout"
        },
        {
          "output_type": "stream",
          "text": [
            "Epoch: 14: 100%|█████████▉| 35456/35458 [00:06<00:00, 5388.94it/s]\n",
            "Epoch: 15:   0%|          | 0/35458 [00:00<?, ?it/s]"
          ],
          "name": "stderr"
        },
        {
          "output_type": "stream",
          "text": [
            "D loss: 0.6536888480186462, G loss: 0.8898229598999023\n"
          ],
          "name": "stdout"
        },
        {
          "output_type": "stream",
          "text": [
            "Epoch: 15: 100%|█████████▉| 35456/35458 [00:06<00:00, 5437.73it/s]\n",
            "Epoch: 16:   0%|          | 0/35458 [00:00<?, ?it/s]"
          ],
          "name": "stderr"
        },
        {
          "output_type": "stream",
          "text": [
            "D loss: 0.6206710338592529, G loss: 0.8823016285896301\n"
          ],
          "name": "stdout"
        },
        {
          "output_type": "stream",
          "text": [
            "Epoch: 16: 100%|█████████▉| 35456/35458 [00:06<00:00, 5522.80it/s]\n",
            "Epoch: 17:   0%|          | 0/35458 [00:00<?, ?it/s]"
          ],
          "name": "stderr"
        },
        {
          "output_type": "stream",
          "text": [
            "D loss: 0.6237940192222595, G loss: 0.9435880780220032\n"
          ],
          "name": "stdout"
        },
        {
          "output_type": "stream",
          "text": [
            "Epoch: 17: 100%|█████████▉| 35456/35458 [00:06<00:00, 5497.29it/s]\n",
            "Epoch: 18:   0%|          | 0/35458 [00:00<?, ?it/s]"
          ],
          "name": "stderr"
        },
        {
          "output_type": "stream",
          "text": [
            "D loss: 0.6204138398170471, G loss: 1.0363609790802002\n"
          ],
          "name": "stdout"
        },
        {
          "output_type": "stream",
          "text": [
            "Epoch: 18: 100%|█████████▉| 35456/35458 [00:07<00:00, 4861.92it/s]\n",
            "Epoch: 19:   0%|          | 0/35458 [00:00<?, ?it/s]"
          ],
          "name": "stderr"
        },
        {
          "output_type": "stream",
          "text": [
            "D loss: 0.5652601718902588, G loss: 1.0972048044204712\n"
          ],
          "name": "stdout"
        },
        {
          "output_type": "stream",
          "text": [
            "Epoch: 19: 100%|█████████▉| 35456/35458 [00:07<00:00, 4831.05it/s]\n"
          ],
          "name": "stderr"
        },
        {
          "output_type": "stream",
          "text": [
            "D loss: 0.5096231698989868, G loss: 1.2948455810546875\n"
          ],
          "name": "stdout"
        },
        {
          "output_type": "stream",
          "text": [
            "Epoch: 20: 100%|█████████▉| 35456/35458 [00:07<00:00, 4890.55it/s]\n",
            "Epoch: 21:   0%|          | 0/35458 [00:00<?, ?it/s]"
          ],
          "name": "stderr"
        },
        {
          "output_type": "stream",
          "text": [
            "D loss: 0.4606166183948517, G loss: 1.436723232269287\n"
          ],
          "name": "stdout"
        },
        {
          "output_type": "stream",
          "text": [
            "Epoch: 21: 100%|█████████▉| 35456/35458 [00:07<00:00, 4829.64it/s]\n"
          ],
          "name": "stderr"
        },
        {
          "output_type": "stream",
          "text": [
            "D loss: 0.4262654185295105, G loss: 1.632900595664978\n"
          ],
          "name": "stdout"
        },
        {
          "output_type": "stream",
          "text": [
            "Epoch: 22: 100%|█████████▉| 35456/35458 [00:07<00:00, 4616.72it/s]\n"
          ],
          "name": "stderr"
        },
        {
          "output_type": "stream",
          "text": [
            "D loss: 0.3891960382461548, G loss: 1.8082844018936157\n"
          ],
          "name": "stdout"
        },
        {
          "output_type": "stream",
          "text": [
            "Epoch: 23: 100%|█████████▉| 35456/35458 [00:07<00:00, 4809.53it/s]\n"
          ],
          "name": "stderr"
        },
        {
          "output_type": "stream",
          "text": [
            "D loss: 0.3885978162288666, G loss: 1.8811848163604736\n"
          ],
          "name": "stdout"
        },
        {
          "output_type": "stream",
          "text": [
            "Epoch: 24: 100%|█████████▉| 35456/35458 [00:07<00:00, 4826.89it/s]\n",
            "Epoch: 25:   0%|          | 0/35458 [00:00<?, ?it/s]"
          ],
          "name": "stderr"
        },
        {
          "output_type": "stream",
          "text": [
            "D loss: 0.3729621171951294, G loss: 1.9407782554626465\n"
          ],
          "name": "stdout"
        },
        {
          "output_type": "stream",
          "text": [
            "Epoch: 25: 100%|█████████▉| 35456/35458 [00:07<00:00, 4746.73it/s]\n"
          ],
          "name": "stderr"
        },
        {
          "output_type": "stream",
          "text": [
            "D loss: 0.34590837359428406, G loss: 2.071105480194092\n"
          ],
          "name": "stdout"
        },
        {
          "output_type": "stream",
          "text": [
            "Epoch: 26: 100%|█████████▉| 35456/35458 [00:07<00:00, 4735.07it/s]\n"
          ],
          "name": "stderr"
        },
        {
          "output_type": "stream",
          "text": [
            "D loss: 0.3392435908317566, G loss: 2.031165838241577\n"
          ],
          "name": "stdout"
        },
        {
          "output_type": "stream",
          "text": [
            "Epoch: 27: 100%|█████████▉| 35456/35458 [00:07<00:00, 4892.87it/s]\n"
          ],
          "name": "stderr"
        },
        {
          "output_type": "stream",
          "text": [
            "D loss: 0.31037822365760803, G loss: 2.1700029373168945\n"
          ],
          "name": "stdout"
        },
        {
          "output_type": "stream",
          "text": [
            "Epoch: 28: 100%|█████████▉| 35456/35458 [00:07<00:00, 4789.91it/s]\n"
          ],
          "name": "stderr"
        },
        {
          "output_type": "stream",
          "text": [
            "D loss: 0.28484776616096497, G loss: 2.1715123653411865\n"
          ],
          "name": "stdout"
        },
        {
          "output_type": "stream",
          "text": [
            "Epoch: 29: 100%|█████████▉| 35456/35458 [00:07<00:00, 4737.40it/s]\n"
          ],
          "name": "stderr"
        },
        {
          "output_type": "stream",
          "text": [
            "D loss: 0.2585412561893463, G loss: 2.217653512954712\n"
          ],
          "name": "stdout"
        },
        {
          "output_type": "stream",
          "text": [
            "Epoch: 30: 100%|█████████▉| 35456/35458 [00:07<00:00, 4779.58it/s]\n"
          ],
          "name": "stderr"
        },
        {
          "output_type": "stream",
          "text": [
            "D loss: 0.25428998470306396, G loss: 2.2875583171844482\n"
          ],
          "name": "stdout"
        },
        {
          "output_type": "stream",
          "text": [
            "Epoch: 31: 100%|█████████▉| 35456/35458 [00:07<00:00, 4696.03it/s]\n"
          ],
          "name": "stderr"
        },
        {
          "output_type": "stream",
          "text": [
            "D loss: 0.28252723813056946, G loss: 2.365152597427368\n"
          ],
          "name": "stdout"
        },
        {
          "output_type": "stream",
          "text": [
            "Epoch: 32: 100%|█████████▉| 35456/35458 [00:07<00:00, 4822.44it/s]\n"
          ],
          "name": "stderr"
        },
        {
          "output_type": "stream",
          "text": [
            "D loss: 0.2139064371585846, G loss: 1.5459462404251099\n"
          ],
          "name": "stdout"
        },
        {
          "output_type": "stream",
          "text": [
            "Epoch: 33: 100%|█████████▉| 35456/35458 [00:07<00:00, 4710.30it/s]\n",
            "Epoch: 34:   0%|          | 0/35458 [00:00<?, ?it/s]"
          ],
          "name": "stderr"
        },
        {
          "output_type": "stream",
          "text": [
            "D loss: 0.2315712869167328, G loss: 1.8618000745773315\n"
          ],
          "name": "stdout"
        },
        {
          "output_type": "stream",
          "text": [
            "Epoch: 34: 100%|█████████▉| 35456/35458 [00:07<00:00, 4933.11it/s]\n",
            "Epoch: 35:   0%|          | 0/35458 [00:00<?, ?it/s]"
          ],
          "name": "stderr"
        },
        {
          "output_type": "stream",
          "text": [
            "D loss: 0.23996832966804504, G loss: 2.1149144172668457\n"
          ],
          "name": "stdout"
        },
        {
          "output_type": "stream",
          "text": [
            "Epoch: 35: 100%|█████████▉| 35456/35458 [00:07<00:00, 4823.07it/s]\n",
            "Epoch: 36:   0%|          | 0/35458 [00:00<?, ?it/s]"
          ],
          "name": "stderr"
        },
        {
          "output_type": "stream",
          "text": [
            "D loss: 0.21178463101387024, G loss: 1.9767674207687378\n"
          ],
          "name": "stdout"
        },
        {
          "output_type": "stream",
          "text": [
            "Epoch: 36: 100%|█████████▉| 35456/35458 [00:07<00:00, 4611.08it/s]\n",
            "Epoch: 37:   0%|          | 0/35458 [00:00<?, ?it/s]"
          ],
          "name": "stderr"
        },
        {
          "output_type": "stream",
          "text": [
            "D loss: 0.23985153436660767, G loss: 2.5948948860168457\n"
          ],
          "name": "stdout"
        },
        {
          "output_type": "stream",
          "text": [
            "Epoch: 37: 100%|█████████▉| 35456/35458 [00:07<00:00, 4806.55it/s]\n",
            "Epoch: 38:   0%|          | 0/35458 [00:00<?, ?it/s]"
          ],
          "name": "stderr"
        },
        {
          "output_type": "stream",
          "text": [
            "D loss: 0.2159355729818344, G loss: 2.0940680503845215\n"
          ],
          "name": "stdout"
        },
        {
          "output_type": "stream",
          "text": [
            "Epoch: 38: 100%|█████████▉| 35456/35458 [00:07<00:00, 4839.75it/s]\n",
            "Epoch: 39:   0%|          | 0/35458 [00:00<?, ?it/s]"
          ],
          "name": "stderr"
        },
        {
          "output_type": "stream",
          "text": [
            "D loss: 0.23120923340320587, G loss: 2.72124981880188\n"
          ],
          "name": "stdout"
        },
        {
          "output_type": "stream",
          "text": [
            "Epoch: 39: 100%|█████████▉| 35456/35458 [00:07<00:00, 4778.95it/s]\n",
            "Epoch: 40:   0%|          | 0/35458 [00:00<?, ?it/s]"
          ],
          "name": "stderr"
        },
        {
          "output_type": "stream",
          "text": [
            "D loss: 0.199433371424675, G loss: 2.4234371185302734\n"
          ],
          "name": "stdout"
        },
        {
          "output_type": "stream",
          "text": [
            "Epoch: 40: 100%|█████████▉| 35456/35458 [00:07<00:00, 4842.34it/s]\n",
            "Epoch: 41:   0%|          | 0/35458 [00:00<?, ?it/s]"
          ],
          "name": "stderr"
        },
        {
          "output_type": "stream",
          "text": [
            "D loss: 0.1355333775281906, G loss: 1.6955996751785278\n"
          ],
          "name": "stdout"
        },
        {
          "output_type": "stream",
          "text": [
            "Epoch: 41: 100%|█████████▉| 35456/35458 [00:07<00:00, 4644.86it/s]\n",
            "Epoch: 42:   0%|          | 0/35458 [00:00<?, ?it/s]"
          ],
          "name": "stderr"
        },
        {
          "output_type": "stream",
          "text": [
            "D loss: 0.20903132855892181, G loss: 2.453361988067627\n"
          ],
          "name": "stdout"
        },
        {
          "output_type": "stream",
          "text": [
            "Epoch: 42: 100%|█████████▉| 35456/35458 [00:07<00:00, 4729.45it/s]\n"
          ],
          "name": "stderr"
        },
        {
          "output_type": "stream",
          "text": [
            "D loss: 0.2171032875776291, G loss: 2.4713244438171387\n"
          ],
          "name": "stdout"
        },
        {
          "output_type": "stream",
          "text": [
            "Epoch: 43: 100%|█████████▉| 35456/35458 [00:07<00:00, 4691.80it/s]\n"
          ],
          "name": "stderr"
        },
        {
          "output_type": "stream",
          "text": [
            "D loss: 0.2096603810787201, G loss: 2.9362242221832275\n"
          ],
          "name": "stdout"
        },
        {
          "output_type": "stream",
          "text": [
            "Epoch: 44: 100%|█████████▉| 35456/35458 [00:07<00:00, 4775.21it/s]\n"
          ],
          "name": "stderr"
        },
        {
          "output_type": "stream",
          "text": [
            "D loss: 0.1874261051416397, G loss: 2.2561118602752686\n"
          ],
          "name": "stdout"
        },
        {
          "output_type": "stream",
          "text": [
            "Epoch: 45: 100%|█████████▉| 35456/35458 [00:07<00:00, 4678.87it/s]\n"
          ],
          "name": "stderr"
        },
        {
          "output_type": "stream",
          "text": [
            "D loss: 0.218876451253891, G loss: 3.0827972888946533\n"
          ],
          "name": "stdout"
        },
        {
          "output_type": "stream",
          "text": [
            "Epoch: 46: 100%|█████████▉| 35456/35458 [00:07<00:00, 4812.63it/s]\n"
          ],
          "name": "stderr"
        },
        {
          "output_type": "stream",
          "text": [
            "D loss: 0.21166658401489258, G loss: 3.0358996391296387\n"
          ],
          "name": "stdout"
        },
        {
          "output_type": "stream",
          "text": [
            "Epoch: 47: 100%|█████████▉| 35456/35458 [00:07<00:00, 4795.01it/s]\n",
            "Epoch: 48:   0%|          | 0/35458 [00:00<?, ?it/s]"
          ],
          "name": "stderr"
        },
        {
          "output_type": "stream",
          "text": [
            "D loss: 0.20194900035858154, G loss: 2.955862045288086\n"
          ],
          "name": "stdout"
        },
        {
          "output_type": "stream",
          "text": [
            "Epoch: 48: 100%|█████████▉| 35456/35458 [00:07<00:00, 4789.17it/s]\n"
          ],
          "name": "stderr"
        },
        {
          "output_type": "stream",
          "text": [
            "D loss: 0.19424961507320404, G loss: 2.9379727840423584\n"
          ],
          "name": "stdout"
        },
        {
          "output_type": "stream",
          "text": [
            "Epoch: 49: 100%|█████████▉| 35456/35458 [00:07<00:00, 4773.04it/s]\n"
          ],
          "name": "stderr"
        },
        {
          "output_type": "stream",
          "text": [
            "D loss: 0.1839952915906906, G loss: 2.8272807598114014\n"
          ],
          "name": "stdout"
        }
      ]
    },
    {
      "cell_type": "code",
      "metadata": {
        "id": "aUyKRM_Vqd9Y",
        "colab": {
          "base_uri": "https://localhost:8080/"
        },
        "outputId": "49bc5a77-692b-4fb0-8e9d-0b1bb22b241a"
      },
      "source": [
        "print(encoder.classes_)\n",
        "image=generate_images(G,1,1)\n",
        "H = image[0].reshape((24,Minimum_time))\n",
        "\n",
        "fig = plt.figure(figsize=(14, 4))\n",
        "\n",
        "ax = fig.add_subplot(111)\n",
        "ax.set_title('colorMap')\n",
        "plt.imshow(H)\n",
        "ax.set_aspect('equal')\n",
        "\n",
        "cax = fig.add_axes([0.12, 0.1, 0.78, 0.8])\n",
        "cax.get_xaxis().set_visible(False)\n",
        "cax.get_yaxis().set_visible(False)\n",
        "cax.patch.set_alpha(0)\n",
        "cax.set_frame_on(False)\n",
        "plt.colorbar(orientation='vertical')\n",
        "plt.show()"
      ],
      "execution_count": null,
      "outputs": [
        {
          "output_type": "stream",
          "text": [
            "['One_rhythm' 'continuing_rhythm' 'down_leaping' 'down_steping'\n",
            " 'fast_rhythm' 'leaping_twisting' 'no skills' 'repeating'\n",
            " 'steping_twisting' 'triplet' 'up_leaping' 'up_steping']\n"
          ],
          "name": "stdout"
        },
        {
          "output_type": "display_data",
          "data": {
            "image/png": "[encoded data removed]",
            "text/plain": [
              "<Figure size 1008x288 with 3 Axes>"
            ]
          },
          "metadata": {
            "tags": [],
            "image/png": {
              "width": 731,
              "height": 263
            },
            "needs_background": "light"
          }
        }
      ]
    },
    {
      "cell_type": "markdown",
      "metadata": {
        "id": "exdtcOln9Qdq"
      },
      "source": [
        "Implementation of RNN\n",
        "\n",
        "\n",
        "\n",
        "\n",
        "\n",
        "\n"
      ]
    },
    {
      "cell_type": "code",
      "metadata": {
        "id": "qNqr-1ZWLKdh"
      },
      "source": [
        "RNNx_train=[]\n",
        "RNNy_train=[]\n",
        "RNNx_test=[]\n",
        "RNNy_test=[]\n",
        "RNN_kfoldx=[]\n",
        "RNN_kfoldy=[]\n",
        "for i in range(len(bar_matrix_list3)):\n",
        "  nowseq=[]\n",
        "  nowmat=np.array(bar_matrix_list3[i])\n",
        "  nowbars=classifier.predict(nowmat.reshape(len(nowmat),24,Minimum_time,1) )\n",
        "  for j,bars in enumerate(nowbars):\n",
        "    if(j==len(nowbars)-1):\n",
        "      if(i>=400):\n",
        "        RNNy_test.append(np.argmax(bars))\n",
        "      else:\n",
        "        RNNy_train.append(np.argmax(bars))\n",
        "      RNN_kfoldy.append(np.argmax(bars))\n",
        "    else:\n",
        "      nowseq.append(np.argmax(bars)+1)\n",
        "  if(i>=400):\n",
        "    RNNx_test.append(nowseq)\n",
        "  else:\n",
        "    RNNx_train.append(nowseq)\n",
        "  RNN_kfoldx.append(nowseq)"
      ],
      "execution_count": null,
      "outputs": []
    },
    {
      "cell_type": "code",
      "metadata": {
        "id": "1oaBpBguS5j2",
        "colab": {
          "base_uri": "https://localhost:8080/"
        },
        "outputId": "07dae91a-2050-4e33-a460-83711cacf71d"
      },
      "source": [
        "from keras.utils import to_categorical\n",
        "print(len(RNNx_train),len(RNNx_train[0]))\n",
        "print(RNNy_train)\n",
        "print(to_categorical(RNNy_train))\n",
        "print(mlb.inverse_transform(to_categorical(RNNy_train)))"
      ],
      "execution_count": null,
      "outputs": [
        {
          "output_type": "stream",
          "text": [
            "400 59\n",
            "[6, 12, 10, 0, 10, 6, 11, 6, 6, 10, 3, 10, 10, 10, 10, 4, 4, 4, 12, 10, 10, 5, 10, 6, 6, 10, 10, 3, 12, 10, 10, 6, 10, 12, 6, 2, 6, 5, 10, 12, 10, 10, 10, 6, 10, 6, 10, 10, 12, 12, 10, 10, 5, 6, 4, 6, 12, 10, 5, 10, 10, 10, 2, 3, 6, 2, 4, 1, 10, 10, 12, 10, 12, 5, 12, 5, 10, 5, 1, 12, 10, 6, 10, 10, 6, 6, 6, 10, 10, 10, 5, 10, 12, 6, 10, 5, 10, 10, 10, 12, 10, 6, 12, 10, 10, 10, 2, 10, 12, 10, 10, 6, 6, 10, 6, 10, 10, 12, 10, 6, 6, 10, 6, 3, 4, 11, 12, 10, 12, 10, 10, 3, 10, 12, 6, 4, 2, 11, 6, 12, 10, 12, 10, 10, 6, 12, 11, 10, 10, 10, 10, 11, 11, 4, 10, 10, 10, 6, 10, 12, 10, 7, 6, 10, 10, 10, 10, 12, 6, 6, 12, 4, 10, 10, 10, 10, 6, 12, 10, 2, 11, 10, 12, 9, 2, 10, 12, 2, 6, 10, 10, 3, 6, 10, 11, 5, 10, 3, 12, 9, 6, 6, 3, 10, 6, 12, 10, 6, 6, 3, 11, 1, 12, 6, 6, 6, 6, 10, 10, 6, 10, 6, 12, 5, 5, 10, 6, 12, 10, 6, 10, 10, 6, 10, 6, 12, 1, 12, 6, 1, 12, 4, 6, 5, 12, 10, 9, 10, 6, 10, 6, 6, 6, 6, 7, 10, 6, 10, 10, 6, 10, 10, 3, 6, 6, 10, 10, 10, 6, 6, 6, 10, 6, 4, 6, 10, 10, 10, 12, 10, 4, 6, 5, 10, 10, 10, 6, 10, 4, 3, 11, 10, 9, 6, 10, 10, 10, 12, 12, 10, 3, 10, 10, 12, 10, 10, 6, 10, 6, 6, 4, 10, 6, 6, 11, 10, 10, 6, 10, 10, 10, 10, 0, 10, 10, 10, 6, 11, 10, 10, 4, 10, 1, 10, 4, 12, 11, 2, 4, 10, 10, 2, 10, 6, 10, 12, 12, 5, 10, 6, 10, 10, 6, 10, 4, 10, 10, 6, 3, 4, 10, 10, 12, 7, 6, 10, 10, 10, 3, 2, 12, 10, 0, 6, 10, 2, 10, 10, 9, 12, 6, 4, 6, 10, 6, 12, 10, 5, 12, 4, 10, 12, 6, 10, 11, 4, 10, 12, 10, 10]\n",
            "[[0. 0. 0. ... 0. 0. 0.]\n",
            " [0. 0. 0. ... 0. 0. 1.]\n",
            " [0. 0. 0. ... 1. 0. 0.]\n",
            " ...\n",
            " [0. 0. 0. ... 0. 0. 1.]\n",
            " [0. 0. 0. ... 1. 0. 0.]\n",
            " [0. 0. 0. ... 1. 0. 0.]]\n",
            "[('no skills',), ('up_steping',), ('triplet',), ('One_rhythm',), ('triplet',), ('no skills',), ('up_leaping',), ('no skills',), ('no skills',), ('triplet',), ('down_steping',), ('triplet',), ('triplet',), ('triplet',), ('triplet',), ('fast_rhythm',), ('fast_rhythm',), ('fast_rhythm',), ('up_steping',), ('triplet',), ('triplet',), ('leaping_twisting',), ('triplet',), ('no skills',), ('no skills',), ('triplet',), ('triplet',), ('down_steping',), ('up_steping',), ('triplet',), ('triplet',), ('no skills',), ('triplet',), ('up_steping',), ('no skills',), ('down_leaping',), ('no skills',), ('leaping_twisting',), ('triplet',), ('up_steping',), ('triplet',), ('triplet',), ('triplet',), ('no skills',), ('triplet',), ('no skills',), ('triplet',), ('triplet',), ('up_steping',), ('up_steping',), ('triplet',), ('triplet',), ('leaping_twisting',), ('no skills',), ('fast_rhythm',), ('no skills',), ('up_steping',), ('triplet',), ('leaping_twisting',), ('triplet',), ('triplet',), ('triplet',), ('down_leaping',), ('down_steping',), ('no skills',), ('down_leaping',), ('fast_rhythm',), ('continuing_rhythm',), ('triplet',), ('triplet',), ('up_steping',), ('triplet',), ('up_steping',), ('leaping_twisting',), ('up_steping',), ('leaping_twisting',), ('triplet',), ('leaping_twisting',), ('continuing_rhythm',), ('up_steping',), ('triplet',), ('no skills',), ('triplet',), ('triplet',), ('no skills',), ('no skills',), ('no skills',), ('triplet',), ('triplet',), ('triplet',), ('leaping_twisting',), ('triplet',), ('up_steping',), ('no skills',), ('triplet',), ('leaping_twisting',), ('triplet',), ('triplet',), ('triplet',), ('up_steping',), ('triplet',), ('no skills',), ('up_steping',), ('triplet',), ('triplet',), ('triplet',), ('down_leaping',), ('triplet',), ('up_steping',), ('triplet',), ('triplet',), ('no skills',), ('no skills',), ('triplet',), ('no skills',), ('triplet',), ('triplet',), ('up_steping',), ('triplet',), ('no skills',), ('no skills',), ('triplet',), ('no skills',), ('down_steping',), ('fast_rhythm',), ('up_leaping',), ('up_steping',), ('triplet',), ('up_steping',), ('triplet',), ('triplet',), ('down_steping',), ('triplet',), ('up_steping',), ('no skills',), ('fast_rhythm',), ('down_leaping',), ('up_leaping',), ('no skills',), ('up_steping',), ('triplet',), ('up_steping',), ('triplet',), ('triplet',), ('no skills',), ('up_steping',), ('up_leaping',), ('triplet',), ('triplet',), ('triplet',), ('triplet',), ('up_leaping',), ('up_leaping',), ('fast_rhythm',), ('triplet',), ('triplet',), ('triplet',), ('no skills',), ('triplet',), ('up_steping',), ('triplet',), ('repeating',), ('no skills',), ('triplet',), ('triplet',), ('triplet',), ('triplet',), ('up_steping',), ('no skills',), ('no skills',), ('up_steping',), ('fast_rhythm',), ('triplet',), ('triplet',), ('triplet',), ('triplet',), ('no skills',), ('up_steping',), ('triplet',), ('down_leaping',), ('up_leaping',), ('triplet',), ('up_steping',), ('steping_twisting',), ('down_leaping',), ('triplet',), ('up_steping',), ('down_leaping',), ('no skills',), ('triplet',), ('triplet',), ('down_steping',), ('no skills',), ('triplet',), ('up_leaping',), ('leaping_twisting',), ('triplet',), ('down_steping',), ('up_steping',), ('steping_twisting',), ('no skills',), ('no skills',), ('down_steping',), ('triplet',), ('no skills',), ('up_steping',), ('triplet',), ('no skills',), ('no skills',), ('down_steping',), ('up_leaping',), ('continuing_rhythm',), ('up_steping',), ('no skills',), ('no skills',), ('no skills',), ('no skills',), ('triplet',), ('triplet',), ('no skills',), ('triplet',), ('no skills',), ('up_steping',), ('leaping_twisting',), ('leaping_twisting',), ('triplet',), ('no skills',), ('up_steping',), ('triplet',), ('no skills',), ('triplet',), ('triplet',), ('no skills',), ('triplet',), ('no skills',), ('up_steping',), ('continuing_rhythm',), ('up_steping',), ('no skills',), ('continuing_rhythm',), ('up_steping',), ('fast_rhythm',), ('no skills',), ('leaping_twisting',), ('up_steping',), ('triplet',), ('steping_twisting',), ('triplet',), ('no skills',), ('triplet',), ('no skills',), ('no skills',), ('no skills',), ('no skills',), ('repeating',), ('triplet',), ('no skills',), ('triplet',), ('triplet',), ('no skills',), ('triplet',), ('triplet',), ('down_steping',), ('no skills',), ('no skills',), ('triplet',), ('triplet',), ('triplet',), ('no skills',), ('no skills',), ('no skills',), ('triplet',), ('no skills',), ('fast_rhythm',), ('no skills',), ('triplet',), ('triplet',), ('triplet',), ('up_steping',), ('triplet',), ('fast_rhythm',), ('no skills',), ('leaping_twisting',), ('triplet',), ('triplet',), ('triplet',), ('no skills',), ('triplet',), ('fast_rhythm',), ('down_steping',), ('up_leaping',), ('triplet',), ('steping_twisting',), ('no skills',), ('triplet',), ('triplet',), ('triplet',), ('up_steping',), ('up_steping',), ('triplet',), ('down_steping',), ('triplet',), ('triplet',), ('up_steping',), ('triplet',), ('triplet',), ('no skills',), ('triplet',), ('no skills',), ('no skills',), ('fast_rhythm',), ('triplet',), ('no skills',), ('no skills',), ('up_leaping',), ('triplet',), ('triplet',), ('no skills',), ('triplet',), ('triplet',), ('triplet',), ('triplet',), ('One_rhythm',), ('triplet',), ('triplet',), ('triplet',), ('no skills',), ('up_leaping',), ('triplet',), ('triplet',), ('fast_rhythm',), ('triplet',), ('continuing_rhythm',), ('triplet',), ('fast_rhythm',), ('up_steping',), ('up_leaping',), ('down_leaping',), ('fast_rhythm',), ('triplet',), ('triplet',), ('down_leaping',), ('triplet',), ('no skills',), ('triplet',), ('up_steping',), ('up_steping',), ('leaping_twisting',), ('triplet',), ('no skills',), ('triplet',), ('triplet',), ('no skills',), ('triplet',), ('fast_rhythm',), ('triplet',), ('triplet',), ('no skills',), ('down_steping',), ('fast_rhythm',), ('triplet',), ('triplet',), ('up_steping',), ('repeating',), ('no skills',), ('triplet',), ('triplet',), ('triplet',), ('down_steping',), ('down_leaping',), ('up_steping',), ('triplet',), ('One_rhythm',), ('no skills',), ('triplet',), ('down_leaping',), ('triplet',), ('triplet',), ('steping_twisting',), ('up_steping',), ('no skills',), ('fast_rhythm',), ('no skills',), ('triplet',), ('no skills',), ('up_steping',), ('triplet',), ('leaping_twisting',), ('up_steping',), ('fast_rhythm',), ('triplet',), ('up_steping',), ('no skills',), ('triplet',), ('up_leaping',), ('fast_rhythm',), ('triplet',), ('up_steping',), ('triplet',), ('triplet',)]\n"
          ],
          "name": "stdout"
        }
      ]
    },
    {
      "cell_type": "code",
      "metadata": {
        "id": "wbnUCrqw9O2P"
      },
      "source": [
        "import numpy\n",
        "from keras.datasets import imdb\n",
        "from keras.models import Sequential\n",
        "from keras.layers import Dense\n",
        "from keras.layers import LSTM\n",
        "from keras.layers import Dropout\n",
        "from keras.layers.embeddings import Embedding\n",
        "from keras.preprocessing import sequence\n",
        "from keras.utils import to_categorical\n",
        "from keras.wrappers.scikit_learn import KerasClassifier\n",
        "from sklearn.model_selection import KFold\n",
        "from sklearn.model_selection import cross_val_score\n",
        "RNNy_test=to_categorical(np.array(RNNy_test))\n",
        "RNNy_train=to_categorical(np.array(RNNy_train))\n",
        "RNN_kfoldy=to_categorical(np.array(RNN_kfoldy))\n",
        "# fix random seed for reproducibility\n",
        "numpy.random.seed(7)\n",
        "top_words=13\n",
        "# truncate and pad input sequences\n",
        "\n",
        "RNNx_train = sequence.pad_sequences(RNNx_train, maxlen=10)\n",
        "RNNx_test = sequence.pad_sequences(RNNx_test, maxlen=10)\n",
        "RNN_kfoldx = sequence.pad_sequences(RNN_kfoldx, maxlen=10)\n"
      ],
      "execution_count": null,
      "outputs": []
    },
    {
      "cell_type": "code",
      "metadata": {
        "id": "jd4AzRMhPWyj",
        "colab": {
          "base_uri": "https://localhost:8080/"
        },
        "outputId": "7b887637-00c7-40b7-9b16-f019b13e6c6e"
      },
      "source": [
        "print(RNN_kfoldx.shape, RNN_kfoldy.shape)"
      ],
      "execution_count": null,
      "outputs": [
        {
          "output_type": "stream",
          "text": [
            "(662, 10) (662, 13)\n"
          ],
          "name": "stdout"
        }
      ]
    },
    {
      "cell_type": "code",
      "metadata": {
        "id": "yDIeTYTFewfH"
      },
      "source": [
        "unique, counts = numpy.unique(RNN_kfoldx, return_counts=True)\n",
        "RNN_weight=dict(zip(unique, 5000/counts))"
      ],
      "execution_count": null,
      "outputs": []
    },
    {
      "cell_type": "code",
      "metadata": {
        "id": "UmiN9lI_fbs7"
      },
      "source": [
        "from keras.callbacks import EarlyStopping, ReduceLROnPlateau, ModelCheckpoint\n",
        "model_path = '/content/drive/My Drive/MARG/models/' + 'RNN.h5'\n",
        "\n",
        "cb_checkpoint = ModelCheckpoint(filepath=model_path, monitor='val_accuracy',\n",
        "                                verbose=1, save_best_only=True)\n",
        "callbacks = [cb_checkpoint]"
      ],
      "execution_count": null,
      "outputs": []
    },
    {
      "cell_type": "code",
      "metadata": {
        "id": "qtTnECWM9ooa"
      },
      "source": [
        "from keras import regularizers\n",
        "# create the model\n",
        "embedding_vecor_length = 32\n",
        "timesteps = 8\n",
        "\n",
        "RNNmodel = Sequential()\n",
        "RNNmodel.add(Embedding(top_words, embedding_vecor_length, input_length=10))\n",
        "RNNmodel.add(LSTM(100, return_sequences=True,\n",
        "               input_shape=(timesteps, 100)))  # returns a sequence of vectors of dimension 32\n",
        "RNNmodel.add(LSTM(100))  # return a single vector of dimension 32\n",
        "RNNmodel.add(Dropout(0.2))\n",
        "RNNmodel.add(Dense(13, activation='sigmoid', kernel_regularizer=regularizers.l2(0.01)))\n",
        "\n",
        "RNNmodel.compile(loss='categorical_crossentropy', optimizer='adam', metrics=['accuracy'])\n",
        "\n"
      ],
      "execution_count": null,
      "outputs": []
    },
    {
      "cell_type": "code",
      "metadata": {
        "id": "oztvg4cPAxPW",
        "colab": {
          "base_uri": "https://localhost:8080/"
        },
        "outputId": "e46a2fbd-297a-4ec5-e192-58cb0663f54d"
      },
      "source": [
        "kfold = KFold(n_splits=5, shuffle=True, random_state=7)\n",
        "for i in range(3):\n",
        "  for train,valid in kfold.split(RNN_kfoldx,RNN_kfoldy):\n",
        "    RNNmodel.fit(RNN_kfoldx[train],RNN_kfoldy[train], validation_data=(RNN_kfoldx[valid],RNN_kfoldy[valid])\n",
        "    ,epochs=15, batch_size=64,callbacks=callbacks, class_weight='balanced')"
      ],
      "execution_count": null,
      "outputs": [
        {
          "output_type": "stream",
          "text": [
            "Train on 529 samples, validate on 133 samples\n",
            "Epoch 1/15\n",
            "529/529 [==============================] - 1s 2ms/step - loss: 2.7583 - accuracy: 0.3724 - val_loss: 2.6852 - val_accuracy: 0.4361\n",
            "\n",
            "Epoch 00001: val_accuracy improved from -inf to 0.43609, saving model to /content/drive/My Drive/MARG/models/RNN.h5\n",
            "Epoch 2/15\n",
            "529/529 [==============================] - 0s 326us/step - loss: 2.5651 - accuracy: 0.4253 - val_loss: 2.3254 - val_accuracy: 0.4361\n",
            "\n",
            "Epoch 00002: val_accuracy did not improve from 0.43609\n",
            "Epoch 3/15\n",
            "529/529 [==============================] - 0s 309us/step - loss: 2.2303 - accuracy: 0.4253 - val_loss: 2.0045 - val_accuracy: 0.4361\n",
            "\n",
            "Epoch 00003: val_accuracy did not improve from 0.43609\n",
            "Epoch 4/15\n",
            "529/529 [==============================] - 0s 306us/step - loss: 2.0500 - accuracy: 0.4253 - val_loss: 1.9345 - val_accuracy: 0.4361\n",
            "\n",
            "Epoch 00004: val_accuracy did not improve from 0.43609\n",
            "Epoch 5/15\n",
            "529/529 [==============================] - 0s 317us/step - loss: 2.0155 - accuracy: 0.4253 - val_loss: 1.9346 - val_accuracy: 0.4361\n",
            "\n",
            "Epoch 00005: val_accuracy did not improve from 0.43609\n",
            "Epoch 6/15\n",
            "529/529 [==============================] - 0s 317us/step - loss: 1.9681 - accuracy: 0.4253 - val_loss: 1.9262 - val_accuracy: 0.4361\n",
            "\n",
            "Epoch 00006: val_accuracy did not improve from 0.43609\n",
            "Epoch 7/15\n",
            "529/529 [==============================] - 0s 330us/step - loss: 1.9804 - accuracy: 0.4253 - val_loss: 1.8950 - val_accuracy: 0.4361\n",
            "\n",
            "Epoch 00007: val_accuracy did not improve from 0.43609\n",
            "Epoch 8/15\n",
            "529/529 [==============================] - 0s 346us/step - loss: 1.9630 - accuracy: 0.4253 - val_loss: 1.8740 - val_accuracy: 0.4361\n",
            "\n",
            "Epoch 00008: val_accuracy did not improve from 0.43609\n",
            "Epoch 9/15\n",
            "529/529 [==============================] - 0s 341us/step - loss: 1.9370 - accuracy: 0.4253 - val_loss: 1.8586 - val_accuracy: 0.4361\n",
            "\n",
            "Epoch 00009: val_accuracy did not improve from 0.43609\n",
            "Epoch 10/15\n",
            "529/529 [==============================] - 0s 328us/step - loss: 1.9470 - accuracy: 0.4253 - val_loss: 1.8551 - val_accuracy: 0.4361\n",
            "\n",
            "Epoch 00010: val_accuracy did not improve from 0.43609\n",
            "Epoch 11/15\n",
            "529/529 [==============================] - 0s 318us/step - loss: 1.9316 - accuracy: 0.4253 - val_loss: 1.8486 - val_accuracy: 0.4361\n",
            "\n",
            "Epoch 00011: val_accuracy did not improve from 0.43609\n",
            "Epoch 12/15\n",
            "529/529 [==============================] - 0s 325us/step - loss: 1.9157 - accuracy: 0.4253 - val_loss: 1.8454 - val_accuracy: 0.4361\n",
            "\n",
            "Epoch 00012: val_accuracy did not improve from 0.43609\n",
            "Epoch 13/15\n",
            "529/529 [==============================] - 0s 319us/step - loss: 1.9253 - accuracy: 0.4253 - val_loss: 1.8344 - val_accuracy: 0.4361\n",
            "\n",
            "Epoch 00013: val_accuracy did not improve from 0.43609\n",
            "Epoch 14/15\n",
            "529/529 [==============================] - 0s 330us/step - loss: 1.9120 - accuracy: 0.4253 - val_loss: 1.8313 - val_accuracy: 0.4361\n",
            "\n",
            "Epoch 00014: val_accuracy did not improve from 0.43609\n",
            "Epoch 15/15\n",
            "529/529 [==============================] - 0s 328us/step - loss: 1.8876 - accuracy: 0.4253 - val_loss: 1.8206 - val_accuracy: 0.4361\n",
            "\n",
            "Epoch 00015: val_accuracy did not improve from 0.43609\n",
            "Train on 529 samples, validate on 133 samples\n",
            "Epoch 1/15\n",
            "529/529 [==============================] - 0s 334us/step - loss: 1.8584 - accuracy: 0.4234 - val_loss: 1.9059 - val_accuracy: 0.4436\n",
            "\n",
            "Epoch 00001: val_accuracy improved from 0.43609 to 0.44361, saving model to /content/drive/My Drive/MARG/models/RNN.h5\n",
            "Epoch 2/15\n",
            "529/529 [==============================] - 0s 340us/step - loss: 1.8522 - accuracy: 0.4253 - val_loss: 1.9017 - val_accuracy: 0.4436\n",
            "\n",
            "Epoch 00002: val_accuracy did not improve from 0.44361\n",
            "Epoch 3/15\n",
            "529/529 [==============================] - 0s 321us/step - loss: 1.8310 - accuracy: 0.4272 - val_loss: 1.8717 - val_accuracy: 0.4436\n",
            "\n",
            "Epoch 00003: val_accuracy did not improve from 0.44361\n",
            "Epoch 4/15\n",
            "529/529 [==============================] - 0s 333us/step - loss: 1.8183 - accuracy: 0.4272 - val_loss: 1.8444 - val_accuracy: 0.4436\n",
            "\n",
            "Epoch 00004: val_accuracy did not improve from 0.44361\n",
            "Epoch 5/15\n",
            "529/529 [==============================] - 0s 308us/step - loss: 1.8008 - accuracy: 0.4272 - val_loss: 1.8426 - val_accuracy: 0.4436\n",
            "\n",
            "Epoch 00005: val_accuracy did not improve from 0.44361\n",
            "Epoch 6/15\n",
            "529/529 [==============================] - 0s 313us/step - loss: 1.7770 - accuracy: 0.4253 - val_loss: 1.8106 - val_accuracy: 0.4511\n",
            "\n",
            "Epoch 00006: val_accuracy improved from 0.44361 to 0.45113, saving model to /content/drive/My Drive/MARG/models/RNN.h5\n",
            "Epoch 7/15\n",
            "529/529 [==============================] - 0s 320us/step - loss: 1.7662 - accuracy: 0.4499 - val_loss: 1.8311 - val_accuracy: 0.4887\n",
            "\n",
            "Epoch 00007: val_accuracy improved from 0.45113 to 0.48872, saving model to /content/drive/My Drive/MARG/models/RNN.h5\n",
            "Epoch 8/15\n",
            "529/529 [==============================] - 0s 316us/step - loss: 1.7728 - accuracy: 0.4820 - val_loss: 1.7977 - val_accuracy: 0.5188\n",
            "\n",
            "Epoch 00008: val_accuracy improved from 0.48872 to 0.51880, saving model to /content/drive/My Drive/MARG/models/RNN.h5\n",
            "Epoch 9/15\n",
            "529/529 [==============================] - 0s 321us/step - loss: 1.7577 - accuracy: 0.4726 - val_loss: 1.8059 - val_accuracy: 0.4962\n",
            "\n",
            "Epoch 00009: val_accuracy did not improve from 0.51880\n",
            "Epoch 10/15\n",
            "529/529 [==============================] - 0s 306us/step - loss: 1.7587 - accuracy: 0.4953 - val_loss: 1.7850 - val_accuracy: 0.4962\n",
            "\n",
            "Epoch 00010: val_accuracy did not improve from 0.51880\n",
            "Epoch 11/15\n",
            "529/529 [==============================] - 0s 321us/step - loss: 1.7375 - accuracy: 0.4858 - val_loss: 1.7888 - val_accuracy: 0.4962\n",
            "\n",
            "Epoch 00011: val_accuracy did not improve from 0.51880\n",
            "Epoch 12/15\n",
            "529/529 [==============================] - 0s 305us/step - loss: 1.7211 - accuracy: 0.4934 - val_loss: 1.7863 - val_accuracy: 0.5038\n",
            "\n",
            "Epoch 00012: val_accuracy did not improve from 0.51880\n",
            "Epoch 13/15\n",
            "529/529 [==============================] - 0s 307us/step - loss: 1.7267 - accuracy: 0.4896 - val_loss: 1.7860 - val_accuracy: 0.5113\n",
            "\n",
            "Epoch 00013: val_accuracy did not improve from 0.51880\n",
            "Epoch 14/15\n",
            "529/529 [==============================] - 0s 311us/step - loss: 1.7377 - accuracy: 0.4594 - val_loss: 1.8001 - val_accuracy: 0.4962\n",
            "\n",
            "Epoch 00014: val_accuracy did not improve from 0.51880\n",
            "Epoch 15/15\n",
            "529/529 [==============================] - 0s 318us/step - loss: 1.7273 - accuracy: 0.5028 - val_loss: 1.7836 - val_accuracy: 0.5113\n",
            "\n",
            "Epoch 00015: val_accuracy did not improve from 0.51880\n",
            "Train on 530 samples, validate on 132 samples\n",
            "Epoch 1/15\n",
            "530/530 [==============================] - 0s 314us/step - loss: 1.7473 - accuracy: 0.4943 - val_loss: 1.6319 - val_accuracy: 0.4924\n",
            "\n",
            "Epoch 00001: val_accuracy did not improve from 0.51880\n",
            "Epoch 2/15\n",
            "530/530 [==============================] - 0s 345us/step - loss: 1.7625 - accuracy: 0.4887 - val_loss: 1.6472 - val_accuracy: 0.4924\n",
            "\n",
            "Epoch 00002: val_accuracy did not improve from 0.51880\n",
            "Epoch 3/15\n",
            "530/530 [==============================] - 0s 348us/step - loss: 1.7666 - accuracy: 0.4623 - val_loss: 1.6564 - val_accuracy: 0.5000\n",
            "\n",
            "Epoch 00003: val_accuracy did not improve from 0.51880\n",
            "Epoch 4/15\n",
            "530/530 [==============================] - 0s 334us/step - loss: 1.7438 - accuracy: 0.4755 - val_loss: 1.6655 - val_accuracy: 0.4924\n",
            "\n",
            "Epoch 00004: val_accuracy did not improve from 0.51880\n",
            "Epoch 5/15\n",
            "530/530 [==============================] - 0s 325us/step - loss: 1.7212 - accuracy: 0.4906 - val_loss: 1.6452 - val_accuracy: 0.5076\n",
            "\n",
            "Epoch 00005: val_accuracy did not improve from 0.51880\n",
            "Epoch 6/15\n",
            "530/530 [==============================] - 0s 309us/step - loss: 1.7275 - accuracy: 0.4925 - val_loss: 1.6580 - val_accuracy: 0.5076\n",
            "\n",
            "Epoch 00006: val_accuracy did not improve from 0.51880\n",
            "Epoch 7/15\n",
            "530/530 [==============================] - 0s 325us/step - loss: 1.7132 - accuracy: 0.4981 - val_loss: 1.6493 - val_accuracy: 0.4848\n",
            "\n",
            "Epoch 00007: val_accuracy did not improve from 0.51880\n",
            "Epoch 8/15\n",
            "530/530 [==============================] - 0s 352us/step - loss: 1.7120 - accuracy: 0.4962 - val_loss: 1.6447 - val_accuracy: 0.4924\n",
            "\n",
            "Epoch 00008: val_accuracy did not improve from 0.51880\n",
            "Epoch 9/15\n",
            "530/530 [==============================] - 0s 351us/step - loss: 1.6979 - accuracy: 0.4981 - val_loss: 1.6425 - val_accuracy: 0.4924\n",
            "\n",
            "Epoch 00009: val_accuracy did not improve from 0.51880\n",
            "Epoch 10/15\n",
            "530/530 [==============================] - 0s 340us/step - loss: 1.6982 - accuracy: 0.5019 - val_loss: 1.6651 - val_accuracy: 0.5076\n",
            "\n",
            "Epoch 00010: val_accuracy did not improve from 0.51880\n",
            "Epoch 11/15\n",
            "530/530 [==============================] - 0s 341us/step - loss: 1.7013 - accuracy: 0.5057 - val_loss: 1.6446 - val_accuracy: 0.4848\n",
            "\n",
            "Epoch 00011: val_accuracy did not improve from 0.51880\n",
            "Epoch 12/15\n",
            "530/530 [==============================] - 0s 350us/step - loss: 1.6748 - accuracy: 0.4962 - val_loss: 1.6565 - val_accuracy: 0.5000\n",
            "\n",
            "Epoch 00012: val_accuracy did not improve from 0.51880\n",
            "Epoch 13/15\n",
            "530/530 [==============================] - 0s 342us/step - loss: 1.6797 - accuracy: 0.4962 - val_loss: 1.6327 - val_accuracy: 0.4924\n",
            "\n",
            "Epoch 00013: val_accuracy did not improve from 0.51880\n",
            "Epoch 14/15\n",
            "530/530 [==============================] - 0s 325us/step - loss: 1.6709 - accuracy: 0.4906 - val_loss: 1.6350 - val_accuracy: 0.5076\n",
            "\n",
            "Epoch 00014: val_accuracy did not improve from 0.51880\n",
            "Epoch 15/15\n",
            "530/530 [==============================] - 0s 328us/step - loss: 1.6538 - accuracy: 0.5075 - val_loss: 1.6386 - val_accuracy: 0.5076\n",
            "\n",
            "Epoch 00015: val_accuracy did not improve from 0.51880\n",
            "Train on 530 samples, validate on 132 samples\n",
            "Epoch 1/15\n",
            "530/530 [==============================] - 0s 323us/step - loss: 1.6081 - accuracy: 0.5019 - val_loss: 1.7974 - val_accuracy: 0.4697\n",
            "\n",
            "Epoch 00001: val_accuracy did not improve from 0.51880\n",
            "Epoch 2/15\n",
            "530/530 [==============================] - 0s 318us/step - loss: 1.6080 - accuracy: 0.5151 - val_loss: 1.8176 - val_accuracy: 0.4773\n",
            "\n",
            "Epoch 00002: val_accuracy did not improve from 0.51880\n",
            "Epoch 3/15\n",
            "530/530 [==============================] - 0s 324us/step - loss: 1.5981 - accuracy: 0.5019 - val_loss: 1.8361 - val_accuracy: 0.4621\n",
            "\n",
            "Epoch 00003: val_accuracy did not improve from 0.51880\n",
            "Epoch 4/15\n",
            "530/530 [==============================] - 0s 321us/step - loss: 1.6287 - accuracy: 0.5019 - val_loss: 1.8198 - val_accuracy: 0.4773\n",
            "\n",
            "Epoch 00004: val_accuracy did not improve from 0.51880\n",
            "Epoch 5/15\n",
            "530/530 [==============================] - 0s 315us/step - loss: 1.5851 - accuracy: 0.4943 - val_loss: 1.8239 - val_accuracy: 0.4697\n",
            "\n",
            "Epoch 00005: val_accuracy did not improve from 0.51880\n",
            "Epoch 6/15\n",
            "530/530 [==============================] - 0s 312us/step - loss: 1.5835 - accuracy: 0.5189 - val_loss: 1.8297 - val_accuracy: 0.4773\n",
            "\n",
            "Epoch 00006: val_accuracy did not improve from 0.51880\n",
            "Epoch 7/15\n",
            "530/530 [==============================] - 0s 341us/step - loss: 1.5654 - accuracy: 0.5226 - val_loss: 1.8417 - val_accuracy: 0.4621\n",
            "\n",
            "Epoch 00007: val_accuracy did not improve from 0.51880\n",
            "Epoch 8/15\n",
            "530/530 [==============================] - 0s 311us/step - loss: 1.5439 - accuracy: 0.5245 - val_loss: 1.8389 - val_accuracy: 0.4697\n",
            "\n",
            "Epoch 00008: val_accuracy did not improve from 0.51880\n",
            "Epoch 9/15\n",
            "530/530 [==============================] - 0s 338us/step - loss: 1.5534 - accuracy: 0.5226 - val_loss: 1.8392 - val_accuracy: 0.4621\n",
            "\n",
            "Epoch 00009: val_accuracy did not improve from 0.51880\n",
            "Epoch 10/15\n",
            "530/530 [==============================] - 0s 325us/step - loss: 1.5446 - accuracy: 0.5321 - val_loss: 1.8437 - val_accuracy: 0.4621\n",
            "\n",
            "Epoch 00010: val_accuracy did not improve from 0.51880\n",
            "Epoch 11/15\n",
            "530/530 [==============================] - 0s 309us/step - loss: 1.5519 - accuracy: 0.5264 - val_loss: 1.8490 - val_accuracy: 0.4621\n",
            "\n",
            "Epoch 00011: val_accuracy did not improve from 0.51880\n",
            "Epoch 12/15\n",
            "530/530 [==============================] - 0s 305us/step - loss: 1.5129 - accuracy: 0.5283 - val_loss: 1.8297 - val_accuracy: 0.4773\n",
            "\n",
            "Epoch 00012: val_accuracy did not improve from 0.51880\n",
            "Epoch 13/15\n",
            "530/530 [==============================] - 0s 323us/step - loss: 1.5407 - accuracy: 0.5377 - val_loss: 1.8365 - val_accuracy: 0.4697\n",
            "\n",
            "Epoch 00013: val_accuracy did not improve from 0.51880\n",
            "Epoch 14/15\n",
            "530/530 [==============================] - 0s 315us/step - loss: 1.5140 - accuracy: 0.5264 - val_loss: 1.8403 - val_accuracy: 0.4621\n",
            "\n",
            "Epoch 00014: val_accuracy did not improve from 0.51880\n",
            "Epoch 15/15\n",
            "530/530 [==============================] - 0s 315us/step - loss: 1.5182 - accuracy: 0.5396 - val_loss: 1.8466 - val_accuracy: 0.4470\n",
            "\n",
            "Epoch 00015: val_accuracy did not improve from 0.51880\n",
            "Train on 530 samples, validate on 132 samples\n",
            "Epoch 1/15\n",
            "530/530 [==============================] - 0s 304us/step - loss: 1.6030 - accuracy: 0.5075 - val_loss: 1.5355 - val_accuracy: 0.5530\n",
            "\n",
            "Epoch 00001: val_accuracy improved from 0.51880 to 0.55303, saving model to /content/drive/My Drive/MARG/models/RNN.h5\n",
            "Epoch 2/15\n",
            "530/530 [==============================] - 0s 333us/step - loss: 1.5834 - accuracy: 0.5075 - val_loss: 1.5500 - val_accuracy: 0.5455\n",
            "\n",
            "Epoch 00002: val_accuracy did not improve from 0.55303\n",
            "Epoch 3/15\n",
            "530/530 [==============================] - 0s 305us/step - loss: 1.5893 - accuracy: 0.5113 - val_loss: 1.5418 - val_accuracy: 0.5530\n",
            "\n",
            "Epoch 00003: val_accuracy did not improve from 0.55303\n",
            "Epoch 4/15\n",
            "530/530 [==============================] - 0s 335us/step - loss: 1.5728 - accuracy: 0.5094 - val_loss: 1.5404 - val_accuracy: 0.5530\n",
            "\n",
            "Epoch 00004: val_accuracy did not improve from 0.55303\n",
            "Epoch 5/15\n",
            "530/530 [==============================] - 0s 323us/step - loss: 1.5586 - accuracy: 0.5094 - val_loss: 1.5516 - val_accuracy: 0.5606\n",
            "\n",
            "Epoch 00005: val_accuracy improved from 0.55303 to 0.56061, saving model to /content/drive/My Drive/MARG/models/RNN.h5\n",
            "Epoch 6/15\n",
            "530/530 [==============================] - 0s 316us/step - loss: 1.5661 - accuracy: 0.5264 - val_loss: 1.5489 - val_accuracy: 0.5606\n",
            "\n",
            "Epoch 00006: val_accuracy did not improve from 0.56061\n",
            "Epoch 7/15\n",
            "530/530 [==============================] - 0s 338us/step - loss: 1.5538 - accuracy: 0.5226 - val_loss: 1.5449 - val_accuracy: 0.5606\n",
            "\n",
            "Epoch 00007: val_accuracy did not improve from 0.56061\n",
            "Epoch 8/15\n",
            "530/530 [==============================] - 0s 318us/step - loss: 1.5473 - accuracy: 0.5340 - val_loss: 1.5560 - val_accuracy: 0.5606\n",
            "\n",
            "Epoch 00008: val_accuracy did not improve from 0.56061\n",
            "Epoch 9/15\n",
            "530/530 [==============================] - 0s 314us/step - loss: 1.5486 - accuracy: 0.5208 - val_loss: 1.5530 - val_accuracy: 0.5606\n",
            "\n",
            "Epoch 00009: val_accuracy did not improve from 0.56061\n",
            "Epoch 10/15\n",
            "530/530 [==============================] - 0s 309us/step - loss: 1.5420 - accuracy: 0.5170 - val_loss: 1.5460 - val_accuracy: 0.5606\n",
            "\n",
            "Epoch 00010: val_accuracy did not improve from 0.56061\n",
            "Epoch 11/15\n",
            "530/530 [==============================] - 0s 333us/step - loss: 1.5295 - accuracy: 0.5245 - val_loss: 1.5532 - val_accuracy: 0.5455\n",
            "\n",
            "Epoch 00011: val_accuracy did not improve from 0.56061\n",
            "Epoch 12/15\n",
            "530/530 [==============================] - 0s 333us/step - loss: 1.5231 - accuracy: 0.5189 - val_loss: 1.5713 - val_accuracy: 0.5530\n",
            "\n",
            "Epoch 00012: val_accuracy did not improve from 0.56061\n",
            "Epoch 13/15\n",
            "530/530 [==============================] - 0s 329us/step - loss: 1.5089 - accuracy: 0.5264 - val_loss: 1.5431 - val_accuracy: 0.5530\n",
            "\n",
            "Epoch 00013: val_accuracy did not improve from 0.56061\n",
            "Epoch 14/15\n",
            "530/530 [==============================] - 0s 334us/step - loss: 1.5244 - accuracy: 0.5358 - val_loss: 1.5613 - val_accuracy: 0.5455\n",
            "\n",
            "Epoch 00014: val_accuracy did not improve from 0.56061\n",
            "Epoch 15/15\n",
            "530/530 [==============================] - 0s 313us/step - loss: 1.5097 - accuracy: 0.5208 - val_loss: 1.5598 - val_accuracy: 0.5606\n",
            "\n",
            "Epoch 00015: val_accuracy did not improve from 0.56061\n",
            "Train on 529 samples, validate on 133 samples\n",
            "Epoch 1/15\n",
            "529/529 [==============================] - 0s 313us/step - loss: 1.5338 - accuracy: 0.5312 - val_loss: 1.4544 - val_accuracy: 0.5414\n",
            "\n",
            "Epoch 00001: val_accuracy did not improve from 0.56061\n",
            "Epoch 2/15\n",
            "529/529 [==============================] - 0s 325us/step - loss: 1.5313 - accuracy: 0.5369 - val_loss: 1.4811 - val_accuracy: 0.5263\n",
            "\n",
            "Epoch 00002: val_accuracy did not improve from 0.56061\n",
            "Epoch 3/15\n",
            "529/529 [==============================] - 0s 357us/step - loss: 1.5095 - accuracy: 0.5425 - val_loss: 1.4853 - val_accuracy: 0.5414\n",
            "\n",
            "Epoch 00003: val_accuracy did not improve from 0.56061\n",
            "Epoch 4/15\n",
            "529/529 [==============================] - 0s 349us/step - loss: 1.5088 - accuracy: 0.5463 - val_loss: 1.4863 - val_accuracy: 0.5414\n",
            "\n",
            "Epoch 00004: val_accuracy did not improve from 0.56061\n",
            "Epoch 5/15\n",
            "529/529 [==============================] - 0s 322us/step - loss: 1.4887 - accuracy: 0.5463 - val_loss: 1.4853 - val_accuracy: 0.5263\n",
            "\n",
            "Epoch 00005: val_accuracy did not improve from 0.56061\n",
            "Epoch 6/15\n",
            "529/529 [==============================] - 0s 324us/step - loss: 1.4982 - accuracy: 0.5406 - val_loss: 1.4905 - val_accuracy: 0.5414\n",
            "\n",
            "Epoch 00006: val_accuracy did not improve from 0.56061\n",
            "Epoch 7/15\n",
            "529/529 [==============================] - 0s 319us/step - loss: 1.4817 - accuracy: 0.5577 - val_loss: 1.5075 - val_accuracy: 0.5414\n",
            "\n",
            "Epoch 00007: val_accuracy did not improve from 0.56061\n",
            "Epoch 8/15\n",
            "529/529 [==============================] - 0s 306us/step - loss: 1.4936 - accuracy: 0.5558 - val_loss: 1.5024 - val_accuracy: 0.5263\n",
            "\n",
            "Epoch 00008: val_accuracy did not improve from 0.56061\n",
            "Epoch 9/15\n",
            "529/529 [==============================] - 0s 343us/step - loss: 1.4981 - accuracy: 0.5501 - val_loss: 1.5095 - val_accuracy: 0.5113\n",
            "\n",
            "Epoch 00009: val_accuracy did not improve from 0.56061\n",
            "Epoch 10/15\n",
            "529/529 [==============================] - 0s 319us/step - loss: 1.4785 - accuracy: 0.5595 - val_loss: 1.5186 - val_accuracy: 0.5263\n",
            "\n",
            "Epoch 00010: val_accuracy did not improve from 0.56061\n",
            "Epoch 11/15\n",
            "529/529 [==============================] - 0s 316us/step - loss: 1.4627 - accuracy: 0.5501 - val_loss: 1.5253 - val_accuracy: 0.5113\n",
            "\n",
            "Epoch 00011: val_accuracy did not improve from 0.56061\n",
            "Epoch 12/15\n",
            "529/529 [==============================] - 0s 309us/step - loss: 1.4866 - accuracy: 0.5558 - val_loss: 1.5135 - val_accuracy: 0.5113\n",
            "\n",
            "Epoch 00012: val_accuracy did not improve from 0.56061\n",
            "Epoch 13/15\n",
            "529/529 [==============================] - 0s 307us/step - loss: 1.4784 - accuracy: 0.5558 - val_loss: 1.5208 - val_accuracy: 0.5113\n",
            "\n",
            "Epoch 00013: val_accuracy did not improve from 0.56061\n",
            "Epoch 14/15\n",
            "529/529 [==============================] - 0s 305us/step - loss: 1.4732 - accuracy: 0.5614 - val_loss: 1.5063 - val_accuracy: 0.5263\n",
            "\n",
            "Epoch 00014: val_accuracy did not improve from 0.56061\n",
            "Epoch 15/15\n",
            "529/529 [==============================] - 0s 321us/step - loss: 1.4573 - accuracy: 0.5614 - val_loss: 1.5183 - val_accuracy: 0.5188\n",
            "\n",
            "Epoch 00015: val_accuracy did not improve from 0.56061\n",
            "Train on 529 samples, validate on 133 samples\n",
            "Epoch 1/15\n",
            "529/529 [==============================] - 0s 309us/step - loss: 1.5077 - accuracy: 0.5388 - val_loss: 1.3567 - val_accuracy: 0.6015\n",
            "\n",
            "Epoch 00001: val_accuracy improved from 0.56061 to 0.60150, saving model to /content/drive/My Drive/MARG/models/RNN.h5\n",
            "Epoch 2/15\n",
            "529/529 [==============================] - 0s 322us/step - loss: 1.4977 - accuracy: 0.5274 - val_loss: 1.4096 - val_accuracy: 0.5489\n",
            "\n",
            "Epoch 00002: val_accuracy did not improve from 0.60150\n",
            "Epoch 3/15\n",
            "529/529 [==============================] - 0s 319us/step - loss: 1.4687 - accuracy: 0.5406 - val_loss: 1.3976 - val_accuracy: 0.5789\n",
            "\n",
            "Epoch 00003: val_accuracy did not improve from 0.60150\n",
            "Epoch 4/15\n",
            "529/529 [==============================] - 0s 317us/step - loss: 1.4667 - accuracy: 0.5463 - val_loss: 1.3929 - val_accuracy: 0.5865\n",
            "\n",
            "Epoch 00004: val_accuracy did not improve from 0.60150\n",
            "Epoch 5/15\n",
            "529/529 [==============================] - 0s 305us/step - loss: 1.4566 - accuracy: 0.5406 - val_loss: 1.4429 - val_accuracy: 0.5489\n",
            "\n",
            "Epoch 00005: val_accuracy did not improve from 0.60150\n",
            "Epoch 6/15\n",
            "529/529 [==============================] - 0s 322us/step - loss: 1.4487 - accuracy: 0.5369 - val_loss: 1.4161 - val_accuracy: 0.5414\n",
            "\n",
            "Epoch 00006: val_accuracy did not improve from 0.60150\n",
            "Epoch 7/15\n",
            "529/529 [==============================] - 0s 325us/step - loss: 1.4436 - accuracy: 0.5293 - val_loss: 1.4556 - val_accuracy: 0.5188\n",
            "\n",
            "Epoch 00007: val_accuracy did not improve from 0.60150\n",
            "Epoch 8/15\n",
            "529/529 [==============================] - 0s 305us/step - loss: 1.4412 - accuracy: 0.5463 - val_loss: 1.4490 - val_accuracy: 0.5338\n",
            "\n",
            "Epoch 00008: val_accuracy did not improve from 0.60150\n",
            "Epoch 9/15\n",
            "529/529 [==============================] - 0s 323us/step - loss: 1.4376 - accuracy: 0.5463 - val_loss: 1.4370 - val_accuracy: 0.5338\n",
            "\n",
            "Epoch 00009: val_accuracy did not improve from 0.60150\n",
            "Epoch 10/15\n",
            "529/529 [==============================] - 0s 317us/step - loss: 1.4286 - accuracy: 0.5406 - val_loss: 1.4421 - val_accuracy: 0.5564\n",
            "\n",
            "Epoch 00010: val_accuracy did not improve from 0.60150\n",
            "Epoch 11/15\n",
            "529/529 [==============================] - 0s 323us/step - loss: 1.4129 - accuracy: 0.5539 - val_loss: 1.4517 - val_accuracy: 0.5113\n",
            "\n",
            "Epoch 00011: val_accuracy did not improve from 0.60150\n",
            "Epoch 12/15\n",
            "529/529 [==============================] - 0s 352us/step - loss: 1.4207 - accuracy: 0.5558 - val_loss: 1.4410 - val_accuracy: 0.5489\n",
            "\n",
            "Epoch 00012: val_accuracy did not improve from 0.60150\n",
            "Epoch 13/15\n",
            "529/529 [==============================] - 0s 342us/step - loss: 1.4374 - accuracy: 0.5520 - val_loss: 1.5192 - val_accuracy: 0.5188\n",
            "\n",
            "Epoch 00013: val_accuracy did not improve from 0.60150\n",
            "Epoch 14/15\n",
            "529/529 [==============================] - 0s 334us/step - loss: 1.4164 - accuracy: 0.5444 - val_loss: 1.4556 - val_accuracy: 0.5414\n",
            "\n",
            "Epoch 00014: val_accuracy did not improve from 0.60150\n",
            "Epoch 15/15\n",
            "529/529 [==============================] - 0s 335us/step - loss: 1.4257 - accuracy: 0.5520 - val_loss: 1.5076 - val_accuracy: 0.5188\n",
            "\n",
            "Epoch 00015: val_accuracy did not improve from 0.60150\n",
            "Train on 530 samples, validate on 132 samples\n",
            "Epoch 1/15\n",
            "530/530 [==============================] - 0s 316us/step - loss: 1.4532 - accuracy: 0.5396 - val_loss: 1.3539 - val_accuracy: 0.5606\n",
            "\n",
            "Epoch 00001: val_accuracy did not improve from 0.60150\n",
            "Epoch 2/15\n",
            "530/530 [==============================] - 0s 345us/step - loss: 1.4515 - accuracy: 0.5453 - val_loss: 1.3585 - val_accuracy: 0.5682\n",
            "\n",
            "Epoch 00002: val_accuracy did not improve from 0.60150\n",
            "Epoch 3/15\n",
            "530/530 [==============================] - 0s 310us/step - loss: 1.4249 - accuracy: 0.5547 - val_loss: 1.3507 - val_accuracy: 0.5682\n",
            "\n",
            "Epoch 00003: val_accuracy did not improve from 0.60150\n",
            "Epoch 4/15\n",
            "530/530 [==============================] - 0s 317us/step - loss: 1.4269 - accuracy: 0.5528 - val_loss: 1.3376 - val_accuracy: 0.5833\n",
            "\n",
            "Epoch 00004: val_accuracy did not improve from 0.60150\n",
            "Epoch 5/15\n",
            "530/530 [==============================] - 0s 332us/step - loss: 1.4424 - accuracy: 0.5528 - val_loss: 1.3777 - val_accuracy: 0.5833\n",
            "\n",
            "Epoch 00005: val_accuracy did not improve from 0.60150\n",
            "Epoch 6/15\n",
            "530/530 [==============================] - 0s 312us/step - loss: 1.4345 - accuracy: 0.5547 - val_loss: 1.3753 - val_accuracy: 0.5606\n",
            "\n",
            "Epoch 00006: val_accuracy did not improve from 0.60150\n",
            "Epoch 7/15\n",
            "530/530 [==============================] - 0s 315us/step - loss: 1.4158 - accuracy: 0.5566 - val_loss: 1.3684 - val_accuracy: 0.5833\n",
            "\n",
            "Epoch 00007: val_accuracy did not improve from 0.60150\n",
            "Epoch 8/15\n",
            "530/530 [==============================] - 0s 321us/step - loss: 1.3873 - accuracy: 0.5660 - val_loss: 1.3665 - val_accuracy: 0.5909\n",
            "\n",
            "Epoch 00008: val_accuracy did not improve from 0.60150\n",
            "Epoch 9/15\n",
            "530/530 [==============================] - 0s 316us/step - loss: 1.4020 - accuracy: 0.5623 - val_loss: 1.3709 - val_accuracy: 0.5833\n",
            "\n",
            "Epoch 00009: val_accuracy did not improve from 0.60150\n",
            "Epoch 10/15\n",
            "530/530 [==============================] - 0s 338us/step - loss: 1.3912 - accuracy: 0.5736 - val_loss: 1.3694 - val_accuracy: 0.5606\n",
            "\n",
            "Epoch 00010: val_accuracy did not improve from 0.60150\n",
            "Epoch 11/15\n",
            "530/530 [==============================] - 0s 313us/step - loss: 1.3700 - accuracy: 0.5736 - val_loss: 1.3850 - val_accuracy: 0.5833\n",
            "\n",
            "Epoch 00011: val_accuracy did not improve from 0.60150\n",
            "Epoch 12/15\n",
            "530/530 [==============================] - 0s 307us/step - loss: 1.3899 - accuracy: 0.5698 - val_loss: 1.4383 - val_accuracy: 0.5455\n",
            "\n",
            "Epoch 00012: val_accuracy did not improve from 0.60150\n",
            "Epoch 13/15\n",
            "530/530 [==============================] - 0s 313us/step - loss: 1.3921 - accuracy: 0.5604 - val_loss: 1.3640 - val_accuracy: 0.5833\n",
            "\n",
            "Epoch 00013: val_accuracy did not improve from 0.60150\n",
            "Epoch 14/15\n",
            "530/530 [==============================] - 0s 318us/step - loss: 1.3843 - accuracy: 0.5717 - val_loss: 1.4097 - val_accuracy: 0.5606\n",
            "\n",
            "Epoch 00014: val_accuracy did not improve from 0.60150\n",
            "Epoch 15/15\n",
            "530/530 [==============================] - 0s 317us/step - loss: 1.3726 - accuracy: 0.5698 - val_loss: 1.3891 - val_accuracy: 0.5682\n",
            "\n",
            "Epoch 00015: val_accuracy did not improve from 0.60150\n",
            "Train on 530 samples, validate on 132 samples\n",
            "Epoch 1/15\n",
            "530/530 [==============================] - 0s 330us/step - loss: 1.3192 - accuracy: 0.5925 - val_loss: 1.5335 - val_accuracy: 0.5152\n",
            "\n",
            "Epoch 00001: val_accuracy did not improve from 0.60150\n",
            "Epoch 2/15\n",
            "530/530 [==============================] - 0s 320us/step - loss: 1.3337 - accuracy: 0.5925 - val_loss: 1.5420 - val_accuracy: 0.5152\n",
            "\n",
            "Epoch 00002: val_accuracy did not improve from 0.60150\n",
            "Epoch 3/15\n",
            "530/530 [==============================] - 0s 305us/step - loss: 1.3178 - accuracy: 0.5774 - val_loss: 1.5853 - val_accuracy: 0.5076\n",
            "\n",
            "Epoch 00003: val_accuracy did not improve from 0.60150\n",
            "Epoch 4/15\n",
            "530/530 [==============================] - 0s 308us/step - loss: 1.3114 - accuracy: 0.5962 - val_loss: 1.6042 - val_accuracy: 0.5303\n",
            "\n",
            "Epoch 00004: val_accuracy did not improve from 0.60150\n",
            "Epoch 5/15\n",
            "530/530 [==============================] - 0s 328us/step - loss: 1.2941 - accuracy: 0.6019 - val_loss: 1.6079 - val_accuracy: 0.5076\n",
            "\n",
            "Epoch 00005: val_accuracy did not improve from 0.60150\n",
            "Epoch 6/15\n",
            "530/530 [==============================] - 0s 330us/step - loss: 1.2993 - accuracy: 0.5981 - val_loss: 1.6060 - val_accuracy: 0.5000\n",
            "\n",
            "Epoch 00006: val_accuracy did not improve from 0.60150\n",
            "Epoch 7/15\n",
            "530/530 [==============================] - 0s 315us/step - loss: 1.3056 - accuracy: 0.5962 - val_loss: 1.6131 - val_accuracy: 0.5152\n",
            "\n",
            "Epoch 00007: val_accuracy did not improve from 0.60150\n",
            "Epoch 8/15\n",
            "530/530 [==============================] - 0s 317us/step - loss: 1.2801 - accuracy: 0.6113 - val_loss: 1.6432 - val_accuracy: 0.5152\n",
            "\n",
            "Epoch 00008: val_accuracy did not improve from 0.60150\n",
            "Epoch 9/15\n",
            "530/530 [==============================] - 0s 324us/step - loss: 1.2940 - accuracy: 0.6094 - val_loss: 1.6541 - val_accuracy: 0.5076\n",
            "\n",
            "Epoch 00009: val_accuracy did not improve from 0.60150\n",
            "Epoch 10/15\n",
            "530/530 [==============================] - 0s 332us/step - loss: 1.2738 - accuracy: 0.6019 - val_loss: 1.6632 - val_accuracy: 0.4924\n",
            "\n",
            "Epoch 00010: val_accuracy did not improve from 0.60150\n",
            "Epoch 11/15\n",
            "530/530 [==============================] - 0s 327us/step - loss: 1.2923 - accuracy: 0.6057 - val_loss: 1.6296 - val_accuracy: 0.4924\n",
            "\n",
            "Epoch 00011: val_accuracy did not improve from 0.60150\n",
            "Epoch 12/15\n",
            "530/530 [==============================] - 0s 325us/step - loss: 1.2521 - accuracy: 0.6208 - val_loss: 1.6407 - val_accuracy: 0.5000\n",
            "\n",
            "Epoch 00012: val_accuracy did not improve from 0.60150\n",
            "Epoch 13/15\n",
            "530/530 [==============================] - 0s 319us/step - loss: 1.2383 - accuracy: 0.6264 - val_loss: 1.6506 - val_accuracy: 0.5152\n",
            "\n",
            "Epoch 00013: val_accuracy did not improve from 0.60150\n",
            "Epoch 14/15\n",
            "530/530 [==============================] - 0s 320us/step - loss: 1.2459 - accuracy: 0.6321 - val_loss: 1.6662 - val_accuracy: 0.5000\n",
            "\n",
            "Epoch 00014: val_accuracy did not improve from 0.60150\n",
            "Epoch 15/15\n",
            "530/530 [==============================] - 0s 334us/step - loss: 1.2472 - accuracy: 0.6358 - val_loss: 1.6502 - val_accuracy: 0.5000\n",
            "\n",
            "Epoch 00015: val_accuracy did not improve from 0.60150\n",
            "Train on 530 samples, validate on 132 samples\n",
            "Epoch 1/15\n",
            "530/530 [==============================] - 0s 313us/step - loss: 1.3432 - accuracy: 0.5717 - val_loss: 1.2265 - val_accuracy: 0.6364\n",
            "\n",
            "Epoch 00001: val_accuracy improved from 0.60150 to 0.63636, saving model to /content/drive/My Drive/MARG/models/RNN.h5\n",
            "Epoch 2/15\n",
            "530/530 [==============================] - 0s 325us/step - loss: 1.3291 - accuracy: 0.5962 - val_loss: 1.2605 - val_accuracy: 0.6515\n",
            "\n",
            "Epoch 00002: val_accuracy improved from 0.63636 to 0.65152, saving model to /content/drive/My Drive/MARG/models/RNN.h5\n",
            "Epoch 3/15\n",
            "530/530 [==============================] - 0s 330us/step - loss: 1.3170 - accuracy: 0.5981 - val_loss: 1.2650 - val_accuracy: 0.6439\n",
            "\n",
            "Epoch 00003: val_accuracy did not improve from 0.65152\n",
            "Epoch 4/15\n",
            "530/530 [==============================] - 0s 329us/step - loss: 1.3195 - accuracy: 0.5887 - val_loss: 1.2675 - val_accuracy: 0.6515\n",
            "\n",
            "Epoch 00004: val_accuracy did not improve from 0.65152\n",
            "Epoch 5/15\n",
            "530/530 [==============================] - 0s 331us/step - loss: 1.3123 - accuracy: 0.5981 - val_loss: 1.3014 - val_accuracy: 0.6136\n",
            "\n",
            "Epoch 00005: val_accuracy did not improve from 0.65152\n",
            "Epoch 6/15\n",
            "530/530 [==============================] - 0s 316us/step - loss: 1.3212 - accuracy: 0.5887 - val_loss: 1.3044 - val_accuracy: 0.6212\n",
            "\n",
            "Epoch 00006: val_accuracy did not improve from 0.65152\n",
            "Epoch 7/15\n",
            "530/530 [==============================] - 0s 330us/step - loss: 1.2984 - accuracy: 0.6019 - val_loss: 1.3296 - val_accuracy: 0.6061\n",
            "\n",
            "Epoch 00007: val_accuracy did not improve from 0.65152\n",
            "Epoch 8/15\n",
            "530/530 [==============================] - 0s 321us/step - loss: 1.2912 - accuracy: 0.6208 - val_loss: 1.3518 - val_accuracy: 0.5909\n",
            "\n",
            "Epoch 00008: val_accuracy did not improve from 0.65152\n",
            "Epoch 9/15\n",
            "530/530 [==============================] - 0s 313us/step - loss: 1.2917 - accuracy: 0.6245 - val_loss: 1.3236 - val_accuracy: 0.6136\n",
            "\n",
            "Epoch 00009: val_accuracy did not improve from 0.65152\n",
            "Epoch 10/15\n",
            "530/530 [==============================] - 0s 308us/step - loss: 1.2721 - accuracy: 0.6094 - val_loss: 1.3204 - val_accuracy: 0.6136\n",
            "\n",
            "Epoch 00010: val_accuracy did not improve from 0.65152\n",
            "Epoch 11/15\n",
            "530/530 [==============================] - 0s 307us/step - loss: 1.2627 - accuracy: 0.6075 - val_loss: 1.3390 - val_accuracy: 0.6136\n",
            "\n",
            "Epoch 00011: val_accuracy did not improve from 0.65152\n",
            "Epoch 12/15\n",
            "530/530 [==============================] - 0s 312us/step - loss: 1.2754 - accuracy: 0.6151 - val_loss: 1.3951 - val_accuracy: 0.5909\n",
            "\n",
            "Epoch 00012: val_accuracy did not improve from 0.65152\n",
            "Epoch 13/15\n",
            "530/530 [==============================] - 0s 329us/step - loss: 1.2851 - accuracy: 0.6019 - val_loss: 1.3620 - val_accuracy: 0.5985\n",
            "\n",
            "Epoch 00013: val_accuracy did not improve from 0.65152\n",
            "Epoch 14/15\n",
            "530/530 [==============================] - 0s 322us/step - loss: 1.2699 - accuracy: 0.6075 - val_loss: 1.3870 - val_accuracy: 0.5909\n",
            "\n",
            "Epoch 00014: val_accuracy did not improve from 0.65152\n",
            "Epoch 15/15\n",
            "530/530 [==============================] - 0s 333us/step - loss: 1.2556 - accuracy: 0.6132 - val_loss: 1.3811 - val_accuracy: 0.5833\n",
            "\n",
            "Epoch 00015: val_accuracy did not improve from 0.65152\n",
            "Train on 529 samples, validate on 133 samples\n",
            "Epoch 1/15\n",
            "529/529 [==============================] - 0s 323us/step - loss: 1.3052 - accuracy: 0.6087 - val_loss: 1.2184 - val_accuracy: 0.6165\n",
            "\n",
            "Epoch 00001: val_accuracy did not improve from 0.65152\n",
            "Epoch 2/15\n",
            "529/529 [==============================] - 0s 324us/step - loss: 1.2894 - accuracy: 0.6181 - val_loss: 1.2454 - val_accuracy: 0.6241\n",
            "\n",
            "Epoch 00002: val_accuracy did not improve from 0.65152\n",
            "Epoch 3/15\n",
            "529/529 [==============================] - 0s 341us/step - loss: 1.2888 - accuracy: 0.6238 - val_loss: 1.2382 - val_accuracy: 0.6015\n",
            "\n",
            "Epoch 00003: val_accuracy did not improve from 0.65152\n",
            "Epoch 4/15\n",
            "529/529 [==============================] - 0s 341us/step - loss: 1.3084 - accuracy: 0.6200 - val_loss: 1.2669 - val_accuracy: 0.5940\n",
            "\n",
            "Epoch 00004: val_accuracy did not improve from 0.65152\n",
            "Epoch 5/15\n",
            "529/529 [==============================] - 0s 323us/step - loss: 1.2787 - accuracy: 0.6276 - val_loss: 1.2602 - val_accuracy: 0.5865\n",
            "\n",
            "Epoch 00005: val_accuracy did not improve from 0.65152\n",
            "Epoch 6/15\n",
            "529/529 [==============================] - 0s 310us/step - loss: 1.2702 - accuracy: 0.6389 - val_loss: 1.2676 - val_accuracy: 0.5714\n",
            "\n",
            "Epoch 00006: val_accuracy did not improve from 0.65152\n",
            "Epoch 7/15\n",
            "529/529 [==============================] - 0s 308us/step - loss: 1.2749 - accuracy: 0.6219 - val_loss: 1.2788 - val_accuracy: 0.5714\n",
            "\n",
            "Epoch 00007: val_accuracy did not improve from 0.65152\n",
            "Epoch 8/15\n",
            "529/529 [==============================] - 0s 319us/step - loss: 1.2609 - accuracy: 0.6276 - val_loss: 1.2871 - val_accuracy: 0.5789\n",
            "\n",
            "Epoch 00008: val_accuracy did not improve from 0.65152\n",
            "Epoch 9/15\n",
            "529/529 [==============================] - 0s 339us/step - loss: 1.2704 - accuracy: 0.6427 - val_loss: 1.3126 - val_accuracy: 0.5489\n",
            "\n",
            "Epoch 00009: val_accuracy did not improve from 0.65152\n",
            "Epoch 10/15\n",
            "529/529 [==============================] - 0s 331us/step - loss: 1.2301 - accuracy: 0.6314 - val_loss: 1.3053 - val_accuracy: 0.5714\n",
            "\n",
            "Epoch 00010: val_accuracy did not improve from 0.65152\n",
            "Epoch 11/15\n",
            "529/529 [==============================] - 0s 326us/step - loss: 1.2372 - accuracy: 0.6276 - val_loss: 1.3042 - val_accuracy: 0.5639\n",
            "\n",
            "Epoch 00011: val_accuracy did not improve from 0.65152\n",
            "Epoch 12/15\n",
            "529/529 [==============================] - 0s 333us/step - loss: 1.2325 - accuracy: 0.6333 - val_loss: 1.3099 - val_accuracy: 0.5639\n",
            "\n",
            "Epoch 00012: val_accuracy did not improve from 0.65152\n",
            "Epoch 13/15\n",
            "529/529 [==============================] - 0s 362us/step - loss: 1.2413 - accuracy: 0.6408 - val_loss: 1.3227 - val_accuracy: 0.5489\n",
            "\n",
            "Epoch 00013: val_accuracy did not improve from 0.65152\n",
            "Epoch 14/15\n",
            "529/529 [==============================] - 0s 323us/step - loss: 1.2295 - accuracy: 0.6484 - val_loss: 1.3191 - val_accuracy: 0.5789\n",
            "\n",
            "Epoch 00014: val_accuracy did not improve from 0.65152\n",
            "Epoch 15/15\n",
            "529/529 [==============================] - 0s 351us/step - loss: 1.2029 - accuracy: 0.6635 - val_loss: 1.3334 - val_accuracy: 0.5639\n",
            "\n",
            "Epoch 00015: val_accuracy did not improve from 0.65152\n",
            "Train on 529 samples, validate on 133 samples\n",
            "Epoch 1/15\n",
            "529/529 [==============================] - 0s 345us/step - loss: 1.2674 - accuracy: 0.6200 - val_loss: 1.1035 - val_accuracy: 0.6767\n",
            "\n",
            "Epoch 00001: val_accuracy improved from 0.65152 to 0.67669, saving model to /content/drive/My Drive/MARG/models/RNN.h5\n",
            "Epoch 2/15\n",
            "529/529 [==============================] - 0s 335us/step - loss: 1.2384 - accuracy: 0.6200 - val_loss: 1.1436 - val_accuracy: 0.6617\n",
            "\n",
            "Epoch 00002: val_accuracy did not improve from 0.67669\n",
            "Epoch 3/15\n",
            "529/529 [==============================] - 0s 338us/step - loss: 1.2373 - accuracy: 0.6371 - val_loss: 1.1677 - val_accuracy: 0.6692\n",
            "\n",
            "Epoch 00003: val_accuracy did not improve from 0.67669\n",
            "Epoch 4/15\n",
            "529/529 [==============================] - 0s 323us/step - loss: 1.2322 - accuracy: 0.6276 - val_loss: 1.1866 - val_accuracy: 0.6391\n",
            "\n",
            "Epoch 00004: val_accuracy did not improve from 0.67669\n",
            "Epoch 5/15\n",
            "529/529 [==============================] - 0s 349us/step - loss: 1.2365 - accuracy: 0.6295 - val_loss: 1.1701 - val_accuracy: 0.6767\n",
            "\n",
            "Epoch 00005: val_accuracy did not improve from 0.67669\n",
            "Epoch 6/15\n",
            "529/529 [==============================] - 0s 340us/step - loss: 1.2086 - accuracy: 0.6597 - val_loss: 1.1895 - val_accuracy: 0.6692\n",
            "\n",
            "Epoch 00006: val_accuracy did not improve from 0.67669\n",
            "Epoch 7/15\n",
            "529/529 [==============================] - 0s 336us/step - loss: 1.2311 - accuracy: 0.6541 - val_loss: 1.2415 - val_accuracy: 0.6541\n",
            "\n",
            "Epoch 00007: val_accuracy did not improve from 0.67669\n",
            "Epoch 8/15\n",
            "529/529 [==============================] - 0s 349us/step - loss: 1.1980 - accuracy: 0.6446 - val_loss: 1.2330 - val_accuracy: 0.6541\n",
            "\n",
            "Epoch 00008: val_accuracy did not improve from 0.67669\n",
            "Epoch 9/15\n",
            "529/529 [==============================] - 0s 334us/step - loss: 1.1706 - accuracy: 0.6616 - val_loss: 1.2218 - val_accuracy: 0.6541\n",
            "\n",
            "Epoch 00009: val_accuracy did not improve from 0.67669\n",
            "Epoch 10/15\n",
            "529/529 [==============================] - 0s 346us/step - loss: 1.1809 - accuracy: 0.6522 - val_loss: 1.2253 - val_accuracy: 0.6165\n",
            "\n",
            "Epoch 00010: val_accuracy did not improve from 0.67669\n",
            "Epoch 11/15\n",
            "529/529 [==============================] - 0s 340us/step - loss: 1.1746 - accuracy: 0.6578 - val_loss: 1.2447 - val_accuracy: 0.6316\n",
            "\n",
            "Epoch 00011: val_accuracy did not improve from 0.67669\n",
            "Epoch 12/15\n",
            "529/529 [==============================] - 0s 323us/step - loss: 1.1703 - accuracy: 0.6560 - val_loss: 1.2502 - val_accuracy: 0.6165\n",
            "\n",
            "Epoch 00012: val_accuracy did not improve from 0.67669\n",
            "Epoch 13/15\n",
            "529/529 [==============================] - 0s 321us/step - loss: 1.1612 - accuracy: 0.6616 - val_loss: 1.2251 - val_accuracy: 0.6466\n",
            "\n",
            "Epoch 00013: val_accuracy did not improve from 0.67669\n",
            "Epoch 14/15\n",
            "529/529 [==============================] - 0s 318us/step - loss: 1.1593 - accuracy: 0.6578 - val_loss: 1.2996 - val_accuracy: 0.6165\n",
            "\n",
            "Epoch 00014: val_accuracy did not improve from 0.67669\n",
            "Epoch 15/15\n",
            "529/529 [==============================] - 0s 332us/step - loss: 1.1409 - accuracy: 0.6654 - val_loss: 1.2779 - val_accuracy: 0.6391\n",
            "\n",
            "Epoch 00015: val_accuracy did not improve from 0.67669\n",
            "Train on 530 samples, validate on 132 samples\n",
            "Epoch 1/15\n",
            "530/530 [==============================] - 0s 345us/step - loss: 1.2080 - accuracy: 0.6434 - val_loss: 1.0177 - val_accuracy: 0.6970\n",
            "\n",
            "Epoch 00001: val_accuracy improved from 0.67669 to 0.69697, saving model to /content/drive/My Drive/MARG/models/RNN.h5\n",
            "Epoch 2/15\n",
            "530/530 [==============================] - 0s 337us/step - loss: 1.1766 - accuracy: 0.6472 - val_loss: 1.0541 - val_accuracy: 0.6818\n",
            "\n",
            "Epoch 00002: val_accuracy did not improve from 0.69697\n",
            "Epoch 3/15\n",
            "530/530 [==============================] - 0s 323us/step - loss: 1.1975 - accuracy: 0.6415 - val_loss: 1.0636 - val_accuracy: 0.6894\n",
            "\n",
            "Epoch 00003: val_accuracy did not improve from 0.69697\n",
            "Epoch 4/15\n",
            "530/530 [==============================] - 0s 328us/step - loss: 1.1566 - accuracy: 0.6566 - val_loss: 1.1109 - val_accuracy: 0.6894\n",
            "\n",
            "Epoch 00004: val_accuracy did not improve from 0.69697\n",
            "Epoch 5/15\n",
            "530/530 [==============================] - 0s 338us/step - loss: 1.1725 - accuracy: 0.6528 - val_loss: 1.0678 - val_accuracy: 0.6970\n",
            "\n",
            "Epoch 00005: val_accuracy did not improve from 0.69697\n",
            "Epoch 6/15\n",
            "530/530 [==============================] - 0s 350us/step - loss: 1.1722 - accuracy: 0.6679 - val_loss: 1.1409 - val_accuracy: 0.7045\n",
            "\n",
            "Epoch 00006: val_accuracy improved from 0.69697 to 0.70455, saving model to /content/drive/My Drive/MARG/models/RNN.h5\n",
            "Epoch 7/15\n",
            "530/530 [==============================] - 0s 344us/step - loss: 1.1833 - accuracy: 0.6528 - val_loss: 1.0964 - val_accuracy: 0.6894\n",
            "\n",
            "Epoch 00007: val_accuracy did not improve from 0.70455\n",
            "Epoch 8/15\n",
            "530/530 [==============================] - 0s 319us/step - loss: 1.1551 - accuracy: 0.6811 - val_loss: 1.1509 - val_accuracy: 0.6439\n",
            "\n",
            "Epoch 00008: val_accuracy did not improve from 0.70455\n",
            "Epoch 9/15\n",
            "530/530 [==============================] - 0s 304us/step - loss: 1.1749 - accuracy: 0.6660 - val_loss: 1.1105 - val_accuracy: 0.7045\n",
            "\n",
            "Epoch 00009: val_accuracy did not improve from 0.70455\n",
            "Epoch 10/15\n",
            "530/530 [==============================] - 0s 319us/step - loss: 1.1511 - accuracy: 0.6736 - val_loss: 1.1102 - val_accuracy: 0.6894\n",
            "\n",
            "Epoch 00010: val_accuracy did not improve from 0.70455\n",
            "Epoch 11/15\n",
            "530/530 [==============================] - 0s 321us/step - loss: 1.1485 - accuracy: 0.6623 - val_loss: 1.1871 - val_accuracy: 0.6515\n",
            "\n",
            "Epoch 00011: val_accuracy did not improve from 0.70455\n",
            "Epoch 12/15\n",
            "530/530 [==============================] - 0s 332us/step - loss: 1.1415 - accuracy: 0.6679 - val_loss: 1.1372 - val_accuracy: 0.6591\n",
            "\n",
            "Epoch 00012: val_accuracy did not improve from 0.70455\n",
            "Epoch 13/15\n",
            "530/530 [==============================] - 0s 331us/step - loss: 1.1412 - accuracy: 0.6792 - val_loss: 1.1723 - val_accuracy: 0.6515\n",
            "\n",
            "Epoch 00013: val_accuracy did not improve from 0.70455\n",
            "Epoch 14/15\n",
            "530/530 [==============================] - 0s 319us/step - loss: 1.1288 - accuracy: 0.6717 - val_loss: 1.1459 - val_accuracy: 0.6742\n",
            "\n",
            "Epoch 00014: val_accuracy did not improve from 0.70455\n",
            "Epoch 15/15\n",
            "530/530 [==============================] - 0s 331us/step - loss: 1.1046 - accuracy: 0.6698 - val_loss: 1.1219 - val_accuracy: 0.6818\n",
            "\n",
            "Epoch 00015: val_accuracy did not improve from 0.70455\n",
            "Train on 530 samples, validate on 132 samples\n",
            "Epoch 1/15\n",
            "530/530 [==============================] - 0s 318us/step - loss: 1.1014 - accuracy: 0.6830 - val_loss: 1.2373 - val_accuracy: 0.6212\n",
            "\n",
            "Epoch 00001: val_accuracy did not improve from 0.70455\n",
            "Epoch 2/15\n",
            "530/530 [==============================] - 0s 330us/step - loss: 1.0739 - accuracy: 0.6868 - val_loss: 1.2690 - val_accuracy: 0.5985\n",
            "\n",
            "Epoch 00002: val_accuracy did not improve from 0.70455\n",
            "Epoch 3/15\n",
            "530/530 [==============================] - 0s 337us/step - loss: 1.0658 - accuracy: 0.7113 - val_loss: 1.3148 - val_accuracy: 0.5833\n",
            "\n",
            "Epoch 00003: val_accuracy did not improve from 0.70455\n",
            "Epoch 4/15\n",
            "530/530 [==============================] - 0s 322us/step - loss: 1.0606 - accuracy: 0.6868 - val_loss: 1.3292 - val_accuracy: 0.6061\n",
            "\n",
            "Epoch 00004: val_accuracy did not improve from 0.70455\n",
            "Epoch 5/15\n",
            "530/530 [==============================] - 0s 307us/step - loss: 1.0270 - accuracy: 0.7283 - val_loss: 1.3657 - val_accuracy: 0.5682\n",
            "\n",
            "Epoch 00005: val_accuracy did not improve from 0.70455\n",
            "Epoch 6/15\n",
            "530/530 [==============================] - 0s 317us/step - loss: 1.0544 - accuracy: 0.7132 - val_loss: 1.3856 - val_accuracy: 0.5833\n",
            "\n",
            "Epoch 00006: val_accuracy did not improve from 0.70455\n",
            "Epoch 7/15\n",
            "530/530 [==============================] - 0s 315us/step - loss: 1.0286 - accuracy: 0.7226 - val_loss: 1.3713 - val_accuracy: 0.5833\n",
            "\n",
            "Epoch 00007: val_accuracy did not improve from 0.70455\n",
            "Epoch 8/15\n",
            "530/530 [==============================] - 0s 341us/step - loss: 1.0377 - accuracy: 0.7113 - val_loss: 1.3704 - val_accuracy: 0.5833\n",
            "\n",
            "Epoch 00008: val_accuracy did not improve from 0.70455\n",
            "Epoch 9/15\n",
            "530/530 [==============================] - 0s 340us/step - loss: 1.0115 - accuracy: 0.7377 - val_loss: 1.4179 - val_accuracy: 0.5758\n",
            "\n",
            "Epoch 00009: val_accuracy did not improve from 0.70455\n",
            "Epoch 10/15\n",
            "530/530 [==============================] - 0s 319us/step - loss: 1.0699 - accuracy: 0.6943 - val_loss: 1.3810 - val_accuracy: 0.5985\n",
            "\n",
            "Epoch 00010: val_accuracy did not improve from 0.70455\n",
            "Epoch 11/15\n",
            "530/530 [==============================] - 0s 331us/step - loss: 1.0317 - accuracy: 0.7208 - val_loss: 1.4328 - val_accuracy: 0.5606\n",
            "\n",
            "Epoch 00011: val_accuracy did not improve from 0.70455\n",
            "Epoch 12/15\n",
            "530/530 [==============================] - 0s 337us/step - loss: 1.0132 - accuracy: 0.7226 - val_loss: 1.4429 - val_accuracy: 0.5606\n",
            "\n",
            "Epoch 00012: val_accuracy did not improve from 0.70455\n",
            "Epoch 13/15\n",
            "530/530 [==============================] - 0s 339us/step - loss: 1.0059 - accuracy: 0.7264 - val_loss: 1.4287 - val_accuracy: 0.5530\n",
            "\n",
            "Epoch 00013: val_accuracy did not improve from 0.70455\n",
            "Epoch 14/15\n",
            "530/530 [==============================] - 0s 343us/step - loss: 1.0076 - accuracy: 0.7358 - val_loss: 1.4226 - val_accuracy: 0.5833\n",
            "\n",
            "Epoch 00014: val_accuracy did not improve from 0.70455\n",
            "Epoch 15/15\n",
            "530/530 [==============================] - 0s 320us/step - loss: 0.9952 - accuracy: 0.7321 - val_loss: 1.4536 - val_accuracy: 0.5682\n",
            "\n",
            "Epoch 00015: val_accuracy did not improve from 0.70455\n",
            "Train on 530 samples, validate on 132 samples\n",
            "Epoch 1/15\n",
            "530/530 [==============================] - 0s 327us/step - loss: 1.1308 - accuracy: 0.7000 - val_loss: 0.9955 - val_accuracy: 0.7500\n",
            "\n",
            "Epoch 00001: val_accuracy improved from 0.70455 to 0.75000, saving model to /content/drive/My Drive/MARG/models/RNN.h5\n",
            "Epoch 2/15\n",
            "530/530 [==============================] - 0s 319us/step - loss: 1.1193 - accuracy: 0.6887 - val_loss: 1.0078 - val_accuracy: 0.7424\n",
            "\n",
            "Epoch 00002: val_accuracy did not improve from 0.75000\n",
            "Epoch 3/15\n",
            "530/530 [==============================] - 0s 325us/step - loss: 1.0807 - accuracy: 0.7075 - val_loss: 1.0689 - val_accuracy: 0.7121\n",
            "\n",
            "Epoch 00003: val_accuracy did not improve from 0.75000\n",
            "Epoch 4/15\n",
            "530/530 [==============================] - 0s 324us/step - loss: 1.1099 - accuracy: 0.6943 - val_loss: 1.1038 - val_accuracy: 0.6970\n",
            "\n",
            "Epoch 00004: val_accuracy did not improve from 0.75000\n",
            "Epoch 5/15\n",
            "530/530 [==============================] - 0s 330us/step - loss: 1.0874 - accuracy: 0.7132 - val_loss: 1.0801 - val_accuracy: 0.6970\n",
            "\n",
            "Epoch 00005: val_accuracy did not improve from 0.75000\n",
            "Epoch 6/15\n",
            "530/530 [==============================] - 0s 317us/step - loss: 1.0729 - accuracy: 0.7170 - val_loss: 1.0789 - val_accuracy: 0.6894\n",
            "\n",
            "Epoch 00006: val_accuracy did not improve from 0.75000\n",
            "Epoch 7/15\n",
            "530/530 [==============================] - 0s 308us/step - loss: 1.0875 - accuracy: 0.6887 - val_loss: 1.0611 - val_accuracy: 0.6970\n",
            "\n",
            "Epoch 00007: val_accuracy did not improve from 0.75000\n",
            "Epoch 8/15\n",
            "530/530 [==============================] - 0s 326us/step - loss: 1.0737 - accuracy: 0.7189 - val_loss: 1.1133 - val_accuracy: 0.7121\n",
            "\n",
            "Epoch 00008: val_accuracy did not improve from 0.75000\n",
            "Epoch 9/15\n",
            "530/530 [==============================] - 0s 347us/step - loss: 1.0493 - accuracy: 0.7132 - val_loss: 1.1273 - val_accuracy: 0.6894\n",
            "\n",
            "Epoch 00009: val_accuracy did not improve from 0.75000\n",
            "Epoch 10/15\n",
            "530/530 [==============================] - 0s 330us/step - loss: 1.0310 - accuracy: 0.7208 - val_loss: 1.1449 - val_accuracy: 0.6742\n",
            "\n",
            "Epoch 00010: val_accuracy did not improve from 0.75000\n",
            "Epoch 11/15\n",
            "530/530 [==============================] - 0s 316us/step - loss: 1.0397 - accuracy: 0.7189 - val_loss: 1.1418 - val_accuracy: 0.6742\n",
            "\n",
            "Epoch 00011: val_accuracy did not improve from 0.75000\n",
            "Epoch 12/15\n",
            "530/530 [==============================] - 0s 323us/step - loss: 1.0160 - accuracy: 0.7264 - val_loss: 1.1329 - val_accuracy: 0.6894\n",
            "\n",
            "Epoch 00012: val_accuracy did not improve from 0.75000\n",
            "Epoch 13/15\n",
            "530/530 [==============================] - 0s 329us/step - loss: 1.0072 - accuracy: 0.7226 - val_loss: 1.1653 - val_accuracy: 0.6742\n",
            "\n",
            "Epoch 00013: val_accuracy did not improve from 0.75000\n",
            "Epoch 14/15\n",
            "530/530 [==============================] - 0s 319us/step - loss: 1.0142 - accuracy: 0.7189 - val_loss: 1.1758 - val_accuracy: 0.6439\n",
            "\n",
            "Epoch 00014: val_accuracy did not improve from 0.75000\n",
            "Epoch 15/15\n",
            "530/530 [==============================] - 0s 319us/step - loss: 0.9943 - accuracy: 0.7377 - val_loss: 1.1659 - val_accuracy: 0.6894\n",
            "\n",
            "Epoch 00015: val_accuracy did not improve from 0.75000\n"
          ],
          "name": "stdout"
        }
      ]
    },
    {
      "cell_type": "code",
      "metadata": {
        "id": "upW2vW-k91lu",
        "colab": {
          "base_uri": "https://localhost:8080/"
        },
        "outputId": "8237ec4b-318e-4959-ef37-e8b3d7e68b79"
      },
      "source": [
        "scores = RNNmodel.evaluate(RNNx_test, RNNy_test, verbose=0)\n",
        "print(\"Accuracy: %.2f%%\" % (scores[1]*100))"
      ],
      "execution_count": null,
      "outputs": [
        {
          "output_type": "stream",
          "text": [
            "Accuracy: 73.66%\n"
          ],
          "name": "stdout"
        }
      ]
    },
    {
      "cell_type": "code",
      "metadata": {
        "id": "H0nHEDZOYxdL",
        "colab": {
          "base_uri": "https://localhost:8080/"
        },
        "outputId": "d76ffe85-2b5e-4c8f-d61f-050585fa0e79"
      },
      "source": [
        "print(RNNmodel.predict(RNNx_test))"
      ],
      "execution_count": null,
      "outputs": [
        {
          "output_type": "stream",
          "text": [
            "[[0.00248238 0.00241658 0.0088703  ... 0.4936056  0.00499833 0.01331398]\n",
            " [0.0092403  0.02162519 0.00273284 ... 0.02403879 0.00152972 0.02752379]\n",
            " [0.00075898 0.00132415 0.00501251 ... 0.29274678 0.00561759 0.11965176]\n",
            " ...\n",
            " [0.00079453 0.00139302 0.00561106 ... 0.06032386 0.00498995 0.27851677]\n",
            " [0.00127402 0.00597054 0.0025925  ... 0.00739488 0.00784126 0.01670647]\n",
            " [0.00462162 0.00506273 0.01913443 ... 0.6651224  0.02677426 0.01440033]]\n"
          ],
          "name": "stdout"
        }
      ]
    },
    {
      "cell_type": "code",
      "metadata": {
        "id": "Y1Q__y8tCG-a"
      },
      "source": [
        "#Model Loading Only. I don't know why RNN model loading has Nonetype issue...\n",
        "#10000MIDI's Model training time is about 2~3hour. especially long for\n",
        "G = generator_model(Minimum_time)\n",
        "G.compile(loss='binary_crossentropy', optimizer=optimizer)\n",
        "G.load_weights(\"/content/drive/My Drive/MARG/PPDDlist/GAN_result/generator.h5\")\n",
        "\n",
        "updown_classifier=make_classifier(Minimum_time)\n",
        "updown_classifier.compile(loss=keras.losses.CategoricalCrossentropy(\n",
        "      from_logits=False, label_smoothing=0.1, \n",
        "      name='categorical_crossentropy'\n",
        "  ), optimizer='adam', metrics=['accuracy'])\n",
        "updown_classifier.load_weights(\"/content/drive/My Drive/MARG/models/updown.h5\")\n",
        "\n",
        "classifier=make_model(Minimum_time)\n",
        "classifier.compile(loss=keras.losses.BinaryCrossentropy(\n",
        "      from_logits=False, label_smoothing=0.1, \n",
        "      name='binary_crossentropy'\n",
        "  ), optimizer='adam', metrics=['accuracy',recall,precision,f1score])\n",
        "classifier.load_weights(\"/content/drive/My Drive/MARG/models/deeperppddbest.h5\")"
      ],
      "execution_count": null,
      "outputs": []
    },
    {
      "cell_type": "code",
      "metadata": {
        "id": "6htKIS4Lcb7h",
        "colab": {
          "base_uri": "https://localhost:8080/"
        },
        "outputId": "bba04ab1-24d5-431c-e520-84a507c75ace"
      },
      "source": [
        "import cv2\n",
        "H=generate_images(G,5,3)[0]\n",
        "\n",
        "def matrix_cleaner(matrix,minimum_time):\n",
        "  #matrix should be size of 24*24\n",
        "  #make matrix's value of [0,1]  \n",
        "  matrix=np.matrix(matrix)\n",
        "  maximum_value=matrix.max()\n",
        "  minimum_value=matrix.min()\n",
        "  matrix=(matrix-minimum_value)/(maximum_value-minimum_value)\n",
        "  flat=matrix.flatten()\n",
        "  flat.sort()\n",
        "  flat=flat.reshape((24*minimum_time,1))\n",
        "  hundred_val=flat[-100]\n",
        "  matrix_for_duration=np.where(matrix<0.05,0,matrix)\n",
        "  matrix=np.where(matrix<hundred_val,0,matrix)\n",
        "  matrix=np.where(matrix<1/3,0,matrix)\n",
        "  \n",
        "  return matrix,matrix_for_duration\n",
        "plt.imshow(matrix_cleaner(H,Minimum_time)[0])"
      ],
      "execution_count": null,
      "outputs": [
        {
          "output_type": "execute_result",
          "data": {
            "text/plain": [
              "<matplotlib.image.AxesImage at 0x7f813917ac90>"
            ]
          },
          "metadata": {
            "tags": []
          },
          "execution_count": 74
        },
        {
          "output_type": "display_data",
          "data": {
            "image/png": "[encoded data removed]",
            "text/plain": [
              "<Figure size 432x288 with 1 Axes>"
            ]
          },
          "metadata": {
            "tags": [],
            "image/png": {
              "width": 181,
              "height": 248
            },
            "needs_background": "light"
          }
        }
      ]
    },
    {
      "cell_type": "code",
      "metadata": {
        "id": "lRSy54CpFDz0",
        "colab": {
          "base_uri": "https://localhost:8080/"
        },
        "outputId": "81ec0208-f77b-449a-ecf3-9cee3db5ba52"
      },
      "source": [
        "import numpy as np\n",
        "from scipy.ndimage.filters import maximum_filter\n",
        "from scipy.ndimage.morphology import generate_binary_structure, binary_erosion\n",
        "import matplotlib.pyplot as pp\n",
        "\n",
        "#getting a list of images\n",
        "\n",
        "paws = [matrix_cleaner(H,Minimum_time)[0]]\n",
        "\n",
        "\n",
        "def detect_peaks(image):\n",
        "    \"\"\"\n",
        "    Takes an image and detect the peaks usingthe local maximum filter.\n",
        "    Returns a boolean mask of the peaks (i.e. 1 when\n",
        "    the pixel's value is the neighborhood maximum, 0 otherwise)\n",
        "    \"\"\"\n",
        "\n",
        "    # define an 8-connected neighborhood\n",
        "    neighborhood = generate_binary_structure(2,2)\n",
        "\n",
        "    #apply the local maximum filter; all pixel of maximal value \n",
        "    #in their neighborhood are set to 1\n",
        "    local_max = maximum_filter(image, footprint=neighborhood)==image\n",
        "    #local_max is a mask that contains the peaks we are \n",
        "    #looking for, but also the background.\n",
        "    #In order to isolate the peaks we must remove the background from the mask.\n",
        "\n",
        "    #we create the mask of the background\n",
        "    background = (image==0)\n",
        "\n",
        "    #a little technicality: we must erode the background in order to \n",
        "    #successfully subtract it form local_max, otherwise a line will \n",
        "    #appear along the background border (artifact of the local maximum filter)\n",
        "    eroded_background = binary_erosion(background, structure=neighborhood, border_value=1)\n",
        "\n",
        "    #we obtain the final mask, containing only peaks, \n",
        "    #by removing the background from the local_max mask (xor operation)\n",
        "    detected_peaks = local_max ^ eroded_background\n",
        "    detected_peaks=np.where(detected_peaks==True,1,0)\n",
        "    \n",
        "    for i in range(len(detected_peaks[0])):\n",
        "      for j in range(len(detected_peaks)):\n",
        "        if(detected_peaks[j][i]==1):\n",
        "          for k in range(i):\n",
        "            if (image[j][i-k-1] is not 0 and image[j][i-k-1] > image[j][i-k]):\n",
        "              pass\n",
        "            else:\n",
        "              detected_peaks[j][i]=0\n",
        "              detected_peaks[j][i-k-1]=1 #this code can decide note's position well.\n",
        "              break\n",
        "    \n",
        "    #위 코드를 돌리면 앞으로 댕긴다.\n",
        "    return detected_peaks\n",
        "\n",
        "\n",
        "#applying the detection and plotting results\n",
        "for i, paw in enumerate(paws):\n",
        "    detected_peaks = detect_peaks(paw)\n",
        "    pp.subplot(1,2,(2*i+1))\n",
        "    pp.imshow(paw)\n",
        "    pp.subplot(1,2,(2*i+2) )\n",
        "    pp.imshow(detected_peaks)\n",
        "\n",
        "pp.show()"
      ],
      "execution_count": null,
      "outputs": [
        {
          "output_type": "display_data",
          "data": {
            "image/png": "[encoded data removed]",
            "text/plain": [
              "<Figure size 432x288 with 2 Axes>"
            ]
          },
          "metadata": {
            "tags": [],
            "image/png": {
              "width": 363,
              "height": 248
            },
            "needs_background": "light"
          }
        }
      ]
    },
    {
      "cell_type": "code",
      "metadata": {
        "id": "bPVdL9UXO-0h",
        "colab": {
          "base_uri": "https://localhost:8080/"
        },
        "outputId": "e380efcc-b6f0-4ee2-a30a-725a93899524"
      },
      "source": [
        "def left_shifting(matrix,detected_peak,minimum_time):\n",
        "  dots=[]\n",
        "  times=[]\n",
        "  for i in range(len(detected_peak[0])):\n",
        "    for j in range(len(detected_peak)):\n",
        "      if(detected_peak[j][i]==1):\n",
        "        if(i%2!=0 and i%3!=0 and i==15 and i==9 and i==7):#this code can shift Offbeats like 5/24, 7/24 to 4/24, 6/24, \n",
        "          detected_peak[j][i]=0\n",
        "          detected_peak[j][i]=1 # i-1 to i makes left shifting off.\n",
        "\n",
        "\n",
        "  for i in range(len(detected_peak[0])):\n",
        "    for j in range(len(detected_peak)):\n",
        "      pos=[]\n",
        "      a=0\n",
        "      if(detected_peak[j][i]==1):  \n",
        "        pos=[j,i]\n",
        "      if(len(pos)!=0):\n",
        "        dots.append(pos)\n",
        "        times.append(i)\n",
        "  dots_with_length=[]\n",
        "  starting_points=[]\n",
        "  durations=[]\n",
        "  velocities=[]\n",
        "  for i,position in enumerate(dots):\n",
        "    velocity=matrix[1][position[0]][position[1]]\n",
        "    if(position[1]!=0):\n",
        "\n",
        "      if(velocity<matrix[1][position[0]][position[1]-1]):\n",
        "        velocity=matrix[1][position[0]][position[1]-1] #for handling shifted notes\n",
        "        #Note that matrix[1][position[0]][position[1]>matrix[1][position[0]][position[1]-1] for all none-shifted notes since\n",
        "        #peak notes selected by local maximum neighboorhood.\n",
        "\n",
        "      if velocity < 0.4:\n",
        "        velocity=0.4\n",
        "\n",
        "        #구현이 바뀌어서 이렇게 해야함\n",
        "    velocities.append(velocity)\n",
        "    length_val=0\n",
        "    while True:\n",
        "      if(length_val==0):\n",
        "        starting_points.append([position[0],position[1]])\n",
        "      else:\n",
        "        if(position[1]+length_val>minimum_time-1):\n",
        "          break\n",
        "        if(detected_peak[position[0]][position[1]+length_val]!=0):\n",
        "          break\n",
        "      if(position[1]+length_val>minimum_time-1):\n",
        "        break\n",
        "      elif(matrix[1][position[0]][position[1]+length_val]!=0):\n",
        "        dots_with_length.append([position[0],position[1]+length_val])\n",
        "        times.append(position[1]+length_val)\n",
        "      else:\n",
        "        break\n",
        "      length_val+=1\n",
        "\n",
        "    while True:\n",
        "      if(position[1]+length_val not in times and position[1]+length_val<minimum_time):\n",
        "        dots_with_length.append([position[0],position[1]+length_val])\n",
        "        times.append(position[1]+length_val)\n",
        "        length_val+=1   \n",
        "      else:\n",
        "        break\n",
        "    durations.append(length_val)\n",
        "  result=np.zeros_like(matrix[0])\n",
        "  for position in dots_with_length:\n",
        "    result[position[0]][position[1]]=1\n",
        "  return result,np.array(starting_points),np.array(durations),np.array(velocities)\n",
        "\n",
        "paws = [matrix_cleaner(H,Minimum_time)[0]]\n",
        "detected_peaks = detect_peaks(paws[0])\n",
        "fig = plt.figure()\n",
        "ax1 = fig.add_subplot(1, 3, 1)\n",
        "ax1.imshow(H.reshape(24,Minimum_time))\n",
        "ax1.set_title('H')\n",
        "ax1.axis(\"off\")\n",
        " \n",
        "ax3 = fig.add_subplot(1, 3, 2)\n",
        "ax3.imshow(paws[0].reshape(24,Minimum_time))\n",
        "ax3.set_title('Cleaned H')\n",
        "ax3.axis(\"off\")\n",
        "\n",
        "ax2 = fig.add_subplot(1, 3, 3)\n",
        "ax2.imshow(detect_peaks(matrix_cleaner(H,Minimum_time)[0]))\n",
        "ax2.set_title('detected_peaks')\n",
        "ax2.axis(\"off\")\n",
        "#plt.imshow(left_shifting(matrix_cleaner(H),detect_peaks(matrix_cleaner(H)[0]))[0])\n",
        "print(\n",
        "    left_shifting(matrix_cleaner(H,Minimum_time),detected_peaks,Minimum_time)[1],\n",
        "      left_shifting(matrix_cleaner(H,Minimum_time),detected_peaks,Minimum_time)[2],\n",
        "      left_shifting(matrix_cleaner(H,Minimum_time),detected_peaks,Minimum_time)[3])"
      ],
      "execution_count": null,
      "outputs": [
        {
          "output_type": "stream",
          "text": [
            "[[11  0]\n",
            " [11  3]\n",
            " [ 3  5]\n",
            " [23  6]\n",
            " [11 13]] [ 3 10  3  2  3] [0.75886458 0.4        0.68779773 0.4        0.93551183]\n"
          ],
          "name": "stdout"
        },
        {
          "output_type": "display_data",
          "data": {
            "image/png": "[encoded data removed]",
            "text/plain": [
              "<Figure size 432x288 with 3 Axes>"
            ]
          },
          "metadata": {
            "tags": [],
            "image/png": {
              "width": 349,
              "height": 177
            },
            "needs_background": "light"
          }
        }
      ]
    },
    {
      "cell_type": "code",
      "metadata": {
        "id": "7hmNRrgvCTpe"
      },
      "source": [
        "import random\n",
        "C_chord=np.array([1,0,1,0,1,1,0,1,0,1,0,1])\n",
        "I_chord=np.array([1,0,0,0,1,0,0,1,0,0,0,0])\n",
        "V_chord=np.array([0,0,1,0,0,0,0,1,0,0,0,1])\n",
        "vi_chord=np.array([1,0,0,0,1,0,0,0,0,1,0,0])\n",
        "IV_chord=np.array([1,0,0,0,0,1,0,0,0,1,0,0])\n",
        "iii_chord=np.array([0,0,0,0,1,0,0,1,0,0,0,1])\n",
        "ii_chord=np.array([0,0,1,0,0,1,0,0,0,1,0,0])\n",
        "C_chords=np.array([I_chord,V_chord,vi_chord,IV_chord,iii_chord,ii_chord])\n",
        "\n",
        "chords=['C','C#','D','D#','E','F','F#','G','G#','A','A#','B']\n",
        "def chord_matching(shifted_matrix,chord,last_pitch,direction,with_chords=False):\n",
        "  selected_chords=None\n",
        "  before_matrix=shifted_matrix[0]\n",
        "  before_pitch=last_pitch\n",
        "  if (last_pitch<50):\n",
        "    direction=1\n",
        "  if (last_pitch>85):\n",
        "    direction=0\n",
        "  if chord not in chords:\n",
        "    now_chord='C'\n",
        "  now_chord=chord\n",
        "  chord_diff=chords.index(now_chord)\n",
        "  now_chord_list=np.roll(C_chord,chord_diff)#[1,0,1,0,1...]\n",
        "  now_chords=[]\n",
        "  for chord in C_chords:\n",
        "    now_chords.append(np.roll(chord,chord_diff))\n",
        "  pitch_set=[]\n",
        "  for pitchs in shifted_matrix[1]:\n",
        "    pitch_set.append(23-pitchs[0])\n",
        "  pitch_set=pitch_set-pitch_set[0]#ex)0, 10, -1, 0 ,-4, -2\n",
        "  if (direction==1):\n",
        "    possible_set=[]\n",
        "    for i in range(12):\n",
        "      possible_set.append(pitch_set+i+last_pitch)\n",
        "  else:\n",
        "    possible_set=[]\n",
        "    for i in range(12):\n",
        "      possible_set.append(pitch_set-i+last_pitch)\n",
        "  possible_set_score=[]\n",
        "  if (with_chords):\n",
        "    selected_chords=random.choice(now_chords)\n",
        "    for sets in possible_set:\n",
        "      score=0\n",
        "      for pitchs in sets:\n",
        "        score+=selected_chords[pitchs%12]\n",
        "      possible_set_score.append(score)\n",
        "    final_set=possible_set[np.argmax(possible_set_score)]\n",
        "    return_val=[]\n",
        "  else:\n",
        "    for sets in possible_set:\n",
        "      score=0\n",
        "      for pitchs in sets:\n",
        "        score+=now_chord_list[pitchs%12]\n",
        "      possible_set_score.append(score)\n",
        "    final_set=possible_set[np.argmax(possible_set_score)]\n",
        "    return_val=[]\n",
        "  for i,sets in enumerate(final_set):\n",
        "    if (before_pitch-sets<-12):\n",
        "      sets=sets-12\n",
        "    if (before_pitch-sets>12):\n",
        "      sets=sets+12               #For prevent pitch change above 1 Octave.\n",
        "\n",
        "    if(now_chord_list[sets%12]==1): #Use only matches with chord\n",
        "      final=[]\n",
        "      if (shifted_matrix[2][i]!=0):\n",
        "        final.append(sets)#pitch\n",
        "        final.append(shifted_matrix[1][i][1])\n",
        "        final.append(shifted_matrix[2][i])\n",
        "        final.append(shifted_matrix[3][i])\n",
        "        return_val.append(final)\n",
        "    else:\n",
        "      final=[]\n",
        "      if (shifted_matrix[2][i]!=0):\n",
        "        final.append(sets-1)#pitch shifting for notes that not matches with chord scale. If you want to use these type of notes, just remove -1 in sets-1.\n",
        "        final.append(shifted_matrix[1][i][1])\n",
        "        final.append(shifted_matrix[2][i])\n",
        "        final.append(shifted_matrix[3][i])\n",
        "        return_val.append(final)\n",
        "    before_pitch=sets\n",
        "  return return_val, sets,selected_chords#final pitch\n"
      ],
      "execution_count": null,
      "outputs": []
    },
    {
      "cell_type": "code",
      "metadata": {
        "id": "7chdoz0aQzCm",
        "colab": {
          "base_uri": "https://localhost:8080/"
        },
        "outputId": "70b26754-862c-4b10-f7de-79e6702ebbce"
      },
      "source": [
        "shifted=left_shifting(matrix_cleaner(H,Minimum_time),detect_peaks(matrix_cleaner(H,Minimum_time)[0]),Minimum_time)\n",
        "print(chord_matching(shifted,'C',48,1))"
      ],
      "execution_count": null,
      "outputs": [
        {
          "output_type": "stream",
          "text": [
            "([[52, 0, 3, 0.7588645815849304], [52, 3, 10, 0.4], [60, 5, 3, 0.6877977252006531], [52, 6, 2, 0.4], [52, 13, 3, 0.9355118274688721]], 52, None)\n"
          ],
          "name": "stdout"
        }
      ]
    },
    {
      "cell_type": "code",
      "metadata": {
        "id": "Sf-UJL5SarLZ"
      },
      "source": [
        "np.random.seed(7)\n",
        "def generation_info(start_skill,length,chord,minimum_time,RNNmodel,updown_classifier,with_chords=False):\n",
        "  skills=[]\n",
        "  skills.append(start_skill)\n",
        "  infos=[]\n",
        "  H=generate_images(G,1,start_skill)\n",
        "  chord_sequence=[]\n",
        "  shifted=left_shifting(matrix_cleaner(H,minimum_time),detect_peaks(matrix_cleaner(H,minimum_time)[0]),minimum_time)\n",
        "  Chord_Match=chord_matching(shifted,chord,48,1,with_chords=True)\n",
        "  infos.append(Chord_Match[0])\n",
        "  chord_sequence.append(Chord_Match[2])\n",
        "  last_pitch=Chord_Match[1]\n",
        "\n",
        "  feature_seq=[]\n",
        "  feature_seq.append(start_skill+1)\n",
        "  feature_seq_pad=sequence.pad_sequences(np.array([feature_seq]),maxlen=10)\n",
        "  prediction=RNNmodel.predict(feature_seq_pad)\n",
        "  prediction[0][start_skill]=prediction[0][start_skill]/3\n",
        "  prediction[0][6]=0#no skills\n",
        "  if(minimum_time%3!=0):\n",
        "    prediction[0][10]=0 # triplet skill, if minimum_time%3 is not 0, then generator can't handle any triplet notes.\n",
        "  updown_prediction=updown_classifier.predict(shifted[0].reshape(1,24,minimum_time,1))\n",
        "  if(updown_prediction[0][0]>=updown_prediction[0][1]):\n",
        "    updown_prediction=1\n",
        "  else:\n",
        "    updown_prediction=0\n",
        "  prob=prediction/prediction.sum()\n",
        "  next_skill=np.random.choice(\n",
        "      np.arange(13),\n",
        "      p=prob[0]\n",
        "  )\n",
        "  skills.append(next_skill)\n",
        "  for i in range(length-1):\n",
        "    #print(i+2,'th bar\\'s generated skill is ',next_skill)\n",
        "    H=generate_images(G,1,skills[int((i+1)%4)])\n",
        "    shifted=left_shifting(matrix_cleaner(H,minimum_time),detect_peaks(matrix_cleaner(H,minimum_time)[0]),minimum_time)\n",
        "    Chord_Match=chord_matching(shifted,chord,last_pitch,updown_prediction,with_chords=True)\n",
        "    infos.append(Chord_Match[0])\n",
        "    chord_sequence.append(Chord_Match[2])\n",
        "    feature_seq.append(next_skill+1)\n",
        "    feature_seq_pad=sequence.pad_sequences(np.array([feature_seq]),maxlen=10)\n",
        "    prediction=RNNmodel.predict(feature_seq_pad)\n",
        "    prediction[0][next_skill]=prediction[0][next_skill]/3\n",
        "    prediction[0]=prediction[0]+prediction.sum()/20 # for more variation.\n",
        "    prediction[0][6]=0#6 is no skill\n",
        "    updown_prediction=updown_classifier.predict(shifted[0].reshape(1,24,minimum_time,1))\n",
        "    if(updown_prediction[0][0]>=updown_prediction[0][1]):\n",
        "      updown_prediction=1\n",
        "    else:\n",
        "      updown_prediction=0\n",
        "    prob=prediction/prediction.sum()\n",
        "    next_skill=np.random.choice(\n",
        "        np.arange(13),\n",
        "        p=prob[0]\n",
        "    )\n",
        "    skills.append(next_skill)\n",
        "  return infos,chord_sequence"
      ],
      "execution_count": null,
      "outputs": []
    },
    {
      "cell_type": "code",
      "metadata": {
        "id": "OORpc3qu1FXb",
        "colab": {
          "base_uri": "https://localhost:8080/",
          "height": 72
        },
        "outputId": "d221dd9a-34d9-434f-d7cb-4cab97bfedef"
      },
      "source": [
        "final_list=generation_info(0,16,'C',Minimum_time,RNNmodel,updown_classifier,with_chords=True)\n",
        "\"\"\"\n",
        "generation_info(final_skill, length, chord)\n",
        "\n",
        "final_skill should be 0~12. It matches with\n",
        "['One_rhythm' 'continuing_rhythm' 'down_leaping' 'down_steping'\n",
        " 'fast_rhythm' 'leaping_twisting' 'no skills' 'resting' 'staccato'\n",
        " 'steping_twisting' 'triplet' 'up_leaping' 'up_steping'].\n",
        " length is the bar number of song generation.\n",
        " chord should be string, 'C', 'C#', 'D' ...\n",
        " major and minor chord is not considered now.\n",
        " but maybe I can handle with making all class as two type. ex)(major One_rhythm, minor One_rhythm..)\n",
        "\"\"\""
      ],
      "execution_count": null,
      "outputs": [
        {
          "output_type": "execute_result",
          "data": {
            "application/vnd.google.colaboratory.intrinsic+json": {
              "type": "string"
            },
            "text/plain": [
              "\"\\ngeneration_info(final_skill, length, chord)\\n\\nfinal_skill should be 0~12. It matches with\\n['One_rhythm' 'continuing_rhythm' 'down_leaping' 'down_steping'\\n 'fast_rhythm' 'leaping_twisting' 'no skills' 'resting' 'staccato'\\n 'steping_twisting' 'triplet' 'up_leaping' 'up_steping'].\\n length is the bar number of song generation.\\n chord should be string, 'C', 'C#', 'D' ...\\n major and minor chord is not considered now.\\n but maybe I can handle with making all class as two type. ex)(major One_rhythm, minor One_rhythm..)\\n\""
            ]
          },
          "metadata": {
            "tags": []
          },
          "execution_count": 80
        }
      ]
    },
    {
      "cell_type": "code",
      "metadata": {
        "id": "yYOmVKrb5vpM",
        "colab": {
          "base_uri": "https://localhost:8080/"
        },
        "outputId": "ade31f30-3b0a-4906-9954-22dc641dbdee"
      },
      "source": [
        "for i in final_list:\n",
        "  print(i)"
      ],
      "execution_count": null,
      "outputs": [
        {
          "output_type": "stream",
          "text": [
            "[[[50, 0, 5, 0.3560997545719147], [57, 5, 5, 0.8462648391723633], [50, 6, 2, 0.5751287341117859], [57, 10, 3, 0.4], [62, 13, 3, 0.5974671244621277]], [[64, 0, 3, 0.6753873825073242], [64, 3, 10, 0.4], [72, 5, 3, 0.8727115392684937], [64, 6, 2, 0.44475576281547546], [64, 13, 3, 0.6855879426002502]], [[71, 10, 3, 0.4], [76, 13, 3, 0.4]], [[72, 8, 3, 0.5949243903160095], [67, 11, 2, 0.4], [74, 13, 3, 0.4]], [[72, 0, 5, 0.43123844265937805], [79, 5, 5, 0.818239152431488], [79, 10, 3, 0.4], [84, 13, 3, 0.5072353482246399]], [[65, 2, 9, 0.4], [60, 11, 5, 0.8180197477340698]], [[69, 7, 3, 0.4], [69, 10, 3, 0.4], [74, 13, 3, 0.4]], [[72, 4, 4, 0.4], [59, 10, 3, 0.4], [64, 13, 3, 0.4554213881492615]], [[62, 5, 5, 0.41751256585121155], [50, 10, 3, 0.4], [55, 13, 3, 0.4]], [[64, 0, 3, 0.375409871339798], [64, 3, 4, 0.4], [72, 5, 8, 0.9274106025695801], [64, 6, 2, 0.6427728533744812], [64, 13, 3, 0.543957531452179]], [[62, 2, 8, 0.4], [57, 10, 6, 0.4956229627132416]], [[77, 8, 8, 0.8016000986099243]], [[60, 12, 4, 0.4]], [[69, 2, 3, 0.4], [64, 11, 5, 0.6019741892814636]], [], [[71, 0, 3, 0.6307713985443115], [71, 3, 10, 0.4], [79, 4, 4, 0.7192679643630981], [71, 6, 2, 0.4], [71, 13, 3, 0.953869640827179]]]\n",
            "[array([0, 0, 1, 0, 0, 1, 0, 0, 0, 1, 0, 0]), array([1, 0, 0, 0, 1, 0, 0, 1, 0, 0, 0, 0]), array([0, 0, 0, 0, 1, 0, 0, 1, 0, 0, 0, 1]), array([0, 0, 1, 0, 0, 0, 0, 1, 0, 0, 0, 1]), array([1, 0, 0, 0, 1, 0, 0, 1, 0, 0, 0, 0]), array([1, 0, 0, 0, 0, 1, 0, 0, 0, 1, 0, 0]), array([0, 0, 1, 0, 0, 1, 0, 0, 0, 1, 0, 0]), array([0, 0, 0, 0, 1, 0, 0, 1, 0, 0, 0, 1]), array([0, 0, 1, 0, 0, 0, 0, 1, 0, 0, 0, 1]), array([1, 0, 0, 0, 1, 0, 0, 0, 0, 1, 0, 0]), array([0, 0, 1, 0, 0, 1, 0, 0, 0, 1, 0, 0]), array([1, 0, 0, 0, 1, 0, 0, 1, 0, 0, 0, 0]), array([0, 0, 0, 0, 1, 0, 0, 1, 0, 0, 0, 1]), array([1, 0, 0, 0, 1, 0, 0, 0, 0, 1, 0, 0]), array([0, 0, 1, 0, 0, 0, 0, 1, 0, 0, 0, 1]), array([0, 0, 1, 0, 0, 0, 0, 1, 0, 0, 0, 1])]\n"
          ],
          "name": "stdout"
        }
      ]
    },
    {
      "cell_type": "code",
      "metadata": {
        "id": "8ZKfyjNENquS",
        "colab": {
          "base_uri": "https://localhost:8080/"
        },
        "outputId": "3f8ecea4-7f26-4094-bac9-9bbaa6874849"
      },
      "source": [
        "pip install midiutil"
      ],
      "execution_count": null,
      "outputs": [
        {
          "output_type": "stream",
          "text": [
            "Collecting midiutil\n",
            "\u001b[?25l  Downloading https://files.pythonhosted.org/packages/f5/44/fde6772d8bfaea64fcf5eb948124d0a5fdf5f848b14ac22a23ced53e562d/MIDIUtil-1.2.1.tar.gz (1.0MB)\n",
            "\r\u001b[K     |▎                               | 10kB 20.4MB/s eta 0:00:01\r\u001b[K     |▋                               | 20kB 16.8MB/s eta 0:00:01\r\u001b[K     |█                               | 30kB 14.0MB/s eta 0:00:01\r\u001b[K     |█▎                              | 40kB 13.1MB/s eta 0:00:01\r\u001b[K     |█▋                              | 51kB 8.5MB/s eta 0:00:01\r\u001b[K     |██                              | 61kB 7.8MB/s eta 0:00:01\r\u001b[K     |██▎                             | 71kB 8.9MB/s eta 0:00:01\r\u001b[K     |██▋                             | 81kB 9.7MB/s eta 0:00:01\r\u001b[K     |███                             | 92kB 8.9MB/s eta 0:00:01\r\u001b[K     |███▎                            | 102kB 8.1MB/s eta 0:00:01\r\u001b[K     |███▋                            | 112kB 8.1MB/s eta 0:00:01\r\u001b[K     |███▉                            | 122kB 8.1MB/s eta 0:00:01\r\u001b[K     |████▏                           | 133kB 8.1MB/s eta 0:00:01\r\u001b[K     |████▌                           | 143kB 8.1MB/s eta 0:00:01\r\u001b[K     |████▉                           | 153kB 8.1MB/s eta 0:00:01\r\u001b[K     |█████▏                          | 163kB 8.1MB/s eta 0:00:01\r\u001b[K     |█████▌                          | 174kB 8.1MB/s eta 0:00:01\r\u001b[K     |█████▉                          | 184kB 8.1MB/s eta 0:00:01\r\u001b[K     |██████▏                         | 194kB 8.1MB/s eta 0:00:01\r\u001b[K     |██████▌                         | 204kB 8.1MB/s eta 0:00:01\r\u001b[K     |██████▉                         | 215kB 8.1MB/s eta 0:00:01\r\u001b[K     |███████▏                        | 225kB 8.1MB/s eta 0:00:01\r\u001b[K     |███████▍                        | 235kB 8.1MB/s eta 0:00:01\r\u001b[K     |███████▊                        | 245kB 8.1MB/s eta 0:00:01\r\u001b[K     |████████                        | 256kB 8.1MB/s eta 0:00:01\r\u001b[K     |████████▍                       | 266kB 8.1MB/s eta 0:00:01\r\u001b[K     |████████▊                       | 276kB 8.1MB/s eta 0:00:01\r\u001b[K     |█████████                       | 286kB 8.1MB/s eta 0:00:01\r\u001b[K     |█████████▍                      | 296kB 8.1MB/s eta 0:00:01\r\u001b[K     |█████████▊                      | 307kB 8.1MB/s eta 0:00:01\r\u001b[K     |██████████                      | 317kB 8.1MB/s eta 0:00:01\r\u001b[K     |██████████▍                     | 327kB 8.1MB/s eta 0:00:01\r\u001b[K     |██████████▊                     | 337kB 8.1MB/s eta 0:00:01\r\u001b[K     |███████████                     | 348kB 8.1MB/s eta 0:00:01\r\u001b[K     |███████████▎                    | 358kB 8.1MB/s eta 0:00:01\r\u001b[K     |███████████▋                    | 368kB 8.1MB/s eta 0:00:01\r\u001b[K     |████████████                    | 378kB 8.1MB/s eta 0:00:01\r\u001b[K     |████████████▎                   | 389kB 8.1MB/s eta 0:00:01\r\u001b[K     |████████████▋                   | 399kB 8.1MB/s eta 0:00:01\r\u001b[K     |█████████████                   | 409kB 8.1MB/s eta 0:00:01\r\u001b[K     |█████████████▎                  | 419kB 8.1MB/s eta 0:00:01\r\u001b[K     |█████████████▋                  | 430kB 8.1MB/s eta 0:00:01\r\u001b[K     |██████████████                  | 440kB 8.1MB/s eta 0:00:01\r\u001b[K     |██████████████▎                 | 450kB 8.1MB/s eta 0:00:01\r\u001b[K     |██████████████▋                 | 460kB 8.1MB/s eta 0:00:01\r\u001b[K     |██████████████▉                 | 471kB 8.1MB/s eta 0:00:01\r\u001b[K     |███████████████▏                | 481kB 8.1MB/s eta 0:00:01\r\u001b[K     |███████████████▌                | 491kB 8.1MB/s eta 0:00:01\r\u001b[K     |███████████████▉                | 501kB 8.1MB/s eta 0:00:01\r\u001b[K     |████████████████▏               | 512kB 8.1MB/s eta 0:00:01\r\u001b[K     |████████████████▌               | 522kB 8.1MB/s eta 0:00:01\r\u001b[K     |████████████████▉               | 532kB 8.1MB/s eta 0:00:01\r\u001b[K     |█████████████████▏              | 542kB 8.1MB/s eta 0:00:01\r\u001b[K     |█████████████████▌              | 552kB 8.1MB/s eta 0:00:01\r\u001b[K     |█████████████████▉              | 563kB 8.1MB/s eta 0:00:01\r\u001b[K     |██████████████████▏             | 573kB 8.1MB/s eta 0:00:01\r\u001b[K     |██████████████████▍             | 583kB 8.1MB/s eta 0:00:01\r\u001b[K     |██████████████████▊             | 593kB 8.1MB/s eta 0:00:01\r\u001b[K     |███████████████████             | 604kB 8.1MB/s eta 0:00:01\r\u001b[K     |███████████████████▍            | 614kB 8.1MB/s eta 0:00:01\r\u001b[K     |███████████████████▊            | 624kB 8.1MB/s eta 0:00:01\r\u001b[K     |████████████████████            | 634kB 8.1MB/s eta 0:00:01\r\u001b[K     |████████████████████▍           | 645kB 8.1MB/s eta 0:00:01\r\u001b[K     |████████████████████▊           | 655kB 8.1MB/s eta 0:00:01\r\u001b[K     |█████████████████████           | 665kB 8.1MB/s eta 0:00:01\r\u001b[K     |█████████████████████▍          | 675kB 8.1MB/s eta 0:00:01\r\u001b[K     |█████████████████████▊          | 686kB 8.1MB/s eta 0:00:01\r\u001b[K     |██████████████████████          | 696kB 8.1MB/s eta 0:00:01\r\u001b[K     |██████████████████████▎         | 706kB 8.1MB/s eta 0:00:01\r\u001b[K     |██████████████████████▋         | 716kB 8.1MB/s eta 0:00:01\r\u001b[K     |███████████████████████         | 727kB 8.1MB/s eta 0:00:01\r\u001b[K     |███████████████████████▎        | 737kB 8.1MB/s eta 0:00:01\r\u001b[K     |███████████████████████▋        | 747kB 8.1MB/s eta 0:00:01\r\u001b[K     |████████████████████████        | 757kB 8.1MB/s eta 0:00:01\r\u001b[K     |████████████████████████▎       | 768kB 8.1MB/s eta 0:00:01\r\u001b[K     |████████████████████████▋       | 778kB 8.1MB/s eta 0:00:01\r\u001b[K     |█████████████████████████       | 788kB 8.1MB/s eta 0:00:01\r\u001b[K     |█████████████████████████▎      | 798kB 8.1MB/s eta 0:00:01\r\u001b[K     |█████████████████████████▋      | 808kB 8.1MB/s eta 0:00:01\r\u001b[K     |█████████████████████████▉      | 819kB 8.1MB/s eta 0:00:01\r\u001b[K     |██████████████████████████▏     | 829kB 8.1MB/s eta 0:00:01\r\u001b[K     |██████████████████████████▌     | 839kB 8.1MB/s eta 0:00:01\r\u001b[K     |██████████████████████████▉     | 849kB 8.1MB/s eta 0:00:01\r\u001b[K     |███████████████████████████▏    | 860kB 8.1MB/s eta 0:00:01\r\u001b[K     |███████████████████████████▌    | 870kB 8.1MB/s eta 0:00:01\r\u001b[K     |███████████████████████████▉    | 880kB 8.1MB/s eta 0:00:01\r\u001b[K     |████████████████████████████▏   | 890kB 8.1MB/s eta 0:00:01\r\u001b[K     |████████████████████████████▌   | 901kB 8.1MB/s eta 0:00:01\r\u001b[K     |████████████████████████████▉   | 911kB 8.1MB/s eta 0:00:01\r\u001b[K     |█████████████████████████████▏  | 921kB 8.1MB/s eta 0:00:01\r\u001b[K     |█████████████████████████████▍  | 931kB 8.1MB/s eta 0:00:01\r\u001b[K     |█████████████████████████████▊  | 942kB 8.1MB/s eta 0:00:01\r\u001b[K     |██████████████████████████████  | 952kB 8.1MB/s eta 0:00:01\r\u001b[K     |██████████████████████████████▍ | 962kB 8.1MB/s eta 0:00:01\r\u001b[K     |██████████████████████████████▊ | 972kB 8.1MB/s eta 0:00:01\r\u001b[K     |███████████████████████████████ | 983kB 8.1MB/s eta 0:00:01\r\u001b[K     |███████████████████████████████▍| 993kB 8.1MB/s eta 0:00:01\r\u001b[K     |███████████████████████████████▊| 1.0MB 8.1MB/s eta 0:00:01\r\u001b[K     |████████████████████████████████| 1.0MB 8.1MB/s \n",
            "\u001b[?25hBuilding wheels for collected packages: midiutil\n",
            "  Building wheel for midiutil (setup.py) ... \u001b[?25l\u001b[?25hdone\n",
            "  Created wheel for midiutil: filename=MIDIUtil-1.2.1-cp37-none-any.whl size=54570 sha256=ff0335c311d028a31e8bde5b3e63b07047f1f9f0b893ad9d5b214a62d4231bab\n",
            "  Stored in directory: /root/.cache/pip/wheels/70/f1/24/97bde012f64820632e1e5e2935df19dfbcf9e058b0734b57cd\n",
            "Successfully built midiutil\n",
            "Installing collected packages: midiutil\n",
            "Successfully installed midiutil-1.2.1\n"
          ],
          "name": "stdout"
        }
      ]
    },
    {
      "cell_type": "code",
      "metadata": {
        "id": "ksTjAaAhKyi1",
        "colab": {
          "base_uri": "https://localhost:8080/"
        },
        "outputId": "1d37049d-6d90-4ea0-e907-727af07c071b"
      },
      "source": [
        "import midiutil\n",
        "from midiutil.MidiFile import MIDIFile\n",
        "with_chords=True\n",
        "for start_skill in range(13):\n",
        "  for chord in chords:\n",
        "    final_list=generation_info(start_skill,8,chord,Minimum_time,RNNmodel,updown_classifier,with_chords=with_chords)\n",
        "    # create your MIDI object\n",
        "    mf = MIDIFile(2)     # track number - 1\n",
        "    track = 0   # the main track\n",
        "\n",
        "    time = 0    # start at the beginning\n",
        "    mf.addTrackName(track, time, \"Sample Track\")\n",
        "    mf.addTempo(track, time, 120)#1bar per 2second.\n",
        "\n",
        "    # add some notes\n",
        "    channel = 0\n",
        "    used_time=[]\n",
        "    start_pitch=48\n",
        "    for i,bars in enumerate(final_list[0]):\n",
        "      lowest_pitch=999\n",
        "      track = 0\n",
        "      for notes in bars:\n",
        "        pitch = notes[0]+12           # My implementation was 48 as C4, but this library think C4 as 60\n",
        "        if notes[1]%2==0:\n",
        "          time = notes[1]/(Minimum_time/4)+i*4             # start on beat 0   0~15 / 4\n",
        "          duration = notes[2]/(Minimum_time/4)\n",
        "        else:\n",
        "          time = (notes[1]-1)/(Minimum_time/4)+i*4\n",
        "          duration = (notes[2]+1)/(Minimum_time/4)         # 1 beat long\n",
        "        volume= int(notes[3]*100)\n",
        "        if (time not in used_time and duration!=0): #Delete not in used_time for polyphonic rhythm.\n",
        "          if volume<30:\n",
        "            volume=30\n",
        "          mf.addNote(track, channel, pitch, time, duration, volume)\n",
        "          used_time.append(time)\n",
        "          if pitch<lowest_pitch:\n",
        "            lowest_pitch=pitch\n",
        "      if (with_chords is True):\n",
        "        track = 1\n",
        "        if (lowest_pitch!=999):\n",
        "          init_pitch=lowest_pitch\n",
        "        else:\n",
        "          init_pitch=start_pitch\n",
        "        chord_idx=np.where(final_list[1][i]==1)\n",
        "        pitch=0\n",
        "        iter=0\n",
        "        pitch_in_chord=[]\n",
        "        while (pitch<init_pitch):\n",
        "          for idx in chord_idx[0]:\n",
        "            pitch=idx+12*iter\n",
        "            if (pitch>=init_pitch):\n",
        "              break\n",
        "            pitch_in_chord.append(pitch)\n",
        "          iter+=1\n",
        "\n",
        "        pitch=pitch_in_chord[len(pitch_in_chord)-1]\n",
        "        time = i*4\n",
        "        duration=4.0\n",
        "        volume=50\n",
        "        mf.addNote(track,channel,pitch,time,duration,volume)\n",
        "        pitch=pitch_in_chord[len(pitch_in_chord)-2]\n",
        "        time = i*4\n",
        "        duration=4.0\n",
        "        volume=50\n",
        "        mf.addNote(track,channel,pitch,time,duration,volume)\n",
        "        pitch=pitch_in_chord[len(pitch_in_chord)-3]\n",
        "        time = i*4\n",
        "        duration=4.0\n",
        "        volume=50\n",
        "        mf.addNote(track,channel,pitch,time,duration,volume)\n",
        "        start_pitch=init_pitch\n",
        "    with open(\"/content/drive/My Drive/MARG/PPDDlist/MIDI_result/\"+mlb.classes_[start_skill]+chord+\".mid\", 'wb') as outf:\n",
        "      mf.writeFile(outf)\n",
        "      print(mlb.classes_[start_skill]+chord+\"  generate done!\")\n",
        "      #print('info is \\n',final_list)"
      ],
      "execution_count": null,
      "outputs": [
        {
          "output_type": "stream",
          "text": [
            "One_rhythmC  generate done!\n",
            "One_rhythmC#  generate done!\n",
            "One_rhythmD  generate done!\n",
            "One_rhythmD#  generate done!\n",
            "One_rhythmE  generate done!\n",
            "One_rhythmF  generate done!\n",
            "One_rhythmF#  generate done!\n",
            "One_rhythmG  generate done!\n",
            "One_rhythmG#  generate done!\n",
            "One_rhythmA  generate done!\n",
            "One_rhythmA#  generate done!\n",
            "One_rhythmB  generate done!\n",
            "continuing_rhythmC  generate done!\n",
            "continuing_rhythmC#  generate done!\n",
            "continuing_rhythmD  generate done!\n",
            "continuing_rhythmD#  generate done!\n",
            "continuing_rhythmE  generate done!\n",
            "continuing_rhythmF  generate done!\n",
            "continuing_rhythmF#  generate done!\n",
            "continuing_rhythmG  generate done!\n",
            "continuing_rhythmG#  generate done!\n",
            "continuing_rhythmA  generate done!\n",
            "continuing_rhythmA#  generate done!\n",
            "continuing_rhythmB  generate done!\n",
            "down_leapingC  generate done!\n",
            "down_leapingC#  generate done!\n",
            "down_leapingD  generate done!\n",
            "down_leapingD#  generate done!\n",
            "down_leapingE  generate done!\n",
            "down_leapingF  generate done!\n",
            "down_leapingF#  generate done!\n",
            "down_leapingG  generate done!\n",
            "down_leapingG#  generate done!\n",
            "down_leapingA  generate done!\n",
            "down_leapingA#  generate done!\n",
            "down_leapingB  generate done!\n",
            "down_stepingC  generate done!\n",
            "down_stepingC#  generate done!\n",
            "down_stepingD  generate done!\n",
            "down_stepingD#  generate done!\n",
            "down_stepingE  generate done!\n",
            "down_stepingF  generate done!\n",
            "down_stepingF#  generate done!\n",
            "down_stepingG  generate done!\n",
            "down_stepingG#  generate done!\n",
            "down_stepingA  generate done!\n",
            "down_stepingA#  generate done!\n",
            "down_stepingB  generate done!\n",
            "fast_rhythmC  generate done!\n",
            "fast_rhythmC#  generate done!\n",
            "fast_rhythmD  generate done!\n",
            "fast_rhythmD#  generate done!\n",
            "fast_rhythmE  generate done!\n",
            "fast_rhythmF  generate done!\n",
            "fast_rhythmF#  generate done!\n",
            "fast_rhythmG  generate done!\n",
            "fast_rhythmG#  generate done!\n",
            "fast_rhythmA  generate done!\n",
            "fast_rhythmA#  generate done!\n",
            "fast_rhythmB  generate done!\n",
            "leaping_twistingC  generate done!\n",
            "leaping_twistingC#  generate done!\n",
            "leaping_twistingD  generate done!\n",
            "leaping_twistingD#  generate done!\n",
            "leaping_twistingE  generate done!\n",
            "leaping_twistingF  generate done!\n",
            "leaping_twistingF#  generate done!\n",
            "leaping_twistingG  generate done!\n",
            "leaping_twistingG#  generate done!\n",
            "leaping_twistingA  generate done!\n",
            "leaping_twistingA#  generate done!\n",
            "leaping_twistingB  generate done!\n",
            "no skillsC  generate done!\n",
            "no skillsC#  generate done!\n",
            "no skillsD  generate done!\n",
            "no skillsD#  generate done!\n",
            "no skillsE  generate done!\n",
            "no skillsF  generate done!\n",
            "no skillsF#  generate done!\n",
            "no skillsG  generate done!\n",
            "no skillsG#  generate done!\n",
            "no skillsA  generate done!\n",
            "no skillsA#  generate done!\n",
            "no skillsB  generate done!\n",
            "repeatingC  generate done!\n",
            "repeatingC#  generate done!\n",
            "repeatingD  generate done!\n",
            "repeatingD#  generate done!\n",
            "repeatingE  generate done!\n",
            "repeatingF  generate done!\n",
            "repeatingF#  generate done!\n",
            "repeatingG  generate done!\n",
            "repeatingG#  generate done!\n",
            "repeatingA  generate done!\n",
            "repeatingA#  generate done!\n",
            "repeatingB  generate done!\n",
            "staccatoC  generate done!\n",
            "staccatoC#  generate done!\n",
            "staccatoD  generate done!\n",
            "staccatoD#  generate done!\n",
            "staccatoE  generate done!\n",
            "staccatoF  generate done!\n",
            "staccatoF#  generate done!\n",
            "staccatoG  generate done!\n",
            "staccatoG#  generate done!\n",
            "staccatoA  generate done!\n",
            "staccatoA#  generate done!\n",
            "staccatoB  generate done!\n",
            "steping_twistingC  generate done!\n",
            "steping_twistingC#  generate done!\n",
            "steping_twistingD  generate done!\n",
            "steping_twistingD#  generate done!\n",
            "steping_twistingE  generate done!\n",
            "steping_twistingF  generate done!\n",
            "steping_twistingF#  generate done!\n",
            "steping_twistingG  generate done!\n",
            "steping_twistingG#  generate done!\n",
            "steping_twistingA  generate done!\n",
            "steping_twistingA#  generate done!\n",
            "steping_twistingB  generate done!\n",
            "tripletC  generate done!\n",
            "tripletC#  generate done!\n",
            "tripletD  generate done!\n",
            "tripletD#  generate done!\n",
            "tripletE  generate done!\n",
            "tripletF  generate done!\n",
            "tripletF#  generate done!\n",
            "tripletG  generate done!\n",
            "tripletG#  generate done!\n",
            "tripletA  generate done!\n",
            "tripletA#  generate done!\n",
            "tripletB  generate done!\n",
            "up_leapingC  generate done!\n",
            "up_leapingC#  generate done!\n",
            "up_leapingD  generate done!\n",
            "up_leapingD#  generate done!\n",
            "up_leapingE  generate done!\n",
            "up_leapingF  generate done!\n",
            "up_leapingF#  generate done!\n",
            "up_leapingG  generate done!\n",
            "up_leapingG#  generate done!\n",
            "up_leapingA  generate done!\n",
            "up_leapingA#  generate done!\n",
            "up_leapingB  generate done!\n",
            "up_stepingC  generate done!\n",
            "up_stepingC#  generate done!\n",
            "up_stepingD  generate done!\n",
            "up_stepingD#  generate done!\n",
            "up_stepingE  generate done!\n",
            "up_stepingF  generate done!\n",
            "up_stepingF#  generate done!\n",
            "up_stepingG  generate done!\n",
            "up_stepingG#  generate done!\n",
            "up_stepingA  generate done!\n",
            "up_stepingA#  generate done!\n",
            "up_stepingB  generate done!\n"
          ],
          "name": "stdout"
        }
      ]
    },
    {
      "cell_type": "code",
      "metadata": {
        "id": "jcW8PxBu3raA"
      },
      "source": [
        ""
      ],
      "execution_count": null,
      "outputs": []
    }
  ]
}